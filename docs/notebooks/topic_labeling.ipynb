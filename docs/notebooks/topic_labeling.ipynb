{
 "cells": [
  {
   "cell_type": "markdown",
   "metadata": {},
   "source": [
    "**initial setup**"
   ]
  },
  {
   "cell_type": "code",
   "execution_count": null,
   "metadata": {},
   "outputs": [],
   "source": [
    "import gensim\n",
    "import os\n",
    "import itertools\n",
    "\n",
    "wiki_path = 'D:\\gensim_data\\simplewiki'\n",
    "wiki_prefix = 'gensim_'\n",
    "\n",
    "# load id->word mapping (the dictionary), one of the results of step 2 above\n",
    "id2word = gensim.corpora.Dictionary.load_from_text(os.path.join( wiki_path, wiki_prefix + 'wordids.txt.bz2'))\n",
    "\n",
    "# load corpus iterator\n",
    "mm = gensim.corpora.MmCorpus(os.path.join( wiki_path, wiki_prefix + 'tfidf.mm'))\n",
    "\n",
    "# calculate LDA\n",
    "lda = gensim.models.ldamodel.LdaModel(corpus=mm, id2word=id2word, num_topics=400)"
   ]
  },
  {
   "cell_type": "markdown",
   "metadata": {},
   "source": [
    "**get_topic_labels function**"
   ]
  },
  {
   "cell_type": "code",
   "execution_count": null,
   "metadata": {},
   "outputs": [],
   "source": [
    "# Algorithm parameters\n",
    "top_docs = 4       # how many documents to pick for phrases per topic\n",
    "threshold = 0.03   # minimal tf-idf of a term to pick it as a part of a phrase\n",
    "\n",
    "def get_topic_labels(corpus, lda_model, topicid, labeln=10):\n",
    "    \n",
    "    def _get_topic_in_doc( model, doc, topic):\n",
    "        return abs(dict(model[doc]).get(topic, 0.0))\n",
    "    \n",
    "    # pick top_doc documents with the highest value (probablity) of topic topicid\n",
    "    docs = sorted(mm, reverse=True, key=lambda doc: _get_topic_in_doc(lda, doc, topicid))[:top_docs]\n",
    "    \n",
    "    # construct two-term phrases to serve label candidates\n",
    "    phrases = []\n",
    "    for doc in docs:\n",
    "        # pick only significant tokens\n",
    "        tokens = [t[0] for t in doc if t[1]>=threshold]\n",
    "\n",
    "        # collect combinations of pairs of terms picked on the previous step\n",
    "        phrases.extend(itertools.combinations(tokens,2))\n",
    "        \n",
    "    # eliminate duplicate phrases coming from different documents\n",
    "    phrases = set(phrases)\n",
    "    # sort phrases according to value (probablity) of topic topicid\n",
    "    phrases = sorted(phrases, reverse=True, key=lambda phrase: _get_topic_in_doc(lda, [(phrase[0],1),(phrase[1],1)], topicid))\n",
    "\n",
    "    highest_coherence = _get_topic_in_doc(lda, [(phrases[0][0],1),(phrases[0][1],1)], topicid)\n",
    "\n",
    "    # return top candiadates with the same score as the highest one, limited by labeln\n",
    "    candidates = []\n",
    "    for i, phrase in enumerate(phrases):\n",
    "        if i >= labeln:\n",
    "            break\n",
    "        a, b = phrase\n",
    "        if get_topic_in_doc(lda, [(a,1),(b,1)], topic) == highest_coherence:\n",
    "            candidates.append(''.join([id2word[a], id2word[b]]))\n",
    "\n",
    "    return candidates"
   ]
  },
  {
   "cell_type": "markdown",
   "metadata": {},
   "source": [
    "**running the finction**"
   ]
  },
  {
   "cell_type": "code",
   "execution_count": null,
   "metadata": {},
   "outputs": [],
   "source": [
    "topicid = 15\n",
    "print(get_topic_labels(mm, lda, topicid))"
   ]
  }
 ],
 "metadata": {
  "kernelspec": {
   "display_name": "Python 3",
   "language": "python",
   "name": "python3"
  },
  "language_info": {
   "codemirror_mode": {
    "name": "ipython",
    "version": 3
   },
   "file_extension": ".py",
   "mimetype": "text/x-python",
   "name": "python",
   "nbconvert_exporter": "python",
   "pygments_lexer": "ipython3",
   "version": "3.6.3"
  }
 },
 "nbformat": 4,
 "nbformat_minor": 2
}
