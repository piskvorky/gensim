{
 "cells": [
  {
   "cell_type": "code",
   "execution_count": 1,
   "metadata": {
    "collapsed": false
   },
   "outputs": [
    {
     "data": {
      "application/javascript": [
       "// Run for table of contents.\n",
       "$.getScript('https://kmahelona.github.io/ipython_notebook_goodies/ipython_notebook_toc.js')\n",
       "\n",
       "// https://github.com/kmahelona/ipython_notebook_goodies"
      ],
      "text/plain": [
       "<IPython.core.display.Javascript object>"
      ]
     },
     "metadata": {},
     "output_type": "display_data"
    }
   ],
   "source": [
    "%%javascript\n",
    "// Run for table of contents.\n",
    "$.getScript('https://kmahelona.github.io/ipython_notebook_goodies/ipython_notebook_toc.js')\n",
    "\n",
    "// https://github.com/kmahelona/ipython_notebook_goodies"
   ]
  },
  {
   "cell_type": "markdown",
   "metadata": {},
   "source": [
    "# Tests with NIPS data\n",
    "\n",
    "<h2 id=\"tocheading\">Table of Contents</h2>\n",
    "<div id=\"toc\"></div>\n"
   ]
  },
  {
   "cell_type": "code",
   "execution_count": 1,
   "metadata": {
    "collapsed": false
   },
   "outputs": [],
   "source": [
    "import numpy as np\n",
    "import matplotlib\n",
    "import matplotlib.pyplot as plt\n",
    "from nltk.tokenize import RegexpTokenizer\n",
    "from nltk.stem.wordnet import WordNetLemmatizer\n",
    "import gensim\n",
    "from gensim.models import Phrases\n",
    "from gensim.corpora import Dictionary\n",
    "from gensim.models import LdaModel\n",
    "from imp import reload\n",
    "from pprint import pprint\n",
    "from random import sample\n",
    "import bokeh\n",
    "\n",
    "import logging\n",
    "\n",
    "from gensim.models import AuthorTopicModel\n",
    "from gensim.models import atmodel\n",
    "\n",
    "from time import time\n",
    "\n",
    "%matplotlib inline"
   ]
  },
  {
   "cell_type": "code",
   "execution_count": 2,
   "metadata": {
    "collapsed": false
   },
   "outputs": [],
   "source": [
    "# Configure logging.\n",
    "\n",
    "log_dir = '../../../log_files/log.log'  # On my own machine.\n",
    "#log_dir = '../../../../log_files/log.log'  # On Hetzner\n",
    "\n",
    "logger = logging.getLogger()\n",
    "fhandler = logging.FileHandler(filename=log_dir, mode='a')\n",
    "formatter = logging.Formatter('%(asctime)s - %(name)s - %(levelname)s - %(message)s')\n",
    "fhandler.setFormatter(formatter)\n",
    "logger.addHandler(fhandler)\n",
    "logger.setLevel(logging.DEBUG)"
   ]
  },
  {
   "cell_type": "markdown",
   "metadata": {},
   "source": [
    "## Load and prepare data structure"
   ]
  },
  {
   "cell_type": "code",
   "execution_count": 3,
   "metadata": {
    "collapsed": false
   },
   "outputs": [],
   "source": [
    "import os\n",
    "import re\n",
    "\n",
    "# Folder containing all NIPS papers.\n",
    "data_dir = '../../../../data/nipstxt/'  # On my own machine.\n",
    "#data_dir = '../../../nipstxt/'  # On Hetzner.\n",
    "\n",
    "# Folders containin individual NIPS papers.\n",
    "#yrs = ['00', '01', '02', '03', '04', '05', '06', '07', '08', '09', '10', '11', '12']\n",
    "yrs = ['00']\n",
    "dirs = ['nips' + yr for yr in yrs]\n",
    "\n",
    "# Get all document texts and their corresponding IDs.\n",
    "docs = []\n",
    "doc_ids = []\n",
    "for yr_dir in dirs:\n",
    "    files = os.listdir(data_dir + yr_dir)  # List of filenames.\n",
    "    for filen in files:\n",
    "        # Get document ID.\n",
    "        (idx1, idx2) = re.search('[0-9]+', filen).span()  # Matches the indexes of the start end end of the ID.\n",
    "        doc_ids.append(yr_dir[4:] + '_' + str(int(filen[idx1:idx2])))\n",
    "        \n",
    "        # Read document text.\n",
    "        # Note: ignoring characters that cause encoding errors.\n",
    "        with open(data_dir + yr_dir + '/' + filen, errors='ignore', encoding='utf-8') as fid:\n",
    "            txt = fid.read()\n",
    "        docs.append(txt)"
   ]
  },
  {
   "cell_type": "code",
   "execution_count": 4,
   "metadata": {
    "collapsed": false
   },
   "outputs": [],
   "source": [
    "filenames = [data_dir + 'idx/a' + yr + '.txt' for yr in yrs]  # Using the years defined in previous cell.\n",
    "\n",
    "# Get all author names and their corresponding document IDs.\n",
    "author2id = dict()\n",
    "author2doc = dict()\n",
    "i = 0\n",
    "for yr in yrs:\n",
    "    filename = data_dir + 'idx/a' + yr + '.txt'\n",
    "    for line in open(filename, errors='ignore', encoding='utf-8'):\n",
    "        contents = re.split(',', line)\n",
    "        author_name = (contents[1] + contents[0]).strip()\n",
    "        ids = [c.strip() for c in contents[2:]]\n",
    "        if not author2id.get(author_name):\n",
    "            author2id[author_name] = i\n",
    "            author2doc[i] = []\n",
    "            i += 1\n",
    "        \n",
    "        author_id = author2id[author_name]\n",
    "        author2doc[author_id].extend([yr + '_' + id for id in ids])\n",
    "        "
   ]
  },
  {
   "cell_type": "code",
   "execution_count": 5,
   "metadata": {
    "collapsed": false
   },
   "outputs": [],
   "source": [
    "# Make a mapping from author ID to author name.\n",
    "id2author = dict(zip(author2id.values(), author2id.keys()))"
   ]
  },
  {
   "cell_type": "code",
   "execution_count": 6,
   "metadata": {
    "collapsed": false
   },
   "outputs": [],
   "source": [
    "# Use an integer ID in author2doc, instead of the IDs provided in the NIPS dataset.\n",
    "\n",
    "# Mapping from ID of document in NIPS datast, to an integer ID.\n",
    "doc_id_dict = dict(zip(doc_ids, range(len(doc_ids))))\n",
    "\n",
    "for a, a_doc_ids in author2doc.items():\n",
    "    for i, doc_id in enumerate(a_doc_ids):\n",
    "        author2doc[a][i] = doc_id_dict[doc_id]"
   ]
  },
  {
   "cell_type": "code",
   "execution_count": 7,
   "metadata": {
    "collapsed": false
   },
   "outputs": [],
   "source": [
    "# Make a mapping from document IDs to author IDs.\n",
    "# Same as in the atvb code.\n",
    "doc2author = {}\n",
    "for d, _ in enumerate(docs):\n",
    "    author_ids = []\n",
    "    for a, a_doc_ids in author2doc.items():\n",
    "        if d in a_doc_ids:\n",
    "            author_ids.append(a)\n",
    "    doc2author[d] = author_ids"
   ]
  },
  {
   "cell_type": "markdown",
   "metadata": {},
   "source": [
    "## Pre-process and vectorize data"
   ]
  },
  {
   "cell_type": "code",
   "execution_count": 8,
   "metadata": {
    "collapsed": false
   },
   "outputs": [],
   "source": [
    "# Tokenize the documents.\n",
    "\n",
    "# Split the documents into tokens.\n",
    "tokenizer = RegexpTokenizer(r'\\w+')\n",
    "for idx in range(len(docs)):\n",
    "    docs[idx] = docs[idx].lower()  # Convert to lowercase.\n",
    "    docs[idx] = tokenizer.tokenize(docs[idx])  # Split into words.\n",
    "\n",
    "# Remove numbers, but not words that contain numbers.\n",
    "docs = [[token for token in doc if not token.isnumeric()] for doc in docs]\n",
    "\n",
    "# Remove words that are only one character.\n",
    "docs = [[token for token in doc if len(token) > 1] for doc in docs]"
   ]
  },
  {
   "cell_type": "code",
   "execution_count": 91,
   "metadata": {
    "collapsed": false
   },
   "outputs": [],
   "source": [
    "# Lemmatize the documents.\n",
    "\n",
    "# Lemmatize all words in documents.\n",
    "lemmatizer = WordNetLemmatizer()\n",
    "docs = [[lemmatizer.lemmatize(token) for token in doc] for doc in docs]"
   ]
  },
  {
   "cell_type": "code",
   "execution_count": 92,
   "metadata": {
    "collapsed": false
   },
   "outputs": [],
   "source": [
    "# Compute bigrams.\n",
    "\n",
    "# Add bigrams and trigrams to docs (only ones that appear 20 times or more).\n",
    "bigram = Phrases(docs, min_count=20)\n",
    "for idx in range(len(docs)):\n",
    "    for token in bigram[docs[idx]]:\n",
    "        if '_' in token:\n",
    "            # Token is a bigram, add to document.\n",
    "            docs[idx].append(token)"
   ]
  },
  {
   "cell_type": "code",
   "execution_count": 93,
   "metadata": {
    "collapsed": true
   },
   "outputs": [],
   "source": [
    "# Create a dictionary representation of the documents.\n",
    "dictionary = Dictionary(docs)"
   ]
  },
  {
   "cell_type": "code",
   "execution_count": 94,
   "metadata": {
    "collapsed": false
   },
   "outputs": [],
   "source": [
    "# Remove rare and common tokens.\n",
    "\n",
    "# Filter out words that occur too frequently or too rarely.\n",
    "max_freq = 0.5\n",
    "min_wordcount = 20\n",
    "dictionary.filter_extremes(no_below=min_wordcount, no_above=max_freq)\n",
    "\n",
    "dict0 = dictionary[0]  # This sort of \"initializes\" dictionary.id2token."
   ]
  },
  {
   "cell_type": "code",
   "execution_count": 95,
   "metadata": {
    "collapsed": false
   },
   "outputs": [
    {
     "data": {
      "image/png": "[encoded data removed]",
      "text/plain": [
       "<matplotlib.figure.Figure at 0x7efcf569e908>"
      ]
     },
     "metadata": {},
     "output_type": "display_data"
    }
   ],
   "source": [
    "# Frequency distribution of words.\n",
    "\n",
    "one_doc = []\n",
    "for doc in docs:\n",
    "    one_doc.extend(doc)\n",
    "\n",
    "bow = dictionary.doc2bow(one_doc)\n",
    "word_freq = [cnt for _, cnt in bow]\n",
    "\n",
    "plt.plot(sorted(word_freq))\n",
    "plt.xlabel('Words')\n",
    "plt.ylabel('#Occurences')\n",
    "plt.title('Frequency distribution of words.\\nPower-law behaviour.')\n",
    "plt.show()"
   ]
  },
  {
   "cell_type": "code",
   "execution_count": 96,
   "metadata": {
    "collapsed": true
   },
   "outputs": [],
   "source": [
    "# Vectorize data.\n",
    "\n",
    "# Bag-of-words representation of the documents.\n",
    "corpus = [dictionary.doc2bow(doc) for doc in docs]"
   ]
  },
  {
   "cell_type": "code",
   "execution_count": 97,
   "metadata": {
    "collapsed": false
   },
   "outputs": [
    {
     "name": "stdout",
     "output_type": "stream",
     "text": [
      "Number of authors: 166\n",
      "Number of unique tokens: 681\n",
      "Number of documents: 90\n"
     ]
    }
   ],
   "source": [
    "print('Number of authors: %d' % len(author2doc))\n",
    "print('Number of unique tokens: %d' % len(dictionary))\n",
    "print('Number of documents: %d' % len(corpus))"
   ]
  },
  {
   "cell_type": "markdown",
   "metadata": {},
   "source": [
    "### Disjoint set stuff"
   ]
  },
  {
   "cell_type": "code",
   "execution_count": 20,
   "metadata": {
    "collapsed": false
   },
   "outputs": [],
   "source": [
    "def find_disjoint_sets(d):\n",
    "    while True:\n",
    "        for tuple_, set1 in d.items():\n",
    "            try:\n",
    "                match = next(k for k, set2 in d.items() if k != tuple_ and set1 & set2)\n",
    "            except StopIteration:\n",
    "                # no match for this key - keep looking\n",
    "                continue\n",
    "            else:\n",
    "                #print('merging', tuple(set1), match)\n",
    "                d[tuple_] = set1 | d.pop(match)\n",
    "                break\n",
    "        else:\n",
    "            # no match for any key - we are done!\n",
    "            break\n",
    "\n",
    "    output = sorted(tuple(s) for s in d.values())\n",
    "    \n",
    "    return output"
   ]
  },
  {
   "cell_type": "code",
   "execution_count": 21,
   "metadata": {
    "collapsed": false,
    "scrolled": false
   },
   "outputs": [
    {
     "name": "stdout",
     "output_type": "stream",
     "text": [
      "[(0,), (1,), (2,), (3,), (4,), (6,), (7,), (8,), (9,), (10,), (11,), (12,), (13,), (14,), (15,), (16, 63, 39), (18,), (19, 59), (20,), (21,), (22,), (23,), (24, 53), (25, 84), (26,), (27,), (28,), (29,), (30,), (32,), (33,), (34,), (35,), (36,), (37,), (38,), (40,), (41,), (42,), (43,), (44,), (45,), (46,), (47,), (48, 17, 58, 5), (49,), (50,), (51,), (52,), (54,), (55,), (56,), (57,), (60,), (61,), (62,), (64,), (65,), (66,), (67,), (68,), (69,), (70,), (71,), (72,), (73, 31), (74,), (75,), (76,), (77,), (78,), (79,), (80,), (81,), (82,), (83,), (85,), (86,), (87,), (88,), (89,)]\n",
      "81\n",
      "0.0870358943939209\n"
     ]
    }
   ],
   "source": [
    "start = time()\n",
    "\n",
    "thing = {a: set(_list) for a, _list in author2doc.items()}\n",
    "disjoint_authors = find_disjoint_sets(thing)\n",
    "print(disjoint_authors)\n",
    "print(len(disjoint_authors))\n",
    "\n",
    "print(time() - start)"
   ]
  },
  {
   "cell_type": "markdown",
   "metadata": {},
   "source": [
    "## Online AT VB 2"
   ]
  },
  {
   "cell_type": "code",
   "execution_count": 101,
   "metadata": {
    "collapsed": false
   },
   "outputs": [],
   "source": [
    "reload(onlineatvb2)\n",
    "OnlineAtVb2 = onlineatvb2.OnlineAtVb2"
   ]
  },
  {
   "cell_type": "code",
   "execution_count": 102,
   "metadata": {
    "collapsed": false
   },
   "outputs": [
    {
     "name": "stdout",
     "output_type": "stream",
     "text": [
      "CPU times: user 10.9 s, sys: 12 ms, total: 10.9 s\n",
      "Wall time: 10.9 s\n"
     ]
    }
   ],
   "source": [
    "%time model_online2 = OnlineAtVb2(corpus=corpus, num_topics=10, id2word=dictionary.id2token, id2author=id2author, \\\n",
    "                   author2doc=author2doc, doc2author=doc2author, threshold=1e-10, \\\n",
    "                   iterations=1, passes=10, alpha=None, eta=None, decay=0.5, offset=1.0, \\\n",
    "                   eval_every=1, random_state=1, var_lambda=None)"
   ]
  },
  {
   "cell_type": "code",
   "execution_count": 100,
   "metadata": {
    "collapsed": false
   },
   "outputs": [
    {
     "name": "stdout",
     "output_type": "stream",
     "text": [
      "Speed improvement from new algorithm: 4.709677!\n"
     ]
    }
   ],
   "source": [
    "print(\"Speed improvement from new algorithm: %f!\" %((2 * 60 + 26) / 31))"
   ]
  },
  {
   "cell_type": "code",
   "execution_count": 218,
   "metadata": {
    "collapsed": false
   },
   "outputs": [
    {
     "data": {
      "text/plain": [
       "[(0,\n",
       "  '0.007*rule + 0.005*class + 0.005*classifier + 0.004*probability + 0.004*cue + 0.004*distribution + 0.004*sample + 0.003*sequence + 0.003*tree + 0.003*evidence'),\n",
       " (1,\n",
       "  '0.056*motion + 0.052*velocity + 0.051*muscle + 0.044*robot + 0.040*reinforcement + 0.035*controller + 0.029*obstacle + 0.028*command + 0.028*reinforcement_learning + 0.027*movement'),\n",
       " (2,\n",
       "  '0.049*cell + 0.027*spike + 0.024*stimulus + 0.022*eye + 0.020*firing + 0.019*response + 0.017*burst + 0.016*inhibition + 0.016*fiber + 0.016*wave'),\n",
       " (3,\n",
       "  '0.029*attractor + 0.026*vc + 0.024*theorem + 0.019*bound + 0.019*xt + 0.017*fixed_point + 0.016*eigenvalue + 0.016*threshold + 0.015*let + 0.014*capacity'),\n",
       " (4,\n",
       "  '0.039*hmm + 0.032*tdnn + 0.030*speech + 0.030*mlp + 0.028*phonetic + 0.026*speaker + 0.024*segmentation + 0.021*recognition + 0.021*hybrid + 0.021*phoneme'),\n",
       " (5,\n",
       "  '0.055*chip + 0.055*word + 0.043*circuit + 0.033*analog + 0.031*vlsi + 0.030*pulse + 0.028*voltage + 0.027*board + 0.027*perturbation + 0.024*processor'),\n",
       " (6,\n",
       "  '0.027*rbf + 0.023*spline + 0.015*schedule + 0.015*basis_function + 0.012*weight_decay + 0.012*approximation + 0.010*regression + 0.010*validation + 0.009*stochastic + 0.009*prediction'),\n",
       " (7,\n",
       "  '0.071*depth + 0.068*node + 0.056*contour + 0.050*projection + 0.042*polynomial + 0.039*proof + 0.032*gate + 0.028*hidden_node + 0.027*boolean + 0.027*boolean_function'),\n",
       " (8,\n",
       "  '0.005*image + 0.005*object + 0.004*neuron + 0.004*eq + 0.004*character + 0.003*filter + 0.003*field + 0.003*dynamic + 0.003*receptive + 0.003*receptive_field'),\n",
       " (9,\n",
       "  '0.031*grammar + 0.027*module + 0.023*expert + 0.021*string + 0.020*symbol + 0.019*recurrent + 0.017*language + 0.014*automaton + 0.014*giles + 0.014*mozer')]"
      ]
     },
     "execution_count": 218,
     "metadata": {},
     "output_type": "execute_result"
    }
   ],
   "source": [
    "model_online2.show_topics(num_topics=10)"
   ]
  },
  {
   "cell_type": "code",
   "execution_count": 214,
   "metadata": {
    "collapsed": false
   },
   "outputs": [
    {
     "name": "stdout",
     "output_type": "stream",
     "text": [
      "\n",
      "Sheila \t     Kannappan\n",
      "Docs: [100]\n",
      "[(0, 0.29470045213299129),\n",
      " (1, 0.018773780023831975),\n",
      " (2, 0.071451542822641448),\n",
      " (3, 0.026741158302140633),\n",
      " (4, 0.018099032024313566),\n",
      " (5, 0.015363132745463916),\n",
      " (6, 0.089347751415205109),\n",
      " (7, 0.020278388465418653),\n",
      " (8, 0.31198092387189108),\n",
      " (9, 0.1332638381961023)]\n"
     ]
    }
   ],
   "source": [
    "name = id2author[114]\n",
    "print('\\n%s' % name)\n",
    "print('Docs:', author2doc[author2id[name]])\n",
    "pprint(model_online2.get_author_topics(author2id[name]))"
   ]
  },
  {
   "cell_type": "code",
   "execution_count": 200,
   "metadata": {
    "collapsed": false
   },
   "outputs": [
    {
     "name": "stdout",
     "output_type": "stream",
     "text": [
      "\n",
      "Yaser S.Abu-Mostafa\n",
      "Docs: [357]\n",
      "[(0, 0.16874400828774647),\n",
      " (1, 0.05776392793070604),\n",
      " (2, 0.018385851898290052),\n",
      " (3, 0.090073600218074618),\n",
      " (4, 0.12243813551115512),\n",
      " (5, 0.048550522852509548),\n",
      " (6, 0.1728010777698884),\n",
      " (7, 0.19524400649884482),\n",
      " (8, 0.056488897891914927),\n",
      " (9, 0.069509971140870139)]\n",
      "\n",
      "Geoffrey E. Hinton\n"
     ]
    },
    {
     "ename": "KeyError",
     "evalue": "'Geoffrey E. Hinton'",
     "output_type": "error",
     "traceback": [
      "\u001b[0;31m---------------------------------------------------------------------------\u001b[0m",
      "\u001b[0;31mKeyError\u001b[0m                                  Traceback (most recent call last)",
      "\u001b[0;32m<ipython-input-200-98b10f4d44e4>\u001b[0m in \u001b[0;36m<module>\u001b[0;34m()\u001b[0m\n\u001b[1;32m      6\u001b[0m \u001b[0mname\u001b[0m \u001b[0;34m=\u001b[0m \u001b[0;34m'Geoffrey E. Hinton'\u001b[0m\u001b[0;34m\u001b[0m\u001b[0m\n\u001b[1;32m      7\u001b[0m \u001b[0mprint\u001b[0m\u001b[0;34m(\u001b[0m\u001b[0;34m'\\n%s'\u001b[0m \u001b[0;34m%\u001b[0m \u001b[0mname\u001b[0m\u001b[0;34m)\u001b[0m\u001b[0;34m\u001b[0m\u001b[0m\n\u001b[0;32m----> 8\u001b[0;31m \u001b[0mprint\u001b[0m\u001b[0;34m(\u001b[0m\u001b[0;34m'Docs:'\u001b[0m\u001b[0;34m,\u001b[0m \u001b[0mauthor2doc\u001b[0m\u001b[0;34m[\u001b[0m\u001b[0mauthor2id\u001b[0m\u001b[0;34m[\u001b[0m\u001b[0mname\u001b[0m\u001b[0;34m]\u001b[0m\u001b[0;34m]\u001b[0m\u001b[0;34m)\u001b[0m\u001b[0;34m\u001b[0m\u001b[0m\n\u001b[0m\u001b[1;32m      9\u001b[0m \u001b[0mpprint\u001b[0m\u001b[0;34m(\u001b[0m\u001b[0mmodel_online2\u001b[0m\u001b[0;34m.\u001b[0m\u001b[0mget_author_topics\u001b[0m\u001b[0;34m(\u001b[0m\u001b[0mauthor2id\u001b[0m\u001b[0;34m[\u001b[0m\u001b[0mname\u001b[0m\u001b[0;34m]\u001b[0m\u001b[0;34m)\u001b[0m\u001b[0;34m)\u001b[0m\u001b[0;34m\u001b[0m\u001b[0m\n\u001b[1;32m     10\u001b[0m \u001b[0;34m\u001b[0m\u001b[0m\n",
      "\u001b[0;31mKeyError\u001b[0m: 'Geoffrey E. Hinton'"
     ]
    }
   ],
   "source": [
    "name = 'Yaser S.Abu-Mostafa'\n",
    "print('\\n%s' % name)\n",
    "print('Docs:', author2doc[author2id[name]])\n",
    "pprint(model_online2.get_author_topics(author2id[name]))\n",
    "\n",
    "name = 'Geoffrey E. Hinton'\n",
    "print('\\n%s' % name)\n",
    "print('Docs:', author2doc[author2id[name]])\n",
    "pprint(model_online2.get_author_topics(author2id[name]))\n",
    "\n",
    "name = 'Michael I. Jordan'\n",
    "print('\\n%s' % name)\n",
    "print('Docs:', author2doc[author2id[name]])\n",
    "pprint(model_online2.get_author_topics(author2id[name]))\n",
    "\n",
    "name = 'James M. Bower'\n",
    "print('\\n%s' % name)\n",
    "print('Docs:', author2doc[author2id[name]])\n",
    "pprint(model_online2.get_author_topics(author2id[name]))"
   ]
  },
  {
   "cell_type": "code",
   "execution_count": 162,
   "metadata": {
    "collapsed": false
   },
   "outputs": [
    {
     "name": "stdout",
     "output_type": "stream",
     "text": [
      "Speed improvement from new algorithm: 5.503876!\n"
     ]
    }
   ],
   "source": [
    "print(\"Speed improvement from new algorithm: %f!\" %(28.4 / 5.16))"
   ]
  },
  {
   "cell_type": "markdown",
   "metadata": {},
   "source": [
    "## Online AT VB"
   ]
  },
  {
   "cell_type": "code",
   "execution_count": 38,
   "metadata": {
    "collapsed": false
   },
   "outputs": [
    {
     "name": "stdout",
     "output_type": "stream",
     "text": [
      "CPU times: user 13.6 s, sys: 16 ms, total: 13.6 s\n",
      "Wall time: 13.6 s\n"
     ]
    }
   ],
   "source": [
    "%time lda = LdaModel(corpus=corpus, num_topics=10, id2word=dictionary.id2token, passes=10, \\\n",
    "               iterations=100, alpha='auto', eta='symmetric', random_state=1)\n",
    "var_lambda = lda.state.get_lambda()"
   ]
  },
  {
   "cell_type": "code",
   "execution_count": 118,
   "metadata": {
    "collapsed": true
   },
   "outputs": [],
   "source": [
    "reload(onlineatvb)\n",
    "OnlineAtVb = onlineatvb.OnlineAtVb"
   ]
  },
  {
   "cell_type": "code",
   "execution_count": 157,
   "metadata": {
    "collapsed": false
   },
   "outputs": [
    {
     "name": "stdout",
     "output_type": "stream",
     "text": [
      "CPU times: user 28.3 s, sys: 12 ms, total: 28.4 s\n",
      "Wall time: 28.4 s\n"
     ]
    }
   ],
   "source": [
    "%time model_online = OnlineAtVb(corpus=corpus, num_topics=10, id2word=dictionary.id2token, id2author=id2author, \\\n",
    "                   author2doc=author2doc, doc2author=doc2author, threshold=1e-10, \\\n",
    "                   iterations=1, passes=10, alpha=None, eta=None, decay=0.5, offset=1.0, \\\n",
    "                   eval_every=200, random_state=2, var_lambda=None)"
   ]
  },
  {
   "cell_type": "code",
   "execution_count": 40,
   "metadata": {
    "collapsed": false,
    "scrolled": false
   },
   "outputs": [
    {
     "data": {
      "text/plain": [
       "[(0,\n",
       "  '0.075*image + 0.037*field + 0.034*visual + 0.031*position + 0.029*move + 0.025*map + 0.025*location + 0.021*center + 0.021*search + 0.019*human'),\n",
       " (1,\n",
       "  '0.044*bit + 0.038*code + 0.030*hopfield + 0.029*matrix + 0.024*eq + 0.019*stored + 0.017*minimum + 0.016*stage + 0.014*optimization + 0.013*column'),\n",
       " (2,\n",
       "  '0.031*iv + 0.025*differential + 0.023*code + 0.023*scheme + 0.020*adaptive + 0.017*find + 0.016*criterion + 0.015*he + 0.014*bound + 0.014*half'),\n",
       " (3,\n",
       "  '0.035*activity + 0.033*array + 0.027*cell + 0.023*synaptic + 0.020*low + 0.018*rate + 0.017*synapsis + 0.016*region + 0.016*storage + 0.016*distribution'),\n",
       " (4,\n",
       "  '0.052*role + 0.049*loop + 0.046*processor + 0.037*sequence + 0.029*gain + 0.021*product + 0.018*activation + 0.018*multiple + 0.018*edge + 0.017*address'),\n",
       " (5,\n",
       "  '0.028*stimulus + 0.024*classification + 0.024*shape + 0.020*circuit + 0.018*fully + 0.018*design + 0.015*power + 0.015*pp + 0.014*sample + 0.014*experiment'),\n",
       " (6,\n",
       "  '0.042*capacity + 0.034*associative_memory + 0.019*feedback + 0.018*cell + 0.017*phase + 0.016*interaction + 0.015*delay + 0.014*recall + 0.014*sequence + 0.014*matrix'),\n",
       " (7,\n",
       "  '0.061*node + 0.049*hidden + 0.036*convergence + 0.033*energy + 0.030*gradient + 0.030*dynamic + 0.019*back_propagation + 0.016*back + 0.016*propagation + 0.016*learning_algorithm'),\n",
       " (8,\n",
       "  '0.060*training + 0.039*representation + 0.029*connectionist + 0.028*trained + 0.020*context + 0.017*learned + 0.017*target + 0.015*mcclelland + 0.015*hidden_unit + 0.015*rumelhart'),\n",
       " (9,\n",
       "  '0.074*firing + 0.056*stimulus + 0.056*cell + 0.037*connectivity + 0.033*path + 0.030*potential + 0.027*temporal + 0.027*control + 0.021*synaptic + 0.019*inhibition')]"
      ]
     },
     "execution_count": 40,
     "metadata": {},
     "output_type": "execute_result"
    }
   ],
   "source": [
    "model_online.show_topics()"
   ]
  },
  {
   "cell_type": "code",
   "execution_count": 273,
   "metadata": {
    "collapsed": false
   },
   "outputs": [
    {
     "name": "stdout",
     "output_type": "stream",
     "text": [
      "\n",
      "Yaser S.Abu-Mostafa\n",
      "Docs: [21]\n",
      "[(0, 0.16188318876615412), (1, 0.80823920909246583), (3, 0.021312448059559796)]\n",
      "\n",
      "Geoffrey E. Hinton\n",
      "Docs: [146, 276, 235, 270]\n",
      "[(0, 0.14004630013032807),\n",
      " (1, 0.23772038268835666),\n",
      " (2, 0.5640333145036398),\n",
      " (3, 0.058200002677675597)]\n",
      "\n",
      "Michael I. Jordan\n",
      "Docs: [205]\n",
      "[(0, 0.26951795605324808),\n",
      " (1, 0.1612862641672847),\n",
      " (2, 0.4872153771544665),\n",
      " (3, 0.081980402625000656)]\n",
      "\n",
      "James M. Bower\n",
      "Docs: [150, 128, 162, 101, 188, 251, 244]\n",
      "[(0, 0.67413384788621999),\n",
      " (1, 0.071583305581578827),\n",
      " (2, 0.06345028631865203),\n",
      " (3, 0.19083256021354914)]\n"
     ]
    }
   ],
   "source": [
    "name = 'Yaser S.Abu-Mostafa'\n",
    "print('\\n%s' % name)\n",
    "print('Docs:', author2doc[author2id[name]])\n",
    "pprint(model_online.get_author_topics(author2id[name]))\n",
    "\n",
    "name = 'Geoffrey E. Hinton'\n",
    "print('\\n%s' % name)\n",
    "print('Docs:', author2doc[author2id[name]])\n",
    "pprint(model_online.get_author_topics(author2id[name]))\n",
    "\n",
    "name = 'Michael I. Jordan'\n",
    "print('\\n%s' % name)\n",
    "print('Docs:', author2doc[author2id[name]])\n",
    "pprint(model_online.get_author_topics(author2id[name]))\n",
    "\n",
    "name = 'James M. Bower'\n",
    "print('\\n%s' % name)\n",
    "print('Docs:', author2doc[author2id[name]])\n",
    "pprint(model_online.get_author_topics(author2id[name]))"
   ]
  },
  {
   "cell_type": "markdown",
   "metadata": {},
   "source": [
    "### Test on a small dataset"
   ]
  },
  {
   "cell_type": "code",
   "execution_count": 202,
   "metadata": {
    "collapsed": false
   },
   "outputs": [],
   "source": [
    "n_docs = 10\n",
    "\n",
    "from copy import deepcopy\n",
    "\n",
    "small_doc2author = deepcopy(dict(list(doc2author.items())[:n_docs]))\n",
    "small_doc2author = dict(small_doc2author)\n",
    "\n",
    "small_corpus = corpus[:n_docs]"
   ]
  },
  {
   "cell_type": "code",
   "execution_count": 203,
   "metadata": {
    "collapsed": false
   },
   "outputs": [],
   "source": [
    "authors_ids = set()\n",
    "for d, a_doc_ids in small_doc2author.items():\n",
    "    for a in a_doc_ids:\n",
    "        authors_ids.add(a)\n",
    "\n",
    "authors_ids = list(authors_ids)\n",
    "author_id_dict = dict(zip(authors_ids, range(len(authors_ids))))"
   ]
  },
  {
   "cell_type": "code",
   "execution_count": 204,
   "metadata": {
    "collapsed": false
   },
   "outputs": [],
   "source": [
    "for d, a_ids in small_doc2author.items():\n",
    "    for i, a in enumerate(a_ids):\n",
    "        small_doc2author[d][i] = author_id_dict[a]"
   ]
  },
  {
   "cell_type": "code",
   "execution_count": 205,
   "metadata": {
    "collapsed": false
   },
   "outputs": [],
   "source": [
    "# Make a mapping from author IDs to document IDs.\n",
    "small_author2doc = {}\n",
    "for a in range(len(author_id_dict)):\n",
    "    small_author2doc[a] = []\n",
    "    for d, a_ids in small_doc2author.items():\n",
    "        if a in a_ids:\n",
    "            small_author2doc[a].append(d)"
   ]
  },
  {
   "cell_type": "code",
   "execution_count": 206,
   "metadata": {
    "collapsed": false
   },
   "outputs": [],
   "source": [
    "\n",
    "author_id_dict_rev = dict(zip(range(len(authors_ids)), authors_ids))\n",
    "\n",
    "small_id2author = {}\n",
    "for a, a_id in author_id_dict_rev.items():\n",
    "    small_id2author[a] = id2author[a_id]"
   ]
  },
  {
   "cell_type": "code",
   "execution_count": 207,
   "metadata": {
    "collapsed": false
   },
   "outputs": [
    {
     "name": "stdout",
     "output_type": "stream",
     "text": [
      "phi is 10 x 681 x 10 (68100 elements)\n",
      "mu is 10 x 681 x 21 (143010 elements)\n"
     ]
    }
   ],
   "source": [
    "print('phi is %d x %d x %d (%d elements)' %(len(small_corpus), len(dictionary.id2token), 10,\n",
    "                                            len(small_corpus) * len(dictionary.id2token) * 10))\n",
    "print('mu is %d x %d x %d (%d elements)' %(len(small_corpus), len(dictionary.id2token), len(small_author2doc),\n",
    "                                            len(small_corpus) * len(dictionary.id2token) * len(small_author2doc)))"
   ]
  },
  {
   "cell_type": "code",
   "execution_count": 42,
   "metadata": {
    "collapsed": false
   },
   "outputs": [],
   "source": [
    "reload(onlineatvb)\n",
    "OnlineAtVb = onlineatvb.OnlineAtVb"
   ]
  },
  {
   "cell_type": "code",
   "execution_count": 212,
   "metadata": {
    "collapsed": false
   },
   "outputs": [
    {
     "name": "stdout",
     "output_type": "stream",
     "text": [
      "CPU times: user 34.6 s, sys: 4 ms, total: 34.6 s\n",
      "Wall time: 34.6 s\n"
     ]
    }
   ],
   "source": [
    "%time model = OnlineAtVb(corpus=small_corpus, num_topics=10, id2word=dictionary.id2token, id2author=small_id2author, \\\n",
    "                   author2doc=small_author2doc, doc2author=small_doc2author, threshold=1e-3, \\\n",
    "                   iterations=1, passes=200, alpha=None, eta=None, decay=0.5, offset=1.0, \\\n",
    "                   eval_every=10, random_state=1, var_lambda=None)"
   ]
  },
  {
   "cell_type": "code",
   "execution_count": 133,
   "metadata": {
    "collapsed": false
   },
   "outputs": [
    {
     "name": "stdout",
     "output_type": "stream",
     "text": [
      "\n",
      "Amir F.Atiya\n",
      "Docs: [5]\n",
      "[(0, 0.26236663424329809),\n",
      " (1, 0.055837758145413023),\n",
      " (2, 0.32385947243135804),\n",
      " (4, 0.031231118362347546),\n",
      " (5, 0.049702348068489471),\n",
      " (6, 0.063277167602715914),\n",
      " (7, 0.11515798924424819),\n",
      " (9, 0.098115022122885684)]\n",
      "\n",
      "FrankWilczek\n",
      "Docs: [1]\n",
      "[(0, 0.21018310687516228),\n",
      " (1, 0.39886126379385306),\n",
      " (2, 0.18071281961456737),\n",
      " (3, 0.052218386110533886),\n",
      " (5, 0.039636353968810233),\n",
      " (8, 0.032375816267307712),\n",
      " (9, 0.073725725628590477)]\n"
     ]
    }
   ],
   "source": [
    "name = 'Amir F.Atiya'\n",
    "print('\\n%s' % name)\n",
    "print('Docs:', model.author2doc[model.author2id[name]])\n",
    "pprint(model.get_author_topics(model.author2id[name]))\n",
    "\n",
    "name = 'FrankWilczek'\n",
    "print('\\n%s' % name)\n",
    "print('Docs:', model.author2doc[model.author2id[name]])\n",
    "pprint(model.get_author_topics(model.author2id[name]))\n"
   ]
  },
  {
   "cell_type": "markdown",
   "metadata": {},
   "source": [
    "## Mini-batch"
   ]
  },
  {
   "cell_type": "code",
   "execution_count": 30,
   "metadata": {
    "collapsed": true
   },
   "outputs": [],
   "source": [
    "reload(minibatchatvb)\n",
    "MinibatchAtVb = minibatchatvb.MinibatchAtVb"
   ]
  },
  {
   "cell_type": "code",
   "execution_count": 31,
   "metadata": {
    "collapsed": false
   },
   "outputs": [
    {
     "name": "stdout",
     "output_type": "stream",
     "text": [
      "CPU times: user 2min 1s, sys: 24 ms, total: 2min 1s\n",
      "Wall time: 2min 1s\n"
     ]
    }
   ],
   "source": [
    "%time model_online = MinibatchAtVb(corpus=corpus, num_topics=10, id2word=dictionary.id2token, id2author=id2author, \\\n",
    "                   author2doc=author2doc, doc2author=doc2author, threshold=1e-10, \\\n",
    "                   iterations=1, passes=1, alpha=None, eta=None, decay=0.5, offset=1.0, \\\n",
    "                   eval_every=1, random_state=1, var_lambda=None, chunksize=1)"
   ]
  },
  {
   "cell_type": "markdown",
   "metadata": {},
   "source": [
    "## Offline AT VB 2"
   ]
  },
  {
   "cell_type": "code",
   "execution_count": 22,
   "metadata": {
    "collapsed": true
   },
   "outputs": [],
   "source": [
    "reload(atvb2)\n",
    "AtVb2 = atvb2.AtVb2"
   ]
  },
  {
   "cell_type": "code",
   "execution_count": 29,
   "metadata": {
    "collapsed": false
   },
   "outputs": [
    {
     "name": "stdout",
     "output_type": "stream",
     "text": [
      "CPU times: user 21min 58s, sys: 376 ms, total: 21min 58s\n",
      "Wall time: 21min 58s\n"
     ]
    }
   ],
   "source": [
    "%time model_offline2 = AtVb2(corpus=corpus, num_topics=10, id2word=dictionary.id2token, id2author=id2author, \\\n",
    "                   author2doc=author2doc, doc2author=doc2author, threshold=1e-12, \\\n",
    "                   iterations=100, alpha='symmetric', eta='symmetric', var_lambda=None, \\\n",
    "                   eval_every=10, random_state=1)"
   ]
  },
  {
   "cell_type": "code",
   "execution_count": 27,
   "metadata": {
    "collapsed": false
   },
   "outputs": [
    {
     "data": {
      "text/plain": [
       "[(0,\n",
       "  '0.018*path + 0.014*center + 0.013*constraint + 0.011*map + 0.011*activity + 0.010*array + 0.010*rate + 0.010*cycle + 0.010*visual + 0.010*iv'),\n",
       " (1,\n",
       "  '0.019*matrix + 0.016*delay + 0.013*associative_memory + 0.013*capacity + 0.012*potential + 0.010*storage + 0.010*classification + 0.010*dynamic + 0.010*synaptic + 0.009*rate'),\n",
       " (2,\n",
       "  '0.044*cell + 0.020*stimulus + 0.014*probability + 0.010*region + 0.009*training + 0.008*noise + 0.007*field + 0.007*node + 0.007*actual + 0.007*area'),\n",
       " (3,\n",
       "  '0.026*code + 0.025*hopfield + 0.015*sequence + 0.015*image + 0.013*energy + 0.013*length + 0.013*machine + 0.012*field + 0.012*matrix + 0.011*minimum'),\n",
       " (4,\n",
       "  '0.032*processor + 0.023*activation + 0.012*dynamic + 0.012*operation + 0.012*hidden + 0.011*energy + 0.011*edge + 0.010*machine + 0.010*update + 0.009*training'),\n",
       " (5,\n",
       "  '0.024*hidden + 0.016*hidden_unit + 0.013*matrix + 0.012*sequence + 0.012*adaptive + 0.012*action + 0.010*multiple + 0.009*training + 0.009*back + 0.008*learn'),\n",
       " (6,\n",
       "  '0.026*training + 0.015*stage + 0.014*bit + 0.013*optimization + 0.012*convergence + 0.011*eq + 0.011*surface + 0.011*node + 0.011*neural_net + 0.010*code'),\n",
       " (7,\n",
       "  '0.049*cell + 0.015*node + 0.014*feature + 0.013*region + 0.011*map + 0.011*control + 0.011*back + 0.010*temporal + 0.008*cycle + 0.008*decision'),\n",
       " (8,\n",
       "  '0.023*cell + 0.014*probability + 0.012*current + 0.012*position + 0.012*image + 0.011*principle + 0.010*noise + 0.008*dimensional + 0.008*shape + 0.007*firing'),\n",
       " (9,\n",
       "  '0.042*representation + 0.033*activity + 0.029*role + 0.026*firing + 0.023*cell + 0.014*stimulus + 0.014*variable + 0.013*product + 0.012*potential + 0.010*synaptic')]"
      ]
     },
     "execution_count": 27,
     "metadata": {},
     "output_type": "execute_result"
    }
   ],
   "source": [
    "model_offline2.show_topics()"
   ]
  },
  {
   "cell_type": "markdown",
   "metadata": {},
   "source": [
    "## \"Offline\" AT VB"
   ]
  },
  {
   "cell_type": "code",
   "execution_count": 356,
   "metadata": {
    "collapsed": false
   },
   "outputs": [
    {
     "name": "stdout",
     "output_type": "stream",
     "text": [
      "phi is 286 x 2245 x 10 (6420700 elements)\n",
      "mu is 286 x 2245 x 578 (371116460 elements)\n"
     ]
    }
   ],
   "source": [
    "print('phi is %d x %d x %d (%d elements)' %(len(corpus), len(dictionary.id2token), 10,\n",
    "                                            len(corpus) * len(dictionary.id2token) * 10))\n",
    "print('mu is %d x %d x %d (%d elements)' %(len(corpus), len(dictionary.id2token), len(author2doc),\n",
    "                                            len(corpus) * len(dictionary.id2token) * len(author2doc)))"
   ]
  },
  {
   "cell_type": "code",
   "execution_count": 238,
   "metadata": {
    "collapsed": false
   },
   "outputs": [
    {
     "name": "stdout",
     "output_type": "stream",
     "text": [
      "CPU times: user 7.81 s, sys: 0 ns, total: 7.81 s\n",
      "Wall time: 7.81 s\n"
     ]
    }
   ],
   "source": [
    "%time lda = LdaModel(corpus=corpus, num_topics=10, id2word=dictionary.id2token, passes=10, \\\n",
    "               iterations=100, alpha='auto', eta='symmetric', random_state=1)\n",
    "var_lambda = lda.state.get_lambda()"
   ]
  },
  {
   "cell_type": "code",
   "execution_count": 185,
   "metadata": {
    "collapsed": false
   },
   "outputs": [],
   "source": [
    "reload(atvb)\n",
    "AtVb = atvb.AtVb"
   ]
  },
  {
   "cell_type": "code",
   "execution_count": 245,
   "metadata": {
    "collapsed": false
   },
   "outputs": [
    {
     "name": "stdout",
     "output_type": "stream",
     "text": [
      "CPU times: user 2min 34s, sys: 104 ms, total: 2min 34s\n",
      "Wall time: 2min 34s\n"
     ]
    }
   ],
   "source": [
    "%time model_offline = AtVb(corpus=corpus, num_topics=10, id2word=dictionary.id2token, id2author=id2author, \\\n",
    "                   author2doc=author2doc, doc2author=doc2author, threshold=1e-12, \\\n",
    "                   iterations=10, alpha='symmetric', eta='symmetric', var_lambda=None, \\\n",
    "                   eval_every=1, random_state=1)"
   ]
  },
  {
   "cell_type": "code",
   "execution_count": 29,
   "metadata": {
    "collapsed": false
   },
   "outputs": [
    {
     "data": {
      "text/plain": [
       "[(0,\n",
       "  '0.019*path + 0.015*center + 0.014*constraint + 0.011*rate + 0.011*map + 0.011*cycle + 0.010*array + 0.010*visual + 0.009*activity + 0.009*iv'),\n",
       " (1,\n",
       "  '0.018*matrix + 0.016*delay + 0.013*associative_memory + 0.013*potential + 0.012*capacity + 0.011*synaptic + 0.010*classification + 0.010*dynamic + 0.010*storage + 0.008*circuit'),\n",
       " (2,\n",
       "  '0.040*cell + 0.015*stimulus + 0.014*probability + 0.010*region + 0.010*training + 0.009*noise + 0.008*convergence + 0.007*field + 0.007*node + 0.007*positive'),\n",
       " (3,\n",
       "  '0.026*code + 0.024*hopfield + 0.015*sequence + 0.015*image + 0.013*length + 0.012*matrix + 0.012*energy + 0.012*field + 0.012*machine + 0.011*current'),\n",
       " (4,\n",
       "  '0.032*processor + 0.023*activation + 0.013*dynamic + 0.013*energy + 0.012*operation + 0.011*edge + 0.010*hidden + 0.010*machine + 0.010*update + 0.009*matrix'),\n",
       " (5,\n",
       "  '0.022*hidden + 0.016*hidden_unit + 0.014*matrix + 0.013*sequence + 0.012*adaptive + 0.012*action + 0.010*multiple + 0.009*training + 0.008*back + 0.008*stored'),\n",
       " (6,\n",
       "  '0.025*training + 0.015*stage + 0.014*bit + 0.013*optimization + 0.012*convergence + 0.011*eq + 0.011*surface + 0.010*neural_net + 0.010*code + 0.010*hidden'),\n",
       " (7,\n",
       "  '0.056*cell + 0.017*node + 0.015*region + 0.013*feature + 0.013*map + 0.012*back + 0.011*control + 0.010*temporal + 0.009*decision + 0.008*activity'),\n",
       " (8,\n",
       "  '0.023*cell + 0.013*probability + 0.013*image + 0.012*position + 0.012*current + 0.011*principle + 0.010*noise + 0.008*dimensional + 0.007*shape + 0.007*firing'),\n",
       " (9,\n",
       "  '0.042*representation + 0.034*activity + 0.029*role + 0.025*firing + 0.021*cell + 0.017*stimulus + 0.014*variable + 0.014*product + 0.012*potential + 0.010*synaptic')]"
      ]
     },
     "execution_count": 29,
     "metadata": {},
     "output_type": "execute_result"
    }
   ],
   "source": [
    "model_offline.show_topics()"
   ]
  },
  {
   "cell_type": "code",
   "execution_count": 142,
   "metadata": {
    "collapsed": false
   },
   "outputs": [
    {
     "data": {
      "text/plain": [
       "[(0,\n",
       "  '0.015*dynamic + 0.014*delay + 0.012*frequency + 0.011*phase + 0.010*noise + 0.008*temporal + 0.007*filter + 0.007*oscillation + 0.007*target + 0.007*controller'),\n",
       " (1,\n",
       "  '0.017*memory + 0.017*vector + 0.015*matrix + 0.013*hopfield + 0.011*probability + 0.008*capacity + 0.008*let + 0.008*fig + 0.007*code + 0.007*distribution'),\n",
       " (2,\n",
       "  '0.035*cell + 0.018*response + 0.012*region + 0.012*stimulus + 0.011*cortex + 0.009*fig + 0.009*sensory + 0.009*motor + 0.009*control + 0.009*velocity'),\n",
       " (3,\n",
       "  '0.041*image + 0.038*field + 0.023*visual + 0.016*map + 0.015*receptive + 0.014*receptive_field + 0.014*motion + 0.012*eye + 0.011*direction + 0.008*vision'),\n",
       " (4,\n",
       "  '0.030*hidden + 0.017*hidden_unit + 0.016*activation + 0.012*propagation + 0.010*processor + 0.009*back_propagation + 0.008*gradient + 0.007*hidden_layer + 0.007*bit + 0.006*internal'),\n",
       " (5,\n",
       "  '0.018*vector + 0.016*sequence + 0.016*object + 0.014*memory + 0.009*adaptive + 0.009*matrix + 0.008*recurrent + 0.008*action + 0.008*self + 0.008*view'),\n",
       " (6,\n",
       "  '0.025*classifier + 0.024*recognition + 0.023*speech + 0.014*classification + 0.013*trained + 0.011*class + 0.010*test + 0.010*noise + 0.010*hidden + 0.009*word'),\n",
       " (7,\n",
       "  '0.033*node + 0.008*position + 0.007*connectionist + 0.005*neural_net + 0.005*tree + 0.005*character + 0.004*move + 0.004*generalization + 0.004*search + 0.004*human'),\n",
       " (8,\n",
       "  '0.036*circuit + 0.024*analog + 0.024*chip + 0.020*voltage + 0.020*current + 0.014*synapse + 0.010*transistor + 0.010*vlsi + 0.009*device + 0.009*implementation'),\n",
       " (9,\n",
       "  '0.030*cell + 0.021*firing + 0.019*synaptic + 0.017*activity + 0.016*potential + 0.010*synapsis + 0.010*spike + 0.009*stimulus + 0.009*memory + 0.009*membrane')]"
      ]
     },
     "execution_count": 142,
     "metadata": {},
     "output_type": "execute_result"
    }
   ],
   "source": [
    "model.show_topics()"
   ]
  },
  {
   "cell_type": "code",
   "execution_count": 149,
   "metadata": {
    "collapsed": false
   },
   "outputs": [
    {
     "name": "stdout",
     "output_type": "stream",
     "text": [
      "\n",
      "Yaser S.Abu-Mostafa\n",
      "Docs: [21]\n"
     ]
    },
    {
     "ename": "NameError",
     "evalue": "name 'model' is not defined",
     "output_type": "error",
     "traceback": [
      "\u001b[0;31m---------------------------------------------------------------------------\u001b[0m",
      "\u001b[0;31mNameError\u001b[0m                                 Traceback (most recent call last)",
      "\u001b[0;32m<ipython-input-149-1d6ab88570c1>\u001b[0m in \u001b[0;36m<module>\u001b[0;34m()\u001b[0m\n\u001b[1;32m      2\u001b[0m \u001b[0mprint\u001b[0m\u001b[0;34m(\u001b[0m\u001b[0;34m'\\n%s'\u001b[0m \u001b[0;34m%\u001b[0m \u001b[0mname\u001b[0m\u001b[0;34m)\u001b[0m\u001b[0;34m\u001b[0m\u001b[0m\n\u001b[1;32m      3\u001b[0m \u001b[0mprint\u001b[0m\u001b[0;34m(\u001b[0m\u001b[0;34m'Docs:'\u001b[0m\u001b[0;34m,\u001b[0m \u001b[0mauthor2doc\u001b[0m\u001b[0;34m[\u001b[0m\u001b[0mauthor2id\u001b[0m\u001b[0;34m[\u001b[0m\u001b[0mname\u001b[0m\u001b[0;34m]\u001b[0m\u001b[0;34m]\u001b[0m\u001b[0;34m)\u001b[0m\u001b[0;34m\u001b[0m\u001b[0m\n\u001b[0;32m----> 4\u001b[0;31m \u001b[0mpprint\u001b[0m\u001b[0;34m(\u001b[0m\u001b[0mmodel\u001b[0m\u001b[0;34m.\u001b[0m\u001b[0mget_author_topics\u001b[0m\u001b[0;34m(\u001b[0m\u001b[0mauthor2id\u001b[0m\u001b[0;34m[\u001b[0m\u001b[0mname\u001b[0m\u001b[0;34m]\u001b[0m\u001b[0;34m)\u001b[0m\u001b[0;34m)\u001b[0m\u001b[0;34m\u001b[0m\u001b[0m\n\u001b[0m\u001b[1;32m      5\u001b[0m \u001b[0;34m\u001b[0m\u001b[0m\n\u001b[1;32m      6\u001b[0m \u001b[0mname\u001b[0m \u001b[0;34m=\u001b[0m \u001b[0;34m'Geoffrey E. Hinton'\u001b[0m\u001b[0;34m\u001b[0m\u001b[0m\n",
      "\u001b[0;31mNameError\u001b[0m: name 'model' is not defined"
     ]
    }
   ],
   "source": [
    "name = 'Yaser S.Abu-Mostafa'\n",
    "print('\\n%s' % name)\n",
    "print('Docs:', author2doc[author2id[name]])\n",
    "pprint(model.get_author_topics(author2id[name]))\n",
    "\n",
    "name = 'Geoffrey E. Hinton'\n",
    "print('\\n%s' % name)\n",
    "print('Docs:', author2doc[author2id[name]])\n",
    "pprint(model.get_author_topics(author2id[name]))\n",
    "\n",
    "name = 'Michael I. Jordan'\n",
    "print('\\n%s' % name)\n",
    "print('Docs:', author2doc[author2id[name]])\n",
    "pprint(model.get_author_topics(author2id[name]))\n",
    "\n",
    "name = 'James M. Bower'\n",
    "print('\\n%s' % name)\n",
    "print('Docs:', author2doc[author2id[name]])\n",
    "pprint(model.get_author_topics(author2id[name]))\n"
   ]
  },
  {
   "cell_type": "code",
   "execution_count": 31,
   "metadata": {
    "collapsed": false
   },
   "outputs": [
    {
     "data": {
      "text/plain": [
       "[(0,\n",
       "  '0.019*cell + 0.008*matrix + 0.008*representation + 0.008*training + 0.007*activity + 0.007*node + 0.006*dynamic + 0.006*field + 0.006*probability + 0.005*hopfield'),\n",
       " (1,\n",
       "  '0.016*cell + 0.007*matrix + 0.007*capacity + 0.006*feature + 0.006*activity + 0.006*node + 0.006*field + 0.006*dynamic + 0.006*training + 0.006*stimulus'),\n",
       " (2,\n",
       "  '0.012*cell + 0.010*training + 0.008*matrix + 0.007*stimulus + 0.007*hopfield + 0.006*image + 0.006*noise + 0.006*representation + 0.006*hidden + 0.006*convergence'),\n",
       " (3,\n",
       "  '0.011*cell + 0.008*hopfield + 0.007*activity + 0.007*rate + 0.006*matrix + 0.006*hidden + 0.006*field + 0.006*training + 0.005*node + 0.005*representation'),\n",
       " (4,\n",
       "  '0.012*cell + 0.008*activity + 0.007*matrix + 0.007*training + 0.006*field + 0.006*code + 0.006*representation + 0.006*firing + 0.006*current + 0.005*synaptic'),\n",
       " (5,\n",
       "  '0.014*cell + 0.008*hidden + 0.007*sequence + 0.007*training + 0.006*field + 0.006*noise + 0.006*node + 0.006*dynamic + 0.006*hopfield + 0.006*representation'),\n",
       " (6,\n",
       "  '0.025*cell + 0.011*matrix + 0.009*training + 0.006*activity + 0.006*probability + 0.006*hopfield + 0.006*synaptic + 0.005*node + 0.005*stimulus + 0.005*representation'),\n",
       " (7,\n",
       "  '0.016*cell + 0.008*training + 0.007*activity + 0.007*representation + 0.007*matrix + 0.007*hidden + 0.007*noise + 0.006*hopfield + 0.006*probability + 0.006*firing'),\n",
       " (8,\n",
       "  '0.012*cell + 0.008*image + 0.007*training + 0.006*feature + 0.006*hopfield + 0.006*representation + 0.006*probability + 0.006*firing + 0.006*activity + 0.005*synaptic'),\n",
       " (9,\n",
       "  '0.012*cell + 0.008*matrix + 0.008*activity + 0.007*representation + 0.007*training + 0.006*image + 0.006*capacity + 0.006*rate + 0.006*hopfield + 0.006*node')]"
      ]
     },
     "execution_count": 31,
     "metadata": {},
     "output_type": "execute_result"
    }
   ],
   "source": [
    "model.show_topics()"
   ]
  },
  {
   "cell_type": "code",
   "execution_count": 118,
   "metadata": {
    "collapsed": false
   },
   "outputs": [
    {
     "name": "stdout",
     "output_type": "stream",
     "text": [
      "\n",
      "Yaser S.Abu-Mostafa\n",
      "Docs: [21]\n",
      "[(0, 0.090225715808980797),\n",
      " (1, 0.014047723409152875),\n",
      " (3, 0.38971799227229242),\n",
      " (4, 0.30695125800680684),\n",
      " (5, 0.11680215128570454),\n",
      " (7, 0.012641840087616362),\n",
      " (8, 0.069095036605336377)]\n",
      "\n",
      "Geoffrey E. Hinton\n",
      "Docs: [276, 235, 270]\n",
      "[(0, 0.17326190127690461),\n",
      " (2, 0.062709625689712375),\n",
      " (3, 0.023215349136065065),\n",
      " (4, 0.096803072840719678),\n",
      " (5, 0.1267901905748583),\n",
      " (6, 0.47635551675437715),\n",
      " (7, 0.025581291656655011),\n",
      " (9, 0.013530262666658776)]\n",
      "\n",
      "Michael I. Jordan\n",
      "Docs: [205]\n",
      "[(0, 0.22189029162114421),\n",
      " (2, 0.033072831647105602),\n",
      " (4, 0.051509519512663651),\n",
      " (5, 0.63361728214218349),\n",
      " (7, 0.045992411979857574),\n",
      " (9, 0.012757930948596466)]\n",
      "\n",
      "James M. Bower\n",
      "Docs: [188, 251, 244]\n",
      "[(1, 0.29194178492747924),\n",
      " (2, 0.47740737076112999),\n",
      " (3, 0.023636461735819542),\n",
      " (4, 0.010413505064807139),\n",
      " (7, 0.018554608959817139),\n",
      " (9, 0.17063597622983562)]\n"
     ]
    }
   ],
   "source": [
    "name = 'Yaser S.Abu-Mostafa'\n",
    "print('\\n%s' % name)\n",
    "print('Docs:', author2doc[author2id[name]])\n",
    "pprint(model.get_author_topics(author2id[name]))\n",
    "\n",
    "name = 'Geoffrey E. Hinton'\n",
    "print('\\n%s' % name)\n",
    "print('Docs:', author2doc[author2id[name]])\n",
    "pprint(model.get_author_topics(author2id[name]))\n",
    "\n",
    "name = 'Michael I. Jordan'\n",
    "print('\\n%s' % name)\n",
    "print('Docs:', author2doc[author2id[name]])\n",
    "pprint(model.get_author_topics(author2id[name]))\n",
    "\n",
    "name = 'James M. Bower'\n",
    "print('\\n%s' % name)\n",
    "print('Docs:', author2doc[author2id[name]])\n",
    "pprint(model.get_author_topics(author2id[name]))"
   ]
  },
  {
   "cell_type": "markdown",
   "metadata": {},
   "source": [
    "### Test on small corpus"
   ]
  },
  {
   "cell_type": "code",
   "execution_count": 30,
   "metadata": {
    "collapsed": true
   },
   "outputs": [],
   "source": [
    "lda = LdaModel(corpus=small_corpus, num_topics=10, id2word=dictionary.id2token, passes=10)\n",
    "var_lambda = lda.state.get_lambda()"
   ]
  },
  {
   "cell_type": "code",
   "execution_count": 44,
   "metadata": {
    "collapsed": false
   },
   "outputs": [],
   "source": [
    "reload(atvb)\n",
    "AtVb = atvb.AtVb"
   ]
  },
  {
   "cell_type": "code",
   "execution_count": 210,
   "metadata": {
    "collapsed": false
   },
   "outputs": [
    {
     "name": "stdout",
     "output_type": "stream",
     "text": [
      "CPU times: user 1min 25s, sys: 0 ns, total: 1min 25s\n",
      "Wall time: 1min 25s\n"
     ]
    }
   ],
   "source": [
    "%time model = AtVb(corpus=small_corpus, num_topics=10, id2word=dictionary.id2token, id2author=small_id2author, \\\n",
    "                   author2doc=small_author2doc, doc2author=small_doc2author, threshold=1e-12, \\\n",
    "                   iterations=100, alpha='symmetric', eta='symmetric', \\\n",
    "                   eval_every=10, random_state=1, var_lambda=None)"
   ]
  },
  {
   "cell_type": "code",
   "execution_count": 34,
   "metadata": {
    "collapsed": false
   },
   "outputs": [
    {
     "data": {
      "text/plain": [
       "[(0,\n",
       "  '0.071*group + 0.039*matrix + 0.032*feedback + 0.027*whose + 0.018*obtain + 0.016*scheme + 0.015*constraint + 0.015*expression + 0.014*unique + 0.013*computational'),\n",
       " (1,\n",
       "  '0.041*map + 0.040*field + 0.034*location + 0.033*brain + 0.030*node + 0.021*requires + 0.020*propagation + 0.016*back_propagation + 0.016*distribution + 0.014*mechanism'),\n",
       " (2,\n",
       "  '0.084*processor + 0.075*edge + 0.052*activation + 0.034*update + 0.021*column + 0.020*run + 0.019*implementation + 0.018*control + 0.018*operation + 0.017*content'),\n",
       " (3,\n",
       "  '0.046*image + 0.038*gradient + 0.027*flow + 0.025*field + 0.024*analog + 0.023*circuit + 0.022*constraint + 0.018*square + 0.017*vision + 0.017*technique'),\n",
       " (4,\n",
       "  '0.023*dynamic + 0.021*phase + 0.018*cell + 0.018*variable + 0.017*with_respect + 0.017*respect + 0.016*path + 0.015*noise + 0.014*energy + 0.011*limit'),\n",
       " (5,\n",
       "  '0.080*processor + 0.061*activation + 0.040*edge + 0.040*update + 0.021*store + 0.020*operation + 0.018*required + 0.018*address + 0.017*stored + 0.016*machine'),\n",
       " (6,\n",
       "  '0.038*map + 0.037*brain + 0.033*stimulus + 0.024*functional + 0.021*noise + 0.020*associative_memory + 0.020*recall + 0.017*series + 0.015*scale + 0.015*associated'),\n",
       " (7,\n",
       "  '0.049*potential + 0.044*cell + 0.035*connectivity + 0.026*synaptic + 0.025*artificial + 0.023*architecture + 0.015*temporal + 0.014*brain + 0.014*computational + 0.013*action'),\n",
       " (8,\n",
       "  '0.075*image + 0.032*log + 0.024*dimensional + 0.018*mapping + 0.017*matrix + 0.016*center + 0.015*node + 0.014*recall + 0.013*back + 0.013*th'),\n",
       " (9,\n",
       "  '0.058*scheme + 0.048*capacity + 0.047*probability + 0.040*representation + 0.030*stored + 0.028*binary + 0.025*represented + 0.023*code + 0.022*relationship + 0.021*bound')]"
      ]
     },
     "execution_count": 34,
     "metadata": {},
     "output_type": "execute_result"
    }
   ],
   "source": [
    "model.show_topics()"
   ]
  },
  {
   "cell_type": "code",
   "execution_count": 35,
   "metadata": {
    "collapsed": false
   },
   "outputs": [
    {
     "data": {
      "text/plain": [
       "[(0, 0.55485121572041607),\n",
       " (4, 0.17897884328936686),\n",
       " (6, 0.14414251935372879),\n",
       " (8, 0.11957893769069983)]"
      ]
     },
     "execution_count": 35,
     "metadata": {},
     "output_type": "execute_result"
    }
   ],
   "source": [
    "model.get_author_topics(0)"
   ]
  },
  {
   "cell_type": "markdown",
   "metadata": {
    "collapsed": true
   },
   "source": [
    "## LDA"
   ]
  },
  {
   "cell_type": "code",
   "execution_count": 131,
   "metadata": {
    "collapsed": true
   },
   "outputs": [],
   "source": [
    "reload(gensim.models.ldamodel)\n",
    "LdaModel = gensim.models.ldamodel.LdaModel"
   ]
  },
  {
   "cell_type": "code",
   "execution_count": 151,
   "metadata": {
    "collapsed": false
   },
   "outputs": [
    {
     "name": "stdout",
     "output_type": "stream",
     "text": [
      "CPU times: user 2.48 s, sys: 524 ms, total: 3 s\n",
      "Wall time: 2.43 s\n"
     ]
    }
   ],
   "source": [
    "%time lda = LdaModel(corpus=corpus, num_topics=10, id2word=dictionary.id2token, passes=1, \\\n",
    "               iterations=1, alpha='symmetric', eta='symmetric', eval_every=0)"
   ]
  },
  {
   "cell_type": "code",
   "execution_count": 154,
   "metadata": {
    "collapsed": false
   },
   "outputs": [
    {
     "name": "stdout",
     "output_type": "stream",
     "text": [
      "CPU times: user 288 ms, sys: 0 ns, total: 288 ms\n",
      "Wall time: 290 ms\n",
      "Bound: -3.588e+05\n"
     ]
    }
   ],
   "source": [
    "%time lda_bound = lda.bound(sample(corpus, 10))\n",
    "print('Bound: %.3e' % lda_bound)"
   ]
  },
  {
   "cell_type": "code",
   "execution_count": 155,
   "metadata": {
    "collapsed": false
   },
   "outputs": [
    {
     "data": {
      "text/plain": [
       "[(0,\n",
       "  '0.004*neuron + 0.003*image + 0.003*layer + 0.003*field + 0.003*class + 0.003*cell + 0.003*signal + 0.003*noise + 0.003*hidden + 0.002*node'),\n",
       " (1,\n",
       "  '0.004*neuron + 0.003*image + 0.003*cell + 0.003*class + 0.003*signal + 0.003*matrix + 0.003*layer + 0.003*noise + 0.002*hidden + 0.002*recognition'),\n",
       " (2,\n",
       "  '0.004*cell + 0.003*neuron + 0.003*matrix + 0.003*signal + 0.003*image + 0.003*hidden + 0.002*rule + 0.002*response + 0.002*field + 0.002*dynamic'),\n",
       " (3,\n",
       "  '0.005*neuron + 0.003*layer + 0.003*image + 0.003*cell + 0.002*class + 0.002*net + 0.002*hidden + 0.002*control + 0.002*sequence + 0.002*response'),\n",
       " (4,\n",
       "  '0.004*layer + 0.003*image + 0.003*neuron + 0.003*cell + 0.003*hidden + 0.003*signal + 0.003*component + 0.002*recognition + 0.002*net + 0.002*node'),\n",
       " (5,\n",
       "  '0.005*image + 0.004*neuron + 0.004*layer + 0.003*hidden + 0.003*cell + 0.002*control + 0.002*class + 0.002*net + 0.002*noise + 0.002*signal'),\n",
       " (6,\n",
       "  '0.005*neuron + 0.005*layer + 0.004*hidden + 0.003*image + 0.003*cell + 0.003*class + 0.003*rule + 0.002*noise + 0.002*net + 0.002*matrix'),\n",
       " (7,\n",
       "  '0.004*neuron + 0.003*image + 0.003*cell + 0.003*hidden + 0.003*recognition + 0.003*field + 0.003*layer + 0.002*noise + 0.002*node + 0.002*component'),\n",
       " (8,\n",
       "  '0.004*neuron + 0.003*image + 0.003*signal + 0.003*recognition + 0.003*cell + 0.003*layer + 0.003*noise + 0.003*rule + 0.002*class + 0.002*hidden'),\n",
       " (9,\n",
       "  '0.005*neuron + 0.004*class + 0.003*layer + 0.003*image + 0.003*cell + 0.002*hidden + 0.002*signal + 0.002*control + 0.002*field + 0.002*net')]"
      ]
     },
     "execution_count": 155,
     "metadata": {},
     "output_type": "execute_result"
    }
   ],
   "source": [
    "lda.show_topics()"
   ]
  },
  {
   "cell_type": "code",
   "execution_count": 150,
   "metadata": {
    "collapsed": false
   },
   "outputs": [
    {
     "name": "stdout",
     "output_type": "stream",
     "text": [
      "Document 5\n",
      "[(0, 0.11806384798431847),\n",
      " (1, 0.099612053680607937),\n",
      " (2, 0.076668193975964943),\n",
      " (3, 0.075072909998916373),\n",
      " (4, 0.067243477696594139),\n",
      " (5, 0.1004083782314163),\n",
      " (6, 0.1049567779188061),\n",
      " (7, 0.10291505408912022),\n",
      " (8, 0.12682229186467239),\n",
      " (9, 0.12823701455958317)]\n",
      "\n",
      "Document 50\n",
      "[(0, 0.12019310780479558),\n",
      " (1, 0.11241507965934601),\n",
      " (2, 0.084261861610351887),\n",
      " (3, 0.074722708722277847),\n",
      " (4, 0.089536455599529025),\n",
      " (5, 0.11951468917677081),\n",
      " (6, 0.077140801257090358),\n",
      " (7, 0.086592729473957755),\n",
      " (8, 0.12048290979429044),\n",
      " (9, 0.11513965690159025)]\n"
     ]
    }
   ],
   "source": [
    "d = 5\n",
    "print('Document %d' %d)\n",
    "pprint(lda[corpus[d]])\n",
    "\n",
    "d = 50\n",
    "print('\\nDocument %d' %d)\n",
    "pprint(lda[corpus[d]])"
   ]
  },
  {
   "cell_type": "code",
   "execution_count": 145,
   "metadata": {
    "collapsed": false
   },
   "outputs": [
    {
     "data": {
      "text/plain": [
       "['scaling',\n",
       " 'property',\n",
       " 'of',\n",
       " 'coarse',\n",
       " 'coded',\n",
       " 'symbol',\n",
       " 'memory',\n",
       " 'ronald',\n",
       " 'rosenfeld',\n",
       " 'david',\n",
       " 'touretzky',\n",
       " 'computer',\n",
       " 'science',\n",
       " 'department',\n",
       " 'carnegie',\n",
       " 'mellon',\n",
       " 'university',\n",
       " 'pittsburgh',\n",
       " 'pennsylvania',\n",
       " 'abstract']"
      ]
     },
     "execution_count": 145,
     "metadata": {},
     "output_type": "execute_result"
    }
   ],
   "source": [
    "docs[0][:20]"
   ]
  },
  {
   "cell_type": "markdown",
   "metadata": {},
   "source": [
    "## Convergence and speed plots"
   ]
  },
  {
   "cell_type": "code",
   "execution_count": 32,
   "metadata": {
    "collapsed": false
   },
   "outputs": [],
   "source": [
    "from bokeh.io import output_notebook\n",
    "from bokeh.models.layouts import Row, Column\n",
    "from bokeh.layouts import gridplot, layout\n",
    "from bokeh.models import Title, Legend, Div\n",
    "from bokeh.plotting import figure, output_file, show"
   ]
  },
  {
   "cell_type": "code",
   "execution_count": 8,
   "metadata": {
    "collapsed": false
   },
   "outputs": [
    {
     "data": {
      "text/html": [
       "\n",
       "    <div class=\"bk-root\">\n",
       "        <a href=\"http://bokeh.pydata.org\" target=\"_blank\" class=\"bk-logo bk-logo-small bk-logo-notebook\"></a>\n",
       "        <span id=\"8e011ac0-f662-4201-8e19-c1d0bd286cb0\">Loading BokehJS ...</span>\n",
       "    </div>"
      ]
     },
     "metadata": {},
     "output_type": "display_data"
    },
    {
     "data": {
      "application/javascript": [
       "\n",
       "(function(global) {\n",
       "  function now() {\n",
       "    return new Date();\n",
       "  }\n",
       "\n",
       "  var force = \"1\";\n",
       "\n",
       "  if (typeof (window._bokeh_onload_callbacks) === \"undefined\" || force !== \"\") {\n",
       "    window._bokeh_onload_callbacks = [];\n",
       "    window._bokeh_is_loading = undefined;\n",
       "  }\n",
       "\n",
       "\n",
       "  \n",
       "  if (typeof (window._bokeh_timeout) === \"undefined\" || force !== \"\") {\n",
       "    window._bokeh_timeout = Date.now() + 5000;\n",
       "    window._bokeh_failed_load = false;\n",
       "  }\n",
       "\n",
       "  var NB_LOAD_WARNING = {'data': {'text/html':\n",
       "     \"<div style='background-color: #fdd'>\\n\"+\n",
       "     \"<p>\\n\"+\n",
       "     \"BokehJS does not appear to have successfully loaded. If loading BokehJS from CDN, this \\n\"+\n",
       "     \"may be due to a slow or bad network connection. Possible fixes:\\n\"+\n",
       "     \"</p>\\n\"+\n",
       "     \"<ul>\\n\"+\n",
       "     \"<li>re-rerun `output_notebook()` to attempt to load from CDN again, or</li>\\n\"+\n",
       "     \"<li>use INLINE resources instead, as so:</li>\\n\"+\n",
       "     \"</ul>\\n\"+\n",
       "     \"<code>\\n\"+\n",
       "     \"from bokeh.resources import INLINE\\n\"+\n",
       "     \"output_notebook(resources=INLINE)\\n\"+\n",
       "     \"</code>\\n\"+\n",
       "     \"</div>\"}};\n",
       "\n",
       "  function display_loaded() {\n",
       "    if (window.Bokeh !== undefined) {\n",
       "      Bokeh.$(\"#8e011ac0-f662-4201-8e19-c1d0bd286cb0\").text(\"BokehJS successfully loaded.\");\n",
       "    } else if (Date.now() < window._bokeh_timeout) {\n",
       "      setTimeout(display_loaded, 100)\n",
       "    }\n",
       "  }\n",
       "\n",
       "  function run_callbacks() {\n",
       "    window._bokeh_onload_callbacks.forEach(function(callback) { callback() });\n",
       "    delete window._bokeh_onload_callbacks\n",
       "    console.info(\"Bokeh: all callbacks have finished\");\n",
       "  }\n",
       "\n",
       "  function load_libs(js_urls, callback) {\n",
       "    window._bokeh_onload_callbacks.push(callback);\n",
       "    if (window._bokeh_is_loading > 0) {\n",
       "      console.log(\"Bokeh: BokehJS is being loaded, scheduling callback at\", now());\n",
       "      return null;\n",
       "    }\n",
       "    if (js_urls == null || js_urls.length === 0) {\n",
       "      run_callbacks();\n",
       "      return null;\n",
       "    }\n",
       "    console.log(\"Bokeh: BokehJS not loaded, scheduling load and callback at\", now());\n",
       "    window._bokeh_is_loading = js_urls.length;\n",
       "    for (var i = 0; i < js_urls.length; i++) {\n",
       "      var url = js_urls[i];\n",
       "      var s = document.createElement('script');\n",
       "      s.src = url;\n",
       "      s.async = false;\n",
       "      s.onreadystatechange = s.onload = function() {\n",
       "        window._bokeh_is_loading--;\n",
       "        if (window._bokeh_is_loading === 0) {\n",
       "          console.log(\"Bokeh: all BokehJS libraries loaded\");\n",
       "          run_callbacks()\n",
       "        }\n",
       "      };\n",
       "      s.onerror = function() {\n",
       "        console.warn(\"failed to load library \" + url);\n",
       "      };\n",
       "      console.log(\"Bokeh: injecting script tag for BokehJS library: \", url);\n",
       "      document.getElementsByTagName(\"head\")[0].appendChild(s);\n",
       "    }\n",
       "  };var element = document.getElementById(\"8e011ac0-f662-4201-8e19-c1d0bd286cb0\");\n",
       "  if (element == null) {\n",
       "    console.log(\"Bokeh: ERROR: autoload.js configured with elementid '8e011ac0-f662-4201-8e19-c1d0bd286cb0' but no matching script tag was found. \")\n",
       "    return false;\n",
       "  }\n",
       "\n",
       "  var js_urls = ['https://cdn.pydata.org/bokeh/release/bokeh-0.12.3.min.js', 'https://cdn.pydata.org/bokeh/release/bokeh-widgets-0.12.3.min.js'];\n",
       "\n",
       "  var inline_js = [\n",
       "    function(Bokeh) {\n",
       "      Bokeh.set_log_level(\"info\");\n",
       "    },\n",
       "    \n",
       "    function(Bokeh) {\n",
       "      \n",
       "      Bokeh.$(\"#8e011ac0-f662-4201-8e19-c1d0bd286cb0\").text(\"BokehJS is loading...\");\n",
       "    },\n",
       "    function(Bokeh) {\n",
       "      console.log(\"Bokeh: injecting CSS: https://cdn.pydata.org/bokeh/release/bokeh-0.12.3.min.css\");\n",
       "      Bokeh.embed.inject_css(\"https://cdn.pydata.org/bokeh/release/bokeh-0.12.3.min.css\");\n",
       "      console.log(\"Bokeh: injecting CSS: https://cdn.pydata.org/bokeh/release/bokeh-widgets-0.12.3.min.css\");\n",
       "      Bokeh.embed.inject_css(\"https://cdn.pydata.org/bokeh/release/bokeh-widgets-0.12.3.min.css\");\n",
       "    }\n",
       "  ];\n",
       "\n",
       "  function run_inline_js() {\n",
       "    \n",
       "    if ((window.Bokeh !== undefined) || (force === \"1\")) {\n",
       "      for (var i = 0; i < inline_js.length; i++) {\n",
       "        inline_js[i](window.Bokeh);\n",
       "      }if (force === \"1\") {\n",
       "        display_loaded();\n",
       "      }} else if (Date.now() < window._bokeh_timeout) {\n",
       "      setTimeout(run_inline_js, 100);\n",
       "    } else if (!window._bokeh_failed_load) {\n",
       "      console.log(\"Bokeh: BokehJS failed to load within specified timeout.\");\n",
       "      window._bokeh_failed_load = true;\n",
       "    } else if (!force) {\n",
       "      var cell = $(\"#8e011ac0-f662-4201-8e19-c1d0bd286cb0\").parents('.cell').data().cell;\n",
       "      cell.output_area.append_execute_result(NB_LOAD_WARNING)\n",
       "    }\n",
       "\n",
       "  }\n",
       "\n",
       "  if (window._bokeh_is_loading === 0) {\n",
       "    console.log(\"Bokeh: BokehJS loaded, going straight to plotting\");\n",
       "    run_inline_js();\n",
       "  } else {\n",
       "    load_libs(js_urls, function() {\n",
       "      console.log(\"Bokeh: BokehJS plotting callback run at\", now());\n",
       "      run_inline_js();\n",
       "    });\n",
       "  }\n",
       "}(this));"
      ]
     },
     "metadata": {},
     "output_type": "display_data"
    }
   ],
   "source": [
    "output_notebook()"
   ]
  },
  {
   "cell_type": "markdown",
   "metadata": {},
   "source": [
    "### 10 iterations (passes)"
   ]
  },
  {
   "cell_type": "code",
   "execution_count": 9,
   "metadata": {
    "collapsed": true
   },
   "outputs": [],
   "source": [
    "# NOTE: the times of both offline and online are *without* vectorization!\n",
    "\n",
    "offline = [-3.958e+05, -3.430e+05, -3.428e+05, -3.426e+05, -3.423e+05, -3.417e+05, -3.406e+05, -3.388e+05, -3.361e+05, -3.326e+05, -3.285e+05]\n",
    "\n",
    "online_1iter = [-3.958e+05, -3.471e+05, -3.456e+05, -3.417e+05, -3.338e+05, -3.244e+05, -3.165e+05, -3.111e+05, -3.075e+05, -3.051e+05, -3.036e+05]\n",
    "\n",
    "online_10iter = [-3.958e+05, -3.343e+05, -3.223e+05, -3.128e+05, -3.072e+05, -3.041e+05, -3.023e+05, -3.011e+05, -3.003e+05, -2.997e+05, -2.993e+05]"
   ]
  },
  {
   "cell_type": "code",
   "execution_count": 10,
   "metadata": {
    "collapsed": true
   },
   "outputs": [],
   "source": [
    "iterations = range(10)"
   ]
  },
  {
   "cell_type": "code",
   "execution_count": 21,
   "metadata": {
    "collapsed": false
   },
   "outputs": [],
   "source": [
    "offline_time = [20 * 60 + 49, 21 * 60 + 8, 21 * 60 + 25, 21 * 60 + 41, 21 * 60 + 56, 22 * 60 + 11, 22 * 60 + 25, 22 * 60 + 41, 22 * 60 + 56, 23 * 60 + 11, 23 * 60 + 26]\n",
    "offline_time = np.array(offline_time) - offline_time[0]\n",
    "\n",
    "online_1iter_time = [23 * 60 + 54, 23 * 60 + 55, 23 * 60 + 55, 23 * 60 + 56, 23 * 60 + 58, 23 * 60 + 59, 24 * 60 + 0, 24 * 60 + 1, 24 * 60 + 2, 24 * 60 + 3, 24 * 60 + 4]\n",
    "online_1iter_time = np.array(online_1iter_time) - online_1iter_time[0]\n",
    "                \n",
    "online_10iter_time = [24 * 60 + 59, 25 * 60 + 0, 25 * 60 + 2, 25 * 60 + 3, 25 * 60 + 4, 25 * 60 + 5, 25 * 60 + 6, 25 * 60 + 7, 25 * 60 + 8, 25 * 60 + 8, 25 * 60 + 9]\n",
    "online_10iter_time = np.array(online_10iter_time) - online_10iter_time[0]"
   ]
  },
  {
   "cell_type": "code",
   "execution_count": 26,
   "metadata": {
    "collapsed": false
   },
   "outputs": [
    {
     "data": {
      "text/html": [
       "\n",
       "\n",
       "    <div class=\"bk-root\">\n",
       "        <div class=\"plotdiv\" id=\"404b76ee-380c-479a-94f6-848e196665be\"></div>\n",
       "    </div>\n",
       "<script type=\"text/javascript\">\n",
       "  \n",
       "  (function(global) {\n",
       "    function now() {\n",
       "      return new Date();\n",
       "    }\n",
       "  \n",
       "    var force = \"\";\n",
       "  \n",
       "    if (typeof (window._bokeh_onload_callbacks) === \"undefined\" || force !== \"\") {\n",
       "      window._bokeh_onload_callbacks = [];\n",
       "      window._bokeh_is_loading = undefined;\n",
       "    }\n",
       "  \n",
       "  \n",
       "    \n",
       "    if (typeof (window._bokeh_timeout) === \"undefined\" || force !== \"\") {\n",
       "      window._bokeh_timeout = Date.now() + 0;\n",
       "      window._bokeh_failed_load = false;\n",
       "    }\n",
       "  \n",
       "    var NB_LOAD_WARNING = {'data': {'text/html':\n",
       "       \"<div style='background-color: #fdd'>\\n\"+\n",
       "       \"<p>\\n\"+\n",
       "       \"BokehJS does not appear to have successfully loaded. If loading BokehJS from CDN, this \\n\"+\n",
       "       \"may be due to a slow or bad network connection. Possible fixes:\\n\"+\n",
       "       \"</p>\\n\"+\n",
       "       \"<ul>\\n\"+\n",
       "       \"<li>re-rerun `output_notebook()` to attempt to load from CDN again, or</li>\\n\"+\n",
       "       \"<li>use INLINE resources instead, as so:</li>\\n\"+\n",
       "       \"</ul>\\n\"+\n",
       "       \"<code>\\n\"+\n",
       "       \"from bokeh.resources import INLINE\\n\"+\n",
       "       \"output_notebook(resources=INLINE)\\n\"+\n",
       "       \"</code>\\n\"+\n",
       "       \"</div>\"}};\n",
       "  \n",
       "    function display_loaded() {\n",
       "      if (window.Bokeh !== undefined) {\n",
       "        Bokeh.$(\"#404b76ee-380c-479a-94f6-848e196665be\").text(\"BokehJS successfully loaded.\");\n",
       "      } else if (Date.now() < window._bokeh_timeout) {\n",
       "        setTimeout(display_loaded, 100)\n",
       "      }\n",
       "    }\n",
       "  \n",
       "    function run_callbacks() {\n",
       "      window._bokeh_onload_callbacks.forEach(function(callback) { callback() });\n",
       "      delete window._bokeh_onload_callbacks\n",
       "      console.info(\"Bokeh: all callbacks have finished\");\n",
       "    }\n",
       "  \n",
       "    function load_libs(js_urls, callback) {\n",
       "      window._bokeh_onload_callbacks.push(callback);\n",
       "      if (window._bokeh_is_loading > 0) {\n",
       "        console.log(\"Bokeh: BokehJS is being loaded, scheduling callback at\", now());\n",
       "        return null;\n",
       "      }\n",
       "      if (js_urls == null || js_urls.length === 0) {\n",
       "        run_callbacks();\n",
       "        return null;\n",
       "      }\n",
       "      console.log(\"Bokeh: BokehJS not loaded, scheduling load and callback at\", now());\n",
       "      window._bokeh_is_loading = js_urls.length;\n",
       "      for (var i = 0; i < js_urls.length; i++) {\n",
       "        var url = js_urls[i];\n",
       "        var s = document.createElement('script');\n",
       "        s.src = url;\n",
       "        s.async = false;\n",
       "        s.onreadystatechange = s.onload = function() {\n",
       "          window._bokeh_is_loading--;\n",
       "          if (window._bokeh_is_loading === 0) {\n",
       "            console.log(\"Bokeh: all BokehJS libraries loaded\");\n",
       "            run_callbacks()\n",
       "          }\n",
       "        };\n",
       "        s.onerror = function() {\n",
       "          console.warn(\"failed to load library \" + url);\n",
       "        };\n",
       "        console.log(\"Bokeh: injecting script tag for BokehJS library: \", url);\n",
       "        document.getElementsByTagName(\"head\")[0].appendChild(s);\n",
       "      }\n",
       "    };var element = document.getElementById(\"404b76ee-380c-479a-94f6-848e196665be\");\n",
       "    if (element == null) {\n",
       "      console.log(\"Bokeh: ERROR: autoload.js configured with elementid '404b76ee-380c-479a-94f6-848e196665be' but no matching script tag was found. \")\n",
       "      return false;\n",
       "    }\n",
       "  \n",
       "    var js_urls = [];\n",
       "  \n",
       "    var inline_js = [\n",
       "      function(Bokeh) {\n",
       "        Bokeh.$(function() {\n",
       "            var docs_json = {\"4aa1efb9-67ff-43bd-b362-d7613fdd615e\":{\"roots\":{\"references\":[{\"attributes\":{\"data_source\":{\"id\":\"a4fe65e1-7834-4617-8781-592a816d760a\",\"type\":\"ColumnDataSource\"},\"glyph\":{\"id\":\"fd0fc430-dcab-4d57-9b01-57bea023d92c\",\"type\":\"Circle\"},\"hover_glyph\":null,\"nonselection_glyph\":{\"id\":\"1c6c2790-08bc-455a-868e-caf797e27f10\",\"type\":\"Circle\"},\"selection_glyph\":null},\"id\":\"a4b3f9da-a78a-432b-85bb-f1a4374c6a8b\",\"type\":\"GlyphRenderer\"},{\"attributes\":{\"fill_color\":{\"value\":\"blue\"},\"line_color\":{\"value\":\"blue\"},\"size\":{\"units\":\"screen\",\"value\":5},\"x\":{\"field\":\"x\"},\"y\":{\"field\":\"y\"}},\"id\":\"4ca76995-a8d2-4754-99d7-ea1485a7143c\",\"type\":\"Circle\"},{\"attributes\":{},\"id\":\"886f3fba-9925-409f-a942-9b0b906f41d7\",\"type\":\"BasicTickFormatter\"},{\"attributes\":{\"data_source\":{\"id\":\"7e06f791-bab2-473b-b73f-1587fa7a0e84\",\"type\":\"ColumnDataSource\"},\"glyph\":{\"id\":\"4ca76995-a8d2-4754-99d7-ea1485a7143c\",\"type\":\"Circle\"},\"hover_glyph\":null,\"nonselection_glyph\":{\"id\":\"cafc2b90-b246-4604-96ab-e0c06932f9cf\",\"type\":\"Circle\"},\"selection_glyph\":null},\"id\":\"8219a61f-5e12-4d8a-9734-b270a097897e\",\"type\":\"GlyphRenderer\"},{\"attributes\":{\"axis_label\":\"Bound\",\"formatter\":{\"id\":\"886f3fba-9925-409f-a942-9b0b906f41d7\",\"type\":\"BasicTickFormatter\"},\"plot\":{\"id\":\"b03dae64-b6dc-45b3-91e5-d1c7fb51f0fc\",\"subtype\":\"Figure\",\"type\":\"Plot\"},\"ticker\":{\"id\":\"7451a728-5535-467b-88b9-f2d1c66f10d0\",\"type\":\"BasicTicker\"}},\"id\":\"1a45496c-820d-460d-8d9c-972181bf6a78\",\"type\":\"LinearAxis\"},{\"attributes\":{},\"id\":\"3b777f23-6098-48ac-b2b6-6ff03c5eff6a\",\"type\":\"BasicTickFormatter\"},{\"attributes\":{\"bottom_units\":\"screen\",\"fill_alpha\":{\"value\":0.5},\"fill_color\":{\"value\":\"lightgrey\"},\"left_units\":\"screen\",\"level\":\"overlay\",\"line_alpha\":{\"value\":1.0},\"line_color\":{\"value\":\"black\"},\"line_dash\":[4,4],\"line_width\":{\"value\":2},\"plot\":null,\"render_mode\":\"css\",\"right_units\":\"screen\",\"top_units\":\"screen\"},\"id\":\"13e59d24-c8cd-412b-9ca1-459503a00407\",\"type\":\"BoxAnnotation\"},{\"attributes\":{\"fill_color\":{\"value\":\"green\"},\"line_color\":{\"value\":\"green\"},\"size\":{\"units\":\"screen\",\"value\":5},\"x\":{\"field\":\"x\"},\"y\":{\"field\":\"y\"}},\"id\":\"4055e9b6-3772-479f-b06c-401ab44cb9d8\",\"type\":\"Circle\"},{\"attributes\":{\"below\":[{\"id\":\"5cb32356-60a6-4178-92ee-5ace444db4bc\",\"type\":\"LinearAxis\"}],\"left\":[{\"id\":\"1a45496c-820d-460d-8d9c-972181bf6a78\",\"type\":\"LinearAxis\"}],\"plot_height\":400,\"renderers\":[{\"id\":\"5cb32356-60a6-4178-92ee-5ace444db4bc\",\"type\":\"LinearAxis\"},{\"id\":\"9b5fa3dc-d619-40d7-bd70-32c18f2bc9ca\",\"type\":\"Grid\"},{\"id\":\"1a45496c-820d-460d-8d9c-972181bf6a78\",\"type\":\"LinearAxis\"},{\"id\":\"430e98b8-78b9-4eda-a396-85489b5ab96d\",\"type\":\"Grid\"},{\"id\":\"13e59d24-c8cd-412b-9ca1-459503a00407\",\"type\":\"BoxAnnotation\"},{\"id\":\"c8152fea-db4c-4d17-9303-b61712764b96\",\"type\":\"Legend\"},{\"id\":\"a4b3f9da-a78a-432b-85bb-f1a4374c6a8b\",\"type\":\"GlyphRenderer\"},{\"id\":\"950d1aa5-900b-452a-a947-dbbdb0565940\",\"type\":\"GlyphRenderer\"},{\"id\":\"8219a61f-5e12-4d8a-9734-b270a097897e\",\"type\":\"GlyphRenderer\"}],\"title\":{\"id\":\"45bf64de-b20d-4299-a113-7cef762b7663\",\"type\":\"Title\"},\"tool_events\":{\"id\":\"d464c5d8-c5a3-43a1-889c-b00612d45074\",\"type\":\"ToolEvents\"},\"toolbar\":{\"id\":\"5fbc5eba-cd33-47c0-a25f-5907afe13cc5\",\"type\":\"Toolbar\"},\"toolbar_location\":null,\"x_range\":{\"id\":\"3044dbab-aff2-4e44-afd2-31514af997bd\",\"type\":\"DataRange1d\"},\"y_range\":{\"id\":\"88c86ae4-6868-4503-afa9-8a3da510b520\",\"type\":\"DataRange1d\"}},\"id\":\"b03dae64-b6dc-45b3-91e5-d1c7fb51f0fc\",\"subtype\":\"Figure\",\"type\":\"Plot\"},{\"attributes\":{\"callback\":null,\"column_names\":[\"y\",\"x\"],\"data\":{\"x\":[1,2,3,4,5,6,7,8,9],\"y\":[-334300.0,-322300.0,-312800.0,-307200.0,-304100.0,-302300.0,-301100.0,-300300.0,-299700.0,-299300.0]}},\"id\":\"7e06f791-bab2-473b-b73f-1587fa7a0e84\",\"type\":\"ColumnDataSource\"},{\"attributes\":{\"plot\":null,\"text\":\"Variational lower bound (initial bound at -3.958e+05)\"},\"id\":\"45bf64de-b20d-4299-a113-7cef762b7663\",\"type\":\"Title\"},{\"attributes\":{\"fill_color\":{\"value\":\"red\"},\"line_color\":{\"value\":\"red\"},\"size\":{\"units\":\"screen\",\"value\":5},\"x\":{\"field\":\"x\"},\"y\":{\"field\":\"y\"}},\"id\":\"fd0fc430-dcab-4d57-9b01-57bea023d92c\",\"type\":\"Circle\"},{\"attributes\":{\"items\":[{\"id\":\"fe9ed935-c307-4890-80eb-022de86d76de\",\"type\":\"LegendItem\"},{\"id\":\"66c90dc2-32a1-4a79-8725-febaf0743f3d\",\"type\":\"LegendItem\"},{\"id\":\"832b5345-f9a7-4b0b-a979-3c37bfa3af22\",\"type\":\"LegendItem\"}],\"plot\":{\"id\":\"b03dae64-b6dc-45b3-91e5-d1c7fb51f0fc\",\"subtype\":\"Figure\",\"type\":\"Plot\"}},\"id\":\"c8152fea-db4c-4d17-9303-b61712764b96\",\"type\":\"Legend\"},{\"attributes\":{\"data_source\":{\"id\":\"4393d247-87b7-4bb0-9d0a-0ee5c0ae9bde\",\"type\":\"ColumnDataSource\"},\"glyph\":{\"id\":\"4055e9b6-3772-479f-b06c-401ab44cb9d8\",\"type\":\"Circle\"},\"hover_glyph\":null,\"nonselection_glyph\":{\"id\":\"095bab72-6f34-4171-8237-5bd0c0efd818\",\"type\":\"Circle\"},\"selection_glyph\":null},\"id\":\"950d1aa5-900b-452a-a947-dbbdb0565940\",\"type\":\"GlyphRenderer\"},{\"attributes\":{\"active_drag\":\"auto\",\"active_scroll\":\"auto\",\"active_tap\":\"auto\",\"tools\":[{\"id\":\"2f5381cc-1303-4168-8dcf-6ba3e3a1ede1\",\"type\":\"PanTool\"},{\"id\":\"d491f454-7651-4cbe-ae27-b095234fa7c9\",\"type\":\"WheelZoomTool\"},{\"id\":\"bbc5ebae-8ff1-444b-9e1d-8524db93036a\",\"type\":\"BoxZoomTool\"},{\"id\":\"f6d98029-bd3c-4050-87e3-4a75d2fbf100\",\"type\":\"SaveTool\"},{\"id\":\"cd7ff5e6-7b50-40b3-ba91-e472747a0c90\",\"type\":\"ResetTool\"},{\"id\":\"c39cc14c-727f-457e-acc3-2953c45a7dcc\",\"type\":\"HelpTool\"}]},\"id\":\"5fbc5eba-cd33-47c0-a25f-5907afe13cc5\",\"type\":\"Toolbar\"},{\"attributes\":{\"plot\":{\"id\":\"b03dae64-b6dc-45b3-91e5-d1c7fb51f0fc\",\"subtype\":\"Figure\",\"type\":\"Plot\"}},\"id\":\"d491f454-7651-4cbe-ae27-b095234fa7c9\",\"type\":\"WheelZoomTool\"},{\"attributes\":{},\"id\":\"7451a728-5535-467b-88b9-f2d1c66f10d0\",\"type\":\"BasicTicker\"},{\"attributes\":{\"label\":{\"value\":\"online 10 iter.\"},\"renderers\":[{\"id\":\"8219a61f-5e12-4d8a-9734-b270a097897e\",\"type\":\"GlyphRenderer\"}]},\"id\":\"832b5345-f9a7-4b0b-a979-3c37bfa3af22\",\"type\":\"LegendItem\"},{\"attributes\":{},\"id\":\"d464c5d8-c5a3-43a1-889c-b00612d45074\",\"type\":\"ToolEvents\"},{\"attributes\":{\"callback\":null,\"column_names\":[\"y\",\"x\"],\"data\":{\"x\":[1,2,3,4,5,6,7,8,9],\"y\":[-343000.0,-342800.0,-342600.0,-342300.0,-341700.0,-340600.0,-338800.0,-336100.0,-332600.0,-328500.0]}},\"id\":\"a4fe65e1-7834-4617-8781-592a816d760a\",\"type\":\"ColumnDataSource\"},{\"attributes\":{\"plot\":{\"id\":\"b03dae64-b6dc-45b3-91e5-d1c7fb51f0fc\",\"subtype\":\"Figure\",\"type\":\"Plot\"}},\"id\":\"f6d98029-bd3c-4050-87e3-4a75d2fbf100\",\"type\":\"SaveTool\"},{\"attributes\":{\"dimension\":1,\"plot\":{\"id\":\"b03dae64-b6dc-45b3-91e5-d1c7fb51f0fc\",\"subtype\":\"Figure\",\"type\":\"Plot\"},\"ticker\":{\"id\":\"7451a728-5535-467b-88b9-f2d1c66f10d0\",\"type\":\"BasicTicker\"}},\"id\":\"430e98b8-78b9-4eda-a396-85489b5ab96d\",\"type\":\"Grid\"},{\"attributes\":{\"overlay\":{\"id\":\"13e59d24-c8cd-412b-9ca1-459503a00407\",\"type\":\"BoxAnnotation\"},\"plot\":{\"id\":\"b03dae64-b6dc-45b3-91e5-d1c7fb51f0fc\",\"subtype\":\"Figure\",\"type\":\"Plot\"}},\"id\":\"bbc5ebae-8ff1-444b-9e1d-8524db93036a\",\"type\":\"BoxZoomTool\"},{\"attributes\":{\"plot\":{\"id\":\"b03dae64-b6dc-45b3-91e5-d1c7fb51f0fc\",\"subtype\":\"Figure\",\"type\":\"Plot\"}},\"id\":\"2f5381cc-1303-4168-8dcf-6ba3e3a1ede1\",\"type\":\"PanTool\"},{\"attributes\":{\"callback\":null},\"id\":\"88c86ae4-6868-4503-afa9-8a3da510b520\",\"type\":\"DataRange1d\"},{\"attributes\":{\"fill_alpha\":{\"value\":0.1},\"fill_color\":{\"value\":\"#1f77b4\"},\"line_alpha\":{\"value\":0.1},\"line_color\":{\"value\":\"#1f77b4\"},\"size\":{\"units\":\"screen\",\"value\":5},\"x\":{\"field\":\"x\"},\"y\":{\"field\":\"y\"}},\"id\":\"1c6c2790-08bc-455a-868e-caf797e27f10\",\"type\":\"Circle\"},{\"attributes\":{},\"id\":\"6df5555f-92ee-4399-8648-86dcea7e98ba\",\"type\":\"BasicTicker\"},{\"attributes\":{\"label\":{\"value\":\"offline\"},\"renderers\":[{\"id\":\"a4b3f9da-a78a-432b-85bb-f1a4374c6a8b\",\"type\":\"GlyphRenderer\"}]},\"id\":\"fe9ed935-c307-4890-80eb-022de86d76de\",\"type\":\"LegendItem\"},{\"attributes\":{\"plot\":{\"id\":\"b03dae64-b6dc-45b3-91e5-d1c7fb51f0fc\",\"subtype\":\"Figure\",\"type\":\"Plot\"}},\"id\":\"cd7ff5e6-7b50-40b3-ba91-e472747a0c90\",\"type\":\"ResetTool\"},{\"attributes\":{\"axis_label\":\"Iterations\",\"formatter\":{\"id\":\"3b777f23-6098-48ac-b2b6-6ff03c5eff6a\",\"type\":\"BasicTickFormatter\"},\"plot\":{\"id\":\"b03dae64-b6dc-45b3-91e5-d1c7fb51f0fc\",\"subtype\":\"Figure\",\"type\":\"Plot\"},\"ticker\":{\"id\":\"6df5555f-92ee-4399-8648-86dcea7e98ba\",\"type\":\"BasicTicker\"}},\"id\":\"5cb32356-60a6-4178-92ee-5ace444db4bc\",\"type\":\"LinearAxis\"},{\"attributes\":{\"fill_alpha\":{\"value\":0.1},\"fill_color\":{\"value\":\"#1f77b4\"},\"line_alpha\":{\"value\":0.1},\"line_color\":{\"value\":\"#1f77b4\"},\"size\":{\"units\":\"screen\",\"value\":5},\"x\":{\"field\":\"x\"},\"y\":{\"field\":\"y\"}},\"id\":\"095bab72-6f34-4171-8237-5bd0c0efd818\",\"type\":\"Circle\"},{\"attributes\":{\"plot\":{\"id\":\"b03dae64-b6dc-45b3-91e5-d1c7fb51f0fc\",\"subtype\":\"Figure\",\"type\":\"Plot\"}},\"id\":\"c39cc14c-727f-457e-acc3-2953c45a7dcc\",\"type\":\"HelpTool\"},{\"attributes\":{\"fill_alpha\":{\"value\":0.1},\"fill_color\":{\"value\":\"#1f77b4\"},\"line_alpha\":{\"value\":0.1},\"line_color\":{\"value\":\"#1f77b4\"},\"size\":{\"units\":\"screen\",\"value\":5},\"x\":{\"field\":\"x\"},\"y\":{\"field\":\"y\"}},\"id\":\"cafc2b90-b246-4604-96ab-e0c06932f9cf\",\"type\":\"Circle\"},{\"attributes\":{\"callback\":null,\"column_names\":[\"y\",\"x\"],\"data\":{\"x\":[1,2,3,4,5,6,7,8,9],\"y\":[-347100.0,-345600.0,-341700.0,-333800.0,-324400.0,-316500.0,-311100.0,-307500.0,-305100.0,-303600.0]}},\"id\":\"4393d247-87b7-4bb0-9d0a-0ee5c0ae9bde\",\"type\":\"ColumnDataSource\"},{\"attributes\":{\"plot\":{\"id\":\"b03dae64-b6dc-45b3-91e5-d1c7fb51f0fc\",\"subtype\":\"Figure\",\"type\":\"Plot\"},\"ticker\":{\"id\":\"6df5555f-92ee-4399-8648-86dcea7e98ba\",\"type\":\"BasicTicker\"}},\"id\":\"9b5fa3dc-d619-40d7-bd70-32c18f2bc9ca\",\"type\":\"Grid\"},{\"attributes\":{\"callback\":null},\"id\":\"3044dbab-aff2-4e44-afd2-31514af997bd\",\"type\":\"DataRange1d\"},{\"attributes\":{\"label\":{\"value\":\"online 1 iter\"},\"renderers\":[{\"id\":\"950d1aa5-900b-452a-a947-dbbdb0565940\",\"type\":\"GlyphRenderer\"}]},\"id\":\"66c90dc2-32a1-4a79-8725-febaf0743f3d\",\"type\":\"LegendItem\"}],\"root_ids\":[\"b03dae64-b6dc-45b3-91e5-d1c7fb51f0fc\"]},\"title\":\"Bokeh Application\",\"version\":\"0.12.3\"}};\n",
       "            var render_items = [{\"docid\":\"4aa1efb9-67ff-43bd-b362-d7613fdd615e\",\"elementid\":\"404b76ee-380c-479a-94f6-848e196665be\",\"modelid\":\"b03dae64-b6dc-45b3-91e5-d1c7fb51f0fc\"}];\n",
       "            \n",
       "            Bokeh.embed.embed_items(docs_json, render_items);\n",
       "        });\n",
       "      },\n",
       "      function(Bokeh) {\n",
       "      }\n",
       "    ];\n",
       "  \n",
       "    function run_inline_js() {\n",
       "      \n",
       "      if ((window.Bokeh !== undefined) || (force === \"1\")) {\n",
       "        for (var i = 0; i < inline_js.length; i++) {\n",
       "          inline_js[i](window.Bokeh);\n",
       "        }if (force === \"1\") {\n",
       "          display_loaded();\n",
       "        }} else if (Date.now() < window._bokeh_timeout) {\n",
       "        setTimeout(run_inline_js, 100);\n",
       "      } else if (!window._bokeh_failed_load) {\n",
       "        console.log(\"Bokeh: BokehJS failed to load within specified timeout.\");\n",
       "        window._bokeh_failed_load = true;\n",
       "      } else if (!force) {\n",
       "        var cell = $(\"#404b76ee-380c-479a-94f6-848e196665be\").parents('.cell').data().cell;\n",
       "        cell.output_area.append_execute_result(NB_LOAD_WARNING)\n",
       "      }\n",
       "  \n",
       "    }\n",
       "  \n",
       "    if (window._bokeh_is_loading === 0) {\n",
       "      console.log(\"Bokeh: BokehJS loaded, going straight to plotting\");\n",
       "      run_inline_js();\n",
       "    } else {\n",
       "      load_libs(js_urls, function() {\n",
       "        console.log(\"Bokeh: BokehJS plotting callback run at\", now());\n",
       "        run_inline_js();\n",
       "      });\n",
       "    }\n",
       "  }(this));\n",
       "</script>"
      ]
     },
     "metadata": {},
     "output_type": "display_data"
    }
   ],
   "source": [
    "p = figure(title=(\"Variational lower bound (initial bound at %.3e)\" % offline[0]), x_axis_label='Iterations', y_axis_label='Bound')\n",
    "p.circle(iterations[1:], offline[1:], legend=\"offline\", size=5, color='red')\n",
    "p.circle(iterations[1:], online_1iter[1:], legend=\"online 1 iter\", size=5, color='green')\n",
    "p.circle(iterations[1:], online_10iter[1:], legend=\"online 10 iter.\", size=5, color='blue')\n",
    "p.plot_height=400\n",
    "p.plot_width=600\n",
    "p.toolbar_location = None\n",
    "show(p)"
   ]
  },
  {
   "cell_type": "code",
   "execution_count": 28,
   "metadata": {
    "collapsed": false
   },
   "outputs": [
    {
     "data": {
      "text/html": [
       "\n",
       "\n",
       "    <div class=\"bk-root\">\n",
       "        <div class=\"plotdiv\" id=\"8df68a22-96ce-4fc0-949c-ad7ea9271506\"></div>\n",
       "    </div>\n",
       "<script type=\"text/javascript\">\n",
       "  \n",
       "  (function(global) {\n",
       "    function now() {\n",
       "      return new Date();\n",
       "    }\n",
       "  \n",
       "    var force = \"\";\n",
       "  \n",
       "    if (typeof (window._bokeh_onload_callbacks) === \"undefined\" || force !== \"\") {\n",
       "      window._bokeh_onload_callbacks = [];\n",
       "      window._bokeh_is_loading = undefined;\n",
       "    }\n",
       "  \n",
       "  \n",
       "    \n",
       "    if (typeof (window._bokeh_timeout) === \"undefined\" || force !== \"\") {\n",
       "      window._bokeh_timeout = Date.now() + 0;\n",
       "      window._bokeh_failed_load = false;\n",
       "    }\n",
       "  \n",
       "    var NB_LOAD_WARNING = {'data': {'text/html':\n",
       "       \"<div style='background-color: #fdd'>\\n\"+\n",
       "       \"<p>\\n\"+\n",
       "       \"BokehJS does not appear to have successfully loaded. If loading BokehJS from CDN, this \\n\"+\n",
       "       \"may be due to a slow or bad network connection. Possible fixes:\\n\"+\n",
       "       \"</p>\\n\"+\n",
       "       \"<ul>\\n\"+\n",
       "       \"<li>re-rerun `output_notebook()` to attempt to load from CDN again, or</li>\\n\"+\n",
       "       \"<li>use INLINE resources instead, as so:</li>\\n\"+\n",
       "       \"</ul>\\n\"+\n",
       "       \"<code>\\n\"+\n",
       "       \"from bokeh.resources import INLINE\\n\"+\n",
       "       \"output_notebook(resources=INLINE)\\n\"+\n",
       "       \"</code>\\n\"+\n",
       "       \"</div>\"}};\n",
       "  \n",
       "    function display_loaded() {\n",
       "      if (window.Bokeh !== undefined) {\n",
       "        Bokeh.$(\"#8df68a22-96ce-4fc0-949c-ad7ea9271506\").text(\"BokehJS successfully loaded.\");\n",
       "      } else if (Date.now() < window._bokeh_timeout) {\n",
       "        setTimeout(display_loaded, 100)\n",
       "      }\n",
       "    }\n",
       "  \n",
       "    function run_callbacks() {\n",
       "      window._bokeh_onload_callbacks.forEach(function(callback) { callback() });\n",
       "      delete window._bokeh_onload_callbacks\n",
       "      console.info(\"Bokeh: all callbacks have finished\");\n",
       "    }\n",
       "  \n",
       "    function load_libs(js_urls, callback) {\n",
       "      window._bokeh_onload_callbacks.push(callback);\n",
       "      if (window._bokeh_is_loading > 0) {\n",
       "        console.log(\"Bokeh: BokehJS is being loaded, scheduling callback at\", now());\n",
       "        return null;\n",
       "      }\n",
       "      if (js_urls == null || js_urls.length === 0) {\n",
       "        run_callbacks();\n",
       "        return null;\n",
       "      }\n",
       "      console.log(\"Bokeh: BokehJS not loaded, scheduling load and callback at\", now());\n",
       "      window._bokeh_is_loading = js_urls.length;\n",
       "      for (var i = 0; i < js_urls.length; i++) {\n",
       "        var url = js_urls[i];\n",
       "        var s = document.createElement('script');\n",
       "        s.src = url;\n",
       "        s.async = false;\n",
       "        s.onreadystatechange = s.onload = function() {\n",
       "          window._bokeh_is_loading--;\n",
       "          if (window._bokeh_is_loading === 0) {\n",
       "            console.log(\"Bokeh: all BokehJS libraries loaded\");\n",
       "            run_callbacks()\n",
       "          }\n",
       "        };\n",
       "        s.onerror = function() {\n",
       "          console.warn(\"failed to load library \" + url);\n",
       "        };\n",
       "        console.log(\"Bokeh: injecting script tag for BokehJS library: \", url);\n",
       "        document.getElementsByTagName(\"head\")[0].appendChild(s);\n",
       "      }\n",
       "    };var element = document.getElementById(\"8df68a22-96ce-4fc0-949c-ad7ea9271506\");\n",
       "    if (element == null) {\n",
       "      console.log(\"Bokeh: ERROR: autoload.js configured with elementid '8df68a22-96ce-4fc0-949c-ad7ea9271506' but no matching script tag was found. \")\n",
       "      return false;\n",
       "    }\n",
       "  \n",
       "    var js_urls = [];\n",
       "  \n",
       "    var inline_js = [\n",
       "      function(Bokeh) {\n",
       "        Bokeh.$(function() {\n",
       "            var docs_json = {\"c9469f1e-46ac-4b3f-98df-e250916f22bd\":{\"roots\":{\"references\":[{\"attributes\":{\"fill_alpha\":{\"value\":0.1},\"fill_color\":{\"value\":\"#1f77b4\"},\"line_alpha\":{\"value\":0.1},\"line_color\":{\"value\":\"#1f77b4\"},\"size\":{\"units\":\"screen\",\"value\":5},\"x\":{\"field\":\"x\"},\"y\":{\"field\":\"y\"}},\"id\":\"6f81f416-7665-4808-ab34-95b81055a20e\",\"type\":\"Circle\"},{\"attributes\":{\"below\":[{\"id\":\"bf0a1485-f841-4abd-8ffa-0f5c5005f6ac\",\"type\":\"LinearAxis\"}],\"left\":[{\"id\":\"b13fd1d7-a5fd-405b-83a2-dcc732704c15\",\"type\":\"LinearAxis\"}],\"plot_height\":400,\"plot_width\":400,\"renderers\":[{\"id\":\"bf0a1485-f841-4abd-8ffa-0f5c5005f6ac\",\"type\":\"LinearAxis\"},{\"id\":\"a574f772-7e96-4ae6-a101-c024a72a6177\",\"type\":\"Grid\"},{\"id\":\"b13fd1d7-a5fd-405b-83a2-dcc732704c15\",\"type\":\"LinearAxis\"},{\"id\":\"260e0c18-e38e-4cbd-829a-219654d94949\",\"type\":\"Grid\"},{\"id\":\"505117f7-a865-47eb-98eb-67503fa86d7b\",\"type\":\"BoxAnnotation\"},{\"id\":\"63f83882-3a47-416e-8b90-5d3d485c56fe\",\"type\":\"GlyphRenderer\"},{\"id\":\"5cda9e28-46e3-46ef-84a2-7c18259af9d4\",\"type\":\"GlyphRenderer\"},{\"id\":\"cf8487f6-3ec9-4eef-bfaa-5503b06feee6\",\"type\":\"Legend\"}],\"right\":[{\"id\":\"cf8487f6-3ec9-4eef-bfaa-5503b06feee6\",\"type\":\"Legend\"}],\"title\":{\"id\":\"77bff8d0-979d-4ae8-8928-cd20d3d36adc\",\"type\":\"Title\"},\"tool_events\":{\"id\":\"6eceef3b-5c24-411f-b578-7eef7a166d0c\",\"type\":\"ToolEvents\"},\"toolbar\":{\"id\":\"08d2bc9f-84e2-45c1-886a-bc55704a8aba\",\"type\":\"Toolbar\"},\"toolbar_location\":null,\"x_range\":{\"id\":\"350397a8-28aa-4a05-876b-16e71c1a59d2\",\"type\":\"DataRange1d\"},\"y_range\":{\"id\":\"6079eafe-6f1e-4c18-9abe-e3c299a8af19\",\"type\":\"DataRange1d\"}},\"id\":\"309cc2dd-3855-4197-9baa-b45ddbd9bb06\",\"subtype\":\"Figure\",\"type\":\"Plot\"},{\"attributes\":{\"plot\":{\"id\":\"309cc2dd-3855-4197-9baa-b45ddbd9bb06\",\"subtype\":\"Figure\",\"type\":\"Plot\"}},\"id\":\"9b1fbec8-d81d-46ea-b760-c5055b5ac10e\",\"type\":\"HelpTool\"},{\"attributes\":{},\"id\":\"29ec00a9-9df0-43a0-a857-d41eea7949e6\",\"type\":\"BasicTicker\"},{\"attributes\":{\"fill_color\":{\"value\":\"#1f77b4\"},\"line_color\":{\"value\":\"green\"},\"size\":{\"units\":\"screen\",\"value\":5},\"x\":{\"field\":\"x\"},\"y\":{\"field\":\"y\"}},\"id\":\"a7f06dac-2d22-47c4-a8ff-a9f490d99855\",\"type\":\"Circle\"},{\"attributes\":{\"callback\":null},\"id\":\"2de761bf-3809-474f-934c-677d09587bbc\",\"type\":\"DataRange1d\"},{\"attributes\":{\"fill_color\":{\"value\":\"#1f77b4\"},\"line_color\":{\"value\":\"blue\"},\"size\":{\"units\":\"screen\",\"value\":5},\"x\":{\"field\":\"x\"},\"y\":{\"field\":\"y\"}},\"id\":\"d7c5f204-b7bf-497c-b66a-73e522eb51f3\",\"type\":\"Circle\"},{\"attributes\":{\"plot\":{\"id\":\"9211af1d-f913-4cca-a68b-3e1e22be6ca1\",\"subtype\":\"Figure\",\"type\":\"Plot\"}},\"id\":\"6c3a0717-99f1-48aa-8194-969f8d315fd6\",\"type\":\"HelpTool\"},{\"attributes\":{\"plot\":{\"id\":\"309cc2dd-3855-4197-9baa-b45ddbd9bb06\",\"subtype\":\"Figure\",\"type\":\"Plot\"}},\"id\":\"36bc0649-d7c6-4c9e-ad3c-e823d80a7fc2\",\"type\":\"SaveTool\"},{\"attributes\":{},\"id\":\"6eceef3b-5c24-411f-b578-7eef7a166d0c\",\"type\":\"ToolEvents\"},{\"attributes\":{\"callback\":null},\"id\":\"e9549263-2e35-4b1a-a25e-0a47f62caf3f\",\"type\":\"DataRange1d\"},{\"attributes\":{\"data_source\":{\"id\":\"ecb7d0e7-fa5f-4b21-8845-ed4d9cdd56d5\",\"type\":\"ColumnDataSource\"},\"glyph\":{\"id\":\"d7c5f204-b7bf-497c-b66a-73e522eb51f3\",\"type\":\"Circle\"},\"hover_glyph\":null,\"nonselection_glyph\":{\"id\":\"72ae0e4a-f312-4bfa-90af-240a520302ed\",\"type\":\"Circle\"},\"selection_glyph\":null},\"id\":\"5cda9e28-46e3-46ef-84a2-7c18259af9d4\",\"type\":\"GlyphRenderer\"},{\"attributes\":{\"plot\":{\"id\":\"9211af1d-f913-4cca-a68b-3e1e22be6ca1\",\"subtype\":\"Figure\",\"type\":\"Plot\"},\"ticker\":{\"id\":\"c9d9939f-31a8-4b3b-9de4-73417b8a8bb0\",\"type\":\"BasicTicker\"}},\"id\":\"8ad804ee-a5d5-4574-8537-f866c0edd8d1\",\"type\":\"Grid\"},{\"attributes\":{\"overlay\":{\"id\":\"505117f7-a865-47eb-98eb-67503fa86d7b\",\"type\":\"BoxAnnotation\"},\"plot\":{\"id\":\"309cc2dd-3855-4197-9baa-b45ddbd9bb06\",\"subtype\":\"Figure\",\"type\":\"Plot\"}},\"id\":\"74616e12-8745-4755-b5cb-0c651ff0f3c7\",\"type\":\"BoxZoomTool\"},{\"attributes\":{\"items\":[{\"id\":\"c952cb88-52e7-40c5-8f02-2daf8524578c\",\"type\":\"LegendItem\"},{\"id\":\"192a678e-5c6a-459e-8507-61f8f0867868\",\"type\":\"LegendItem\"}],\"location\":[-100,-200],\"plot\":{\"id\":\"309cc2dd-3855-4197-9baa-b45ddbd9bb06\",\"subtype\":\"Figure\",\"type\":\"Plot\"}},\"id\":\"cf8487f6-3ec9-4eef-bfaa-5503b06feee6\",\"type\":\"Legend\"},{\"attributes\":{\"data_source\":{\"id\":\"eb719b30-9875-46c3-9a59-d37f3a0a0623\",\"type\":\"ColumnDataSource\"},\"glyph\":{\"id\":\"a7f06dac-2d22-47c4-a8ff-a9f490d99855\",\"type\":\"Circle\"},\"hover_glyph\":null,\"nonselection_glyph\":{\"id\":\"6f81f416-7665-4808-ab34-95b81055a20e\",\"type\":\"Circle\"},\"selection_glyph\":null},\"id\":\"63f83882-3a47-416e-8b90-5d3d485c56fe\",\"type\":\"GlyphRenderer\"},{\"attributes\":{},\"id\":\"b5022ca9-b421-41c6-a7f8-bd1030f385a5\",\"type\":\"BasicTicker\"},{\"attributes\":{},\"id\":\"e151762f-96d2-4e7c-a715-48859af86e9e\",\"type\":\"ToolEvents\"},{\"attributes\":{\"axis_label\":\"Bound\",\"formatter\":{\"id\":\"bc58b724-1ed5-424f-a342-6936a9f66661\",\"type\":\"BasicTickFormatter\"},\"plot\":{\"id\":\"9211af1d-f913-4cca-a68b-3e1e22be6ca1\",\"subtype\":\"Figure\",\"type\":\"Plot\"},\"ticker\":{\"id\":\"29ec00a9-9df0-43a0-a857-d41eea7949e6\",\"type\":\"BasicTicker\"}},\"id\":\"2636730f-5449-44fe-b8fa-7a6cb5e60952\",\"type\":\"LinearAxis\"},{\"attributes\":{\"data_source\":{\"id\":\"0e8d8268-1616-45ef-a1c0-ca9882ccc149\",\"type\":\"ColumnDataSource\"},\"glyph\":{\"id\":\"eedebbe9-48c3-4cf2-984e-ecd949b12cad\",\"type\":\"Circle\"},\"hover_glyph\":null,\"nonselection_glyph\":{\"id\":\"e6618716-ef49-424c-a752-4c714551da29\",\"type\":\"Circle\"},\"selection_glyph\":null},\"id\":\"563c0940-6e0e-4317-89ac-0637c8237e9f\",\"type\":\"GlyphRenderer\"},{\"attributes\":{\"plot\":{\"id\":\"309cc2dd-3855-4197-9baa-b45ddbd9bb06\",\"subtype\":\"Figure\",\"type\":\"Plot\"}},\"id\":\"e3e33836-cea3-4b4a-bc70-835ebaca562e\",\"type\":\"ResetTool\"},{\"attributes\":{},\"id\":\"181c78a3-f047-4c4e-a310-6c6a248a8ffc\",\"type\":\"BasicTickFormatter\"},{\"attributes\":{\"plot\":null,\"text\":\"Online\"},\"id\":\"77bff8d0-979d-4ae8-8928-cd20d3d36adc\",\"type\":\"Title\"},{\"attributes\":{},\"id\":\"1e420c45-b043-49bc-a77e-273d8aecb459\",\"type\":\"BasicTicker\"},{\"attributes\":{\"callback\":null},\"id\":\"6079eafe-6f1e-4c18-9abe-e3c299a8af19\",\"type\":\"DataRange1d\"},{\"attributes\":{\"fill_alpha\":{\"value\":0.1},\"fill_color\":{\"value\":\"#1f77b4\"},\"line_alpha\":{\"value\":0.1},\"line_color\":{\"value\":\"#1f77b4\"},\"size\":{\"units\":\"screen\",\"value\":5},\"x\":{\"field\":\"x\"},\"y\":{\"field\":\"y\"}},\"id\":\"72ae0e4a-f312-4bfa-90af-240a520302ed\",\"type\":\"Circle\"},{\"attributes\":{\"bottom_units\":\"screen\",\"fill_alpha\":{\"value\":0.5},\"fill_color\":{\"value\":\"lightgrey\"},\"left_units\":\"screen\",\"level\":\"overlay\",\"line_alpha\":{\"value\":1.0},\"line_color\":{\"value\":\"black\"},\"line_dash\":[4,4],\"line_width\":{\"value\":2},\"plot\":null,\"render_mode\":\"css\",\"right_units\":\"screen\",\"top_units\":\"screen\"},\"id\":\"505117f7-a865-47eb-98eb-67503fa86d7b\",\"type\":\"BoxAnnotation\"},{\"attributes\":{\"callback\":null,\"column_names\":[\"x\",\"y\"],\"data\":{\"x\":[19,36,52,67,82,96,112,127,142,157],\"y\":[-343000.0,-342800.0,-342600.0,-342300.0,-341700.0,-340600.0,-338800.0,-336100.0,-332600.0,-328500.0]}},\"id\":\"0e8d8268-1616-45ef-a1c0-ca9882ccc149\",\"type\":\"ColumnDataSource\"},{\"attributes\":{\"dimension\":1,\"plot\":{\"id\":\"9211af1d-f913-4cca-a68b-3e1e22be6ca1\",\"subtype\":\"Figure\",\"type\":\"Plot\"},\"ticker\":{\"id\":\"29ec00a9-9df0-43a0-a857-d41eea7949e6\",\"type\":\"BasicTicker\"}},\"id\":\"c1a9540b-e021-495d-9049-dad8f6e3fcf0\",\"type\":\"Grid\"},{\"attributes\":{\"plot\":{\"id\":\"309cc2dd-3855-4197-9baa-b45ddbd9bb06\",\"subtype\":\"Figure\",\"type\":\"Plot\"}},\"id\":\"2c82d6c3-180d-4cae-aff5-eea686f1dbd2\",\"type\":\"PanTool\"},{\"attributes\":{},\"id\":\"bc58b724-1ed5-424f-a342-6936a9f66661\",\"type\":\"BasicTickFormatter\"},{\"attributes\":{\"callback\":null,\"column_names\":[\"y\",\"x\"],\"data\":{\"x\":[1,3,4,5,6,7,8,9,9,10],\"y\":[-334300.0,-322300.0,-312800.0,-307200.0,-304100.0,-302300.0,-301100.0,-300300.0,-299700.0,-299300.0]}},\"id\":\"ecb7d0e7-fa5f-4b21-8845-ed4d9cdd56d5\",\"type\":\"ColumnDataSource\"},{\"attributes\":{},\"id\":\"c9d9939f-31a8-4b3b-9de4-73417b8a8bb0\",\"type\":\"BasicTicker\"},{\"attributes\":{\"children\":[{\"id\":\"9211af1d-f913-4cca-a68b-3e1e22be6ca1\",\"subtype\":\"Figure\",\"type\":\"Plot\"},{\"id\":\"309cc2dd-3855-4197-9baa-b45ddbd9bb06\",\"subtype\":\"Figure\",\"type\":\"Plot\"}]},\"id\":\"bf67d253-691f-4e15-b2fa-a8b515fe2f00\",\"type\":\"Row\"},{\"attributes\":{\"bottom_units\":\"screen\",\"fill_alpha\":{\"value\":0.5},\"fill_color\":{\"value\":\"lightgrey\"},\"left_units\":\"screen\",\"level\":\"overlay\",\"line_alpha\":{\"value\":1.0},\"line_color\":{\"value\":\"black\"},\"line_dash\":[4,4],\"line_width\":{\"value\":2},\"plot\":null,\"render_mode\":\"css\",\"right_units\":\"screen\",\"top_units\":\"screen\"},\"id\":\"6abb6909-804b-4c54-adc7-2a4381011174\",\"type\":\"BoxAnnotation\"},{\"attributes\":{\"fill_alpha\":{\"value\":0.1},\"fill_color\":{\"value\":\"#1f77b4\"},\"line_alpha\":{\"value\":0.1},\"line_color\":{\"value\":\"#1f77b4\"},\"size\":{\"units\":\"screen\",\"value\":5},\"x\":{\"field\":\"x\"},\"y\":{\"field\":\"y\"}},\"id\":\"e6618716-ef49-424c-a752-4c714551da29\",\"type\":\"Circle\"},{\"attributes\":{},\"id\":\"e778e877-bae2-4715-ab00-4f386a019222\",\"type\":\"BasicTickFormatter\"},{\"attributes\":{\"axis_label\":\"Time (sec)\",\"formatter\":{\"id\":\"181c78a3-f047-4c4e-a310-6c6a248a8ffc\",\"type\":\"BasicTickFormatter\"},\"plot\":{\"id\":\"309cc2dd-3855-4197-9baa-b45ddbd9bb06\",\"subtype\":\"Figure\",\"type\":\"Plot\"},\"ticker\":{\"id\":\"1e420c45-b043-49bc-a77e-273d8aecb459\",\"type\":\"BasicTicker\"}},\"id\":\"bf0a1485-f841-4abd-8ffa-0f5c5005f6ac\",\"type\":\"LinearAxis\"},{\"attributes\":{\"below\":[{\"id\":\"22582ef9-c6f1-4379-8ea7-db19d1474c12\",\"type\":\"LinearAxis\"}],\"left\":[{\"id\":\"2636730f-5449-44fe-b8fa-7a6cb5e60952\",\"type\":\"LinearAxis\"}],\"plot_height\":400,\"plot_width\":400,\"renderers\":[{\"id\":\"22582ef9-c6f1-4379-8ea7-db19d1474c12\",\"type\":\"LinearAxis\"},{\"id\":\"8ad804ee-a5d5-4574-8537-f866c0edd8d1\",\"type\":\"Grid\"},{\"id\":\"2636730f-5449-44fe-b8fa-7a6cb5e60952\",\"type\":\"LinearAxis\"},{\"id\":\"c1a9540b-e021-495d-9049-dad8f6e3fcf0\",\"type\":\"Grid\"},{\"id\":\"6abb6909-804b-4c54-adc7-2a4381011174\",\"type\":\"BoxAnnotation\"},{\"id\":\"563c0940-6e0e-4317-89ac-0637c8237e9f\",\"type\":\"GlyphRenderer\"}],\"title\":{\"id\":\"5e1021b3-1057-4679-b702-db6d7cf577fa\",\"type\":\"Title\"},\"tool_events\":{\"id\":\"e151762f-96d2-4e7c-a715-48859af86e9e\",\"type\":\"ToolEvents\"},\"toolbar\":{\"id\":\"61b4125e-a4f0-4ec3-a4e8-a5aabe391eaa\",\"type\":\"Toolbar\"},\"toolbar_location\":null,\"x_range\":{\"id\":\"e9549263-2e35-4b1a-a25e-0a47f62caf3f\",\"type\":\"DataRange1d\"},\"y_range\":{\"id\":\"2de761bf-3809-474f-934c-677d09587bbc\",\"type\":\"DataRange1d\"}},\"id\":\"9211af1d-f913-4cca-a68b-3e1e22be6ca1\",\"subtype\":\"Figure\",\"type\":\"Plot\"},{\"attributes\":{\"overlay\":{\"id\":\"6abb6909-804b-4c54-adc7-2a4381011174\",\"type\":\"BoxAnnotation\"},\"plot\":{\"id\":\"9211af1d-f913-4cca-a68b-3e1e22be6ca1\",\"subtype\":\"Figure\",\"type\":\"Plot\"}},\"id\":\"567ba83d-e196-4484-90f3-4fa5d80b5c7b\",\"type\":\"BoxZoomTool\"},{\"attributes\":{\"label\":{\"value\":\"10 iter\"},\"renderers\":[{\"id\":\"5cda9e28-46e3-46ef-84a2-7c18259af9d4\",\"type\":\"GlyphRenderer\"}]},\"id\":\"192a678e-5c6a-459e-8507-61f8f0867868\",\"type\":\"LegendItem\"},{\"attributes\":{\"callback\":null,\"column_names\":[\"y\",\"x\"],\"data\":{\"x\":[1,1,2,4,5,6,7,8,9,10],\"y\":[-347100.0,-345600.0,-341700.0,-333800.0,-324400.0,-316500.0,-311100.0,-307500.0,-305100.0,-303600.0]}},\"id\":\"eb719b30-9875-46c3-9a59-d37f3a0a0623\",\"type\":\"ColumnDataSource\"},{\"attributes\":{\"fill_color\":{\"value\":\"red\"},\"line_color\":{\"value\":\"red\"},\"size\":{\"units\":\"screen\",\"value\":5},\"x\":{\"field\":\"x\"},\"y\":{\"field\":\"y\"}},\"id\":\"eedebbe9-48c3-4cf2-984e-ecd949b12cad\",\"type\":\"Circle\"},{\"attributes\":{\"axis_label\":\"Bound\",\"formatter\":{\"id\":\"d7a8a5d8-54f7-417b-b219-3050ae8c94be\",\"type\":\"BasicTickFormatter\"},\"plot\":{\"id\":\"309cc2dd-3855-4197-9baa-b45ddbd9bb06\",\"subtype\":\"Figure\",\"type\":\"Plot\"},\"ticker\":{\"id\":\"b5022ca9-b421-41c6-a7f8-bd1030f385a5\",\"type\":\"BasicTicker\"}},\"id\":\"b13fd1d7-a5fd-405b-83a2-dcc732704c15\",\"type\":\"LinearAxis\"},{\"attributes\":{\"active_drag\":\"auto\",\"active_scroll\":\"auto\",\"active_tap\":\"auto\",\"tools\":[{\"id\":\"5ad0d07a-2e28-47c9-9b36-e42efae2755e\",\"type\":\"PanTool\"},{\"id\":\"9993affb-1f5a-4421-9fa9-4ebb2a6ec4df\",\"type\":\"WheelZoomTool\"},{\"id\":\"567ba83d-e196-4484-90f3-4fa5d80b5c7b\",\"type\":\"BoxZoomTool\"},{\"id\":\"08d9420b-342e-4c5f-b0ae-166689c932b4\",\"type\":\"SaveTool\"},{\"id\":\"26a09126-791a-42c5-b6b1-3862cb892019\",\"type\":\"ResetTool\"},{\"id\":\"6c3a0717-99f1-48aa-8194-969f8d315fd6\",\"type\":\"HelpTool\"}]},\"id\":\"61b4125e-a4f0-4ec3-a4e8-a5aabe391eaa\",\"type\":\"Toolbar\"},{\"attributes\":{\"active_drag\":\"auto\",\"active_scroll\":\"auto\",\"active_tap\":\"auto\",\"tools\":[{\"id\":\"2c82d6c3-180d-4cae-aff5-eea686f1dbd2\",\"type\":\"PanTool\"},{\"id\":\"bcc42ea3-0a7d-4aa4-9c84-308fdc9b82e5\",\"type\":\"WheelZoomTool\"},{\"id\":\"74616e12-8745-4755-b5cb-0c651ff0f3c7\",\"type\":\"BoxZoomTool\"},{\"id\":\"36bc0649-d7c6-4c9e-ad3c-e823d80a7fc2\",\"type\":\"SaveTool\"},{\"id\":\"e3e33836-cea3-4b4a-bc70-835ebaca562e\",\"type\":\"ResetTool\"},{\"id\":\"9b1fbec8-d81d-46ea-b760-c5055b5ac10e\",\"type\":\"HelpTool\"}]},\"id\":\"08d2bc9f-84e2-45c1-886a-bc55704a8aba\",\"type\":\"Toolbar\"},{\"attributes\":{\"plot\":null,\"text\":\"Offline (initial bound at -3.958e+05)\"},\"id\":\"5e1021b3-1057-4679-b702-db6d7cf577fa\",\"type\":\"Title\"},{\"attributes\":{\"callback\":null},\"id\":\"350397a8-28aa-4a05-876b-16e71c1a59d2\",\"type\":\"DataRange1d\"},{\"attributes\":{\"plot\":{\"id\":\"9211af1d-f913-4cca-a68b-3e1e22be6ca1\",\"subtype\":\"Figure\",\"type\":\"Plot\"}},\"id\":\"26a09126-791a-42c5-b6b1-3862cb892019\",\"type\":\"ResetTool\"},{\"attributes\":{\"plot\":{\"id\":\"309cc2dd-3855-4197-9baa-b45ddbd9bb06\",\"subtype\":\"Figure\",\"type\":\"Plot\"},\"ticker\":{\"id\":\"1e420c45-b043-49bc-a77e-273d8aecb459\",\"type\":\"BasicTicker\"}},\"id\":\"a574f772-7e96-4ae6-a101-c024a72a6177\",\"type\":\"Grid\"},{\"attributes\":{\"dimension\":1,\"plot\":{\"id\":\"309cc2dd-3855-4197-9baa-b45ddbd9bb06\",\"subtype\":\"Figure\",\"type\":\"Plot\"},\"ticker\":{\"id\":\"b5022ca9-b421-41c6-a7f8-bd1030f385a5\",\"type\":\"BasicTicker\"}},\"id\":\"260e0c18-e38e-4cbd-829a-219654d94949\",\"type\":\"Grid\"},{\"attributes\":{\"plot\":{\"id\":\"9211af1d-f913-4cca-a68b-3e1e22be6ca1\",\"subtype\":\"Figure\",\"type\":\"Plot\"}},\"id\":\"5ad0d07a-2e28-47c9-9b36-e42efae2755e\",\"type\":\"PanTool\"},{\"attributes\":{},\"id\":\"d7a8a5d8-54f7-417b-b219-3050ae8c94be\",\"type\":\"BasicTickFormatter\"},{\"attributes\":{\"axis_label\":\"Time (sec)\",\"formatter\":{\"id\":\"e778e877-bae2-4715-ab00-4f386a019222\",\"type\":\"BasicTickFormatter\"},\"plot\":{\"id\":\"9211af1d-f913-4cca-a68b-3e1e22be6ca1\",\"subtype\":\"Figure\",\"type\":\"Plot\"},\"ticker\":{\"id\":\"c9d9939f-31a8-4b3b-9de4-73417b8a8bb0\",\"type\":\"BasicTicker\"}},\"id\":\"22582ef9-c6f1-4379-8ea7-db19d1474c12\",\"type\":\"LinearAxis\"},{\"attributes\":{\"plot\":{\"id\":\"309cc2dd-3855-4197-9baa-b45ddbd9bb06\",\"subtype\":\"Figure\",\"type\":\"Plot\"}},\"id\":\"bcc42ea3-0a7d-4aa4-9c84-308fdc9b82e5\",\"type\":\"WheelZoomTool\"},{\"attributes\":{\"plot\":{\"id\":\"9211af1d-f913-4cca-a68b-3e1e22be6ca1\",\"subtype\":\"Figure\",\"type\":\"Plot\"}},\"id\":\"08d9420b-342e-4c5f-b0ae-166689c932b4\",\"type\":\"SaveTool\"},{\"attributes\":{\"label\":{\"value\":\"1 iter\"},\"renderers\":[{\"id\":\"63f83882-3a47-416e-8b90-5d3d485c56fe\",\"type\":\"GlyphRenderer\"}]},\"id\":\"c952cb88-52e7-40c5-8f02-2daf8524578c\",\"type\":\"LegendItem\"},{\"attributes\":{\"plot\":{\"id\":\"9211af1d-f913-4cca-a68b-3e1e22be6ca1\",\"subtype\":\"Figure\",\"type\":\"Plot\"}},\"id\":\"9993affb-1f5a-4421-9fa9-4ebb2a6ec4df\",\"type\":\"WheelZoomTool\"}],\"root_ids\":[\"bf67d253-691f-4e15-b2fa-a8b515fe2f00\"]},\"title\":\"Bokeh Application\",\"version\":\"0.12.3\"}};\n",
       "            var render_items = [{\"docid\":\"c9469f1e-46ac-4b3f-98df-e250916f22bd\",\"elementid\":\"8df68a22-96ce-4fc0-949c-ad7ea9271506\",\"modelid\":\"bf67d253-691f-4e15-b2fa-a8b515fe2f00\"}];\n",
       "            \n",
       "            Bokeh.embed.embed_items(docs_json, render_items);\n",
       "        });\n",
       "      },\n",
       "      function(Bokeh) {\n",
       "      }\n",
       "    ];\n",
       "  \n",
       "    function run_inline_js() {\n",
       "      \n",
       "      if ((window.Bokeh !== undefined) || (force === \"1\")) {\n",
       "        for (var i = 0; i < inline_js.length; i++) {\n",
       "          inline_js[i](window.Bokeh);\n",
       "        }if (force === \"1\") {\n",
       "          display_loaded();\n",
       "        }} else if (Date.now() < window._bokeh_timeout) {\n",
       "        setTimeout(run_inline_js, 100);\n",
       "      } else if (!window._bokeh_failed_load) {\n",
       "        console.log(\"Bokeh: BokehJS failed to load within specified timeout.\");\n",
       "        window._bokeh_failed_load = true;\n",
       "      } else if (!force) {\n",
       "        var cell = $(\"#8df68a22-96ce-4fc0-949c-ad7ea9271506\").parents('.cell').data().cell;\n",
       "        cell.output_area.append_execute_result(NB_LOAD_WARNING)\n",
       "      }\n",
       "  \n",
       "    }\n",
       "  \n",
       "    if (window._bokeh_is_loading === 0) {\n",
       "      console.log(\"Bokeh: BokehJS loaded, going straight to plotting\");\n",
       "      run_inline_js();\n",
       "    } else {\n",
       "      load_libs(js_urls, function() {\n",
       "        console.log(\"Bokeh: BokehJS plotting callback run at\", now());\n",
       "        run_inline_js();\n",
       "      });\n",
       "    }\n",
       "  }(this));\n",
       "</script>"
      ]
     },
     "metadata": {},
     "output_type": "display_data"
    }
   ],
   "source": [
    "p1 = figure(title=(\"Offline (initial bound at %.3e)\" % offline[0]), x_axis_label='Time (sec)', y_axis_label='Bound')\n",
    "p1.circle(offline_time[1:], offline[1:], size=5, color='red')\n",
    "p1.plot_height=400\n",
    "p1.plot_width=400\n",
    "p1.toolbar_location = None\n",
    "\n",
    "p2 = figure(title=\"Online\", x_axis_label='Time (sec)', y_axis_label='Bound')\n",
    "s1 = p2.circle(online_1iter_time[1:], online_1iter[1:], size=5, line_color='green')\n",
    "s2 = p2.circle(online_10iter_time[1:], online_10iter[1:], size=5, line_color='blue')\n",
    "p2.plot_height=400\n",
    "p2.plot_width=400\n",
    "p2.toolbar_location = None\n",
    "\n",
    "legend = Legend(items=[('1 iter', [s1]), ('10 iter', [s2])], location=(-100, -200))\n",
    "p2.add_layout(legend, 'right')\n",
    "\n",
    "p3 = Row(p1, p2)\n",
    "\n",
    "show(p3)"
   ]
  },
  {
   "cell_type": "markdown",
   "metadata": {},
   "source": [
    "### 100 iterations (passes)"
   ]
  },
  {
   "cell_type": "code",
   "execution_count": 11,
   "metadata": {
    "collapsed": true
   },
   "outputs": [],
   "source": [
    "# NOTE: the times of both offline and online are *without* vectorization!\n",
    "\n",
    "offline = [-3.957e+05, -3.304e+05, -3.049e+05, -3.005e+05, -2.989e+05, -2.981e+05, -2.976e+05, -2.973e+05, -2.970e+05, -2.968e+05, -2.966e+05]\n",
    "\n",
    "online_1iter = [-3.957e+05, -3.072e+05, -3.008e+05, -2.997e+05, -2.991e+05, -2.986e+05, -2.983e+05, -2.981e+05, -2.979e+05, -2.977e+05, -2.976e+05]\n",
    "\n",
    "online_10iter = [-3.957e+05, -3.001e+05, -2.975e+05, -2.965e+05, -2.961e+05, -2.958e+05, -2.955e+05, -2.954e+05, -2.953e+05, -2.952e+05, -2.951e+05]"
   ]
  },
  {
   "cell_type": "code",
   "execution_count": 12,
   "metadata": {
    "collapsed": false
   },
   "outputs": [],
   "source": [
    "offline_time = [38 * 60 + 8, 40 * 60 + 18, 42 * 60 + 36, 44 * 60 + 44, 46 * 60 + 57, 49 * 60 + 12, 51 * 60 + 19, 53 * 60 + 29, 55 * 60 + 40, 57 * 60 + 56, 60 * 60 + 6]\n",
    "offline_time = np.array(offline_time) - offline_time[0]\n",
    "\n",
    "online_1iter_time = [3 * 60 + 36, 3 * 60 + 59, 4 * 60 + 20, 4 * 60 + 43, 5 * 60 + 6, 5 * 60 + 28, 5 * 60 + 51, 6 * 60 + 14, 6 * 60 + 36, 6 * 60 + 56, 7 * 60 + 16]\n",
    "online_1iter_time = np.array(online_1iter_time) - online_1iter_time[0]\n",
    "\n",
    "online_10iter_time = [8 * 60 + 1, 10 * 60 + 28, 12 * 60 + 50, 15 * 60 + 15, 17 * 60 + 40, 20 * 60 + 10, 22 * 60 + 35, 25 * 60 + 7, 27 * 60 + 31, 29 * 60 + 54, 32 * 60 + 13]\n",
    "online_10iter_time = np.array(online_10iter_time) - online_10iter_time[0]"
   ]
  },
  {
   "cell_type": "code",
   "execution_count": 13,
   "metadata": {
    "collapsed": false
   },
   "outputs": [],
   "source": [
    "iterations = range(0, 100, 10)"
   ]
  },
  {
   "cell_type": "code",
   "execution_count": 14,
   "metadata": {
    "collapsed": false
   },
   "outputs": [
    {
     "data": {
      "text/html": [
       "\n",
       "\n",
       "    <div class=\"bk-root\">\n",
       "        <div class=\"plotdiv\" id=\"33193769-e652-434b-bb3a-130a98dcc493\"></div>\n",
       "    </div>\n",
       "<script type=\"text/javascript\">\n",
       "  \n",
       "  (function(global) {\n",
       "    function now() {\n",
       "      return new Date();\n",
       "    }\n",
       "  \n",
       "    var force = \"\";\n",
       "  \n",
       "    if (typeof (window._bokeh_onload_callbacks) === \"undefined\" || force !== \"\") {\n",
       "      window._bokeh_onload_callbacks = [];\n",
       "      window._bokeh_is_loading = undefined;\n",
       "    }\n",
       "  \n",
       "  \n",
       "    \n",
       "    if (typeof (window._bokeh_timeout) === \"undefined\" || force !== \"\") {\n",
       "      window._bokeh_timeout = Date.now() + 0;\n",
       "      window._bokeh_failed_load = false;\n",
       "    }\n",
       "  \n",
       "    var NB_LOAD_WARNING = {'data': {'text/html':\n",
       "       \"<div style='background-color: #fdd'>\\n\"+\n",
       "       \"<p>\\n\"+\n",
       "       \"BokehJS does not appear to have successfully loaded. If loading BokehJS from CDN, this \\n\"+\n",
       "       \"may be due to a slow or bad network connection. Possible fixes:\\n\"+\n",
       "       \"</p>\\n\"+\n",
       "       \"<ul>\\n\"+\n",
       "       \"<li>re-rerun `output_notebook()` to attempt to load from CDN again, or</li>\\n\"+\n",
       "       \"<li>use INLINE resources instead, as so:</li>\\n\"+\n",
       "       \"</ul>\\n\"+\n",
       "       \"<code>\\n\"+\n",
       "       \"from bokeh.resources import INLINE\\n\"+\n",
       "       \"output_notebook(resources=INLINE)\\n\"+\n",
       "       \"</code>\\n\"+\n",
       "       \"</div>\"}};\n",
       "  \n",
       "    function display_loaded() {\n",
       "      if (window.Bokeh !== undefined) {\n",
       "        Bokeh.$(\"#33193769-e652-434b-bb3a-130a98dcc493\").text(\"BokehJS successfully loaded.\");\n",
       "      } else if (Date.now() < window._bokeh_timeout) {\n",
       "        setTimeout(display_loaded, 100)\n",
       "      }\n",
       "    }\n",
       "  \n",
       "    function run_callbacks() {\n",
       "      window._bokeh_onload_callbacks.forEach(function(callback) { callback() });\n",
       "      delete window._bokeh_onload_callbacks\n",
       "      console.info(\"Bokeh: all callbacks have finished\");\n",
       "    }\n",
       "  \n",
       "    function load_libs(js_urls, callback) {\n",
       "      window._bokeh_onload_callbacks.push(callback);\n",
       "      if (window._bokeh_is_loading > 0) {\n",
       "        console.log(\"Bokeh: BokehJS is being loaded, scheduling callback at\", now());\n",
       "        return null;\n",
       "      }\n",
       "      if (js_urls == null || js_urls.length === 0) {\n",
       "        run_callbacks();\n",
       "        return null;\n",
       "      }\n",
       "      console.log(\"Bokeh: BokehJS not loaded, scheduling load and callback at\", now());\n",
       "      window._bokeh_is_loading = js_urls.length;\n",
       "      for (var i = 0; i < js_urls.length; i++) {\n",
       "        var url = js_urls[i];\n",
       "        var s = document.createElement('script');\n",
       "        s.src = url;\n",
       "        s.async = false;\n",
       "        s.onreadystatechange = s.onload = function() {\n",
       "          window._bokeh_is_loading--;\n",
       "          if (window._bokeh_is_loading === 0) {\n",
       "            console.log(\"Bokeh: all BokehJS libraries loaded\");\n",
       "            run_callbacks()\n",
       "          }\n",
       "        };\n",
       "        s.onerror = function() {\n",
       "          console.warn(\"failed to load library \" + url);\n",
       "        };\n",
       "        console.log(\"Bokeh: injecting script tag for BokehJS library: \", url);\n",
       "        document.getElementsByTagName(\"head\")[0].appendChild(s);\n",
       "      }\n",
       "    };var element = document.getElementById(\"33193769-e652-434b-bb3a-130a98dcc493\");\n",
       "    if (element == null) {\n",
       "      console.log(\"Bokeh: ERROR: autoload.js configured with elementid '33193769-e652-434b-bb3a-130a98dcc493' but no matching script tag was found. \")\n",
       "      return false;\n",
       "    }\n",
       "  \n",
       "    var js_urls = [];\n",
       "  \n",
       "    var inline_js = [\n",
       "      function(Bokeh) {\n",
       "        Bokeh.$(function() {\n",
       "            var docs_json = {\"c38c5e54-4b7b-4daf-a8db-d84d48823f1c\":{\"roots\":{\"references\":[{\"attributes\":{},\"id\":\"02e3469c-877f-4ecd-a3e8-6a8fb5c4baae\",\"type\":\"ToolEvents\"},{\"attributes\":{\"below\":[{\"id\":\"cfe299ce-85e6-4c2a-9152-b3d13e6fa559\",\"type\":\"LinearAxis\"}],\"left\":[{\"id\":\"77736b65-ded1-452c-8d03-49f660616123\",\"type\":\"LinearAxis\"}],\"plot_height\":400,\"renderers\":[{\"id\":\"cfe299ce-85e6-4c2a-9152-b3d13e6fa559\",\"type\":\"LinearAxis\"},{\"id\":\"5d7c9e21-6db0-413a-8195-2a0a6e201f30\",\"type\":\"Grid\"},{\"id\":\"77736b65-ded1-452c-8d03-49f660616123\",\"type\":\"LinearAxis\"},{\"id\":\"1dc64a68-8759-460a-8f36-35b9e40ead2e\",\"type\":\"Grid\"},{\"id\":\"bc171636-c3cd-4382-ae21-99fefe5856a0\",\"type\":\"BoxAnnotation\"},{\"id\":\"310ff83b-9753-4ba5-a2f2-58ed95fe1796\",\"type\":\"GlyphRenderer\"},{\"id\":\"236d20b3-0277-4311-a936-c6348d18be1c\",\"type\":\"GlyphRenderer\"},{\"id\":\"a966b3ab-9082-4de0-981d-642328dd9eba\",\"type\":\"GlyphRenderer\"},{\"id\":\"ed7512ce-279d-4c24-9b5d-60389e4d40af\",\"type\":\"Legend\"}],\"right\":[{\"id\":\"ed7512ce-279d-4c24-9b5d-60389e4d40af\",\"type\":\"Legend\"}],\"title\":{\"id\":\"2b8a9b77-5561-4b50-a0be-82d36d77c9be\",\"type\":\"Title\"},\"tool_events\":{\"id\":\"02e3469c-877f-4ecd-a3e8-6a8fb5c4baae\",\"type\":\"ToolEvents\"},\"toolbar\":{\"id\":\"067315f5-999b-41a8-8e8e-95efc98edd4c\",\"type\":\"Toolbar\"},\"x_range\":{\"id\":\"892ab179-32bc-4269-8158-ba8ab27a0bc9\",\"type\":\"DataRange1d\"},\"y_range\":{\"id\":\"1452f9d7-98a0-4ea8-b6b6-92946e224898\",\"type\":\"DataRange1d\"}},\"id\":\"6481f47a-918f-4012-8982-36f50e6e7b65\",\"subtype\":\"Figure\",\"type\":\"Plot\"},{\"attributes\":{\"plot\":{\"id\":\"6481f47a-918f-4012-8982-36f50e6e7b65\",\"subtype\":\"Figure\",\"type\":\"Plot\"}},\"id\":\"d8781896-f68d-4fcb-a746-6a64b5c9fe0e\",\"type\":\"ResetTool\"},{\"attributes\":{\"active_drag\":\"auto\",\"active_scroll\":\"auto\",\"active_tap\":\"auto\",\"tools\":[{\"id\":\"d15747df-7f3b-4ad5-81d1-7587781977bc\",\"type\":\"PanTool\"},{\"id\":\"3f998136-cdb3-4154-b64e-6f2199b56863\",\"type\":\"WheelZoomTool\"},{\"id\":\"f51910bd-d301-4f37-9ae8-cc340a17408c\",\"type\":\"BoxZoomTool\"},{\"id\":\"60513a8f-79a5-41e5-aa34-1d7decac6e07\",\"type\":\"SaveTool\"},{\"id\":\"d8781896-f68d-4fcb-a746-6a64b5c9fe0e\",\"type\":\"ResetTool\"},{\"id\":\"299fe556-9284-4c73-b8af-e62b091379c6\",\"type\":\"HelpTool\"}]},\"id\":\"067315f5-999b-41a8-8e8e-95efc98edd4c\",\"type\":\"Toolbar\"},{\"attributes\":{},\"id\":\"8e704640-1e39-4b19-8f2b-4ec96fb0bf07\",\"type\":\"BasicTicker\"},{\"attributes\":{\"plot\":{\"id\":\"6481f47a-918f-4012-8982-36f50e6e7b65\",\"subtype\":\"Figure\",\"type\":\"Plot\"}},\"id\":\"299fe556-9284-4c73-b8af-e62b091379c6\",\"type\":\"HelpTool\"},{\"attributes\":{\"axis_label\":\"Bound\",\"formatter\":{\"id\":\"4440ccab-a715-4643-afa5-266ccf2763e4\",\"type\":\"BasicTickFormatter\"},\"plot\":{\"id\":\"6481f47a-918f-4012-8982-36f50e6e7b65\",\"subtype\":\"Figure\",\"type\":\"Plot\"},\"ticker\":{\"id\":\"8e704640-1e39-4b19-8f2b-4ec96fb0bf07\",\"type\":\"BasicTicker\"}},\"id\":\"77736b65-ded1-452c-8d03-49f660616123\",\"type\":\"LinearAxis\"},{\"attributes\":{\"label\":{\"value\":\"online 10 iter\"},\"renderers\":[{\"id\":\"a966b3ab-9082-4de0-981d-642328dd9eba\",\"type\":\"GlyphRenderer\"}]},\"id\":\"7c582397-b15f-49f2-9c47-47975ef8ab6d\",\"type\":\"LegendItem\"},{\"attributes\":{},\"id\":\"4440ccab-a715-4643-afa5-266ccf2763e4\",\"type\":\"BasicTickFormatter\"},{\"attributes\":{\"data_source\":{\"id\":\"e0e2a330-25a1-41bc-b5c5-92ec066cc096\",\"type\":\"ColumnDataSource\"},\"glyph\":{\"id\":\"b42325ed-dd82-4e45-9c61-872ae2676f59\",\"type\":\"Circle\"},\"hover_glyph\":null,\"nonselection_glyph\":{\"id\":\"a8a0b37d-c8cc-41a3-8a30-236a7c63b91b\",\"type\":\"Circle\"},\"selection_glyph\":null},\"id\":\"310ff83b-9753-4ba5-a2f2-58ed95fe1796\",\"type\":\"GlyphRenderer\"},{\"attributes\":{\"plot\":{\"id\":\"6481f47a-918f-4012-8982-36f50e6e7b65\",\"subtype\":\"Figure\",\"type\":\"Plot\"},\"ticker\":{\"id\":\"d6673976-f86e-45d4-8671-f125e7d1eff6\",\"type\":\"BasicTicker\"}},\"id\":\"5d7c9e21-6db0-413a-8195-2a0a6e201f30\",\"type\":\"Grid\"},{\"attributes\":{\"bottom_units\":\"screen\",\"fill_alpha\":{\"value\":0.5},\"fill_color\":{\"value\":\"lightgrey\"},\"left_units\":\"screen\",\"level\":\"overlay\",\"line_alpha\":{\"value\":1.0},\"line_color\":{\"value\":\"black\"},\"line_dash\":[4,4],\"line_width\":{\"value\":2},\"plot\":null,\"render_mode\":\"css\",\"right_units\":\"screen\",\"top_units\":\"screen\"},\"id\":\"bc171636-c3cd-4382-ae21-99fefe5856a0\",\"type\":\"BoxAnnotation\"},{\"attributes\":{\"callback\":null},\"id\":\"1452f9d7-98a0-4ea8-b6b6-92946e224898\",\"type\":\"DataRange1d\"},{\"attributes\":{\"fill_alpha\":{\"value\":0.1},\"fill_color\":{\"value\":\"#1f77b4\"},\"line_alpha\":{\"value\":0.1},\"line_color\":{\"value\":\"#1f77b4\"},\"size\":{\"units\":\"screen\",\"value\":5},\"x\":{\"field\":\"x\"},\"y\":{\"field\":\"y\"}},\"id\":\"a8a0b37d-c8cc-41a3-8a30-236a7c63b91b\",\"type\":\"Circle\"},{\"attributes\":{\"fill_alpha\":{\"value\":0.1},\"fill_color\":{\"value\":\"#1f77b4\"},\"line_alpha\":{\"value\":0.1},\"line_color\":{\"value\":\"#1f77b4\"},\"size\":{\"units\":\"screen\",\"value\":5},\"x\":{\"field\":\"x\"},\"y\":{\"field\":\"y\"}},\"id\":\"e2dbff20-d5e3-47de-b1be-c1e23bbcc8c9\",\"type\":\"Circle\"},{\"attributes\":{\"overlay\":{\"id\":\"bc171636-c3cd-4382-ae21-99fefe5856a0\",\"type\":\"BoxAnnotation\"},\"plot\":{\"id\":\"6481f47a-918f-4012-8982-36f50e6e7b65\",\"subtype\":\"Figure\",\"type\":\"Plot\"}},\"id\":\"f51910bd-d301-4f37-9ae8-cc340a17408c\",\"type\":\"BoxZoomTool\"},{\"attributes\":{\"fill_alpha\":{\"value\":0.1},\"fill_color\":{\"value\":\"#1f77b4\"},\"line_alpha\":{\"value\":0.1},\"line_color\":{\"value\":\"#1f77b4\"},\"size\":{\"units\":\"screen\",\"value\":5},\"x\":{\"field\":\"x\"},\"y\":{\"field\":\"y\"}},\"id\":\"ec147a19-f672-40af-b7e1-794a93a4a15e\",\"type\":\"Circle\"},{\"attributes\":{\"fill_color\":{\"value\":\"green\"},\"line_color\":{\"value\":\"green\"},\"size\":{\"units\":\"screen\",\"value\":5},\"x\":{\"field\":\"x\"},\"y\":{\"field\":\"y\"}},\"id\":\"7a63d52a-5ad0-4aaf-a4b8-c2bdd595f0f1\",\"type\":\"Circle\"},{\"attributes\":{\"axis_label\":\"Iteration (pass)\",\"formatter\":{\"id\":\"e49ae694-e2d1-432b-8ec2-6d908a6ced97\",\"type\":\"BasicTickFormatter\"},\"plot\":{\"id\":\"6481f47a-918f-4012-8982-36f50e6e7b65\",\"subtype\":\"Figure\",\"type\":\"Plot\"},\"ticker\":{\"id\":\"d6673976-f86e-45d4-8671-f125e7d1eff6\",\"type\":\"BasicTicker\"}},\"id\":\"cfe299ce-85e6-4c2a-9152-b3d13e6fa559\",\"type\":\"LinearAxis\"},{\"attributes\":{\"dimension\":1,\"plot\":{\"id\":\"6481f47a-918f-4012-8982-36f50e6e7b65\",\"subtype\":\"Figure\",\"type\":\"Plot\"},\"ticker\":{\"id\":\"8e704640-1e39-4b19-8f2b-4ec96fb0bf07\",\"type\":\"BasicTicker\"}},\"id\":\"1dc64a68-8759-460a-8f36-35b9e40ead2e\",\"type\":\"Grid\"},{\"attributes\":{\"callback\":null},\"id\":\"892ab179-32bc-4269-8158-ba8ab27a0bc9\",\"type\":\"DataRange1d\"},{\"attributes\":{\"plot\":{\"id\":\"6481f47a-918f-4012-8982-36f50e6e7b65\",\"subtype\":\"Figure\",\"type\":\"Plot\"}},\"id\":\"3f998136-cdb3-4154-b64e-6f2199b56863\",\"type\":\"WheelZoomTool\"},{\"attributes\":{\"items\":[{\"id\":\"9a2a53e6-6503-4e79-83e8-203c763da668\",\"type\":\"LegendItem\"},{\"id\":\"14e6f89f-23f3-404e-9cfa-493c85aac217\",\"type\":\"LegendItem\"},{\"id\":\"7c582397-b15f-49f2-9c47-47975ef8ab6d\",\"type\":\"LegendItem\"}],\"location\":[-150,-200],\"plot\":{\"id\":\"6481f47a-918f-4012-8982-36f50e6e7b65\",\"subtype\":\"Figure\",\"type\":\"Plot\"}},\"id\":\"ed7512ce-279d-4c24-9b5d-60389e4d40af\",\"type\":\"Legend\"},{\"attributes\":{\"plot\":{\"id\":\"6481f47a-918f-4012-8982-36f50e6e7b65\",\"subtype\":\"Figure\",\"type\":\"Plot\"}},\"id\":\"d15747df-7f3b-4ad5-81d1-7587781977bc\",\"type\":\"PanTool\"},{\"attributes\":{\"label\":{\"value\":\"online 1 iter\"},\"renderers\":[{\"id\":\"236d20b3-0277-4311-a936-c6348d18be1c\",\"type\":\"GlyphRenderer\"}]},\"id\":\"14e6f89f-23f3-404e-9cfa-493c85aac217\",\"type\":\"LegendItem\"},{\"attributes\":{\"fill_color\":{\"value\":\"red\"},\"line_color\":{\"value\":\"red\"},\"size\":{\"units\":\"screen\",\"value\":5},\"x\":{\"field\":\"x\"},\"y\":{\"field\":\"y\"}},\"id\":\"b42325ed-dd82-4e45-9c61-872ae2676f59\",\"type\":\"Circle\"},{\"attributes\":{\"data_source\":{\"id\":\"5ca14269-4aa8-4abf-ae27-d2151e0fc7be\",\"type\":\"ColumnDataSource\"},\"glyph\":{\"id\":\"0a23b5cd-558b-48df-a866-d40eeacd0c78\",\"type\":\"Circle\"},\"hover_glyph\":null,\"nonselection_glyph\":{\"id\":\"ec147a19-f672-40af-b7e1-794a93a4a15e\",\"type\":\"Circle\"},\"selection_glyph\":null},\"id\":\"a966b3ab-9082-4de0-981d-642328dd9eba\",\"type\":\"GlyphRenderer\"},{\"attributes\":{\"plot\":{\"id\":\"6481f47a-918f-4012-8982-36f50e6e7b65\",\"subtype\":\"Figure\",\"type\":\"Plot\"}},\"id\":\"60513a8f-79a5-41e5-aa34-1d7decac6e07\",\"type\":\"SaveTool\"},{\"attributes\":{\"callback\":null,\"column_names\":[\"x\",\"y\"],\"data\":{\"x\":[10,20,30,40,50,60,70,80,90],\"y\":[-330400.0,-304900.0,-300500.0,-298900.0,-298100.0,-297600.0,-297300.0,-297000.0,-296800.0,-296600.0]}},\"id\":\"e0e2a330-25a1-41bc-b5c5-92ec066cc096\",\"type\":\"ColumnDataSource\"},{\"attributes\":{\"fill_color\":{\"value\":\"blue\"},\"line_color\":{\"value\":\"blue\"},\"size\":{\"units\":\"screen\",\"value\":5},\"x\":{\"field\":\"x\"},\"y\":{\"field\":\"y\"}},\"id\":\"0a23b5cd-558b-48df-a866-d40eeacd0c78\",\"type\":\"Circle\"},{\"attributes\":{\"callback\":null,\"column_names\":[\"x\",\"y\"],\"data\":{\"x\":[10,20,30,40,50,60,70,80,90],\"y\":[-307200.0,-300800.0,-299700.0,-299100.0,-298600.0,-298300.0,-298100.0,-297900.0,-297700.0,-297600.0]}},\"id\":\"7285b872-51b8-4c99-b1a4-71e1c1848ab2\",\"type\":\"ColumnDataSource\"},{\"attributes\":{\"plot\":null,\"text\":\"Variational lower bound\"},\"id\":\"2b8a9b77-5561-4b50-a0be-82d36d77c9be\",\"type\":\"Title\"},{\"attributes\":{\"callback\":null,\"column_names\":[\"x\",\"y\"],\"data\":{\"x\":[10,20,30,40,50,60,70,80,90],\"y\":[-300100.0,-297500.0,-296500.0,-296100.0,-295800.0,-295500.0,-295400.0,-295300.0,-295200.0,-295100.0]}},\"id\":\"5ca14269-4aa8-4abf-ae27-d2151e0fc7be\",\"type\":\"ColumnDataSource\"},{\"attributes\":{\"data_source\":{\"id\":\"7285b872-51b8-4c99-b1a4-71e1c1848ab2\",\"type\":\"ColumnDataSource\"},\"glyph\":{\"id\":\"7a63d52a-5ad0-4aaf-a4b8-c2bdd595f0f1\",\"type\":\"Circle\"},\"hover_glyph\":null,\"nonselection_glyph\":{\"id\":\"e2dbff20-d5e3-47de-b1be-c1e23bbcc8c9\",\"type\":\"Circle\"},\"selection_glyph\":null},\"id\":\"236d20b3-0277-4311-a936-c6348d18be1c\",\"type\":\"GlyphRenderer\"},{\"attributes\":{\"label\":{\"value\":\"offline\"},\"renderers\":[{\"id\":\"310ff83b-9753-4ba5-a2f2-58ed95fe1796\",\"type\":\"GlyphRenderer\"}]},\"id\":\"9a2a53e6-6503-4e79-83e8-203c763da668\",\"type\":\"LegendItem\"},{\"attributes\":{},\"id\":\"e49ae694-e2d1-432b-8ec2-6d908a6ced97\",\"type\":\"BasicTickFormatter\"},{\"attributes\":{},\"id\":\"d6673976-f86e-45d4-8671-f125e7d1eff6\",\"type\":\"BasicTicker\"}],\"root_ids\":[\"6481f47a-918f-4012-8982-36f50e6e7b65\"]},\"title\":\"Bokeh Application\",\"version\":\"0.12.3\"}};\n",
       "            var render_items = [{\"docid\":\"c38c5e54-4b7b-4daf-a8db-d84d48823f1c\",\"elementid\":\"33193769-e652-434b-bb3a-130a98dcc493\",\"modelid\":\"6481f47a-918f-4012-8982-36f50e6e7b65\"}];\n",
       "            \n",
       "            Bokeh.embed.embed_items(docs_json, render_items);\n",
       "        });\n",
       "      },\n",
       "      function(Bokeh) {\n",
       "      }\n",
       "    ];\n",
       "  \n",
       "    function run_inline_js() {\n",
       "      \n",
       "      if ((window.Bokeh !== undefined) || (force === \"1\")) {\n",
       "        for (var i = 0; i < inline_js.length; i++) {\n",
       "          inline_js[i](window.Bokeh);\n",
       "        }if (force === \"1\") {\n",
       "          display_loaded();\n",
       "        }} else if (Date.now() < window._bokeh_timeout) {\n",
       "        setTimeout(run_inline_js, 100);\n",
       "      } else if (!window._bokeh_failed_load) {\n",
       "        console.log(\"Bokeh: BokehJS failed to load within specified timeout.\");\n",
       "        window._bokeh_failed_load = true;\n",
       "      } else if (!force) {\n",
       "        var cell = $(\"#33193769-e652-434b-bb3a-130a98dcc493\").parents('.cell').data().cell;\n",
       "        cell.output_area.append_execute_result(NB_LOAD_WARNING)\n",
       "      }\n",
       "  \n",
       "    }\n",
       "  \n",
       "    if (window._bokeh_is_loading === 0) {\n",
       "      console.log(\"Bokeh: BokehJS loaded, going straight to plotting\");\n",
       "      run_inline_js();\n",
       "    } else {\n",
       "      load_libs(js_urls, function() {\n",
       "        console.log(\"Bokeh: BokehJS plotting callback run at\", now());\n",
       "        run_inline_js();\n",
       "      });\n",
       "    }\n",
       "  }(this));\n",
       "</script>"
      ]
     },
     "metadata": {},
     "output_type": "display_data"
    }
   ],
   "source": [
    "p = figure(title=\"Variational lower bound\", x_axis_label='Iteration (pass)', y_axis_label='Bound')\n",
    "s1 = p.circle(iterations[1:], offline[1:], size=5, color='red')\n",
    "s2 = p.circle(iterations[1:], online_1iter[1:], size=5, color='green')\n",
    "s3 = p.circle(iterations[1:], online_10iter[1:],size=5, color='blue')\n",
    "p.plot_height=400\n",
    "p.plot_width=600\n",
    "#p.toolbar_location = None\n",
    "\n",
    "legend = Legend(items=[('offline', [s1]), ('online 1 iter', [s2]), ('online 10 iter', [s3])], location=(-150, -200))\n",
    "p.add_layout(legend, 'right')\n",
    "\n",
    "show(p)"
   ]
  },
  {
   "cell_type": "code",
   "execution_count": 54,
   "metadata": {
    "collapsed": false
   },
   "outputs": [
    {
     "data": {
      "text/html": [
       "\n",
       "\n",
       "    <div class=\"bk-root\">\n",
       "        <div class=\"plotdiv\" id=\"e35c4255-7129-47da-88f9-bf61790ba137\"></div>\n",
       "    </div>\n",
       "<script type=\"text/javascript\">\n",
       "  \n",
       "  (function(global) {\n",
       "    function now() {\n",
       "      return new Date();\n",
       "    }\n",
       "  \n",
       "    var force = \"\";\n",
       "  \n",
       "    if (typeof (window._bokeh_onload_callbacks) === \"undefined\" || force !== \"\") {\n",
       "      window._bokeh_onload_callbacks = [];\n",
       "      window._bokeh_is_loading = undefined;\n",
       "    }\n",
       "  \n",
       "  \n",
       "    \n",
       "    if (typeof (window._bokeh_timeout) === \"undefined\" || force !== \"\") {\n",
       "      window._bokeh_timeout = Date.now() + 0;\n",
       "      window._bokeh_failed_load = false;\n",
       "    }\n",
       "  \n",
       "    var NB_LOAD_WARNING = {'data': {'text/html':\n",
       "       \"<div style='background-color: #fdd'>\\n\"+\n",
       "       \"<p>\\n\"+\n",
       "       \"BokehJS does not appear to have successfully loaded. If loading BokehJS from CDN, this \\n\"+\n",
       "       \"may be due to a slow or bad network connection. Possible fixes:\\n\"+\n",
       "       \"</p>\\n\"+\n",
       "       \"<ul>\\n\"+\n",
       "       \"<li>re-rerun `output_notebook()` to attempt to load from CDN again, or</li>\\n\"+\n",
       "       \"<li>use INLINE resources instead, as so:</li>\\n\"+\n",
       "       \"</ul>\\n\"+\n",
       "       \"<code>\\n\"+\n",
       "       \"from bokeh.resources import INLINE\\n\"+\n",
       "       \"output_notebook(resources=INLINE)\\n\"+\n",
       "       \"</code>\\n\"+\n",
       "       \"</div>\"}};\n",
       "  \n",
       "    function display_loaded() {\n",
       "      if (window.Bokeh !== undefined) {\n",
       "        Bokeh.$(\"#e35c4255-7129-47da-88f9-bf61790ba137\").text(\"BokehJS successfully loaded.\");\n",
       "      } else if (Date.now() < window._bokeh_timeout) {\n",
       "        setTimeout(display_loaded, 100)\n",
       "      }\n",
       "    }\n",
       "  \n",
       "    function run_callbacks() {\n",
       "      window._bokeh_onload_callbacks.forEach(function(callback) { callback() });\n",
       "      delete window._bokeh_onload_callbacks\n",
       "      console.info(\"Bokeh: all callbacks have finished\");\n",
       "    }\n",
       "  \n",
       "    function load_libs(js_urls, callback) {\n",
       "      window._bokeh_onload_callbacks.push(callback);\n",
       "      if (window._bokeh_is_loading > 0) {\n",
       "        console.log(\"Bokeh: BokehJS is being loaded, scheduling callback at\", now());\n",
       "        return null;\n",
       "      }\n",
       "      if (js_urls == null || js_urls.length === 0) {\n",
       "        run_callbacks();\n",
       "        return null;\n",
       "      }\n",
       "      console.log(\"Bokeh: BokehJS not loaded, scheduling load and callback at\", now());\n",
       "      window._bokeh_is_loading = js_urls.length;\n",
       "      for (var i = 0; i < js_urls.length; i++) {\n",
       "        var url = js_urls[i];\n",
       "        var s = document.createElement('script');\n",
       "        s.src = url;\n",
       "        s.async = false;\n",
       "        s.onreadystatechange = s.onload = function() {\n",
       "          window._bokeh_is_loading--;\n",
       "          if (window._bokeh_is_loading === 0) {\n",
       "            console.log(\"Bokeh: all BokehJS libraries loaded\");\n",
       "            run_callbacks()\n",
       "          }\n",
       "        };\n",
       "        s.onerror = function() {\n",
       "          console.warn(\"failed to load library \" + url);\n",
       "        };\n",
       "        console.log(\"Bokeh: injecting script tag for BokehJS library: \", url);\n",
       "        document.getElementsByTagName(\"head\")[0].appendChild(s);\n",
       "      }\n",
       "    };var element = document.getElementById(\"e35c4255-7129-47da-88f9-bf61790ba137\");\n",
       "    if (element == null) {\n",
       "      console.log(\"Bokeh: ERROR: autoload.js configured with elementid 'e35c4255-7129-47da-88f9-bf61790ba137' but no matching script tag was found. \")\n",
       "      return false;\n",
       "    }\n",
       "  \n",
       "    var js_urls = [];\n",
       "  \n",
       "    var inline_js = [\n",
       "      function(Bokeh) {\n",
       "        Bokeh.$(function() {\n",
       "            var docs_json = {\"7a122602-6f94-4ca4-8e38-2d1607e499e9\":{\"roots\":{\"references\":[{\"attributes\":{\"active_drag\":\"auto\",\"active_scroll\":\"auto\",\"active_tap\":\"auto\",\"tools\":[{\"id\":\"c97139ea-e4d4-4a69-a99f-8e0b67cbed76\",\"type\":\"PanTool\"},{\"id\":\"3491fa98-41b2-4d3b-8188-ad6e4a498240\",\"type\":\"WheelZoomTool\"},{\"id\":\"14bbd59b-1bd0-4a60-bb1b-ff54e38be8dc\",\"type\":\"BoxZoomTool\"},{\"id\":\"f6e8bcb9-9c57-4638-987d-608d74791f9f\",\"type\":\"SaveTool\"},{\"id\":\"54f74dfc-e600-45b1-9bb5-16635da88fc2\",\"type\":\"ResetTool\"},{\"id\":\"2c27902f-e7d0-47e2-8c6b-2c387128aff5\",\"type\":\"HelpTool\"}]},\"id\":\"d7b02829-20e9-4da2-ab4a-3640f1db7825\",\"type\":\"Toolbar\"},{\"attributes\":{\"callback\":null},\"id\":\"3ea12cfa-5e99-40b7-bb64-e808abb6f580\",\"type\":\"DataRange1d\"},{\"attributes\":{\"plot\":null,\"text\":\"Offline\"},\"id\":\"2074bfed-48a9-4469-99d5-e4c74ca7abac\",\"type\":\"Title\"},{\"attributes\":{},\"id\":\"d0e853ae-b108-4fed-b21d-6a730ace8ba8\",\"type\":\"BasicTicker\"},{\"attributes\":{\"callback\":null},\"id\":\"14d5df50-c4db-4cc6-8820-df44528ef7bc\",\"type\":\"DataRange1d\"},{\"attributes\":{},\"id\":\"6b61ce70-0dd4-484c-adb4-5dcba609c2f1\",\"type\":\"ToolEvents\"},{\"attributes\":{\"plot\":{\"id\":\"ec3c6f49-2227-42dd-acc9-6d5c47a0086a\",\"subtype\":\"Figure\",\"type\":\"Plot\"}},\"id\":\"c9fc71ea-6523-420f-b02d-06a9d129800b\",\"type\":\"ResetTool\"},{\"attributes\":{\"bottom_units\":\"screen\",\"fill_alpha\":{\"value\":0.5},\"fill_color\":{\"value\":\"lightgrey\"},\"left_units\":\"screen\",\"level\":\"overlay\",\"line_alpha\":{\"value\":1.0},\"line_color\":{\"value\":\"black\"},\"line_dash\":[4,4],\"line_width\":{\"value\":2},\"plot\":null,\"render_mode\":\"css\",\"right_units\":\"screen\",\"top_units\":\"screen\"},\"id\":\"98e3cdcb-6932-4d65-9221-0a15a4d46e64\",\"type\":\"BoxAnnotation\"},{\"attributes\":{\"bottom_units\":\"screen\",\"fill_alpha\":{\"value\":0.5},\"fill_color\":{\"value\":\"lightgrey\"},\"left_units\":\"screen\",\"level\":\"overlay\",\"line_alpha\":{\"value\":1.0},\"line_color\":{\"value\":\"black\"},\"line_dash\":[4,4],\"line_width\":{\"value\":2},\"plot\":null,\"render_mode\":\"css\",\"right_units\":\"screen\",\"top_units\":\"screen\"},\"id\":\"96ceb829-f8d9-428e-8756-90595de2471c\",\"type\":\"BoxAnnotation\"},{\"attributes\":{\"plot\":{\"id\":\"f116ff2a-80b2-4513-820a-ec32f1b3d556\",\"subtype\":\"Figure\",\"type\":\"Plot\"}},\"id\":\"36b2aef2-1d3d-41d8-884f-13fa2035871c\",\"type\":\"HelpTool\"},{\"attributes\":{},\"id\":\"a7386c14-8ef8-4c37-ae6c-da253daa90a7\",\"type\":\"ToolEvents\"},{\"attributes\":{\"data_source\":{\"id\":\"e10bd834-ab7a-4cdc-82ec-d1d7d48fa54d\",\"type\":\"ColumnDataSource\"},\"glyph\":{\"id\":\"08605ca5-06f5-40d0-b628-09e595352ba0\",\"type\":\"Circle\"},\"hover_glyph\":null,\"nonselection_glyph\":{\"id\":\"70ea5ae8-c8d1-4f6e-b6a3-53975556c869\",\"type\":\"Circle\"},\"selection_glyph\":null},\"id\":\"bfb7d4f7-7c8c-43ef-8ecd-f0cac08a1a0d\",\"type\":\"GlyphRenderer\"},{\"attributes\":{\"plot\":{\"id\":\"ec3c6f49-2227-42dd-acc9-6d5c47a0086a\",\"subtype\":\"Figure\",\"type\":\"Plot\"}},\"id\":\"693854fc-9dfb-444b-92f0-de8f6ca88c6f\",\"type\":\"PanTool\"},{\"attributes\":{\"plot\":null,\"text\":\"Online 10 iter\"},\"id\":\"2db7eaea-40a1-402d-a4ff-efaf22907753\",\"type\":\"Title\"},{\"attributes\":{\"below\":[{\"id\":\"aaeefbb0-8c9e-4b24-a8ac-b41cc25f4260\",\"type\":\"LinearAxis\"}],\"left\":[{\"id\":\"611aa200-eec7-4d75-904b-f61226529765\",\"type\":\"LinearAxis\"}],\"plot_height\":400,\"plot_width\":300,\"renderers\":[{\"id\":\"aaeefbb0-8c9e-4b24-a8ac-b41cc25f4260\",\"type\":\"LinearAxis\"},{\"id\":\"c1984924-5869-4d0e-a513-8b6f6504cf77\",\"type\":\"Grid\"},{\"id\":\"611aa200-eec7-4d75-904b-f61226529765\",\"type\":\"LinearAxis\"},{\"id\":\"b2306bab-c747-45df-8dee-0a47e5489d93\",\"type\":\"Grid\"},{\"id\":\"08b2f3bf-72a8-4f07-9a76-309d41ee2f10\",\"type\":\"BoxAnnotation\"},{\"id\":\"bfb7d4f7-7c8c-43ef-8ecd-f0cac08a1a0d\",\"type\":\"GlyphRenderer\"}],\"title\":{\"id\":\"2db7eaea-40a1-402d-a4ff-efaf22907753\",\"type\":\"Title\"},\"tool_events\":{\"id\":\"6b61ce70-0dd4-484c-adb4-5dcba609c2f1\",\"type\":\"ToolEvents\"},\"toolbar\":{\"id\":\"ec8f8c02-4280-4953-bc23-b3baa15dbc7f\",\"type\":\"Toolbar\"},\"x_range\":{\"id\":\"3f60e281-f1d1-4b9b-82db-23826c8ea22f\",\"type\":\"DataRange1d\"},\"y_range\":{\"id\":\"419786a4-ed16-46ac-b4e2-c1368f659cdb\",\"type\":\"DataRange1d\"}},\"id\":\"ec3c6f49-2227-42dd-acc9-6d5c47a0086a\",\"subtype\":\"Figure\",\"type\":\"Plot\"},{\"attributes\":{\"callback\":null,\"column_names\":[\"x\",\"y\"],\"data\":{\"x\":[23,44,67,90,112,135,158,180,200,220],\"y\":[-307200.0,-300800.0,-299700.0,-299100.0,-298600.0,-298300.0,-298100.0,-297900.0,-297700.0,-297600.0]}},\"id\":\"5446368a-5dd4-47f4-a060-22dc42a9e3e3\",\"type\":\"ColumnDataSource\"},{\"attributes\":{\"children\":[{\"id\":\"829afdc7-5827-4bc4-8940-513b7efb61d4\",\"type\":\"Div\"}]},\"id\":\"e48d5a9d-21ed-4d7d-9102-4bb223b9d7dc\",\"type\":\"WidgetBox\"},{\"attributes\":{\"dimension\":1,\"plot\":{\"id\":\"ec3c6f49-2227-42dd-acc9-6d5c47a0086a\",\"subtype\":\"Figure\",\"type\":\"Plot\"},\"ticker\":{\"id\":\"306d8293-cb3a-4105-a3cc-9f7e8897ac9f\",\"type\":\"BasicTicker\"}},\"id\":\"b2306bab-c747-45df-8dee-0a47e5489d93\",\"type\":\"Grid\"},{\"attributes\":{\"fill_color\":{\"value\":\"red\"},\"line_color\":{\"value\":\"red\"},\"size\":{\"units\":\"screen\",\"value\":5},\"x\":{\"field\":\"x\"},\"y\":{\"field\":\"y\"}},\"id\":\"c0cee5d8-e2ad-4382-8511-b7192e550c52\",\"type\":\"Circle\"},{\"attributes\":{\"plot\":{\"id\":\"f9b75e8f-684e-40fc-8c96-7c2227212594\",\"subtype\":\"Figure\",\"type\":\"Plot\"}},\"id\":\"54f74dfc-e600-45b1-9bb5-16635da88fc2\",\"type\":\"ResetTool\"},{\"attributes\":{\"below\":[{\"id\":\"ebdb8310-0178-4639-849f-ef1f261ac6c6\",\"type\":\"LinearAxis\"}],\"left\":[{\"id\":\"fe2305bc-6f4f-4649-b089-3295ac94d541\",\"type\":\"LinearAxis\"}],\"plot_height\":400,\"plot_width\":300,\"renderers\":[{\"id\":\"ebdb8310-0178-4639-849f-ef1f261ac6c6\",\"type\":\"LinearAxis\"},{\"id\":\"9468f49b-6000-4d09-bf3f-4ed36e0dccfc\",\"type\":\"Grid\"},{\"id\":\"fe2305bc-6f4f-4649-b089-3295ac94d541\",\"type\":\"LinearAxis\"},{\"id\":\"b48c3b97-98ed-4e7e-aff8-7a9ada7da80e\",\"type\":\"Grid\"},{\"id\":\"96ceb829-f8d9-428e-8756-90595de2471c\",\"type\":\"BoxAnnotation\"},{\"id\":\"ed8f8267-8dcb-4138-8831-011af0459bbc\",\"type\":\"GlyphRenderer\"}],\"title\":{\"id\":\"2074bfed-48a9-4469-99d5-e4c74ca7abac\",\"type\":\"Title\"},\"tool_events\":{\"id\":\"a7386c14-8ef8-4c37-ae6c-da253daa90a7\",\"type\":\"ToolEvents\"},\"toolbar\":{\"id\":\"5ac6cb45-a4a0-481d-a5ad-b104e36b2b7f\",\"type\":\"Toolbar\"},\"x_range\":{\"id\":\"7e76403e-032b-48db-a341-68015071bea6\",\"type\":\"DataRange1d\"},\"y_range\":{\"id\":\"3ea12cfa-5e99-40b7-bb64-e808abb6f580\",\"type\":\"DataRange1d\"}},\"id\":\"f116ff2a-80b2-4513-820a-ec32f1b3d556\",\"subtype\":\"Figure\",\"type\":\"Plot\"},{\"attributes\":{\"axis_label\":\"Time (sec)\",\"formatter\":{\"id\":\"5ec8cfc6-89fd-4a47-957b-bed46e73b4cc\",\"type\":\"BasicTickFormatter\"},\"plot\":{\"id\":\"f9b75e8f-684e-40fc-8c96-7c2227212594\",\"subtype\":\"Figure\",\"type\":\"Plot\"},\"ticker\":{\"id\":\"d0e853ae-b108-4fed-b21d-6a730ace8ba8\",\"type\":\"BasicTicker\"}},\"id\":\"7efc8c29-9dbd-486e-b4bc-508b02f3731c\",\"type\":\"LinearAxis\"},{\"attributes\":{\"below\":[{\"id\":\"7efc8c29-9dbd-486e-b4bc-508b02f3731c\",\"type\":\"LinearAxis\"}],\"left\":[{\"id\":\"e13fc9b0-7673-4b1f-96c3-5f27ba884764\",\"type\":\"LinearAxis\"}],\"plot_height\":400,\"plot_width\":300,\"renderers\":[{\"id\":\"7efc8c29-9dbd-486e-b4bc-508b02f3731c\",\"type\":\"LinearAxis\"},{\"id\":\"1adf068d-0118-4fdb-93c6-5d5383744990\",\"type\":\"Grid\"},{\"id\":\"e13fc9b0-7673-4b1f-96c3-5f27ba884764\",\"type\":\"LinearAxis\"},{\"id\":\"3052f617-7622-4bcc-a0cb-33dddd6215db\",\"type\":\"Grid\"},{\"id\":\"98e3cdcb-6932-4d65-9221-0a15a4d46e64\",\"type\":\"BoxAnnotation\"},{\"id\":\"d6bc3355-9a52-4ff6-b8b9-36f181a3d626\",\"type\":\"GlyphRenderer\"}],\"title\":{\"id\":\"877e2c64-23dd-45c3-bd30-8205e238151e\",\"type\":\"Title\"},\"tool_events\":{\"id\":\"6413c1c5-805e-4bd8-967d-746ecf9b8261\",\"type\":\"ToolEvents\"},\"toolbar\":{\"id\":\"d7b02829-20e9-4da2-ab4a-3640f1db7825\",\"type\":\"Toolbar\"},\"x_range\":{\"id\":\"14d5df50-c4db-4cc6-8820-df44528ef7bc\",\"type\":\"DataRange1d\"},\"y_range\":{\"id\":\"60779156-b349-4dd4-b553-718e42b6b098\",\"type\":\"DataRange1d\"}},\"id\":\"f9b75e8f-684e-40fc-8c96-7c2227212594\",\"subtype\":\"Figure\",\"type\":\"Plot\"},{\"attributes\":{\"axis_label\":\"Bound\",\"formatter\":{\"id\":\"c17e28d5-3749-4409-949a-5510cc15c1a3\",\"type\":\"BasicTickFormatter\"},\"plot\":{\"id\":\"ec3c6f49-2227-42dd-acc9-6d5c47a0086a\",\"subtype\":\"Figure\",\"type\":\"Plot\"},\"ticker\":{\"id\":\"306d8293-cb3a-4105-a3cc-9f7e8897ac9f\",\"type\":\"BasicTicker\"}},\"id\":\"611aa200-eec7-4d75-904b-f61226529765\",\"type\":\"LinearAxis\"},{\"attributes\":{\"data_source\":{\"id\":\"7dda6f91-0671-4dc1-b924-cf93b4037346\",\"type\":\"ColumnDataSource\"},\"glyph\":{\"id\":\"c0cee5d8-e2ad-4382-8511-b7192e550c52\",\"type\":\"Circle\"},\"hover_glyph\":null,\"nonselection_glyph\":{\"id\":\"00e9a62f-1689-42f6-81e0-d1b1f5edb079\",\"type\":\"Circle\"},\"selection_glyph\":null},\"id\":\"ed8f8267-8dcb-4138-8831-011af0459bbc\",\"type\":\"GlyphRenderer\"},{\"attributes\":{\"plot\":{\"id\":\"f9b75e8f-684e-40fc-8c96-7c2227212594\",\"subtype\":\"Figure\",\"type\":\"Plot\"}},\"id\":\"3491fa98-41b2-4d3b-8188-ad6e4a498240\",\"type\":\"WheelZoomTool\"},{\"attributes\":{},\"id\":\"306d8293-cb3a-4105-a3cc-9f7e8897ac9f\",\"type\":\"BasicTicker\"},{\"attributes\":{\"active_drag\":\"auto\",\"active_scroll\":\"auto\",\"active_tap\":\"auto\",\"tools\":[{\"id\":\"93649fc9-00f9-42c8-b7a6-e495d68c38c9\",\"type\":\"PanTool\"},{\"id\":\"66db468d-f324-463b-9e71-479d7d02517c\",\"type\":\"WheelZoomTool\"},{\"id\":\"45341561-74f3-428c-b041-f80a86a4ca88\",\"type\":\"BoxZoomTool\"},{\"id\":\"40254841-29c0-482d-a8ea-ba4dcc80363e\",\"type\":\"SaveTool\"},{\"id\":\"2eebf8b6-6cf0-417e-b810-9fb70363f34f\",\"type\":\"ResetTool\"},{\"id\":\"36b2aef2-1d3d-41d8-884f-13fa2035871c\",\"type\":\"HelpTool\"}]},\"id\":\"5ac6cb45-a4a0-481d-a5ad-b104e36b2b7f\",\"type\":\"Toolbar\"},{\"attributes\":{\"dimension\":1,\"plot\":{\"id\":\"f116ff2a-80b2-4513-820a-ec32f1b3d556\",\"subtype\":\"Figure\",\"type\":\"Plot\"},\"ticker\":{\"id\":\"380fb4c7-7e58-4dcf-b238-12e986a0ed6c\",\"type\":\"BasicTicker\"}},\"id\":\"b48c3b97-98ed-4e7e-aff8-7a9ada7da80e\",\"type\":\"Grid\"},{\"attributes\":{\"overlay\":{\"id\":\"08b2f3bf-72a8-4f07-9a76-309d41ee2f10\",\"type\":\"BoxAnnotation\"},\"plot\":{\"id\":\"ec3c6f49-2227-42dd-acc9-6d5c47a0086a\",\"subtype\":\"Figure\",\"type\":\"Plot\"}},\"id\":\"09ef39d3-6af7-4319-9f28-abe1901e0b9a\",\"type\":\"BoxZoomTool\"},{\"attributes\":{\"children\":[{\"id\":\"66559e4d-38d8-4606-a36b-4cc8b6b37d5c\",\"type\":\"Row\"},{\"id\":\"51a3c976-2c59-41c4-8527-a361d9ccfb9a\",\"type\":\"Row\"}]},\"id\":\"858c104d-9953-49ec-b926-14696568e855\",\"type\":\"Column\"},{\"attributes\":{},\"id\":\"2505e4e8-e125-4fff-8091-44d75df327e7\",\"type\":\"BasicTicker\"},{\"attributes\":{\"plot\":{\"id\":\"f9b75e8f-684e-40fc-8c96-7c2227212594\",\"subtype\":\"Figure\",\"type\":\"Plot\"}},\"id\":\"2c27902f-e7d0-47e2-8c6b-2c387128aff5\",\"type\":\"HelpTool\"},{\"attributes\":{\"active_drag\":\"auto\",\"active_scroll\":\"auto\",\"active_tap\":\"auto\",\"tools\":[{\"id\":\"693854fc-9dfb-444b-92f0-de8f6ca88c6f\",\"type\":\"PanTool\"},{\"id\":\"15912d86-18f2-47c1-8f0a-f7f3cf3dd370\",\"type\":\"WheelZoomTool\"},{\"id\":\"09ef39d3-6af7-4319-9f28-abe1901e0b9a\",\"type\":\"BoxZoomTool\"},{\"id\":\"5fe7f364-4d35-499f-a93f-1761ec96e486\",\"type\":\"SaveTool\"},{\"id\":\"c9fc71ea-6523-420f-b02d-06a9d129800b\",\"type\":\"ResetTool\"},{\"id\":\"e5426082-5f98-492e-96c1-fd595316c058\",\"type\":\"HelpTool\"}]},\"id\":\"ec8f8c02-4280-4953-bc23-b3baa15dbc7f\",\"type\":\"Toolbar\"},{\"attributes\":{\"plot\":{\"id\":\"f116ff2a-80b2-4513-820a-ec32f1b3d556\",\"subtype\":\"Figure\",\"type\":\"Plot\"},\"ticker\":{\"id\":\"2505e4e8-e125-4fff-8091-44d75df327e7\",\"type\":\"BasicTicker\"}},\"id\":\"9468f49b-6000-4d09-bf3f-4ed36e0dccfc\",\"type\":\"Grid\"},{\"attributes\":{\"plot\":{\"id\":\"f116ff2a-80b2-4513-820a-ec32f1b3d556\",\"subtype\":\"Figure\",\"type\":\"Plot\"}},\"id\":\"66db468d-f324-463b-9e71-479d7d02517c\",\"type\":\"WheelZoomTool\"},{\"attributes\":{},\"id\":\"5ec8cfc6-89fd-4a47-957b-bed46e73b4cc\",\"type\":\"BasicTickFormatter\"},{\"attributes\":{\"callback\":null},\"id\":\"3f60e281-f1d1-4b9b-82db-23826c8ea22f\",\"type\":\"DataRange1d\"},{\"attributes\":{\"plot\":{\"id\":\"ec3c6f49-2227-42dd-acc9-6d5c47a0086a\",\"subtype\":\"Figure\",\"type\":\"Plot\"}},\"id\":\"e5426082-5f98-492e-96c1-fd595316c058\",\"type\":\"HelpTool\"},{\"attributes\":{\"fill_alpha\":{\"value\":0.1},\"fill_color\":{\"value\":\"#1f77b4\"},\"line_alpha\":{\"value\":0.1},\"line_color\":{\"value\":\"#1f77b4\"},\"size\":{\"units\":\"screen\",\"value\":5},\"x\":{\"field\":\"x\"},\"y\":{\"field\":\"y\"}},\"id\":\"80361c88-8564-4fd3-b10f-28127e641c92\",\"type\":\"Circle\"},{\"attributes\":{\"fill_alpha\":{\"value\":0.1},\"fill_color\":{\"value\":\"#1f77b4\"},\"line_alpha\":{\"value\":0.1},\"line_color\":{\"value\":\"#1f77b4\"},\"size\":{\"units\":\"screen\",\"value\":5},\"x\":{\"field\":\"x\"},\"y\":{\"field\":\"y\"}},\"id\":\"00e9a62f-1689-42f6-81e0-d1b1f5edb079\",\"type\":\"Circle\"},{\"attributes\":{},\"id\":\"c008d2d4-206a-45d3-8ae0-9277783412f5\",\"type\":\"BasicTickFormatter\"},{\"attributes\":{\"plot\":{\"id\":\"f9b75e8f-684e-40fc-8c96-7c2227212594\",\"subtype\":\"Figure\",\"type\":\"Plot\"}},\"id\":\"f6e8bcb9-9c57-4638-987d-608d74791f9f\",\"type\":\"SaveTool\"},{\"attributes\":{\"axis_label\":\"Bound\",\"formatter\":{\"id\":\"8340af77-2fbf-4b67-8e83-e0df23d98776\",\"type\":\"BasicTickFormatter\"},\"plot\":{\"id\":\"f116ff2a-80b2-4513-820a-ec32f1b3d556\",\"subtype\":\"Figure\",\"type\":\"Plot\"},\"ticker\":{\"id\":\"380fb4c7-7e58-4dcf-b238-12e986a0ed6c\",\"type\":\"BasicTicker\"}},\"id\":\"fe2305bc-6f4f-4649-b089-3295ac94d541\",\"type\":\"LinearAxis\"},{\"attributes\":{\"overlay\":{\"id\":\"96ceb829-f8d9-428e-8756-90595de2471c\",\"type\":\"BoxAnnotation\"},\"plot\":{\"id\":\"f116ff2a-80b2-4513-820a-ec32f1b3d556\",\"subtype\":\"Figure\",\"type\":\"Plot\"}},\"id\":\"45341561-74f3-428c-b041-f80a86a4ca88\",\"type\":\"BoxZoomTool\"},{\"attributes\":{\"callback\":null},\"id\":\"7e76403e-032b-48db-a341-68015071bea6\",\"type\":\"DataRange1d\"},{\"attributes\":{},\"id\":\"865a81d8-2ad7-4bdc-bd04-e438275f5cd8\",\"type\":\"BasicTickFormatter\"},{\"attributes\":{\"plot\":{\"id\":\"f116ff2a-80b2-4513-820a-ec32f1b3d556\",\"subtype\":\"Figure\",\"type\":\"Plot\"}},\"id\":\"93649fc9-00f9-42c8-b7a6-e495d68c38c9\",\"type\":\"PanTool\"},{\"attributes\":{\"callback\":null,\"column_names\":[\"x\",\"y\"],\"data\":{\"x\":[147,289,434,579,729,874,1026,1170,1313,1452],\"y\":[-300100.0,-297500.0,-296500.0,-296100.0,-295800.0,-295500.0,-295400.0,-295300.0,-295200.0,-295100.0]}},\"id\":\"e10bd834-ab7a-4cdc-82ec-d1d7d48fa54d\",\"type\":\"ColumnDataSource\"},{\"attributes\":{},\"id\":\"6413c1c5-805e-4bd8-967d-746ecf9b8261\",\"type\":\"ToolEvents\"},{\"attributes\":{},\"id\":\"f91288f3-383c-448d-88d0-a97e36510e14\",\"type\":\"BasicTicker\"},{\"attributes\":{},\"id\":\"380fb4c7-7e58-4dcf-b238-12e986a0ed6c\",\"type\":\"BasicTicker\"},{\"attributes\":{\"plot\":null,\"text\":\"Online 1 iter\"},\"id\":\"877e2c64-23dd-45c3-bd30-8205e238151e\",\"type\":\"Title\"},{\"attributes\":{\"callback\":null},\"id\":\"419786a4-ed16-46ac-b4e2-c1368f659cdb\",\"type\":\"DataRange1d\"},{\"attributes\":{\"plot\":{\"id\":\"f116ff2a-80b2-4513-820a-ec32f1b3d556\",\"subtype\":\"Figure\",\"type\":\"Plot\"}},\"id\":\"2eebf8b6-6cf0-417e-b810-9fb70363f34f\",\"type\":\"ResetTool\"},{\"attributes\":{\"axis_label\":\"Bound\",\"formatter\":{\"id\":\"c008d2d4-206a-45d3-8ae0-9277783412f5\",\"type\":\"BasicTickFormatter\"},\"plot\":{\"id\":\"f9b75e8f-684e-40fc-8c96-7c2227212594\",\"subtype\":\"Figure\",\"type\":\"Plot\"},\"ticker\":{\"id\":\"f91288f3-383c-448d-88d0-a97e36510e14\",\"type\":\"BasicTicker\"}},\"id\":\"e13fc9b0-7673-4b1f-96c3-5f27ba884764\",\"type\":\"LinearAxis\"},{\"attributes\":{},\"id\":\"4ebf6375-71a0-44a7-94b1-0a9fbce9d6da\",\"type\":\"BasicTicker\"},{\"attributes\":{},\"id\":\"3c829bd5-a45d-4a10-97a7-8dbab9d538ff\",\"type\":\"BasicTickFormatter\"},{\"attributes\":{\"fill_color\":{\"value\":\"#1f77b4\"},\"line_color\":{\"value\":\"blue\"},\"size\":{\"units\":\"screen\",\"value\":5},\"x\":{\"field\":\"x\"},\"y\":{\"field\":\"y\"}},\"id\":\"08605ca5-06f5-40d0-b628-09e595352ba0\",\"type\":\"Circle\"},{\"attributes\":{\"fill_alpha\":{\"value\":0.1},\"fill_color\":{\"value\":\"#1f77b4\"},\"line_alpha\":{\"value\":0.1},\"line_color\":{\"value\":\"#1f77b4\"},\"size\":{\"units\":\"screen\",\"value\":5},\"x\":{\"field\":\"x\"},\"y\":{\"field\":\"y\"}},\"id\":\"70ea5ae8-c8d1-4f6e-b6a3-53975556c869\",\"type\":\"Circle\"},{\"attributes\":{\"callback\":null,\"column_names\":[\"x\",\"y\"],\"data\":{\"x\":[130,268,396,529,664,791,921,1052,1188,1318],\"y\":[-330400.0,-304900.0,-300500.0,-298900.0,-298100.0,-297600.0,-297300.0,-297000.0,-296800.0,-296600.0]}},\"id\":\"7dda6f91-0671-4dc1-b924-cf93b4037346\",\"type\":\"ColumnDataSource\"},{\"attributes\":{},\"id\":\"c17e28d5-3749-4409-949a-5510cc15c1a3\",\"type\":\"BasicTickFormatter\"},{\"attributes\":{\"axis_label\":\"Time (sec)\",\"formatter\":{\"id\":\"865a81d8-2ad7-4bdc-bd04-e438275f5cd8\",\"type\":\"BasicTickFormatter\"},\"plot\":{\"id\":\"ec3c6f49-2227-42dd-acc9-6d5c47a0086a\",\"subtype\":\"Figure\",\"type\":\"Plot\"},\"ticker\":{\"id\":\"4ebf6375-71a0-44a7-94b1-0a9fbce9d6da\",\"type\":\"BasicTicker\"}},\"id\":\"aaeefbb0-8c9e-4b24-a8ac-b41cc25f4260\",\"type\":\"LinearAxis\"},{\"attributes\":{\"bottom_units\":\"screen\",\"fill_alpha\":{\"value\":0.5},\"fill_color\":{\"value\":\"lightgrey\"},\"left_units\":\"screen\",\"level\":\"overlay\",\"line_alpha\":{\"value\":1.0},\"line_color\":{\"value\":\"black\"},\"line_dash\":[4,4],\"line_width\":{\"value\":2},\"plot\":null,\"render_mode\":\"css\",\"right_units\":\"screen\",\"top_units\":\"screen\"},\"id\":\"08b2f3bf-72a8-4f07-9a76-309d41ee2f10\",\"type\":\"BoxAnnotation\"},{\"attributes\":{\"callback\":null},\"id\":\"60779156-b349-4dd4-b553-718e42b6b098\",\"type\":\"DataRange1d\"},{\"attributes\":{\"axis_label\":\"Time (sec)\",\"formatter\":{\"id\":\"3c829bd5-a45d-4a10-97a7-8dbab9d538ff\",\"type\":\"BasicTickFormatter\"},\"plot\":{\"id\":\"f116ff2a-80b2-4513-820a-ec32f1b3d556\",\"subtype\":\"Figure\",\"type\":\"Plot\"},\"ticker\":{\"id\":\"2505e4e8-e125-4fff-8091-44d75df327e7\",\"type\":\"BasicTicker\"}},\"id\":\"ebdb8310-0178-4639-849f-ef1f261ac6c6\",\"type\":\"LinearAxis\"},{\"attributes\":{\"dimension\":1,\"plot\":{\"id\":\"f9b75e8f-684e-40fc-8c96-7c2227212594\",\"subtype\":\"Figure\",\"type\":\"Plot\"},\"ticker\":{\"id\":\"f91288f3-383c-448d-88d0-a97e36510e14\",\"type\":\"BasicTicker\"}},\"id\":\"3052f617-7622-4bcc-a0cb-33dddd6215db\",\"type\":\"Grid\"},{\"attributes\":{\"plot\":{\"id\":\"ec3c6f49-2227-42dd-acc9-6d5c47a0086a\",\"subtype\":\"Figure\",\"type\":\"Plot\"}},\"id\":\"5fe7f364-4d35-499f-a93f-1761ec96e486\",\"type\":\"SaveTool\"},{\"attributes\":{\"plot\":{\"id\":\"f9b75e8f-684e-40fc-8c96-7c2227212594\",\"subtype\":\"Figure\",\"type\":\"Plot\"},\"ticker\":{\"id\":\"d0e853ae-b108-4fed-b21d-6a730ace8ba8\",\"type\":\"BasicTicker\"}},\"id\":\"1adf068d-0118-4fdb-93c6-5d5383744990\",\"type\":\"Grid\"},{\"attributes\":{\"data_source\":{\"id\":\"5446368a-5dd4-47f4-a060-22dc42a9e3e3\",\"type\":\"ColumnDataSource\"},\"glyph\":{\"id\":\"b181841a-0a74-48ae-822d-f1b46881e340\",\"type\":\"Circle\"},\"hover_glyph\":null,\"nonselection_glyph\":{\"id\":\"80361c88-8564-4fd3-b10f-28127e641c92\",\"type\":\"Circle\"},\"selection_glyph\":null},\"id\":\"d6bc3355-9a52-4ff6-b8b9-36f181a3d626\",\"type\":\"GlyphRenderer\"},{\"attributes\":{\"overlay\":{\"id\":\"98e3cdcb-6932-4d65-9221-0a15a4d46e64\",\"type\":\"BoxAnnotation\"},\"plot\":{\"id\":\"f9b75e8f-684e-40fc-8c96-7c2227212594\",\"subtype\":\"Figure\",\"type\":\"Plot\"}},\"id\":\"14bbd59b-1bd0-4a60-bb1b-ff54e38be8dc\",\"type\":\"BoxZoomTool\"},{\"attributes\":{},\"id\":\"8340af77-2fbf-4b67-8e83-e0df23d98776\",\"type\":\"BasicTickFormatter\"},{\"attributes\":{\"plot\":{\"id\":\"f116ff2a-80b2-4513-820a-ec32f1b3d556\",\"subtype\":\"Figure\",\"type\":\"Plot\"}},\"id\":\"40254841-29c0-482d-a8ea-ba4dcc80363e\",\"type\":\"SaveTool\"},{\"attributes\":{\"plot\":{\"id\":\"f9b75e8f-684e-40fc-8c96-7c2227212594\",\"subtype\":\"Figure\",\"type\":\"Plot\"}},\"id\":\"c97139ea-e4d4-4a69-a99f-8e0b67cbed76\",\"type\":\"PanTool\"},{\"attributes\":{\"plot\":{\"id\":\"ec3c6f49-2227-42dd-acc9-6d5c47a0086a\",\"subtype\":\"Figure\",\"type\":\"Plot\"}},\"id\":\"15912d86-18f2-47c1-8f0a-f7f3cf3dd370\",\"type\":\"WheelZoomTool\"},{\"attributes\":{\"children\":[{\"id\":\"e48d5a9d-21ed-4d7d-9102-4bb223b9d7dc\",\"type\":\"WidgetBox\"}]},\"id\":\"66559e4d-38d8-4606-a36b-4cc8b6b37d5c\",\"type\":\"Row\"},{\"attributes\":{\"text\":\"<h3>Variational lower bound\\n100 iterations (passes)</h3>\"},\"id\":\"829afdc7-5827-4bc4-8940-513b7efb61d4\",\"type\":\"Div\"},{\"attributes\":{\"plot\":{\"id\":\"ec3c6f49-2227-42dd-acc9-6d5c47a0086a\",\"subtype\":\"Figure\",\"type\":\"Plot\"},\"ticker\":{\"id\":\"4ebf6375-71a0-44a7-94b1-0a9fbce9d6da\",\"type\":\"BasicTicker\"}},\"id\":\"c1984924-5869-4d0e-a513-8b6f6504cf77\",\"type\":\"Grid\"},{\"attributes\":{\"fill_color\":{\"value\":\"#1f77b4\"},\"line_color\":{\"value\":\"green\"},\"size\":{\"units\":\"screen\",\"value\":5},\"x\":{\"field\":\"x\"},\"y\":{\"field\":\"y\"}},\"id\":\"b181841a-0a74-48ae-822d-f1b46881e340\",\"type\":\"Circle\"},{\"attributes\":{\"children\":[{\"id\":\"f116ff2a-80b2-4513-820a-ec32f1b3d556\",\"subtype\":\"Figure\",\"type\":\"Plot\"},{\"id\":\"f9b75e8f-684e-40fc-8c96-7c2227212594\",\"subtype\":\"Figure\",\"type\":\"Plot\"},{\"id\":\"ec3c6f49-2227-42dd-acc9-6d5c47a0086a\",\"subtype\":\"Figure\",\"type\":\"Plot\"}]},\"id\":\"51a3c976-2c59-41c4-8527-a361d9ccfb9a\",\"type\":\"Row\"}],\"root_ids\":[\"858c104d-9953-49ec-b926-14696568e855\"]},\"title\":\"Bokeh Application\",\"version\":\"0.12.3\"}};\n",
       "            var render_items = [{\"docid\":\"7a122602-6f94-4ca4-8e38-2d1607e499e9\",\"elementid\":\"e35c4255-7129-47da-88f9-bf61790ba137\",\"modelid\":\"858c104d-9953-49ec-b926-14696568e855\"}];\n",
       "            \n",
       "            Bokeh.embed.embed_items(docs_json, render_items);\n",
       "        });\n",
       "      },\n",
       "      function(Bokeh) {\n",
       "      }\n",
       "    ];\n",
       "  \n",
       "    function run_inline_js() {\n",
       "      \n",
       "      if ((window.Bokeh !== undefined) || (force === \"1\")) {\n",
       "        for (var i = 0; i < inline_js.length; i++) {\n",
       "          inline_js[i](window.Bokeh);\n",
       "        }if (force === \"1\") {\n",
       "          display_loaded();\n",
       "        }} else if (Date.now() < window._bokeh_timeout) {\n",
       "        setTimeout(run_inline_js, 100);\n",
       "      } else if (!window._bokeh_failed_load) {\n",
       "        console.log(\"Bokeh: BokehJS failed to load within specified timeout.\");\n",
       "        window._bokeh_failed_load = true;\n",
       "      } else if (!force) {\n",
       "        var cell = $(\"#e35c4255-7129-47da-88f9-bf61790ba137\").parents('.cell').data().cell;\n",
       "        cell.output_area.append_execute_result(NB_LOAD_WARNING)\n",
       "      }\n",
       "  \n",
       "    }\n",
       "  \n",
       "    if (window._bokeh_is_loading === 0) {\n",
       "      console.log(\"Bokeh: BokehJS loaded, going straight to plotting\");\n",
       "      run_inline_js();\n",
       "    } else {\n",
       "      load_libs(js_urls, function() {\n",
       "        console.log(\"Bokeh: BokehJS plotting callback run at\", now());\n",
       "        run_inline_js();\n",
       "      });\n",
       "    }\n",
       "  }(this));\n",
       "</script>"
      ]
     },
     "metadata": {},
     "output_type": "display_data"
    }
   ],
   "source": [
    "p1 = figure(title=\"Offline\", x_axis_label='Time (sec)', y_axis_label='Bound')\n",
    "p1.circle(offline_time[1:], offline[1:], size=5, color='red')\n",
    "p1.plot_height=400\n",
    "p1.plot_width=300\n",
    "\n",
    "p2 = figure(title=\"Online 1 iter\", x_axis_label='Time (sec)', y_axis_label='Bound')\n",
    "s1 = p2.circle(online_1iter_time[1:], online_1iter[1:], size=5, line_color='green')\n",
    "p2.plot_height=400\n",
    "p2.plot_width=300\n",
    "\n",
    "p3 = figure(title=\"Online 10 iter\", x_axis_label='Time (sec)', y_axis_label='Bound')\n",
    "s3 = p3.circle(online_10iter_time[1:], online_10iter[1:], size=5, line_color='blue')\n",
    "p3.plot_height=400\n",
    "p3.plot_width=300\n",
    "\n",
    "caption = Div(text='<h3>Variational lower bound\\n100 iterations (passes)</h3>')\n",
    "\n",
    "l = layout([\n",
    "        [caption],\n",
    "        [p1, p2, p3]\n",
    "    ])\n",
    "\n",
    "show(l)"
   ]
  },
  {
   "cell_type": "code",
   "execution_count": 53,
   "metadata": {
    "collapsed": false
   },
   "outputs": [
    {
     "ename": "ImportError",
     "evalue": "cannot import name 'css'",
     "output_type": "error",
     "traceback": [
      "\u001b[0;31m---------------------------------------------------------------------------\u001b[0m",
      "\u001b[0;31mImportError\u001b[0m                               Traceback (most recent call last)",
      "\u001b[0;32m<ipython-input-53-0c55910f191d>\u001b[0m in \u001b[0;36m<module>\u001b[0;34m()\u001b[0m\n\u001b[0;32m----> 1\u001b[0;31m \u001b[0;32mfrom\u001b[0m \u001b[0mbokeh\u001b[0m \u001b[0;32mimport\u001b[0m \u001b[0mcss\u001b[0m\u001b[0;34m\u001b[0m\u001b[0m\n\u001b[0m",
      "\u001b[0;31mImportError\u001b[0m: cannot import name 'css'"
     ]
    }
   ],
   "source": [
    "from bokeh import css"
   ]
  },
  {
   "cell_type": "code",
   "execution_count": 52,
   "metadata": {
    "collapsed": false
   },
   "outputs": [
    {
     "ename": "AttributeError",
     "evalue": "module 'bokeh' has no attribute 'css'",
     "output_type": "error",
     "traceback": [
      "\u001b[0;31m---------------------------------------------------------------------------\u001b[0m",
      "\u001b[0;31mAttributeError\u001b[0m                            Traceback (most recent call last)",
      "\u001b[0;32m<ipython-input-52-d47c94df241f>\u001b[0m in \u001b[0;36m<module>\u001b[0;34m()\u001b[0m\n\u001b[0;32m----> 1\u001b[0;31m \u001b[0mbokeh\u001b[0m\u001b[0;34m.\u001b[0m\u001b[0mcss\u001b[0m\u001b[0;34m\u001b[0m\u001b[0m\n\u001b[0m",
      "\u001b[0;31mAttributeError\u001b[0m: module 'bokeh' has no attribute 'css'"
     ]
    }
   ],
   "source": [
    "bokeh.css"
   ]
  }
 ],
 "metadata": {
  "kernelspec": {
   "display_name": "Python 3",
   "language": "python",
   "name": "python3"
  },
  "language_info": {
   "codemirror_mode": {
    "name": "ipython",
    "version": 3
   },
   "file_extension": ".py",
   "mimetype": "text/x-python",
   "name": "python",
   "nbconvert_exporter": "python",
   "pygments_lexer": "ipython3",
   "version": "3.5.2"
  }
 },
 "nbformat": 4,
 "nbformat_minor": 1
}
