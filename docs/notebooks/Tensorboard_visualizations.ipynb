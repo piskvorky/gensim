{
 "cells": [
  {
   "cell_type": "markdown",
   "metadata": {},
   "source": [
    "# TensorBoard Visualizations\n",
    "\n",
    "\n",
    "In this tutorial, we will learn how to visualize different types of NLP based Embeddings via TensorBoard. TensorBoard is a data visualization framework for visualizing and inspecting the TensorFlow runs and graphs. We will use a built-in Tensorboard visualizer called *Embedding Projector* in this tutorial. It lets you interactively visualize and analyze high-dimensional data like embeddings.\n"
   ]
  },
  {
   "cell_type": "markdown",
   "metadata": {},
   "source": [
    "## Read Data \n",
    "\n",
    "For this tutorial, a transformed MovieLens dataset<sup>[1]</sup> is used. You can download the final prepared csv from [here](https://github.com/parulsethi/DocViz/blob/master/movie_plots.csv)."
   ]
  },
  {
   "cell_type": "code",
   "execution_count": 1,
   "metadata": {},
   "outputs": [
    {
     "data": {
      "text/html": [
       "<div>\n",
       "<style>\n",
       "    .dataframe thead tr:only-child th {\n",
       "        text-align: right;\n",
       "    }\n",
       "\n",
       "    .dataframe thead th {\n",
       "        text-align: left;\n",
       "    }\n",
       "\n",
       "    .dataframe tbody tr th {\n",
       "        vertical-align: top;\n",
       "    }\n",
       "</style>\n",
       "<table border=\"1\" class=\"dataframe\">\n",
       "  <thead>\n",
       "    <tr style=\"text-align: right;\">\n",
       "      <th></th>\n",
       "      <th>MovieID</th>\n",
       "      <th>Titles</th>\n",
       "      <th>Plots</th>\n",
       "      <th>Genres</th>\n",
       "    </tr>\n",
       "  </thead>\n",
       "  <tbody>\n",
       "    <tr>\n",
       "      <th>0</th>\n",
       "      <td>1</td>\n",
       "      <td>Toy Story (1995)</td>\n",
       "      <td>A little boy named Andy loves to be in his roo...</td>\n",
       "      <td>animation</td>\n",
       "    </tr>\n",
       "    <tr>\n",
       "      <th>1</th>\n",
       "      <td>2</td>\n",
       "      <td>Jumanji (1995)</td>\n",
       "      <td>When two kids find and play a magical board ga...</td>\n",
       "      <td>fantasy</td>\n",
       "    </tr>\n",
       "    <tr>\n",
       "      <th>2</th>\n",
       "      <td>3</td>\n",
       "      <td>Grumpier Old Men (1995)</td>\n",
       "      <td>Things don't seem to change much in Wabasha Co...</td>\n",
       "      <td>comedy</td>\n",
       "    </tr>\n",
       "    <tr>\n",
       "      <th>3</th>\n",
       "      <td>6</td>\n",
       "      <td>Heat (1995)</td>\n",
       "      <td>Hunters and their prey--Neil and his professio...</td>\n",
       "      <td>action</td>\n",
       "    </tr>\n",
       "    <tr>\n",
       "      <th>4</th>\n",
       "      <td>7</td>\n",
       "      <td>Sabrina (1995)</td>\n",
       "      <td>An ugly duckling having undergone a remarkable...</td>\n",
       "      <td>romance</td>\n",
       "    </tr>\n",
       "    <tr>\n",
       "      <th>5</th>\n",
       "      <td>9</td>\n",
       "      <td>Sudden Death (1995)</td>\n",
       "      <td>Some terrorists kidnap the Vice President of t...</td>\n",
       "      <td>action</td>\n",
       "    </tr>\n",
       "    <tr>\n",
       "      <th>6</th>\n",
       "      <td>10</td>\n",
       "      <td>GoldenEye (1995)</td>\n",
       "      <td>James Bond teams up with the lone survivor of ...</td>\n",
       "      <td>action</td>\n",
       "    </tr>\n",
       "    <tr>\n",
       "      <th>7</th>\n",
       "      <td>15</td>\n",
       "      <td>Cutthroat Island (1995)</td>\n",
       "      <td>Morgan Adams and her slave, William Shaw, are ...</td>\n",
       "      <td>action</td>\n",
       "    </tr>\n",
       "    <tr>\n",
       "      <th>8</th>\n",
       "      <td>17</td>\n",
       "      <td>Sense and Sensibility (1995)</td>\n",
       "      <td>When Mr. Dashwood dies, he must leave the bulk...</td>\n",
       "      <td>romance</td>\n",
       "    </tr>\n",
       "    <tr>\n",
       "      <th>9</th>\n",
       "      <td>18</td>\n",
       "      <td>Four Rooms (1995)</td>\n",
       "      <td>This movie features the collaborative director...</td>\n",
       "      <td>comedy</td>\n",
       "    </tr>\n",
       "    <tr>\n",
       "      <th>10</th>\n",
       "      <td>19</td>\n",
       "      <td>Ace Ventura: When Nature Calls (1995)</td>\n",
       "      <td>Ace Ventura, emerging from self-imposed exile ...</td>\n",
       "      <td>comedy</td>\n",
       "    </tr>\n",
       "    <tr>\n",
       "      <th>11</th>\n",
       "      <td>29</td>\n",
       "      <td>City of Lost Children, The (Cité des enfants p...</td>\n",
       "      <td>Krank (Daniel Emilfork), who cannot dream, kid...</td>\n",
       "      <td>sci-fi</td>\n",
       "    </tr>\n",
       "    <tr>\n",
       "      <th>12</th>\n",
       "      <td>32</td>\n",
       "      <td>Twelve Monkeys (a.k.a. 12 Monkeys) (1995)</td>\n",
       "      <td>In a future world devastated by disease, a con...</td>\n",
       "      <td>sci-fi</td>\n",
       "    </tr>\n",
       "    <tr>\n",
       "      <th>13</th>\n",
       "      <td>34</td>\n",
       "      <td>Babe (1995)</td>\n",
       "      <td>Farmer Hoggett wins a runt piglet at a local f...</td>\n",
       "      <td>fantasy</td>\n",
       "    </tr>\n",
       "    <tr>\n",
       "      <th>14</th>\n",
       "      <td>39</td>\n",
       "      <td>Clueless (1995)</td>\n",
       "      <td>A rich high school student tries to boost a ne...</td>\n",
       "      <td>romance</td>\n",
       "    </tr>\n",
       "    <tr>\n",
       "      <th>15</th>\n",
       "      <td>44</td>\n",
       "      <td>Mortal Kombat (1995)</td>\n",
       "      <td>Based on the popular video game of the same na...</td>\n",
       "      <td>action</td>\n",
       "    </tr>\n",
       "    <tr>\n",
       "      <th>16</th>\n",
       "      <td>48</td>\n",
       "      <td>Pocahontas (1995)</td>\n",
       "      <td>Capt. John Smith leads a rag-tag band of Engli...</td>\n",
       "      <td>animation</td>\n",
       "    </tr>\n",
       "    <tr>\n",
       "      <th>17</th>\n",
       "      <td>50</td>\n",
       "      <td>Usual Suspects, The (1995)</td>\n",
       "      <td>Following a truck hijack in New York, five con...</td>\n",
       "      <td>comedy</td>\n",
       "    </tr>\n",
       "    <tr>\n",
       "      <th>18</th>\n",
       "      <td>57</td>\n",
       "      <td>Home for the Holidays (1995)</td>\n",
       "      <td>After losing her job, making out with her soon...</td>\n",
       "      <td>comedy</td>\n",
       "    </tr>\n",
       "    <tr>\n",
       "      <th>19</th>\n",
       "      <td>69</td>\n",
       "      <td>Friday (1995)</td>\n",
       "      <td>Two homies, Smokey and Craig, smoke a dope dea...</td>\n",
       "      <td>comedy</td>\n",
       "    </tr>\n",
       "    <tr>\n",
       "      <th>20</th>\n",
       "      <td>70</td>\n",
       "      <td>From Dusk Till Dawn (1996)</td>\n",
       "      <td>Two criminals and their hostages unknowingly s...</td>\n",
       "      <td>action</td>\n",
       "    </tr>\n",
       "    <tr>\n",
       "      <th>21</th>\n",
       "      <td>76</td>\n",
       "      <td>Screamers (1995)</td>\n",
       "      <td>(SIRIUS 6B, Year 2078) On a distant mining pla...</td>\n",
       "      <td>sci-fi</td>\n",
       "    </tr>\n",
       "    <tr>\n",
       "      <th>22</th>\n",
       "      <td>82</td>\n",
       "      <td>Antonia's Line (Antonia) (1995)</td>\n",
       "      <td>In an anonymous Dutch village, a sturdy, stron...</td>\n",
       "      <td>fantasy</td>\n",
       "    </tr>\n",
       "    <tr>\n",
       "      <th>23</th>\n",
       "      <td>88</td>\n",
       "      <td>Black Sheep (1996)</td>\n",
       "      <td>Comedy about the prospective Washington State ...</td>\n",
       "      <td>comedy</td>\n",
       "    </tr>\n",
       "    <tr>\n",
       "      <th>24</th>\n",
       "      <td>95</td>\n",
       "      <td>Broken Arrow (1996)</td>\n",
       "      <td>\"Broken Arrow\" is the term used to describe a ...</td>\n",
       "      <td>action</td>\n",
       "    </tr>\n",
       "    <tr>\n",
       "      <th>25</th>\n",
       "      <td>104</td>\n",
       "      <td>Happy Gilmore (1996)</td>\n",
       "      <td>A rejected hockey player puts his skills to th...</td>\n",
       "      <td>comedy</td>\n",
       "    </tr>\n",
       "    <tr>\n",
       "      <th>26</th>\n",
       "      <td>105</td>\n",
       "      <td>Bridges of Madison County, The (1995)</td>\n",
       "      <td>Photographer Robert Kincaid wanders into the l...</td>\n",
       "      <td>romance</td>\n",
       "    </tr>\n",
       "    <tr>\n",
       "      <th>27</th>\n",
       "      <td>110</td>\n",
       "      <td>Braveheart (1995)</td>\n",
       "      <td>When his secret bride is executed for assaulti...</td>\n",
       "      <td>action</td>\n",
       "    </tr>\n",
       "    <tr>\n",
       "      <th>28</th>\n",
       "      <td>141</td>\n",
       "      <td>Birdcage, The (1996)</td>\n",
       "      <td>Armand Goldman owns a popular drag nightclub i...</td>\n",
       "      <td>comedy</td>\n",
       "    </tr>\n",
       "    <tr>\n",
       "      <th>29</th>\n",
       "      <td>145</td>\n",
       "      <td>Bad Boys (1995)</td>\n",
       "      <td>Marcus Burnett is a hen-pecked family man. Mik...</td>\n",
       "      <td>action</td>\n",
       "    </tr>\n",
       "    <tr>\n",
       "      <th>...</th>\n",
       "      <td>...</td>\n",
       "      <td>...</td>\n",
       "      <td>...</td>\n",
       "      <td>...</td>\n",
       "    </tr>\n",
       "    <tr>\n",
       "      <th>1813</th>\n",
       "      <td>122902</td>\n",
       "      <td>Fantastic Four (2015)</td>\n",
       "      <td>FANTASTIC FOUR, a contemporary re-imagining of...</td>\n",
       "      <td>sci-fi</td>\n",
       "    </tr>\n",
       "    <tr>\n",
       "      <th>1814</th>\n",
       "      <td>127098</td>\n",
       "      <td>Louis C.K.: Live at The Comedy Store (2015)</td>\n",
       "      <td>Comedian Louis C.K. performs live at the Comed...</td>\n",
       "      <td>comedy</td>\n",
       "    </tr>\n",
       "    <tr>\n",
       "      <th>1815</th>\n",
       "      <td>127158</td>\n",
       "      <td>Tig (2015)</td>\n",
       "      <td>An intimate, mixed media documentary that foll...</td>\n",
       "      <td>comedy</td>\n",
       "    </tr>\n",
       "    <tr>\n",
       "      <th>1816</th>\n",
       "      <td>127202</td>\n",
       "      <td>Me and Earl and the Dying Girl (2015)</td>\n",
       "      <td>Seventeen-year-old Greg has managed to become ...</td>\n",
       "      <td>comedy</td>\n",
       "    </tr>\n",
       "    <tr>\n",
       "      <th>1817</th>\n",
       "      <td>129354</td>\n",
       "      <td>Focus (2015)</td>\n",
       "      <td>In the midst of veteran con man Nicky's latest...</td>\n",
       "      <td>action</td>\n",
       "    </tr>\n",
       "    <tr>\n",
       "      <th>1818</th>\n",
       "      <td>129428</td>\n",
       "      <td>The Second Best Exotic Marigold Hotel (2015)</td>\n",
       "      <td>The Second Best Exotic Marigold Hotel is the e...</td>\n",
       "      <td>comedy</td>\n",
       "    </tr>\n",
       "    <tr>\n",
       "      <th>1819</th>\n",
       "      <td>129937</td>\n",
       "      <td>Run All Night (2015)</td>\n",
       "      <td>Professional Brooklyn hitman Jimmy Conlon is m...</td>\n",
       "      <td>action</td>\n",
       "    </tr>\n",
       "    <tr>\n",
       "      <th>1820</th>\n",
       "      <td>130490</td>\n",
       "      <td>Insurgent (2015)</td>\n",
       "      <td>One choice can transform you-or it can destroy...</td>\n",
       "      <td>sci-fi</td>\n",
       "    </tr>\n",
       "    <tr>\n",
       "      <th>1821</th>\n",
       "      <td>130520</td>\n",
       "      <td>Home (2015)</td>\n",
       "      <td>An alien on the run from his own people makes ...</td>\n",
       "      <td>animation</td>\n",
       "    </tr>\n",
       "    <tr>\n",
       "      <th>1822</th>\n",
       "      <td>130634</td>\n",
       "      <td>Furious 7 (2015)</td>\n",
       "      <td>Dominic and his crew thought they'd left the c...</td>\n",
       "      <td>action</td>\n",
       "    </tr>\n",
       "    <tr>\n",
       "      <th>1823</th>\n",
       "      <td>131013</td>\n",
       "      <td>Get Hard (2015)</td>\n",
       "      <td>Kevin Hart plays the role of Darnell--a family...</td>\n",
       "      <td>comedy</td>\n",
       "    </tr>\n",
       "    <tr>\n",
       "      <th>1824</th>\n",
       "      <td>132046</td>\n",
       "      <td>Tomorrowland (2015)</td>\n",
       "      <td>Bound by a shared destiny, a bright, optimisti...</td>\n",
       "      <td>sci-fi</td>\n",
       "    </tr>\n",
       "    <tr>\n",
       "      <th>1825</th>\n",
       "      <td>132480</td>\n",
       "      <td>The Age of Adaline (2015)</td>\n",
       "      <td>A young woman, born at the turn of the 20th ce...</td>\n",
       "      <td>romance</td>\n",
       "    </tr>\n",
       "    <tr>\n",
       "      <th>1826</th>\n",
       "      <td>132488</td>\n",
       "      <td>Lovesick (2014)</td>\n",
       "      <td>Lovesick is the comic tale of Charlie Darby (M...</td>\n",
       "      <td>fantasy</td>\n",
       "    </tr>\n",
       "    <tr>\n",
       "      <th>1827</th>\n",
       "      <td>132796</td>\n",
       "      <td>San Andreas (2015)</td>\n",
       "      <td>In San Andreas, California is experiencing a s...</td>\n",
       "      <td>action</td>\n",
       "    </tr>\n",
       "    <tr>\n",
       "      <th>1828</th>\n",
       "      <td>132961</td>\n",
       "      <td>Far from the Madding Crowd (2015)</td>\n",
       "      <td>In Victorian England, the independent and head...</td>\n",
       "      <td>romance</td>\n",
       "    </tr>\n",
       "    <tr>\n",
       "      <th>1829</th>\n",
       "      <td>133195</td>\n",
       "      <td>Hitman: Agent 47 (2015)</td>\n",
       "      <td>An assassin teams up with a woman to help her ...</td>\n",
       "      <td>action</td>\n",
       "    </tr>\n",
       "    <tr>\n",
       "      <th>1830</th>\n",
       "      <td>133645</td>\n",
       "      <td>Carol (2015)</td>\n",
       "      <td>In an adaptation of Patricia Highsmith's semin...</td>\n",
       "      <td>romance</td>\n",
       "    </tr>\n",
       "    <tr>\n",
       "      <th>1831</th>\n",
       "      <td>134130</td>\n",
       "      <td>The Martian (2015)</td>\n",
       "      <td>During a manned mission to Mars, Astronaut Mar...</td>\n",
       "      <td>sci-fi</td>\n",
       "    </tr>\n",
       "    <tr>\n",
       "      <th>1832</th>\n",
       "      <td>134368</td>\n",
       "      <td>Spy (2015)</td>\n",
       "      <td>A desk-bound CIA analyst volunteers to go unde...</td>\n",
       "      <td>comedy</td>\n",
       "    </tr>\n",
       "    <tr>\n",
       "      <th>1833</th>\n",
       "      <td>134783</td>\n",
       "      <td>Entourage (2015)</td>\n",
       "      <td>Movie star Vincent Chase, together with his bo...</td>\n",
       "      <td>comedy</td>\n",
       "    </tr>\n",
       "    <tr>\n",
       "      <th>1834</th>\n",
       "      <td>134853</td>\n",
       "      <td>Inside Out (2015)</td>\n",
       "      <td>After young Riley is uprooted from her Midwest...</td>\n",
       "      <td>comedy</td>\n",
       "    </tr>\n",
       "    <tr>\n",
       "      <th>1835</th>\n",
       "      <td>135518</td>\n",
       "      <td>Self/less (2015)</td>\n",
       "      <td>A dying real estate mogul transfers his consci...</td>\n",
       "      <td>sci-fi</td>\n",
       "    </tr>\n",
       "    <tr>\n",
       "      <th>1836</th>\n",
       "      <td>135861</td>\n",
       "      <td>Ted 2 (2015)</td>\n",
       "      <td>Months after John's divorce, Ted and Tami-Lynn...</td>\n",
       "      <td>comedy</td>\n",
       "    </tr>\n",
       "    <tr>\n",
       "      <th>1837</th>\n",
       "      <td>135887</td>\n",
       "      <td>Minions (2015)</td>\n",
       "      <td>Ever since the dawn of time, the Minions have ...</td>\n",
       "      <td>comedy</td>\n",
       "    </tr>\n",
       "    <tr>\n",
       "      <th>1838</th>\n",
       "      <td>136016</td>\n",
       "      <td>The Good Dinosaur (2015)</td>\n",
       "      <td>In a world where dinosaurs and humans live sid...</td>\n",
       "      <td>animation</td>\n",
       "    </tr>\n",
       "    <tr>\n",
       "      <th>1839</th>\n",
       "      <td>139855</td>\n",
       "      <td>Anomalisa (2015)</td>\n",
       "      <td>Michael Stone, an author that specializes in c...</td>\n",
       "      <td>animation</td>\n",
       "    </tr>\n",
       "    <tr>\n",
       "      <th>1840</th>\n",
       "      <td>142997</td>\n",
       "      <td>Hotel Transylvania 2 (2015)</td>\n",
       "      <td>The Drac pack is back for an all-new monster c...</td>\n",
       "      <td>animation</td>\n",
       "    </tr>\n",
       "    <tr>\n",
       "      <th>1841</th>\n",
       "      <td>145935</td>\n",
       "      <td>Peanuts Movie, The (2015)</td>\n",
       "      <td>Charlie Brown, Lucy, Snoopy, and the whole gan...</td>\n",
       "      <td>animation</td>\n",
       "    </tr>\n",
       "    <tr>\n",
       "      <th>1842</th>\n",
       "      <td>149406</td>\n",
       "      <td>Kung Fu Panda 3 (2016)</td>\n",
       "      <td>Continuing his \"legendary adventures of awesom...</td>\n",
       "      <td>comedy</td>\n",
       "    </tr>\n",
       "  </tbody>\n",
       "</table>\n",
       "<p>1843 rows × 4 columns</p>\n",
       "</div>"
      ],
      "text/plain": [
       "      MovieID                                             Titles  \\\n",
       "0           1                                   Toy Story (1995)   \n",
       "1           2                                     Jumanji (1995)   \n",
       "2           3                            Grumpier Old Men (1995)   \n",
       "3           6                                        Heat (1995)   \n",
       "4           7                                     Sabrina (1995)   \n",
       "5           9                                Sudden Death (1995)   \n",
       "6          10                                   GoldenEye (1995)   \n",
       "7          15                            Cutthroat Island (1995)   \n",
       "8          17                       Sense and Sensibility (1995)   \n",
       "9          18                                  Four Rooms (1995)   \n",
       "10         19              Ace Ventura: When Nature Calls (1995)   \n",
       "11         29  City of Lost Children, The (Cité des enfants p...   \n",
       "12         32          Twelve Monkeys (a.k.a. 12 Monkeys) (1995)   \n",
       "13         34                                        Babe (1995)   \n",
       "14         39                                    Clueless (1995)   \n",
       "15         44                               Mortal Kombat (1995)   \n",
       "16         48                                  Pocahontas (1995)   \n",
       "17         50                         Usual Suspects, The (1995)   \n",
       "18         57                       Home for the Holidays (1995)   \n",
       "19         69                                      Friday (1995)   \n",
       "20         70                         From Dusk Till Dawn (1996)   \n",
       "21         76                                   Screamers (1995)   \n",
       "22         82                    Antonia's Line (Antonia) (1995)   \n",
       "23         88                                 Black Sheep (1996)   \n",
       "24         95                                Broken Arrow (1996)   \n",
       "25        104                               Happy Gilmore (1996)   \n",
       "26        105              Bridges of Madison County, The (1995)   \n",
       "27        110                                  Braveheart (1995)   \n",
       "28        141                               Birdcage, The (1996)   \n",
       "29        145                                    Bad Boys (1995)   \n",
       "...       ...                                                ...   \n",
       "1813   122902                              Fantastic Four (2015)   \n",
       "1814   127098        Louis C.K.: Live at The Comedy Store (2015)   \n",
       "1815   127158                                         Tig (2015)   \n",
       "1816   127202              Me and Earl and the Dying Girl (2015)   \n",
       "1817   129354                                       Focus (2015)   \n",
       "1818   129428       The Second Best Exotic Marigold Hotel (2015)   \n",
       "1819   129937                               Run All Night (2015)   \n",
       "1820   130490                                   Insurgent (2015)   \n",
       "1821   130520                                        Home (2015)   \n",
       "1822   130634                                   Furious 7 (2015)   \n",
       "1823   131013                                    Get Hard (2015)   \n",
       "1824   132046                                Tomorrowland (2015)   \n",
       "1825   132480                          The Age of Adaline (2015)   \n",
       "1826   132488                                    Lovesick (2014)   \n",
       "1827   132796                                 San Andreas (2015)   \n",
       "1828   132961                  Far from the Madding Crowd (2015)   \n",
       "1829   133195                            Hitman: Agent 47 (2015)   \n",
       "1830   133645                                       Carol (2015)   \n",
       "1831   134130                                 The Martian (2015)   \n",
       "1832   134368                                         Spy (2015)   \n",
       "1833   134783                                   Entourage (2015)   \n",
       "1834   134853                                  Inside Out (2015)   \n",
       "1835   135518                                   Self/less (2015)   \n",
       "1836   135861                                       Ted 2 (2015)   \n",
       "1837   135887                                     Minions (2015)   \n",
       "1838   136016                           The Good Dinosaur (2015)   \n",
       "1839   139855                                   Anomalisa (2015)   \n",
       "1840   142997                        Hotel Transylvania 2 (2015)   \n",
       "1841   145935                          Peanuts Movie, The (2015)   \n",
       "1842   149406                             Kung Fu Panda 3 (2016)   \n",
       "\n",
       "                                                  Plots     Genres  \n",
       "0     A little boy named Andy loves to be in his roo...  animation  \n",
       "1     When two kids find and play a magical board ga...    fantasy  \n",
       "2     Things don't seem to change much in Wabasha Co...     comedy  \n",
       "3     Hunters and their prey--Neil and his professio...     action  \n",
       "4     An ugly duckling having undergone a remarkable...    romance  \n",
       "5     Some terrorists kidnap the Vice President of t...     action  \n",
       "6     James Bond teams up with the lone survivor of ...     action  \n",
       "7     Morgan Adams and her slave, William Shaw, are ...     action  \n",
       "8     When Mr. Dashwood dies, he must leave the bulk...    romance  \n",
       "9     This movie features the collaborative director...     comedy  \n",
       "10    Ace Ventura, emerging from self-imposed exile ...     comedy  \n",
       "11    Krank (Daniel Emilfork), who cannot dream, kid...     sci-fi  \n",
       "12    In a future world devastated by disease, a con...     sci-fi  \n",
       "13    Farmer Hoggett wins a runt piglet at a local f...    fantasy  \n",
       "14    A rich high school student tries to boost a ne...    romance  \n",
       "15    Based on the popular video game of the same na...     action  \n",
       "16    Capt. John Smith leads a rag-tag band of Engli...  animation  \n",
       "17    Following a truck hijack in New York, five con...     comedy  \n",
       "18    After losing her job, making out with her soon...     comedy  \n",
       "19    Two homies, Smokey and Craig, smoke a dope dea...     comedy  \n",
       "20    Two criminals and their hostages unknowingly s...     action  \n",
       "21    (SIRIUS 6B, Year 2078) On a distant mining pla...     sci-fi  \n",
       "22    In an anonymous Dutch village, a sturdy, stron...    fantasy  \n",
       "23    Comedy about the prospective Washington State ...     comedy  \n",
       "24    \"Broken Arrow\" is the term used to describe a ...     action  \n",
       "25    A rejected hockey player puts his skills to th...     comedy  \n",
       "26    Photographer Robert Kincaid wanders into the l...    romance  \n",
       "27    When his secret bride is executed for assaulti...     action  \n",
       "28    Armand Goldman owns a popular drag nightclub i...     comedy  \n",
       "29    Marcus Burnett is a hen-pecked family man. Mik...     action  \n",
       "...                                                 ...        ...  \n",
       "1813  FANTASTIC FOUR, a contemporary re-imagining of...     sci-fi  \n",
       "1814  Comedian Louis C.K. performs live at the Comed...     comedy  \n",
       "1815  An intimate, mixed media documentary that foll...     comedy  \n",
       "1816  Seventeen-year-old Greg has managed to become ...     comedy  \n",
       "1817  In the midst of veteran con man Nicky's latest...     action  \n",
       "1818  The Second Best Exotic Marigold Hotel is the e...     comedy  \n",
       "1819  Professional Brooklyn hitman Jimmy Conlon is m...     action  \n",
       "1820  One choice can transform you-or it can destroy...     sci-fi  \n",
       "1821  An alien on the run from his own people makes ...  animation  \n",
       "1822  Dominic and his crew thought they'd left the c...     action  \n",
       "1823  Kevin Hart plays the role of Darnell--a family...     comedy  \n",
       "1824  Bound by a shared destiny, a bright, optimisti...     sci-fi  \n",
       "1825  A young woman, born at the turn of the 20th ce...    romance  \n",
       "1826  Lovesick is the comic tale of Charlie Darby (M...    fantasy  \n",
       "1827  In San Andreas, California is experiencing a s...     action  \n",
       "1828  In Victorian England, the independent and head...    romance  \n",
       "1829  An assassin teams up with a woman to help her ...     action  \n",
       "1830  In an adaptation of Patricia Highsmith's semin...    romance  \n",
       "1831  During a manned mission to Mars, Astronaut Mar...     sci-fi  \n",
       "1832  A desk-bound CIA analyst volunteers to go unde...     comedy  \n",
       "1833  Movie star Vincent Chase, together with his bo...     comedy  \n",
       "1834  After young Riley is uprooted from her Midwest...     comedy  \n",
       "1835  A dying real estate mogul transfers his consci...     sci-fi  \n",
       "1836  Months after John's divorce, Ted and Tami-Lynn...     comedy  \n",
       "1837  Ever since the dawn of time, the Minions have ...     comedy  \n",
       "1838  In a world where dinosaurs and humans live sid...  animation  \n",
       "1839  Michael Stone, an author that specializes in c...  animation  \n",
       "1840  The Drac pack is back for an all-new monster c...  animation  \n",
       "1841  Charlie Brown, Lucy, Snoopy, and the whole gan...  animation  \n",
       "1842  Continuing his \"legendary adventures of awesom...     comedy  \n",
       "\n",
       "[1843 rows x 4 columns]"
      ]
     },
     "execution_count": 1,
     "metadata": {},
     "output_type": "execute_result"
    }
   ],
   "source": [
    "import gensim\n",
    "import pandas as pd\n",
    "import smart_open\n",
    "import random\n",
    "from smart_open import smart_open\n",
    "\n",
    "# read data\n",
    "dataframe = pd.read_csv('movie_plots.csv')\n",
    "dataframe"
   ]
  },
  {
   "cell_type": "markdown",
   "metadata": {},
   "source": [
    "# 1. Visualizing Doc2Vec\n",
    "In this part, we will learn about visualizing Doc2Vec Embeddings aka [Paragraph Vectors](https://arxiv.org/abs/1405.4053) via TensorBoard. The input documents for training will be the synopsis of movies, on which Doc2Vec model is trained. \n",
    "\n",
    "<img src=\"Tensorboard.png\">\n",
    "\n",
    "The visualizations will be a scatterplot as seen in the above image, where each datapoint is labelled by the movie title and colored by it's corresponding genre. You can also visit this [Projector link](http://projector.tensorflow.org/?config=https://raw.githubusercontent.com/parulsethi/DocViz/master/movie_plot_config.json) which is configured with my embeddings for the above mentioned dataset. \n",
    "\n",
    "\n",
    "## Preprocess Text"
   ]
  },
  {
   "cell_type": "markdown",
   "metadata": {},
   "source": [
    "Below, we define a function to read the training documents, pre-process each document using a simple gensim pre-processing tool (i.e., tokenize text into individual words, remove punctuation, set to lowercase, etc), and return a list of words. Also, to train the model, we'll need to associate a tag/number with each document of the training corpus. In our case, the tag is simply the zero-based line number."
   ]
  },
  {
   "cell_type": "code",
   "execution_count": 2,
   "metadata": {
    "collapsed": true
   },
   "outputs": [],
   "source": [
    "def read_corpus(documents):\n",
    "    for i, plot in enumerate(documents):\n",
    "        yield gensim.models.doc2vec.TaggedDocument(gensim.utils.simple_preprocess(plot, max_len=30), [i])"
   ]
  },
  {
   "cell_type": "code",
   "execution_count": 3,
   "metadata": {
    "collapsed": true
   },
   "outputs": [],
   "source": [
    "train_corpus = list(read_corpus(dataframe.Plots))"
   ]
  },
  {
   "cell_type": "markdown",
   "metadata": {},
   "source": [
    "Let's take a look at the training corpus."
   ]
  },
  {
   "cell_type": "code",
   "execution_count": 4,
   "metadata": {},
   "outputs": [
    {
     "data": {
      "text/plain": [
       "[TaggedDocument(words=['little', 'boy', 'named', 'andy', 'loves', 'to', 'be', 'in', 'his', 'room', 'playing', 'with', 'his', 'toys', 'especially', 'his', 'doll', 'named', 'woody', 'but', 'what', 'do', 'the', 'toys', 'do', 'when', 'andy', 'is', 'not', 'with', 'them', 'they', 'come', 'to', 'life', 'woody', 'believes', 'that', 'he', 'has', 'life', 'as', 'toy', 'good', 'however', 'he', 'must', 'worry', 'about', 'andy', 'family', 'moving', 'and', 'what', 'woody', 'does', 'not', 'know', 'is', 'about', 'andy', 'birthday', 'party', 'woody', 'does', 'not', 'realize', 'that', 'andy', 'mother', 'gave', 'him', 'an', 'action', 'figure', 'known', 'as', 'buzz', 'lightyear', 'who', 'does', 'not', 'believe', 'that', 'he', 'is', 'toy', 'and', 'quickly', 'becomes', 'andy', 'new', 'favorite', 'toy', 'woody', 'who', 'is', 'now', 'consumed', 'with', 'jealousy', 'tries', 'to', 'get', 'rid', 'of', 'buzz', 'then', 'both', 'woody', 'and', 'buzz', 'are', 'now', 'lost', 'they', 'must', 'find', 'way', 'to', 'get', 'back', 'to', 'andy', 'before', 'he', 'moves', 'without', 'them', 'but', 'they', 'will', 'have', 'to', 'pass', 'through', 'ruthless', 'toy', 'killer', 'sid', 'phillips'], tags=[0]),\n",
       " TaggedDocument(words=['when', 'two', 'kids', 'find', 'and', 'play', 'magical', 'board', 'game', 'they', 'release', 'man', 'trapped', 'for', 'decades', 'in', 'it', 'and', 'host', 'of', 'dangers', 'that', 'can', 'only', 'be', 'stopped', 'by', 'finishing', 'the', 'game'], tags=[1])]"
      ]
     },
     "execution_count": 4,
     "metadata": {},
     "output_type": "execute_result"
    }
   ],
   "source": [
    "train_corpus[:2]"
   ]
  },
  {
   "cell_type": "markdown",
   "metadata": {},
   "source": [
    "## Training the Doc2Vec Model\n",
    "We'll instantiate a Doc2Vec model with a vector size with 50 words and iterating over the training corpus 55 times. We set the minimum word count to 2 in order to give higher frequency words more weighting. Model accuracy can be improved by increasing the number of iterations but this generally increases the training time. Small datasets with short documents, like this one, can benefit from more training passes."
   ]
  },
  {
   "cell_type": "code",
   "execution_count": 5,
   "metadata": {},
   "outputs": [
    {
     "data": {
      "text/plain": [
       "5168238"
      ]
     },
     "execution_count": 5,
     "metadata": {},
     "output_type": "execute_result"
    }
   ],
   "source": [
    "model = gensim.models.doc2vec.Doc2Vec(size=50, min_count=2, iter=55)\n",
    "model.build_vocab(train_corpus)\n",
    "model.train(train_corpus, total_examples=model.corpus_count, epochs=model.iter)"
   ]
  },
  {
   "cell_type": "markdown",
   "metadata": {},
   "source": [
    "Now, we'll save the document embedding vectors per doctag."
   ]
  },
  {
   "cell_type": "code",
   "execution_count": 9,
   "metadata": {
    "collapsed": true
   },
   "outputs": [],
   "source": [
    "model.save_word2vec_format('doc_tensor.w2v', doctag_vec=True, word_vec=False)  "
   ]
  },
  {
   "cell_type": "markdown",
   "metadata": {},
   "source": [
    "## Prepare the Input files for Tensorboard"
   ]
  },
  {
   "cell_type": "markdown",
   "metadata": {},
   "source": [
    "Tensorboard takes two Input files. One containing the embedding vectors and the other containing relevant metadata. We'll use a gensim script to directly convert the embedding file saved in word2vec format above to the tsv format required in Tensorboard."
   ]
  },
  {
   "cell_type": "code",
   "execution_count": 11,
   "metadata": {},
   "outputs": [
    {
     "name": "stderr",
     "output_type": "stream",
     "text": [
      "2017-04-20 02:23:05,284 : MainThread : INFO : running ../../gensim/scripts/word2vec2tensor.py -i doc_tensor.w2v -o movie_plot\n",
      "2017-04-20 02:23:05,286 : MainThread : INFO : loading projection weights from doc_tensor.w2v\n",
      "2017-04-20 02:23:05,464 : MainThread : INFO : loaded (1843, 50) matrix from doc_tensor.w2v\n",
      "2017-04-20 02:23:05,578 : MainThread : INFO : 2D tensor file saved to movie_plot_tensor.tsv\n",
      "2017-04-20 02:23:05,579 : MainThread : INFO : Tensor metadata file saved to movie_plot_metadata.tsv\n",
      "2017-04-20 02:23:05,581 : MainThread : INFO : finished running word2vec2tensor.py\n"
     ]
    }
   ],
   "source": [
    "%run ../../gensim/scripts/word2vec2tensor.py -i doc_tensor.w2v -o movie_plot"
   ]
  },
  {
   "cell_type": "markdown",
   "metadata": {},
   "source": [
    "The script above generates two files, `movie_plot_tensor.tsv` which contain the embedding vectors and `movie_plot_metadata.tsv`  containing doctags. But, these doctags are simply the unique index values and hence are not really useful to interpret what the document was while visualizing. So, we will overwrite `movie_plot_metadata.tsv` to have a custom metadata file with two columns. The first column will be for the movie titles and the second for their corresponding genres."
   ]
  },
  {
   "cell_type": "code",
   "execution_count": 12,
   "metadata": {
    "collapsed": true
   },
   "outputs": [],
   "source": [
    "with smart_open('movie_plot_metadata.tsv','w') as w:\n",
    "    w.write('Titles\\tGenres\\n')\n",
    "    for i,j in zip(dataframe.Titles, dataframe.Genres):\n",
    "        w.write(\"%s\\t%s\\n\" % (i,j))"
   ]
  },
  {
   "cell_type": "markdown",
   "metadata": {
    "collapsed": true
   },
   "source": [
    "Now you can go to http://projector.tensorflow.org/ and upload the two files by clicking on *Load data* in the left panel.\n",
    "\n",
    "For demo purposes I have uploaded the Doc2Vec embeddings generated from the model trained above [here](https://github.com/parulsethi/DocViz). You can access the Embedding projector configured with these uploaded embeddings at this [link](http://projector.tensorflow.org/?config=https://raw.githubusercontent.com/parulsethi/DocViz/master/movie_plot_config.json)."
   ]
  },
  {
   "cell_type": "markdown",
   "metadata": {
    "collapsed": true
   },
   "source": [
    "# Using Tensorboard"
   ]
  },
  {
   "cell_type": "markdown",
   "metadata": {},
   "source": [
    "For the visualization purpose, the multi-dimensional embeddings that we get from the Doc2Vec model above, needs to be  downsized to 2 or 3 dimensions. So that we basically end up with a new 2d or 3d embedding which tries to preserve information from the original multi-dimensional embedding. As these vectors are reduced to a much smaller dimension, the exact cosine/euclidean distances between them are not preserved, but rather relative, and hence as you’ll see below the nearest similarity results may change.\n",
    "\n",
    "TensorBoard has two popular dimensionality reduction methods for visualizing the embeddings and also provides a custom method based on text searches:\n",
    "\n",
    "- **Principal Component Analysis**: PCA aims at exploring the global structure in data, and could end up losing the local similarities between neighbours. It maximizes the total variance in the lower dimensional subspace and hence, often preserves the larger pairwise distances better than the smaller ones. See an intuition behind it in this nicely explained [answer](https://stats.stackexchange.com/questions/176672/what-is-meant-by-pca-preserving-only-large-pairwise-distances) on stackexchange.\n",
    "\n",
    "\n",
    "- **T-SNE**: The idea of T-SNE is to place the local neighbours close to each other, and almost completely ignoring the global structure. It is useful for exploring local neighborhoods and finding local clusters. But the global trends are not represented accurately and the separation between different groups is often not preserved (see the t-sne plots of our data below which testify the same).\n",
    "\n",
    "\n",
    "- **Custom Projections**: This is a custom method based on the text searches you define for different directions. It could be useful for finding meaningful directions in the vector space, for example, female to male, currency to country etc.\n",
    "\n",
    "You can refer to this [doc](https://www.tensorflow.org/get_started/embedding_viz) for instructions on how to use and navigate through different panels available in TensorBoard."
   ]
  },
  {
   "cell_type": "markdown",
   "metadata": {},
   "source": [
    "## Visualize using PCA\n",
    "\n",
    "The Embedding Projector computes the top 10 principal components. The menu at the left panel lets you project those components onto any combination of two or three. \n",
    "<img src=\"pca.png\">\n",
    "The above plot was made using the first two principal components with total variance covered being 36.5%."
   ]
  },
  {
   "cell_type": "markdown",
   "metadata": {},
   "source": [
    "\n",
    "## Visualize using T-SNE\n",
    "\n",
    "Data is visualized by animating through every iteration of the t-sne algorithm. The t-sne menu at the left lets you adjust the value of it's two hyperparameters. The first one is **Perplexity**, which is basically a measure of information. It may be viewed as a knob that sets the number of effective nearest neighbors<sup>[2]</sup>. The second one is **learning rate** that defines how quickly an algorithm learns on encountering new examples/data points.\n",
    "\n",
    "<img src=\"tsne.png\">\n",
    "\n",
    "The above plot was generated with perplexity 8, learning rate 10 and iteration 500. Though the results could vary on successive runs, and you may not get the exact plot as above with same hyperparameter settings. But some small clusters will start forming as above, with different orientations."
   ]
  },
  {
   "cell_type": "markdown",
   "metadata": {},
   "source": [
    "# 2. Visualizing LDA\n",
    "\n",
    "In this part, we will see how to visualize LDA in Tensorboard. We will be using the Document-topic distribution as the embedding vector of a document. Basically, we treat topics as the dimensions and the value in each dimension represents the topic proportion of that topic in the document.\n",
    "\n",
    "## Preprocess Text\n",
    "\n",
    "We use the movie Plots as our documents in corpus and remove rare words and common words based on their document frequency. Below we remove words that appear in less than 2 documents or in more than 30% of the documents."
   ]
  },
  {
   "cell_type": "code",
   "execution_count": 3,
   "metadata": {
    "collapsed": true
   },
   "outputs": [],
   "source": [
    "import pandas as pd\n",
    "import re\n",
    "from gensim.parsing.preprocessing import remove_stopwords, strip_punctuation\n",
    "from gensim.models import ldamodel\n",
    "from gensim.corpora.dictionary import Dictionary\n",
    "\n",
    "# read data\n",
    "dataframe = pd.read_csv('movie_plots.csv')\n",
    "\n",
    "# remove stopwords and punctuations\n",
    "def preprocess(row):\n",
    "    return strip_punctuation(remove_stopwords(row.lower()))\n",
    "    \n",
    "dataframe['Plots'] = dataframe['Plots'].apply(preprocess)\n",
    "\n",
    "# Convert data to required input format by LDA\n",
    "texts = []\n",
    "for line in dataframe.Plots:\n",
    "    lowered = line.lower()\n",
    "    words = re.findall(r'\\w+', lowered, flags = re.UNICODE | re.LOCALE)\n",
    "    texts.append(words)\n",
    "# Create a dictionary representation of the documents.\n",
    "dictionary = Dictionary(texts)\n",
    "\n",
    "# Filter out words that occur less than 2 documents, or more than 30% of the documents.\n",
    "dictionary.filter_extremes(no_below=2, no_above=0.3)\n",
    "# Bag-of-words representation of the documents.\n",
    "corpus = [dictionary.doc2bow(text) for text in texts]"
   ]
  },
  {
   "cell_type": "markdown",
   "metadata": {},
   "source": [
    "## Train LDA Model\n"
   ]
  },
  {
   "cell_type": "code",
   "execution_count": 4,
   "metadata": {
    "collapsed": true
   },
   "outputs": [],
   "source": [
    "# Set training parameters.\n",
    "num_topics = 10\n",
    "chunksize = 2000\n",
    "passes = 50\n",
    "iterations = 200\n",
    "eval_every = None\n",
    "\n",
    "# Train model\n",
    "model = ldamodel.LdaModel(corpus=corpus, id2word=dictionary, chunksize=chunksize, alpha='auto', eta='auto', iterations=iterations, num_topics=num_topics, passes=passes, eval_every=eval_every)"
   ]
  },
  {
   "cell_type": "markdown",
   "metadata": {},
   "source": [
    "You can refer to [this notebook](lda_training_tips.ipynb) also before training the LDA model. It contains tips and suggestions for pre-processing the text data, and how to train the LDA model to get good results."
   ]
  },
  {
   "cell_type": "markdown",
   "metadata": {},
   "source": [
    "## Doc-Topic distribution\n",
    "\n",
    "Now we will use `get_document_topics` which infers the topic distribution of a document. It basically returns a list of (topic_id, topic_probability) for each document in the input corpus."
   ]
  },
  {
   "cell_type": "code",
   "execution_count": 4,
   "metadata": {},
   "outputs": [
    {
     "data": {
      "text/plain": [
       "[(0, 0.00029626785677659928),\n",
       " (1, 0.99734244187457377),\n",
       " (2, 0.00031813940693891458),\n",
       " (3, 0.00031573036467256674),\n",
       " (4, 0.00033277056023999966),\n",
       " (5, 0.00023981837072288835),\n",
       " (6, 0.00033113374640540293),\n",
       " (7, 0.00027953838669809549),\n",
       " (8, 0.0002706215262517565),\n",
       " (9, 0.00027353790672011199)]"
      ]
     },
     "execution_count": 4,
     "metadata": {},
     "output_type": "execute_result"
    }
   ],
   "source": [
    "# Get document topics\n",
    "all_topics = model.get_document_topics(corpus, minimum_probability=0)\n",
    "all_topics[0]"
   ]
  },
  {
   "cell_type": "markdown",
   "metadata": {},
   "source": [
    "The above output shows the topic distribution of first document in the corpus as a list of (topic_id, topic_probability).\n",
    "\n",
    "Now, using the topic distribution of a document as it's vector embedding, we will plot all the documents in our corpus using Tensorboard."
   ]
  },
  {
   "cell_type": "markdown",
   "metadata": {},
   "source": [
    "## Prepare the Input files for Tensorboard\n",
    "\n",
    "Tensorboard takes two input files, one containing the embedding vectors and the other containing relevant metadata. As described above we will use the topic distribution of documents as their embedding vector. Metadata file will consist of Movie titles with their genres."
   ]
  },
  {
   "cell_type": "code",
   "execution_count": 5,
   "metadata": {
    "collapsed": true
   },
   "outputs": [],
   "source": [
    "# create file for tensors\n",
    "with smart_open('doc_lda_tensor.tsv','w') as w:\n",
    "    for doc_topics in all_topics:\n",
    "        for topics in doc_topics:\n",
    "            w.write(str(topics[1])+ \"\\t\")\n",
    "        w.write(\"\\n\")\n",
    "        \n",
    "# create file for metadata\n",
    "with smart_open('doc_lda_metadata.tsv','w') as w:\n",
    "    w.write('Titles\\tGenres\\n')\n",
    "    for j, k in zip(dataframe.Titles, dataframe.Genres):\n",
    "        w.write(\"%s\\t%s\\n\" % (j, k))"
   ]
  },
  {
   "cell_type": "markdown",
   "metadata": {
    "collapsed": true
   },
   "source": [
    "Now you can go to http://projector.tensorflow.org/ and upload these two files by clicking on Load data in the left panel.\n",
    "\n",
    "For demo purposes I have uploaded the LDA doc-topic embeddings generated from the model trained above [here](https://github.com/parulsethi/LdaProjector/). You can also access the Embedding projector configured with these uploaded embeddings at this [link](http://projector.tensorflow.org/?config=https://raw.githubusercontent.com/parulsethi/LdaProjector/master/doc_lda_config.json)."
   ]
  },
  {
   "cell_type": "markdown",
   "metadata": {},
   "source": [
    "## Visualize using PCA\n",
    "\n",
    "The Embedding Projector computes the top 10 principal components. The menu at the left panel lets you project those components onto any combination of two or three.\n",
    "<img src=\"doc_lda_pca.png\">\n",
    "From PCA, we get a simplex (tetrahedron in this case) where each data point represent a document. These data points are  colored according to their Genres which were given in the Movie dataset. \n",
    "\n",
    "As we can see there are a lot of points which cluster at the corners of the simplex. This is primarily due to the sparsity of vectors we are using. The documents at the corners primarily belongs to a single topic (hence, large weight in a single dimension and other dimensions have approximately zero weight.) You can modify the metadata file as explained below to see the dimension weights along with the Movie title.\n",
    "\n",
    "Now, we will append the topics with highest probability (topic_id, topic_probability) to the document's title, in order to explore what topics do the cluster corners or edges dominantly belong to. For this, we just need to overwrite the metadata file as below:"
   ]
  },
  {
   "cell_type": "code",
   "execution_count": 6,
   "metadata": {
    "collapsed": true
   },
   "outputs": [],
   "source": [
    "tensors = []\n",
    "for doc_topics in all_topics:\n",
    "    doc_tensor = []\n",
    "    for topic in doc_topics:\n",
    "        if round(topic[1], 3) > 0:\n",
    "            doc_tensor.append((topic[0], float(round(topic[1], 3))))\n",
    "    # sort topics according to highest probabilities\n",
    "    doc_tensor = sorted(doc_tensor, key=lambda x: x[1], reverse=True)\n",
    "    # store vectors to add in metadata file\n",
    "    tensors.append(doc_tensor[:5])\n",
    "\n",
    "# overwrite metadata file\n",
    "i=0\n",
    "with smart_open('doc_lda_metadata.tsv','w') as w:\n",
    "    w.write('Titles\\tGenres\\n')\n",
    "    for j,k in zip(dataframe.Titles, dataframe.Genres):\n",
    "        w.write(\"%s\\t%s\\n\" % (''.join((str(j), str(tensors[i]))),k))\n",
    "        i+=1"
   ]
  },
  {
   "cell_type": "markdown",
   "metadata": {},
   "source": [
    "Next, we upload the previous tensor file \"doc_lda_tensor.tsv\" and this new metadata file to http://projector.tensorflow.org/ .\n",
    "<img src=\"topic_with_coordinate.png\">\n",
    "Voila! Now we can click on any point to see it's top topics with their probabilty in that document, along with the title. As we can see in the above example, \"Beverly hill cops\" primarily belongs to the 0th and 1st topic as they have the highest probability amongst all.\n",
    "\n",
    "\n",
    "\n",
    "## Visualize using T-SNE\n",
    "\n",
    "In T-SNE, the data is visualized by animating through every iteration of the t-sne algorithm. The t-sne menu at the left lets you adjust the value of it's two hyperparameters. The first one is Perplexity, which is basically a measure of information. It may be viewed as a knob that sets the number of effective nearest neighbors[2]. The second one is learning rate that defines how quickly an algorithm learns on encountering new examples/data points.\n",
    "\n",
    "Now, as the topic distribution of a document is used as it’s embedding vector, t-sne ends up forming clusters of documents belonging to same topics. In order to understand and interpret about the theme of those topics, we can use `show_topic()` to explore the terms that the topics consisted of.\n",
    "\n",
    "<img src=\"doc_lda_tsne.png\">\n",
    "\n",
    "The above plot was generated with perplexity 11, learning rate 10 and iteration 1100. Though the results could vary on successive runs, and you may not get the exact plot as above even with same hyperparameter settings. But some small clusters will start forming as above, with different orientations.\n",
    "\n",
    "I named some clusters above based on the genre of it's movies and also using the `show_topic()` to see relevant terms of the topic which was most prevalent in a cluster. Most of the clusters had documents belonging dominantly to a single topic. For ex. The cluster with movies belonging primarily to topic 0 could be named Fantasy/Romance based on terms displayed below for topic 0. You can play with the visualization yourself on this [link](http://projector.tensorflow.org/?config=https://raw.githubusercontent.com/parulsethi/LdaProjector/master/doc_lda_config.json) and try to conclude a label for clusters based on movies it has and 
    dominant topic. You can see the top 5 topics of every point by hovering over it.\n",
    "\n",
    "Now, we can notice that there are more than 10 clusters in the above image, whereas we trained our model for `num_topics=10`. It's because there are few clusters, which has documents belonging to more than one topic with an approximately close topic probability values."
   ]
  },
  {
   "cell_type": "code",
   "execution_count": 14,
   "metadata": {},
   "outputs": [
    {
     "data": {
      "text/plain": [
       "[('life', 0.0069577926389817156),\n",
       " ('world', 0.006240163206609986),\n",
       " ('man', 0.0058828040298109794),\n",
       " ('young', 0.0053747678629860532),\n",
       " ('family', 0.005083746467542196),\n",
       " ('love', 0.0048691281379952146),\n",
       " ('new', 0.004097644507005606),\n",
       " ('t', 0.0037446821043766597),\n",
       " ('time', 0.0037022423231064822),\n",
       " ('finds', 0.0036129806190553109),\n",
       " ('woman', 0.0031742920620375422),\n",
       " ('earth', 0.0031692677510459484),\n",
       " ('help', 0.0031061538189201504),\n",
       " ('it', 0.0028658594310878023),\n",
       " ('years', 0.00272218005397741)]"
      ]
     },
     "execution_count": 14,
     "metadata": {},
     "output_type": "execute_result"
    }
   ],
   "source": [
    "model.show_topic(topicid=0, topn=15)"
   ]
  },
  {
   "cell_type": "markdown",
   "metadata": {},
   "source": [
    "You can even use pyLDAvis to deduce topics more efficiently. It provides a deeper inspection of the terms highly associated with each individual topic. For this, it uses a measure called **relevance** of a term to a topic that allows users to flexibly rank terms best suited for a meaningful topic interpretation. It's weight parameter called λ can be adjusted to display useful terms which could help in differentiating topics efficiently."
   ]
  },
  {
   "cell_type": "code",
   "execution_count": 5,
   "metadata": {},
   "outputs": [
    {
     "name": "stderr",
     "output_type": "stream",
     "text": [
      "/Users/parul/.virtualenvs/gensim3/lib/python3.4/site-packages/pyLDAvis/_prepare.py:387: DeprecationWarning: \n",
      ".ix is deprecated. Please use\n",
      ".loc for label based indexing or\n",
      ".iloc for positional indexing\n",
      "\n",
      "See the documentation here:\n",
      "http://pandas.pydata.org/pandas-docs/stable/indexing.html#deprecate_ix\n",
      "  topic_term_dists = topic_term_dists.ix[topic_order]\n"
     ]
    },
    {
     "data": {
      "text/html": [
       "\n",
       "<link rel=\"stylesheet\" type=\"text/css\" href=\"https://cdn.rawgit.com/bmabey/pyLDAvis/files/ldavis.v1.0.0.css\">\n",
       "\n",
       "\n",
       "<div id=\"ldavis_el2617146404026722199990525\"></div>\n",
       "<script type=\"text/javascript\">\n",
       "\n",
       "var ldavis_el2617146404026722199990525_data = {\"topic.order\": [2, 6, 5, 10, 3, 7, 9, 1, 8, 4], \"plot.opts\": {\"xlab\": \"PC1\", \"ylab\": \"PC2\"}, \"tinfo\": {\"loglift\": [30.0, 29.0, 28.0, 27.0, 26.0, 25.0, 24.0, 23.0, 22.0, 21.0, 20.0, 19.0, 18.0, 17.0, 16.0, 15.0, 14.0, 13.0, 12.0, 11.0, 10.0, 9.0, 8.0, 7.0, 6.0, 5.0, 4.0, 3.0, 2.0, 1.0, 1.8363, 1.772, 1.761, 1.7218, 1.7098, 1.7052, 1.7003, 1.6791, 1.6733, 1.6733, 1.6733, 1.6733, 1.6733, 1.6733, 1.6733, 1.6677, 1.6592, 1.642, 1.633, 1.6322, 1.6305, 1.6146, 1.5958, 1.5886, 1.5877, 1.5877, 1.5877, 1.5877, 1.5877, 1.5877, 1.537, 1.5194, 1.4974, 1.4972, 1.4963, 1.3681, 1.2826, 0.5785, 1.2949, 1.1357, 1.0971, 0.674, 1.032, 0.2521, 0.9405, 1.0208, 0.0735, 1.3419, 0.2652, 0.251, 0.3077, 0.3087, -0.0351, -0.1106, 0.3434, 0.0713, 0.136, 0.2652, 0.1393, -0.1111, 0.2853, -0.123, 0.0231, 0.3057, -0.1644, -0.3184, -0.1771, 0.0396, 0.0005, 0.1415, 0.2397, 0.0483, -0.2588, 0.1198, -0.1801, -0.1224, -0.1472, 2.1418, 2.137, 2.1204, 2.0513, 2.0362, 2.0159, 2.0084, 2.0076, 1.9748, 1.9704, 1.9647, 1.9598, 1.9531, 1.9338, 1.9326, 1.9324, 1.9227, 1.9225, 1.8768, 1.8741, 1.8741, 1.8741, 1.8741, 1.8741, 1.8741, 1.8741, 1.8741, 1.8741, 1.8741, 1.8623, 1.8254, 1.7346, 1.5997, 1.7324, 1.7248, 1.7167, 1.7016, 1.6858, 1.4264, 1.3451, 1.5221, 0.4878, 0.1855, 1.1771, 0.1254, 1.3027, 0.2, 0.0111, 1.0285, -0.0846, -0.0559, 0.3918, 0.2464, 0.5915, 0.1683, 0.3225, -0.0581, 0.0961, 0.2152, 0.2516, 0.1721, 0.0534, 0.0997, -0.0897, 0.2209, -0.1813, 0.1399, -0.1176, 0.257, 0.2191, 0.0213, -0.0743, 0.1735, -0.1716, 0.0136, -0.1479, -0.1831, 2.1388, 2.1346, 2.1205, 2.0314, 2.0076, 1.9761, 1.9759, 1.9759, 1.9402, 1.9402, 1.939, 1.9175, 1.8802, 1.8795, 1.8795, 1.8795, 1.8795, 1.8795, 1.8795, 1.8795, 1.8795, 1.8519, 1.847, 1.843, 1.8413, 1.8373, 1.828, 1.828, 1.8186, 1.7982, 1.7797, 1.7762, 1.772, 1.7378, 1.7071, 1.6831, 1.5699, 1.7061, 1.7061, 1.5703, 1.7033, 1.7018, 1.556, 1.6936, 1.6874, 1.6834, 1.4285, 1.4145, 0.6601, 0.2085, 0.0003, 0.3892, 0.7163, 0.0637, 0.5693, 0.1314, 0.4287, 0.1517, 0.222, 0.0695, 0.5853, -0.1613, 0.2762, 0.2485, -0.0884, -0.157, 0.4489, 0.2252, 0.744, -0.0033, 0.147, 0.0709, 0.331, -0.1436, 0.3666, 0.0452, -0.1154, 0.2864, -0.0555, -0.1368, -0.2865, -0.1944, 0.1207, 0.0659, -0.2604, 2.1091, 2.0924, 2.0725, 2.0598, 2.0275, 2.0238, 2.0109, 1.9812, 1.969, 1.8915, 1.8879, 1.8844, 1.8844, 1.8844, 1.8844, 1.8844, 1.8844, 1.8844, 1.8844, 1.8844, 1.8844, 1.8844, 1.8764, 1.8743, 1.8716, 1.8681, 1.8657, 1.8639, 1.8627, 1.8625, 1.8614, 1.7847, 1.7667, 1.7396, 1.7729, 1.7064, 1.6867, 1.686, 1.684, 1.6204, 1.5461, 1.4205, 0.6006, 1.4567, 0.1893, 1.3432, 1.5457, 0.8146, 0.7013, 0.0908, 0.191, 0.4122, 0.1481, -0.1433, 0.4162, 0.2714, 0.7771, 0.1435, 0.6719, 0.1287, 0.1521, 0.3151, 0.6696, 0.7165, -0.0489, -0.2186, 0.2714, 0.0915, 0.0311, -0.2392, -0.0075, -0.0508, 0.115, 0.1505, 0.2163, 0.0464, 0.1296, 0.1426, -0.2447, 0.0108, -0.35, -0.4054, 2.0982, 2.0833, 2.0736, 2.0736, 2.0425, 2.0374, 2.0374, 2.0374, 1.9984, 1.982, 1.982, 1.982, 1.982, 1.9606, 1.9577, 1.9564, 1.9487, 1.9397, 1.9385, 1.9255, 1.9193, 1.9139, 1.9132, 1.9009, 1.8853, 1.8853, 1.8853, 1.8853, 1.8853, 1.8853, 1.7935, 1.4502, 1.6843, 1.7084, 1.685, 1.2944, 0.5773, 0.8272, 0.9616, 1.3573, 0.3872, 0.4279, 0.1959, 0.135, -0.082, 0.2453, 0.182, 0.1125, -0.1157, 0.3951, 0.6329, -0.0084, 0.0529, 0.4354, 0.4124, -0.1728, 0.413, 0.276, 0.081, 0.2888, 0.2068, 0.1139, -0.2188, -0.108, 0.0975, -0.0684, -0.0977, 0.1746, -0.0661, -0.0213, 2.1276, 2.0884, 2.0828, 2.0545, 1.9909, 1.9909, 1.9909, 1.9909, 1.9908, 1.9863, 1.9772, 1.9731, 1.9623, 1.951, 1.9343, 1.932, 1.8937, 1.8937, 1.8937, 1.8937, 1.8937, 1.8937, 1.8937, 1.8937, 1.8937, 1.8937, 1.8937, 1.8937, 1.8835, 1.8751, 1.862, 1.8728, 1.8296, 1.8248, 1.7768, 1.6973, 1.6309, 1.6241, 1.716, 1.2367, 1.6757, 0.9397, 1.3776, 0.2432, 0.297, 0.2841, 1.1353, 0.4153, -0.0548, 0.2834, 0.0888, 0.5039, 0.0617, 0.2485, 0.5017, 0.7829, -0.1359, 0.4548, 0.2264, 0.0525, 0.7256, -0.0342, -0.0901, 0.0073, -0.006, 0.351, 0.2279, 0.2203, -0.0934, 0.0242, -0.109, -0.0259, -0.2077, -0.389, 0.1471, -0.1375, -0.0639, 0.136, -0.0181, -0.1545, 2.0252, 2.0252, 2.0252, 1.9264, 1.9264, 1.9264, 1.9264, 1.9264, 1.9264, 1.9264, 1.9264, 1.9264, 1.9264, 1.9264, 1.9264, 1.9096, 1.9093, 1.9085, 1.9059, 1.9043, 1.8933, 1.892, 1.8916, 1.8915, 1.8872, 1.8867, 1.8854, 1.8647, 1.8369, 1.8294, 1.8294, 1.8063, 1.7004, 1.655, 1.4321, 1.7488, 1.6554, 1.7467, 1.7467, 1.6471, 1.6902, 1.7311, 1.5391, 1.543, 1.7152, 1.549, 0.9666, 1.5828, 0.5787, 1.2197, 0.718, 1.4679, 0.1612, 0.9947, 1.3392, 0.0278, 0.1909, 0.3836, 0.1104, -0.0651, -0.031, 0.2742, 0.266, 0.2338, 0.1488, 0.4915, 0.2212, 0.2826, -0.0556, 0.0781, 0.1508, 0.3802, 0.3444, 0.2994, -0.09, -0.0957, -0.1461, 0.3117, 0.2307, 0.0245, -0.019, 0.1207, -0.1495, 0.1142, -0.0651, -0.2042, -0.0627, 2.1631, 2.1002, 2.0761, 2.0681, 2.0308, 2.0308, 2.0308, 2.0055, 1.9782, 1.9592, 1.9484, 1.9318, 1.9318, 1.9318, 1.9318, 1.9318, 1.9318, 1.9318, 1.9318, 1.9318, 1.9318, 1.9318, 1.9318, 1.9318, 1.9317, 1.9316, 1.9264, 1.9122, 1.9121, 1.9109, 1.8924, 1.8343, 1.7599, 1.8122, 1.8035, 1.624, 1.6603, 1.7553, 1.4441, 1.4826, 1.5777, 1.4334, 1.2339, 0.9263, 0.1611, 0.2685, 1.0234, 0.3307, 0.5727, -0.0385, 0.0939, 0.4917, 0.1235, 0.1006, 0.6373, 0.1867, 0.2687, 0.3613, 0.2005, 0.106, 0.1645, 0.2233, 0.1039, -0.0765, 0.1191, 0.0084, -0.3323, -0.0282, 0.3056, 0.2441, 0.1097, 0.0479, -0.3551, 0.3953, -0.0348, 0.0275, -0.1793, 2.4244, 2.2674, 2.2521, 2.2252, 2.2252, 2.2252, 2.2252, 2.2252, 2.2052, 2.1843, 2.1702, 2.1698, 2.1678, 2.1625, 2.1397, 2.0502, 2.0106, 2.0032, 1.9102, 1.8953, 1.88, 1.8783, 1.8343, 1.8166, 1.8127, 1.7399, 1.7154, 1.7068, 1.7061, 1.6996, 1.6686, 1.6826, 1.6116, 1.5439, 1.5248, 0.6819, 0.8034, 1.1562, 0.1616, 0.3027, 1.4635, 0.0764, 0.7635, 0.3488, 0.3039, -0.1306, 0.0539, 0.5231, -0.0207, 0.0474, 0.4942, 0.1268, -0.2225, -0.0576, 0.4693, 0.0156, -0.1274, -0.0626, 0.0955, -0.0777, 0.0704, -0.0522, -0.0706, 0.0067, 0.0999, 0.0645, 0.0444, -0.1379, -0.0359, -0.0399, -0.0461, 2.5787, 2.529, 2.4792, 2.4639, 2.4252, 2.3897, 2.3048, 2.3048, 2.3048, 2.3048, 2.3048, 2.3048, 2.3048, 2.3048, 2.3048, 2.2844, 2.2833, 2.2725, 2.2674, 2.2481, 2.2269, 2.2262, 2.1635, 2.1334, 2.1127, 2.0958, 2.0955, 1.9637, 1.9628, 1.9626, 1.8941, 1.8956, 1.9246, 1.8776, 1.7799, 1.5977, 1.5215, 0.6657, 0.0648, 1.2646, 1.2574, 1.5417, 1.5317, 1.6484, 0.0054, 0.1709, 1.7917, 1.7888, 0.0474, 0.2073, 0.2293, 0.7916, -0.0079, 0.1188, 0.0528, 0.4289, -0.0077, 0.2084, 0.0023, 0.2555, -0.2349, -0.1143, 0.0521, -0.0133, 0.2608, 0.5311, 0.392, 0.177, -0.1053, 0.0548, 0.0503, -0.0488, 0.0128, -0.03, -0.123, -0.0854, -0.219], \"Total\": [286.0, 11.0, 367.0, 18.0, 136.0, 11.0, 220.0, 240.0, 237.0, 9.0, 27.0, 104.0, 12.0, 71.0, 34.0, 10.0, 14.0, 8.0, 192.0, 165.0, 413.0, 6.0, 79.0, 79.0, 142.0, 8.0, 140.0, 25.0, 5.0, 251.0, 9.20741833188705, 7.080941191207317, 4.305089743301135, 3.0040137280038297, 3.046592730816116, 3.063102178936273, 3.080736008720939, 8.592920932513687, 2.385210726502207, 2.385211727139331, 2.3852128574016294, 2.3852142900101465, 2.3852146178244276, 2.385216116147507, 2.3852208088896987, 8.68109766766657, 2.425258926321013, 2.4750871945849124, 2.501755891902984, 2.5025222259655866, 9.889131107711803, 2.5563247087444254, 12.769044548946423, 7.749207158799615, 1.7604399929476238, 1.7604406220934101, 1.7604406536419173, 1.7604407306950145, 1.7604410800307613, 1.7604411801424922, 5.504604038191591, 4.68998985508629, 4.794345236164641, 4.7953158040837796, 4.806359492303937, 10.993034682591514, 14.102606049742036, 188.3838514442058, 9.675410804160727, 17.56380408268066, 19.698472663733217, 83.96262920297133, 22.93267659575654, 240.0939254491927, 25.737967624475786, 19.813136931767254, 413.45596915401336, 6.8735631298431565, 177.0960740972134, 164.82725814835615, 138.20977693575614, 124.60386568537982, 307.0401711541881, 367.9403640244572, 104.07712927807444, 203.7003808798816, 165.90577197387603, 113.93116111392182, 150.05224274042425, 251.91034860151348, 103.2169074907798, 237.10515668744088, 169.61275055684354, 90.07704158580415, 220.28084727779594, 286.20435158982235, 214.1687754526487, 140.4740098720093, 142.45521355711222, 111.88977005447975, 94.89096315108864, 126.62024605820262, 192.03171213583818, 109.32431483333309, 165.97315962779723, 149.2491109972445, 147.5209680605826, 5.879827104557306, 11.820028009998259, 4.81910313326247, 11.65644174963009, 3.315644319217625, 2.715199830140988, 2.738635609735906, 2.741295457625405, 2.8456172927322423, 2.146194401035084, 7.1186936666723195, 2.172827926976873, 2.1896874966207514, 2.2395557855877914, 7.37478498417435, 2.243052992009372, 2.268641301097508, 2.2691523385264234, 5.493717223327225, 1.6010963110125103, 1.6010980428383679, 1.6010983553072986, 1.6010984316325967, 1.6010993424415771, 1.6010996446509325, 1.6010998137533532, 1.601101007579108, 1.6011023100919686, 1.6011049043964916, 1.6236583669239384, 5.010065085786075, 4.616653387956005, 9.773918912209064, 3.7103113808501393, 3.7444401503500635, 3.776391189291251, 3.826261883339574, 3.8975183826873883, 10.146912858895412, 12.703519177553744, 5.904230420228057, 220.28084727779594, 413.45596915401336, 18.37959100935074, 367.9403640244572, 11.633924108448399, 192.03171213583818, 251.91034860151348, 20.715619605773085, 307.0401711541881, 286.20435158982235, 92.43381966269361, 130.23402957217888, 56.535386661647976, 150.05224274042425, 105.03982405181907, 237.10515668744088, 165.90577197387603, 126.62024605820262, 116.80472489849073, 129.91520524534604, 164.82725814835615, 149.2491109972445, 214.1687754526487, 113.93116111392182, 240.0939254491927, 130.3922957564839, 203.7003808798816, 103.2169074907798, 110.23613974715263, 153.91403308884938, 177.0960740972134, 118.52550781475259, 188.3838514442058, 140.4740098720093, 169.61275055684354, 165.97315962779723, 6.509245017517645, 5.945404983148873, 5.4375438068495345, 2.6750814487022536, 2.7495781799448666, 2.138507732646491, 2.1390034417318864, 2.1390923750988273, 2.229551051996681, 2.2295515999246467, 2.232786988761711, 2.2893471302677444, 7.037522773556156, 1.5959711718535026, 1.5959714806813485, 1.5959717351477214, 1.5959721219603122, 1.595972656288464, 1.5959738632039517, 1.5959749262243514, 1.5959767754600096, 1.648792089178208, 1.6582882416921125, 1.6662915297177374, 1.6694703429085238, 1.6771651585118315, 1.6961464653028133, 1.6961466894906037, 1.7151827542209157, 1.757442986150444, 7.904243246452841, 4.409385756899646, 4.41442484005944, 7.240376108547063, 5.663537574759712, 5.825629395949554, 10.97437794066554, 3.8173910863786915, 3.817407493037804, 7.7351796761406675, 3.828064767978227, 3.8338031458082598, 7.645402706267699, 3.872151467759723, 3.901929210774491, 3.9163286513679103, 11.799719532741687, 10.580837068361763, 71.0667221853692, 237.10515668744088, 413.45596915401336, 142.45521355711222, 56.63399019890999, 307.0401711541881, 79.70314944399591, 240.0939254491927, 108.85364444557894, 214.1687754526487, 153.91403308884938, 220.28084727779594, 63.07042195700288, 367.9403640244572, 130.3210922477003, 130.23402957217888, 251.91034860151348, 286.20435158982235, 78.35429426826063, 124.60386568537982, 41.819449185592504, 188.3838514442058, 129.91520524534604, 149.2491109972445, 89.79914957693501, 203.7003808798816, 82.72854064086525, 138.20977693575614, 177.0960740972134, 92.43381966269361, 147.5209680605826, 164.82725814835615, 192.03171213583818, 169.61275055684354, 111.88977005447975, 118.52550781475259, 165.90577197387603, 6.141519012159703, 5.011894745161853, 4.486137952983902, 3.2516086783795544, 2.6993483982007054, 3.388689504937029, 2.7513431600041676, 2.1356103732206058, 2.1662009545957455, 2.3709321096998766, 5.465434431202462, 1.5940375373707951, 1.594038734042631, 1.5940391032854868, 1.594041121101168, 1.5940431640815225, 1.5940432824440254, 1.5940437405156382, 1.5940450970679672, 1.594045421274782, 1.5940504697384752, 1.5940505460888634, 1.609149373471013, 1.613250098307878, 1.6182345940330234, 1.6249380570375747, 1.629554542933414, 1.6330532336082484, 1.63543273960162, 1.6358345519069482, 5.637792693295086, 4.382465617914136, 4.461538865409268, 4.034745007599822, 2.704641831259727, 3.83185655068532, 3.9059699626515307, 3.909371100335583, 3.9375803903510396, 5.188823747885161, 5.767982511202354, 7.8912286953154664, 110.90617273181648, 6.348435202960999, 367.9403640244572, 8.69604906162444, 4.537080649226447, 37.21909485624612, 50.738575763775415, 251.91034860151348, 192.03171213583818, 105.03982405181907, 203.7003808798816, 413.45596915401336, 99.62854977174658, 130.3922957564839, 36.51646929433264, 169.61275055684354, 46.34925870951475, 165.90577197387603, 153.91403308884938, 105.32368132313414, 45.59051382203555, 39.59129575938088, 214.1687754526487, 307.0401711541881, 104.13854813938632, 150.05224274042425, 165.97315962779723, 286.20435158982235, 177.0960740972134, 188.3838514442058, 136.3130982738326, 126.62024605820262, 111.02568231486322, 147.5209680605826, 124.60386568537982, 116.05069975800765, 220.28084727779594, 142.45521355711222, 237.10515668744088, 240.0939254491927, 4.9860939378286915, 4.418370638504934, 3.204960906449161, 3.204961435769124, 3.3208895606155915, 2.6722925548338763, 2.6722927741954012, 2.6722977344698537, 2.7952840801455983, 2.136422197617795, 2.1364302571513174, 2.1364307985260647, 2.1364331196367243, 2.1903631017028165, 2.1976640865816455, 2.933961174174978, 2.2208625186740014, 6.646363815687984, 2.247218395990999, 3.791190315162749, 2.298215272989729, 2.3128894723273534, 2.3148264690010607, 2.348273275974992, 1.5945822489116699, 1.5945829537289389, 1.594583131230064, 1.5945832458884122, 1.594583356459968, 1.5945834363876323, 4.363608973311317, 19.219157053829793, 4.897932305468507, 3.8274995154510525, 3.9617950169594107, 19.429446925992835, 286.20435158982235, 79.92441018351099, 44.7547288898882, 12.444753870753317, 147.5209680605826, 130.37408403458775, 203.7003808798816, 237.10515668744088, 413.45596915401336, 165.97315962779723, 192.03171213583818, 220.28084727779594, 367.9403640244572, 104.13854813938632, 58.215083381878586, 251.91034860151348, 214.1687754526487, 88.93413388613568, 89.79914957693501, 307.0401711541881, 83.37279123435933, 110.23613974715263, 153.91403308884938, 97.56569919602299, 111.88977005447975, 130.3210922477003, 240.0939254491927, 188.3838514442058, 129.91520524534604, 169.61275055684354, 177.0960740972134, 111.02568231486322, 150.05224274042425, 138.20977693575614, 4.247462663572447, 3.80665917601725, 3.1925449135680086, 3.297526443536358, 2.1289778898958542, 2.1289791322281197, 2.128981148043162, 2.1289826481676517, 2.128990358498044, 8.474001535798717, 2.1628561686020262, 2.1732303950919114, 2.2007451744127846, 3.6866558650179644, 8.197645245484045, 5.991870712394224, 1.5896175896146656, 1.5896180598290124, 1.589619204815074, 1.5896204871470863, 1.5896232426227548, 1.5896236711228395, 1.5896240160879647, 1.589624229779442, 1.589625828875943, 1.589626055634516, 1.5896276812250987, 1.58963219623517, 2.41251024612086, 1.62489487226464, 8.05202381652919, 2.4412773386604143, 5.045715323235863, 4.23706864417371, 4.461122984288316, 4.854701935152264, 6.304198857632155, 6.3539132397059355, 3.818532385953314, 27.95116857257051, 3.949378744634473, 45.00133298312161, 9.896091177452503, 367.9403640244572, 307.0401711541881, 251.91034860151348, 20.441111333521857, 142.45521355711222, 413.45596915401336, 149.2491109972445, 237.10515668744088, 83.37279123435933, 214.1687754526487, 130.37408403458775, 72.12208797566909, 37.31776242441155, 286.20435158982235, 73.45045362711643, 116.80472489849073, 165.97315962779723, 40.76925231764464, 192.03171213583818, 203.7003808798816, 164.82725814835615, 165.90577197387603, 84.42141569980241, 105.32368132313414, 106.15413964503264, 177.0960740972134, 138.20977693575614, 169.61275055684354, 147.5209680605826, 188.3838514442058, 240.0939254491927, 108.85364444557894, 153.91403308884938, 140.4740098720093, 109.32431483333309, 130.23402957217888, 150.05224274042425, 2.096966539117973, 2.096968571773594, 2.0969918941716372, 1.5682764648293273, 1.5682777906131111, 1.568277827087935, 1.5682783769877309, 1.5682789174860554, 1.5682790792896513, 1.5682794195033498, 1.5682809864420069, 1.5682816494405152, 1.5682833148219324, 1.5682855430483074, 1.5682928999823211, 1.5996460016033507, 1.600165415192468, 1.60168092867821, 1.606682449384849, 1.6096098932765486, 1.6301879690395429, 1.633204588731981, 1.6335021155434817, 1.6341418721141074, 1.6425165472646652, 1.6433798385077094, 1.6460413118556105, 1.6833268739901799, 8.519511438996972, 4.2996652747114075, 4.29966852976523, 4.416069769679053, 6.960894859607672, 8.287646713724614, 27.594572798407896, 3.7878396559720016, 6.270864117903531, 3.7749014576953437, 3.775157624882165, 6.3366691454157245, 4.965069687795993, 3.8481851197539676, 9.559284020179543, 8.200052246819288, 3.9259934386809374, 7.008046419754069, 60.04581165124319, 5.690255775295681, 165.97315962779723, 16.664498796252545, 79.1535960472758, 6.427567520371815, 307.0401711541881, 26.092405601108798, 9.12382026641523, 413.45596915401336, 240.0939254491927, 126.62024605820262, 251.91034860151348, 367.9403640244572, 286.20435158982235, 130.23402957217888, 130.37408403458775, 140.4740098720093, 169.61275055684354, 75.56691652781566, 136.3130982738326, 113.93116111392182, 237.10515668744088, 177.0960740972134, 150.05224274042425, 91.00644266642132, 96.94804300560413, 99.62854977174658, 214.1687754526487, 203.7003808798816, 220.28084727779594, 94.0387904922639, 108.85364444557894, 153.91403308884938, 164.82725814835615, 129.91520524534604, 192.03171213583818, 130.3210922477003, 165.90577197387603, 188.3838514442058, 149.2491109972445, 4.197782708820302, 3.8644964911401085, 3.310856722035343, 2.6733075191834095, 2.092815656693464, 2.0928157501482794, 2.0928242330208904, 2.154983345016893, 2.224432114906451, 3.7412817454113823, 2.3016345050860827, 1.5655106646854755, 1.565510947872712, 1.5655113896360624, 1.565511515312304, 1.5655117417212998, 1.565511934940774, 1.565512122595995, 1.5655160163564965, 1.5655162534558826, 1.5655182770035032, 1.5655203736830352, 1.5655249090845937, 1.565543653811031, 1.565833578631508, 1.5657945916879707, 10.832968414049065, 1.601950637176238, 1.6022477929086556, 1.6045670231065794, 5.646970579955241, 4.294134771566185, 9.302283977366432, 4.3902084490675195, 4.447972400490136, 11.902278586862208, 6.262822931520821, 3.7564757786819594, 13.17055950297699, 10.023799563362147, 6.611801241655579, 8.119345932188958, 14.102606049742036, 34.54588836457699, 307.0401711541881, 220.28084727779594, 23.013146249708807, 164.82725814835615, 79.92441018351099, 413.45596915401336, 286.20435158982235, 97.56569919602299, 240.0939254491927, 214.1687754526487, 58.475080168979616, 169.61275055684354, 130.3210922477003, 105.03982405181907, 147.5209680605826, 177.0960740972134, 149.2491109972445, 130.37408403458775, 165.90577197387603, 237.10515668744088, 153.91403308884938, 192.03171213583818, 367.9403640244572, 203.7003808798816, 105.32368132313414, 116.05069975800765, 130.3922957564839, 142.45521355711222, 251.91034860151348, 78.95385959321226, 150.05224274042425, 129.91520524534604, 165.97315962779723, 2.7596268056816506, 1.9774217761184498, 5.290860178802779, 1.383601748070882, 1.3836027308213965, 1.383603702650099, 1.3836159435278024, 1.3836201824815624, 1.4158333531343708, 1.4504462776149014, 1.4734503815629192, 1.475069987640709, 1.478448978869293, 1.4876925197471271, 8.085094031571423, 1.6918957965540804, 3.457135494738797, 3.487877707550263, 4.786358910228879, 2.9510267845218547, 3.006906462440233, 3.0132734338839366, 3.081942169842056, 4.21048195147495, 5.386578655153753, 4.716183551377617, 3.5571080430338133, 7.305820271315643, 3.5903135058975164, 2.4680794269603332, 18.37959100935074, 8.119345932188958, 6.8030651853556225, 8.52717693845072, 8.744582708260321, 104.55971134884736, 71.06503902781239, 25.006596405206405, 367.9403640244572, 237.10515668744088, 9.511099746481015, 286.20435158982235, 50.662863698695276, 140.4740098720093, 149.2491109972445, 413.45596915401336, 240.0939254491927, 78.41152804562286, 251.91034860151348, 214.1687754526487, 71.96547342765763, 150.05224274042425, 307.0401711541881, 203.7003808798816, 70.60705625747869, 169.61275055684354, 220.28084727779594, 192.03171213583818, 138.20977693575614, 188.3838514442058, 142.45521355711222, 165.90577197387603, 165.97315962779723, 136.3130982738326, 116.80472489849073, 116.05069975800765, 118.52550781475259, 147.5209680605826, 129.91520524534604, 130.23402957217888, 130.3210922477003, 4.411032517777749, 3.10743582668478, 2.1900885648984745, 2.7842382971030797, 1.74496150999106, 1.8163535131060848, 1.3336077220434244, 1.3336087635026814, 1.3336098639140377, 1.3336110731438193, 1.3336126614614554, 1.3336138223672704, 1.333614546806408, 1.3336179862937851, 1.3336180344650628, 1.3652110396786576, 1.3669211339244143, 1.3839711318892673, 1.392037793691729, 1.4233592890433089, 1.458590079990212, 1.4592673014977602, 3.854459744203176, 3.964962242264239, 5.578523618793135, 4.909381181232915, 3.3065094772195978, 2.8763073906144285, 2.8789596235058292, 2.879569063069409, 5.179364592852991, 5.058158513612044, 3.944641781121398, 5.2919732939282635, 8.056527583292144, 11.454514417907696, 12.707875847204292, 136.3130982738326, 413.45596915401336, 18.909234341286382, 19.241589904698433, 9.243603370616057, 9.383503829920688, 6.7505297544624, 367.9403640244572, 240.0939254491927, 4.658296636597626, 4.672151687818183, 286.20435158982235, 192.03171213583818, 165.90577197387603, 44.39925809424003, 251.91034860151348, 188.3838514442058, 214.1687754526487, 96.94804300560413, 220.28084727779594, 140.4740098720093, 203.7003808798816, 124.60386568537982, 307.0401711541881, 237.10515668744088, 164.82725814835615, 177.0960740972134, 104.90831305579717, 65.40456378208177, 79.70314944399591, 109.32431483333309, 169.61275055684354, 130.3210922477003, 130.23402957217888, 147.5209680605826, 129.91520524534604, 138.20977693575614, 153.91403308884938, 142.45521355711222, 165.97315962779723], \"Freq\": [286.0, 11.0, 367.0, 18.0, 136.0, 11.0, 220.0, 240.0, 237.0, 9.0, 27.0, 104.0, 12.0, 71.0, 34.0, 10.0, 14.0, 8.0, 192.0, 165.0, 413.0, 6.0, 79.0, 79.0, 142.0, 8.0, 140.0, 25.0, 5.0, 251.0, 8.540213112793571, 6.158364709749388, 3.703202932820447, 2.4848865878594673, 2.4899987782308344, 2.4919807195763077, 2.4940972655382234, 6.810811295384091, 1.8795383898171474, 1.8795385099619162, 1.879538645670583, 1.8795388176814105, 1.8795388570414875, 1.8795390369425642, 1.8795396003919478, 6.8027272057903, 1.884346720620691, 1.8903281494689272, 1.893529707713892, 1.8925159116751773, 7.466277875812998, 1.8995702864671584, 9.311539237340995, 5.610205269645813, 1.2734736397186852, 1.2734737152590265, 1.2734737190469885, 1.2734737282986053, 1.273473770242683, 1.273473782262912, 3.7850209798250054, 3.168530873941016, 3.1684272080472557, 3.168427634884792, 3.1729205566308623, 6.383886809906574, 7.519032640435866, 49.67297575712989, 5.222157087106618, 8.085176264297672, 8.724377765606242, 24.35628278702173, 9.5158935406651, 45.673897359522314, 9.746201960556691, 8.129873309476933, 65.79258359786678, 3.8883670520204223, 34.135565878636754, 31.321462145687974, 27.79727737613163, 25.084849668237815, 43.828236557072906, 48.702306158191824, 21.692080385654894, 32.3441833081989, 28.103196296217764, 21.959811655627117, 25.502157627673377, 33.32951315814853, 20.29848826448312, 30.997711711578745, 25.66408961594006, 18.08084478761884, 27.63158889531277, 30.77658559068454, 26.52635886065158, 21.60907995126296, 21.072969484011292, 19.056538957132506, 17.82958589897246, 19.647449985131374, 21.91792562028, 18.221641853426668, 20.495172150975836, 19.525255012459997, 18.824756131748956, 5.305255885321922, 10.613379756894593, 4.256215186871183, 9.607017997947954, 2.691779393223663, 2.1599621573329086, 2.162326822422583, 2.162681443645493, 2.1725890901361193, 1.6314145206721562, 5.38037417450204, 1.6341901485156307, 1.6359470535019751, 1.6411414988901059, 5.398160967830611, 1.641498557180923, 1.6441516323921979, 1.644204384468213, 3.8030223489991553, 1.1053583727646368, 1.1053585532511734, 1.1053585858158859, 1.1053585937703183, 1.105358688692536, 1.1053587201880348, 1.1053587378114682, 1.1053588622289436, 1.105358997973567, 1.1053592683454496, 1.1077096903106567, 3.2943595618384536, 2.7720140297294833, 5.128419580727556, 2.223017128719006, 2.2265741196119113, 2.227298850327043, 2.223017038725305, 2.228928435905459, 4.476934468009444, 5.167343728790357, 2.8665868715808647, 38.01654875083914, 52.74330833355533, 6.320072502521429, 44.198830387509155, 4.535444634718835, 24.852553160615166, 26.992142180176394, 6.139545207159518, 29.894960847434366, 28.67967342455181, 14.49289278493137, 17.65615577513265, 10.823285180345346, 18.814509844310404, 15.365961402996938, 23.707625435514863, 19.35259132728554, 16.63961924755844, 15.918678325658407, 16.35180986697736, 18.424584140871342, 17.473660385332156, 20.747293877742997, 15.056872340092966, 21.222982122019413, 15.890940197882628, 19.189919531162456, 14.142498878642243, 14.542895132403938, 16.660449445173747, 17.421836206817144, 14.938652957686612, 16.81491908345063, 15.0891226926904, 15.501929487726072, 14.645278076805694, 5.814445824281552, 5.288511964372736, 4.768870505922142, 2.146296995992769, 2.1540219293988883, 1.6234328903540522, 1.6234842992105372, 1.6234935222840678, 1.6328717447899568, 1.6328718016176205, 1.6332097371911058, 1.6389862634966077, 4.853890795162356, 1.09995037675739, 1.0999504087851721, 1.0999504351752645, 1.099950475290671, 1.0999505307045616, 1.0999506558708438, 1.0999507661141168, 1.099950957893875, 1.1054275890799328, 1.1064122329427748, 1.1072427591415646, 1.107571287520058, 1.1081452545135946, 1.1103330175144723, 1.1103330407645413, 1.112284706332273, 1.1166846778903805, 4.930275707415133, 2.740752228591287, 2.7323698311520146, 4.330751107576503, 3.285409464022272, 3.299316228935693, 5.549925743739912, 2.2121404094022354, 2.212142110911467, 3.9134982798469014, 2.2121407916027707, 2.2121406443543656, 3.813056351171116, 2.216117762231495, 2.219206000282887, 2.2185961103646186, 5.18026156692751, 4.580549755421871, 14.470132873661955, 30.73144206625329, 43.519864160015544, 22.120627762687153, 12.198007949149915, 34.43319323636611, 14.81948645675407, 28.811987878648115, 17.58539230510434, 26.227487258091564, 20.22170909782567, 24.845424477619904, 11.91612206066835, 32.9471798647542, 18.07535666744182, 17.56902282933097, 24.263380504934208, 25.739847984671314, 12.915329862481887, 16.42308211983145, 9.259830116456365, 19.756906077838895, 15.834724243430392, 16.857959673500407, 13.156079122494363, 18.56667409169674, 12.559067762853036, 15.214737694165184, 16.603086302676605, 12.951503069761248, 14.684118222493044, 15.125432293566863, 15.172854748686397, 14.693284940575666, 13.283609127787441, 13.321344016801392, 13.454429288937407, 5.29544893474315, 4.250170892795513, 3.729266728484516, 2.6688456719310505, 2.145227786816, 2.6829678922152747, 2.1504703265985907, 1.6204216696140767, 1.6235881822534335, 1.6446340133296649, 3.7772825123771265, 1.0979099188016996, 1.097910042675415, 1.0979100808976787, 1.0979102897722486, 1.097910501251779, 1.0979105135041052, 1.0979105609214694, 1.097910701345255, 1.0979107349055657, 1.0979112574982897, 1.0979112654017318, 1.0994742070005963, 1.0998986799478445, 1.1004146281315423, 1.1011084405279912, 1.1015863218695285, 1.1019484456970505, 1.1021947256703855, 1.1022363128071404, 3.7945282808936116, 2.732019289873946, 2.731621076735276, 2.4043111817327, 1.6662740538122252, 2.2088299994371265, 2.207661410612995, 2.2080126034491414, 2.2194235902031227, 2.744433754456885, 2.832473051425053, 3.417528213468145, 21.158559533728962, 2.8509557809086132, 46.52320436003015, 3.486261213074385, 2.2270118594382535, 8.79466156421382, 10.704612750093125, 28.862763579435594, 24.32093248219641, 16.597992275778637, 24.716141158921943, 37.48503221322445, 15.8059641643351, 17.89783724780643, 8.310722089084368, 20.485530110162443, 9.495938111285486, 19.74447183618635, 18.749661873045074, 15.102897558033975, 9.3183028865689, 8.481214125535413, 21.340819034193352, 25.817229862602304, 14.29359321913043, 17.205023274386686, 17.915465572907795, 23.574948560899834, 18.39138054499543, 18.73550088444115, 16.00146745702989, 15.400354696587028, 14.42238088160315, 16.168324201727845, 14.842366617353035, 14.004042044295433, 18.046496123264863, 15.067593990386495, 17.48265626954073, 16.749799279036374, 4.249737442711233, 3.710255448608066, 2.665271084992968, 2.665271139814507, 2.677239453818402, 2.1434361878706967, 2.1434362105898828, 2.1434367243238612, 2.1561668100718383, 1.6212696524863102, 1.6212704872086876, 1.6212705432787016, 1.6212707836750608, 1.6268558765031302, 1.6276118130885682, 2.170192749329665, 1.6300128941963847, 4.834474944335725, 1.632739070941889, 2.718884571195363, 1.637938835803338, 1.6395311932485104, 1.6397093882283829, 1.6431611092548886, 1.0984848343431561, 1.098484907340661, 1.0984849257243523, 1.0984849375994374, 1.0984849490512862, 1.0984849573293418, 2.742281525967667, 8.568907804274625, 2.759806633155562, 2.2091936831743353, 2.2339303945772913, 7.4131480318809935, 53.30280441037925, 19.11212767044188, 12.241763398987313, 5.056456673539936, 22.719532505754973, 20.91160288523359, 25.908625109838518, 28.376993630403575, 39.82679534435165, 22.179379714688007, 24.08773283806211, 25.77511300923938, 34.2691914373022, 16.16439500589146, 11.462387127323142, 26.120997152421804, 23.61122905405332, 14.372268517824676, 14.183122023566218, 27.010982369266937, 13.175601857122764, 15.190165592652896, 17.451807760593653, 13.61690326477322, 14.387909630649798, 15.271088720383025, 20.172199613907885, 17.68154909818675, 14.975792611687849, 16.563215833012517, 16.79345689077567, 13.823397803858837, 14.686055025034909, 14.146911255508302, 3.690692746319531, 3.180556681312383, 2.65256173623524, 2.663379772873715, 1.6135391748183034, 1.6135393028726006, 1.613539510654151, 1.613539665280575, 1.6135404600284013, 6.3932578812496335, 1.6170310954092073, 1.618100318186502, 1.6209355593668586, 2.684926734481355, 5.871073676189071, 4.281566467762359, 1.0932468926093328, 1.09324694107694, 1.0932470590970247, 1.0932471912740729, 1.0932474752962216, 1.0932474317410963, 1.0932475550216019, 1.093247577047965, 1.0932477418757478, 1.0932477652490002, 1.0932479328075955, 1.0932483981947603, 1.642300142197101, 1.096882979244666, 5.364999956980177, 1.6441677720476509, 3.2546421865356163, 2.720018986818482, 2.7295938128003163, 2.74347261777497, 3.333533894685915, 3.337188080102843, 2.198659014305772, 9.964790828511825, 2.184115523037807, 11.92161946115618, 4.061981375170332, 48.57004828165476, 42.77139480343725, 34.643264654329045, 6.584702319411423, 22.338331550411517, 40.51575077649629, 20.51017856113206, 26.821743467456407, 14.284775533924712, 23.580550031094806, 17.302923518770953, 12.32944103075259, 8.450754992918352, 25.860375449960515, 11.981789353082824, 15.163323165162863, 18.10605583636685, 8.718254667083018, 19.209319080993428, 19.268670889108996, 17.186830108747756, 17.07010372160111, 12.413308116776438, 13.692257659171291, 13.696673159561918, 16.696644814457827, 14.656788320574629, 15.743253158944055, 14.880479671963123, 15.842553209267281, 16.843912677636908, 13.052866957987023, 13.88551698540122, 13.640847420298591, 12.965029208785275, 13.239224164253235, 13.309231494584507, 1.5803091068132369, 1.580309312015727, 1.5803116664798724, 1.0707319743030432, 1.0707321081445749, 1.070732111826803, 1.0707321673407222, 1.0707322219055238, 1.0707322382400215, 1.0707322725855442, 1.0707324307723483, 1.0707324977038388, 1.0707326658287126, 1.0707328907743234, 1.0707336334771513, 1.0738987128768933, 1.0739511445743644, 1.074104125616916, 1.074608986937582, 1.0748917074307174, 1.0767477397304102, 1.0772862537441625, 1.0770702863203465, 1.0773809779647803, 1.0782262977771953, 1.0783122321857008, 1.0785805946487272, 1.0804678072925449, 5.318503259941962, 2.664001247825527, 2.6640015764258584, 2.673837841854759, 3.790993772445013, 4.313360702765816, 11.491297813420141, 2.1653055163619523, 3.264882824582502, 2.1533804925814564, 2.1533788468013393, 3.2720071061621336, 2.6764964929760136, 2.16100196422578, 4.430410360381628, 3.8154402749751912, 2.1700633741100286, 3.280579412838987, 15.698883273950443, 2.7551667762353533, 29.443606461415808, 5.612117316686169, 16.139662359943717, 2.7742142326342543, 35.876067950625504, 7.016495658391165, 3.462405458832016, 42.276201079996426, 28.900808470474132, 18.47984873618788, 27.977377094167064, 34.28643861918655, 27.5932846828482, 17.037642041720094, 16.917057797534774, 17.649630922169834, 19.574804455662974, 12.28581161373236, 16.91340609352449, 15.031165868571147, 22.305136186865543, 19.04276842760301, 17.351451170657974, 13.23741731025641, 13.60640245799722, 13.36635959215076, 19.465943921382692, 18.410172779545828, 18.928616410455838, 12.773252084422674, 13.634655363823676, 15.686654833276027, 16.08347377306261, 14.577700589516455, 16.446291086213165, 14.527853881619968, 15.459544870791182, 15.275017956821298, 13.940570470782207, 3.6083200490732223, 3.1191535162634327, 2.608778469729741, 2.0895408297769986, 1.5759992986270421, 1.5759993080358317, 1.5760001620710309, 1.5822575804715926, 1.5892439802924438, 2.6227361931675452, 1.596204801196714, 1.0678120269992426, 1.0678120555098158, 1.0678120999854233, 1.0678121126381879, 1.06781213543244, 1.0678121548852935, 1.0678121737779476, 1.0678125657917454, 1.0678125896623254, 1.0678127933878996, 1.0678130044762322, 1.0678134610888743, 1.0678029301307044, 1.0678445371255547, 1.067740040738366, 7.34878821543902, 1.0714805563408536, 1.0715104697631566, 1.0717439345706525, 3.702669089913456, 2.6567363775738726, 5.342758323927616, 2.656735609057006, 2.668387816611354, 5.967286926035185, 3.2559776561153084, 2.1475066650725414, 5.51625742340239, 4.3628397910555465, 3.16489257260511, 3.364389681682667, 4.786594530498, 8.620986750712051, 35.64569519191446, 28.472559244675622, 6.328625322363671, 22.67180763566138, 14.003653039908704, 39.314256166923975, 31.066559894942614, 15.764328580799669, 26.845924789951297, 23.40523593149822, 10.929820721244035, 20.201364707991157, 16.84845821583217, 14.897812325709497, 17.814849503593347, 19.457627390037768, 17.386868096061466, 16.106965563010647, 18.191099821653395, 21.705879908028496, 17.133513244329517, 19.136543744547236, 26.080372018605456, 19.570750078358355, 14.1284766326668, 14.639204190711016, 14.379961330697414, 14.76871652087336, 17.453268701102704, 11.58519203431604, 14.321721110813446, 13.19711368107574, 13.709756368641486, 2.1319405981664254, 1.3057356599790206, 3.4404654881329124, 0.8758874912596949, 0.8758875724171947, 0.875887652672756, 0.8758886635488999, 0.8758890136101918, 0.878549149837976, 0.8814032729066943, 0.882774205977067, 0.8834381624752152, 0.8837193017022242, 0.8844829342711329, 4.6986544335598515, 0.8990713281977121, 1.7657028961167178, 1.768298483691363, 2.2110884872723244, 1.3431744933536705, 1.3477664028173508, 1.3482921082088533, 1.3197049219433437, 1.7712858200229034, 2.2572723246612236, 1.837521048720053, 1.3523851194176242, 2.753797456287409, 1.3524164566161059, 0.9236566955602467, 6.668383439020376, 2.987466662850041, 2.3314662213200066, 2.7312419403838475, 2.747799783933436, 14.142350940966002, 10.854427502421277, 5.43520064842393, 29.58013372736076, 21.950770324488843, 2.8109319062373403, 21.128332920141645, 7.4350569534186794, 13.617452897479136, 13.833094176610176, 24.815521670884458, 17.33068593124545, 9.048685233130536, 16.87607342893818, 15.35908894935948, 8.068350164264956, 11.64976128445344, 16.811040825374707, 13.15187959490585, 7.721172662425928, 11.78315143396946, 13.26399679029746, 12.33675026011204, 10.39969863822932, 11.921571914421062, 10.453963982978895, 10.770579557918406, 10.578029941201292, 9.386189146340193, 8.827818468165972, 8.466105844673882, 8.474455382358185, 8.789645427506814, 8.57214600692111, 8.559308690997005, 8.511515543905908, 3.580504280637029, 2.4000782195014256, 1.6092545566105334, 2.014961088870519, 1.2148880448015098, 1.2204279278439247, 0.8231425262046898, 0.8231426070313124, 0.8231426924331419, 0.8231427862802578, 0.8231429095480123, 0.8231429996447442, 0.8231430558677397, 0.823143322802958, 0.8231433265414292, 0.825595148932504, 0.825727852164102, 0.8270508530055338, 0.8276770596401761, 0.8300954534201475, 0.8328228905230615, 0.832611947704102, 2.06555125271438, 2.0617330422917792, 2.8414532374177393, 2.4586509521198616, 1.6554444176043548, 1.2622899672941996, 1.2622430812584466, 1.26229029227577, 2.120016644342003, 2.07351844573008, 1.664621428291197, 2.1307097111041404, 2.942021057309862, 3.485992718231779, 3.5838129512247145, 16.33578567697234, 27.16665581069838, 4.124292200521427, 4.166860235471398, 2.6598453448297468, 2.6733849179801825, 2.1612824861212534, 22.78265916986222, 17.54172732675081, 1.7211370893202758, 1.7212765371395915, 18.481938670742625, 14.550809114132232, 12.851182899230523, 6.0345539764828535, 15.391568147859969, 13.064797581514659, 13.904768534580683, 9.168728316335221, 13.462030184375672, 10.65547662218634, 12.573364338144023, 9.907500003475972, 14.951369510093501, 13.025197687310385, 10.69392673545827, 10.762668228997427, 8.38603543432337, 6.850641661725345, 7.264333931712348, 8.036220324952708, 9.402126812859112, 8.478043634146578, 8.43397344468915, 8.652399488758508, 8.103769648125814, 8.260234141848413, 8.381685784794886, 8.055165847819213, 8.211262342044702], \"Category\": [\"Default\", \"Default\", \"Default\", \"Default\", \"Default\", \"Default\", \"Default\", \"Default\", \"Default\", \"Default\", \"Default\", \"Default\", \"Default\", \"Default\", \"Default\", \"Default\", \"Default\", \"Default\", \"Default\", \"Default\", \"Default\", \"Default\", \"Default\", \"Default\", \"Default\", \"Default\", \"Default\", \"Default\", \"Default\", \"Default\", \"Topic1\", \"Topic1\", \"Topic1\", \"Topic1\", \"Topic1\", \"Topic1\", \"Topic1\", \"Topic1\", \"Topic1\", \"Topic1\", \"Topic1\", \"Topic1\", \"Topic1\", \"Topic1\", \"Topic1\", \"Topic1\", \"Topic1\", \"Topic1\", \"Topic1\", \"Topic1\", \"Topic1\", \"Topic1\", \"Topic1\", \"Topic1\", \"Topic1\", \"Topic1\", \"Topic1\", \"Topic1\", \"Topic1\", \"Topic1\", \"Topic1\", \"Topic1\", \"Topic1\", \"Topic1\", \"Topic1\", \"Topic1\", \"Topic1\", \"Topic1\", \"Topic1\", \"Topic1\", \"Topic1\", \"Topic1\", \"Topic1\", \"Topic1\", \"Topic1\", \"Topic1\", \"Topic1\", \"Topic1\", \"Topic1\", \"Topic1\", \"Topic1\", \"Topic1\", \"Topic1\", \"Topic1\", \"Topic1\", \"Topic1\", \"Topic1\", \"Topic1\", \"Topic1\", \"Topic1\", \"Topic1\", \"Topic1\", \"Topic1\", \"Topic1\", \"Topic1\", \"Topic1\", \"Topic1\", \"Topic1\", \"Topic1\", \"Topic1\", \"Topic1\", \"Topic1\", \"Topic1\", \"Topic1\", \"Topic1\", \"Topic1\", \"Topic1\", \"Topic2\", \"Topic2\", \"Topic2\", \"Topic2\", \"Topic2\", \"Topic2\", \"Topic2\", \"Topic2\", \"Topic2\", \"Topic2\", \"Topic2\", \"Topic2\", \"Topic2\", \"Topic2\", \"Topic2\", \"Topic2\", \"Topic2\", \"Topic2\", \"Topic2\", \"Topic2\", \"Topic2\", \"Topic2\", \"Topic2\", \"Topic2\", \"Topic2\", \"Topic2\", \"Topic2\", \"Topic2\", \"Topic2\", \"Topic2\", \"Topic2\", \"Topic2\", \"Topic2\", \"Topic2\", \"Topic2\", \"Topic2\", \"Topic2\", \"Topic2\", \"Topic2\", \"Topic2\", \"Topic2\", \"Topic2\", \"Topic2\", \"Topic2\", \"Topic2\", \"Topic2\", \"Topic2\", \"Topic2\", \"Topic2\", \"Topic2\", \"Topic2\", \"Topic2\", \"Topic2\", \"Topic2\", \"Topic2\", \"Topic2\", \"Topic2\", \"Topic2\", \"Topic2\", \"Topic2\", \"Topic2\", \"Topic2\", \"Topic2\", \"Topic2\", \"Topic2\", \"Topic2\", \"Topic2\", \"Topic2\", \"Topic2\", \"Topic2\", \"Topic2\", \"Topic2\", \"Topic2\", \"Topic2\", \"Topic2\", \"Topic2\", \"Topic2\", \"Topic3\", \"Topic3\", \"Topic3\", \"Topic3\", \"Topic3\", \"Topic3\", \"Topic3\", \"Topic3\", \"Topic3\", \"Topic3\", \"Topic3\", \"Topic3\", \"Topic3\", \"Topic3\", \"Topic3\", \"Topic3\", \"Topic3\", \"Topic3\", \"Topic3\", \"Topic3\", \"Topic3\", \"Topic3\", \"Topic3\", \"Topic3\", \"Topic3\", \"Topic3\", \"Topic3\", \"Topic3\", \"Topic3\", \"Topic3\", \"Topic3\", \"Topic3\", \"Topic3\", \"Topic3\", \"Topic3\", \"Topic3\", \"Topic3\", \"Topic3\", \"Topic3\", \"Topic3\", \"Topic3\", \"Topic3\", \"Topic3\", \"Topic3\", \"Topic3\", \"Topic3\", \"Topic3\", \"Topic3\", \"Topic3\", \"Topic3\", \"Topic3\", \"Topic3\", \"Topic3\", \"Topic3\", \"Topic3\", \"Topic3\", \"Topic3\", \"Topic3\", \"Topic3\", \"Topic3\", \"Topic3\", \"Topic3\", \"Topic3\", \"Topic3\", \"Topic3\", \"Topic3\", \"Topic3\", \"Topic3\", \"Topic3\", \"Topic3\", \"Topic3\", \"Topic3\", \"Topic3\", \"Topic3\", \"Topic3\", \"Topic3\", \"Topic3\", \"Topic3\", \"Topic3\", \"Topic3\", \"Topic3\", \"Topic3\", \"Topic3\", \"Topic3\", \"Topic3\", \"Topic4\", \"Topic4\", \"Topic4\", \"Topic4\", \"Topic4\", \"Topic4\", \"Topic4\", \"Topic4\", \"Topic4\", \"Topic4\", \"Topic4\", \"Topic4\", \"Topic4\", \"Topic4\", \"Topic4\", \"Topic4\", \"Topic4\", \"Topic4\", \"Topic4\", \"Topic4\", \"Topic4\", \"Topic4\", \"Topic4\", \"Topic4\", \"Topic4\", \"Topic4\", \"Topic4\", \"Topic4\", \"Topic4\", \"Topic4\", \"Topic4\", \"Topic4\", \"Topic4\", \"Topic4\", \"Topic4\", \"Topic4\", \"Topic4\", \"Topic4\", \"Topic4\", \"Topic4\", \"Topic4\", \"Topic4\", \"Topic4\", \"Topic4\", \"Topic4\", \"Topic4\", \"Topic4\", \"Topic4\", \"Topic4\", \"Topic4\", \"Topic4\", \"Topic4\", \"Topic4\", \"Topic4\", \"Topic4\", \"Topic4\", \"Topic4\", \"Topic4\", \"Topic4\", \"Topic4\", \"Topic4\", \"Topic4\", \"Topic4\", \"Topic4\", \"Topic4\", \"Topic4\", \"Topic4\", \"Topic4\", \"Topic4\", \"Topic4\", \"Topic4\", \"Topic4\", \"Topic4\", \"Topic4\", \"Topic4\", \"Topic4\", \"Topic4\", \"Topic4\", \"Topic4\", \"Topic4\", \"Topic4\", \"Topic4\", \"Topic5\", \"Topic5\", \"Topic5\", \"Topic5\", \"Topic5\", \"Topic5\", \"Topic5\", \"Topic5\", \"Topic5\", \"Topic5\", \"Topic5\", \"Topic5\", \"Topic5\", \"Topic5\", \"Topic5\", \"Topic5\", \"Topic5\", \"Topic5\", \"Topic5\", \"Topic5\", \"Topic5\", \"Topic5\", \"Topic5\", \"Topic5\", \"Topic5\", \"Topic5\", \"Topic5\", \"Topic5\", \"Topic5\", \"Topic5\", \"Topic5\", \"Topic5\", \"Topic5\", \"Topic5\", \"Topic5\", \"Topic5\", \"Topic5\", \"Topic5\", \"Topic5\", \"Topic5\", \"Topic5\", \"Topic5\", \"Topic5\", \"Topic5\", \"Topic5\", \"Topic5\", \"Topic5\", \"Topic5\", \"Topic5\", \"Topic5\", \"Topic5\", \"Topic5\", \"Topic5\", \"Topic5\", \"Topic5\", \"Topic5\", \"Topic5\", \"Topic5\", \"Topic5\", \"Topic5\", \"Topic5\", \"Topic5\", \"Topic5\", \"Topic5\", \"Topic5\", \"Topic5\", \"Topic5\", \"Topic5\", \"Topic5\", \"Topic5\", \"Topic6\", \"Topic6\", \"Topic6\", \"Topic6\", \"Topic6\", \"Topic6\", \"Topic6\", \"Topic6\", \"Topic6\", \"Topic6\", \"Topic6\", \"Topic6\", \"Topic6\", \"Topic6\", \"Topic6\", \"Topic6\", \"Topic6\", \"Topic6\", \"Topic6\", \"Topic6\", \"Topic6\", \"Topic6\", \"Topic6\", \"Topic6\", \"Topic6\", \"Topic6\", \"Topic6\", \"Topic6\", \"Topic6\", \"Topic6\", \"Topic6\", \"Topic6\", \"Topic6\", \"Topic6\", \"Topic6\", \"Topic6\", \"Topic6\", \"Topic6\", \"Topic6\", \"Topic6\", \"Topic6\", \"Topic6\", \"Topic6\", \"Topic6\", \"Topic6\", \"Topic6\", \"Topic6\", \"Topic6\", \"Topic6\", \"Topic6\", \"Topic6\", \"Topic6\", \"Topic6\", \"Topic6\", \"Topic6\", \"Topic6\", \"Topic6\", \"Topic6\", \"Topic6\", \"Topic6\", \"Topic6\", \"Topic6\", \"Topic6\", \"Topic6\", \"Topic6\", \"Topic6\", \"Topic6\", \"Topic6\", \"Topic6\", \"Topic6\", \"Topic6\", \"Topic6\", \"Topic6\", \"Topic6\", \"Topic6\", \"Topic6\", \"Topic6\", \"Topic6\", \"Topic6\", \"Topic6\", \"Topic7\", \"Topic7\", \"Topic7\", \"Topic7\", \"Topic7\", \"Topic7\", \"Topic7\", \"Topic7\", \"Topic7\", \"Topic7\", \"Topic7\", \"Topic7\", \"Topic7\", \"Topic7\", \"Topic7\", \"Topic7\", \"Topic7\", \"Topic7\", \"Topic7\", \"Topic7\", \"Topic7\", \"Topic7\", \"Topic7\", \"Topic7\", \"Topic7\", \"Topic7\", \"Topic7\", \"Topic7\", \"Topic7\", \"Topic7\", \"Topic7\", \"Topic7\", \"Topic7\", \"Topic7\", \"Topic7\", \"Topic7\", \"Topic7\", \"Topic7\", \"Topic7\", \"Topic7\", \"Topic7\", \"Topic7\", \"Topic7\", \"Topic7\", \"Topic7\", \"Topic7\", \"Topic7\", \"Topic7\", \"Topic7\", \"Topic7\", \"Topic7\", \"Topic7\", \"Topic7\", \"Topic7\", \"Topic7\", \"Topic7\", \"Topic7\", \"Topic7\", \"Topic7\", \"Topic7\", \"Topic7\", \"Topic7\", \"Topic7\", \"Topic7\", \"Topic7\", \"Topic7\", \"Topic7\", \"Topic7\", \"Topic7\", \"Topic7\", \"Topic7\", \"Topic7\", \"Topic7\", \"Topic7\", \"Topic7\", \"Topic7\", \"Topic7\", \"Topic7\", \"Topic7\", \"Topic7\", \"Topic7\", \"Topic7\", \"Topic7\", \"Topic7\", \"Topic7\", \"Topic7\", \"Topic7\", \"Topic8\", \"Topic8\", \"Topic8\", \"Topic8\", \"Topic8\", \"Topic8\", \"Topic8\", \"Topic8\", \"Topic8\", \"Topic8\", \"Topic8\", \"Topic8\", \"Topic8\", \"Topic8\", \"Topic8\", \"Topic8\", \"Topic8\", \"Topic8\", \"Topic8\", \"Topic8\", \"Topic8\", \"Topic8\", \"Topic8\", \"Topic8\", \"Topic8\", \"Topic8\", \"Topic8\", \"Topic8\", \"Topic8\", \"Topic8\", \"Topic8\", \"Topic8\", \"Topic8\", \"Topic8\", \"Topic8\", \"Topic8\", \"Topic8\", \"Topic8\", \"Topic8\", \"Topic8\", \"Topic8\", \"Topic8\", \"Topic8\", \"Topic8\", \"Topic8\", \"Topic8\", \"Topic8\", \"Topic8\", \"Topic8\", \"Topic8\", \"Topic8\", \"Topic8\", \"Topic8\", \"Topic8\", \"Topic8\", \"Topic8\", \"Topic8\", \"Topic8\", \"Topic8\", \"Topic8\", \"Topic8\", \"Topic8\", \"Topic8\", \"Topic8\", \"Topic8\", \"Topic8\", \"Topic8\", \"Topic8\", \"Topic8\", \"Topic8\", \"Topic8\", \"Topic8\", \"Topic8\", \"Topic8\", \"Topic8\", \"Topic8\", \"Topic8\", \"Topic9\", \"Topic9\", \"Topic9\", \"Topic9\", \"Topic9\", \"Topic9\", \"Topic9\", \"Topic9\", \"Topic9\", \"Topic9\", \"Topic9\", \"Topic9\", \"Topic9\", \"Topic9\", \"Topic9\", \"Topic9\", \"Topic9\", \"Topic9\", \"Topic9\", \"Topic9\", \"Topic9\", \"Topic9\", \"Topic9\", \"Topic9\", \"Topic9\", \"Topic9\", \"Topic9\", \"Topic9\", \"Topic9\", \"Topic9\", \"Topic9\", \"Topic9\", \"Topic9\", \"Topic9\", \"Topic9\", \"Topic9\", \"Topic9\", \"Topic9\", \"Topic9\", \"Topic9\", \"Topic9\", \"Topic9\", \"Topic9\", \"Topic9\", \"Topic9\", \"Topic9\", \"Topic9\", \"Topic9\", \"Topic9\", \"Topic9\", \"Topic9\", \"Topic9\", \"Topic9\", \"Topic9\", \"Topic9\", \"Topic9\", \"Topic9\", \"Topic9\", \"Topic9\", \"Topic9\", \"Topic9\", \"Topic9\", \"Topic9\", \"Topic9\", \"Topic9\", \"Topic9\", \"Topic9\", \"Topic9\", \"Topic9\", \"Topic9\", \"Topic9\", \"Topic10\", \"Topic10\", \"Topic10\", \"Topic10\", \"Topic10\", \"Topic10\", \"Topic10\", \"Topic10\", \"Topic10\", \"Topic10\", \"Topic10\", \"Topic10\", \"Topic10\", \"Topic10\", \"Topic10\", \"Topic10\", \"Topic10\", \"Topic10\", \"Topic10\", \"Topic10\", \"Topic10\", \"Topic10\", \"Topic10\", \"Topic10\", \"Topic10\", \"Topic10\", \"Topic10\", \"Topic10\", \"Topic10\", \"Topic10\", \"Topic10\", \"Topic10\", \"Topic10\", \"Topic10\", \"Topic10\", \"Topic10\", \"Topic10\", \"Topic10\", \"Topic10\", \"Topic10\", \"Topic10\", \"Topic10\", \"Topic10\", \"Topic10\", \"Topic10\", \"Topic10\", \"Topic10\", \"Topic10\", \"Topic10\", \"Topic10\", \"Topic10\", \"Topic10\", \"Topic10\", \"Topic10\", \"Topic10\", \"Topic10\", \"Topic10\", \"Topic10\", \"Topic10\", \"Topic10\", \"Topic10\", \"Topic10\", \"Topic10\", \"Topic10\", \"Topic10\", \"Topic10\", \"Topic10\", \"Topic10\", \"Topic10\", \"Topic10\", \"Topic10\", \"Topic10\", \"Topic10\", \"Topic10\", \"Topic10\", \"Topic10\", \"Topic10\"], \"logprob\": [30.0, 29.0, 28.0, 27.0, 26.0, 25.0, 24.0, 23.0, 22.0, 21.0, 20.0, 19.0, 18.0, 17.0, 16.0, 15.0, 14.0, 13.0, 12.0, 11.0, 10.0, 9.0, 8.0, 7.0, 6.0, 5.0, 4.0, 3.0, 2.0, 1.0, -6.9797, -7.3067, -7.8153, -8.2143, -8.2122, -8.2114, -8.2106, -7.206, -8.4935, -8.4935, -8.4935, -8.4935, -8.4935, -8.4935, -8.4935, -7.2072, -8.4909, -8.4877, -8.486, -8.4866, -7.1141, -8.4828, -6.8932, -7.3999, -8.8827, -8.8827, -8.8827, -8.8827, -8.8827, -8.8827, -7.7934, -7.9712, -7.9712, -7.9712, -7.9698, -7.2707, -7.107, -5.219, -7.4716, -7.0344, -6.9584, -5.9317, -6.8715, -5.303, -6.8476, -7.0289, -4.938, -7.7665, -5.5941, -5.6802, -5.7995, -5.9022, -5.3442, -5.2388, -6.0475, -5.648, -5.7886, -6.0353, -5.8857, -5.618, -6.1139, -5.6906, -5.8794, -6.2296, -5.8055, -5.6977, -5.8463, -6.0514, -6.0765, -6.1771, -6.2436, -6.1465, -6.0372, -6.2219, -6.1043, -6.1528, -6.1893, -7.1227, -6.4293, -7.343, -6.5289, -7.8012, -8.0213, -8.0202, -8.02, -8.0155, -8.3019, -7.1086, -8.3002, -8.2992, -8.296, -7.1053, -8.2958, -8.2942, -8.2941, -7.4556, -8.6912, -8.6912, -8.6912, -8.6912, -8.6912, -8.6912, -8.6912, -8.6912, -8.6912, -8.6912, -8.6891, -7.5992, -7.7718, -7.1566, -7.9925, -7.9909, -7.9906, -7.9925, -7.9899, -7.2924, -7.149, -7.7383, -5.1534, -4.8259, -6.9476, -5.0027, -7.2795, -5.5784, -5.4958, -6.9766, -5.3937, -5.4352, -6.1177, -5.9203, -6.4097, -5.8568, -6.0592, -5.6256, -5.8286, -5.9796, -6.0239, -5.997, -5.8777, -5.9307, -5.759, -6.0795, -5.7363, -6.0256, -5.837, -6.1422, -6.1143, -5.9783, -5.9337, -6.0874, -5.9691, -6.0774, -6.0504, -6.1073, -7.024, -7.1188, -7.2222, -8.0206, -8.017, -8.2998, -8.2998, -8.2998, -8.294, -8.294, -8.2938, -8.2903, -7.2046, -8.6891, -8.6891, -8.6891, -8.6891, -8.6891, -8.6891, -8.6891, -8.6891, -8.6841, -8.6832, -8.6825, -8.6822, -8.6817, -8.6797, -8.6797, -8.6779, -8.674, -7.189, -7.7761, -7.7792, -7.3186, -7.5949, -7.5906, -7.0706, -7.9904, -7.9904, -7.4199, -7.9904, -7.9904, -7.4459, -7.9886, -7.9872, -7.9875, -7.1395, -7.2625, -6.1123, -5.3591, -5.0111, -5.6878, -6.2831, -5.2453, -6.0884, -5.4236, -5.9173, -5.5175, -5.7776, -5.5717, -6.3065, -5.2894, -5.8898, -5.9182, -5.5954, -5.5363, -6.2259, -5.9857, -6.5587, -5.8008, -6.0221, -5.9595, -6.2075, -5.863, -6.2539, -6.0621, -5.9748, -6.2231, -6.0976, -6.068, -6.0648, -6.097, -6.1978, -6.195, -6.185, -7.1119, -7.3318, -7.4625, -7.7971, -8.0155, -7.7918, -8.0131, -8.2961, -8.2941, -8.2812, -7.4497, -8.6853, -8.6853, -8.6853, -8.6853, -8.6853, -8.6853, -8.6853, -8.6853, -8.6853, -8.6853, -8.6853, -8.6839, -8.6835, -8.6831, -8.6824, -8.682, -8.6817, -8.6814, -8.6814, -7.4452, -7.7737, -7.7739, -7.9015, -8.2682, -7.9863, -7.9868, -7.9867, -7.9815, -7.7692, -7.7376, -7.5498, -5.7267, -7.7311, -4.9388, -7.5299, -7.9781, -6.6046, -6.4081, -5.4162, -5.5874, -5.9695, -5.5713, -5.1548, -6.0184, -5.8941, -6.6612, -5.759, -6.5279, -5.7959, -5.8476, -6.0639, -6.5468, -6.6409, -5.7181, -5.5277, -6.1189, -5.9335, -5.8931, -5.6186, -5.8669, -5.8483, -6.0061, -6.0444, -6.11, -5.9957, -6.0813, -6.1394, -5.8858, -6.0662, -5.9175, -5.9604, -7.3312, -7.467, -7.7978, -7.7978, -7.7933, -8.0157, -8.0157, -8.0157, -8.0097, -8.2949, -8.2949, -8.2949, -8.2949, -8.2914, -8.291, -8.0032, -8.2895, -7.2023, -8.2878, -7.7778, -8.2846, -8.2837, -8.2835, -8.2814, -8.6841, -8.6841, -8.6841, -8.6841, -8.6841, -8.6841, -7.7693, -6.6299, -7.7629, -7.9854, -7.9743, -6.7748, -4.8021, -5.8277, -6.2732, -7.1574, -5.6548, -5.7378, -5.5235, -5.4325, -5.0935, -5.6789, -5.5964, -5.5287, -5.2438, -5.9953, -6.339, -5.5153, -5.6163, -6.1128, -6.126, -5.4818, -6.1997, -6.0574, -5.9186, -6.1668, -6.1117, -6.0521, -5.7738, -5.9055, -6.0716, -5.9709, -5.9571, -6.1517, -6.0912, -6.1286, -7.4622, -7.6109, -7.7924, -7.7884, -8.2895, -8.2895, -8.2895, -8.2895, -8.2895, -6.9127, -8.2874, -8.2867, -8.285, -7.7803, -6.9979, -7.3136, -8.6788, -8.6788, -8.6788, -8.6788, -8.6788, -8.6788, -8.6788, -8.6788, -8.6788, -8.6788, -8.6788, -8.6788, -8.2719, -8.6755, -7.0881, -8.2707, -7.5879, -7.7673, -7.7638, -7.7587, -7.5639, -7.5628, -7.9801, -6.4689, -7.9868, -6.2896, -7.3663, -4.885, -5.0121, -5.2229, -6.8832, -5.6617, -5.0663, -5.747, -5.4788, -6.1088, -5.6075, -5.9171, -6.256, -6.6337, -5.5153, -6.2846, -6.0491, -5.8717, -6.6025, -5.8126, -5.8095, -5.9238, -5.9306, -6.2492, -6.1511, -6.1508, -5.9528, -6.0831, -6.0116, -6.0679, -6.0053, -5.944, -6.199, -6.1371, -6.1549, -6.2057, -6.1848, -6.1795, -8.2703, -8.2703, -8.2703, -8.6596, -8.6596, -8.6596, -8.6596, -8.6596, -8.6596, -8.6596, -8.6596, -8.6596, -8.6596, -8.6596, -8.6596, -8.6567, -8.6566, -8.6565, -8.656, -8.6557, -8.654, -8.6535, -8.6537, -8.6534, -8.6526, -8.6526, -8.6523, -8.6506, -7.0568, -7.7481, -7.7481, -7.7444, -7.3953, -7.2662, -6.2864, -7.9554, -7.5447, -7.9609, -7.9609, -7.5425, -7.7434, -7.9574, -7.2395, -7.3889, -7.9532, -7.5399, -5.9744, -7.7145, -5.3455, -7.003, -5.9467, -7.7076, -5.1479, -6.7797, -7.486, -4.9837, -5.3641, -5.8113, -5.3966, -5.1932, -5.4104, -5.8925, -5.8996, -5.8572, -5.7537, -6.2195, -5.8998, -6.0178, -5.6231, -5.7813, -5.8743, -6.1449, -6.1174, -6.1352, -5.7593, -5.815, -5.7873, -6.1806, -6.1153, -5.9751, -5.9502, -6.0485, -5.9279, -6.0519, -5.9897, -6.0017, -6.0931, -7.4384, -7.584, -7.7627, -7.9847, -8.2667, -8.2667, -8.2667, -8.2628, -8.2583, -7.7574, -8.254, -8.656, -8.656, -8.656, -8.656, -8.656, -8.656, -8.656, -8.656, -8.656, -8.656, -8.656, -8.656, -8.656, -8.656, -8.6561, -6.7271, -8.6526, -8.6525, -8.6523, -7.4126, -7.7445, -7.0459, -7.7445, -7.7401, -6.9353, -7.5411, -7.9573, -7.0139, -7.2485, -7.5695, -7.5084, -7.1558, -6.5674, -5.148, -5.3727, -6.8765, -5.6005, -6.0823, -5.05, -5.2855, -5.9639, -5.4315, -5.5686, -6.3301, -5.7159, -5.8973, -6.0204, -5.8416, -5.7534, -5.8659, -5.9424, -5.8207, -5.644, -5.8806, -5.77, -5.4604, -5.7476, -6.0734, -6.0379, -6.0558, -6.0291, -5.8621, -6.2719, -6.0598, -6.1416, -6.1035, -7.5966, -8.0868, -7.118, -8.4861, -8.4861, -8.4861, -8.4861, -8.4861, -8.4831, -8.4798, -8.4783, -8.4775, -8.4772, -8.4763, -6.8063, -8.46, -7.785, -7.7836, -7.5601, -8.0585, -8.0551, -8.0547, -8.0762, -7.7819, -7.5394, -7.7452, -8.0517, -7.3406, -8.0517, -8.433, -6.4562, -7.2592, -7.5071, -7.3488, -7.3428, -5.7044, -5.969, -6.6607, -4.9665, -5.2648, -7.3201, -5.303, -6.3474, -5.7422, -5.7265, -5.1421, -5.5011, -6.151, -5.5277, -5.6219, -6.2656, -5.8983, -5.5315, -5.777, -6.3096, -5.8869, -5.7685, -5.841, -6.0118, -5.8752, -6.0066, -5.9768, -5.9948, -6.1143, -6.1757, -6.2175, -6.2165, -6.18, -6.2051, -6.2066, -6.2122, -6.9732, -7.3732, -7.7729, -7.5481, -8.0541, -8.0495, -8.4433, -8.4433, -8.4433, -8.4433, -8.4433, -8.4433, -8.4433, -8.4433, -8.4433, -8.4404, -8.4402, -8.4386, -8.4378, -8.4349, -8.4316, -8.4319, -7.5233, -7.5252, -7.2044, -7.3491, -7.7446, -8.0158, -8.0158, -8.0158, -7.4973, -7.5195, -7.7391, -7.4923, -7.1696, -7.0, -6.9723, -5.4554, -4.9467, -6.8318, -6.8215, -7.2704, -7.2654, -7.478, -5.1227, -5.3841, -7.7057, -7.7056, -5.3319, -5.5711, -5.6953, -6.4512, -5.5149, -5.6788, -5.6165, -6.0329, -5.6488, -5.8826, -5.7171, -5.9554, -5.5439, -5.6818, -5.879, -5.8726, -6.1221, -6.3244, -6.2657, -6.1648, -6.0078, -6.1112, -6.1164, -6.0909, -6.1564, -6.1373, -6.1227, -6.1624, -6.1432], \"Term\": [\"world\", \"axel\", \"new\", \"larry\", \"he\", \"jenny\", \"time\", \"t\", \"love\", \"blu\", \"max\", \"mother\", \"batman\", \"king\", \"harry\", \"reggie\", \"johnny\", \"fiona\", \"finds\", \"woman\", \"life\", \"pooh\", \"john\", \"jack\", \"earth\", \"rod\", \"wife\", \"tom\", \"zack\", \"young\", \"blu\", \"fern\", \"pierre\", \"trevor\", \"ruins\", \"donor\", \"dredd\", \"speedy\", \"pete\", \"outpost\", \"abusive\", \"lowry\", \"marion\", \"edmund\", \"feign\", \"ray\", \"collecting\", \"batty\", \"encountering\", \"dallas\", \"gotham\", \"gentle\", \"batman\", \"thor\", \"developer\", \"courtroom\", \"reign\", \"hardships\", \"swat\", \"timer\", \"julio\", \"asgard\", \"cady\", \"angel\", \"sperm\", \"melanie\", \"johnny\", \"father\", \"wayne\", \"eve\", \"survivors\", \"police\", \"station\", \"t\", \"jane\", \"edward\", \"life\", \"rio\", \"help\", \"years\", \"city\", \"school\", \"man\", \"new\", \"daughter\", \"family\", \"way\", \"lives\", \"friends\", \"young\", \"job\", \"love\", \"him\", \"human\", \"time\", \"world\", \"it\", \"wife\", \"earth\", \"her\", \"best\", \"people\", \"finds\", \"goes\", \"woman\", \"day\", \"old\", \"zack\", \"axel\", \"daisy\", \"jenny\", \"vitti\", \"loveless\", \"jenna\", \"connell\", \"pleasant\", \"darius\", \"benjamin\", \"rooney\", \"fathers\", \"annabeth\", \"percy\", \"sobol\", \"rosewood\", \"taggart\", \"gromit\", \"diagnosed\", \"delusional\", \"childbirth\", \"neighbour\", \"unearth\", \"ferrari\", \"understandably\", \"prof\", \"em\", \"should\", \"investigator\", \"tim\", \"hills\", \"ron\", \"phillips\", \"frog\", \"ruby\", \"gallery\", \"allen\", \"museum\", \"louis\", \"valerie\", \"time\", \"life\", \"larry\", \"new\", \"wallace\", \"finds\", \"young\", \"trapped\", \"man\", \"world\", \"night\", \"wants\", \"and\", \"friends\", \"town\", \"love\", \"way\", \"people\", \"save\", \"friend\", \"years\", \"day\", \"it\", \"lives\", \"t\", \"named\", \"family\", \"job\", \"son\", \"home\", \"help\", \"meets\", \"father\", \"wife\", \"him\", \"woman\", \"pooh\", \"piglet\", \"owl\", \"amanda\", \"shakespeare\", \"properties\", \"specialists\", \"predict\", \"eeyore\", \"honey\", \"alec\", \"transmission\", \"rats\", \"replacement\", \"equipped\", \"switched\", \"leavitt\", \"reid\", \"extraterrestrial\", \"2054\", \"peeta\", \"instructs\", \"dublin\", \"auditions\", \"pretending\", \"equality\", \"acre\", \"tigger\", \"encouraged\", \"backed\", \"ellie\", \"cobb\", \"phil\", \"jessica\", \"nathan\", \"tape\", \"chris\", \"marcos\", \"panem\", \"davis\", \"pows\", \"elvis\", \"cindy\", \"agnes\", \"becky\", \"fair\", \"barbara\", \"ethan\", \"brother\", \"love\", \"life\", \"earth\", \"married\", \"man\", \"mission\", \"t\", \"girl\", \"it\", \"home\", \"time\", \"know\", \"new\", \"story\", \"wants\", \"young\", \"world\", \"parents\", \"school\", \"sam\", \"father\", \"friend\", \"day\", \"agent\", \"family\", \"work\", \"city\", \"help\", \"night\", \"old\", \"years\", \"finds\", \"him\", \"her\", \"meets\", \"way\", \"snow\", \"vegas\", \"las\", \"perseus\", \"kraken\", \"hoggett\", \"replaced\", \"darren\", \"andromeda\", \"coffee\", \"kimble\", \"fascination\", \"collectors\", \"bargained\", \"cronies\", \"ridiculed\", \"grimm\", \"revisit\", \"disney\", \"beanstalk\", \"sinbad\", \"deputies\", \"unwillingly\", \"waves\", \"cavernous\", \"backseat\", \"armstrong\", \"1979\", \"missions\", \"anthill\", \"zeus\", \"ant\", \"nora\", \"sick\", \"disillusioned\", \"skeptical\", \"sharon\", \"bomber\", \"rogers\", \"terry\", \"nelson\", \"babe\", \"gets\", \"margaret\", \"new\", \"gods\", \"hades\", \"princess\", \"quest\", \"young\", \"finds\", \"town\", \"family\", \"life\", \"takes\", \"named\", \"fbi\", \"him\", \"college\", \"way\", \"home\", \"evil\", \"a\", \"killer\", \"it\", \"man\", \"group\", \"friends\", \"woman\", \"world\", \"help\", \"father\", \"he\", \"people\", \"set\", \"old\", \"school\", \"year\", \"time\", \"earth\", \"love\", \"t\", \"genesis\", \"slater\", \"ghostbusters\", \"letters\", \"ann\", \"davy\", \"beckett\", \"their\", \"barbossa\", \"sorority\", \"implanted\", \"religion\", \"renegade\", \"awesome\", \"cheese\", \"teleportation\", \"savvy\", \"sylvia\", \"turtles\", \"australia\", \"ape\", \"shogun\", \"transporter\", \"notices\", \"thaddeus\", \"dutchman\", \"recurring\", \"boring\", \"madman\", \"oncoming\", \"caesar\", \"jones\", \"jan\", \"elle\", \"davies\", \"kirk\", \"world\", \"jack\", \"frank\", \"spock\", \"old\", \"war\", \"family\", \"love\", \"life\", \"woman\", \"finds\", \"time\", \"new\", \"group\", \"crew\", \"young\", \"it\", \"called\", \"agent\", \"man\", \"york\", \"son\", \"home\", \"stop\", \"her\", \"story\", \"t\", \"father\", \"friend\", \"him\", \"help\", \"set\", \"friends\", \"city\", \"aurora\", \"sulley\", \"ralph\", \"possessions\", \"hee\", \"ingenuity\", \"pat\", \"terminal\", \"golf\", \"rod\", \"admit\", \"virgil\", \"blomkvist\", \"empress\", \"baxter\", \"zoo\", \"burn\", \"discoveries\", \"mister\", \"mayan\", \"shrewd\", \"disclosed\", \"jump\", \"nails\", \"brash\", \"digger\", \"goofy\", \"cable\", \"quinn\", \"malibu\", \"asteroid\", \"socialite\", \"regina\", \"portal\", \"malkovich\", \"surgery\", \"craig\", \"dante\", \"kowalski\", \"series\", \"wheeler\", \"queen\", \"sophie\", \"new\", \"man\", \"young\", \"charles\", \"earth\", \"life\", \"day\", \"love\", \"york\", \"it\", \"war\", \"race\", \"baby\", \"world\", \"discover\", \"save\", \"woman\", \"country\", \"finds\", \"family\", \"years\", \"way\", \"house\", \"evil\", \"decides\", \"help\", \"city\", \"him\", \"old\", \"father\", \"t\", \"girl\", \"home\", \"wife\", \"goes\", \"wants\", \"friends\", \"balboa\", \"gap\", \"jamaican\", \"gas\", \"concludes\", \"exhausted\", \"heavyweight\", \"invaded\", \"preferences\", \"furniture\", \"caps\", \"melted\", \"retain\", \"erik\", \"outlaw\", \"heated\", \"nypd\", \"full\", \"cent\", \"capital\", \"unseen\", \"jerry\", \"across\", \"greeting\", \"storage\", \"panther\", \"industrial\", \"pretentious\", \"x\", \"carrie\", \"magneto\", \"robbie\", \"spencer\", \"harvey\", \"max\", \"isaac\", \"stuart\", \"shall\", \"miranda\", \"mcclane\", \"patrick\", \"leopold\", \"ted\", \"logan\", \"jen\", \"mutants\", \"charlie\", \"genetic\", \"woman\", \"stanley\", \"john\", \"era\", \"man\", \"alex\", \"thugs\", \"life\", \"t\", \"people\", \"young\", \"new\", \"world\", \"wants\", \"war\", \"wife\", \"him\", \"them\", \"he\", \"lives\", \"love\", \"help\", \"friends\", \"future\", \"however\", \"takes\", \"it\", \"family\", \"time\", \"secret\", \"girl\", \"home\", \"years\", \"friend\", \"finds\", \"story\", \"way\", \"father\", \"day\", \"donnie\", \"homer\", \"ip\", \"goblin\", \"monkey\", \"pub\", \"ongoing\", \"soprano\", \"disk\", \"puss\", \"entangled\", \"ambitions\", \"recluse\", \"bedroom\", \"awaiting\", \"dumbledore\", \"ministry\", \"aslan\", \"software\", \"archaeologists\", \"bennett\", \"darling\", \"sands\", \"teddy\", \"drifting\", \"scuttle\", \"reggie\", \"salvation\", \"overlord\", \"symbols\", \"troy\", \"donna\", \"archer\", \"sentinels\", \"voldemort\", \"martial\", \"cameron\", \"scarlett\", \"arts\", \"discovery\", \"pig\", \"shrek\", \"johnny\", \"harry\", \"man\", \"time\", \"henry\", \"years\", \"jack\", \"life\", \"world\", \"stop\", \"t\", \"it\", \"true\", \"him\", \"story\", \"town\", \"old\", \"help\", \"day\", \"war\", \"way\", \"love\", \"home\", \"finds\", \"new\", \"family\", \"evil\", \"year\", \"named\", \"earth\", \"young\", \"film\", \"friends\", \"friend\", \"woman\", \"xerxes\", \"investor\", \"rapunzel\", \"reacts\", \"gadgetry\", \"reward\", \"spiders\", \"humanoid\", \"refreshing\", \"coronation\", \"premiere\", \"reversed\", \"purple\", \"professed\", \"fiona\", \"misogynistic\", \"aka\", \"owen\", \"soap\", \"countryside\", \"richie\", \"flower\", \"occupied\", \"amish\", \"jamie\", \"hawkins\", \"crocodile\", \"norman\", \"chicken\", \"clarke\", \"larry\", \"shrek\", \"alabama\", \"mia\", \"beverly\", \"mother\", \"king\", \"tom\", \"new\", \"love\", \"scott\", \"world\", \"company\", \"wife\", \"day\", \"life\", \"t\", \"falls\", \"young\", \"it\", \"sent\", \"friends\", \"man\", \"family\", \"real\", \"him\", \"time\", \"finds\", \"city\", \"father\", \"earth\", \"way\", \"woman\", \"he\", \"save\", \"year\", \"meets\", \"old\", \"friend\", \"wants\", \"story\", \"woody\", \"bella\", \"le\", \"buzz\", \"dobbs\", \"rita\", \"carries\", \"paint\", \"powell\", \"lockwood\", \"legacy\", \"improvise\", \"jabba\", \"hutt\", \"jerusalem\", \"echo\", \"offices\", \"adversaries\", \"decidedly\", \"unborn\", \"forks\", \"giants\", \"ming\", \"flint\", \"da\", \"toy\", \"clinic\", \"dolittle\", \"salt\", \"hiccup\", \"taylor\", \"terminator\", \"miyagi\", \"cage\", \"shaw\", \"andy\", \"terrorists\", \"he\", \"life\", \"daniel\", \"walter\", \"connor\", \"susan\", \"employees\", \"new\", \"t\", \"karate\", \"mayor\", \"world\", \"finds\", \"way\", \"david\", \"young\", \"father\", \"it\", \"however\", \"time\", \"wife\", \"family\", \"school\", \"man\", \"love\", \"years\", \"help\", \"high\", \"doesn\", \"mission\", \"goes\", \"him\", \"story\", \"wants\", \"old\", \"friend\", \"city\", \"home\", \"earth\", \"woman\"]}, \"token.table\": {\"Term\": [\"1979\", \"2054\", \"a\", \"a\", \"a\", \"a\", \"a\", \"a\", \"a\", \"a\", \"a\", \"a\", \"abusive\", \"acre\", \"across\", \"admit\", \"adversaries\", \"agent\", \"agent\", \"agent\", \"agent\", \"agent\", \"agent\", \"agent\", \"agent\", \"agent\", \"agent\", \"agnes\", \"agnes\", \"aka\", \"aka\", \"alabama\", \"alabama\", \"alabama\", \"alabama\", \"alec\", \"alex\", \"alex\", \"alex\", \"alex\", \"alex\", \"alex\", \"alex\", \"alex\", \"alex\", \"alex\", \"allen\", \"allen\", \"amanda\", \"ambitions\", \"amish\", \"amish\", \"and\", \"and\", \"and\", \"and\", \"and\", \"and\", \"and\", \"and\", \"and\", \"and\", \"andromeda\", \"andy\", \"andy\", \"andy\", \"andy\", \"andy\", \"andy\", \"andy\", \"andy\", \"andy\", \"angel\", \"angel\", \"ann\", \"annabeth\", \"ant\", \"ant\", \"anthill\", \"ape\", \"archaeologists\", \"archer\", \"archer\", \"archer\", \"armstrong\", \"arts\", \"arts\", \"arts\", \"arts\", \"arts\", \"arts\", \"asgard\", \"asgard\", \"aslan\", \"asteroid\", \"asteroid\", \"auditions\", \"aurora\", \"australia\", \"awaiting\", \"awesome\", \"axel\", \"babe\", \"babe\", \"babe\", \"baby\", \"baby\", \"baby\", \"baby\", \"baby\", \"baby\", \"baby\", \"baby\", \"baby\", \"baby\", \"backed\", \"backseat\", \"balboa\", \"barbara\", \"barbara\", \"barbara\", \"barbara\", \"barbara\", \"barbara\", \"barbossa\", \"bargained\", \"batman\", \"batman\", \"batty\", \"baxter\", \"baxter\", \"beanstalk\", \"beckett\", \"becky\", \"becky\", \"bedroom\", \"bella\", \"benjamin\", \"benjamin\", \"bennett\", \"best\", \"best\", \"best\", \"best\", \"best\", \"best\", \"best\", \"best\", \"best\", \"best\", \"beverly\", \"beverly\", \"beverly\", \"blomkvist\", \"blu\", \"bomber\", \"bomber\", \"boring\", \"brash\", \"brother\", \"brother\", \"brother\", \"brother\", \"brother\", \"brother\", \"brother\", \"brother\", \"brother\", \"brother\", \"burn\", \"buzz\", \"cable\", \"cady\", \"cady\", \"caesar\", \"caesar\", \"cage\", \"cage\", \"cage\", \"called\", \"called\", \"called\", \"called\", \"called\", \"called\", \"called\", \"called\", \"called\", \"called\", \"cameron\", \"cameron\", \"cameron\", \"capital\", \"caps\", \"carrie\", \"carrie\", \"carries\", \"cavernous\", \"cent\", \"charles\", \"charles\", \"charles\", \"charles\", \"charles\", \"charles\", \"charles\", \"charles\", \"charles\", \"charles\", \"charlie\", \"charlie\", \"charlie\", \"charlie\", \"charlie\", \"charlie\", \"charlie\", \"charlie\", \"charlie\", \"charlie\", \"cheese\", \"chicken\", \"chicken\", \"childbirth\", \"chris\", \"chris\", \"chris\", \"cindy\", \"cindy\", \"city\", \"city\", \"city\", \"city\", \"city\", \"city\", \"city\", \"city\", \"city\", \"city\", \"clarke\", \"clarke\", \"clinic\", \"clinic\", \"cobb\", \"cobb\", \"coffee\", \"collecting\", \"collectors\", \"college\", \"college\", \"college\", \"college\", \"college\", \"college\", \"college\", \"college\", \"college\", \"college\", \"company\", \"company\", \"company\", \"company\", \"company\", \"company\", \"company\", \"company\", \"company\", \"company\", \"concludes\", \"connell\", \"connor\", \"connor\", \"connor\", \"connor\", \"coronation\", \"country\", \"country\", \"country\", \"country\", \"country\", \"country\", \"country\", \"country\", \"country\", \"country\", \"countryside\", \"countryside\", \"courtroom\", \"craig\", \"craig\", \"craig\", \"crew\", \"crew\", \"crew\", \"crew\", \"crew\", \"crew\", \"crew\", \"crew\", \"crew\", \"crew\", \"crocodile\", \"crocodile\", \"cronies\", \"da\", \"da\", \"daisy\", \"dallas\", \"daniel\", \"daniel\", \"daniel\", \"daniel\", \"daniel\", \"daniel\", \"daniel\", \"daniel\", \"daniel\", \"daniel\", \"dante\", \"dante\", \"dante\", \"darius\", \"darling\", \"darren\", \"daughter\", \"daughter\", \"daughter\", \"daughter\", \"daughter\", \"daughter\", \"daughter\", \"daughter\", \"daughter\", \"daughter\", \"david\", \"david\", \"david\", \"david\", \"david\", \"david\", \"david\", \"david\", \"david\", \"david\", \"davies\", \"davies\", \"davis\", \"davis\", \"davis\", \"davy\", \"day\", \"day\", \"day\", \"day\", \"day\", \"day\", \"day\", \"day\", \"day\", \"day\", \"decidedly\", \"decides\", \"decides\", \"decides\", \"decides\", \"decides\", \"decides\", \"decides\", \"decides\", \"decides\", \"decides\", \"delusional\", \"deputies\", \"developer\", \"diagnosed\", \"digger\", \"disclosed\", \"discover\", \"discover\", \"discover\", \"discover\", \"discover\", \"discover\", \"discover\", \"discover\", \"discover\", \"discover\", \"discoveries\", \"discovery\", \"discovery\", \"discovery\", \"disillusioned\", \"disk\", \"disney\", \"dobbs\", \"doesn\", \"doesn\", \"doesn\", \"doesn\", \"doesn\", \"doesn\", \"doesn\", \"doesn\", \"doesn\", \"doesn\", \"dolittle\", \"dolittle\", \"donna\", \"donna\", \"donnie\", \"donor\", \"dredd\", \"drifting\", \"dublin\", \"dumbledore\", \"dutchman\", \"earth\", \"earth\", \"earth\", \"earth\", \"earth\", \"earth\", \"earth\", \"earth\", \"earth\", \"earth\", \"echo\", \"edmund\", \"edward\", \"edward\", \"edward\", \"edward\", \"edward\", \"edward\", \"edward\", \"edward\", \"edward\", \"edward\", \"eeyore\", \"elle\", \"elle\", \"ellie\", \"ellie\", \"ellie\", \"elvis\", \"elvis\", \"em\", \"employees\", \"employees\", \"employees\", \"empress\", \"encountering\", \"encouraged\", \"entangled\", \"equality\", \"equipped\", \"era\", \"era\", \"era\", \"erik\", \"ethan\", \"ethan\", \"ethan\", \"ethan\", \"eve\", \"eve\", \"eve\", \"eve\", \"eve\", \"eve\", \"eve\", \"eve\", \"eve\", \"eve\", \"evil\", \"evil\", \"evil\", \"evil\", \"evil\", \"evil\", \"evil\", \"evil\", \"evil\", \"evil\", \"exhausted\", \"extraterrestrial\", \"fair\", \"fair\", \"falls\", \"falls\", \"falls\", \"falls\", \"falls\", \"falls\", \"falls\", \"falls\", \"falls\", \"falls\", \"family\", \"family\", \"family\", \"family\", \"family\", \"family\", \"family\", \"family\", \"family\", \"family\", \"fascination\", \"father\", \"father\", \"father\", \"father\", \"father\", \"father\", \"father\", \"father\", \"father\", \"father\", \"fathers\", \"fbi\", \"fbi\", \"fbi\", \"fbi\", \"fbi\", \"fbi\", \"fbi\", \"fbi\", \"fbi\", \"fbi\", \"feign\", \"fern\", \"ferrari\", \"film\", \"film\", \"film\", \"film\", \"film\", \"film\", \"film\", \"film\", \"film\", \"film\", \"finds\", \"finds\", \"finds\", \"finds\", \"finds\", \"finds\", \"finds\", \"finds\", \"finds\", \"finds\", \"fiona\", \"fiona\", \"flint\", \"flint\", \"flower\", \"flower\", \"forks\", \"frank\", \"frank\", \"frank\", \"frank\", \"frank\", \"frank\", \"frank\", \"frank\", \"frank\", \"frank\", \"friend\", \"friend\", \"friend\", \"friend\", \"friend\", \"friend\", \"friend\", \"friend\", \"friend\", \"friend\", \"friends\", \"friends\", \"friends\", \"friends\", \"friends\", \"friends\", \"friends\", \"friends\", \"friends\", \"friends\", \"frog\", \"full\", \"furniture\", \"future\", \"future\", \"future\", \"future\", \"future\", \"future\", \"future\", \"future\", \"future\", \"future\", \"gadgetry\", \"gallery\", \"gallery\", \"gap\", \"gas\", \"genesis\", \"genetic\", \"genetic\", \"genetic\", \"gentle\", \"gets\", \"gets\", \"gets\", \"gets\", \"gets\", \"gets\", \"gets\", \"gets\", \"gets\", \"gets\", \"ghostbusters\", \"giants\", \"girl\", \"girl\", \"girl\", \"girl\", \"girl\", \"girl\", \"girl\", \"girl\", \"girl\", \"girl\", \"goblin\", \"gods\", \"gods\", \"gods\", \"gods\", \"goes\", \"goes\", \"goes\", \"goes\", \"goes\", \"goes\", \"goes\", \"goes\", \"goes\", \"goes\", \"golf\", \"goofy\", \"gotham\", \"gotham\", \"greeting\", \"grimm\", \"gromit\", \"gromit\", \"group\", \"group\", \"group\", \"group\", \"group\", \"group\", \"group\", \"group\", \"group\", \"group\", \"hades\", \"hades\", \"hardships\", \"harry\", \"harry\", \"harry\", \"harry\", \"harry\", \"harry\", \"harry\", \"harry\", \"harry\", \"harry\", \"harvey\", \"harvey\", \"harvey\", \"hawkins\", \"hawkins\", \"hawkins\", \"he\", \"he\", \"he\", \"he\", \"he\", \"he\", \"he\", \"he\", \"he\", \"he\", \"heated\", \"heavyweight\", \"hee\", \"help\", \"help\", \"help\", \"help\", \"help\", \"help\", \"help\", \"help\", \"help\", \"help\", \"henry\", \"henry\", \"henry\", \"henry\", \"henry\", \"henry\", \"henry\", \"henry\", \"henry\", \"henry\", \"her\", \"her\", \"her\", \"her\", \"her\", \"her\", \"her\", \"her\", \"her\", \"her\", \"hiccup\", \"hiccup\", \"high\", \"high\", \"high\", \"high\", \"high\", \"high\", \"high\", \"high\", \"high\", \"high\", \"hills\", \"hills\", \"him\", \"him\", \"him\", \"him\", \"him\", \"him\", \"him\", \"him\", \"him\", \"him\", \"hoggett\", \"home\", \"home\", \"home\", \"home\", \"home\", \"home\", \"home\", \"home\", \"home\", \"home\", \"homer\", \"honey\", \"house\", \"house\", \"house\", \"house\", \"house\", \"house\", \"house\", \"house\", \"house\", \"house\", \"however\", \"however\", \"however\", \"however\", \"however\", \"however\", \"however\", \"however\", \"however\", \"however\", \"human\", \"human\", \"human\", \"human\", \"human\", \"human\", \"human\", \"human\", \"human\", \"human\", \"humanoid\", \"hutt\", \"implanted\", \"improvise\", \"industrial\", \"ingenuity\", \"instructs\", \"invaded\", \"investigator\", \"investor\", \"ip\", \"isaac\", \"isaac\", \"it\", \"it\", \"it\", \"it\", \"it\", \"it\", \"it\", \"it\", \"it\", \"it\", \"jabba\", \"jack\", \"jack\", \"jack\", \"jack\", \"jack\", \"jack\", \"jack\", \"jack\", \"jack\", \"jack\", \"jamaican\", \"jamie\", \"jamie\", \"jamie\", \"jan\", \"jan\", \"jane\", \"jane\", \"jane\", \"jane\", \"jane\", \"jane\", \"jane\", \"jane\", \"jane\", \"jane\", \"jen\", \"jen\", \"jenna\", \"jenny\", \"jenny\", \"jerry\", \"jerusalem\", \"jessica\", \"jessica\", \"job\", \"job\", \"job\", \"job\", \"job\", \"job\", \"job\", \"job\", \"job\", \"job\", \"john\", \"john\", \"john\", \"john\", \"john\", \"john\", \"john\", \"john\", \"john\", \"john\", \"johnny\", \"johnny\", \"jones\", \"jones\", \"jones\", \"jones\", \"jones\", \"jones\", \"jones\", \"jones\", \"jones\", \"jones\", \"julio\", \"julio\", \"jump\", \"karate\", \"karate\", \"karate\", \"killer\", \"killer\", \"killer\", \"killer\", \"killer\", \"killer\", \"killer\", \"killer\", \"killer\", \"killer\", \"kimble\", \"kimble\", \"king\", \"king\", \"king\", \"king\", \"king\", \"king\", \"king\", \"king\", \"king\", \"king\", \"kirk\", \"kirk\", \"kirk\", \"kirk\", \"kirk\", \"kirk\", \"kirk\", \"kirk\", \"kirk\", \"know\", \"know\", \"know\", \"know\", \"know\", \"know\", \"know\", \"know\", \"know\", \"know\", \"kowalski\", \"kowalski\", \"kraken\", \"larry\", \"larry\", \"larry\", \"larry\", \"larry\", \"larry\", \"larry\", \"larry\", \"larry\", \"las\", \"le\", \"leavitt\", \"legacy\", \"leopold\", \"leopold\", \"letters\", \"life\", \"life\", \"life\", \"life\", \"life\", \"life\", \"life\", \"life\", \"life\", \"life\", \"lives\", \"lives\", \"lives\", \"lives\", \"lives\", \"lives\", \"lives\", \"lives\", \"lives\", \"lives\", \"lockwood\", \"logan\", \"logan\", \"logan\", \"louis\", \"louis\", \"louis\", \"louis\", \"louis\", \"love\", \"love\", \"love\", \"love\", \"love\", \"love\", \"love\", \"love\", \"love\", \"love\", \"loveless\", \"lowry\", \"madman\", \"magneto\", \"magneto\", \"malibu\", \"malkovich\", \"malkovich\", \"man\", \"man\", \"man\", \"man\", \"man\", \"man\", \"man\", \"man\", \"man\", \"man\", \"marcos\", \"marcos\", \"margaret\", \"margaret\", \"margaret\", \"marion\", \"married\", \"married\", \"married\", \"married\", \"married\", \"married\", \"married\", \"married\", \"married\", \"married\", \"martial\", \"martial\", \"martial\", \"martial\", \"max\", \"max\", \"max\", \"max\", \"max\", \"max\", \"max\", \"max\", \"max\", \"max\", \"mayan\", \"mayor\", \"mayor\", \"mayor\", \"mcclane\", \"mcclane\", \"mcclane\", \"meets\", \"meets\", \"meets\", \"meets\", \"meets\", \"meets\", \"meets\", \"meets\", \"meets\", \"meets\", \"melanie\", \"melanie\", \"melanie\", \"melted\", \"mia\", \"mia\", \"mia\", \"ming\", \"ming\", \"ministry\", \"miranda\", \"miranda\", \"misogynistic\", \"mission\", \"mission\", \"mission\", \"mission\", \"mission\", \"mission\", \"mission\", \"mission\", \"mission\", \"mission\", \"missions\", \"mister\", \"miyagi\", \"miyagi\", \"monkey\", \"mother\", \"mother\", \"mother\", \"mother\", \"mother\", \"mother\", \"mother\", \"mother\", \"mother\", \"mother\", \"museum\", \"museum\", \"museum\", \"mutants\", \"mutants\", \"mutants\", \"nails\", \"named\", \"named\", \"named\", \"named\", \"named\", \"named\", \"named\", \"named\", \"named\", \"named\", \"nathan\", \"nathan\", \"neighbour\", \"nelson\", \"nelson\", \"nelson\", \"new\", \"new\", \"new\", \"new\", \"new\", \"new\", \"new\", \"new\", \"new\", \"new\", \"night\", \"night\", \"night\", \"night\", \"night\", \"night\", \"night\", \"night\", \"night\", \"night\", \"nora\", \"nora\", \"norman\", \"norman\", \"norman\", \"norman\", \"notices\", \"nypd\", \"occupied\", \"occupied\", \"offices\", \"old\", \"old\", \"old\", \"old\", \"old\", \"old\", \"old\", \"old\", \"old\", \"old\", \"oncoming\", \"ongoing\", \"outlaw\", \"outpost\", \"overlord\", \"owen\", \"owen\", \"owl\", \"paint\", \"panem\", \"panem\", \"panther\", \"parents\", \"parents\", \"parents\", \"parents\", \"parents\", \"parents\", \"parents\", \"parents\", \"parents\", \"parents\", \"pat\", \"patrick\", \"patrick\", \"peeta\", \"people\", \"people\", \"people\", \"people\", \"people\", \"people\", \"people\", \"people\", \"people\", \"people\", \"percy\", \"percy\", \"perseus\", \"pete\", \"phil\", \"phil\", \"phillips\", \"pierre\", \"pig\", \"pig\", \"pig\", \"piglet\", \"pleasant\", \"police\", \"police\", \"police\", \"police\", \"police\", \"police\", \"police\", \"police\", \"police\", \"police\", \"pooh\", \"portal\", \"possessions\", \"powell\", \"pows\", \"pows\", \"predict\", \"preferences\", \"premiere\", \"pretending\", \"pretentious\", \"princess\", \"princess\", \"princess\", \"princess\", \"princess\", \"princess\", \"princess\", \"princess\", \"princess\", \"princess\", \"prof\", \"professed\", \"properties\", \"pub\", \"purple\", \"puss\", \"queen\", \"queen\", \"queen\", \"queen\", \"queen\", \"queen\", \"queen\", \"queen\", \"queen\", \"queen\", \"quest\", \"quest\", \"quest\", \"quest\", \"quest\", \"quest\", \"quest\", \"quest\", \"quest\", \"quest\", \"quinn\", \"race\", \"race\", \"race\", \"race\", \"race\", \"race\", \"race\", \"race\", \"race\", \"race\", \"ralph\", \"rapunzel\", \"rapunzel\", \"rats\", \"rats\", \"ray\", \"ray\", \"reacts\", \"real\", \"real\", \"real\", \"real\", \"real\", \"real\", \"real\", \"real\", \"real\", \"real\", \"recluse\", \"recurring\", \"refreshing\", \"reggie\", \"reggie\", \"reggie\", \"regina\", \"regina\", \"reid\", \"reign\", \"religion\", \"renegade\", \"replaced\", \"replacement\", \"retain\", \"reversed\", \"revisit\", \"reward\", \"richie\", \"richie\", \"ridiculed\", \"rio\", \"rio\", \"rio\", \"rita\", \"robbie\", \"robbie\", \"rod\", \"rod\", \"rogers\", \"rogers\", \"ron\", \"ron\", \"ron\", \"ron\", \"rooney\", \"rosewood\", \"ruby\", \"ruby\", \"ruins\", \"salt\", \"salt\", \"salvation\", \"sam\", \"sam\", \"sam\", \"sam\", \"sam\", \"sam\", \"sam\", \"sam\", \"sam\", \"sam\", \"sands\", \"save\", \"save\", \"save\", \"save\", \"save\", \"save\", \"save\", \"save\", \"save\", \"save\", \"savvy\", \"scarlett\", \"scarlett\", \"school\", \"school\", \"school\", \"school\", \"school\", \"school\", \"school\", \"school\", \"school\", \"school\", \"scott\", \"scott\", \"scott\", \"scott\", \"scuttle\", \"secret\", \"secret\", \"secret\", \"secret\", \"secret\", \"secret\", \"secret\", \"secret\", \"secret\", \"secret\", \"sent\", \"sent\", \"sent\", \"sent\", \"sent\", \"sent\", \"sent\", \"sent\", \"sent\", \"sent\", \"sentinels\", \"sentinels\", \"series\", \"series\", \"series\", \"series\", \"series\", \"series\", \"series\", \"series\", \"series\", \"series\", \"set\", \"set\", \"set\", \"set\", \"set\", \"set\", \"set\", \"set\", \"set\", \"set\", \"shakespeare\", \"shall\", \"shall\", \"sharon\", \"sharon\", \"shaw\", \"shaw\", \"shaw\", \"shogun\", \"should\", \"shrek\", \"shrek\", \"shrewd\", \"sick\", \"sinbad\", \"skeptical\", \"skeptical\", \"slater\", \"snow\", \"soap\", \"soap\", \"sobol\", \"socialite\", \"software\", \"son\", \"son\", \"son\", \"son\", \"son\", \"son\", \"son\", \"son\", \"son\", \"son\", \"sophie\", \"sophie\", \"sophie\", \"sophie\", \"sophie\", \"soprano\", \"sorority\", \"specialists\", \"speedy\", \"speedy\", \"spencer\", \"spencer\", \"spencer\", \"sperm\", \"spiders\", \"spock\", \"spock\", \"spock\", \"stanley\", \"stanley\", \"stanley\", \"stanley\", \"stanley\", \"stanley\", \"stanley\", \"stanley\", \"stanley\", \"stanley\", \"station\", \"station\", \"station\", \"station\", \"station\", \"station\", \"station\", \"station\", \"station\", \"station\", \"stop\", \"stop\", \"stop\", \"stop\", \"stop\", \"stop\", \"stop\", \"stop\", \"stop\", \"stop\", \"storage\", \"story\", \"story\", \"story\", \"story\", \"story\", \"story\", \"story\", \"story\", \"story\", \"story\", \"stuart\", \"stuart\", \"stuart\", \"sulley\", \"surgery\", \"surgery\", \"survivors\", \"survivors\", \"survivors\", \"survivors\", \"survivors\", \"survivors\", \"survivors\", \"survivors\", \"survivors\", \"survivors\", \"susan\", \"susan\", \"susan\", \"susan\", \"susan\", \"swat\", \"switched\", \"sylvia\", \"sylvia\", \"symbols\", \"t\", \"t\", \"t\", \"t\", \"t\", \"t\", \"t\", \"t\", \"t\", \"t\", \"taggart\", \"takes\", \"takes\", \"takes\", \"takes\", \"takes\", \"takes\", \"takes\", \"takes\", \"takes\", \"takes\", \"tape\", \"tape\", \"taylor\", \"taylor\", \"taylor\", \"ted\", \"ted\", \"ted\", \"ted\", \"teddy\", \"teleportation\", \"terminal\", \"terminator\", \"terminator\", \"terrorists\", \"terrorists\", \"terrorists\", \"terrorists\", \"terrorists\", \"terrorists\", \"terrorists\", \"terrorists\", \"terrorists\", \"terrorists\", \"terry\", \"terry\", \"thaddeus\", \"their\", \"them\", \"them\", \"them\", \"them\", \"them\", \"them\", \"them\", \"them\", \"them\", \"them\", \"thor\", \"thor\", \"thugs\", \"thugs\", \"thugs\", \"thugs\", \"thugs\", \"tigger\", \"tim\", \"tim\", \"time\", \"time\", \"time\", \"time\", \"time\", \"time\", \"time\", \"time\", \"time\", \"time\", \"timer\", \"tom\", \"tom\", \"tom\", \"tom\", \"tom\", \"tom\", \"tom\", \"tom\", \"tom\", \"tom\", \"town\", \"town\", \"town\", \"town\", \"town\", \"town\", \"town\", \"town\", \"town\", \"town\", \"toy\", \"toy\", \"transmission\", \"transporter\", \"trapped\", \"trapped\", \"trapped\", \"trapped\", \"trapped\", \"trapped\", \"trapped\", \"trapped\", \"trapped\", \"trapped\", \"trevor\", \"troy\", \"troy\", \"true\", \"true\", \"true\", \"true\", \"true\", \"true\", \"true\", \"true\", \"true\", \"true\", \"turtles\", \"unborn\", \"understandably\", \"unearth\", \"unseen\", \"unwillingly\", \"valerie\", \"valerie\", \"valerie\", \"vegas\", \"virgil\", \"vitti\", \"voldemort\", \"voldemort\", \"wallace\", \"wallace\", \"wallace\", \"walter\", \"walter\", \"walter\", \"walter\", \"walter\", \"walter\", \"walter\", \"walter\", \"walter\", \"walter\", \"wants\", \"wants\", \"wants\", \"wants\", \"wants\", \"wants\", \"wants\", \"wants\", \"wants\", \"wants\", \"war\", \"war\", \"war\", \"war\", \"war\", \"war\", \"war\", \"war\", \"war\", \"war\", \"waves\", \"way\", \"way\", \"way\", \"way\", \"way\", \"way\", \"way\", \"way\", \"way\", \"way\", \"wayne\", \"wayne\", \"wayne\", \"wayne\", \"wheeler\", \"wheeler\", \"wife\", \"wife\", \"wife\", \"wife\", \"wife\", \"wife\", \"wife\", \"wife\", \"wife\", \"wife\", \"woman\", \"woman\", \"woman\", \"woman\", \"woman\", \"woman\", \"woman\", \"woman\", \"woman\", \"woman\", \"woody\", \"work\", \"work\", \"work\", \"work\", \"work\", \"work\", \"work\", \"work\", \"work\", \"work\", \"world\", \"world\", \"world\", \"world\", \"world\", \"world\", \"world\", \"world\", \"world\", \"world\", \"x\", \"x\", \"x\", \"xerxes\", \"year\", \"year\", \"year\", \"year\", \"year\", \"year\", \"year\", \"year\", \"year\", \"year\", \"years\", \"years\", \"years\", \"years\", \"years\", \"years\", \"years\", \"years\", \"years\", \"years\", \"york\", \"york\", \"york\", \"york\", \"york\", \"york\", \"york\", \"york\", \"york\", \"york\", \"young\", \"young\", \"young\", \"young\", \"young\", \"young\", \"young\", \"young\", \"young\", \"young\", \"zack\", \"zeus\", \"zeus\", \"zoo\", \"zoo\"], \"Topic\": [4, 3, 1, 2, 3, 4, 5, 6, 7, 8, 9, 10, 1, 3, 7, 6, 10, 1, 2, 3, 4, 5, 6, 7, 8, 9, 10, 2, 3, 3, 9, 1, 6, 8, 9, 3, 1, 2, 3, 4, 5, 6, 7, 8, 9, 10, 2, 5, 3, 8, 1, 9, 1, 2, 3, 4, 5, 6, 7, 8, 9, 10, 4, 1, 2, 3, 4, 5, 6, 7, 8, 10, 1, 3, 5, 2, 4, 5, 4, 5, 8, 2, 8, 10, 4, 1, 2, 3, 4, 6, 8, 1, 9, 8, 3, 6, 3, 6, 5, 8, 5, 2, 4, 7, 9, 1, 2, 3, 4, 5, 6, 7, 8, 9, 10, 3, 4, 7, 1, 2, 3, 5, 7, 10, 5, 4, 1, 10, 1, 6, 9, 4, 5, 2, 3, 8, 10, 2, 6, 8, 1, 2, 3, 4, 5, 6, 7, 8, 9, 10, 2, 6, 9, 6, 1, 1, 4, 5, 6, 1, 2, 3, 4, 5, 6, 7, 8, 9, 10, 6, 10, 6, 1, 4, 5, 9, 1, 9, 10, 1, 2, 3, 4, 5, 6, 7, 8, 9, 10, 2, 5, 8, 7, 7, 7, 8, 10, 4, 7, 1, 2, 3, 4, 5, 6, 7, 8, 9, 10, 1, 2, 3, 4, 5, 6, 7, 8, 9, 10, 5, 2, 9, 2, 2, 3, 9, 1, 3, 1, 2, 3, 4, 5, 6, 7, 8, 9, 10, 8, 9, 3, 10, 3, 7, 4, 1, 4, 1, 2, 3, 4, 5, 6, 7, 8, 9, 10, 1, 2, 3, 4, 5, 6, 7, 8, 9, 10, 7, 2, 6, 7, 9, 10, 9, 1, 2, 3, 4, 5, 6, 7, 8, 9, 10, 4, 9, 1, 6, 7, 8, 1, 2, 3, 4, 5, 6, 7, 8, 9, 10, 7, 9, 4, 4, 10, 2, 1, 1, 2, 3, 4, 5, 6, 7, 8, 9, 10, 4, 6, 7, 2, 8, 4, 1, 2, 3, 4, 5, 6, 7, 8, 9, 10, 1, 2, 3, 4, 5, 6, 7, 8, 9, 10, 5, 9, 3, 5, 7, 5, 1, 2, 3, 4, 5, 6, 7, 8, 9, 10, 10, 1, 2, 3, 4, 5, 6, 7, 8, 9, 10, 2, 4, 1, 2, 6, 6, 1, 2, 3, 4, 5, 6, 7, 8, 9, 10, 6, 1, 5, 8, 4, 8, 4, 10, 1, 2, 3, 4, 5, 6, 7, 8, 9, 10, 5, 10, 7, 8, 8, 1, 1, 8, 3, 8, 5, 1, 2, 3, 4, 5, 6, 7, 8, 9, 10, 10, 1, 1, 2, 3, 4, 5, 6, 7, 8, 9, 10, 3, 4, 5, 3, 4, 10, 2, 3, 2, 2, 6, 10, 6, 1, 3, 8, 3, 3, 6, 7, 8, 7, 3, 5, 8, 9, 1, 2, 3, 4, 5, 6, 7, 8, 9, 10, 1, 2, 3, 4, 5, 6, 7, 8, 9, 10, 7, 3, 3, 9, 1, 2, 3, 4, 5, 6, 7, 8, 9, 10, 1, 2, 3, 4, 5, 6, 7, 8, 9, 10, 4, 1, 2, 3, 4, 5, 6, 7, 8, 9, 10, 2, 1, 2, 3, 4, 5, 6, 7, 8, 9, 10, 1, 1, 2, 1, 2, 3, 4, 5, 6, 7, 8, 9, 10, 1, 2, 3, 4, 5, 6, 7, 8, 9, 10, 8, 9, 1, 10, 5, 9, 10, 1, 2, 3, 4, 5, 6, 7, 8, 9, 10, 1, 2, 3, 4, 5, 6, 7, 8, 9, 10, 1, 2, 3, 4, 5, 6, 7, 8, 9, 10, 2, 7, 7, 1, 2, 3, 4, 5, 6, 7, 8, 9, 10, 9, 2, 8, 7, 7, 5, 1, 7, 10, 1, 1, 2, 3, 4, 5, 6, 7, 8, 9, 10, 5, 10, 1, 2, 3, 4, 5, 6, 7, 8, 9, 10, 8, 2, 4, 6, 8, 1, 2, 3, 4, 5, 6, 7, 8, 9, 10, 6, 6, 1, 10, 7, 4, 2, 5, 1, 2, 3, 4, 5, 6, 7, 8, 9, 10, 2, 4, 1, 1, 2, 3, 4, 5, 6, 7, 8, 9, 10, 1, 7, 8, 5, 9, 10, 1, 2, 3, 4, 5, 6, 7, 8, 9, 10, 7, 7, 6, 1, 2, 3, 4, 5, 6, 7, 8, 9, 10, 1, 2, 3, 4, 5, 6, 7, 8, 9, 10, 1, 2, 3, 4, 5, 6, 7, 8, 9, 10, 2, 10, 1, 2, 3, 4, 5, 6, 7, 8, 9, 10, 2, 6, 1, 2, 3, 4, 5, 6, 7, 8, 9, 10, 4, 1, 2, 3, 4, 5, 6, 7, 8, 9, 10, 8, 3, 1, 2, 3, 4, 5, 6, 7, 8, 9, 10, 1, 2, 3, 4, 5, 6, 7, 8, 9, 10, 1, 2, 3, 4, 5, 6, 7, 8, 9, 10, 9, 10, 5, 10, 7, 6, 3, 7, 2, 9, 8, 7, 9, 1, 2, 3, 4, 5, 6, 7, 8, 9, 10, 10, 1, 2, 3, 4, 5, 6, 7, 8, 9, 10, 7, 1, 8, 9, 5, 10, 1, 2, 3, 4, 5, 6, 7, 8, 9, 10, 7, 8, 2, 2, 4, 7, 10, 3, 7, 1, 2, 3, 4, 5, 6, 7, 8, 9, 10, 1, 2, 3, 4, 5, 6, 7, 8, 9, 10, 1, 8, 1, 2, 3, 4, 5, 6, 7, 8, 9, 10, 1, 6, 6, 5, 8, 10, 1, 2, 3, 4, 5, 6, 7, 8, 9, 10, 4, 6, 1, 2, 3, 4, 5, 6, 7, 8, 9, 10, 1, 2, 3, 4, 5, 6, 7, 8, 9, 1, 2, 3, 4, 5, 6, 7, 8, 9, 10, 3, 6, 4, 1, 2, 3, 4, 5, 6, 7, 8, 9, 4, 10, 3, 10, 6, 7, 5, 1, 2, 3, 4, 5, 6, 7, 8, 9, 10, 1, 2, 3, 4, 5, 6, 7, 8, 9, 10, 10, 5, 7, 8, 1, 2, 3, 4, 5, 1, 2, 3, 4, 5, 6, 7, 8, 9, 10, 2, 1, 5, 7, 8, 6, 3, 6, 1, 2, 3, 4, 5, 6, 7, 8, 9, 10, 3, 7, 4, 7, 9, 1, 1, 2, 3, 4, 5, 6, 7, 8, 9, 10, 1, 3, 4, 8, 1, 2, 3, 4, 5, 6, 7, 8, 9, 10, 6, 5, 6, 10, 3, 6, 7, 1, 2, 3, 4, 5, 6, 7, 8, 9, 10, 1, 5, 8, 7, 4, 5, 9, 9, 10, 8, 5, 7, 9, 1, 2, 3, 4, 5, 6, 7, 8, 9, 10, 4, 6, 5, 10, 8, 1, 2, 3, 4, 5, 6, 7, 8, 9, 10, 1, 2, 5, 2, 7, 8, 6, 1, 2, 3, 4, 5, 6, 7, 8, 9, 10, 3, 7, 2, 4, 5, 9, 1, 2, 3, 4, 5, 6, 7, 8, 9, 10, 1, 2, 3, 4, 5, 6, 7, 8, 9, 10, 1, 4, 1, 6, 8, 9, 5, 7, 8, 9, 10, 1, 2, 3, 4, 5, 6, 7, 8, 9, 10, 5, 8, 7, 1, 8, 5, 9, 3, 10, 3, 7, 7, 1, 2, 3, 4, 5, 6, 7, 8, 9, 10, 6, 2, 7, 3, 1, 2, 3, 4, 5, 6, 7, 8, 9, 10, 1, 2, 4, 1, 3, 4, 2, 1, 1, 4, 8, 3, 2, 1, 2, 3, 4, 5, 6, 7, 8, 9, 10, 3, 6, 6, 10, 3, 6, 3, 7, 9, 3, 7, 1, 2, 3, 4, 5, 6, 7, 8, 9, 10, 2, 9, 3, 8, 9, 8, 1, 2, 3, 4, 5, 6, 7, 8, 9, 10, 1, 2, 3, 4, 5, 6, 7, 8, 9, 10, 6, 1, 2, 3, 4, 5, 6, 7, 8, 9, 10, 6, 4, 9, 3, 10, 1, 2, 9, 1, 2, 3, 4, 5, 6, 7, 8, 9, 10, 8, 5, 9, 1, 3, 8, 4, 6, 3, 1, 5, 5, 4, 3, 7, 9, 4, 9, 5, 9, 4, 1, 4, 8, 10, 2, 7, 4, 6, 3, 4, 2, 4, 7, 8, 2, 2, 2, 9, 1, 2, 10, 8, 1, 2, 3, 4, 5, 6, 7, 8, 9, 10, 8, 1, 2, 3, 4, 5, 6, 7, 8, 9, 10, 5, 7, 8, 1, 2, 3, 4, 5, 6, 7, 8, 9, 10, 2, 3, 5, 9, 8, 1, 2, 3, 4, 5, 6, 7, 8, 9, 10, 1, 2, 3, 4, 5, 6, 7, 8, 9, 10, 1, 8, 1, 2, 3, 4, 5, 6, 7, 8, 9, 10, 1, 2, 3, 4, 5, 6, 7, 8, 9, 10, 3, 4, 7, 1, 4, 4, 5, 10, 5, 2, 8, 9, 6, 4, 4, 4, 6, 5, 4, 4, 9, 2, 6, 8, 1, 2, 3, 4, 5, 6, 7, 8, 9, 10, 1, 5, 6, 7, 9, 8, 5, 3, 1, 4, 3, 4, 7, 1, 9, 2, 3, 5, 1, 2, 3, 4, 5, 6, 7, 8, 9, 10, 1, 2, 3, 4, 5, 6, 7, 8, 9, 10, 1, 2, 3, 4, 5, 6, 7, 8, 9, 10, 7, 1, 2, 3, 4, 5, 6, 7, 8, 9, 10, 2, 4, 7, 6, 6, 10, 1, 2, 3, 4, 5, 6, 7, 8, 9, 10, 1, 3, 5, 7, 10, 1, 3, 4, 5, 8, 1, 2, 3, 4, 5, 6, 7, 8, 9, 10, 2, 1, 2, 3, 4, 5, 6, 7, 8, 9, 10, 3, 4, 2, 5, 10, 2, 3, 7, 10, 8, 5, 6, 7, 10, 1, 2, 3, 4, 5, 6, 7, 8, 9, 10, 1, 4, 5, 5, 1, 2, 3, 4, 5, 6, 7, 8, 9, 10, 1, 9, 2, 5, 7, 8, 10, 3, 2, 9, 1, 2, 3, 4, 5, 6, 7, 8, 9, 10, 1, 1, 2, 3, 4, 5, 6, 7, 8, 9, 10, 1, 2, 3, 4, 5, 6, 7, 8, 9, 10, 5, 10, 3, 5, 1, 2, 3, 4, 5, 6, 7, 8, 9, 10, 1, 7, 8, 1, 2, 3, 4, 5, 6, 7, 8, 9, 10, 5, 10, 2, 2, 7, 4, 2, 3, 10, 4, 6, 2, 2, 8, 2, 5, 8, 1, 2, 3, 4, 5, 6, 7, 8, 9, 10, 1, 2, 3, 4, 5, 6, 7, 8, 9, 10, 1, 2, 3, 4, 5, 6, 7, 8, 9, 10, 4, 1, 2, 3, 4, 5, 6, 7, 8, 9, 10, 1, 2, 3, 4, 6, 7, 1, 2, 3, 4, 5, 6, 7, 8, 9, 10, 1, 2, 3, 4, 5, 6, 7, 8, 9, 10, 10, 1, 2, 3, 4, 5, 6, 7, 8, 9, 10, 1, 2, 3, 4, 5, 6, 7, 8, 9, 10, 4, 7, 8, 9, 1, 2, 3, 4, 5, 6, 7, 8, 9, 10, 1, 2, 3, 4, 5, 6, 7, 8, 9, 10, 1, 2, 3, 4, 5, 6, 7, 8, 9, 10, 1, 2, 3, 4, 5, 6, 7, 8, 9, 10, 2, 2, 4, 4, 6], \"Freq\": [0.6123499096171466, 0.6265762597948401, 0.13160632546106515, 0.08773755030737677, 0.13160632546106515, 0.19740948819159773, 0.06580316273053258, 0.06580316273053258, 0.10967193788422097, 0.06580316273053258, 0.10967193788422097, 0.04386877515368839, 0.8384995887447684, 0.58957172653216, 0.6121816375286974, 0.9247031906392142, 0.7225584240582344, 0.1447675179692243, 0.12249559212780518, 0.1447675179692243, 0.12249559212780518, 0.15590348088993386, 0.05567981460354781, 0.06681577752425737, 0.06681577752425737, 0.04454385168283825, 0.06681577752425737, 0.2582543602248497, 0.5165087204496994, 0.2892568143544963, 0.5785136287089926, 0.1469925647857402, 0.1469925647857402, 0.1469925647857402, 0.2939851295714804, 0.8957415150064032, 0.19162663943057534, 0.07665065577223014, 0.03832532788611507, 0.26827729520280547, 0.03832532788611507, 0.03832532788611507, 0.26827729520280547, 0.03832532788611507, 0.03832532788611507, 0.03832532788611507, 0.5131470345037795, 0.25657351725188976, 0.7476407871507046, 0.6387692032752191, 0.23750250245098323, 0.47500500490196645, 0.1415042944320566, 0.1945684048440778, 0.0707521472160283, 0.0707521472160283, 0.0707521472160283, 0.12381625762804951, 0.12381625762804951, 0.05306411041202122, 0.08844018402003537, 0.0707521472160283, 0.9232753756094795, 0.08730182385004688, 0.17460364770009376, 0.08730182385004688, 0.08730182385004688, 0.08730182385004688, 0.08730182385004688, 0.08730182385004688, 0.08730182385004688, 0.26190547155014066, 0.6256105171311438, 0.2085368390437146, 0.9033724082784288, 0.8930342404822401, 0.6845461577010319, 0.22818205256701063, 0.6113087652013866, 0.8702404963997201, 0.6387669229191946, 0.10750048078870947, 0.5375024039435473, 0.10750048078870947, 0.6136646388036007, 0.151853837306451, 0.0759269186532255, 0.0759269186532255, 0.151853837306451, 0.0759269186532255, 0.45556151191935296, 0.6396602322596716, 0.21322007741989052, 0.638768608410237, 0.12419237980235487, 0.6209618990117743, 0.6001350797056477, 0.9417387077478601, 0.7913082041810436, 0.6387688561974646, 0.9130906188317244, 0.9306238522189103, 0.38016893386715733, 0.12672297795571913, 0.12672297795571913, 0.24117201609367173, 0.05359378135414927, 0.08039067203122391, 0.05359378135414927, 0.08039067203122391, 0.2143751254165971, 0.08039067203122391, 0.08039067203122391, 0.05359378135414927, 0.05359378135414927, 0.5690085014879659, 0.6154080739687398, 0.9537586617100914, 0.08474777703192138, 0.08474777703192138, 0.4237388851596069, 0.08474777703192138, 0.08474777703192138, 0.08474777703192138, 0.7154907847133111, 0.6273371825941358, 0.7048295560017129, 0.15662879022260287, 0.8080523402875156, 0.7319174982968806, 0.12198624971614677, 0.6273346961470426, 0.7484209886404302, 0.25628348080705204, 0.5125669616141041, 0.6387689074765991, 0.6436174748405773, 0.7023760586030784, 0.14047521172061567, 0.638766097265923, 0.18969140371501744, 0.1369993471275126, 0.08430729054000775, 0.07376887922250679, 0.08430729054000775, 0.08430729054000775, 0.12646093581001164, 0.09484570185750872, 0.07376887922250679, 0.052692056587504844, 0.3430695437491986, 0.11435651458306621, 0.3430695437491986, 0.9087830900429675, 0.9774726938202948, 0.25579561886927527, 0.5115912377385505, 0.6271231072936905, 0.6290788573227453, 0.12664155209697947, 0.09849898496431736, 0.19699796992863472, 0.09849898496431736, 0.11257026853064842, 0.0844277013979863, 0.11257026853064842, 0.07035641783165526, 0.04221385069899315, 0.05628513426532421, 0.6290821179466233, 0.7183293190388707, 0.6290763375127689, 0.6257371658115983, 0.20857905527053275, 0.687504315429862, 0.22916810514328734, 0.18896542829257063, 0.18896542829257063, 0.37793085658514125, 0.1574198723059979, 0.10119848933957008, 0.08995421274628451, 0.08995421274628451, 0.1574198723059979, 0.10119848933957008, 0.08995421274628451, 0.11244276593285564, 0.044977106373142256, 0.05622138296642782, 0.15967240506944474, 0.15967240506944474, 0.47901721520833423, 0.6212685472281632, 0.6376408364605132, 0.6977287319653875, 0.23257624398846252, 0.7498456881066549, 0.6179573738488456, 0.6224005249966291, 0.04892101919918985, 0.04892101919918985, 0.04892101919918985, 0.04892101919918985, 0.0978420383983797, 0.34244713439432894, 0.04892101919918985, 0.1956840767967594, 0.04892101919918985, 0.04892101919918985, 0.11657765641769073, 0.049961852750438886, 0.14988555825131666, 0.06661580366725185, 0.06661580366725185, 0.09992370550087777, 0.2664632146690074, 0.11657765641769073, 0.049961852750438886, 0.033307901833625926, 0.9100571885446325, 0.27852720893520333, 0.27852720893520333, 0.6245712492834771, 0.18224267569544905, 0.5467280270863472, 0.09112133784772453, 0.39239267246715476, 0.5231902299562063, 0.20259058816812361, 0.07958915963747713, 0.10853067223292336, 0.10129529408406181, 0.10129529408406181, 0.10853067223292336, 0.08682453778633868, 0.08682453778633868, 0.07235378148861557, 0.05788302519089246, 0.40517334615587797, 0.40517334615587797, 0.3024337316706823, 0.6048674633413647, 0.6803668731649775, 0.22678895772165916, 0.8435500923108123, 0.8246542166258066, 0.627337327910412, 0.172602544738385, 0.10787659046149062, 0.06472595427689437, 0.1941778628306831, 0.10787659046149062, 0.10787659046149062, 0.0863012723691925, 0.04315063618459625, 0.04315063618459625, 0.04315063618459625, 0.07895329454309967, 0.13816826545042443, 0.07895329454309967, 0.05921497090732475, 0.09869161817887459, 0.13816826545042443, 0.09869161817887459, 0.1184299418146495, 0.13816826545042443, 0.05921497090732475, 0.6376421358419254, 0.7295820647266026, 0.10818291957212711, 0.10818291957212711, 0.21636583914425422, 0.32454875871638134, 0.6894429772637904, 0.1226414446123172, 0.1226414446123172, 0.049056577844926876, 0.09811315568985375, 0.07358486676739032, 0.22075460030217095, 0.1226414446123172, 0.09811315568985375, 0.049056577844926876, 0.07358486676739032, 0.33886510459512037, 0.33886510459512037, 0.5680396074994339, 0.47587331360400553, 0.15862443786800184, 0.15862443786800184, 0.08588839368658226, 0.12024375116121515, 0.12024375116121515, 0.08588839368658226, 0.18895446611048095, 0.15459910863584805, 0.0687107149492658, 0.1030660724238987, 0.0343553574746329, 0.0343553574746329, 0.2811272494121692, 0.2811272494121692, 0.6273363884798638, 0.17925889865038186, 0.5377766959511456, 0.8300299639555654, 0.7991937011581622, 0.21153685695599048, 0.05288421423899762, 0.05288421423899762, 0.05288421423899762, 0.21153685695599048, 0.05288421423899762, 0.05288421423899762, 0.05288421423899762, 0.05288421423899762, 0.21153685695599048, 0.15738332619195172, 0.47214997857585517, 0.15738332619195172, 0.9318820322312944, 0.6387652417754265, 0.9365004146256798, 0.21138169502369877, 0.0960825886471358, 0.07686607091770864, 0.11529910637656296, 0.11529910637656296, 0.10569084751184939, 0.06725781205299507, 0.08647432978242223, 0.06725781205299507, 0.05764955318828148, 0.11261449435454994, 0.11261449435454994, 0.09009159548363996, 0.06756869661272996, 0.13513739322545992, 0.09009159548363996, 0.09009159548363996, 0.11261449435454994, 0.06756869661272996, 0.13513739322545992, 0.5048216758914891, 0.25241083794574454, 0.5171179167742009, 0.12927947919355023, 0.12927947919355023, 0.7484210500763568, 0.13400414827508922, 0.11390352603382584, 0.11390352603382584, 0.07370228155129907, 0.08040248896505353, 0.14070435568884368, 0.09380290379256245, 0.11390352603382584, 0.09380290379256245, 0.04690145189628123, 0.7183713003567007, 0.12246342953247533, 0.12246342953247533, 0.1036229019120945, 0.12246342953247533, 0.1036229019120945, 0.13188369334266573, 0.08478237429171369, 0.08478237429171369, 0.07536211048152328, 0.05652158286114246, 0.6245713711742703, 0.6273326792889873, 0.5680398105053455, 0.6245720467419067, 0.629078767585273, 0.6290797112335679, 0.12253157816682811, 0.10891695837051388, 0.09530233857419963, 0.09530233857419963, 0.09530233857419963, 0.1633754375557708, 0.10891695837051388, 0.0816877187778854, 0.06807309898157117, 0.0408438593889427, 0.6290819318620255, 0.1995251388814849, 0.09976256944074245, 0.3990502777629698, 0.7394694472607748, 0.8991058826194435, 0.6273348237382783, 0.5730785431508592, 0.1987628882185356, 0.061157811759549416, 0.13760507645898618, 0.061157811759549416, 0.09173671763932412, 0.04586835881966206, 0.10702617057921147, 0.10702617057921147, 0.07644726469943677, 0.10702617057921147, 0.347667986830289, 0.347667986830289, 0.23287578364366834, 0.698627350931005, 0.9528840050713618, 0.6529328383993191, 0.6491955150776975, 0.638637473130427, 0.6030314723691238, 0.6387687638167999, 0.6271232221951801, 0.1474147521570407, 0.06317775092444601, 0.1544345022597569, 0.10529625154074335, 0.049138250719013565, 0.1544345022597569, 0.08423700123259469, 0.10529625154074335, 0.07019750102716223, 0.05615800082172979, 0.7324874843052684, 0.8384984431642654, 0.40377250849022583, 0.05047156356127823, 0.05047156356127823, 0.05047156356127823, 0.05047156356127823, 0.05047156356127823, 0.05047156356127823, 0.05047156356127823, 0.05047156356127823, 0.20188625424511292, 0.8970415807294002, 0.26126717873200167, 0.5225343574640033, 0.6325716256573748, 0.12651432513147498, 0.12651432513147498, 0.2608375970199105, 0.521675194039821, 0.6245697065683199, 0.14813652207650155, 0.14813652207650155, 0.2962730441530031, 0.8137456030183011, 0.7994385089580748, 0.5830282502194515, 0.8689476959006568, 0.5962442010704013, 0.6265776125103955, 0.15557985144933228, 0.46673955434799685, 0.15557985144933228, 0.6376389838143125, 0.4725524046628338, 0.09451048093256675, 0.1890209618651335, 0.09451048093256675, 0.4554821929429656, 0.0569352741178707, 0.0569352741178707, 0.0569352741178707, 0.0569352741178707, 0.0569352741178707, 0.0569352741178707, 0.0569352741178707, 0.0569352741178707, 0.0569352741178707, 0.0854508680947821, 0.10443994989362257, 0.1139344907930428, 0.14241811349130348, 0.1139344907930428, 0.13292357259188325, 0.06646178629594163, 0.13292357259188325, 0.06646178629594163, 0.037978163597680935, 0.6376421210117186, 0.6265766771345983, 0.5106823706691297, 0.25534118533456485, 0.12753226788517133, 0.11477904109665421, 0.08927258751961994, 0.08927258751961994, 0.11477904109665421, 0.10202581430813708, 0.10202581430813708, 0.0765193607311028, 0.11477904109665421, 0.06376613394258566, 0.15709347160656423, 0.0932742487663975, 0.0932742487663975, 0.1227292746926283, 0.12763844568033345, 0.0932742487663975, 0.08836507777869237, 0.09818341975410265, 0.06381922284016672, 0.06381922284016672, 0.627337798863507, 0.26541553119699673, 0.09024128060697889, 0.10616621247879869, 0.10085790185485875, 0.09554959123091883, 0.08493296998303895, 0.07962465935909901, 0.053083106239399346, 0.06369972748727921, 0.06900803811121915, 0.913372343353338, 0.054769807668957754, 0.08215471150343663, 0.08215471150343663, 0.21907923067583102, 0.08215471150343663, 0.08215471150343663, 0.13692451917239437, 0.08215471150343663, 0.054769807668957754, 0.08215471150343663, 0.8384967934817674, 0.8473449839479582, 0.6245707463247969, 0.1266562527978013, 0.0886593769584609, 0.06332812639890065, 0.11399062751802116, 0.10132500223824104, 0.13932187807758142, 0.07599375167868078, 0.15198750335736155, 0.07599375167868078, 0.06332812639890065, 0.11456441103039158, 0.13018683071635406, 0.07811209842981244, 0.12497935748769991, 0.12497935748769991, 0.09894199134442909, 0.08331957165846661, 0.09894199134442909, 0.062489678743849954, 0.07811209842981244, 0.24736879895152922, 0.618421997378823, 0.252209211311162, 0.504418422622324, 0.331865003937282, 0.331865003937282, 0.6855935836384617, 0.11172003772610699, 0.0446880150904428, 0.20109606790699258, 0.0670320226356642, 0.2681280905426568, 0.0446880150904428, 0.0893760301808856, 0.0670320226356642, 0.0446880150904428, 0.0223440075452214, 0.10776259771564747, 0.12315725453216854, 0.12315725453216854, 0.10006526930738693, 0.115459926123908, 0.08467061249086587, 0.115459926123908, 0.10006526930738693, 0.0692759556743448, 0.06157862726608427, 0.173272984962827, 0.1266225659343736, 0.07330780133042682, 0.1132938747833869, 0.0999651836324002, 0.0866364924814135, 0.1132938747833869, 0.09330083805690685, 0.07997214690592017, 0.046650419028453426, 0.5341252416100234, 0.6243440763356355, 0.637641473556214, 0.1758117286118637, 0.13185879645889778, 0.1208705634206563, 0.08790586430593185, 0.07691763126769037, 0.06592939822944889, 0.14284702949713926, 0.07691763126769037, 0.05494116519120741, 0.06592939822944889, 0.7227508140334004, 0.5227033749855077, 0.26135168749275384, 0.9537577372027187, 0.6376426748894866, 0.8022311753199522, 0.17573902465711874, 0.5272170739713563, 0.17573902465711874, 0.7823732224465052, 0.1352494602466508, 0.1172161988804307, 0.09918293751421059, 0.1893492443453111, 0.09918293751421059, 0.08114967614799048, 0.09918293751421059, 0.06311641478177037, 0.05409978409866032, 0.04508315341555027, 0.9360488591181472, 0.6852754111420312, 0.11942641026134235, 0.06430652860226127, 0.16535964497724326, 0.11023976331816217, 0.11942641026134235, 0.11942641026134235, 0.12861305720452254, 0.09186646943180181, 0.055119881659081084, 0.045933234715900904, 0.748136899944426, 0.11499475139957387, 0.3449842541987216, 0.11499475139957387, 0.11499475139957387, 0.16464772752009768, 0.0914709597333876, 0.10976515168006512, 0.10061805570672636, 0.10061805570672636, 0.11891224765340389, 0.0914709597333876, 0.07317676778671008, 0.07317676778671008, 0.07317676778671008, 0.9394124271238861, 0.6290781242745579, 0.707847830487475, 0.10112111864106786, 0.6119419721534268, 0.6273355378824946, 0.7281044577641061, 0.18202611444102654, 0.13443628944453326, 0.07682073682544759, 0.07682073682544759, 0.13443628944453326, 0.15364147365089517, 0.08642332892862853, 0.11523110523817137, 0.10562851313499043, 0.057615552619085686, 0.048012960515904736, 0.22040604461604527, 0.44081208923209053, 0.5680395724570655, 0.14473502453411938, 0.17368202944094327, 0.05789400981364776, 0.02894700490682388, 0.05789400981364776, 0.05789400981364776, 0.02894700490682388, 0.2605230441614149, 0.05789400981364776, 0.14473502453411938, 0.24132302800600014, 0.4826460560120003, 0.12066151400300007, 0.21203585252908483, 0.42407170505816966, 0.21203585252908483, 0.13204893900834605, 0.1027047303398247, 0.08069657383843369, 0.11737683467408537, 0.09536867817269436, 0.08069657383843369, 0.1247128868412157, 0.07336052167130336, 0.06602446950417303, 0.11737683467408537, 0.625138311224911, 0.6376418974294277, 0.9394179289000678, 0.1919861870079422, 0.0959930935039711, 0.0959930935039711, 0.10163974606302822, 0.0959930935039711, 0.0959930935039711, 0.10728639862208535, 0.10728639862208535, 0.04517322047245699, 0.062113178149628356, 0.04345342393209939, 0.21726711966049694, 0.04345342393209939, 0.13036027179629817, 0.13036027179629817, 0.04345342393209939, 0.04345342393209939, 0.26072054359259633, 0.04345342393209939, 0.04345342393209939, 0.16980998343949402, 0.08043630794502347, 0.1161857781428117, 0.09831104304391758, 0.12512314569225874, 0.1161857781428117, 0.1161857781428117, 0.07149894039557643, 0.05362420529668232, 0.05362420529668232, 0.3472741851636903, 0.3472741851636903, 0.17157839522618587, 0.1048534637493358, 0.11438559681745723, 0.12391772988557867, 0.09532133068121437, 0.09532133068121437, 0.09532133068121437, 0.06672493147685006, 0.06672493147685006, 0.0762570645449715, 0.6498213636367948, 0.2166071212122649, 0.15329036239693805, 0.09433253070580802, 0.08843674753669502, 0.11791566338226003, 0.10022831387492102, 0.09433253070580802, 0.11791566338226003, 0.11791566338226003, 0.07074939802935602, 0.053062048522017013, 0.8852979878000797, 0.11694840060236228, 0.11045126723556437, 0.12994266733595808, 0.12344553396916018, 0.11045126723556437, 0.09095986713517065, 0.10395413386876647, 0.11045126723556437, 0.05197706693438323, 0.05197706693438323, 0.7762977678665032, 0.8970413602751311, 0.14214402708752594, 0.10660802031564444, 0.13029869149689877, 0.09476268472501728, 0.13029869149689877, 0.14214402708752594, 0.059226677953135805, 0.07107201354376297, 0.04738134236250864, 0.04738134236250864, 0.09283323026417098, 0.09283323026417098, 0.11346283698954232, 0.12377764035222798, 0.09283323026417098, 0.10314803362685665, 0.1444072470775993, 0.09283323026417098, 0.051574016813428325, 0.09283323026417098, 0.1998289429038791, 0.08881286351283516, 0.07771125557373075, 0.08881286351283516, 0.12211768733014833, 0.08881286351283516, 0.07771125557373075, 0.12211768733014833, 0.06660964763462636, 0.06660964763462636, 0.7227416979466659, 0.7498399168858452, 0.9361410199585773, 0.7498422581020648, 0.6075181666447259, 0.9394173807175205, 0.6065046081694998, 0.6376416776698088, 0.6158931092718262, 0.505709005573376, 0.9061098838960798, 0.5280054547311026, 0.2640027273655513, 0.126068797577682, 0.098053509227086, 0.12139958285258268, 0.098053509227086, 0.112061153402384, 0.112061153402384, 0.08871507977688733, 0.10739193867728467, 0.07003822087649, 0.06536900615139067, 0.7498418507766648, 0.11260639871267725, 0.07507093247511816, 0.0625591103959318, 0.11260639871267725, 0.23772461950454085, 0.0625591103959318, 0.07507093247511816, 0.17516550910860906, 0.050047288316745445, 0.03753546623755908, 0.9537471296664447, 0.18564659759367355, 0.18564659759367355, 0.3712931951873471, 0.6125033611939718, 0.20416778706465727, 0.38853106608504695, 0.07770621321700939, 0.038853106608504696, 0.038853106608504696, 0.07770621321700939, 0.11655931982551408, 0.07770621321700939, 0.07770621321700939, 0.038853106608504696, 0.038853106608504696, 0.509425201859727, 0.2547126009298635, 0.7302906574682513, 0.8578947344988314, 0.08578947344988314, 0.6122931608809643, 0.7498398898010683, 0.5524574884000999, 0.27622874420004995, 0.1937667043724069, 0.13563669306068482, 0.09688335218620345, 0.06781834653034241, 0.12594835784206448, 0.0871950169675831, 0.0871950169675831, 0.06781834653034241, 0.06781834653034241, 0.06781834653034241, 0.07580198878666738, 0.08843565358444529, 0.10106931838222319, 0.10106931838222319, 0.06316832398888948, 0.13897031277555688, 0.20213863676444638, 0.08843565358444529, 0.06316832398888948, 0.07580198878666738, 0.5672710399611804, 0.3545443999757378, 0.0520314182978556, 0.1040628365957112, 0.0520314182978556, 0.1040628365957112, 0.4682827646807004, 0.0520314182978556, 0.0520314182978556, 0.1040628365957112, 0.0520314182978556, 0.0520314182978556, 0.7266644380317874, 0.18166610950794684, 0.6290795747166563, 0.21467074298007569, 0.21467074298007569, 0.42934148596015137, 0.2020646166425219, 0.07577423124094572, 0.10103230832126095, 0.2020646166425219, 0.050516154160630475, 0.050516154160630475, 0.07577423124094572, 0.07577423124094572, 0.07577423124094572, 0.07577423124094572, 0.7318722876197695, 0.18296807190494238, 0.11257293472911592, 0.07035808420569746, 0.08442970104683695, 0.14071616841139492, 0.05628646736455796, 0.08442970104683695, 0.09850131788797643, 0.14071616841139492, 0.1547877852525344, 0.04221485052341847, 0.10293653790651074, 0.10293653790651074, 0.20587307581302147, 0.05146826895325537, 0.3602778826727876, 0.05146826895325537, 0.05146826895325537, 0.05146826895325537, 0.05146826895325537, 0.12684234149335255, 0.09513175612001441, 0.19026351224002883, 0.06342117074667628, 0.1585529268666907, 0.06342117074667628, 0.07927646343334535, 0.09513175612001441, 0.07927646343334535, 0.06342117074667628, 0.26188071723014744, 0.5237614344602949, 0.7409195498191833, 0.054408174778820886, 0.3264490486729253, 0.054408174778820886, 0.054408174778820886, 0.054408174778820886, 0.054408174778820886, 0.054408174778820886, 0.054408174778820886, 0.38085722345174616, 0.8916355319255056, 0.9132050785775934, 0.6265773607446932, 0.7498429108374977, 0.2598627583862012, 0.5197255167724024, 0.936048704523667, 0.15963005718612527, 0.12818777319491878, 0.10642003812408352, 0.08948957751343387, 0.09674548920371229, 0.0991641264338051, 0.1015827636638979, 0.09432685197361948, 0.06046593075232018, 0.0653032052125058, 0.1930990589835366, 0.13165844930695678, 0.08777229953797118, 0.07021783963037695, 0.10532675944556541, 0.07021783963037695, 0.13165844930695678, 0.08777229953797118, 0.06144060967657983, 0.06144060967657983, 0.7498438038930095, 0.12195044249722789, 0.48780176998891156, 0.24390088499445578, 0.07871834458021144, 0.39359172290105726, 0.07871834458021144, 0.07871834458021144, 0.23615503374063435, 0.13074367691152802, 0.10122091115731202, 0.13074367691152802, 0.07169814540309602, 0.11809106301686402, 0.11387352505197602, 0.09278583522753601, 0.09278583522753601, 0.09278583522753601, 0.054827993543544014, 0.7365940354733114, 0.838499085124755, 0.627123063807737, 0.6977282037515123, 0.23257606791717075, 0.6154244296471225, 0.22415880564645096, 0.6724764169393529, 0.14330372418241089, 0.0977070846698256, 0.11073469595913568, 0.08467947338051551, 0.08793637620284304, 0.14004682136008337, 0.11724850160379072, 0.11724850160379072, 0.05536734797956784, 0.0488535423349128, 0.5239180253593742, 0.2619590126796871, 0.4725573947105513, 0.15751913157018377, 0.15751913157018377, 0.8384989698848212, 0.08828620378749567, 0.08828620378749567, 0.21188688908998962, 0.10594344454499481, 0.07062896302999654, 0.052971722272497405, 0.1589151668174922, 0.08828620378749567, 0.07062896302999654, 0.052971722272497405, 0.08401752594699008, 0.08401752594699008, 0.08401752594699008, 0.5041051556819405, 0.07247802002991663, 0.036239010014958314, 0.07247802002991663, 0.036239010014958314, 0.07247802002991663, 0.036239010014958314, 0.39862911016454144, 0.10871703004487494, 0.036239010014958314, 0.07247802002991663, 0.6290809712667417, 0.21403414675241061, 0.21403414675241061, 0.42806829350482123, 0.1578116163321312, 0.1578116163321312, 0.4734348489963936, 0.14342904167573667, 0.12655503677270882, 0.10968103186968098, 0.10968103186968098, 0.09280702696665313, 0.10124402941816706, 0.08437002451513921, 0.09280702696665313, 0.06749601961211137, 0.05062201470908353, 0.5458001519363488, 0.09096669198939146, 0.09096669198939146, 0.6376405668948242, 0.3518163187716217, 0.11727210625720724, 0.3518163187716217, 0.25943973121108, 0.51887946242216, 0.6387686849783306, 0.2648896018033719, 0.5297792036067438, 0.5910529490271924, 0.12546555650258945, 0.06273277825129472, 0.18819833475388417, 0.07527933390155367, 0.1129190008523305, 0.10037244520207156, 0.10037244520207156, 0.10037244520207156, 0.05018622260103578, 0.08782588955181261, 0.6114589587118043, 0.6290814787408998, 0.2535084439823877, 0.5070168879647754, 0.9556503429259949, 0.14345869748965556, 0.11476695799172446, 0.09563913165977038, 0.09563913165977038, 0.10520304482574742, 0.08607521849379335, 0.10520304482574742, 0.04781956582988519, 0.13389478432367855, 0.06694739216183927, 0.19710428460481713, 0.39420856920963426, 0.19710428460481713, 0.1426931187529281, 0.4280793562587843, 0.1426931187529281, 0.629079490150165, 0.13804496573644331, 0.12270663621017182, 0.09202997715762887, 0.13804496573644331, 0.09969914192076461, 0.09202997715762887, 0.09969914192076461, 0.10736830668390035, 0.046014988578814434, 0.053684153341950175, 0.5297042635277796, 0.1765680878425932, 0.6245712195098005, 0.5201125340053503, 0.1733708446684501, 0.1733708446684501, 0.13317375529025388, 0.11958459658716676, 0.08968844744037507, 0.12773809180901904, 0.09240627918099249, 0.13317375529025388, 0.09240627918099249, 0.07066362525605309, 0.08153495221852279, 0.0625101300342008, 0.14064116410464442, 0.15145971518961707, 0.14064116410464442, 0.09736695976475383, 0.07572985759480853, 0.09736695976475383, 0.10818551084972648, 0.06491130650983588, 0.05409275542486324, 0.06491130650983588, 0.22413791074489892, 0.6724137322346967, 0.13687716955291573, 0.13687716955291573, 0.13687716955291573, 0.4106315086587472, 0.8516896310416041, 0.6249353913699728, 0.324470721671993, 0.324470721671993, 0.7315711017862544, 0.12879525026026978, 0.09490176334967247, 0.10168046073179193, 0.1084591581139114, 0.15591003978874762, 0.10168046073179193, 0.07456567120331409, 0.12201655287815032, 0.06100827643907516, 0.06100827643907516, 0.6271230323735201, 0.9556464267011554, 0.6376359926205575, 0.8384999860782468, 0.6241231877028462, 0.28670729992490407, 0.5734145998498081, 0.919532821731317, 0.7498451025273195, 0.5239157736363237, 0.26195788681816184, 0.6085020495980173, 0.10210033891200014, 0.10210033891200014, 0.16591305073200022, 0.12762542364000018, 0.10210033891200014, 0.11486288127600015, 0.06381271182000009, 0.10210033891200014, 0.0765752541840001, 0.05105016945600007, 0.9394164912349204, 0.20140704217263514, 0.6042211265179054, 0.626575533789813, 0.15795262308056757, 0.13425972961848243, 0.09477157384834053, 0.11846446731042568, 0.07107868038625541, 0.07107868038625541, 0.14215736077251082, 0.09477157384834053, 0.05528341807819865, 0.05528341807819865, 0.1355971736323043, 0.6779858681615216, 0.9226202463867995, 0.8385003378434829, 0.6795902317275845, 0.22653007724252816, 0.5390383163856567, 0.9291327796880738, 0.1512447158423054, 0.1512447158423054, 0.45373414752691615, 0.8409856038691317, 0.7028352003300078, 0.2858414538446906, 0.08337042403803475, 0.08337042403803475, 0.09528048461489687, 0.08337042403803475, 0.09528048461489687, 0.08337042403803475, 0.05955030288431054, 0.08337042403803475, 0.05955030288431054, 0.9217658858827456, 0.7080366762821336, 0.9097728407547561, 0.7498444838020922, 0.5224571999747772, 0.2612285999873886, 0.9349759848064527, 0.6376416118825916, 0.6786791143514989, 0.5989923715912296, 0.5940616854940283, 0.053735858105220934, 0.0806037871578314, 0.13433964526305234, 0.2418113614734942, 0.053735858105220934, 0.0806037871578314, 0.053735858105220934, 0.1612075743156628, 0.13433964526305234, 0.026867929052610467, 0.6245702146624822, 0.672181910392328, 0.9352315960648493, 0.9556503002513703, 0.6763845180269885, 0.8018642283969788, 0.08888625591380275, 0.044443127956901377, 0.06666469193535207, 0.15555094784915482, 0.06666469193535207, 0.2666587677414083, 0.06666469193535207, 0.11110781989225345, 0.08888625591380275, 0.044443127956901377, 0.09854435061950888, 0.09854435061950888, 0.05912661037170533, 0.21679757136291952, 0.05912661037170533, 0.1576709609912142, 0.11825322074341066, 0.05912661037170533, 0.0788354804956071, 0.03941774024780355, 0.8290120231471986, 0.13865377834559606, 0.08319226700735763, 0.05546151133823842, 0.15251915618015566, 0.08319226700735763, 0.16638453401471526, 0.09705764484191723, 0.11092302267647684, 0.06932688917279803, 0.05546151133823842, 0.9396892075817912, 0.189005183695155, 0.5670155510854651, 0.7104772745869825, 0.1420954549173965, 0.8063496424043297, 0.11519280605776139, 0.7227513273919122, 0.11330312328596252, 0.09914023287521721, 0.07081445205372658, 0.07081445205372658, 0.11330312328596252, 0.11330312328596252, 0.14162890410745316, 0.09914023287521721, 0.11330312328596252, 0.05665156164298126, 0.6387690877274578, 0.6271231523869178, 0.706297812370503, 0.09231080178385083, 0.09231080178385083, 0.6461756124869558, 0.1981879547177249, 0.5945638641531747, 0.6265771509679644, 0.568039597319709, 0.9361407827390482, 0.936139765676389, 0.7269176848143402, 0.6265777337560782, 0.6376398897756194, 0.6779339342395837, 0.6273353576085196, 0.7227503063808229, 0.3325677111979258, 0.3325677111979258, 0.6273355844640466, 0.5819398068278561, 0.14548495170696402, 0.14548495170696402, 0.5505536189868313, 0.22644569768033285, 0.6793370930409985, 0.11800800315830307, 0.7080480189498184, 0.25396306890660053, 0.5079261378132011, 0.5115655291302104, 0.10231310582604207, 0.10231310582604207, 0.10231310582604207, 0.920459450639824, 0.8815849376595822, 0.529606150356303, 0.2648030751781515, 0.6564710733305805, 0.3473476987434295, 0.3473476987434295, 0.6242389601733935, 0.11956159388446903, 0.11956159388446903, 0.21521086899204425, 0.11956159388446903, 0.07173695633068142, 0.04782463755378761, 0.11956159388446903, 0.04782463755378761, 0.07173695633068142, 0.023912318776893805, 0.6387633912415536, 0.14554205760746294, 0.1369807601011416, 0.0684903800505708, 0.11129686758217755, 0.11129686758217755, 0.12841946259482026, 0.07705167755689214, 0.0856129750632135, 0.07705167755689214, 0.05992908254424945, 0.9005510170859785, 0.26620696070370287, 0.5324139214074057, 0.2006358298957119, 0.09630519834994172, 0.12840693113325563, 0.12038149793742715, 0.11235606474159868, 0.06420346556662782, 0.07222889876245629, 0.06420346556662782, 0.05617803237079934, 0.08025433195828477, 0.21028062509174864, 0.10514031254587432, 0.10514031254587432, 0.31542093763762297, 0.6386533746562324, 0.12760691558434262, 0.12760691558434262, 0.09570518668825696, 0.08507127705622841, 0.11697300595231407, 0.09570518668825696, 0.13824082521637115, 0.10633909632028551, 0.05316954816014276, 0.06380345779217131, 0.15285107532930509, 0.0694777615133205, 0.11116441842131279, 0.1250599707239769, 0.0972688661186487, 0.11116441842131279, 0.0972688661186487, 0.0694777615133205, 0.11116441842131279, 0.0694777615133205, 0.22777961720983889, 0.6833388516295166, 0.07155335902351762, 0.10733003853527642, 0.10733003853527642, 0.03577667951175881, 0.07155335902351762, 0.3577667951175881, 0.07155335902351762, 0.10733003853527642, 0.03577667951175881, 0.03577667951175881, 0.14411080091023273, 0.10808310068267454, 0.10808310068267454, 0.12609695079645364, 0.12609695079645364, 0.09006925056889546, 0.099076175625785, 0.09006925056889546, 0.06304847539822682, 0.04503462528444773, 0.7273843001038447, 0.26490757737833, 0.52981515475666, 0.2560183538434483, 0.5120367076868966, 0.12412295367471073, 0.24824590734942145, 0.3723688610241322, 0.8647192284495517, 0.6245686945646653, 0.36948789041079894, 0.36948789041079894, 0.629079880808787, 0.49569427466489496, 0.6273327093364008, 0.5219402066714381, 0.2609701033357191, 0.9053111038582993, 0.8141308347495808, 0.20892708189160453, 0.41785416378320905, 0.8916418859138766, 0.819243257751881, 0.6387670196612552, 0.10885722257259971, 0.13607152821574964, 0.08164291692944978, 0.10885722257259971, 0.13607152821574964, 0.0997857873582164, 0.12700009300136633, 0.08164291692944978, 0.06350004650068317, 0.06350004650068317, 0.10104999863768682, 0.10104999863768682, 0.4041999945507473, 0.10104999863768682, 0.10104999863768682, 0.9280814186451738, 0.936144551498336, 0.9350148583120841, 0.8146240440213489, 0.11637486343162126, 0.1436596903370498, 0.1436596903370498, 0.5746387613481992, 0.624173036745103, 0.7227439121945229, 0.08035514485747455, 0.2410654345724237, 0.4017757242873728, 0.060007805348749915, 0.060007805348749915, 0.060007805348749915, 0.060007805348749915, 0.12001561069749983, 0.12001561069749983, 0.3600468320924995, 0.060007805348749915, 0.060007805348749915, 0.060007805348749915, 0.4360589989678919, 0.04360589989678919, 0.08721179979357838, 0.04360589989678919, 0.04360589989678919, 0.13081769969036758, 0.04360589989678919, 0.04360589989678919, 0.04360589989678919, 0.04360589989678919, 0.1434930525314236, 0.0717465262657118, 0.10249503752244543, 0.11274454127468997, 0.1434930525314236, 0.06149702251346725, 0.08199603001795634, 0.16399206003591268, 0.08199603001795634, 0.051247518761222716, 0.6088218725499792, 0.09208025955761398, 0.08440690459447948, 0.13812038933642098, 0.10742696948388299, 0.11510032444701748, 0.09208025955761398, 0.11510032444701748, 0.13044703437328647, 0.06906019466821049, 0.06138683970507599, 0.15946765568479884, 0.15946765568479884, 0.4784029670543965, 0.7880926190872638, 0.6179576089476042, 0.2059858696492014, 0.456888214311654, 0.050765357145739334, 0.050765357145739334, 0.10153071429147867, 0.050765357145739334, 0.10153071429147867, 0.050765357145739334, 0.050765357145739334, 0.050765357145739334, 0.050765357145739334, 0.2131399993276184, 0.1065699996638092, 0.1065699996638092, 0.1065699996638092, 0.3197099989914276, 0.5680394597372872, 0.6265775126070394, 0.15045820959117737, 0.7522910479558869, 0.6232210843171351, 0.19159168610342145, 0.08746576974286631, 0.12078606297824396, 0.07080562312517749, 0.0833007330884441, 0.07080562312517749, 0.12078606297824396, 0.11245598966939954, 0.07080562312517749, 0.0749706597795997, 0.8813863952822094, 0.12044740215021228, 0.08029826810014153, 0.1104101186376946, 0.16059653620028305, 0.1104101186376946, 0.1003728351251769, 0.13048468566272997, 0.08029826810014153, 0.06022370107510614, 0.05018641756258845, 0.5149658167554979, 0.17165527225183264, 0.1930738765484671, 0.1930738765484671, 0.3861477530969342, 0.10461034507281204, 0.10461034507281204, 0.41844138029124817, 0.10461034507281204, 0.6387557431347776, 0.6816722789668117, 0.9394158293029475, 0.39540081526068954, 0.39540081526068954, 0.07869135739313964, 0.07869135739313964, 0.15738271478627927, 0.07869135739313964, 0.07869135739313964, 0.07869135739313964, 0.07869135739313964, 0.07869135739313964, 0.07869135739313964, 0.31476542957255854, 0.1927219055007555, 0.5781657165022664, 0.6271234993883303, 0.7484195994338826, 0.1587996513736654, 0.09263312996797148, 0.11909973853024904, 0.0793998256868327, 0.0793998256868327, 0.10586643424911026, 0.1587996513736654, 0.06616652140569391, 0.05293321712455513, 0.0793998256868327, 0.7742727581087695, 0.12904545968479492, 0.10960321124266319, 0.10960321124266319, 0.3288096337279896, 0.10960321124266319, 0.10960321124266319, 0.5895716486056555, 0.5987946161640139, 0.19959820538800463, 0.12711046078685737, 0.17250705392502072, 0.11349148284540837, 0.08171386764869402, 0.11803114215922471, 0.05447591176579602, 0.08625352696251036, 0.12711046078685737, 0.059015571079612354, 0.059015571079612354, 0.5680394274343542, 0.0399894485357391, 0.0799788970714782, 0.11996834560721731, 0.0399894485357391, 0.0799788970714782, 0.0799788970714782, 0.23993669121443462, 0.0399894485357391, 0.1999472426786955, 0.0399894485357391, 0.09520198734402603, 0.14280298101603905, 0.08568178860962343, 0.16184337848484426, 0.09520198734402603, 0.05712119240641562, 0.10472218607842863, 0.14280298101603905, 0.05712119240641562, 0.05712119240641562, 0.20369165951560225, 0.4073833190312045, 0.873611508520377, 0.8639956501201921, 0.14481826066954578, 0.28963652133909157, 0.04827275355651526, 0.04827275355651526, 0.09654550711303052, 0.04827275355651526, 0.04827275355651526, 0.14481826066954578, 0.04827275355651526, 0.04827275355651526, 0.6657759188500787, 0.1770861005633088, 0.7083444022532353, 0.10260781144141011, 0.08550650953450842, 0.11970911334831179, 0.13681041525521348, 0.08550650953450842, 0.08550650953450842, 0.10260781144141011, 0.18811432097591854, 0.06840520762760674, 0.051303905720705055, 0.8899891543999318, 0.7025633005649164, 0.6245706803598744, 0.6245708642132487, 0.6134261931703309, 0.6214463470491566, 0.5081102508672285, 0.16937008362240952, 0.16937008362240952, 0.7981013575477282, 0.9202889875444683, 0.9048015140260564, 0.22482153888585432, 0.674464616657563, 0.42977760155484146, 0.2578665609329049, 0.08595552031096829, 0.05197075735180381, 0.25985378675901905, 0.05197075735180381, 0.05197075735180381, 0.10394151470360762, 0.10394151470360762, 0.05197075735180381, 0.05197075735180381, 0.05197075735180381, 0.20788302940721523, 0.1151772700981093, 0.13821272411773114, 0.13821272411773114, 0.09982030075169472, 0.07678484673207286, 0.09982030075169472, 0.13053423944452386, 0.07678484673207286, 0.06910636205886557, 0.06142787738565829, 0.12272377688003745, 0.08437259660502575, 0.0767023605500234, 0.0767023605500234, 0.16107495715504916, 0.1303940129350398, 0.1303940129350398, 0.12272377688003745, 0.061361888440018726, 0.046021416330014046, 0.6198666908800379, 0.16877049946405093, 0.11452283892203456, 0.07835773189402365, 0.12055035676003638, 0.06630269621802001, 0.10246780324603093, 0.09041276757002728, 0.10849532108403274, 0.06630269621802001, 0.07835773189402365, 0.5167739232167635, 0.10335478464335271, 0.10335478464335271, 0.10335478464335271, 0.5064087618127661, 0.25320438090638303, 0.15661260058031343, 0.10678131857748643, 0.07830630029015671, 0.09254380943382158, 0.08542505486198915, 0.099662564005654, 0.12813758229298372, 0.07830630029015671, 0.099662564005654, 0.07830630029015671, 0.12050141146225667, 0.0903760585966925, 0.06627577630424117, 0.108451270316031, 0.13255155260848234, 0.108451270316031, 0.17472704662027216, 0.08435098802357967, 0.06627577630424117, 0.04820056458490266, 0.9068171644345926, 0.14505272191484042, 0.12087726826236701, 0.1571404487410771, 0.07252636095742021, 0.1087895414361303, 0.08461408778365691, 0.1087895414361303, 0.060438634131183507, 0.08461408778365691, 0.07252636095742021, 0.10831421614590986, 0.10132620220101246, 0.09084418128366634, 0.08385616733876892, 0.18518236953978137, 0.09084418128366634, 0.09783219522856375, 0.10831421614590986, 0.07337414642142281, 0.06289212550407669, 0.11737762278510809, 0.5868881139255405, 0.11737762278510809, 0.7247356765350681, 0.12925385224973604, 0.09478615831647311, 0.11202000528310457, 0.1206369287664203, 0.11202000528310457, 0.09478615831647311, 0.07755231134984163, 0.12925385224973604, 0.0689353878665259, 0.06031846438321015, 0.18807568813707873, 0.10920523827314249, 0.09100436522761873, 0.07280349218209499, 0.07887044986393624, 0.10313828059130124, 0.09707132290946, 0.13954002668234874, 0.04853566145473, 0.06673653450025374, 0.13193752826481736, 0.09595456601077626, 0.05997160375673516, 0.13193752826481736, 0.15592616976751142, 0.16792049051885846, 0.08396024525942923, 0.04797728300538813, 0.05997160375673516, 0.05997160375673516, 0.1309989850881487, 0.10718098779939438, 0.09527198915501722, 0.11512032022897914, 0.10321132158460199, 0.13893831751773345, 0.11115065401418676, 0.06748432565147053, 0.06748432565147053, 0.059544993221885764, 0.8503651401798237, 0.17737438291927263, 0.7094975316770905, 0.16689278657690218, 0.6675711463076087]}, \"mdsDat\": {\"y\": [0.011125894575601931, -0.0035114776037454072, -0.03680971389836211, 0.00934490889749367, 0.016511358878256447, 0.028161438079822885, -0.010895677116577018, -0.010367571215838069, 0.0006086003054567231, -0.004167760902109017], \"x\": [-0.05034221283890668, 0.020489565324999705, -0.003375676839805856, 0.0048863221133020615, 0.0031166219078171335, 0.016972321016802763, 0.002911116748704508, 0.004774791405761274, 0.003410874185421603, -0.0028437230240966247], \"topics\": [1, 2, 3, 4, 5, 6, 7, 8, 9, 10], \"cluster\": [1, 1, 1, 1, 1, 1, 1, 1, 1, 1], \"Freq\": [14.785007274114479, 10.596420593691231, 10.522205961625293, 10.463378007783705, 10.45625150947458, 10.351211454142542, 9.945160926631893, 9.88225362171537, 6.83953035229849, 6.158580298522415]}, \"R\": 30, \"lambda.step\": 0.01};\n",
       "\n",
       "function LDAvis_load_lib(url, callback){\n",
       "  var s = document.createElement('script');\n",
       "  s.src = url;\n",
       "  s.async = true;\n",
       "  s.onreadystatechange = s.onload = callback;\n",
       "  s.onerror = function(){console.warn(\"failed to load library \" + url);};\n",
       "  document.getElementsByTagName(\"head\")[0].appendChild(s);\n",
       "}\n",
       "\n",
       "if(typeof(LDAvis) !== \"undefined\"){\n",
       "   // already loaded: just create the visualization\n",
       "   !function(LDAvis){\n",
       "       new LDAvis(\"#\" + \"ldavis_el2617146404026722199990525\", ldavis_el2617146404026722199990525_data);\n",
       "   }(LDAvis);\n",
       "}else if(typeof define === \"function\" && define.amd){\n",
       "   // require.js is available: use it to load d3/LDAvis\n",
       "   require.config({paths: {d3: \"https://cdnjs.cloudflare.com/ajax/libs/d3/3.5.5/d3.min\"}});\n",
       "   require([\"d3\"], function(d3){\n",
       "      window.d3 = d3;\n",
       "      LDAvis_load_lib(\"https://cdn.rawgit.com/bmabey/pyLDAvis/files/ldavis.v1.0.0.js\", function(){\n",
       "        new LDAvis(\"#\" + \"ldavis_el2617146404026722199990525\", ldavis_el2617146404026722199990525_data);\n",
       "      });\n",
       "    });\n",
       "}else{\n",
       "    // require.js not available: dynamically load d3 & LDAvis\n",
       "    LDAvis_load_lib(\"https://cdnjs.cloudflare.com/ajax/libs/d3/3.5.5/d3.min.js\", function(){\n",
       "         LDAvis_load_lib(\"https://cdn.rawgit.com/bmabey/pyLDAvis/files/ldavis.v1.0.0.js\", function(){\n",
       "                 new LDAvis(\"#\" + \"ldavis_el2617146404026722199990525\", ldavis_el2617146404026722199990525_data);\n",
       "            })\n",
       "         });\n",
       "}\n",
       "</script>"
      ],
      "text/plain": [
       "<IPython.core.display.HTML object>"
      ]
     },
     "execution_count": 5,
     "metadata": {},
     "output_type": "execute_result"
    }
   ],
   "source": [
    "import pyLDAvis.gensim\n",
    "\n",
    "viz = pyLDAvis.gensim.prepare(model, corpus, dictionary)\n",
    "pyLDAvis.display(viz)"
   ]
  },
  {
   "cell_type": "markdown",
   "metadata": {},
   "source": [
    "The weight parameter λ can be viewed as a knob to adjust the ranks of the terms based on whether they are simply ranked according to their probability in the topic (λ=1) or are normalized by their marginal probability across the corpus (λ=0). Setting λ=1 could result in similar ranking of terms for large no. of topics hence making it difficult to differentiate between them, and setting λ=0 ranks terms solely based on their exclusiveness to current topic which could result in such rare terms that occur in only a single topic and hence the topics may remain difficult to interpret. [(Sievert and Shirley 2014)](https://nlp.stanford.edu/events/illvi2014/papers/sievert-illvi2014.pdf) suggested the optimal value of λ=0.6 based on a user study."
   ]
  },
  {
   "cell_type": "markdown",
   "metadata": {},
   "source": [
    "# Conclusion\n",
    "\n",
    "We learned about visualizing the Document Embeddings and LDA Doc-topic distributions through Tensorboard's Embedding Projector. It is a useful tool for visualizing different types of data for example, word embeddings, document embeddings or the gene expressions and biological sequences. It just needs an input of 2D tensors and then you can explore your data using provided algorithms. You can also perform nearest neighbours search to find most similar data points to your query point.\n",
    "\n",
    "# References\n",
    " 1. https://grouplens.org/datasets/movielens/\n",
    " 2. https://lvdmaaten.github.io/tsne/\n"
   ]
  }
 ],
 "metadata": {
  "kernelspec": {
   "display_name": "Python 3",
   "language": "python",
   "name": "python3"
  },
  "language_info": {
   "codemirror_mode": {
    "name": "ipython",
    "version": 3
   },
   "file_extension": ".py",
   "mimetype": "text/x-python",
   "name": "python",
   "nbconvert_exporter": "python",
   "pygments_lexer": "ipython3",
   "version": "3.6.2"
  }
 },
 "nbformat": 4,
 "nbformat_minor": 2
}
