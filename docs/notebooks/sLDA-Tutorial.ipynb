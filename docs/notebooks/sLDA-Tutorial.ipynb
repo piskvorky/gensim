{
 "cells": [
  {
   "cell_type": "markdown",
   "metadata": {
    "toc": "true"
   },
   "source": [
    "# Table of Contents\n",
    " <p><div class=\"lev1\"><a href=\"#Supervised-Topic-Model\"><span class=\"toc-item-num\">1 - </span>Supervised Topic Model</a></div><div class=\"lev2\"><a href=\"#Read-and-tokenize-moview-review-dataset\"><span class=\"toc-item-num\">1.1 - </span>Read and tokenize moview review dataset</a></div><div class=\"lev2\"><a href=\"#Infer-topics-with-SupervisedLDA\"><span class=\"toc-item-num\">1.2 - </span>Infer topics with SupervisedLDA</a></div>"
   ]
  },
  {
   "cell_type": "markdown",
   "metadata": {},
   "source": [
    "# Supervised Topic Model in Gensim"
   ]
  },
  {
   "cell_type": "markdown",
   "metadata": {},
   "source": [
    "This notebook shows an example of supervised topic model in Gensim with the dataset provided by [Bo Pang](https://www.cs.cornell.edu/people/pabo/movie-review-data/)"
   ]
  },
  {
   "cell_type": "code",
   "execution_count": 1,
   "metadata": {
    "collapsed": false
   },
   "outputs": [],
   "source": [
    "import os\n",
    "import logging\n",
    "\n",
    "import numpy as np\n",
    "import matplotlib.pyplot as plt\n",
    "\n",
    "from gensim.models import SLdaModel \n",
    "\n",
    "%matplotlib inline  \n",
    "\n",
    "logger = logging.getLogger('SLdaModel')\n",
   ]
  },
  {
   "cell_type": "markdown",
   "metadata": {},
   "source": [
    "## Read and tokenize moview review dataset"
   ]
  },
  {
   "cell_type": "code",
   "execution_count": 2,
   "metadata": {
    "collapsed": true
   },
   "outputs": [],
   "source": [
    "datafolder = '../data/scaledata/Dennis+Schwartz/'\n",
    "rating_file = os.path.join(datafolder, 'rating.Dennis+Schwartz')\n",
    "review_file = os.path.join(datafolder, 'subj.Dennis+Schwartz')\n",
    "with open(rating_file, 'r') as f:\n",
    "    ratings = np.array([float(line.strip()) for line in f.readlines()])\n",
    "with open(review_file, 'r') as f:\n",
    "    reviews = [line for line in f.readlines()]\n",
    
   ]
  },
  {
   "cell_type": "code",
   "execution_count": null,
   "metadata": {
    "collapsed": true
   },
   "outputs": [],
   "source": []
  }
 ],
 "metadata": {
  "kernelspec": {
   "display_name": "Python 3",
   "language": "python",
   "name": "python3"
  },
  "language_info": {
   "codemirror_mode": {
    "name": "ipython",
    "version": 3
   },
   "file_extension": ".py",
   "mimetype": "text/x-python",
   "name": "python",
   "nbconvert_exporter": "python",
   "pygments_lexer": "ipython3",
   "version": "3.4.3"
  },
  "toc": {
   "toc_cell": true,
   "toc_number_sections": true,
   "toc_threshold": 4,
   "toc_window_display": true
  }
 },
 "nbformat": 4,
 "nbformat_minor": 0
}
