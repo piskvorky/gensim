{
 "cells": [
  {
   "cell_type": "markdown",
   "metadata": {
    "toc": "true"
   },
   "source": [
    "# Table of Contents\n",
    " <p><div class=\"lev1\"><a href=\"#Supervised-Topic-Model\"><span class=\"toc-item-num\">1 - </span>Supervised Topic Model</a></div><div class=\"lev2\"><a href=\"#Read-and-tokenize-moview-review-dataset\"><span class=\"toc-item-num\">1.1 - </span>Read and tokenize moview review dataset</a></div><div class=\"lev2\"><a href=\"#Infer-topics-with-SupervisedLDA\"><span class=\"toc-item-num\">1.2 - </span>Infer topics with SupervisedLDA</a></div>"
   ]
  },
  {
   "cell_type": "markdown",
   "metadata": {},
   "source": [
    "# Supervised Topic Model  "
   ]
  },
  {
   "cell_type": "markdown",
   "metadata": {},
   "source": [
    "This notebook shows an example of supervised topic model with the dataset provided by [Bo Pang](https://www.cs.cornell.edu/people/pabo/movie-review-data/)"
   ]
  },
  {
   "cell_type": "code",
   "execution_count": 1,
   "metadata": {
    "collapsed": false
   },
   "outputs": [],
   "source": [
    "import os\n",
    "import logging\n",
    "\n",
    "import numpy as np\n",
    "import matplotlib.pyplot as plt\n",
    "\n",
    "from gensim.models import SLdaModel\n",
    "\n",
    "%matplotlib inline  \n",
    "\n",
    "logger = logging.getLogger('sLDA')\n",
    "logger.propagate = False"
   ]
  },
  {
   "cell_type": "markdown",
   "metadata": {},
   "source": [
    "## Read and tokenize moview review dataset"
   ]
  },
  {
   "cell_type": "code",
   "execution_count": 2,
   "metadata": {
    "collapsed": true
   },
   "outputs": [],
   "source": [
    "datafolder = '../datasets/Pang_review/'\n",
    "rating_file = os.path.join(datafolder, 'rating.Dennis+Schwartz')\n",
    "review_file = os.path.join(datafolder, 'subj.Dennis+Schwartz')\n",
    "with open(rating_file, 'r') as f:\n",
    "    ratings = np.array([float(line.strip()) for line in f.readlines()])\n",
    "with open(review_file, 'r') as f:\n",
    "    reviews = [line for line in f.readlines()]\n",
    "\n",
    "voca, word_ids, word_cnt = get_ids_cnt(reviews)\n",
    "corpus = convert_cnt_to_list(word_ids, word_cnt)"
   ]
  },
  {
   "cell_type": "code",
   "execution_count": 3,
   "metadata": {
    "collapsed": false
   },
   "outputs": [
    {
     "name": "stdout",
     "output_type": "stream",
     "text": [
      "num doc 1027 num_voca 10526\n"
     ]
    },
    {
     "data": {
      "image/png": "[encoded data removed]",
      "text/plain": [
       "<matplotlib.figure.Figure at 0x10e953048>"
      ]
     },
     "metadata": {},
     "output_type": "display_data"
    },
    {
     "name": "stdout",
     "output_type": "stream",
     "text": [
      "max rating 0.9 \tmin rating 0.1\n"
     ]
    }
   ],
   "source": [
    "n_doc = len(corpus)\n",
    "n_voca = voca.size\n",
    "print('num doc', n_doc, 'num_voca', n_voca)\n",
    "plt.hist(ratings, bins=9)\n",
    "plt.show()\n",
    "print('max rating', np.max(ratings), '\\tmin rating', np.min(ratings))"
   ]
  },
  {
   "cell_type": "markdown",
   "metadata": {},
   "source": [
    "## Infer topics with SupervisedLDA"
   ]
  },
  {
   "cell_type": "code",
   "execution_count": 4,
   "metadata": {
    "collapsed": false
   },
   "outputs": [
    {
     "name": "stderr",
     "output_type": "stream",
     "text": [
      "2017-11-11 19:43:04 INFO:SupervisedLDA:[ITER] 0,\tMAE:0,\tlog_likelihood:-1200104.10\n",
      "2017-11-11 19:43:13 INFO:SupervisedLDA:[ITER] 1,\tMAE:0.02,\tlog_likelihood:-1115555.47\n",
      "2017-11-11 19:43:22 INFO:SupervisedLDA:[ITER] 2,\tMAE:0.03,\tlog_likelihood:-1073563.29\n",
      "2017-11-11 19:43:32 INFO:SupervisedLDA:[ITER] 3,\tMAE:0.05,\tlog_likelihood:-1048468.36\n",
      "2017-11-11 19:43:41 INFO:SupervisedLDA:[ITER] 4,\tMAE:0.05,\tlog_likelihood:-1032117.31\n",
      "2017-11-11 19:43:49 INFO:SupervisedLDA:[ITER] 5,\tMAE:0.08,\tlog_likelihood:-1020609.06\n",
      "2017-11-11 19:43:58 INFO:SupervisedLDA:[ITER] 6,\tMAE:0.08,\tlog_likelihood:-1012588.62\n",
      "2017-11-11 19:44:07 INFO:SupervisedLDA:[ITER] 7,\tMAE:0.08,\tlog_likelihood:-1006078.19\n",
      "2017-11-11 19:44:17 INFO:SupervisedLDA:[ITER] 8,\tMAE:0.08,\tlog_likelihood:-1000468.34\n",
      "2017-11-11 19:44:26 INFO:SupervisedLDA:[ITER] 9,\tMAE:0.08,\tlog_likelihood:-996064.31\n",
      "2017-11-11 19:44:35 INFO:SupervisedLDA:[ITER] 10,\tMAE:0.08,\tlog_likelihood:-991448.64\n",
      "2017-11-11 19:44:44 INFO:SupervisedLDA:[ITER] 11,\tMAE:0.09,\tlog_likelihood:-989309.68\n",
      "2017-11-11 19:44:53 INFO:SupervisedLDA:[ITER] 12,\tMAE:0.08,\tlog_likelihood:-986026.11\n",
      "2017-11-11 19:45:12 INFO:SupervisedLDA:[ITER] 14,\tMAE:0.08,\tlog_likelihood:-980648.03\n",
      "2017-11-11 19:45:20 INFO:SupervisedLDA:[ITER] 15,\tMAE:0.09,\tlog_likelihood:-978593.27\n",
      "2017-11-11 19:45:29 INFO:SupervisedLDA:[ITER] 16,\tMAE:0.09,\tlog_likelihood:-977028.47\n",
      "2017-11-11 19:45:38 INFO:SupervisedLDA:[ITER] 17,\tMAE:0.09,\tlog_likelihood:-975142.51\n",
      "2017-11-11 19:45:47 INFO:SupervisedLDA:[ITER] 18,\tMAE:0.09,\tlog_likelihood:-974758.06\n",
      "2017-11-11 19:50:12 INFO:SupervisedLDA:[ITER] 46,\tMAE:0.08,\tlog_likelihood:-954540.14\n",
      "2017-11-11 19:50:22 INFO:SupervisedLDA:[ITER] 47,\tMAE:0.08,\tlog_likelihood:-954232.94\n",
      "2017-11-11 19:50:32 INFO:SupervisedLDA:[ITER] 48,\tMAE:0.08,\tlog_likelihood:-952474.63\n",
      "2017-11-11 19:50:41 INFO:SupervisedLDA:[ITER] 49,\tMAE:0.08,\tlog_likelihood:-952360.92\n",
      "2017-11-11 19:50:51 INFO:SupervisedLDA:[ITER] 50,\tMAE:0.08,\tlog_likelihood:-953415.19\n",
      "2017-11-11 19:58:07 INFO:SupervisedLDA:[ITER] 99,\tMAE:0.08,\tlog_likelihood:-943800.65\n"
     ]
    }
   ],
   "source": [
    "n_topic = 50\n",
    "r_var = 0.01\n",
    "\n",
    "model = GibbsSupervisedLDA(n_doc, n_voca, n_topic, sigma=r_var)\n",
    "model.fit(corpus, ratings)"
   ]
  },
  {
   "cell_type": "code",
   "execution_count": 5,
   "metadata": {
    "collapsed": false
   },
   "outputs": [
    {
     "name": "stdout",
     "output_type": "stream",
     "text": [
      "Eta -0.234767820987 Topic 34 :\t bad,could,anything,get,never,movie,another,go,ca,script\n",
      "Eta -0.214572023979 Topic 41 :\t could,would,get,made,might,anything,many,good,look,never\n",
      "Eta -0.160506173159 Topic 38 :\t got,far,time,right,way,every,making,part,dull,guess\n",
      "Eta 0.0219171933193 Topic 49 :\t found,still,subject,intellectual,becomes,sense,tension,fine,talk,century\n",
      "Eta 0.0419401650241 Topic 10 :\t make,action,good,everything,acting,made,funny,dialogue,script,place\n",
      "Eta 0.0764470841209 Topic 27 :\t entertainment,value,lot,theme,violent,red,take,mostly,many,easy\n",
      "Eta 0.128975547132 Topic 21 :\t much,part,might,great,bad,getting,two,away,audience,least\n",
      "Eta 0.159533085017 Topic 36 :\t done,time,manner,dialogue,never,version,great,production,feeling,right\n",
      "Eta 0.184797336584 Topic 44 :\t opera,long,interesting,soap,go,telling,picture,chance,different,offering\n",
      "Eta 0.210652963064 Topic 31 :\t director,enough,done,many,shown,money,movie,must,give,blood\n",
      "Eta 0.232820782727 Topic 37 :\t good,look,everything,looking,also,romance,tale,new,thriller,find\n",
      "Eta 0.260212275042 Topic 11 :\t comedy,black,satire,comic,humor,love,going,cast,main,romantic\n",
      "Eta 0.339720354837 Topic 30 :\t mystery,thriller,suspense,plot,role,usual,give,horror,atmosphere,john\n",
      "Eta 0.346229992245 Topic 39 :\t role,case,watch,long,sense,back,problem,experience,well,type\n",
      "Eta 0.35836129898 Topic 28 :\t good,believe,without,go,god,church,back,interesting,still,much\n",
      "Eta 0.381319468906 Topic 23 :\t funny,also,way,think,humor,character,good,see,comedy,still\n",
      "Eta 0.384113637482 Topic 6 :\t special,make,movie,see,effects,would,first,something,though,horror\n",
      "Eta 0.396933018793 Topic 32 :\t director,scene,time,able,part,interesting,shot,interest,acting,set\n",
      "Eta 0.404554661869 Topic 5 :\t really,enough,way,could,something,much,movie,time,since,seem\n",
      "Eta 0.425037264045 Topic 33 :\t musical,music,best,french,dance,way,song,dancing,great,lively\n",
      "Eta 0.457287458236 Topic 22 :\t love,made,much,life,though,part,modern,times,acting,kind\n",
      "Eta 0.490046516159 Topic 40 :\t many,something,people,us,good,could,times,might,instead,small\n",
      "Eta 0.535690662439 Topic 14 :\t make,movie,great,would,work,comes,though,really,mark,audience\n",
      "Eta 0.544370355785 Topic 7 :\t get,really,anything,seeing,life,feel,difficult,see,enough,emotional\n",
      "Eta 0.545175280796 Topic 8 :\t killer,two,movie,together,couple,script,serial,though,best,ca\n",
      "Eta 0.565327709237 Topic 45 :\t almost,joan,making,sense,two,easily,care,lot,someone,person\n",
      "Eta 0.567068916427 Topic 12 :\t would,made,still,main,audience,goes,music,man,subject,felt\n",
      "Eta 0.580004732236 Topic 24 :\t could,showing,see,house,come,life,say,psychological,going,city\n",
      "Eta 0.588440544275 Topic 25 :\t noir,character,dark,gave,role,hero,also,study,genre,protagonist\n",
      "Eta 0.589570607942 Topic 17 :\t much,also,best,camera,thought,together,two,work,added,every\n",
      "Eta 0.594475657781 Topic 16 :\t western,artist,good,man,scene,action,art,pleasing,plenty,still\n",
      "Eta 0.598417849919 Topic 26 :\t war,men,made,sides,place,show,battle,submarine,military,performance\n",
      "Eta 0.607731679912 Topic 35 :\t message,world,audience,political,people,point,showing,time,public,country\n",
      "Eta 0.635974893904 Topic 15 :\t sex,culture,first,seem,comes,sexual,play,performance,direction,sense\n",
      "Eta 0.64483388889 Topic 3 :\t noir,shot,dark,made,ending,feel,style,city,mood,little\n",
      "Eta 0.646089932446 Topic 19 :\t love,tale,director,hollywood,get,much,make,could,never,away\n",
      "Eta 0.65050684023 Topic 48 :\t way,make,see,though,life,know,family,might,someone,real\n",
      "Eta 0.66143777888 Topic 1 :\t hollywood,action,role,say,star,get,office,certain,original,come\n",
      "Eta 0.686787742783 Topic 46 :\t sense,think,thing,would,much,something,new,better,saying,feeling\n",
      "Eta 0.709956673591 Topic 9 :\t director,political,never,right,making,bad,without,taken,seen,plot\n",
      "Eta 0.712450862064 Topic 29 :\t something,violence,way,say,many,get,society,think,everyone,point\n",
      "Eta 0.735116092694 Topic 13 :\t character,performance,real,someone,also,without,director,work,well,interesting\n",
      "Eta 0.779470138429 Topic 42 :\t much,work,though,works,yet,well,rather,would,odd,make\n",
      "Eta 0.80049939286 Topic 18 :\t many,better,movie,look,way,last,white,directed,book,mood\n",
      "Eta 0.891479893452 Topic 47 :\t way,also,two,making,good,fun,much,scene,seem,romantic\n",
      "Eta 0.900176187326 Topic 0 :\t could,made,used,seen,violence,man,different,cast,scene,john\n",
      "Eta 1.0136094881 Topic 43 :\t people,us,human,see,history,part,right,point,message,place\n",
      "Eta 1.05242575044 Topic 2 :\t american,might,also,director,work,take,much,always,society,america\n",
      "Eta 1.50749544462 Topic 20 :\t screen,might,see,masterpiece,way,work,version,must,better,well\n",
      "Eta 1.8658611489 Topic 4 :\t many,great,life,performance,best,look,something,way,see,theme\n"
     ]
    }
   ],
   "source": [
    "for ti in model.eta.argsort():\n",
    "    top_words = get_top_words(model.TW, voca, ti, n_words=10)\n",
    "    print('Eta', model.eta[ti] ,'Topic', ti ,':\\t', ','.join(top_words))"
   ]
  },
  {
   "cell_type": "markdown",
   "metadata": {},
   "source": [
    "**The review about one movie, so the topics does not seem to be clearly distinguishable. At least, however, the most negative topics contain words such as `bad`, `never`, and `dull`. And the most positive topics contain word like `great`, `best`, and `masterpeice`.**"
   ]
  },
  {
   "cell_type": "code",
   "execution_count": null,
   "metadata": {
    "collapsed": true
   },
   "outputs": [],
   "source": []
  }
 ],
 "metadata": {
  "kernelspec": {
   "display_name": "Python 3",
   "language": "python",
   "name": "python3"
  },
  "language_info": {
   "codemirror_mode": {
    "name": "ipython",
    "version": 3
   },
   "file_extension": ".py",
   "mimetype": "text/x-python",
   "name": "python",
   "nbconvert_exporter": "python",
   "pygments_lexer": "ipython3",
   "version": "3.4.3"
  },
  "toc": {
   "toc_cell": true,
   "toc_number_sections": true,
   "toc_threshold": 4,
   "toc_window_display": true
  }
 },
 "nbformat": 4,
 "nbformat_minor": 0
}
