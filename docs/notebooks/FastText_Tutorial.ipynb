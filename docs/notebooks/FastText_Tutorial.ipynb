{
 "cells": [
  {
   "cell_type": "markdown",
   "metadata": {},
   "source": [
    "# Using FastText via Gensim"
   ]
  },
  {
   "cell_type": "markdown",
   "metadata": {},
   "source": [
    "This tutorial is about using [fastText](https://github.com/facebookresearch/fastText) model in Gensim. There are two ways you can use fastText in Gensim - Gensim's native implementation of fastText and Gensim wrapper for fastText's original C++ code. Here, we'll learn to work with fastText library for training word-embedding models, saving & loading them and performing similarity operations & vector lookups analogous to Word2Vec."
   ]
  },
  {
   "cell_type": "markdown",
   "metadata": {},
   "source": [
    "## When to use FastText?\n",
    "The main principle behind fastText is that the morphological structure of a word carries important information about the meaning of the word, which is not taken into account by traditional word embeddings, which train a unique word embedding for every individual word. This is especially significant for morphologically rich languages (German, Turkish) in which a single word can have a large number of morphological forms, each of which might occur rarely, thus making it hard to train good word embeddings.  \n",
    "fastText attempts to solve this by treating each word as the aggregation of its subwords. For the sake of simplicity and language-independence, subwords are taken to be the character ngrams of the word. The vector for a word is simply taken to be the sum of all vectors of its component char-ngrams.  \n",
    "According to a detailed comparison of Word2Vec and FastText in [this notebook](Word2Vec_FastText_Comparison.ipynb), fastText does significantly better on syntactic tasks as compared to the original Word2Vec, especially when the size of the training corpus is small. Word2Vec slightly outperforms FastText on semantic tasks though. The differences grow smaller as the size of training corpus increases.\n",
    "Training time for fastText is significantly higher than the Gensim version of Word2Vec (`15min 42s` vs `6min 42s` on text8, 17 mil tokens, 5 epochs, and a vector size of 100).  \n",
    "fastText can be used to obtain vectors for out-of-vocabulary (OOV) words, by summing up vectors for its component char-ngrams, provided at least one of the char-ngrams was present in the training data."
   ]
  },
  {
   "cell_type": "markdown",
   "metadata": {},
   "source": [
    "## Training models"
   ]
  },
  {
   "cell_type": "markdown",
   "metadata": {},
   "source": [
    "For the following examples, we'll use the Lee Corpus (which you already have if you've installed gensim) for training our model.\n",
    "\n",
    "For using the wrapper for fastText, you need to have fastText setup locally to be able to train models. See [installation instructions for fastText](https://github.com/facebookresearch/fastText/#requirements) if you don't have fastText installed already."
   ]
  },
  {
   "cell_type": "markdown",
   "metadata": {},
   "source": [
    "### Using Gensim's implementation of fastText"
   ]
  },
  {
   "cell_type": "code",
   "execution_count": 1,
   "metadata": {},
   "outputs": [
    {
     "name": "stderr",
     "output_type": "stream",
     "text": [
      "Using TensorFlow backend.\n"
     ]
    },
    {
     "name": "stdout",
     "output_type": "stream",
     "text": [
      "FastText(vocab=1763, size=100, alpha=0.025)\n"
     ]
    }
   ],
   "source": [
    "import gensim\n",
    "import os\n",
    "from gensim.models.word2vec import LineSentence\n",
    "from gensim.models.fasttext import FastText as FT_gensim\n",
    "\n",
    "# Set file names for train and test data\n",
    "data_dir = '{}'.format(os.sep).join([gensim.__path__[0], 'test', 'test_data']) + os.sep\n",
    "lee_train_file = data_dir + 'lee_background.cor'\n",
    "lee_data = LineSentence(lee_train_file)\n",
    "\n",
    "model_gensim = FT_gensim(size=100)\n",
    "\n",
    "# build the vocabulary\n",
    "model_gensim.build_vocab(lee_data)\n",
    "\n",
    "# train the model\n",
    "model_gensim.train(lee_data, total_examples=model_gensim.corpus_count, epochs=model_gensim.iter)\n",
    "\n",
    "print(model_gensim)"
   ]
  },
  {
   "cell_type": "markdown",
   "metadata": {},
   "source": [
    "### Using wrapper for fastText's C++ code"
   ]
  },
  {
   "cell_type": "code",
   "execution_count": 2,
   "metadata": {},
   "outputs": [
    {
     "name": "stdout",
     "output_type": "stream",
     "text": [
      "FastText(vocab=1763, size=100, alpha=0.025)\n"
     ]
    }
   ],
   "source": [
    "from gensim.models.wrappers.fasttext import FastText as FT_wrapper\n",
    "\n",
    "# Set FastText home to the path to the FastText executable\n",
    "ft_home = '/home/chinmaya/GSOC/Gensim/fastText/fasttext'\n",
    "\n",
    "# train the model\n",
    "model_wrapper = FT_wrapper.train(ft_home, lee_train_file)\n",
    "\n",
    "print(model_wrapper)"
   ]
  },
  {
   "cell_type": "markdown",
   "metadata": {},
   "source": [
    "### Training hyperparameters"
   ]
  },
  {
   "cell_type": "markdown",
   "metadata": {},
   "source": [
    "Hyperparameters for training the model follow the same pattern as Word2Vec. FastText supports the following parameters from the original word2vec - \n",
    "     - model: Training architecture. Allowed values: `cbow`, `skipgram` (Default `cbow`)\n",
    "     - size: Size of embeddings to be learnt (Default 100)\n",
    "     - alpha: Initial learning rate (Default 0.025)\n",
    "     - window: Context window size (Default 5)\n",
    "     - min_count: Ignore words with number of occurrences below this (Default 5)\n",
    "     - loss: Training objective. Allowed values: `ns`, `hs`, `softmax` (Default `ns`)\n",
    "     - sample: Threshold for downsampling higher-frequency words (Default 0.001)\n",
    "     - negative: Number of negative words to sample, for `ns` (Default 5)\n",
    "     - iter: Number of epochs (Default 5)\n",
    "     - sorted_vocab: Sort vocab by descending frequency (Default 1)\n",
    "     - threads: Number of threads to use (Default 12)\n",
    "     \n",
    "In addition, FastText has three additional parameters - \n",
    "    - min_n: min length of char ngrams (Default 3)\n",
    "    - max_n: max length of char ngrams (Default 6)\n",
    "    - bucket: number of buckets used for hashing ngrams (Default 2000000)\n",
    "Parameters `min_n` and `max_n` control the lengths of character ngrams that each word is broken down into while training and looking up embeddings. If `max_n` is set to 0, or to be lesser than `min_n`, no character ngrams are used, and the model effectively reduces to Word2Vec.\n",
    "\n",
    "To bound the memory requirements of the model being trained, a hashing function is used that maps ngrams to integers in 1 to K. For hashing these character sequences, the [Fowler-Noll-Vo hashing function](http://www.isthe.com/chongo/tech/comp/fnv) (FNV-1a variant) is employed."
   ]
  },
  {
   "cell_type": "markdown",
   "metadata": {},
   "source": [
    "**Note:** As in the case of Word2Vec, you can continue to train your model while using Gensim's native implementation of fastText. However, continuation of training with fastText models while using the wrapper is not supported."
   ]
  },
  {
   "cell_type": "markdown",
   "metadata": {},
   "source": [
    "## Saving/loading models"
   ]
  },
  {
   "cell_type": "markdown",
   "metadata": {},
   "source": [
    "Models can be saved and loaded via the `load` and `save` methods."
   ]
  },
  {
   "cell_type": "code",
   "execution_count": 3,
   "metadata": {},
   "outputs": [
    {
     "name": "stdout",
     "output_type": "stream",
     "text": [
      "FastText(vocab=1763, size=100, alpha=0.025)\n",
      "FastText(vocab=1763, size=100, alpha=0.025)\n"
     ]
    }
   ],
   "source": [
    "# saving a model trained via Gensim's fastText implementation\n",
    "model_gensim.save('saved_model_gensim')\n",
    "loaded_model = FT_gensim.load('saved_model_gensim')\n",
    "print(loaded_model)\n",
    "\n",
    "# saving a model trained via fastText wrapper\n",
    "model_wrapper.save('saved_model_wrapper')\n",
    "loaded_model = FT_wrapper.load('saved_model_wrapper')\n",
    "print(loaded_model)"
   ]
  },
  {
   "cell_type": "markdown",
   "metadata": {},
   "source": [
    "The `save_word2vec_method` causes the vectors for ngrams to be lost. As a result, a model loaded in this way will behave as a regular word2vec model.  \n"
   ]
  },
  {
   "cell_type": "markdown",
   "metadata": {},
   "source": [
    "## Word vector lookup\n",
    "**Note:** Operations like word vector lookups and similarity queries can be performed in exactly the same manner for both the implementations of fastText so they have been demonstrated using only the fastText wrapper here.\n",
    "\n",
    "FastText models support vector lookups for out-of-vocabulary words by summing up character ngrams belonging to the word."
   ]
  },
  {
   "cell_type": "code",
   "execution_count": 4,
   "metadata": {},
   "outputs": [
    {
     "name": "stdout",
     "output_type": "stream",
     "text": [
      "True\n",
      "False\n",
      "[ 0.60971916  0.66131264  0.09225323  0.28898761  0.34161603  0.06163925\n",
      " -0.10147806 -0.18834428 -0.26355353  0.46417126  0.20428349  0.08414238\n",
      " -0.61960417 -0.2977576  -0.22102182  0.14144184  0.13698931 -0.24608244\n",
      " -0.58096874  0.3039414   0.18766184  0.38110724  0.11518024 -0.75747257\n",
      " -0.275776   -0.42740449 -0.00725944 -0.24556711  0.41061676  0.05050014\n",
      " -0.71367824  0.05223881 -0.07810796  0.22933683  0.43850809  0.06360656\n",
      "  0.43815458  0.11096461  0.29619065  0.38061273  0.26262566 -0.07368335\n",
      "  0.33198604 -0.1431711  -0.04876067 -0.35243919  0.18561274 -0.70321769\n",
      " -0.16492438 -0.28362423  0.08294757  0.49758917 -0.17844993 -0.02241638\n",
      "  0.18489315  0.01197879 -0.22931916  0.45774016 -0.40240806 -0.16401663\n",
      " -0.07500558  0.06775728  0.14273891  0.39902335  0.1906638   0.14533612\n",
      " -0.70275193 -0.64343351 -0.18003808  0.45082757 -0.42847934  0.23554228\n",
      "  0.03722449 -0.0726353  -0.20106563 -0.85182953  0.16529776  0.2167791\n",
      "  0.01655668 -0.45087481  0.44368106  0.94318634  0.3191022  -0.78148538\n",
      "  0.06931634 -0.02454508 -0.07709292  0.00889531  0.41768485 -0.4333123\n",
      "  0.57354093  0.40387386  0.50435936  0.15307237  0.41140166  0.09306428\n",
      " -0.6406759  -0.00130932  0.01818158  0.05408832]\n",
      "[ 0.57120456  0.61710706  0.08425266  0.28013577  0.30789921  0.08454974\n",
      " -0.05984595 -0.14644302 -0.23369177  0.42689164  0.18699257  0.09090185\n",
      " -0.57885733 -0.28756606 -0.20198511  0.12675938  0.14102744 -0.22880791\n",
      " -0.52516965  0.27686313  0.19865591  0.33872125  0.11230565 -0.74198454\n",
      " -0.28486362 -0.40490177 -0.00606945 -0.18761727  0.40040097  0.06941447\n",
      " -0.70890718  0.03646363 -0.0598574   0.19175974  0.4242314   0.05878129\n",
      "  0.41432344  0.10394377  0.2668701   0.38148809  0.2761937  -0.06951485\n",
      "  0.34113405 -0.12189032 -0.05861677 -0.33032765  0.16585448 -0.65862278\n",
      " -0.18381383 -0.28438907  0.08867586  0.46635329 -0.18801565 -0.01610042\n",
      "  0.1940661   0.03761584 -0.21442287  0.41826423 -0.38097134 -0.15111094\n",
      " -0.08636253  0.07374192  0.12731727  0.40068088  0.18576843  0.13244282\n",
      " -0.64814759 -0.62510144 -0.17045424  0.44949777 -0.39068545  0.19102012\n",
      "  0.03177847 -0.06673145 -0.17997442 -0.81052922  0.15459165  0.21476634\n",
      " -0.01961387 -0.43806009  0.40781115  0.88663652  0.29360816 -0.74157697\n",
      "  0.04686275 -0.0396045  -0.06810026  0.00260469  0.40505417 -0.39977569\n",
      "  0.5443192   0.38472273  0.48665705  0.12033045  0.40395209  0.10123577\n",
      " -0.6243847  -0.02460667  0.00828873  0.04089492]\n"
     ]
    }
   ],
   "source": [
    "print('night' in model_wrapper.wv.vocab)\n",
    "print('nights' in model_wrapper.wv.vocab)\n",
    "print(model_wrapper['night'])\n",
    "print(model_wrapper['nights'])"
   ]
  },
  {
   "cell_type": "markdown",
   "metadata": {},
   "source": [
    "The word vector lookup operation only works if at least one of the component character ngrams is present in the training corpus. For example -"
   ]
  },
  {
   "cell_type": "code",
   "execution_count": 5,
   "metadata": {},
   "outputs": [
    {
     "ename": "KeyError",
     "evalue": "'all ngrams for word axe absent from model'",
     "output_type": "error",
     "traceback": [
      "\u001b[0;31m---------------------------------------------------------------------------\u001b[0m",
      "\u001b[0;31mKeyError\u001b[0m                                  Traceback (most recent call last)",
      "\u001b[0;32m<ipython-input-5-6f1222595518>\u001b[0m in \u001b[0;36m<module>\u001b[0;34m()\u001b[0m\n\u001b[1;32m      1\u001b[0m \u001b[0;31m# Raises a KeyError since none of the character ngrams of the word `axe` are present in the training data\u001b[0m\u001b[0;34m\u001b[0m\u001b[0;34m\u001b[0m\u001b[0m\n\u001b[0;32m----> 2\u001b[0;31m \u001b[0mmodel_wrapper\u001b[0m\u001b[0;34m[\u001b[0m\u001b[0;34m'axe'\u001b[0m\u001b[0;34m]\u001b[0m\u001b[0;34m\u001b[0m\u001b[0m\n\u001b[0m",
      "\u001b[0;32m/home/chinmaya/GSOC/Gensim/gensim/gensim/models/word2vec.pyc\u001b[0m in \u001b[0;36m__getitem__\u001b[0;34m(self, words)\u001b[0m\n\u001b[1;32m   1280\u001b[0m         \u001b[0mRefer\u001b[0m \u001b[0mto\u001b[0m \u001b[0mthe\u001b[0m \u001b[0mdocumentation\u001b[0m \u001b[0;32mfor\u001b[0m \u001b[0;34m`\u001b[0m\u001b[0mgensim\u001b[0m\u001b[0;34m.\u001b[0m\u001b[0mmodels\u001b[0m\u001b[0;34m.\u001b[0m\u001b[0mKeyedVectors\u001b[0m\u001b[0;34m.\u001b[0m\u001b[0m__getitem__\u001b[0m\u001b[0;34m`\u001b[0m\u001b[0;34m\u001b[0m\u001b[0m\n\u001b[1;32m   1281\u001b[0m         \"\"\"\n\u001b[0;32m-> 1282\u001b[0;31m         \u001b[0;32mreturn\u001b[0m \u001b[0mself\u001b[0m\u001b[0;34m.\u001b[0m\u001b[0mwv\u001b[0m\u001b[0;34m.\u001b[0m\u001b[0m__getitem__\u001b[0m\u001b[0;34m(\u001b[0m\u001b[0mwords\u001b[0m\u001b[0;34m)\u001b[0m\u001b[0;34m\u001b[0m\u001b[0m\n\u001b[0m\u001b[1;32m   1283\u001b[0m \u001b[0;34m\u001b[0m\u001b[0m\n\u001b[1;32m   1284\u001b[0m     \u001b[0;32mdef\u001b[0m \u001b[0m__contains__\u001b[0m\u001b[0;34m(\u001b[0m\u001b[0mself\u001b[0m\u001b[0;34m,\u001b[0m \u001b[0mword\u001b[0m\u001b[0;34m)\u001b[0m\u001b[0;34m:\u001b[0m\u001b[0;34m\u001b[0m\u001b[0m\n",
      "\u001b[0;32m/home/chinmaya/GSOC/Gensim/gensim/gensim/models/keyedvectors.pyc\u001b[0m in \u001b[0;36m__getitem__\u001b[0;34m(self, words)\u001b[0m\n\u001b[1;32m    587\u001b[0m         \u001b[0;32mif\u001b[0m \u001b[0misinstance\u001b[0m\u001b[0;34m(\u001b[0m\u001b[0mwords\u001b[0m\u001b[0;34m,\u001b[0m \u001b[0mstring_types\u001b[0m\u001b[0;34m)\u001b[0m\u001b[0;34m:\u001b[0m\u001b[0;34m\u001b[0m\u001b[0m\n\u001b[1;32m    588\u001b[0m             \u001b[0;31m# allow calls like trained_model['office'], as a shorthand for trained_model[['office']]\u001b[0m\u001b[0;34m\u001b[0m\u001b[0;34m\u001b[0m\u001b[0m\n\u001b[0;32m--> 589\u001b[0;31m             \u001b[0;32mreturn\u001b[0m \u001b[0mself\u001b[0m\u001b[0;34m.\u001b[0m\u001b[0mword_vec\u001b[0m\u001b[0;34m(\u001b[0m\u001b[0mwords\u001b[0m\u001b[0;34m)\u001b[0m\u001b[0;34m\u001b[0m\u001b[0m\n\u001b[0m\u001b[1;32m    590\u001b[0m \u001b[0;34m\u001b[0m\u001b[0m\n\u001b[1;32m    591\u001b[0m         \u001b[0;32mreturn\u001b[0m \u001b[0mvstack\u001b[0m\u001b[0;34m(\u001b[0m\u001b[0;34m[\u001b[0m\u001b[0mself\u001b[0m\u001b[0;34m.\u001b[0m\u001b[0mword_vec\u001b[0m\u001b[0;34m(\u001b[0m\u001b[0mword\u001b[0m\u001b[0;34m)\u001b[0m \u001b[0;32mfor\u001b[0m \u001b[0mword\u001b[0m \u001b[0;32min\u001b[0m \u001b[0mwords\u001b[0m\u001b[0;34m]\u001b[0m\u001b[0;34m)\u001b[0m\u001b[0;34m\u001b[0m\u001b[0m\n",
      "\u001b[0;32m/home/chinmaya/GSOC/Gensim/gensim/gensim/models/wrappers/fasttext.pyc\u001b[0m in \u001b[0;36mword_vec\u001b[0;34m(self, word, use_norm)\u001b[0m\n\u001b[1;32m     92\u001b[0m                 \u001b[0;32mreturn\u001b[0m \u001b[0mword_vec\u001b[0m \u001b[0;34m/\u001b[0m \u001b[0mlen\u001b[0m\u001b[0;34m(\u001b[0m\u001b[0mngrams\u001b[0m\u001b[0;34m)\u001b[0m\u001b[0;34m\u001b[0m\u001b[0m\n\u001b[1;32m     93\u001b[0m             \u001b[0;32melse\u001b[0m\u001b[0;34m:\u001b[0m \u001b[0;31m# No ngrams of the word are present in self.ngrams\u001b[0m\u001b[0;34m\u001b[0m\u001b[0m\n\u001b[0;32m---> 94\u001b[0;31m                 \u001b[0;32mraise\u001b[0m \u001b[0mKeyError\u001b[0m\u001b[0;34m(\u001b[0m\u001b[0;34m'all ngrams for word %s absent from model'\u001b[0m \u001b[0;34m%\u001b[0m \u001b[0mword\u001b[0m\u001b[0;34m)\u001b[0m\u001b[0;34m\u001b[0m\u001b[0m\n\u001b[0m\u001b[1;32m     95\u001b[0m \u001b[0;34m\u001b[0m\u001b[0m\n\u001b[1;32m     96\u001b[0m     \u001b[0;32mdef\u001b[0m \u001b[0minit_sims\u001b[0m\u001b[0;34m(\u001b[0m\u001b[0mself\u001b[0m\u001b[0;34m,\u001b[0m \u001b[0mreplace\u001b[0m\u001b[0;34m=\u001b[0m\u001b[0mFalse\u001b[0m\u001b[0;34m)\u001b[0m\u001b[0;34m:\u001b[0m\u001b[0;34m\u001b[0m\u001b[0m\n",
      "\u001b[0;31mKeyError\u001b[0m: 'all ngrams for word axe absent from model'"
     ]
    }
   ],
   "source": [
    "# Raises a KeyError since none of the character ngrams of the word `axe` are present in the training data\n",
    "model_wrapper['axe']"
   ]
  },
  {
   "cell_type": "markdown",
   "metadata": {},
   "source": [
    "The `in` operation works slightly differently from the original word2vec. It tests whether a vector for the given word exists or not, not whether the word is present in the word vocabulary. To test whether a word is present in the training word vocabulary -"
   ]
  },
  {
   "cell_type": "code",
   "execution_count": 6,
   "metadata": {},
   "outputs": [
    {
     "name": "stdout",
     "output_type": "stream",
     "text": [
      "False\n",
      "True\n"
     ]
    }
   ],
   "source": [
    "# Tests if word present in vocab\n",
    "print(\"word\" in model_wrapper.wv.vocab)\n",
    "# Tests if vector present for word\n",
    "print(\"word\" in model_wrapper)"
   ]
  },
  {
   "cell_type": "markdown",
   "metadata": {},
   "source": [
    "## Similarity operations"
   ]
  },
  {
   "cell_type": "markdown",
   "metadata": {},
   "source": [
    "Similarity operations work the same way as word2vec. **Out-of-vocabulary words can also be used, provided they have at least one character ngram present in the training data.**"
   ]
  },
  {
   "cell_type": "code",
   "execution_count": 7,
   "metadata": {},
   "outputs": [
    {
     "name": "stdout",
     "output_type": "stream",
     "text": [
      "False\n",
      "True\n"
     ]
    },
    {
     "data": {
      "text/plain": [
       "0.9988949391617723"
      ]
     },
     "execution_count": 7,
     "metadata": {},
     "output_type": "execute_result"
    }
   ],
   "source": [
    "print(\"nights\" in model_wrapper.wv.vocab)\n",
    "print(\"night\" in model_wrapper.wv.vocab)\n",
    "model_wrapper.similarity(\"night\", \"nights\")"
   ]
  },
  {
   "cell_type": "markdown",
   "metadata": {},
   "source": [
    "Syntactically similar words generally have high similarity in fastText models, since a large number of the component char-ngrams will be the same. As a result, fastText generally does better at syntactic tasks than Word2Vec. A detailed comparison is provided [here](Word2Vec_FastText_Comparison.ipynb)."
   ]
  },
  {
   "cell_type": "markdown",
   "metadata": {},
   "source": [
    "### Other similarity operations"
   ]
  },
  {
   "cell_type": "code",
   "execution_count": 8,
   "metadata": {},
   "outputs": [
    {
     "data": {
      "text/plain": [
       "[(u'bowler', 0.9999216198921204),\n",
       " (u'flights', 0.999881386756897),\n",
       " (u'dozens', 0.9998700618743896),\n",
       " (u'each', 0.9998670220375061),\n",
       " (u'weather', 0.9998487234115601),\n",
       " (u'technology', 0.999805748462677),\n",
       " (u'acting', 0.9998006820678711),\n",
       " (u'dollars', 0.999785840511322),\n",
       " (u'place,', 0.9997731447219849),\n",
       " (u'custody', 0.9997485280036926)]"
      ]
     },
     "execution_count": 8,
     "metadata": {},
     "output_type": "execute_result"
    }
   ],
   "source": [
    "# The example training corpus is a toy corpus, results are not expected to be good, for proof-of-concept only\n",
    "model_wrapper.most_similar(\"nights\")"
   ]
  },
  {
   "cell_type": "code",
   "execution_count": 9,
   "metadata": {},
   "outputs": [
    {
     "data": {
      "text/plain": [
       "0.99936318443348537"
      ]
     },
     "execution_count": 9,
     "metadata": {},
     "output_type": "execute_result"
    }
   ],
   "source": [
    "model_wrapper.n_similarity(['sushi', 'shop'], ['japanese', 'restaurant'])"
   ]
  },
  {
   "cell_type": "code",
   "execution_count": 10,
   "metadata": {},
   "outputs": [
    {
     "data": {
      "text/plain": [
       "'dinner'"
      ]
     },
     "execution_count": 10,
     "metadata": {},
     "output_type": "execute_result"
    }
   ],
   "source": [
    "model_wrapper.doesnt_match(\"breakfast cereal dinner lunch\".split())"
   ]
  },
  {
   "cell_type": "code",
   "execution_count": 11,
   "metadata": {},
   "outputs": [
    {
     "data": {
      "text/plain": [
       "[(u'September', 0.9997114539146423),\n",
       " (u'Rafter', 0.9996863007545471),\n",
       " (u'New', 0.999636709690094),\n",
       " (u'after', 0.9996317625045776),\n",
       " (u'day', 0.9996190071105957),\n",
       " (u'After', 0.9996107816696167),\n",
       " (u'against', 0.9996088743209839),\n",
       " (u'Robert', 0.9996023178100586),\n",
       " (u'attacks', 0.9995726346969604),\n",
       " (u'States', 0.9995641112327576)]"
      ]
     },
     "execution_count": 11,
     "metadata": {},
     "output_type": "execute_result"
    }
   ],
   "source": [
    "model_wrapper.most_similar(positive=['baghdad', 'england'], negative=['london'])"
   ]
  },
  {
   "cell_type": "code",
   "execution_count": 12,
   "metadata": {},
   "outputs": [
    {
     "name": "stdout",
     "output_type": "stream",
     "text": [
      "family: 0.0% (0/2)\n",
      "gram3-comparative: 0.0% (0/12)\n",
      "gram4-superlative: 0.0% (0/12)\n",
      "gram5-present-participle: 0.0% (0/20)\n",
      "gram6-nationality-adjective: 0.0% (0/20)\n",
      "gram7-past-tense: 0.0% (0/20)\n",
      "gram8-plural: 0.0% (0/12)\n",
      "total: 0.0% (0/98)\n"
     ]
    },
    {
     "data": {
      "text/plain": [
       "[{'correct': [], 'incorrect': [], 'section': u'capital-common-countries'},\n",
       " {'correct': [], 'incorrect': [], 'section': u'capital-world'},\n",
       " {'correct': [], 'incorrect': [], 'section': u'currency'},\n",
       " {'correct': [], 'incorrect': [], 'section': u'city-in-state'},\n",
       " {'correct': [],\n",
       "  'incorrect': [(u'HE', u'SHE', u'HIS', u'HER'),\n",
       "   (u'HIS', u'HER', u'HE', u'SHE')],\n",
       "  'section': u'family'},\n",
       " {'correct': [], 'incorrect': [], 'section': u'gram1-adjective-to-adverb'},\n",
       " {'correct': [], 'incorrect': [], 'section': u'gram2-opposite'},\n",
       " {'correct': [],\n",
       "  'incorrect': [(u'GOOD', u'BETTER', u'GREAT', u'GREATER'),\n",
       "   (u'GOOD', u'BETTER', u'LONG', u'LONGER'),\n",
       "   (u'GOOD', u'BETTER', u'LOW', u'LOWER'),\n",
       "   (u'GREAT', u'GREATER', u'LONG', u'LONGER'),\n",
       "   (u'GREAT', u'GREATER', u'LOW', u'LOWER'),\n",
       "   (u'GREAT', u'GREATER', u'GOOD', u'BETTER'),\n",
       "   (u'LONG', u'LONGER', u'LOW', u'LOWER'),\n",
       "   (u'LONG', u'LONGER', u'GOOD', u'BETTER'),\n",
       "   (u'LONG', u'LONGER', u'GREAT', u'GREATER'),\n",
       "   (u'LOW', u'LOWER', u'GOOD', u'BETTER'),\n",
       "   (u'LOW', u'LOWER', u'GREAT', u'GREATER'),\n",
       "   (u'LOW', u'LOWER', u'LONG', u'LONGER')],\n",
       "  'section': u'gram3-comparative'},\n",
       " {'correct': [],\n",
       "  'incorrect': [(u'BIG', u'BIGGEST', u'GOOD', u'BEST'),\n",
       "   (u'BIG', u'BIGGEST', u'GREAT', u'GREATEST'),\n",
       "   (u'BIG', u'BIGGEST', u'LARGE', u'LARGEST'),\n",
       "   (u'GOOD', u'BEST', u'GREAT', u'GREATEST'),\n",
       "   (u'GOOD', u'BEST', u'LARGE', u'LARGEST'),\n",
       "   (u'GOOD', u'BEST', u'BIG', u'BIGGEST'),\n",
       "   (u'GREAT', u'GREATEST', u'LARGE', u'LARGEST'),\n",
       "   (u'GREAT', u'GREATEST', u'BIG', u'BIGGEST'),\n",
       "   (u'GREAT', u'GREATEST', u'GOOD', u'BEST'),\n",
       "   (u'LARGE', u'LARGEST', u'BIG', u'BIGGEST'),\n",
       "   (u'LARGE', u'LARGEST', u'GOOD', u'BEST'),\n",
       "   (u'LARGE', u'LARGEST', u'GREAT', u'GREATEST')],\n",
       "  'section': u'gram4-superlative'},\n",
       " {'correct': [],\n",
       "  'incorrect': [(u'GO', u'GOING', u'LOOK', u'LOOKING'),\n",
       "   (u'GO', u'GOING', u'PLAY', u'PLAYING'),\n",
       "   (u'GO', u'GOING', u'RUN', u'RUNNING'),\n",
       "   (u'GO', u'GOING', u'SAY', u'SAYING'),\n",
       "   (u'LOOK', u'LOOKING', u'PLAY', u'PLAYING'),\n",
       "   (u'LOOK', u'LOOKING', u'RUN', u'RUNNING'),\n",
       "   (u'LOOK', u'LOOKING', u'SAY', u'SAYING'),\n",
       "   (u'LOOK', u'LOOKING', u'GO', u'GOING'),\n",
       "   (u'PLAY', u'PLAYING', u'RUN', u'RUNNING'),\n",
       "   (u'PLAY', u'PLAYING', u'SAY', u'SAYING'),\n",
       "   (u'PLAY', u'PLAYING', u'GO', u'GOING'),\n",
       "   (u'PLAY', u'PLAYING', u'LOOK', u'LOOKING'),\n",
       "   (u'RUN', u'RUNNING', u'SAY', u'SAYING'),\n",
       "   (u'RUN', u'RUNNING', u'GO', u'GOING'),\n",
       "   (u'RUN', u'RUNNING', u'LOOK', u'LOOKING'),\n",
       "   (u'RUN', u'RUNNING', u'PLAY', u'PLAYING'),\n",
       "   (u'SAY', u'SAYING', u'GO', u'GOING'),\n",
       "   (u'SAY', u'SAYING', u'LOOK', u'LOOKING'),\n",
       "   (u'SAY', u'SAYING', u'PLAY', u'PLAYING'),\n",
       "   (u'SAY', u'SAYING', u'RUN', u'RUNNING')],\n",
       "  'section': u'gram5-present-participle'},\n",
       " {'correct': [],\n",
       "  'incorrect': [(u'AUSTRALIA', u'AUSTRALIAN', u'FRANCE', u'FRENCH'),\n",
       "   (u'AUSTRALIA', u'AUSTRALIAN', u'INDIA', u'INDIAN'),\n",
       "   (u'AUSTRALIA', u'AUSTRALIAN', u'ISRAEL', u'ISRAELI'),\n",
       "   (u'AUSTRALIA', u'AUSTRALIAN', u'SWITZERLAND', u'SWISS'),\n",
       "   (u'FRANCE', u'FRENCH', u'INDIA', u'INDIAN'),\n",
       "   (u'FRANCE', u'FRENCH', u'ISRAEL', u'ISRAELI'),\n",
       "   (u'FRANCE', u'FRENCH', u'SWITZERLAND', u'SWISS'),\n",
       "   (u'FRANCE', u'FRENCH', u'AUSTRALIA', u'AUSTRALIAN'),\n",
       "   (u'INDIA', u'INDIAN', u'ISRAEL', u'ISRAELI'),\n",
       "   (u'INDIA', u'INDIAN', u'SWITZERLAND', u'SWISS'),\n",
       "   (u'INDIA', u'INDIAN', u'AUSTRALIA', u'AUSTRALIAN'),\n",
       "   (u'INDIA', u'INDIAN', u'FRANCE', u'FRENCH'),\n",
       "   (u'ISRAEL', u'ISRAELI', u'SWITZERLAND', u'SWISS'),\n",
       "   (u'ISRAEL', u'ISRAELI', u'AUSTRALIA', u'AUSTRALIAN'),\n",
       "   (u'ISRAEL', u'ISRAELI', u'FRANCE', u'FRENCH'),\n",
       "   (u'ISRAEL', u'ISRAELI', u'INDIA', u'INDIAN'),\n",
       "   (u'SWITZERLAND', u'SWISS', u'AUSTRALIA', u'AUSTRALIAN'),\n",
       "   (u'SWITZERLAND', u'SWISS', u'FRANCE', u'FRENCH'),\n",
       "   (u'SWITZERLAND', u'SWISS', u'INDIA', u'INDIAN'),\n",
       "   (u'SWITZERLAND', u'SWISS', u'ISRAEL', u'ISRAELI')],\n",
       "  'section': u'gram6-nationality-adjective'},\n",
       " {'correct': [],\n",
       "  'incorrect': [(u'GOING', u'WENT', u'PAYING', u'PAID'),\n",
       "   (u'GOING', u'WENT', u'PLAYING', u'PLAYED'),\n",
       "   (u'GOING', u'WENT', u'SAYING', u'SAID'),\n",
       "   (u'GOING', u'WENT', u'TAKING', u'TOOK'),\n",
       "   (u'PAYING', u'PAID', u'PLAYING', u'PLAYED'),\n",
       "   (u'PAYING', u'PAID', u'SAYING', u'SAID'),\n",
       "   (u'PAYING', u'PAID', u'TAKING', u'TOOK'),\n",
       "   (u'PAYING', u'PAID', u'GOING', u'WENT'),\n",
       "   (u'PLAYING', u'PLAYED', u'SAYING', u'SAID'),\n",
       "   (u'PLAYING', u'PLAYED', u'TAKING', u'TOOK'),\n",
       "   (u'PLAYING', u'PLAYED', u'GOING', u'WENT'),\n",
       "   (u'PLAYING', u'PLAYED', u'PAYING', u'PAID'),\n",
       "   (u'SAYING', u'SAID', u'TAKING', u'TOOK'),\n",
       "   (u'SAYING', u'SAID', u'GOING', u'WENT'),\n",
       "   (u'SAYING', u'SAID', u'PAYING', u'PAID'),\n",
       "   (u'SAYING', u'SAID', u'PLAYING', u'PLAYED'),\n",
       "   (u'TAKING', u'TOOK', u'GOING', u'WENT'),\n",
       "   (u'TAKING', u'TOOK', u'PAYING', u'PAID'),\n",
       "   (u'TAKING', u'TOOK', u'PLAYING', u'PLAYED'),\n",
       "   (u'TAKING', u'TOOK', u'SAYING', u'SAID')],\n",
       "  'section': u'gram7-past-tense'},\n",
       " {'correct': [],\n",
       "  'incorrect': [(u'BUILDING', u'BUILDINGS', u'CAR', u'CARS'),\n",
       "   (u'BUILDING', u'BUILDINGS', u'CHILD', u'CHILDREN'),\n",
       "   (u'BUILDING', u'BUILDINGS', u'MAN', u'MEN'),\n",
       "   (u'CAR', u'CARS', u'CHILD', u'CHILDREN'),\n",
       "   (u'CAR', u'CARS', u'MAN', u'MEN'),\n",
       "   (u'CAR', u'CARS', u'BUILDING', u'BUILDINGS'),\n",
       "   (u'CHILD', u'CHILDREN', u'MAN', u'MEN'),\n",
       "   (u'CHILD', u'CHILDREN', u'BUILDING', u'BUILDINGS'),\n",
       "   (u'CHILD', u'CHILDREN', u'CAR', u'CARS'),\n",
       "   (u'MAN', u'MEN', u'BUILDING', u'BUILDINGS'),\n",
       "   (u'MAN', u'MEN', u'CAR', u'CARS'),\n",
       "   (u'MAN', u'MEN', u'CHILD', u'CHILDREN')],\n",
       "  'section': u'gram8-plural'},\n",
       " {'correct': [], 'incorrect': [], 'section': u'gram9-plural-verbs'},\n",
       " {'correct': [],\n",
       "  'incorrect': [(u'HE', u'SHE', u'HIS', u'HER'),\n",
       "   (u'HIS', u'HER', u'HE', u'SHE'),\n",
       "   (u'GOOD', u'BETTER', u'GREAT', u'GREATER'),\n",
       "   (u'GOOD', u'BETTER', u'LONG', u'LONGER'),\n",
       "   (u'GOOD', u'BETTER', u'LOW', u'LOWER'),\n",
       "   (u'GREAT', u'GREATER', u'LONG', u'LONGER'),\n",
       "   (u'GREAT', u'GREATER', u'LOW', u'LOWER'),\n",
       "   (u'GREAT', u'GREATER', u'GOOD', u'BETTER'),\n",
       "   (u'LONG', u'LONGER', u'LOW', u'LOWER'),\n",
       "   (u'LONG', u'LONGER', u'GOOD', u'BETTER'),\n",
       "   (u'LONG', u'LONGER', u'GREAT', u'GREATER'),\n",
       "   (u'LOW', u'LOWER', u'GOOD', u'BETTER'),\n",
       "   (u'LOW', u'LOWER', u'GREAT', u'GREATER'),\n",
       "   (u'LOW', u'LOWER', u'LONG', u'LONGER'),\n",
       "   (u'BIG', u'BIGGEST', u'GOOD', u'BEST'),\n",
       "   (u'BIG', u'BIGGEST', u'GREAT', u'GREATEST'),\n",
       "   (u'BIG', u'BIGGEST', u'LARGE', u'LARGEST'),\n",
       "   (u'GOOD', u'BEST', u'GREAT', u'GREATEST'),\n",
       "   (u'GOOD', u'BEST', u'LARGE', u'LARGEST'),\n",
       "   (u'GOOD', u'BEST', u'BIG', u'BIGGEST'),\n",
       "   (u'GREAT', u'GREATEST', u'LARGE', u'LARGEST'),\n",
       "   (u'GREAT', u'GREATEST', u'BIG', u'BIGGEST'),\n",
       "   (u'GREAT', u'GREATEST', u'GOOD', u'BEST'),\n",
       "   (u'LARGE', u'LARGEST', u'BIG', u'BIGGEST'),\n",
       "   (u'LARGE', u'LARGEST', u'GOOD', u'BEST'),\n",
       "   (u'LARGE', u'LARGEST', u'GREAT', u'GREATEST'),\n",
       "   (u'GO', u'GOING', u'LOOK', u'LOOKING'),\n",
       "   (u'GO', u'GOING', u'PLAY', u'PLAYING'),\n",
       "   (u'GO', u'GOING', u'RUN', u'RUNNING'),\n",
       "   (u'GO', u'GOING', u'SAY', u'SAYING'),\n",
       "   (u'LOOK', u'LOOKING', u'PLAY', u'PLAYING'),\n",
       "   (u'LOOK', u'LOOKING', u'RUN', u'RUNNING'),\n",
       "   (u'LOOK', u'LOOKING', u'SAY', u'SAYING'),\n",
       "   (u'LOOK', u'LOOKING', u'GO', u'GOING'),\n",
       "   (u'PLAY', u'PLAYING', u'RUN', u'RUNNING'),\n",
       "   (u'PLAY', u'PLAYING', u'SAY', u'SAYING'),\n",
       "   (u'PLAY', u'PLAYING', u'GO', u'GOING'),\n",
       "   (u'PLAY', u'PLAYING', u'LOOK', u'LOOKING'),\n",
       "   (u'RUN', u'RUNNING', u'SAY', u'SAYING'),\n",
       "   (u'RUN', u'RUNNING', u'GO', u'GOING'),\n",
       "   (u'RUN', u'RUNNING', u'LOOK', u'LOOKING'),\n",
       "   (u'RUN', u'RUNNING', u'PLAY', u'PLAYING'),\n",
       "   (u'SAY', u'SAYING', u'GO', u'GOING'),\n",
       "   (u'SAY', u'SAYING', u'LOOK', u'LOOKING'),\n",
       "   (u'SAY', u'SAYING', u'PLAY', u'PLAYING'),\n",
       "   (u'SAY', u'SAYING', u'RUN', u'RUNNING'),\n",
       "   (u'AUSTRALIA', u'AUSTRALIAN', u'FRANCE', u'FRENCH'),\n",
       "   (u'AUSTRALIA', u'AUSTRALIAN', u'INDIA', u'INDIAN'),\n",
       "   (u'AUSTRALIA', u'AUSTRALIAN', u'ISRAEL', u'ISRAELI'),\n",
       "   (u'AUSTRALIA', u'AUSTRALIAN', u'SWITZERLAND', u'SWISS'),\n",
       "   (u'FRANCE', u'FRENCH', u'INDIA', u'INDIAN'),\n",
       "   (u'FRANCE', u'FRENCH', u'ISRAEL', u'ISRAELI'),\n",
       "   (u'FRANCE', u'FRENCH', u'SWITZERLAND', u'SWISS'),\n",
       "   (u'FRANCE', u'FRENCH', u'AUSTRALIA', u'AUSTRALIAN'),\n",
       "   (u'INDIA', u'INDIAN', u'ISRAEL', u'ISRAELI'),\n",
       "   (u'INDIA', u'INDIAN', u'SWITZERLAND', u'SWISS'),\n",
       "   (u'INDIA', u'INDIAN', u'AUSTRALIA', u'AUSTRALIAN'),\n",
       "   (u'INDIA', u'INDIAN', u'FRANCE', u'FRENCH'),\n",
       "   (u'ISRAEL', u'ISRAELI', u'SWITZERLAND', u'SWISS'),\n",
       "   (u'ISRAEL', u'ISRAELI', u'AUSTRALIA', u'AUSTRALIAN'),\n",
       "   (u'ISRAEL', u'ISRAELI', u'FRANCE', u'FRENCH'),\n",
       "   (u'ISRAEL', u'ISRAELI', u'INDIA', u'INDIAN'),\n",
       "   (u'SWITZERLAND', u'SWISS', u'AUSTRALIA', u'AUSTRALIAN'),\n",
       "   (u'SWITZERLAND', u'SWISS', u'FRANCE', u'FRENCH'),\n",
       "   (u'SWITZERLAND', u'SWISS', u'INDIA', u'INDIAN'),\n",
       "   (u'SWITZERLAND', u'SWISS', u'ISRAEL', u'ISRAELI'),\n",
       "   (u'GOING', u'WENT', u'PAYING', u'PAID'),\n",
       "   (u'GOING', u'WENT', u'PLAYING', u'PLAYED'),\n",
       "   (u'GOING', u'WENT', u'SAYING', u'SAID'),\n",
       "   (u'GOING', u'WENT', u'TAKING', u'TOOK'),\n",
       "   (u'PAYING', u'PAID', u'PLAYING', u'PLAYED'),\n",
       "   (u'PAYING', u'PAID', u'SAYING', u'SAID'),\n",
       "   (u'PAYING', u'PAID', u'TAKING', u'TOOK'),\n",
       "   (u'PAYING', u'PAID', u'GOING', u'WENT'),\n",
       "   (u'PLAYING', u'PLAYED', u'SAYING', u'SAID'),\n",
       "   (u'PLAYING', u'PLAYED', u'TAKING', u'TOOK'),\n",
       "   (u'PLAYING', u'PLAYED', u'GOING', u'WENT'),\n",
       "   (u'PLAYING', u'PLAYED', u'PAYING', u'PAID'),\n",
       "   (u'SAYING', u'SAID', u'TAKING', u'TOOK'),\n",
       "   (u'SAYING', u'SAID', u'GOING', u'WENT'),\n",
       "   (u'SAYING', u'SAID', u'PAYING', u'PAID'),\n",
       "   (u'SAYING', u'SAID', u'PLAYING', u'PLAYED'),\n",
       "   (u'TAKING', u'TOOK', u'GOING', u'WENT'),\n",
       "   (u'TAKING', u'TOOK', u'PAYING', u'PAID'),\n",
       "   (u'TAKING', u'TOOK', u'PLAYING', u'PLAYED'),\n",
       "   (u'TAKING', u'TOOK', u'SAYING', u'SAID'),\n",
       "   (u'BUILDING', u'BUILDINGS', u'CAR', u'CARS'),\n",
       "   (u'BUILDING', u'BUILDINGS', u'CHILD', u'CHILDREN'),\n",
       "   (u'BUILDING', u'BUILDINGS', u'MAN', u'MEN'),\n",
       "   (u'CAR', u'CARS', u'CHILD', u'CHILDREN'),\n",
       "   (u'CAR', u'CARS', u'MAN', u'MEN'),\n",
       "   (u'CAR', u'CARS', u'BUILDING', u'BUILDINGS'),\n",
       "   (u'CHILD', u'CHILDREN', u'MAN', u'MEN'),\n",
       "   (u'CHILD', u'CHILDREN', u'BUILDING', u'BUILDINGS'),\n",
       "   (u'CHILD', u'CHILDREN', u'CAR', u'CARS'),\n",
       "   (u'MAN', u'MEN', u'BUILDING', u'BUILDINGS'),\n",
       "   (u'MAN', u'MEN', u'CAR', u'CARS'),\n",
       "   (u'MAN', u'MEN', u'CHILD', u'CHILDREN')],\n",
       "  'section': 'total'}]"
      ]
     },
     "execution_count": 12,
     "metadata": {},
     "output_type": "execute_result"
    }
   ],
   "source": [
    "question_file_path = data_dir + 'questions-words.txt'\n",
    "\n",
    "model_wrapper.accuracy(questions=question_file_path)"
   ]
  },
  {
   "cell_type": "code",
   "execution_count": 13,
   "metadata": {},
   "outputs": [
    {
     "data": {
      "text/plain": [
       "1.1102867164706653"
      ]
     },
     "execution_count": 13,
     "metadata": {},
     "output_type": "execute_result"
    }
   ],
   "source": [
    "# Word Movers distance\n",
    "sentence_obama = 'Obama speaks to the media in Illinois'.lower().split()\n",
    "sentence_president = 'The president greets the press in Chicago'.lower().split()\n",
    "\n",
    "# Remove their stopwords.\n",
    "from nltk.corpus import stopwords\n",
    "stopwords = stopwords.words('english')\n",
    "sentence_obama = [w for w in sentence_obama if w not in stopwords]\n",
    "sentence_president = [w for w in sentence_president if w not in stopwords]\n",
    "\n",
    "# Compute WMD.\n",
    "distance = model_wrapper.wmdistance(sentence_obama, sentence_president)\n",
    "distance"
   ]
  },
  {
   "cell_type": "code",
   "execution_count": null,
   "metadata": {
    "collapsed": true
   },
   "outputs": [],
   "source": []
  }
 ],
 "metadata": {
  "anaconda-cloud": {},
  "kernelspec": {
   "display_name": "Python 2",
   "language": "python",
   "name": "python2"
  },
  "language_info": {
   "codemirror_mode": {
    "name": "ipython",
    "version": 2
   },
   "file_extension": ".py",
   "mimetype": "text/x-python",
   "name": "python",
   "nbconvert_exporter": "python",
   "pygments_lexer": "ipython2",
   "version": "2.7.13"
  }
 },
 "nbformat": 4,
 "nbformat_minor": 1
}
