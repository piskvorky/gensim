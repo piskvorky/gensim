{
 "cells": [
  {
   "cell_type": "markdown",
   "metadata": {},
   "source": [
    "# Benchmark: Implement Levenshtein term similarity matrix and fast SCM between corpora ([RaRe-Technologies/gensim PR #2016][#2016])\n",
    "\n",
    " [#2016]: https://github.com/RaRe-Technologies/gensim/pull/2016 (Implement Levenshtein term similarity matrix and fast SCM between corpora - Pull Request #2016)"
   ]
  },
  {
   "cell_type": "code",
   "execution_count": 1,
   "metadata": {},
   "outputs": [
    {
     "name": "stdout",
     "output_type": "stream",
     "text": [
      "de0cc02fd88d996551c9145ba991159c53071aba\r\n"
     ]
    }
   ],
   "source": [
    "!git rev-parse HEAD"
   ]
  },
  {
   "cell_type": "code",
   "execution_count": 2,
   "metadata": {},
   "outputs": [],
   "source": [
    "from copy import deepcopy\n",
    "from datetime import timedelta\n",
    "from itertools import product\n",
    "import logging\n",
    "from math import floor, ceil, log10\n",
    "import pickle\n",
    "from random import sample, seed, shuffle\n",
    "from time import time\n",
    "\n",
    "import numpy as np\n",
    "import pandas as pd\n",
    "from tqdm import tqdm_notebook\n",
    "\n",
    "def tqdm(iterable, total=None, desc=None):\n",
    "    if total is None:\n",
    "        total = len(iterable)\n",
    "    for num_done, element in enumerate(tqdm_notebook(iterable, total=total)):\n",
    "        logger.info(\"%s: %d / %d\", desc, num_done, total)\n",
    "        yield element\n",
    "\n",
    "from gensim.corpora import Dictionary\n",
    "import gensim.downloader as api\n",
    "from gensim.similarities.index import AnnoyIndexer\n",
    "from gensim.similarities import SparseTermSimilarityMatrix\n",
    "from gensim.similarities import UniformTermSimilarityIndex\n",
    "from gensim.similarities import LevenshteinSimilarityIndex\n",
    "from gensim.models import WordEmbeddingSimilarityIndex\n",
    "from gensim.utils import simple_preprocess\n",
    "\n",
    "RANDOM_SEED = 12345\n",
    "\n",
    "logger = logging.getLogger()\n",
    "fhandler = logging.FileHandler(filename='matrix_speed.log', mode='a')\n",
    "formatter = logging.Formatter('%(asctime)s - %(name)s - %(levelname)s - %(message)s')\n",
    "fhandler.setFormatter(formatter)\n",
    "logger.addHandler(fhandler)\n",
    "logger.setLevel(logging.INFO)\n",
    "\n",
    "pd.set_option('display.max_rows', None, 'display.max_seq_items', None)"
   ]
  },
  {
   "cell_type": "code",
   "execution_count": 3,
   "metadata": {},
   "outputs": [],
   "source": [
    "\"\"\"Repeatedly run a benchmark callable given various configurations and\n",
    "get a list of results.\n",
    "\n",
    "Return a list of results of repeatedly running a benchmark callable.\n",
    "\n",
    "Parameters\n",
    "----------\n",
    "benchmark : callable tuple -> dict\n",
    "    A benchmark callable that accepts a configuration and returns results.\n",
    "configurations : iterable of tuple\n",
    "    An iterable of configurations that are used for calling the benchmark function.\n",
    "results_filename : str\n",
    "    A filename of a file that will be used to persistently store the results using\n",
    "    pickle. If the file exists, then the function will load the stored results\n",
    "    instead of calling the benchmark callable.\n",
    "\n",
    "Returns\n",
    "-------\n",
    "iterable of tuple\n",
    "    The return values of the individual invocations of the benchmark callable.\n",
    "\n",
    "\"\"\"\n",
    "def benchmark_results(benchmark, configurations, results_filename):\n",
    "    try:\n",
    "        with open(results_filename, \"rb\") as file:\n",
    "            results = pickle.load(file)\n",
    "    except IOError:\n",
    "        configurations = list(configurations)\n",
    "        shuffle(configurations)\n",
    "        results = list(tqdm(\n",
    "            (benchmark(configuration) for configuration in configurations),\n",
    "            total=len(configurations), desc=\"benchmark\"))\n",
    "        with open(results_filename, \"wb\") as file:\n",
    "            pickle.dump(results, file)\n",
    "    return results"
   ]
  },
  {
   "cell_type": "markdown",
   "metadata": {},
   "source": [
    "## Implement Levenshtein term similarity matrix\n",
    "\n",
    "In Gensim PR [#1827][], we added a base implementation of the soft cosine measure (SCM). The base implementation would create term similarity matrices using a single complex procedure. In the Gensim PR [#2016][], we split the procedure into:\n",
    "\n",
    "- **TermSimilarityIndex** builder classes that produce the $k$ most similar terms for a given term $t$ that are distinct from $t$ along with the term similarities, and\n",
    "- the **SparseTermSimilarityMatrix** director class that constructs term similarity matrices and consumes term similarities produced by **TermSimilarityIndex** instances.\n",
    "\n",
    "One of the benefits of this separation is that we can easily measure the speed at which a **TermSimilarityIndex** builder class produces term similarities and compare this speed with the speed at which the **SparseTermSimilarityMatrix** director class consumes term similarities. This allows us to see which of the classes are a bottleneck that slows down the construction of term similarity matrices.\n",
    "\n",
    "In this notebook, we measure all the currently available builder and director classes. For the measurements, we use the [Google News word embeddings][word2vec-google-news-300] distributed with the C implementation of Word2Vec. From the word embeddings, we will derive a dictionary of 2.01M terms.\n",
    "\n",
    " [word2vec-google-news-300]: https://github.com/mmihaltz/word2vec-GoogleNews-vectors (word2vec-GoogleNews-vectors)\n",
    " [#1827]: https://github.com/RaRe-Technologies/gensim/pull/1827 (Implement Soft Cosine Measure - Pull Request #1827)\n",
    " [#2016]: https://github.com/RaRe-Technologies/gensim/pull/2016 (Implement Levenshtein term similarity matrix and fast SCM between corpora - Pull Request #2016)"
   ]
  },
  {
   "cell_type": "code",
   "execution_count": 4,
   "metadata": {},
   "outputs": [],
   "source": [
    "full_model = api.load(\"word2vec-google-news-300\")\n",
    "\n",
    "try:\n",
    "    full_dictionary = Dictionary.load(\"matrix_speed.dictionary\")\n",
    "except IOError:\n",
    "    full_dictionary = Dictionary([[term] for term in full_model.vocab.keys()])\n",
    "    full_dictionary.save(\"matrix_speed.dictionary\")"
   ]
  },
  {
   "cell_type": "markdown",
   "metadata": {},
   "source": [
    "### Director class benchmark\n",
    "#### SparseTermSimilarityMatrix\n",
    "First, we measure the speed at which the **SparseTermSimilarityMatrix** director class consumes term similarities."
   ]
  },
  {
   "cell_type": "code",
   "execution_count": null,
   "metadata": {
    "scrolled": true
   },
   "outputs": [],
   "source": [
    "def benchmark(configuration):\n",
    "    dictionary, nonzero_limit, symmetric, positive_definite, repetition = configuration\n",
    "    index = UniformTermSimilarityIndex(dictionary)\n",
    "    \n",
    "    start_time = time()\n",
    "    matrix = SparseTermSimilarityMatrix(\n",
    "        index, dictionary, nonzero_limit=nonzero_limit, symmetric=symmetric,\n",
    "        positive_definite=positive_definite, dtype=np.float16).matrix\n",
    "    end_time = time()\n",
    "    \n",
    "    duration = end_time - start_time\n",
    "    return {\n",
    "        \"dictionary_size\": len(dictionary),\n",
    "        \"nonzero_limit\": nonzero_limit,\n",
    "        \"matrix_nonzero\": matrix.nnz,\n",
    "        \"repetition\": repetition,\n",
    "        \"symmetric\": symmetric,\n",
    "        \"positive_definite\": positive_definite,\n",
    "        \"duration\": duration, }"
   ]
  },
  {
   "cell_type": "code",
   "execution_count": null,
   "metadata": {},
   "outputs": [
    {
     "data": {
      "application/vnd.jupyter.widget-view+json": {
       "model_id": "2bef78e151094fe8835f008ff443d21e",
       "version_major": 2,
       "version_minor": 0
      },
      "text/plain": [
       "HBox(children=(IntProgress(value=0, max=4), HTML(value='')))"
      ]
     },
     "metadata": {},
     "output_type": "display_data"
    },
    {
     "name": "stdout",
     "output_type": "stream",
     "text": [
      "\n"
     ]
    },
    {
     "data": {
      "application/vnd.jupyter.widget-view+json": {
       "model_id": "06c6867d55c04682bf62282e56fd8be9",
       "version_major": 2,
       "version_minor": 0
      },
      "text/plain": [
       "HBox(children=(IntProgress(value=0, max=600), HTML(value='')))"
      ]
     },
     "metadata": {},
     "output_type": "display_data"
    }
   ],
   "source": [
    "dictionary_sizes = [10**k for k in range(3, int(ceil(log10(len(full_dictionary)))))]\n",
    "seed(RANDOM_SEED)\n",
    "dictionaries = []\n",
    "for size in tqdm(dictionary_sizes, desc=\"dictionaries\"):\n",
    "    dictionary = Dictionary([sample(list(full_dictionary.values()), size)])\n",
    "    dictionaries.append(dictionary)\n",
    "dictionaries.append(full_dictionary)\n",
    "nonzero_limits = [1, 10, 100]\n",
    "symmetry = (True, False)\n",
    "positive_definiteness = (True, False)\n",
    "repetitions = range(10)\n",
    "\n",
    "configurations = product(dictionaries, nonzero_limits, symmetry, positive_definiteness, repetitions)\n",
    "results = benchmark_results(benchmark, configurations, \"matrix_speed.director_results\")"
   ]
  },
  {
   "cell_type": "markdown",
   "metadata": {},
   "source": [
    "The following tables show how long it takes to construct a term similarity matrix (the **duration** column), how many nonzero elements there are in the matrix (the **matrix_nonzero** column) and the mean term similarity consumption speed (the **consumption_speed** column) as we vary the dictionary size (the **dictionary_size** column) the maximum number of nonzero elements outside the diagonal in every column of the matrix (the **nonzero_limit** column), the matrix symmetry constraint (the **symmetric** column), and the matrix positive definiteness constraing (the **positive_definite** column). Ten independendent measurements were taken. The top table shows the mean values and the bottom table shows the standard deviations.\n",
    "\n",
    "We can see that the symmetry and positive definiteness constraints severely limit the number of nonzero elements in the resulting matrix. This in turn increases the consumption speed, since we end up throwing away most of the elements that we consume. The effects of the dictionary size on the mean term similarity consumption speed are minor to none."
   ]
  },
  {
   "cell_type": "code",
   "execution_count": null,
   "metadata": {},
   "outputs": [],
   "source": [
    "df = pd.DataFrame(results)\n",
    "df[\"consumption_speed\"] = df.dictionary_size * df.nonzero_limit / df.duration\n",
    "df = df.groupby([\"dictionary_size\", \"nonzero_limit\", \"symmetric\", \"positive_definite\"])\n",
    "\n",
    "def display(df):\n",
    "    df[\"duration\"] = [timedelta(0, duration) for duration in df[\"duration\"]]\n",
    "    df[\"matrix_nonzero\"] = [int(nonzero) for nonzero in df[\"matrix_nonzero\"]]\n",
    "    df[\"consumption_speed\"] = [\"%.02f Kword pairs / s\" % (speed / 1000) for speed in df[\"consumption_speed\"]]\n",
    "    return df"
   ]
  },
  {
   "cell_type": "code",
   "execution_count": null,
   "metadata": {},
   "outputs": [],
   "source": [
    "display(df.mean()).loc[\n",
    "    [10000, len(full_dictionary)], :, :].loc[\n",
    "    :, [\"duration\", \"matrix_nonzero\", \"consumption_speed\"]]"
   ]
  },
  {
   "cell_type": "code",
   "execution_count": null,
   "metadata": {},
   "outputs": [],
   "source": [
    "display(df.apply(lambda x: (x - x.mean()).std())).loc[\n",
    "    [10000, len(full_dictionary)], :, :].loc[\n",
    "    :, [\"duration\", \"matrix_nonzero\", \"consumption_speed\"]]"
   ]
  },
  {
   "cell_type": "markdown",
   "metadata": {},
   "source": [
    "### Builder class benchmark\n",
    "#### UniformTermSimilarityIndex\n",
    "First, we measure the speed at which the **UniformTermSimilarityIndex** builder class produces term similarities. **UniformTermSimilarityIndex** is a dummy class that just generates a sequence of constants. It produces much more term similarities per second than the **SparseTermSimilarityMatrix** is capable of consuming and its results will serve as an upper limit."
   ]
  },
  {
   "cell_type": "code",
   "execution_count": null,
   "metadata": {},
   "outputs": [],
   "source": [
    "def benchmark(configuration):\n",
    "    dictionary, nonzero_limit, repetition = configuration\n",
    "    \n",
    "    start_time = time()\n",
    "    index = UniformTermSimilarityIndex(dictionary)\n",
    "    end_time = time()\n",
    "    constructor_duration = end_time - start_time\n",
    "    \n",
    "    start_time = time()\n",
    "    for term in dictionary.values():\n",
    "        for _j, _k in zip(index.most_similar(term, topn=nonzero_limit), range(nonzero_limit)):\n",
    "            pass\n",
    "    end_time = time()\n",
    "    production_duration = end_time - start_time\n",
    "    \n",
    "    return {\n",
    "        \"dictionary_size\": len(dictionary),\n",
    "        \"nonzero_limit\": nonzero_limit,\n",
    "        \"repetition\": repetition,\n",
    "        \"constructor_duration\": constructor_duration,\n",
    "        \"production_duration\": production_duration, }"
   ]
  },
  {
   "cell_type": "code",
   "execution_count": null,
   "metadata": {},
   "outputs": [],
   "source": [
    "nonzero_limits = [1, 10, 100, 1000]\n",
    "\n",
    "configurations = product(dictionaries, nonzero_limits, repetitions)\n",
    "results = benchmark_results(benchmark, configurations, \"matrix_speed.builder_results.uniform\")"
   ]
  },
  {
   "cell_type": "markdown",
   "metadata": {},
   "source": [
    "The following tables show how long it takes to retrieve the most similar terms for all terms in a dictionary (the **production_duration** column) and the mean term similarity production speed (the **production_speed** column) as we vary the dictionary size (the **dictionary_size** column), and the maximum number of most similar terms that will be retrieved (the **nonzero_limit** column). Ten independendent measurements were taken. The top table shows the mean values and the bottom table shows the standard deviations.\n",
    "\n",
    "The **production_speed** is proportional to **nonzero_limit**."
   ]
  },
  {
   "cell_type": "code",
   "execution_count": null,
   "metadata": {},
   "outputs": [],
   "source": [
    "df = pd.DataFrame(results)\n",
    "df[\"processing_speed\"] = df.dictionary_size ** 2 / df.production_duration\n",
    "df[\"production_speed\"] = df.dictionary_size * df.nonzero_limit / df.production_duration\n",
    "df = df.groupby([\"dictionary_size\", \"nonzero_limit\"])\n",
    "\n",
    "def display(df):\n",
    "    df[\"constructor_duration\"] = [timedelta(0, duration) for duration in df[\"constructor_duration\"]]\n",
    "    df[\"production_duration\"] = [timedelta(0, duration) for duration in df[\"production_duration\"]]\n",
    "    df[\"processing_speed\"] = [\"%.02f Kword pairs / s\" % (speed / 1000) for speed in df[\"processing_speed\"]]\n",
    "    df[\"production_speed\"] = [\"%.02f Kword pairs / s\" % (speed / 1000) for speed in df[\"production_speed\"]]\n",
    "    return df"
   ]
  },
  {
   "cell_type": "code",
   "execution_count": null,
   "metadata": {},
   "outputs": [],
   "source": [
    "display(df.mean()).loc[\n",
    "    [1000, len(full_dictionary)], :, :].loc[\n",
    "    :, [\"production_duration\", \"production_speed\"]]"
   ]
  },
  {
   "cell_type": "code",
   "execution_count": null,
   "metadata": {},
   "outputs": [],
   "source": [
    "display(df.apply(lambda x: (x - x.mean()).std())).loc[\n",
    "    [1000, len(full_dictionary)], :, :].loc[\n",
    "    :, [\"production_duration\", \"production_speed\"]]"
   ]
  },
  {
   "cell_type": "markdown",
   "metadata": {},
   "source": [
    "#### LevenshteinSimilarityIndex\n",
    "Next, we measure the speed at which the **LevenshteinSimilarityIndex** builder class produces term similarities. **LevenshteinSimilarityIndex** is currently just a naïve implementation that produces much fewer term similarities per second than the **SparseTermSimilarityMatrix** class is capable of consuming."
   ]
  },
  {
   "cell_type": "code",
   "execution_count": null,
   "metadata": {},
   "outputs": [],
   "source": [
    "def benchmark(configuration):\n",
    "    dictionary, nonzero_limit, query_terms, repetition = configuration\n",
    "    \n",
    "    start_time = time()\n",
    "    index = LevenshteinSimilarityIndex(dictionary)\n",
    "    end_time = time()\n",
    "    constructor_duration = end_time - start_time\n",
    "    \n",
    "    start_time = time()\n",
    "    for term in query_terms:\n",
    "        for _j, _k in zip(index.most_similar(term, topn=nonzero_limit), range(nonzero_limit)):\n",
    "            pass\n",
    "    end_time = time()\n",
    "    production_duration = end_time - start_time\n",
    "    \n",
    "    return {\n",
    "        \"dictionary_size\": len(dictionary),\n",
    "        \"mean_query_term_length\": np.mean([len(term) for term in query_terms]),\n",
    "        \"nonzero_limit\": nonzero_limit,\n",
    "        \"repetition\": repetition,\n",
    "        \"constructor_duration\": constructor_duration,\n",
    "        \"production_duration\": production_duration, }"
   ]
  },
  {
   "cell_type": "code",
   "execution_count": null,
   "metadata": {},
   "outputs": [],
   "source": [
    "nonzero_limits = [1, 10, 100]\n",
    "seed(RANDOM_SEED)\n",
    "min_dictionary = sorted((len(dictionary), dictionary) for dictionary in dictionaries)[0][1]\n",
    "query_terms = sample(list(min_dictionary.values()), 10)\n",
    "\n",
    "configurations = product(dictionaries, nonzero_limits, [query_terms], repetitions)\n",
    "results = benchmark_results(benchmark, configurations, \"matrix_speed.builder_results.levenshtein\")"
   ]
  },
  {
   "cell_type": "markdown",
   "metadata": {},
   "source": [
    "The following tables show how long it takes to retrieve the most similar terms for ten randomly sampled terms from a dictionary (the **production_duration** column), the mean term similarity production speed (the **production_speed** column) and the mean term similarity processing speed (the **processing_speed** column) as we vary the dictionary size (the **dictionary_size** column), and the maximum number of most similar terms that will be retrieved (the **nonzero_limit** column). Ten independendent measurements were taken. The top table shows the mean values and the bottom table shows the standard deviations.\n",
    "\n",
    "The **production_speed** is proportional to **nonzero_limit / dictionary_size**. The **processing_speed** is constant."
   ]
  },
  {
   "cell_type": "code",
   "execution_count": null,
   "metadata": {},
   "outputs": [],
   "source": [
    "df = pd.DataFrame(results)\n",
    "df[\"processing_speed\"] = df.dictionary_size * len(query_terms) / df.production_duration\n",
    "df[\"production_speed\"] = df.nonzero_limit * len(query_terms) / df.production_duration\n",
    "df = df.groupby([\"dictionary_size\", \"nonzero_limit\"])\n",
    "\n",
    "def display(df):\n",
    "    df[\"constructor_duration\"] = [timedelta(0, duration) for duration in df[\"constructor_duration\"]]\n",
    "    df[\"production_duration\"] = [timedelta(0, duration) for duration in df[\"production_duration\"]]\n",
    "    df[\"processing_speed\"] = [\"%.02f Kword pairs / s\" % (speed / 1000) for speed in df[\"processing_speed\"]]\n",
    "    df[\"production_speed\"] = [\"%.02f word pairs / s\" % speed for speed in df[\"production_speed\"]]\n",
    "    return df"
   ]
  },
  {
   "cell_type": "code",
   "execution_count": null,
   "metadata": {
    "scrolled": false
   },
   "outputs": [],
   "source": [
    "display(df.mean()).loc[\n",
    "    [1000, 1000000, len(full_dictionary)], :].loc[\n",
    "    :, [\"production_duration\", \"production_speed\", \"processing_speed\"]]"
   ]
  },
  {
   "cell_type": "code",
   "execution_count": null,
   "metadata": {
    "scrolled": false
   },
   "outputs": [],
   "source": [
    "display(df.apply(lambda x: (x - x.mean()).std())).loc[\n",
    "    [1000, 1000000, len(full_dictionary)], :].loc[\n",
    "    :, [\"production_duration\", \"production_speed\", \"processing_speed\"]]"
   ]
  },
  {
   "cell_type": "markdown",
   "metadata": {},
   "source": [
    "#### WordEmbeddingSimilarityIndex\n",
    "Lastly, we measure the speed at which the **WordEmbeddingSimilarityIndex** builder class constructs an instance and produces term similarities. Gensim currently supports slow and precise nearest neighbor search, and also approximate nearest neighbor search using [ANNOY][]. We evaluate both options.\n",
    "\n",
    " [ANNOY]: https://github.com/spotify/annoy (Approximate Nearest Neighbors in C++/Python optimized for memory usage and loading/saving to disk)"
   ]
  },
  {
   "cell_type": "code",
   "execution_count": null,
   "metadata": {},
   "outputs": [],
   "source": [
    "def benchmark(configuration):\n",
    "    (model, dictionary), nonzero_limit, annoy_n_trees, query_terms, repetition = configuration\n",
    "    use_annoy = annoy_n_trees > 0\n",
    "    model.init_sims()\n",
    "    \n",
    "    start_time = time()\n",
    "    if use_annoy:\n",
    "        annoy = AnnoyIndexer(model, annoy_n_trees)\n",
    "        kwargs = {\"indexer\": annoy}\n",
    "    else:\n",
    "        kwargs = {}\n",
    "    index = WordEmbeddingSimilarityIndex(model, kwargs=kwargs)\n",
    "    end_time = time()\n",
    "    constructor_duration = end_time - start_time\n",
    "    \n",
    "    start_time = time()\n",
    "    for term in query_terms:\n",
    "        for _j, _k in zip(index.most_similar(term, topn=nonzero_limit), range(nonzero_limit)):\n",
    "            pass\n",
    "    end_time = time()\n",
    "    production_duration = end_time - start_time\n",
    "    \n",
    "    return {\n",
    "        \"dictionary_size\": len(dictionary),\n",
    "        \"mean_query_term_length\": np.mean([len(term) for term in query_terms]),\n",
    "        \"nonzero_limit\": nonzero_limit,\n",
    "        \"use_annoy\": use_annoy,\n",
    "        \"annoy_n_trees\": annoy_n_trees,\n",
    "        \"repetition\": repetition,\n",
    "        \"constructor_duration\": constructor_duration,\n",
    "        \"production_duration\": production_duration, }"
   ]
  },
  {
   "cell_type": "code",
   "execution_count": null,
   "metadata": {},
   "outputs": [],
   "source": [
    "models = []\n",
    "for dictionary in tqdm(dictionaries, desc=\"models\"):\n",
    "    if dictionary == full_dictionary:\n",
    "        models.append(full_model)\n",
    "        continue\n",
    "    model = full_model.__class__(full_model.vector_size)\n",
    "    model.vocab = {word: deepcopy(full_model.vocab[word]) for word in dictionary.values()}\n",
    "    model.index2entity = []\n",
    "    vector_indices = []\n",
    "    for index, word in enumerate(full_model.index2entity):\n",
    "        if word in model.vocab.keys():\n",
    "            model.index2entity.append(word)\n",
    "            model.vocab[word].index = len(vector_indices)\n",
    "            vector_indices.append(index)\n",
    "    model.vectors = full_model.vectors[vector_indices]\n",
    "    models.append(model)\n",
    "annoy_n_trees = [0] + [10**k for k in range(3)]\n",
    "seed(RANDOM_SEED)\n",
    "query_terms = sample(list(min_dictionary.values()), 1000)\n",
    "\n",
    "configurations = product(zip(models, dictionaries), nonzero_limits, annoy_n_trees, [query_terms], repetitions)\n",
    "results = benchmark_results(benchmark, configurations, \"matrix_speed.builder_results.wordembeddings\")"
   ]
  },
  {
   "cell_type": "markdown",
   "metadata": {},
   "source": [
    "The following tables show how long it takes to construct an ANNOY index and the builder class instance (the **constructor_duration** column), how long it takes to retrieve the most similar terms for 1,000 randomly sampled terms from a dictionary (the **production_duration** column), the mean term similarity production speed (the **production_speed** column) and the mean term similarity processing speed (the **processing_speed** column) as we vary the dictionary size (the **dictionary_size** column), the maximum number of most similar terms that will be retrieved (the **nonzero_limit** column), and the number of constructed ANNOY trees (the **annoy_n_trees** column). Ten independendent measurements were taken. The top table shows the mean values and the bottom table shows the standard deviations.\n",
    "\n",
    "If we do not use ANNOY (**annoy_n_trees**${}=0$), then **production_speed** is proportional to **nonzero_limit / dictionary_size**. \n",
    "If we do use ANNOY (**annoy_n_trees**${}>0$), then **production_speed** is proportional to **nonzero_limit / (annoy_n_trees)**${}^{1/2}$."
   ]
  },
  {
   "cell_type": "code",
   "execution_count": null,
   "metadata": {},
   "outputs": [],
   "source": [
    "df = pd.DataFrame(results)\n",
    "df[\"processing_speed\"] = df.dictionary_size * len(query_terms) / df.production_duration\n",
    "df[\"production_speed\"] = df.nonzero_limit * len(query_terms) / df.production_duration\n",
    "df = df.groupby([\"dictionary_size\", \"nonzero_limit\", \"annoy_n_trees\"])\n",
    "\n",
    "def display(df):\n",
    "    df[\"constructor_duration\"] = [timedelta(0, duration) for duration in df[\"constructor_duration\"]]\n",
    "    df[\"production_duration\"] = [timedelta(0, duration) for duration in df[\"production_duration\"]]\n",
    "    df[\"processing_speed\"] = [\"%.02f Kword pairs / s\" % (speed / 1000) for speed in df[\"processing_speed\"]]\n",
    "    df[\"production_speed\"] = [\"%.02f Kword pairs / s\" % (speed / 1000) for speed in df[\"production_speed\"]]\n",
    "    return df"
   ]
  },
  {
   "cell_type": "code",
   "execution_count": null,
   "metadata": {},
   "outputs": [],
   "source": [
    "display(df.mean()).loc[\n",
    "    [1000000, len(full_dictionary)], [1, 100], [0, 1, 100]].loc[\n",
    "    :, [\"constructor_duration\", \"production_duration\", \"production_speed\", \"processing_speed\"]]"
   ]
  },
  {
   "cell_type": "code",
   "execution_count": null,
   "metadata": {},
   "outputs": [],
   "source": [
    "display(df.apply(lambda x: (x - x.mean()).std())).loc[\n",
    "    [1000000, len(full_dictionary)], [1, 100], [0, 1, 100]].loc[\n",
    "    :, [\"constructor_duration\", \"production_duration\", \"production_speed\", \"processing_speed\"]]"
   ]
  },
  {
   "cell_type": "markdown",
   "metadata": {},
   "source": [
    "## Implement fast SCM between corpora\n",
    "\n",
    "In Gensim PR [#1827][], we added a base implementation of the soft cosine measure (SCM). The base implementation would compute SCM between single documents using the **softcossim** function. In the Gensim PR [#2016][], we intruduced the **SparseTermSimilarityMatrix.inner_product** method, which computes SCM not only between single documents, but also between a document and a corpus, and between two corpora.\n",
    "\n",
    "For the measurements, we use the [Google News word embeddings][word2vec-google-news-300] distributed with the C implementation of Word2Vec. From the word embeddings, we will derive a dictionary of 2.01m terms. As a corpus, we will use a random sample of 100K articles from the 4.92m English [Wikipedia articles][enwiki].\n",
    "\n",
    " [word2vec-google-news-300]: https://github.com/mmihaltz/word2vec-GoogleNews-vectors (word2vec-GoogleNews-vectors)\n",
    " [enwiki]: https://github.com/RaRe-Technologies/gensim-data/releases/tag/wiki-english-20171001 (wiki-english-20171001)\n",
    " [#1827]: https://github.com/RaRe-Technologies/gensim/pull/1827 (Implement Soft Cosine Measure - Pull Request #1827)\n",
    " [#2016]: https://github.com/RaRe-Technologies/gensim/pull/2016 (Implement Levenshtein term similarity matrix and fast SCM between corpora - Pull Request #2016)"
   ]
  },
  {
   "cell_type": "code",
   "execution_count": null,
   "metadata": {},
   "outputs": [],
   "source": [
    "full_model = api.load(\"word2vec-google-news-300\")\n",
    "\n",
    "try:\n",
    "    with open(\"matrix_speed.corpus\", \"rb\") as file:\n",
    "        full_corpus = pickle.load(file)        \n",
    "except IOError:\n",
    "    original_corpus = list(tqdm(api.load(\"wiki-english-20171001\"), desc=\"original_corpus\", total=4924894))\n",
    "    seed(RANDOM_SEED)\n",
    "    full_corpus = [\n",
    "        simple_preprocess(u'\\n'.join(article[\"section_texts\"]))\n",
    "        for article in tqdm(sample(original_corpus, 10**5), desc=\"full_corpus\", total=10**5)]\n",
    "    del original_corpus\n",
    "    with open(\"matrix_speed.corpus\", \"wb\") as file:\n",
    "        pickle.dump(full_corpus, file)\n",
    "\n",
    "try:\n",
    "    full_dictionary = Dictionary.load(\"matrix_speed.dictionary\")\n",
    "except IOError:\n",
    "    full_dictionary = Dictionary([[term] for term in full_model.vocab.keys()])\n",
    "    full_dictionary.save(\"matrix_speed.dictionary\")"
   ]
  },
  {
   "cell_type": "markdown",
   "metadata": {},
   "source": [
    "### SCM between two documents\n",
    "First, we measure the speed at which the **inner_product** method produces term similarities between single documents."
   ]
  },
  {
   "cell_type": "code",
   "execution_count": null,
   "metadata": {},
   "outputs": [],
   "source": [
    "def benchmark(configuration):\n",
    "    (matrix, dictionary, nonzero_limit), corpus, normalized, repetition = configuration\n",
    "    corpus_size = len(corpus)\n",
    "    corpus = [dictionary.doc2bow(doc) for doc in corpus]\n",
    "    corpus = [vec for vec in corpus if len(vec) > 0]\n",
    "    \n",
    "    start_time = time()\n",
    "    for vec1 in corpus:\n",
    "        for vec2 in corpus:\n",
    "            matrix.inner_product(vec1, vec2, normalized=normalized)\n",
    "    end_time = time()\n",
    "    duration = end_time - start_time\n",
    "    \n",
    "    return {\n",
    "        \"dictionary_size\": matrix.matrix.shape[0],\n",
    "        \"matrix_nonzero\": matrix.matrix.nnz,\n",
    "        \"nonzero_limit\": nonzero_limit,\n",
    "        \"normalized\": normalized,\n",
    "        \"corpus_size\": corpus_size,\n",
    "        \"corpus_actual_size\": len(corpus),\n",
    "        \"corpus_nonzero\": sum(len(vec) for vec in corpus),\n",
    "        \"mean_document_length\": np.mean([len(doc) for doc in corpus]),\n",
    "        \"repetition\": repetition,\n",
    "        \"duration\": duration, }"
   ]
  },
  {
   "cell_type": "code",
   "execution_count": null,
   "metadata": {},
   "outputs": [],
   "source": [
    "seed(RANDOM_SEED)\n",
    "dictionary_sizes = [1000, 100000]\n",
    "dictionaries = []\n",
    "for size in tqdm(dictionary_sizes, desc=\"dictionaries\"):\n",
    "    dictionary = Dictionary([sample(list(full_dictionary.values()), size)])\n",
    "    dictionaries.append(dictionary)\n",
    "min_dictionary = sorted((len(dictionary), dictionary) for dictionary in dictionaries)[0][1]\n",
    "\n",
    "corpus_sizes = [100, 1000]\n",
    "corpora = []\n",
    "for size in tqdm(corpus_sizes, desc=\"corpora\"):\n",
    "    corpus = sample(full_corpus, size)\n",
    "    corpora.append(corpus)\n",
    "\n",
    "models = []\n",
    "for dictionary in tqdm(dictionaries, desc=\"models\"):\n",
    "    if dictionary == full_dictionary:\n",
    "        models.append(full_model)\n",
    "        continue\n",
    "    model = full_model.__class__(full_model.vector_size)\n",
    "    model.vocab = {word: deepcopy(full_model.vocab[word]) for word in dictionary.values()}\n",
    "    model.index2entity = []\n",
    "    vector_indices = []\n",
    "    for index, word in enumerate(full_model.index2entity):\n",
    "        if word in model.vocab.keys():\n",
    "            model.index2entity.append(word)\n",
    "            model.vocab[word].index = len(vector_indices)\n",
    "            vector_indices.append(index)\n",
    "    model.vectors = full_model.vectors[vector_indices]\n",
    "    models.append(model)\n",
    "\n",
    "nonzero_limits = [1, 10, 100]\n",
    "matrices = []\n",
    "for (model, dictionary), nonzero_limit in tqdm(\n",
    "        list(product(zip(models, dictionaries), nonzero_limits)), desc=\"matrices\"):\n",
    "    annoy = AnnoyIndexer(model, 1)\n",
    "    index = WordEmbeddingSimilarityIndex(model, kwargs={\"indexer\": annoy})\n",
    "    matrix = SparseTermSimilarityMatrix(index, dictionary, nonzero_limit=nonzero_limit)\n",
    "    matrices.append((matrix, dictionary, nonzero_limit))\n",
    "    del annoy\n",
    "\n",
    "normalization = (True, False)\n",
    "repetitions = range(10)"
   ]
  },
  {
   "cell_type": "code",
   "execution_count": null,
   "metadata": {},
   "outputs": [],
   "source": [
    "configurations = product(matrices, corpora, normalization, repetitions)\n",
    "results = benchmark_results(benchmark, configurations, \"matrix_speed.inner-product_results.doc_doc\")"
   ]
  },
  {
   "cell_type": "markdown",
   "metadata": {},
   "source": [
    "The following tables show how long it takes to compute the **inner_product** method between all document vectors in a corpus (the **duration** column), how many nonzero elements there are in a corpus matrix (the **corpus_nonzero** column), how many nonzero elements there are in a term similarity matrix (the **matrix_nonzero** column) and the mean document similarity production speed (the **speed** column) as we vary the dictionary size (the **dictionary_size** column), the size of the corpus (the **corpus_size** column), the maximum number of nonzero elements in a single column of the matrix (the **nonzero_limit** column), and the matrix symmetry constraint (the **symmetric** column). Ten independendent measurements were taken. The top table shows the mean values and the bottom table shows the standard deviations.\n",
    "\n",
    "The **speed** is proportional to the square of the number of unique terms shared by the two document vectors. In our scenario as well as the standard IR scenario, this means **speed** is constant. Computing a normalized inner product (**normalized**${}={}$True) results in a constant speed decrease."
   ]
  },
  {
   "cell_type": "code",
   "execution_count": null,
   "metadata": {},
   "outputs": [],
   "source": [
    "df = pd.DataFrame(results)\n",
    "df[\"speed\"] = df.corpus_actual_size**2 / df.duration\n",
    "del df[\"corpus_actual_size\"]\n",
    "df = df.groupby([\"dictionary_size\", \"corpus_size\", \"nonzero_limit\", \"normalized\"])\n",
    "\n",
    "def display(df):\n",
    "    df[\"duration\"] = [timedelta(0, duration) for duration in df[\"duration\"]]\n",
    "    df[\"speed\"] = [\"%.02f Kdoc pairs / s\" % (speed / 1000) for speed in df[\"speed\"]]\n",
    "    return df"
   ]
  },
  {
   "cell_type": "code",
   "execution_count": null,
   "metadata": {},
   "outputs": [],
   "source": [
    "display(df.mean()).loc[\n",
    "    [1000, 100000], :, [1, 100], :].loc[\n",
    "    :, [\"duration\", \"corpus_nonzero\", \"matrix_nonzero\", \"speed\"]]"
   ]
  },
  {
   "cell_type": "code",
   "execution_count": null,
   "metadata": {},
   "outputs": [],
   "source": [
    "display(df.apply(lambda x: (x - x.mean()).std())).loc[\n",
    "    [1000, 100000], :, [1, 100], :].loc[\n",
    "    :, [\"duration\", \"corpus_nonzero\", \"matrix_nonzero\", \"speed\"]]"
   ]
  },
  {
   "cell_type": "markdown",
   "metadata": {},
   "source": [
    "### SCM between a document and a corpus\n",
    "Next, we measure the speed at which the **inner_product** method produces term similarities between documents and a corpus."
   ]
  },
  {
   "cell_type": "code",
   "execution_count": null,
   "metadata": {},
   "outputs": [],
   "source": [
    "def benchmark(configuration):\n",
    "    (matrix, dictionary, nonzero_limit), corpus, normalized, repetition = configuration\n",
    "    corpus_size = len(corpus)\n",
    "    corpus = [dictionary.doc2bow(doc) for doc in corpus if doc]\n",
    "    \n",
    "    start_time = time()\n",
    "    for vec in corpus:\n",
    "        matrix.inner_product(vec, corpus, normalized=normalized)\n",
    "    end_time = time()\n",
    "    duration = end_time - start_time\n",
    "    \n",
    "    return {\n",
    "        \"dictionary_size\": matrix.matrix.shape[0],\n",
    "        \"matrix_nonzero\": matrix.matrix.nnz,\n",
    "        \"nonzero_limit\": nonzero_limit,\n",
    "        \"normalized\": normalized,\n",
    "        \"corpus_size\": corpus_size,\n",
    "        \"corpus_actual_size\": len(corpus),\n",
    "        \"corpus_nonzero\": sum(len(vec) for vec in corpus),\n",
    "        \"mean_document_length\": np.mean([len(doc) for doc in corpus]),\n",
    "        \"repetition\": repetition,\n",
    "        \"duration\": duration, }"
   ]
  },
  {
   "cell_type": "code",
   "execution_count": null,
   "metadata": {},
   "outputs": [],
   "source": [
    "configurations = product(matrices, corpora, normalization, repetitions)\n",
    "results = benchmark_results(benchmark, configurations, \"matrix_speed.inner-product_results.doc_corpus\")"
   ]
  },
  {
   "cell_type": "markdown",
   "metadata": {},
   "source": [
    "The **speed** is inversely proportional to **matrix_nonzero**. Computing a normalized inner product (**normalized**${}={}$True) results in a constant speed decrease."
   ]
  },
  {
   "cell_type": "code",
   "execution_count": null,
   "metadata": {},
   "outputs": [],
   "source": [
    "df = pd.DataFrame(results)\n",
    "df[\"speed\"] = df.corpus_actual_size**2 / df.duration\n",
    "del df[\"corpus_actual_size\"]\n",
    "df = df.groupby([\"dictionary_size\", \"corpus_size\", \"nonzero_limit\", \"normalized\"])\n",
    "\n",
    "def display(df):\n",
    "    df[\"duration\"] = [timedelta(0, duration) for duration in df[\"duration\"]]\n",
    "    df[\"speed\"] = [\"%.02f Kdoc pairs / s\" % (speed / 1000) for speed in df[\"speed\"]]\n",
    "    return df"
   ]
  },
  {
   "cell_type": "code",
   "execution_count": null,
   "metadata": {},
   "outputs": [],
   "source": [
    "display(df.mean()).loc[\n",
    "    [1000, 100000], :, [1, 100], :].loc[\n",
    "    :, [\"duration\", \"corpus_nonzero\", \"matrix_nonzero\", \"speed\"]]"
   ]
  },
  {
   "cell_type": "code",
   "execution_count": null,
   "metadata": {},
   "outputs": [],
   "source": [
    "display(df.apply(lambda x: (x - x.mean()).std())).loc[\n",
    "    [1000, 100000], :, [1, 100], :].loc[\n",
    "    :, [\"duration\", \"corpus_nonzero\", \"matrix_nonzero\", \"speed\"]]"
   ]
  },
  {
   "cell_type": "markdown",
   "metadata": {},
   "source": [
    "### SCM between two corpora\n",
    "Lastly, we measure the speed at which the **inner_product** method produces term similarities between entire corpora."
   ]
  },
  {
   "cell_type": "code",
   "execution_count": null,
   "metadata": {},
   "outputs": [],
   "source": [
    "def benchmark(configuration):\n",
    "    (matrix, dictionary, nonzero_limit), corpus, normalized, repetition = configuration\n",
    "    corpus_size = len(corpus)\n",
    "    corpus = [dictionary.doc2bow(doc) for doc in corpus]\n",
    "    corpus = [vec for vec in corpus if len(vec) > 0]\n",
    "    \n",
    "    start_time = time()\n",
    "    matrix.inner_product(corpus, corpus, normalized=normalized)\n",
    "    end_time = time()\n",
    "    duration = end_time - start_time\n",
    "    \n",
    "    return {\n",
    "        \"dictionary_size\": matrix.matrix.shape[0],\n",
    "        \"matrix_nonzero\": matrix.matrix.nnz,\n",
    "        \"nonzero_limit\": nonzero_limit,\n",
    "        \"normalized\": normalized,\n",
    "        \"corpus_size\": corpus_size,\n",
    "        \"corpus_actual_size\": len(corpus),\n",
    "        \"corpus_nonzero\": sum(len(vec) for vec in corpus),\n",
    "        \"mean_document_length\": np.mean([len(doc) for doc in corpus]),\n",
    "        \"repetition\": repetition,\n",
    "        \"duration\": duration, }"
   ]
  },
  {
   "cell_type": "code",
   "execution_count": null,
   "metadata": {},
   "outputs": [],
   "source": [
    "nonzero_limits = [1000]\n",
    "dense_matrices = []\n",
    "for (model, dictionary), nonzero_limit in tqdm(\n",
    "        list(product(zip(models, dictionaries), nonzero_limits)), desc=\"matrices\"):\n",
    "    annoy = AnnoyIndexer(model, 1)\n",
    "    index = WordEmbeddingSimilarityIndex(model, kwargs={\"indexer\": annoy})\n",
    "    matrix = SparseTermSimilarityMatrix(index, dictionary, nonzero_limit=nonzero_limit)\n",
    "    matrices.append((matrix, dictionary, nonzero_limit))\n",
    "    del annoy"
   ]
  },
  {
   "cell_type": "code",
   "execution_count": null,
   "metadata": {},
   "outputs": [],
   "source": [
    "configurations = product(matrices + dense_matrices, corpora + [full_corpus], normalization, repetitions)\n",
    "results = benchmark_results(benchmark, configurations, \"matrix_speed.inner-product_results.corpus_corpus\")"
   ]
  },
  {
   "cell_type": "code",
   "execution_count": null,
   "metadata": {},
   "outputs": [],
   "source": [
    "df = pd.DataFrame(results)\n",
    "df[\"speed\"] = df.corpus_actual_size**2 / df.duration\n",
    "del df[\"corpus_actual_size\"]\n",
    "df = df.groupby([\"dictionary_size\", \"corpus_size\", \"nonzero_limit\", \"normalized\"])\n",
    "\n",
    "def display(df):\n",
    "    df[\"duration\"] = [timedelta(0, duration) for duration in df[\"duration\"]]\n",
    "    df[\"speed\"] = [\"%.02f Kdoc pairs / s\" % (speed / 1000) for speed in df[\"speed\"]]\n",
    "    return df"
   ]
  },
  {
   "cell_type": "code",
   "execution_count": null,
   "metadata": {},
   "outputs": [],
   "source": [
    "display(df.mean()).loc[\n",
    "    [1000, 100000], :, [1, 10, 100, 1000], :].loc[\n",
    "    :, [\"duration\", \"corpus_nonzero\", \"matrix_nonzero\", \"speed\"]]"
   ]
  },
  {
   "cell_type": "code",
   "execution_count": null,
   "metadata": {},
   "outputs": [],
   "source": [
    "display(df.apply(lambda x: (x - x.mean()).std())).loc[\n",
    "    [1000, 100000], :, [1, 100], :].loc[\n",
    "    :, [\"duration\", \"corpus_nonzero\", \"matrix_nonzero\", \"speed\"]]"
   ]
  }
 ],
 "metadata": {
  "kernelspec": {
   "display_name": "Python 3",
   "language": "python",
   "name": "python3"
  },
  "language_info": {
   "codemirror_mode": {
    "name": "ipython",
    "version": 3
   },
   "file_extension": ".py",
   "mimetype": "text/x-python",
   "name": "python",
   "nbconvert_exporter": "python",
   "pygments_lexer": "ipython3",
   "version": "3.7.1"
  }
 },
 "nbformat": 4,
 "nbformat_minor": 2
}
