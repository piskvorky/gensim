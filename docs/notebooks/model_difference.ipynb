{
 "cells": [
  {
   "cell_type": "markdown",
   "metadata": {
    "collapsed": true,
    "deletable": true,
    "editable": true
   },
   "source": [
    "# Comparison of two LDA models & visualize difference"
   ]
  },
  {
   "cell_type": "code",
   "execution_count": 1,
   "metadata": {
    "collapsed": false,
    "deletable": true,
    "editable": true
   },
   "outputs": [],
   "source": [
    "import logging\n",
    "logging.basicConfig(format='%(asctime)s : %(levelname)s : %(message)s', level=logging.ERROR)\n",
    "logging.info(\"check\")"
   ]
  },
  {
   "cell_type": "markdown",
   "metadata": {
    "deletable": true,
    "editable": true
   },
   "source": [
    "## 1. Prepare dataset (tokenize & stem)"
   ]
  },
  {
   "cell_type": "code",
   "execution_count": 2,
   "metadata": {
    "collapsed": false,
    "deletable": true,
    "editable": true
   },
   "outputs": [],
   "source": [
    "from sklearn.datasets import fetch_20newsgroups\n",
    "newsgroups = fetch_20newsgroups()"
   ]
  },
  {
   "cell_type": "code",
   "execution_count": 3,
   "metadata": {
    "collapsed": false,
    "deletable": true,
    "editable": true
   },
   "outputs": [],
   "source": [
    "from string import punctuation\n",
    "\n",
    "from nltk import RegexpTokenizer\n",
    "from nltk.stem.porter import PorterStemmer\n",
    "\n",
    "tokenizer = RegexpTokenizer('\\s+', gaps=True)\n",
    "stemmer = PorterStemmer()\n",
    "translate_tab = {ord(p): u\" \" for p in punctuation}\n",
    "\n",
    "def text2tokens(raw_text):\n",
    "    clean_text = raw_text.lower().translate(translate_tab)\n",
    "    tokens = [token.strip() for token in tokenizer.tokenize(clean_text)]\n",
    "    stemmed_tokens = [stemmer.stem(token) for token in tokens]\n",
    "    \n",
    "    return filter(lambda token: len(token) > 2, stemmed_tokens) # skip short tokens\n",
    "\n",
    "dataset = [text2tokens(txt) for txt in newsgroups['data']]"
   ]
  },
  {
   "cell_type": "markdown",
   "metadata": {
    "deletable": true,
    "editable": true
   },
   "source": [
    "## 2. Fit dictionary"
   ]
  },
  {
   "cell_type": "code",
   "execution_count": 4,
   "metadata": {
    "collapsed": false,
    "deletable": true,
    "editable": true
   },
   "outputs": [
    {
     "name": "stdout",
     "output_type": "stream",
     "text": [
      "Dictionary(105726 unique tokens: [u'fawn', u'3ds2scn', u'circuitri', u'l1tbk', u'woodi']...)\n",
      "Dictionary(18450 unique tokens: [u'circuitri', u'orthogon', u'woodi', u'osiri', u'yellow']...)\n"
     ]
    }
   ],
   "source": [
    "from gensim.corpora import Dictionary\n",
    "\n",
    "dictionary = Dictionary(documents=dataset, prune_at=None)\n",
    "print(dictionary)\n",
    "\n",
    "dictionary.filter_extremes(no_below=5, no_above=0.3, keep_n=None)\n",
    "dictionary.compactify()\n",
    "print(dictionary)\n",
    "\n",
    "d2b_dataset = [dictionary.doc2bow(doc) for doc in dataset]"
   ]
  },
  {
   "cell_type": "markdown",
   "metadata": {
    "deletable": true,
    "editable": true
   },
   "source": [
    "## 3. Fit Lda & dump model every each epoch"
   ]
  },
  {
   "cell_type": "code",
   "execution_count": 5,
   "metadata": {
    "collapsed": false,
    "deletable": true,
    "editable": true
   },
   "outputs": [],
   "source": [
    "import os\n",
    "\n",
    "model_dir = \"models/\"\n",
    "model_name_pattern = \"lda_epoch_{}.model\"\n",
    "m_path = os.path.join(model_dir, model_name_pattern)\n",
    "\n",
    "\n",
    "if not os.path.exists(model_dir):\n",
    "    os.mkdir(model_dir)"
   ]
  },
  {
   "cell_type": "code",
   "execution_count": 6,
   "metadata": {
    "collapsed": false,
    "deletable": true,
    "editable": true
   },
   "outputs": [
    {
     "name": "stderr",
     "output_type": "stream",
     "text": [
      "2017-05-07 17:12:57,058 : ERROR : Epoch 1\n",
      "2017-05-07 17:13:55,619 : ERROR : Epoch 2\n",
      "2017-05-07 17:14:45,761 : ERROR : Epoch 3\n"
     ]
    }
   ],
   "source": [
    "from gensim.models import LdaMulticore\n",
    "\n",
    "lda = LdaMulticore(num_topics=15, id2word=dictionary, workers=4, eval_every=None, passes=5, batch=True)\n",
    "\n",
    "for ep in range(3):\n",
    "    logging.error(\"Epoch %d\", ep + 1)\n",
    "    lda.update(d2b_dataset)\n",
    "    lda.save(m_path.format(ep + 1))"
   ]
  },
  {
   "cell_type": "markdown",
   "metadata": {
    "collapsed": true,
    "deletable": true,
    "editable": true
   },
   "source": [
    "## And now a question: \"What is a difference between models from epoch?\""
   ]
  },
  {
   "cell_type": "markdown",
   "metadata": {
    "deletable": true,
    "editable": true
   },
   "source": [
    "## 4. Show difference between models"
   ]
  },
  {
   "cell_type": "code",
   "execution_count": 7,
   "metadata": {
    "collapsed": false,
    "deletable": true,
    "editable": true
   },
   "outputs": [],
   "source": [
    "from gensim.model_difference import topic2topic_difference\n",
    "import plotly.offline as py\n",
    "import plotly.graph_objs as go\n",
    "py.init_notebook_mode()\n",
    "\n",
    "\n",
    "p1, p2 = m_path.format(2), m_path.format(3)\n",
    "m1, m2 = LdaMulticore.load(p1), LdaMulticore.load(p2)"
   ]
  },
  {
   "cell_type": "code",
   "execution_count": 9,
   "metadata": {
    "collapsed": false,
    "deletable": true,
    "editable": true
   },
   "outputs": [
    {
     "data": {
      "application/vnd.plotly.v1+json": {
       "data": [
        {
         "colorscale": "RdBu",
         "text": [
          [
           "+++ peopl, system, state, netcom, support, say, more, gener, thing, most<br>--- against, effect, much, inform, here, polit, secur, clipper, through, polici",
           "+++ who, don, year, work, new, good, think, been, when, over<br>--- kevin, usa, soon, doe, list, than, 250, group, govern, hous",
           "+++ come, want, well, becaus, could, them, year, had, mani, been<br>--- group, armenia, turkish, came, made, issu, protect, american, put, team",
           "+++ program, your, these, make, then, other, system, most, work, more<br>--- base, send, clipper, american, set, countri, govern, user, turkey, russian",
           "+++ two, first, other, new, don, into, tri, want, make, work<br>--- issu, after, ide, privaci, window, cabl, machin, mani, their, govern",
           "+++ how, world, don, inform, want, good, onli, group, work, need<br>--- now, who, advanc, vga, been, much, those, driver, via, over",
           "+++ them, year, their, more, good, make, nation, law, right, new<br>--- handgun, did, stephanopoulo, gener, then, loui, when, jose, may, homicid",
           "+++ these, first, more, encrypt, call, into, need, clipper, than, gener<br>--- servic, greek, armenia, said, mission, launch, escrow, sci, state, nation",
           "+++ system, good, take, well, after, make, who, those, may, than<br>--- said, state, health, public, servic, turkish, cancer, them, question, doe",
           "+++ your, don, world, may, most, tri, had, mani, time, also<br>--- live, program, job, inform, turk, fact, exist, exampl, call, american",
           "+++ see, say, even, also, how, when, most, your, right, now<br>--- insur, servic, back, said, too, american, number, output, countri, tire",
           "+++ good, law, think, now, how, other, peopl, say, time, system<br>--- caltech, war, our, keep, job, privaci, program, tek, over, murder",
           "+++ want, were, much, think, good, which, work, could, make, world<br>--- sun, netcom, anyon, doe, run, repli, support, box, hot, current",
           "+++ becaus, those, after, make, onli, year, even, time, american, other<br>--- servic, turk, over, sandvik, law, clinton, opinion, program, kill, should",
           "+++ <br>--- when, make, russian, scienc, g9v, today, 13p, stephanopoulo, mani, job"
          ],
          [
           "+++ who, don, year, work, new, good, think, been, when, over<br>--- kevin, usa, soon, doe, list, than, 250, group, govern, hous",
           "+++ intellect, fan, over, mail, work, year, win, ahl, world, leagu<br>--- buffalo, atlanta, two, time, divis, marc, their, mit, gene, tri",
           "+++ think, also, more, too, see, good, play, game, fan, other<br>--- look, doe, left, 1993, hit, april, where, gordon, scienc, pleas",
           "+++ work, make, onli, don, see, comput, time, which, doe, when<br>--- bit, most, standard, shame, umanitoba, sourc, data, server, than, pleas",
           "+++ other, make, world, been, your, comput, doe, onli, when, these<br>--- umanitoba, weight, back, call, devic, tape, thing, someth, problem, who",
           "+++ question, time, doe, mail, new, don, work, repli, your, world<br>--- comp, geb, skeptic, cup, who, driver, these, 250, gov, vga",
           "+++ here, who, april, new, player, hockey, game, think, toronto, nhl<br>--- jet, king, univ, repli, pleas, comput, detroit, see, 000, mail",
           "+++ these, 1993, new, comput, when, two, may, also, which, doe<br>--- should, soon, call, zoolog, public, number, were, then, kevin, institut",
           "+++ tri, new, been, pleas, comput, make, doe, good, who, here<br>--- nec, their, too, sweden, medic, news, prism, john, pain, mous",
           "+++ make, doe, question, see, tri, been, their, also, good, onli<br>--- new, weight, gordon, right, april, hockey, shame, find, could, bank",
           "+++ tri, year, been, doe, time, repli, question, which, onli, don<br>--- spencer, prism, chang, build, could, world, never, info, cost, check",
           "+++ usa, doe, tri, technolog, time, think, make, may, more, don<br>--- caus, shall, anyon, hockey, say, surrend, militia, umanitoba, gordon, let",
           "+++ more, think, these, don, new, work, two, comput, other, when<br>--- technolog, brian, into, run, shame, design, where, intellect, soon, down",
           "+++ org, tri, see, doe, also, let, year, repli, onli, other<br>--- canada, becaus, over, even, adam, sandvik, peac, mani, institut, gatech",
           "+++ scienc, nhl<br>--- 1d9, max, internet, rauser, john, these, when, 2tg, game, a86"
          ],
          [
           "+++ come, want, well, becaus, could, them, year, had, mani, been<br>--- group, armenia, turkish, came, made, issu, protect, american, put, team",
           "+++ think, also, more, too, see, good, play, game, fan, other<br>--- look, doe, left, 1993, hit, april, where, gordon, scienc, pleas",
           "+++ better, him, look, year, team, here, when, got, start, someth<br>--- great, which, saw, while, around, made",
           "+++ want, time, run, look, when, onli, how, make, most, where<br>--- around, code, year, hit, him, imag, work, two, let, directori",
           "+++ than, come, then, which, becaus, thing, into, how, other, veri<br>--- speed, better, comput, down, game, thank, system, control, distribut, window",
           "+++ good, also, your, best, time, look, which, want, think, how<br>--- pleas, new, she, did, her, team, internet, address, make, run",
           "+++ who, year, player, them, win, more, score, right, make, don<br>--- confer, better, nhl, jose, after, had, too, thing, home, bill",
           "+++ into, peopl, call, their, think, point, how, could, time, also<br>--- thing, lunar, secret, hit, number, take, distribut, around, run, engin",
           "+++ more, don, most, should, other, been, which, could, right, your<br>--- got, off, mail, play, their, fan, pleas, 1993, system, distribut",
           "+++ now, see, their, had, make, said, did, well, don, even<br>--- back, argument, bibl, exist, run, world, christian, after, moral, find",
           "+++ other, want, look, someth, car, how, day, too, were, back<br>--- insur, got, two, our, play, list, put, tell, their, alaska",
           "+++ make, whi, been, say, right, well, here, their, good, then<br>--- play, game, system, need, run, tri, crime, where, did, two",
           "+++ don, think, which, also, two, look, could, then, back, your<br>--- need, hot, while, didn, she, home, team, design, first, peopl",
           "+++ right, should, well, say, been, time, where, most, even, who<br>--- civilian, last, opinion, these, polici, realli, good, anoth, research, war",
           "+++ <br>--- fan, their, now, z6ei, gizw, didn, been, b8f, u3l, u34u"
          ],
          [
           "+++ program, your, these, make, then, other, system, most, work, more<br>--- base, send, clipper, american, set, countri, govern, user, turkey, russian",
           "+++ work, make, onli, don, see, comput, time, which, doe, when<br>--- bit, most, standard, shame, umanitoba, sourc, data, server, than, pleas",
           "+++ want, time, run, look, when, onli, how, make, most, where<br>--- around, code, year, hit, him, imag, work, two, let, directori",
           "+++ address, code, work, version, resourc, avail, imag, name, same, provid<br>--- gif, xterm, number, memori, pleas, card, directori, into",
           "+++ repli, make, than, machin, your, thank, help, call, version, then<br>--- fax, find, instal, cabl, back, support, client, seem, color, screen",
           "+++ info, which, repli, version, email, data, new, ftp, comput, color<br>--- chip, ship, mark, process, advanc, could, jpeg, should, engin, interest",
           "+++ new, your, make, file, than, onli, don, more, name, other<br>--- right, play, packag, manag, mac, provid, divis, thank, program, run",
           "+++ also, need, don, program, system, bit, onli, distribut, call, which<br>--- mail, convert, color, nasa, ftp, same, technolog, shuttl, function, server",
           "+++ comput, distribut, time, more, these, system, work, new, other, mail<br>--- good, had, here, mac, sun, world, scienc, ftp, process, packag",
           "+++ when, your, see, how, also, more, into, doe, same, don<br>--- exampl, question, provid, own, exist, even, moral, point, thing, way",
           "+++ more, distribut, repli, don, see, file, look, want, also, send<br>--- long, run, first, tri, pub, base, support, start, insur, call",
           "+++ read, need, don, when, onli, time, distribut, how, may, problem<br>--- imag, applic, includ, stratu, repli, sourc, crimin, state, own, type",
           "+++ these, problem, look, new, distribut, make, may, your, also, don<br>--- bit, had, format, chip, light, question, widget, dog, mit, mac",
           "+++ into, onli, see, same, your, should, most, then, want, doe<br>--- soldier, reason, fax, mac, problem, mcgill, forc, card, client, could",
           "+++ <br>--- includ, distribut, jpeg, 75u, graphic, how, want, ghj, data, repli"
          ],
          [
           "+++ two, first, other, new, don, into, tri, want, make, work<br>--- issu, after, ide, privaci, window, cabl, machin, mani, their, govern",
           "+++ other, make, world, been, your, comput, doe, onli, when, these<br>--- umanitoba, weight, back, call, devic, tape, thing, someth, problem, who",
           "+++ than, come, then, which, becaus, thing, into, how, other, veri<br>--- speed, better, comput, down, game, thank, system, control, distribut, window",
           "+++ repli, make, than, machin, your, thank, help, call, version, then<br>--- fax, find, instal, cabl, back, support, client, seem, color, screen",
           "+++ disk, meg, differ, work, then, them, memori, much, softwar, engin<br>--- cabl, under, usa, take, who, card, devic, data",
           "+++ mac, pleas, distribut, driver, don, anyon, time, want, softwar, could<br>--- control, board, machin, realli, color, differ, avail, network, includ, origin",
           "+++ been, file, control, make, think, good, who, first, onli, more<br>--- playoff, rate, firearm, crimin, pleas, now, period, under, chicago, much",
           "+++ engin, more, two, other, how, been, these, should, into, then<br>--- 1993, sci, appl, clipper, scienc, control, window, commun, under, algorithm",
           "+++ make, need, than, becaus, problem, now, don, when, more, these<br>--- softwar, think, med, medic, caus, back, chang, version, medicin, gener",
           "+++ your, how, also, than, good, make, who, want, much, when<br>--- see, christ, first, set, moral, reason, ram, life, realli, disk",
           "+++ who, other, need, which, thing, program, them, well, someth, look<br>--- tax, alaska, never, softwar, driver, ide, start, power, dod, tape",
           "+++ well, under, usa, when, time, much, need, doe, should, been<br>--- caltech, may, law, court, want, fire, texa, into, someth, gun",
           "+++ had, now, realli, think, then, seem, want, how, run, been<br>--- where, those, memori, boot, floppi, call, same, better, chip, gov",
           "+++ now, other, also, tri, way, had, your, don, doe, these<br>--- file, pleas, new, state, mac, look, attack, their, give, center",
           "+++ <br>--- into, bs0t, vmk, b8e, ram, cub, a86, bhjn, two, g9v"
          ],
          [
           "+++ how, world, don, inform, want, good, onli, group, work, need<br>--- now, who, advanc, vga, been, much, those, driver, via, over",
           "+++ question, time, doe, mail, new, don, work, repli, your, world<br>--- comp, geb, skeptic, cup, who, driver, these, 250, gov, vga",
           "+++ good, also, your, best, time, look, which, want, think, how<br>--- pleas, new, she, did, her, team, internet, address, make, run",
           "+++ info, which, repli, version, email, data, new, ftp, comput, color<br>--- chip, ship, mark, process, advanc, could, jpeg, should, engin, interest",
           "+++ mac, pleas, distribut, driver, don, anyon, time, want, softwar, could<br>--- control, board, machin, realli, color, differ, avail, network, includ, origin",
           "+++ advanc, veri, email, your, help, bit, program, state, access, origin<br>--- tri, site, book, buy, question, best, space, machin, scienc, file",
           "+++ new, onli, good, your, number, state, time, other, don, file<br>--- system, 100, address, here, newsgroup, island, appreci, data, electron, gun",
           "+++ your, veri, avail, includ, system, comput, data, access, need, bit<br>--- pleas, 1993, center, look, port, contact, vga, nasa, commun, electron",
           "+++ veri, find, also, usa, ibm, other, repli, program, comput, which<br>--- think, caus, med, inc, bit, softwar, when, interest, chip, right",
           "+++ veri, your, world, doe, other, good, onli, also, find, time<br>--- news, version, sell, their, exist, thank, them, whi, video, peopl",
           "+++ new, look, your, anyon, list, could, which, also, repli, number<br>--- pub, email, motorcycl, output, thank, org, into, mac, ftp, card",
           "+++ inc, need, other, anyon, also, usa, tri, don, time, think<br>--- even, etc, caltech, look, interest, avail, contact, keep, graphic, monitor",
           "+++ access, time, engin, onli, don, good, system, comput, doe, how<br>--- fnal, should, offer, make, them, avail, bit, question, serial, most",
           "+++ repli, time, think, also, how, don, onli, state, want, which<br>--- into, softwar, land, had, year, newsread, modem, number, forc, jew",
           "+++ <br>--- mac, 1f9, 2tct, 7ey, ghj, video, comp, 13p, nuy, 9f9"
          ],
          [
           "+++ them, year, their, more, good, make, nation, law, right, new<br>--- handgun, did, stephanopoulo, gener, then, loui, when, jose, may, homicid",
           "+++ here, who, april, new, player, hockey, game, think, toronto, nhl<br>--- jet, king, univ, repli, pleas, comput, detroit, see, 000, mail",
           "+++ who, year, player, them, win, more, score, right, make, don<br>--- confer, better, nhl, jose, after, had, too, thing, home, bill",
           "+++ new, your, make, file, than, onli, don, more, name, other<br>--- right, play, packag, manag, mac, provid, divis, thank, program, run",
           "+++ been, file, control, make, think, good, who, first, onli, more<br>--- playoff, rate, firearm, crimin, pleas, now, period, under, chicago, much",
           "+++ new, onli, good, your, number, state, time, other, don, file<br>--- system, 100, address, here, newsgroup, island, appreci, data, electron, gun",
           "+++ pick, don, 1993, polic, island, new, make, player, april, san<br>--- usa, whi, canada, may, when, were, loui, which, last, confer",
           "+++ 1993, don, other, first, inform, when, good, been, think, peopl<br>--- even, call, satellit, citi, crypto, law, earth, season, develop, technolog",
           "+++ don, than, which, new, should, may, make, good, how, usa<br>--- play, test, nec, patient, same, vancouv, veri, take, art, clinic",
           "+++ right, may, your, their, onli, also, law, here, whi, time<br>--- veri, reason, belief, much, part, season, hockey, truth, same, shot",
           "+++ should, name, first, number, file, them, had, right, distribut, here<br>--- take, hockey, playoff, most, nhl, bmw, goal, pittsburgh, these, must",
           "+++ right, should, their, usa, peopl, think, law, also, had, then<br>--- san, playoff, msg, american, file, nation, govern, institut, driver, toronto",
           "+++ been, should, also, here, time, good, power, don, then, whi<br>--- dog, doe, help, chi, now, goal, hot, nhl, montreal, sun",
           "+++ were, said, more, year, think, their, who, your, point, time<br>--- weapon, civilian, against, soldier, mcgill, gun, good, repli, king, rate",
           "+++ nhl<br>--- rlk, offic, fij, nation, okz, nei, 6ei, your, own, 1eq"
          ],
          [
           "+++ these, first, more, encrypt, call, into, need, clipper, than, gener<br>--- servic, greek, armenia, said, mission, launch, escrow, sci, state, nation",
           "+++ these, 1993, new, comput, when, two, may, also, which, doe<br>--- should, soon, call, zoolog, public, number, were, then, kevin, institut",
           "+++ into, peopl, call, their, think, point, how, could, time, also<br>--- thing, lunar, secret, hit, number, take, distribut, around, run, engin",
           "+++ also, need, don, program, system, bit, onli, distribut, call, which<br>--- mail, convert, color, nasa, ftp, same, technolog, shuttl, function, server",
           "+++ engin, more, two, other, how, been, these, should, into, then<br>--- 1993, sci, appl, clipper, scienc, control, window, commun, under, algorithm",
           "+++ your, veri, avail, includ, system, comput, data, access, need, bit<br>--- pleas, 1993, center, look, port, contact, vga, nasa, commun, electron",
           "+++ 1993, don, other, first, inform, when, good, been, think, peopl<br>--- even, call, satellit, citi, crypto, law, earth, season, develop, technolog",
           "+++ first, rocket, doe, technolog, might, clipper, make, develop, may, when<br>--- commun, look, center, thing, oper, much, scienc, cost, whi, question",
           "+++ make, good, comput, other, need, veri, may, distribut, should, your<br>--- appear, window, part, peopl, crypto, key, sci, anyon, nasa, gov",
           "+++ whi, now, were, than, into, doe, see, don, point, time<br>--- here, must, two, phone, law, comput, exist, our, becaus, secret",
           "+++ make, see, more, also, should, these, how, much, when, way<br>--- two, gener, includ, output, pgp, nsa, point, most, their, mission",
           "+++ other, then, doe, technolog, their, think, also, distribut, make, may<br>--- mission, develop, gov, law, fire, comput, point, under, engin, caus",
           "+++ nasa, these, were, look, thing, much, don, more, chip, two<br>--- satellit, phone, data, lunar, program, ground, sci, those, say, mission",
           "+++ think, time, year, other, call, even, govern, now, when, then<br>--- becaus, agenc, gener, cleveland, center, access, mani, may, arab, launch",
           "+++ <br>--- time, develop, g9p, these, satellit, fyn, 24e, moon, rlk, 1z6e"
          ],
          [
           "+++ system, good, take, well, after, make, who, those, may, than<br>--- said, state, health, public, servic, turkish, cancer, them, question, doe",
           "+++ tri, new, been, pleas, comput, make, doe, good, who, here<br>--- nec, their, too, sweden, medic, news, prism, john, pain, mous",
           "+++ more, don, most, should, other, been, which, could, right, your<br>--- got, off, mail, play, their, fan, pleas, 1993, system, distribut",
           "+++ comput, distribut, time, more, these, system, work, new, other, mail<br>--- good, had, here, mac, sun, world, scienc, ftp, process, packag",
           "+++ make, need, than, becaus, problem, now, don, when, more, these<br>--- softwar, think, med, medic, caus, back, chang, version, medicin, gener",
           "+++ veri, find, also, usa, ibm, other, repli, program, comput, which<br>--- think, caus, med, inc, bit, softwar, when, interest, chip, right",
           "+++ don, than, which, new, should, may, make, good, how, usa<br>--- play, test, nec, patient, same, vancouv, veri, take, art, clinic",
           "+++ make, good, comput, other, need, veri, may, distribut, should, your<br>--- appear, window, part, peopl, crypto, key, sci, anyon, nasa, gov",
           "+++ more, year, monitor, here, same, need, call, manag, becaus, mous<br>--- test, realli, man, whi, clinic, copi, each, ann, med, them",
           "+++ question, even, doe, also, veri, man, take, well, time, had<br>--- point, net, faith, patient, etc, evid, our, law, way, exist",
           "+++ question, more, other, when, well, your, than, take, should, veri<br>--- bmw, find, 1993, thank, send, cost, off, etc, auto, mous",
           "+++ anyon, need, who, whi, case, doe, your, here, even, problem<br>--- call, net, window, after, believ, pain, refer, shall, center, carri",
           "+++ had, even, case, question, here, should, also, now, good, than<br>--- appear, patient, cool, diseas, power, outlet, ibm, fnal, refer, right",
           "+++ most, who, want, also, same, them, world, call, your, doe<br>--- state, war, man, govern, number, mous, anyon, lebanes, window, against",
           "+++ scienc<br>--- vmk, net, pleas, repli, who, mail, wwiz, mb8f, 75u, gizw"
          ],
          [
           "+++ your, don, world, may, most, tri, had, mani, time, also<br>--- live, program, job, inform, turk, fact, exist, exampl, call, american",
           "+++ make, doe, question, see, tri, been, their, also, good, onli<br>--- new, weight, gordon, right, april, hockey, shame, find, could, bank",
           "+++ now, see, their, had, make, said, did, well, don, even<br>--- back, argument, bibl, exist, run, world, christian, after, moral, find",
           "+++ when, your, see, how, also, more, into, doe, same, don<br>--- exampl, question, provid, own, exist, even, moral, point, thing, way",
           "+++ your, how, also, than, good, make, who, want, much, when<br>--- see, christ, first, set, moral, reason, ram, life, realli, disk",
           "+++ veri, your, world, doe, other, good, onli, also, find, time<br>--- news, version, sell, their, exist, thank, them, whi, video, peopl",
           "+++ right, may, your, their, onli, also, law, here, whi, time<br>--- veri, reason, belief, much, part, season, hockey, truth, same, shot",
           "+++ whi, now, were, than, into, doe, see, don, point, time<br>--- here, must, two, phone, law, comput, exist, our, becaus, secret",
           "+++ question, even, doe, also, veri, man, take, well, time, had<br>--- point, net, faith, patient, etc, evid, our, law, way, exist",
           "+++ come, human, also, these, way, much, book, which, take, doe<br>--- exampl, sin",
           "+++ also, question, say, want, read, tri, someth, think, more, way<br>--- point, believ, fact, entri, sure, auto, anyon, argument, start, moral",
           "+++ who, been, here, may, when, reason, mean, person, make, tri<br>--- institut, arm, book, live, crimin, exist, weapon, austin, day, our",
           "+++ had, differ, thing, want, tri, more, doe, time, whi, them<br>--- repli, engin, law, did, come, state, christian, part, jpl, peopl",
           "+++ did, who, time, onli, those, then, were, question, them, how<br>--- let, order, evid, sandvik, find, isra, adam, american, islam, govern",
           "+++ <br>--- q30t, bxn, 1z4, p4u, onli, veri, own, argument, air, islam"
          ],
          [
           "+++ see, say, even, also, how, when, most, your, right, now<br>--- insur, servic, back, said, too, american, number, output, countri, tire",
           "+++ tri, year, been, doe, time, repli, question, which, onli, don<br>--- spencer, prism, chang, build, could, world, never, info, cost, check",
           "+++ other, want, look, someth, car, how, day, too, were, back<br>--- insur, got, two, our, play, list, put, tell, their, alaska",
           "+++ more, distribut, repli, don, see, file, look, want, also, send<br>--- long, run, first, tri, pub, base, support, start, insur, call",
           "+++ who, other, need, which, thing, program, them, well, someth, look<br>--- tax, alaska, never, softwar, driver, ide, start, power, dod, tape",
           "+++ new, look, your, anyon, list, could, which, also, repli, number<br>--- pub, email, motorcycl, output, thank, org, into, mac, ftp, card",
           "+++ should, name, first, number, file, them, had, right, distribut, here<br>--- take, hockey, playoff, most, nhl, bmw, goal, pittsburgh, these, must",
           "+++ make, see, more, also, should, these, how, much, when, way<br>--- two, gener, includ, output, pgp, nsa, point, most, their, mission",
           "+++ question, more, other, when, well, your, than, take, should, veri<br>--- bmw, find, 1993, thank, send, cost, off, etc, auto, mous",
           "+++ also, question, say, want, read, tri, someth, think, more, way<br>--- point, believ, fact, entri, sure, auto, anyon, argument, start, moral",
           "+++ make, other, off, file, distribut, think, new, back, time, may<br>--- help, sun, mail, brake, buy, includ, comput, oil, return, request",
           "+++ more, well, think, than, other, your, here, make, problem, may<br>--- new, bear, keith, person, build, work, waco, send, stratu, entri",
           "+++ system, repli, bike, than, question, tri, back, want, onli, need<br>--- first, current, alaska, wire, power, say, tax, ground, fnal, someth",
           "+++ well, want, year, then, don, into, see, should, repli, than<br>--- here, comput, send, polici, check, palestinian, read, problem, against, same",
           "+++ <br>--- r186, i0l, were, look, mb8f, 145, who, max, cost, bs0t"
          ],
          [
           "+++ good, law, think, now, how, other, peopl, say, time, system<br>--- caltech, war, our, keep, job, privaci, program, tek, over, murder",
           "+++ usa, doe, tri, technolog, time, think, make, may, more, don<br>--- caus, shall, anyon, hockey, say, surrend, militia, umanitoba, gordon, let",
           "+++ make, whi, been, say, right, well, here, their, good, then<br>--- play, game, system, need, run, tri, crime, where, did, two",
           "+++ read, need, don, when, onli, time, distribut, how, may, problem<br>--- imag, applic, includ, stratu, repli, sourc, crimin, state, own, type",
           "+++ well, under, usa, when, time, much, need, doe, should, been<br>--- caltech, may, law, court, want, fire, texa, into, someth, gun",
           "+++ inc, need, other, anyon, also, usa, tri, don, time, think<br>--- even, etc, caltech, look, interest, avail, contact, keep, graphic, monitor",
           "+++ right, should, their, usa, peopl, think, law, also, had, then<br>--- san, playoff, msg, american, file, nation, govern, institut, driver, toronto",
           "+++ other, then, doe, technolog, their, think, also, distribut, make, may<br>--- mission, develop, gov, law, fire, comput, point, under, engin, caus",
           "+++ anyon, need, who, whi, case, doe, your, here, even, problem<br>--- call, net, window, after, believ, pain, refer, shall, center, carri",
           "+++ who, been, here, may, when, reason, mean, person, make, tri<br>--- institut, arm, book, live, crimin, exist, weapon, austin, day, our",
           "+++ more, well, think, than, other, your, here, make, problem, may<br>--- new, bear, keith, person, build, work, waco, send, stratu, entri",
           "+++ now, other, caus, also, had, how, need, keep, tri, usa<br>--- polit, order, govern, technolog, militia, way, follow, mani, institut, schneider",
           "+++ onli, thing, tri, time, now, make, good, think, more, been<br>--- amp, must, look, connect, electr, driver, cool, their, help, dog",
           "+++ how, time, well, think, been, state, make, most, onli, other<br>--- see, center, law, kent, becaus, may, attack, cleveland, batf, adam",
           "+++ <br>--- bhjn, shall, follow, 9l3, model, nhl, 7ez, tri, driver, bs0t"
          ],
          [
           "+++ want, were, much, think, good, which, work, could, make, world<br>--- sun, netcom, anyon, doe, run, repli, support, box, hot, current",
           "+++ more, think, these, don, new, work, two, comput, other, when<br>--- technolog, brian, into, run, shame, design, where, intellect, soon, down",
           "+++ don, think, which, also, two, look, could, then, back, your<br>--- need, hot, while, didn, she, home, team, design, first, peopl",
           "+++ these, problem, look, new, distribut, make, may, your, also, don<br>--- bit, had, format, chip, light, question, widget, dog, mit, mac",
           "+++ had, now, realli, think, then, seem, want, how, run, been<br>--- where, those, memori, boot, floppi, call, same, better, chip, gov",
           "+++ access, time, engin, onli, don, good, system, comput, doe, how<br>--- fnal, should, offer, make, them, avail, bit, question, serial, most",
           "+++ been, should, also, here, time, good, power, don, then, whi<br>--- dog, doe, help, chi, now, goal, hot, nhl, montreal, sun",
           "+++ nasa, these, were, look, thing, much, don, more, chip, two<br>--- satellit, phone, data, lunar, program, ground, sci, those, say, mission",
           "+++ had, even, case, question, here, should, also, now, good, than<br>--- appear, patient, cool, diseas, power, outlet, ibm, fnal, refer, right",
           "+++ had, differ, thing, want, tri, more, doe, time, whi, them<br>--- repli, engin, law, did, come, state, christian, part, jpl, peopl",
           "+++ system, repli, bike, than, question, tri, back, want, onli, need<br>--- first, current, alaska, wire, power, say, tax, ground, fnal, someth",
           "+++ onli, thing, tri, time, now, make, good, think, more, been<br>--- amp, must, look, connect, electr, driver, cool, their, help, dog",
           "+++ outlet, those, time, seem, think, thank, question, access, down, when<br>--- say, better, light, find, come, their, actual, version, hot, helmet",
           "+++ most, even, mani, doe, after, had, how, don, world, been<br>--- same, such, fnal, peac, realli, thing, jpl, work, protect, hole",
           "+++ <br>--- whi, fij, connect, m1t, nasa, u3l, 1eq, 5g9v, design, could"
          ],
          [
           "+++ becaus, those, after, make, onli, year, even, time, american, other<br>--- servic, turk, over, sandvik, law, clinton, opinion, program, kill, should",
           "+++ org, tri, see, doe, also, let, year, repli, onli, other<br>--- canada, becaus, over, even, adam, sandvik, peac, mani, institut, gatech",
           "+++ right, should, well, say, been, time, where, most, even, who<br>--- civilian, last, opinion, these, polici, realli, good, anoth, research, war",
           "+++ into, onli, see, same, your, should, most, then, want, doe<br>--- soldier, reason, fax, mac, problem, mcgill, forc, card, client, could",
           "+++ now, other, also, tri, way, had, your, don, doe, these<br>--- file, pleas, new, state, mac, look, attack, their, give, center",
           "+++ repli, time, think, also, how, don, onli, state, want, which<br>--- into, softwar, land, had, year, newsread, modem, number, forc, jew",
           "+++ were, said, more, year, think, their, who, your, point, time<br>--- weapon, civilian, against, soldier, mcgill, gun, good, repli, king, rate",
           "+++ think, time, year, other, call, even, govern, now, when, then<br>--- becaus, agenc, gener, cleveland, center, access, mani, may, arab, launch",
           "+++ most, who, want, also, same, them, world, call, your, doe<br>--- state, war, man, govern, number, mous, anyon, lebanes, window, against",
           "+++ did, who, time, onli, those, then, were, question, them, how<br>--- let, order, evid, sandvik, find, isra, adam, american, islam, govern",
           "+++ well, want, year, then, don, into, see, should, repli, than<br>--- here, comput, send, polici, check, palestinian, read, problem, against, same",
           "+++ how, time, well, think, been, state, make, most, onli, other<br>--- see, center, law, kent, becaus, may, attack, cleveland, batf, adam",
           "+++ most, even, mani, doe, after, had, how, don, world, been<br>--- same, such, fnal, peac, realli, thing, jpl, work, protect, hole",
           "+++ sandvik, did, time, against, make, soldier, say, into, tri, how<br>--- exist, sure, nazi, mean, two, isc, kent, lebanon",
           "+++ <br>--- 1d9l, world, land, whi, give, b8f, giz, fyn, r8f, methodolog"
          ],
          [
           "+++ <br>--- when, make, russian, scienc, g9v, today, 13p, stephanopoulo, mani, job",
           "+++ scienc, nhl<br>--- 1d9, max, internet, rauser, john, these, when, 2tg, game, a86",
           "+++ <br>--- fan, their, now, z6ei, gizw, didn, been, b8f, u3l, u34u",
           "+++ <br>--- includ, distribut, jpeg, 75u, graphic, how, want, ghj, data, repli",
           "+++ <br>--- into, bs0t, vmk, b8e, ram, cub, a86, bhjn, two, g9v",
           "+++ <br>--- mac, 1f9, 2tct, 7ey, ghj, video, comp, 13p, nuy, 9f9",
           "+++ nhl<br>--- rlk, offic, fij, nation, okz, nei, 6ei, your, own, 1eq",
           "+++ <br>--- time, develop, g9p, these, satellit, fyn, 24e, moon, rlk, 1z6e",
           "+++ scienc<br>--- vmk, net, pleas, repli, who, mail, wwiz, mb8f, 75u, gizw",
           "+++ <br>--- q30t, bxn, 1z4, p4u, onli, veri, own, argument, air, islam",
           "+++ <br>--- r186, i0l, were, look, mb8f, 145, who, max, cost, bs0t",
           "+++ <br>--- bhjn, shall, follow, 9l3, model, nhl, 7ez, tri, driver, bs0t",
           "+++ <br>--- whi, fij, connect, m1t, nasa, u3l, 1eq, 5g9v, design, could",
           "+++ <br>--- 1d9l, world, land, whi, give, b8f, giz, fyn, r8f, methodolog",
           "+++ b8e, mb8f, g9p, bxn, p4u, 1fpl, 7ez, qtm, 24e, european<br>--- nriz, play, q30t, think, ladi, hockey, bs0t, isc, nei, 6e1t"
          ]
         ],
         "type": "heatmap",
         "z": [
          [
           0.0034579337016431284,
           0.5460206028064964,
           0.41792513015673316,
           0.5665167100818196,
           0.5504558963032338,
           0.6289942663183405,
           0.4637179848616542,
           0.37186438578297226,
           0.4344413938910197,
           0.39757163946901136,
           0.4403160245984441,
           0.42670388853239266,
           0.4854534854177021,
           0.3301193223170454,
           0.9328245731727686
          ],
          [
           0.5460206028064964,
           0.009228231378217891,
           0.6504579332649667,
           0.7702697917352059,
           0.6983848374605522,
           0.7215273626972614,
           0.6142531848288382,
           0.7009485085176576,
           0.6122069561788587,
           0.8334401997576641,
           0.6835907237870524,
           0.7657568577952902,
           0.7301677026478313,
           0.8022253574884691,
           0.9993182707686051
          ],
          [
           0.41792513015673316,
           0.6504579332649667,
           0.004743471726026451,
           0.5875036587878544,
           0.41188957076937455,
           0.5850166335230588,
           0.37564156166732743,
           0.4427475343422841,
           0.4219011269359181,
           0.4051072123173873,
           0.37305392983135494,
           0.41588133613691153,
           0.4251153210747035,
           0.42625606501432695,
           0.8866317585446327
          ],
          [
           0.5665167100818196,
           0.7702697917352059,
           0.5875036587878544,
           0.006208386444651325,
           0.36196843475303336,
           0.35619264414437185,
           0.64339361265391,
           0.4493704089816424,
           0.4102004905353265,
           0.6762125151046874,
           0.44323321928556214,
           0.5366489704782497,
           0.45089068799060017,
           0.6536029779545915,
           0.9920908392813236
          ],
          [
           0.5504558963032338,
           0.6983848374605522,
           0.41188957076937455,
           0.36196843475303336,
           0.006957801580349068,
           0.3736752925121531,
           0.5658979750447231,
           0.4628986131740452,
           0.39559539679332545,
           0.596657935327935,
           0.3850720344416863,
           0.45929008177431396,
           0.37019917120820195,
           0.5846713938368063,
           0.9406287560582131
          ],
          [
           0.6289942663183405,
           0.7215273626972614,
           0.5850166335230588,
           0.35619264414437185,
           0.3736752925121531,
           0.006538954976081881,
           0.6377556450317615,
           0.4922742207767619,
           0.43993433513108776,
           0.743615237691171,
           0.48373265328989323,
           0.5741473878526638,
           0.4476700074027208,
           0.7136871928882407,
           1
          ],
          [
           0.4637179848616542,
           0.6142531848288382,
           0.37564156166732743,
           0.64339361265391,
           0.5658979750447231,
           0.6377556450317615,
           0.007690991829791397,
           0.6311095881646563,
           0.5967949076301019,
           0.7275580418136007,
           0.593419161623645,
           0.5788478294923145,
           0.6682209564736596,
           0.6479030148013042,
           0.9497450456797034
          ],
          [
           0.37186438578297226,
           0.7009485085176576,
           0.4427475343422841,
           0.4493704089816424,
           0.4628986131740452,
           0.4922742207767619,
           0.6311095881646563,
           0.0049120230162064795,
           0.436984079603768,
           0.5535897276238425,
           0.43220235491530923,
           0.48459487927233136,
           0.39937261710855304,
           0.5523945079244769,
           0.954223738164121
          ],
          [
           0.4344413938910197,
           0.6122069561788587,
           0.4219011269359181,
           0.4102004905353265,
           0.39559539679332545,
           0.43993433513108776,
           0.5967949076301019,
           0.436984079603768,
           0.010227605064035231,
           0.5737550192856381,
           0.44448027217171376,
           0.5002135262160907,
           0.4561882374811932,
           0.5790851060898163,
           0.9294417078865185
          ],
          [
           0.39757163946901136,
           0.8334401997576641,
           0.4051072123173873,
           0.6762125151046874,
           0.596657935327935,
           0.743615237691171,
           0.7275580418136007,
           0.5535897276238425,
           0.5737550192856381,
           0.0025651161275040833,
           0.4405085232490711,
           0.38419378519322983,
           0.4730666951822276,
           0.2932429942558325,
           0.9240858499326307
          ],
          [
           0.4403160245984441,
           0.6835907237870524,
           0.37305392983135494,
           0.44323321928556214,
           0.3850720344416863,
           0.48373265328989323,
           0.593419161623645,
           0.43220235491530923,
           0.44448027217171376,
           0.4405085232490711,
           0.0072675375628551645,
           0.4324708858589101,
           0.34643035611544976,
           0.5126439530333057,
           0.9064301348538859
          ],
          [
           0.42670388853239266,
           0.7657568577952902,
           0.41588133613691153,
           0.5366489704782497,
           0.45929008177431396,
           0.5741473878526638,
           0.5788478294923145,
           0.48459487927233136,
           0.5002135262160907,
           0.38419378519322983,
           0.4324708858589101,
           0.010625052107425313,
           0.531626399689315,
           0.5178185222517493,
           0.9772109082493865
          ],
          [
           0.4854534854177021,
           0.7301677026478313,
           0.4251153210747035,
           0.45089068799060017,
           0.37019917120820195,
           0.4476700074027208,
           0.6682209564736596,
           0.39937261710855304,
           0.4561882374811932,
           0.4730666951822276,
           0.34643035611544976,
           0.531626399689315,
           0.006864537713351417,
           0.581900262553249,
           0.9475780518602224
          ],
          [
           0.3301193223170454,
           0.8022253574884691,
           0.42625606501432695,
           0.6536029779545915,
           0.5846713938368063,
           0.7136871928882407,
           0.6479030148013042,
           0.5523945079244769,
           0.5790851060898163,
           0.2932429942558325,
           0.5126439530333057,
           0.5178185222517493,
           0.581900262553249,
           0.005150612569984593,
           0.9747644424253162
          ],
          [
           0.9328245731727686,
           0.9993182707686051,
           0.8866317585446327,
           0.9920908392813236,
           0.9406287560582131,
           1,
           0.9497450456797034,
           0.954223738164121,
           0.9294417078865185,
           0.9240858499326307,
           0.9064301348538859,
           0.9772109082493865,
           0.9475780518602224,
           0.9747644424253162,
           0.04170687783172413
          ]
         ]
        }
       ],
       "layout": {
        "height": 950,
        "title": "Topic difference (kulback_leibler)",
        "width": 950,
        "xaxis": {
         "title": "topic"
        },
        "yaxis": {
         "title": "topic"
        }
       }
      },
      "text/html": [
       "<div id=\"5acfa1e2-1683-4257-bbfe-449e170a3401\" style=\"height: 950px; width: 950px;\" class=\"plotly-graph-div\"></div><script type=\"text/javascript\">require([\"plotly\"], function(Plotly) { window.PLOTLYENV=window.PLOTLYENV || {};window.PLOTLYENV.BASE_URL=\"https://plot.ly\";Plotly.newPlot(\"5acfa1e2-1683-4257-bbfe-449e170a3401\", [{\"text\": [[\"+++ peopl, system, state, netcom, support, say, more, gener, thing, most<br>--- against, effect, much, inform, here, polit, secur, clipper, through, polici\", \"+++ who, don, year, work, new, good, think, been, when, over<br>--- kevin, usa, soon, doe, list, than, 250, group, govern, hous\", \"+++ come, want, well, becaus, could, them, year, had, mani, been<br>--- group, armenia, turkish, came, made, issu, protect, american, put, team\", \"+++ program, your, these, make, then, other, system, most, work, more<br>--- base, send, clipper, american, set, countri, govern, user, turkey, russian\", \"+++ two, first, other, new, don, into, tri, want, make, work<br>--- issu, after, ide, privaci, window, cabl, machin, mani, their, govern\", \"+++ how, world, don, inform, want, good, onli, group, work, need<br>--- now, who, advanc, vga, been, much, those, driver, via, over\", \"+++ them, year, their, more, good, make, nation, law, right, new<br>--- handgun, did, stephanopoulo, gener, then, loui, when, jose, may, homicid\", \"+++ these, first, more, encrypt, call, into, need, clipper, than, gener<br>--- servic, greek, armenia, said, mission, launch, escrow, sci, state, nation\", \"+++ system, good, take, well, after, make, who, those, may, than<br>--- said, state, health, public, servic, turkish, cancer, them, question, doe\", \"+++ your, don, world, may, most, tri, had, mani, time, also<br>--- live, program, job, inform, turk, fact, exist, exampl, call, american\", \"+++ see, say, even, also, how, when, most, your, right, now<br>--- insur, servic, back, said, too, american, number, output, countri, tire\", \"+++ good, law, think, now, how, other, peopl, say, time, system<br>--- caltech, war, our, keep, job, privaci, program, tek, over, murder\", \"+++ want, were, much, think, good, which, work, could, make, world<br>--- sun, netcom, anyon, doe, run, repli, support, box, hot, current\", \"+++ becaus, those, after, make, onli, year, even, time, american, other<br>--- servic, turk, over, sandvik, law, clinton, opinion, program, kill, should\", \"+++ <br>--- when, make, russian, scienc, g9v, today, 13p, stephanopoulo, mani, job\"], [\"+++ who, don, year, work, new, good, think, been, when, over<br>--- kevin, usa, soon, doe, list, than, 250, group, govern, hous\", \"+++ intellect, fan, over, mail, work, year, win, ahl, world, leagu<br>--- buffalo, atlanta, two, time, divis, marc, their, mit, gene, tri\", \"+++ think, also, more, too, see, good, play, game, fan, other<br>--- look, doe, left, 1993, hit, april, where, gordon, scienc, pleas\", \"+++ work, make, onli, don, see, comput, time, which, doe, when<br>--- bit, most, standard, shame, umanitoba, sourc, data, server, than, pleas\", \"+++ other, make, world, been, your, comput, doe, onli, when, these<br>--- umanitoba, weight, back, call, devic, tape, thing, someth, problem, who\", \"+++ question, time, doe, mail, new, don, work, repli, your, world<br>--- comp, geb, skeptic, cup, who, driver, these, 250, gov, vga\", \"+++ here, who, april, new, player, hockey, game, think, toronto, nhl<br>--- jet, king, univ, repli, pleas, comput, detroit, see, 000, mail\", \"+++ these, 1993, new, comput, when, two, may, also, which, doe<br>--- should, soon, call, zoolog, public, number, were, then, kevin, institut\", \"+++ tri, new, been, pleas, comput, make, doe, good, who, here<br>--- nec, their, too, sweden, medic, news, prism, john, pain, mous\", \"+++ make, doe, question, see, tri, been, their, also, good, onli<br>--- new, weight, gordon, right, april, hockey, shame, find, could, bank\", \"+++ tri, year, been, doe, time, repli, question, which, onli, don<br>--- spencer, prism, chang, build, could, world, never, info, cost, check\", \"+++ usa, doe, tri, technolog, time, think, make, may, more, don<br>--- caus, shall, anyon, hockey, say, surrend, militia, umanitoba, gordon, let\", \"+++ more, think, these, don, new, work, two, comput, other, when<br>--- technolog, brian, into, run, shame, design, where, intellect, soon, down\", \"+++ org, tri, see, doe, also, let, year, repli, onli, other<br>--- canada, becaus, over, even, adam, sandvik, peac, mani, institut, gatech\", \"+++ scienc, nhl<br>--- 1d9, max, internet, rauser, john, these, when, 2tg, game, a86\"], [\"+++ come, want, well, becaus, could, them, year, had, mani, been<br>--- group, armenia, turkish, came, made, issu, protect, american, put, team\", \"+++ think, also, more, too, see, good, play, game, fan, other<br>--- look, doe, left, 1993, hit, april, where, gordon, scienc, pleas\", \"+++ better, him, look, year, team, here, when, got, start, someth<br>--- great, which, saw, while, around, made\", \"+++ want, time, run, look, when, onli, how, make, most, where<br>--- around, code, year, hit, him, imag, work, two, let, directori\", \"+++ than, come, then, which, becaus, thing, into, how, other, veri<br>--- speed, better, comput, down, game, thank, system, control, distribut, window\", \"+++ good, also, your, best, time, look, which, want, think, how<br>--- pleas, new, she, did, her, team, internet, address, make, run\", \"+++ who, year, player, them, win, more, score, right, make, don<br>--- confer, better, nhl, jose, after, had, too, thing, home, bill\", \"+++ into, peopl, call, their, think, point, how, could, time, also<br>--- thing, lunar, secret, hit, number, take, distribut, around, run, engin\", \"+++ more, don, most, should, other, been, which, could, right, your<br>--- got, off, mail, play, their, fan, pleas, 1993, system, distribut\", \"+++ now, see, their, had, make, said, did, well, don, even<br>--- back, argument, bibl, exist, run, world, christian, after, moral, find\", \"+++ other, want, look, someth, car, how, day, too, were, back<br>--- insur, got, two, our, play, list, put, tell, their, alaska\", \"+++ make, whi, been, say, right, well, here, their, good, then<br>--- play, game, system, need, run, tri, crime, where, did, two\", \"+++ don, think, which, also, two, look, could, then, back, your<br>--- need, hot, while, didn, she, home, team, design, first, peopl\", \"+++ right, should, well, say, been, time, where, most, even, who<br>--- civilian, last, opinion, these, polici, realli, good, anoth, research, war\", \"+++ <br>--- fan, their, now, z6ei, gizw, didn, been, b8f, u3l, u34u\"], [\"+++ program, your, these, make, then, other, system, most, work, more<br>--- base, send, clipper, american, set, countri, govern, user, turkey, russian\", \"+++ work, make, onli, don, see, comput, time, which, doe, when<br>--- bit, most, standard, shame, umanitoba, sourc, data, server, than, pleas\", \"+++ want, time, run, look, when, onli, how, make, most, where<br>--- around, code, year, hit, him, imag, work, two, let, directori\", \"+++ address, code, work, version, resourc, avail, imag, name, same, provid<br>--- gif, xterm, number, memori, pleas, card, directori, into\", \"+++ repli, make, than, machin, your, thank, help, call, version, then<br>--- fax, find, instal, cabl, back, support, client, seem, color, screen\", \"+++ info, which, repli, version, email, data, new, ftp, comput, color<br>--- chip, ship, mark, process, advanc, could, jpeg, should, engin, interest\", \"+++ new, your, make, file, than, onli, don, more, name, other<br>--- right, play, packag, manag, mac, provid, divis, thank, program, run\", \"+++ also, need, don, program, system, bit, onli, distribut, call, which<br>--- mail, convert, color, nasa, ftp, same, technolog, shuttl, function, server\", \"+++ comput, distribut, time, more, these, system, work, new, other, mail<br>--- good, had, here, mac, sun, world, scienc, ftp, process, packag\", \"+++ when, your, see, how, also, more, into, doe, same, don<br>--- exampl, question, provid, own, exist, even, moral, point, thing, way\", \"+++ more, distribut, repli, don, see, file, look, want, also, send<br>--- long, run, first, tri, pub, base, support, start, insur, call\", \"+++ read, need, don, when, onli, time, distribut, how, may, problem<br>--- imag, applic, includ, stratu, repli, sourc, crimin, state, own, type\", \"+++ these, problem, look, new, distribut, make, may, your, also, don<br>--- bit, had, format, chip, light, question, widget, dog, mit, mac\", \"+++ into, onli, see, same, your, should, most, then, want, doe<br>--- soldier, reason, fax, mac, problem, mcgill, forc, card, client, could\", \"+++ <br>--- includ, distribut, jpeg, 75u, graphic, how, want, ghj, data, repli\"], [\"+++ two, first, other, new, don, into, tri, want, make, work<br>--- issu, after, ide, privaci, window, cabl, machin, mani, their, govern\", \"+++ other, make, world, been, your, comput, doe, onli, when, these<br>--- umanitoba, weight, back, call, devic, tape, thing, someth, problem, who\", \"+++ than, come, then, which, becaus, thing, into, how, other, veri<br>--- speed, better, comput, down, game, thank, system, control, distribut, window\", \"+++ repli, make, than, machin, your, thank, help, call, version, then<br>--- fax, find, instal, cabl, back, support, client, seem, color, screen\", \"+++ disk, meg, differ, work, then, them, memori, much, softwar, engin<br>--- cabl, under, usa, take, who, card, devic, data\", \"+++ mac, pleas, distribut, driver, don, anyon, time, want, softwar, could<br>--- control, board, machin, realli, color, differ, avail, network, includ, origin\", \"+++ been, file, control, make, think, good, who, first, onli, more<br>--- playoff, rate, firearm, crimin, pleas, now, period, under, chicago, much\", \"+++ engin, more, two, other, how, been, these, should, into, then<br>--- 1993, sci, appl, clipper, scienc, control, window, commun, under, algorithm\", \"+++ make, need, than, becaus, problem, now, don, when, more, these<br>--- softwar, think, med, medic, caus, back, chang, version, medicin, gener\", \"+++ your, how, also, than, good, make, who, want, much, when<br>--- see, christ, first, set, moral, reason, ram, life, realli, disk\", \"+++ who, other, need, which, thing, program, them, well, someth, look<br>--- tax, alaska, never, softwar, driver, ide, start, power, dod, tape\", \"+++ well, under, usa, when, time, much, need, doe, should, been<br>--- caltech, may, law, court, want, fire, texa, into, someth, gun\", \"+++ had, now, realli, think, then, seem, want, how, run, been<br>--- where, those, memori, boot, floppi, call, same, better, chip, gov\", \"+++ now, other, also, tri, way, had, your, don, doe, these<br>--- file, pleas, new, state, mac, look, attack, their, give, center\", \"+++ <br>--- into, bs0t, vmk, b8e, ram, cub, a86, bhjn, two, g9v\"], [\"+++ how, world, don, inform, want, good, onli, group, work, need<br>--- now, who, advanc, vga, been, much, those, driver, via, over\", \"+++ question, time, doe, mail, new, don, work, repli, your, world<br>--- comp, geb, skeptic, cup, who, driver, these, 250, gov, vga\", \"+++ good, also, your, best, time, look, which, want, think, how<br>--- pleas, new, she, did, her, team, internet, address, make, run\", \"+++ info, which, repli, version, email, data, new, ftp, comput, color<br>--- chip, ship, mark, process, advanc, could, jpeg, should, engin, interest\", \"+++ mac, pleas, distribut, driver, don, anyon, time, want, softwar, could<br>--- control, board, machin, realli, color, differ, avail, network, includ, origin\", \"+++ advanc, veri, email, your, help, bit, program, state, access, origin<br>--- tri, site, book, buy, question, best, space, machin, scienc, file\", \"+++ new, onli, good, your, number, state, time, other, don, file<br>--- system, 100, address, here, newsgroup, island, appreci, data, electron, gun\", \"+++ your, veri, avail, includ, system, comput, data, access, need, bit<br>--- pleas, 1993, center, look, port, contact, vga, nasa, commun, electron\", \"+++ veri, find, also, usa, ibm, other, repli, program, comput, which<br>--- think, caus, med, inc, bit, softwar, when, interest, chip, right\", \"+++ veri, your, world, doe, other, good, onli, also, find, time<br>--- news, version, sell, their, exist, thank, them, whi, video, peopl\", \"+++ new, look, your, anyon, list, could, which, also, repli, number<br>--- pub, email, motorcycl, output, thank, org, into, mac, ftp, card\", \"+++ inc, need, other, anyon, also, usa, tri, don, time, think<br>--- even, etc, caltech, look, interest, avail, contact, keep, graphic, monitor\", \"+++ access, time, engin, onli, don, good, system, comput, doe, how<br>--- fnal, should, offer, make, them, avail, bit, question, serial, most\", \"+++ repli, time, think, also, how, don, onli, state, want, which<br>--- into, softwar, land, had, year, newsread, modem, number, forc, jew\", \"+++ <br>--- mac, 1f9, 2tct, 7ey, ghj, video, comp, 13p, nuy, 9f9\"], [\"+++ them, year, their, more, good, make, nation, law, right, new<br>--- handgun, did, stephanopoulo, gener, then, loui, when, jose, may, homicid\", \"+++ here, who, april, new, player, hockey, game, think, toronto, nhl<br>--- jet, king, univ, repli, pleas, comput, detroit, see, 000, mail\", \"+++ who, year, player, them, win, more, score, right, make, don<br>--- confer, better, nhl, jose, after, had, too, thing, home, bill\", \"+++ new, your, make, file, than, onli, don, more, name, other<br>--- right, play, packag, manag, mac, provid, divis, thank, program, run\", \"+++ been, file, control, make, think, good, who, first, onli, more<br>--- playoff, rate, firearm, crimin, pleas, now, period, under, chicago, much\", \"+++ new, onli, good, your, number, state, time, other, don, file<br>--- system, 100, address, here, newsgroup, island, appreci, data, electron, gun\", \"+++ pick, don, 1993, polic, island, new, make, player, april, san<br>--- usa, whi, canada, may, when, were, loui, which, last, confer\", \"+++ 1993, don, other, first, inform, when, good, been, think, peopl<br>--- even, call, satellit, citi, crypto, law, earth, season, develop, technolog\", \"+++ don, than, which, new, should, may, make, good, how, usa<br>--- play, test, nec, patient, same, vancouv, veri, take, art, clinic\", \"+++ right, may, your, their, onli, also, law, here, whi, time<br>--- veri, reason, belief, much, part, season, hockey, truth, same, shot\", \"+++ should, name, first, number, file, them, had, right, distribut, here<br>--- take, hockey, playoff, most, nhl, bmw, goal, pittsburgh, these, must\", \"+++ right, should, their, usa, peopl, think, law, also, had, then<br>--- san, playoff, msg, american, file, nation, govern, institut, driver, toronto\", \"+++ been, should, also, here, time, good, power, don, then, whi<br>--- dog, doe, help, chi, now, goal, hot, nhl, montreal, sun\", \"+++ were, said, more, year, think, their, who, your, point, time<br>--- weapon, civilian, against, soldier, mcgill, gun, good, repli, king, rate\", \"+++ nhl<br>--- rlk, offic, fij, nation, okz, nei, 6ei, your, own, 1eq\"], [\"+++ these, first, more, encrypt, call, into, need, clipper, than, gener<br>--- servic, greek, armenia, said, mission, launch, escrow, sci, state, nation\", \"+++ these, 1993, new, comput, when, two, may, also, which, doe<br>--- should, soon, call, zoolog, public, number, were, then, kevin, institut\", \"+++ into, peopl, call, their, think, point, how, could, time, also<br>--- thing, lunar, secret, hit, number, take, distribut, around, run, engin\", \"+++ also, need, don, program, system, bit, onli, distribut, call, which<br>--- mail, convert, color, nasa, ftp, same, technolog, shuttl, function, server\", \"+++ engin, more, two, other, how, been, these, should, into, then<br>--- 1993, sci, appl, clipper, scienc, control, window, commun, under, algorithm\", \"+++ your, veri, avail, includ, system, comput, data, access, need, bit<br>--- pleas, 1993, center, look, port, contact, vga, nasa, commun, electron\", \"+++ 1993, don, other, first, inform, when, good, been, think, peopl<br>--- even, call, satellit, citi, crypto, law, earth, season, develop, technolog\", \"+++ first, rocket, doe, technolog, might, clipper, make, develop, may, when<br>--- commun, look, center, thing, oper, much, scienc, cost, whi, question\", \"+++ make, good, comput, other, need, veri, may, distribut, should, your<br>--- appear, window, part, peopl, crypto, key, sci, anyon, nasa, gov\", \"+++ whi, now, were, than, into, doe, see, don, point, time<br>--- here, must, two, phone, law, comput, exist, our, becaus, secret\", \"+++ make, see, more, also, should, these, how, much, when, way<br>--- two, gener, includ, output, pgp, nsa, point, most, their, mission\", \"+++ other, then, doe, technolog, their, think, also, distribut, make, may<br>--- mission, develop, gov, law, fire, comput, point, under, engin, caus\", \"+++ nasa, these, were, look, thing, much, don, more, chip, two<br>--- satellit, phone, data, lunar, program, ground, sci, those, say, mission\", \"+++ think, time, year, other, call, even, govern, now, when, then<br>--- becaus, agenc, gener, cleveland, center, access, mani, may, arab, launch\", \"+++ <br>--- time, develop, g9p, these, satellit, fyn, 24e, moon, rlk, 1z6e\"], [\"+++ system, good, take, well, after, make, who, those, may, than<br>--- said, state, health, public, servic, turkish, cancer, them, question, doe\", \"+++ tri, new, been, pleas, comput, make, doe, good, who, here<br>--- nec, their, too, sweden, medic, news, prism, john, pain, mous\", \"+++ more, don, most, should, other, been, which, could, right, your<br>--- got, off, mail, play, their, fan, pleas, 1993, system, distribut\", \"+++ comput, distribut, time, more, these, system, work, new, other, mail<br>--- good, had, here, mac, sun, world, scienc, ftp, process, packag\", \"+++ make, need, than, becaus, problem, now, don, when, more, these<br>--- softwar, think, med, medic, caus, back, chang, version, medicin, gener\", \"+++ veri, find, also, usa, ibm, other, repli, program, comput, which<br>--- think, caus, med, inc, bit, softwar, when, interest, chip, right\", \"+++ don, than, which, new, should, may, make, good, how, usa<br>--- play, test, nec, patient, same, vancouv, veri, take, art, clinic\", \"+++ make, good, comput, other, need, veri, may, distribut, should, your<br>--- appear, window, part, peopl, crypto, key, sci, anyon, nasa, gov\", \"+++ more, year, monitor, here, same, need, call, manag, becaus, mous<br>--- test, realli, man, whi, clinic, copi, each, ann, med, them\", \"+++ question, even, doe, also, veri, man, take, well, time, had<br>--- point, net, faith, patient, etc, evid, our, law, way, exist\", \"+++ question, more, other, when, well, your, than, take, should, veri<br>--- bmw, find, 1993, thank, send, cost, off, etc, auto, mous\", \"+++ anyon, need, who, whi, case, doe, your, here, even, problem<br>--- call, net, window, after, believ, pain, refer, shall, center, carri\", \"+++ had, even, case, question, here, should, also, now, good, than<br>--- appear, patient, cool, diseas, power, outlet, ibm, fnal, refer, right\", \"+++ most, who, want, also, same, them, world, call, your, doe<br>--- state, war, man, govern, number, mous, anyon, lebanes, window, against\", \"+++ scienc<br>--- vmk, net, pleas, repli, who, mail, wwiz, mb8f, 75u, gizw\"], [\"+++ your, don, world, may, most, tri, had, mani, time, also<br>--- live, program, job, inform, turk, fact, exist, exampl, call, american\", \"+++ make, doe, question, see, tri, been, their, also, good, onli<br>--- new, weight, gordon, right, april, hockey, shame, find, could, bank\", \"+++ now, see, their, had, make, said, did, well, don, even<br>--- back, argument, bibl, exist, run, world, christian, after, moral, find\", \"+++ when, your, see, how, also, more, into, doe, same, don<br>--- exampl, question, provid, own, exist, even, moral, point, thing, way\", \"+++ your, how, also, than, good, make, who, want, much, when<br>--- see, christ, first, set, moral, reason, ram, life, realli, disk\", \"+++ veri, your, world, doe, other, good, onli, also, find, time<br>--- news, version, sell, their, exist, thank, them, whi, video, peopl\", \"+++ right, may, your, their, onli, also, law, here, whi, time<br>--- veri, reason, belief, much, part, season, hockey, truth, same, shot\", \"+++ whi, now, were, than, into, doe, see, don, point, time<br>--- here, must, two, phone, law, comput, exist, our, becaus, secret\", \"+++ question, even, doe, also, veri, man, take, well, time, had<br>--- point, net, faith, patient, etc, evid, our, law, way, exist\", \"+++ come, human, also, these, way, much, book, which, take, doe<br>--- exampl, sin\", \"+++ also, question, say, want, read, tri, someth, think, more, way<br>--- point, believ, fact, entri, sure, auto, anyon, argument, start, moral\", \"+++ who, been, here, may, when, reason, mean, person, make, tri<br>--- institut, arm, book, live, crimin, exist, weapon, austin, day, our\", \"+++ had, differ, thing, want, tri, more, doe, time, whi, them<br>--- repli, engin, law, did, come, state, christian, part, jpl, peopl\", \"+++ did, who, time, onli, those, then, were, question, them, how<br>--- let, order, evid, sandvik, find, isra, adam, american, islam, govern\", \"+++ <br>--- q30t, bxn, 1z4, p4u, onli, veri, own, argument, air, islam\"], [\"+++ see, say, even, also, how, when, most, your, right, now<br>--- insur, servic, back, said, too, american, number, output, countri, tire\", \"+++ tri, year, been, doe, time, repli, question, which, onli, don<br>--- spencer, prism, chang, build, could, world, never, info, cost, check\", \"+++ other, want, look, someth, car, how, day, too, were, back<br>--- insur, got, two, our, play, list, put, tell, their, alaska\", \"+++ more, distribut, repli, don, see, file, look, want, also, send<br>--- long, run, first, tri, pub, base, support, start, insur, call\", \"+++ who, other, need, which, thing, program, them, well, someth, look<br>--- tax, alaska, never, softwar, driver, ide, start, power, dod, tape\", \"+++ new, look, your, anyon, list, could, which, also, repli, number<br>--- pub, email, motorcycl, output, thank, org, into, mac, ftp, card\", \"+++ should, name, first, number, file, them, had, right, distribut, here<br>--- take, hockey, playoff, most, nhl, bmw, goal, pittsburgh, these, must\", \"+++ make, see, more, also, should, these, how, much, when, way<br>--- two, gener, includ, output, pgp, nsa, point, most, their, mission\", \"+++ question, more, other, when, well, your, than, take, should, veri<br>--- bmw, find, 1993, thank, send, cost, off, etc, auto, mous\", \"+++ also, question, say, want, read, tri, someth, think, more, way<br>--- point, believ, fact, entri, sure, auto, anyon, argument, start, moral\", \"+++ make, other, off, file, distribut, think, new, back, time, may<br>--- help, sun, mail, brake, buy, includ, comput, oil, return, request\", \"+++ more, well, think, than, other, your, here, make, problem, may<br>--- new, bear, keith, person, build, work, waco, send, stratu, entri\", \"+++ system, repli, bike, than, question, tri, back, want, onli, need<br>--- first, current, alaska, wire, power, say, tax, ground, fnal, someth\", \"+++ well, want, year, then, don, into, see, should, repli, than<br>--- here, comput, send, polici, check, palestinian, read, problem, against, same\", \"+++ <br>--- r186, i0l, were, look, mb8f, 145, who, max, cost, bs0t\"], [\"+++ good, law, think, now, how, other, peopl, say, time, system<br>--- caltech, war, our, keep, job, privaci, program, tek, over, murder\", \"+++ usa, doe, tri, technolog, time, think, make, may, more, don<br>--- caus, shall, anyon, hockey, say, surrend, militia, umanitoba, gordon, let\", \"+++ make, whi, been, say, right, well, here, their, good, then<br>--- play, game, system, need, run, tri, crime, where, did, two\", \"+++ read, need, don, when, onli, time, distribut, how, may, problem<br>--- imag, applic, includ, stratu, repli, sourc, crimin, state, own, type\", \"+++ well, under, usa, when, time, much, need, doe, should, been<br>--- caltech, may, law, court, want, fire, texa, into, someth, gun\", \"+++ inc, need, other, anyon, also, usa, tri, don, time, think<br>--- even, etc, caltech, look, interest, avail, contact, keep, graphic, monitor\", \"+++ right, should, their, usa, peopl, think, law, also, had, then<br>--- san, playoff, msg, american, file, nation, govern, institut, driver, toronto\", \"+++ other, then, doe, technolog, their, think, also, distribut, make, may<br>--- mission, develop, gov, law, fire, comput, point, under, engin, caus\", \"+++ anyon, need, who, whi, case, doe, your, here, even, problem<br>--- call, net, window, after, believ, pain, refer, shall, center, carri\", \"+++ who, been, here, may, when, reason, mean, person, make, tri<br>--- institut, arm, book, live, crimin, exist, weapon, austin, day, our\", \"+++ more, well, think, than, other, your, here, make, problem, may<br>--- new, bear, keith, person, build, work, waco, send, stratu, entri\", \"+++ now, other, caus, also, had, how, need, keep, tri, usa<br>--- polit, order, govern, technolog, militia, way, follow, mani, institut, schneider\", \"+++ onli, thing, tri, time, now, make, good, think, more, been<br>--- amp, must, look, connect, electr, driver, cool, their, help, dog\", \"+++ how, time, well, think, been, state, make, most, onli, other<br>--- see, center, law, kent, becaus, may, attack, cleveland, batf, adam\", \"+++ <br>--- bhjn, shall, follow, 9l3, model, nhl, 7ez, tri, driver, bs0t\"], [\"+++ want, were, much, think, good, which, work, could, make, world<br>--- sun, netcom, anyon, doe, run, repli, support, box, hot, current\", \"+++ more, think, these, don, new, work, two, comput, other, when<br>--- technolog, brian, into, run, shame, design, where, intellect, soon, down\", \"+++ don, think, which, also, two, look, could, then, back, your<br>--- need, hot, while, didn, she, home, team, design, first, peopl\", \"+++ these, problem, look, new, distribut, make, may, your, also, don<br>--- bit, had, format, chip, light, question, widget, dog, mit, mac\", \"+++ had, now, realli, think, then, seem, want, how, run, been<br>--- where, those, memori, boot, floppi, call, same, better, chip, gov\", \"+++ access, time, engin, onli, don, good, system, comput, doe, how<br>--- fnal, should, offer, make, them, avail, bit, question, serial, most\", \"+++ been, should, also, here, time, good, power, don, then, whi<br>--- dog, doe, help, chi, now, goal, hot, nhl, montreal, sun\", \"+++ nasa, these, were, look, thing, much, don, more, chip, two<br>--- satellit, phone, data, lunar, program, ground, sci, those, say, mission\", \"+++ had, even, case, question, here, should, also, now, good, than<br>--- appear, patient, cool, diseas, power, outlet, ibm, fnal, refer, right\", \"+++ had, differ, thing, want, tri, more, doe, time, whi, them<br>--- repli, engin, law, did, come, state, christian, part, jpl, peopl\", \"+++ system, repli, bike, than, question, tri, back, want, onli, need<br>--- first, current, alaska, wire, power, say, tax, ground, fnal, someth\", \"+++ onli, thing, tri, time, now, make, good, think, more, been<br>--- amp, must, look, connect, electr, driver, cool, their, help, dog\", \"+++ outlet, those, time, seem, think, thank, question, access, down, when<br>--- say, better, light, find, come, their, actual, version, hot, helmet\", \"+++ most, even, mani, doe, after, had, how, don, world, been<br>--- same, such, fnal, peac, realli, thing, jpl, work, protect, hole\", \"+++ <br>--- whi, fij, connect, m1t, nasa, u3l, 1eq, 5g9v, design, could\"], [\"+++ becaus, those, after, make, onli, year, even, time, american, other<br>--- servic, turk, over, sandvik, law, clinton, opinion, program, kill, should\", \"+++ org, tri, see, doe, also, let, year, repli, onli, other<br>--- canada, becaus, over, even, adam, sandvik, peac, mani, institut, gatech\", \"+++ right, should, well, say, been, time, where, most, even, who<br>--- civilian, last, opinion, these, polici, realli, good, anoth, research, war\", \"+++ into, onli, see, same, your, should, most, then, want, doe<br>--- soldier, reason, fax, mac, problem, mcgill, forc, card, client, could\", \"+++ now, other, also, tri, way, had, your, don, doe, these<br>--- file, pleas, new, state, mac, look, attack, their, give, center\", \"+++ repli, time, think, also, how, don, onli, state, want, which<br>--- into, softwar, land, had, year, newsread, modem, number, forc, jew\", \"+++ were, said, more, year, think, their, who, your, point, time<br>--- weapon, civilian, against, soldier, mcgill, gun, good, repli, king, rate\", \"+++ think, time, year, other, call, even, govern, now, when, then<br>--- becaus, agenc, gener, cleveland, center, access, mani, may, arab, launch\", \"+++ most, who, want, also, same, them, world, call, your, doe<br>--- state, war, man, govern, number, mous, anyon, lebanes, window, against\", \"+++ did, who, time, onli, those, then, were, question, them, how<br>--- let, order, evid, sandvik, find, isra, adam, american, islam, govern\", \"+++ well, want, year, then, don, into, see, should, repli, than<br>--- here, comput, send, polici, check, palestinian, read, problem, against, same\", \"+++ how, time, well, think, been, state, make, most, onli, other<br>--- see, center, law, kent, becaus, may, attack, cleveland, batf, adam\", \"+++ most, even, mani, doe, after, had, how, don, world, been<br>--- same, such, fnal, peac, realli, thing, jpl, work, protect, hole\", \"+++ sandvik, did, time, against, make, soldier, say, into, tri, how<br>--- exist, sure, nazi, mean, two, isc, kent, lebanon\", \"+++ <br>--- 1d9l, world, land, whi, give, b8f, giz, fyn, r8f, methodolog\"], [\"+++ <br>--- when, make, russian, scienc, g9v, today, 13p, stephanopoulo, mani, job\", \"+++ scienc, nhl<br>--- 1d9, max, internet, rauser, john, these, when, 2tg, game, a86\", \"+++ <br>--- fan, their, now, z6ei, gizw, didn, been, b8f, u3l, u34u\", \"+++ <br>--- includ, distribut, jpeg, 75u, graphic, how, want, ghj, data, repli\", \"+++ <br>--- into, bs0t, vmk, b8e, ram, cub, a86, bhjn, two, g9v\", \"+++ <br>--- mac, 1f9, 2tct, 7ey, ghj, video, comp, 13p, nuy, 9f9\", \"+++ nhl<br>--- rlk, offic, fij, nation, okz, nei, 6ei, your, own, 1eq\", \"+++ <br>--- time, develop, g9p, these, satellit, fyn, 24e, moon, rlk, 1z6e\", \"+++ scienc<br>--- vmk, net, pleas, repli, who, mail, wwiz, mb8f, 75u, gizw\", \"+++ <br>--- q30t, bxn, 1z4, p4u, onli, veri, own, argument, air, islam\", \"+++ <br>--- r186, i0l, were, look, mb8f, 145, who, max, cost, bs0t\", \"+++ <br>--- bhjn, shall, follow, 9l3, model, nhl, 7ez, tri, driver, bs0t\", \"+++ <br>--- whi, fij, connect, m1t, nasa, u3l, 1eq, 5g9v, design, could\", \"+++ <br>--- 1d9l, world, land, whi, give, b8f, giz, fyn, r8f, methodolog\", \"+++ b8e, mb8f, g9p, bxn, p4u, 1fpl, 7ez, qtm, 24e, european<br>--- nriz, play, q30t, think, ladi, hockey, bs0t, isc, nei, 6e1t\"]], \"z\": [[0.0034579337016431284, 0.5460206028064964, 0.41792513015673316, 0.5665167100818196, 0.5504558963032338, 0.6289942663183405, 0.4637179848616542, 0.37186438578297226, 0.4344413938910197, 0.39757163946901136, 0.4403160245984441, 0.42670388853239266, 0.4854534854177021, 0.3301193223170454, 0.9328245731727686], [0.5460206028064964, 0.009228231378217891, 0.6504579332649667, 0.7702697917352059, 0.6983848374605522, 0.7215273626972614, 0.6142531848288382, 0.7009485085176576, 0.6122069561788587, 0.8334401997576641, 0.6835907237870524, 0.7657568577952902, 0.7301677026478313, 0.8022253574884691, 0.9993182707686051], [0.41792513015673316, 0.6504579332649667, 0.004743471726026451, 0.5875036587878544, 0.41188957076937455, 0.5850166335230588, 0.37564156166732743, 0.4427475343422841, 0.4219011269359181, 0.4051072123173873, 0.37305392983135494, 0.41588133613691153, 0.4251153210747035, 0.42625606501432695, 0.8866317585446327], [0.5665167100818196, 0.7702697917352059, 0.5875036587878544, 0.006208386444651325, 0.36196843475303336, 0.35619264414437185, 0.64339361265391, 0.4493704089816424, 0.4102004905353265, 0.6762125151046874, 0.44323321928556214, 0.5366489704782497, 0.45089068799060017, 0.6536029779545915, 0.9920908392813236], [0.5504558963032338, 0.6983848374605522, 0.41188957076937455, 0.36196843475303336, 0.006957801580349068, 0.3736752925121531, 0.5658979750447231, 0.4628986131740452, 0.39559539679332545, 0.596657935327935, 0.3850720344416863, 0.45929008177431396, 0.37019917120820195, 0.5846713938368063, 0.9406287560582131], [0.6289942663183405, 0.7215273626972614, 0.5850166335230588, 0.35619264414437185, 0.3736752925121531, 0.006538954976081881, 0.6377556450317615, 0.4922742207767619, 0.43993433513108776, 0.743615237691171, 0.48373265328989323, 0.5741473878526638, 0.4476700074027208, 0.7136871928882407, 1.0], [0.4637179848616542, 0.6142531848288382, 0.37564156166732743, 0.64339361265391, 0.5658979750447231, 0.6377556450317615, 0.007690991829791397, 0.6311095881646563, 0.5967949076301019, 0.7275580418136007, 0.593419161623645, 0.5788478294923145, 0.6682209564736596, 0.6479030148013042, 0.9497450456797034], [0.37186438578297226, 0.7009485085176576, 0.4427475343422841, 0.4493704089816424, 0.4628986131740452, 0.4922742207767619, 0.6311095881646563, 0.0049120230162064795, 0.436984079603768, 0.5535897276238425, 0.43220235491530923, 0.48459487927233136, 0.39937261710855304, 0.5523945079244769, 0.954223738164121], [0.4344413938910197, 0.6122069561788587, 0.4219011269359181, 0.4102004905353265, 0.39559539679332545, 0.43993433513108776, 0.5967949076301019, 0.436984079603768, 0.010227605064035231, 0.5737550192856381, 0.44448027217171376, 0.5002135262160907, 0.4561882374811932, 0.5790851060898163, 0.9294417078865185], [0.39757163946901136, 0.8334401997576641, 0.4051072123173873, 0.6762125151046874, 0.596657935327935, 0.743615237691171, 0.7275580418136007, 0.5535897276238425, 0.5737550192856381, 0.0025651161275040833, 0.4405085232490711, 0.38419378519322983, 0.4730666951822276, 0.2932429942558325, 0.9240858499326307], [0.4403160245984441, 0.6835907237870524, 0.37305392983135494, 0.44323321928556214, 0.3850720344416863, 0.48373265328989323, 0.593419161623645, 0.43220235491530923, 0.44448027217171376, 0.4405085232490711, 0.0072675375628551645, 0.4324708858589101, 0.34643035611544976, 0.5126439530333057, 0.9064301348538859], [0.42670388853239266, 0.7657568577952902, 0.41588133613691153, 0.5366489704782497, 0.45929008177431396, 0.5741473878526638, 0.5788478294923145, 0.48459487927233136, 0.5002135262160907, 0.38419378519322983, 0.4324708858589101, 0.010625052107425313, 0.531626399689315, 0.5178185222517493, 0.9772109082493865], [0.4854534854177021, 0.7301677026478313, 0.4251153210747035, 0.45089068799060017, 0.37019917120820195, 0.4476700074027208, 0.6682209564736596, 0.39937261710855304, 0.4561882374811932, 0.4730666951822276, 0.34643035611544976, 0.531626399689315, 0.006864537713351417, 0.581900262553249, 0.9475780518602224], [0.3301193223170454, 0.8022253574884691, 0.42625606501432695, 0.6536029779545915, 0.5846713938368063, 0.7136871928882407, 0.6479030148013042, 0.5523945079244769, 0.5790851060898163, 0.2932429942558325, 0.5126439530333057, 0.5178185222517493, 0.581900262553249, 0.005150612569984593, 0.9747644424253162], [0.9328245731727686, 0.9993182707686051, 0.8866317585446327, 0.9920908392813236, 0.9406287560582131, 1.0, 0.9497450456797034, 0.954223738164121, 0.9294417078865185, 0.9240858499326307, 0.9064301348538859, 0.9772109082493865, 0.9475780518602224, 0.9747644424253162, 0.04170687783172413]], \"type\": \"heatmap\", \"colorscale\": \"RdBu\"}], {\"height\": 950, \"width\": 950, \"title\": \"Topic difference (kulback_leibler)\", \"xaxis\": {\"title\": \"topic\"}, \"yaxis\": {\"title\": \"topic\"}}, {\"linkText\": \"Export to plot.ly\", \"showLink\": true})});</script>"
      ]
     },
     "metadata": {},
     "output_type": "display_data"
    }
   ],
   "source": [
    "mdiff, annotation = topic2topic_difference(m1, m2, distance='kulback_leibler')\n",
    "text = [[\"+++ {}<br>--- {}\".format(\", \".join(int_tokens), \n",
    "                                   \", \".join(diff_tokens)) for (int_tokens, diff_tokens) in row] \n",
    "        for row in annotation]\n",
    "\n",
    "data = go.Heatmap(z=mdiff, colorscale='RdBu', text=text)\n",
    "\n",
    "layout = go.Layout(width=950, height=950, title=\"Topic difference (kulback_leibler)\",\n",
    "                   xaxis=dict(title=\"topic\"), yaxis=dict(title=\"topic\"))\n",
    "\n",
    "py.iplot(go.Figure(data=[data], layout=layout))"
   ]
  },
  {
   "cell_type": "code",
   "execution_count": 10,
   "metadata": {
    "collapsed": false
   },
   "outputs": [
    {
     "data": {
      "application/vnd.plotly.v1+json": {
       "data": [
        {
         "colorscale": "RdBu",
         "text": [
          [
           "+++ our, then, armenian, hous, than, provid, today, state, take, servic<br>--- against, inform, through, clipper, here, much, polit, secur, polici, effect",
           "+++ also, think, when, see, year, make, been, world, onli, don<br>--- john, umanitoba, veri, team, whi, jet, mike, kevin, institut, win",
           "+++ your, could, time, those, two, take, into, see, come, then<br>--- tell, off, commun, left, came, russian, system, happen, provid, score",
           "+++ time, may, see, most, want, don, than, new, these, how<br>--- distribut, problem, thing, could, way, person, their, american, today, russian",
           "+++ now, more, make, want, tri, say, onli, these, need, could<br>--- greek, right, gener, armenian, problem, govern, differ, softwar, whi, meg",
           "+++ system, work, program, onli, how, call, inform, which, time, state<br>--- these, into, repli, version, card, driver, law, armenia, modem, distribut",
           "+++ been, new, year, other, don, good, peopl, first, onli, than<br>--- person, after, could, score, vancouv, jose, come, way, montreal, rate",
           "+++ time, also, when, govern, which, such, need, see, say, work<br>--- gov, messag, access, lunar, mani, scienc, pgp, crypto, stephanopoulo, said",
           "+++ after, make, tri, right, gener, veri, good, could, need, well<br>--- armenia, medic, administr, number, monitor, see, commun, pain, berkeley, jim",
           "+++ law, could, had, been, person, think, who, did, becaus, may<br>--- state, islam, system, human, administr, moral, after, god, program, servic",
           "+++ first, into, make, had, these, much, most, take, which, way<br>--- auto, nation, start, privaci, gener, oil, netcom, administr, where, becaus",
           "+++ good, much, these, onli, their, also, other, been, most, say<br>--- crimin, texa, polit, death, our, into, administr, believ, nation, shall",
           "+++ two, way, your, think, those, well, even, now, when, which<br>--- support, administr, stephanopoulo, public, law, govern, where, say, see, who",
           "+++ tri, which, well, their, those, these, your, after, also, want<br>--- center, civilian, much, gener, may, encrypt, live, hous, armenia, forc",
           "+++ <br>--- peopl, 7ez, been, r186, f9d, m45, 1f9, g9p, b4q, 2tct"
          ],
          [
           "+++ also, think, when, see, year, make, been, world, onli, don<br>--- john, umanitoba, veri, team, whi, jet, mike, kevin, institut, win",
           "+++ first, david, here, good, scienc, gordon, year, gatech, been, too<br>--- these, buffalo, their, atlanta, time, question, which, marc, two, gene",
           "+++ here, make, been, two, too, their, team, also, think, when<br>--- how, institut, geb, comput, lot, weight, these, intellect, doe, uucp",
           "+++ your, onli, see, new, which, these, mail, comput, internet, doe<br>--- clarkson, player, problem, send, directori, mac, mike, david, intellect, code",
           "+++ also, work, make, don, pleas, which, world, good, these, repli<br>--- boot, skeptic, anyon, here, should, instal, may, becaus, sweden, access",
           "+++ scienc, comput, repli, good, also, internet, think, question, which, work<br>--- clarkson, leagu, monitor, electron, too, mark, state, henri, price, chip",
           "+++ team, make, game, time, april, other, new, pittsburgh, hockey, their<br>--- second, number, law, dsl, calgari, may, mike, too, handgun, point",
           "+++ first, technolog, these, good, when, think, who, comput, time, gov<br>--- program, chastiti, call, orbit, such, bit, fan, govern, uwo, play",
           "+++ which, doe, when, two, year, make, who, onli, your, comput<br>--- system, center, ericsson, david, thank, had, clinic, cancer, cup, vote",
           "+++ may, other, also, question, more, who, here, don, these, doe<br>--- right, let, pleas, truth, georgia, henri, belief, mail, nhl, vote",
           "+++ good, here, don, also, more, onli, see, repli, think, make<br>--- nhl, canada, long, back, right, then, than, now, car, zoolog",
           "+++ also, time, good, may, tri, which, been, think, make, more<br>--- peopl, mail, tek, caltech, must, year, law, leagu, play, umanitoba",
           "+++ comput, been, too, here, may, think, these, doe, gov, which<br>--- nasa, into, henri, electr, game, nhl, player, off, after, net",
           "+++ world, been, onli, make, more, these, doe, question, other, tri<br>--- even, case, occupi, than, true, spencer, becaus, fact, hockey, n3jxp",
           "+++ nhl, scienc<br>--- m1t, comput, r8f, weight, n3jxp, technolog, soon, cup, shz, nrhj"
          ],
          [
           "+++ your, could, time, those, two, take, into, see, come, then<br>--- tell, off, commun, left, came, russian, system, happen, provid, score",
           "+++ here, make, been, two, too, their, team, also, think, when<br>--- how, institut, geb, comput, lot, weight, these, intellect, doe, uucp",
           "+++ basebal, when, then, could, think, guy, better, score, here, point<br>--- which, made, around, great, saw, while",
           "+++ when, should, where, make, look, more, your, time, call, want<br>--- point, off, while, her, process, read, standard, over, car, back",
           "+++ well, someth, while, look, when, becaus, should, how, veri, don<br>--- error, win, new, fan, find, set, season, still, buy, mani",
           "+++ call, want, think, your, other, onli, look, which, also, good<br>--- graphic, newsread, contact, come, newsgroup, ibm, them, access, been, even",
           "+++ other, point, play, good, year, last, than, season, peopl, team<br>--- said, also, got, virginia, didn, put, vancouv, run, chi, came",
           "+++ into, their, then, point, your, who, also, which, don, them<br>--- lot, org, too, program, gener, govern, still, might, new, space",
           "+++ which, make, call, want, becaus, more, how, good, those, now<br>--- repli, berkeley, medic, york, down, medicin, each, she, help, gener",
           "+++ then, whi, other, way, most, now, were, had, been, than<br>--- bibl, best, person, off, find, book, differ, she, hit, score",
           "+++ more, someth, when, than, off, first, them, think, see, right<br>--- tire, pleas, new, fan, motorcycl, list, better, program, left, name",
           "+++ then, say, most, those, been, make, should, them, now, good<br>--- player, own, want, start, game, keep, see, never, happen, after",
           "+++ were, back, could, mani, run, into, when, around, after, still<br>--- say, cool, jpl, world, did, season, him, lot, protect, she",
           "+++ don, your, most, call, how, who, well, make, were, been<br>--- her, reason, start, around, lebanes, tell, went, win, civilian, case",
           "+++ <br>--- run, 6e1t, call, your, w47, bxn, time, bhj, rauser, f9d"
          ],
          [
           "+++ time, may, see, most, want, don, than, new, these, how<br>--- distribut, problem, thing, could, way, person, their, american, today, russian",
           "+++ your, onli, see, new, which, these, mail, comput, internet, doe<br>--- clarkson, player, problem, send, directori, mac, mike, david, intellect, code",
           "+++ when, should, where, make, look, more, your, time, call, want<br>--- point, off, while, her, process, read, standard, over, car, back",
           "+++ version, info, onli, base, most, code, fax, address, comput, display<br>--- gif, directori, number, card, into, pleas, xterm, memori",
           "+++ system, help, should, program, other, pleas, memori, machin, time, new<br>--- ide, got, includ, becaus, manag, chang, drive, way, control, ibm",
           "+++ system, which, support, your, list, pleas, graphic, need, doe, version<br>--- comp, make, could, sale, format, font, printer, librari, manag, same",
           "+++ name, your, make, new, more, than, don, onli, other, time<br>--- pleas, pittsburgh, confer, been, player, chicago, ranger, king, defens, visual",
           "+++ than, into, also, data, onli, distribut, comput, more, gener, new<br>--- first, secret, moon, earth, applic, version, engin, set, mac, clipper",
           "+++ make, manag, onli, same, need, type, don, system, distribut, help<br>--- color, screen, number, been, medic, monitor, world, base, good, widget",
           "+++ these, when, onli, also, should, may, which, want, time, most<br>--- atheist, those, send, belief, evid, thank, person, christ, call, interfac",
           "+++ these, sun, send, don, than, work, then, look, info, problem<br>--- could, much, mit, number, who, card, them, same, chang, machin",
           "+++ should, problem, system, more, these, need, how, than, make, other<br>--- steve, help, anyon, weapon, austin, good, ibm, those, peopl, veri",
           "+++ doe, which, need, run, how, comput, onli, distribut, when, make<br>--- inform, hot, had, screen, ground, protect, base, oracl, realli, were",
           "+++ where, doe, also, into, see, don, make, your, call, how<br>--- those, order, polici, system, world, mcgill, imag, israel, address, jew",
           "+++ <br>--- card, other, gizw, nriz, q30t, fax, sun, don, methodolog, convert"
          ],
          [
           "+++ now, more, make, want, tri, say, onli, these, need, could<br>--- greek, right, gener, armenian, problem, govern, differ, softwar, whi, meg",
           "+++ also, work, make, don, pleas, which, world, good, these, repli<br>--- boot, skeptic, anyon, here, should, instal, may, becaus, sweden, access",
           "+++ well, someth, while, look, when, becaus, should, how, veri, don<br>--- error, win, new, fan, find, set, season, still, buy, mani",
           "+++ system, help, should, program, other, pleas, memori, machin, time, new<br>--- ide, got, includ, becaus, manag, chang, drive, way, control, ibm",
           "+++ into, engin, hard, tri, then, softwar, speed, error, power, boot<br>--- cabl, take, usa, who, devic, data, under, card",
           "+++ think, mac, onli, world, engin, need, doe, usa, which, other<br>--- scsi, phone, offer, newsgroup, support, them, group, keyword, question, under",
           "+++ your, power, who, more, them, time, make, been, other, good<br>--- win, confer, disk, period, hard, pit, min, game, polic, state",
           "+++ don, these, then, say, now, how, way, new, should, than<br>--- same, key, might, bit, govern, center, boot, had, inform, much",
           "+++ other, call, problem, repli, had, also, comput, becaus, who, time<br>--- may, ide, doctor, boot, keyboard, got, seem, case, mail, type",
           "+++ these, think, how, come, veri, had, also, should, same, don<br>--- him, call, true, word, did, system, were, said, file, realli",
           "+++ been, system, don, thing, off, chang, into, also, onli, file<br>--- alaska, window, cmu, comput, bmw, question, most, realli, never, tape",
           "+++ other, need, now, onli, control, thing, system, could, more, veri<br>--- access, version, machin, world, shall, caus, dyer, waco, crime, off",
           "+++ want, problem, thing, them, which, more, distribut, access, should, don<br>--- file, nasa, andrew, memori, case, disk, control, wire, ram, after",
           "+++ your, now, doe, into, onli, make, which, other, don, call<br>--- their, cmu, veri, while, research, soldier, softwar, window, run, driver",
           "+++ <br>--- ghj, speed, methodolog, when, help, window, meg, b4q, thing, look"
          ],
          [
           "+++ system, work, program, onli, how, call, inform, which, time, state<br>--- these, into, repli, version, card, driver, law, armenia, modem, distribut",
           "+++ scienc, comput, repli, good, also, internet, think, question, which, work<br>--- clarkson, leagu, monitor, electron, too, mark, state, henri, price, chip",
           "+++ call, want, think, your, other, onli, look, which, also, good<br>--- graphic, newsread, contact, come, newsgroup, ibm, them, access, been, even",
           "+++ system, which, support, your, list, pleas, graphic, need, doe, version<br>--- comp, make, could, sale, format, font, printer, librari, manag, same",
           "+++ think, mac, onli, world, engin, need, doe, usa, which, other<br>--- scsi, phone, offer, newsgroup, support, them, group, keyword, question, under",
           "+++ interest, time, vga, work, sale, other, usa, world, window, find<br>--- scienc, file, space, machin, buy, book, best, tri, site, question",
           "+++ think, state, good, onli, your, other, file, new, time, don<br>--- window, 100, org, handgun, work, last, includ, against, canada, group",
           "+++ call, time, think, inform, other, don, veri, your, number, new<br>--- launch, satellit, thank, list, advanc, printer, machin, rocket, color, than",
           "+++ help, could, world, other, repli, distribut, new, doe, usa, how<br>--- nec, card, offer, site, clinic, file, access, version, patient, normal",
           "+++ tri, find, veri, also, good, doe, could, other, onli, which<br>--- here, mac, them, been, modem, own, inform, exist, right, video",
           "+++ anyon, work, which, also, number, other, file, good, veri, don<br>--- origin, differ, mail, see, card, must, org, offer, avail, make",
           "+++ time, think, which, distribut, veri, other, inc, anyon, state, also<br>--- network, repli, shall, mean, well, texa, may, offer, should, pleas",
           "+++ onli, comput, how, world, engin, think, thank, state, want, which<br>--- whi, should, seem, send, data, simm, more, via, price, mani",
           "+++ also, which, call, time, could, how, other, doe, your, state<br>--- version, right, keyword, color, polici, let, these, true, first, palestinian",
           "+++ <br>--- qtm, need, 9l3, gizw, 2tg, sale, softwar, 1d9, support, wwiz"
          ],
          [
           "+++ been, new, year, other, don, good, peopl, first, onli, than<br>--- person, after, could, score, vancouv, jose, come, way, montreal, rate",
           "+++ team, make, game, time, april, other, new, pittsburgh, hockey, their<br>--- second, number, law, dsl, calgari, may, mike, too, handgun, point",
           "+++ other, point, play, good, year, last, than, season, peopl, team<br>--- said, also, got, virginia, didn, put, vancouv, run, chi, came",
           "+++ name, your, make, new, more, than, don, onli, other, time<br>--- pleas, pittsburgh, confer, been, player, chicago, ranger, king, defens, visual",
           "+++ your, power, who, more, them, time, make, been, other, good<br>--- win, confer, disk, period, hard, pit, min, game, polic, state",
           "+++ think, state, good, onli, your, other, file, new, time, don<br>--- window, 100, org, handgun, work, last, includ, against, canada, group",
           "+++ toronto, point, rate, them, crimin, been, york, gun, washington, pittsburgh<br>--- confer, mon, last, loui, pit, usa, had, offic, then, ranger",
           "+++ their, time, first, then, who, year, inform, don, them, also<br>--- such, david, boston, secret, now, clipper, tor, bill, control, hockey",
           "+++ had, make, who, time, usa, been, should, may, don, onli<br>--- polic, weapon, rate, art, 000, king, chicago, comput, game, mous",
           "+++ don, peopl, more, had, your, here, own, then, their, whi<br>--- much, angel, april, pittsburgh, crimin, handgun, fact, true, veri, life",
           "+++ onli, should, other, first, had, distribut, who, how, don, new<br>--- usa, check, bike, doe, team, anyon, win, 000, second, offic",
           "+++ don, make, usa, more, should, right, good, had, when, time<br>--- say, believ, must, were, court, season, veri, someon, angel, mean",
           "+++ whi, them, which, think, good, new, how, state, then, here<br>--- law, light, leagu, electr, these, american, year, offic, calgari, around",
           "+++ don, point, who, should, other, were, think, when, more, than<br>--- chi, western, true, such, win, nhl, boston, law, play, attack",
           "+++ nhl<br>--- hockey, don, r186, m45, 7klj, a86r, f9f9, a865, chi, divis"
          ],
          [
           "+++ time, also, when, govern, which, such, need, see, say, work<br>--- gov, messag, access, lunar, mani, scienc, pgp, crypto, stephanopoulo, said",
           "+++ first, technolog, these, good, when, think, who, comput, time, gov<br>--- program, chastiti, call, orbit, such, bit, fan, govern, uwo, play",
           "+++ into, their, then, point, your, who, also, which, don, them<br>--- lot, org, too, program, gener, govern, still, might, new, space",
           "+++ than, into, also, data, onli, distribut, comput, more, gener, new<br>--- first, secret, moon, earth, applic, version, engin, set, mac, clipper",
           "+++ don, these, then, say, now, how, way, new, should, than<br>--- same, key, might, bit, govern, center, boot, had, inform, much",
           "+++ call, time, think, inform, other, don, veri, your, number, new<br>--- launch, satellit, thank, list, advanc, printer, machin, rocket, color, than",
           "+++ their, time, first, then, who, year, inform, don, them, also<br>--- such, david, boston, secret, now, clipper, tor, bill, control, hockey",
           "+++ secret, point, year, algorithm, shuttl, orbit, how, avail, gov, secur<br>--- thing, question, center, scienc, much, whi, look, commun, oper, cost",
           "+++ two, question, these, good, veri, when, need, how, been, your<br>--- thing, govern, lunar, right, them, first, book, avail, ann, say",
           "+++ could, when, should, doe, them, point, whi, onli, who, question<br>--- follow, faq, inform, christian, claim, possibl, church, human, live, differ",
           "+++ time, could, then, your, more, number, way, see, onli, year<br>--- check, key, faq, includ, avail, output, name, project, lunar, file",
           "+++ doe, their, also, distribut, whi, how, been, don, even, than<br>--- escrow, msg, includ, develop, most, waco, control, reason, fire, data",
           "+++ them, onli, design, were, more, good, think, access, how, should<br>--- helmet, where, simm, jpl, pgp, shuttl, dog, oracl, org, such",
           "+++ such, were, question, these, doe, more, onli, peopl, how, time<br>--- soldier, veri, isc, number, gener, public, cleveland, new, two, western",
           "+++ <br>--- a86, should, includ, z6ei, f9d, yf9, m1t, org, moon, i0l"
          ],
          [
           "+++ after, make, tri, right, gener, veri, good, could, need, well<br>--- armenia, medic, administr, number, monitor, see, commun, pain, berkeley, jim",
           "+++ which, doe, when, two, year, make, who, onli, your, comput<br>--- system, center, ericsson, david, thank, had, clinic, cancer, cup, vote",
           "+++ which, make, call, want, becaus, more, how, good, those, now<br>--- repli, berkeley, medic, york, down, medicin, each, she, help, gener",
           "+++ make, manag, onli, same, need, type, don, system, distribut, help<br>--- color, screen, number, been, medic, monitor, world, base, good, widget",
           "+++ other, call, problem, repli, had, also, comput, becaus, who, time<br>--- may, ide, doctor, boot, keyboard, got, seem, case, mail, type",
           "+++ help, could, world, other, repli, distribut, new, doe, usa, how<br>--- nec, card, offer, site, clinic, file, access, version, patient, normal",
           "+++ had, make, who, time, usa, been, should, may, don, onli<br>--- polic, weapon, rate, art, 000, king, chicago, comput, game, mous",
           "+++ two, question, these, good, veri, when, need, how, been, your<br>--- thing, govern, lunar, right, them, first, book, avail, ann, say",
           "+++ refer, well, those, call, than, who, repli, type, how, monitor<br>--- cover, clinic, then, net, switch, normal, treatment, man, med, medicin",
           "+++ veri, world, who, book, man, whi, well, other, question, onli<br>--- jim, etc, nec, said, appear, argument, type, live, follow, sinc",
           "+++ them, number, doe, other, which, could, may, most, also, time<br>--- case, inform, same, ride, book, after, comput, jim, mani, long",
           "+++ also, when, doe, now, then, veri, those, need, how, been<br>--- such, state, waco, believ, militia, someon, sinc, pleas, doctor, keyboard",
           "+++ than, problem, which, other, work, after, well, your, may, been<br>--- pleas, mani, doctor, sinc, amp, take, jpl, box, look, behanna",
           "+++ their, these, when, don, after, year, been, repli, more, then<br>--- war, mani, were, org, inform, two, distribut, doctor, civilian, jew",
           "+++ scienc<br>--- diseas, behanna, problem, even, time, most, a86r, manag, 9f9, then"
          ],
          [
           "+++ law, could, had, been, person, think, who, did, becaus, may<br>--- state, islam, system, human, administr, moral, after, god, program, servic",
           "+++ may, other, also, question, more, who, here, don, these, doe<br>--- right, let, pleas, truth, georgia, henri, belief, mail, nhl, vote",
           "+++ then, whi, other, way, most, now, were, had, been, than<br>--- bibl, best, person, off, find, book, differ, she, hit, score",
           "+++ these, when, onli, also, should, may, which, want, time, most<br>--- atheist, those, send, belief, evid, thank, person, christ, call, interfac",
           "+++ these, think, how, come, veri, had, also, should, same, don<br>--- him, call, true, word, did, system, were, said, file, realli",
           "+++ tri, find, veri, also, good, doe, could, other, onli, which<br>--- here, mac, them, been, modem, own, inform, exist, right, video",
           "+++ don, peopl, more, had, your, here, own, then, their, whi<br>--- much, angel, april, pittsburgh, crimin, handgun, fact, true, veri, life",
           "+++ could, when, should, doe, them, point, whi, onli, who, question<br>--- follow, faq, inform, christian, claim, possibl, church, human, live, differ",
           "+++ veri, world, who, book, man, whi, well, other, question, onli<br>--- jim, etc, nec, said, appear, argument, type, live, follow, sinc",
           "+++ our, human, live, been, find, church, bibl, could, don, book<br>--- sin, exampl",
           "+++ time, make, veri, were, tri, think, them, doe, should, into<br>--- book, never, rule, follow, whi, those, new, tire, man, car",
           "+++ whi, well, time, much, onli, own, them, how, those, doe<br>--- word, bibl, man, austin, islam, california, waco, inc, sin, point",
           "+++ good, could, think, which, question, seem, tri, doe, more, even<br>--- love, hot, part, simm, someth, state, truth, becaus, god, take",
           "+++ been, were, seem, how, then, which, reason, world, did, becaus<br>--- part, our, countri, jewish, repli, war, order, love, year, find",
           "+++ <br>--- did, 5g9v, a865, mg9v, m45, b8g, bibl, 16m, church, been"
          ],
          [
           "+++ first, into, make, had, these, much, most, take, which, way<br>--- auto, nation, start, privaci, gener, oil, netcom, administr, where, becaus",
           "+++ good, here, don, also, more, onli, see, repli, think, make<br>--- nhl, canada, long, back, right, then, than, now, car, zoolog",
           "+++ more, someth, when, than, off, first, them, think, see, right<br>--- tire, pleas, new, fan, motorcycl, list, better, program, left, name",
           "+++ these, sun, send, don, than, work, then, look, info, problem<br>--- could, much, mit, number, who, card, them, same, chang, machin",
           "+++ been, system, don, thing, off, chang, into, also, onli, file<br>--- alaska, window, cmu, comput, bmw, question, most, realli, never, tape",
           "+++ anyon, work, which, also, number, other, file, good, veri, don<br>--- origin, differ, mail, see, card, must, org, offer, avail, make",
           "+++ onli, should, other, first, had, distribut, who, how, don, new<br>--- usa, check, bike, doe, team, anyon, win, 000, second, offic",
           "+++ time, could, then, your, more, number, way, see, onli, year<br>--- check, key, faq, includ, avail, output, name, project, lunar, file",
           "+++ them, number, doe, other, which, could, may, most, also, time<br>--- case, inform, same, ride, book, after, comput, jim, mani, long",
           "+++ time, make, veri, were, tri, think, them, doe, should, into<br>--- book, never, rule, follow, whi, those, new, tire, man, car",
           "+++ way, list, off, onli, file, time, new, back, speed, could<br>--- help, bmw, includ, mail, return, sun, brake, oil, request, buy",
           "+++ good, also, when, most, these, make, your, say, tri, had<br>--- too, effect, msg, keith, take, whi, repli, motorcycl, food, long",
           "+++ differ, good, thing, where, system, more, into, repli, even, also<br>--- entri, see, tire, right, includ, long, sun, start, send, car",
           "+++ repli, see, them, say, where, want, tri, even, mani, think<br>--- attack, much, govern, differ, kill, veri, land, need, lebanes, tire",
           "+++ <br>--- bhjn, 2pu, f9f9, were, 9f8, shz, 5g9p, never, when, sure"
          ],
          [
           "+++ good, much, these, onli, their, also, other, been, most, say<br>--- crimin, texa, polit, death, our, into, administr, believ, nation, shall",
           "+++ also, time, good, may, tri, which, been, think, make, more<br>--- peopl, mail, tek, caltech, must, year, law, leagu, play, umanitoba",
           "+++ then, say, most, those, been, make, should, them, now, good<br>--- player, own, want, start, game, keep, see, never, happen, after",
           "+++ should, problem, system, more, these, need, how, than, make, other<br>--- steve, help, anyon, weapon, austin, good, ibm, those, peopl, veri",
           "+++ other, need, now, onli, control, thing, system, could, more, veri<br>--- access, version, machin, world, shall, caus, dyer, waco, crime, off",
           "+++ time, think, which, distribut, veri, other, inc, anyon, state, also<br>--- network, repli, shall, mean, well, texa, may, offer, should, pleas",
           "+++ don, make, usa, more, should, right, good, had, when, time<br>--- say, believ, must, were, court, season, veri, someon, angel, mean",
           "+++ doe, their, also, distribut, whi, how, been, don, even, than<br>--- escrow, msg, includ, develop, most, waco, control, reason, fire, data",
           "+++ also, when, doe, now, then, veri, those, need, how, been<br>--- such, state, waco, believ, militia, someon, sinc, pleas, doctor, keyboard",
           "+++ whi, well, time, much, onli, own, them, how, those, doe<br>--- word, bibl, man, austin, islam, california, waco, inc, sin, point",
           "+++ good, also, when, most, these, make, your, say, tri, had<br>--- too, effect, msg, keith, take, whi, repli, motorcycl, food, long",
           "+++ driver, kill, cco, onli, state, then, steve, believ, say, crimin<br>--- realli, crime, model, polit, court, waco, follow, reason, natur, govern",
           "+++ those, need, realli, problem, well, these, mani, should, most, way<br>--- look, box, electr, want, world, utexa, carri, person, inc, amend",
           "+++ had, don, now, even, said, these, those, say, whi, than<br>--- cco, nazi, texa, give, repli, israel, forc, distribut, carri, war",
           "+++ <br>--- 0tq, shall, 6um, m9v, thing, keep, make, mb8f, 7ez, here"
          ],
          [
           "+++ two, way, your, think, those, well, even, now, when, which<br>--- support, administr, stephanopoulo, public, law, govern, where, say, see, who",
           "+++ comput, been, too, here, may, think, these, doe, gov, which<br>--- nasa, into, henri, electr, game, nhl, player, off, after, net",
           "+++ were, back, could, mani, run, into, when, around, after, still<br>--- say, cool, jpl, world, did, season, him, lot, protect, she",
           "+++ doe, which, need, run, how, comput, onli, distribut, when, make<br>--- inform, hot, had, screen, ground, protect, base, oracl, realli, were",
           "+++ want, problem, thing, them, which, more, distribut, access, should, don<br>--- file, nasa, andrew, memori, case, disk, control, wire, ram, after",
           "+++ onli, comput, how, world, engin, think, thank, state, want, which<br>--- whi, should, seem, send, data, simm, more, via, price, mani",
           "+++ whi, them, which, think, good, new, how, state, then, here<br>--- law, light, leagu, electr, these, american, year, offic, calgari, around",
           "+++ them, onli, design, were, more, good, think, access, how, should<br>--- helmet, where, simm, jpl, pgp, shuttl, dog, oracl, org, such",
           "+++ than, problem, which, other, work, after, well, your, may, been<br>--- pleas, mani, doctor, sinc, amp, take, jpl, box, look, behanna",
           "+++ good, could, think, which, question, seem, tri, doe, more, even<br>--- love, hot, part, simm, someth, state, truth, becaus, god, take",
           "+++ differ, good, thing, where, system, more, into, repli, even, also<br>--- entri, see, tire, right, includ, long, sun, start, send, car",
           "+++ those, need, realli, problem, well, these, mani, should, most, way<br>--- look, box, electr, want, world, utexa, carri, person, inc, amend",
           "+++ off, simm, into, ground, anyon, jpl, could, time, electr, back<br>--- say, come, hot, helmet, their, find, actual, version, light, better",
           "+++ where, them, state, then, when, case, your, these, more, into<br>--- year, two, wire, isra, right, problem, kent, point, who, connect",
           "+++ <br>--- then, could, jpl, 145, g9p, may, new, distribut, think, m1t"
          ],
          [
           "+++ tri, which, well, their, those, these, your, after, also, want<br>--- center, civilian, much, gener, may, encrypt, live, hous, armenia, forc",
           "+++ world, been, onli, make, more, these, doe, question, other, tri<br>--- even, case, occupi, than, true, spencer, becaus, fact, hockey, n3jxp",
           "+++ don, your, most, call, how, who, well, make, were, been<br>--- her, reason, start, around, lebanes, tell, went, win, civilian, case",
           "+++ where, doe, also, into, see, don, make, your, call, how<br>--- those, order, polici, system, world, mcgill, imag, israel, address, jew",
           "+++ your, now, doe, into, onli, make, which, other, don, call<br>--- their, cmu, veri, while, research, soldier, softwar, window, run, driver",
           "+++ also, which, call, time, could, how, other, doe, your, state<br>--- version, right, keyword, color, polici, let, these, true, first, palestinian",
           "+++ don, point, who, should, other, were, think, when, more, than<br>--- chi, western, true, such, win, nhl, boston, law, play, attack",
           "+++ such, were, question, these, doe, more, onli, peopl, how, time<br>--- soldier, veri, isc, number, gener, public, cleveland, new, two, western",
           "+++ their, these, when, don, after, year, been, repli, more, then<br>--- war, mani, were, org, inform, two, distribut, doctor, civilian, jew",
           "+++ been, were, seem, how, then, which, reason, world, did, becaus<br>--- part, our, countri, jewish, repli, war, order, love, year, find",
           "+++ repli, see, them, say, where, want, tri, even, mani, think<br>--- attack, much, govern, differ, kill, veri, land, need, lebanes, tire",
           "+++ had, don, now, even, said, these, those, say, whi, than<br>--- cco, nazi, texa, give, repli, israel, forc, distribut, carri, war",
           "+++ where, them, state, then, when, case, your, these, more, into<br>--- year, two, wire, isra, right, problem, kent, point, who, connect",
           "+++ western, true, occupi, fact, center, point, arab, attack, research, them<br>--- sure, kent, isc, exist, mean, nazi, lebanon, two",
           "+++ <br>--- z6ei, 7ez, q30t, m45, true, bxom, p4u, bhj, adam, had"
          ],
          [
           "+++ <br>--- peopl, 7ez, been, r186, f9d, m45, 1f9, g9p, b4q, 2tct",
           "+++ nhl, scienc<br>--- m1t, comput, r8f, weight, n3jxp, technolog, soon, cup, shz, nrhj",
           "+++ <br>--- run, 6e1t, call, your, w47, bxn, time, bhj, rauser, f9d",
           "+++ <br>--- card, other, gizw, nriz, q30t, fax, sun, don, methodolog, convert",
           "+++ <br>--- ghj, speed, methodolog, when, help, window, meg, b4q, thing, look",
           "+++ <br>--- qtm, need, 9l3, gizw, 2tg, sale, softwar, 1d9, support, wwiz",
           "+++ nhl<br>--- hockey, don, r186, m45, 7klj, a86r, f9f9, a865, chi, divis",
           "+++ <br>--- a86, should, includ, z6ei, f9d, yf9, m1t, org, moon, i0l",
           "+++ scienc<br>--- diseas, behanna, problem, even, time, most, a86r, manag, 9f9, then",
           "+++ <br>--- did, 5g9v, a865, mg9v, m45, b8g, bibl, 16m, church, been",
           "+++ <br>--- bhjn, 2pu, f9f9, were, 9f8, shz, 5g9p, never, when, sure",
           "+++ <br>--- 0tq, shall, 6um, m9v, thing, keep, make, mb8f, 7ez, here",
           "+++ <br>--- then, could, jpl, 145, g9p, may, new, distribut, think, m1t",
           "+++ <br>--- z6ei, 7ez, q30t, m45, true, bxom, p4u, bhj, adam, had",
           "+++ 7ex, chz, 2di, g9v, mb8f, giz, 9f8, 1d9l, wwiz, f9d<br>--- 6e1t, team, isc, a865, nriz, more, canadian, sfu, ladi, bs0t"
          ]
         ],
         "type": "heatmap",
         "z": [
          [
           0.09523809523809523,
           0.8950276243093923,
           0.6666666666666667,
           0.8372093023255813,
           0.7421383647798743,
           0.8636363636363636,
           0.8700564971751412,
           0.6754966887417219,
           0.7421383647798743,
           0.6486486486486487,
           0.7012987012987013,
           0.717948717948718,
           0.7096774193548387,
           0.6577181208053691,
           1
          ],
          [
           0.8950276243093923,
           0.14814814814814814,
           0.8372093023255813,
           0.88268156424581,
           0.8636363636363636,
           0.8636363636363636,
           0.8235294117647058,
           0.8235294117647058,
           0.8165680473372781,
           0.8700564971751412,
           0.8304093567251463,
           0.8700564971751412,
           0.8439306358381503,
           0.8571428571428572,
           0.98989898989899
          ],
          [
           0.6666666666666667,
           0.8372093023255813,
           0.058252427184465994,
           0.88268156424581,
           0.7341772151898734,
           0.9130434782608696,
           0.8372093023255813,
           0.7878787878787878,
           0.8095238095238095,
           0.6577181208053691,
           0.6577181208053691,
           0.7878787878787878,
           0.6842105263157895,
           0.7012987012987013,
           1
          ],
          [
           0.8372093023255813,
           0.88268156424581,
           0.88268156424581,
           0.07692307692307687,
           0.717948717948718,
           0.6928104575163399,
           0.9417989417989419,
           0.8023952095808383,
           0.7577639751552795,
           0.8700564971751412,
           0.7577639751552795,
           0.8700564971751412,
           0.7951807228915663,
           0.8636363636363636,
           1
          ],
          [
           0.7421383647798743,
           0.8636363636363636,
           0.7341772151898734,
           0.717948717948718,
           0.07692307692307687,
           0.7577639751552795,
           0.9010989010989011,
           0.7577639751552795,
           0.6928104575163399,
           0.7341772151898734,
           0.6206896551724138,
           0.7577639751552795,
           0.6301369863013699,
           0.7804878048780488,
           1
          ],
          [
           0.8636363636363636,
           0.8636363636363636,
           0.9130434782608696,
           0.6928104575163399,
           0.7577639751552795,
           0.09523809523809523,
           0.9417989417989419,
           0.8023952095808383,
           0.7804878048780488,
           0.907103825136612,
           0.8235294117647058,
           0.8764044943820225,
           0.8165680473372781,
           0.9010989010989011,
           1
          ],
          [
           0.8700564971751412,
           0.8235294117647058,
           0.8372093023255813,
           0.9417989417989419,
           0.9010989010989011,
           0.9417989417989419,
           0.27586206896551724,
           0.8165680473372781,
           0.8372093023255813,
           0.8165680473372781,
           0.8165680473372781,
           0.7804878048780488,
           0.8439306358381503,
           0.8235294117647058,
           0.9949748743718593
          ],
          [
           0.6754966887417219,
           0.8235294117647058,
           0.7878787878787878,
           0.8023952095808383,
           0.7577639751552795,
           0.8023952095808383,
           0.8165680473372781,
           0.09523809523809523,
           0.7654320987654322,
           0.75,
           0.717948717948718,
           0.7654320987654322,
           0.7012987012987013,
           0.75,
           1
          ],
          [
           0.7421383647798743,
           0.8165680473372781,
           0.8095238095238095,
           0.7577639751552795,
           0.6928104575163399,
           0.7804878048780488,
           0.8372093023255813,
           0.7654320987654322,
           0.2142857142857143,
           0.717948717948718,
           0.6842105263157895,
           0.7261146496815287,
           0.6666666666666667,
           0.7261146496815287,
           0.9949748743718593
          ],
          [
           0.6486486486486487,
           0.8700564971751412,
           0.6577181208053691,
           0.8700564971751412,
           0.7341772151898734,
           0.907103825136612,
           0.8165680473372781,
           0.75,
           0.717948717948718,
           0.01980198019801982,
           0.6842105263157895,
           0.6842105263157895,
           0.7261146496815287,
           0.6394557823129252,
           1
          ],
          [
           0.7012987012987013,
           0.8304093567251463,
           0.6577181208053691,
           0.7577639751552795,
           0.6206896551724138,
           0.8235294117647058,
           0.8165680473372781,
           0.717948717948718,
           0.6842105263157895,
           0.6842105263157895,
           0.1132075471698113,
           0.7341772151898734,
           0.6206896551724138,
           0.75,
           1
          ],
          [
           0.717948717948718,
           0.8700564971751412,
           0.7878787878787878,
           0.8700564971751412,
           0.7577639751552795,
           0.8764044943820225,
           0.7804878048780488,
           0.7654320987654322,
           0.7261146496815287,
           0.6842105263157895,
           0.7341772151898734,
           0.23008849557522126,
           0.7012987012987013,
           0.7421383647798743,
           1
          ],
          [
           0.7096774193548387,
           0.8439306358381503,
           0.6842105263157895,
           0.7951807228915663,
           0.6301369863013699,
           0.8165680473372781,
           0.8439306358381503,
           0.7012987012987013,
           0.6666666666666667,
           0.7261146496815287,
           0.6206896551724138,
           0.7012987012987013,
           0.09523809523809523,
           0.7261146496815287,
           1
          ],
          [
           0.6577181208053691,
           0.8571428571428572,
           0.7012987012987013,
           0.8636363636363636,
           0.7804878048780488,
           0.9010989010989011,
           0.8235294117647058,
           0.75,
           0.7261146496815287,
           0.6394557823129252,
           0.75,
           0.7421383647798743,
           0.7261146496815287,
           0.07692307692307687,
           1
          ],
          [
           1,
           0.98989898989899,
           1,
           1,
           1,
           1,
           0.9949748743718593,
           1,
           0.9949748743718593,
           1,
           1,
           1,
           1,
           1,
           0.19819819819819817
          ]
         ]
        }
       ],
       "layout": {
        "height": 950,
        "title": "Topic difference (jaccard)",
        "width": 950,
        "xaxis": {
         "title": "topic"
        },
        "yaxis": {
         "title": "topic"
        }
       }
      },
      "text/html": [
       "<div id=\"be33d1c6-4f92-4c50-b9ca-ab85938adab2\" style=\"height: 950px; width: 950px;\" class=\"plotly-graph-div\"></div><script type=\"text/javascript\">require([\"plotly\"], function(Plotly) { window.PLOTLYENV=window.PLOTLYENV || {};window.PLOTLYENV.BASE_URL=\"https://plot.ly\";Plotly.newPlot(\"be33d1c6-4f92-4c50-b9ca-ab85938adab2\", [{\"text\": [[\"+++ our, then, armenian, hous, than, provid, today, state, take, servic<br>--- against, inform, through, clipper, here, much, polit, secur, polici, effect\", \"+++ also, think, when, see, year, make, been, world, onli, don<br>--- john, umanitoba, veri, team, whi, jet, mike, kevin, institut, win\", \"+++ your, could, time, those, two, take, into, see, come, then<br>--- tell, off, commun, left, came, russian, system, happen, provid, score\", \"+++ time, may, see, most, want, don, than, new, these, how<br>--- distribut, problem, thing, could, way, person, their, american, today, russian\", \"+++ now, more, make, want, tri, say, onli, these, need, could<br>--- greek, right, gener, armenian, problem, govern, differ, softwar, whi, meg\", \"+++ system, work, program, onli, how, call, inform, which, time, state<br>--- these, into, repli, version, card, driver, law, armenia, modem, distribut\", \"+++ been, new, year, other, don, good, peopl, first, onli, than<br>--- person, after, could, score, vancouv, jose, come, way, montreal, rate\", \"+++ time, also, when, govern, which, such, need, see, say, work<br>--- gov, messag, access, lunar, mani, scienc, pgp, crypto, stephanopoulo, said\", \"+++ after, make, tri, right, gener, veri, good, could, need, well<br>--- armenia, medic, administr, number, monitor, see, commun, pain, berkeley, jim\", \"+++ law, could, had, been, person, think, who, did, becaus, may<br>--- state, islam, system, human, administr, moral, after, god, program, servic\", \"+++ first, into, make, had, these, much, most, take, which, way<br>--- auto, nation, start, privaci, gener, oil, netcom, administr, where, becaus\", \"+++ good, much, these, onli, their, also, other, been, most, say<br>--- crimin, texa, polit, death, our, into, administr, believ, nation, shall\", \"+++ two, way, your, think, those, well, even, now, when, which<br>--- support, administr, stephanopoulo, public, law, govern, where, say, see, who\", \"+++ tri, which, well, their, those, these, your, after, also, want<br>--- center, civilian, much, gener, may, encrypt, live, hous, armenia, forc\", \"+++ <br>--- peopl, 7ez, been, r186, f9d, m45, 1f9, g9p, b4q, 2tct\"], [\"+++ also, think, when, see, year, make, been, world, onli, don<br>--- john, umanitoba, veri, team, whi, jet, mike, kevin, institut, win\", \"+++ first, david, here, good, scienc, gordon, year, gatech, been, too<br>--- these, buffalo, their, atlanta, time, question, which, marc, two, gene\", \"+++ here, make, been, two, too, their, team, also, think, when<br>--- how, institut, geb, comput, lot, weight, these, intellect, doe, uucp\", \"+++ your, onli, see, new, which, these, mail, comput, internet, doe<br>--- clarkson, player, problem, send, directori, mac, mike, david, intellect, code\", \"+++ also, work, make, don, pleas, which, world, good, these, repli<br>--- boot, skeptic, anyon, here, should, instal, may, becaus, sweden, access\", \"+++ scienc, comput, repli, good, also, internet, think, question, which, work<br>--- clarkson, leagu, monitor, electron, too, mark, state, henri, price, chip\", \"+++ team, make, game, time, april, other, new, pittsburgh, hockey, their<br>--- second, number, law, dsl, calgari, may, mike, too, handgun, point\", \"+++ first, technolog, these, good, when, think, who, comput, time, gov<br>--- program, chastiti, call, orbit, such, bit, fan, govern, uwo, play\", \"+++ which, doe, when, two, year, make, who, onli, your, comput<br>--- system, center, ericsson, david, thank, had, clinic, cancer, cup, vote\", \"+++ may, other, also, question, more, who, here, don, these, doe<br>--- right, let, pleas, truth, georgia, henri, belief, mail, nhl, vote\", \"+++ good, here, don, also, more, onli, see, repli, think, make<br>--- nhl, canada, long, back, right, then, than, now, car, zoolog\", \"+++ also, time, good, may, tri, which, been, think, make, more<br>--- peopl, mail, tek, caltech, must, year, law, leagu, play, umanitoba\", \"+++ comput, been, too, here, may, think, these, doe, gov, which<br>--- nasa, into, henri, electr, game, nhl, player, off, after, net\", \"+++ world, been, onli, make, more, these, doe, question, other, tri<br>--- even, case, occupi, than, true, spencer, becaus, fact, hockey, n3jxp\", \"+++ nhl, scienc<br>--- m1t, comput, r8f, weight, n3jxp, technolog, soon, cup, shz, nrhj\"], [\"+++ your, could, time, those, two, take, into, see, come, then<br>--- tell, off, commun, left, came, russian, system, happen, provid, score\", \"+++ here, make, been, two, too, their, team, also, think, when<br>--- how, institut, geb, comput, lot, weight, these, intellect, doe, uucp\", \"+++ basebal, when, then, could, think, guy, better, score, here, point<br>--- which, made, around, great, saw, while\", \"+++ when, should, where, make, look, more, your, time, call, want<br>--- point, off, while, her, process, read, standard, over, car, back\", \"+++ well, someth, while, look, when, becaus, should, how, veri, don<br>--- error, win, new, fan, find, set, season, still, buy, mani\", \"+++ call, want, think, your, other, onli, look, which, also, good<br>--- graphic, newsread, contact, come, newsgroup, ibm, them, access, been, even\", \"+++ other, point, play, good, year, last, than, season, peopl, team<br>--- said, also, got, virginia, didn, put, vancouv, run, chi, came\", \"+++ into, their, then, point, your, who, also, which, don, them<br>--- lot, org, too, program, gener, govern, still, might, new, space\", \"+++ which, make, call, want, becaus, more, how, good, those, now<br>--- repli, berkeley, medic, york, down, medicin, each, she, help, gener\", \"+++ then, whi, other, way, most, now, were, had, been, than<br>--- bibl, best, person, off, find, book, differ, she, hit, score\", \"+++ more, someth, when, than, off, first, them, think, see, right<br>--- tire, pleas, new, fan, motorcycl, list, better, program, left, name\", \"+++ then, say, most, those, been, make, should, them, now, good<br>--- player, own, want, start, game, keep, see, never, happen, after\", \"+++ were, back, could, mani, run, into, when, around, after, still<br>--- say, cool, jpl, world, did, season, him, lot, protect, she\", \"+++ don, your, most, call, how, who, well, make, were, been<br>--- her, reason, start, around, lebanes, tell, went, win, civilian, case\", \"+++ <br>--- run, 6e1t, call, your, w47, bxn, time, bhj, rauser, f9d\"], [\"+++ time, may, see, most, want, don, than, new, these, how<br>--- distribut, problem, thing, could, way, person, their, american, today, russian\", \"+++ your, onli, see, new, which, these, mail, comput, internet, doe<br>--- clarkson, player, problem, send, directori, mac, mike, david, intellect, code\", \"+++ when, should, where, make, look, more, your, time, call, want<br>--- point, off, while, her, process, read, standard, over, car, back\", \"+++ version, info, onli, base, most, code, fax, address, comput, display<br>--- gif, directori, number, card, into, pleas, xterm, memori\", \"+++ system, help, should, program, other, pleas, memori, machin, time, new<br>--- ide, got, includ, becaus, manag, chang, drive, way, control, ibm\", \"+++ system, which, support, your, list, pleas, graphic, need, doe, version<br>--- comp, make, could, sale, format, font, printer, librari, manag, same\", \"+++ name, your, make, new, more, than, don, onli, other, time<br>--- pleas, pittsburgh, confer, been, player, chicago, ranger, king, defens, visual\", \"+++ than, into, also, data, onli, distribut, comput, more, gener, new<br>--- first, secret, moon, earth, applic, version, engin, set, mac, clipper\", \"+++ make, manag, onli, same, need, type, don, system, distribut, help<br>--- color, screen, number, been, medic, monitor, world, base, good, widget\", \"+++ these, when, onli, also, should, may, which, want, time, most<br>--- atheist, those, send, belief, evid, thank, person, christ, call, interfac\", \"+++ these, sun, send, don, than, work, then, look, info, problem<br>--- could, much, mit, number, who, card, them, same, chang, machin\", \"+++ should, problem, system, more, these, need, how, than, make, other<br>--- steve, help, anyon, weapon, austin, good, ibm, those, peopl, veri\", \"+++ doe, which, need, run, how, comput, onli, distribut, when, make<br>--- inform, hot, had, screen, ground, protect, base, oracl, realli, were\", \"+++ where, doe, also, into, see, don, make, your, call, how<br>--- those, order, polici, system, world, mcgill, imag, israel, address, jew\", \"+++ <br>--- card, other, gizw, nriz, q30t, fax, sun, don, methodolog, convert\"], [\"+++ now, more, make, want, tri, say, onli, these, need, could<br>--- greek, right, gener, armenian, problem, govern, differ, softwar, whi, meg\", \"+++ also, work, make, don, pleas, which, world, good, these, repli<br>--- boot, skeptic, anyon, here, should, instal, may, becaus, sweden, access\", \"+++ well, someth, while, look, when, becaus, should, how, veri, don<br>--- error, win, new, fan, find, set, season, still, buy, mani\", \"+++ system, help, should, program, other, pleas, memori, machin, time, new<br>--- ide, got, includ, becaus, manag, chang, drive, way, control, ibm\", \"+++ into, engin, hard, tri, then, softwar, speed, error, power, boot<br>--- cabl, take, usa, who, devic, data, under, card\", \"+++ think, mac, onli, world, engin, need, doe, usa, which, other<br>--- scsi, phone, offer, newsgroup, support, them, group, keyword, question, under\", \"+++ your, power, who, more, them, time, make, been, other, good<br>--- win, confer, disk, period, hard, pit, min, game, polic, state\", \"+++ don, these, then, say, now, how, way, new, should, than<br>--- same, key, might, bit, govern, center, boot, had, inform, much\", \"+++ other, call, problem, repli, had, also, comput, becaus, who, time<br>--- may, ide, doctor, boot, keyboard, got, seem, case, mail, type\", \"+++ these, think, how, come, veri, had, also, should, same, don<br>--- him, call, true, word, did, system, were, said, file, realli\", \"+++ been, system, don, thing, off, chang, into, also, onli, file<br>--- alaska, window, cmu, comput, bmw, question, most, realli, never, tape\", \"+++ other, need, now, onli, control, thing, system, could, more, veri<br>--- access, version, machin, world, shall, caus, dyer, waco, crime, off\", \"+++ want, problem, thing, them, which, more, distribut, access, should, don<br>--- file, nasa, andrew, memori, case, disk, control, wire, ram, after\", \"+++ your, now, doe, into, onli, make, which, other, don, call<br>--- their, cmu, veri, while, research, soldier, softwar, window, run, driver\", \"+++ <br>--- ghj, speed, methodolog, when, help, window, meg, b4q, thing, look\"], [\"+++ system, work, program, onli, how, call, inform, which, time, state<br>--- these, into, repli, version, card, driver, law, armenia, modem, distribut\", \"+++ scienc, comput, repli, good, also, internet, think, question, which, work<br>--- clarkson, leagu, monitor, electron, too, mark, state, henri, price, chip\", \"+++ call, want, think, your, other, onli, look, which, also, good<br>--- graphic, newsread, contact, come, newsgroup, ibm, them, access, been, even\", \"+++ system, which, support, your, list, pleas, graphic, need, doe, version<br>--- comp, make, could, sale, format, font, printer, librari, manag, same\", \"+++ think, mac, onli, world, engin, need, doe, usa, which, other<br>--- scsi, phone, offer, newsgroup, support, them, group, keyword, question, under\", \"+++ interest, time, vga, work, sale, other, usa, world, window, find<br>--- scienc, file, space, machin, buy, book, best, tri, site, question\", \"+++ think, state, good, onli, your, other, file, new, time, don<br>--- window, 100, org, handgun, work, last, includ, against, canada, group\", \"+++ call, time, think, inform, other, don, veri, your, number, new<br>--- launch, satellit, thank, list, advanc, printer, machin, rocket, color, than\", \"+++ help, could, world, other, repli, distribut, new, doe, usa, how<br>--- nec, card, offer, site, clinic, file, access, version, patient, normal\", \"+++ tri, find, veri, also, good, doe, could, other, onli, which<br>--- here, mac, them, been, modem, own, inform, exist, right, video\", \"+++ anyon, work, which, also, number, other, file, good, veri, don<br>--- origin, differ, mail, see, card, must, org, offer, avail, make\", \"+++ time, think, which, distribut, veri, other, inc, anyon, state, also<br>--- network, repli, shall, mean, well, texa, may, offer, should, pleas\", \"+++ onli, comput, how, world, engin, think, thank, state, want, which<br>--- whi, should, seem, send, data, simm, more, via, price, mani\", \"+++ also, which, call, time, could, how, other, doe, your, state<br>--- version, right, keyword, color, polici, let, these, true, first, palestinian\", \"+++ <br>--- qtm, need, 9l3, gizw, 2tg, sale, softwar, 1d9, support, wwiz\"], [\"+++ been, new, year, other, don, good, peopl, first, onli, than<br>--- person, after, could, score, vancouv, jose, come, way, montreal, rate\", \"+++ team, make, game, time, april, other, new, pittsburgh, hockey, their<br>--- second, number, law, dsl, calgari, may, mike, too, handgun, point\", \"+++ other, point, play, good, year, last, than, season, peopl, team<br>--- said, also, got, virginia, didn, put, vancouv, run, chi, came\", \"+++ name, your, make, new, more, than, don, onli, other, time<br>--- pleas, pittsburgh, confer, been, player, chicago, ranger, king, defens, visual\", \"+++ your, power, who, more, them, time, make, been, other, good<br>--- win, confer, disk, period, hard, pit, min, game, polic, state\", \"+++ think, state, good, onli, your, other, file, new, time, don<br>--- window, 100, org, handgun, work, last, includ, against, canada, group\", \"+++ toronto, point, rate, them, crimin, been, york, gun, washington, pittsburgh<br>--- confer, mon, last, loui, pit, usa, had, offic, then, ranger\", \"+++ their, time, first, then, who, year, inform, don, them, also<br>--- such, david, boston, secret, now, clipper, tor, bill, control, hockey\", \"+++ had, make, who, time, usa, been, should, may, don, onli<br>--- polic, weapon, rate, art, 000, king, chicago, comput, game, mous\", \"+++ don, peopl, more, had, your, here, own, then, their, whi<br>--- much, angel, april, pittsburgh, crimin, handgun, fact, true, veri, life\", \"+++ onli, should, other, first, had, distribut, who, how, don, new<br>--- usa, check, bike, doe, team, anyon, win, 000, second, offic\", \"+++ don, make, usa, more, should, right, good, had, when, time<br>--- say, believ, must, were, court, season, veri, someon, angel, mean\", \"+++ whi, them, which, think, good, new, how, state, then, here<br>--- law, light, leagu, electr, these, american, year, offic, calgari, around\", \"+++ don, point, who, should, other, were, think, when, more, than<br>--- chi, western, true, such, win, nhl, boston, law, play, attack\", \"+++ nhl<br>--- hockey, don, r186, m45, 7klj, a86r, f9f9, a865, chi, divis\"], [\"+++ time, also, when, govern, which, such, need, see, say, work<br>--- gov, messag, access, lunar, mani, scienc, pgp, crypto, stephanopoulo, said\", \"+++ first, technolog, these, good, when, think, who, comput, time, gov<br>--- program, chastiti, call, orbit, such, bit, fan, govern, uwo, play\", \"+++ into, their, then, point, your, who, also, which, don, them<br>--- lot, org, too, program, gener, govern, still, might, new, space\", \"+++ than, into, also, data, onli, distribut, comput, more, gener, new<br>--- first, secret, moon, earth, applic, version, engin, set, mac, clipper\", \"+++ don, these, then, say, now, how, way, new, should, than<br>--- same, key, might, bit, govern, center, boot, had, inform, much\", \"+++ call, time, think, inform, other, don, veri, your, number, new<br>--- launch, satellit, thank, list, advanc, printer, machin, rocket, color, than\", \"+++ their, time, first, then, who, year, inform, don, them, also<br>--- such, david, boston, secret, now, clipper, tor, bill, control, hockey\", \"+++ secret, point, year, algorithm, shuttl, orbit, how, avail, gov, secur<br>--- thing, question, center, scienc, much, whi, look, commun, oper, cost\", \"+++ two, question, these, good, veri, when, need, how, been, your<br>--- thing, govern, lunar, right, them, first, book, avail, ann, say\", \"+++ could, when, should, doe, them, point, whi, onli, who, question<br>--- follow, faq, inform, christian, claim, possibl, church, human, live, differ\", \"+++ time, could, then, your, more, number, way, see, onli, year<br>--- check, key, faq, includ, avail, output, name, project, lunar, file\", \"+++ doe, their, also, distribut, whi, how, been, don, even, than<br>--- escrow, msg, includ, develop, most, waco, control, reason, fire, data\", \"+++ them, onli, design, were, more, good, think, access, how, should<br>--- helmet, where, simm, jpl, pgp, shuttl, dog, oracl, org, such\", \"+++ such, were, question, these, doe, more, onli, peopl, how, time<br>--- soldier, veri, isc, number, gener, public, cleveland, new, two, western\", \"+++ <br>--- a86, should, includ, z6ei, f9d, yf9, m1t, org, moon, i0l\"], [\"+++ after, make, tri, right, gener, veri, good, could, need, well<br>--- armenia, medic, administr, number, monitor, see, commun, pain, berkeley, jim\", \"+++ which, doe, when, two, year, make, who, onli, your, comput<br>--- system, center, ericsson, david, thank, had, clinic, cancer, cup, vote\", \"+++ which, make, call, want, becaus, more, how, good, those, now<br>--- repli, berkeley, medic, york, down, medicin, each, she, help, gener\", \"+++ make, manag, onli, same, need, type, don, system, distribut, help<br>--- color, screen, number, been, medic, monitor, world, base, good, widget\", \"+++ other, call, problem, repli, had, also, comput, becaus, who, time<br>--- may, ide, doctor, boot, keyboard, got, seem, case, mail, type\", \"+++ help, could, world, other, repli, distribut, new, doe, usa, how<br>--- nec, card, offer, site, clinic, file, access, version, patient, normal\", \"+++ had, make, who, time, usa, been, should, may, don, onli<br>--- polic, weapon, rate, art, 000, king, chicago, comput, game, mous\", \"+++ two, question, these, good, veri, when, need, how, been, your<br>--- thing, govern, lunar, right, them, first, book, avail, ann, say\", \"+++ refer, well, those, call, than, who, repli, type, how, monitor<br>--- cover, clinic, then, net, switch, normal, treatment, man, med, medicin\", \"+++ veri, world, who, book, man, whi, well, other, question, onli<br>--- jim, etc, nec, said, appear, argument, type, live, follow, sinc\", \"+++ them, number, doe, other, which, could, may, most, also, time<br>--- case, inform, same, ride, book, after, comput, jim, mani, long\", \"+++ also, when, doe, now, then, veri, those, need, how, been<br>--- such, state, waco, believ, militia, someon, sinc, pleas, doctor, keyboard\", \"+++ than, problem, which, other, work, after, well, your, may, been<br>--- pleas, mani, doctor, sinc, amp, take, jpl, box, look, behanna\", \"+++ their, these, when, don, after, year, been, repli, more, then<br>--- war, mani, were, org, inform, two, distribut, doctor, civilian, jew\", \"+++ scienc<br>--- diseas, behanna, problem, even, time, most, a86r, manag, 9f9, then\"], [\"+++ law, could, had, been, person, think, who, did, becaus, may<br>--- state, islam, system, human, administr, moral, after, god, program, servic\", \"+++ may, other, also, question, more, who, here, don, these, doe<br>--- right, let, pleas, truth, georgia, henri, belief, mail, nhl, vote\", \"+++ then, whi, other, way, most, now, were, had, been, than<br>--- bibl, best, person, off, find, book, differ, she, hit, score\", \"+++ these, when, onli, also, should, may, which, want, time, most<br>--- atheist, those, send, belief, evid, thank, person, christ, call, interfac\", \"+++ these, think, how, come, veri, had, also, should, same, don<br>--- him, call, true, word, did, system, were, said, file, realli\", \"+++ tri, find, veri, also, good, doe, could, other, onli, which<br>--- here, mac, them, been, modem, own, inform, exist, right, video\", \"+++ don, peopl, more, had, your, here, own, then, their, whi<br>--- much, angel, april, pittsburgh, crimin, handgun, fact, true, veri, life\", \"+++ could, when, should, doe, them, point, whi, onli, who, question<br>--- follow, faq, inform, christian, claim, possibl, church, human, live, differ\", \"+++ veri, world, who, book, man, whi, well, other, question, onli<br>--- jim, etc, nec, said, appear, argument, type, live, follow, sinc\", \"+++ our, human, live, been, find, church, bibl, could, don, book<br>--- sin, exampl\", \"+++ time, make, veri, were, tri, think, them, doe, should, into<br>--- book, never, rule, follow, whi, those, new, tire, man, car\", \"+++ whi, well, time, much, onli, own, them, how, those, doe<br>--- word, bibl, man, austin, islam, california, waco, inc, sin, point\", \"+++ good, could, think, which, question, seem, tri, doe, more, even<br>--- love, hot, part, simm, someth, state, truth, becaus, god, take\", \"+++ been, were, seem, how, then, which, reason, world, did, becaus<br>--- part, our, countri, jewish, repli, war, order, love, year, find\", \"+++ <br>--- did, 5g9v, a865, mg9v, m45, b8g, bibl, 16m, church, been\"], [\"+++ first, into, make, had, these, much, most, take, which, way<br>--- auto, nation, start, privaci, gener, oil, netcom, administr, where, becaus\", \"+++ good, here, don, also, more, onli, see, repli, think, make<br>--- nhl, canada, long, back, right, then, than, now, car, zoolog\", \"+++ more, someth, when, than, off, first, them, think, see, right<br>--- tire, pleas, new, fan, motorcycl, list, better, program, left, name\", \"+++ these, sun, send, don, than, work, then, look, info, problem<br>--- could, much, mit, number, who, card, them, same, chang, machin\", \"+++ been, system, don, thing, off, chang, into, also, onli, file<br>--- alaska, window, cmu, comput, bmw, question, most, realli, never, tape\", \"+++ anyon, work, which, also, number, other, file, good, veri, don<br>--- origin, differ, mail, see, card, must, org, offer, avail, make\", \"+++ onli, should, other, first, had, distribut, who, how, don, new<br>--- usa, check, bike, doe, team, anyon, win, 000, second, offic\", \"+++ time, could, then, your, more, number, way, see, onli, year<br>--- check, key, faq, includ, avail, output, name, project, lunar, file\", \"+++ them, number, doe, other, which, could, may, most, also, time<br>--- case, inform, same, ride, book, after, comput, jim, mani, long\", \"+++ time, make, veri, were, tri, think, them, doe, should, into<br>--- book, never, rule, follow, whi, those, new, tire, man, car\", \"+++ way, list, off, onli, file, time, new, back, speed, could<br>--- help, bmw, includ, mail, return, sun, brake, oil, request, buy\", \"+++ good, also, when, most, these, make, your, say, tri, had<br>--- too, effect, msg, keith, take, whi, repli, motorcycl, food, long\", \"+++ differ, good, thing, where, system, more, into, repli, even, also<br>--- entri, see, tire, right, includ, long, sun, start, send, car\", \"+++ repli, see, them, say, where, want, tri, even, mani, think<br>--- attack, much, govern, differ, kill, veri, land, need, lebanes, tire\", \"+++ <br>--- bhjn, 2pu, f9f9, were, 9f8, shz, 5g9p, never, when, sure\"], [\"+++ good, much, these, onli, their, also, other, been, most, say<br>--- crimin, texa, polit, death, our, into, administr, believ, nation, shall\", \"+++ also, time, good, may, tri, which, been, think, make, more<br>--- peopl, mail, tek, caltech, must, year, law, leagu, play, umanitoba\", \"+++ then, say, most, those, been, make, should, them, now, good<br>--- player, own, want, start, game, keep, see, never, happen, after\", \"+++ should, problem, system, more, these, need, how, than, make, other<br>--- steve, help, anyon, weapon, austin, good, ibm, those, peopl, veri\", \"+++ other, need, now, onli, control, thing, system, could, more, veri<br>--- access, version, machin, world, shall, caus, dyer, waco, crime, off\", \"+++ time, think, which, distribut, veri, other, inc, anyon, state, also<br>--- network, repli, shall, mean, well, texa, may, offer, should, pleas\", \"+++ don, make, usa, more, should, right, good, had, when, time<br>--- say, believ, must, were, court, season, veri, someon, angel, mean\", \"+++ doe, their, also, distribut, whi, how, been, don, even, than<br>--- escrow, msg, includ, develop, most, waco, control, reason, fire, data\", \"+++ also, when, doe, now, then, veri, those, need, how, been<br>--- such, state, waco, believ, militia, someon, sinc, pleas, doctor, keyboard\", \"+++ whi, well, time, much, onli, own, them, how, those, doe<br>--- word, bibl, man, austin, islam, california, waco, inc, sin, point\", \"+++ good, also, when, most, these, make, your, say, tri, had<br>--- too, effect, msg, keith, take, whi, repli, motorcycl, food, long\", \"+++ driver, kill, cco, onli, state, then, steve, believ, say, crimin<br>--- realli, crime, model, polit, court, waco, follow, reason, natur, govern\", \"+++ those, need, realli, problem, well, these, mani, should, most, way<br>--- look, box, electr, want, world, utexa, carri, person, inc, amend\", \"+++ had, don, now, even, said, these, those, say, whi, than<br>--- cco, nazi, texa, give, repli, israel, forc, distribut, carri, war\", \"+++ <br>--- 0tq, shall, 6um, m9v, thing, keep, make, mb8f, 7ez, here\"], [\"+++ two, way, your, think, those, well, even, now, when, which<br>--- support, administr, stephanopoulo, public, law, govern, where, say, see, who\", \"+++ comput, been, too, here, may, think, these, doe, gov, which<br>--- nasa, into, henri, electr, game, nhl, player, off, after, net\", \"+++ were, back, could, mani, run, into, when, around, after, still<br>--- say, cool, jpl, world, did, season, him, lot, protect, she\", \"+++ doe, which, need, run, how, comput, onli, distribut, when, make<br>--- inform, hot, had, screen, ground, protect, base, oracl, realli, were\", \"+++ want, problem, thing, them, which, more, distribut, access, should, don<br>--- file, nasa, andrew, memori, case, disk, control, wire, ram, after\", \"+++ onli, comput, how, world, engin, think, thank, state, want, which<br>--- whi, should, seem, send, data, simm, more, via, price, mani\", \"+++ whi, them, which, think, good, new, how, state, then, here<br>--- law, light, leagu, electr, these, american, year, offic, calgari, around\", \"+++ them, onli, design, were, more, good, think, access, how, should<br>--- helmet, where, simm, jpl, pgp, shuttl, dog, oracl, org, such\", \"+++ than, problem, which, other, work, after, well, your, may, been<br>--- pleas, mani, doctor, sinc, amp, take, jpl, box, look, behanna\", \"+++ good, could, think, which, question, seem, tri, doe, more, even<br>--- love, hot, part, simm, someth, state, truth, becaus, god, take\", \"+++ differ, good, thing, where, system, more, into, repli, even, also<br>--- entri, see, tire, right, includ, long, sun, start, send, car\", \"+++ those, need, realli, problem, well, these, mani, should, most, way<br>--- look, box, electr, want, world, utexa, carri, person, inc, amend\", \"+++ off, simm, into, ground, anyon, jpl, could, time, electr, back<br>--- say, come, hot, helmet, their, find, actual, version, light, better\", \"+++ where, them, state, then, when, case, your, these, more, into<br>--- year, two, wire, isra, right, problem, kent, point, who, connect\", \"+++ <br>--- then, could, jpl, 145, g9p, may, new, distribut, think, m1t\"], [\"+++ tri, which, well, their, those, these, your, after, also, want<br>--- center, civilian, much, gener, may, encrypt, live, hous, armenia, forc\", \"+++ world, been, onli, make, more, these, doe, question, other, tri<br>--- even, case, occupi, than, true, spencer, becaus, fact, hockey, n3jxp\", \"+++ don, your, most, call, how, who, well, make, were, been<br>--- her, reason, start, around, lebanes, tell, went, win, civilian, case\", \"+++ where, doe, also, into, see, don, make, your, call, how<br>--- those, order, polici, system, world, mcgill, imag, israel, address, jew\", \"+++ your, now, doe, into, onli, make, which, other, don, call<br>--- their, cmu, veri, while, research, soldier, softwar, window, run, driver\", \"+++ also, which, call, time, could, how, other, doe, your, state<br>--- version, right, keyword, color, polici, let, these, true, first, palestinian\", \"+++ don, point, who, should, other, were, think, when, more, than<br>--- chi, western, true, such, win, nhl, boston, law, play, attack\", \"+++ such, were, question, these, doe, more, onli, peopl, how, time<br>--- soldier, veri, isc, number, gener, public, cleveland, new, two, western\", \"+++ their, these, when, don, after, year, been, repli, more, then<br>--- war, mani, were, org, inform, two, distribut, doctor, civilian, jew\", \"+++ been, were, seem, how, then, which, reason, world, did, becaus<br>--- part, our, countri, jewish, repli, war, order, love, year, find\", \"+++ repli, see, them, say, where, want, tri, even, mani, think<br>--- attack, much, govern, differ, kill, veri, land, need, lebanes, tire\", \"+++ had, don, now, even, said, these, those, say, whi, than<br>--- cco, nazi, texa, give, repli, israel, forc, distribut, carri, war\", \"+++ where, them, state, then, when, case, your, these, more, into<br>--- year, two, wire, isra, right, problem, kent, point, who, connect\", \"+++ western, true, occupi, fact, center, point, arab, attack, research, them<br>--- sure, kent, isc, exist, mean, nazi, lebanon, two\", \"+++ <br>--- z6ei, 7ez, q30t, m45, true, bxom, p4u, bhj, adam, had\"], [\"+++ <br>--- peopl, 7ez, been, r186, f9d, m45, 1f9, g9p, b4q, 2tct\", \"+++ nhl, scienc<br>--- m1t, comput, r8f, weight, n3jxp, technolog, soon, cup, shz, nrhj\", \"+++ <br>--- run, 6e1t, call, your, w47, bxn, time, bhj, rauser, f9d\", \"+++ <br>--- card, other, gizw, nriz, q30t, fax, sun, don, methodolog, convert\", \"+++ <br>--- ghj, speed, methodolog, when, help, window, meg, b4q, thing, look\", \"+++ <br>--- qtm, need, 9l3, gizw, 2tg, sale, softwar, 1d9, support, wwiz\", \"+++ nhl<br>--- hockey, don, r186, m45, 7klj, a86r, f9f9, a865, chi, divis\", \"+++ <br>--- a86, should, includ, z6ei, f9d, yf9, m1t, org, moon, i0l\", \"+++ scienc<br>--- diseas, behanna, problem, even, time, most, a86r, manag, 9f9, then\", \"+++ <br>--- did, 5g9v, a865, mg9v, m45, b8g, bibl, 16m, church, been\", \"+++ <br>--- bhjn, 2pu, f9f9, were, 9f8, shz, 5g9p, never, when, sure\", \"+++ <br>--- 0tq, shall, 6um, m9v, thing, keep, make, mb8f, 7ez, here\", \"+++ <br>--- then, could, jpl, 145, g9p, may, new, distribut, think, m1t\", \"+++ <br>--- z6ei, 7ez, q30t, m45, true, bxom, p4u, bhj, adam, had\", \"+++ 7ex, chz, 2di, g9v, mb8f, giz, 9f8, 1d9l, wwiz, f9d<br>--- 6e1t, team, isc, a865, nriz, more, canadian, sfu, ladi, bs0t\"]], \"z\": [[0.09523809523809523, 0.8950276243093923, 0.6666666666666667, 0.8372093023255813, 0.7421383647798743, 0.8636363636363636, 0.8700564971751412, 0.6754966887417219, 0.7421383647798743, 0.6486486486486487, 0.7012987012987013, 0.717948717948718, 0.7096774193548387, 0.6577181208053691, 1.0], [0.8950276243093923, 0.14814814814814814, 0.8372093023255813, 0.88268156424581, 0.8636363636363636, 0.8636363636363636, 0.8235294117647058, 0.8235294117647058, 0.8165680473372781, 0.8700564971751412, 0.8304093567251463, 0.8700564971751412, 0.8439306358381503, 0.8571428571428572, 0.98989898989899], [0.6666666666666667, 0.8372093023255813, 0.058252427184465994, 0.88268156424581, 0.7341772151898734, 0.9130434782608696, 0.8372093023255813, 0.7878787878787878, 0.8095238095238095, 0.6577181208053691, 0.6577181208053691, 0.7878787878787878, 0.6842105263157895, 0.7012987012987013, 1.0], [0.8372093023255813, 0.88268156424581, 0.88268156424581, 0.07692307692307687, 0.717948717948718, 0.6928104575163399, 0.9417989417989419, 0.8023952095808383, 0.7577639751552795, 0.8700564971751412, 0.7577639751552795, 0.8700564971751412, 0.7951807228915663, 0.8636363636363636, 1.0], [0.7421383647798743, 0.8636363636363636, 0.7341772151898734, 0.717948717948718, 0.07692307692307687, 0.7577639751552795, 0.9010989010989011, 0.7577639751552795, 0.6928104575163399, 0.7341772151898734, 0.6206896551724138, 0.7577639751552795, 0.6301369863013699, 0.7804878048780488, 1.0], [0.8636363636363636, 0.8636363636363636, 0.9130434782608696, 0.6928104575163399, 0.7577639751552795, 0.09523809523809523, 0.9417989417989419, 0.8023952095808383, 0.7804878048780488, 0.907103825136612, 0.8235294117647058, 0.8764044943820225, 0.8165680473372781, 0.9010989010989011, 1.0], [0.8700564971751412, 0.8235294117647058, 0.8372093023255813, 0.9417989417989419, 0.9010989010989011, 0.9417989417989419, 0.27586206896551724, 0.8165680473372781, 0.8372093023255813, 0.8165680473372781, 0.8165680473372781, 0.7804878048780488, 0.8439306358381503, 0.8235294117647058, 0.9949748743718593], [0.6754966887417219, 0.8235294117647058, 0.7878787878787878, 0.8023952095808383, 0.7577639751552795, 0.8023952095808383, 0.8165680473372781, 0.09523809523809523, 0.7654320987654322, 0.75, 0.717948717948718, 0.7654320987654322, 0.7012987012987013, 0.75, 1.0], [0.7421383647798743, 0.8165680473372781, 0.8095238095238095, 0.7577639751552795, 0.6928104575163399, 0.7804878048780488, 0.8372093023255813, 0.7654320987654322, 0.2142857142857143, 0.717948717948718, 0.6842105263157895, 0.7261146496815287, 0.6666666666666667, 0.7261146496815287, 0.9949748743718593], [0.6486486486486487, 0.8700564971751412, 0.6577181208053691, 0.8700564971751412, 0.7341772151898734, 0.907103825136612, 0.8165680473372781, 0.75, 0.717948717948718, 0.01980198019801982, 0.6842105263157895, 0.6842105263157895, 0.7261146496815287, 0.6394557823129252, 1.0], [0.7012987012987013, 0.8304093567251463, 0.6577181208053691, 0.7577639751552795, 0.6206896551724138, 0.8235294117647058, 0.8165680473372781, 0.717948717948718, 0.6842105263157895, 0.6842105263157895, 0.1132075471698113, 0.7341772151898734, 0.6206896551724138, 0.75, 1.0], [0.717948717948718, 0.8700564971751412, 0.7878787878787878, 0.8700564971751412, 0.7577639751552795, 0.8764044943820225, 0.7804878048780488, 0.7654320987654322, 0.7261146496815287, 0.6842105263157895, 0.7341772151898734, 0.23008849557522126, 0.7012987012987013, 0.7421383647798743, 1.0], [0.7096774193548387, 0.8439306358381503, 0.6842105263157895, 0.7951807228915663, 0.6301369863013699, 0.8165680473372781, 0.8439306358381503, 0.7012987012987013, 0.6666666666666667, 0.7261146496815287, 0.6206896551724138, 0.7012987012987013, 0.09523809523809523, 0.7261146496815287, 1.0], [0.6577181208053691, 0.8571428571428572, 0.7012987012987013, 0.8636363636363636, 0.7804878048780488, 0.9010989010989011, 0.8235294117647058, 0.75, 0.7261146496815287, 0.6394557823129252, 0.75, 0.7421383647798743, 0.7261146496815287, 0.07692307692307687, 1.0], [1.0, 0.98989898989899, 1.0, 1.0, 1.0, 1.0, 0.9949748743718593, 1.0, 0.9949748743718593, 1.0, 1.0, 1.0, 1.0, 1.0, 0.19819819819819817]], \"type\": \"heatmap\", \"colorscale\": \"RdBu\"}], {\"height\": 950, \"width\": 950, \"title\": \"Topic difference (jaccard)\", \"xaxis\": {\"title\": \"topic\"}, \"yaxis\": {\"title\": \"topic\"}}, {\"linkText\": \"Export to plot.ly\", \"showLink\": true})});</script>"
      ]
     },
     "metadata": {},
     "output_type": "display_data"
    }
   ],
   "source": [
    "mdiff, annotation = topic2topic_difference(m1, m2, distance='jaccard')\n",
    "text = [[\"+++ {}<br>--- {}\".format(\", \".join(int_tokens), \n",
    "                                   \", \".join(diff_tokens)) for (int_tokens, diff_tokens) in row] \n",
    "        for row in annotation]\n",
    "\n",
    "data = go.Heatmap(z=mdiff, colorscale='RdBu', text=text)\n",
    "\n",
    "layout = go.Layout(width=950, height=950, title=\"Topic difference (jaccard)\",\n",
    "                   xaxis=dict(title=\"topic\"), yaxis=dict(title=\"topic\"))\n",
    "\n",
    "py.iplot(go.Figure(data=[data], layout=layout))"
   ]
  }
 ],
 "metadata": {
  "kernelspec": {
   "display_name": "Python 2",
   "language": "python",
   "name": "python2"
  },
  "language_info": {
   "codemirror_mode": {
    "name": "ipython",
    "version": 2
   },
   "file_extension": ".py",
   "mimetype": "text/x-python",
   "name": "python",
   "nbconvert_exporter": "python",
   "pygments_lexer": "ipython2",
   "version": "2.7.12+"
  }
 },
 "nbformat": 4,
 "nbformat_minor": 2
}
