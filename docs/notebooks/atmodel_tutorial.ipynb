{
 "cells": [
  {
   "cell_type": "markdown",
   "metadata": {},
   "source": [
    "# The author-topic model: LDA with metadata\n",
    "\n",
    "In this tutorial, you will learn how to use the author-topic model in Gensim. We will apply it to a corpus consisting of scientific papers, to get insight about the authors of the papers.\n",
    "\n",
    "The author-topic model is an extension of Latent Dirichlet Allocation (LDA), that allows us to learn topic representations of authors in a corpus. The model can be applied to any kinds of labels on documents, such as tags on posts on the web. The model can be used as a novel way of data exploration, as features in machine learning pipelines, for author (or tag) prediction, or to simply leverage your topic model with existing metadata.\n",
    "\n",
    "To learn about the theoretical side of the author-topic model, see [Rosen-Zvi and co-authors 2004](https://mimno.infosci.cornell.edu/info6150/readings/398.pdf), for example. A report on the algorithm used in the Gensim implementation will be available soon.\n",
    "\n",
    "Naturally, familiarity with topic modelling, LDA and Gensim is assumed in this tutorial. If you are not familiar with either LDA, or its Gensim implementation, I would recommend starting there. Consider some of these resources:\n",
    "* Gentle introduction to the LDA model: http://blog.echen.me/2011/08/22/introduction-to-latent-dirichlet-allocation/\n",
    "* Gensim's LDA API documentation: https://radimrehurek.com/gensim/models/ldamodel.html\n",
    "* Topic modelling in Gensim: http://radimrehurek.com/topic_modeling_tutorial/2%20-%20Topic%20Modeling.html\n",
    "* [Pre-processing and training LDA](lda_training_tips.ipynb)\n",
    "\n",
    "\n",
    "> **NOTE:**\n",
    ">\n",
    "> To run this tutorial on your own, install Jupyter, Gensim, SpaCy, Scikit-Learn, Bokeh and Pandas, e.g. using pip:\n",
    ">\n",
    "> `pip install jupyter gensim spacy sklearn bokeh pandas`\n",
    ">\n",
    "> Note that you need to download some data for SpaCy using `python -m spacy.en.download`.\n",
    ">\n",
    "> Download the notebook at https://github.com/RaRe-Technologies/gensim/tree/develop/docs/notebooks/atmodel_tutorial.ipynb.\n",
    "\n",
    "In this tutorial, we will learn how to prepare data for the model, how to train it, and how to explore the resulting representation in different ways. We will inspect the topic representation of some well known authors like Geoffrey Hinton and Yann LeCun, and compare authors by plotting them in reduced dimensionality and performing similarity queries.\n",
    "\n",
    "## Analyzing scientific papers\n",
    "\n",
    "The data we will be using consists of scientific papers about machine learning, from the Neural Information Processing Systems conference (NIPS). It is the same dataset used in the [Pre-processing and training LDA](lda_training_tips.ipynb) tutorial, mentioned earlier.\n",
    "\n",
    "We will be performing qualitative analysis of the model, and at times this will require an understanding of the subject matter of the data. If you try running this tutorial on your own, consider applying it on a dataset with subject matter that you are familiar with. For example, try one of the [StackExchange datadump datasets](https://archive.org/details/stackexchange).\n",
    "\n",
    "You can download the data from Sam Roweis' website (http://www.cs.nyu.edu/~roweis/data.html). Or just run the cell below, and it will be downloaded and extracted into your `tmp."
   ]
  },
  {
   "cell_type": "code",
   "execution_count": 1,
   "metadata": {},
   "outputs": [
    {
     "name": "stdout",
     "output_type": "stream",
     "text": [
      "--2017-01-16 12:29:12--  http://www.cs.nyu.edu/~roweis/data/nips12raw_str602.tgz\n",
      "Resolving www.cs.nyu.edu (www.cs.nyu.edu)... 128.122.49.30\n",
      "Connecting to www.cs.nyu.edu (www.cs.nyu.edu)|128.122.49.30|:80... connected.\n",
      "HTTP request sent, awaiting response... 200 OK\n",
      "Length: 12851423 (12M) [application/x-gzip]\n",
      "Saving to: ‘STDOUT’\n",
      "\n",
      "-                   100%[===================>]  12.26M  3.33MB/s    in 4.9s    \n",
      "\n",
      "2017-01-16 12:29:18 (2.49 MB/s) - written to stdout [12851423/12851423]\n",
      "\n"
     ]
    }
   ],
   "source": [
    "!wget -O - 'http://www.cs.nyu.edu/~roweis/data/nips12raw_str602.tgz' > /tmp/nips12raw_str602.tgz"
   ]
  },
  {
   "cell_type": "code",
   "execution_count": 4,
   "metadata": {},
   "outputs": [],
   "source": [
    "import tarfile\n",
    "\n",
    "filename = '/tmp/nips12raw_str602.tgz'\n",
    "tar = tarfile.open(filename, 'r:gz')\n",
    "for item in tar:\n",
    "    tar.extract(item, path='/tmp')"
   ]
  },
  {
   "cell_type": "markdown",
   "metadata": {},
   "source": [
    "In the following sections we will load the data, pre-process it, train the model, and explore the results using some of the implementation's functionality. Feel free to skip the loading and pre-processing for now, if you are familiar with the process.\n",
    "\n",
    "### Loading the data\n",
    "\n",
    "In the cell below, we crawl the folders and files in the dataset, and read the files into memory."
   ]
  },
  {
   "cell_type": "code",
   "execution_count": 5,
   "metadata": {},
   "outputs": [],
   "source": [
    "import os, re\n",
    "from smart_open import smart_open\n",
    "\n",
    "# Folder containing all NIPS papers.\n",
    "data_dir = '/tmp/nipstxt/'  # Set this path to the data on your machine.\n",
    "\n",
    "# Folders containin individual NIPS papers.\n",
    "yrs = ['00', '01', '02', '03', '04', '05', '06', '07', '08', '09', '10', '11', '12']\n",
    "dirs = ['nips' + yr for yr in yrs]\n",
    "\n",
    "# Get all document texts and their corresponding IDs.\n",
    "docs = []\n",
    "doc_ids = []\n",
    "for yr_dir in dirs:\n",
    "    files = os.listdir(data_dir + yr_dir)  # List of filenames.\n",
    "    for filen in files:\n",
    "        # Get document ID.\n",
    "        (idx1, idx2) = re.search('[0-9]+', filen).span()  # Matches the indexes of the start end end of the ID.\n",
    "        doc_ids.append(yr_dir[4:] + '_' + str(int(filen[idx1:idx2])))\n",
    "        \n",
    "        # Read document text.\n",
    "        # Note: ignoring characters that cause encoding errors.\n",
    "        with smart_open(data_dir + yr_dir + '/' + filen, encoding='utf-8', 'rb') as fid:\n",
    "            txt = fid.read()\n",
    "            \n",
    "        # Replace any whitespace (newline, tabs, etc.) by a single space.\n",
    "        txt = re.sub('\\s', ' ', txt)\n",
    "        \n",
    "        docs.append(txt)"
   ]
  },
  {
   "cell_type": "markdown",
   "metadata": {},
   "source": [
    "Construct a mapping from author names to document IDs."
   ]
  },
  {
   "cell_type": "code",
   "execution_count": 2,
   "metadata": {},
   "outputs": [],
   "source": [
    "from smart_open import smart_open\n",
    "filenames = [data_dir + 'idx/a' + yr + '.txt' for yr in yrs]  # Using the years defined in previous cell.\n",
    "\n",
    "# Get all author names and their corresponding document IDs.\n",
    "author2doc = dict()\n",
    "i = 0\n",
    "for yr in yrs:\n",
    "    # The files \"a00.txt\" and so on contain the author-document mappings.\n",
    "    filename = data_dir + 'idx/a' + yr + '.txt'\n",
    "    for line in smart_open(filename, errors='ignore', encoding='utf-8', 'rb'):\n",
    "        # Each line corresponds to one author.\n",
    "        contents = re.split(',', line)\n",
    "        author_name = (contents[1] + contents[0]).strip()\n",
    "        # Remove any whitespace to reduce redundant author names.\n",
    "        author_name = re.sub('\\s', '', author_name)\n",
    "        # Get document IDs for author.\n",
    "        ids = [c.strip() for c in contents[2:]]\n",
    "        if not author2doc.get(author_name):\n",
    "            # This is a new author.\n",
    "            author2doc[author_name] = []\n",
    "            i += 1\n",
    "        \n",
    "        # Add document IDs to author.\n",
    "        author2doc[author_name].extend([yr + '_' + id for id in ids])\n",
    "\n",
    "# Use an integer ID in author2doc, instead of the IDs provided in the NIPS dataset.\n",
    "# Mapping from ID of document in NIPS datast, to an integer ID.\n",
    "doc_id_dict = dict(zip(doc_ids, range(len(doc_ids))))\n",
    "# Replace NIPS IDs by integer IDs.\n",
    "for a, a_doc_ids in author2doc.items():\n",
    "    for i, doc_id in enumerate(a_doc_ids):\n",
    "        author2doc[a][i] = doc_id_dict[doc_id]"
   ]
  },
  {
   "cell_type": "markdown",
   "metadata": {},
   "source": [
    "### Pre-processing text\n",
    "\n",
    "The text will be pre-processed using the following steps:\n",
    "* Tokenize text.\n",
    "* Replace all whitespace by single spaces.\n",
    "* Remove all punctuation and numbers.\n",
    "* Remove stopwords.\n",
    "* Lemmatize words.\n",
    "* Add multi-word named entities.\n",
    "* Add frequent bigrams.\n",
    "* Remove frequent and rare words.\n",
    "\n",
    "A lot of the heavy lifting will be done by the great package, Spacy. Spacy markets itself as \"industrial-strength natural language processing\", is fast, enables multiprocessing, and is easy to use. First, let's import it and load the NLP pipline in english."
   ]
  },
  {
   "cell_type": "code",
   "execution_count": 3,
   "metadata": {
    "collapsed": true
   },
   "outputs": [],
   "source": [
    "import spacy\n",
    "nlp = spacy.load('en')"
   ]
  },
  {
   "cell_type": "markdown",
   "metadata": {},
   "source": [
    "In the code below, Spacy takes care of tokenization, removing non-alphabetic characters, removal of stopwords, lemmatization and named entity recognition.\n",
    "\n",
    "Note that we only keep named entities that consist of more than one word, as single word named entities are already there."
   ]
  },
  {
   "cell_type": "code",
   "execution_count": 4,
   "metadata": {},
   "outputs": [
    {
     "name": "stdout",
     "output_type": "stream",
     "text": [
      "CPU times: user 9min 6s, sys: 276 ms, total: 9min 7s\n",
      "Wall time: 2min 52s\n"
     ]
    }
   ],
   "source": [
    "%%time\n",
    "processed_docs = []    \n",
    "for doc in nlp.pipe(docs, n_threads=4, batch_size=100):\n",
    "    # Process document using Spacy NLP pipeline.\n",
    "    \n",
    "    ents = doc.ents  # Named entities.\n",
    "\n",
    "    # Keep only words (no numbers, no punctuation).\n",
    "    # Lemmatize tokens, remove punctuation and remove stopwords.\n",
    "    doc = [token.lemma_ for token in doc if token.is_alpha and not token.is_stop]\n",
    "\n",
    "    # Remove common words from a stopword list.\n",
    "    #doc = [token for token in doc if token not in STOPWORDS]\n",
    "\n",
    "    # Add named entities, but only if they are a compound of more than word.\n",
    "    doc.extend([str(entity) for entity in ents if len(entity) > 1])\n",
    "    \n",
    "    processed_docs.append(doc)"
   ]
  },
  {
   "cell_type": "code",
   "execution_count": 5,
   "metadata": {
    "collapsed": true
   },
   "outputs": [],
   "source": [
    "docs = processed_docs\n",
    "del processed_docs"
   ]
  },
  {
   "cell_type": "markdown",
   "metadata": {},
   "source": [
    "Below, we use a Gensim model to add bigrams. Note that this achieves the same goal as named entity recognition, that is, finding adjacent words that have some particular significance."
   ]
  },
  {
   "cell_type": "code",
   "execution_count": 6,
   "metadata": {
    "scrolled": true
   },
   "outputs": [
    {
     "name": "stderr",
     "output_type": "stream",
     "text": [
      "/home/olavur/Dropbox/my_folder/workstuff/DTU/thesis/code/gensim/gensim/models/phrases.py:248: UserWarning: For a faster implementation, use the gensim.models.phrases.Phraser class\n",
      "  warnings.warn(\"For a faster implementation, use the gensim.models.phrases.Phraser class\")\n"
     ]
    }
   ],
   "source": [
    "# Compute bigrams.\n",
    "from gensim.models import Phrases\n",
    "# Add bigrams and trigrams to docs (only ones that appear 20 times or more).\n",
    "bigram = Phrases(docs, min_count=20)\n",
    "for idx in range(len(docs)):\n",
    "    for token in bigram[docs[idx]]:\n",
    "        if '_' in token:\n",
    "            # Token is a bigram, add to document.\n",
    "            docs[idx].append(token)"
   ]
  },
  {
   "cell_type": "markdown",
   "metadata": {},
   "source": [
    "Now we are ready to construct a dictionary, as our vocabulary is finalized. We then remove common words (occurring $> 50\\%$ of the time), and rare words (occur $< 20$ times in total)."
   ]
  },
  {
   "cell_type": "code",
   "execution_count": 7,
   "metadata": {},
   "outputs": [],
   "source": [
    "# Create a dictionary representation of the documents, and filter out frequent and rare words.\n",
    "\n",
    "from gensim.corpora import Dictionary\n",
    "dictionary = Dictionary(docs)\n",
    "\n",
    "# Remove rare and common tokens.\n",
    "# Filter out words that occur too frequently or too rarely.\n",
    "max_freq = 0.5\n",
    "min_wordcount = 20\n",
    "dictionary.filter_extremes(no_below=min_wordcount, no_above=max_freq)\n",
    "\n",
    "_ = dictionary[0]  # This sort of \"initializes\" dictionary.id2token."
   ]
  },
  {
   "cell_type": "markdown",
   "metadata": {},
   "source": [
    "We produce the vectorized representation of the documents, to supply the author-topic model with, by computing the bag-of-words."
   ]
  },
  {
   "cell_type": "code",
   "execution_count": 8,
   "metadata": {
    "collapsed": true
   },
   "outputs": [],
   "source": [
    "# Vectorize data.\n",
    "\n",
    "# Bag-of-words representation of the documents.\n",
    "corpus = [dictionary.doc2bow(doc) for doc in docs]"
   ]
  },
  {
   "cell_type": "markdown",
   "metadata": {},
   "source": [
    "Let's inspect the dimensionality of our data."
   ]
  },
  {
   "cell_type": "code",
   "execution_count": 9,
   "metadata": {},
   "outputs": [
    {
     "name": "stdout",
     "output_type": "stream",
     "text": [
      "Number of authors: 2479\n",
      "Number of unique tokens: 6996\n",
      "Number of documents: 1740\n"
     ]
    }
   ],
   "source": [
    "print('Number of authors: %d' % len(author2doc))\n",
    "print('Number of unique tokens: %d' % len(dictionary))\n",
    "print('Number of documents: %d' % len(corpus))"
   ]
  },
  {
   "cell_type": "markdown",
   "metadata": {},
   "source": [
    "### Train and use model\n",
    "\n",
    "We train the author-topic model on the data prepared in the previous sections. \n",
    "\n",
    "The interface to the author-topic model is very similar to that of LDA in Gensim. In addition to a corpus, ID to word mapping (`id2word`) and number of topics (`num_topics`), the author-topic model requires either an author to document ID mapping (`author2doc`), or the reverse (`doc2author`).\n",
    "\n",
    "Below, we have also (this can be skipped for now):\n",
    "* Increased the number of `passes` over the dataset (to improve the convergence of the optimization problem).\n",
    "* Decreased the number of `iterations` over each document (related to the above).\n",
    "* Specified the mini-batch size (`chunksize`) (primarily to speed up training).\n",
    "* Turned off bound evaluation (`eval_every`) (as it takes a long time to compute).\n",
    "* Turned on automatic learning of the `alpha` and `eta` priors (to improve the convergence of the optimization problem).\n",
    "* Set the random state (`random_state`) of the random number generator (to make these experiments reproducible).\n",
    "\n",
    "We load the model, and train it."
   ]
  },
  {
   "cell_type": "code",
   "execution_count": 10,
   "metadata": {},
   "outputs": [
    {
     "name": "stdout",
     "output_type": "stream",
     "text": [
      "CPU times: user 3.56 s, sys: 316 ms, total: 3.87 s\n",
      "Wall time: 3.65 s\n"
     ]
    }
   ],
   "source": [
    "from gensim.models import AuthorTopicModel\n",
    "%time model = AuthorTopicModel(corpus=corpus, num_topics=10, id2word=dictionary.id2token, \\\n",
    "                author2doc=author2doc, chunksize=2000, passes=1, eval_every=0, \\\n",
    "                iterations=1, random_state=1)"
   ]
  },
  {
   "cell_type": "markdown",
   "metadata": {},
   "source": [
    "If you believe your model hasn't converged, you can continue training using `model.update()`. If you have additional documents and/or authors call `model.update(corpus, author2doc)`.\n",
    "\n",
    "Before we explore the model, let's try to improve upon it. To do this, we will train several models with different random initializations, by giving different seeds for the random number generator (`random_state`). We evaluate the topic coherence of the model using the [top_topics](https://radimrehurek.com/gensim/models/ldamodel.html#gensim.models.ldamodel.LdaModel.top_topics) method, and pick the model with the highest topic coherence.\n",
    "\n"
   ]
  },
  {
   "cell_type": "code",
   "execution_count": 11,
   "metadata": {},
   "outputs": [
    {
     "name": "stdout",
     "output_type": "stream",
     "text": [
      "CPU times: user 11min 59s, sys: 2min 14s, total: 14min 13s\n",
      "Wall time: 11min 41s\n"
     ]
    }
   ],
   "source": [
    "%%time\n",
    "model_list = []\n",
    "for i in range(5):\n",
    "    model = AuthorTopicModel(corpus=corpus, num_topics=10, id2word=dictionary.id2token, \\\n",
    "                    author2doc=author2doc, chunksize=2000, passes=100, gamma_threshold=1e-10, \\\n",
    "                    eval_every=0, iterations=1, random_state=i)\n",
    "    top_topics = model.top_topics(corpus)\n",
    "    tc = sum([t[1] for t in top_topics])\n",
    "    model_list.append((model, tc))"
   ]
  },
  {
   "cell_type": "markdown",
   "metadata": {},
   "source": [
    "Choose the model with the highest topic coherence."
   ]
  },
  {
   "cell_type": "code",
   "execution_count": 12,
   "metadata": {},
   "outputs": [
    {
     "name": "stdout",
     "output_type": "stream",
     "text": [
      "Topic coherence: -1.847e+03\n"
     ]
    }
   ],
   "source": [
    "model, tc = max(model_list, key=lambda x: x[1])\n",
    "print('Topic coherence: %.3e' %tc)"
   ]
  },
  {
   "cell_type": "markdown",
   "metadata": {},
   "source": [
    "We save the model, to avoid having to train it again, and also show how to load it again."
   ]
  },
  {
   "cell_type": "code",
   "execution_count": 13,
   "metadata": {},
   "outputs": [],
   "source": [
    "# Save model.\n",
    "model.save('/tmp/model.atmodel')"
   ]
  },
  {
   "cell_type": "code",
   "execution_count": 14,
   "metadata": {},
   "outputs": [],
   "source": [
    "# Load model.\n",
    "model = AuthorTopicModel.load('/tmp/model.atmodel')"
   ]
  },
  {
   "cell_type": "markdown",
   "metadata": {},
   "source": [
    "### Explore author-topic representation\n",
    "\n",
    "Now that we have trained a model, we can start exploring the authors and the topics.\n",
    "\n",
    "First, let's simply print the most important words in the topics. Below we have printed topic 0. As we can see, each topic is associated with a set of words, and each word has a probability of being expressed under that topic."
   ]
  },
  {
   "cell_type": "code",
   "execution_count": 15,
   "metadata": {},
   "outputs": [
    {
     "data": {
      "text/plain": [
       "[('chip', 0.014645100754555081),\n",
       " ('circuit', 0.011967493386263996),\n",
       " ('analog', 0.011466032752399413),\n",
       " ('control', 0.010067258628938444),\n",
       " ('implementation', 0.0078096719430403956),\n",
       " ('design', 0.0072620826472022419),\n",
       " ('implement', 0.0063648695668359189),\n",
       " ('signal', 0.0063389759280913392),\n",
       " ('vlsi', 0.0059415519461153785),\n",
       " ('processor', 0.0056545823226162124)]"
      ]
     },
     "execution_count": 15,
     "metadata": {},
     "output_type": "execute_result"
    }
   ],
   "source": [
    "model.show_topic(0)"
   ]
  },
  {
   "cell_type": "markdown",
   "metadata": {},
   "source": [
    "Below, we have given each topic a label based on what each topic seems to be about intuitively. "
   ]
  },
  {
   "cell_type": "code",
   "execution_count": 42,
   "metadata": {
    "collapsed": true
   },
   "outputs": [],
   "source": [
    "topic_labels = ['Circuits', 'Neuroscience', 'Numerical optimization', 'Object recognition', \\\n",
    "               'Math/general', 'Robotics', 'Character recognition', \\\n",
    "                'Reinforcement learning', 'Speech recognition', 'Bayesian modelling']"
   ]
  },
  {
   "cell_type": "markdown",
   "metadata": {},
   "source": [
    "Rather than just calling `model.show_topics(num_topics=10)`, we format the output a bit so it is easier to get an overview."
   ]
  },
  {
   "cell_type": "code",
   "execution_count": 43,
   "metadata": {},
   "outputs": [
    {
     "name": "stdout",
     "output_type": "stream",
     "text": [
      "Label: Circuits\n",
      "Words: chip circuit analog control implementation design implement signal vlsi processor \n",
      "\n",
      "Label: Neuroscience\n",
      "Words: neuron cell spike response synaptic activity frequency stimulus synapse signal \n",
      "\n",
      "Label: Numerical optimization\n",
      "Words: gradient noise prediction w optimal nonlinear matrix approximation series variance \n",
      "\n",
      "Label: Object recognition\n",
      "Words: image visual object motion field direction representation map position orientation \n",
      "\n",
      "Label: Math/general\n",
      "Words: bound f generalization class let w p theorem y threshold \n",
      "\n",
      "Label: Robotics\n",
      "Words: dynamic control field trajectory neuron motor net forward l movement \n",
      "\n",
      "Label: Character recognition\n",
      "Words: node distance character layer recognition matrix image sequence p code \n",
      "\n",
      "Label: Reinforcement learning\n",
      "Words: action policy q reinforcement rule control optimal representation environment sequence \n",
      "\n",
      "Label: Speech recognition\n",
      "Words: recognition speech word layer classifier net classification hidden class context \n",
      "\n",
      "Label: Bayesian modelling\n",
      "Words: mixture gaussian likelihood prior data bayesian density sample cluster posterior \n",
      "\n"
     ]
    }
   ],
   "source": [
    "for topic in model.show_topics(num_topics=10):\n",
    "    print('Label: ' + topic_labels[topic[0]])\n",
    "    words = ''\n",
    "    for word, prob in model.show_topic(topic[0]):\n",
    "        words += word + ' '\n",
    "    print('Words: ' + words)\n",
    "    print()"
   ]
  },
  {
   "cell_type": "markdown",
   "metadata": {},
   "source": [
    "These topics are by no means perfect. They have problems such as *chained topics*, *intruded words*, *random topics*, and *unbalanced topics* (see [Mimno and co-authors 2011](https://people.cs.umass.edu/~wallach/publications/mimno11optimizing.pdf)). They will do for the purposes of this tutorial, however.\n",
    "\n",
    "Below, we use the `model[name]` syntax to retrieve the topic distribution for an author. Each topic has a probability of being expressed given the particular author, but only the ones above a certain threshold are shown."
   ]
  },
  {
   "cell_type": "code",
   "execution_count": 18,
   "metadata": {},
   "outputs": [
    {
     "data": {
      "text/plain": [
       "[(6, 0.99976720177983869)]"
      ]
     },
     "execution_count": 18,
     "metadata": {},
     "output_type": "execute_result"
    }
   ],
   "source": [
    "model['YannLeCun']"
   ]
  },
  {
   "cell_type": "markdown",
   "metadata": {},
   "source": [
    "Let's print the top topics of some authors. First, we make a function to help us do this more easily."
   ]
  },
  {
   "cell_type": "code",
   "execution_count": 44,
   "metadata": {
    "collapsed": true
   },
   "outputs": [],
   "source": [
    "from pprint import pprint\n",
    "\n",
    "def show_author(name):\n",
    "    print('\\n%s' % name)\n",
    "    print('Docs:', model.author2doc[name])\n",
    "    print('Topics:')\n",
    "    pprint([(topic_labels[topic[0]], topic[1]) for topic in model[name]])"
   ]
  },
  {
   "cell_type": "markdown",
   "metadata": {},
   "source": [
    "Below, we print some high profile researchers and inspect them. Three of these, Yann LeCun, Geoffrey E. Hinton and Christof Koch, are spot on. \n",
    "\n",
    "Terrence J. Sejnowski's results are surprising, however. He is a neuroscientist, so we would expect him to get the \"neuroscience\" label. This may indicate that Sejnowski works with the neuroscience aspects of visual perception, or perhaps that we have labeled the topic incorrectly, or perhaps that this topic simply is not very informative."
   ]
  },
  {
   "cell_type": "code",
   "execution_count": 55,
   "metadata": {},
   "outputs": [
    {
     "name": "stdout",
     "output_type": "stream",
     "text": [
      "\n",
      "YannLeCun\n",
      "Docs: [143, 406, 370, 495, 456, 449, 595, 616, 760, 752, 1532]\n",
      "Topics:\n",
      "[('Character recognition', 0.99976720177983869)]\n"
     ]
    }
   ],
   "source": [
    "show_author('YannLeCun')"
   ]
  },
  {
   "cell_type": "code",
   "execution_count": 46,
   "metadata": {},
   "outputs": [
    {
     "name": "stdout",
     "output_type": "stream",
     "text": [
      "\n",
      "GeoffreyE.Hinton\n",
      "Docs: [56, 143, 284, 230, 197, 462, 463, 430, 688, 784, 826, 848, 869, 1387, 1684, 1728]\n",
      "Topics:\n",
      "[('Object recognition', 0.42128917017624745),\n",
      " ('Math/general', 0.043249835412857811),\n",
      " ('Robotics', 0.11149925993091593),\n",
      " ('Bayesian modelling', 0.42388500261455564)]\n"
     ]
    }
   ],
   "source": [
    "show_author('GeoffreyE.Hinton')"
   ]
  },
  {
   "cell_type": "code",
   "execution_count": 47,
   "metadata": {},
   "outputs": [
    {
     "name": "stdout",
     "output_type": "stream",
     "text": [
      "\n",
      "TerrenceJ.Sejnowski\n",
      "Docs: [513, 530, 539, 468, 611, 581, 600, 594, 703, 711, 849, 981, 944, 865, 850, 883, 881, 1221, 1137, 1224, 1146, 1282, 1248, 1179, 1424, 1359, 1528, 1484, 1571, 1727, 1732]\n",
      "Topics:\n",
      "[('Object recognition', 0.99992379088787087)]\n"
     ]
    }
   ],
   "source": [
    "show_author('TerrenceJ.Sejnowski')"
   ]
  },
  {
   "cell_type": "code",
   "execution_count": 53,
   "metadata": {},
   "outputs": [
    {
     "name": "stdout",
     "output_type": "stream",
     "text": [
      "\n",
      "ChristofKoch\n",
      "Docs: [9, 221, 266, 272, 349, 411, 337, 371, 450, 483, 653, 663, 754, 712, 778, 921, 1212, 1285, 1254, 1533, 1489, 1580, 1441, 1657]\n",
      "Topics:\n",
      "[('Neuroscience', 0.99989393011046035)]\n"
     ]
    }
   ],
   "source": [
    "show_author('ChristofKoch')"
   ]
  },
  {
   "cell_type": "markdown",
   "metadata": {},
   "source": [
    "#### Simple model evaluation methods\n",
    "\n",
    "We can compute the per-word bound, which is a measure of the model's predictive performance (you could also say that it is the reconstruction error).\n",
    "\n",
    "To do that, we need the `doc2author` dictionary, which we can build automatically."
   ]
  },
  {
   "cell_type": "code",
   "execution_count": 24,
   "metadata": {},
   "outputs": [],
   "source": [
    "from gensim.models import atmodel\n",
    "doc2author = atmodel.construct_doc2author(model.corpus, model.author2doc)"
   ]
  },
  {
   "cell_type": "markdown",
   "metadata": {},
   "source": [
    "Now let's evaluate the per-word bound."
   ]
  },
  {
   "cell_type": "code",
   "execution_count": 25,
   "metadata": {},
   "outputs": [
    {
     "name": "stdout",
     "output_type": "stream",
     "text": [
      "-6.9955968712\n"
     ]
    }
   ],
   "source": [
    "# Compute the per-word bound.\n",
    "# Number of words in corpus.\n",
    "corpus_words = sum(cnt for document in model.corpus for _, cnt in document)\n",
    "\n",
    "# Compute bound and divide by number of words.\n",
    "perwordbound = model.bound(model.corpus, author2doc=model.author2doc, \\\n",
    "                           doc2author=model.doc2author) / corpus_words\n",
    "print(perwordbound)"
   ]
  },
  {
   "cell_type": "markdown",
   "metadata": {},
   "source": [
    "We can evaluate the quality of the topics by computing the topic coherence, as in the LDA class. Use this to e.g. find out which of the topics are poor quality, or as a metric for model selection."
   ]
  },
  {
   "cell_type": "code",
   "execution_count": 26,
   "metadata": {},
   "outputs": [
    {
     "name": "stdout",
     "output_type": "stream",
     "text": [
      "CPU times: user 15.6 s, sys: 4 ms, total: 15.6 s\n",
      "Wall time: 15.6 s\n"
     ]
    }
   ],
   "source": [
    "%time top_topics = model.top_topics(model.corpus)"
   ]
  },
  {
   "cell_type": "markdown",
   "metadata": {},
   "source": [
    "#### Plotting the authors\n",
    "\n",
    "Now we're going to produce the kind of pacific archipelago looking plot below. The goal of this plot is to give you a way to explore the author-topic representation in an intuitive manner.\n",
    "\n",
    "We take all the author-topic distributions (stored in `model.state.gamma`) and embed them in a 2D space. To do this, we reduce the dimensionality of this data using t-SNE. \n",
    "\n",
    "t-SNE is a method that attempts to reduce the dimensionality of a dataset, while maintaining the distances between the points. That means that if two authors are close together in the plot below, then their topic distributions are similar.\n",
    "\n",
    "In the cell below, we transform the author-topic representation into the t-SNE space. You can increase the `smallest_author` value if you do not want to view all the authors with few documents."
   ]
  },
  {
   "cell_type": "code",
   "execution_count": 27,
   "metadata": {},
   "outputs": [
    {
     "name": "stdout",
     "output_type": "stream",
     "text": [
      "CPU times: user 35.4 s, sys: 1.16 s, total: 36.5 s\n",
      "Wall time: 36.4 s\n"
     ]
    }
   ],
   "source": [
    "%%time\n",
    "from sklearn.manifold import TSNE\n",
    "tsne = TSNE(n_components=2, random_state=0)\n",
    "smallest_author = 0  # Ignore authors with documents less than this.\n",
    "authors = [model.author2id[a] for a in model.author2id.keys() if len(model.author2doc[a]) >= smallest_author]\n",
    "_ = tsne.fit_transform(model.state.gamma[authors, :])  # Result stored in tsne.embedding_"
   ]
  },
  {
   "cell_type": "markdown",
   "metadata": {},
   "source": [
    "We are now ready to make the plot.\n",
    "\n",
    "Note that if you run this notebook yourself, you will see a different graph. The random initialization of the model will be different, and the result will thus be different to some degree. You may find an entirely different representation of the data, or it may show the same interpretation slightly differently.\n",
    "\n",
    "If you can't see the plot, you are probably viewing this tutorial in a Jupyter Notebook. View it in an nbviewer instead at http://nbviewer.jupyter.org/github/rare-technologies/gensim/blob/develop/docs/notebooks/atmodel_tutorial.ipynb."
   ]
  },
  {
   "cell_type": "code",
   "execution_count": 28,
   "metadata": {
    "scrolled": true
   },
   "outputs": [
    {
     "data": {
      "text/html": [
       "\n",
       "    <div class=\"bk-root\">\n",
       "        <a href=\"http://bokeh.pydata.org\" target=\"_blank\" class=\"bk-logo bk-logo-small bk-logo-notebook\"></a>\n",
       "        <span id=\"c8922b96-b8ff-4ac3-b6c6-882014f91988\">Loading BokehJS ...</span>\n",
       "    </div>"
      ]
     },
     "metadata": {},
     "output_type": "display_data"
    },
    {
     "data": {
      "application/javascript": [
       "\n",
       "(function(global) {\n",
       "  function now() {\n",
       "    return new Date();\n",
       "  }\n",
       "\n",
       "  var force = \"1\";\n",
       "\n",
       "  if (typeof (window._bokeh_onload_callbacks) === \"undefined\" || force !== \"\") {\n",
       "    window._bokeh_onload_callbacks = [];\n",
       "    window._bokeh_is_loading = undefined;\n",
       "  }\n",
       "\n",
       "\n",
       "  \n",
       "  if (typeof (window._bokeh_timeout) === \"undefined\" || force !== \"\") {\n",
       "    window._bokeh_timeout = Date.now() + 5000;\n",
       "    window._bokeh_failed_load = false;\n",
       "  }\n",
       "\n",
       "  var NB_LOAD_WARNING = {'data': {'text/html':\n",
       "     \"<div style='background-color: #fdd'>\\n\"+\n",
       "     \"<p>\\n\"+\n",
       "     \"BokehJS does not appear to have successfully loaded. If loading BokehJS from CDN, this \\n\"+\n",
       "     \"may be due to a slow or bad network connection. Possible fixes:\\n\"+\n",
       "     \"</p>\\n\"+\n",
       "     \"<ul>\\n\"+\n",
       "     \"<li>re-rerun `output_notebook()` to attempt to load from CDN again, or</li>\\n\"+\n",
       "     \"<li>use INLINE resources instead, as so:</li>\\n\"+\n",
       "     \"</ul>\\n\"+\n",
       "     \"<code>\\n\"+\n",
       "     \"from bokeh.resources import INLINE\\n\"+\n",
       "     \"output_notebook(resources=INLINE)\\n\"+\n",
       "     \"</code>\\n\"+\n",
       "     \"</div>\"}};\n",
       "\n",
       "  function display_loaded() {\n",
       "    if (window.Bokeh !== undefined) {\n",
       "      Bokeh.$(\"#c8922b96-b8ff-4ac3-b6c6-882014f91988\").text(\"BokehJS successfully loaded.\");\n",
       "    } else if (Date.now() < window._bokeh_timeout) {\n",
       "      setTimeout(display_loaded, 100)\n",
       "    }\n",
       "  }\n",
       "\n",
       "  function run_callbacks() {\n",
       "    window._bokeh_onload_callbacks.forEach(function(callback) { callback() });\n",
       "    delete window._bokeh_onload_callbacks\n",
       "    console.info(\"Bokeh: all callbacks have finished\");\n",
       "  }\n",
       "\n",
       "  function load_libs(js_urls, callback) {\n",
       "    window._bokeh_onload_callbacks.push(callback);\n",
       "    if (window._bokeh_is_loading > 0) {\n",
       "      console.log(\"Bokeh: BokehJS is being loaded, scheduling callback at\", now());\n",
       "      return null;\n",
       "    }\n",
       "    if (js_urls == null || js_urls.length === 0) {\n",
       "      run_callbacks();\n",
       "      return null;\n",
       "    }\n",
       "    console.log(\"Bokeh: BokehJS not loaded, scheduling load and callback at\", now());\n",
       "    window._bokeh_is_loading = js_urls.length;\n",
       "    for (var i = 0; i < js_urls.length; i++) {\n",
       "      var url = js_urls[i];\n",
       "      var s = document.createElement('script');\n",
       "      s.src = url;\n",
       "      s.async = false;\n",
       "      s.onreadystatechange = s.onload = function() {\n",
       "        window._bokeh_is_loading--;\n",
       "        if (window._bokeh_is_loading === 0) {\n",
       "          console.log(\"Bokeh: all BokehJS libraries loaded\");\n",
       "          run_callbacks()\n",
       "        }\n",
       "      };\n",
       "      s.onerror = function() {\n",
       "        console.warn(\"failed to load library \" + url);\n",
       "      };\n",
       "      console.log(\"Bokeh: injecting script tag for BokehJS library: \", url);\n",
       "      document.getElementsByTagName(\"head\")[0].appendChild(s);\n",
       "    }\n",
       "  };var element = document.getElementById(\"c8922b96-b8ff-4ac3-b6c6-882014f91988\");\n",
       "  if (element == null) {\n",
       "    console.log(\"Bokeh: ERROR: autoload.js configured with elementid 'c8922b96-b8ff-4ac3-b6c6-882014f91988' but no matching script tag was found. \")\n",
       "    return false;\n",
       "  }\n",
       "\n",
       "  var js_urls = ['https://cdn.pydata.org/bokeh/release/bokeh-0.12.3.min.js', 'https://cdn.pydata.org/bokeh/release/bokeh-widgets-0.12.3.min.js'];\n",
       "\n",
       "  var inline_js = [\n",
       "    function(Bokeh) {\n",
       "      Bokeh.set_log_level(\"info\");\n",
       "    },\n",
       "    \n",
       "    function(Bokeh) {\n",
       "      \n",
       "      Bokeh.$(\"#c8922b96-b8ff-4ac3-b6c6-882014f91988\").text(\"BokehJS is loading...\");\n",
       "    },\n",
       "    function(Bokeh) {\n",
       "      console.log(\"Bokeh: injecting CSS: https://cdn.pydata.org/bokeh/release/bokeh-0.12.3.min.css\");\n",
       "      Bokeh.embed.inject_css(\"https://cdn.pydata.org/bokeh/release/bokeh-0.12.3.min.css\");\n",
       "      console.log(\"Bokeh: injecting CSS: https://cdn.pydata.org/bokeh/release/bokeh-widgets-0.12.3.min.css\");\n",
       "      Bokeh.embed.inject_css(\"https://cdn.pydata.org/bokeh/release/bokeh-widgets-0.12.3.min.css\");\n",
       "    }\n",
       "  ];\n",
       "\n",
       "  function run_inline_js() {\n",
       "    \n",
       "    if ((window.Bokeh !== undefined) || (force === \"1\")) {\n",
       "      for (var i = 0; i < inline_js.length; i++) {\n",
       "        inline_js[i](window.Bokeh);\n",
       "      }if (force === \"1\") {\n",
       "        display_loaded();\n",
       "      }} else if (Date.now() < window._bokeh_timeout) {\n",
       "      setTimeout(run_inline_js, 100);\n",
       "    } else if (!window._bokeh_failed_load) {\n",
       "      console.log(\"Bokeh: BokehJS failed to load within specified timeout.\");\n",
       "      window._bokeh_failed_load = true;\n",
       "    } else if (!force) {\n",
       "      var cell = $(\"#c8922b96-b8ff-4ac3-b6c6-882014f91988\").parents('.cell').data().cell;\n",
       "      cell.output_area.append_execute_result(NB_LOAD_WARNING)\n",
       "    }\n",
       "\n",
       "  }\n",
       "\n",
       "  if (window._bokeh_is_loading === 0) {\n",
       "    console.log(\"Bokeh: BokehJS loaded, going straight to plotting\");\n",
       "    run_inline_js();\n",
       "  } else {\n",
       "    load_libs(js_urls, function() {\n",
       "      console.log(\"Bokeh: BokehJS plotting callback run at\", now());\n",
       "      run_inline_js();\n",
       "    });\n",
       "  }\n",
       "}(this));"
      ]
     },
     "metadata": {},
     "output_type": "display_data"
    }
   ],
   "source": [
    "# Tell Bokeh to display plots inside the notebook.\n",
    "from bokeh.io import output_notebook\n",
    "output_notebook()"
   ]
  },
  {
   "cell_type": "code",
   "execution_count": 29,
   "metadata": {},
   "outputs": [
    {
     "data": {
      "text/html": [
       "\n",
       "\n",
       "    <div class=\"bk-root\">\n",
       "        <div class=\"plotdiv\" id=\"84a208a9-32ce-4111-b9e4-776e60455d02\"></div>\n",
       "    </div>\n",
       "<script type=\"text/javascript\">\n",
       "  \n",
       "  (function(global) {\n",
       "    function now() {\n",
       "      return new Date();\n",
       "    }\n",
       "  \n",
       "    var force = \"\";\n",
       "  \n",
       "    if (typeof (window._bokeh_onload_callbacks) === \"undefined\" || force !== \"\") {\n",
       "      window._bokeh_onload_callbacks = [];\n",
       "      window._bokeh_is_loading = undefined;\n",
       "    }\n",
       "  \n",
       "  \n",
       "    \n",
       "    if (typeof (window._bokeh_timeout) === \"undefined\" || force !== \"\") {\n",
       "      window._bokeh_timeout = Date.now() + 0;\n",
       "      window._bokeh_failed_load = false;\n",
       "    }\n",
       "  \n",
       "    var NB_LOAD_WARNING = {'data': {'text/html':\n",
       "       \"<div style='background-color: #fdd'>\\n\"+\n",
       "       \"<p>\\n\"+\n",
       "       \"BokehJS does not appear to have successfully loaded. If loading BokehJS from CDN, this \\n\"+\n",
       "       \"may be due to a slow or bad network connection. Possible fixes:\\n\"+\n",
       "       \"</p>\\n\"+\n",
       "       \"<ul>\\n\"+\n",
       "       \"<li>re-rerun `output_notebook()` to attempt to load from CDN again, or</li>\\n\"+\n",
       "       \"<li>use INLINE resources instead, as so:</li>\\n\"+\n",
       "       \"</ul>\\n\"+\n",
       "       \"<code>\\n\"+\n",
       "       \"from bokeh.resources import INLINE\\n\"+\n",
       "       \"output_notebook(resources=INLINE)\\n\"+\n",
       "       \"</code>\\n\"+\n",
       "       \"</div>\"}};\n",
       "  \n",
       "    function display_loaded() {\n",
       "      if (window.Bokeh !== undefined) {\n",
       "        Bokeh.$(\"#84a208a9-32ce-4111-b9e4-776e60455d02\").text(\"BokehJS successfully loaded.\");\n",
       "      } else if (Date.now() < window._bokeh_timeout) {\n",
       "        setTimeout(display_loaded, 100)\n",
       "      }\n",
       "    }\n",
       "  \n",
       "    function run_callbacks() {\n",
       "      window._bokeh_onload_callbacks.forEach(function(callback) { callback() });\n",
       "      delete window._bokeh_onload_callbacks\n",
       "      console.info(\"Bokeh: all callbacks have finished\");\n",
       "    }\n",
       "  \n",
       "    function load_libs(js_urls, callback) {\n",
       "      window._bokeh_onload_callbacks.push(callback);\n",
       "      if (window._bokeh_is_loading > 0) {\n",
       "        console.log(\"Bokeh: BokehJS is being loaded, scheduling callback at\", now());\n",
       "        return null;\n",
       "      }\n",
       "      if (js_urls == null || js_urls.length === 0) {\n",
       "        run_callbacks();\n",
       "        return null;\n",
       "      }\n",
       "      console.log(\"Bokeh: BokehJS not loaded, scheduling load and callback at\", now());\n",
       "      window._bokeh_is_loading = js_urls.length;\n",
       "      for (var i = 0; i < js_urls.length; i++) {\n",
       "        var url = js_urls[i];\n",
       "        var s = document.createElement('script');\n",
       "        s.src = url;\n",
       "        s.async = false;\n",
       "        s.onreadystatechange = s.onload = function() {\n",
       "          window._bokeh_is_loading--;\n",
       "          if (window._bokeh_is_loading === 0) {\n",
       "            console.log(\"Bokeh: all BokehJS libraries loaded\");\n",
       "            run_callbacks()\n",
       "          }\n",
       "        };\n",
       "        s.onerror = function() {\n",
       "          console.warn(\"failed to load library \" + url);\n",
       "        };\n",
       "        console.log(\"Bokeh: injecting script tag for BokehJS library: \", url);\n",
       "        document.getElementsByTagName(\"head\")[0].appendChild(s);\n",
       "      }\n",
       "    };var element = document.getElementById(\"84a208a9-32ce-4111-b9e4-776e60455d02\");\n",
       "    if (element == null) {\n",
       "      console.log(\"Bokeh: ERROR: autoload.js configured with elementid '84a208a9-32ce-4111-b9e4-776e60455d02' but no matching script tag was found. \")\n",
       "      return false;\n",
       "    }\n",
       "  \n",
       "    var js_urls = [];\n",
       "  \n",
       "    var inline_js = [\n",
       "      function(Bokeh) {\n",
       "        Bokeh.$(function() {\n",
       "            var docs_json = {\"e64bc00d-c5e8-48c6-85d7-9d719e821b4d\":{\"roots\":{\"references\":[{\"attributes\":{\"fill_alpha\":{\"value\":0.6},\"fill_color\":{\"value\":\"#1f77b4\"},\"line_color\":{\"value\":null},\"radius\":{\"field\":\"radii\",\"units\":\"data\"},\"x\":{\"field\":\"x\"},\"y\":{\"field\":\"y\"}},\"id\":\"0cb98164-2232-4447-a4b5-7c515c3f0dfd\",\"type\":\"Circle\"},{\"attributes\":{\"bottom_units\":\"screen\",\"fill_alpha\":{\"value\":0.5},\"fill_color\":{\"value\":\"lightgrey\"},\"left_units\":\"screen\",\"level\":\"overlay\",\"line_alpha\":{\"value\":1.0},\"line_color\":{\"value\":\"black\"},\"line_dash\":[4,4],\"line_width\":{\"value\":2},\"plot\":null,\"render_mode\":\"css\",\"right_units\":\"screen\",\"top_units\":\"screen\"},\"id\":\"a140a9ad-34dc-4a95-9824-7d2c71f5f40d\",\"type\":\"BoxAnnotation\"},{\"attributes\":{},\"id\":\"25df7d2f-cd83-424f-8959-3cff8b4f9b23\",\"type\":\"BasicTickFormatter\"},{\"attributes\":{\"plot\":{\"id\":\"5fca9abb-8d94-4900-a388-d2a3b67dc489\",\"subtype\":\"Figure\",\"type\":\"Plot\"},\"ticker\":{\"id\":\"80b48167-b15d-4e4b-84db-f2ce63ed0e5c\",\"type\":\"BasicTicker\"}},\"id\":\"4d8ea3f6-76e1-4e3c-b7c9-7d5f2e4a163f\",\"type\":\"Grid\"},{\"attributes\":{\"callback\":null},\"id\":\"e1e4ea7e-aec1-4c9f-a0be-016ccbc3eaa4\",\"type\":\"DataRange1d\"},{\"attributes\":{\"formatter\":{\"id\":\"25df7d2f-cd83-424f-8959-3cff8b4f9b23\",\"type\":\"BasicTickFormatter\"},\"plot\":{\"id\":\"5fca9abb-8d94-4900-a388-d2a3b67dc489\",\"subtype\":\"Figure\",\"type\":\"Plot\"},\"ticker\":{\"id\":\"80b48167-b15d-4e4b-84db-f2ce63ed0e5c\",\"type\":\"BasicTicker\"}},\"id\":\"50a85230-5c72-4045-ac14-881f6f307baf\",\"type\":\"LinearAxis\"},{\"attributes\":{},\"id\":\"ea6a8c94-8c7d-4c1e-a218-083495e53e2b\",\"type\":\"ToolEvents\"},{\"attributes\":{\"plot\":{\"id\":\"5fca9abb-8d94-4900-a388-d2a3b67dc489\",\"subtype\":\"Figure\",\"type\":\"Plot\"}},\"id\":\"7e83a056-f89c-4f03-bbde-aa8af0208811\",\"type\":\"ResetTool\"},{\"attributes\":{\"plot\":{\"id\":\"5fca9abb-8d94-4900-a388-d2a3b67dc489\",\"subtype\":\"Figure\",\"type\":\"Plot\"}},\"id\":\"7f19a59b-e39a-4e87-811d-f0552f9a90af\",\"type\":\"WheelZoomTool\"},{\"attributes\":{\"callback\":null,\"plot\":{\"id\":\"5fca9abb-8d94-4900-a388-d2a3b67dc489\",\"subtype\":\"Figure\",\"type\":\"Plot\"},\"tooltips\":[[\"author\",\"@author_names\"],[\"size\",\"@author_sizes\"]]},\"id\":\"a2e961ed-115b-4d7d-8905-c960988fa9f0\",\"type\":\"HoverTool\"},{\"attributes\":{},\"id\":\"1fb28c9f-40b7-40b9-be69-1b7e44039156\",\"type\":\"BasicTickFormatter\"},{\"attributes\":{\"callback\":null,\"overlay\":{\"id\":\"afcc2163-43b4-4522-8f27-eec835514ddc\",\"type\":\"PolyAnnotation\"},\"plot\":{\"id\":\"5fca9abb-8d94-4900-a388-d2a3b67dc489\",\"subtype\":\"Figure\",\"type\":\"Plot\"}},\"id\":\"bdad9ad5-95a7-4dd7-b3c3-5d040340d9a5\",\"type\":\"LassoSelectTool\"},{\"attributes\":{\"active_drag\":\"auto\",\"active_scroll\":\"auto\",\"active_tap\":\"auto\",\"tools\":[{\"id\":\"a2e961ed-115b-4d7d-8905-c960988fa9f0\",\"type\":\"HoverTool\"},{\"id\":\"936102af-cadc-4ada-880c-1ae1e1f451ed\",\"type\":\"CrosshairTool\"},{\"id\":\"9651b508-3ce2-4350-891e-aca5a9d9c0fe\",\"type\":\"PanTool\"},{\"id\":\"7f19a59b-e39a-4e87-811d-f0552f9a90af\",\"type\":\"WheelZoomTool\"},{\"id\":\"9e509916-8395-4d8a-b781-f9a92b207e84\",\"type\":\"BoxZoomTool\"},{\"id\":\"7e83a056-f89c-4f03-bbde-aa8af0208811\",\"type\":\"ResetTool\"},{\"id\":\"c0e30173-6a62-439d-afdd-cbacc8447f65\",\"type\":\"SaveTool\"},{\"id\":\"bdad9ad5-95a7-4dd7-b3c3-5d040340d9a5\",\"type\":\"LassoSelectTool\"}]},\"id\":\"d5adedf2-aede-40d1-8932-4b3686e6d1fb\",\"type\":\"Toolbar\"},{\"attributes\":{},\"id\":\"b1533272-adf8-4cd1-8b85-a38220ef2199\",\"type\":\"BasicTicker\"},{\"attributes\":{\"below\":[{\"id\":\"50a85230-5c72-4045-ac14-881f6f307baf\",\"type\":\"LinearAxis\"}],\"left\":[{\"id\":\"b23536e4-ee8e-45b2-b1b7-8c23a21ebdc6\",\"type\":\"LinearAxis\"}],\"renderers\":[{\"id\":\"50a85230-5c72-4045-ac14-881f6f307baf\",\"type\":\"LinearAxis\"},{\"id\":\"4d8ea3f6-76e1-4e3c-b7c9-7d5f2e4a163f\",\"type\":\"Grid\"},{\"id\":\"b23536e4-ee8e-45b2-b1b7-8c23a21ebdc6\",\"type\":\"LinearAxis\"},{\"id\":\"d9a2f81a-6ad0-494d-b9b2-519d5466bf55\",\"type\":\"Grid\"},{\"id\":\"a140a9ad-34dc-4a95-9824-7d2c71f5f40d\",\"type\":\"BoxAnnotation\"},{\"id\":\"afcc2163-43b4-4522-8f27-eec835514ddc\",\"type\":\"PolyAnnotation\"},{\"id\":\"69fd2b1b-2091-4ca4-b58d-758329ef159c\",\"type\":\"GlyphRenderer\"}],\"title\":{\"id\":\"ce0bfd0a-0b2b-4e69-b780-4a290b62b2a3\",\"type\":\"Title\"},\"tool_events\":{\"id\":\"ea6a8c94-8c7d-4c1e-a218-083495e53e2b\",\"type\":\"ToolEvents\"},\"toolbar\":{\"id\":\"d5adedf2-aede-40d1-8932-4b3686e6d1fb\",\"type\":\"Toolbar\"},\"x_range\":{\"id\":\"e1e4ea7e-aec1-4c9f-a0be-016ccbc3eaa4\",\"type\":\"DataRange1d\"},\"y_range\":{\"id\":\"69670d03-aa44-47b5-857f-83ad85f61c02\",\"type\":\"DataRange1d\"}},\"id\":\"5fca9abb-8d94-4900-a388-d2a3b67dc489\",\"subtype\":\"Figure\",\"type\":\"Plot\"},{\"attributes\":{\"dimension\":1,\"plot\":{\"id\":\"5fca9abb-8d94-4900-a388-d2a3b67dc489\",\"subtype\":\"Figure\",\"type\":\"Plot\"},\"ticker\":{\"id\":\"b1533272-adf8-4cd1-8b85-a38220ef2199\",\"type\":\"BasicTicker\"}},\"id\":\"d9a2f81a-6ad0-494d-b9b2-519d5466bf55\",\"type\":\"Grid\"},{\"attributes\":{\"callback\":null,\"column_names\":[\"author_sizes\",\"x\",\"author_names\",\"radii\",\"y\"],\"data\":{\"author_names\":[\"O.I.Tsioutsias\",\"MichaelHumphreys\",\"MatthewA.Wilson\",\"RyotaroKamimura\",\"KariTorkkola\",\"DavidFeld\",\"ThomasClare\",\"HervdBourlard\",\"BernhardSchottky\",\"SvilenTzonev\",\"SatoshiYamada\",\"GuyJ.Brown\",\"RobertSnapp\",\"R.R.de-Ruyter-van-Steveninck\",\"JeremyFrank\",\"MiriamSchulte\",\"DiegoSona\",\"MichaelKearns\",\"TakaoWatanabe\",\"MarcH.Cohen\",\"AjayGupta\",\"AlessandroSperduti\",\"SmartGeman\",\"T.Nakai\",\"S.Schaal\",\"J.Walter\",\"BrianRasnow\",\"GaryM.Scott\",\"S.C.Ahalt\",\"ChristopherG.Atkeson\",\"HiroakiGomi\",\"KevinA.Archie\",\"Te-WonLee\",\"DonaldB.Malkoff\",\"EnricoBocchieri\",\"RonaldH.Silverman\",\"GregMartin\",\"MishaPavel\",\"I.Jouny\",\"ToshiakiOkamoto\",\"DavidAndre\",\"A.H.L.West\",\"PeterFoltz\",\"J.Deppisch\",\"ParthaNiyogi\",\"AapoHyvarrinen\",\"AntoninaStarita\",\"DanielPotter\",\"Jen-LunYuan\",\"PeterBartlett\",\"RichardJ.Coggins\",\"HarrisDrucker\",\"StefanoMonti\",\"DavidMarson\",\"GaleL.Martin\",\"MosheKaro\",\"S.SidneyFels\",\"JoseA.B.Fortes\",\"YoramSinger\",\"SatinderSingh\",\"GideonDror\",\"L.Xu\",\"HidemitsuOgawa\",\"HowardHenry\",\"MatthewJ.Beal\",\"HermanVerrelst\",\"ZoubinGhahramani\",\"D.S.Touretzky\",\"AvijitSaha\",\"RandallR.Spangler\",\"DaphneBavelier\",\"YvesGrandvalet\",\"MichaelDuff\",\"DavidA.Kessler\",\"JosephB.Keller\",\"RonaldG.Benson\",\"AlanJ.Harget\",\"RichardK.Belew\",\"MarkGluck\",\"A.B.Bonds\",\"D.D.Coon\",\"OleWinther\",\"JohnKruschke\",\"CatherineE.Myers\",\"EricI.Knudsen\",\"AmirDembo\",\"ChristophE.Schreiner\",\"MalcolmSlaney\",\"AndreStechert\",\"AliH.Sayed\",\"L.Y.Pratt\",\"AndrewBlake\",\"EricVittoz\",\"MarioBlaum\",\"AdamJ.Grove\",\"A.Horst\",\"J.Hajto\",\"YosefRinott\",\"MichaelFleisher\",\"AhChungTsoi\",\"KanBoonyanit\",\"Andrevan-Schaik\",\"HiroyukiNakahara\",\"ToddSoukup\",\"ThorsteinnS.Rognvaldsson\",\"B.Flower\",\"SrinageshSatyanarayana\",\"JohnBain\",\"MichaelS.Gray\",\"PeterRappelsberger\",\"MartinI.Sereno\",\"AndrewMoore\",\"JesperVedelsby\",\"J.A.F.Leite\",\"T.Maxwell\",\"ConradC.Galland\",\"MichaelM.Merzenich\",\"P.Leong\",\"MarkPlutowski\",\"TimHoriuchi\",\"C.Koch\",\"H.G.Zimmermann\",\"D.S.Tang\",\"DavidG.Ward\",\"JonathanBaxter\",\"JoachimUtans\",\"CyrilLatimer\",\"PeterAdorjan\",\"M.Gilloux\",\"PatrickMoore\",\"RonaldL.Calabrese\",\"TheoGeisel\",\"A.Gersho\",\"FabioSolari\",\"A.Sangiovanni-Vincentelli\",\"R.M.Borisyuk\",\"KenjiMatsumoto\",\"WesleyE.Snyder\",\"IraG.Smotroff\",\"GeoffreyE.Hinton\",\"EmanuelaBricolo\",\"H.U.Bauer\",\"A.MiguelSanMartin\",\"JeffreyEMonaco\",\"KevinE.Martin\",\"TimothyChiu\",\"PenttiKanerva\",\"DanielM.Wolpert\",\"JamesR.Williamson\",\"MartinJ.Johnson\",\"B.G.Home\",\"NadaE.Matic\",\"UriRokni\",\"DavidScheeff\",\"EdgarA.Brown\",\"RandallD.Beer\",\"S.Liu\",\"JoumanaGhosn\",\"A.Pentland\",\"BrendaClaiborne\",\"Bertde-Vries\",\"TadahiroOhmi\",\"J.C.Pearson\",\"DeirdreW.Wheeler\",\"H.H.Chen\",\"Benjaminvan-Roy\",\"SylvieRyckebusch\",\"ChristopherBowman\",\"StevenA.Harp\",\"A.Moopenn\",\"E.Littmann\",\"AndreasStolcke\",\"R.Sitaramen\",\"GeoffreyGoodhill\",\"AthanasiosG.Tsirukis\",\"EricChang\",\"W.FritzKruger\",\"A.vanSchaik\",\"PadhraicSmyth\",\"DavidS.Touretzky\",\"AlanBarr\",\"ThomasH.Brown\",\"AlanF.Murray\",\"LouiseOsterholtz\",\"B.V.K.VijayaKumar\",\"GerardDreyfus\",\"JohnK.Williams\",\"EricB.Baum\",\"MichaelIsard\",\"ChristopherAtkeson\",\"LanceM.Optican\",\"GeoffreyOrsak\",\"DavidA.Robinson\",\"JohnBaras\",\"AmitManwani\",\"AnthonyLaVigna\",\"MichaelI.Jordan\",\"ShellyGoggin\",\"M.A.Jabri\",\"JamesK.Peterson\",\"EytanDomany\",\"RobertE.Schapire\",\"J.Beck\",\"MarwanJabri\",\"ToddS.Braver\",\"UryNaftaly\",\"M.S.Bartlett\",\"RonaldA.Cole\",\"EHergert\",\"G.G.Blasdel\",\"JessicaD.Bayliss\",\"ThomasPetsche\",\"H.Pan\",\"GarethJames\",\"IsaacMeilijson\",\"MazinRahim\",\"W.R.Gardner\",\"DavidMontana\",\"S.Baluja\",\"RichardGolden\",\"AlbertoSangiovanni-Vincentelli\",\"KennethA.Norman\",\"ParryHusbands\",\"RichardFozzard\",\"NevinL.Zhang\",\"JacquesGautrals\",\"EyalCohen\",\"T.Mitchell\",\"ScottKirkpatrick\",\"G.Dreyfus\",\"BarbaraKlein\",\"LionelTarassenko\",\"L.D.Jackel\",\"CharlesL.Isbell\",\"StephenJ.Hanson\",\"AdamPrtigel-Bennett\",\"M.Mahowald\",\"RichardLyon\",\"HeikoNeumann\",\"BartlettW.Mel\",\"BerndFritzke\",\"MosheSipper\",\"RicardoA.MarquesPereira\",\"MichaelSeibert\",\"S.Thrun\",\"J.L.Elman\",\"T.Hastie\",\"JohnE.W.Mayhew\",\"AchimStahlberger\",\"EricMjolsness\",\"HeinzSchuster\",\"ChrisJ.C.Burges\",\"MarioMarchand\",\"GeoffreyFox\",\"Meng-JangLin\",\"PaulEkman\",\"ColinHumphties\",\"GennadyS.Cymbalyuk\",\"DonnieHenderson\",\"C.A.Micchelli\",\"MarwanJabd\",\"JackL.Meador\",\"RaoulTawel\",\"AlirezaKhotanzad\",\"ThomasRagg\",\"VolkerRoth\",\"A.Sergejew\",\"HeinrichH.Btilthoff\",\"NicholasR.Howe\",\"DougJohnson\",\"SantoshS.Venkatesh\",\"AlanEMurray\",\"C.M.Bishop\",\"JaakkoHollmen\",\"D.Chen\",\"GeoffreyTowell\",\"CristophBregler\",\"StevenNowlan\",\"DavidSomers\",\"BjomLambrigsten\",\"JamesJ.Knierim\",\"YiLi\",\"TimothyW.Cacciatore\",\"D.M.Titterington\",\"SatoruShiono\",\"ChienPingLu\",\"CraigT.Jin\",\"AndrewW.Moore\",\"A.J.Bell\",\"VwaniRoychowdhury\",\"L.F.Abbott\",\"B.Parmanto\",\"StephenChurcher\",\"N.Toomarian\",\"NaftaliTishby\",\"StephenPiche\",\"P.S.Bradley\",\"ArmandoManduca\",\"NeilLawrence\",\"EricCourchesne\",\"AntonGunzinger\",\"AnthonyV.W.Smith\",\"ChristopherJ.Merz\",\"O.Miller\",\"AndrewM.Finch\",\"PeterTifio\",\"H.S.Baird\",\"C.Stevens\",\"A.Afghan\",\"MarianS.Bartlett\",\"MarkA.Rubin\",\"NiallMcLoughlin\",\"CharlesElbaurn\",\"DanielM.Kammen\",\"DominikHornel\",\"JohnPlatt\",\"JoeTebelskis\",\"ToddK.Leen\",\"AlfonsoRenart\",\"M.Kearns\",\"GenevieveB.Orr\",\"LeemonBaird\",\"JimChristian\",\"VicenteHonrubia\",\"GaryBradshaw\",\"J.Hertz\",\"DmitriB.Chklovskii\",\"Tzi-DarChiueh\",\"AlbertoBertoni\",\"ShimonEdelman\",\"KwokFaiHui\",\"MarkOllila\",\"DavidL.Bisset\",\"ManfredK.Warmuth\",\"PaatRusmevichiemong\",\"J.Sirosh\",\"T.Petsehe\",\"SteliosM.Smimakis\",\"DanRoth\",\"LanceR.Williams\",\"RuthJ.Williams\",\"PietroPerona\",\"AssafJ.Zeevi\",\"N.H.Wulff\",\"T.Rebotier\",\"KlausPrank\",\"R.K.Alley\",\"R.Gourley\",\"PaulViola\",\"BhaskarDasGupta\",\"Andrfivan-Schaik\",\"DavidMarsan\",\"MarkusSvensen\",\"A.Sato\",\"TobiasMann\",\"NelloCristianini\",\"YoavFreund\",\"MarthaFarah\",\"FranklinJ.Rudolph\",\"PeterKazlas\",\"G.Jackson\",\"JimKeeler\",\"HaimSompolinsky\",\"SophieDeneve\",\"CarreitSahar-Pikielny\",\"MarioP.Vecchi\",\"HansP.Graf\",\"J.Larsen\",\"AnthonyJayakumar\",\"LeonardG.C.Hamey\",\"JamesBower\",\"TakashiOnoda\",\"YuzoHirai\",\"E.Mjolsness\",\"MarkSaffman\",\"DavidE.VandenBout\",\"GfintherPalm\",\"GianlucaBontempi\",\"W.Ross\",\"Y.Cboe\",\"G.L.Martin\",\"Y.Zhao\",\"ShaiFine\",\"HagaiAttias\",\"JohnE.Hogden\",\"VolkerTresp\",\"YoshiroMiyata\",\"Chuan-LinWu\",\"DanielS.Clouse\",\"JohnMakhoul\",\"PhilippeO.Pouliquen\",\"Ting-ChuenPong\",\"NirFriedman\",\"W.Hubbard\",\"ThomasAnastasio\",\"KristRoginski\",\"PhilipM.Long\",\"JamesGlynn\",\"VictorZue\",\"DavidServan-Schreiber\",\"FrankWilczek\",\"A.G.Barto\",\"DietrichWettschereck\",\"C.E.Schreiner\",\"ChrisM.Bishop\",\"YasuhiroWada\",\"A.P.Thakoor\",\"JoshuaTenenbaum\",\"I.Guyon\",\"JeffMellstrom\",\"R.Etienne-Cummings\",\"Ki-ChulKim\",\"BrunoCessac\",\"G.Cauwenberghs\",\"FrancisQuek\",\"B.V.Roy\",\"ThomasG.Edwards\",\"JurgenHollatz\",\"PhillipAlvelda\",\"A.N.Michel\",\"DianeLitman\",\"AndreJ.Noest\",\"JosephCollard\",\"PaulDean\",\"GianlucaDonato\",\"JackGelfand\",\"EnnioMingolla\",\"Z.Chi\",\"MichaelG.Dyer\",\"PaoloGaudiano\",\"NigelDuffy\",\"C.F.Beckmann\",\"EsterLevin\",\"Y.Konig\",\"L.C.Parra\",\"JoshuaChover\",\"R.E.Jenkins\",\"AkitoSakurai\",\"GalChechik\",\"EricVatikiotis-Bateson\",\"EdwardW.Kairiss\",\"JoaoF.G.de-Freitas\",\"S.Yu\",\"W.ScottStornetta\",\"B.Yuhas\",\"IlSongHan\",\"NormanYarvin\",\"D.P.Helmbold\",\"JosefZihl\",\"PaulM.Chau\",\"FerdinandoMussa-lvaldi\",\"AjayN.Jain\",\"RobertB.Darling\",\"HemantS.Kudrimoti\",\"HarveyKasdan\",\"TommiJaakkola\",\"DeLiangWang\",\"MichaelChuang\",\"L.C.Dixon\",\"PrahladGupta\",\"A.W.Moore\",\"JohnPearson\",\"FlorisTakens\",\"LloydWatts\",\"P.N.Sabes\",\"PatrickAgin\",\"LesAtlas\",\"KurtFleischer\",\"R.Miikkulainen\",\"M.Marchand\",\"DarkoStefanovic\",\"RichardG.M.Morris\",\"RaphaelFeraud\",\"A.Kowalczyk\",\"DavidTouretzky\",\"W.ThomasMiller\",\"RaymondL.Watrous\",\"SmartRussell\",\"A.M.Annaswamy\",\"JosephPolifroni\",\"EdwardReitman\",\"RonaldSverdlove\",\"ChristianLebiere\",\"DavidNix\",\"MarkZlochin\",\"MarkKvale\",\"DavidHaussler\",\"RobertoPieraccini\",\"FangyuGao\",\"StephenP.DeWeerth\",\"ChongGu\",\"EdwardSchwartz\",\"ChristianeLinster\",\"SteveWaterhouse\",\"MichaelGasser\",\"MichaelBrownlow\",\"GeraldSommer\",\"Mohammed-AbdelGhani\",\"LaurentItti\",\"LauranceT.Maloney\",\"D.S.C.So\",\"AmirF.Atiya\",\"EduardoD.Sontag\",\"JosefZeitlhofer\",\"H.R.Doyle\",\"DanielD.Lee\",\"M.W.Pealersen\",\"IdoKanter\",\"C.E.Rasmussen\",\"RichardZemel\",\"H.Bolouri\",\"StephenM.Omohundro\",\"JackL.Gallant\",\"MishaMahowald\",\"DavidRogers\",\"LeifH.Finkel\",\"PeterMarbach\",\"C.L.Fry\",\"PeterF.Rowat\",\"JordanPollack\",\"E.Domany\",\"Mark.RSydorenko\",\"MiguelA.Carreira-Perpinan\",\"DavidLowe\",\"AndrewBack\",\"MaryTabasko\",\"R.Janow\",\"Ming-HsuanYang\",\"KamilA.Grajski\",\"JoseAmbros-Ingerson\",\"J.D.Cowan\",\"ErikD.Lumer\",\"EdwardStern\",\"C.Kenyon\",\"C.J.Wellekens\",\"DeanPomerleau\",\"G.Indiveri\",\"NorbertoM.Grzywacz\",\"StephenG.Lisberger\",\"JamesM.Goodwin\",\"RichardJ.Mammone\",\"J.Baxter\",\"LeonN.Cooper\",\"StephenCox\",\"SubutaiAhmad\",\"CarlE.Rasmussen\",\"MikeSchuster\",\"LarryYaeger\",\"E.Erwin\",\"M.J.Rose\",\"KukjinKang\",\"R.Zecchina\",\"LeonidKruglyak\",\"RafaelMalach\",\"P.Stone\",\"MichelCrepon\",\"JianfengFeng\",\"MartineNaillon\",\"E.Ersu\",\"VerenaHebler\",\"K.VenkateshPrasad\",\"AlexPentland\",\"RogerCheng\",\"PavelLaskov\",\"JoachimBuhmann\",\"FransM.Coetzee\",\"D.Sherrington\",\"AnandRangarajan\",\"JosefSkrzypek\",\"AndrewR.Barron\",\"MichaelJ.Pazzani\",\"UsamaFayyad\",\"DanielKammen\",\"E.Zohary\",\"AdAertsen\",\"J.Alspector\",\"M.Blatt\",\"J.C.Jackson\",\"JohnKolen\",\"BarakPearlmutter\",\"JimSchimert\",\"DimitriBertsekas\",\"MarkusSchenkel\",\"DavidHelmbold\",\"HisashiSuzuki\",\"Jean-PierreNadal\",\"HananDavidowitz\",\"EduardSackinger\",\"ClaudineMasson\",\"KahKaySung\",\"AndreElisseeff\",\"DeanBrettle\",\"R.ChristopherdeCharms\",\"StevenS.Watkins\",\"D.Brandeis\",\"KevinR.Wheeler\",\"StephenOmohundro\",\"DavidPrice\",\"DaweiDong\",\"AlanH.Barr\",\"H.Yang\",\"MauriceLee\",\"TomHeskes\",\"ByronDom\",\"JeffreyR.LaFranchise\",\"XavierBoyen\",\"K.Y.MichaelWong\",\"G.Zavaliagkos\",\"SheriL.Gish\",\"AnyaC.Hurlbert\",\"VirginiaR.de-Sa\",\"BernardDoyon\",\"HenrikBohr\",\"HongLeung\",\"F.B.Rodriguez\",\"ShigeruTanaka\",\"AlexanderT.Ihler\",\"RichardP.Lippmann\",\"RichardO.Duda\",\"KevinJ.Moon\",\"JohnA.Hertz\",\"HarryPrintz\",\"TimothyS.Wilkinson\",\"MichaelCohen\",\"VictorAbrash\",\"JohnMoody\",\"AmnonShashua\",\"KathrynLaskey\",\"BalazsKegl\",\"HilbertJ.Kappen\",\"MauriceMilgram\",\"A.Zador\",\"FrankMoss\",\"AliceM.Chiang\",\"LiuKe\",\"VitalyMaiorov\",\"M.Finke\",\"J.Bernasconi\",\"RajeshRao\",\"NoboruMumta\",\"SteveRenals\",\"J.W.Shavlik\",\"N.E.Berthier\",\"F.Ohl\",\"E.Vittoz\",\"MatthiasBurger\",\"BarnbangParmanto\",\"JamesA.Simmons\",\"AkiraHayashi\",\"AlexP.Pentland\",\"AndreasZiehe\",\"DavidGoodine\",\"YurikoOshima-Takane\",\"EliShamir\",\"CarlosMejia\",\"TonyRobinson\",\"AndrewS.Noetzel\",\"ColinCampbell\",\"JohnH.Holland\",\"B.A.Pearlmutter\",\"JofioF.G.de-Freitas\",\"V.I.Makarenko\",\"H.Wagner\",\"Jean-FranqoisIsabelle\",\"A.Jagota\",\"DanielRuderman\",\"RodolfoMilito\",\"KimmoKiviluoto\",\"J.Kivinen\",\"KurtHornik\",\"TomM.Mitchell\",\"MohammadA.Al-Ansari\",\"JohnKassebaum\",\"ManoelF.Tenorio\",\"BarbaraWold\",\"AlexanderDimitrov\",\"JohnLoch\",\"LynetteHirschman\",\"DavidA.Cohn\",\"H.A.Rowley\",\"M.Cekic\",\"JohnHertz\",\"JonTombs\",\"LorienY.Pratt\",\"GeraldTesauro\",\"A.Pouget\",\"DemetriTerzopoulos\",\"JustinianRosca\",\"KaganTumer\",\"MichaelE.Hasselmo\",\"G.J.Zelinsky\",\"M.Wattenberg\",\"LeonS.Sterling\",\"B.Lemarie\",\"StevenBradtke\",\"J.PNadal\",\"ChristopheAndrieu\",\"T.Serrano-Gotarredona\",\"S.A.Macy\",\"JohnJ.Hopfield\",\"T.Jung\",\"C.M.Marcus\",\"GrigorisKarakoulas\",\"ZhaopingLi\",\"RobertMoll\",\"ZoranObradovic\",\"BillHorne\",\"DeirdreWheeler\",\"P.Koiran\",\"RodneyCotterill\",\"GaryG.Blasdel\",\"T.Kanade\",\"AkioTanaka\",\"EricA.Wan\",\"R.Schwartz\",\"JorgKindermann\",\"DavidJ.Foster\",\"YannisTsividis\",\"ManceHarmon\",\"CazhaowS.Qazaz\",\"SayandevMukherjee\",\"HinrichSchfitze\",\"DavidHorn\",\"GeoffreyJ.Goodhill\",\"H.Bourlard\",\"VladimirN.Vapnik\",\"NirmalaRamanujam\",\"MarkGerules\",\"DaphneKoller\",\"KarlGustafson\",\"PhilKohn\",\"D.J.Kershaw\",\"Hung-LiTseng\",\"SylvieRenaud-LeMasson\",\"AmirAtiya\",\"ShinIshii\",\"JamesHendler\",\"P.Sollich\",\"JohnW.Miller\",\"HilaryTunley\",\"JeffreyTeeters\",\"RichardGranger\",\"BradleyA.Minch\",\"GeorgeZavaliagkos\",\"IgorGrebert\",\"J.G.Taylor\",\"RodericGinpen\",\"AlexanderSinger\",\"AllenI.Selverston\",\"MarkA.Gluck\",\"PeterN.Steinmetz\",\"GerhardRigoll\",\"LauraMartignon\",\"JohnO'Keefe\",\"J.VanderSpiegel\",\"JimMann\",\"YochaiKonig\",\"JeremyS.de-Bonet\",\"EricSchnell\",\"Robde-Ruyter-van-Steveninck\",\"N.N.Schraudolph\",\"FrankEeckman\",\"PekkaOrponen\",\"HermanFerra\",\"FernandoLozano\",\"AnthonyBloesch\",\"RichardKempter\",\"HenriAtlan\",\"SandeepGulati\",\"Dit-YanYeung\",\"E.D.Sontag\",\"MartinHammer\",\"JohnK.Douglass\",\"DaleSchuurmans\",\"YoshioTakane\",\"R.Caruana\",\"JenniferLund\",\"BenS.Wittner\",\"NicholasRoy\",\"MichaelP.Stryker\",\"PaoloFrasconi\",\"B.Boser\",\"MarvinLuttges\",\"SteveGyger\",\"DavidA.Nix\",\"J.A.Farrell\",\"JohnKennedy\",\"EricSaund\",\"FouadBadran\",\"JavierR.Movellan\",\"H.Ritter\",\"StevenJ.Nowlan\",\"C.J.C.H.Watkins\",\"L.Wu\",\"SebastianMika\",\"JosephSill\",\"RonaldCole\",\"Hwang-SooLee\",\"Ch.Tietz\",\"S.Gold\",\"D.Lippe\",\"AndresRodriguez\",\"ChristofSchofl\",\"BernhardScholkopf\",\"PedroA.d.F.R.Hojen-Sorensen\",\"YoshiyukiKabashima\",\"HarrisonMonFookLeong\",\"Jung-WookCho\",\"HenrikFredholm\",\"MoiseH.Goldstein\",\"LouisCeci\",\"LawrenceD.Jackel\",\"AnthonyZador\",\"CharlesFefferman\",\"AnnaCorderoy\",\"Alexandervon-zur-Muhlen\",\"RonaldJ.Williams\",\"GeorgSchnitger\",\"RonPapka\",\"BernardVictorri\",\"RobertFrye\",\"JosePrincipe\",\"E.Majani\",\"S.Finch\",\"ChristopherAssad\",\"T.Duong\",\"T.Ohmi\",\"Ming-TakLeung\",\"EeroP.Simoncelli\",\"R.C.Williamson\",\"AndreasG.Andreou\",\"EduardoSontag\",\"M.M.Hochberg\",\"DavidShahian\",\"GadiPinkas\",\"StefanKnerr\",\"IanParberry\",\"SebastianThmn\",\"VijayR.Konda\",\"JensKohlmorgen\",\"DavidWarland\",\"AndrewR.Webb\",\"GeoffreyHinton\",\"RolfEckmiller\",\"RuthErlanson\",\"HansHenrikThodberg\",\"FredRieke\",\"D.T.Lawrence\",\"JohnLazzaro\",\"StephenPickard\",\"ViktorGruev\",\"P.R.Montague\",\"Wan-PingChiang\",\"BarakA.Pearlmutter\",\"J.AnthonyMovshon\",\"ToshioInui\",\"Y.Bengio\",\"AnthonyJ.R.Heading\",\"AlexSmola\",\"EMoss\",\"DanielNissman\",\"JuergenFritsch\",\"SharadSinghal\",\"KatalinM.Gothard\",\"EveMarder\",\"DanaRon\",\"LinaL.E.Massone\",\"RitaVenturini\",\"GiacomoM.Bisio\",\"EtienneBarnard\",\"StephenA.Fisher\",\"PeterL.Bartlett\",\"DoinaPrecup\",\"EdwinLewis\",\"S.K.Riis\",\"TadHogg\",\"Y.Xie\",\"W.H.Zaagman\",\"VijaySamalam\",\"Antalvan-den-Bosch\",\"PatrickGallinari\",\"HayitK.Greenspan\",\"ShumeetBaluja\",\"HongC.Leung\",\"EdwinR.Hancock\",\"AliA.Minai\",\"YasuharuKioke\",\"PaulNachtigall\",\"ReinerLenz\",\"R.Erlanson\",\"AapoHyvarinen\",\"RamaChellappa\",\"StephanPareigis\",\"H.Drucker\",\"ReinholdMann\",\"JonathanA.Marshall\",\"KevinCummings\",\"TomasoPoggio\",\"S.Yasui\",\"AlanLapedes\",\"FrancesS.Chance\",\"SanjayBiswas\",\"StefanSchaal\",\"C.T.Abdallah\",\"JoshuaB.Tenenbaum\",\"J.Tani\",\"P.Anandan\",\"N.Barkai\",\"J.JeffreyMahoney\",\"LaurensLeerink\",\"AkayshaC.Tang\",\"TomJ.Richardson\",\"T.Delbruck\",\"MasazumiKatayama\",\"TobiDelbruck\",\"ChristianDarken\",\"HowardKaushansky\",\"TongZhang\",\"A.L.Yuille\",\"PatriceSimard\",\"TakeoYamashita\",\"KnutMoller\",\"JianWu\",\"Hui-H.Hsu\",\"ToddTroyer\",\"ShigemTanaka\",\"R.S.Peterson\",\"ArchismartRudra\",\"PatrickHaffner\",\"RalfHerbrich\",\"JamesA.Ritcey\",\"ThomasBrown\",\"P.Campbell\",\"DavidMcAllester\",\"PeterE.Latham\",\"ChristophBregler\",\"NirLevy\",\"ManuelSamuelides\",\"AlanH.Kramer\",\"Shih-ChengYen\",\"TonyJebara\",\"EricPostma\",\"RogerShepard\",\"AlexanderJ.Smola\",\"IdanSegev\",\"HalbertWhite\",\"WilliamFaller\",\"DanaZ.Anderson\",\"W.R.Softky\",\"Guo-ZhengSun\",\"StefanHeil\",\"NigelM.Allinson\",\"StephenJudd\",\"MarcusFrean\",\"FranklinR.Arethor\",\"KristinaJohnson\",\"AntonSchwartz\",\"WilliamW.Cohen\",\"AmyMcGovern\",\"EmadN.Eskandar\",\"GwendalLeMasson\",\"R.D.Puff\",\"WalterMetznet\",\"BrunoA.Olshausen\",\"SheldonGilbert\",\"YoramGdalyahu\",\"NikosLogothetis\",\"WeeSunLee\",\"JillP.Mesirov\",\"J.B.Hampshire\",\"AnthonyM.Zador\",\"RodneyJ.Douglas\",\"AsrielU.Levin\",\"ElieBienenstock\",\"H.Scheich\",\"P.A.Chou\",\"Guo-ZhenSun\",\"BenA.Marcotte\",\"MarshallFlax\",\"MichaelBurl\",\"W.HarmonRay\",\"C.L.Winter\",\"PanayiotaPoirazi\",\"M.Kadirkamanathan\",\"Marc-OlivierCoppens\",\"ChristopherK.I.Williams\",\"Kai-YeungSiu\",\"EdwardK.Blum\",\"DonaldJ.Baxter\",\"RichardS.Sutton\",\"NaonoriUeda\",\"MartinMaechler\",\"J.B.Tenenbaum\",\"DavidB.Parker\",\"JohnS.Denker\",\"BahramNabet\",\"J.L.Wyatt\",\"R.Tibshirani\",\"ShlomoZilberstein\",\"AyhanDemiriz\",\"MottenPedersen\",\"BarryJ.Richmond\",\"PierreBaldi\",\"AmnonYariv\",\"TimHunkapiller\",\"VanHenkle\",\"BrianSallans\",\"DavidG.Stork\",\"DorothyA.Mighell\",\"EytanRuppin\",\"CarlosBrody\",\"H.Schwarze\",\"MarkWhite\",\"SheilaKannappan\",\"Th.Sudbrak\",\"NoamSlonim\",\"NarendraAhuja\",\"JohnShawe-Taylor\",\"PierreBand\",\"M.K.Warmuth\",\"JohnS.Pezaris\",\"EricD.Young\",\"N.Kamnanithi\",\"ReimarHofmann\",\"RiittaHari\",\"EimeiOyama\",\"S.E.Hihi\",\"YishayMansour\",\"R.Neuneier\",\"J.J.Hopfield\",\"E.Alpaydin\",\"UweHelmke\",\"CorinnaCortes\",\"GarrisonCottrell\",\"JohnB.Hampshire\",\"VictorHu\",\"AsaBen-Hut\",\"AntonioTuriel\",\"DonBone\",\"MohamedEl-Sharkawi\",\"ColinG.Windsor\",\"StevenJ.Bradtke\",\"Il-SongHan\",\"DaviGeiger\",\"DavidW.Jacobs\",\"AlanMurray\",\"ChristopherDonham\",\"P.K.Ko\",\"HolmSchwarze\",\"Martinede-Gerlache\",\"JamesM.Coughlan\",\"StevenR.Skinner\",\"B.J.Frey\",\"EdwardW.Page\",\"MarilynWalker\",\"MichaelWennan\",\"KevinP.Murphy\",\"AlanYuille\",\"XiwuLin\",\"K.Y.Goldberg\",\"ThomasA.Busey\",\"L.K.Saul\",\"PaulChristy\",\"D.Kontoravdis\",\"DavidBarber\",\"T.Downs\",\"RobertAllen\",\"SreerupaDas\",\"ClintS.Cole\",\"MartinRoscheisen\",\"JaneenAnderson\",\"LaurensR.Leerink\",\"MatthewN.Dailey\",\"LucasC.Parra\",\"ItayGat\",\"JanVanderSpiegel\",\"A.C.C.Coolen\",\"SethuVijayahunar\",\"I.M.Elfadel\",\"NicholasJ.Adams\",\"HeinrichH.Bfilthoff\",\"LesE.Atlas\",\"ChristopherWilliams\",\"TimothyK.Horiuchi\",\"TerrenceJ.Sejnowski\",\"RichardLippmann\",\"ErkkiOja\",\"DanielH.Lange\",\"StevenGold\",\"HiroakiSaito\",\"ErnestWan\",\"JohnHaggerty\",\"SaraSolla\",\"ClaySpence\",\"J.N.Tsitsiklis\",\"JohnN.Tsitsiklis\",\"JudeW.Shavlik\",\"JohnG.Harris\",\"DavidVandenBout\",\"KennethZeger\",\"PetriKoistinen\",\"KechenZhang\",\"JanBen\",\"ClaudioGentile\",\"J.Lazzaro\",\"GeneBoe\",\"P.Ekman\",\"A.K.Krishnamurthy\",\"DidierKeymeulen\",\"S.A.Seinenov\",\"FredWolf\",\"MarcLoinaz\",\"JamesHutchinson\",\"HasanS.Uyar\",\"AnenGersho\",\"EWeber\",\"DiegoGiuliani\",\"H.A.K.Mastebroek\",\"ChrisMesterharm\",\"BrendaJ.Claiborne\",\"BertramE.Shi\",\"MartinJ.McKeown\",\"S.Wiseman\",\"K.Mueller\",\"KlausSchulten\",\"BennyLautmp\",\"MichaelKocheisen\",\"JayDiamond\",\"GeorgeLeeZimmerman\",\"A.During\",\"AndrewY.Ng\",\"GregoryR.Galperin\",\"HavaT.Siegelmann\",\"J.A.Coelho\",\"HelenePaugam-Moisy\",\"ThoreGraepel\",\"IrisGinzburg\",\"JoseC.Principe\",\"EdmundT.Rolls\",\"RembrandtBakker\",\"A.U.Levin\",\"WilfriedBrauer\",\"ChristopherJ.Matheus\",\"SenSong\",\"C.W.H.Mace\",\"MaryB.Oftaway\",\"ClayD.Spence\",\"JohnP.Miller\",\"RalphPenner\",\"C.B.Miller\",\"G.J.Gordon\",\"FernandaBotelho\",\"JuergenSchmidhuber\",\"JamesKeeler\",\"WilliamY.Huang\",\"V.Bohossian\",\"DaweiW.Dong\",\"JosephC.Hager\",\"FerdinandPeper\",\"AlyssaApsel\",\"D.H.Ballard\",\"CharlesF.Stevens\",\"S.Hadjffaradji\",\"RichardT.J.Bostock\",\"DonMontgomery\",\"F.Gingras\",\"SaraA.Solla\",\"ThomasDietterich\",\"HirofumiMatsui\",\"JamesS.Schwaber\",\"PaulBourgine\",\"GaryW.Flake\",\"RoopakShah\",\"EberhardE.Fetz\",\"HillelJ.Chiel\",\"H.Ferni\",\"AllenM.Waxman\",\"ClaytonMcMillan\",\"KennethKreutz-Delgado\",\"SamRoweis\",\"A.A.Handzel\",\"K.Obermayer\",\"JamesD.Keeler\",\"D.J.Willshaw\",\"GregoryM.Saunders\",\"Fu-ShengTsung\",\"RadfordM.Neal\",\"GeneA.Tagliarini\",\"KennethM.Buckland\",\"Klaus-R.Muller\",\"FedericoFaggin\",\"SherifBotros\",\"MartinStetter\",\"JetteRandlov\",\"PaulSajda\",\"ChuckWooters\",\"M.Pavel\",\"K.Boahen\",\"HillelPratt\",\"M.J.Denham\",\"EinarSorheim\",\"DouglasKerns\",\"ChristopherM.Bishop\",\"O.J.M.Coenen\",\"CharlesStein\",\"RyoheiNakano\",\"JakubWejchert\",\"J.C.Platt\",\"M.Hasselmo\",\"LehelCsato\",\"JacobErel\",\"RonaldM.Harris-Warrick\",\"AndersKrogh\",\"MassimoSivilotti\",\"W.Gerstner\",\"DavidWillshaw\",\"MichaelP.Perrone\",\"VicenteIragui\",\"AnnaMorpurgo\",\"MosfeqRashid\",\"RalphWolf\",\"LarsSchwabe\",\"BemdFritzke\",\"SeanD.Murphy\",\"MikeHochberg\",\"LeonBottou\",\"DavidHandelman\",\"H.L.Ferra\",\"FerdinandoA.Mussa-Ivaldi\",\"DavidB.Rosen\",\"JyrldKivinen\",\"DemetrPsaltis\",\"MarcelloPelillo\",\"YannLeCun\",\"BimalMathur\",\"HansPeterGraf\",\"K.Asanovic\",\"ChdstofKoch\",\"DanielB.Schwartz\",\"TerenceD.Sanger\",\"BabakHassibi\",\"NunoVasconcelos\",\"AxelCleeremans\",\"ChristophSchaefers\",\"NuriaOliver\",\"M.Schenkel\",\"ThomasP.Vogl\",\"BrookeAnderson\",\"MichaelG.Paulin\",\"JimAustin\",\"SusumuTachi\",\"XiruZhang\",\"RonaldKlein\",\"KhalidChoukri\",\"V.I.Kryukov\",\"SeppHochreiter\",\"DavidBrady\",\"R.H.Crites\",\"O.L.Mangasarian\",\"JoachimM.Buhmann\",\"JohnW.Fisher\",\"RalphM.Siegel\",\"LuckyVidmar\",\"ManfredOpper\",\"KazuhikoYokosawa\",\"MartinJ.Wainwright\",\"SamyBengio\",\"TheaB.Ghiselli-Crippa\",\"JuliaBorger\",\"AlanD.Blair\",\"MartinRiedmiller\",\"Ken-ichiIso\",\"RainerMalaka\",\"PedroGuedesde-Oliveira\",\"JohnCavazos\",\"YuHe\",\"StephenHanson\",\"ReinhardBlasig\",\"DavidG.Grier\",\"R.Dodier\",\"KwabenaA.Boahen\",\"SeiMiyake\",\"RichardWolniewicz\",\"ValentinoBraitenberg\",\"MarissaWesterfield\",\"PhilipJ.Holmes\",\"AndreLongtin\",\"JosephDao\",\"WimWiegerinck\",\"LlewMason\",\"L.S.Smith\",\"Jyh-MingKuo\",\"BruceGraham\",\"BabackMoghaddam\",\"MarcellaA.McClure\",\"JamesR.Mann\",\"LeiXu\",\"DimitrisMargaritis\",\"RichardEhman\",\"JagmeetS.Kanwal\",\"RichCamana\",\"TamarFlash\",\"HarryWechsler\",\"LuciaM.Vaina\",\"R.R.Snapp\",\"MaryE.T.Boyle\",\"R.M.Peterson\",\"HansUlrichBauer\",\"JeffG.Schneider\",\"G.Hinton\",\"MichaelA.Glover\",\"JohnC.Pearson\",\"RahulSarpeshkar\",\"A.C.Tsoi\",\"FernandoPineda\",\"CarlaBrodley\",\"G.J.Kacmarcik\",\"TorstenZeppenfeld\",\"PeterM.Williams\",\"NoboruMurata\",\"WilliamW.Streilein\",\"MarleneBehrmann\",\"LeonPersonnaz\",\"P.A.Viola\",\"HiroshiAndo\",\"NestorParga\",\"Y.Mansour\",\"CatherineStevens\",\"YairWeiss\",\"G.Brightwell\",\"NicholasD.Socci\",\"B.P.Yuhas\",\"ThomasC.Ferree\",\"JeromeFreidman\",\"GaryCook\",\"A.Grunewald\",\"MicahS.Siegel\",\"JunZhang\",\"IrfanEssa\",\"YeshwantMuthusamy\",\"CharlesENeugebauer\",\"YuzuruSato\",\"CarlaJ.Shatz\",\"BernhardE.Boser\",\"XiaohuiXie\",\"WilliamR.Softky\",\"GeraldineLegendre\",\"JohannesFeulner\",\"G.BjornChristianson\",\"RobertB.Pinter\",\"MichaelE.Levemon\",\"B.Scholkopf\",\"DavidDeMers\",\"MahesanNiranjan\",\"ZehraCataltepe\",\"MikeWynne-Jones\",\"A.Ferguson\",\"K.Y.Siu\",\"StevenE.Golowich\",\"PaulUtgoff\",\"R.E.Ritzmann\",\"S.Pappu\",\"DavidStork\",\"MichielNoordewier\",\"NickLittlestone\",\"VolneiPedroni\",\"MaxGarzon\",\"JohnL.Wyatt\",\"LiqingZhang\",\"ThomasHolmann\",\"A.Kramer\",\"NeilBurgess\",\"P.Auer\",\"SatoshiSuzuki\",\"ShiroIkeda\",\"M.W.Craven\",\"ThomasShultz\",\"RichardSutton\",\"JohnGrace\",\"OferZeitouni\",\"F.D.Garber\",\"JashojibanBanik\",\"HarryBurke\",\"BradleyW.Dickinson\",\"PatricK.Stanton\",\"LanceC.Walton\",\"MichioNakashima\",\"J.Wawrzynek\",\"EstherLevin\",\"KazumiSaito\",\"H.Tolle\",\"AlexanderJourjine\",\"JohnPerry\",\"N.Morgan\",\"W.Bialek\",\"AlanL.Yuille\",\"SowmyaRamachandran\",\"A.J.Robinson\",\"M.A.Mahowald\",\"S.Makeig\",\"TarigSamad\",\"A.D.Rexlish\",\"JawadA.Salehi\",\"BruceL.McNaughton\",\"TimSmithers\",\"StefanManke\",\"ClaireLegleye\",\"F.H.Schuling\",\"AnyaHurlbert\",\"DietrichLehmann\",\"CharlesM.Higgins\",\"TonyA.Plate\",\"SuzannaBecker\",\"K.I.Diamantaras\",\"S.P.Singh\",\"MichaelT.Gately\",\"LeemonC.Baird\",\"ShujiYoshizawa\",\"SebastianRisau-Gusman\",\"MichaelO.Duff\",\"IsabelleGuyon\",\"MarkW.Goudreau\",\"JamesB.Burr\",\"MattiHamalainen\",\"P.W.Munro\",\"GintamsV.Reklaitis\",\"YoramBaram\",\"AndrewG.Barto\",\"CharlesW.Anderson\",\"SteffenPetersen\",\"JonathanL.Shapiro\",\"RenatoDe-Mori\",\"C.Cones\",\"S.Haghighi\",\"BenNorth\",\"KunihikoIizuka\",\"JeanneC.Milostan\",\"W.ZevRymer\",\"StellaX.Yu\",\"YoshihiroMori\",\"MarkMathieson\",\"H.P.Graf\",\"Bernd-PeterParis\",\"DonR.Hush\",\"S.Sahar\",\"J.Zhao\",\"S.L.McCabe\",\"SebastianThrun\",\"HosseinL.Najafi\",\"ArthurMcNair\",\"KongKritayakirana\",\"EricCosatto\",\"A.Drees\",\"K.J.Cherkauer\",\"PeterN.Prokopowicz\",\"XavierGiannakopoulos\",\"JehoshuaBruck\",\"AlanStocker\",\"Y.Matsuoka\",\"JacquesVidal\",\"DouglasR.Martin\",\"Sang-YungShin\",\"LyndonJ.Brown\",\"MichaelMckenna\",\"ManeeshSahani\",\"RonenBasri\",\"VladimirCherkassky\",\"B.DasGupta\",\"RemiMunos\",\"Hi.Chiel\",\"EgonC.Pasztor\",\"EilonVaadia\",\"NikhilBhushan\",\"LindaKaufman\",\"R.S.Sutton\",\"BruceE.Rosen\",\"MichaelPhillips\",\"ArthurFlexer\",\"ToshiteruHomma\",\"HalinaAbramowicz\",\"PaulRodriguez\",\"TomilsLozano-Perez\",\"H.Weissman\",\"JoelBert\",\"E.E.Fetz\",\"M.Dikaiakos\",\"D.Johnson\",\"JohnEHoude\",\"SatoshiYamaria\",\"R.D.Griffin\",\"FrankH.Eeckman\",\"M.M.Hayhoe\",\"GirishN.Patel\",\"JudeShavlik\",\"MirtaB.Gordon\",\"J.S.Denker\",\"DanHammerstrom\",\"YaserAbu-Mostafa\",\"R.A.Pearson\",\"MagnusStensmo\",\"HendricusG.Loos\",\"DavidH.Wolpert\",\"BruceMacDonald\",\"GustavoDeco\",\"J.Moody\",\"W.N.Street\",\"PeterJ.Edwards\",\"RegisCardin\",\"YvesBurnod\",\"GeraldFahner\",\"AvnerPriel\",\"GermanMato\",\"T.Kailath\",\"H.Attias\",\"GideonEInbar\",\"KennethMarko\",\"ElizabethC.Behrman\",\"VanH.Vu\",\"M.R.Walker\",\"HangLi\",\"StephaneCanu\",\"PatriceY.Simard\",\"AthanassiosSiapas\",\"JeffreyP.Sutton\",\"XuboB.Song\",\"Jong-HoonOh\",\"DedreGentner\",\"TroelsKjaer\",\"ChristopheK.I.Williams\",\"V.Vapnik\",\"DavidRumelhart\",\"ZoeF.Butler\",\"DarrenMutz\",\"HarelShouval\",\"D.Yeung\",\"JeromeConnor\",\"AlexanderRoitershtein\",\"JamesGoodwin\",\"MagnusRattray\",\"SugunaPappu\",\"JohnAllman\",\"BrendanJ.Frey\",\"GriffBilbro\",\"F.Botelho\",\"GeorgBrabant\",\"AlanD.Marts\",\"PaulHasler\",\"HelmutSchwegler\",\"LucyE.Hadden\",\"R.D.Beer\",\"ChristopherJ.Metz\",\"MarwanA.Jabri\",\"H.Ozaki\",\"KaroJim\",\"PhilippHiffiiger\",\"ChrisDiorio\",\"MakotoHirayama\",\"ScottRickard\",\"ThomasG.Dietterich\",\"F.R.Waugh\",\"LynneKiorpes\",\"HerveBourlard\",\"BradleyTonkes\",\"S.Rehfuss\",\"YasuhamKoike\",\"MichaelSchmitt\",\"MinoruAsogawa\",\"RonMeir\",\"FxnstR.Dow\",\"D.W.Opitz\",\"GeorgDorffner\",\"JasonWeston\",\"OdeliaSchwartz\",\"JeanRaysz\",\"JordanB.Pollack\",\"K.Fukumizu\",\"RonaldParr\",\"HumbertSuarez\",\"ToruOhira\",\"A.Hartstein\",\"S.R.H.Joseph\",\"J.Barhen\",\"MichaelR.Berthold\",\"MitchellGilMaltenfort\",\"M.Isard\",\"LfionPersonnaz\",\"N.S.Skantzos\",\"JoelRatsaby\",\"DavidL.Waltz\",\"NobuoSuematsu\",\"G.T.Kenyon\",\"D.L.Standley\",\"JinLuo\",\"C.L.Giles\",\"RobertTibshitani\",\"JohnE.Moody\",\"JosephO.Ruanaidh\",\"KevinR.Farrell\",\"AndrewH.Gee\",\"RebeccaRichards-Kortum\",\"EricFragniere\",\"P.Kaye\",\"KojiKotani\",\"OlivierBernier\",\"CorM.van-den-Bleek\",\"ThomasHofmann\",\"MichaelRecce\",\"AlanBlair\",\"MartinS.Glassman\",\"FernandoJ.Nunez\",\"MichalMorciniec\",\"G.J.Goodhill\",\"G.L.Heileman\",\"YoshuaBengio\",\"PaulSmolensky\",\"MartinSereno\",\"DougReeves\",\"HoracioFranco\",\"JOrgBmske\",\"Klaus-RobertMuller\",\"A.HarryKlopf\",\"Yu-MingChiang\",\"JochenBraun\",\"L.Q.Zhang\",\"H.Langenbacher\",\"MelanieMitchell\",\"PaulStolorz\",\"ClausBenkert\",\"TiloSloboda\",\"BrunoCaprile\",\"YanFang\",\"HolgerSchwenk\",\"W.E.Blanz\",\"IanT.Nabney\",\"RichardC.Windecker\",\"TimothyHoriuchi\",\"JacobEnglebrecht\",\"WesleySnyder\",\"FrancescoVivarelli\",\"BhusanGupta\",\"AlexChemjavsky\",\"GunnarRatsch\",\"GregoryJ.Wolff\",\"OferMatan\",\"RobertJ.Adler\",\"DouglasBaumgardt\",\"JeremyH.Holleman\",\"Ju-SeogJang\",\"VolodyaVovk\",\"CraigR.Nohl\",\"HaimSompolinski\",\"RainerGoebel\",\"NicolN.Schraudolph\",\"MarkSitton\",\"R.DouglasMartin\",\"TzioDarChiueh\",\"ChristofKoch\",\"MichaelS.Lewicki\",\"OjvindBernander\",\"R.Kaihara\",\"AlisterHamilton\",\"K.Rose\",\"A.J.Holmes\",\"IngoSchiegl\",\"QingnanLi\",\"JoshI.Gold\",\"TomOhira\",\"JohnD.Uhley\",\"PaulMineiro\",\"LawrenceSaul\",\"MichaelRossen\",\"EladSchneidman\",\"JosefP.Rauschecker\",\"MarcusHennecke\",\"DeanA.Pomerleau\",\"KevinJ.Lang\",\"AudreyL.Guzik\",\"R.Chu\",\"R.W.Penney\",\"AdamKrzyzak\",\"W.Porod\",\"CedricDeffayet\",\"AnthonyJ.Bell\",\"RichardM.Golden\",\"C.Nohl\",\"T.J.Sejnowski\",\"MarkE.Nelson\",\"TaiSingLee\",\"VeikkoJousmaki\",\"ChuanyiJi\",\"TheodoreJ.Perkins\",\"G.Z.Sun\",\"DavidH.Ackley\",\"MichaelHormel\",\"RalphNeuneier\",\"WyethBair\",\"RandallC.O'Reilly\",\"TonyPlate\",\"LarsKaiHansen\",\"KarlGustarson\",\"Ying-WungLee\",\"JeffBilmes\",\"RobertC.Eaton\",\"WeiminLiu\",\"FriedrichLeisch\",\"TrevorHastie\",\"DaveGillespie\",\"PierreBaraduc\",\"SamT.Roweis\",\"VolkerSteinhage\",\"L.Personnaz\",\"JamesP.Callan\",\"MichaelC.Crair\",\"ScottDavies\",\"C.I.Thorbergsson\",\"E.Niebur\",\"JohnWawrzynek\",\"JanPuzicha\",\"TalGrossman\",\"JamesE.Steck\",\"DavidL.Trotman\",\"B.Ravindran\",\"KalanitGrillSpector\",\"DanielSchwartz\",\"RodneyM.Goodman\",\"HyoungsooYoon\",\"HiroshiIshii\",\"G.Rigoll\",\"JosephG.Malpeli\",\"DavidE.Rumelhart\",\"AlexandrePouget\",\"V.Tresp\",\"MaheshVaranasi\",\"RaymondJ.W.Wang\",\"ThomasJ.Anastasio\",\"L.RichardCarley\",\"RyojiSuzuki\",\"R.S.Hubbard\",\"TrevorDarrell\",\"Chien-PingLu\",\"W.Owen\",\"S.M.Omohundro\",\"RadekGrzeszczuk\",\"AdamKowalczyk\",\"Jean-BernardTheeten\",\"CandaceKamm\",\"JaredLeinbach\",\"Jenq-NengHwang\",\"S.Sundararajan\",\"MichaelHasselmo\",\"MatthewM.Williamson\",\"JimBergen\",\"DidierHerschkowitz\",\"OdedMaron\",\"P.Tino\",\"GilletteElvgren\",\"TerrenceSejnowski\",\"EvanSteeg\",\"KiyoshiHonda\",\"ShanParfitt\",\"BehnaamAazhang\",\"RanEl-Yaniv\",\"C.A.Mead\",\"ShinichiSakata\",\"TrevorMundel\",\"PaulR.Cooper\",\"BrianD.McVey\",\"ZhiyongYang\",\"J.L.Huertas\",\"PeterJ.Angeline\",\"S.G.Lisberger\",\"C.K.Sin\",\"A.G.U.Perera\",\"JamesL.McClelland\",\"RonKeesing\",\"NandaKambhatla\",\"RichardLehrer\",\"RicardoVigario\",\"AndreasS.Weigend\",\"PaulA.Viola\",\"R.TimothyEdwards\",\"EalanA.Henis\",\"RobertFarber\",\"DavidSaad\",\"A.Rao\",\"PoHsiangChu\",\"ErnstNiebur\",\"Chiang-JungPu\",\"MatsOsterberg\",\"JakeRyan\",\"EugeneSantos\",\"LasseHolmstrom\",\"T.Furukawa\",\"RonaldL.Rivest\",\"BruceDow\",\"M.Svensen\",\"M.Veloso\",\"Rudolphvan-der-Merwe\",\"EyalYair\",\"KazukiJoe\",\"J.Shawe-Taylor\",\"TonWeijters\",\"Tzu-puHsieh\",\"RobertH.Dodier\",\"W.E.Sullivan\",\"JimHawkins\",\"JamesR.Cavanaugh\",\"LidrorTroyansky\",\"BillG.Horne\",\"Yiu-faiWong\",\"TomasLozano-Perez\",\"JacobBarhen\",\"SuthepMadarasmi\",\"MichaelLemmon\",\"DeLiangL.Wang\",\"JosephW.Goodman\",\"ArthurB.Markman\",\"K.Pawelzik\",\"TamilsLinder\",\"PaulBeckman\",\"YojiUno\",\"KennethY.Tsai\",\"KurtR.Smith\",\"L.A.Akers\",\"GiancarloFerrari-Trecate\",\"UlrichBodenhausen\",\"S.N.Laughton\",\"S.M.Rueget\",\"JoshuaAlspector\",\"R.T.Edwards\",\"ThomasKailath\",\"OliverLandolt\",\"C.D.Spence\",\"YvesMoteau\",\"VwaniP.Roychowdhury\",\"YuanshengXiong\",\"AndrewHsu\",\"SatinderP.Singh\",\"HideoKosaka\",\"RichardSchwartz\",\"E.W.Jacobs\",\"LucasParra\",\"PaolaCampadelli\",\"JurgenSchmidhuber\",\"JohnDenker\",\"J.J.Gelfand\",\"NicholasJ.Redding\",\"RoderickMurray-Smith\",\"I.Pal\",\"TrentE.Lange\",\"SimonCarlile\",\"ChristianPiepenbrock\",\"M.Konishi\",\"SiegfriedBos\",\"GerardinaHernandez\",\"KenHsu\",\"DonaldT.Freeman\",\"CarverA.Mead\",\"MichelKerszberg\",\"MatthewSaffell\",\"TimA.Hely\",\"RobertB.Allen\",\"RuthRosenholtz\",\"AdamN.Mamelak\",\"J.StephenJudd\",\"WilliamW.Lytton\",\"SuguruArimoto\",\"JamesBeck\",\"C.C.Atkeson\",\"BraceRosen\",\"WilliamSkaggs\",\"MalikMagdon-Ismail\",\"MatthiasSeeger\",\"R.Hofmann\",\"V.P.Roychowdhury\",\"CtuistophNeukirchen\",\"JoeEisenberg\",\"C.W.Thrasher\",\"R.Lee\",\"DavidB.Kirk\",\"LB.Shuvalova\",\"MarkusLappe\",\"MaximilianRiesenhuber\",\"Klaus-RobertMilllet\",\"FedericoGirosi\",\"A.NellBurgess\",\"A.E.Friedman\",\"S.J.Hanson\",\"MichaelMozer\",\"DavidJ.Burr\",\"PaulW.Munro\",\"RaviK.Sharma\",\"T.Geisel\",\"PingZhou\",\"E.Fragniere\",\"GeneGindi\",\"K.JarrodMillman\",\"MichiroNegishi\",\"OlivierCoenen\",\"CharlesSchley\",\"OliverMihatsch\",\"LizhongWu\",\"JamesM.Bower\",\"R.E.Howard\",\"Y.C.Lee\",\"TomBrashers-Krug\",\"SylvieThiria\",\"UrsA.Muller\",\"ElliotSinger\",\"CharlesM.Marcus\",\"EmanualV.Todorov\",\"R.H.Koch\",\"C.Neukirchen\",\"VaskenBohossian\",\"Y.LeCun\",\"YaserS.Abu-Mostafa\",\"ClaudeNadeau\",\"MartinLades\",\"MichaelC.Mozer\",\"MarkusMeister\",\"MitsuoKawato\",\"ScrenHalkjaer\",\"LanceWu\",\"J.Bruck\",\"RussellH.Lambert\",\"DanielL.Alkon\",\"H.N.Mhaskar\",\"DaphnaWeinshall\",\"G.Towell\",\"SumioWatanabe\",\"R.Kempter\",\"S.SathiyaKeerthi\",\"PaulS.Haynes\",\"M.Herbster\",\"HidekiNoda\",\"M.I.Jordan\",\"M.Deweese\",\"ShimonUllman\",\"CesareFurlanello\",\"JonathanD.Cohen\",\"Shih-ChiiLiu\",\"A.R.Bulsara\",\"T.Shibata\",\"Wee-KhengLeow\",\"SilvioP.Sabatini\",\"RonaldA.Sumida\",\"T.Lin\",\"EricS.Reifsnider\",\"NaohiroFukumura\",\"CsabaSzepesvfixi\",\"G.N.Borisyuk\",\"RobertWilliamson\",\"PeterD.Lawrence\",\"N.Fukumura\",\"EmmanuelGuigon\",\"A.F.Murray\",\"D.Hammerstrom\",\"NaomiTakahashi\",\"L.K.Hansen\",\"DanCornford\",\"AnsgarH.L.West\",\"ChristopherJ.C.Burges\",\"ErichWhitney\",\"S.R.Waterhouse\",\"JoydeepGhosh\",\"Soo-YoungLee\",\"RonL.Rivest\",\"Y.Singer\",\"JohnG.Milton\",\"RichardA.Andersen\",\"RichCaruana\",\"H.T.Blair\",\"JavierMovellan\",\"RolfD.Henkel\",\"P.Baldi\",\"TanPhan\",\"NikzadToomarian\",\"RaymondJ.Mooney\",\"OliverB.Downs\",\"CharlesRosenberg\",\"D.D.Lee\",\"M.Meila\",\"GraceWahba\",\"JamesA.Reggia\",\"SamuelP.M.Choi\",\"D.Saad\",\"ChulanKwon\",\"FernandoJ.Pineda\",\"SiWu\",\"GerhardPaass\",\"EricBaum\",\"MatthiasScholz\",\"DavidJ.Miller\",\"AvrimBlum\",\"AndrewGee\",\"B.A.Golomb\",\"TonyJ.Prescott\",\"TomasoA.Poggio\",\"Wei-TsihLee\",\"HansGeorgZimmermann\",\"PatLangdon\",\"YoichiHayashi\",\"DemetriPsaltis\",\"HuiTong\",\"RobertJacobs\",\"JeffreyL.Elman\",\"MikeE.U.Smith\",\"M.V.Solodov\",\"RodneyDouglas\",\"GertCauwenberghs\",\"ToshiyukiTanaka\",\"M.H.Goldstein\",\"AlexWaibel\",\"Ye.I.Kovalenko\",\"JeffreyC.Lagarias\",\"MasayukiMiyamoto\",\"SvenKoenig\",\"AllenM.Peterson\",\"RobertE.Druzinsky\",\"SaeedHadjifaradji\",\"HowardH.Yang\",\"NebojsaJojic\",\"EricI.Chang\",\"A.Jayakumar\",\"ThomasR.Shultz\",\"TerrenceL.Fine\",\"C.J.Heckman\",\"ShamKakade\",\"StephenGrossberg\",\"SantoshVenkatesh\",\"PeterT.Szymanski\",\"MonikaWoszczyna\",\"D.Shemngton\",\"ArnaudDoucet\",\"A.Orlitsky\",\"R.J.Wang\",\"JakobBernasconi\",\"SergeyIoffe\",\"MartinStemmler\",\"ManuelF.Fernandez\",\"DavidBlackman\",\"YannickPouliot\",\"MichaelL.Littman\",\"DavidKirk\",\"T.Yamashita\",\"J.W.Howse\",\"JamesWaskiewicz\",\"M.AnthonyLewis\",\"CarlosD.Brody\",\"JohnP.Donoghue\",\"JamesGlass\",\"AndreasStafylopatis\",\"MarkDerthick\",\"BarryFlower\",\"K.Homik\",\"DanielL.James\",\"ToniaG.Morris\",\"MathiasQuoy\",\"KevinLang\",\"DavidForsyth\",\"JayAlexander\",\"JaneBromley\",\"A.Krogh\",\"DavidZipser\",\"StephanieForrest\",\"DanielWillett\",\"KenneyNg\",\"J.Szymanski\",\"MichaelP.Weisend\",\"LawrenceK.Saul\",\"NicholasCamevale\",\"MichaelZibulevsky\",\"GillianMarshall\",\"GavinSmith\",\"M.Dale\",\"A.Marcantonio\",\"AndreasWeigend\",\"ChristopherConnolly\",\"ShaulHochstein\",\"StefanD.Wilke\",\"NathanIntrator\",\"KlausPawelzik\",\"JamesPittman\",\"Chan-doLee\",\"KlausObermayer\",\"TommiS.Jaakkola\",\"DanielJ.Rosen\",\"AldraWatanabe\",\"StuartMackie\",\"A.Shustorovich\",\"N.Murata\",\"T.Jaakkola\",\"DongXiang\",\"MichailZak\",\"StephenLane\",\"ScottMakeig\",\"P.ReadMontague\",\"W.Bair\",\"HarrisDmcker\",\"HerbertRoitblat\",\"AlexJ.Smola\",\"JamesT.Buchanan\",\"AndreasHerz\",\"DanielL.Ruderman\",\"EmanuelTodorov\",\"A.Rangarajan\",\"WolfgangMaass\",\"MariusUsher\",\"MichaelFinke\",\"FriedrichLeiseh\",\"WilliamBialek\",\"G.M.Kuhn\",\"RalphLinsker\",\"JohnY.Cheung\",\"H.SebastianSeung\",\"A.D.Back\",\"J.C.Houk\",\"KlausR.Pawelzik\",\"ScottFahlman\",\"JamesA.Pittman\",\"MichaelLittman\",\"PaulMunro\",\"RezaShadmehr\",\"MitsuoKomura\",\"EricGranger\",\"J.F.Shepanski\",\"TrevorJ.Darrell\",\"ShivakumarVaithyanathan\",\"AnthonyBell\",\"NicolSchraudolph\",\"RalfWessel\",\"KristinBennett\",\"DonaldMathis\",\"E.Pasero\",\"MasahikoHamno\",\"Tzyy-PingJung\",\"C.LeeGiles\",\"RodneyGoodman\",\"B.Linares-Barranco\",\"T.G.Dietterich\",\"YuedongWang\",\"AnthonyKuh\",\"BradleyC.Love\",\"K.Doya\",\"AtamP.Dhawan\",\"AdrianTrapletti\",\"PieroCosi\",\"G.T.Buracas\",\"WillardMiranker\",\"TerenceSanger\",\"JustinBoyan\",\"UdoFanst\",\"ThomasR.Hancock\",\"OttoSchmidbauer\",\"HerbertWiklicky\",\"BrianS.Blais\",\"GaryM.Kuhn\",\"W.Miller\",\"SehoOh\",\"DavidB.Grimes\",\"DanaH.Ballard\",\"Masa-akiSato\",\"ErnestFokoue\",\"FrankWerblin\",\"JohnS.Bridle\",\"MasashiSugiyama\",\"MichaelL.Chuang\",\"AndrewLippman\",\"H.MartinReekie\",\"CarverMead\",\"A.Linden\",\"S.C.Kremer\",\"AlvaroA.Cmz-Cabrara\",\"B.W.Mel\",\"C.Darken\",\"DouglasL.Reilly\",\"WilhamBialek\",\"GaleMartin\",\"PeterSykacek\",\"DirkTimmerman\",\"HynekHermansky\",\"T.D.Albright\",\"S.Pickard\",\"MarkRing\",\"P.L.Bartlett\",\"K.Schulten\",\"WilliamP.Lincoln\",\"BojanPetek\",\"H.S.Seung\",\"M.Revow\",\"MarcusHeld\",\"DavidTerman\",\"MichiakiTaniguchi\",\"GiovanniFlammia\",\"GregoryECooper\",\"W.Maass\",\"YuansongLiao\",\"MostefaGolea\",\"WilliamE.Vinje\",\"HermannHild\",\"F.Fallside\",\"RonaldRosenfeld\",\"PatrikHoyer\",\"BrianBox\",\"PeterBollmann-Sdorra\",\"SimonDennis\",\"KennethD.Miller\",\"K.Yamada\",\"MarinaMeila\",\"MichaelE.Tipping\",\"JohnF.Kolen\",\"T.Xu\",\"J.L.vanHemmen\",\"SandraPanizza\",\"HolgerSchoner\",\"M.Garzon\",\"SteveMims\",\"DonghuiCai\",\"S.Amari\",\"GlennMarion\",\"XuboSong\",\"Hsing-HenChen\",\"StephanieSeneft\",\"L.Pessoa\",\"WolframMenzel\",\"DavidTam\",\"ScottMarkel\",\"TimothyX.Brown\",\"JonathanQ.Li\",\"AoZee\",\"J.Kramer\",\"HuguesBersini\",\"D.Geiger\",\"J.Makhoul\",\"MatthewBrand\",\"ThomasK.Landauer\",\"DavidJ.C.MacKay\",\"T.P.Allen\",\"GezaGyorgyi\",\"DavidChapman\",\"SebastianB.Thrun\",\"VolkerHansen\",\"BernardoA.Huberman\",\"P.JonathonPhillips\",\"C.K.I.Williams\",\"RobertSchapire\",\"DavidJ.Crisp\",\"BrooksBisofberger\",\"JeanneTownsend\",\"DmitryRinberg\",\"CliffordLau\",\"JohnHershey\",\"DirkOrmoneit\",\"D.B.Schwartz\",\"HorstBischof\",\"EtanJ.Markus\",\"SayanMukherjee\",\"ChangfengWang\",\"BartlettMel\",\"AndreasM.Bartels\",\"D.MacKay\",\"XiuwenLiu\",\"RistoMiikkulainen\",\"JimDonnett\",\"Yee-WhyeTeh\",\"RobertC.Williamson\",\"BrianV.Bonnlander\",\"Yee-ChunLee\",\"PaulMueller\",\"ArlindoL.Oliveira\",\"SachaB.Nelson\",\"A.Cichocki\",\"PaulRhodes\",\"A.Blake\",\"SusanCiarroccaLee\",\"RobertCrites\",\"AliceChiang\",\"GregoryE.Gonye\",\"A.Dembo\",\"JitendraMalik\",\"VijaykumarGullapalli\",\"RebeccaCastafio\",\"WilliamBaxter\",\"ChristianW.Eurich\",\"GaryLynch\",\"MichaelJ.Carter\",\"TerrenceFine\",\"AlexanderMoopenn\",\"ThomasK.Miller\",\"RichardCoggins\",\"GarrisonW.Cottrell\",\"JonathanBachrach\",\"RichardH.Lathrop\",\"BrandynWebb\",\"DarrellLaham\",\"Shun-ichiAmari\",\"T.Sabisch.\",\"UpinderS.Bhalla\",\"O.Farotimi\",\"ZacharyMainen\",\"P.Dayan\",\"SteveCttien\",\"ScottE.Fahlman\",\"MichaelTunnon\",\"ManoelFernandoTenorio\",\"PaulW.Goldberg\",\"BillBaird\",\"R.P.N.Rao\",\"B.Kingsbury\",\"D.Henderson\",\"NicholasS.Flann\",\"WulframGerstner\",\"WilliamE.Skaggs\",\"AlexT.Nelson\",\"JackD.Cowan\",\"Y.Abu-Mostafa\",\"BenoitHuet\",\"KenjiDoya\",\"AndrewD.Brown\",\"DanielKersten\",\"T.Darrell\",\"RobertL.Tokar\",\"SimonJ.Thorpe\",\"AlexanderLinden\",\"X.Wang\",\"ZeevOlami\",\"P.S.Krishnaprasad\",\"J.D.Cowen\",\"TadashiShibata\",\"S.Lawrence\",\"MarkHoller\",\"ErichJ.Smythe\",\"MichaelMurray\",\"J.LeovanHemmen\",\"TomN.Todd\",\"EliotMoss\",\"Y.C.Pati\",\"RailKompe\",\"ReidR.Harrison\",\"StephanLuna\",\"LawrenceDavis\",\"MargaretSereno\",\"ThomasBriegel\",\"AlokeGuha\",\"FriedrichT.Sommex\",\"BarbaraRosario\",\"TheresaLong\",\"R.Meir\",\"ToddLeen\",\"T.Morimoto\",\"KoSakai\",\"JasonSroka\",\"MattMelton\",\"G.W.Flake\",\"AdamJ.Nucci\",\"Ronald.Rivest\",\"A.Senior\",\"AndrzejCichocki\",\"S.P.M.Choi\",\"YvesChauvin\",\"RajeshP.N.Rao\",\"H.C.Rae\",\"VictorW.Zue\",\"R.M.Westervelt\",\"SongLi\",\"DaleK.Lee\",\"VirginiaL.Stonick\",\"RichardS.Zemel\",\"StephenJoseHanson\",\"MichaelJ.Berry\",\"RalphEtienne-Cummings\",\"JacquesJ.Vidal\",\"JoosVandewalle\",\"A.Juels\",\"JuanK.Lin\",\"J.A.Marshall\",\"JanetMetcalfe\",\"ShengMa\",\"BernardoHuberman\",\"V.A.Chulaevsky\",\"T.Flash\",\"AlexRobel\",\"JaapC.Schouten\",\"S.Boes\",\"RenatoVicente\",\"RonnyMeir\",\"NelsonMorgan\",\"KurtHomik\",\"Z.Ghahramani\",\"MenasheDornay\",\"W.Zhang\",\"XinWang\",\"KarvelK.Thomber\",\"BillG.Home\",\"R.A.Grupen\",\"V.Sundareswaran\",\"TakahiroWatanabe\",\"VladimirVapnik\",\"ZiliLiu\",\"Jean-FranqoisVibert\",\"OlivierChapelle\",\"ChanthalChatterjee\",\"RobertJ.Marks\",\"MarkFanty\",\"AlexanderGrunewald\",\"HalMcCartor\",\"H.Nakahara\",\"J.AllanHobson\",\"ChristopherL.Scofield\",\"YechezkelYeshurun\",\"NathanH.Brown\",\"H.Wang\",\"ShawnR.Lockery\",\"CurtisPadgett\",\"A.Meyer-Baese\",\"S.A.Solla\",\"YakWeiss\",\"YingZhao\",\"JamesC.Houk\",\"WilliamFinnoff\",\"AndrewD.J.Cross\",\"I.Santoso\",\"RichardC.Wilson\",\"ThomasKepler\",\"YehudaSalu\",\"MichaelI.Miller\",\"J.C.Hager\",\"S.K.Khanna\",\"JakobBohr\",\"MichaelJordan\",\"RobertA.Jacobs\",\"A.B.Kirillov\",\"MichaelD.Revow\",\"ReimarHolmann\",\"MarianStewartBartlett\",\"PeterSollich\",\"M.Niranjan\",\"R.AndrewMcCallum\",\"YeshwantK.Muthusamy\",\"L.Bottou\",\"RobertCunningham\",\"LindaKukolich\",\"J.T.Buckingham\",\"JosephSirosh\",\"DavidWolpert\",\"J.Schneider\",\"RichardRohwer\",\"S.Churcher\",\"MauroBirattari\",\"A.P.Dunmur\",\"PeterDayan\",\"YongLiu\",\"JohnC.Platt\",\"KeChen\",\"DavidCohn\",\"LyleJ.Borg-Graham\",\"AbirZahalka\",\"WilliamB.Levy\",\"JanetWiles\",\"MassoudOmidvar\",\"TatsutoMurayama\",\"PhilipH.Goodman\",\"JohnBridle\",\"WilliamT.Freeman\",\"M.Leroux\",\"JustinA.Boyan\",\"EricBoussard\",\"SherrylTomboulian\",\"EricJohnson\",\"FabrizioGabbiani\",\"ThiloT.Frieg\",\"D.Ormoneit\",\"SorenBrunak\",\"V.Kadirkamanathan\",\"EricA.Hansen\",\"RichardLadnet\",\"M.Jabri\",\"EdmondoTrentin\",\"KaganTurner\"],\"author_sizes\":[1,1,3,2,1,1,1,1,3,1,1,1,1,1,1,1,1,5,1,1,1,3,1,1,1,1,1,1,1,7,1,2,3,1,1,1,1,1,1,1,1,1,1,1,1,1,1,1,1,6,1,1,1,1,2,1,1,1,8,10,1,1,1,1,1,1,11,1,2,1,1,1,1,1,1,1,1,1,3,1,1,4,1,1,1,1,2,1,1,1,1,1,1,1,1,1,1,1,1,3,1,1,2,1,1,1,2,1,2,1,1,2,1,1,1,2,3,1,3,1,3,1,2,1,3,3,1,2,1,1,1,2,1,1,1,1,1,2,1,16,1,1,1,1,1,1,1,3,1,1,1,1,1,1,1,2,1,1,1,1,2,1,1,1,2,3,2,1,1,1,2,1,1,1,1,2,1,1,7,5,1,2,3,1,1,2,1,3,1,1,1,1,1,1,3,1,21,1,1,1,1,1,1,3,1,1,1,2,1,1,1,3,1,1,6,2,1,1,2,1,1,1,1,1,1,1,1,1,1,1,2,3,4,3,1,1,1,1,1,7,1,1,1,2,1,1,1,3,1,9,2,2,2,1,1,1,1,1,1,1,1,1,2,1,1,1,1,1,1,1,3,2,1,1,2,3,1,2,1,1,1,1,1,1,1,1,2,8,1,2,4,1,1,1,10,1,1,1,1,1,1,1,1,1,1,2,1,2,1,1,1,1,1,2,1,2,4,10,1,1,4,1,1,1,1,1,2,1,1,3,1,1,1,4,1,1,1,1,2,1,1,1,1,1,1,1,1,1,2,1,2,1,1,1,1,3,2,1,1,1,1,2,3,2,1,1,2,2,2,1,1,2,1,1,1,1,1,1,1,1,1,1,1,4,1,13,1,1,1,2,1,1,2,3,1,1,1,1,2,3,1,4,2,1,2,1,2,1,5,1,1,1,1,1,1,1,1,1,1,1,1,1,1,1,1,1,1,1,2,1,1,1,1,1,1,1,1,1,2,4,1,3,1,1,1,1,1,1,1,1,1,4,1,1,2,6,1,1,1,1,1,2,1,3,1,1,2,2,1,1,1,1,1,3,1,1,1,1,1,1,1,1,1,1,1,1,4,2,1,5,1,1,2,1,1,2,1,1,2,1,1,2,1,1,1,5,1,2,1,2,1,3,1,1,3,3,1,1,1,2,1,1,1,1,1,1,1,1,1,1,2,1,1,1,1,2,1,1,1,1,1,1,3,1,8,2,1,1,1,1,1,1,1,1,1,1,1,1,1,1,1,5,1,1,1,1,2,4,2,1,1,1,1,1,1,2,1,1,1,3,1,1,1,1,1,2,1,3,2,1,1,1,2,1,1,1,3,1,1,2,2,1,3,1,1,1,2,1,2,1,4,1,1,2,1,1,1,9,1,1,3,1,1,3,2,6,2,1,1,1,1,2,1,1,1,2,1,1,1,1,2,3,1,1,1,1,1,1,2,1,2,1,1,1,1,2,1,1,1,1,1,1,1,1,1,2,1,1,1,2,1,1,1,3,1,2,1,1,3,1,1,3,1,2,8,2,1,1,1,1,1,1,1,1,1,1,1,1,1,2,2,2,1,6,1,1,1,1,1,1,1,1,1,2,1,1,1,1,1,1,1,1,7,3,2,3,1,1,3,1,1,1,1,1,2,1,1,1,2,1,1,1,2,1,1,1,1,1,2,1,1,2,1,1,1,1,1,3,1,1,2,5,1,1,1,1,1,1,1,1,2,1,1,1,1,1,1,2,1,1,3,2,1,1,1,1,1,1,1,5,4,6,1,1,3,4,2,1,1,2,2,1,1,9,1,2,1,1,1,1,1,1,1,1,1,1,1,1,1,2,1,2,1,1,1,1,1,1,2,1,6,1,1,1,1,1,2,1,1,1,1,1,6,1,1,1,2,1,4,1,1,1,1,3,1,1,2,1,3,1,1,1,1,1,3,1,1,1,1,1,1,2,3,1,1,1,1,1,1,1,1,2,6,1,5,1,1,1,1,1,3,1,2,1,1,1,1,4,1,3,1,1,3,1,4,1,1,1,1,1,2,1,1,1,1,2,1,1,2,8,1,2,1,1,2,1,1,1,2,2,1,1,1,2,1,2,2,1,1,1,3,1,1,4,1,2,1,1,1,4,1,1,2,1,1,1,1,1,1,1,1,1,1,2,1,2,1,1,1,1,2,2,1,1,1,1,1,1,1,1,1,1,1,1,1,10,4,1,1,5,2,1,1,1,6,1,1,1,1,1,1,1,7,1,1,2,1,7,1,11,1,1,1,1,1,1,1,7,1,2,1,1,1,1,1,1,1,3,1,1,1,1,2,3,1,1,1,1,1,1,1,1,1,3,1,1,1,1,1,1,2,1,1,1,1,1,1,2,1,1,1,2,1,1,8,1,2,3,1,1,1,1,2,1,2,2,7,1,1,1,1,3,1,1,31,3,4,1,4,1,1,1,2,1,1,4,2,6,3,1,2,1,1,1,2,1,1,1,1,1,1,1,1,1,1,1,1,1,2,2,1,1,1,1,1,1,1,1,1,1,3,1,2,1,2,3,2,4,1,1,1,1,1,1,1,1,5,2,1,1,1,1,1,1,2,1,1,1,1,1,1,1,1,1,1,1,3,1,1,1,1,2,1,1,2,1,2,1,2,3,1,3,2,1,1,1,1,1,1,2,1,1,1,1,3,2,1,1,1,1,1,1,7,1,1,3,1,1,1,1,1,1,5,2,1,1,1,1,1,2,1,1,2,1,1,3,1,1,1,1,1,1,1,11,2,3,1,3,1,5,4,3,1,1,1,1,1,1,1,1,1,1,2,1,2,3,1,1,2,6,1,1,1,7,1,1,3,2,1,1,1,1,1,1,1,1,1,1,1,1,1,1,1,1,1,1,2,1,1,3,1,3,1,1,1,1,3,1,1,1,1,1,1,1,1,1,1,1,1,2,1,2,1,2,1,1,1,1,1,2,1,1,1,3,1,2,1,1,2,1,1,1,1,1,1,1,1,1,1,1,1,1,1,2,1,1,1,1,1,1,1,1,3,4,1,1,1,1,1,1,1,1,1,1,1,1,1,1,1,1,1,2,1,1,1,2,1,1,1,1,1,1,1,1,1,1,2,2,2,1,1,1,1,4,1,1,1,6,1,2,1,1,1,2,1,1,1,1,1,1,2,2,5,1,1,1,1,2,1,2,2,1,1,1,1,1,2,9,1,1,1,3,1,1,1,1,1,1,1,2,1,2,1,2,1,1,1,6,1,1,1,1,1,1,1,1,3,1,1,1,1,1,1,1,1,1,1,1,2,1,1,2,1,1,2,1,2,1,1,2,1,1,1,1,1,1,1,1,1,1,1,1,3,1,1,3,1,5,1,2,1,2,1,3,1,1,1,2,1,1,1,1,3,1,1,1,1,1,1,1,1,4,1,2,1,3,1,1,1,3,3,1,1,1,1,2,1,1,1,1,1,4,4,1,1,2,3,1,1,1,1,3,1,1,1,1,3,1,3,1,1,3,1,1,1,1,1,4,1,1,3,2,1,1,3,1,4,1,1,1,1,1,1,1,1,1,1,1,1,2,1,1,3,2,1,8,1,1,1,1,1,1,1,1,1,4,1,1,1,1,1,1,1,14,5,1,1,3,1,4,1,1,2,1,1,1,1,1,1,1,1,2,1,2,1,3,1,1,2,1,1,4,3,1,1,1,1,2,1,1,1,1,4,1,1,1,24,6,2,1,3,1,1,1,1,1,1,1,2,3,1,1,1,1,4,1,1,1,1,2,1,1,3,2,1,11,4,1,1,4,1,2,2,1,6,4,1,1,3,1,1,1,1,1,1,4,1,1,1,1,1,1,1,1,1,1,2,2,3,1,1,1,1,1,6,1,1,1,1,2,8,2,1,1,2,1,2,1,3,1,1,1,1,3,1,1,1,1,1,1,1,1,1,2,1,1,1,1,1,1,1,1,2,1,1,1,1,1,1,1,1,1,1,4,3,2,1,1,2,5,2,1,2,9,1,1,2,1,1,1,1,1,1,1,1,1,1,1,1,1,1,1,1,1,1,1,1,1,4,1,1,1,1,2,3,2,1,1,2,1,2,1,1,1,1,1,1,1,4,1,3,1,1,1,1,1,1,6,1,2,1,2,1,5,2,1,1,1,1,2,2,2,1,1,1,1,1,1,2,1,1,2,1,2,1,1,1,1,1,1,1,2,1,1,2,1,1,1,1,2,1,1,2,1,2,1,3,1,2,2,6,1,1,1,1,2,1,1,1,1,2,1,10,3,5,2,1,1,1,1,2,1,1,1,2,3,1,1,18,1,10,1,1,1,1,1,1,5,1,3,1,1,1,1,1,5,1,2,1,2,3,1,1,1,1,1,1,1,1,1,1,2,1,1,1,2,1,1,1,1,1,3,1,3,1,3,1,1,1,1,1,1,3,1,1,1,2,1,1,1,1,1,2,2,1,2,1,4,1,2,1,1,1,1,1,1,1,1,2,2,1,1,2,1,1,1,1,1,2,6,1,1,11,1,1,1,1,1,1,1,4,1,2,1,1,3,1,1,2,2,1,1,1,2,1,1,1,1,2,1,1,1,1,1,1,1,1,1,2,1,2,1,1,2,1,1,1,1,1,1,1,1,2,1,1,1,1,1,1,3,1,1,1,1,1,1,1,1,1,1,5,2,1,1,8,1,1,1,1,1,1,1,1,1,1,2,1,1,1,1,4,1,1,4,1,2,8,2,2,1,4,1,3,1,7,1,2,1,1,1,1,1,4,1,1,1,1,1,2,1,1,1,1,1,1,2,9,3,1,1,1,3,1,2,1,1,1,1,1,2,1,1,1,2,1,1,1,1,1,1,4,1,1,1,3,1,1,3,2,3,1,1,1,1,1,1,3,1,2,1,1,1,1,2,1,3,1,1,2,1,3,1,1,1,1,1,1,2,1,2,2,2,2,1,1,1,2,1,3,3,1,1,2,1,1,1,1,1,2,1,1,4,1,1,1,1,1,3,1,1,1,1,1,1,1,1,5,1,1,1,2,1,1,1,2,2,2,1,1,1,1,1,1,1,1,1,1,2,1,1,1,1,3,1,1,4,1,2,2,1,1,2,1,1,1,1,1,1,2,1,2,1,1,1,1,1,1,1,1,2,6,2,1,1,1,7,1,1,1,1,2,1,1,1,1,1,6,1,1,4,1,3,1,2,6,1,1,5,1,2,1,1,1,1,1,1,1,3,1,1,1,1,1,2,1,2,1,1,1,1,1,1,3,2,1,1,1,1,1,1,1,1,1,1,1,1,1,1,1,6,3,1,1,3,1,2,1,10,2,1,3,2,1,1,2,1,1,2,1,1,1,1,1,1,1,3,5,1,1,1,1,1,1,1,1,1,2,4,2,1,2,1,3,2,1,1,1,2,2,1,1,1,2,1,1,2,1,3,1,2,2,1,2,1,1,1,1,1,1,2,2,1,3,1,1,8,1,1,1,1,1,1,1,1,2,1,3,1,1,1,16,2,9,1,4,1,1,1,6,1,1,1,1,5,1,1,1,1,1,1,1,1,2,2,2,1,1,1,1],\"radii\":[0.1,0.1,0.30000000000000004,0.2,0.1,0.1,0.1,0.1,0.30000000000000004,0.1,0.1,0.1,0.1,0.1,0.1,0.1,0.1,0.5,0.1,0.1,0.1,0.30000000000000004,0.1,0.1,0.1,0.1,0.1,0.1,0.1,0.7000000000000001,0.1,0.2,0.30000000000000004,0.1,0.1,0.1,0.1,0.1,0.1,0.1,0.1,0.1,0.1,0.1,0.1,0.1,0.1,0.1,0.1,0.6000000000000001,0.1,0.1,0.1,0.1,0.2,0.1,0.1,0.1,0.8,1.0,0.1,0.1,0.1,0.1,0.1,0.1,1.1,0.1,0.2,0.1,0.1,0.1,0.1,0.1,0.1,0.1,0.1,0.1,0.30000000000000004,0.1,0.1,0.4,0.1,0.1,0.1,0.1,0.2,0.1,0.1,0.1,0.1,0.1,0.1,0.1,0.1,0.1,0.1,0.1,0.1,0.30000000000000004,0.1,0.1,0.2,0.1,0.1,0.1,0.2,0.1,0.2,0.1,0.1,0.2,0.1,0.1,0.1,0.2,0.30000000000000004,0.1,0.30000000000000004,0.1,0.30000000000000004,0.1,0.2,0.1,0.30000000000000004,0.30000000000000004,0.1,0.2,0.1,0.1,0.1,0.2,0.1,0.1,0.1,0.1,0.1,0.2,0.1,1.6,0.1,0.1,0.1,0.1,0.1,0.1,0.1,0.30000000000000004,0.1,0.1,0.1,0.1,0.1,0.1,0.1,0.2,0.1,0.1,0.1,0.1,0.2,0.1,0.1,0.1,0.2,0.30000000000000004,0.2,0.1,0.1,0.1,0.2,0.1,0.1,0.1,0.1,0.2,0.1,0.1,0.7000000000000001,0.5,0.1,0.2,0.30000000000000004,0.1,0.1,0.2,0.1,0.30000000000000004,0.1,0.1,0.1,0.1,0.1,0.1,0.30000000000000004,0.1,2.1,0.1,0.1,0.1,0.1,0.1,0.1,0.30000000000000004,0.1,0.1,0.1,0.2,0.1,0.1,0.1,0.30000000000000004,0.1,0.1,0.6000000000000001,0.2,0.1,0.1,0.2,0.1,0.1,0.1,0.1,0.1,0.1,0.1,0.1,0.1,0.1,0.1,0.2,0.30000000000000004,0.4,0.30000000000000004,0.1,0.1,0.1,0.1,0.1,0.7000000000000001,0.1,0.1,0.1,0.2,0.1,0.1,0.1,0.30000000000000004,0.1,0.9,0.2,0.2,0.2,0.1,0.1,0.1,0.1,0.1,0.1,0.1,0.1,0.1,0.2,0.1,0.1,0.1,0.1,0.1,0.1,0.1,0.30000000000000004,0.2,0.1,0.1,0.2,0.30000000000000004,0.1,0.2,0.1,0.1,0.1,0.1,0.1,0.1,0.1,0.1,0.2,0.8,0.1,0.2,0.4,0.1,0.1,0.1,1.0,0.1,0.1,0.1,0.1,0.1,0.1,0.1,0.1,0.1,0.1,0.2,0.1,0.2,0.1,0.1,0.1,0.1,0.1,0.2,0.1,0.2,0.4,1.0,0.1,0.1,0.4,0.1,0.1,0.1,0.1,0.1,0.2,0.1,0.1,0.30000000000000004,0.1,0.1,0.1,0.4,0.1,0.1,0.1,0.1,0.2,0.1,0.1,0.1,0.1,0.1,0.1,0.1,0.1,0.1,0.2,0.1,0.2,0.1,0.1,0.1,0.1,0.30000000000000004,0.2,0.1,0.1,0.1,0.1,0.2,0.30000000000000004,0.2,0.1,0.1,0.2,0.2,0.2,0.1,0.1,0.2,0.1,0.1,0.1,0.1,0.1,0.1,0.1,0.1,0.1,0.1,0.1,0.4,0.1,1.3,0.1,0.1,0.1,0.2,0.1,0.1,0.2,0.30000000000000004,0.1,0.1,0.1,0.1,0.2,0.30000000000000004,0.1,0.4,0.2,0.1,0.2,0.1,0.2,0.1,0.5,0.1,0.1,0.1,0.1,0.1,0.1,0.1,0.1,0.1,0.1,0.1,0.1,0.1,0.1,0.1,0.1,0.1,0.1,0.1,0.2,0.1,0.1,0.1,0.1,0.1,0.1,0.1,0.1,0.1,0.2,0.4,0.1,0.30000000000000004,0.1,0.1,0.1,0.1,0.1,0.1,0.1,0.1,0.1,0.4,0.1,0.1,0.2,0.6000000000000001,0.1,0.1,0.1,0.1,0.1,0.2,0.1,0.30000000000000004,0.1,0.1,0.2,0.2,0.1,0.1,0.1,0.1,0.1,0.30000000000000004,0.1,0.1,0.1,0.1,0.1,0.1,0.1,0.1,0.1,0.1,0.1,0.1,0.4,0.2,0.1,0.5,0.1,0.1,0.2,0.1,0.1,0.2,0.1,0.1,0.2,0.1,0.1,0.2,0.1,0.1,0.1,0.5,0.1,0.2,0.1,0.2,0.1,0.30000000000000004,0.1,0.1,0.30000000000000004,0.30000000000000004,0.1,0.1,0.1,0.2,0.1,0.1,0.1,0.1,0.1,0.1,0.1,0.1,0.1,0.1,0.2,0.1,0.1,0.1,0.1,0.2,0.1,0.1,0.1,0.1,0.1,0.1,0.30000000000000004,0.1,0.8,0.2,0.1,0.1,0.1,0.1,0.1,0.1,0.1,0.1,0.1,0.1,0.1,0.1,0.1,0.1,0.1,0.5,0.1,0.1,0.1,0.1,0.2,0.4,0.2,0.1,0.1,0.1,0.1,0.1,0.1,0.2,0.1,0.1,0.1,0.30000000000000004,0.1,0.1,0.1,0.1,0.1,0.2,0.1,0.30000000000000004,0.2,0.1,0.1,0.1,0.2,0.1,0.1,0.1,0.30000000000000004,0.1,0.1,0.2,0.2,0.1,0.30000000000000004,0.1,0.1,0.1,0.2,0.1,0.2,0.1,0.4,0.1,0.1,0.2,0.1,0.1,0.1,0.9,0.1,0.1,0.30000000000000004,0.1,0.1,0.30000000000000004,0.2,0.6000000000000001,0.2,0.1,0.1,0.1,0.1,0.2,0.1,0.1,0.1,0.2,0.1,0.1,0.1,0.1,0.2,0.30000000000000004,0.1,0.1,0.1,0.1,0.1,0.1,0.2,0.1,0.2,0.1,0.1,0.1,0.1,0.2,0.1,0.1,0.1,0.1,0.1,0.1,0.1,0.1,0.1,0.2,0.1,0.1,0.1,0.2,0.1,0.1,0.1,0.30000000000000004,0.1,0.2,0.1,0.1,0.30000000000000004,0.1,0.1,0.30000000000000004,0.1,0.2,0.8,0.2,0.1,0.1,0.1,0.1,0.1,0.1,0.1,0.1,0.1,0.1,0.1,0.1,0.1,0.2,0.2,0.2,0.1,0.6000000000000001,0.1,0.1,0.1,0.1,0.1,0.1,0.1,0.1,0.1,0.2,0.1,0.1,0.1,0.1,0.1,0.1,0.1,0.1,0.7000000000000001,0.30000000000000004,0.2,0.30000000000000004,0.1,0.1,0.30000000000000004,0.1,0.1,0.1,0.1,0.1,0.2,0.1,0.1,0.1,0.2,0.1,0.1,0.1,0.2,0.1,0.1,0.1,0.1,0.1,0.2,0.1,0.1,0.2,0.1,0.1,0.1,0.1,0.1,0.30000000000000004,0.1,0.1,0.2,0.5,0.1,0.1,0.1,0.1,0.1,0.1,0.1,0.1,0.2,0.1,0.1,0.1,0.1,0.1,0.1,0.2,0.1,0.1,0.30000000000000004,0.2,0.1,0.1,0.1,0.1,0.1,0.1,0.1,0.5,0.4,0.6000000000000001,0.1,0.1,0.30000000000000004,0.4,0.2,0.1,0.1,0.2,0.2,0.1,0.1,0.9,0.1,0.2,0.1,0.1,0.1,0.1,0.1,0.1,0.1,0.1,0.1,0.1,0.1,0.1,0.1,0.2,0.1,0.2,0.1,0.1,0.1,0.1,0.1,0.1,0.2,0.1,0.6000000000000001,0.1,0.1,0.1,0.1,0.1,0.2,0.1,0.1,0.1,0.1,0.1,0.6000000000000001,0.1,0.1,0.1,0.2,0.1,0.4,0.1,0.1,0.1,0.1,0.30000000000000004,0.1,0.1,0.2,0.1,0.30000000000000004,0.1,0.1,0.1,0.1,0.1,0.30000000000000004,0.1,0.1,0.1,0.1,0.1,0.1,0.2,0.30000000000000004,0.1,0.1,0.1,0.1,0.1,0.1,0.1,0.1,0.2,0.6000000000000001,0.1,0.5,0.1,0.1,0.1,0.1,0.1,0.30000000000000004,0.1,0.2,0.1,0.1,0.1,0.1,0.4,0.1,0.30000000000000004,0.1,0.1,0.30000000000000004,0.1,0.4,0.1,0.1,0.1,0.1,0.1,0.2,0.1,0.1,0.1,0.1,0.2,0.1,0.1,0.2,0.8,0.1,0.2,0.1,0.1,0.2,0.1,0.1,0.1,0.2,0.2,0.1,0.1,0.1,0.2,0.1,0.2,0.2,0.1,0.1,0.1,0.30000000000000004,0.1,0.1,0.4,0.1,0.2,0.1,0.1,0.1,0.4,0.1,0.1,0.2,0.1,0.1,0.1,0.1,0.1,0.1,0.1,0.1,0.1,0.1,0.2,0.1,0.2,0.1,0.1,0.1,0.1,0.2,0.2,0.1,0.1,0.1,0.1,0.1,0.1,0.1,0.1,0.1,0.1,0.1,0.1,0.1,1.0,0.4,0.1,0.1,0.5,0.2,0.1,0.1,0.1,0.6000000000000001,0.1,0.1,0.1,0.1,0.1,0.1,0.1,0.7000000000000001,0.1,0.1,0.2,0.1,0.7000000000000001,0.1,1.1,0.1,0.1,0.1,0.1,0.1,0.1,0.1,0.7000000000000001,0.1,0.2,0.1,0.1,0.1,0.1,0.1,0.1,0.1,0.30000000000000004,0.1,0.1,0.1,0.1,0.2,0.30000000000000004,0.1,0.1,0.1,0.1,0.1,0.1,0.1,0.1,0.1,0.30000000000000004,0.1,0.1,0.1,0.1,0.1,0.1,0.2,0.1,0.1,0.1,0.1,0.1,0.1,0.2,0.1,0.1,0.1,0.2,0.1,0.1,0.8,0.1,0.2,0.30000000000000004,0.1,0.1,0.1,0.1,0.2,0.1,0.2,0.2,0.7000000000000001,0.1,0.1,0.1,0.1,0.30000000000000004,0.1,0.1,3.1,0.30000000000000004,0.4,0.1,0.4,0.1,0.1,0.1,0.2,0.1,0.1,0.4,0.2,0.6000000000000001,0.30000000000000004,0.1,0.2,0.1,0.1,0.1,0.2,0.1,0.1,0.1,0.1,0.1,0.1,0.1,0.1,0.1,0.1,0.1,0.1,0.1,0.2,0.2,0.1,0.1,0.1,0.1,0.1,0.1,0.1,0.1,0.1,0.1,0.30000000000000004,0.1,0.2,0.1,0.2,0.30000000000000004,0.2,0.4,0.1,0.1,0.1,0.1,0.1,0.1,0.1,0.1,0.5,0.2,0.1,0.1,0.1,0.1,0.1,0.1,0.2,0.1,0.1,0.1,0.1,0.1,0.1,0.1,0.1,0.1,0.1,0.1,0.30000000000000004,0.1,0.1,0.1,0.1,0.2,0.1,0.1,0.2,0.1,0.2,0.1,0.2,0.30000000000000004,0.1,0.30000000000000004,0.2,0.1,0.1,0.1,0.1,0.1,0.1,0.2,0.1,0.1,0.1,0.1,0.30000000000000004,0.2,0.1,0.1,0.1,0.1,0.1,0.1,0.7000000000000001,0.1,0.1,0.30000000000000004,0.1,0.1,0.1,0.1,0.1,0.1,0.5,0.2,0.1,0.1,0.1,0.1,0.1,0.2,0.1,0.1,0.2,0.1,0.1,0.30000000000000004,0.1,0.1,0.1,0.1,0.1,0.1,0.1,1.1,0.2,0.30000000000000004,0.1,0.30000000000000004,0.1,0.5,0.4,0.30000000000000004,0.1,0.1,0.1,0.1,0.1,0.1,0.1,0.1,0.1,0.1,0.2,0.1,0.2,0.30000000000000004,0.1,0.1,0.2,0.6000000000000001,0.1,0.1,0.1,0.7000000000000001,0.1,0.1,0.30000000000000004,0.2,0.1,0.1,0.1,0.1,0.1,0.1,0.1,0.1,0.1,0.1,0.1,0.1,0.1,0.1,0.1,0.1,0.1,0.1,0.2,0.1,0.1,0.30000000000000004,0.1,0.30000000000000004,0.1,0.1,0.1,0.1,0.30000000000000004,0.1,0.1,0.1,0.1,0.1,0.1,0.1,0.1,0.1,0.1,0.1,0.1,0.2,0.1,0.2,0.1,0.2,0.1,0.1,0.1,0.1,0.1,0.2,0.1,0.1,0.1,0.30000000000000004,0.1,0.2,0.1,0.1,0.2,0.1,0.1,0.1,0.1,0.1,0.1,0.1,0.1,0.1,0.1,0.1,0.1,0.1,0.1,0.2,0.1,0.1,0.1,0.1,0.1,0.1,0.1,0.1,0.30000000000000004,0.4,0.1,0.1,0.1,0.1,0.1,0.1,0.1,0.1,0.1,0.1,0.1,0.1,0.1,0.1,0.1,0.1,0.1,0.2,0.1,0.1,0.1,0.2,0.1,0.1,0.1,0.1,0.1,0.1,0.1,0.1,0.1,0.1,0.2,0.2,0.2,0.1,0.1,0.1,0.1,0.4,0.1,0.1,0.1,0.6000000000000001,0.1,0.2,0.1,0.1,0.1,0.2,0.1,0.1,0.1,0.1,0.1,0.1,0.2,0.2,0.5,0.1,0.1,0.1,0.1,0.2,0.1,0.2,0.2,0.1,0.1,0.1,0.1,0.1,0.2,0.9,0.1,0.1,0.1,0.30000000000000004,0.1,0.1,0.1,0.1,0.1,0.1,0.1,0.2,0.1,0.2,0.1,0.2,0.1,0.1,0.1,0.6000000000000001,0.1,0.1,0.1,0.1,0.1,0.1,0.1,0.1,0.30000000000000004,0.1,0.1,0.1,0.1,0.1,0.1,0.1,0.1,0.1,0.1,0.1,0.2,0.1,0.1,0.2,0.1,0.1,0.2,0.1,0.2,0.1,0.1,0.2,0.1,0.1,0.1,0.1,0.1,0.1,0.1,0.1,0.1,0.1,0.1,0.1,0.30000000000000004,0.1,0.1,0.30000000000000004,0.1,0.5,0.1,0.2,0.1,0.2,0.1,0.30000000000000004,0.1,0.1,0.1,0.2,0.1,0.1,0.1,0.1,0.30000000000000004,0.1,0.1,0.1,0.1,0.1,0.1,0.1,0.1,0.4,0.1,0.2,0.1,0.30000000000000004,0.1,0.1,0.1,0.30000000000000004,0.30000000000000004,0.1,0.1,0.1,0.1,0.2,0.1,0.1,0.1,0.1,0.1,0.4,0.4,0.1,0.1,0.2,0.30000000000000004,0.1,0.1,0.1,0.1,0.30000000000000004,0.1,0.1,0.1,0.1,0.30000000000000004,0.1,0.30000000000000004,0.1,0.1,0.30000000000000004,0.1,0.1,0.1,0.1,0.1,0.4,0.1,0.1,0.30000000000000004,0.2,0.1,0.1,0.30000000000000004,0.1,0.4,0.1,0.1,0.1,0.1,0.1,0.1,0.1,0.1,0.1,0.1,0.1,0.1,0.2,0.1,0.1,0.30000000000000004,0.2,0.1,0.8,0.1,0.1,0.1,0.1,0.1,0.1,0.1,0.1,0.1,0.4,0.1,0.1,0.1,0.1,0.1,0.1,0.1,1.4000000000000001,0.5,0.1,0.1,0.30000000000000004,0.1,0.4,0.1,0.1,0.2,0.1,0.1,0.1,0.1,0.1,0.1,0.1,0.1,0.2,0.1,0.2,0.1,0.30000000000000004,0.1,0.1,0.2,0.1,0.1,0.4,0.30000000000000004,0.1,0.1,0.1,0.1,0.2,0.1,0.1,0.1,0.1,0.4,0.1,0.1,0.1,2.4000000000000004,0.6000000000000001,0.2,0.1,0.30000000000000004,0.1,0.1,0.1,0.1,0.1,0.1,0.1,0.2,0.30000000000000004,0.1,0.1,0.1,0.1,0.4,0.1,0.1,0.1,0.1,0.2,0.1,0.1,0.30000000000000004,0.2,0.1,1.1,0.4,0.1,0.1,0.4,0.1,0.2,0.2,0.1,0.6000000000000001,0.4,0.1,0.1,0.30000000000000004,0.1,0.1,0.1,0.1,0.1,0.1,0.4,0.1,0.1,0.1,0.1,0.1,0.1,0.1,0.1,0.1,0.1,0.2,0.2,0.30000000000000004,0.1,0.1,0.1,0.1,0.1,0.6000000000000001,0.1,0.1,0.1,0.1,0.2,0.8,0.2,0.1,0.1,0.2,0.1,0.2,0.1,0.30000000000000004,0.1,0.1,0.1,0.1,0.30000000000000004,0.1,0.1,0.1,0.1,0.1,0.1,0.1,0.1,0.1,0.2,0.1,0.1,0.1,0.1,0.1,0.1,0.1,0.1,0.2,0.1,0.1,0.1,0.1,0.1,0.1,0.1,0.1,0.1,0.1,0.4,0.30000000000000004,0.2,0.1,0.1,0.2,0.5,0.2,0.1,0.2,0.9,0.1,0.1,0.2,0.1,0.1,0.1,0.1,0.1,0.1,0.1,0.1,0.1,0.1,0.1,0.1,0.1,0.1,0.1,0.1,0.1,0.1,0.1,0.1,0.1,0.4,0.1,0.1,0.1,0.1,0.2,0.30000000000000004,0.2,0.1,0.1,0.2,0.1,0.2,0.1,0.1,0.1,0.1,0.1,0.1,0.1,0.4,0.1,0.30000000000000004,0.1,0.1,0.1,0.1,0.1,0.1,0.6000000000000001,0.1,0.2,0.1,0.2,0.1,0.5,0.2,0.1,0.1,0.1,0.1,0.2,0.2,0.2,0.1,0.1,0.1,0.1,0.1,0.1,0.2,0.1,0.1,0.2,0.1,0.2,0.1,0.1,0.1,0.1,0.1,0.1,0.1,0.2,0.1,0.1,0.2,0.1,0.1,0.1,0.1,0.2,0.1,0.1,0.2,0.1,0.2,0.1,0.30000000000000004,0.1,0.2,0.2,0.6000000000000001,0.1,0.1,0.1,0.1,0.2,0.1,0.1,0.1,0.1,0.2,0.1,1.0,0.30000000000000004,0.5,0.2,0.1,0.1,0.1,0.1,0.2,0.1,0.1,0.1,0.2,0.30000000000000004,0.1,0.1,1.8,0.1,1.0,0.1,0.1,0.1,0.1,0.1,0.1,0.5,0.1,0.30000000000000004,0.1,0.1,0.1,0.1,0.1,0.5,0.1,0.2,0.1,0.2,0.30000000000000004,0.1,0.1,0.1,0.1,0.1,0.1,0.1,0.1,0.1,0.1,0.2,0.1,0.1,0.1,0.2,0.1,0.1,0.1,0.1,0.1,0.30000000000000004,0.1,0.30000000000000004,0.1,0.30000000000000004,0.1,0.1,0.1,0.1,0.1,0.1,0.30000000000000004,0.1,0.1,0.1,0.2,0.1,0.1,0.1,0.1,0.1,0.2,0.2,0.1,0.2,0.1,0.4,0.1,0.2,0.1,0.1,0.1,0.1,0.1,0.1,0.1,0.1,0.2,0.2,0.1,0.1,0.2,0.1,0.1,0.1,0.1,0.1,0.2,0.6000000000000001,0.1,0.1,1.1,0.1,0.1,0.1,0.1,0.1,0.1,0.1,0.4,0.1,0.2,0.1,0.1,0.30000000000000004,0.1,0.1,0.2,0.2,0.1,0.1,0.1,0.2,0.1,0.1,0.1,0.1,0.2,0.1,0.1,0.1,0.1,0.1,0.1,0.1,0.1,0.1,0.2,0.1,0.2,0.1,0.1,0.2,0.1,0.1,0.1,0.1,0.1,0.1,0.1,0.1,0.2,0.1,0.1,0.1,0.1,0.1,0.1,0.30000000000000004,0.1,0.1,0.1,0.1,0.1,0.1,0.1,0.1,0.1,0.1,0.5,0.2,0.1,0.1,0.8,0.1,0.1,0.1,0.1,0.1,0.1,0.1,0.1,0.1,0.1,0.2,0.1,0.1,0.1,0.1,0.4,0.1,0.1,0.4,0.1,0.2,0.8,0.2,0.2,0.1,0.4,0.1,0.30000000000000004,0.1,0.7000000000000001,0.1,0.2,0.1,0.1,0.1,0.1,0.1,0.4,0.1,0.1,0.1,0.1,0.1,0.2,0.1,0.1,0.1,0.1,0.1,0.1,0.2,0.9,0.30000000000000004,0.1,0.1,0.1,0.30000000000000004,0.1,0.2,0.1,0.1,0.1,0.1,0.1,0.2,0.1,0.1,0.1,0.2,0.1,0.1,0.1,0.1,0.1,0.1,0.4,0.1,0.1,0.1,0.30000000000000004,0.1,0.1,0.30000000000000004,0.2,0.30000000000000004,0.1,0.1,0.1,0.1,0.1,0.1,0.30000000000000004,0.1,0.2,0.1,0.1,0.1,0.1,0.2,0.1,0.30000000000000004,0.1,0.1,0.2,0.1,0.30000000000000004,0.1,0.1,0.1,0.1,0.1,0.1,0.2,0.1,0.2,0.2,0.2,0.2,0.1,0.1,0.1,0.2,0.1,0.30000000000000004,0.30000000000000004,0.1,0.1,0.2,0.1,0.1,0.1,0.1,0.1,0.2,0.1,0.1,0.4,0.1,0.1,0.1,0.1,0.1,0.30000000000000004,0.1,0.1,0.1,0.1,0.1,0.1,0.1,0.1,0.5,0.1,0.1,0.1,0.2,0.1,0.1,0.1,0.2,0.2,0.2,0.1,0.1,0.1,0.1,0.1,0.1,0.1,0.1,0.1,0.1,0.2,0.1,0.1,0.1,0.1,0.30000000000000004,0.1,0.1,0.4,0.1,0.2,0.2,0.1,0.1,0.2,0.1,0.1,0.1,0.1,0.1,0.1,0.2,0.1,0.2,0.1,0.1,0.1,0.1,0.1,0.1,0.1,0.1,0.2,0.6000000000000001,0.2,0.1,0.1,0.1,0.7000000000000001,0.1,0.1,0.1,0.1,0.2,0.1,0.1,0.1,0.1,0.1,0.6000000000000001,0.1,0.1,0.4,0.1,0.30000000000000004,0.1,0.2,0.6000000000000001,0.1,0.1,0.5,0.1,0.2,0.1,0.1,0.1,0.1,0.1,0.1,0.1,0.30000000000000004,0.1,0.1,0.1,0.1,0.1,0.2,0.1,0.2,0.1,0.1,0.1,0.1,0.1,0.1,0.30000000000000004,0.2,0.1,0.1,0.1,0.1,0.1,0.1,0.1,0.1,0.1,0.1,0.1,0.1,0.1,0.1,0.1,0.6000000000000001,0.30000000000000004,0.1,0.1,0.30000000000000004,0.1,0.2,0.1,1.0,0.2,0.1,0.30000000000000004,0.2,0.1,0.1,0.2,0.1,0.1,0.2,0.1,0.1,0.1,0.1,0.1,0.1,0.1,0.30000000000000004,0.5,0.1,0.1,0.1,0.1,0.1,0.1,0.1,0.1,0.1,0.2,0.4,0.2,0.1,0.2,0.1,0.30000000000000004,0.2,0.1,0.1,0.1,0.2,0.2,0.1,0.1,0.1,0.2,0.1,0.1,0.2,0.1,0.30000000000000004,0.1,0.2,0.2,0.1,0.2,0.1,0.1,0.1,0.1,0.1,0.1,0.2,0.2,0.1,0.30000000000000004,0.1,0.1,0.8,0.1,0.1,0.1,0.1,0.1,0.1,0.1,0.1,0.2,0.1,0.30000000000000004,0.1,0.1,0.1,1.6,0.2,0.9,0.1,0.4,0.1,0.1,0.1,0.6000000000000001,0.1,0.1,0.1,0.1,0.5,0.1,0.1,0.1,0.1,0.1,0.1,0.1,0.1,0.2,0.2,0.2,0.1,0.1,0.1,0.1],\"x\":[-3.512376327319423,-7.573826920416016,-15.657080710568477,0.8886360112703541,-11.857091293570692,2.8819434230506986,-10.861958209969991,7.340834118068339,4.373354515455219,11.162149411811766,3.372858174839142,5.504568119584854,4.083277353126485,5.64558156629048,10.694315167236743,10.07407169726308,-4.56727853397035,-8.153249848596033,-4.987305457386152,-12.178428226901623,-0.45191719837854666,-5.601388283302114,-5.7447782295106276,-11.367444962827783,-5.794383231471599,-3.4992124518569034,-5.30372769807904,-0.5319134761382343,-0.9307835379887835,-4.185485206942036,-1.2820603335098075,-15.934308665216346,-9.47189867471111,-5.09003209189394,-5.047679966508324,5.626612415964943,-11.484671693490373,-5.288186142459648,-0.9527731813795476,-7.010600087067584,12.721535928162954,2.6074656458793246,-3.481383090364643,3.4640031235625695,6.9094974923710915,9.385017753452637,-4.589060019743491,-5.73734070988027,-9.107967669711233,-8.1814832269002,-14.132127923491208,-5.096584025874582,9.98886542167458,3.436928515696747,-5.582784075117091,-1.1866254896826625,-4.896257421281919,-15.010964358930282,7.066440479549175,-5.008764421359178,4.859473860732536,5.111547305922333,2.8681991969550094,-16.253557706826143,5.826428169054279,-1.3347661421345147,8.128562541228273,9.850374162622009,-9.374728825939268,7.4626609064406395,-6.009585223716845,-6.668900789970543,9.278501295407693,0.21379212258340943,5.417203251706652,12.87450987544554,-3.8454723001056,-2.0867183783505356,9.463699071015578,-15.702011176796578,1.2948811505549251,4.308719314119799,-6.767721194567674,13.314971608965743,7.03196519507537,-1.65363733434634,-15.88157525692431,-11.50157499397026,5.140519582178243,-9.125338454607997,-7.1115626061119075,5.195413196228228,3.8541513849955638,-5.060534590375528,6.853198773116402,3.001616442988526,-10.974866564195752,-1.384097899398318,5.614861070998383,-12.067629048365465,-11.652668146837552,3.656984712170473,-5.739112012292138,12.360271599831126,-8.078945007226567,-10.270536537602771,-12.206125725592464,-7.631409607554829,10.081257236758384,4.716090369054592,12.412168047445219,15.340650732118426,5.567738009344998,8.35630225507157,-3.3018443889646614,-1.1934790933345518,-14.870483385242057,-10.102059790360782,-11.63675084037919,-12.191020507259973,12.602075768771273,-8.770136759535093,-2.92846891876965,9.188696714688161,1.6247893783785,7.432120213943735,-2.0676024392674246,-15.877272084783122,-2.59332957407028,-2.072058124966086,3.86800226722793,9.92053196205568,5.096095169809999,7.3384285166529954,-6.728190397462053,3.059134120430884,3.3444836708205745,-3.3732349835994992,-13.638097779016661,8.309096247070803,-4.620863036029021,3.4763897329070517,-16.52967725391377,-16.400225728067266,11.03340136775015,-10.866001533102525,11.558132666101722,11.373106101208936,9.025463343354758,-1.4245948584566706,-2.4780841163713094,-4.97735666881696,-6.652393130887271,-14.464737641383218,1.0204508664151037,-11.538098510125906,6.123006307207405,-9.82467766362308,16.506385670871683,3.402050048592128,-2.735858577496484,-11.409488822341526,5.681114571992435,-3.4818014840132516,11.331640328663699,10.515499990560878,3.4223346199813305,-3.1484611388331034,-1.7817262710089128,-14.284249260919601,-3.783766160083895,12.196246316756122,8.731683646699965,1.4996854209889015,-2.234533557807099,5.150807746566578,4.12908778691641,1.132414437045654,8.099120878911696,-3.437137928705018,-14.419645408638354,-16.28643396645675,-13.057214349501994,-2.1330673369217714,1.217051607600235,-2.7483306921844175,13.746125099111163,-8.189425711366834,4.6878806151343015,-9.767767607059715,2.849615888205756,-2.0700851509243896,10.917549072547011,2.5735253686723647,-17.473200081061613,2.6461808863220835,0.30684041159983927,-7.953735153787589,-2.358034731240896,13.44587973165762,-3.047616125826383,4.272443342161092,-14.28013389639783,-14.398302085031299,5.698918574617638,-7.369449006802856,-7.350834661453429,5.033320767692394,-9.132824823288558,12.196197314254828,9.591003447891817,1.040373229190103,2.6252003137646764,4.70512542308349,-17.59473196019903,5.704725497445232,-7.221362582473334,5.471502702687825,-4.4344025623097965,-13.448013894387106,2.2048766627649443,0.3684935644967807,-15.646932107809633,-2.8570121705892904,10.920526573172939,11.728336670690855,10.183547011352028,-0.3714366778185996,3.2057001081222447,-1.0837616733469693,6.274365878418279,-13.539736958869103,-5.49930893428006,6.774474938446106,-7.869900503537881,-3.6309483485208056,-12.470361181001367,-2.2018762740570352,9.88888106389733,1.3702817603496913,-1.744112749642006,3.234317509654733,-3.467985487169356,9.792478184332417,12.085264027725263,6.647650142907997,7.325648434169264,10.69373637184228,-8.340467819854782,7.6071306645794,3.1921547505869334,3.719058375905006,1.3550513224758498,-4.459496449259182,-3.0583887676776165,-5.325658303513516,-6.924944552669918,3.90772323840771,-2.1939113102242778,3.517180126775559,-2.3790991189892154,1.3037543127976916,-13.912344801594875,-7.728868895423459,3.476874083062103,7.613279086903619,-1.1962941524858943,-4.159588010744307,-4.955370229878044,-11.46097953150053,-8.072100831255328,0.25370051617724904,8.53054795609826,-4.649155706441207,13.668234588083777,4.965311766166952,-5.614157377405092,8.308677677316272,10.955365789329246,-16.756525905140712,7.599817817490877,3.7944589130560837,-1.290345219244693,9.504162284700662,3.3996695238307626,4.707580760894247,11.675726750784342,-4.956115235998138,-4.664443775383107,-14.214621990805083,-15.667463059921985,0.4416104332572733,-12.934783273905833,-1.9077482161485873,7.707992967489987,-11.42311221315205,7.246698155756598,-1.615842827462531,7.003481212816193,7.142179238278012,-15.974572584980042,-14.313181479949938,-10.551101262680508,4.915219638154144,7.182446956480654,12.495302168581437,-7.38353415032048,-17.013361914991627,-10.374883566304815,-5.313443325191597,-2.0388696792409053,-6.946944348108779,-1.113641657433714,-15.725817920439232,-3.8779889162798833,1.0702015958489606,5.277897583003232,-10.50185778482064,4.627523358115303,-7.942287120300291,-10.790978799663934,13.668649974493295,-6.9908120931694615,4.658163361894685,-2.9795885384035983,4.063784446297638,-15.775556256720094,0.7890783830718936,3.515457891848988,12.355997221345152,0.41831194941731326,9.21279305325999,10.970439483243315,4.851710086202205,7.267979063118523,-0.5184928937173118,-2.2867514972096323,-5.368770698260295,4.040717891315888,-4.357977690255945,1.8831049274033114,4.565263900321372,-7.386361761478851,10.373573573836184,6.686686393172884,3.0906572149111393,10.214289463082277,13.958992724943752,5.519591745291315,5.6497511694163345,-15.671199632804905,3.6359536223110744,4.815997772838643,-3.9806183821191112,6.386003994281682,-8.023521428305326,-12.057957067661176,-5.476732111440509,-5.131073664160765,10.736870692720625,-14.1595468567874,-5.508855998009428,1.286423733797395,12.09178109942755,-7.358423261490492,10.520784617116627,-13.818504742783714,-9.179664590030537,-13.706935850238779,-6.333961547029036,3.6054850044081244,2.25387496806176,-11.604055098987287,-3.407150536082422,-10.069339997297694,-1.7590959666361825,-0.6589591052827134,6.608820645444788,9.624893901696044,-0.5478346096366515,-5.610650929163163,-4.694469408335206,6.637375929892567,7.846401891544746,-4.132347067882824,7.943105136754718,10.649556814661043,-6.996244068252532,-2.1567950257254918,-4.8266122791085175,-11.880540805444996,-5.337254287023348,5.6606059744538095,-14.119869274432432,-16.26009952635096,-5.066102263335308,3.969099124452516,-13.848787761049525,-5.079162317216447,5.320366844169882,-0.31468180619880703,-3.050326090051837,5.720800533865931,11.677974222836896,9.912018040763494,-2.3699065720900854,-13.439230497381239,9.492827648310392,-5.483796032244542,-4.613160868930741,15.327002405462894,-12.758358979223543,3.2514858484635702,0.3175545663043252,3.4705570464932354,12.782995279273127,12.141815632854108,-6.320643798224091,-16.31642900980754,-1.5468106799848127,-3.0758769553083907,0.9746668593186382,-0.6768646048201717,-2.861431338353349,-5.335995382028742,-1.6168473301739552,12.199790475728697,-10.282799493796594,12.138392907789559,5.513085151688385,3.453629295737835,2.331284165794799,-3.258403271862334,7.147984425875912,-11.696194121349977,2.886642952855705,-4.922629642594433,0.938809373563484,-16.311900088901382,-0.9733039137998976,5.501705705206794,4.223012307993571,-3.029798558646946,-1.1808700097641045,-11.906235176849144,-10.977274451149688,-7.43659500323349,2.781996534065391,9.926504122673851,-16.732079408740272,-2.1969951918168054,6.050772205259409,4.366580419248614,7.571407829916486,-4.639526506795707,4.604748684387027,6.374378722033567,-14.96910376119289,-10.48611498646885,-4.966147395303819,8.879570176644918,-5.190700864561989,3.289527355347734,-16.47423163403148,13.050193551501032,-5.292187479078837,1.2667992759228328,-14.000876672866557,-0.5218814728918992,3.895607763766048,-14.47756343462065,8.195752118992091,-6.2782444788564735,-7.954626375704249,-5.887632668636575,-15.095645856782955,11.439347465561587,-1.6707681544381785,-2.8182840241241727,-2.1645163128788107,-14.412847800143613,-16.74009425029145,-5.1282159798486555,-11.164548640082991,8.893257927235398,0.48345202609279353,-7.516590216726222,-2.4736755559867483,3.40272962352198,-15.67400302662314,4.480910738593741,-11.669029830702478,3.6930037473138175,-4.8567020007651704,-5.985845277466176,-14.635090877914891,-1.6808247268943033,-14.503876107520028,10.20807183404908,5.46224540569455,-1.1751374762016218,-3.838172749690046,-0.48239908016524197,5.038250600481161,0.912528337442505,-8.936944602005747,-8.688857580855277,-7.873578904538419,4.855992320461977,12.872397428819207,-10.612862594903495,7.074437433078075,9.906075751447865,3.334039507434467,6.217208409252557,12.644167250278265,10.18872955890509,1.5814182425544043,3.140650888232686,-1.4725913232096497,6.296967581652129,3.6458906364625867,6.552720290573661,-7.594014900096214,-9.184451941675617,-3.186446724597603,-14.419506327974732,-4.780817055291831,12.715762312330408,-16.25174781130261,-15.87167979448008,-14.655860033377685,7.192293932467119,4.119605880101274,-5.533370471131863,8.325506833449843,0.24282011570294731,5.453534423113437,4.824897931360597,13.593297380035708,-4.826291074335355,2.327894147663938,-11.239502165725352,-4.170504434585253,13.131923423323755,7.0452050701972455,5.590051702507184,-2.2313246484200144,6.4053800244637085,-11.029131061240305,5.602646710323577,2.021156524720095,1.5165343357574745,10.80569279204285,13.554217204242473,-10.220848178681376,2.7514322264204982,-1.14110717609546,0.7440988520225454,2.4137839997155885,-6.97932208557319,7.3552924956512795,-1.2359939265527964,3.263574664030946,9.892479659257079,1.7402000035638332,0.120826938417804,6.884881766555511,-15.802136446011577,6.841048098825789,-10.582738124791208,4.6237425241783,3.356241435658791,4.729003588970825,7.183348478771343,-13.881975254669387,6.030940313763885,3.511234063957202,1.0402215537817692,-11.466311979302736,-8.13021523548288,6.754122644566786,-2.1422212195742594,3.381317967999448,-5.776135857909724,4.3511246229374825,3.37512716409163,-5.474919556989579,3.6931123514228568,6.981452023048337,4.072923434084167,0.6436224959279535,-14.699596139370453,-15.809351183122393,2.531624081431391,-7.047219090809914,7.1372721994917505,-3.572415557731731,12.660872942366726,-14.401891400893943,-10.63083343176132,5.798912482793881,7.479017222284508,10.043637897964155,-14.790235348031338,11.799978730408016,-7.988334306573853,-4.680764217501525,-2.3606221815634703,-3.2880336554195133,5.807017407115763,3.1787982483819044,-2.073244175025675,-5.060911148041917,-2.618675014746872,-16.224026338421176,-10.291351411878242,7.415118701264359,-11.391408353988927,-1.5266359660294204,-8.237557555370945,3.4308028243306765,-4.110498388380042,-4.181046192921124,-4.726056586330295,-10.710424204200871,12.901706935875112,6.473326821515852,3.051456608608091,-2.664668493358427,-5.4978572821073435,-16.879449446097777,3.3213664006097425,-14.873162683344859,-13.732583961545103,0.9624081714056706,2.8875349690396046,0.8133590541443436,10.254057524656048,2.048000465461977,-4.1367157653449,6.942939739528092,-2.6373856095455412,-0.9000490862505408,0.9863065870250235,6.710231157768637,-8.175376882609992,11.26820537887282,-2.422005156003921,-4.704713239704426,-9.83217789619803,-2.212777924151201,-7.658800661162765,4.078738344648519,-10.090041175149787,-4.679982035738007,5.349160073326924,3.6299922061938372,9.34502503589664,-2.947348675606788,2.9705971432702922,3.056021805742481,3.3526358424154337,4.226497577317448,-1.330541619159091,-3.464765249455717,9.011171326380177,6.079577455284549,2.8428510374519576,-11.584115540790414,13.571889072294455,13.608170953534392,0.027710729681112874,-11.652944778900553,6.276841122756571,12.06826709716774,-2.125267630276756,-2.19112807249302,-2.2287594126952714,-5.42991279086044,3.6746357123728726,-7.964871592132486,-13.913912371886957,-7.083895148378801,-4.251843170730305,11.938154608385142,-1.9411003637746422,-7.620346544130544,-2.045037351149738,3.3109450932887494,-4.827142509477432,12.086795443807416,1.5845472201602917,-2.7851081668599784,13.51914920556964,-1.2090888219228602,4.998969659039349,-13.92285104878801,-16.56606046987948,3.013524581121279,13.206247712968594,1.506511027285858,4.030064671666258,-14.651030607466478,8.601068472865524,4.232943770988322,3.3398205355609996,-5.798078696559431,5.667067832756203,-2.0253876462511906,12.254439249736066,-5.187058083790401,-1.8636790297522954,-11.661015401816362,-4.831475578185746,-6.272716475245992,8.19682145932128,1.1501765483412323,10.30973331444162,8.915328957476877,-7.730800461321412,4.689968372425678,-15.909603832497089,-14.948635483753245,-4.0801291596694655,1.2206143626998778,-2.0818164746786554,-11.444027774742015,5.46681374560421,-8.252859286141412,-15.350788557775157,-4.945429838035265,-1.1227929388863036,-11.327268287486131,-8.042190721384006,9.377135291341826,-6.114083254510732,3.747008086325484,7.04815260148864,11.789547730687866,4.620015965333089,-16.244790263106264,3.9825778898416755,-0.9860041016209373,-3.502893529833385,10.76262094118459,9.921249726876686,-16.238547017142473,3.343216285230086,13.294918355570998,4.594587420618014,5.599339920982006,6.947828691257849,12.384318073913452,15.336820931541828,-9.034138023943221,-2.119569751470463,6.439642664904232,3.272606533028984,12.391538603645879,-11.528196457298197,-17.126085087521968,-0.37982768900369895,4.208192945839905,3.36142151978059,2.1111701578389863,2.85687921968161,-4.473657097740729,0.6870961633630481,10.778893374122072,-7.9723157091939765,3.423846729322502,3.3390606420812574,5.669062086070576,-7.61174086261019,-0.4638154535662497,-6.944129745562595,4.012166608944047,9.404863591868377,4.99512972180817,-1.6717592550216005,-2.3370544307941334,4.616562653645214,15.333570741975896,-4.153031151311495,-1.6565220304542125,-16.582032780362347,10.85634681033203,-10.190666203061097,11.273752373935439,11.385261030569662,11.602988929448895,13.262481169798377,-10.584638904936453,-3.917083299143756,-5.500741483688709,4.97163123755649,-13.054765065179222,-15.266878024728813,5.913108806415818,-13.911655114452811,10.910888349040391,3.0881951641568106,-8.194496064370483,7.112505190575668,-4.2907133541750175,-0.46226703039308775,-13.860160900690657,-2.057381633085895,4.789076809825533,-3.0592651280068552,-14.703229380279083,3.399720028151195,5.088124386256703,-4.472146951328353,3.0043545769609636,13.566277230326042,5.644752325589248,7.175853142282595,-5.122796518260109,-14.493507821005796,-3.352155402019577,-1.424585269132127,-4.687582540038838,-5.683102111232111,-14.23590196193672,-12.211704405144337,-11.689128120105346,12.296299202680682,3.5684321193642474,-16.654985937631455,1.9223801286960165,-4.945650102348936,-0.3846638539119228,10.783181864949116,-3.5364698554853966,-14.638486808633234,-2.451865613869647,10.729942007678773,1.686512738727707,5.878634764822858,9.12422837630154,7.379641308054869,9.536545476762711,-5.124331375626288,-12.134939024834356,3.3339523136615825,-4.476034076486451,-16.46002055894564,-16.7412443338334,-14.500980239362454,7.886318344845323,2.45787698458442,-11.61107437114654,12.352206899744644,-6.99911682672444,-5.945320912525295,4.760619246635339,3.667965906040524,4.250669280234015,-6.988711915479757,8.978845211172159,-8.94875378542077,6.4304331559159325,-15.784035579011572,11.397961555659919,11.202216131857107,-0.31224023124914774,11.00918084286835,-1.8241439650598748,7.278097125447965,-8.098651911588952,-2.7023834569221203,3.693135737618024,-5.238848740450475,-0.6792500134714107,-10.306855849298838,9.829667213457409,-13.416489468927255,-0.34006995266766554,-0.38960254086175405,11.128478144831709,13.627177999038636,-5.020556575812205,7.663619089092013,2.3950032047896315,-2.2787185536332815,-2.0372581916071595,-8.100116976080054,-1.4318874297672004,-11.056921326881907,-4.221969491486701,-2.3722693528697683,4.448093510671455,-1.7421449840022563,11.080752487290285,-14.29804908767965,13.10625895769542,12.854216393267377,-7.23598199955046,6.523261508673103,-0.291732680498097,-3.1688039477323167,-1.9874195120922389,7.379190457534683,0.38952660753994334,-1.1358010619595844,3.713614047578812,11.154277392166755,-2.47909958504295,-16.27621213008611,-1.026202177142854,4.237540316580621,-1.0838826618601278,13.012979933772915,-11.585952105165667,7.362608286822095,-7.91304559092044,11.20029935079551,-5.7426165965829234,-11.275162214386862,-1.7029288059795533,-4.597667633712184,-1.51773363251824,12.889706733926978,-14.89230017418776,10.80658397068671,4.929960433405011,-3.8975585207383734,3.6557882258313086,-0.6132359686252518,3.425131491534108,-15.330889615832346,2.138503922914949,-8.22747526721188,11.542899859867626,3.265288475915999,3.06329447488971,-6.743173411672378,12.909158472344695,6.801622180494858,-0.22727123680194933,-6.823464761586233,1.3499220892894541,3.8712229026926326,-11.451361004576313,4.594842392705451,-10.473121207585914,12.346902544409325,-2.089374323002662,-5.109524630591274,-1.3796297884620916,-5.4271208473831445,3.66777629759399,12.54611166816838,-8.616360007268007,-1.6519921418662413,4.246577983897713,13.395719475081036,2.934945791938516,4.198030376562542,4.462931293389994,3.3597028280250543,10.302243806398963,0.46303310974367967,5.6372840712656815,-4.641936221911403,3.644829115375784,-13.859956414604946,1.0995942960627276,-15.889275259981293,-16.2715517572498,-9.19057850000185,-5.7490369194162705,-1.250011821301521,0.8469401854010882,0.6715231058252821,0.2973461747790788,-1.5723858299955338,4.421991356177412,-1.2687945712562616,10.355690949671965,6.655169459767052,5.743258843828923,2.8544175395948255,8.117321969442193,-8.051957539250333,-1.0109675135996403,-12.563015396948597,-3.5723886387634076,5.922685718326378,-8.185104465894751,6.537967018419824,6.386553134497827,-5.542422720244156,4.3829668337050975,-12.585413825851697,7.343741247592625,13.594375194402044,4.587046013143662,-10.493463924135385,2.932510155670511,-5.448884981578844,-14.320398138989672,-3.453457796885984,-1.1286740474728705,12.700791798043497,-7.2446442543331875,-4.2633405869525065,-15.19365431352717,13.993809160662796,4.072982626619435,-1.7666626485121801,-6.191016671276145,-15.180722771892032,10.0365456520644,-4.785760280476209,-8.204845736281746,3.705498511029632,1.7110874641125475,6.20345611084097,3.6963418443989355,-2.7849893938915,5.819932500731816,-7.009495820490254,-1.294350120694562,-6.0760078836298845,-2.5435387552807716,-1.5647556299962186,3.19486017621004,-8.671405286766245,4.593639523692662,3.8670357813333167,-1.6620790971222115,-4.827856810839178,8.449152712879135,5.175336968904691,-6.76350125522308,9.596636496658137,-1.8803397737749161,-11.093189054779856,-2.296906712253164,-13.477819870834747,-2.0821318516856118,6.3976061231988455,-13.823173376821872,-10.839161091477298,-12.540872581747934,3.748603255293376,-8.875711418119854,11.205856498686723,-10.417621557793225,9.093024531966298,-1.036159425903804,-3.0901696716599307,8.542370678310375,12.45364179138306,-6.368560907029507,3.70800417106544,-2.9208324625864823,8.134511094388612,9.534553741721233,-1.6114558460375183,2.2305725260672626,7.670148269302712,-8.925383280034232,4.980277677933051,-2.9624454960449693,1.2355436530794104,-7.548546776756415,3.8718678681477177,-5.598828790855084,12.290060974262985,-6.595365876976673,-16.01948725950081,0.8253533859174531,-8.195938985127158,10.011906532928977,-12.590783404708212,8.138938928500544,-5.530163990571919,-13.858009665536402,-5.658728176947521,6.5798945029106415,-10.651440053539666,5.604324870283881,-10.008113290095176,4.468628641567538,6.886240043608262,-2.1181604981811826,9.60395064277484,4.453064988172214,-9.857019016902887,-16.77314686442285,13.346558286204326,-3.65073065205255,12.174389933561828,-12.952227560947332,6.243118147702478,2.953515858835477,1.1502233834108448,-8.07408212970503,-7.885189204013401,2.078602058627799,1.3180910499585354,-11.475917911441998,-7.258964927415434,-0.7315820157056825,-8.845913711975845,3.6530344058564217,3.6867313592677142,-10.840925714918463,-3.76661227648199,10.023165109825216,0.26027153634470046,-15.203796535192957,-4.6422942257989845,9.773833192884183,-7.675831544433636,-16.288071456982458,0.2730923329763228,-6.799896309781485,6.003087557390051,2.9230849804359504,11.326476203679782,-2.000312572385727,-15.63226274110644,-2.1980930277597506,-4.714087941461214,0.2870961281699938,4.649866838585284,-1.5618584435297285,-0.4223678150326642,8.788919730354307,1.276733864655938,4.099528689464427,-11.078074670622156,5.145104253496162,4.599047907718192,3.0120664841880576,-11.515423747642433,-8.71013587603832,-7.0670534045770355,-16.272633042438322,4.130639926715354,-1.545723650925066,13.011897891346083,-14.578532510226113,-2.0356422614169265,7.987799705349589,-2.6378535826487526,-0.61843403189244,9.915352023384381,-4.22550506975351,5.694228083051786,4.202381752582418,12.454396276639837,-5.258022335346685,-7.481135882011645,-4.5208496861989005,-4.677739383352686,2.561294722706898,3.6237613962479442,-3.8779854486483276,-10.24292403952781,-10.09302157554233,1.1350117340988328,-3.768857554540419,0.9192452568193756,1.309395155797918,8.84038270330392,-11.09446592205957,-4.079656676197655,-16.093457949223865,-11.606092479575091,3.6529618773395143,9.824346822897192,0.5655081317275782,-0.9151460935755052,7.532466179101733,-3.399627945162636,12.581612817179526,-5.494522259542307,4.664004751091311,1.239456532712861,-0.9298589168232304,4.05229057110599,-0.2865277266562812,13.655928002991116,6.81719185256731,-9.076601106050306,-9.763335419720496,-6.952396248863514,-2.6890961039234886,11.642542771142535,-4.474285866541669,-2.8624136980822406,6.374303065560858,4.527390594527633,11.144002217928707,-6.3146130216579035,-9.27847113025488,8.041919076048554,10.622422991318627,-1.3468914849814426,6.247661256422219,-8.192613478769077,-5.753699692862756,4.119237364475667,5.810968971133925,-4.488266148244434,-15.80083442920091,-8.113675784629377,-14.329086677400436,3.352645903033319,4.805688012361116,-4.995230181852278,-6.8997595536277245,3.5152200158047173,-5.53118258272319,-8.07638137215119,10.94970662878343,-2.927670811533313,5.447514145504512,-5.10701644505635,-11.735226594733119,-1.4604510694685318,-16.77508716104747,-1.3821472027738104,-0.7895215784352093,2.6723531866272943,4.208187571824752,-0.00666385843593588,-5.767548693393583,10.034720788107853,-13.249298645196527,-14.319986422520188,-15.836836840280082,-14.22551754621028,1.1680719268605755,-10.85638963512914,7.275793622714339,11.189510876782217,-0.2271565978434583,0.7357145484262924,-3.5558219778920845,3.5202279364553615,3.4206270411851274,-4.182511569701098,-16.634747598713655,-1.2620121389268792,-14.05237564385007,6.666908401064222,5.029626858810042,6.279704567839323,-11.19275143258182,0.2593840725531083,13.498060571388379,-8.702800119246625,7.705430506422612,-10.316569490050378,11.831932681563618,9.16855272092836,-8.191848137311965,-3.583881485809908,10.106315202034338,-5.211507941461077,12.117151875929116,3.068139615695821,9.571052911154768,-8.490243458841315,-5.050110517676086,3.4978437615375935,-1.8882908712909883,-14.435580199921464,-8.22504768795782,-4.746986691332272,-7.148730561783208,-5.3951450822709575,-11.567576435558033,6.639343632458847,-6.995559706964278,7.498278866555063,3.058284468844826,7.171009817433558,4.335299953919728,-16.662636437833836,-10.86088844357237,9.202177937354271,-7.923984152354122,-16.1594419999748,-11.774043352429102,4.7807519593567545,-6.470279650702,-3.256740779625112,0.5638447356545065,6.094748903463905,10.00016433285718,-1.616873801317298,-14.521952332125723,-3.287470481021847,-2.9921107720245197,-4.555834732733177,9.517202280628645,6.01610817585917,-2.8527790250404843,5.657902917317584,-2.2298925130563156,-1.6609723196049486,6.078313473434863,-14.917978366992617,-14.368850859667225,6.621148456032186,-3.935846558515635,-1.1812539676596743,-14.439390599511453,4.689992237591296,-1.8465643690981406,-11.870416771768827,4.4962088142308225,-1.9746918323913156,6.627236029786539,-3.5525393036026904,12.159902720437763,-6.813993691804538,6.629612339695378,3.8280754895191174,-7.254034475010013,5.436151866225857,4.187267253490812,-2.7465585440456786,-4.86758600743771,0.4833133745427315,-11.863579469089705,-4.8440563081540775,12.175963438911273,-16.28736980852558,-6.8462970337582085,-4.064217542587469,-1.7750632365259014,-14.313748172884502,-13.000375977436406,3.6420814912623283,-6.218006359348103,-16.232608565801044,10.188743648183607,10.340189977224568,7.96799631976568,-15.90435810714897,4.373680615591863,-5.1959215986986065,-2.4498051722923804,-0.9758465776708277,-11.476177536818932,2.4120040412876724,-5.806103431116,-10.437618120471113,2.918295555545468,3.8893043454348595,-14.419919887162143,4.3340631027485585,7.809057661173601,-2.087793028925225,-3.5292235310865765,5.23531454091257,1.273324546456144,-0.37466674590682353,1.6883060252757998,-10.411505801358382,6.485422961247226,-11.636335657040712,-3.8443539818936547,3.079372122539024,-6.722187974494102,7.127873989122527,10.529936069574784,-7.731449760150411,-2.845749930471788,4.5477328165337765,-1.627494393879398,-0.9581520420751949,-12.879844199845616,-0.6969752600780856,-0.6970120097469089,-16.238535680621563,6.669251260924986,-0.0165266193118791,-13.752647135467495,-2.486310015658486,-9.845628212690375,0.8217807026524488,-7.797334600097898,-4.595066332746237,5.881341333175062,4.4532163263475155,-5.2348446516946,-5.60882454274675,6.096813241263697,4.05095527122631,13.253774925407653,-1.959881732210918,9.722535594468013,10.574221023500257,10.958029686119094,-3.085372902532222,-1.865077490501181,7.591188587464434,9.68889040439803,-3.9598496454062153,2.9620759017034812,15.730637533842227,-5.615110291089478,13.4047461139155,-5.105265403581693,13.65248056131326,1.5449649472477662,10.208879585806208,4.248788727788797,4.532430616000504,-2.3418104058427276,-6.571875483569129,-16.362817887591095,-11.646495418290597,-7.058522555649164,0.5682721853897946,-2.383531451340131,3.944828360433727,-4.889701518523088,-1.7143983336228947,-2.0254830604319656,-3.628733901803542,5.210665243605885,4.349224949615349,-10.372623737902977,4.757132716821356,0.7503320154767809,-4.886201368259899,3.5008288357992083,10.120616686541513,-5.330157254984422,5.407088350486842,-14.743243750738971,-2.1043430980963547,1.3982231656019029,3.860528538986924,4.226401981805342,11.376653591234287,-4.9885209856143975,-10.069697009933767,-2.1273869766208477,-11.666858781996341,-8.398480192329172,-3.7093051927606724,7.165658654482604,0.7635778318939807,-10.485817688763701,1.3680745189940033,-15.155639173862543,0.6374614250577016,7.412042277343001,-9.383791626839903,-1.7572070116780805,1.2614427756336153,-13.946864745301509,6.044734186397825,9.890964345211824,-10.075747370276234,3.9218426959582895,5.573096400882269,5.053335312788463,10.367767458724012,3.396980504183238,-1.067855160214831,2.9698480930875846,-3.198107091739571,13.598603565354143,-5.059988724031903,5.271498791543863,1.9876434860002004,-3.809180362695468,-0.9039768413069077,9.80726751081157,-3.5680342623359067,3.715260307629785,4.373469489186034,2.208009012052047,-14.330793606875167,-3.3816254918975432,9.18488957921276,-3.3519750512138375,-16.299278137990765,-4.882220316372175,-15.996191485288447,-3.5594863618688763,4.5217620859764205,-5.48191585724561,-2.6102354816386897,-5.618996549914389,2.1260942917176475,5.5986207517918825,-5.387275372538641,-7.316925622085641,3.3818765302173968,10.640156492111833,-10.51498112479041,6.873129398180338,-4.235436139014458,4.583917859296854,-3.051585263438172,9.42963643365262,0.21459549818694246,-6.859050452902063,2.371447513390791,5.7653687234610445,4.53394398805634,-5.2402381181166895,-10.483358136071498,1.9181418478465802,-10.336735790511197,-8.031263793372442,-10.501393954855903,-5.665972441256765,10.92540910018031,5.366956390858667,4.50372843246524,3.863836710594138,-6.736657856251835,2.9404171094317,-3.5869992550077505,-8.005736540239884,-3.024372380679741,-14.261467883081915,4.860781714051924,-4.616516711833262,13.794533022255182,-10.683662878167393,5.108004728485449,7.798766342492711,-6.86446629325998,4.846661838957416,-4.450518684433116,7.616470132414226,5.98306400624551,-1.1409303359748844,3.0624764571578273,6.788756543795863,-11.357472169458376,-4.222036941045648,10.981630858965644,4.797785196355776,4.6766998245471445,-5.371108806864231,2.884911087075345,-8.68195284129484,3.372233081429532,3.6029037730521636,-1.0933087957029448,-7.526210568809217,-3.47611378582745,0.5833110126246822,12.262612045493283,5.623735896346913,1.1571670377046028,-15.447825942485219,-2.3550973874099057,0.89102454173639,-5.285943491697126,-8.151522626637085,6.104873427878257,7.07476246570868,5.659837264206883,8.844799048323976,9.916762855942851,-2.01523607697317,-3.573750494989921,-7.172740340417915,-3.723434850863504,4.736154978872539,1.7873968039540171,16.50169480355182,4.610402942439209,-1.9308994638646861,-2.4341234361494504,3.5264281647637077,7.98282416558664,3.635310524228256,2.1404709810702425,1.944535246820739,-13.816253572740049,-2.281840246067663,4.421265892990049,1.7560884245112554,15.364568663958687,13.242928855753055,5.9157759763008,-10.497781437921919,-7.702613307757361,-4.808626901912926,-9.534307448872262,-2.065700336587286,3.577218725292749,-10.384378653277745,-11.380009787126632,-6.563481386548701,2.876846655842889,7.608181452209688,12.29226147205094,1.041836250970398,-3.5166992606864222,-15.062938681124647,6.745241758410357,-4.478920114651035,-2.0454146992543496,-5.785414432485488,-4.988150022755915,9.891555905950122,-12.491565032330408,-4.3625595743559495,-1.6463119875774581,4.003200310029051,9.932895583591788,4.201802632691898,10.112280870712281,-8.180706249261613,0.7763080990268352,9.341336857032513,9.597753820781731,-10.170606450812189,-2.1198348862427023,3.625600382544747,4.0840226116800284,0.9196873286727048,-4.549198542261676,4.402032567723737,-0.641203987811413,15.72498526014135,-3.456574243180972,-6.894792527026384,-4.498463501719395,-9.233977090992207,-16.25196623202076,-7.893018904985709,-3.98877165034508,-2.0172671015155443,-7.126804670145891,-2.5953011703068767,4.425546689628692,-1.0711200015211915,2.0166497036995175,-7.92337400975854,3.844160687785999,12.366601792942017,-12.230878853500274,-5.66703681599626,-8.069848328363294,-2.3262812526823193,-14.970931687483668,7.650300380937483,-16.2715517652916,-11.16096502058535,-12.131075845241824,4.580251755976979,-10.87527255928529,-6.929751335458135,-0.9959433116588744,-5.553057502024962,-13.118751766966271,-13.05732693812899,4.060087606768602,7.126534555247284,-1.2388863839953195,3.869738360448889,9.590024253311789,-4.654394596179979,7.97283812324428,-4.625843214545499,5.582127785960883,-11.80664135339621,-0.37494204459350794,1.9005158130143183,-1.6406493262951245,7.518631896302573,-14.324147849867211,10.062787545469737,-3.5559544310378293,-10.543160372747375,-15.635270437749698,10.055573947724335,-7.0176190066648525,-8.187089744878126,8.43508882750024,10.633031468345852,-0.5799681265999868,1.5801113761186458,-10.733977179090937,15.725257759782608,0.43913960031123755,3.5412085092328964,-10.901415898958021,-2.6802536978430003,-7.834428847213959,-15.203564699394535,5.442995572831014,4.781920864171891,-9.296736056271785,7.182145455700879,-13.214069943564903,-3.0533165701526364,-10.835896032924591,7.608288489778974,-1.7989021714835909,7.325635348425541,1.4740529085562781,-2.3744342671213405,-2.862761569814139,9.428153377221918,-15.377640282407038,5.905180632029469,0.8806935608250988,-10.596018356654614,-11.451401954561485,11.409981521141278,10.962036776991509,-13.422685913399418,5.596078892188751,6.482920785096834,-12.215304001610473,-4.2154089299090405,11.181850211556913,-8.665832233252532,-10.509080458232734,6.70237589150844,-2.122752708851339,-14.192728406250591,-15.823980011306855,-16.075110587778738,-1.1531226919251203,10.158326822645755,-8.936570110391223,7.917975690575044,1.6762078052185372,5.531755641983286,-1.9388313923598965,-8.187966827464814,-1.2572906767704188,-4.4626824571268635,-0.992893540761121,-8.09620396857682,8.999028709416706,3.468702951075217,8.25204264832482,-5.596906141396781,3.7697670602607283,4.33686908052135,-2.553192238247702,-4.19302054996627,-16.254934272005258,-3.8782362420637613,-2.2596652632560787,0.39375373999190466,-2.085280543271506,7.212427586883673,-16.27199558166519,-6.678539868440337,5.108888917830579,0.992398351806373,-13.683196655677191,-5.739462747525909,-14.164126669051912,1.3130572707519428,6.468898634366957,-12.73167783360648,2.060478257415851,-3.656346921515874,-14.39324339781844,5.680667764060933,9.655398615273667,-6.981961744862791,-11.588625855251651,-10.48581883214408,-4.949927483027826,-2.9458184774767777,-5.586580774764857,-8.213317068092739,5.09278379944447,3.5029201264837977,3.981687071038272,4.29122276014132,-8.11724753018387,-3.0943512479032917,11.964400918063063,-6.6200203503789625,12.932007577519624,-3.322163634561577,11.113158374000696,7.971431095571017,12.060308313339913,-9.662561316380835,5.299557904808104,-3.7750167520499933,4.2205334288577845,-0.3874113503967935,-10.825102007890152,9.268294603535058,5.7737267445397995,7.788211758375056,12.286104054837638,3.268805373732649,-2.9939408184471796,-12.8172626828618,-5.1355630431087835,0.5783763000408496,-5.306136963334394,-0.3029081028852121,-14.808656111598184,-5.498200473820528,-6.675048971004412,3.487065021748293,1.92574529359521,-9.786361058187047,-1.161619373320924,3.786977709110447,12.058554469979478,-10.433207655220402,3.2302043306005155,-2.201710621340339,0.18247811119020527,-11.531009890098817,-13.198547507074814,0.39221286153308044,1.1461977528440228,15.345193526528726,5.767235762615656,-1.1381323805470462,-8.46116650693714,3.826789557578063,-13.880303956230932,-4.484258702677949,-11.782803235671194,-4.828907905170009,4.313046622064714,5.918769824696334,3.523440249127818,-4.187161616989271,-5.46334959474008,5.710969826359203,-9.05698201152122,7.9708760173043585,2.755402867858631,3.4230010867932714,12.490376233559163,-14.433541186232029,3.3500932310716593,2.7702116775749523,3.708399061878622,-14.376751123886438,-3.894349444668183,6.500586319186076,3.6932167838920016,13.566765273458294,-3.714657318794903,-13.088181675195472,11.696677025501717,5.4168846239272845,2.8833766007953723,-0.45598722247789136,-5.781057315913919,-15.21386435143793,-5.847385031045004,7.480626583746074,7.567138998605677,-12.008735614979011,4.140969363725125,10.003796542885029,5.569486113230908,10.005886833110983,3.1874089132853283,-4.997882054507014,-14.50524045670998,-13.937500716759063,3.413010021038658,9.579854998475465,12.469592607150751,1.98485736487588,0.13419423117070534,-11.95711480215683,-15.4335502968806,-2.2794644222115443,11.122698176044532,5.1368068761920584,-12.434411218333803,-5.627432418037056,3.4973364233327935,-15.54054819979115,1.187765395826945,10.734942176354274,8.426900919195045,-5.529427948824724,4.762616596991201,-13.456103371865156,-2.3071245793021946,-9.410131527729286,-15.069039652142642,-14.049601914807923,-3.091267304695664,-0.97185209181914,-10.142673037860561,-15.66858327833819,-4.167559107710427,1.1927151233148656,-2.4483727506570223,16.50444118798708,-4.213229457093726,-14.867070286825227,-5.49769057372595,-5.397680443245029,4.402472620181517,9.101683600621936,-5.08615943036781,3.8100891784040423,-0.04720720337151193,-8.211562123683034,-8.868028346568453,4.213830997263353,-0.1354469897868625,3.505029411514212,3.3750737373441697,13.177555705361483,5.547935931180021,-7.707537170052895,3.3553105683262654,8.95915048976873,-11.448904929137202,3.026260833350722,-7.464546612675292,7.588800443455983,4.520596502778506,9.434037653705982,-4.627124043364975,-16.23475157929385,-15.676693483776063,4.260884706774484,-11.49520549497261,-4.307560298875697,7.367104276346534,-4.170536040054553,-2.487751624619123,5.098528152954578,-3.7629766692010187,13.981839779962414,3.060233738089983,1.7655668783493579,13.660658571368323,0.44160873951498975,-3.0490447309299773,-13.522872834104042,-15.27628687016842,-4.609716184195458,-8.675557514791219,7.8098264098037244,4.314138762709018,-7.946126393194635,-13.796717066996063,6.9199964487519,-2.068767421769464,-11.671571403838401,3.9547514002899242,4.737935465495241,3.572447102207996,6.105811988590028,-4.19735374224803,12.683599738980963,8.378820403976036,12.035993681572446,-0.09662169227536879,-13.263931091506388,-1.18138310650737,11.028674153792926,-2.7780569009188696,-4.439571503126407,-4.7029106408498045,-2.5753790610396634,6.556319277195436,-16.188081172589087,10.561725860318683,-7.948530804850174,3.822705773646013,-0.6509338541096243,6.9907477367836135,-10.911371398331589,1.3732545920535468,-6.793680645024818,10.0264058367967,-3.2589326660966633,3.5546275140313672,-4.553815312111642,13.471640535087786,-3.3914199613309974,-11.543498010331383,-11.661834646734125,-2.8755823494597488,-4.207892602652457,4.033445893055651,12.355308618243054,-2.972571197134946,-6.774282494690175,-11.252493297085085,-9.770724336012853,12.41459826506032,-12.898545149328168,5.854740724054032,-4.866438020959097,7.415651431443772,3.055995156563332,-0.9228800550489145,0.9261923789927038,-2.696932805830058,-11.634154739741593,3.477595956983046,3.1415963236423976,-10.894506077352236,8.945178670008467,5.381740174416194,-11.952378883531054,-6.8026599541753106,-11.523579379774157,3.57274803871176,10.001730054258456,-6.718406449009009,3.367476394307355,-6.401433683615616,-2.1238890919643234,-0.20899960490093358,9.082806807334068,3.0711792984389996,-2.3900393828981845,-2.7663435334190245,-7.636571770051559,-16.31979685843333,0.8161990660563556,-10.887451523226863,-5.283448689944157,9.191926432283823,-14.205170948724174,-11.327416437837828,-2.0894028067909316,9.888111068840603,15.733508390378004,-14.978838306712944,-16.256882651784302,-5.087623583276177,2.2531121608978464,-1.0657795360863258,-13.87103706162183,-0.06439617600795748,-5.1405158357466325,-4.263694252758444,3.242321451621447,1.322993197809037,-7.621879638348698,4.3497210917014115,-3.8542623361105615,1.7929057321959532,8.344480170939454,9.271318071139754,-4.238080057859991,-4.895758790804604,3.5815423923837004,-3.76147030099198,6.906065117590638,3.8604613022452474,-3.8734326336963414,-13.888497290084091,5.07322510696689,-15.361300108462,-2.323477719376565,-8.955370081151143,10.282994694887247,7.165063673467915,-4.378879121046531,-10.803804000284885,-3.160712532426608,-4.265903915185862,-6.03528506776043,-14.713091136208636,6.9045490348262835,7.118250700596771,9.127233559867843,-14.40539620187283,-5.029967489407544,3.0690976201385665,5.993520972801952,3.8527248646592778,-1.6428388778200702,-1.5879770957217965,9.429967463240317,11.242850479320047,4.757262722026223,2.7805330605878744,-2.0498654184010223,1.304350164917624,-16.214167585989575,4.716310493044842,13.178116929968267,10.940718827476507,5.969997974379015,0.04320961313772133,-16.27021154303086,-4.088991075743881,4.850941186477976,-15.696969755924172,-2.311624221695763,1.2603782834747044,7.7673764371601814,1.1810183144921511,-1.293728428742047,1.357033900927331,5.919431267028606,4.814177187197055,-4.7438531356205305,13.441906079260214,-3.370042087512624,-0.18149149364497788,-1.8544605310537765,-1.8719349210193394,-16.57845528605336,-4.771172609304476,10.02083002530363,-12.409246949038629,-4.053842081095244,3.276079736096832,4.677946414596793,-2.421258922460726,1.971296290466509,-1.845207931699142,9.42071694846016,-5.332489408654847,-5.49480925318511,-12.784294815415441,9.914840128011049,3.810397586251505,10.475709593455143,6.986214899637102,-0.42856166774246196,-6.878511473338816,-9.173654951292129,4.051460403485794,9.410350225730882,-1.844378626607255,-1.9989644966537727,13.657896093182272,6.211075765299685,3.6544172864984077,-5.068659312048391,5.463318186947039,-4.61317314320053,11.38959320649532,-13.7988045093232,-0.6427168727335734,7.404829993057453,12.55230041164399,9.402652396782301,5.744104996921999,4.625520880910312,5.747892009803671,2.8936932898924907,-14.732861216720908,7.257554357736209,-14.439107354866799,1.5825829123516737,-15.187967102029717,10.782412971665817,-10.629033466391316,11.887260827513575,-2.2673497696274367,-1.0847019672530593,-15.119187221350176,-4.205836057549224,6.832586982846232,-1.036394232388402,-5.090738500019498,9.376275744592208,-10.311138502076217,-2.3092477220733083,3.560069744038783,12.585408884330985,-2.053049845801219,-1.7470082178573905,1.4346836806889305,1.1101507244794224,4.289616511712034,6.366075804598542,-9.714371771534413,7.075411489481507,9.973627999052967,1.4616016098715507,-6.951975871006337,3.136028234510221,9.847253353376475,4.853245694756767,-1.1177631896898554,5.690049392847292,12.00934386500881,-13.828160632747133,6.517272331671138,-7.596317784948651,12.411440434315358,-3.8109385362547425,7.098123593436587,7.57914053819145,-1.685391036463362,4.627319220274638,3.4072569148385745,3.5244300667304884,-6.966910875161471,-1.1340123462652478,-3.5365155492995877,15.346780609220776,-10.671097396695721,6.920031912315347,2.4197383257377205,-1.021314105462678,-2.128426930513039,9.45173666010083,8.016101359513558,-16.004589724111593,4.996662780146211,-12.867091061473296,6.978802425049649,-4.660312784801391,0.33121729398284666,6.648278595550125,-5.439327037562195,-4.744153062301717,5.483156244929258,-3.4718885250377167,7.318240562981889,-5.994626634529218,3.270233338352784,-4.330198378247733,-2.7972833986135903,8.072021505846829,-1.113133185248823,-4.9970568053020115,6.855157737114768,3.670387641152967,-7.953875798357125,6.523973761806114,7.10654412134348,3.3925599211844806,4.664671030153912,9.725323976592351,-6.54712839045718,0.9640473851204042,-3.1022327891009116,6.2569554075456,9.299442127932947,1.4080632749128048,9.210633491226917,4.540600515402647,9.424034201633718,-4.207584573883189,12.378681342036089,-3.0580940846583036,-3.6384729813752994,-8.033419006460354,-10.2517143521181,-5.319511445847969,0.7105155161586957,2.232938471651711,11.95606301006215,-11.309997319205044,-15.894994773285326,8.087923265254448,-2.5567581535021926,13.607009611333572,-6.182176340354206,1.3343038309205053,-2.363063231347291,-5.6900641714833275,-2.468569347060041,6.5427804688111895,11.334274689934128,-4.314530644855579,-16.236152122557108,-5.148267728937613,2.58538867677251,0.9029123603969356,-1.764444198098231,-13.312455913203856,8.090361902283137,-2.9140360536263685,-5.0591308146120095,-2.0101130931780435,-3.4311058302403046,-10.853533736791809,-10.428694993113162,-12.737975459396461,-2.2392368019130378,3.456636228746798,12.396674491294114,5.276527602809826,-5.178033723098477,4.356979040798124,2.7907868714141237,8.665076775854764,-15.088096072106765,-4.718620917257839,-14.319470272065361,-5.539532460649861,-2.707583900289045,-15.795426892400043,6.14620273002906,-11.667221745922387,-15.399832711679107,-1.5697479953539826,7.676339425560614,-0.2217362026892226,-3.0075218690032766,10.404833436134863,16.514118000445933,-1.0579518501197125,12.304738208715962,10.223318085658647,-1.211963684808441,3.403144006752614,2.77628673367722,1.576196278102138,-11.16976571261176,-0.9181355046015937,-13.233747499816188,-3.9575564919811423,-11.669496799579834,-16.590268106424986,-11.515675097988298,-13.716564751067578,2.7252982858044144,7.077138379056433,12.453316479671503,-12.46930872353128,-2.4547232422138086,9.71939691079601,-10.86630079311356,13.742081515226806,-0.5192287121016227,0.8642546431351379,11.234088646587464,-11.942297414828605,4.3219522727107496,-11.434070488369983,-3.7868083987106655,7.168674462838363,-12.798387474680816,2.8834060446983196,-4.923537648932745,4.609570519033151,-4.944699518721634,-10.326040364360024,13.812908648409,-10.091926787580627,-14.501524412388973,3.2804570545113023,-5.022890903365603,-17.003799405484834,2.742570965740833,10.190028619290073,1.624380835868937,-10.55869242205701,-11.675078051621576,3.690779321164951,15.726664613571687,10.574113581476796,-1.0593424269409024,12.074824762425186,11.278729620479028,10.046318497469134,-4.692219694597698,-3.5780777793708722,-9.340230603250054,3.06035671666865,-3.4698185472437837,-10.606880796231211,3.023807399386649,1.8205330644003372,-3.506289084097481,1.0282512911674206,5.75068973951405,-9.195668805509305,9.948004839636594,-1.921413962982276,9.901094130455832,-0.9649150205175465,-4.353944561757698,-2.2035190284281994,8.884579884653512,9.411686969088118,-9.75867909371596,1.6716402674372899,12.287863477803102,11.132723980571258,1.991365562594412,-8.281624485466596,-1.104993229765569,5.157056781044279,10.127353054032886,-14.786082443148558,2.1763405548907038,5.2156098052216,-16.678408720126097,-1.9703263774191775,-13.229498457056943,-4.512538417799,-16.282258259672016,9.871708026107,-1.2244544945713118,1.7030099892289308,11.123639221673645,-11.657580807618963,-16.96493199500544,-11.610697354107698,6.124658938630682,-2.352648034445304,5.865320776642581,0.6297593695697691,-4.686729122861715,12.02101410990679,-7.329559475978508,0.9117715037704093,-2.0528272586610754,0.07059241329297178,14.017680553024052,3.060404414900035,-5.243094371548305,-7.555732516450443,9.351906074504997,-8.214987299614881,-9.337921369374124,-2.6723380459848753,-4.841533697744595,-8.378628637123578,-4.669418364997507,-0.4507792717313919,1.3109914846152797,-15.844047485895732,5.667648287108726,8.820283946680075,-11.987722246190849,-11.016631221682797,6.696136458558229,9.378680251991875,-10.634638998467697,-10.923997053525245,-5.6854965326801326,12.457474622768794,10.401183936510916,-15.815796628050611,-2.320935713215146,2.674440923361069,-3.598933572784319,7.808046283214869,-2.7842977802326137,-0.7621199601811627,-3.7569309728316758,7.669723596390582,-2.932542768717087,13.564597011676033,11.151670179107642,-13.250448095450029,7.429577009037273,3.3199103459395416,3.7669273083636505,9.290269148869216,-5.047425018082851,-11.49202691812557,-3.6760864956267634,3.1442502489363067,-10.038158867560488,-4.594663474973765,10.475543974591508],\"y\":[-8.294371465869547,-9.02687899495543,-7.3293971578293755,-13.199230572585542,3.4882533550330623,11.072056719815928,-2.2246802499536473,0.7330735139666892,-8.415086424859096,3.519697371798547,-4.95701894793824,10.898382607047333,3.374556145001389,-3.7537431431012123,8.733576690071706,8.803862539037965,-0.5635224989190838,-2.6009382583462832,11.760758908782954,-3.7889612980603693,-6.3467027795680515,-4.023774206713853,-9.61748816785433,-0.9641303840043663,2.43742055534846,-8.410028880787943,-8.319400577903217,20.132387162567472,2.2485247325268687,7.5234073351133555,-7.390270982908017,-6.161376514195077,6.127366622895652,14.987495301207856,12.259089383942007,-2.1477534641902993,-4.638379671804234,-12.757456422374432,2.299500149210866,-8.6335371732817,8.11787206994798,6.965824763971834,4.823661376154073,-2.4799733620687014,3.556866528796652,-6.2859001553699,-0.5638433156969335,-9.612513013471927,5.312142451443716,-2.0540336774024386,7.165491567136173,-0.9419376228772216,0.3088249434335012,-1.7407247827977967,-2.9975169241112223,-5.967935500825735,13.770964945932125,6.910692398785248,-11.319625563355883,7.557505093517321,0.653809369931225,-8.438658675207284,6.816766552811695,-4.061265239799245,-8.179753730315815,3.061568957652659,-11.719306497592093,-6.61536154429535,1.3552136383122848,8.358342061318993,12.201280714561955,3.445626800263356,6.963730632763443,-1.7826121553820407,13.092828874495956,3.1882179816149905,9.406288669298156,10.711162211759195,-7.579850454608877,-6.461520577975694,11.209944995188463,-10.603712716787006,12.188112954790581,2.062444395156489,-4.099542488991201,-4.234075842331119,-6.353214973607531,10.51302402041705,3.073497422532061,3.334634542896964,9.347344308029916,1.0408806745802628,11.641994349900212,-0.7803672005057343,3.8856694362653674,-6.221975715997046,-1.8040483775375282,-0.5887836070071079,6.715098515491956,5.750392749930183,-3.511865017093421,11.498127162699252,-11.565324480853748,7.25254416143006,3.827824343046768,-3.7782980647101514,9.929776809678529,-9.053968962418597,-6.960795001394017,0.6549815669655855,-6.644731011520952,-3.152626561745562,4.38280602314365,-1.0495551501459524,-2.163667056603379,-5.80295099370154,-5.925825750481724,-3.7553820496833086,5.861473870669767,-0.6409016594274545,-4.161496255898305,2.991715551369687,-10.06712968879866,9.073731004870554,-14.168262887710856,-10.35483556415655,9.644049190092446,-6.477839307846889,9.32971255551925,2.157743516004856,-4.710120392937223,-3.6893384079636116,2.0545948432769117,-3.5868615698863464,1.3068500447421862,-5.864367541511573,-5.0339779057353455,-8.270089704246933,9.509786499097862,-11.475573490602319,-13.38636380988919,-2.5318543529600155,1.6554713059259663,-0.3131056884500123,-3.4229433560722953,-2.2195690076397367,-6.967316727046346,-8.651815522017245,-6.332950753979316,0.8600827773588322,-0.19385312322067438,12.324815986637729,2.986492943028375,-1.0184836217086304,10.086337137950148,10.36600065645466,13.021626846639721,3.7618427243349726,-6.412893502640864,-1.7567999004639183,11.298405655564865,-0.8553253701865963,-3.9545283083639697,4.960271894464904,8.323583230346705,-14.265012560218876,15.400717564721237,-5.888713185323999,3.733028031621971,7.221057804215033,12.569370605478822,0.12074145783970869,8.715848784245736,-0.14386170335164306,-3.8677458601411487,17.926742214805333,-4.83299782905099,10.285594084080392,-11.693549228354192,7.291641944723843,0.3822642555668312,-3.611918172882977,9.75045577677177,3.1618585457219455,3.649887036504986,9.206984612682836,7.640759972599082,-1.973297333935285,1.1225648663409273,2.867168602790313,-6.445523143976314,4.124102183979066,-3.3176281835481785,3.0690771950335174,-4.080730933279348,3.121279892618584,-9.388244792399409,-8.306919191862326,11.293034937873033,8.745638325405762,0.33840924893574525,5.148209641504728,-0.18825290397746147,9.180192468421666,-2.1359661868779876,-8.907600716544462,-9.079623901719314,17.926276392015808,3.0239246873667116,2.454632047771014,-4.725604313485961,-12.470505685461001,-2.7224547482213692,4.572358484652743,-4.044626903707606,16.533723700445684,-8.722156904165667,-8.247070603773295,14.133818265696956,-1.9675484311987643,4.40615406753264,5.1827507463079945,7.488855169298163,4.104234834590263,8.669266843174373,3.6139176481191955,-6.91389473894508,3.590171840972812,4.469314836864195,-0.946544360238465,2.4169709537939514,9.161087967739023,-2.8310593709386973,-9.35010777131904,2.1052594574381254,-7.471078060602071,-0.6284194629119504,9.600922544293157,-4.600883028982648,-10.023869786282019,-7.4517046518450245,4.499860319478437,-7.664865481496665,-3.9225027029121153,6.693103086251479,-3.4730523014142634,1.9098395857076849,-6.083587446205868,3.048024591556762,-10.909282284498275,15.679550218658312,-15.187883293330371,-14.653477971368078,-13.464125247399998,4.8519775474580875,-12.169647070298552,-8.344207920456306,-4.754322112536274,9.875132733867769,6.737513031506447,10.061327312710908,10.789578630278273,5.258947287739017,-11.39923492829704,-2.7167443922447383,3.158031105839975,4.4627513952465385,-10.561227346391924,-13.106350243299296,-4.48605415893748,-2.9723876109128344,11.117897685023665,0.5802226597865847,5.239679301761284,7.698982715989741,9.254769075045926,-12.006902553937504,15.189318134880049,3.586889687205264,1.566911807664718,-4.4408077145659375,-14.46922855272761,-7.06923569712775,0.4498113664898928,-4.867416079213236,0.7926434851832738,-3.642411988501862,7.550437308683848,-12.495074442995056,9.53251820221384,-7.298984965076312,3.07700243535459,-0.5156798558595459,-5.624354445767529,-10.951344052495829,-4.52330988936351,1.2840663807147046,1.3196670696508663,1.0032310383159821,-4.7321150991050995,1.4249917069638578,8.20722296242543,2.5683796587194347,2.081249990962571,0.8548239188458204,6.947616445024839,-8.671638883436485,-3.6527899561527373,-5.214482249328038,-12.18922018463585,4.311761875798197,-7.534630641340877,-2.252782675535278,-5.03451528743078,5.107448884825002,-16.716689889555624,17.933803402089296,7.500388113094061,12.671410955009994,-3.3524867654770416,7.239106708284162,7.691729503483346,-6.9788098567948955,12.64752254909547,4.087057366408343,-14.348977543343045,-7.0083657299387,10.500085802221143,5.532560683249987,-6.77015043023722,9.957222119069428,-6.308207420896664,3.4886947296390316,-10.68923242889709,1.7509203737366061,5.254443295664139,1.756920564159117,-11.957774682728852,-10.570033341601299,-12.883107011648752,1.0093889761377535,0.47661497538855224,2.9479603756091377,7.927396722811411,-3.399151980047511,-6.823989823129171,-3.491731093565615,6.821321181299205,-8.000979043741888,6.717652704151829,-7.321596242588293,-2.9735082282455503,0.9589527700452765,-0.9177535007991476,-0.4835099294092122,-3.089365017276202,2.4119499545542262,-13.67829688389459,-0.16243158369152216,9.512299409113005,8.72712659170849,-2.195021991378599,-15.423892706922793,-6.68868891520832,-8.909973625068288,6.839671004876838,9.355326937019852,3.5988402046682593,2.1257406950084587,1.1538700383228573,-2.559735225194921,-14.758304313646008,10.321039389271842,-8.074043433796415,-1.2602070084697097,-3.078773517166568,5.251573135691513,1.0528825440464615,-4.982361574397595,5.244382043020857,-2.362827986459877,10.72836159710934,1.443885825431271,-11.424984195156599,9.71885285000971,-11.70135040629144,8.687653386312823,-6.9807398403539755,3.7936968878245616,13.347116837676834,-4.128535724368797,-12.203616323017496,-8.676525347636774,9.162528689080789,-3.9806123700377536,11.74466874819402,-14.43952785215234,-0.7746262680419257,12.032327240934992,17.918778667184146,1.3869290999303225,7.306785610659719,16.489273411551512,3.2635555258712943,0.25532420299607567,-3.949903982336355,9.472833363052322,-0.16211433483691595,-3.4510916919008583,5.386689935224508,-3.1347265318540236,-2.3473130148233685,-5.13082198784101,10.778515215873616,15.34930795968054,8.200916359858779,3.075832210583179,2.4122886966120993,1.6128280531357024,-5.176238178434336,4.466440794959544,-3.6898176917061725,3.160946230728493,-9.66214770742476,-12.173255453981374,0.21920313562608781,-6.550957464381118,-3.776075877315421,6.819112377392341,10.967778145706692,-14.551539706104949,-3.15687119036548,12.934805175222364,0.8200275962514951,2.6707307494587114,15.983758635971329,11.291204344228376,-14.440271879852466,-4.2518471980897035,-8.086436474838802,10.797996379442743,-8.419297727800144,-5.78229039782194,4.727680015164078,-4.470197280938923,-1.5573092653898248,1.8643011252155994,6.7662469179534925,-3.575310933831468,1.5419004432456187,-5.893459614972121,17.786034365395373,-4.706672391756286,-4.3479613509998964,3.6640434244836797,-10.049860625992153,13.806149840779266,1.3544117664769482,-3.8656819945817955,13.368322318205545,6.534482853234463,15.05722768022553,1.2498359432543598,-5.8064422768227475,8.048382480598484,-1.1243904342380604,3.7182640737550883,9.159740813560965,5.245342297460018,-14.406313311216941,-1.0030051109305078,9.773506288023095,-11.481218191578833,-3.51708986470248,10.819061247532018,6.9183217598603,7.951965953087415,7.344196410446623,-5.869027227719464,2.2957475089448613,0.6847734546059279,1.5493009856865545,12.699012987980032,2.4162060505580665,1.8881361655267048,-1.518322582509817,-3.2772377606212215,13.62966699821305,1.711398508374836,-7.281892025767626,1.5303121146428067,-3.5078890543298726,15.089966448362851,10.539382397739162,10.95132155358782,7.762966165865701,5.5899378815485505,7.748507780860223,-6.85600856868247,1.0178633725277744,4.523600704215917,-3.1273721772779095,-6.410886020192375,0.7777552634118858,3.1181089262630697,16.42392953617529,3.2254621849938228,4.756653769535015,-8.39490871922663,-6.988627009724817,-3.780382348994229,-9.474904829510528,-4.564235475730225,-1.5021304555671167,17.64403390289537,-6.243052226200879,8.79324896280276,14.759423267995707,-3.4404962785438835,7.3872896176113905,0.7799052420199163,15.155422563170763,-9.286437276223474,1.3090436642952767,5.628804392872515,4.180208130047176,0.2073146475950355,-15.138963986521015,2.6780028326825893,-4.0476919857669325,-7.046872881136645,-5.406181590226196,-4.740392860323663,6.204045638152095,10.758538310498876,15.291763678134622,9.645122770784267,13.917565717710268,12.178202007372079,7.756263856170753,12.11678412185334,-14.715762740548172,3.685364461186994,9.932995755724509,-7.660378374375382,-9.911652405562453,-7.383237189387542,9.738562512009228,-3.999652766575575,-1.808884674810999,5.332509558102924,9.474072183146234,-3.107971202668859,3.2609256886804037,7.94387702572882,-5.319430242087659,-2.5133291933582735,-2.311385251162387,-4.955681825721909,-6.787795291506154,-11.628955600610334,-10.211581088768586,-6.051779987521517,-13.832015503123392,0.4612672519488358,2.3149581037604645,-4.122848558905026,-9.662887259515122,-6.55574497109489,3.912471101547401,2.5611768418781913,0.5114755477230978,-5.088212628176757,13.045084089312686,-4.6819520589536285,5.192940442820508,0.7331541020931501,-14.670310262514255,0.5300454144986176,6.261596982092292,2.460691890871655,10.628759052296559,9.761769376743095,-14.565764991353783,-6.122846112470168,-13.920697926377757,-1.451681723400782,-2.9565834462630973,15.089974628592524,3.5186393444055666,6.329980113876326,8.905065777953686,-4.825812949365892,1.026374703137803,-6.744395495787102,2.7829338061359996,-9.943509968856725,1.4108274090264155,-3.8810785394857197,9.35258394082065,4.444542851436067,13.631204959969509,-10.921854741057047,0.15529017093257974,0.5544258567455319,0.36019829770008743,-3.4839671024191334,10.718423161321564,13.674584259172045,-14.265246085163787,17.385401347734078,-5.203634068961532,-0.4176946633820559,11.902886809533378,-7.007666740221213,-3.8416902996760394,2.3894594929663286,16.694593960844923,10.570624367424202,1.0798525650283457,4.772607499342845,-3.918005994621207,0.3158728768850261,13.584696558986852,13.796734634161265,7.322921294197534,-7.003632744633485,-0.3147720863596006,1.1971107776977585,-7.093078175464709,-2.4287789467717236,-3.903584039011997,-1.600239842300887,0.5850122711706899,1.990317967085198,-14.477895445173052,3.4424825705868134,-1.4739711281223131,-6.877749543242432,1.2858079010018735,12.683836749989675,-8.877489570357746,-9.484686280087068,-3.6702405525079755,10.33612889885168,1.2261341498175895,3.2963684140376515,-3.424237668884581,7.267696260598191,-15.189328158688758,3.8379586178901284,2.1549245970899427,-11.461435516406468,-14.336411322154596,-5.410276151996276,13.76391573775681,-2.1193793820263913,4.509026350737844,7.458909877860785,-5.162996795036577,1.233965228194262,-5.874600015006061,-1.5228078836291965,0.31237725003392325,-3.782469565569532,-13.642332230262205,8.878501027544281,0.2663611985747892,6.72791137153967,5.305407259032561,7.625879248132548,7.728843514039189,1.4733624720099787,10.454353133904041,-0.7140185934984781,-6.704632660579504,7.296323538584613,2.2109604709344284,7.872417722044156,-13.373917446112767,15.182667187186873,-3.495371270195958,-0.7743647567808529,9.415938098415985,7.413455701124937,-6.5382672713846155,-5.521280410883237,-7.216132269663492,4.081957186958207,15.520453904105294,-13.240356592241092,0.39106237190138543,10.1621538604011,9.297912358639323,7.8011277842317455,-0.8684536670671809,1.2852401395928084,0.2820512082338348,0.02264797595877066,15.828207611157984,2.4107289824657987,14.799919081845285,-14.36851875036412,-7.677966375062959,8.723225746404173,7.359368631584639,4.139841772701938,10.987177401854678,6.733698604851685,-0.4347931970827209,2.479974917121074,-13.59305812303681,5.67873992567549,5.682094553334626,11.048710706563437,4.5012712845478635,9.763973064515096,9.995373976585574,8.870519508805875,2.035334932149534,3.997877701871917,17.60604962816081,-7.082826343973379,-7.164388412146764,13.688110050217897,-14.870706171838298,4.129181644072988,-4.52588273228686,-9.441976899005807,-7.98437636670707,0.9885801185798112,11.40516552667595,-6.033796845281326,-0.8068300836043256,4.65366037469811,7.380506559853125,10.434643488906314,-14.465773062386532,3.9972353182878058,-6.752255131269726,12.680144640473868,-3.813650151934816,14.622785842424763,3.7063450064685166,1.3988113587170568,3.227093225999675,8.845672990381395,-3.4438945632884357,15.48788020709853,2.1118317406268527,12.721949793511367,16.724887764060234,0.2574801265952286,3.0678913661726424,-3.1452692852014597,9.287090015000219,3.5556539118387462,-8.662845638926752,15.551170151325046,2.4200362930894093,5.762884833805136,-5.5897678854813195,-6.433070818512735,-14.272092325544776,4.029873863007165,4.415699406763268,-3.2625238222293413,3.5350230420323694,-0.23108227378183432,8.688339972077365,-3.428513347932748,-2.365964442815255,-1.6071956923896091,-9.083956336650777,-11.46245013480703,3.6205417716863972,-7.790971488173058,-14.572074981696057,9.769277382587902,13.421761800613272,7.3682776288343526,-1.6913482495778984,12.85952137762491,-3.139542384763903,9.77930709134318,-5.318051885061881,1.53467856140694,-1.331934696416574,-5.330665052939045,-8.456418232770341,-8.570662823850004,-8.849649275829877,7.900403951600007,4.390346123910889,-2.017341034691051,-3.7147037140298678,17.915966232657272,-1.7149013020050135,0.08748478061013805,-8.166742261888356,5.229880970781194,8.671273124663749,-6.887269343786659,-1.911305045688338,-4.049920432393621,-2.0433648667738495,-7.073111489131905,9.027683879717129,-0.43173210727999684,-3.385762607399502,4.119217036542188,7.795058283397683,-1.7350135874089672,5.855683733211003,-13.500066338036508,-6.661330344388823,7.750539473705221,6.749196866452582,1.9393003838884273,-1.0952293971446212,0.6968200583714865,-5.89874963208997,-3.2152044180773443,-12.468751640798104,-8.416625616008863,7.084237557375364,-0.6804072477357249,-3.486733697953207,-6.806910202967644,5.6657551393074135,-7.071232279458555,-14.71443063695989,11.402634812185159,3.680279835405501,-14.286100521200392,1.5199998634344953,10.064795327874764,7.299353754836681,9.466852046290983,0.4482269844285882,-3.9721719535475426,1.5905227839148088,-8.651025483926245,8.001991939936955,0.007731756395214956,2.3568226993420156,15.529166907833732,3.463114283824284,-5.9758670025002685,1.596428334682838,7.868689828239911,9.814520807097237,4.301165955067799,5.908103309695268,2.819642649979876,-8.599440851025626,-2.465217445448359,1.1342024299157716,-13.551592406700644,10.571901094986815,-9.37568431493024,0.5182779413909948,2.593952983032301,-3.9471647282719986,-6.9617077799533655,8.425267997997521,-3.3725944028793045,5.0182918118988615,3.453735731591676,2.946472036133716,-4.7464752947201525,-2.72097518072254,7.266757800569926,11.634497826851026,-1.4164073674620514,5.035762356887367,-3.782320424641813,-3.1385742184033223,6.903453373827778,3.6833637702250974,1.150245746764379,-7.299986854948177,-7.928652059921822,12.153855036642103,-11.012038065038503,-3.454334885726811,1.8032186737533469,2.123066207787195,0.7529691130177785,-3.445157833787259,6.844423224097681,3.6816308875136365,7.21754978902011,5.022675087588038,-3.179866177044596,-3.372495450038002,0.675855424762368,-7.187290665969582,2.5657506984022636,-4.977280152320937,12.84413448102063,-0.9446777884119872,7.3581307781684115,-4.652925925113176,-11.164492714232246,-5.626330659137047,0.4363098960170081,-14.498678961756145,7.651177926470791,-0.1426787345692508,-3.8014230223003955,-3.931832109510589,12.747081497815666,-7.677875378509635,2.7723827397825924,5.347189346865096,8.350708696704928,-3.687726046622856,-1.1609110895336012,-4.433786830537238,-0.8912290210311322,7.344271484143054,-12.435931109369452,2.84065203728239,8.515423828904053,-5.156536925559859,3.0336257862847256,1.044548547398493,14.009241197262341,-13.313534444656753,-1.6689904082244913,-1.8669811325605652,0.3354714297748542,-14.688908320746863,2.9141785262418667,-7.096530911421878,15.575958440321402,-5.257712203704003,1.3192364805355976,2.7260824887967297,-9.633142226064042,3.5953644545000976,-13.118694792064861,-14.864542755355451,14.845441923431268,4.996130583885437,13.013945385335854,-1.4091962020852928,-3.624157088809945,7.313672037185708,-0.47053698608514527,0.7498544362014395,-3.047038946317372,5.808703817386104,2.775549678694707,-7.632185712191485,7.345860999684384,5.295815792114127,8.687870111502402,-6.310179605131075,-4.69535032670831,12.236627649741262,-1.3845663769257601,-7.965367339072197,11.046990812243473,-8.074042551485505,-13.356272279333728,5.831665820328979,-2.580075948022332,3.5520656227375507,-6.420991270821215,-4.125387669018951,3.3584918440747034,-9.615900449988716,-3.8573414595306215,-12.092238734565482,-0.23796949659794114,-3.869859964579667,0.5511987907023629,0.36783002945573157,20.131998351331447,6.1682676639194245,12.438261173133325,0.09129367262832522,1.1882447301241346,-11.72029754338548,-3.0936707307191593,-4.406695621747894,-0.5796980129493451,7.329039469495836,-8.394710641331056,2.488052771823086,-9.116063782350981,10.936432459535094,-3.7942969087814693,-4.704554387130832,-2.0490283933627143,1.9734227758706548,7.753038061036677,-13.862521930085476,4.298635071857645,-6.315619015553271,-3.879281951895092,8.336796962458585,0.9910079805828834,-5.729524955776362,-0.1201198055290156,-5.044038370265195,0.0811202913752767,-7.864590483633237,6.688095597022436,-14.34773508879513,-3.1785513340252076,-13.439703760645221,0.05809292559495485,0.2304370375381052,-15.112358194280185,-1.785920972767794,1.414231802013076,-14.9539803962427,-0.9064277770534582,15.09389855225615,13.938307092065497,-8.089973220147144,-8.376873934034393,-7.10962809970402,1.0423440304729852,7.218523150052254,7.350578956768394,15.619764994305644,-11.756157466377228,6.21489730743629,-14.484057984499557,12.865104931210276,13.576044970155898,8.321501149409439,5.562031563809847,-9.17816695685562,0.6439221159386646,3.1809125830182046,-4.184631076493341,7.280832588427218,-1.0074816484328537,-11.466937611839779,1.556283577825045,-0.9078837670994421,-2.2508941444372264,-0.5686060588550609,-14.490234184059728,-5.230124905010194,-1.1488811938443089,-5.166705167582014,0.033222174413458365,-4.503702994484816,4.536643770537356,0.556405230753551,-0.13886745189970742,4.090723403454278,1.468392138639122,-5.192168175866276,-0.7576062688623,-1.5160441255290504,1.3142967594349972,-4.4168731415537055,-11.277169210478691,4.1603075416949835,17.91744528286827,7.282294537039978,10.676769175713442,1.7028221596676199,-6.8830521021029005,10.43132784545038,-6.787335013562206,2.682650601628051,-5.361626716762328,9.667943761713166,-1.8982932510415573,0.4069590098172773,-1.9999587698128543,-0.9746754293795427,-12.048625836604097,5.126506592257747,-7.4614557530318155,-5.6772478570578,-9.638747447679155,17.769912993206407,6.056162612054227,-3.767368964255426,-9.670966891894992,3.188511536382529,0.6066875968109608,12.24350418287012,3.9157234641778564,1.574042542515726,7.841964008674624,7.339023213605979,6.961259084311214,10.685729949203202,2.7352113146935038,1.1653891533941396,-16.486276488105045,0.8091782419385701,-10.62843558710788,-14.810872521307765,11.42950382412066,-4.551204293577734,-9.048446189720343,2.129304838994669,-5.219960975098374,4.919080035798336,-1.5911549398933746,-2.1781547628054496,-8.651396280322398,0.23004022917649544,-3.2239112819802584,0.047389601051367344,10.727859818470305,-3.2182868805414055,-3.3090100118670738,-3.5660799792800395,9.895807601304645,-8.783803198357962,0.759707553425929,3.514141821243154,3.4019211826149642,-0.4320897854163803,1.5057401326433897,9.567677855924721,-15.328917028612118,-2.315259622081465,-9.827617149761249,7.355491806442867,-6.0294302021026045,8.728793502528283,-14.593822814558733,-10.579156777124398,4.75322369817508,18.038365208802585,12.61258170028841,1.2239241329849682,5.166759776836292,4.030786359042968,4.290382706097499,-3.9716725466693608,-14.327665456171275,-5.658636191651738,-7.171306572887927,-4.4793688163785585,1.8704960772223138,8.557426839663856,7.26484976437641,-6.310914831869831,-6.7497898222377595,-0.408964259459278,17.482991101222655,7.235222069550734,-3.9297602993231604,-12.24523596024852,4.8582180926772836,-11.692248695106073,-13.419364844197942,-2.65554074961092,-14.496928110732055,9.431357993054178,-1.3211013787025039,2.4144544939081762,-16.604447087988277,10.641200827446452,9.316680060237953,10.047018419795924,8.852857359527883,3.5928895667985947,-0.41359449803725074,-5.489564065245436,10.334890864754138,-14.509962240578028,-4.401146716810977,6.217656246612593,-8.138465821327676,-10.483634379130596,-14.005677092956384,-3.958268146897596,-3.184274851785254,13.591057773598822,6.205209377083624,-6.803634619599756,-8.420280824566907,-4.001709507325151,7.905021341558198,3.961758967778357,5.32396939872904,2.7658590546307376,-7.60193082283014,7.268222389498267,-7.1122074435167235,12.754822583999472,-1.2420515789137234,12.932924358876134,-3.8517327478185788,3.6339511144482874,1.079212855710546,0.6819242620012689,-11.621937417830493,-3.2724405657547995,-0.6041253364297408,-9.007824034178407,-7.748413680180416,-0.2622713997662079,14.76030892987805,1.1310686379992252,3.547982229548134,-6.890643159972845,-2.625784134654061,7.353992325743316,-1.5218181360486143,-2.3437637718634687,-0.10612557519994503,-8.414581875381991,5.53676537492871,-2.7292092579147096,-10.681202972020376,3.5483816754909685,13.312165653994157,10.986639136912995,11.864794440411757,5.684001829359001,0.06501853913531402,1.5215540045871816,-7.305371027911425,2.4736253501175622,6.901277963915473,3.4038396234726602,-6.410360512720196,-4.508787825217037,-6.796554425049007,10.110402531019842,-0.10694420962328267,-6.65741528597962,7.05495052745613,-9.7983117527697,7.162255801571048,-9.323544317031006,7.809748596383865,1.617627744482543,1.4398434241545168,1.1725372796935107,15.292996684893232,-1.9399129897472749,-12.234530483566013,1.563628822132754,-7.171404334686042,-2.167029475881269,2.2338174641449697,17.890415642107627,13.894502689867352,6.610648143593181,9.791725859708876,8.17279420772391,4.727546078648194,-11.132427667939707,2.349311053558989,-6.333323506295502,8.933788875326316,-1.9469004224790032,0.7911133533291708,0.10463094214245826,-3.1711710058631417,-6.84310352736937,-6.778605743799235,9.68397018773534,3.1404672758045615,12.091710610644096,-2.9858602969415537,3.3458844223574173,-0.9557510640902825,3.396843241559862,-10.925404432893519,9.344892228299761,-11.973479960931405,5.1264089195402205,13.471707886644166,-8.614708318597813,8.373650558289482,-5.914143106498186,-4.854004810036577,11.89377316160639,-4.646730405965633,-2.2181592471488396,0.547205916543225,-3.6568052801822546,-3.6752560895918287,5.591403474008641,-2.228021908535508,-11.27269327405725,0.2890064674728282,10.995997394839698,-8.97879375209185,0.013884851247737199,1.3394732480556348,-4.468374913510058,14.417034002579532,-11.271526810456358,-15.402616783761657,-6.111069730009904,2.633407577454202,-9.239348563922627,-4.0042618404664125,-4.04966252456097,7.362103053170853,-8.686576479258019,7.526469248804075,-4.444004640841022,-5.590258442418769,12.866159954177995,-5.800826227472785,-0.8349937323712471,-4.764821363667458,-3.2482565066630187,2.673054715412035,-13.973408131613182,4.1596047783603805,-4.128455845270401,1.3302125502834006,-6.783813402719568,-12.188160397566527,12.780321887819229,6.149739454224526,-13.376909686050467,-8.296954984719257,6.137393739696658,-7.14711624512371,11.170428560590764,-3.8503576140861044,2.4885385142310557,10.553850690996097,-6.230815940429216,-3.5015279005331363,-7.2293838303712805,-14.522832908145514,2.7103638348422914,8.329738516450393,-1.366387005751688,15.157992488463654,-0.14268451422230016,-4.418462670994612,-4.018814565686139,8.747834749057752,8.538535931418574,0.5347369057021174,-4.6995701201355295,-12.732353104399785,-1.5880913424271255,-8.00653497074725,6.272615006545128,2.93765690002355,-2.5324932211694797,-3.8546293214988316,4.454763335595895,3.1527376650921135,-0.8935537444746223,-4.686641273738335,-1.2675873963079782,9.452979952444663,0.9272660350063007,3.886259967933464,10.555187745885288,-6.107213735879719,9.987810561095442,4.288036941523329,-9.226929528131976,-0.7993537655073759,15.461600316129488,6.4024685792096845,-12.250781521249397,0.7977726658742925,-14.271823056312707,-11.441950002020894,7.272288239393451,1.4388585265231613,-4.047054855782828,2.280109031511008,7.432498105186708,2.3662751751809945,-5.373423172959539,-3.470421716111141,-3.1927735835091706,-4.865738936506306,9.38339997348468,13.64098927815484,3.9181938134397027,-4.877984499726862,-7.038722355049766,11.782950414405635,17.807194007352063,12.152513425299794,-12.099157986318446,10.982074970194855,17.65071759668698,-4.631321301379863,2.3937670990843256,3.985803965828009,-6.511439669839425,6.865528196678388,-3.448038631346293,-9.886810764623418,9.340294755460551,0.5062849916987061,-3.1298442015392904,-8.902972595540172,-6.339447913999768,10.434226286778447,-3.361905142260187,-7.668641565630879,-12.787735184576979,7.697180965845429,10.345031729688651,8.889892220988449,10.332425942354012,-13.936469245234399,7.276670852622605,-0.1104817600290028,-0.2856779400917733,-3.527061369535711,-7.749743864658208,3.0795084667089543,-3.7162416042429243,-10.727087267913443,7.539283783680239,7.339448666115565,-0.4321324066760672,-7.469062306862345,17.93306622288383,4.737757484247637,-5.210035621775188,1.0682380907577504,9.192695094374375,13.569065395622628,-2.268742111026344,-6.783283372746185,-1.3259772317274572,-8.203665564799378,7.692845469666937,3.9755117478216335,-14.591748733525607,6.053406098009776,7.358525368332431,3.401964296552257,7.554382085658664,2.050044363076559,3.150810337012482,-3.5024416009395516,-11.490328163220823,-14.292048012694332,2.2097982089278583,-8.203002203925145,4.359311088888063,-13.971330783485882,6.639251903035866,-5.614843729401971,7.981953188691317,3.358070615523567,-3.770555849960864,10.065950699973843,-2.419530330915631,-1.1878781087921726,-6.726757327838532,2.050092300152042,6.64594311160783,6.160158238540973,-4.64830400811959,-6.9180968277436685,15.429564885873921,-7.73432081879133,1.3330818544245386,7.305441778389605,7.757483473127453,11.923626134014757,-8.277643856696084,-3.1355941784948405,-14.658954754618948,-1.7478389985693967,-0.03402924056920647,0.8140393675824091,1.4405788389071679,12.057978263743882,-4.41591768586212,-0.06994348451896876,11.546584518367736,8.870381879593074,-2.100904584151138,-4.464354919847154,-13.213066089508233,-6.019015147000805,1.3047605782813412,-13.952674337473782,-2.82825264223028,-2.0351695201158106,-4.07804848406798,3.2058711408870875,-9.375976412360453,-1.5584848193458039,-2.6619832008270365,9.126303131868928,-4.697795805726858,4.340399186302476,1.6952399474848037,-0.670885808924901,17.850193589578865,-9.59455915998233,8.040806163791542,-1.7097872393439524,-9.002537894776264,-14.731328405758283,12.784533067979117,-3.8400008482653156,15.100046610443977,-5.149031726702001,-14.80118892608378,-5.267823895660615,2.326394614029551,2.4200437232922622,-4.207556029479568,3.6255697953735138,12.721054332638074,0.4195347734027047,-10.984677211550341,-13.64992234617288,-6.294123990967091,-1.850012308056509,-2.93366196571296,13.263327613718854,8.26321559062915,3.3134612791497626,-13.381364758825725,7.76618835270716,4.472385672159627,5.6007098818371395,8.358503475510474,5.012931948190698,0.8123601536390216,-13.475386744262321,-10.828912458664897,-8.82845429209611,-3.5959607584260898,-6.856199674958102,-9.552812023721884,10.50675611887073,-11.30476034324116,-4.555319572789246,-4.842476602558274,-8.926796386835626,15.231398756494233,-6.457297281213175,3.437839929816131,-1.7266012519938785,-4.356499767258524,-9.270075070689275,-7.2931596347285526,7.322950895603483,-3.815306941116367,2.6663996786912896,17.04526954979707,6.134876507722506,7.663352237999101,-3.9618314252516003,-14.465667618558854,-1.825380300706681,-2.113466466310227,13.320616009270545,2.32906332239004,-7.051351051208355,2.07667552865467,-4.864067102100058,-5.093929400049848,7.2937816157116755,5.336230987958959,7.347903456494098,12.860439752408107,1.052975086784543,-0.603213786860107,13.635598919231207,-5.6499406491462985,9.715421588550223,-2.4086082496736037,-0.7515173701310383,-2.9709175642153935,-3.7391791216120884,-14.84742441842025,-2.6364666581372624,7.273174035824427,12.152057488151312,10.030021723757446,-3.130048724263428,7.810904225244523,2.5242349418718044,7.505280250123843,-7.140049527790416,12.15758459562367,2.868950804873184,3.9647564292639768,11.43883259431243,-3.849149522239208,-0.8680828201825673,-11.189156920573561,1.1860752702331059,-10.88685828000485,3.2483744366685032,6.193212898823636,11.85539330504441,6.729100947745998,3.945933464639655,-12.60471635348589,-4.356675226740924,-4.613511565991742,7.554523669504909,-6.483322076788745,-0.6461999494410421,14.003197127954067,5.5524777068965125,-8.427045099426609,8.891719817248216,-6.784402653491234,-6.795810515781195,2.247781009201335,9.206908196739205,7.5100157378409955,-1.5328084197839964,-1.2944959058093723,3.1830480583814276,3.123448858261597,14.51512746153496,-12.287961908490304,3.605796216502989,-14.458117910784697,7.54581700862532,10.41204706084827,1.3016918973479288,-9.454519421598986,-6.514272830211619,9.090310840297088,-4.187064754080502,-3.7362891986954465,10.647072875549437,4.49983648408716,2.971885454924522,11.242833864059884,12.547296763885653,-4.942269354994436,-15.679292833308208,-10.57510898782755,14.885252491390446,-5.043394249278361,4.060978099308854,-13.679471531907236,2.363581738103811,-1.6242138725137927,-8.133445822160319,-10.978545654300135,-4.125391835851713,-1.032324172030119,9.66542973525569,2.204246878259414,-1.7248333959778235,-7.893090944068741,-4.475555036990123,-12.035103930459615,-1.3727067797738932,-1.317823778091395,-8.420363676235121,-9.982496941183914,-7.271347584682591,14.847781028143455,-5.258213140629526,3.375726130198824,15.838923079275528,13.870026366841051,13.361455455236461,-0.7287523231921673,-3.4644043534138795,-15.64942010325346,-5.5655544070094765,10.052525513945191,-5.4691510804450445,5.39652701108992,0.9488350092686135,-9.659082208061955,-7.536951044390819,-6.600971284441961,-8.32625472847817,-1.9791353205307487,8.674251595909244,8.237877453479657,7.5520335084644366,-3.2145079084339265,7.289938912490989,10.414093371015221,5.1931997348379895,1.378730678474583,6.03990204203343,4.81199000704107,-11.338012671830676,0.9603794680324278,13.68298319810357,-3.4006685399001815,3.3200017041214185,-10.245116191207869,-0.47374539254144865,-9.576377451717219,4.554741705453133,3.1538402137447674,-0.5731773926019059,1.730865297754699,-3.2330011534232543,7.283382108556381,0.36704592853982393,-6.141081821383263,7.830129246308489,-8.338709955916535,-12.831527208109586,-5.007443476213722,-3.8816555964242783,8.572638895832219,3.5961988375277545,6.936348483941712,17.83767850882553,13.387167305416579,-0.6086223760416155,10.11756220911145,3.561242319126939,-11.749955131124592,-9.67045031817063,-9.477423588474897,4.050752002888909,7.191076349131294,-6.660454345934502,-5.683467359934347,-7.508388992176952,-3.5239735151861384,16.423488156774322,-1.141230446570733,-0.4736111392809971,-8.230773593543535,-5.624429561475968,-1.9898925064291677,-2.639360874170599,14.09443151658729,-6.05377884833059,2.4962405119634727,1.8609702490361497,-2.022217726990669,-0.09242073265706251,11.843069210279905,3.66343898541857,-9.865909236457064,-0.21531343462614105,5.154391574300052,-3.535972158756856,0.461588119898394,1.8118185582593294,6.2180214265912195,4.067770269824001,1.0767487219339607,-3.520729450915223,4.323126574430181,12.913144837967469,-8.215388636912682,1.9696546467838074,-14.55759378889863,0.47555143742748707,6.284008097864373,-5.77375758505557,-0.4687725983019854,11.789086634722866,14.988322350407232,-4.4365191841426155,-7.46335882468106,9.721926171740547,-8.388817331673444,6.033055976954038,-9.668805038917633,14.984984643726785,-11.071953085613206,-2.136358871087696,-1.6207992651291812,2.0534062805676183,-2.3951858683811897,14.508684367350865,12.45326938471936,0.743299466719901,4.824937068760638,6.911949279442145,3.104237128449809,2.397040986542669,-1.1918256576575568,-3.7092479538812415,0.6328408025581237,8.589610483989057,2.622860519312536,5.615035920481409,0.34847141227508116,7.333872125739735,3.7512908998676124,-2.198998196395872,8.889974328876866,-4.077963603381731,8.46903248375589,2.927321585114342,4.501796778554345,12.98041581582214,7.4406500193014455,-0.9971583908563594,-0.42052161609584565,-12.27776572486885,7.576836647958047,-5.886067845892664,-2.555296968413272,-13.680919713679156,-2.7462093216396006,-15.830824835353589,3.6128804476894274,-7.494463248224442,-4.474556336949479,0.29279060337553486,-5.130551945203515,3.7838695374004305,11.193736969338552,-1.858333194318398,5.049787875760118,10.145948695800437,10.738742330196533,-16.513747132236805,-3.1230682397918543,-4.138313054947832,2.7952350447328778,4.180585466974011,6.130158811904318,-0.8267759937501129,7.474857085204288,-0.7271080461508515,13.303037641518147,11.454978871933307,-8.396564732289365,5.561558026315323,7.493112102659353,-2.8803341461159273,-4.141990495778812,4.203222599227015,-0.23193894306506174,-6.57948955508849,9.251811477474371,-2.959820426321376,-4.738350427236546,-5.059624913588765,6.068646786338476,15.094697040377804,7.708674924054464,15.415708279312117,-5.7379701402303915,15.089973942091977,7.781730042105514,-11.919029207012132,9.548861689570982,-6.890040497398992,13.08397104436569,6.755367614023131,5.013563953749812,-6.119279147823255,1.0254781807847018,2.436063361518962,8.065250659746598,-4.3398226103015105,2.4450284059869523,-10.611754497799135,0.3954587964033409,6.658801252289801,0.316396532584289,11.310625660727721,-0.8867871653945739,0.33932866816091084,5.284834911772897,4.598335559647688,-5.3423770374366475,-6.431901434944611,1.178453262400236,-7.8726161631432285,2.4768391456495342,-5.914775123223551,1.7511742195897149,-7.796304086788308,17.93781805936963,4.061401937965001,-12.062130474134191,-2.7869003138613695,1.2809421215115575,10.291969483460106,-1.1979378663340634,-0.6458664940991683,13.328758096145641,11.99023457839575,-1.9604596226352067,7.279656558121084,1.3670888145400162,-8.005383255219948,9.20789898633578,14.45477793496721,-8.041284818016898,-5.352878172413155,1.5077049765977355,12.067258873101029,-3.5662976806977693,-11.524871153264096,-0.6024257955169076,10.131549201874757,7.30841091492253,-2.4698316523591153,-3.670585560017228,-13.91783749244693,-6.181203597328129,7.569507394792792,14.918339757956664,-9.055382397084893,3.6908472054907606,2.387335910445295,7.255079375981554,1.8499648286787094,15.31016045143128,6.757450734525721,-7.263602522392819,-7.547141481439622,-2.8285531114359377,-1.5363018769773855,1.9274682075069858,-3.828737226090561,6.547328045681527,4.884711700644274,-10.822593031160006,12.393896601689937,-7.598630193424139,10.745086608148162,-4.030298106350968,-7.271587676277251,10.763982832119751,-0.899088193315474,-0.5247241919712322,-3.559261512727779,4.332530181818117,-0.1958732607188141,12.1255469880092,-10.159269180969071,7.070543593330799,-5.86164525622589,-14.923828384208242,7.896824400724271,-5.59624055664253,-9.609741979725882,9.57913583945534,7.814930311466372,-11.941604132389234,3.176392538535258,-1.2654343744731735,-14.172846031288461,-3.512449158828396,-0.7924759760612747,-9.75430199812817,4.0590638886882004,10.444558270233646,5.478001603082259,-9.087522251928789,-2.797373111324273,-1.1132831478250667,0.4581827754472985,-4.061374308873418,15.240542175991497,-6.801757113921991,-4.311877642551914,-0.39213242037493357,-7.28697217712901,7.686593237766876,-7.1190524275539335,3.5688582252254943,-6.121740398627476,-6.7346777199924,2.3131782606446856,-3.205471873408047,8.677338033447526,-3.5315799928812917,6.127083993243386,-8.383665250129587,-4.6279252207278345,5.942009531373828,3.843760936437676,-8.24807923548771,0.239996616533214,-1.2047887022518333,1.308283543890869,3.381238673691966,8.272280773658006,-14.262072059101957,2.5221936711034934,5.603779570601003,-9.6283529699117,14.777897174860918,-15.259155018673129,8.2738949990124,-5.285548491916428,12.276193810069369,-3.912333827514406,3.945354038906323,-3.1447783522335935,10.79515613620625,6.751781369039126,11.16992691390162,16.694361025580115,-5.874684094395467,-3.804917582822441,9.330746287865042,7.273615252306595,-3.527569238353536,-2.24076194884428,6.350993788476781,7.107261028105218,-0.6466813957222992,16.944990182302366,-4.432061564750052,12.279763813570497,6.084248890630233,-2.63193936315381,7.765136091948635,12.401004744747324,-15.007044971043968,4.431674846885322,3.0169241626209518,-3.030037024729118,1.8761570657120215,4.514357322975718,11.295861112894569,4.795633581953253,-11.438921466699275,-3.1345201064217814,-5.458129813518711,-2.2913095112950175,-1.0372431968374975,9.534210822249552,-0.04941691240364354,-0.9792497320823637,-4.368519216225339,-3.2268413921661536,10.447096736903559,-5.943875726822745,-3.6826515025932283,12.129827392086094,-4.4036889396916825,-6.7900587787834485,9.265851874663174,-4.29493186500737,13.026241874610191,-13.74064625675543,-5.137611093790809,3.819188870217404,-11.421479119832265,5.589342589416762,-0.3085656555556444,-14.873026279740104,8.602890103899835,7.372753305775264,12.533398711824184,12.848256577018608,5.70390426183239,-11.92908079362449,-9.670731347914405,-4.473166332097929,-12.060880343976336,-0.8189378786754473,1.0060261509408013,0.285540073893407,1.7256202785857344,3.029017535826979,8.799788847730477,-4.646852973640447,-11.450557385682236,7.2282585569574875,-5.701739769664544,-0.5529037767727663,10.798923662547038,-7.062510815978371,3.9200845639154,-4.474742095200004,8.858638102706506,7.264170323053736,-0.8917473344176094,3.8003453831750007,2.0587419337270716,1.5562483054224894,-3.2014152828653004,0.4754475184835205,-5.955728838943266,9.108339150804335,12.912947953793703,1.3346937512399053,2.5731128738730864,-15.427979775474675,-4.5987429037225365,5.968477310320936,-7.271448073354112,3.462579288734035,-8.034056137023208,-9.190522148775397,-4.1232502971499745,9.56652283091413,4.539095614867082,-7.2060309333202905,1.7363456219700326,-9.865157801054105,9.193957383984644,-9.732303864026694,4.21702515336924,14.76522199183704,-3.173771183299966,9.377708933392402,-1.2630763869669666,8.054569678063109,4.087772778838002,-8.897222399516231,5.653958971052907,3.9673551919798955,0.10740328898725897,-15.204451487723398,0.1788988847566121,3.266661157546505,-0.67095634340775,-1.061949566387813,-13.738128665127055,-5.258124413998316,9.48608744249758,-6.370805176567572,-5.832579137476537,6.2569101472539,-2.9166263632146148,-0.5865391911751751,9.662671015988261,1.8887177221077625,-14.296310224684058,10.963123661912169,7.562845819043445,2.792079876388404,3.3032260705435244,-2.466250079958488,-5.679273808192205,-5.668324528337229,-8.05775599917621,7.657379172789381,-3.6967845061820803,5.877204981997891,12.54900225656052,6.63427719987399,-13.396375131933656,7.824157575775983,-0.766007350428929,-1.8261991741169075,8.354292648874226,-6.970063663070579,7.343577923557689,1.0900286899244997,12.644655075017072,17.02736752940287,6.76052132013339,0.44489365210043613,-9.63039173469475,7.657299212562632,11.975914419229987,0.04045963899123134,-14.284981354382502,-4.979265893324548,-6.857339449408616,1.8007133499507666,-2.3594312992038033,-5.323837001319959,-0.5158018038959531,-9.627142550170488,2.7171960633005217,12.047324584386592,-5.811294649103391,-3.7789749647886044,7.207145338782345,5.6472570740112005,-3.9449743962473303,9.667193001657308,4.07441688891267,-14.520050934348253,3.296474856802241,-10.63180731154983,13.771417644182195,2.505174496192949,0.7946382544761788,0.34632803338696283,14.799942478341816,3.8132112669874036,-14.61360391100758,-4.702575579851701,17.891873173791456,-9.264974625912014,-14.581630658263455,-6.818001529022436,-0.7123729984879459,1.4840403482813993,-9.01605910086326,-3.2353044587270157,-0.973134415512173,-10.01614608564991,-10.935135938108457,7.352367211135109,4.300058956227788,15.46470466759632,5.565457380358361,-7.5535528392763975,-3.510527494317046,1.236350429393656,-3.1461494830077648,4.475407678279789,3.7642610868181134,-6.841967600061152,-8.086017105324855,2.3387865688640423,-5.631787803015279,8.550139669018158,-5.833137996654075,5.852569056897207,10.788313739408158,3.7983480466297324,-11.099364324168281,9.633968845572667,1.0186480268466804,-11.884144868185945,10.864296294996263,-8.344069418196614,4.803804595846366,-10.539449269304269,-0.1844140958747563,4.541197408520402,-0.5607604172635464,7.268548890204224,-0.2903354664359525,4.755788783341285,-15.372352364114365,-9.691097698692666,-15.066676891537956,-3.48638192828657,-5.749059384049001,-4.659349904236952,-1.459480733826681,12.741237529934434,-4.702132005537136,4.640997284967936,10.185931600783022,-14.147164225702118,-3.9176883661869892,0.4115544210194165,-15.23672256220694,-5.969856456819978,13.42737214853919,0.39566952210842954,-14.417498160299413,-4.129299838707746,-9.847986813273284,-1.7758848343343003,-3.078596916267805,3.081219275878461,13.215373898339182,9.589150601816813,4.391918296840171,3.3718609893522506,4.98527602027317,-6.473234938082637,-0.6577114862999132,11.054333538843357,7.782535526355463,-0.12565113911820783,10.078921531235729,-1.5619542769423997,-14.5697199957878,7.553864063861962,-0.21996281729830808,-3.3835779493239064,-11.23269546731157,-3.8325391575044057,-0.2526113663633615,-14.95799121125203,9.36466758951657,-3.218117232216934,9.19212392932185,15.683720461616801,7.305276229402162,-0.9130879493881586,9.450996195713412,4.648099269988775,7.166321170604754,-3.8429958291755164,-1.065204079190279,-3.9887157734239946,-2.0521535993457216,-0.04642662614845151,2.944462655566849,12.834009000692461,-14.118107356527975,0.987728765293872,0.5698350006012147,-7.994170944752752,-13.398993595772712,-0.08699631940387256,-2.507772716901999,13.90127019792393,-7.043156730352596,-3.7106216104734133,5.650782389917921,-7.055224969165424,-3.383424811333933,-1.2696885084365712,7.588566582702082,-9.653219543625529,-7.900244090788761,-6.413437693890368,-5.000022958846708,2.8280659250546174,8.828206017545591,-3.7074162206415378,-1.7175661888779588,3.6985608086926938,14.793208653670971,-0.9423792980962716,3.7095211355616833,9.794958469320697,15.238069441568632,-3.5035383423020066,-4.108448894204711,-3.7564165986011187,9.487614617535504,3.6122132968112783,0.7904720059108885,1.6495628803187254,-2.528768487929775,13.894298287701655,-5.7380107255541,7.148763586768884,8.977117779623914,5.257383508470024,1.3816274001382622,8.901459059196714,-4.429560915273956,10.261319759752656,-0.9333217552721544,-13.808149529554635,0.7569891129383313,-0.5786314632469942,-14.97200089579541,-0.4243093905168327,-13.885216935158779,12.72298781836811,4.220422514097235,7.72697161194514,6.541369522576058,-6.876659386665789,4.307349397152608,12.288727563529672,-5.656120921657918,6.85419781056038,-6.8439582885129795,2.1866308078784393,-9.6563416384769,4.038916271722326,15.087768955835982,10.427039123957266,6.934855079200495,2.7740001001928354,0.37818289658186555,-1.2309578129027854,-4.01394273426925,-15.221822401538583,11.737503604023074,3.2052289160755647,-5.86174546026851,-13.870810056092742,3.868964032664473,1.2308034952951514,-14.93564052168611,-1.0714378833302565,-16.59289976328612,17.822670204238996,3.266331805744533,0.3494917046761494,-5.756188658640532,9.670377366082848,-4.2873178570366965,-12.853483051231178,-1.5794046426748225,8.807292687766335,-5.788610567761684,3.8056739663749473,-14.958694776516769,-6.80052105857904,3.5806535951201663,-14.81580943738237,4.27459197040831,-9.256979342374418,17.93325446387566,-3.969637484480897,8.184900523233198,-3.133487111689817,13.13768501032368,-4.616503838630929,9.531396497016381,10.132793807428966,-13.460606823542374,-4.126736458611764,-6.759459433911925,-3.973717490755509,-14.872658595947248,-1.2347102712477305,5.724684910748354,-5.520260766914977,5.371721450106892,-8.685218619081011,1.6644730105830234,-8.388952459648266,-0.3732539025071344,14.743074759496366,0.2903930577524843,-9.048936442214352,9.36463419539588,-0.4185093834949707,-7.922548638664436,6.315134890685904,-5.861631112001639,-3.2615024436342623,1.7215838371804082,-5.877692591771899,-1.5417034023946796,3.2736045999086723,7.266932938872612,13.555612942077632,2.8299775577399005,-12.939892696660337,3.7430481963511872,-3.4179950494560347,-4.623530422436861,-8.600765280498582,6.442387413393874,4.201845522365616,-1.826204574628235,1.0072537704940654,0.5031734052749395,-9.64284949654117,6.05608027534754,-4.262465398570634,2.3812557408631423,-14.28846487419548,-6.815693816269487,11.249765843102832,-3.4539544459065183,7.297465853545732,9.223981840169232,-1.2920028822762277,2.5416999353511955,9.418737778577011,-11.037334612622939,9.282939878764338,7.847672905077604,3.5586387616571433,10.145934645097938,8.361578130670008,-1.2417783085118939,3.7760785077583066,1.4668688476727179,-0.838293238977743,5.103734586173563,7.341866961483355,4.1689225522200175,-3.7398654407944663,10.635005942610126,8.76917431501795]}},\"id\":\"e1f059bd-d8d8-4a6c-9f04-58571a27ef91\",\"type\":\"ColumnDataSource\"},{\"attributes\":{\"fill_alpha\":{\"value\":0.5},\"fill_color\":{\"value\":\"lightgrey\"},\"level\":\"overlay\",\"line_alpha\":{\"value\":1.0},\"line_color\":{\"value\":\"black\"},\"line_dash\":[4,4],\"line_width\":{\"value\":2},\"plot\":null,\"xs_units\":\"screen\",\"ys_units\":\"screen\"},\"id\":\"afcc2163-43b4-4522-8f27-eec835514ddc\",\"type\":\"PolyAnnotation\"},{\"attributes\":{\"fill_alpha\":{\"value\":0.1},\"fill_color\":{\"value\":\"#1f77b4\"},\"line_alpha\":{\"value\":0.1},\"line_color\":{\"value\":\"#1f77b4\"},\"radius\":{\"field\":\"radii\",\"units\":\"data\"},\"x\":{\"field\":\"x\"},\"y\":{\"field\":\"y\"}},\"id\":\"34d11d0b-710d-40f5-90a1-551bc24bce72\",\"type\":\"Circle\"},{\"attributes\":{\"data_source\":{\"id\":\"e1f059bd-d8d8-4a6c-9f04-58571a27ef91\",\"type\":\"ColumnDataSource\"},\"glyph\":{\"id\":\"0cb98164-2232-4447-a4b5-7c515c3f0dfd\",\"type\":\"Circle\"},\"hover_glyph\":null,\"nonselection_glyph\":{\"id\":\"34d11d0b-710d-40f5-90a1-551bc24bce72\",\"type\":\"Circle\"},\"selection_glyph\":null},\"id\":\"69fd2b1b-2091-4ca4-b58d-758329ef159c\",\"type\":\"GlyphRenderer\"},{\"attributes\":{\"plot\":{\"id\":\"5fca9abb-8d94-4900-a388-d2a3b67dc489\",\"subtype\":\"Figure\",\"type\":\"Plot\"}},\"id\":\"9651b508-3ce2-4350-891e-aca5a9d9c0fe\",\"type\":\"PanTool\"},{\"attributes\":{\"callback\":null},\"id\":\"69670d03-aa44-47b5-857f-83ad85f61c02\",\"type\":\"DataRange1d\"},{\"attributes\":{\"formatter\":{\"id\":\"1fb28c9f-40b7-40b9-be69-1b7e44039156\",\"type\":\"BasicTickFormatter\"},\"plot\":{\"id\":\"5fca9abb-8d94-4900-a388-d2a3b67dc489\",\"subtype\":\"Figure\",\"type\":\"Plot\"},\"ticker\":{\"id\":\"b1533272-adf8-4cd1-8b85-a38220ef2199\",\"type\":\"BasicTicker\"}},\"id\":\"b23536e4-ee8e-45b2-b1b7-8c23a21ebdc6\",\"type\":\"LinearAxis\"},{\"attributes\":{\"plot\":null,\"text\":null},\"id\":\"ce0bfd0a-0b2b-4e69-b780-4a290b62b2a3\",\"type\":\"Title\"},{\"attributes\":{\"overlay\":{\"id\":\"a140a9ad-34dc-4a95-9824-7d2c71f5f40d\",\"type\":\"BoxAnnotation\"},\"plot\":{\"id\":\"5fca9abb-8d94-4900-a388-d2a3b67dc489\",\"subtype\":\"Figure\",\"type\":\"Plot\"}},\"id\":\"9e509916-8395-4d8a-b781-f9a92b207e84\",\"type\":\"BoxZoomTool\"},{\"attributes\":{\"plot\":{\"id\":\"5fca9abb-8d94-4900-a388-d2a3b67dc489\",\"subtype\":\"Figure\",\"type\":\"Plot\"}},\"id\":\"936102af-cadc-4ada-880c-1ae1e1f451ed\",\"type\":\"CrosshairTool\"},{\"attributes\":{\"plot\":{\"id\":\"5fca9abb-8d94-4900-a388-d2a3b67dc489\",\"subtype\":\"Figure\",\"type\":\"Plot\"}},\"id\":\"c0e30173-6a62-439d-afdd-cbacc8447f65\",\"type\":\"SaveTool\"},{\"attributes\":{},\"id\":\"80b48167-b15d-4e4b-84db-f2ce63ed0e5c\",\"type\":\"BasicTicker\"}],\"root_ids\":[\"5fca9abb-8d94-4900-a388-d2a3b67dc489\"]},\"title\":\"Bokeh Application\",\"version\":\"0.12.3\"}};\n",
       "            var render_items = [{\"docid\":\"e64bc00d-c5e8-48c6-85d7-9d719e821b4d\",\"elementid\":\"84a208a9-32ce-4111-b9e4-776e60455d02\",\"modelid\":\"5fca9abb-8d94-4900-a388-d2a3b67dc489\"}];\n",
       "            \n",
       "            Bokeh.embed.embed_items(docs_json, render_items);\n",
       "        });\n",
       "      },\n",
       "      function(Bokeh) {\n",
       "      }\n",
       "    ];\n",
       "  \n",
       "    function run_inline_js() {\n",
       "      \n",
       "      if ((window.Bokeh !== undefined) || (force === \"1\")) {\n",
       "        for (var i = 0; i < inline_js.length; i++) {\n",
       "          inline_js[i](window.Bokeh);\n",
       "        }if (force === \"1\") {\n",
       "          display_loaded();\n",
       "        }} else if (Date.now() < window._bokeh_timeout) {\n",
       "        setTimeout(run_inline_js, 100);\n",
       "      } else if (!window._bokeh_failed_load) {\n",
       "        console.log(\"Bokeh: BokehJS failed to load within specified timeout.\");\n",
       "        window._bokeh_failed_load = true;\n",
       "      } else if (!force) {\n",
       "        var cell = $(\"#84a208a9-32ce-4111-b9e4-776e60455d02\").parents('.cell').data().cell;\n",
       "        cell.output_area.append_execute_result(NB_LOAD_WARNING)\n",
       "      }\n",
       "  \n",
       "    }\n",
       "  \n",
       "    if (window._bokeh_is_loading === 0) {\n",
       "      console.log(\"Bokeh: BokehJS loaded, going straight to plotting\");\n",
       "      run_inline_js();\n",
       "    } else {\n",
       "      load_libs(js_urls, function() {\n",
       "        console.log(\"Bokeh: BokehJS plotting callback run at\", now());\n",
       "        run_inline_js();\n",
       "      });\n",
       "    }\n",
       "  }(this));\n",
       "</script>"
      ]
     },
     "metadata": {},
     "output_type": "display_data"
    }
   ],
   "source": [
    "from bokeh.models import HoverTool\n",
    "from bokeh.plotting import figure, show, ColumnDataSource\n",
    "\n",
    "x = tsne.embedding_[:, 0]\n",
    "y = tsne.embedding_[:, 1]\n",
    "author_names = [model.id2author[a] for a in authors]\n",
    "\n",
    "# Radius of each point corresponds to the number of documents attributed to that author.\n",
    "scale = 0.1\n",
    "author_sizes = [len(model.author2doc[a]) for a in author_names]\n",
    "radii = [size * scale for size in author_sizes]\n",
    "\n",
    "source = ColumnDataSource(\n",
    "        data=dict(\n",
    "            x=x,\n",
    "            y=y,\n",
    "            author_names=author_names,\n",
    "            author_sizes=author_sizes,\n",
    "            radii=radii,\n",
    "        )\n",
    "    )\n",
    "\n",
    "# Add author names and sizes to mouse-over info.\n",
    "hover = HoverTool(\n",
    "        tooltips=[\n",
    "        (\"author\", \"@author_names\"),\n",
    "        (\"size\", \"@author_sizes\"),\n",
    "        ]\n",
    "    )\n",
    "\n",
    "p = figure(tools=[hover, 'crosshair,pan,wheel_zoom,box_zoom,reset,save,lasso_select'])\n",
    "p.scatter('x', 'y', radius='radii', source=source, fill_alpha=0.6, line_color=None)\n",
    "show(p)"
   ]
  },
  {
   "cell_type": "markdown",
   "metadata": {},
   "source": [
    "The circles in the plot above are individual authors, and their sizes represent the number of documents attributed to the corresponding author. Hovering your mouse over the circles will tell you the name of the authors and their sizes. Large clusters of authors tend to reflect some overlap in interest. \n",
    "\n",
    "We see that the model tends to put duplicate authors close together. For example, Terrence J. Sejnowki and T. J. Sejnowski are the same person, and their vectors end up in the same place (see about $(-10, -10)$ in the plot).\n",
    "\n",
    "At about $(-15, -10)$ we have a cluster of neuroscientists like Christof Koch and James M. Bower. \n",
    "\n",
    "As discussed earlier, the \"object recognition\" topic was assigned to Sejnowski. If we get the topics of the other authors in Sejnoski's neighborhood, like Peter Dayan, we also get this same topic. Furthermore, we see that this cluster is close to the \"neuroscience\" cluster discussed above, which is further indication that this topic is about visual perception in the brain.\n",
    "\n",
    "Other clusters include a reinforcement learning cluster at about $(-5, 8)$, and a Bayesian modelling cluster at about $(8, -12)$.\n",
    "\n",
    "#### Similarity queries\n",
    "\n",
    "In this section, we are going to set up a system that takes the name of an author and yields the authors that are most similar. This functionality can be used as a component in an information retrieval (i.e. a search engine of some kind), or in an author prediction system, i.e. a system that takes an unlabelled document and predicts the author(s) that wrote it.\n",
    "\n",
    "We simply need to search for the closest vector in the author-topic space. In this sense, the approach is similar to the t-SNE plot above.\n",
    "\n",
    "Below we illustrate a similarity query using a built-in similarity framework in Gensim."
   ]
  },
  {
   "cell_type": "code",
   "execution_count": 30,
   "metadata": {
    "collapsed": true
   },
   "outputs": [],
   "source": [
    "from gensim.similarities import MatrixSimilarity\n",
    "\n",
    "# Generate a similarity object for the transformed corpus.\n",
    "index = MatrixSimilarity(model[list(model.id2author.values())])\n",
    "\n",
    "# Get similarities to some author.\n",
    "author_name = 'YannLeCun'\n",
    "sims = index[model[author_name]]"
   ]
  },
  {
   "cell_type": "markdown",
   "metadata": {},
   "source": [
    "However, this framework uses the cosine distance, but we want to use the Hellinger distance. The Hellinger distance is a natural way of measuring the distance (i.e. dis-similarity) between two probability distributions. Its discrete version is defined as\n",
    "$$\n",
    "H(p, q) = \\frac{1}{\\sqrt{2}} \\sqrt{\\sum_{i=1}^K (\\sqrt{p_i} - \\sqrt{q_i})^2},\n",
    "$$\n",
    "\n",
    "where $p$ and $q$ are both topic distributions for two different authors. We define the similarity as\n",
    "$$\n",
    "S(p, q) = \\frac{1}{1 + H(p, q)}.\n",
    "$$\n",
    "\n",
    "In the cell below, we prepare everything we need to perform similarity queries based on the Hellinger distance."
   ]
  },
  {
   "cell_type": "code",
   "execution_count": 63,
   "metadata": {
    "collapsed": true
   },
   "outputs": [],
   "source": [
    "# Make a function that returns similarities based on the Hellinger distance.\n",
    "\n",
    "from gensim import matutils\n",
    "import pandas as pd\n",
    "\n",
    "# Make a list of all the author-topic distributions.\n",
    "author_vecs = [model.get_author_topics(author) for author in model.id2author.values()]\n",
    "\n",
    "def similarity(vec1, vec2):\n",
    "    '''Get similarity between two vectors'''\n",
    "    dist = matutils.hellinger(matutils.sparse2full(vec1, model.num_topics), \\\n",
    "                              matutils.sparse2full(vec2, model.num_topics))\n",
    "    sim = 1.0 / (1.0 + dist)\n",
    "    return sim\n",
    "\n",
    "def get_sims(vec):\n",
    "    '''Get similarity of vector to all authors.'''\n",
    "    sims = [similarity(vec, vec2) for vec2 in author_vecs]\n",
    "    return sims\n",
    "\n",
    "def get_table(name, top_n=10, smallest_author=1):\n",
    "    '''\n",
    "    Get table with similarities, author names, and author sizes.\n",
    "    Return `top_n` authors as a dataframe.\n",
    "    \n",
    "    '''\n",
    "    \n",
    "    # Get similarities.\n",
    "    sims = get_sims(model.get_author_topics(name))\n",
    "\n",
    "    # Arrange author names, similarities, and author sizes in a list of tuples.\n",
    "    table = []\n",
    "    for elem in enumerate(sims):\n",
    "        author_name = model.id2author[elem[0]]\n",
    "        sim = elem[1]\n",
    "        author_size = len(model.author2doc[author_name])\n",
    "        if author_size >= smallest_author:\n",
    "            table.append((author_name, sim, author_size))\n",
    "            \n",
    "    # Make dataframe and retrieve top authors.\n",
    "    df = pd.DataFrame(table, columns=['Author', 'Score', 'Size'])\n",
    "    df = df.sort_values('Score', ascending=False)[:top_n]\n",
    "    \n",
    "    return df"
   ]
  },
  {
   "cell_type": "markdown",
   "metadata": {},
   "source": [
    "Now we can find the most similar authors to some particular author. We use the Pandas library to print the results in a nice looking tables."
   ]
  },
  {
   "cell_type": "code",
   "execution_count": 64,
   "metadata": {},
   "outputs": [
    {
     "data": {
      "text/html": [
       "<div>\n",
       "<table border=\"1\" class=\"dataframe\">\n",
       "  <thead>\n",
       "    <tr style=\"text-align: right;\">\n",
       "      <th></th>\n",
       "      <th>Author</th>\n",
       "      <th>Score</th>\n",
       "      <th>Size</th>\n",
       "    </tr>\n",
       "  </thead>\n",
       "  <tbody>\n",
       "    <tr>\n",
       "      <th>2422</th>\n",
       "      <td>YannLeCun</td>\n",
       "      <td>1.000000</td>\n",
       "      <td>11</td>\n",
       "    </tr>\n",
       "    <tr>\n",
       "      <th>1717</th>\n",
       "      <td>PatriceSimard</td>\n",
       "      <td>0.999977</td>\n",
       "      <td>8</td>\n",
       "    </tr>\n",
       "    <tr>\n",
       "      <th>986</th>\n",
       "      <td>J.S.Denker</td>\n",
       "      <td>0.999581</td>\n",
       "      <td>3</td>\n",
       "    </tr>\n",
       "    <tr>\n",
       "      <th>2425</th>\n",
       "      <td>YaserAbu-Mostafa</td>\n",
       "      <td>0.998040</td>\n",
       "      <td>5</td>\n",
       "    </tr>\n",
       "    <tr>\n",
       "      <th>1160</th>\n",
       "      <td>JohnS.Denker</td>\n",
       "      <td>0.903560</td>\n",
       "      <td>6</td>\n",
       "    </tr>\n",
       "    <tr>\n",
       "      <th>187</th>\n",
       "      <td>AntoninaStarita</td>\n",
       "      <td>0.901699</td>\n",
       "      <td>1</td>\n",
       "    </tr>\n",
       "    <tr>\n",
       "      <th>1718</th>\n",
       "      <td>PatriceY.Simard</td>\n",
       "      <td>0.899005</td>\n",
       "      <td>4</td>\n",
       "    </tr>\n",
       "    <tr>\n",
       "      <th>560</th>\n",
       "      <td>DiegoSona</td>\n",
       "      <td>0.876237</td>\n",
       "      <td>1</td>\n",
       "    </tr>\n",
       "    <tr>\n",
       "      <th>612</th>\n",
       "      <td>EduardSackinger</td>\n",
       "      <td>0.870400</td>\n",
       "      <td>3</td>\n",
       "    </tr>\n",
       "    <tr>\n",
       "      <th>2413</th>\n",
       "      <td>Y.LeCun</td>\n",
       "      <td>0.868843</td>\n",
       "      <td>2</td>\n",
       "    </tr>\n",
       "  </tbody>\n",
       "</table>\n",
       "</div>"
      ],
      "text/plain": [
       "                Author     Score  Size\n",
       "2422         YannLeCun  1.000000    11\n",
       "1717     PatriceSimard  0.999977     8\n",
       "986         J.S.Denker  0.999581     3\n",
       "2425  YaserAbu-Mostafa  0.998040     5\n",
       "1160      JohnS.Denker  0.903560     6\n",
       "187    AntoninaStarita  0.901699     1\n",
       "1718   PatriceY.Simard  0.899005     4\n",
       "560          DiegoSona  0.876237     1\n",
       "612    EduardSackinger  0.870400     3\n",
       "2413           Y.LeCun  0.868843     2"
      ]
     },
     "execution_count": 64,
     "metadata": {},
     "output_type": "execute_result"
    }
   ],
   "source": [
    "get_table('YannLeCun')"
   ]
  },
  {
   "cell_type": "markdown",
   "metadata": {},
   "source": [
    "As before, we can specify the minimum author size."
   ]
  },
  {
   "cell_type": "code",
   "execution_count": 72,
   "metadata": {},
   "outputs": [
    {
     "data": {
      "text/html": [
       "<div>\n",
       "<table border=\"1\" class=\"dataframe\">\n",
       "  <thead>\n",
       "    <tr style=\"text-align: right;\">\n",
       "      <th></th>\n",
       "      <th>Author</th>\n",
       "      <th>Score</th>\n",
       "      <th>Size</th>\n",
       "    </tr>\n",
       "  </thead>\n",
       "  <tbody>\n",
       "    <tr>\n",
       "      <th>118</th>\n",
       "      <td>JamesM.Bower</td>\n",
       "      <td>1.000000</td>\n",
       "      <td>10</td>\n",
       "    </tr>\n",
       "    <tr>\n",
       "      <th>44</th>\n",
       "      <td>ChristofKoch</td>\n",
       "      <td>0.999967</td>\n",
       "      <td>24</td>\n",
       "    </tr>\n",
       "    <tr>\n",
       "      <th>182</th>\n",
       "      <td>MatthewA.Wilson</td>\n",
       "      <td>0.999879</td>\n",
       "      <td>3</td>\n",
       "    </tr>\n",
       "    <tr>\n",
       "      <th>157</th>\n",
       "      <td>L.F.Abbott</td>\n",
       "      <td>0.999872</td>\n",
       "      <td>4</td>\n",
       "    </tr>\n",
       "    <tr>\n",
       "      <th>256</th>\n",
       "      <td>StephenP.DeWeerth</td>\n",
       "      <td>0.999869</td>\n",
       "      <td>5</td>\n",
       "    </tr>\n",
       "    <tr>\n",
       "      <th>82</th>\n",
       "      <td>EveMarder</td>\n",
       "      <td>0.999828</td>\n",
       "      <td>3</td>\n",
       "    </tr>\n",
       "    <tr>\n",
       "      <th>96</th>\n",
       "      <td>GirishN.Patel</td>\n",
       "      <td>0.856874</td>\n",
       "      <td>3</td>\n",
       "    </tr>\n",
       "    <tr>\n",
       "      <th>43</th>\n",
       "      <td>ChdstofKoch</td>\n",
       "      <td>0.788195</td>\n",
       "      <td>3</td>\n",
       "    </tr>\n",
       "    <tr>\n",
       "      <th>291</th>\n",
       "      <td>WilliamBialek</td>\n",
       "      <td>0.786987</td>\n",
       "      <td>4</td>\n",
       "    </tr>\n",
       "    <tr>\n",
       "      <th>247</th>\n",
       "      <td>Shih-ChiiLiu</td>\n",
       "      <td>0.781643</td>\n",
       "      <td>3</td>\n",
       "    </tr>\n",
       "  </tbody>\n",
       "</table>\n",
       "</div>"
      ],
      "text/plain": [
       "                Author     Score  Size\n",
       "118       JamesM.Bower  1.000000    10\n",
       "44        ChristofKoch  0.999967    24\n",
       "182    MatthewA.Wilson  0.999879     3\n",
       "157         L.F.Abbott  0.999872     4\n",
       "256  StephenP.DeWeerth  0.999869     5\n",
       "82           EveMarder  0.999828     3\n",
       "96       GirishN.Patel  0.856874     3\n",
       "43         ChdstofKoch  0.788195     3\n",
       "291      WilliamBialek  0.786987     4\n",
       "247       Shih-ChiiLiu  0.781643     3"
      ]
     },
     "execution_count": 72,
     "metadata": {},
     "output_type": "execute_result"
    }
   ],
   "source": [
    "get_table('JamesM.Bower', smallest_author=3)"
   ]
  },
  {
   "cell_type": "markdown",
   "metadata": {
    "collapsed": true
   },
   "source": [
    "### Serialized corpora\n",
    "\n",
    "The `AuthorTopicModel` class accepts serialized corpora, that is, corpora that are stored on the hard-drive rather than in memory. This is usually done when the corpus is too big to fit in memory. There are, however, some caveats to this functionality, which we will discuss here. As these caveats make this functionality less than ideal, it may be improved in the future.\n",
    "\n",
    "It is not necessary to read this section if you don't intend to use serialized corpora.\n",
    "\n",
    "In the following, an explanation, followed by an example and a summarization will be given.\n",
    "\n",
    "If the corpus is serialized, the user must specify `serialized=True`. Any input corpus can then be any type of iterable or generator.\n",
    "\n",
    "The model will then take the input corpus and serialize it in the `MmCorpus` format, which is [supported in Gensim](https://radimrehurek.com/gensim/corpora/mmcorpus.html).\n",
    "\n",
    "The user must specify the path where the model should serialize all input documents, for example `serialization_path='/tmp/model_serializer.mm'`. To avoid accidentally overwriting some important data, the model will raise an error if there already exists a file at `serialization_path`; in this case, either choose another path, or delete the old file.\n",
    "\n",
    "When you want to train on new data, and call `model.update(corpus, author2doc)`, all the old data and the new data have to be re-serialized. This can of course be quite computationally demanding, so it is recommended that you do this *only* when necessary; that is, wait until you have as much new data as possible to update, rather than updating the model for every new document."
   ]
  },
  {
   "cell_type": "code",
   "execution_count": 34,
   "metadata": {},
   "outputs": [
    {
     "name": "stdout",
     "output_type": "stream",
     "text": [
      "CPU times: user 17.6 s, sys: 540 ms, total: 18.1 s\n",
      "Wall time: 17.7 s\n"
     ]
    }
   ],
   "source": [
    "%time model_ser = AuthorTopicModel(corpus=corpus, num_topics=10, id2word=dictionary.id2token, \\\n",
    "                               author2doc=author2doc, random_state=1, serialized=True, \\\n",
    "                               serialization_path='/tmp/model_serialization.mm')"
   ]
  },
  {
   "cell_type": "code",
   "execution_count": 35,
   "metadata": {},
   "outputs": [],
   "source": [
    "# Delete the file, once you're done using it.\n",
    "import os\n",
    "os.remove('/tmp/model_serialization.mm')"
   ]
  },
  {
   "cell_type": "markdown",
   "metadata": {},
   "source": [
    "In summary, when using serialized corpora:\n",
    "* Set `serialized=True`.\n",
    "* Set `serialization_path` to a path that doesn't already contain a file.\n",
    "* Wait until you have lots of data before you call `model.update(corpus, author2doc)`.\n",
    "* When done, delete the file at `serialization_path` if it's not needed anymore."
   ]
  },
  {
   "cell_type": "markdown",
   "metadata": {},
   "source": [
    "## What to try next\n",
    "\n",
    "Try the model on one of the datasets in the [StackExchange data dump](https://archive.org/details/stackexchange). You can treat the tags on the posts as authors and train a \"tag-topic\" model. There are many different categories, from statistics to cooking to philosophy, so you can pick on that you like. You can even try your hand at a [Kaggle competition](https://www.kaggle.com/c/transfer-learning-on-stack-exchange-tags) that uses tags in this dataset.\n"
   ]
  }
 ],
 "metadata": {
  "kernelspec": {
   "display_name": "Python 3",
   "language": "python",
   "name": "python3"
  },
  "language_info": {
   "codemirror_mode": {
    "name": "ipython",
    "version": 3
   },
   "file_extension": ".py",
   "mimetype": "text/x-python",
   "name": "python",
   "nbconvert_exporter": "python",
   "pygments_lexer": "ipython3",
   "version": "3.7.1"
  }
 },
 "nbformat": 4,
 "nbformat_minor": 1
}
