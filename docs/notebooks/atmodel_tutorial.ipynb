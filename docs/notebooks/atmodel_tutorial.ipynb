{
 "cells": [
  {
   "cell_type": "markdown",
   "metadata": {},
   "source": [
    "# The author-topic model: LDA with metadata\n",
    "\n",
    "In this tutorial, you will learn how to use the author-topic model in Gensim. First, we will apply it to a corpus consisting of scientific papers, to get insight about the authors of the papers. After that, we will apply the model on StackExchange posts with tags, and implement a simple automatic tagging system.\n",
    "\n",
    "The author-topic model is in extension of Latent Dirichlet Allocation (LDA). Each document is associated with a set of authors, and the topic distributions for each of these authors are learned. Each author is also associated with multiple documents. To learn about the theoretical side of the author-topic model, see [Rosen-Zvi and co-authors](https://mimno.infosci.cornell.edu/info6150/readings/398.pdf), for example.\n",
    "\n",
    "Naturally, familiarity with topic modelling, LDA and Gensim is assumed in this tutorial. If you are not familiar with either LDA, or its Gensim implementation, consider some of these resources:\n",
    "* Gentle introduction to the LDA model: http://blog.echen.me/2011/08/22/introduction-to-latent-dirichlet-allocation/\n",
    "* Gensim's LDA API documentation: https://radimrehurek.com/gensim/models/ldamodel.html\n",
    "* Topic modelling in Gensim: http://radimrehurek.com/topic_modeling_tutorial/2%20-%20Topic%20Modeling.html\n",
    "* Pre-processing and training LDA: https://github.com/RaRe-Technologies/gensim/blob/develop/docs/notebooks/lda_training_tips.ipynb\n",
    "\n",
    "\n",
    "In part 1 of this tutorial, we will illustrate basic usage of the model, and explore the resulting representation. How to load and pre-process the dataset used is also covered.\n",
    "\n",
    "In part 2, we will develop a simple automatic tagging system, and some more of the model's functionality will be shown.\n",
    "\n",
    "## Part 1: analyzing scientific papers\n",
    "\n",
    "The data used in part 1 consists of scientific papers about machine learning, from the Neural Information Processing Systems conference (NIPS). It is the same dataset used in the [Pre-processing and training LDA](https://github.com/RaRe-Technologies/gensim/blob/develop/docs/notebooks/lda_training_tips.ipynb) tutorial, mentioned earlier.\n",
    "\n",
    "You can download the data from Sam Roweis' website (http://www.cs.nyu.edu/~roweis/data.html).\n",
    "\n",
    "In the following sections we will load the data, pre-process it, train the model, and explore the results using some of the implementation's functionality. Feel free to skip the loading and pre-processing for now, if you are familiar with the process.\n",
    "\n",
    "### Loading the data\n",
    "\n",
    "In the cell below, we crawl the folders and files in the dataset, and read the files into memory."
   ]
  },
  {
   "cell_type": "code",
   "execution_count": 1,
   "metadata": {
    "collapsed": true
   },
   "outputs": [],
   "source": [
    "import os, re\n",
    "\n",
    "# Folder containing all NIPS papers.\n",
    "data_dir = '../../../../data/nipstxt/'  # Set this path to the data on your machine.\n",
    "\n",
    "# Folders containin individual NIPS papers.\n",
    "yrs = ['00', '01', '02', '03', '04', '05', '06', '07', '08', '09', '10', '11', '12']\n",
    "dirs = ['nips' + yr for yr in yrs]\n",
    "\n",
    "# Get all document texts and their corresponding IDs.\n",
    "docs = []\n",
    "doc_ids = []\n",
    "for yr_dir in dirs:\n",
    "    files = os.listdir(data_dir + yr_dir)  # List of filenames.\n",
    "    for filen in files:\n",
    "        # Get document ID.\n",
    "        (idx1, idx2) = re.search('[0-9]+', filen).span()  # Matches the indexes of the start end end of the ID.\n",
    "        doc_ids.append(yr_dir[4:] + '_' + str(int(filen[idx1:idx2])))\n",
    "        \n",
    "        # Read document text.\n",
    "        # Note: ignoring characters that cause encoding errors.\n",
    "        with open(data_dir + yr_dir + '/' + filen, errors='ignore', encoding='utf-8') as fid:\n",
    "            txt = fid.read()\n",
    "            \n",
    "        # Replace any whitespace (newline, tabs, etc.) by a single space.\n",
    "        txt = re.sub('\\s', ' ', txt)\n",
    "        \n",
    "        docs.append(txt)"
   ]
  },
  {
   "cell_type": "markdown",
   "metadata": {},
   "source": [
    "Construct a mapping from author names to document IDs."
   ]
  },
  {
   "cell_type": "code",
   "execution_count": 2,
   "metadata": {
    "collapsed": true
   },
   "outputs": [],
   "source": [
    "filenames = [data_dir + 'idx/a' + yr + '.txt' for yr in yrs]  # Using the years defined in previous cell.\n",
    "\n",
    "# Get all author names and their corresponding document IDs.\n",
    "author2doc = dict()\n",
    "i = 0\n",
    "for yr in yrs:\n",
    "    # The files \"a00.txt\" and so on contain the author-document mappings.\n",
    "    filename = data_dir + 'idx/a' + yr + '.txt'\n",
    "    for line in open(filename, errors='ignore', encoding='utf-8'):\n",
    "        # Each line corresponds to one author.\n",
    "        contents = re.split(',', line)\n",
    "        author_name = (contents[1] + contents[0]).strip()\n",
    "        # Remove any whitespace to reduce redundant author names.\n",
    "        author_name = re.sub('\\s', '', author_name)\n",
    "        # Get document IDs for author.\n",
    "        ids = [c.strip() for c in contents[2:]]\n",
    "        if not author2doc.get(author_name):\n",
    "            # This is a new author.\n",
    "            author2doc[author_name] = []\n",
    "            i += 1\n",
    "        \n",
    "        # Add document IDs to author.\n",
    "        author2doc[author_name].extend([yr + '_' + id for id in ids])\n",
    "\n",
    "# Use an integer ID in author2doc, instead of the IDs provided in the NIPS dataset.\n",
    "# Mapping from ID of document in NIPS datast, to an integer ID.\n",
    "doc_id_dict = dict(zip(doc_ids, range(len(doc_ids))))\n",
    "# Replace NIPS IDs by integer IDs.\n",
    "for a, a_doc_ids in author2doc.items():\n",
    "    for i, doc_id in enumerate(a_doc_ids):\n",
    "        author2doc[a][i] = doc_id_dict[doc_id]"
   ]
  },
  {
   "cell_type": "markdown",
   "metadata": {},
   "source": [
    "### Pre-processing text\n",
    "\n",
    "The text will be pre-processed using the following steps:\n",
    "* Tokenize text.\n",
    "* Replace all whitespace by single spaces.\n",
    "* Remove all punctuation and numbers.\n",
    "* Remove stopwords.\n",
    "* Lemmatize words.\n",
    "* Add multi-word named entities.\n",
    "* Add frequent bigrams.\n",
    "* Remove frequent and rare words.\n",
    "\n",
    "Part 2 will use the same pre-processing, for the most part, so we shall explain it here.\n",
    "\n",
    "A lot of the heavy lifting will be done by the great package, Spacy. Spacy markets itself as \"industrial-strength natural language processing\", is fast, enables multiprocessing, and is easy to use. First, let's import it and load the NLP pipline in english."
   ]
  },
  {
   "cell_type": "code",
   "execution_count": 3,
   "metadata": {
    "collapsed": true
   },
   "outputs": [],
   "source": [
    "import spacy\n",
    "nlp = spacy.load('en')"
   ]
  },
  {
   "cell_type": "markdown",
   "metadata": {},
   "source": [
    "In the code below, Spacy takes care of tokenization, removing non-alphabetic characters, removal of stopwords, lemmatization and named entity recognition.\n",
    "\n",
    "Note that we only keep named entities that consist of more than one word, as single word named entities are already there."
   ]
  },
  {
   "cell_type": "code",
   "execution_count": 4,
   "metadata": {
    "collapsed": false
   },
   "outputs": [
    {
     "name": "stdout",
     "output_type": "stream",
     "text": [
      "CPU times: user 10min 13s, sys: 780 ms, total: 10min 14s\n",
      "Wall time: 3min 27s\n"
     ]
    }
   ],
   "source": [
    "%%time\n",
    "processed_docs = []    \n",
    "for doc in nlp.pipe(docs, n_threads=4, batch_size=100):\n",
    "    # Process document using Spacy NLP pipeline.\n",
    "    \n",
    "    ents = doc.ents  # Named entities.\n",
    "\n",
    "    # Keep only words (no numbers, no punctuation).\n",
    "    # Lemmatize tokens, remove punctuation and remove stopwords.\n",
    "    doc = [token.lemma_ for token in doc if token.is_alpha and not token.is_stop]\n",
    "\n",
    "    # Remove common words from a stopword list.\n",
    "    #doc = [token for token in doc if token not in STOPWORDS]\n",
    "\n",
    "    # Add named entities, but only if they are a compound of more than word.\n",
    "    doc.extend([str(entity) for entity in ents if len(entity) > 1])\n",
    "    \n",
    "    processed_docs.append(doc)"
   ]
  },
  {
   "cell_type": "code",
   "execution_count": 5,
   "metadata": {
    "collapsed": true
   },
   "outputs": [],
   "source": [
    "docs = processed_docs\n",
    "del processed_docs"
   ]
  },
  {
   "cell_type": "markdown",
   "metadata": {},
   "source": [
    "Below, we use a Gensim model to add bigrams. Note that this achieves the same goal as named entity recognition, that is, finding adjacent words that have some particular significance."
   ]
  },
  {
   "cell_type": "code",
   "execution_count": 6,
   "metadata": {
    "collapsed": false,
    "scrolled": true
   },
   "outputs": [
    {
     "name": "stderr",
     "output_type": "stream",
     "text": [
      "/home/olavur/Dropbox/my_folder/workstuff/DTU/thesis/code/gensim/gensim/models/phrases.py:248: UserWarning: For a faster implementation, use the gensim.models.phrases.Phraser class\n",
      "  warnings.warn(\"For a faster implementation, use the gensim.models.phrases.Phraser class\")\n"
     ]
    }
   ],
   "source": [
    "# Compute bigrams.\n",
    "from gensim.models import Phrases\n",
    "# Add bigrams and trigrams to docs (only ones that appear 20 times or more).\n",
    "bigram = Phrases(docs, min_count=20)\n",
    "for idx in range(len(docs)):\n",
    "    for token in bigram[docs[idx]]:\n",
    "        if '_' in token:\n",
    "            # Token is a bigram, add to document.\n",
    "            docs[idx].append(token)"
   ]
  },
  {
   "cell_type": "markdown",
   "metadata": {},
   "source": [
    "Now we are ready to construct a dictionary, as our vocabulary is finalized. We then remove common words (occurring $> 50\\%$ of the time), and rare words (occur $< 20$ times in total)."
   ]
  },
  {
   "cell_type": "code",
   "execution_count": 10,
   "metadata": {
    "collapsed": true
   },
   "outputs": [],
   "source": [
    "# Create a dictionary representation of the documents, and filter out frequent and rare words.\n",
    "\n",
    "from gensim.corpora import Dictionary\n",
    "dictionary = Dictionary(docs)\n",
    "\n",
    "# Remove rare and common tokens.\n",
    "# Filter out words that occur too frequently or too rarely.\n",
    "max_freq = 0.5\n",
    "min_wordcount = 20\n",
    "dictionary.filter_extremes(no_below=min_wordcount, no_above=max_freq)\n",
    "\n",
    "_ = dictionary[0]  # This sort of \"initializes\" dictionary.id2token."
   ]
  },
  {
   "cell_type": "markdown",
   "metadata": {},
   "source": [
    "We produce the vectorized representation of the documents, to supply the author-topic model with, by computing the bag-of-words."
   ]
  },
  {
   "cell_type": "code",
   "execution_count": 11,
   "metadata": {
    "collapsed": true
   },
   "outputs": [],
   "source": [
    "# Vectorize data.\n",
    "\n",
    "# Bag-of-words representation of the documents.\n",
    "corpus = [dictionary.doc2bow(doc) for doc in docs]"
   ]
  },
  {
   "cell_type": "markdown",
   "metadata": {},
   "source": [
    "Let's inspect the dimensionality of our data."
   ]
  },
  {
   "cell_type": "code",
   "execution_count": 12,
   "metadata": {
    "collapsed": false
   },
   "outputs": [
    {
     "name": "stdout",
     "output_type": "stream",
     "text": [
      "Number of authors: 2479\n",
      "Number of unique tokens: 6996\n",
      "Number of documents: 1740\n"
     ]
    }
   ],
   "source": [
    "print('Number of authors: %d' % len(author2doc))\n",
    "print('Number of unique tokens: %d' % len(dictionary))\n",
    "print('Number of documents: %d' % len(corpus))"
   ]
  },
  {
   "cell_type": "markdown",
   "metadata": {},
   "source": [
    "### Train and use model\n",
    "\n",
    "We train the author-topic model on the data prepared in the previous sections. \n",
    "\n",
    "The interface to the author-topic model is very similar to that of LDA in Gensim. In addition to a corpus, ID to word mapping (`id2word`) and number of topics (`num_topics`), the author-topic model requires either a author to document ID mapping (`author2doc`), or the reverse (`doc2author`).\n",
    "\n",
    "Below, we have also (this can be skipped for now):\n",
    "* Increased the number of `passes` over the dataset (to improve the convergence of the optimization problem).\n",
    "* Decreased the number of `iterations` over each document (related to the above).\n",
    "* Specified the mini-batch size (`chunksize`) (primarily to speed up training).\n",
    "* Turned off bound evaluation (`eval_every`) (as it takes a long time to compute).\n",
    "* Turned on automatic learning of the `alpha` and `eta` priors (to improve the convergence of the optimization problem).\n",
    "* Set the random state (`random_state`) of the random number generator (to make these experiments reproducible).\n",
    "\n",
    "We load the model, and train it."
   ]
  },
  {
   "cell_type": "markdown",
   "metadata": {},
   "source": [
    "**FIXME:** why is autotuning turned on below?"
   ]
  },
  {
   "cell_type": "code",
   "execution_count": 16,
   "metadata": {
    "collapsed": false
   },
   "outputs": [
    {
     "name": "stdout",
     "output_type": "stream",
     "text": [
      "CPU times: user 14min 10s, sys: 1min 12s, total: 15min 22s\n",
      "Wall time: 14min 6s\n"
     ]
    }
   ],
   "source": [
    "from gensim.models import AuthorTopicModel\n",
    "%time model = AuthorTopicModel(corpus=corpus, num_topics=10, id2word=dictionary.id2token, \\\n",
    "                author2doc=author2doc, chunksize=2000, passes=100, alpha='auto', eta='auto', \\\n",
    "                eval_every=0, iterations=1, random_state=1)"
   ]
  },
  {
   "cell_type": "markdown",
   "metadata": {},
   "source": [
    "Before we explore the model, let's try to improve upon it. To do this, we will train several models with different random initializations, by giving different seeds for the random number generator (`random_state`). We evaluate the topic coherence of the model using the [top_topics](https://radimrehurek.com/gensim/models/ldamodel.html#gensim.models.ldamodel.LdaModel.top_topics) method, and pick the model with the highest topic coherence.\n",
    "\n"
   ]
  },
  {
   "cell_type": "code",
   "execution_count": 73,
   "metadata": {
    "collapsed": false
   },
   "outputs": [
    {
     "name": "stdout",
     "output_type": "stream",
     "text": [
      "CPU times: user 14min 30s, sys: 1min 18s, total: 15min 49s\n",
      "Wall time: 14min 43s\n"
     ]
    }
   ],
   "source": [
    "%%time\n",
    "model_list = []\n",
    "for i in range(5):\n",
    "    model = AuthorTopicModel(corpus=corpus, num_topics=10, id2word=dictionary.id2token, \\\n",
    "                    author2doc=author2doc, chunksize=2000, passes=100, gamma_threshold=1e-10, \\\n",
    "                    eval_every=0, iterations=1, random_state=i)\n",
    "    top_topics = model.top_topics(corpus)\n",
    "    tc = sum([t[1] for t in top_topics])\n",
    "    model_list.append((model, tc))"
   ]
  },
  {
   "cell_type": "markdown",
   "metadata": {},
   "source": [
    "Choose the model with the highest topic coherence."
   ]
  },
  {
   "cell_type": "code",
   "execution_count": 66,
   "metadata": {
    "collapsed": false
   },
   "outputs": [
    {
     "name": "stdout",
     "output_type": "stream",
     "text": [
      "Topic coherence: -1.766e+03\n"
     ]
    }
   ],
   "source": [
    "model, tc = max(model_list, key=lambda x: x[1])\n",
    "print('Topic coherence: %.3e' %tc)"
   ]
  },
  {
   "cell_type": "markdown",
   "metadata": {},
   "source": [
    "Let's print the most important words in the topics."
   ]
  },
  {
   "cell_type": "code",
   "execution_count": 67,
   "metadata": {
    "collapsed": false
   },
   "outputs": [
    {
     "data": {
      "text/plain": [
       "[(0,\n",
       "  '0.009*\"control\" + 0.007*\"memory\" + 0.006*\"prediction\" + 0.006*\"table\" + 0.006*\"signal\" + 0.005*\"search\" + 0.005*\"controller\" + 0.005*\"system\" + 0.004*\"user\" + 0.004*\"run\"'),\n",
       " (1,\n",
       "  '0.013*\"neuron\" + 0.010*\"threshold\" + 0.009*\"f\" + 0.008*\"let\" + 0.008*\"theorem\" + 0.007*\"bound\" + 0.007*\"class\" + 0.007*\"node\" + 0.007*\"p\" + 0.006*\"layer\"'),\n",
       " (2,\n",
       "  '0.009*\"w\" + 0.008*\"matrix\" + 0.007*\"noise\" + 0.007*\"approximation\" + 0.007*\"gaussian\" + 0.006*\"density\" + 0.005*\"optimal\" + 0.005*\"generalization\" + 0.005*\"sample\" + 0.005*\"y\"'),\n",
       " (3,\n",
       "  '0.013*\"image\" + 0.009*\"distance\" + 0.008*\"cluster\" + 0.006*\"trajectory\" + 0.005*\"transformation\" + 0.005*\"object\" + 0.005*\"solution\" + 0.005*\"matrix\" + 0.005*\"dynamic\" + 0.004*\"inverse\"'),\n",
       " (4,\n",
       "  '0.014*\"action\" + 0.011*\"control\" + 0.010*\"policy\" + 0.009*\"q\" + 0.009*\"reinforcement\" + 0.008*\"optimal\" + 0.006*\"dynamic\" + 0.005*\"robot\" + 0.005*\"environment\" + 0.005*\"reward\"'),\n",
       " (5,\n",
       "  '0.015*\"representation\" + 0.012*\"layer\" + 0.011*\"image\" + 0.009*\"object\" + 0.008*\"component\" + 0.006*\"face\" + 0.006*\"map\" + 0.006*\"signal\" + 0.005*\"code\" + 0.005*\"activity\"'),\n",
       " (6,\n",
       "  '0.013*\"speech\" + 0.012*\"classifier\" + 0.012*\"class\" + 0.010*\"recognition\" + 0.009*\"mixture\" + 0.009*\"classification\" + 0.007*\"tree\" + 0.007*\"likelihood\" + 0.006*\"node\" + 0.006*\"sample\"'),\n",
       " (7,\n",
       "  '0.024*\"neuron\" + 0.021*\"cell\" + 0.010*\"response\" + 0.009*\"spike\" + 0.009*\"stimulus\" + 0.008*\"activity\" + 0.008*\"synaptic\" + 0.006*\"signal\" + 0.006*\"frequency\" + 0.006*\"cortex\"'),\n",
       " (8,\n",
       "  '0.019*\"image\" + 0.011*\"chip\" + 0.010*\"motion\" + 0.010*\"circuit\" + 0.010*\"field\" + 0.008*\"analog\" + 0.008*\"direction\" + 0.007*\"visual\" + 0.007*\"map\" + 0.007*\"object\"'),\n",
       " (9,\n",
       "  '0.010*\"net\" + 0.009*\"recognition\" + 0.009*\"word\" + 0.009*\"hidden\" + 0.008*\"architecture\" + 0.008*\"character\" + 0.007*\"recurrent\" + 0.007*\"layer\" + 0.007*\"rule\" + 0.007*\"hidden_unit\"')]"
      ]
     },
     "execution_count": 67,
     "metadata": {},
     "output_type": "execute_result"
    }
   ],
   "source": [
    "model.show_topics(num_topics=10)"
   ]
  },
  {
   "cell_type": "markdown",
   "metadata": {},
   "source": [
    "These topics are by no means perfect. They have problems such as *chained topics*, *intruded words*, *random topics*, and *unbalanced topics* (see [Mimno and co-authors 2011](https://people.cs.umass.edu/~wallach/publications/mimno11optimizing.pdf)). They will do for the purposes of this tutorial, however.\n",
    "\n",
    "**TODO:** re-write the interpretation of the topics below, if necessary.\n",
    "\n",
    "Below, we use the `model[name]` syntax to retrieve the topic distribution for some authors. Comparing the authors' topics with the topics above, we observe that the model has correctly identified that Yann LeCun and Geoffrey E. Hinton both have something to do with neural networks (topic 5), speech recognition (topic 1 and 5) and statistical machine learning (topic 9). We also observe that Yann LeCun has been particularly occupied with image processing, and perhaps that Geoffrey E. Hinton has worked with visual perception in neuroscience (this is less clear).\n",
    "\n",
    "Similarly, Terrence J. Sejnowski and James M. Bower are both neuroscientist, first and foremost, and their topic distributions seem to reflect that."
   ]
  },
  {
   "cell_type": "code",
   "execution_count": 68,
   "metadata": {
    "collapsed": false
   },
   "outputs": [
    {
     "name": "stdout",
     "output_type": "stream",
     "text": [
      "\n",
      "YannLeCun\n",
      "Docs: [143, 406, 370, 495, 456, 449, 595, 616, 760, 752, 1532]\n",
      "Topics:\n",
      "[(3, 0.29943682408405564), (9, 0.70035037360056807)]\n",
      "\n",
      "GeoffreyE.Hinton\n",
      "Docs: [56, 143, 284, 230, 197, 462, 463, 430, 688, 784, 826, 848, 869, 1387, 1684, 1728]\n",
      "Topics:\n",
      "[(4, 0.07225384180855414), (5, 0.92764230357402855)]\n",
      "\n",
      "TerrenceJ.Sejnowski\n",
      "Docs: [513, 530, 539, 468, 611, 581, 600, 594, 703, 711, 849, 981, 944, 865, 850, 883, 881, 1221, 1137, 1224, 1146, 1282, 1248, 1179, 1424, 1359, 1528, 1484, 1571, 1727, 1732]\n",
      "Topics:\n",
      "[(5, 0.86190832291064989), (7, 0.13802575466031855)]\n",
      "\n",
      "JamesM.Bower\n",
      "Docs: [17, 48, 58, 131, 101, 126, 127, 281, 208, 225]\n",
      "Topics:\n",
      "[(7, 0.99980671969007273)]\n"
     ]
    }
   ],
   "source": [
    "from pprint import pprint\n",
    "\n",
    "name = 'YannLeCun'\n",
    "print('\\n%s' % name)\n",
    "print('Docs:', author2doc[name])\n",
    "print('Topics:')\n",
    "pprint(model[name])\n",
    "\n",
    "name = 'GeoffreyE.Hinton'\n",
    "print('\\n%s' % name)\n",
    "print('Docs:', author2doc[name])\n",
    "print('Topics:')\n",
    "pprint(model[name])\n",
    "\n",
    "name = 'TerrenceJ.Sejnowski'\n",
    "print('\\n%s' % name)\n",
    "print('Docs:', author2doc[name])\n",
    "print('Topics:')\n",
    "pprint(model[name])\n",
    "\n",
    "name = 'JamesM.Bower'\n",
    "print('\\n%s' % name)\n",
    "print('Docs:', author2doc[name])\n",
    "print('Topics:')\n",
    "pprint(model[name])"
   ]
  },
  {
   "cell_type": "markdown",
   "metadata": {},
   "source": [
    "We can construct the `doc2author` dictionary ourselves."
   ]
  },
  {
   "cell_type": "code",
   "execution_count": 43,
   "metadata": {
    "collapsed": false
   },
   "outputs": [],
   "source": [
    "from gensim.models import atmodel\n",
    "doc2author = atmodel.construct_doc2author(author2doc=author2doc, corpus=corpus)"
   ]
  },
  {
   "cell_type": "markdown",
   "metadata": {},
   "source": [
    "We can also compute the (per-word) bound."
   ]
  },
  {
   "cell_type": "code",
   "execution_count": 44,
   "metadata": {
    "collapsed": false
   },
   "outputs": [
    {
     "data": {
      "text/plain": [
       "-7.6914582241156673"
      ]
     },
     "execution_count": 44,
     "metadata": {},
     "output_type": "execute_result"
    }
   ],
   "source": [
    "# Compute the per-word bound.\n",
    "# Number of words in corpus.\n",
    "corpus_words = sum(cnt for document in corpus for _, cnt in document)\n",
    "\n",
    "# Compute bound and divide by number of words.\n",
    "perwordbound = model.bound(corpus, author2doc=author2doc, doc2author=doc2author) / corpus_words\n",
    "print(perwordbound)"
   ]
  },
  {
   "cell_type": "markdown",
   "metadata": {},
   "source": [
    "We can evaluate the quality of the topics by computing the topic coherence, as in the LDA class. Use this to e.g. find out which of the topics are poor quality, or as a metric for model selection."
   ]
  },
  {
   "cell_type": "code",
   "execution_count": 65,
   "metadata": {
    "collapsed": false
   },
   "outputs": [
    {
     "name": "stdout",
     "output_type": "stream",
     "text": [
      "CPU times: user 17.1 s, sys: 0 ns, total: 17.1 s\n",
      "Wall time: 17.1 s\n"
     ]
    }
   ],
   "source": [
    "%time top_topics = model.top_topics(corpus)"
   ]
  },
  {
   "cell_type": "markdown",
   "metadata": {},
   "source": [
    "### Explore author-topic representation"
   ]
  },
  {
   "cell_type": "code",
   "execution_count": 70,
   "metadata": {
    "collapsed": true
   },
   "outputs": [],
   "source": [
    "from sklearn.manifold import TSNE\n",
    "tsne = TSNE(n_components=2, random_state=0)\n",
    "_ = tsne.fit_transform(model.state.gamma)  # Result stored in tsne.embedding_"
   ]
  },
  {
   "cell_type": "code",
   "execution_count": 71,
   "metadata": {
    "collapsed": false,
    "scrolled": true
   },
   "outputs": [
    {
     "data": {
      "text/html": [
       "\n",
       "    <div class=\"bk-root\">\n",
       "        <a href=\"http://bokeh.pydata.org\" target=\"_blank\" class=\"bk-logo bk-logo-small bk-logo-notebook\"></a>\n",
       "        <span id=\"412cdc4a-952a-4aad-a8e6-0d41a2082466\">Loading BokehJS ...</span>\n",
       "    </div>"
      ]
     },
     "metadata": {},
     "output_type": "display_data"
    },
    {
     "data": {
      "application/javascript": [
       "\n",
       "(function(global) {\n",
       "  function now() {\n",
       "    return new Date();\n",
       "  }\n",
       "\n",
       "  var force = \"1\";\n",
       "\n",
       "  if (typeof (window._bokeh_onload_callbacks) === \"undefined\" || force !== \"\") {\n",
       "    window._bokeh_onload_callbacks = [];\n",
       "    window._bokeh_is_loading = undefined;\n",
       "  }\n",
       "\n",
       "\n",
       "  \n",
       "  if (typeof (window._bokeh_timeout) === \"undefined\" || force !== \"\") {\n",
       "    window._bokeh_timeout = Date.now() + 5000;\n",
       "    window._bokeh_failed_load = false;\n",
       "  }\n",
       "\n",
       "  var NB_LOAD_WARNING = {'data': {'text/html':\n",
       "     \"<div style='background-color: #fdd'>\\n\"+\n",
       "     \"<p>\\n\"+\n",
       "     \"BokehJS does not appear to have successfully loaded. If loading BokehJS from CDN, this \\n\"+\n",
       "     \"may be due to a slow or bad network connection. Possible fixes:\\n\"+\n",
       "     \"</p>\\n\"+\n",
       "     \"<ul>\\n\"+\n",
       "     \"<li>re-rerun `output_notebook()` to attempt to load from CDN again, or</li>\\n\"+\n",
       "     \"<li>use INLINE resources instead, as so:</li>\\n\"+\n",
       "     \"</ul>\\n\"+\n",
       "     \"<code>\\n\"+\n",
       "     \"from bokeh.resources import INLINE\\n\"+\n",
       "     \"output_notebook(resources=INLINE)\\n\"+\n",
       "     \"</code>\\n\"+\n",
       "     \"</div>\"}};\n",
       "\n",
       "  function display_loaded() {\n",
       "    if (window.Bokeh !== undefined) {\n",
       "      Bokeh.$(\"#412cdc4a-952a-4aad-a8e6-0d41a2082466\").text(\"BokehJS successfully loaded.\");\n",
       "    } else if (Date.now() < window._bokeh_timeout) {\n",
       "      setTimeout(display_loaded, 100)\n",
       "    }\n",
       "  }\n",
       "\n",
       "  function run_callbacks() {\n",
       "    window._bokeh_onload_callbacks.forEach(function(callback) { callback() });\n",
       "    delete window._bokeh_onload_callbacks\n",
       "    console.info(\"Bokeh: all callbacks have finished\");\n",
       "  }\n",
       "\n",
       "  function load_libs(js_urls, callback) {\n",
       "    window._bokeh_onload_callbacks.push(callback);\n",
       "    if (window._bokeh_is_loading > 0) {\n",
       "      console.log(\"Bokeh: BokehJS is being loaded, scheduling callback at\", now());\n",
       "      return null;\n",
       "    }\n",
       "    if (js_urls == null || js_urls.length === 0) {\n",
       "      run_callbacks();\n",
       "      return null;\n",
       "    }\n",
       "    console.log(\"Bokeh: BokehJS not loaded, scheduling load and callback at\", now());\n",
       "    window._bokeh_is_loading = js_urls.length;\n",
       "    for (var i = 0; i < js_urls.length; i++) {\n",
       "      var url = js_urls[i];\n",
       "      var s = document.createElement('script');\n",
       "      s.src = url;\n",
       "      s.async = false;\n",
       "      s.onreadystatechange = s.onload = function() {\n",
       "        window._bokeh_is_loading--;\n",
       "        if (window._bokeh_is_loading === 0) {\n",
       "          console.log(\"Bokeh: all BokehJS libraries loaded\");\n",
       "          run_callbacks()\n",
       "        }\n",
       "      };\n",
       "      s.onerror = function() {\n",
       "        console.warn(\"failed to load library \" + url);\n",
       "      };\n",
       "      console.log(\"Bokeh: injecting script tag for BokehJS library: \", url);\n",
       "      document.getElementsByTagName(\"head\")[0].appendChild(s);\n",
       "    }\n",
       "  };var element = document.getElementById(\"412cdc4a-952a-4aad-a8e6-0d41a2082466\");\n",
       "  if (element == null) {\n",
       "    console.log(\"Bokeh: ERROR: autoload.js configured with elementid '412cdc4a-952a-4aad-a8e6-0d41a2082466' but no matching script tag was found. \")\n",
       "    return false;\n",
       "  }\n",
       "\n",
       "  var js_urls = ['https://cdn.pydata.org/bokeh/release/bokeh-0.12.3.min.js', 'https://cdn.pydata.org/bokeh/release/bokeh-widgets-0.12.3.min.js'];\n",
       "\n",
       "  var inline_js = [\n",
       "    function(Bokeh) {\n",
       "      Bokeh.set_log_level(\"info\");\n",
       "    },\n",
       "    \n",
       "    function(Bokeh) {\n",
       "      \n",
       "      Bokeh.$(\"#412cdc4a-952a-4aad-a8e6-0d41a2082466\").text(\"BokehJS is loading...\");\n",
       "    },\n",
       "    function(Bokeh) {\n",
       "      console.log(\"Bokeh: injecting CSS: https://cdn.pydata.org/bokeh/release/bokeh-0.12.3.min.css\");\n",
       "      Bokeh.embed.inject_css(\"https://cdn.pydata.org/bokeh/release/bokeh-0.12.3.min.css\");\n",
       "      console.log(\"Bokeh: injecting CSS: https://cdn.pydata.org/bokeh/release/bokeh-widgets-0.12.3.min.css\");\n",
       "      Bokeh.embed.inject_css(\"https://cdn.pydata.org/bokeh/release/bokeh-widgets-0.12.3.min.css\");\n",
       "    }\n",
       "  ];\n",
       "\n",
       "  function run_inline_js() {\n",
       "    \n",
       "    if ((window.Bokeh !== undefined) || (force === \"1\")) {\n",
       "      for (var i = 0; i < inline_js.length; i++) {\n",
       "        inline_js[i](window.Bokeh);\n",
       "      }if (force === \"1\") {\n",
       "        display_loaded();\n",
       "      }} else if (Date.now() < window._bokeh_timeout) {\n",
       "      setTimeout(run_inline_js, 100);\n",
       "    } else if (!window._bokeh_failed_load) {\n",
       "      console.log(\"Bokeh: BokehJS failed to load within specified timeout.\");\n",
       "      window._bokeh_failed_load = true;\n",
       "    } else if (!force) {\n",
       "      var cell = $(\"#412cdc4a-952a-4aad-a8e6-0d41a2082466\").parents('.cell').data().cell;\n",
       "      cell.output_area.append_execute_result(NB_LOAD_WARNING)\n",
       "    }\n",
       "\n",
       "  }\n",
       "\n",
       "  if (window._bokeh_is_loading === 0) {\n",
       "    console.log(\"Bokeh: BokehJS loaded, going straight to plotting\");\n",
       "    run_inline_js();\n",
       "  } else {\n",
       "    load_libs(js_urls, function() {\n",
       "      console.log(\"Bokeh: BokehJS plotting callback run at\", now());\n",
       "      run_inline_js();\n",
       "    });\n",
       "  }\n",
       "}(this));"
      ]
     },
     "metadata": {},
     "output_type": "display_data"
    }
   ],
   "source": [
    "from bokeh.io import output_notebook\n",
    "from bokeh.models import HoverTool\n",
    "from bokeh.plotting import figure, show, ColumnDataSource\n",
    "\n",
    "output_notebook()"
   ]
  },
  {
   "cell_type": "markdown",
   "metadata": {},
   "source": [
    "If you are unable to view or interact with the plot below, it is available [here]() (**TODO:** make a page for the plot, and include the link), or view the entire notebook [here]() (**TODO:** make nvbiewer page for the notebook or something)."
   ]
  },
  {
   "cell_type": "code",
   "execution_count": 72,
   "metadata": {
    "collapsed": false
   },
   "outputs": [
    {
     "data": {
      "text/html": [
       "\n",
       "\n",
       "    <div class=\"bk-root\">\n",
       "        <div class=\"plotdiv\" id=\"a9206eff-65a8-4559-8246-25929e04f80b\"></div>\n",
       "    </div>\n",
       "<script type=\"text/javascript\">\n",
       "  \n",
       "  (function(global) {\n",
       "    function now() {\n",
       "      return new Date();\n",
       "    }\n",
       "  \n",
       "    var force = \"\";\n",
       "  \n",
       "    if (typeof (window._bokeh_onload_callbacks) === \"undefined\" || force !== \"\") {\n",
       "      window._bokeh_onload_callbacks = [];\n",
       "      window._bokeh_is_loading = undefined;\n",
       "    }\n",
       "  \n",
       "  \n",
       "    \n",
       "    if (typeof (window._bokeh_timeout) === \"undefined\" || force !== \"\") {\n",
       "      window._bokeh_timeout = Date.now() + 0;\n",
       "      window._bokeh_failed_load = false;\n",
       "    }\n",
       "  \n",
       "    var NB_LOAD_WARNING = {'data': {'text/html':\n",
       "       \"<div style='background-color: #fdd'>\\n\"+\n",
       "       \"<p>\\n\"+\n",
       "       \"BokehJS does not appear to have successfully loaded. If loading BokehJS from CDN, this \\n\"+\n",
       "       \"may be due to a slow or bad network connection. Possible fixes:\\n\"+\n",
       "       \"</p>\\n\"+\n",
       "       \"<ul>\\n\"+\n",
       "       \"<li>re-rerun `output_notebook()` to attempt to load from CDN again, or</li>\\n\"+\n",
       "       \"<li>use INLINE resources instead, as so:</li>\\n\"+\n",
       "       \"</ul>\\n\"+\n",
       "       \"<code>\\n\"+\n",
       "       \"from bokeh.resources import INLINE\\n\"+\n",
       "       \"output_notebook(resources=INLINE)\\n\"+\n",
       "       \"</code>\\n\"+\n",
       "       \"</div>\"}};\n",
       "  \n",
       "    function display_loaded() {\n",
       "      if (window.Bokeh !== undefined) {\n",
       "        Bokeh.$(\"#a9206eff-65a8-4559-8246-25929e04f80b\").text(\"BokehJS successfully loaded.\");\n",
       "      } else if (Date.now() < window._bokeh_timeout) {\n",
       "        setTimeout(display_loaded, 100)\n",
       "      }\n",
       "    }\n",
       "  \n",
       "    function run_callbacks() {\n",
       "      window._bokeh_onload_callbacks.forEach(function(callback) { callback() });\n",
       "      delete window._bokeh_onload_callbacks\n",
       "      console.info(\"Bokeh: all callbacks have finished\");\n",
       "    }\n",
       "  \n",
       "    function load_libs(js_urls, callback) {\n",
       "      window._bokeh_onload_callbacks.push(callback);\n",
       "      if (window._bokeh_is_loading > 0) {\n",
       "        console.log(\"Bokeh: BokehJS is being loaded, scheduling callback at\", now());\n",
       "        return null;\n",
       "      }\n",
       "      if (js_urls == null || js_urls.length === 0) {\n",
       "        run_callbacks();\n",
       "        return null;\n",
       "      }\n",
       "      console.log(\"Bokeh: BokehJS not loaded, scheduling load and callback at\", now());\n",
       "      window._bokeh_is_loading = js_urls.length;\n",
       "      for (var i = 0; i < js_urls.length; i++) {\n",
       "        var url = js_urls[i];\n",
       "        var s = document.createElement('script');\n",
       "        s.src = url;\n",
       "        s.async = false;\n",
       "        s.onreadystatechange = s.onload = function() {\n",
       "          window._bokeh_is_loading--;\n",
       "          if (window._bokeh_is_loading === 0) {\n",
       "            console.log(\"Bokeh: all BokehJS libraries loaded\");\n",
       "            run_callbacks()\n",
       "          }\n",
       "        };\n",
       "        s.onerror = function() {\n",
       "          console.warn(\"failed to load library \" + url);\n",
       "        };\n",
       "        console.log(\"Bokeh: injecting script tag for BokehJS library: \", url);\n",
       "        document.getElementsByTagName(\"head\")[0].appendChild(s);\n",
       "      }\n",
       "    };var element = document.getElementById(\"a9206eff-65a8-4559-8246-25929e04f80b\");\n",
       "    if (element == null) {\n",
       "      console.log(\"Bokeh: ERROR: autoload.js configured with elementid 'a9206eff-65a8-4559-8246-25929e04f80b' but no matching script tag was found. \")\n",
       "      return false;\n",
       "    }\n",
       "  \n",
       "    var js_urls = [];\n",
       "  \n",
       "    var inline_js = [\n",
       "      function(Bokeh) {\n",
       "        Bokeh.$(function() {\n",
       "            var docs_json = {\"22769a8b-fa62-4168-9e3a-010cddfbf4ab\":{\"roots\":{\"references\":[{\"attributes\":{\"fill_alpha\":{\"value\":0.1},\"fill_color\":{\"value\":\"#1f77b4\"},\"line_alpha\":{\"value\":0.1},\"line_color\":{\"value\":\"#1f77b4\"},\"radius\":{\"field\":\"radii\",\"units\":\"data\"},\"x\":{\"field\":\"x\"},\"y\":{\"field\":\"y\"}},\"id\":\"5315c9da-ff9f-4c9f-8119-c83db09b7cc3\",\"type\":\"Circle\"},{\"attributes\":{\"fill_alpha\":{\"value\":0.5},\"fill_color\":{\"value\":\"lightgrey\"},\"level\":\"overlay\",\"line_alpha\":{\"value\":1.0},\"line_color\":{\"value\":\"black\"},\"line_dash\":[4,4],\"line_width\":{\"value\":2},\"plot\":null,\"xs_units\":\"screen\",\"ys_units\":\"screen\"},\"id\":\"84a75532-9cb4-4f5a-8a68-561ab38e6ee1\",\"type\":\"PolyAnnotation\"},{\"attributes\":{\"callback\":null,\"column_names\":[\"radii\",\"author_names\",\"y\",\"x\"],\"data\":{\"author_names\":[\"A.A.Handzel\",\"A.Afghan\",\"A.B.Bonds\",\"A.B.Kirillov\",\"A.Blake\",\"A.C.C.Coolen\",\"A.C.Tsoi\",\"A.Cichocki\",\"A.D.Back\",\"A.D.Rexlish\",\"A.Dembo\",\"A.Drees\",\"A.During\",\"A.E.Friedman\",\"A.F.Murray\",\"A.Ferguson\",\"A.G.Barto\",\"A.G.U.Perera\",\"A.Gersho\",\"A.Grunewald\",\"A.H.L.West\",\"A.HarryKlopf\",\"A.Hartstein\",\"A.Horst\",\"A.J.Bell\",\"A.J.Holmes\",\"A.J.Robinson\",\"A.Jagota\",\"A.Jayakumar\",\"A.Juels\",\"A.K.Krishnamurthy\",\"A.Kowalczyk\",\"A.Kramer\",\"A.Krogh\",\"A.L.Yuille\",\"A.Linden\",\"A.M.Annaswamy\",\"A.Marcantonio\",\"A.Meyer-Baese\",\"A.MiguelSanMartin\",\"A.Moopenn\",\"A.N.Michel\",\"A.NellBurgess\",\"A.Orlitsky\",\"A.P.Dunmur\",\"A.P.Thakoor\",\"A.Pentland\",\"A.Pouget\",\"A.R.Bulsara\",\"A.Rangarajan\",\"A.Rao\",\"A.Sangiovanni-Vincentelli\",\"A.Sato\",\"A.Senior\",\"A.Sergejew\",\"A.Shustorovich\",\"A.U.Levin\",\"A.W.Moore\",\"A.Zador\",\"A.vanSchaik\",\"AapoHyvarinen\",\"AapoHyvarrinen\",\"AbirZahalka\",\"AchimStahlberger\",\"AdAertsen\",\"AdamJ.Grove\",\"AdamJ.Nucci\",\"AdamKowalczyk\",\"AdamKrzyzak\",\"AdamN.Mamelak\",\"AdamPrtigel-Bennett\",\"AdrianTrapletti\",\"AhChungTsoi\",\"AjayGupta\",\"AjayN.Jain\",\"AkayshaC.Tang\",\"AkioTanaka\",\"AkiraHayashi\",\"AkitoSakurai\",\"AlanBarr\",\"AlanBlair\",\"AlanD.Blair\",\"AlanD.Marts\",\"AlanEMurray\",\"AlanF.Murray\",\"AlanH.Barr\",\"AlanH.Kramer\",\"AlanJ.Harget\",\"AlanL.Yuille\",\"AlanLapedes\",\"AlanMurray\",\"AlanStocker\",\"AlanYuille\",\"AlbertoBertoni\",\"AlbertoSangiovanni-Vincentelli\",\"AldraWatanabe\",\"AlessandroSperduti\",\"AlexChemjavsky\",\"AlexJ.Smola\",\"AlexP.Pentland\",\"AlexPentland\",\"AlexRobel\",\"AlexSmola\",\"AlexT.Nelson\",\"AlexWaibel\",\"AlexanderDimitrov\",\"AlexanderGrunewald\",\"AlexanderJ.Smola\",\"AlexanderJourjine\",\"AlexanderLinden\",\"AlexanderMoopenn\",\"AlexanderRoitershtein\",\"AlexanderSinger\",\"AlexanderT.Ihler\",\"Alexandervon-zur-Muhlen\",\"AlexandrePouget\",\"AlfonsoRenart\",\"AliA.Minai\",\"AliH.Sayed\",\"AliceChiang\",\"AliceM.Chiang\",\"AlirezaKhotanzad\",\"AlisterHamilton\",\"AllenI.Selverston\",\"AllenM.Peterson\",\"AllenM.Waxman\",\"AlokeGuha\",\"AlvaroA.Cmz-Cabrara\",\"AlyssaApsel\",\"AmirAtiya\",\"AmirDembo\",\"AmirF.Atiya\",\"AmitManwani\",\"AmnonShashua\",\"AmnonYariv\",\"AmyMcGovern\",\"AnandRangarajan\",\"AndersKrogh\",\"AndreElisseeff\",\"AndreJ.Noest\",\"AndreLongtin\",\"AndreStechert\",\"AndreasG.Andreou\",\"AndreasHerz\",\"AndreasM.Bartels\",\"AndreasS.Weigend\",\"AndreasStafylopatis\",\"AndreasStolcke\",\"AndreasWeigend\",\"AndreasZiehe\",\"AndresRodriguez\",\"Andrevan-Schaik\",\"AndrewBack\",\"AndrewBlake\",\"AndrewD.Brown\",\"AndrewD.J.Cross\",\"AndrewG.Barto\",\"AndrewGee\",\"AndrewH.Gee\",\"AndrewHsu\",\"AndrewLippman\",\"AndrewM.Finch\",\"AndrewMoore\",\"AndrewR.Barron\",\"AndrewR.Webb\",\"AndrewS.Noetzel\",\"AndrewW.Moore\",\"AndrewY.Ng\",\"Andrfivan-Schaik\",\"AndrzejCichocki\",\"AnenGersho\",\"AnnaCorderoy\",\"AnnaMorpurgo\",\"AnsgarH.L.West\",\"Antalvan-den-Bosch\",\"AnthonyBell\",\"AnthonyBloesch\",\"AnthonyJ.Bell\",\"AnthonyJ.R.Heading\",\"AnthonyJayakumar\",\"AnthonyKuh\",\"AnthonyLaVigna\",\"AnthonyM.Zador\",\"AnthonyV.W.Smith\",\"AnthonyZador\",\"AntonGunzinger\",\"AntonSchwartz\",\"AntoninaStarita\",\"AntonioTuriel\",\"AnyaC.Hurlbert\",\"AnyaHurlbert\",\"AoZee\",\"ArchismartRudra\",\"ArlindoL.Oliveira\",\"ArmandoManduca\",\"ArnaudDoucet\",\"ArthurB.Markman\",\"ArthurFlexer\",\"ArthurMcNair\",\"AsaBen-Hut\",\"AsrielU.Levin\",\"AssafJ.Zeevi\",\"AtamP.Dhawan\",\"AthanasiosG.Tsirukis\",\"AthanassiosSiapas\",\"AudreyL.Guzik\",\"AvijitSaha\",\"AvnerPriel\",\"AvrimBlum\",\"AxelCleeremans\",\"AyhanDemiriz\",\"B.A.Golomb\",\"B.A.Pearlmutter\",\"B.Boser\",\"B.DasGupta\",\"B.Flower\",\"B.G.Home\",\"B.J.Frey\",\"B.Kingsbury\",\"B.Lemarie\",\"B.Linares-Barranco\",\"B.P.Yuhas\",\"B.Parmanto\",\"B.Ravindran\",\"B.Scholkopf\",\"B.V.K.VijayaKumar\",\"B.V.Roy\",\"B.W.Mel\",\"B.Yuhas\",\"BabackMoghaddam\",\"BabakHassibi\",\"BahramNabet\",\"BalazsKegl\",\"BarakA.Pearlmutter\",\"BarakPearlmutter\",\"BarbaraKlein\",\"BarbaraRosario\",\"BarbaraWold\",\"BarnbangParmanto\",\"BarryFlower\",\"BarryJ.Richmond\",\"BartlettMel\",\"BartlettW.Mel\",\"BehnaamAazhang\",\"BemdFritzke\",\"BenA.Marcotte\",\"BenNorth\",\"BenS.Wittner\",\"Benjaminvan-Roy\",\"BennyLautmp\",\"BenoitHuet\",\"BernardDoyon\",\"BernardVictorri\",\"BernardoA.Huberman\",\"BernardoHuberman\",\"Bernd-PeterParis\",\"BerndFritzke\",\"BernhardE.Boser\",\"BernhardScholkopf\",\"BernhardSchottky\",\"Bertde-Vries\",\"BertramE.Shi\",\"BhaskarDasGupta\",\"BhusanGupta\",\"BillBaird\",\"BillG.Home\",\"BillG.Horne\",\"BillHorne\",\"BimalMathur\",\"BjomLambrigsten\",\"BojanPetek\",\"BraceRosen\",\"BradleyA.Minch\",\"BradleyC.Love\",\"BradleyTonkes\",\"BradleyW.Dickinson\",\"BrandynWebb\",\"BrendaClaiborne\",\"BrendaJ.Claiborne\",\"BrendanJ.Frey\",\"BrianBox\",\"BrianD.McVey\",\"BrianRasnow\",\"BrianS.Blais\",\"BrianSallans\",\"BrianV.Bonnlander\",\"BrookeAnderson\",\"BrooksBisofberger\",\"BruceDow\",\"BruceE.Rosen\",\"BruceGraham\",\"BruceL.McNaughton\",\"BruceMacDonald\",\"BrunoA.Olshausen\",\"BrunoCaprile\",\"BrunoCessac\",\"ByronDom\",\"C.A.Mead\",\"C.A.Micchelli\",\"C.B.Miller\",\"C.C.Atkeson\",\"C.Cones\",\"C.D.Spence\",\"C.Darken\",\"C.E.Rasmussen\",\"C.E.Schreiner\",\"C.F.Beckmann\",\"C.I.Thorbergsson\",\"C.J.C.H.Watkins\",\"C.J.Heckman\",\"C.J.Wellekens\",\"C.K.I.Williams\",\"C.K.Sin\",\"C.Kenyon\",\"C.Koch\",\"C.L.Fry\",\"C.L.Giles\",\"C.L.Winter\",\"C.LeeGiles\",\"C.M.Bishop\",\"C.M.Marcus\",\"C.Neukirchen\",\"C.Nohl\",\"C.Stevens\",\"C.T.Abdallah\",\"C.W.H.Mace\",\"C.W.Thrasher\",\"CandaceKamm\",\"CarlE.Rasmussen\",\"CarlaBrodley\",\"CarlaJ.Shatz\",\"CarlosBrody\",\"CarlosD.Brody\",\"CarlosMejia\",\"CarreitSahar-Pikielny\",\"CarverA.Mead\",\"CarverMead\",\"CatherineE.Myers\",\"CatherineStevens\",\"CazhaowS.Qazaz\",\"CedricDeffayet\",\"CesareFurlanello\",\"Ch.Tietz\",\"Chan-doLee\",\"ChangfengWang\",\"ChanthalChatterjee\",\"CharlesENeugebauer\",\"CharlesElbaurn\",\"CharlesF.Stevens\",\"CharlesFefferman\",\"CharlesL.Isbell\",\"CharlesM.Higgins\",\"CharlesM.Marcus\",\"CharlesRosenberg\",\"CharlesSchley\",\"CharlesStein\",\"CharlesW.Anderson\",\"ChdstofKoch\",\"Chiang-JungPu\",\"Chien-PingLu\",\"ChienPingLu\",\"ChongGu\",\"ChrisDiorio\",\"ChrisJ.C.Burges\",\"ChrisM.Bishop\",\"ChrisMesterharm\",\"ChristianDarken\",\"ChristianLebiere\",\"ChristianPiepenbrock\",\"ChristianW.Eurich\",\"ChristianeLinster\",\"ChristofKoch\",\"ChristofSchofl\",\"ChristophBregler\",\"ChristophE.Schreiner\",\"ChristophSchaefers\",\"ChristopheAndrieu\",\"ChristopheK.I.Williams\",\"ChristopherAssad\",\"ChristopherAtkeson\",\"ChristopherBowman\",\"ChristopherConnolly\",\"ChristopherDonham\",\"ChristopherG.Atkeson\",\"ChristopherJ.C.Burges\",\"ChristopherJ.Matheus\",\"ChristopherJ.Merz\",\"ChristopherJ.Metz\",\"ChristopherK.I.Williams\",\"ChristopherL.Scofield\",\"ChristopherM.Bishop\",\"ChristopherWilliams\",\"Chuan-LinWu\",\"ChuanyiJi\",\"ChuckWooters\",\"ChulanKwon\",\"ClaireLegleye\",\"ClaudeNadeau\",\"ClaudineMasson\",\"ClaudioGentile\",\"ClausBenkert\",\"ClayD.Spence\",\"ClaySpence\",\"ClaytonMcMillan\",\"CliffordLau\",\"ClintS.Cole\",\"ColinCampbell\",\"ColinG.Windsor\",\"ColinHumphties\",\"ConradC.Galland\",\"CorM.van-den-Bleek\",\"CorinnaCortes\",\"CraigR.Nohl\",\"CraigT.Jin\",\"CristophBregler\",\"CsabaSzepesvfixi\",\"CtuistophNeukirchen\",\"CurtisPadgett\",\"CyrilLatimer\",\"D.B.Schwartz\",\"D.Brandeis\",\"D.Chen\",\"D.D.Coon\",\"D.D.Lee\",\"D.Geiger\",\"D.H.Ballard\",\"D.Hammerstrom\",\"D.Henderson\",\"D.J.Kershaw\",\"D.J.Willshaw\",\"D.Johnson\",\"D.Kontoravdis\",\"D.L.Standley\",\"D.Lippe\",\"D.M.Titterington\",\"D.MacKay\",\"D.Ormoneit\",\"D.P.Helmbold\",\"D.S.C.So\",\"D.S.Tang\",\"D.S.Touretzky\",\"D.Saad\",\"D.Shemngton\",\"D.Sherrington\",\"D.T.Lawrence\",\"D.W.Opitz\",\"D.Yeung\",\"DaleK.Lee\",\"DaleSchuurmans\",\"DanCornford\",\"DanHammerstrom\",\"DanRoth\",\"DanaH.Ballard\",\"DanaRon\",\"DanaZ.Anderson\",\"DanielB.Schwartz\",\"DanielD.Lee\",\"DanielH.Lange\",\"DanielJ.Rosen\",\"DanielKammen\",\"DanielKersten\",\"DanielL.Alkon\",\"DanielL.James\",\"DanielL.Ruderman\",\"DanielM.Kammen\",\"DanielM.Wolpert\",\"DanielNissman\",\"DanielPotter\",\"DanielRuderman\",\"DanielS.Clouse\",\"DanielSchwartz\",\"DanielWillett\",\"DaphnaWeinshall\",\"DaphneBavelier\",\"DaphneKoller\",\"DarkoStefanovic\",\"DarrellLaham\",\"DarrenMutz\",\"DaveGillespie\",\"DaviGeiger\",\"DavidA.Cohn\",\"DavidA.Kessler\",\"DavidA.Nix\",\"DavidA.Robinson\",\"DavidAndre\",\"DavidB.Grimes\",\"DavidB.Kirk\",\"DavidB.Parker\",\"DavidB.Rosen\",\"DavidBarber\",\"DavidBlackman\",\"DavidBrady\",\"DavidChapman\",\"DavidCohn\",\"DavidDeMers\",\"DavidE.Rumelhart\",\"DavidE.VandenBout\",\"DavidFeld\",\"DavidForsyth\",\"DavidG.Grier\",\"DavidG.Stork\",\"DavidG.Ward\",\"DavidGoodine\",\"DavidH.Ackley\",\"DavidH.Wolpert\",\"DavidHandelman\",\"DavidHaussler\",\"DavidHelmbold\",\"DavidHorn\",\"DavidJ.Burr\",\"DavidJ.C.MacKay\",\"DavidJ.Crisp\",\"DavidJ.Foster\",\"DavidJ.Miller\",\"DavidKirk\",\"DavidL.Bisset\",\"DavidL.Trotman\",\"DavidL.Waltz\",\"DavidLowe\",\"DavidMarsan\",\"DavidMarson\",\"DavidMcAllester\",\"DavidMontana\",\"DavidNix\",\"DavidPrice\",\"DavidRogers\",\"DavidRumelhart\",\"DavidS.Touretzky\",\"DavidSaad\",\"DavidScheeff\",\"DavidServan-Schreiber\",\"DavidShahian\",\"DavidSomers\",\"DavidStork\",\"DavidTam\",\"DavidTerman\",\"DavidTouretzky\",\"DavidVandenBout\",\"DavidW.Jacobs\",\"DavidWarland\",\"DavidWillshaw\",\"DavidWolpert\",\"DavidZipser\",\"DaweiDong\",\"DaweiW.Dong\",\"DeLiangL.Wang\",\"DeLiangWang\",\"DeanA.Pomerleau\",\"DeanBrettle\",\"DeanPomerleau\",\"DedreGentner\",\"DeirdreW.Wheeler\",\"DeirdreWheeler\",\"DemetrPsaltis\",\"DemetriPsaltis\",\"DemetriTerzopoulos\",\"DianeLitman\",\"DidierHerschkowitz\",\"DidierKeymeulen\",\"DiegoGiuliani\",\"DiegoSona\",\"DietrichLehmann\",\"DietrichWettschereck\",\"DimitriBertsekas\",\"DimitrisMargaritis\",\"DirkOrmoneit\",\"DirkTimmerman\",\"Dit-YanYeung\",\"DmitriB.Chklovskii\",\"DmitryRinberg\",\"DoinaPrecup\",\"DominikHornel\",\"DonBone\",\"DonMontgomery\",\"DonR.Hush\",\"DonaldB.Malkoff\",\"DonaldJ.Baxter\",\"DonaldMathis\",\"DonaldT.Freeman\",\"DongXiang\",\"DonghuiCai\",\"DonnieHenderson\",\"DorothyA.Mighell\",\"DougJohnson\",\"DougReeves\",\"DouglasBaumgardt\",\"DouglasKerns\",\"DouglasL.Reilly\",\"DouglasR.Martin\",\"E.Alpaydin\",\"E.D.Sontag\",\"E.Domany\",\"E.E.Fetz\",\"E.Ersu\",\"E.Erwin\",\"E.Fragniere\",\"E.Littmann\",\"E.Majani\",\"E.Mjolsness\",\"E.Niebur\",\"E.Pasero\",\"E.Vittoz\",\"E.W.Jacobs\",\"E.Zohary\",\"EHergert\",\"EMoss\",\"EWeber\",\"EalanA.Henis\",\"EberhardE.Fetz\",\"EdgarA.Brown\",\"EdmondoTrentin\",\"EdmundT.Rolls\",\"EduardSackinger\",\"EduardoD.Sontag\",\"EduardoSontag\",\"EdwardK.Blum\",\"EdwardReitman\",\"EdwardSchwartz\",\"EdwardStern\",\"EdwardW.Kairiss\",\"EdwardW.Page\",\"EdwinLewis\",\"EdwinR.Hancock\",\"EeroP.Simoncelli\",\"EgonC.Pasztor\",\"EilonVaadia\",\"EimeiOyama\",\"EinarSorheim\",\"EladSchneidman\",\"EliShamir\",\"ElieBienenstock\",\"EliotMoss\",\"ElizabethC.Behrman\",\"ElliotSinger\",\"EmadN.Eskandar\",\"EmanualV.Todorov\",\"EmanuelTodorov\",\"EmanuelaBricolo\",\"EmmanuelGuigon\",\"EnnioMingolla\",\"EnricoBocchieri\",\"EricA.Hansen\",\"EricA.Wan\",\"EricB.Baum\",\"EricBaum\",\"EricBoussard\",\"EricChang\",\"EricCosatto\",\"EricCourchesne\",\"EricD.Young\",\"EricFragniere\",\"EricGranger\",\"EricI.Chang\",\"EricI.Knudsen\",\"EricJohnson\",\"EricMjolsness\",\"EricPostma\",\"EricS.Reifsnider\",\"EricSaund\",\"EricSchnell\",\"EricVatikiotis-Bateson\",\"EricVittoz\",\"ErichJ.Smythe\",\"ErichWhitney\",\"ErikD.Lumer\",\"ErkkiOja\",\"ErnestFokoue\",\"ErnestWan\",\"ErnstNiebur\",\"EsterLevin\",\"EstherLevin\",\"EtanJ.Markus\",\"EtienneBarnard\",\"EugeneSantos\",\"EvanSteeg\",\"EveMarder\",\"EyalCohen\",\"EyalYair\",\"EytanDomany\",\"EytanRuppin\",\"F.B.Rodriguez\",\"F.Botelho\",\"F.D.Garber\",\"F.Fallside\",\"F.Gingras\",\"F.H.Schuling\",\"F.Ohl\",\"F.R.Waugh\",\"FabioSolari\",\"FabrizioGabbiani\",\"FangyuGao\",\"FedericoFaggin\",\"FedericoGirosi\",\"FerdinandPeper\",\"FerdinandoA.Mussa-Ivaldi\",\"FerdinandoMussa-lvaldi\",\"FernandaBotelho\",\"FernandoJ.Nunez\",\"FernandoJ.Pineda\",\"FernandoLozano\",\"FernandoPineda\",\"FlorisTakens\",\"FouadBadran\",\"FrancesS.Chance\",\"FrancescoVivarelli\",\"FrancisQuek\",\"FrankEeckman\",\"FrankH.Eeckman\",\"FrankMoss\",\"FrankWerblin\",\"FrankWilczek\",\"FranklinJ.Rudolph\",\"FranklinR.Arethor\",\"FransM.Coetzee\",\"FredRieke\",\"FredWolf\",\"FriedrichLeisch\",\"FriedrichLeiseh\",\"FriedrichT.Sommex\",\"Fu-ShengTsung\",\"FxnstR.Dow\",\"G.BjornChristianson\",\"G.Brightwell\",\"G.Cauwenberghs\",\"G.Dreyfus\",\"G.G.Blasdel\",\"G.Hinton\",\"G.Indiveri\",\"G.J.Goodhill\",\"G.J.Gordon\",\"G.J.Kacmarcik\",\"G.J.Zelinsky\",\"G.Jackson\",\"G.L.Heileman\",\"G.L.Martin\",\"G.M.Kuhn\",\"G.N.Borisyuk\",\"G.Rigoll\",\"G.T.Buracas\",\"G.T.Kenyon\",\"G.Towell\",\"G.W.Flake\",\"G.Z.Sun\",\"G.Zavaliagkos\",\"GadiPinkas\",\"GalChechik\",\"GaleL.Martin\",\"GaleMartin\",\"GarethJames\",\"GarrisonCottrell\",\"GarrisonW.Cottrell\",\"GaryBradshaw\",\"GaryCook\",\"GaryG.Blasdel\",\"GaryLynch\",\"GaryM.Kuhn\",\"GaryM.Scott\",\"GaryW.Flake\",\"GavinSmith\",\"GeneA.Tagliarini\",\"GeneBoe\",\"GeneGindi\",\"GenevieveB.Orr\",\"GennadyS.Cymbalyuk\",\"GeoffreyE.Hinton\",\"GeoffreyFox\",\"GeoffreyGoodhill\",\"GeoffreyHinton\",\"GeoffreyJ.Goodhill\",\"GeoffreyOrsak\",\"GeoffreyTowell\",\"GeorgBrabant\",\"GeorgDorffner\",\"GeorgSchnitger\",\"GeorgeLeeZimmerman\",\"GeorgeZavaliagkos\",\"GeraldFahner\",\"GeraldSommer\",\"GeraldTesauro\",\"GeraldineLegendre\",\"GerardDreyfus\",\"GerardinaHernandez\",\"GerhardPaass\",\"GerhardRigoll\",\"GermanMato\",\"GertCauwenberghs\",\"GezaGyorgyi\",\"GfintherPalm\",\"GiacomoM.Bisio\",\"GiancarloFerrari-Trecate\",\"GianlucaBontempi\",\"GianlucaDonato\",\"GideonDror\",\"GideonEInbar\",\"GilletteElvgren\",\"GillianMarshall\",\"GintamsV.Reklaitis\",\"GiovanniFlammia\",\"GirishN.Patel\",\"GlennMarion\",\"GraceWahba\",\"GregMartin\",\"GregoryE.Gonye\",\"GregoryECooper\",\"GregoryJ.Wolff\",\"GregoryM.Saunders\",\"GregoryR.Galperin\",\"GriffBilbro\",\"GrigorisKarakoulas\",\"GunnarRatsch\",\"Guo-ZhenSun\",\"Guo-ZhengSun\",\"GustavoDeco\",\"GuyJ.Brown\",\"GwendalLeMasson\",\"H.A.K.Mastebroek\",\"H.A.Rowley\",\"H.Attias\",\"H.Bolouri\",\"H.Bourlard\",\"H.C.Rae\",\"H.Drucker\",\"H.Ferni\",\"H.G.Zimmermann\",\"H.H.Chen\",\"H.L.Ferra\",\"H.Langenbacher\",\"H.MartinReekie\",\"H.N.Mhaskar\",\"H.Nakahara\",\"H.Ozaki\",\"H.P.Graf\",\"H.Pan\",\"H.R.Doyle\",\"H.Ritter\",\"H.S.Baird\",\"H.S.Seung\",\"H.Scheich\",\"H.Schwarze\",\"H.SebastianSeung\",\"H.T.Blair\",\"H.Tolle\",\"H.U.Bauer\",\"H.Wagner\",\"H.Wang\",\"H.Weissman\",\"H.Yang\",\"HagaiAttias\",\"HaimSompolinski\",\"HaimSompolinsky\",\"HalMcCartor\",\"HalbertWhite\",\"HalinaAbramowicz\",\"HananDavidowitz\",\"HangLi\",\"HansGeorgZimmermann\",\"HansHenrikThodberg\",\"HansP.Graf\",\"HansPeterGraf\",\"HansUlrichBauer\",\"HarelShouval\",\"HarrisDmcker\",\"HarrisDrucker\",\"HarrisonMonFookLeong\",\"HarryBurke\",\"HarryPrintz\",\"HarryWechsler\",\"HarveyKasdan\",\"HasanS.Uyar\",\"HavaT.Siegelmann\",\"HayitK.Greenspan\",\"HeikoNeumann\",\"HeinrichH.Bfilthoff\",\"HeinrichH.Btilthoff\",\"HeinzSchuster\",\"HelenePaugam-Moisy\",\"HelmutSchwegler\",\"HemantS.Kudrimoti\",\"HendricusG.Loos\",\"HenriAtlan\",\"HenrikBohr\",\"HenrikFredholm\",\"HerbertRoitblat\",\"HerbertWiklicky\",\"HermanFerra\",\"HermanVerrelst\",\"HermannHild\",\"HervdBourlard\",\"HerveBourlard\",\"Hi.Chiel\",\"HidekiNoda\",\"HidemitsuOgawa\",\"HideoKosaka\",\"HilaryTunley\",\"HilbertJ.Kappen\",\"HillelJ.Chiel\",\"HillelPratt\",\"HinrichSchfitze\",\"HiroakiGomi\",\"HiroakiSaito\",\"HirofumiMatsui\",\"HiroshiAndo\",\"HiroshiIshii\",\"HiroyukiNakahara\",\"HisashiSuzuki\",\"HolgerSchoner\",\"HolgerSchwenk\",\"HolmSchwarze\",\"HongC.Leung\",\"HongLeung\",\"HoracioFranco\",\"HorstBischof\",\"HosseinL.Najafi\",\"HowardH.Yang\",\"HowardHenry\",\"HowardKaushansky\",\"Hsing-HenChen\",\"HuguesBersini\",\"Hui-H.Hsu\",\"HuiTong\",\"HumbertSuarez\",\"Hung-LiTseng\",\"Hwang-SooLee\",\"HynekHermansky\",\"HyoungsooYoon\",\"I.Guyon\",\"I.Jouny\",\"I.M.Elfadel\",\"I.Pal\",\"I.Santoso\",\"IanParberry\",\"IanT.Nabney\",\"IdanSegev\",\"IdoKanter\",\"IgorGrebert\",\"Il-SongHan\",\"IlSongHan\",\"IngoSchiegl\",\"IraG.Smotroff\",\"IrfanEssa\",\"IrisGinzburg\",\"IsaacMeilijson\",\"IsabelleGuyon\",\"ItayGat\",\"J.A.Coelho\",\"J.A.F.Leite\",\"J.A.Farrell\",\"J.A.Marshall\",\"J.AllanHobson\",\"J.Alspector\",\"J.AnthonyMovshon\",\"J.B.Hampshire\",\"J.B.Tenenbaum\",\"J.Barhen\",\"J.Baxter\",\"J.Beck\",\"J.Bernasconi\",\"J.Bruck\",\"J.C.Hager\",\"J.C.Houk\",\"J.C.Jackson\",\"J.C.Pearson\",\"J.C.Platt\",\"J.D.Cowan\",\"J.D.Cowen\",\"J.Deppisch\",\"J.F.Shepanski\",\"J.G.Taylor\",\"J.Hajto\",\"J.Hertz\",\"J.J.Gelfand\",\"J.J.Hopfield\",\"J.JeffreyMahoney\",\"J.Kivinen\",\"J.Kramer\",\"J.L.Elman\",\"J.L.Huertas\",\"J.L.Wyatt\",\"J.L.vanHemmen\",\"J.Larsen\",\"J.Lazzaro\",\"J.LeovanHemmen\",\"J.Makhoul\",\"J.Moody\",\"J.N.Tsitsiklis\",\"J.PNadal\",\"J.S.Denker\",\"J.Schneider\",\"J.Shawe-Taylor\",\"J.Sirosh\",\"J.StephenJudd\",\"J.Szymanski\",\"J.T.Buckingham\",\"J.Tani\",\"J.VanderSpiegel\",\"J.W.Howse\",\"J.W.Shavlik\",\"J.Walter\",\"J.Wawrzynek\",\"J.Zhao\",\"JOrgBmske\",\"JaakkoHollmen\",\"JaapC.Schouten\",\"JackD.Cowan\",\"JackGelfand\",\"JackL.Gallant\",\"JackL.Meador\",\"JacobBarhen\",\"JacobEnglebrecht\",\"JacobErel\",\"JacquesGautrals\",\"JacquesJ.Vidal\",\"JacquesVidal\",\"JagmeetS.Kanwal\",\"JakeRyan\",\"JakobBernasconi\",\"JakobBohr\",\"JakubWejchert\",\"JamesA.Pittman\",\"JamesA.Reggia\",\"JamesA.Ritcey\",\"JamesA.Simmons\",\"JamesB.Burr\",\"JamesBeck\",\"JamesBower\",\"JamesC.Houk\",\"JamesD.Keeler\",\"JamesE.Steck\",\"JamesGlass\",\"JamesGlynn\",\"JamesGoodwin\",\"JamesHendler\",\"JamesHutchinson\",\"JamesJ.Knierim\",\"JamesK.Peterson\",\"JamesKeeler\",\"JamesL.McClelland\",\"JamesM.Bower\",\"JamesM.Coughlan\",\"JamesM.Goodwin\",\"JamesP.Callan\",\"JamesPittman\",\"JamesR.Cavanaugh\",\"JamesR.Mann\",\"JamesR.Williamson\",\"JamesS.Schwaber\",\"JamesT.Buchanan\",\"JamesWaskiewicz\",\"JanBen\",\"JanPuzicha\",\"JanVanderSpiegel\",\"JaneBromley\",\"JaneenAnderson\",\"JanetMetcalfe\",\"JanetWiles\",\"JaredLeinbach\",\"JashojibanBanik\",\"JasonSroka\",\"JasonWeston\",\"JavierMovellan\",\"JavierR.Movellan\",\"JawadA.Salehi\",\"JayAlexander\",\"JayDiamond\",\"Jean-BernardTheeten\",\"Jean-FranqoisIsabelle\",\"Jean-FranqoisVibert\",\"Jean-PierreNadal\",\"JeanRaysz\",\"JeanneC.Milostan\",\"JeanneTownsend\",\"JeffBilmes\",\"JeffG.Schneider\",\"JeffMellstrom\",\"JeffreyC.Lagarias\",\"JeffreyEMonaco\",\"JeffreyL.Elman\",\"JeffreyP.Sutton\",\"JeffreyR.LaFranchise\",\"JeffreyTeeters\",\"JehoshuaBruck\",\"Jen-LunYuan\",\"JenniferLund\",\"Jenq-NengHwang\",\"JensKohlmorgen\",\"JeremyFrank\",\"JeremyH.Holleman\",\"JeremyS.de-Bonet\",\"JeromeConnor\",\"JeromeFreidman\",\"JesperVedelsby\",\"JessicaD.Bayliss\",\"JetteRandlov\",\"JianWu\",\"JianfengFeng\",\"JillP.Mesirov\",\"JimAustin\",\"JimBergen\",\"JimChristian\",\"JimDonnett\",\"JimHawkins\",\"JimKeeler\",\"JimMann\",\"JimSchimert\",\"JinLuo\",\"JitendraMalik\",\"JoachimBuhmann\",\"JoachimM.Buhmann\",\"JoachimUtans\",\"JoaoF.G.de-Freitas\",\"JochenBraun\",\"JoeEisenberg\",\"JoeTebelskis\",\"JoelBert\",\"JoelRatsaby\",\"JofioF.G.de-Freitas\",\"JohannesFeulner\",\"JohnA.Hertz\",\"JohnAllman\",\"JohnB.Hampshire\",\"JohnBain\",\"JohnBaras\",\"JohnBridle\",\"JohnC.Pearson\",\"JohnC.Platt\",\"JohnCavazos\",\"JohnD.Uhley\",\"JohnDenker\",\"JohnE.Hogden\",\"JohnE.Moody\",\"JohnE.W.Mayhew\",\"JohnEHoude\",\"JohnF.Kolen\",\"JohnG.Harris\",\"JohnG.Milton\",\"JohnGrace\",\"JohnH.Holland\",\"JohnHaggerty\",\"JohnHershey\",\"JohnHertz\",\"JohnJ.Hopfield\",\"JohnK.Douglass\",\"JohnK.Williams\",\"JohnKassebaum\",\"JohnKennedy\",\"JohnKolen\",\"JohnKruschke\",\"JohnL.Wyatt\",\"JohnLazzaro\",\"JohnLoch\",\"JohnMakhoul\",\"JohnMoody\",\"JohnN.Tsitsiklis\",\"JohnO'Keefe\",\"JohnP.Donoghue\",\"JohnP.Miller\",\"JohnPearson\",\"JohnPerry\",\"JohnPlatt\",\"JohnS.Bridle\",\"JohnS.Denker\",\"JohnS.Pezaris\",\"JohnShawe-Taylor\",\"JohnW.Fisher\",\"JohnW.Miller\",\"JohnWawrzynek\",\"JohnY.Cheung\",\"JonTombs\",\"JonathanA.Marshall\",\"JonathanBachrach\",\"JonathanBaxter\",\"JonathanD.Cohen\",\"JonathanL.Shapiro\",\"JonathanQ.Li\",\"Jong-HoonOh\",\"JoosVandewalle\",\"JordanB.Pollack\",\"JordanPollack\",\"JorgKindermann\",\"JoseA.B.Fortes\",\"JoseAmbros-Ingerson\",\"JoseC.Principe\",\"JosePrincipe\",\"JosefP.Rauschecker\",\"JosefSkrzypek\",\"JosefZeitlhofer\",\"JosefZihl\",\"JosephB.Keller\",\"JosephC.Hager\",\"JosephCollard\",\"JosephDao\",\"JosephG.Malpeli\",\"JosephO.Ruanaidh\",\"JosephPolifroni\",\"JosephSill\",\"JosephSirosh\",\"JosephW.Goodman\",\"JoshI.Gold\",\"JoshuaAlspector\",\"JoshuaB.Tenenbaum\",\"JoshuaChover\",\"JoshuaTenenbaum\",\"JoumanaGhosn\",\"JoydeepGhosh\",\"Ju-SeogJang\",\"JuanK.Lin\",\"JudeShavlik\",\"JudeW.Shavlik\",\"JuergenFritsch\",\"JuergenSchmidhuber\",\"JuliaBorger\",\"JunZhang\",\"Jung-WookCho\",\"JurgenHollatz\",\"JurgenSchmidhuber\",\"JustinA.Boyan\",\"JustinBoyan\",\"JustinianRosca\",\"Jyh-MingKuo\",\"JyrldKivinen\",\"K.Asanovic\",\"K.Boahen\",\"K.Doya\",\"K.Fukumizu\",\"K.Homik\",\"K.I.Diamantaras\",\"K.J.Cherkauer\",\"K.JarrodMillman\",\"K.Mueller\",\"K.Obermayer\",\"K.Pawelzik\",\"K.Rose\",\"K.Schulten\",\"K.VenkateshPrasad\",\"K.Y.Goldberg\",\"K.Y.MichaelWong\",\"K.Y.Siu\",\"K.Yamada\",\"KaganTumer\",\"KaganTurner\",\"KahKaySung\",\"Kai-YeungSiu\",\"KalanitGrillSpector\",\"KamilA.Grajski\",\"KanBoonyanit\",\"KariTorkkola\",\"KarlGustafson\",\"KarlGustarson\",\"KaroJim\",\"KarvelK.Thomber\",\"KatalinM.Gothard\",\"KathrynLaskey\",\"KazuhikoYokosawa\",\"KazukiJoe\",\"KazumiSaito\",\"KeChen\",\"KechenZhang\",\"Ken-ichiIso\",\"KenHsu\",\"KenjiDoya\",\"KenjiMatsumoto\",\"KennethA.Norman\",\"KennethD.Miller\",\"KennethKreutz-Delgado\",\"KennethM.Buckland\",\"KennethMarko\",\"KennethY.Tsai\",\"KennethZeger\",\"KenneyNg\",\"KevinA.Archie\",\"KevinCummings\",\"KevinE.Martin\",\"KevinJ.Lang\",\"KevinJ.Moon\",\"KevinLang\",\"KevinP.Murphy\",\"KevinR.Farrell\",\"KevinR.Wheeler\",\"KhalidChoukri\",\"Ki-ChulKim\",\"KimmoKiviluoto\",\"KiyoshiHonda\",\"Klaus-R.Muller\",\"Klaus-RobertMilllet\",\"Klaus-RobertMuller\",\"KlausObermayer\",\"KlausPawelzik\",\"KlausPrank\",\"KlausR.Pawelzik\",\"KlausSchulten\",\"KnutMoller\",\"KoSakai\",\"KojiKotani\",\"KongKritayakirana\",\"KristRoginski\",\"KristinBennett\",\"KristinaJohnson\",\"KukjinKang\",\"KunihikoIizuka\",\"KurtFleischer\",\"KurtHomik\",\"KurtHornik\",\"KurtR.Smith\",\"KwabenaA.Boahen\",\"KwokFaiHui\",\"L.A.Akers\",\"L.Bottou\",\"L.C.Dixon\",\"L.C.Parra\",\"L.D.Jackel\",\"L.F.Abbott\",\"L.K.Hansen\",\"L.K.Saul\",\"L.Personnaz\",\"L.Pessoa\",\"L.Q.Zhang\",\"L.RichardCarley\",\"L.S.Smith\",\"L.Wu\",\"L.Xu\",\"L.Y.Pratt\",\"LB.Shuvalova\",\"LanceC.Walton\",\"LanceM.Optican\",\"LanceR.Williams\",\"LanceWu\",\"LarryYaeger\",\"LarsKaiHansen\",\"LarsSchwabe\",\"LasseHolmstrom\",\"LauraMartignon\",\"LauranceT.Maloney\",\"LaurensLeerink\",\"LaurensR.Leerink\",\"LaurentItti\",\"LawrenceD.Jackel\",\"LawrenceDavis\",\"LawrenceK.Saul\",\"LawrenceSaul\",\"LeemonBaird\",\"LeemonC.Baird\",\"LehelCsato\",\"LeiXu\",\"LeifH.Finkel\",\"LeonBottou\",\"LeonN.Cooper\",\"LeonPersonnaz\",\"LeonS.Sterling\",\"LeonardG.C.Hamey\",\"LeonidKruglyak\",\"LesAtlas\",\"LesE.Atlas\",\"LfionPersonnaz\",\"LidrorTroyansky\",\"LinaL.E.Massone\",\"LindaKaufman\",\"LindaKukolich\",\"LionelTarassenko\",\"LiqingZhang\",\"LiuKe\",\"LizhongWu\",\"LlewMason\",\"LloydWatts\",\"LorienY.Pratt\",\"LouisCeci\",\"LouiseOsterholtz\",\"LucasC.Parra\",\"LucasParra\",\"LuciaM.Vaina\",\"LuckyVidmar\",\"LucyE.Hadden\",\"LyleJ.Borg-Graham\",\"LyndonJ.Brown\",\"LynetteHirschman\",\"LynneKiorpes\",\"M.A.Jabri\",\"M.A.Mahowald\",\"M.AnthonyLewis\",\"M.Blatt\",\"M.Cekic\",\"M.Dale\",\"M.Deweese\",\"M.Dikaiakos\",\"M.Finke\",\"M.Garzon\",\"M.Gilloux\",\"M.H.Goldstein\",\"M.Hasselmo\",\"M.Herbster\",\"M.I.Jordan\",\"M.Isard\",\"M.J.Denham\",\"M.J.Rose\",\"M.Jabri\",\"M.K.Warmuth\",\"M.Kadirkamanathan\",\"M.Kearns\",\"M.Konishi\",\"M.Leroux\",\"M.M.Hayhoe\",\"M.M.Hochberg\",\"M.Mahowald\",\"M.Marchand\",\"M.Meila\",\"M.Niranjan\",\"M.Pavel\",\"M.R.Walker\",\"M.Revow\",\"M.S.Bartlett\",\"M.Schenkel\",\"M.Svensen\",\"M.V.Solodov\",\"M.Veloso\",\"M.W.Craven\",\"M.W.Pealersen\",\"M.Wattenberg\",\"MagnusRattray\",\"MagnusStensmo\",\"MahesanNiranjan\",\"MaheshVaranasi\",\"MakotoHirayama\",\"MalcolmSlaney\",\"MalikMagdon-Ismail\",\"ManceHarmon\",\"ManeeshSahani\",\"ManfredK.Warmuth\",\"ManfredOpper\",\"ManoelF.Tenorio\",\"ManoelFernandoTenorio\",\"ManuelF.Fernandez\",\"ManuelSamuelides\",\"Marc-OlivierCoppens\",\"MarcH.Cohen\",\"MarcLoinaz\",\"MarcellaA.McClure\",\"MarcelloPelillo\",\"MarcusFrean\",\"MarcusHeld\",\"MarcusHennecke\",\"MargaretSereno\",\"MarianS.Bartlett\",\"MarianStewartBartlett\",\"MarilynWalker\",\"MarinaMeila\",\"MarioBlaum\",\"MarioMarchand\",\"MarioP.Vecchi\",\"MarissaWesterfield\",\"MariusUsher\",\"Mark.RSydorenko\",\"MarkA.Gluck\",\"MarkA.Rubin\",\"MarkDerthick\",\"MarkE.Nelson\",\"MarkFanty\",\"MarkGerules\",\"MarkGluck\",\"MarkHoller\",\"MarkKvale\",\"MarkMathieson\",\"MarkOllila\",\"MarkPlutowski\",\"MarkRing\",\"MarkSaffman\",\"MarkSitton\",\"MarkW.Goudreau\",\"MarkWhite\",\"MarkZlochin\",\"MarkusLappe\",\"MarkusMeister\",\"MarkusSchenkel\",\"MarkusSvensen\",\"MarleneBehrmann\",\"MarshallFlax\",\"MarthaFarah\",\"MartinHammer\",\"MartinI.Sereno\",\"MartinJ.Johnson\",\"MartinJ.McKeown\",\"MartinJ.Wainwright\",\"MartinLades\",\"MartinMaechler\",\"MartinRiedmiller\",\"MartinRoscheisen\",\"MartinS.Glassman\",\"MartinSereno\",\"MartinStemmler\",\"MartinStetter\",\"MartineNaillon\",\"Martinede-Gerlache\",\"MarvinLuttges\",\"MarwanA.Jabri\",\"MarwanJabd\",\"MarwanJabri\",\"MaryB.Oftaway\",\"MaryE.T.Boyle\",\"MaryTabasko\",\"Masa-akiSato\",\"MasahikoHamno\",\"MasashiSugiyama\",\"MasayukiMiyamoto\",\"MasazumiKatayama\",\"MassimoSivilotti\",\"MassoudOmidvar\",\"MathiasQuoy\",\"MatsOsterberg\",\"MattMelton\",\"MatthewA.Wilson\",\"MatthewBrand\",\"MatthewJ.Beal\",\"MatthewM.Williamson\",\"MatthewN.Dailey\",\"MatthewSaffell\",\"MatthiasBurger\",\"MatthiasScholz\",\"MatthiasSeeger\",\"MattiHamalainen\",\"MauriceLee\",\"MauriceMilgram\",\"MauroBirattari\",\"MaxGarzon\",\"MaximilianRiesenhuber\",\"MazinRahim\",\"MelanieMitchell\",\"MenasheDornay\",\"Meng-JangLin\",\"MicahS.Siegel\",\"MichaelA.Glover\",\"MichaelBrownlow\",\"MichaelBurl\",\"MichaelC.Crair\",\"MichaelC.Mozer\",\"MichaelChuang\",\"MichaelCohen\",\"MichaelD.Revow\",\"MichaelDuff\",\"MichaelE.Hasselmo\",\"MichaelE.Levemon\",\"MichaelE.Tipping\",\"MichaelFinke\",\"MichaelFleisher\",\"MichaelG.Dyer\",\"MichaelG.Paulin\",\"MichaelGasser\",\"MichaelHasselmo\",\"MichaelHormel\",\"MichaelHumphreys\",\"MichaelI.Jordan\",\"MichaelI.Miller\",\"MichaelIsard\",\"MichaelJ.Berry\",\"MichaelJ.Carter\",\"MichaelJ.Pazzani\",\"MichaelJordan\",\"MichaelKearns\",\"MichaelKocheisen\",\"MichaelL.Chuang\",\"MichaelL.Littman\",\"MichaelLemmon\",\"MichaelLittman\",\"MichaelM.Merzenich\",\"MichaelMckenna\",\"MichaelMozer\",\"MichaelMurray\",\"MichaelO.Duff\",\"MichaelP.Perrone\",\"MichaelP.Stryker\",\"MichaelP.Weisend\",\"MichaelPhillips\",\"MichaelR.Berthold\",\"MichaelRecce\",\"MichaelRossen\",\"MichaelS.Gray\",\"MichaelS.Lewicki\",\"MichaelSchmitt\",\"MichaelSeibert\",\"MichaelT.Gately\",\"MichaelTunnon\",\"MichaelWennan\",\"MichaelZibulevsky\",\"MichailZak\",\"MichalMorciniec\",\"MichelCrepon\",\"MichelKerszberg\",\"MichiakiTaniguchi\",\"MichielNoordewier\",\"MichioNakashima\",\"MichiroNegishi\",\"MiguelA.Carreira-Perpinan\",\"MikeE.U.Smith\",\"MikeHochberg\",\"MikeSchuster\",\"MikeWynne-Jones\",\"Ming-HsuanYang\",\"Ming-TakLeung\",\"MinoruAsogawa\",\"MiriamSchulte\",\"MirtaB.Gordon\",\"MishaMahowald\",\"MishaPavel\",\"MitchellGilMaltenfort\",\"MitsuoKawato\",\"MitsuoKomura\",\"MohamedEl-Sharkawi\",\"MohammadA.Al-Ansari\",\"Mohammed-AbdelGhani\",\"MoiseH.Goldstein\",\"MonikaWoszczyna\",\"MosfeqRashid\",\"MosheKaro\",\"MosheSipper\",\"MostefaGolea\",\"MottenPedersen\",\"N.Barkai\",\"N.E.Berthier\",\"N.Fukumura\",\"N.H.Wulff\",\"N.Kamnanithi\",\"N.Morgan\",\"N.Murata\",\"N.N.Schraudolph\",\"N.S.Skantzos\",\"N.Toomarian\",\"NadaE.Matic\",\"NaftaliTishby\",\"NandaKambhatla\",\"NaohiroFukumura\",\"NaomiTakahashi\",\"NaonoriUeda\",\"NarendraAhuja\",\"NathanH.Brown\",\"NathanIntrator\",\"NebojsaJojic\",\"NeilBurgess\",\"NeilLawrence\",\"NelloCristianini\",\"NelsonMorgan\",\"NestorParga\",\"NevinL.Zhang\",\"NiallMcLoughlin\",\"NicholasCamevale\",\"NicholasD.Socci\",\"NicholasJ.Adams\",\"NicholasJ.Redding\",\"NicholasR.Howe\",\"NicholasRoy\",\"NicholasS.Flann\",\"NickLittlestone\",\"NicolN.Schraudolph\",\"NicolSchraudolph\",\"NigelDuffy\",\"NigelM.Allinson\",\"NikhilBhushan\",\"NikosLogothetis\",\"NikzadToomarian\",\"NirFriedman\",\"NirLevy\",\"NirmalaRamanujam\",\"NoamSlonim\",\"NoboruMumta\",\"NoboruMurata\",\"NobuoSuematsu\",\"NorbertoM.Grzywacz\",\"NormanYarvin\",\"NunoVasconcelos\",\"NuriaOliver\",\"O.Farotimi\",\"O.I.Tsioutsias\",\"O.J.M.Coenen\",\"O.L.Mangasarian\",\"O.Miller\",\"OdedMaron\",\"OdeliaSchwartz\",\"OferMatan\",\"OferZeitouni\",\"OjvindBernander\",\"OleWinther\",\"OliverB.Downs\",\"OliverLandolt\",\"OliverMihatsch\",\"OlivierBernier\",\"OlivierChapelle\",\"OlivierCoenen\",\"OttoSchmidbauer\",\"P.A.Chou\",\"P.A.Viola\",\"P.Anandan\",\"P.Auer\",\"P.Baldi\",\"P.Campbell\",\"P.Dayan\",\"P.Ekman\",\"P.JonathonPhillips\",\"P.K.Ko\",\"P.Kaye\",\"P.Koiran\",\"P.L.Bartlett\",\"P.Leong\",\"P.N.Sabes\",\"P.R.Montague\",\"P.ReadMontague\",\"P.S.Bradley\",\"P.S.Krishnaprasad\",\"P.Sollich\",\"P.Stone\",\"P.Tino\",\"P.W.Munro\",\"PaatRusmevichiemong\",\"PadhraicSmyth\",\"PanayiotaPoirazi\",\"PaolaCampadelli\",\"PaoloFrasconi\",\"PaoloGaudiano\",\"ParryHusbands\",\"ParthaNiyogi\",\"PatLangdon\",\"PatricK.Stanton\",\"PatriceSimard\",\"PatriceY.Simard\",\"PatrickAgin\",\"PatrickGallinari\",\"PatrickHaffner\",\"PatrickMoore\",\"PatrikHoyer\",\"PaulA.Viola\",\"PaulBeckman\",\"PaulBourgine\",\"PaulChristy\",\"PaulDean\",\"PaulEkman\",\"PaulHasler\",\"PaulM.Chau\",\"PaulMineiro\",\"PaulMueller\",\"PaulMunro\",\"PaulNachtigall\",\"PaulR.Cooper\",\"PaulRhodes\",\"PaulRodriguez\",\"PaulS.Haynes\",\"PaulSajda\",\"PaulSmolensky\",\"PaulStolorz\",\"PaulUtgoff\",\"PaulViola\",\"PaulW.Goldberg\",\"PaulW.Munro\",\"PavelLaskov\",\"PedroA.d.F.R.Hojen-Sorensen\",\"PedroGuedesde-Oliveira\",\"PekkaOrponen\",\"PenttiKanerva\",\"PeterAdorjan\",\"PeterBartlett\",\"PeterBollmann-Sdorra\",\"PeterD.Lawrence\",\"PeterDayan\",\"PeterE.Latham\",\"PeterF.Rowat\",\"PeterFoltz\",\"PeterJ.Angeline\",\"PeterJ.Edwards\",\"PeterKazlas\",\"PeterL.Bartlett\",\"PeterM.Williams\",\"PeterMarbach\",\"PeterN.Prokopowicz\",\"PeterN.Steinmetz\",\"PeterRappelsberger\",\"PeterSollich\",\"PeterSykacek\",\"PeterT.Szymanski\",\"PeterTifio\",\"PetriKoistinen\",\"PhilKohn\",\"PhilipH.Goodman\",\"PhilipJ.Holmes\",\"PhilipM.Long\",\"PhilippHiffiiger\",\"PhilippeO.Pouliquen\",\"PhillipAlvelda\",\"PieroCosi\",\"PierreBaldi\",\"PierreBand\",\"PierreBaraduc\",\"PietroPerona\",\"PingZhou\",\"PoHsiangChu\",\"PrahladGupta\",\"QingnanLi\",\"R.A.Grupen\",\"R.A.Pearson\",\"R.AndrewMcCallum\",\"R.C.Williamson\",\"R.Caruana\",\"R.ChristopherdeCharms\",\"R.Chu\",\"R.D.Beer\",\"R.D.Griffin\",\"R.D.Puff\",\"R.Dodier\",\"R.DouglasMartin\",\"R.E.Howard\",\"R.E.Jenkins\",\"R.E.Ritzmann\",\"R.Erlanson\",\"R.Etienne-Cummings\",\"R.Gourley\",\"R.H.Crites\",\"R.H.Koch\",\"R.Hofmann\",\"R.J.Wang\",\"R.Janow\",\"R.K.Alley\",\"R.Kaihara\",\"R.Kempter\",\"R.Lee\",\"R.M.Borisyuk\",\"R.M.Peterson\",\"R.M.Westervelt\",\"R.Meir\",\"R.Miikkulainen\",\"R.Neuneier\",\"R.P.N.Rao\",\"R.R.Snapp\",\"R.R.de-Ruyter-van-Steveninck\",\"R.S.Hubbard\",\"R.S.Peterson\",\"R.S.Sutton\",\"R.Schwartz\",\"R.Sitaramen\",\"R.T.Edwards\",\"R.Tibshirani\",\"R.TimothyEdwards\",\"R.W.Penney\",\"R.Zecchina\",\"RadekGrzeszczuk\",\"RadfordM.Neal\",\"RafaelMalach\",\"RahulSarpeshkar\",\"RailKompe\",\"RainerGoebel\",\"RainerMalaka\",\"RajeshP.N.Rao\",\"RajeshRao\",\"RalfHerbrich\",\"RalfWessel\",\"RalphEtienne-Cummings\",\"RalphLinsker\",\"RalphM.Siegel\",\"RalphNeuneier\",\"RalphPenner\",\"RalphWolf\",\"RamaChellappa\",\"RanEl-Yaniv\",\"RandallC.O'Reilly\",\"RandallD.Beer\",\"RandallR.Spangler\",\"RaoulTawel\",\"RaphaelFeraud\",\"RaviK.Sharma\",\"RaymondJ.Mooney\",\"RaymondJ.W.Wang\",\"RaymondL.Watrous\",\"RebeccaCastafio\",\"RebeccaRichards-Kortum\",\"RegisCardin\",\"ReidR.Harrison\",\"ReimarHofmann\",\"ReimarHolmann\",\"ReinerLenz\",\"ReinhardBlasig\",\"ReinholdMann\",\"RembrandtBakker\",\"RemiMunos\",\"RenatoDe-Mori\",\"RenatoVicente\",\"RezaShadmehr\",\"RicardoA.MarquesPereira\",\"RicardoVigario\",\"RichCamana\",\"RichCaruana\",\"RichardA.Andersen\",\"RichardC.Wilson\",\"RichardC.Windecker\",\"RichardCoggins\",\"RichardEhman\",\"RichardFozzard\",\"RichardG.M.Morris\",\"RichardGolden\",\"RichardGranger\",\"RichardH.Lathrop\",\"RichardJ.Coggins\",\"RichardJ.Mammone\",\"RichardK.Belew\",\"RichardKempter\",\"RichardLadnet\",\"RichardLehrer\",\"RichardLippmann\",\"RichardLyon\",\"RichardM.Golden\",\"RichardO.Duda\",\"RichardP.Lippmann\",\"RichardRohwer\",\"RichardS.Sutton\",\"RichardS.Zemel\",\"RichardSchwartz\",\"RichardSutton\",\"RichardT.J.Bostock\",\"RichardWolniewicz\",\"RichardZemel\",\"RiittaHari\",\"RistoMiikkulainen\",\"RitaVenturini\",\"Robde-Ruyter-van-Steveninck\",\"RobertA.Jacobs\",\"RobertAllen\",\"RobertB.Allen\",\"RobertB.Darling\",\"RobertB.Pinter\",\"RobertC.Eaton\",\"RobertC.Williamson\",\"RobertCrites\",\"RobertCunningham\",\"RobertE.Druzinsky\",\"RobertE.Schapire\",\"RobertFarber\",\"RobertFrye\",\"RobertH.Dodier\",\"RobertJ.Adler\",\"RobertJ.Marks\",\"RobertJacobs\",\"RobertL.Tokar\",\"RobertMoll\",\"RobertSchapire\",\"RobertSnapp\",\"RobertTibshitani\",\"RobertWilliamson\",\"RobertoPieraccini\",\"RodericGinpen\",\"RoderickMurray-Smith\",\"RodneyCotterill\",\"RodneyDouglas\",\"RodneyGoodman\",\"RodneyJ.Douglas\",\"RodneyM.Goodman\",\"RodolfoMilito\",\"RogerCheng\",\"RogerShepard\",\"RolfD.Henkel\",\"RolfEckmiller\",\"RonKeesing\",\"RonL.Rivest\",\"RonMeir\",\"RonPapka\",\"Ronald.Rivest\",\"RonaldA.Cole\",\"RonaldA.Sumida\",\"RonaldCole\",\"RonaldG.Benson\",\"RonaldH.Silverman\",\"RonaldJ.Williams\",\"RonaldKlein\",\"RonaldL.Calabrese\",\"RonaldL.Rivest\",\"RonaldM.Harris-Warrick\",\"RonaldParr\",\"RonaldRosenfeld\",\"RonaldSverdlove\",\"RonenBasri\",\"RonnyMeir\",\"RoopakShah\",\"Rudolphvan-der-Merwe\",\"RussellH.Lambert\",\"RuthErlanson\",\"RuthJ.Williams\",\"RuthRosenholtz\",\"RyoheiNakano\",\"RyojiSuzuki\",\"RyotaroKamimura\",\"S.A.Macy\",\"S.A.Seinenov\",\"S.A.Solla\",\"S.Amari\",\"S.Baluja\",\"S.Boes\",\"S.C.Ahalt\",\"S.C.Kremer\",\"S.Churcher\",\"S.E.Hihi\",\"S.Finch\",\"S.G.Lisberger\",\"S.Gold\",\"S.Hadjffaradji\",\"S.Haghighi\",\"S.J.Hanson\",\"S.K.Khanna\",\"S.K.Riis\",\"S.L.McCabe\",\"S.Lawrence\",\"S.Liu\",\"S.M.Omohundro\",\"S.M.Rueget\",\"S.Makeig\",\"S.N.Laughton\",\"S.P.M.Choi\",\"S.P.Singh\",\"S.Pappu\",\"S.Pickard\",\"S.R.H.Joseph\",\"S.R.Waterhouse\",\"S.Rehfuss\",\"S.Sahar\",\"S.SathiyaKeerthi\",\"S.Schaal\",\"S.SidneyFels\",\"S.Sundararajan\",\"S.Thrun\",\"S.Wiseman\",\"S.Yasui\",\"S.Yu\",\"SachaB.Nelson\",\"SaeedHadjifaradji\",\"SamRoweis\",\"SamT.Roweis\",\"SamuelP.M.Choi\",\"SamyBengio\",\"SandeepGulati\",\"SandraPanizza\",\"Sang-YungShin\",\"SanjayBiswas\",\"SantoshS.Venkatesh\",\"SantoshVenkatesh\",\"SaraA.Solla\",\"SaraSolla\",\"SatinderP.Singh\",\"SatinderSingh\",\"SatoruShiono\",\"SatoshiSuzuki\",\"SatoshiYamada\",\"SatoshiYamaria\",\"SayanMukherjee\",\"SayandevMukherjee\",\"ScottDavies\",\"ScottE.Fahlman\",\"ScottFahlman\",\"ScottKirkpatrick\",\"ScottMakeig\",\"ScottMarkel\",\"ScottRickard\",\"ScrenHalkjaer\",\"SeanD.Murphy\",\"SebastianB.Thrun\",\"SebastianMika\",\"SebastianRisau-Gusman\",\"SebastianThmn\",\"SebastianThrun\",\"SehoOh\",\"SeiMiyake\",\"SenSong\",\"SeppHochreiter\",\"SergeyIoffe\",\"SethuVijayahunar\",\"ShaiFine\",\"ShamKakade\",\"ShanParfitt\",\"SharadSinghal\",\"ShaulHochstein\",\"ShawnR.Lockery\",\"SheilaKannappan\",\"SheldonGilbert\",\"ShellyGoggin\",\"ShengMa\",\"SheriL.Gish\",\"SherifBotros\",\"SherrylTomboulian\",\"ShigemTanaka\",\"ShigeruTanaka\",\"Shih-ChengYen\",\"Shih-ChiiLiu\",\"ShimonEdelman\",\"ShimonUllman\",\"ShinIshii\",\"ShinichiSakata\",\"ShiroIkeda\",\"ShivakumarVaithyanathan\",\"ShlomoZilberstein\",\"ShujiYoshizawa\",\"ShumeetBaluja\",\"Shun-ichiAmari\",\"SiWu\",\"SiegfriedBos\",\"SilvioP.Sabatini\",\"SimonCarlile\",\"SimonDennis\",\"SimonJ.Thorpe\",\"SmartGeman\",\"SmartRussell\",\"SongLi\",\"Soo-YoungLee\",\"SophieDeneve\",\"SorenBrunak\",\"SowmyaRamachandran\",\"SreerupaDas\",\"SrinageshSatyanarayana\",\"StefanD.Wilke\",\"StefanHeil\",\"StefanKnerr\",\"StefanManke\",\"StefanSchaal\",\"StefanoMonti\",\"SteffenPetersen\",\"SteliosM.Smimakis\",\"StellaX.Yu\",\"StephanLuna\",\"StephanPareigis\",\"StephaneCanu\",\"StephanieForrest\",\"StephanieSeneft\",\"StephenA.Fisher\",\"StephenChurcher\",\"StephenCox\",\"StephenG.Lisberger\",\"StephenGrossberg\",\"StephenHanson\",\"StephenJ.Hanson\",\"StephenJoseHanson\",\"StephenJudd\",\"StephenLane\",\"StephenM.Omohundro\",\"StephenOmohundro\",\"StephenP.DeWeerth\",\"StephenPiche\",\"StephenPickard\",\"SteveCttien\",\"SteveGyger\",\"SteveMims\",\"SteveRenals\",\"SteveWaterhouse\",\"StevenA.Harp\",\"StevenBradtke\",\"StevenE.Golowich\",\"StevenGold\",\"StevenJ.Bradtke\",\"StevenJ.Nowlan\",\"StevenNowlan\",\"StevenR.Skinner\",\"StevenS.Watkins\",\"StuartMackie\",\"SubutaiAhmad\",\"SugunaPappu\",\"SuguruArimoto\",\"SumioWatanabe\",\"SusanCiarroccaLee\",\"SusumuTachi\",\"SuthepMadarasmi\",\"SuzannaBecker\",\"SvenKoenig\",\"SvilenTzonev\",\"SylvieRenaud-LeMasson\",\"SylvieRyckebusch\",\"SylvieThiria\",\"T.D.Albright\",\"T.Darrell\",\"T.Delbruck\",\"T.Downs\",\"T.Duong\",\"T.Flash\",\"T.Furukawa\",\"T.G.Dietterich\",\"T.Geisel\",\"T.Hastie\",\"T.J.Sejnowski\",\"T.Jaakkola\",\"T.Jung\",\"T.Kailath\",\"T.Kanade\",\"T.Lin\",\"T.Maxwell\",\"T.Mitchell\",\"T.Morimoto\",\"T.Nakai\",\"T.Ohmi\",\"T.P.Allen\",\"T.Petsehe\",\"T.Rebotier\",\"T.Sabisch.\",\"T.Serrano-Gotarredona\",\"T.Shibata\",\"T.Xu\",\"T.Yamashita\",\"TadHogg\",\"TadahiroOhmi\",\"TadashiShibata\",\"TaiSingLee\",\"TakahiroWatanabe\",\"TakaoWatanabe\",\"TakashiOnoda\",\"TakeoYamashita\",\"TalGrossman\",\"TamarFlash\",\"TamilsLinder\",\"TanPhan\",\"TarigSamad\",\"TatsutoMurayama\",\"Te-WonLee\",\"TerenceD.Sanger\",\"TerenceSanger\",\"TerrenceFine\",\"TerrenceJ.Sejnowski\",\"TerrenceL.Fine\",\"TerrenceSejnowski\",\"Th.Sudbrak\",\"TheaB.Ghiselli-Crippa\",\"TheoGeisel\",\"TheodoreJ.Perkins\",\"TheresaLong\",\"ThiloT.Frieg\",\"ThomasA.Busey\",\"ThomasAnastasio\",\"ThomasBriegel\",\"ThomasBrown\",\"ThomasC.Ferree\",\"ThomasClare\",\"ThomasDietterich\",\"ThomasG.Dietterich\",\"ThomasG.Edwards\",\"ThomasH.Brown\",\"ThomasHofmann\",\"ThomasHolmann\",\"ThomasJ.Anastasio\",\"ThomasK.Landauer\",\"ThomasK.Miller\",\"ThomasKailath\",\"ThomasKepler\",\"ThomasP.Vogl\",\"ThomasPetsche\",\"ThomasR.Hancock\",\"ThomasR.Shultz\",\"ThomasRagg\",\"ThomasShultz\",\"ThoreGraepel\",\"ThorsteinnS.Rognvaldsson\",\"TiloSloboda\",\"TimA.Hely\",\"TimHoriuchi\",\"TimHunkapiller\",\"TimSmithers\",\"TimothyChiu\",\"TimothyHoriuchi\",\"TimothyK.Horiuchi\",\"TimothyS.Wilkinson\",\"TimothyW.Cacciatore\",\"TimothyX.Brown\",\"Ting-ChuenPong\",\"TobiDelbruck\",\"TobiasMann\",\"ToddK.Leen\",\"ToddLeen\",\"ToddS.Braver\",\"ToddSoukup\",\"ToddTroyer\",\"TomBrashers-Krug\",\"TomHeskes\",\"TomJ.Richardson\",\"TomM.Mitchell\",\"TomN.Todd\",\"TomOhira\",\"TomasLozano-Perez\",\"TomasoA.Poggio\",\"TomasoPoggio\",\"TomilsLozano-Perez\",\"TommiJaakkola\",\"TommiS.Jaakkola\",\"TonWeijters\",\"TongZhang\",\"ToniaG.Morris\",\"TonyA.Plate\",\"TonyJ.Prescott\",\"TonyJebara\",\"TonyPlate\",\"TonyRobinson\",\"TorstenZeppenfeld\",\"ToruOhira\",\"ToshiakiOkamoto\",\"ToshioInui\",\"ToshiteruHomma\",\"ToshiyukiTanaka\",\"TrentE.Lange\",\"TrevorDarrell\",\"TrevorHastie\",\"TrevorJ.Darrell\",\"TrevorMundel\",\"TroelsKjaer\",\"Tzi-DarChiueh\",\"TzioDarChiueh\",\"Tzu-puHsieh\",\"Tzyy-PingJung\",\"UdoFanst\",\"UlrichBodenhausen\",\"UpinderS.Bhalla\",\"UriRokni\",\"UrsA.Muller\",\"UryNaftaly\",\"UsamaFayyad\",\"UweHelmke\",\"V.A.Chulaevsky\",\"V.Bohossian\",\"V.I.Kryukov\",\"V.I.Makarenko\",\"V.Kadirkamanathan\",\"V.P.Roychowdhury\",\"V.Sundareswaran\",\"V.Tresp\",\"V.Vapnik\",\"ValentinoBraitenberg\",\"VanH.Vu\",\"VanHenkle\",\"VaskenBohossian\",\"VeikkoJousmaki\",\"VerenaHebler\",\"VicenteHonrubia\",\"VicenteIragui\",\"VictorAbrash\",\"VictorHu\",\"VictorW.Zue\",\"VictorZue\",\"VijayR.Konda\",\"VijaySamalam\",\"VijaykumarGullapalli\",\"ViktorGruev\",\"VirginiaL.Stonick\",\"VirginiaR.de-Sa\",\"VitalyMaiorov\",\"VladimirCherkassky\",\"VladimirN.Vapnik\",\"VladimirVapnik\",\"VolkerHansen\",\"VolkerRoth\",\"VolkerSteinhage\",\"VolkerTresp\",\"VolneiPedroni\",\"VolodyaVovk\",\"VwaniP.Roychowdhury\",\"VwaniRoychowdhury\",\"W.Bair\",\"W.Bialek\",\"W.E.Blanz\",\"W.E.Sullivan\",\"W.FritzKruger\",\"W.Gerstner\",\"W.H.Zaagman\",\"W.HarmonRay\",\"W.Hubbard\",\"W.Maass\",\"W.Miller\",\"W.N.Street\",\"W.Owen\",\"W.Porod\",\"W.R.Gardner\",\"W.R.Softky\",\"W.Ross\",\"W.ScottStornetta\",\"W.ThomasMiller\",\"W.ZevRymer\",\"W.Zhang\",\"WalterMetznet\",\"Wan-PingChiang\",\"Wee-KhengLeow\",\"WeeSunLee\",\"Wei-TsihLee\",\"WeiminLiu\",\"WesleyE.Snyder\",\"WesleySnyder\",\"WilfriedBrauer\",\"WilhamBialek\",\"WillardMiranker\",\"WilliamB.Levy\",\"WilliamBaxter\",\"WilliamBialek\",\"WilliamE.Skaggs\",\"WilliamE.Vinje\",\"WilliamFaller\",\"WilliamFinnoff\",\"WilliamP.Lincoln\",\"WilliamR.Softky\",\"WilliamSkaggs\",\"WilliamT.Freeman\",\"WilliamW.Cohen\",\"WilliamW.Lytton\",\"WilliamW.Streilein\",\"WilliamY.Huang\",\"WimWiegerinck\",\"WolfgangMaass\",\"WolframMenzel\",\"WulframGerstner\",\"WyethBair\",\"X.Wang\",\"XavierBoyen\",\"XavierGiannakopoulos\",\"XiaohuiXie\",\"XinWang\",\"XiruZhang\",\"XiuwenLiu\",\"XiwuLin\",\"XuboB.Song\",\"XuboSong\",\"Y.Abu-Mostafa\",\"Y.Bengio\",\"Y.C.Lee\",\"Y.C.Pati\",\"Y.Cboe\",\"Y.Konig\",\"Y.LeCun\",\"Y.Mansour\",\"Y.Matsuoka\",\"Y.Singer\",\"Y.Xie\",\"Y.Zhao\",\"YairWeiss\",\"YakWeiss\",\"YanFang\",\"YannLeCun\",\"YannickPouliot\",\"YannisTsividis\",\"YaserAbu-Mostafa\",\"YaserS.Abu-Mostafa\",\"YasuhamKoike\",\"YasuharuKioke\",\"YasuhiroWada\",\"Ye.I.Kovalenko\",\"YechezkelYeshurun\",\"Yee-ChunLee\",\"Yee-WhyeTeh\",\"YehudaSalu\",\"YeshwantK.Muthusamy\",\"YeshwantMuthusamy\",\"YiLi\",\"Ying-WungLee\",\"YingZhao\",\"YishayMansour\",\"Yiu-faiWong\",\"YoavFreund\",\"YochaiKonig\",\"YoichiHayashi\",\"YojiUno\",\"YongLiu\",\"YoramBaram\",\"YoramGdalyahu\",\"YoramSinger\",\"YosefRinott\",\"YoshihiroMori\",\"YoshioTakane\",\"YoshiroMiyata\",\"YoshiyukiKabashima\",\"YoshuaBengio\",\"Yu-MingChiang\",\"YuHe\",\"YuanshengXiong\",\"YuansongLiao\",\"YuedongWang\",\"YurikoOshima-Takane\",\"YuzoHirai\",\"YuzuruSato\",\"YvesBurnod\",\"YvesChauvin\",\"YvesGrandvalet\",\"YvesMoteau\",\"Z.Chi\",\"Z.Ghahramani\",\"ZacharyMainen\",\"ZeevOlami\",\"ZehraCataltepe\",\"ZhaopingLi\",\"ZhiyongYang\",\"ZiliLiu\",\"ZoeF.Butler\",\"ZoranObradovic\",\"ZoubinGhahramani\"],\"radii\":[0.1,0.1,0.1,0.1,0.1,0.7000000000000001,0.2,0.2,0.1,0.1,0.2,0.1,0.1,0.30000000000000004,0.2,0.1,0.4,0.1,0.1,0.1,0.1,0.1,0.1,0.1,0.1,0.1,0.6000000000000001,0.1,0.1,0.1,0.1,0.30000000000000004,0.1,0.2,0.2,0.1,0.1,0.1,0.1,0.1,0.1,0.1,0.1,0.1,0.1,0.2,0.1,0.2,0.1,0.2,0.1,0.1,0.1,0.1,0.1,0.1,0.1,0.1,0.2,0.1,0.30000000000000004,0.1,0.1,0.1,0.1,0.1,0.1,0.30000000000000004,0.2,0.2,0.1,0.1,0.30000000000000004,0.1,0.4,0.2,0.1,0.2,0.1,0.1,0.1,0.1,0.2,0.2,0.30000000000000004,0.2,0.1,0.1,0.1,0.30000000000000004,0.1,0.1,0.2,0.1,0.1,0.1,0.30000000000000004,0.1,0.4,0.1,0.5,0.1,0.30000000000000004,0.2,1.1,0.2,0.1,0.4,0.1,0.1,0.1,0.1,0.1,0.1,0.1,0.8,0.1,0.1,0.1,0.1,0.1,0.1,0.30000000000000004,0.2,0.1,0.2,0.2,0.1,0.1,0.2,0.1,0.2,0.30000000000000004,0.2,0.1,0.1,0.4,0.5,0.1,0.1,0.2,0.1,0.6000000000000001,0.1,0.1,0.2,0.1,0.1,0.1,0.2,0.1,0.1,0.1,0.1,0.1,0.2,0.9,0.1,0.1,0.1,0.30000000000000004,0.1,0.2,0.1,0.1,0.1,0.8,0.30000000000000004,0.2,0.1,0.1,0.1,0.1,0.1,0.1,0.2,0.1,0.30000000000000004,0.1,0.2,0.30000000000000004,0.1,0.2,0.1,0.1,0.1,0.1,0.1,0.1,0.1,0.1,0.1,0.1,0.1,0.1,0.2,0.1,0.1,0.1,0.1,0.1,0.1,0.1,0.1,0.1,0.1,0.2,0.1,0.1,0.1,0.1,0.1,0.1,0.2,0.1,0.1,0.1,0.1,0.1,0.1,0.1,0.1,0.1,0.1,0.1,0.1,0.1,0.1,0.1,0.1,0.4,0.1,0.1,0.30000000000000004,0.30000000000000004,0.2,0.1,0.1,0.1,0.2,0.1,0.1,0.7000000000000001,0.1,0.2,0.1,0.1,0.2,0.30000000000000004,0.1,0.1,0.1,0.2,0.1,0.1,0.1,0.1,0.2,0.9,0.30000000000000004,0.2,0.1,0.1,0.1,0.6000000000000001,0.1,0.4,0.1,0.2,0.1,0.1,0.1,0.2,0.1,0.1,0.1,0.1,0.1,0.2,0.4,0.1,0.1,0.1,0.1,0.1,0.1,0.1,0.1,0.1,0.1,0.1,0.2,0.1,0.2,0.1,0.1,0.1,0.2,0.1,0.1,0.1,0.1,0.1,0.1,0.1,0.1,0.1,0.1,0.1,0.1,0.1,0.2,0.1,0.1,0.30000000000000004,0.1,0.2,0.1,0.9,0.1,0.2,0.1,0.1,0.2,0.1,0.1,0.1,0.1,0.2,0.1,0.1,0.1,0.2,0.1,0.1,0.1,0.30000000000000004,0.1,0.1,0.1,0.1,0.1,0.1,0.1,0.2,0.1,0.1,0.1,0.1,0.1,0.30000000000000004,0.2,0.1,0.1,0.1,0.1,0.1,0.30000000000000004,0.1,0.1,0.1,0.1,0.1,0.2,0.2,0.2,0.2,0.1,0.2,0.1,0.2,2.4000000000000004,0.1,0.2,0.2,0.1,0.1,0.1,0.1,0.1,0.1,0.1,0.1,0.7000000000000001,0.30000000000000004,0.1,0.1,0.1,1.0,0.2,0.7000000000000001,0.1,0.1,0.4,0.2,0.1,0.1,0.1,0.2,0.1,0.1,0.5,0.1,0.1,0.1,0.1,0.1,0.1,0.1,0.2,0.1,0.2,0.1,0.2,0.1,0.1,0.1,0.1,0.1,0.1,0.1,0.2,0.1,0.1,0.1,0.1,0.1,0.4,0.1,0.1,0.1,0.1,0.1,0.2,0.1,0.1,0.1,0.1,0.1,0.2,0.1,0.2,0.1,0.2,0.1,0.1,0.1,0.2,0.1,0.1,0.1,0.2,0.4,0.1,0.1,0.1,0.5,0.1,0.1,0.1,0.2,0.1,0.1,0.4,0.2,0.30000000000000004,0.1,0.1,0.2,0.1,0.1,0.1,0.5,0.1,0.30000000000000004,0.1,0.1,0.1,0.1,0.30000000000000004,0.30000000000000004,0.1,0.1,0.1,0.1,0.1,0.2,0.1,0.1,0.8,0.1,0.1,0.1,0.4,0.30000000000000004,0.2,0.1,0.1,0.1,0.1,0.7000000000000001,0.1,0.1,0.2,0.2,0.1,0.4,0.1,0.7000000000000001,0.2,0.5,0.2,0.1,0.1,0.1,0.1,0.1,0.1,0.1,0.1,0.1,0.2,0.1,0.1,0.1,0.30000000000000004,0.30000000000000004,0.5,0.9,0.1,0.30000000000000004,0.1,0.1,0.1,0.1,0.1,0.1,0.30000000000000004,0.1,0.1,0.1,0.2,0.1,0.1,0.1,0.30000000000000004,0.1,0.4,0.1,0.2,0.1,0.1,0.1,0.1,0.2,0.1,0.1,0.1,0.1,0.1,0.1,0.1,0.2,0.1,0.1,0.1,0.1,0.1,0.2,0.1,0.30000000000000004,0.1,0.1,0.1,0.2,0.1,0.1,0.1,0.1,0.1,0.1,0.1,0.1,0.1,0.1,0.1,0.1,0.1,0.1,0.1,0.2,0.1,0.1,0.1,0.1,0.1,0.2,0.1,0.1,0.1,0.1,0.1,0.1,0.1,0.1,0.1,0.1,0.1,0.1,0.1,0.1,0.1,0.30000000000000004,0.1,0.1,0.1,0.1,0.1,0.1,0.1,0.1,0.1,0.5,0.2,0.1,0.2,0.1,0.1,0.1,0.1,0.1,0.2,0.1,0.1,0.1,0.2,0.1,0.1,0.1,0.1,0.1,0.2,0.2,0.30000000000000004,0.1,0.1,0.2,0.1,0.1,0.1,0.1,0.1,0.2,0.1,0.1,0.9,0.1,0.1,0.1,0.1,0.4,0.1,0.1,0.1,0.1,0.4,0.1,0.1,0.2,0.1,0.2,0.1,0.1,0.1,0.1,0.30000000000000004,0.1,0.1,0.1,1.1,0.1,0.1,0.1,0.2,0.1,0.1,0.1,0.1,0.1,0.1,0.1,0.1,0.2,0.1,0.1,0.1,0.1,0.1,0.4,0.1,0.1,0.1,0.1,0.1,0.2,0.1,0.5,0.1,0.1,0.1,0.1,0.1,0.1,0.1,0.2,0.1,0.1,0.1,0.1,0.1,0.1,0.1,0.1,0.1,0.1,0.1,0.2,0.1,0.1,0.1,0.1,0.1,0.1,0.1,0.1,0.1,0.1,0.1,0.1,0.1,0.1,0.1,0.2,0.1,0.1,0.2,0.2,0.1,0.1,0.30000000000000004,0.6000000000000001,0.1,0.1,0.1,0.1,0.1,0.1,0.2,0.1,0.1,0.1,0.2,0.4,0.1,1.6,0.1,0.1,0.6000000000000001,0.30000000000000004,0.1,0.30000000000000004,0.1,0.30000000000000004,0.1,0.1,0.1,0.1,0.1,0.8,0.1,0.2,0.1,0.2,0.2,0.1,0.6000000000000001,0.1,0.1,0.1,0.1,0.1,0.1,0.1,0.1,0.1,0.1,0.1,0.1,0.30000000000000004,0.1,0.2,0.1,0.1,0.1,0.30000000000000004,0.1,0.1,0.4,0.1,0.4,0.1,0.4,0.30000000000000004,0.1,0.1,0.1,0.1,0.1,0.1,0.2,0.1,0.1,0.1,0.1,0.2,0.1,0.1,0.2,0.1,0.1,0.1,0.2,0.1,0.1,0.4,0.1,0.2,0.1,0.1,0.7000000000000001,0.1,0.1,0.1,0.1,0.1,0.1,0.2,0.4,0.1,0.30000000000000004,0.1,0.2,0.2,0.1,0.1,0.2,0.1,0.2,0.30000000000000004,0.1,0.1,0.1,0.1,0.1,0.1,0.1,0.1,0.2,0.1,0.2,0.2,0.1,0.1,0.1,0.2,0.2,0.1,0.1,0.1,0.1,0.1,0.1,0.1,0.1,0.1,0.1,0.2,0.1,0.30000000000000004,0.1,0.1,0.1,0.1,0.1,0.1,0.2,0.1,0.1,0.1,0.1,0.1,0.1,0.1,0.2,0.1,0.1,0.2,0.1,0.1,0.2,0.30000000000000004,0.1,0.1,0.4,0.1,0.1,0.4,0.1,0.1,0.1,0.1,0.1,0.1,0.1,0.1,0.5,0.1,0.1,0.1,0.1,0.2,0.2,0.1,0.2,0.1,0.1,0.1,0.1,0.1,0.1,0.2,0.6000000000000001,0.2,0.2,0.1,0.1,0.1,0.1,0.2,0.2,0.1,0.1,0.1,0.1,0.1,0.1,0.1,0.1,0.1,0.2,0.1,0.1,0.1,0.2,0.30000000000000004,0.1,0.1,0.1,0.1,0.1,0.1,0.1,0.1,0.1,0.1,0.1,0.1,0.1,0.2,0.2,0.2,0.2,0.1,0.1,0.1,0.1,0.30000000000000004,0.1,0.1,0.1,0.1,0.1,0.1,0.1,0.1,0.1,0.30000000000000004,0.1,0.2,0.1,0.1,0.1,0.1,0.6000000000000001,0.1,0.1,0.1,0.1,0.1,0.1,0.1,0.2,0.1,0.1,0.1,0.1,0.1,0.1,0.1,0.2,0.1,0.1,0.1,0.1,0.1,0.1,0.2,0.1,0.2,0.1,0.1,0.1,0.1,0.1,0.1,0.1,0.4,1.0,0.2,0.1,0.1,0.1,0.1,0.1,0.1,0.1,0.1,0.1,0.1,0.2,0.2,0.1,0.1,0.1,0.6000000000000001,0.1,0.1,0.1,0.2,0.30000000000000004,0.5,0.1,0.1,0.1,0.1,0.1,0.1,0.2,0.1,0.1,0.1,0.1,0.1,0.1,0.1,0.1,0.1,0.2,0.1,0.1,0.30000000000000004,0.1,0.1,0.1,0.1,0.1,0.1,0.30000000000000004,0.2,0.1,0.1,0.1,0.1,0.1,0.1,0.1,0.1,0.1,0.1,0.1,0.1,0.2,0.1,0.1,0.30000000000000004,0.1,0.1,0.6000000000000001,0.30000000000000004,0.30000000000000004,0.2,0.1,0.4,0.1,0.1,0.1,0.1,0.30000000000000004,0.1,0.1,0.1,0.1,0.1,0.2,0.9,0.1,0.1,0.2,0.1,0.8,0.30000000000000004,0.1,0.1,0.6000000000000001,0.1,0.1,0.1,0.1,0.1,0.30000000000000004,0.2,0.1,0.1,0.1,0.1,0.1,0.1,0.1,0.4,0.1,0.2,0.6000000000000001,0.4,0.1,0.1,0.2,0.2,0.1,0.2,0.30000000000000004,0.6000000000000001,0.1,0.7000000000000001,0.1,0.2,0.2,0.1,0.1,0.1,0.2,0.30000000000000004,0.2,0.1,0.1,0.30000000000000004,0.1,0.30000000000000004,0.2,0.1,0.1,0.1,0.4,0.2,0.1,0.2,0.1,0.1,0.1,0.1,0.1,0.1,0.1,0.1,0.1,0.4,0.1,0.2,0.1,0.4,0.4,0.1,0.1,0.1,0.1,0.2,0.2,0.1,0.2,0.1,0.1,0.1,0.1,0.1,0.1,0.5,0.1,0.1,0.1,0.30000000000000004,0.1,0.1,0.1,0.2,0.1,0.1,0.1,0.1,0.1,0.1,0.30000000000000004,0.1,0.1,0.30000000000000004,0.1,0.1,0.2,0.1,0.1,0.1,0.1,0.1,0.4,0.1,0.1,0.1,0.1,0.1,0.1,0.1,0.1,0.1,0.1,0.1,0.1,0.1,0.1,0.1,0.1,0.1,0.5,0.1,0.1,0.2,0.2,0.1,0.1,0.1,0.1,0.1,0.2,0.1,0.1,0.1,0.1,0.1,0.1,0.1,0.1,0.1,0.1,0.1,0.1,0.2,0.1,0.4,0.8,0.2,0.1,0.1,0.1,0.2,0.1,0.1,0.1,0.1,0.1,0.1,0.1,0.1,0.2,0.1,0.2,0.1,0.1,0.1,0.1,0.1,0.1,0.1,0.4,0.4,0.1,0.2,0.1,0.1,0.1,0.1,0.1,0.1,0.1,0.1,0.1,0.1,0.1,0.1,0.1,0.1,0.30000000000000004,0.1,0.1,0.1,0.1,0.1,0.1,0.2,0.1,0.1,0.30000000000000004,0.30000000000000004,0.1,0.1,0.1,0.30000000000000004,0.30000000000000004,0.30000000000000004,0.30000000000000004,0.1,0.1,0.1,0.1,0.2,0.30000000000000004,0.1,0.1,0.1,0.1,0.1,0.30000000000000004,0.1,0.1,0.1,0.30000000000000004,0.30000000000000004,0.2,0.1,0.1,0.1,0.2,0.1,0.1,0.1,0.1,0.1,0.1,0.1,0.1,0.1,0.1,0.1,0.1,0.1,0.1,0.1,0.1,0.1,0.1,0.1,0.1,0.1,0.5,0.1,0.1,0.1,0.1,0.2,0.1,0.1,0.1,0.1,0.1,0.1,0.1,0.1,0.1,0.1,0.1,0.1,0.1,0.1,0.1,0.1,0.1,0.1,0.2,0.1,0.1,0.1,0.2,0.4,0.1,0.30000000000000004,0.1,0.2,0.1,0.1,0.4,0.7000000000000001,0.30000000000000004,0.1,0.1,0.1,0.1,0.1,0.1,0.1,0.1,0.1,0.30000000000000004,0.1,0.1,0.1,0.1,0.1,0.30000000000000004,0.1,0.2,0.1,0.1,0.2,0.1,0.1,0.1,0.1,0.4,0.2,0.1,0.30000000000000004,0.1,0.1,0.1,0.1,0.30000000000000004,0.2,0.1,0.1,0.1,0.1,0.1,0.1,0.1,0.1,0.1,0.1,0.1,0.1,0.1,0.1,0.1,0.1,0.1,0.1,0.1,0.1,0.1,0.1,0.1,0.2,0.1,0.1,0.1,0.1,0.30000000000000004,0.1,0.30000000000000004,0.1,0.1,0.1,0.1,0.1,0.1,0.1,0.1,0.2,0.1,0.1,0.1,0.1,0.30000000000000004,0.1,0.1,0.1,0.2,0.1,0.1,0.1,0.1,0.1,0.1,0.1,0.1,0.1,0.2,0.2,0.1,0.1,0.1,0.1,0.1,0.2,0.1,0.1,1.8,0.1,0.30000000000000004,0.30000000000000004,0.1,0.1,0.1,0.30000000000000004,0.2,0.1,0.2,0.1,0.1,0.1,0.1,0.1,2.1,0.1,0.1,0.1,0.1,0.1,0.2,0.5,0.1,0.1,0.1,0.2,0.1,0.30000000000000004,0.1,0.2,0.1,0.2,0.1,0.1,0.1,0.2,0.1,0.1,0.1,0.2,0.6000000000000001,0.1,0.2,0.1,0.1,0.1,0.1,0.1,0.1,0.1,0.2,0.1,0.1,0.2,0.1,0.1,0.1,0.1,0.1,0.1,0.1,0.1,0.1,0.1,0.1,0.1,0.1,0.1,1.0,0.1,0.1,0.1,0.1,0.1,0.1,0.2,0.1,0.1,0.2,0.1,0.1,0.1,0.1,0.1,0.1,0.4,0.1,0.2,0.1,0.1,0.1,1.0,0.2,0.1,0.1,0.2,0.1,0.1,0.5,0.1,0.2,0.1,0.30000000000000004,0.5,0.2,0.1,0.1,0.1,0.1,0.1,0.1,0.1,0.1,0.1,0.1,0.4,0.1,0.1,0.1,0.1,0.1,0.2,0.2,0.2,0.1,0.1,0.1,0.2,0.2,0.1,0.1,0.30000000000000004,0.1,0.1,0.1,0.1,0.2,0.1,0.2,0.1,0.1,0.1,0.2,0.4,0.1,0.1,0.2,0.1,0.2,0.1,0.2,0.1,0.30000000000000004,0.1,0.1,0.1,0.1,0.2,0.1,0.1,0.1,0.1,0.1,0.1,0.1,0.1,0.1,0.1,0.1,0.1,0.1,0.1,0.1,0.1,0.1,0.7000000000000001,0.1,0.1,0.30000000000000004,0.1,0.1,0.1,0.1,0.1,0.8,0.4,0.1,0.1,0.2,0.1,0.2,0.5,0.1,0.1,0.1,0.1,0.1,0.30000000000000004,0.1,0.2,0.2,0.1,0.1,0.1,0.1,0.1,0.1,0.30000000000000004,0.5,0.1,0.1,0.2,0.1,0.6000000000000001,0.1,0.1,0.1,0.1,0.1,0.2,0.6000000000000001,0.1,0.1,1.6,0.1,0.1,0.1,0.1,0.1,0.1,0.2,0.1,0.1,0.1,0.1,0.1,0.8,0.2,0.1,0.2,0.2,0.1,0.1,0.1,0.1,0.1,0.1,0.1,0.1,0.7000000000000001,0.1,0.1,0.1,0.1,0.1,0.1,0.1,0.1,0.1,0.1,0.1,0.1,0.2,0.1,0.1,0.1,0.1,0.1,0.1,0.30000000000000004,0.1,0.1,0.1,0.1,0.1,0.1,0.1,0.1,0.1,0.1,0.1,0.1,0.1,0.1,0.1,0.1,0.30000000000000004,0.1,0.1,0.1,0.1,0.1,0.1,0.1,0.1,0.2,0.1,0.1,0.1,0.1,0.2,0.1,0.1,0.1,0.1,0.1,0.1,0.1,0.1,0.1,0.30000000000000004,0.1,0.2,0.1,0.30000000000000004,0.30000000000000004,0.1,0.6000000000000001,0.1,0.1,0.1,0.1,0.1,0.2,0.1,0.2,0.1,0.1,0.1,0.1,0.1,0.1,0.1,0.2,0.1,0.1,0.1,0.1,0.1,0.1,0.1,0.2,0.30000000000000004,0.1,0.4,0.1,0.1,0.1,0.1,0.1,0.2,0.1,0.2,0.1,0.1,0.1,0.1,0.1,0.1,0.1,0.1,0.1,0.1,0.1,0.1,0.30000000000000004,0.1,0.2,0.1,0.9,0.30000000000000004,0.5,1.0,0.2,0.1,0.1,0.1,0.2,0.1,0.30000000000000004,0.1,0.1,0.2,0.2,0.2,0.1,0.1,0.1,0.4,0.1,0.1,0.1,0.1,0.2,0.1,0.1,0.1,0.30000000000000004,0.1,0.1,0.1,0.2,0.1,0.1,0.2,0.2,0.1,0.1,0.1,0.2,0.30000000000000004,0.2,0.6000000000000001,0.1,0.1,0.1,0.1,0.1,0.30000000000000004,0.1,0.4,0.1,0.1,0.2,0.1,0.2,0.1,0.1,0.1,0.2,0.1,0.1,0.1,0.4,0.2,0.1,0.1,0.30000000000000004,0.1,0.1,0.1,0.1,0.1,0.1,0.30000000000000004,0.2,0.2,0.1,0.1,0.2,0.2,0.2,0.1,0.1,0.1,0.1,0.1,0.1,0.1,0.2,0.1,0.1,0.1,0.1,0.1,0.1,0.1,0.1,0.1,0.1,0.2,0.1,0.1,0.1,0.1,0.1,0.1,0.30000000000000004,0.1,0.1,0.1,0.1,0.1,0.1,0.1,0.1,0.1,0.1,0.1,0.1,0.30000000000000004,0.1,0.1,0.30000000000000004,0.1,0.1,0.1,0.1,0.30000000000000004,0.2,0.30000000000000004,0.2,0.6000000000000001,1.0,0.1,0.1,0.1,0.1,0.1,0.1,0.1,0.1,0.1,0.1,0.2,0.1,0.1,0.1,0.1,0.2,0.30000000000000004,0.1,0.1,0.6000000000000001,0.1,0.1,0.1,0.30000000000000004,0.1,0.1,0.1,0.1,0.1,0.1,0.1,0.2,0.1,0.1,0.1,0.2,0.2,0.1,0.1,0.1,0.1,0.1,0.30000000000000004,0.30000000000000004,0.2,0.1,0.1,0.1,0.1,0.1,0.2,0.6000000000000001,0.7000000000000001,0.1,0.1,0.1,0.2,0.1,0.1,0.1,0.1,0.1,0.30000000000000004,0.2,0.2,0.1,0.30000000000000004,0.2,0.1,0.1,0.1,0.1,0.30000000000000004,0.1,0.1,0.1,0.1,0.1,0.2,0.1,0.1,0.1,0.1,0.1,0.1,0.1,0.2,0.1,0.1,0.2,0.2,0.1,0.30000000000000004,0.30000000000000004,0.5,0.1,0.1,0.1,0.1,0.1,0.2,0.1,0.1,0.1,0.1,0.4,0.1,0.6000000000000001,0.2,0.1,0.1,0.1,0.8,0.1,0.1,0.30000000000000004,0.1,0.1,0.1,0.5,0.1,0.1,0.1,0.2,0.1,0.1,0.1,0.1,0.1,0.1,0.1,0.1,0.1,0.1,0.1,1.1,0.1,0.2,0.30000000000000004,0.1,0.1,0.1,0.1,0.1,0.1,0.1,0.1,0.1,0.1,0.1,0.1,0.1,0.1,0.1,0.1,0.1,0.1,0.1,0.2,0.1,0.2,0.1,0.30000000000000004,0.1,0.2,0.1,0.1,0.1,0.30000000000000004,0.5,0.2,0.1,3.1,0.30000000000000004,0.1,0.1,0.2,0.2,0.1,0.1,0.1,0.1,0.1,0.30000000000000004,0.1,0.1,0.1,0.1,0.30000000000000004,0.1,0.2,0.4,0.1,0.2,0.1,0.1,0.30000000000000004,0.1,0.1,0.30000000000000004,0.1,0.1,0.1,0.1,0.30000000000000004,0.1,0.1,0.1,0.1,0.1,0.1,0.1,0.30000000000000004,0.1,0.1,0.1,0.30000000000000004,0.1,0.1,0.1,1.0,0.1,0.1,0.1,0.2,0.2,0.30000000000000004,0.1,0.1,0.1,0.1,0.1,0.1,0.4,0.1,0.6000000000000001,0.1,0.1,0.1,0.1,0.2,0.1,0.30000000000000004,0.1,0.2,0.1,0.1,0.1,0.1,0.1,0.1,0.2,0.30000000000000004,0.4,0.1,0.1,0.1,0.1,0.1,0.1,0.2,0.1,0.1,0.1,0.1,0.1,0.1,0.1,0.1,0.1,0.1,0.2,0.1,0.2,0.2,0.1,0.2,0.30000000000000004,0.1,0.1,0.2,0.1,0.1,0.1,0.1,0.1,0.2,0.1,0.1,0.2,0.1,0.1,0.2,0.1,0.1,0.4,0.2,0.1,0.30000000000000004,0.4,0.1,0.1,0.1,1.3,0.1,0.1,0.1,0.2,0.1,0.1,0.1,0.1,0.1,0.1,0.1,0.1,0.30000000000000004,0.1,0.1,0.1,0.1,0.1,0.1,0.1,0.1,0.1,0.1,0.1,0.1,0.1,0.1,0.1,0.1,0.2,0.1,0.2,0.1,0.1,0.30000000000000004,0.1,0.1,0.1,0.4,0.1,0.1,0.1,0.2,0.1,0.1,0.1,0.5,0.1,0.1,0.1,0.2,0.1,0.8,0.1,0.30000000000000004,0.4,0.1,0.1,0.1,0.1,0.1,0.1,0.1,0.1,0.1,0.1,0.1,0.2,0.5,0.1,0.1,0.1,0.2,0.1,0.1,0.1,0.1,0.1,0.2,0.1,0.1,1.1,0.1,0.1,0.5,0.30000000000000004,0.1,0.1,0.1,0.1,0.1,0.2,0.1,0.1,0.1,0.1,0.1,0.1,0.30000000000000004,0.30000000000000004,0.1,0.2,0.1,0.1,0.2,0.2,0.2,0.2,0.8,0.1,0.2,0.1,0.1,0.2,1.4000000000000001,0.1,0.1,0.1,0.1,0.1,0.1,0.1,0.1,0.1,0.6000000000000001,0.1,0.1,0.1,0.1,0.1,0.1,0.1,0.6000000000000001,0.1,0.2,0.1,0.1,1.1],\"x\":[-0.7448297672942884,0.8268980056430626,-12.232251019501646,-4.701163292847741,-1.3124774020010725,8.55374561892054,12.045595563844188,6.531256261866966,13.999991903235264,-4.083346066380555,1.2921157717731397,-2.5630115718017183,0.39023942744403767,-12.119102298416541,-5.477047958700581,-2.346828513685351,-16.30205153743946,-6.685822380582756,1.637039263707066,-7.864424000455157,2.948906434625186,-1.0155998609806711,0.08000274109178704,-4.694810380724709,-8.928411750770577,-2.2808004729983082,10.386145893860917,2.5293655442808163,-3.0197528814488943,-8.141316109310774,15.132250020004628,3.4971150917339373,-1.2306380305605658,-5.611648631548432,-4.423022920640206,4.246068270314828,-2.7955168946424576,2.466719185549265,1.6039750481235877,-1.0804300915698106,1.5086614488147576,3.351006065179009,6.794312606355102,2.6153669476799184,-2.123359948715652,-5.086338332827867,-0.3280164481825006,-8.721509429215033,-12.657137611300541,4.334295372755877,1.4903274478764093,6.241789284593945,2.5254902453338626,10.052396762000098,13.740948349358472,8.32514523963879,-7.203168238047559,0.3299697114032476,-10.047068713213651,-3.259328595946687,10.056288335561478,-9.207901504335675,8.662137856598061,-1.9600229720222773,-9.585075916911592,-1.7934594527698802,-8.743796059364076,4.016527436416674,-1.5491382355990262,-14.188596194295192,0.2865332836266043,-3.1391452583069888,-9.04455729739558,3.170062745494192,12.6348189997507,-9.87779573340212,-3.875957209971911,-15.206651826376374,3.457259317998631,4.884799366891129,7.883004164433263,-8.50402143871085,10.73596564689012,3.3209579549569392,-5.52067643792729,3.975782359215342,6.154977656791087,14.393925119712533,-8.960499807376365,10.90614536801469,-2.555722152406518,-0.7413207730947556,-1.4588284834552039,2.3105490259574686,5.311056854714073,-0.5004599435933257,12.343552871535548,-10.291761650870395,8.930354187310874,-1.3564722656593202,8.192838060796051,10.626727015262336,6.770773832877811,6.405236865898347,9.411063386438435,-7.863200321007887,-6.464396419115852,7.801826800573168,-3.865010547613129,0.2624552714833065,0.11835601880172977,3.4231254739870103,-9.65532159013641,-2.5562209048002074,-4.274067480602767,-6.874266353425015,-13.439648693565987,-6.081203376070808,-3.225721108496906,7.71815102636404,-1.1605703372901754,4.991647226463021,-6.516430735392986,-10.636560771227,-3.0253187542110114,-4.903747802296544,-8.698692642863847,-1.2751050764833418,-0.18191989989080096,1.5128653770109157,2.824897030114362,4.309602836784305,-10.627646728711687,-8.070273166089033,-2.8489926369790783,18.638004069967533,4.854036910618933,9.361458160061346,1.9810626823257522,-6.201739334970583,-10.70763585066455,2.8617572405098604,-8.61580341312885,2.8956424252239037,-12.79527508799049,9.347879808780139,0.17502571343953804,13.664764262942068,-1.9087955616285974,-2.049321725979219,-1.1243394783318446,-9.874581504136994,2.7627631607387775,-1.8781054701334043,-9.138470097351549,6.828147127984701,-17.284460451495576,-2.0227670562077678,-2.1126727012285667,-2.5109402706223767,5.281669337762081,1.8546655424623402,-5.925519216758382,-2.3161655627346365,-4.6374415747292925,-10.101267344266125,-17.30403409764216,6.305053507800674,-12.865533937093705,-2.0916595002921534,3.051703246910469,-2.6322993017967233,2.408628108481405,2.498998100493102,5.814616446911063,6.388504127762759,8.32047221212683,-11.147643687443264,12.586704940395066,3.1736303199475153,3.8511158386109847,-2.7392642147407122,-12.012972157446812,1.356177569574221,-8.895140456187374,5.970591390010223,-14.317170882248831,1.4011576573684539,-1.2132557992680666,-0.9050901201409681,0.13620576290356415,0.13880738804024037,-3.5397149950123086,5.408326818800997,1.4867486631849007,6.318771830422434,5.345324369692228,4.547416437455318,5.874561357278309,3.3788708926888367,-1.9616712826394078,-2.118547579337326,-4.572395675973465,0.7217675471606685,-12.377767794990753,-11.841691410274274,-4.819694686215372,4.647811885183902,3.4357567984159645,9.89413773347926,-2.5047443797619615,4.912891640864773,2.496730186897921,-1.343816482806133,2.0150964190506575,-2.519912661364221,5.155399569405352,-9.082815329771533,3.2871251122488485,14.405731296952178,-1.1184526931504806,15.730554116438876,13.04375925213406,-1.1004148247962404,-1.4977668952626177,5.40593747334692,-1.5784167513307261,-5.940542102743927,-2.9239840949147724,1.025341475660754,10.027816798688125,0.589820725754962,-3.8963765987533505,7.802452132466345,7.717952312586616,-2.8019998881436283,10.957102708799024,12.864822212800227,1.356533622103566,3.9109157229440035,-4.780410438339034,-5.164694718200145,-12.780210064824766,7.164907058918363,5.408951998759062,-6.321223449550966,-1.8729033702980846,3.0288237994977463,-14.512084256952955,0.6003766646538288,7.741885506802705,-4.66031170492347,2.9493045604573767,4.6038863697486185,-1.9825154062886967,7.136552281510444,2.1914347923621245,9.970194316289815,10.30948932025625,7.617284017862614,2.7314365035187365,-3.637942336205053,3.119776536315947,1.9410689486599988,-13.44329394166163,3.272953581997338,11.752557534572132,-3.101350184595745,-5.3202343211312995,-3.5954326122413995,14.837811962471072,0.9418284032314758,-1.3592579612628188,-8.69331901044612,7.688809643329916,3.2429804851230415,10.979424635522534,-8.58093480854036,-9.735530237816766,-15.680415608678775,-1.981472713803531,-8.131902306181354,-1.1335117853270678,-8.678561398093828,-15.288801923355388,15.965488481808917,-8.582877392950204,-2.4878378200070825,-7.308020509225862,0.45157008568760715,-6.051020056352001,-10.990001502563507,12.0104918578823,-11.151935088975694,-3.1546603601877736,-4.705812824687512,17.399190026611457,-6.009298138479118,1.7518895898643583,7.413225113372549,-5.169278713114787,14.223605086475647,-6.27465747080347,2.491267508447497,11.342881293073946,-10.47678819386863,-6.19017270399934,5.091043992977851,-0.8303193039711959,-8.750765250075425,11.236329989625958,7.841098120044052,-1.3189865684862438,3.460017099122541,-12.279177616016092,-11.936481904915471,10.07436857169216,4.467506126746407,12.808589351808635,-2.1311604436594247,-9.455513191618692,14.389035557219493,7.482385388993782,-10.015602468331316,0.625754036092208,-4.584241224149504,8.729942036156096,13.370897679255512,10.568925808292288,4.453488691424717,-11.21173569776491,-14.328074721315188,-13.024906932049955,-2.167867187947109,-3.291404932453502,-3.4177201892359843,-6.55686069602895,-8.049106542093128,5.726786058777195,-2.082498643891305,-1.2155540759800234,14.629019189352086,4.163422797312143,9.998675207991568,8.044209298721144,-4.0567942140884,-2.337783935985699,2.2122959055345497,-6.204582674781775,3.415157698434436,9.504075968623761,-8.00192561011612,-6.1815171423038064,2.696597470387043,0.7972514156471532,0.5532313450025252,-13.986221392550128,-12.263411507018212,-3.1981793845933386,1.8455824280419166,0.5645249208059792,-3.0323082625345945,-9.016597937520025,-1.4296667001887546,-1.6557957255266973,-8.958405934658272,3.228773432768409,10.308488198103225,-11.668383920162153,-11.269176184938592,-11.45783601806856,-13.532930074191722,-3.8022451847260066,12.015794600871716,-11.89998532457371,13.399900657700448,-2.1111109439593445,0.9800255566746127,-1.1144481645259632,-4.7557472143334865,-7.566624177452463,-0.9542708850297295,-3.7870004772071684,-17.126383714175002,8.55350657344841,-3.678531918037102,-1.9015749679188698,12.764279994274023,10.798370027097134,-10.790741058326468,10.663967487648398,9.298816449225853,-1.233312035082629,9.17216952154473,13.839015887812563,1.8428415503225337,-2.109284577032455,-1.796460888206748,-11.457847155913251,1.9930115337843117,-3.152735094039778,-6.91978018834916,5.050599686409065,9.3218922728381,-12.952469206637168,-6.122928324610813,-2.2912663397010467,-2.3439599628447008,-8.467571834687618,-10.665168997860151,-0.25740076620026137,12.265133154392274,7.483148035550858,-6.765241655892973,1.9823820160451033,-14.086885161870022,14.5412297006396,-10.34170913762873,9.753594148149865,-1.5659123179499719,-3.94513333922493,9.965465140300156,-6.687767615748589,-10.17143468201069,-0.6995700395316646,-4.80726410756817,6.0818083630077915,11.507963260739649,14.413177346791572,-11.747548463881099,3.400791914508796,0.11741789474209108,1.0847327184264992,7.935427246726077,-2.0462906257357085,-2.2873563545846665,6.385675284470118,-4.1259841104916,13.742502760719056,0.2344792732169578,-4.029733052935451,4.62941125887979,0.7537230988036665,-6.4813720996326625,5.0336062520293945,-8.293452006738635,-12.906428844344992,-13.48833215028341,2.0231271822389782,-3.74661292238269,3.627920452758165,10.95348245798721,4.4378653154861745,9.488037139819781,-2.2364441645902704,-1.0827687743397774,-7.896189699562975,-6.507269590279556,-9.022786529999598,-6.592168729895915,4.529642050758471,-10.98534136230945,10.399927993162752,-7.798742390407418,-11.374440200833638,-7.69949145935196,-0.20694330405895586,-8.815852983291068,-4.306883930850504,7.129267988471321,-1.255255134802287,13.875719667584283,-7.693902025566246,6.765806018811158,-15.748277230776601,4.434033920628567,8.764309961358094,2.8109317856112197,-3.291250532258107,12.016010725339209,-15.658853546573154,4.560633594667567,14.042188684971494,-7.101709231134637,-1.5898491821914704,4.339437076992124,-4.718547438820681,-14.070036463873201,13.82848163762366,10.662221424971262,-3.5727635167098524,-3.8152995650362715,7.610563829846467,-14.49574116518099,5.114737537480421,8.41401351336411,0.0673189901972797,-5.207072002568861,7.8969702009941045,-9.030809395931836,12.65001618335736,-0.72498873854462,5.446339712684057,-14.225158076369265,10.206237421709773,-2.6743272832823175,8.194188957805233,2.0413942527723647,-12.19052148510103,12.585381685782988,10.179202189543615,8.321165486290125,-1.718708415789399,14.426546790548425,-0.2655953324063617,-10.447054616295118,-2.4723117753001493,4.999562623351744,-4.789669970503159,-7.321686456756017,-9.82294091993534,14.869633842222699,11.118870580956395,-1.4700073258654072,14.799600896791553,-9.004984943441787,11.87344504088953,-6.690538152748116,5.3137885980023905,4.438507237187268,11.899532985658785,14.36908370965169,-12.695572132543756,-8.164086506605209,-11.570465120188945,-12.913348639471923,5.200406071590524,3.131381756946192,2.82010441859572,-6.6706085970972575,-6.124465611364374,6.426503618439963,7.63104323525627,-12.100703365734118,-7.940472385062981,-12.810833185651694,-12.88701386660528,-8.997660093055318,2.4109262063937313,-8.405068410024201,5.513170534519879,9.985246693408927,4.991329908809304,15.498672281942618,3.453601890442021,1.9112140578850196,7.232217361281095,-4.768378996041728,6.105766387857086,14.455944518058002,1.4086799111044948,-4.8124975548777575,11.028481732276585,-6.107429856436873,12.478323867164768,-1.3156974773453847,13.343401428151534,-1.0029038359183078,-12.336648216694723,-10.101878309535135,-15.556280309622496,9.289626430191966,14.364994497263988,-2.4211732905321424,3.3640694362652415,-9.255358270519745,-1.7764981401491355,6.128745614804958,-8.0936042265384,-3.359053227036113,-5.529924578816686,9.80604828212772,7.130487978510473,3.5039186304484855,-1.3992635622647385,12.806196184715274,-1.1585790555946651,2.188148466879052,5.873383129613861,8.51711916359504,3.5723079798605726,2.362288248276935,-12.835117241314677,-5.739708273688939,-2.221688350532933,-3.28231327285738,10.628320409123553,2.4718325953835865,2.4681881760862336,-4.077721533305424,0.9683033304392944,-3.226742705496774,-12.913606671546193,-12.833559207488667,-2.1379950478770606,-12.612563274579248,4.307124397626448,0.4133745343874056,-11.496367251367474,-7.1151355105923955,14.4662503099428,-13.038941707636297,4.360855726094539,2.9266965109013583,3.4075114928359906,3.411425561016334,-0.0031192201694228835,-2.8282388407810366,-9.67764464292888,-13.802524974788788,1.0459528362127966,-5.304503748190142,5.485048157547206,-5.581818113962317,-4.423062497481345,-10.907824781690984,2.1900377983068875,7.341101850455063,-11.76629378548365,2.12598426077163,-8.795805671592511,-8.642412087644932,-1.429440430856744,13.042501319258795,-4.772018981826077,-10.81088050618864,-12.787101374124417,-4.960613420262993,-6.302463962380326,-7.034826044649117,14.374632762257805,-16.37766675102157,6.679219629485997,4.013997885915725,8.40570137521895,-9.683910928539365,-9.276719364440844,8.991717372482,-6.574729693976887,-11.080960387044097,-9.80964158305506,14.358539508924057,10.767273868640196,-9.159662424858016,4.2655322296056815,5.265453251930705,5.9481868099379955,-14.251306258036873,-10.499787896245042,-10.551068869591132,4.336252000629175,-9.543172173916465,-8.085861062019188,-1.818090593045111,-12.0876905428349,7.210748039125156,-3.4220386342652187,14.323481516029602,-11.721303700390912,12.543989662361568,13.016947273118593,-7.3973494372090975,14.308895519129358,10.872407883954267,-8.131068905479408,-12.275545012248335,4.864653103068316,3.149725441901624,-7.99924053451828,-13.441209578451986,-3.631915589657981,2.529851084360535,15.142092850470272,8.068936178050015,10.394855468324158,-5.873381249296484,1.4559317440796073,-5.844002267672854,-11.482208345144933,-10.278143277341787,-3.4140471043506415,-3.1176202441074916,-2.7693827593356293,0.5861578255111065,0.21602964088186744,-6.373005789730551,3.168030736999273,3.8568530642511742,3.687143364244383,-3.117060144516759,3.980650684592564,-0.07536029848511694,-2.299227462870897,-11.888433767258165,7.81329021452517,-10.915739052059099,11.30044807169018,-10.462862843742617,-9.719479505470423,-12.986362639832524,-3.8973846582967924,2.6599260394869146,-12.676945119115079,1.5867084931752808,-11.181984276914141,-9.698292390740534,-3.1994733703929747,14.218512065095911,1.336265339676426,4.176867832955945,-13.128689720735322,4.130330246289709,3.451710545778554,-3.737121960895075,0.928360778578243,-3.3085175220881835,12.034880125580278,-3.1132538339516653,-9.761055319786147,-15.655237349232173,-7.021401526019809,-4.813372402736178,-0.30845728259336963,0.7040556955746775,11.385068610944598,2.4037110939888158,-4.701238597919742,14.375209204728854,-4.710417413660474,-12.817712197483832,11.698306257580224,3.197967415896656,9.280714087232854,14.579130126234963,3.6365587018123295,-10.413439191932264,12.156677899520606,7.5257127936371235,14.718960582270801,-12.015845846625677,-6.598142291562367,3.8378729838767147,14.108014469036965,-3.465321990781284,-10.026685927601996,10.071157400158443,4.433104038799699,2.9750606823485115,-1.9526837965154173,0.9988148705228042,3.414811204565455,4.2536803330835085,9.858492836457408,-0.09949555431908316,-6.3030482063197555,-2.746911507982145,-4.336075888265066,8.314351116538736,-12.670999521833874,7.1727569885215985,11.948284379055863,-3.8833658527775206,12.503651146220935,3.1059462754568194,-5.947115619009917,14.66525072292531,-0.28225014021373723,-9.290559552418149,-9.035890127991546,-8.600146405313385,14.477473637090306,-11.34450224640399,7.820379922803609,10.702333709558411,-1.2177626909461388,-7.16288360034875,1.2077090453072736,4.1000069843632465,-11.618315582934905,-3.1260155096577034,-2.1836574892940708,-8.75917320261109,-1.2293761575622715,-5.636959007093683,5.135989591249696,-2.6459080212951265,0.5326263596631605,15.641203008673825,-11.933176467054082,-1.896630749681051,-2.830927391140579,3.2833089533544313,-5.801379312367964,1.9894290416565263,9.053742080609956,7.261779033533374,-14.060125455421264,-5.739883675608372,-2.275474875945405,7.909819280907922,4.356620921283449,12.094594089360925,-13.097065289831715,-11.224980758352654,-6.530879516962617,-5.651035194714906,-9.431302319595238,-10.443508323927084,-2.405693332941161,11.49980154763927,-4.384515428254027,14.254845752661195,-3.972831068650604,-2.0455603520781844,8.851477900468279,5.135499754038347,0.38874150561089216,-2.4490469735758946,1.796289883358002,-13.748722233467209,-4.832127374978152,-2.684190312952544,-10.97634371683142,13.051007124271955,-6.861302435463418,-0.5100376823959127,-5.692301308674834,0.034881937481485964,2.6322297006255764,5.966536226469152,-13.007598052113705,-5.868103760113623,-8.259041073271456,-9.40728907662193,-1.9996569693895259,7.440890555060795,-1.7847286353996699,10.654273728178369,-11.737212223116911,8.645376471221171,5.9474195048836425,6.955658485581515,-1.4220141284863708,-10.03835329178464,-3.152487872778976,7.195925724864944,6.333306242210838,-5.697136477111214,-6.000403009930643,-3.7569878283019342,-8.840802254136074,-3.1037013448644952,10.934444414167064,1.6409964067038536,13.835638854438859,-4.6504086986756885,-5.963936483638185,13.838017035055742,14.253969520691813,2.260875625905514,-5.750435595327919,-6.425834771172867,0.00844611662931009,-9.657047575577186,-10.032690965686411,3.374410632311363,-11.287145768314248,-9.467817265128023,3.5408383869695266,2.780041151313019,0.4208843388119069,0.6541820978876338,2.5148197643884567,3.801466494830998,-4.13486072514568,13.212883975584532,12.773210747432817,15.045247151105656,10.525188263215252,-7.858596323022718,0.5251498010478364,-3.6437760856760115,-1.610217917831426,-5.824248069571522,-3.4063545110308304,-8.75736898688187,-6.583969959246993,11.443903546872864,1.1007741919889151,5.659602333210615,0.04085685146970113,-10.211882950953214,-1.6951161048743955,-9.080217015103248,2.637241544683824,-3.73388953211137,16.340775762087343,2.7950681521361718,14.353778770264285,14.389442142716508,11.69905096803266,2.457249306557255,-4.756234232102756,9.745923645466368,-10.238400534161116,4.23272259341335,9.809859361188114,-2.1392840569035565,1.4356403066191918,-1.1146562710691947,-12.682171416191109,3.1965582090558504,-2.5680745720760685,14.448352583251294,-10.501243919660055,10.642066026370793,15.135094562177326,-1.2038093429276708,-3.834977116132167,2.2557421317716218,3.504421956819525,3.2361162515663664,-11.744674864154499,-1.429575399697074,7.513183946709608,-2.658530140391223,-3.388265501064376,-3.715096406928384,-7.48485706583203,-9.651829861882536,-3.2393209453940406,7.132954146905496,-8.152223289130875,-11.526467604163868,-1.4063662190364725,-1.2893503893266451,3.3795703119692844,-7.826536947784647,-14.169836794846207,7.800281370080282,-12.747401939425886,5.403304500455509,6.274661655094943,1.9281870607053582,1.3154966427752968,3.231365450332444,7.756765002815876,3.292016021514216,-7.910357770354911,-10.582910662351425,3.196957505144341,-6.391597106636858,7.802390480854935,-11.328768137224255,-10.143817850438115,-8.664293687102536,-8.113378869177534,-12.86806014521032,-3.232151088854375,2.611449062402731,-6.613233901105795,-10.920561615832565,1.3868007658715298,-4.156524341640519,-3.1681637388768027,-7.062520393086702,-1.2438533811985562,-1.1633771444965015,-10.618056243931989,7.036137190718711,-6.091003538139697,-10.432860046788285,14.56826581877848,-1.5583613835250398,-1.5890028053924623,0.8511656926039625,11.434906342984329,0.3320248435444987,3.334504339951681,5.185081448771551,-3.9762718063639926,-3.3808298518506184,-13.754289162755327,0.39923732987958094,-6.088952321746444,0.6029558527525858,10.845728140943718,1.410459069159075,-4.145554097046891,3.362122963065966,-9.29487560404503,7.47296652405632,-0.06787667636644872,-12.518787978078615,-2.55557881648492,-6.965046206715342,-6.08363425567463,0.43160481533379946,14.0773202424142,2.7310589862665124,-11.840393185657208,4.260550685216448,1.585387440121241,-9.105376398860306,-8.200224558906742,9.815402253208815,0.48244661094549074,0.6709695266033332,5.77883834496434,-10.12003364995183,2.7442287908451553,-7.659981600786405,-2.9511133914622363,5.160656041979744,-8.734292665730855,-12.158840124467028,3.424783782373073,-1.7688856236201527,14.369122967139463,-1.9567411295719983,0.8284023884482168,5.1682067572669625,0.13921369973506287,-9.521250758040802,-14.235616920977899,7.463093258441257,10.92401750110174,-13.467950182058733,-4.424747419185863,0.1745455624096078,6.967347075679931,7.667992867690821,-12.810361297028233,-4.9875604654944565,-2.2870617393460906,-5.8648772710505,-10.57075704474805,-5.423277238999389,7.491995119967653,3.4098649986056553,-2.5387684325673807,0.23758859311055247,-4.579576840532008,4.842216143309287,12.883150407749072,3.19453616933918,1.7779160289989107,14.837396932267145,17.281664269521368,8.299445472087623,8.123025440019612,-6.367263905074817,2.7897018500934747,14.548382103922648,0.9831098317431779,14.749091566488751,-9.499397561843445,-4.830585647792674,2.535505165141827,10.1025588528087,-6.694984660776805,5.21649078091598,-15.150751569202233,12.148473299144582,2.067637686030941,-0.3478415896982291,10.103176137102306,-14.167883385155164,-1.171348346897225,-12.984844583086462,3.681342696168868,-8.179253660548811,-3.7602363450418363,-3.3259330202126898,2.2664332942179075,-7.72471811350818,-12.25163436167859,4.967562985798355,-8.30418175531248,6.064202551834148,15.675761001272244,-5.649569193578117,-15.587039918990417,-0.39308330168452094,-12.368182851762542,4.656190334434754,4.999840267818462,6.067866750640485,-1.228966552713908,1.5295005399092736,7.048979130787676,11.19508692775106,-2.195234324154588,-3.3364213355360675,-6.431115847786503,-4.008317566840153,-4.836841993829283,5.272092963522526,5.875766290301673,6.7814516479307825,-13.534924236207468,-5.606626842774891,12.454007670775333,13.599870239532132,6.7409865707077286,-2.510184375370334,5.60056936364663,9.902960727780894,-2.6737609139634877,10.267090218328123,7.51106112872361,-1.3983298425310642,14.42673664815134,-11.313290500213398,-8.104710171744037,4.441157714735672,4.618571832138065,4.491977439445969,14.173268943711516,10.853655785564575,-0.17432364177197196,6.285848351647852,11.66149981505375,-8.626465714956888,-8.44154221771212,14.007511746543079,-8.171765944933204,-13.054031723854681,-4.890861224607421,4.128662229164264,-9.823403436730976,-9.680442821294024,-13.519615093371032,13.397223292595994,4.994864335341199,4.1300130828732255,10.023467712588042,0.8123826467304902,19.11249090698608,-15.208261904061027,13.89485322741679,5.1835924185202655,-16.35787477982595,-14.175440916925897,-9.770352620200367,-10.248530618459787,12.270219541943055,13.050363977542206,7.704264568933478,10.523707580039463,12.548272104054266,-4.63595239879123,4.06591945860086,-2.545528393564905,-3.879119702410377,-1.953471381515349,-1.6150299771843168,-2.678532110910615,-12.816597596518019,-15.880630173985278,6.843155285550279,-10.489023088920286,0.24653044554323783,-3.5068959568639957,4.607031533850704,13.300530448497584,12.10724548192848,12.099635872790847,-2.8934679255671423,3.8886829899369935,-10.106440209822441,-8.827869428399898,3.0953503027913865,-6.342431233421724,-12.1238766196527,15.055257395342576,-11.858449322256886,-12.544062112745909,-8.781294277755817,5.489568555576302,-3.6110893081072635,-12.460066502699034,-3.8720646859035375,5.218213840943418,4.7247600366700295,-10.57918515205802,3.782636093971181,-0.0674527048570336,-7.111317135655174,5.462014778583389,-9.540815509929148,-10.195077213288348,-7.7565879953138595,14.421401096585194,-0.0812576139143018,8.328681336770387,4.734454405410889,7.680101012355867,14.46864340621149,-10.92740065390286,-4.119607988267972,0.6857254314301348,-5.422376308869713,-2.9184357990183134,12.911982945509743,0.5838442513658268,-13.58320766285595,-3.8378793968728706,-8.785916122975145,-4.245896587767929,3.312068809933454,-4.977903481901886,-15.152806562798778,-1.495580361279331,1.004783644844863,-0.861150367133815,7.34404931812329,-9.165718549525776,-2.992815203270344,-8.269915006662679,-8.400795740805629,1.4897811857407466,-7.3088460355638825,15.863626468939499,3.055006868745484,4.477576207756207,2.452498897804568,2.502221181480931,14.134541557808502,-7.810722546718376,-2.3923229966095816,3.8637101873325856,-12.347629146373357,-11.241086656828955,-3.0369196397893576,-0.6409321638308092,-1.0234931253526827,9.688793535546546,-2.4994677783646906,-0.3380540317649444,-7.307823445550457,-3.9144321887979903,6.1833947123256126,0.40200451512385194,-3.1820963069324764,-13.718658173689871,-3.30953539491099,14.26799741918885,-3.9413470544152087,-15.011276397502337,-4.660393828786479,6.763665487295239,-9.981974315506733,4.451511966408654,-13.160393793476306,-8.806172079423186,-6.2511369159194725,-4.194774759142546,13.909916487139562,-12.016796694988239,-0.053902986041191606,-12.7900930952137,11.09169960331356,-1.4842413872422455,8.360339253105039,-13.60164675258355,14.15243772712922,-4.700081207600391,12.176891296944847,-2.7179828035406595,-8.857558729360267,15.184620550280853,-1.5741608936244638,-3.4079040418768427,6.781661461039935,-12.704266371756077,15.800617831366637,-4.079216910024443,-9.757984724968617,-12.083043837007832,-14.518051644470912,-3.4797648770125504,-1.6632114555444495,-2.85098294056045,14.293960332020303,-2.4074480890880783,-1.1970910953663558,15.793692120778967,-0.10405099106210099,-1.2048826067357767,-3.063565432391097,16.968047838132186,11.317582338810773,-12.818985366205535,-3.57111743967669,0.765316593851825,-3.2600020843852793,-2.344771979700219,6.778411124928268,4.066718076864801,-12.514960489181133,-3.195017621188564,6.0527344310739055,0.2899738304704148,-3.8689313986400435,-3.551623286724499,-11.415899060658223,-8.071719607063109,-1.610389943591954,6.41663933060556,-7.03896524762299,1.9849021624237562,-11.916960560892365,-4.785731613150929,-0.37663583647434823,-1.8310369830007693,10.840150131696593,9.631499380657381,-12.824221624565086,-1.9616219470265486,-4.113341127146913,-3.5031204984903006,5.148971953923914,10.022546877253316,-13.30874852093007,-0.6736731229161756,11.833501558668729,10.449996822002797,8.243123052860591,-13.52476814158389,-1.0351529935817676,-3.3972058103747775,7.551333437098511,-8.475179515040308,8.258167134326117,-5.2173201106103475,14.792423312395359,-5.820318201480364,-7.105054740969688,-6.572656390293891,-8.54554748551183,4.450791592860192,-7.316388755630662,1.0983121570904775,-7.882642809613708,-3.2569946416764584,14.348319109346889,-5.4797421291095665,-2.0962895563729718,-8.154445118456046,-2.534153427870016,7.055447109556298,-12.117368006606139,11.388658402797406,3.51618120148971,5.822979537221515,-2.265007647551667,15.992019659407,-5.775896061483673,-7.785500940490149,-7.902970882301282,-12.24587901896635,-5.776759434128284,5.202842456119364,-3.463154136220574,12.409360244354723,-1.2493370036123272,-7.185549406148292,2.3623238935195414,-10.815844589656868,5.156477802004371,-12.811749484429757,0.013681201329964216,-3.2923360341897627,2.4677637175366356,14.45552851487411,15.75446559434039,-10.814461753900188,2.0655750879442762,-15.960161278103334,-1.4820712826956046,-11.251527555119104,-2.7202553596990917,-2.4776058118310242,1.2228014950940747,1.44112280701529,7.667066715309775,-6.165791034228539,14.33027682448292,-4.778727975450942,14.411806631127071,-3.4883424982909266,3.1374005589564047,-1.5799370845341298,-3.0041806019450115,7.406265993721528,0.8099197954536458,12.350632624127915,-7.985424655064328,7.4618078140294894,-2.056508870535968,6.126938904289943,0.7112439925455479,12.565740323313793,-3.097430774654902,-8.104848278834172,-4.604031820016072,2.2628889432908186,6.36196297857801,7.156293883321185,6.156606808023137,-6.765584060060054,7.448617571835753,-1.0314151559131186,-4.624628773948585,10.152213808362275,10.271830579189347,-6.95569865173618,1.73394992263737,-0.9629649477208311,-4.73109206078984,-0.10981613558710256,-2.7049092714204344,-3.6894743052148304,14.262815081461953,3.3567954750149704,-3.0346118958222825,8.590741550262347,-4.184086710691297,-6.1639468838172515,-8.803620895930456,-10.757702352002436,7.404716041656625,10.537702753015742,-8.242425196655278,3.2894399246479384,-6.4162529808720095,-6.660072605063596,-9.937881711691814,-11.262558110928442,-8.020628342249193,14.730925703870993,3.337725215081877,-12.750015057174174,12.115792410565227,3.3267138195620714,-11.999103824564985,-5.207573631441416,2.562666150061223,11.552467660851958,4.844255078862909,11.196885422107728,12.315155375146995,-2.7097092455989964,-8.264609543409456,4.21009909666574,0.18182271202420291,-2.601407987773788,-5.582173783211814,-11.16273232077677,9.698999676990475,-8.605288959547224,-6.281753895325435,-2.4999337232866004,-8.174043164150778,-6.566812014344287,-7.766262622075513,-1.5395082377478606,-8.056676604575308,17.171506785704885,-5.423206926289568,-3.343301116856387,-2.070093930676725,6.523683057307977,12.869489120146683,-5.7137779633995756,-9.986717199591686,-3.7018507497829,1.0128211690191107,6.154974509829096,-12.752316696248268,11.145169538943358,9.616665991510148,4.2681325851687175,9.699705733551827,-6.333850714076006,5.197258003320753,-1.3195573334212178,0.5012670672405245,-3.7675537011757347,-0.35607295683993545,3.141232256545267,-3.00875663941502,-1.5968049882466626,-4.709591728493972,-4.870614189749393,-1.5301895716385172,-12.542127163792165,11.396951260375257,6.4147173418069015,-1.6401768889839974,-11.929253221735566,-13.096003896789078,2.247404993239815,-8.405159764508532,7.941265969656555,-3.7350749597203876,-11.336431132512171,3.3801164959956016,-2.1129897135799234,3.1883883930201957,-12.145675317828884,11.08857236638414,-8.185495169168092,0.012824233800728294,-8.19857107191456,-11.363850324730373,5.210298623617748,-2.6979502594460736,15.04704217390882,-6.372719544839535,13.172531362997784,-2.0773449497229413,11.6995640383997,4.8853118292594155,-1.6059667201875465,-10.677639597440788,-1.2327930974115506,9.424515464145925,13.296908779144433,3.1906161246936726,-11.985615272436224,-4.027043807280545,9.952882483955031,-8.537757331917328,-10.951988444626384,7.52265723259899,-17.766666564741595,11.240515322416071,-1.9647315714245481,-11.197233077244492,2.8110520740499845,-1.9415962506798643,13.158720332187322,-16.254648195580327,5.972304333942931,-1.1607862765292845,4.633504666776705,-14.973683496466995,0.6135146568631834,-12.30813436817363,4.954789535980716,-12.025043098885543,-2.7568027354601456,-15.447784089590794,10.351230416672731,-12.511693635498741,-7.91361021351158,14.4057640215939,14.411208103384217,-13.989249144322308,2.973472041751201,-4.839901012233866,9.347073262012296,3.527997483295356,-5.3707580433350595,-5.801191666061954,-3.8748984500047654,2.363396295938161,-6.664423111716469,-1.0100817901055035,-1.919456131604849,-2.3228658660393777,-11.457847154182192,-1.4652189007956613,4.565098709067186,-1.3601714119924948,10.774517111168093,12.02749255147891,-2.480295011898513,7.238359504230132,11.332684892472036,12.541436541267608,-9.481541839778588,-2.863139356837633,3.8195176224357184,-0.574777744653555,-4.580107729450632,-7.298252736022246,-0.9040584028770924,-8.270562680356916,5.267653629209757,-3.8807105772688195,14.691977140563564,0.33904438663072817,-3.9208781264952117,1.3941830056055495,5.7310094887967225,10.99006876083099,3.8815431596232535,2.4333608245383553,3.144474826547703,10.050411215272412,-3.9864792978338452,-12.321880055561982,0.2668692255961243,-7.80707099369297,12.544443635303455,10.5172757201973,-3.2133492303192197,7.941266880272668,-6.297256314890179,1.8611916913716222,10.437009012556748,5.932954639791498,11.619684229345614,-7.842878621703219,-0.3337933156185983,16.111441898978033,-9.478985494433129,4.57041912984278,5.6604212841090265,3.1649226647632056,11.324972282077265,-2.183163491808364,10.59878484575505,10.57648204500416,-11.45908270257265,-0.9554657201853938,-3.7067773468018497,-6.232990811848244,-3.3717915159776624,-3.934608490752802,-4.091658357765353,-1.2332375768852548,-0.4291909797379606,11.546572658416771,3.0312547233882925,-9.572612293983502,-8.855047214518299,1.7665742475936785,-1.4491473591601505,2.9770344824444264,-4.858652775669379,4.0145344265854925,1.7198074744432001,-10.474752230354394,14.228113733506696,3.0557922129733757,-3.5308158073414346,-1.9454689992313903,-15.208718350131704,-12.694084691320942,2.2222027097957913,5.170607580547763,10.89290570796912,1.3225496655034144,2.694122949786824,-7.115646402355621,-3.025082345711737,1.541368387000161,-8.488716820652558,-12.851552637529103,8.51375363782002,2.8140142225607923,-10.188533363604652,9.143388436734684,-2.8663324131610852,-6.434856513267662,-15.219583744063941,-3.9766097977559416,6.63840961323197,-13.138935642553653,14.307273090183541,3.369077941448192,-5.986843750653461,7.373635279545006,2.2167150976020684,1.0273839404538445,5.097836497204407,-15.037766164519121,-8.089159130338464,9.2090420989454,-1.1789130347954146,-2.337363634656803,3.119870552982819,-3.546333224561413,-2.5850046286529365,-1.280054242216415,-7.781520271361581,-1.5044951197286496,1.7130282830846568,0.8692996234236956,-2.5383482122152636,0.8489728453613513,5.162384637419894,13.247394490136438,-4.040569645073162,9.410904860915572,-6.355855640214184,2.2868740094843374,-14.51071839988991,-14.035275998584844,6.562025525886203,-2.331269836766352,-5.963292747011784,-9.709501720976581,5.264377529465279,5.234896620587209,-8.295270019683958,9.332170935496919,12.62538524694202,2.273013197897498,-11.120311859494553,-8.340140045822658,-9.215182886462062,-0.9359023668299882,1.4826981444931409,-5.9822866149844565,-8.671787933158587,-8.075721934058944,-3.6622807687659513,6.275965294852957,-2.556994110722294,5.664201851192534,2.6703766274085874,1.0968780704332792,-12.11596025600786,2.1575227033395232,-2.496259408717282,-7.099538849697712,-6.507254402144542,4.6058496598959975,4.444634675155388,6.55124635585465,-1.9722134371687912,-6.661151020768833,6.798696162569224,-8.03734055405285,5.144338729810165,3.0779620366449985,-5.856264502870724,-12.065390601137068,7.279334029051349,2.423376338029131,-13.25066665106505,-17.579677094471855,-2.82727532379238,-5.607345427846142,8.71534607295122,7.379272969013677,-3.2015926711808818,-8.128089596410438,4.279627621687721,5.381593903178031,-0.5926674250594266,0.9068552432040847,-12.948650699892413,15.08056303890992,10.921644549804446,10.612455775487344,-3.657707623819961,8.288060997172689,8.6842448842514,5.148575544893467,13.32638438145231,-12.978370759616118,-4.023270909960923,-9.182441355327562,-2.754559770112153,-0.7410266350681333,-8.060017101553381,3.9972237968869146,14.028822315336152,-6.347049009101528,15.124586741721714,4.940300636183202,-8.351947421032111,6.215291803962065,3.426499211286996,-0.8436981870828998,10.036366845460037,-15.439132567319911,-3.511404060817095,7.213623924440836,-10.486419302515547,-1.293103199066353,-7.953049206957318,-0.9848025759753892,-12.83146048129774,6.980535866147621,-3.1669769789248106,-5.837388991040699,15.768894477360517,-7.699928429162453,2.456231120069992,-6.127422961701905,-10.355132824166674,0.8517691147563167,0.2551450932102617,1.7947654473581418,12.234787003762383,-1.5460960319786292,-7.7357718530245245,-2.0535812202016963,-9.407644388566023,-1.7328123167554415,-4.701236996788729,-6.221623397997232,-11.295656675899886,-3.0181089322239996,5.067054758180608,-14.869521086039773,-4.772178094574996,6.374159083742591,-6.633227603152192,-11.130920987820472,-12.87009660796877,-16.083794559434796,14.573970047687322,0.22993633686378212,-3.624241295408682,17.259863847015463,-4.3168016101370625,-6.129739593599583,1.0430171335840441,1.8861714832979757,6.6551598402057905,-11.850161781111597,-3.2844029846792457,15.648165036137573,-8.72706894357959,-8.298909504364072,-12.581245164438851,-5.94227976289137,6.328061869230158,-10.268199340297004,-8.08697468470991,9.218186873901645,-7.011468272339062,-16.479066729697028,2.5165248801916937,8.847309101899032,15.820108389558746,-2.337906869412801,6.742377497640057,-8.755595553830272,7.428191839027254,4.311342590474115,-3.8542637776737414,-0.7337757853673983,1.295203116606838,-1.6073847364534366,9.977823167446232,12.568778785138555,14.2917683036173,10.198641336073921,-6.020974931863721,1.830360800243338,6.598260444606184,-4.851154751710053,8.213738178625672,-0.008001597937891248,-0.02046645095489571,1.2876634112824912,11.375626022043974,0.25360794653871377,4.400796652302023,2.546985352852082,-3.742398353138495,-8.286958562693792,6.084639516147815,-4.6526535592390115,10.689047787611413,-8.800590051171556,-5.490044778069434,1.8240376274160996,3.8728303098901975,-1.706515425236414,0.4647717297097329,-9.649723089895268,2.3723546723885884,-1.812107701753167,14.104044429754397,-7.884818160542559,-11.38446690601962,3.9433798063092764,1.0515988146277544,10.849495859844698,10.609969445826966,-6.1129196501876395,-6.77919746267498,9.410136368443796,9.685862291429725,-16.329088897476755,-6.374080236223264,13.891924612372424,-15.691119700571038,14.376339547282345,4.188646591857227,-7.317857819545351,-4.011846203313081,-12.160631497389657,2.48036743385159,-12.362211952490528,11.600721400358541,11.726198819635487,2.6618485717528477,0.8426667845684936,1.004785434479048,-11.720158515469421,7.010036962870801,-13.231206210021492,-0.3514254215144655,-8.454468921886445,4.237842467843277,-8.180048918736063,-0.07765202405700662,1.0558472340537342,-2.779983612542172,3.7114427184292667,5.509940173885862,-8.138539140017155,4.096567193235439,2.122761652470979,15.612066524935093,14.383905011997395,1.2246983504792064,13.091631834838312,-0.9413727375115863,-1.6235302687256592,0.6504210119267931,-6.480931529814545,4.107930744203926,-10.18853335796403,-0.6128918786265172,-0.29716115986394276,3.7120593587197193,-9.793335148260466,-7.0065484616982445,0.08796459325656047,-9.39491842268493,4.031880500558142,9.065835749087855,7.035053248003738,4.015345153078131,12.441971914731134,5.266728401680584,12.456402603556944,-6.567263797140968,-10.162643248730445,0.20333955078681826,-2.9539509013803733,0.02049488377807394,3.4022511451006117,-12.26549633033591,-16.39367352539859,8.122661998449061,5.0679471157318865,-4.2263309263908635,9.417694066960314,0.43016898131406867,-3.011236121047795,-2.6155307751748533,0.7992237698674881,-2.97721440634232,-6.046864975028488,6.525973094360753,2.8335929343851145,10.632641721851927,-7.991471423378052,1.9655066860544517,-5.209887432990645,-1.7017832595046254,-8.48038825978131,-5.225072836811059,15.186828193019926,4.61767881056816,-2.548318820400769,10.267285862343853,-9.793206433236254,-5.344355647651608,4.300813432512177,3.140786713587521,0.8733421296083359,2.284700215659878,0.10320836329084163,-8.228459541573217,-11.384246541481387,13.982278058196865,-5.465876757749495,16.170450830940347,-1.983809646691558,-7.964925472464078,-3.564271406047591,18.63650755709586,-1.6534848524841932,1.4474367318049526,-2.4916912804135576,-11.749766152451881,10.740052612074086,6.0453864435121,2.6118193823372784,-1.7752752474471796,-5.185757990822232,9.868135137543158,-1.7085746389234522,6.56974262015202,2.400064805736785,-11.1534503902615,-2.776999565470058,-11.930844150827012,1.288814990388341,8.6717000599241,-1.4899942586422463,-0.954835313058794,11.501836918522176,-0.3387520959622265,2.141653246563335,1.9834273051833344,3.432182214063386,3.9301772327371314,3.2070858519440075,-5.7517942617128295,-1.7833877160630107,-16.736980857178438,-17.97223966588854,-4.63018812240866,-10.263115021463404,-4.62614252625962,-0.2898714558916104,-2.230297905661695,1.3535952534489841,-15.512813612099718,10.272695263083587,12.01008510978734,1.112378895553541,-10.184480902675064,3.2595640399004617,-3.8648664429340402,-4.782326550701401,-13.827775145757434,-15.414517694496254,6.529536514274918,-3.722339519905435,-8.724270237908927,-17.972392502715483,2.999908102562958,-1.6925052466133204,-10.262551512232747,10.443626327553154,7.885285376463464,-1.6356917332386955,-2.3590377927728583,-1.6213219644173245,9.896820358688693,-1.9041597511447277,-9.602820263775461,-10.262858263101622,-9.625822400084635,-4.900014152402979,-1.0624971210921375,11.197401651670614,8.805335254526268,-4.786146473830045,3.4097459330026454,-11.956131758898604,-9.935280923810756,-12.915128317720054,19.114637053747433,-6.9433781063792255,-5.017846518139915,-1.2909096364614652,-1.75444145083867,-0.7535853703487185,17.403163910843393,-13.14169821866378,-6.545053209991271,-9.025806280237395,10.198782345148706,-8.38976360985431,-3.854576231506136,-11.520573303496185,-6.834909104306239,7.483426764654992,-12.224501917884393,-8.766600084508463,-14.218546238239703,-2.1501324619677415,5.401347802911477,-6.911562157241964,-8.125415123125133,10.34820514625499,12.43733915383771,-5.511368988929024,-11.31891324492847,7.754163749318961,14.687845406279196,9.027319519486271,-16.365016987974414,1.9178387717784364,0.7430597190094819,-8.905318015587707,-7.588937623966446,-1.4813737047668039,-15.741264767250662,-1.9542758519052605,-8.163371791117415,5.205371236415395,0.5676187622124769,-1.2993655074571078,14.456616983643771,-13.249160576838888,-4.037538200155138,-3.080778211392195,1.9691422726980194,9.879516050100328,3.3202825237706466,-2.544392787105132,6.6211585067127405,10.442641543692071,19.113344493320625,3.5496784095946796,-1.5668638114304099,2.77345812128011,-6.477684521040151,7.531384006274743,13.579992673062415,14.059665324736788,4.985620143469831,-13.165505740334773,-3.605159520577709,4.8540369045936345,-15.45431865624006,8.228930425401668,12.043544208958995,-1.5798711099829899,-3.7474161632855294,-1.0542196791385772,-6.6528936157818155,0.3592168431189307,2.6444397381680163,9.552831609572783,10.213843782184908,2.1740880765321124,-9.273755175600211,-6.56142891185904,-15.543131763710266,-11.671005642257791,-6.186389309679985,-10.871061284811548,-2.36804760053413,-3.8600720294493245,-0.1469358589132226,-6.495215298090231,-4.117266890314118,1.5319869101335357,-0.8403476627373675,-11.162096284494405,-7.781656296459628,-8.373406960868236,17.146337680219744,-6.418313920791848,-3.375757128847624,-8.03492837984511,3.2814264314637387,-1.13922732866287,5.132879890805432,-1.0920476767876115,7.208422548823305,-2.083489669250542,-2.1033788902913666,-2.0596099537954013,7.871098369590345,2.2439964845534015,-7.054728735108093,-2.3628522133342904,-1.1183550194301455,-2.0728555535274023,14.824434865463575,-2.0215251615982663,4.632175465700406,-1.6368376223321481,-1.739573800689118,-7.431200368412743,-3.37464622635887,14.284455352909706,6.400064720064298,-1.4632211846625165,10.744342182994881,0.396758074142254,-1.5743483728999588,-1.4809437952876385,5.109291758620398,0.7773335233814224,-11.083640940095972,5.341092801881851,6.292327626665261,2.0859633300571,-6.273027781624088,8.618053058311892,-9.71607999667003,4.309095204596733,-11.978209902108867,-4.417188482524363,4.060713673425857,-1.2224594251461822,-3.21393674535674,-2.021342059853015,-9.987408561211371,9.976374398606897,-8.902493721600896,-6.3118630596420475,-3.6443094508828024,6.733984989846978,-16.371768369506146,-12.54078271459019,-9.714883603441963,5.519585466335711,6.825994399721582,-12.203920463031281,8.812848881466707,0.07269517215408622,6.9564511376963285,0.42215537638594064,-10.97544630346694,3.81726995577706,3.0231033452070735,10.304846650763798,-6.370514791002697,5.613648733740221,-5.711306273870869,-2.6731004120059296,5.75183207586126,-6.590784581433811,-1.0727865544829596,14.34340929886909,1.5071443547963774,-3.5426365900139514,-8.033553603712237,-2.6312997420338897,7.064413760641513,0.42294340037868533,-8.995083037642003,-9.087266588866708,-6.645252109940137,12.576342068851169,10.653573492135106,-13.068818202097287,-7.339340422165747,10.750778496340535,11.33311758489825,-7.064308825297696,9.686305543833674,2.074938495951493,-13.089726226906176,-2.3755744411379007,-4.019606224679042,2.3771743575568665,-1.164997656930186,-8.118877950762188,2.102526054802451,9.128208207617412,-3.4782426724335203,5.986745031080363,6.907806021037649,-2.367194034975279,12.711232455059243,-13.217432106130445,7.6772306389042155,13.866676013688805,13.906935107611911,0.7514984309339567,-2.954444449478586,-1.6149570470871435,-1.7844679844351723,-10.52139516366818,7.196043631460239,-12.037383578311813,-6.887220135798275,8.66808899901601,-1.4467912360027322,-12.767204581226247,-4.7859335358831165,1.4554160686421325,3.2084983403286533,-3.518405740795668,-10.09182174958331,-9.730078991361667,6.7720647321431064,4.96190560242184,-2.1743373300027424,5.9831709478224875,-3.4455839672315496,15.0434537759524,3.350150283952726,-4.70122480217674,3.284475985601478,-10.16935287500614,-4.701240641699746,11.37360188417366,1.9885974139874742,-4.645054590359667,10.804985911032787,9.532678509381157,-4.736501391320863,3.2361871866408918,6.750473774545785,3.543189969899996,-3.7460121597335774,-2.7418532468431516,-12.967204558797148,-8.321449569093609,13.94395205400983,0.706187557878394,14.343778381053651,14.37338284352251,-1.6790022215822855,-1.3185602515608101,-15.611337105711259,-3.6098981992443933,1.9706995726349554,5.5689609298362575,3.410435597775205,-4.742127659739915,8.29862268160394,7.725500217229601,-1.5524484478526674,-1.3681560069127827,-1.360451799167282,10.818146835073092,-5.816508935512009,-2.433114965891743,-4.0850614853910425,3.3820240615798673,-12.814059656776069,-12.802958583260708,16.138820068731075,-6.379989175566438,-1.0955164828138577,-9.40759446664321,-4.841011738571924,4.37214485353482,-5.77834588582897,2.798717715077017,-1.9147627506144365,2.1469629109803128,-3.9545615294770573,3.1110638415663754,-0.4911581344472795,-11.255677968282829,-3.994909967236352,4.643710002608037,5.111613210234981,-8.092238329524307,-7.724505338086244,-10.427482846506146,3.708641223465714,7.4335410481582604,14.89007635404903,6.041848362379104,1.7294235279560093,2.785873433304218,-0.024005496258497423,-1.7979136724043536,-11.927779136415886,2.603994735558961,-6.067774378049182,-6.412956230784867,-12.549506462648232,-7.5055172973758175,-7.372657645343101,-12.871340424463927,7.1650230745670465,8.785006406952856,-7.075395611086974,-9.41371570890064,8.393167469481678,4.232181811739087,2.323102881161003,14.085899478062837,10.53306680229262,-1.5868787302615492,4.127217917915634,5.692534867306069,-12.217335596322439,-8.139986450734524,2.5235846597087788,1.7448711032733568,-2.3748499219333383,-10.360219762041508,3.407945990710367,4.830721252121191,-5.485135565108936,-3.421606709099796,13.353402419938085,1.8166803436880936,2.5181249092222977,12.27072228445414,12.480668731738403,1.0177707813990757,5.159844762458733,14.666652079533218,10.641531772433641,2.6071686238529534,0.29195217162804693,11.502981422635221,-2.4461406723089527,14.544264994694208,-14.885581690707257,17.132694280392005,-11.901070899394234,12.940520756977145,-8.24884139085032,0.2596121453511611,3.591565469552117,3.86954684652124,0.478691671990836,15.194694527287641,0.48408636832141533,-4.701238306829733,8.276040601085812,12.105991955982827,9.183770666412604,3.725299989952933,13.877827254219788,14.021421060222908,-4.114194331877068,5.132697651850642,6.833292347596905,-14.284329948881412,1.713661214410946,-5.081520559741289,15.098987818291931,14.307111829121368,2.7822228123936754,9.573811394451598,12.933537221895447,4.480294985115832,10.793437041410208,0.5969167303160279,9.941494682068296,5.4796205884709135,-8.735096769305452,-1.2716716423080132,9.4318231809716,-0.662113132984458,-3.6078700637018155,1.7936672892391792,2.404714891375365,-3.00382568670678,5.581447879020688,-7.3306597610999695,-3.8969434595491057,-6.438969931285718,12.493274852572648,-2.052362893049511,13.590943727004602,-2.629753724517428,13.818333920081985,-8.786818373641859,-9.028655769177082,-2.474199469179169,-13.451973166472103,-3.5989725381571755,-6.727820443817612,1.5002179272968532,3.1640666883304505,10.759263906953517],\"y\":[-16.339759180567334,6.868387852051275,7.541271715772381,0.6188861503277284,3.2130593858913628,10.243628759430605,-6.855507437140435,12.135803723842251,-3.105586416593732,-13.648363219910104,5.574297410860329,-15.459962662017615,8.014982760361347,5.750665019413064,-16.509604729244753,-6.941260576572109,3.4138543972843607,-11.010555851809956,-6.217749805184763,-12.630935961884713,-7.378831247273222,0.6323306412902392,8.134293536733919,0.17822138820271965,2.0435494988932636,-8.646190661233984,-11.777508155429052,8.861006521145551,-5.502311287894588,8.372807315565572,-2.8122933112675965,15.256272759577547,-10.752355282745263,11.729916508591444,13.247087834130209,-3.1591451572130067,8.901568688723602,-2.4538010578535867,8.105930324033967,-13.863296894401776,-14.12659878231535,10.68459909938236,12.052658232978953,8.922802642228573,11.037952463270468,-15.20521844190075,1.3950013933914944,-6.273512764466954,-2.8375088583338726,-8.686190464317919,-6.096812766533606,0.5875208268385888,-6.35453441886785,1.7745996308731455,-3.339122561076569,1.8674705459086192,7.881583518549561,3.3265236692563436,4.673522660238441,-15.504984126394682,12.025529799364381,2.9328704157555747,-4.608389283429614,7.163006843289543,-2.6846381591758863,9.882105231997166,0.9869350931847408,16.315993248262572,15.327304015621468,-5.967945984834175,4.416043287283945,7.1164306458442175,9.957898731493813,12.922863941443275,3.8079224482240996,5.454383984810847,-2.9670307332921473,2.442505927763307,15.18598207079461,-5.248560822537114,0.3819813286403532,9.455836428684687,-9.359047435100884,6.931844662502646,-14.099525793565252,-8.34496855368281,0.5902508403739726,-6.786715022251144,1.7864031115783032,-6.19746265222215,-9.079013574494168,-16.223714275015066,14.220970833319111,8.427722176249047,5.233658733086203,0.07984654286396234,3.304901485499143,5.876043861721541,11.898119383184358,-13.826569130561172,-9.010896772787268,-5.543049468605029,12.07638555570112,11.957360534501108,-10.661077957676527,-12.164537008707686,-11.373662970351251,11.824989375903192,4.8093432298749565,-0.763069244398516,-11.392738391334383,10.998725284393586,5.302637956738031,11.69623092280587,1.6252887483303153,-4.429403223041903,-4.867673024258926,3.3798191459300733,11.161532675760494,2.0124117935347963,-10.56624436010196,2.7429824523698327,-11.646293239838016,-8.681806058992178,-5.806732884681,-11.332601005035183,9.952316695610172,-5.041275336430288,-11.4053252502227,12.861346862501833,9.216348265835864,13.753616451047971,4.411944413013916,-16.63409935210648,-15.447549182118449,-8.413071875683723,-9.191934981884751,11.974660178324688,10.223636786607761,4.700080850265767,6.403014866827389,4.475629711827356,-16.437992054565274,9.167754944907326,-6.721801338709621,6.362462185692097,8.160564385000354,-10.080083046367164,7.243340543204654,13.694228717280978,0.7677431543535013,-4.18822498594045,4.765377145088001,3.9067545818930713,2.9810896397354285,-6.507911128692486,3.672240930975275,3.7224748925848647,10.026758656104347,-9.790372107472477,-9.145815153404286,-5.076010353741285,-16.71849788485533,13.39697187987193,9.09756976278123,-1.7286119607612784,3.6763362964458284,11.016593328621013,5.940915023392308,13.663178291141108,7.290088355566009,-15.188645097892069,8.602639711885095,-6.071031619825281,-2.9246800658052776,10.447446177340792,0.7580725169446154,4.9405054205708385,-2.6069999399004926,6.95959257812954,16.057077574097136,5.5386317844199775,7.25001325806633,-14.215864663010477,-2.2813616559430674,-2.6244289404298433,2.248260644220396,-6.216942476792666,-5.329630094562548,-16.342465036599318,-13.307875524992488,-15.80808648789203,7.674165686931226,5.164962633850744,-3.164614904429315,6.637208565406234,3.007876158535455,-8.93578510801553,-0.45336588731023986,10.824572225504584,6.773702947740934,5.740382474815118,8.365877463151085,5.139692114157394,-4.3429524066106335,-5.6762748724207315,-4.64937763515762,0.3646540182406984,11.0118662722083,1.762808857029604,11.714038435774308,1.9201505253121587,-4.215352455568284,5.933662320174842,10.558534814139483,-4.701693966596803,-0.9255288923569639,1.9112159542674454,-2.8683270760632285,-6.168748405600211,-10.997625334707669,-3.585537545675448,-2.5601488495097886,0.7331403805312019,7.546795651798433,5.2156858782324385,1.1575149176029607,-17.297153078258482,-5.376816729438211,-6.032493787913013,12.027401750826808,-11.19885991637525,7.668004692176685,11.665857094379989,11.051494710561537,12.0558894619229,-4.293523589641361,-1.5238544287115778,-6.0482183114448285,10.521901088597765,0.6324389394078669,-8.545740030729249,8.212882176996333,-4.458129574057859,-7.688254567150166,1.309750555096209,3.898980098431616,13.30245215553092,4.438682381151133,-3.0164485576848907,1.6799940152368449,0.9664306382157918,-7.4496809420147745,0.24878094749013716,7.3160468577154365,-4.4617127600822375,-8.136104374371133,1.9504518879521113,11.940190344270754,11.829073609276548,5.576507962054486,-15.530827769192276,13.084251314800715,-12.418519450649004,8.667085678954434,12.081346425551516,3.0754898821767314,11.384825649641542,-16.4122833272696,-9.53155311136813,-4.93181444062665,-1.6149742917275396,-14.931997235208307,-6.239668645281871,0.3479204135278602,7.140152694044971,-1.8915500217388626,-2.095623078908826,5.268077891260422,0.7930343728163093,-9.696797763093391,8.116332061029006,-10.994692223731805,1.8158175484769339,2.45316966728774,-7.59339130084345,-2.091134829554192,-14.874782908170422,-12.21814761661659,0.9819160975460778,3.981591811851899,-9.240488398725473,3.3131313842389902,2.2818035798605947,11.211501202328432,0.911776411481907,-10.021395373879086,-14.458956390844882,10.803026792567602,0.555257299702711,7.653685916539649,-9.055082925081294,-0.49388627320713435,-2.5375504320171554,-9.415981246125195,-4.557850751931752,3.283060912735976,1.829334827193759,0.8232998809699519,-2.210282866171395,-2.0040701135926517,9.546283796790272,-10.617317802857192,11.52895948300125,5.485097034174617,0.6275326329170091,1.9428819815075995,12.109665251589902,4.016798906285321,5.377661137099461,-8.359047684121448,-9.24773312279307,0.6099965569970305,4.43260445323791,5.2334808246964855,10.293176350469619,1.8845485682006504,-9.974503472746663,-9.24862589738487,-3.441792986284316,-8.267887260439792,2.2020960689583964,6.002403525074374,-4.86932911963299,-7.234944348450418,-15.409512455862762,-16.6687444978276,-5.764416261852648,2.8167235895984253,11.086233548103019,-0.9889589524765223,-7.099200361504613,-3.177031295026063,1.83270414720907,11.803889978855933,15.251241206012402,-15.294038397910057,8.34606794867652,3.4195105449432526,10.720675091791989,6.128711797694144,-16.64447638068406,4.564695446104052,-0.7976937555132291,-1.4013468318442743,6.456749163170096,2.178847866570241,6.795810078303877,-14.355203312414199,-7.122050877957526,-5.887214021054594,4.877239474492511,-2.370219054614339,14.183413544667266,11.29079842148502,10.021092475741444,-7.534929683970675,1.9840176608045932,5.721129554460544,-1.69145004214283,-8.088105836034694,8.72965803307646,2.6115386696454777,-14.611125759215808,7.142588931498869,-1.9367738897132185,4.94542983138005,-5.686867525155972,-10.89847818982639,8.931608960319718,8.354669669288965,0.48460493709815494,-6.735782108867439,3.6903948889323512,11.830880922523304,6.880445289617716,10.978558857907128,-8.872458694400839,10.644335335846732,6.291129363242061,11.162755058126296,-2.3075924091445343,-5.048432711892882,11.324534498260922,-10.019621909571933,7.333903333774418,9.808683000504764,14.377053164688757,-8.088028683024545,12.180646442255675,-7.884980031108605,-9.222825682075817,-5.009688899775112,1.010649213726284,-5.354186634003596,-10.259452133547308,13.336900600330011,-7.218273411653179,1.6307829378472394,0.15961552405466128,-2.9156305390080304,-4.663190501866607,1.9224195012998855,-16.269571630815914,-7.322872420487695,2.274612948112883,-8.87818344864249,1.6433676291843635,1.5670546732185195,-10.901091769854549,-6.858300599110208,1.8447046044227806,-11.1010267213403,0.9763012185446966,-16.152952308663703,-8.512034427107752,-3.6287788233421736,2.8814042945216487,-7.460332613730701,-7.852324231878561,-2.920230225290225,8.147869474002103,-14.406947984316995,4.815757612951437,10.929215748816384,10.62514350690716,6.500829772944145,15.28712114478789,-3.28030230276987,11.088933777505629,-14.747192242496567,-9.012594022961597,7.986700061931712,2.5607095935134048,1.8637458921351193,8.407764400752123,2.4220628267222635,-8.95371086490493,2.1966435505348008,-9.4306260183647,13.744306042306635,-5.9664677974170095,-9.290955462887345,-0.4221869938189403,-8.815720239488451,-11.233521391969818,-14.41205986184992,0.16122129577078279,1.8342435150236465,-0.9889345843585154,-7.287778528895948,-8.43561660201915,-1.1968901688312352,-14.523257916543935,6.635321183013429,-13.204915223132248,-6.677429638250988,0.7288329244211547,12.404764989527868,0.211570991553185,-13.558990160782221,-9.798627019058955,-14.525973668438002,3.2342895295623353,2.8520793155719026,-3.4592012573201534,0.20308513587533045,4.573156527189049,-7.3361772070490385,-14.610547339638273,3.3497410934954592,0.3417225205836032,-9.730682143469759,-11.277155743903467,1.085643611091252,-3.3844471078803067,-15.873166013631414,-5.686911867168533,-2.346215461354923,11.312228429420378,-6.742274036193666,-14.064030720552568,1.5691412995237501,4.588518958942224,-9.375573500926885,2.7980681561633536,-5.6304116441748615,-11.88461023421058,-6.675481758585181,2.4514264670839605,3.622452205745008,0.47153404872768695,-0.4493287355480738,2.0757537578677074,11.999536569440577,-2.6684918155630255,8.507533470672275,12.057678448413984,7.7369770669109155,-10.21365553551611,11.950507466779305,11.805261366714042,-0.9983932862239798,-9.01966684935687,-10.077435388758598,-2.2602826721310887,-6.527631261695873,-0.12604230318280954,-4.587409854022596,-1.4263315221926354,-2.68062563126238,-8.728994412489223,-6.296432804289849,11.808319699700736,-4.601464234996769,10.959507535266603,3.0112109949928354,-4.483733749103072,-10.615620569430448,-3.4375468269447396,3.1737270187800926,-7.717697830230706,-4.714250132847604,8.310909503393063,6.860807728407492,-9.54675306127414,2.9555723536794907,3.3818243473197347,-7.582973759957027,-0.06758200028627565,3.670355273340164,7.171334822711327,0.6447061384220408,6.0121353770122505,-12.402359373868842,5.51800510160236,-9.53445763734704,11.01001626077529,-1.995850764367287,10.228394880370146,3.0416984498151245,1.8391574948396485,2.9565901443515816,-5.019342658349733,15.22310815124606,-4.2049561950191485,-4.491143444800734,9.410766868272875,-3.1802496849705744,-7.5208872387729,-6.219209361283904,0.5772762108803633,-11.350420111520503,-3.258942697290358,-4.860876297812466,14.304025393787178,-1.860718776668058,0.6359495922069766,7.676438105745809,-2.9615656043577605,2.6087888062019227,-0.5030400760111222,-8.112494950481574,-8.576088885763154,14.962470077746904,8.79254263553988,-9.824151544529757,2.4830397502418706,-4.728938276093417,5.312147340468477,-16.48742578511634,1.776653881786366,-1.266607325744846,-2.9482963375899596,-8.940051102757929,-3.870838742328231,-5.04487799298761,8.292268033848083,-2.9106232580362774,2.751740158091488,15.489624150909345,-6.884461491121937,-4.965600188619143,-2.914537306646062,-14.764836860814544,-15.524035528403537,1.268288678883698,8.641428184641786,-6.85671853143413,-14.60985495532352,8.974123637676877,-15.462123500758501,-3.3144038120062143,-6.631678128855436,7.24517561686617,-2.778665839824072,-3.290524520487548,-13.10793894156766,6.806057272610738,-2.8070135873867734,-7.470750816356422,-6.0324848995934675,-8.736786567249489,11.835937871250817,15.099252034199333,10.767789575086152,-9.759550115287922,-5.873176346169482,-2.731797679935503,-4.264389224274415,7.822197792805596,-11.816591695291253,-9.433164194713063,10.730762887061958,-15.353787788419313,-8.486783666339853,-5.759458808526217,-2.003642701596348,-7.848818211189963,10.006147290233768,0.7655798788696742,9.75873546349014,-5.8907069884743075,-10.454184881660792,0.6343969575467812,0.034412487344568594,-4.90351885340815,-8.469342722016554,1.3817296967175807,-16.248817775413208,-8.009360757497646,3.503756584708453,12.009163180291159,16.30997392872319,0.7411377214053787,-4.4629534476912065,9.057188189828446,2.2826387527661263,0.13697605296803272,-8.342709664433068,-4.240286697318924,-3.362912865169564,-11.508426995426005,1.9841087244046338,-3.3189228735015663,-10.583011667746392,-3.064007011922703,-5.609407995817598,1.5854991566633054,-8.777868870983642,-8.539849169593332,-4.404740223534757,-6.006351253005738,-9.944204235412712,7.288013299474362,10.601988020591953,7.094900029366505,-8.559199523305608,-7.929685771417129,-10.25251626306967,-11.019800638697662,-1.089661437991267,-2.9097239385832103,2.582352658737488,8.039122751696311,7.608777079035721,2.955774573157536,7.5378471277832615,2.481008089220455,8.664582384973425,11.460463709039189,8.880994888215577,-2.802074600085056,4.760511695632395,-0.9617935452306312,-11.52897376045731,8.141915383952869,2.2199617315275497,-4.0283031804996146,-2.983268506033406,5.464139570899764,7.8608453073255005,13.505258405439811,11.025320226220929,-13.301688352216647,1.2547732454434153,12.782751205325994,6.313990127317113,-9.624104483981695,11.345192273870916,8.416487546424674,-3.016394829626691,-4.745592644777256,-7.750801395837617,11.819154500278149,-8.485435682827845,3.836966389085236,6.083649365509437,-2.778124516941088,-5.820992033712265,-2.9203252710214076,-0.7749700937027731,-7.660665750325759,4.490414733872082,-8.28204660472506,-2.782695424070686,7.074421495358882,-9.272951372857923,8.005936794482306,8.166451367640844,-8.801920109399504,-0.5696829267487332,11.45322720386312,-15.151654431544186,7.301887513680108,-14.784662704285411,-10.948039982122909,-15.504541151470121,0.5594679584185269,2.693052846304964,-1.3430789145077324,-8.516492874750186,-13.510896824602124,4.916823955613809,2.6078912997602064,-2.5191603072767226,0.6189540386470911,-9.247194031717308,-12.463369383599591,-4.9309795206023646,-6.520014959733644,14.27487769155449,1.2724756243794773,-6.156245848567345,12.602316414865765,5.982689246702625,3.293657678102201,1.8822629754007019,-7.657511943028202,0.7403061207595524,-4.5346778889040635,-1.0130124537939664,-9.573020732166857,-15.649487792757258,5.682855581780214,1.9032887162478538,-3.4673018670700517,-6.223115715347198,3.7302388350660785,8.061129268860771,-2.908249277196802,-8.529365229175674,12.067420275309802,8.006633283338445,-5.052436677063433,-15.289332869167039,12.40034196391462,-9.831742518697098,8.075130424589101,-4.475970353011403,2.0405808684317503,2.3079312987324885,-10.603787421733204,13.033748305155706,-6.82997632357397,-4.3214493963358365,0.41735715627298964,0.1551843384379192,11.188844151415113,1.8653297646001847,-6.571813973439806,-8.080023397199689,9.274851873136512,-11.552240021661632,-5.341153346742094,-9.357785808608682,5.220025968948762,0.8085074624395803,-4.052285733537571,11.40326796036435,4.689641710767795,1.6173284253445985,-5.030982015127255,-1.3009081248860856,2.9103044897822072,-9.290563152317576,5.1154843541421355,-4.570732421418419,7.174188483131105,13.766356444038095,11.885700125286794,-2.858550738508157,-2.815595974317651,2.9434941123350344,1.3475715932901586,-0.023420676593269983,2.233407977718269,11.778960017004351,12.966563844376989,11.811078599576394,-3.422989058692993,3.3772714042418666,-1.8139463130651436,-3.172036806959648,-1.1678037084588508,-11.666176432533941,0.09304606081094301,-4.476158005538249,-6.914724309618511,-11.010568632674929,7.802109701799817,-8.870607560639693,15.150616840752997,7.189648493600743,1.0401320339266897,-1.6063472886638412,-11.309759135818632,-14.936967866877017,10.859497643672112,-4.562668862604215,0.5269053924354756,-15.271461390545081,-3.0282209789533088,-2.507268766214881,-9.164073994491341,-5.481446258997228,11.795377553435756,8.004610330416154,-6.654327785659349,-8.156047396441197,6.008879924020934,-2.9820386119157494,-1.936889853475631,-2.58315990226806,-14.651137469450385,0.5824531771381394,14.020575199327036,11.367462887064608,-7.87486673359094,11.806225466709048,-3.8052694717560325,12.014119650116495,-16.41875630649573,-2.9210540291988467,5.6852679113352655,11.959721162187483,8.450866081435096,-16.68565132368639,-17.50113072671041,-1.279849561456957,1.893983350914041,4.99368431370915,-1.8650390836327928,13.33568661132901,-2.356652558755115,2.5897562264305014,-6.712131293368659,-7.310274846545386,-9.307469670523972,10.947852900221099,-17.469893420837092,-11.429131658040966,-6.628329885617666,2.029985071590116,-8.418958616114008,15.002874043391815,-1.514591495147864,-4.475994937588336,13.520767459463679,-0.8884065942415454,-3.103388292187571,-2.994930419902514,-2.533020432825958,12.11474768168839,15.405719724136436,-1.702105552259819,-10.077523662966767,-4.173581032290648,-11.678245379974058,-1.6316118769146954,11.062398906696641,14.568620323245119,-8.739299477587798,-15.237435046710834,11.775522088936059,5.53901652805378,-0.1665565611202426,2.4534777715346987,-4.17784796897878,-0.43177897275926125,-11.47085836698034,0.5762403661167735,-8.85075114180228,2.7034244268088816,-12.74339655144392,-1.173692513260797,-8.920779599674804,-6.590604756611392,-7.507557992866626,-7.620512580096988,-10.898446452425352,-8.225338792520294,8.969941246036173,12.034608707428553,5.85371727119363,-3.299453868325544,5.728677484843535,4.799145359251474,4.812229555636643,0.7951364682276658,-6.920054607476211,12.69260583476036,-8.867305408604818,-9.225092515922046,-8.799532604363453,4.525985492184803,-2.697064708902829,-11.152078633897643,-6.962195510282195,-2.52826543765614,15.347511372344686,-7.207241246145296,-7.868001705153459,14.533329655357338,0.6443867159875368,-8.461888135468111,-7.171634379525096,-1.1307862118180378,9.1743705516634,-0.14577000616424093,12.255381013953446,14.005491018373485,8.414374116709556,6.837660764235672,-0.15223324148126616,3.332469239178819,10.745424484639122,-6.11255043548354,-6.026244843103975,5.093768773073976,-6.820710912895724,5.211219974135845,-7.595070807910633,6.35750976840377,10.840245866275989,-2.8831760184946464,5.0468049115115265,12.150307019450938,1.3266138543440404,6.110329084900531,12.429873621358897,-0.5703340502559422,1.9831717459392684,8.169970271137286,-7.886882395534108,-2.159162218644785,8.512600653611813,-3.127928376448357,-7.401377009590426,-6.4554285676435175,-0.679221037434454,-8.427322078673624,-0.10163077986723024,15.355656765895588,-15.528135404465479,-2.384509591523851,-10.55172845604255,-11.011693641459384,-8.57401305374571,-1.482272150905402,-16.65704035674381,5.932428692335486,-6.0156475861079155,7.732918023102082,1.152756934547407,7.337798203448799,2.839988576591536,3.3342321849277567,11.823503336625192,1.8961839958618063,14.995625772904464,6.294817290193477,-5.550136820273612,-0.942589132799595,-16.6820986646709,4.784948211246702,-11.413866962880672,-4.74063229168344,-16.06792847264638,11.63227512030593,0.1532227200897038,-4.614840316521564,-2.989585809863336,7.837280947139341,-2.8417048524961044,-10.989574033306832,-10.285877119737226,5.593911618226713,-2.7871739956581294,-0.8352808809690476,-5.32798946892312,5.122871372214295,-2.0386856593332263,5.653664862714296,8.368912933254684,-2.361925021414948,-3.0754377586834654,-6.141435131581847,3.1661380615644483,-7.913248907700528,9.197792647192683,-10.985345546646363,-5.778951154744057,-4.549061305452518,-2.1548402096654926,7.4459786486363155,15.41708103420361,-6.391072658834524,-7.867198300888945,-9.81148507015698,-1.5296239540795755,2.9203095269918955,-15.846580532989636,-4.4414042736963895,2.2733050136987494,1.2336566129686322,3.9207320102372853,8.683379965761583,13.25012183331289,0.9482779262318553,-1.4260736357030306,1.4060248788087748,-6.676010495712919,-15.370117436652869,-14.280818359412022,-2.8078153187167456,6.1029359556637415,-15.407465559425564,1.9630075557093292,-7.989923227488019,-14.508037981645913,-5.783580101242432,-8.825148474055311,2.9820104978283126,4.061840261576533,3.49108744809266,-12.49929393498856,-5.318631954821958,-9.878169046643686,-9.173793580486944,-8.955007572746174,4.588589380295017,4.866928133512581,-5.82553919386679,-6.099605333901165,-4.207348875688954,-4.5415706647288845,10.703702223281674,8.756607133175851,1.8192603187570278,0.34995130948864633,-4.503517909216445,2.406781986643831,-3.3921658954256513,8.569131999147892,0.4029612676792132,3.258788508255711,-6.084535877054484,-10.468796840207045,-5.898597676940984,15.739947021027293,8.387703234660131,-1.160310539379436,6.181149264107316,-1.8155117363721547,7.510794410364828,-7.435714555136494,-9.117045982511426,8.841902402745704,11.989935922464754,-7.0427459364408715,-2.9366542315439337,2.637063362236723,-11.816059915292149,-4.243692349119008,0.05297753507913413,-4.9889103469971525,-3.6753241498874867,-4.989864847806522,-12.566331467018411,0.09331914085416709,2.701617704146973,-13.890770772933335,6.627624466048587,-16.741080440478278,-3.541815351321506,10.470083323275247,-10.594774258284582,-9.108542263664646,8.206326064244486,-8.892114331344708,-11.506626184002254,1.785796991236759,-2.1189310095576204,7.307891001755202,4.313615864910064,-0.06348009350545306,5.458705563748802,-15.230115974859023,-0.9139848126402549,0.6460012222367313,5.724823817899334,-7.28541248681041,-9.897670888903258,-16.760232454161738,-3.434997758983285,-1.5198359672846529,-8.853096136751702,-9.515958022229484,11.582478410248543,-13.732572539121177,-12.940289087363878,2.922040654527448,-16.432195707798922,-2.0287594913295464,-2.907357371242661,8.230271698111745,-5.373717003867279,-13.22319086368924,-8.389550144711766,-8.3314045735756,-2.730649975332692,2.2943210763041453,-1.8930579293933014,-4.94382535956896,-2.882941452342581,3.328859237539437,-14.513261292864437,-6.072993618202617,2.2696243299398584,-9.959198560570547,-10.143729082973396,3.483919352175417,-6.889734125918022,5.3694140320663175,5.779764522802608,-6.472207529208198,-4.040561891734405,10.892417601399051,-11.676385095220917,3.0665219310827543,2.5878225584419656,16.314268187165315,12.53479993422407,15.610187509124824,-13.592228860342153,-0.8523030155149459,-9.284556205628597,-9.583155007863109,2.8835423078783857,7.33708017989702,6.045266211329097,4.348257184102897,14.321681817129177,-9.070872140652925,-1.7777437354722276,3.648489001189823,3.3691575465918016,9.242912909342339,6.34933476271642,5.736864184310454,10.099518762908158,3.3605978304184054,-11.239228588516966,7.320801969353045,-3.457773483996175,-5.346975500176941,-5.818969175740167,1.687905375036735,-2.9768452340486524,-6.80577917691229,-4.773711039313657,4.756785534872575,-0.6722772980173183,13.937717367657962,6.035467872057597,11.112893876887963,-6.681816847546737,-12.44006887883909,-10.174560576235926,-8.370564233219664,1.6846412757266522,7.60183667651168,-3.2393167557790448,-7.684338883816138,11.7844723494731,-2.695625260786471,-2.4769251645970836,-7.0654439433832525,1.818202207164504,1.8568172035838213,6.881917525263469,-16.382875108853312,8.143654757625306,4.080678879483075,1.035654776634748,2.284032230033491,4.82976311396171,10.049764247859185,15.40329944559851,-2.8876095103230868,-12.268124933191247,2.484419816833725,12.438950681178035,9.034578735704347,-16.26686771728063,-4.429032288626303,2.232219235957768,5.1710526548231925,-12.290178946928965,-2.0070555036245756,-6.0897727383712,-15.524093706957473,-3.35848222033136,-4.015806028332338,-8.864926278584978,8.680066703542305,-6.296362888504402,-2.921787044821142,7.637746756230577,11.455202729542124,16.071106367098032,-4.33364410613013,-5.394845826751493,-5.724221960726075,13.949298801916434,-9.595538190005932,-2.3730790484821953,13.13803062459569,-16.084074157139916,-0.9985972466804168,3.0993875305376206,-0.39695182140530144,-5.696395813732921,10.994160412515118,-4.48622557028231,12.803163593767833,-8.961135408149667,-13.665511396332402,2.873742596167233,1.1333120164124064,3.297738462582404,5.1892250749487445,-8.95246810329672,2.3611231298984166,9.994800239740822,1.3480303927856547,7.785106774741335,-9.914545816199134,7.254074187314716,-9.89828326748891,-9.618948119307435,-1.98278196925122,-6.397758955537449,0.7380090768455471,2.25287581842302,-9.49324587353773,8.656962966951573,-10.749266472860485,-8.84218867572303,1.6423641512614597,-2.1822477939133704,13.940017031641739,6.780781958906398,8.288719172517027,8.12670907884026,-5.8836768723171415,1.8938823871215484,-2.7974367525466053,-4.300298488456185,2.24166935288542,-15.51403013064192,-9.222011926682494,-5.758339758022165,-5.766427374465229,11.87242390957272,-10.43566323389678,-6.406275527235498,-11.48531148637729,-16.49473089458612,6.827846577363677,-9.945329272353591,-2.0863693525538136,-9.575223839460323,-15.522445181696384,6.792906484016219,10.777735022213662,-6.504778461566429,12.090119460529914,-7.114298802249625,7.901897436126829,11.160914530538378,8.068121897096184,7.2535474398575905,-14.125943603633745,7.912153946168401,6.722558062368756,-12.05279937091302,7.842183335378461,8.411918656976924,9.000123750402656,6.632276534042113,-3.8471607632654097,0.6049542318012782,-16.095636099458915,5.351758541942521,-1.858483399157479,11.97290751052469,-6.64277511889061,10.039545306584051,2.9179911758378108,7.435972737917114,-0.7251463320573648,1.8384083285478183,-9.10807537355284,-13.427522536964894,1.9158746302391043,-9.073781329135782,9.002988874499504,2.2943497509478243,0.6440608014430155,6.970160899270867,11.679267694477314,-13.291851718299505,11.603694167678915,11.172547531331443,-4.636203944614264,-2.868624652234792,9.091903601769356,2.774247858422915,8.406337231740153,12.040815579671458,-1.4234319765356982,5.719304409471891,-11.968164465306868,5.1765477892644745,-7.6453042839931165,-15.725480731356079,13.649022139958854,8.166043259104843,7.92374155598,11.918415662257665,5.54995842656011,2.816394330139788,-1.3199479421409193,-0.44542465791852115,13.493366149462139,-8.250696598552894,-11.47978246138309,7.635494824588098,-5.460233474593875,7.568219569765392,-2.824294144771807,-0.664435099694084,-15.647562139198598,-3.653310216963587,-10.637982693456026,-16.462322855693646,-6.921372961757713,-8.457520903798043,-2.7372907832379365,-3.033722870338249,8.15113308348106,5.681011520351629,8.779927598740741,-6.71789419797546,-3.4943490509333115,-8.459287594204975,10.085430034782707,3.2956827480979594,3.4761963593114054,-4.775080072441384,-7.692619824987719,-4.565343323077732,12.930743567081533,3.0249750633267154,12.021421214054154,0.3992805639233642,-5.897150179081978,-8.565579667517502,-7.4745759792373105,-7.162021677287043,12.879974064076242,3.546901860188471,7.536607904782163,-0.012822400863154573,6.796745689157914,-4.614197708710229,1.336466731978345,0.6245085355762032,5.081479999359654,0.7879654782169601,1.131732656036707,-10.342750052767192,11.479932473290066,8.274330527749902,9.979301624901133,2.0141786350717426,11.11692552150522,-4.470643578087393,-12.987566833186614,-14.797113034965728,11.90187064945749,0.641054043583651,2.61529572809226,11.995193864832332,11.962402615198673,7.01857742362793,4.501507868033145,-2.500686214448283,0.8533415976861731,-2.9895322543745477,-7.862957906693517,-6.722729703405449,-3.068914812304181,14.758500153665887,8.376875430079515,11.483944124410469,-9.182109690247565,-11.403761323127778,1.7064555817725244,1.8499761559820271,-4.524037910148671,-9.265292095871814,2.464718672345687,14.709475479077817,4.5819196435340555,-0.04051309376404349,5.514089150339136,-8.162213293325253,-5.792460636505751,-3.896340356475248,13.645569998286447,8.15484491450757,1.613832155668444,-2.880619492748675,0.7685583826152034,-15.139000851319958,5.68095192409002,-9.902363613586383,2.7608465903936845,-6.168627144104147,3.541257590189918,-8.268862891908082,3.024111375352669,5.434314965867709,-5.7033098787375565,11.718907980801905,-11.705845427785594,-8.289042147369939,1.4969382861197833,0.5896862743466434,-0.8044291278166519,-2.9433185890905995,3.087315132316482,-1.415458366829722,-13.01209559973519,-5.989597534456727,1.4189174292827116,-9.935219403528842,-16.464562381813483,6.235666647595141,7.21628663027925,-1.7406823863148575,-8.443819543506745,-11.784857657654419,4.474453216754896,-1.1078351025479336,-6.08223688999516,-3.175427962263682,-6.855855267605234,1.106434620548249,1.4140549909633016,12.16469500876006,1.657808640799633,1.2444801657581688,1.931627502652295,0.9293785282004703,-0.8401808750186142,14.72080273229529,-11.726047360896441,-7.92055188042147,-15.446193068118493,-0.8541045372979761,0.9474668187472853,8.883560390099879,-8.677310681973166,7.934613463041417,-9.088040443878842,7.061648248089608,3.572180222183637,0.8034646151123391,2.3749548712565782,-8.794391399960968,0.599060996721115,11.687683351773305,-1.1565071348233977,-8.232289714044407,-7.64383934643373,4.5480711801603055,12.653189436777676,0.4802537081069855,-11.288284210874846,8.271758632546682,-6.683439410180646,8.34824625349428,-9.894965609412969,-4.658076539564356,-15.261140681319894,-3.044694804110533,3.252894978831934,4.320836514705963,-13.218997946821318,-10.898551724373888,-9.146358707137924,1.1717775275091604,-8.680694104431817,-12.71293264973018,10.49278502811609,-10.31193209725253,14.132353896274386,0.7737844667393647,3.9654634444303136,1.7855026855727472,-2.031203002292157,-4.699226707460894,0.6023728761856096,3.550503133603846,-2.0312995565198646,4.114992445390723,-8.258209677702457,-0.9019326246895719,11.078379236840748,-8.028957345415833,3.4674424977693397,-2.7133344091619027,-10.290204339233824,-0.6599973517897523,2.79110951234751,1.0533647255506855,7.6443752769831255,-0.3449187088381585,0.7120385224779531,-5.834730021442359,2.534450555383762,-1.3513047302043752,-5.812893682543895,-1.4404210155130157,-7.435530271705958,-5.651526980993533,-6.927187740420278,-7.799024549659445,-13.716545579669996,10.5161399872498,15.22273425121991,-12.488289112288143,-2.9500472062229406,14.780294526302619,-6.245501427429052,-0.06854814145459553,-5.001787841430129,13.771878833311437,-4.517369702177961,-8.088028685090324,6.627737702944416,-2.929959422763337,-0.4794792777036393,2.52707532527831,-10.92514180368943,-6.843930781084827,-4.141860616226855,-11.07935130976008,-9.451597757218419,0.1800102320534238,-6.147073433229797,-7.3985692239403775,-0.10241335848752701,10.022084848957828,-1.0699948666574108,-15.476809953995856,-1.9297413321818762,-10.639870630996493,-2.9683246008926334,-3.370476690431562,0.9452413737908468,-15.897730855839884,-11.103425721468557,-0.4225116427271229,2.5946200035688807,8.718250962807174,8.59435807798437,13.187702156092495,1.7886724473007674,15.396946301306269,-4.673532714023018,-0.5243636615717725,7.668272794985646,-10.34110765470876,-11.684120592567277,5.486099978698648,11.750917926575084,3.2135678179357727,6.171695542168856,-1.5741636199860884,-9.445329455375889,-11.08419330312913,1.2225577833003758,-11.410557185072857,-8.272417956139186,0.17409047958675872,12.794835796946385,-9.678385158684707,-7.879986500493103,3.6013799998578344,5.088084224812724,-9.285924591510033,-11.645450337554061,-7.5398578399179685,0.5671611371098269,-1.116095948018222,1.3844213619224013,11.038593296818329,-3.027698792847474,15.233140397529432,-12.779765654668795,1.4212572683019116,2.7281243883482778,4.694327787687631,9.548295402979175,1.634790578078738,11.546044470006601,-5.917661113152919,-7.8671262763597,-8.55153307691583,8.3482559541747,2.48799530552639,-8.813009188821898,-3.0151267259608634,-7.537137934319682,5.586465970068093,13.68073165905857,2.427818365839432,-7.677624716700917,-6.219648491895101,-9.222647437796114,-4.2576340346884995,-6.101790988727499,-7.362468208042044,-11.80227110080231,15.516797070522248,-6.148018127793725,9.399913383978442,-9.562623804282033,-0.44246137992944523,9.268525345163518,5.781953151905086,11.907695693034528,8.055130464135706,-16.58982444647541,2.274978262990866,-2.933433156741308,12.046601386822175,-5.4039039297759,-8.614433100819973,14.94427743668343,-17.21354843147099,1.5842629006645903,10.027213685534457,9.020456840282913,-2.792512361784193,2.3911211844664186,1.4057577750121086,-0.6770705178273072,-10.904358855658408,-7.275237439228942,13.14327247846646,6.92454052180664,-4.959043384629865,0.6497561442728401,-2.605416427038844,-0.7303125613188136,-6.230595352060567,5.1645419347168025,12.313836307327575,1.2416760278397792,-0.5198616855574824,-2.6568365855832003,15.462578650051308,-10.667658946113585,4.538840419386936,8.378448528060568,4.2243196876254085,-4.457363214868418,-1.8324221378657537,11.232112222603963,-1.9693479367271343,5.253210424971175,-10.587123209448325,-10.276265548770114,8.891352408958127,0.384970136525308,-10.494243134865517,-2.376902675474201,2.0731204140253223,-16.545662798859745,2.4046308687595213,0.14109605434272177,-3.15365452670203,-1.9847746271275093,1.4962434169820793,-16.633843891793745,-9.485144100234582,7.05853074505018,-14.636321582686588,1.8531177867296114,-2.3504175839235453,-4.564611158884291,7.370721190294627,6.791871431506179,-6.645352160467418,-14.428925044281355,-4.67533042504759,-8.991703675837387,-3.4592882421293383,4.381490756940576,9.922521131139067,-4.510599835717907,12.006813022159365,-1.0331619222649104,-1.9734909176305058,13.760399615582452,-17.24652909549681,7.309601313977083,13.926248813721962,-6.9669577369482045,2.3398133161425814,3.6553891442767887,12.820198826001377,2.72663445425245,0.2508468216298464,0.07867401131817606,-1.8517391513623318,8.54112846223682,15.229774134462266,6.885591691221332,-0.10815113993698529,-4.444744568243657,-6.842919500880905,-3.556795558138512,11.55451521735904,-9.321874536150478,14.43830632191919,4.325849266725058,11.854407112926536,-4.747723425954843,-1.7582633120200069,-5.167054304909498,15.262285642178515,-2.923945396275529,-7.86034279746728,-13.5462638622902,-1.7594190875342373,16.25737909791489,-2.7895520183438185,1.3472507715989575,-2.842959506959386,-4.154392249153857,-1.9766931148495295,-3.0568325666492306,10.74783767134149,-0.012972375365956856,-2.4515591885242416,2.5054453383449307,6.637805504519413,-4.522275971675567,6.137520052138698,-9.488373630878991,-1.7059692282365033,-5.048891007810575,-4.95776931902795,12.009749349100815,5.76003127796388,-16.795194938479124,-3.5435401410116176,-1.692547114446868,8.63750774474662,-16.703901374122168,2.4801151813700706,1.238757238693942,8.157375327803207,2.891403270968678,-3.6192264427414953,-9.993268528341341,-6.198716423786291,-8.89069603947336,-2.5834072215028367,-10.02561894163883,0.6189458187229734,-0.5103424415829734,8.157269962805424,-5.412674914199758,1.8629131200847429,2.345199235407525,-8.571849394253885,6.304394670697353,-0.1337280920789321,-5.3956446470413395,-3.1044949684253007,3.141365761840917,-6.2228943601011,-0.5356742123626087,-14.924826804083716,-9.838129553062327,-17.01631169908604,1.5239908376111242,9.00731458894113,-4.526245559597266,7.468960660439071,-3.9985068713914265,-15.535605888187654,-4.5628569642845065,-6.335047779202808,-1.9758593439139445,7.901198983567819,-16.681738626403504,8.769143108002524,-2.984599955132112,-16.638040968416135,10.194550793585675,-12.777247192217791,3.6367744671928177,-2.368665259271257,1.8822319960413831,-2.9807355923959933,4.8406769365556,3.1942034843736735,5.53658202360664,0.4078801300546972,8.033683765091979,-2.979542757957039,-15.599907650238523,-0.0973694124401894,-14.377017699785936,1.8088997801031326,-1.3492744946244806,-3.0918190509203383,-0.5422171704252499,-16.695765295576628,2.819456379945555,-1.7431431887133146,8.928253303091601,4.4894487219235995,-5.562505202792606,-3.0059121167843825,11.618131156360242,-11.091884415761768,5.424163250123046,-9.360885296405428,-6.81973638621909,-1.1791597497901072,9.77986424096048,-3.505042553136933,2.5965198904284557,2.444463086113326,10.094847302489487,-15.112735399890537,-3.0213192324066775,-0.9133629375764157,-0.9929561891137473,-1.0782388187295842,5.371987822491716,-6.981169082003294,-14.553592911974581,-9.578559320439297,9.193988867296214,-1.6171036452287006,6.026590405021548,1.9505666545086786,-11.440893121169863,-1.647837829446201,-15.856133809828385,-15.945710790680161,-10.65949598343692,6.182658163929501,3.447163518957167,-4.930659142993628,-9.963554066672527,2.7202442029997083,-5.9918001998018084,-3.2706755762604924,-14.375049617755396,-1.0726665308799876,0.38384962406466744,-2.0502345882082738,-3.3084367946713655,-6.481996813714775,2.0908646571497504,0.364348084030042,-11.068084543235763,-10.983637029525338,-5.554261566836969,13.95475545122369,2.3383324141675206,-11.739898271482959,-2.033179858136416,5.307366616304963,9.81694244325659,-9.93062787149593,1.5188360122107218,6.815190732616291,13.255461001179354,0.8490171265324896,8.131742227178197,-3.2126160100873897,11.326432389003083,-4.9347184490513705,-7.877978623865238,12.93625158241203,-11.084367090766635,0.451665836521114,3.570919353195954,-2.995289614663723,-13.977651870304635,-8.416689097924564,5.781953169522658,9.873873648065368,-0.009874801021237545,10.99634286083086,2.264779736779474,-14.446595318045118,-0.26482665186335147,5.157509176928528,5.670616261201319,12.92723537210904,-1.4361340292722842,5.742478500615496,-10.761363017832148,3.007824051264846,-10.757188419761844,-11.374015698520099,-1.8492146929802664,0.9696334882464256,11.27777787081489,8.027295749146317,10.757226377554517,7.59582228898788,3.5187726405470343,4.73496519537918,-4.889608846145459,-14.626363691724936,11.989928266268235,-5.875872984678496,10.58244349669108,6.701505948124904,6.882885319209799,8.658351564409815,-17.104671861750973,8.394736049670634,-7.850628607560529,4.869258515159937,8.259500538907911,6.556416474564874,11.201413695642906,14.063923457210192,9.191771540210643,11.432413716985517,-2.5246064801783787,12.956508864292601,-7.987708010087754,-0.6129644163777759,0.6788728472694209,-11.790091741439413,-8.638059262360647,12.812051235538657,6.919701535472604,-2.5833337516146635,-11.401896339105143,8.68636766063674,-4.829941138499624,-3.1104067976025314,-11.836655194187124,-8.462670504787292,15.136275598076043,-5.1770775686157116,3.019485241813301,-8.41221653090456,1.2471048749099303,-6.347899640621302,-4.50163512288943,-7.854446436166633,-11.464978363152213,-3.784107581220431,6.039243752771957,10.566213933332241,7.6731067475309,-4.335310823636014,10.146945419260343,4.371789611772849,-7.0171541956356895,-5.344903590370521,8.884877448557875,-7.718407191453738,10.46832905587562,-9.495304463600235,13.505497327558876,0.5617703033068961,-10.293431042655754,5.571188584470157,8.030739537736093,7.812648872582762,11.285934630748695,16.185644728498694,14.21078759887892,11.886377801127562,14.175016705889773,3.62895161023661,3.5904288930890838,1.189880420332948,0.4642456715062254,1.2108131817377765,-0.17996344665538838,11.02384050057105,10.341789029809227,2.5853973385463926,1.926644820275043,3.2208396309507905,5.365416942165791,2.085413095104344,10.264326832289902,4.7135669936916536,9.403860654587884,-4.4214772447755175,2.4751228306759585,12.136343325002153,11.393105311530363,10.002648420517682,3.5931200557627423,9.738099053417004,-5.991960503872063,5.857819878108118,5.578047019323943,-6.700784746355791,14.041890383268685,4.842431908648729,-0.5546573757934319,1.7542431161384637,5.539559285570081,-2.695482871206745,5.854191905280766,2.3454410083970507,-15.541074943928967,-9.706671386698382,-6.2720001827326834,-0.816473384579225,8.920343245146585,15.251545496582748,5.71468030975583,5.34517230022338,-9.478371132624552,-6.071969975497887,-14.440378035449557,-14.894578425001333,0.875244644159421,13.981074368342409,-0.40837449593038627,-10.03374197457689,2.3540815642574935,3.0692821180690784,11.142638879711235,12.001680115016558,-1.757496913195762,7.294677576082234,-4.041849235478103,-16.33399202723107,0.6491008581969466,-5.663297495160756,0.7175012970377312,2.240116769063271,13.678921138611532,-13.21478968772311,-13.135089245702067,8.00118158090574,-1.0194601025322831,3.584448443915244,-14.200663119547167,-1.4732443708514777,-0.5225908982950442,-4.323059892916639,-0.17688125714234162,3.503844520038453,2.9263774789222126,-2.9669898674301662,1.7060878336137386,-6.448099498215053,-6.124698662070569,2.9224056466293615,13.413611074261325,8.200874218052173,-0.6803946472525941,-11.322412495030745,-10.605526853231712,-6.83304588847047,-5.476873987811541,-16.885432978326925,-1.805549803479923,-5.274078722152491,5.542823319528553,14.894435463741715,-2.877564004806448,-8.641913285616441,-9.128669228106125,-6.0728624414831,-2.9744409441682618,-14.090561767924106,4.562546717194274,-16.640535214456843,0.6485408122519577,-10.185460246330729,-9.669886541695575,-1.9846459323866457,2.3509051286013287,7.476068806002832,-9.191934833424073,2.5435019224335913,-9.873577238209897,1.7547565503199,-6.442761178884442,-9.447562426275573,-11.28796053416578,-4.548865147142154,-5.79150584781257,-12.74700290228828,12.081849500821285,1.4817213181661708,-5.380691735239681,0.8964175159961674,-4.642223635756997,2.623536954097217,-4.202969149938135,-1.126823567044804,-8.526115997116802,-4.697114474137327,-13.576393756971413,-13.587308656540984,-10.993400705523593,15.432196927197841,-14.129206756102992,-16.312845072746537,-5.4091125472879416,7.840884878770339,-1.9962612403036628,-9.556080229093473,-4.865236041411888,-0.8057236515584252,-5.236092400566705,14.671632373286766,-6.815055688409234,-0.8648464364679534,-4.904787010262178,-4.518677876361998,-8.995640472035866,-8.902819995332672,-9.354374676505218,1.9373951381934984,-2.5313145045876597,-2.3753954204397174,-7.062494116731125,-11.031956141606127,-9.082362262938718,-7.472707092153445,-9.21904566447118,0.3098033235665195,-8.68143825912032,-9.217051495131958,-6.705515479504495,11.206467865216647,-8.80465335490302,6.782020304680448,-9.099663793688922,3.9500410856762076,-13.133971011787649,15.34387694901565,-8.756039322828174,-2.1629939065682486,5.467506982364556,2.139933092149761,-10.396670590783144,-7.659893409322512,11.401213109141832,-5.116555006775319,11.847915613297502,5.260505626641666,-3.1963597801628025,0.772636192287189,-12.709224018465877,-3.1605151061230186,-0.731474587367414,10.946066616063169,5.185555063790357,5.743125838571029,12.028875123962766,-2.285174581443032,1.2434759738678132,-6.721841936904634,-6.344059223587288,3.4947107151356085,-7.605013208238336,5.236146483166875,-9.594372119689897,7.678921279006527,7.550999459189473,0.17758543320049466,-5.630767319084396,14.028650209501533,5.913056597221696,-8.437871581734935,15.988863188752829,9.80698994223296,3.1280622353975462,-1.384502220546217,2.993138297841796,11.771060284222127,11.03843613105142,-0.41327877739744295,-0.017387592872279926,-11.43747314861916,-3.059055907894202,-12.5863143320526,-6.678104062397791,-16.625545000168206,-15.056498840211452,-1.5098075048008015,0.9918507366646082,10.845901242232365,1.5375876995142115,-11.293555724987115,-1.351507988780562,11.757339283508708,-1.921179321455367,-2.9935870493130166,2.473248024066176,3.1771327023427447,7.091999882302536,10.319861785073297,8.592764924182287,2.3781940087303095,-6.42442257744563,0.7039332469536537,-7.012047015466494,-16.366636822848577,-16.62747055014435,4.216367338700936,12.171789775815547,13.417312823234408,-2.995683949287599,13.805952395114655,-14.996174579597271,3.9341631061336684,2.3457126007616886,8.785354876147528,-2.572044285991288,-9.808364657350682,6.987501243091615,5.767191636173969,-5.90238438148144,-6.093505294671532,-2.4044819300716926,11.96176228348975,0.6974371383386126,-9.174074467848877,11.421911368539865,-13.87909161230565,-6.100166698032474,0.6184993026375757,-14.302263457708502,13.554352255692288,-6.82687833920136,2.130567237322302,-2.789954067044717,3.2168394838804852,-1.261808638520518,13.521664017469973,-2.730487421528023,-7.116971677991456,-2.8724938217699476,11.252967535217897,0.6189322751159977,12.186399194125217,-8.439216342997865,0.6189565292901144,-8.971108310091854,11.881376342947961,-12.548355517701795,-9.367665317853337,11.97339364968308,0.6293890423536885,14.472351312352503,-2.919124996504962,11.554046397602317,-1.192581120754818,-8.238722351859465,-5.6607991216483935,1.566063434217212,-9.899844564820159,-1.4244071497050652,-7.505887164819599,-7.817007674824481,1.2671152212387609,-13.762061734027805,2.626846655777135,-15.69271889199613,4.503048288762267,-9.127808743331565,15.099677160008007,9.065157895187276,11.79741156847707,11.846619846757068,3.4266779635149804,11.605208628584776,11.48946574664507,10.804450898963236,-16.66701308798929,15.503077202255525,15.285462692196154,15.035766665763473,-6.682507965065123,-3.0488454241535927,-5.427365185039174,-0.5768046892328824,-11.958656165588275,-2.5833469073428,-12.380083946099885,-3.4156281473164047,-16.807858349902837,14.658757546996126,-9.796706847084828,-6.5743858620134334,3.601701074361563,10.158005606033743,-5.52576487784871,-10.01139145410845,-13.684641917187491,0.30183856880540616,-4.946441005542883,-1.8395076430434165,7.723315040008594,-3.101618908291322,6.0598824022324,1.0428899972904417,-5.2994331983193765,8.026841049863876,-11.086180331699042,-7.654897225255583,-6.622396174176277,13.933354098486168,5.921529748692363,8.805040994806134,3.2377354961891864,-13.927533481682275,7.943504191943095,-1.1506252938777446,-10.67544328654056,-6.617711993023753,12.042922029010752,-0.3934924488540509,-10.964605850319591,-4.496799968019336,-9.581573759976575,5.317573514458593,-1.9504139994592506,-2.9928102141715414,-11.671458053517535,1.168001163796054,16.47620302907659,-0.10225318073890341,7.67838873099451,-16.62949447693494,8.86490516415596,2.762060684623332,13.988100882307585,5.940029380719824,10.72860348839705,-0.16452328904850286,-16.533844800370897,5.512398033350889,-1.85764743662579,-11.098023951272193,8.671488553656754,2.263783118701772,1.8104619178937233,5.477967009623109,1.8685119716231084,-6.343411031270815,2.3973647957053816,5.734380920213472,-0.6478361018671172,-10.181186221917878,-4.479546719380965,-5.8014624710356735,2.44560632141799,-9.971689153346412,-7.737585306117681,4.068632756695526,8.805792178258667,-11.558685919525775,15.68345446353917,15.92032371716853,-5.72674277364933,-2.186555919939664,-5.77610099876795,0.6189533021725125,4.106950429414769,-5.391730716371155,-0.21165891792145758,-7.4227959523189275,-5.886770287095933,-2.5725515999510873,15.430183356896444,2.6860933180273605,12.005511619366073,3.3605439219827358,-12.49695826300525,10.938604969457398,-2.9718829082473595,-10.146079827857934,-7.868025317025802,11.903198796709182,-11.309329551958836,-8.854100729112938,10.281310268995023,6.5331425763118744,1.7451801748569509,2.962950880367538,1.847237064497608,14.261295578087257,-10.703704741191963,-16.062347489242075,6.980965629139833,7.200260827568461,-6.184436005383625,4.998448493919642,2.9706129483279238,-12.150839941422705,0.7063661060536901,1.3055612612418517,4.209707120626437,13.292945892229788,-2.149893934170321,-5.487998052944616,-8.002622702977082,-2.228221203039516,-2.261558971198512,5.7039164253477646,8.670152128589825,-15.586573177050449,-16.729811190551743,-14.231804360270338,12.870851493323316,10.335906118931538]}},\"id\":\"fe5fac3c-b917-4f90-b0b4-0fcc3ff63a1c\",\"type\":\"ColumnDataSource\"},{\"attributes\":{\"formatter\":{\"id\":\"34f3848c-e6e4-4a8c-83af-e746b53d01e3\",\"type\":\"BasicTickFormatter\"},\"plot\":{\"id\":\"3c6cacd8-9acc-4324-8fc6-39a14eb3a5bf\",\"subtype\":\"Figure\",\"type\":\"Plot\"},\"ticker\":{\"id\":\"7ea20a7c-bc1e-45c1-a3e9-ac873bebcfef\",\"type\":\"BasicTicker\"}},\"id\":\"3f225251-1ffe-4926-b93c-c660b27a5b3b\",\"type\":\"LinearAxis\"},{\"attributes\":{\"plot\":{\"id\":\"3c6cacd8-9acc-4324-8fc6-39a14eb3a5bf\",\"subtype\":\"Figure\",\"type\":\"Plot\"},\"ticker\":{\"id\":\"7ea20a7c-bc1e-45c1-a3e9-ac873bebcfef\",\"type\":\"BasicTicker\"}},\"id\":\"5813056c-4850-45d9-a61f-b875092380c0\",\"type\":\"Grid\"},{\"attributes\":{\"formatter\":{\"id\":\"e54c5187-ce22-4e4d-ab77-1f3eba1d873c\",\"type\":\"BasicTickFormatter\"},\"plot\":{\"id\":\"3c6cacd8-9acc-4324-8fc6-39a14eb3a5bf\",\"subtype\":\"Figure\",\"type\":\"Plot\"},\"ticker\":{\"id\":\"350f7cb4-3607-49b2-9f0e-dc2c248469fc\",\"type\":\"BasicTicker\"}},\"id\":\"7c687770-5bd0-4561-b2cf-7d53d5ce6cc4\",\"type\":\"LinearAxis\"},{\"attributes\":{\"plot\":{\"id\":\"3c6cacd8-9acc-4324-8fc6-39a14eb3a5bf\",\"subtype\":\"Figure\",\"type\":\"Plot\"}},\"id\":\"ce3aac2b-c0df-41de-9400-6150b6ce92bf\",\"type\":\"WheelZoomTool\"},{\"attributes\":{\"plot\":{\"id\":\"3c6cacd8-9acc-4324-8fc6-39a14eb3a5bf\",\"subtype\":\"Figure\",\"type\":\"Plot\"}},\"id\":\"9650f2c8-19ff-483d-9b8a-b73556239393\",\"type\":\"ResetTool\"},{\"attributes\":{\"fill_alpha\":{\"value\":0.6},\"fill_color\":{\"value\":\"#1f77b4\"},\"line_color\":{\"value\":null},\"radius\":{\"field\":\"radii\",\"units\":\"data\"},\"x\":{\"field\":\"x\"},\"y\":{\"field\":\"y\"}},\"id\":\"220e0279-1f57-4454-89b0-59b5a7b6ad6d\",\"type\":\"Circle\"},{\"attributes\":{\"plot\":null,\"text\":null},\"id\":\"618c73fb-1d17-43a9-8a4b-e142ff3fc953\",\"type\":\"Title\"},{\"attributes\":{\"callback\":null},\"id\":\"c204799b-7f8d-4088-b7db-7ca0782a0d26\",\"type\":\"DataRange1d\"},{\"attributes\":{\"plot\":{\"id\":\"3c6cacd8-9acc-4324-8fc6-39a14eb3a5bf\",\"subtype\":\"Figure\",\"type\":\"Plot\"}},\"id\":\"288cab16-b5aa-4546-ba73-8c5b010da314\",\"type\":\"CrosshairTool\"},{\"attributes\":{},\"id\":\"7ea20a7c-bc1e-45c1-a3e9-ac873bebcfef\",\"type\":\"BasicTicker\"},{\"attributes\":{\"bottom_units\":\"screen\",\"fill_alpha\":{\"value\":0.5},\"fill_color\":{\"value\":\"lightgrey\"},\"left_units\":\"screen\",\"level\":\"overlay\",\"line_alpha\":{\"value\":1.0},\"line_color\":{\"value\":\"black\"},\"line_dash\":[4,4],\"line_width\":{\"value\":2},\"plot\":null,\"render_mode\":\"css\",\"right_units\":\"screen\",\"top_units\":\"screen\"},\"id\":\"872346be-0156-4635-832c-e96176b16ac5\",\"type\":\"BoxAnnotation\"},{\"attributes\":{\"callback\":null,\"plot\":{\"id\":\"3c6cacd8-9acc-4324-8fc6-39a14eb3a5bf\",\"subtype\":\"Figure\",\"type\":\"Plot\"},\"tooltips\":[[\"author\",\"@author_names\"],[\"radius\",\"@radii\"]]},\"id\":\"c9ebc9d9-06fb-4052-92b1-807e816a1ed2\",\"type\":\"HoverTool\"},{\"attributes\":{},\"id\":\"e54c5187-ce22-4e4d-ab77-1f3eba1d873c\",\"type\":\"BasicTickFormatter\"},{\"attributes\":{\"active_drag\":\"auto\",\"active_scroll\":\"auto\",\"active_tap\":\"auto\",\"tools\":[{\"id\":\"c9ebc9d9-06fb-4052-92b1-807e816a1ed2\",\"type\":\"HoverTool\"},{\"id\":\"288cab16-b5aa-4546-ba73-8c5b010da314\",\"type\":\"CrosshairTool\"},{\"id\":\"429f783a-5706-429b-bcea-b16525945939\",\"type\":\"PanTool\"},{\"id\":\"ce3aac2b-c0df-41de-9400-6150b6ce92bf\",\"type\":\"WheelZoomTool\"},{\"id\":\"44279641-bc79-4e30-9e47-670249b38fb0\",\"type\":\"BoxZoomTool\"},{\"id\":\"9650f2c8-19ff-483d-9b8a-b73556239393\",\"type\":\"ResetTool\"},{\"id\":\"d5f386ae-d71e-4d87-88a6-b729e5932645\",\"type\":\"SaveTool\"},{\"id\":\"681a40ef-10d0-4830-8a4b-c59c487f9c7e\",\"type\":\"LassoSelectTool\"}]},\"id\":\"ef0aa1e4-64c1-4018-9875-f3bb82918fef\",\"type\":\"Toolbar\"},{\"attributes\":{},\"id\":\"350f7cb4-3607-49b2-9f0e-dc2c248469fc\",\"type\":\"BasicTicker\"},{\"attributes\":{\"plot\":{\"id\":\"3c6cacd8-9acc-4324-8fc6-39a14eb3a5bf\",\"subtype\":\"Figure\",\"type\":\"Plot\"}},\"id\":\"d5f386ae-d71e-4d87-88a6-b729e5932645\",\"type\":\"SaveTool\"},{\"attributes\":{\"below\":[{\"id\":\"3f225251-1ffe-4926-b93c-c660b27a5b3b\",\"type\":\"LinearAxis\"}],\"left\":[{\"id\":\"7c687770-5bd0-4561-b2cf-7d53d5ce6cc4\",\"type\":\"LinearAxis\"}],\"renderers\":[{\"id\":\"3f225251-1ffe-4926-b93c-c660b27a5b3b\",\"type\":\"LinearAxis\"},{\"id\":\"5813056c-4850-45d9-a61f-b875092380c0\",\"type\":\"Grid\"},{\"id\":\"7c687770-5bd0-4561-b2cf-7d53d5ce6cc4\",\"type\":\"LinearAxis\"},{\"id\":\"8ac88ce3-82c3-4814-9095-870eb27e4947\",\"type\":\"Grid\"},{\"id\":\"872346be-0156-4635-832c-e96176b16ac5\",\"type\":\"BoxAnnotation\"},{\"id\":\"84a75532-9cb4-4f5a-8a68-561ab38e6ee1\",\"type\":\"PolyAnnotation\"},{\"id\":\"baed8de6-41e7-457b-b449-19686a545cbc\",\"type\":\"GlyphRenderer\"}],\"title\":{\"id\":\"618c73fb-1d17-43a9-8a4b-e142ff3fc953\",\"type\":\"Title\"},\"tool_events\":{\"id\":\"47851eeb-f7ea-4ebf-ad8f-5cbe5cb5f301\",\"type\":\"ToolEvents\"},\"toolbar\":{\"id\":\"ef0aa1e4-64c1-4018-9875-f3bb82918fef\",\"type\":\"Toolbar\"},\"x_range\":{\"id\":\"a09e0e72-28bb-4f65-a47b-222f347dd46e\",\"type\":\"DataRange1d\"},\"y_range\":{\"id\":\"c204799b-7f8d-4088-b7db-7ca0782a0d26\",\"type\":\"DataRange1d\"}},\"id\":\"3c6cacd8-9acc-4324-8fc6-39a14eb3a5bf\",\"subtype\":\"Figure\",\"type\":\"Plot\"},{\"attributes\":{\"callback\":null},\"id\":\"a09e0e72-28bb-4f65-a47b-222f347dd46e\",\"type\":\"DataRange1d\"},{\"attributes\":{},\"id\":\"34f3848c-e6e4-4a8c-83af-e746b53d01e3\",\"type\":\"BasicTickFormatter\"},{\"attributes\":{\"overlay\":{\"id\":\"872346be-0156-4635-832c-e96176b16ac5\",\"type\":\"BoxAnnotation\"},\"plot\":{\"id\":\"3c6cacd8-9acc-4324-8fc6-39a14eb3a5bf\",\"subtype\":\"Figure\",\"type\":\"Plot\"}},\"id\":\"44279641-bc79-4e30-9e47-670249b38fb0\",\"type\":\"BoxZoomTool\"},{\"attributes\":{\"callback\":null,\"overlay\":{\"id\":\"84a75532-9cb4-4f5a-8a68-561ab38e6ee1\",\"type\":\"PolyAnnotation\"},\"plot\":{\"id\":\"3c6cacd8-9acc-4324-8fc6-39a14eb3a5bf\",\"subtype\":\"Figure\",\"type\":\"Plot\"}},\"id\":\"681a40ef-10d0-4830-8a4b-c59c487f9c7e\",\"type\":\"LassoSelectTool\"},{\"attributes\":{\"dimension\":1,\"plot\":{\"id\":\"3c6cacd8-9acc-4324-8fc6-39a14eb3a5bf\",\"subtype\":\"Figure\",\"type\":\"Plot\"},\"ticker\":{\"id\":\"350f7cb4-3607-49b2-9f0e-dc2c248469fc\",\"type\":\"BasicTicker\"}},\"id\":\"8ac88ce3-82c3-4814-9095-870eb27e4947\",\"type\":\"Grid\"},{\"attributes\":{},\"id\":\"47851eeb-f7ea-4ebf-ad8f-5cbe5cb5f301\",\"type\":\"ToolEvents\"},{\"attributes\":{\"plot\":{\"id\":\"3c6cacd8-9acc-4324-8fc6-39a14eb3a5bf\",\"subtype\":\"Figure\",\"type\":\"Plot\"}},\"id\":\"429f783a-5706-429b-bcea-b16525945939\",\"type\":\"PanTool\"},{\"attributes\":{\"data_source\":{\"id\":\"fe5fac3c-b917-4f90-b0b4-0fcc3ff63a1c\",\"type\":\"ColumnDataSource\"},\"glyph\":{\"id\":\"220e0279-1f57-4454-89b0-59b5a7b6ad6d\",\"type\":\"Circle\"},\"hover_glyph\":null,\"nonselection_glyph\":{\"id\":\"5315c9da-ff9f-4c9f-8119-c83db09b7cc3\",\"type\":\"Circle\"},\"selection_glyph\":null},\"id\":\"baed8de6-41e7-457b-b449-19686a545cbc\",\"type\":\"GlyphRenderer\"}],\"root_ids\":[\"3c6cacd8-9acc-4324-8fc6-39a14eb3a5bf\"]},\"title\":\"Bokeh Application\",\"version\":\"0.12.3\"}};\n",
       "            var render_items = [{\"docid\":\"22769a8b-fa62-4168-9e3a-010cddfbf4ab\",\"elementid\":\"a9206eff-65a8-4559-8246-25929e04f80b\",\"modelid\":\"3c6cacd8-9acc-4324-8fc6-39a14eb3a5bf\"}];\n",
       "            \n",
       "            Bokeh.embed.embed_items(docs_json, render_items);\n",
       "        });\n",
       "      },\n",
       "      function(Bokeh) {\n",
       "      }\n",
       "    ];\n",
       "  \n",
       "    function run_inline_js() {\n",
       "      \n",
       "      if ((window.Bokeh !== undefined) || (force === \"1\")) {\n",
       "        for (var i = 0; i < inline_js.length; i++) {\n",
       "          inline_js[i](window.Bokeh);\n",
       "        }if (force === \"1\") {\n",
       "          display_loaded();\n",
       "        }} else if (Date.now() < window._bokeh_timeout) {\n",
       "        setTimeout(run_inline_js, 100);\n",
       "      } else if (!window._bokeh_failed_load) {\n",
       "        console.log(\"Bokeh: BokehJS failed to load within specified timeout.\");\n",
       "        window._bokeh_failed_load = true;\n",
       "      } else if (!force) {\n",
       "        var cell = $(\"#a9206eff-65a8-4559-8246-25929e04f80b\").parents('.cell').data().cell;\n",
       "        cell.output_area.append_execute_result(NB_LOAD_WARNING)\n",
       "      }\n",
       "  \n",
       "    }\n",
       "  \n",
       "    if (window._bokeh_is_loading === 0) {\n",
       "      console.log(\"Bokeh: BokehJS loaded, going straight to plotting\");\n",
       "      run_inline_js();\n",
       "    } else {\n",
       "      load_libs(js_urls, function() {\n",
       "        console.log(\"Bokeh: BokehJS plotting callback run at\", now());\n",
       "        run_inline_js();\n",
       "      });\n",
       "    }\n",
       "  }(this));\n",
       "</script>"
      ]
     },
     "metadata": {},
     "output_type": "display_data"
    }
   ],
   "source": [
    "x = tsne.embedding_[:, 0]\n",
    "y = tsne.embedding_[:, 1]\n",
    "author_names = list(model.id2author.values())\n",
    "\n",
    "# Radius of each point corresponds to the number of documents attributed to that author.\n",
    "scale = 0.1\n",
    "radii = [len(author2doc[a]) * scale for a in author_names]\n",
    "\n",
    "source = ColumnDataSource(\n",
    "        data=dict(\n",
    "            x=x,\n",
    "            y=y,\n",
    "            author_names=author_names,\n",
    "            radii=radii,\n",
    "        )\n",
    "    )\n",
    "\n",
    "hover = HoverTool(\n",
    "        tooltips=[\n",
    "        (\"author\", \"@author_names\"),\n",
    "        (\"radius\", \"@radii\"),\n",
    "        ]\n",
    "    )\n",
    "\n",
    "p = figure(tools=[hover, 'crosshair,pan,wheel_zoom,box_zoom,reset,save,lasso_select'])\n",
    "p.scatter('x', 'y', radius='radii', source=source, fill_alpha=0.6, line_color=None)\n",
    "show(p)"
   ]
  },
  {
   "cell_type": "code",
   "execution_count": null,
   "metadata": {
    "collapsed": true
   },
   "outputs": [],
   "source": []
  }
 ],
 "metadata": {
  "kernelspec": {
   "display_name": "Python 3",
   "language": "python",
   "name": "python3"
  },
  "language_info": {
   "codemirror_mode": {
    "name": "ipython",
    "version": 3
   },
   "file_extension": ".py",
   "mimetype": "text/x-python",
   "name": "python",
   "nbconvert_exporter": "python",
   "pygments_lexer": "ipython3",
   "version": "3.5.2"
  }
 },
 "nbformat": 4,
 "nbformat_minor": 1
}
