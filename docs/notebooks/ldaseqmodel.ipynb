{
 "cells": [
  {
   "cell_type": "markdown",
   "metadata": {},
   "source": [
    "# Dynamic Topic Models"
   ]
  },
  {
   "cell_type": "markdown",
   "metadata": {},
   "source": [
    "Imagine you have a gigantic corpus which spans over a couple of years. You want to find semantically similar documents; one from the very beginning of your time-line, and one in the very end. How would you?\n",
    "This is where Dynamic Topic Models comes in. By having a time-based element to topics, context is preserved while ley-words may change.\n",
    "\n",
    "Dynamic Topic Models are used to model the evolution of topics in a corpus, over time. The Dynamic Topic Model is part of a class of probabilistic topic models, like the LDA. \n",
    "\n",
    "While most traditional topic mining algorithms do not expect time-tagged data or take into account any prior ordering, Dynamic Topic Models (DTM) leverages the knowledge of different documents belonging to a different time-slice in an attempt to map how the words in a topic change over time.\n",
    "\n",
    "David Blei does a good job explaining the theory behind this in this [Google talk](https://www.youtube.com/watch?v=7BMsuyBPx90). If you prefer to directly read the [paper on DTM by Blei and Lafferty](http://repository.cmu.edu/cgi/viewcontent.cgi?article=2036&context=compsci), that should get you upto speed too."
   ]
  },
  {
   "cell_type": "markdown",
   "metadata": {},
   "source": [
    "### Motivation"
   ]
  },
  {
   "cell_type": "markdown",
   "metadata": {},
   "source": [
    "But - why even undertake this, especially when Gensim itself have a wrapper?\n",
    "The main motivation was the lack of documentation in the original code - and the fact that doing an only python version makes it easier to use gensim building blocks. For example, for setting up the Sufficient Statistics to initialize the DTM, you can just pass a pre-trained gensim LDA model!\n",
    "\n",
    "There is some clarity on how they built their code now - Variational Inference using Kalman Filters. I've tried to make things as clear as possible in the code, but it still needs some polishing. \n",
    "\n",
    "Any help through PRs would be greatly appreciated!\n",
    "\n",
    "I have been regularly blogging about my progress with implementing this, which you can find [here](http://rare-technologies.com/author/bhargav/)."
   ]
  },
  {
   "cell_type": "markdown",
   "metadata": {},
   "source": [
    "### Use Case "
   ]
  },
  {
   "cell_type": "markdown",
   "metadata": {},
   "source": [
    "If you would have seen the video or read the paper, it's use case would be pretty clear - and the example of modelling it on Science research papers gives us some pretty interesting results. It was used to not only catch how various themes of research such as Physics or Neuroscience evolved over the decades but also in identifying similar documents in a way not many other modelling algorithms can. While words may change over time, the fact that DTM can identify topics over time can help us find semantically similar documents over a long time-period.\n",
    "\n",
    "[This](http://rare-technologies.com/understanding-and-coding-dynamic-topic-models/) blog post is also useful in breaking down the ideas and theory behind DTM."
   ]
  },
  {
   "cell_type": "markdown",
   "metadata": {},
   "source": [
    "# Using LdaSeqModel for DTM"
   ]
  },
  {
   "cell_type": "markdown",
   "metadata": {},
   "source": [
    "Gensim already has a wrapper for original C++ DTM code, but the `LdaSeqModel` class is an effort to have a pure python implementation of the same.\n",
    "Using it is very similar to using any other gensim topic-modelling algorithm, with all you need to start is an iterable gensim corpus, id2word and a list with the number of documents in each of your time-slices."
   ]
  },
  {
   "cell_type": "code",
   "execution_count": 1,
   "metadata": {
    "collapsed": true
   },
   "outputs": [],
   "source": [
    "# setting up our imports\n",
    "\n",
    "from gensim.models import ldaseqmodel\n",
    "from gensim.corpora import Dictionary, bleicorpus\n",
    "import numpy\n",
    "from gensim.matutils import hellinger"
   ]
  },
  {
   "cell_type": "markdown",
   "metadata": {},
   "source": [
    "We will be loading the corpus and dictionary from disk. Here our corpus in the Blei corpus format, but it can be any iterable corpus.\n",
    "The data set here consists of news reports over 3 months downloaded from here and cleaned. \n",
    "\n",
    "TODO: better, more interesting data-set.\n",
    "\n",
    "### What is a time-slice?\n",
    "A very important input for DTM to work is the `time_slice` input. It should be a list which contains the number of documents in each time-slice. In our case, the first month had 438 articles, the second 430 and the last month had 456 articles. This means we'd need an input which looks like this: `time_slice = [438, 430, 456]`. \n",
    "\n",
    "Once you have your corpus, id2word and time_slice ready, we're good to go!"
   ]
  },
  {
   "cell_type": "code",
   "execution_count": 2,
   "metadata": {
    "collapsed": false
   },
   "outputs": [],
   "source": [
    "# loading our corpus and dictionary\n",
    "dictionary = Dictionary.load('Corpus/news_dictionary')\n",
    "corpus = bleicorpus.BleiCorpus('Corpus/news_corpus')\n",
    "# it's very important that your corpus is saved in order of your time-slices!\n",
    "\n",
    "time_slice = [438, 430, 456]"
   ]
  },
  {
   "cell_type": "markdown",
   "metadata": {},
   "source": [
    "For DTM to work it first needs the Sufficient Statistics from a trained LDA model on the _*same*_ dataset. \n",
    "By default LdaSeqModel trains it's own model and passes those values on, but can also accept a pre-trained gensim LDA model, or a numpy matrix which contains the Suff Stats.\n",
    "\n",
    "We will be training our model in default mode, so LDA will be first performed on the dataset. The `passes` parameter is to instruct LdaModel on the number of passes."
   ]
  },
  {
   "cell_type": "code",
   "execution_count": 10,
   "metadata": {
    "collapsed": false,
    "scrolled": true
   },
   "outputs": [
    {
     "name": "stderr",
     "output_type": "stream",
     "text": [
      "/Users/bhargavvader/Open_Source/gensim/gensim/models/ldaseqmodel.py:237: RuntimeWarning: divide by zero encountered in double_scalars\n",
      "  convergence = numpy.fabs((bound - old_bound) / old_bound)\n"
     ]
    }
   ],
   "source": [
    "ldaseq = ldaseqmodel.LdaSeqModel(corpus=corpus, id2word=dictionary, time_slice=time_slice, num_topics=5, passes=20)"
   ]
  },
  {
   "cell_type": "markdown",
   "metadata": {},
   "source": [
    "Now that our model is trained, let's see what our results look like.\n",
    "\n",
    "### Results\n",
    "Much like LDA, the points of interest would be in what the topics are and how the documents are made up of these topics.\n",
    "In DTM we have the added interest of seeing how these topics evolve over time.\n",
    "\n",
    "Let's go through some of the functions to print Topics and analyse documents."
   ]
  },
  {
   "cell_type": "code",
   "execution_count": 11,
   "metadata": {
    "collapsed": false
   },
   "outputs": [
    {
     "data": {
      "text/plain": [
       "[[(0.01, 'best'),\n",
       "  (0.0060000000000000001, 'film'),\n",
       "  (0.0050000000000000001, 'music'),\n",
       "  (0.0050000000000000001, 'last'),\n",
       "  (0.0040000000000000001, 'number'),\n",
       "  (0.0040000000000000001, 'tv'),\n",
       "  (0.0040000000000000001, 'show'),\n",
       "  (0.0040000000000000001, 'top'),\n",
       "  (0.0030000000000000001, 'uk'),\n",
       "  (0.0030000000000000001, 'first'),\n",
       "  (0.0030000000000000001, 'year'),\n",
       "  (0.0030000000000000001, 'band'),\n",
       "  (0.002, 'award'),\n",
       "  (0.002, 'million'),\n",
       "  (0.002, 'record'),\n",
       "  (0.002, 'three'),\n",
       "  (0.002, 'sales'),\n",
       "  (0.002, 'bbc'),\n",
       "  (0.002, 'including'),\n",
       "  (0.002, 'british')],\n",
       " [(0.0040000000000000001, 'mobile'),\n",
       "  (0.0030000000000000001, 'technology'),\n",
       "  (0.0030000000000000001, 'use'),\n",
       "  (0.0030000000000000001, 'last'),\n",
       "  (0.002, 'market'),\n",
       "  (0.002, 'firm'),\n",
       "  (0.002, 'firms'),\n",
       "  (0.002, 'net'),\n",
       "  (0.002, 'much'),\n",
       "  (0.002, 'phone'),\n",
       "  (0.002, 'year'),\n",
       "  (0.002, 'make'),\n",
       "  (0.002, 'companies'),\n",
       "  (0.002, 'uk'),\n",
       "  (0.002, 'digital'),\n",
       "  (0.002, 'european'),\n",
       "  (0.002, 'economic'),\n",
       "  (0.002, 'company'),\n",
       "  (0.002, 'growth'),\n",
       "  (0.002, 'government')],\n",
       " [(0.0040000000000000001, 'think'),\n",
       "  (0.0040000000000000001, 'club'),\n",
       "  (0.0040000000000000001, 'like'),\n",
       "  (0.0040000000000000001, 'want'),\n",
       "  (0.0030000000000000001, \"don't\"),\n",
       "  (0.0030000000000000001, 'game'),\n",
       "  (0.0030000000000000001, 'football'),\n",
       "  (0.0030000000000000001, 'last'),\n",
       "  (0.0030000000000000001, 'make'),\n",
       "  (0.0030000000000000001, 'way'),\n",
       "  (0.0030000000000000001, 'go'),\n",
       "  (0.0030000000000000001, 'time'),\n",
       "  (0.0030000000000000001, 'real'),\n",
       "  (0.002, 'players'),\n",
       "  (0.002, 'bbc'),\n",
       "  (0.002, 'going'),\n",
       "  (0.002, 'know'),\n",
       "  (0.002, 'manager'),\n",
       "  (0.002, 'liverpool'),\n",
       "  (0.002, 'got')],\n",
       " [(0.0050000000000000001, 'government'),\n",
       "  (0.0040000000000000001, 'blair'),\n",
       "  (0.0040000000000000001, 'labour'),\n",
       "  (0.0030000000000000001, 'minister'),\n",
       "  (0.0030000000000000001, 'security'),\n",
       "  (0.0030000000000000001, 'public'),\n",
       "  (0.0030000000000000001, 'prime'),\n",
       "  (0.0030000000000000001, 'election'),\n",
       "  (0.0030000000000000001, 'party'),\n",
       "  (0.002, 'brown'),\n",
       "  (0.002, 'search'),\n",
       "  (0.002, 'make'),\n",
       "  (0.002, 'users'),\n",
       "  (0.002, 'howard'),\n",
       "  (0.002, 'bbc'),\n",
       "  (0.002, 'lord'),\n",
       "  (0.002, 'say'),\n",
       "  (0.002, 'home'),\n",
       "  (0.002, 'tory'),\n",
       "  (0.002, 'secretary')],\n",
       " [(0.0050000000000000001, 'game'),\n",
       "  (0.0050000000000000001, 'chelsea'),\n",
       "  (0.0050000000000000001, 'cup'),\n",
       "  (0.0040000000000000001, 'first'),\n",
       "  (0.0040000000000000001, 'win'),\n",
       "  (0.0040000000000000001, 'united'),\n",
       "  (0.0040000000000000001, 'games'),\n",
       "  (0.0030000000000000001, 'league'),\n",
       "  (0.0030000000000000001, 'arsenal'),\n",
       "  (0.0030000000000000001, 'last'),\n",
       "  (0.0030000000000000001, 'home'),\n",
       "  (0.0030000000000000001, 'play'),\n",
       "  (0.0030000000000000001, 'players'),\n",
       "  (0.0030000000000000001, 'good'),\n",
       "  (0.0030000000000000001, 'side'),\n",
       "  (0.0030000000000000001, 'world'),\n",
       "  (0.0030000000000000001, 'goal'),\n",
       "  (0.002, 'ball'),\n",
       "  (0.002, 'second'),\n",
       "  (0.002, 'champions')]]"
      ]
     },
     "execution_count": 11,
     "metadata": {},
     "output_type": "execute_result"
    }
   ],
   "source": [
    "# to print all topics, use `print_topics`. \n",
    "# the input parameter to `print_topics` is only a time-slice option. By passing `0` we are seeing the topics in the 1st time-slice.\n",
    "ldaseq.print_topics(time=0)"
   ]
  },
  {
   "cell_type": "code",
   "execution_count": 22,
   "metadata": {
    "collapsed": false
   },
   "outputs": [
    {
     "data": {
      "text/plain": [
       "[[(0.0040000000000000001, 'mobile'),\n",
       "  (0.0030000000000000001, 'technology'),\n",
       "  (0.0030000000000000001, 'use'),\n",
       "  (0.0030000000000000001, 'last'),\n",
       "  (0.002, 'market'),\n",
       "  (0.002, 'firm'),\n",
       "  (0.002, 'firms'),\n",
       "  (0.002, 'net'),\n",
       "  (0.002, 'much'),\n",
       "  (0.002, 'phone'),\n",
       "  (0.002, 'year'),\n",
       "  (0.002, 'make'),\n",
       "  (0.002, 'companies'),\n",
       "  (0.002, 'uk'),\n",
       "  (0.002, 'digital'),\n",
       "  (0.002, 'european'),\n",
       "  (0.002, 'economic'),\n",
       "  (0.002, 'company'),\n",
       "  (0.002, 'growth'),\n",
       "  (0.002, 'government')],\n",
       " [(0.0030000000000000001, 'mobile'),\n",
       "  (0.0030000000000000001, 'technology'),\n",
       "  (0.0030000000000000001, 'use'),\n",
       "  (0.002, 'market'),\n",
       "  (0.002, 'last'),\n",
       "  (0.002, 'firms'),\n",
       "  (0.002, 'firm'),\n",
       "  (0.002, 'phone'),\n",
       "  (0.002, 'much'),\n",
       "  (0.002, 'net'),\n",
       "  (0.002, 'make'),\n",
       "  (0.002, 'year'),\n",
       "  (0.002, 'digital'),\n",
       "  (0.002, 'uk'),\n",
       "  (0.002, 'companies'),\n",
       "  (0.002, 'economic'),\n",
       "  (0.002, 'european'),\n",
       "  (0.002, 'company'),\n",
       "  (0.002, 'growth'),\n",
       "  (0.002, 'broadband')],\n",
       " [(0.0040000000000000001, 'mobile'),\n",
       "  (0.0030000000000000001, 'technology'),\n",
       "  (0.0030000000000000001, 'use'),\n",
       "  (0.0030000000000000001, 'market'),\n",
       "  (0.002, 'phone'),\n",
       "  (0.002, 'firms'),\n",
       "  (0.002, 'last'),\n",
       "  (0.002, 'much'),\n",
       "  (0.002, 'firm'),\n",
       "  (0.002, 'make'),\n",
       "  (0.002, 'net'),\n",
       "  (0.002, 'digital'),\n",
       "  (0.002, 'year'),\n",
       "  (0.002, 'uk'),\n",
       "  (0.002, 'companies'),\n",
       "  (0.002, 'broadband'),\n",
       "  (0.002, 'economic'),\n",
       "  (0.002, 'european'),\n",
       "  (0.002, 'company'),\n",
       "  (0.002, 'next')]]"
      ]
     },
     "execution_count": 22,
     "metadata": {},
     "output_type": "execute_result"
    }
   ],
   "source": [
    "# to fix a topic and see it evolve, use `print_topic_times`\n",
    "\n",
    "ldaseq.print_topic_times(topic=1) # evolution of 1st topic"
   ]
  },
  {
   "cell_type": "markdown",
   "metadata": {},
   "source": [
    "If you look at the lower frequencies; the word broadband is creeping itself up into prominence in topic number 1. \n",
    "We've had our fun looking at topics, now let us see how to analyse documents.\n",
    "\n",
    "### Doc-Topics\n",
    "the function `doc_topics` checks the topic proportions on documents already trained on. It accepts the document number in the corpus as an input.\n",
    "\n",
    "Let's pick up document number 558 arbitrarily and have a look."
   ]
  },
  {
   "cell_type": "code",
   "execution_count": 37,
   "metadata": {
    "collapsed": false
   },
   "outputs": [
    {
     "name": "stdout",
     "output_type": "stream",
     "text": [
      "['set', 'time,\"', 'chairman', 'decision', 'news', 'director', 'former', 'vowed', '\"it', 'results', 'club', 'third', 'home', 'paul', 'saturday.', 'south', 'conference', 'leading', '\"some', 'survival', 'needed', 'coach', \"don't\", 'every', 'trouble', 'desperate', 'eight', 'first', 'win', 'going', 'park', 'near', 'chance', 'manager', 'league', 'milan', 'games', 'go', 'game', 'foot', 'say', 'upset', \"i'm\", 'poor', 'season.', 'executive', 'road', '24', 'debut', 'portsmouth.', 'give', 'claiming', 'steve', 'break', 'rivals', 'boss', 'kevin', 'premiership', 'little', 'left', 'table.', 'life', 'join', 'years.', 'bring', 'season,', 'director.', 'became', 'st', 'according', 'official', 'hope', 'shocked', 'though', 'phone', 'charge', '14', 'website.', 'time,', 'claimed', 'kept', 'bond', 'appointment', 'unveil', 'november', 'picked', 'confirmed,', 'believed', 'deep', 'position', 'surprised', 'negotiations', 'talks', 'gmt', 'middlesbrough', 'replaced', 'appear', 'football,', '\"i\\'m', 'charge.', 'saints', 'southampton', 'sturrock', 'wednesday.', 'harry', 'poised', 'ninth', 'quit', 'relieved', 'chance.\"', 'decision.\"', 'hero', 'redknapp,', 'redknapp', \"saints'\", 'first-team', \"wouldn't\", \"mary's.\", 'portsmouth', \"redknapp's\", 'pompey', 'academy', \"harry's\", 'cult', 'rupert', 'time\".', 'coast', '57,', 'succeed', 'duties', \"'i\", 'bitter,', \"mandaric's\", \"portsmouth's\", 'wigley,', 'wigley', \"southampton',\", '1500', 'mandaric', \"'absolutely\", 'lowe', '\"disappointed\"', 'velimir', 'not\\',\"', 'disgusted', 'disappointed,', 'mandaric,', 'fratton', 'replaces', 'masterminding', 'angry,', 'vowed:', 'informed.\"', 'zajec']\n"
     ]
    }
   ],
   "source": [
    "# to check Document - Topic proportions, use `doc-topics`\n",
    "words = [dictionary[word_id] for word_id, count in ldaseq.corpus.corpus[558]]\n",
    "print (words)"
   ]
  },
  {
   "cell_type": "markdown",
   "metadata": {},
   "source": [
    "It's pretty clear that it's a news article about football. What topics will it likely be comprised of?"
   ]
  },
  {
   "cell_type": "code",
   "execution_count": 49,
   "metadata": {
    "collapsed": false
   },
   "outputs": [
    {
     "name": "stdout",
     "output_type": "stream",
     "text": [
      "[  5.46298825e-05   5.46298825e-05   7.24590312e-01   5.46298825e-05\n",
      "   2.75245799e-01]\n"
     ]
    }
   ],
   "source": [
    "doc_1 = ldaseq.doc_topics(558) # check the 244th document in the corpuses topic distribution\n",
    "print (doc_1)"
   ]
  },
  {
   "cell_type": "markdown",
   "metadata": {},
   "source": [
    "It's largely made of topics 3 and 5 - and if we go back and inspect our topics, it's quite a good match."
   ]
  },
  {
   "cell_type": "markdown",
   "metadata": {},
   "source": [
    "If we wish to analyse a document not in our training set, we can use simply pass the doc to the model similar to the `__getitem__` funciton for `LdaModel`.\n",
    "\n",
    "Let's let our document be a hypothetical news article about the effects of Ryan Giggs buying mobiles affecting the British economy."
   ]
  },
  {
   "cell_type": "code",
   "execution_count": 53,
   "metadata": {
    "collapsed": false
   },
   "outputs": [
    {
     "name": "stdout",
     "output_type": "stream",
     "text": [
      "[ 0.00110497  0.65302349  0.34366159  0.00110497  0.00110497]\n"
     ]
    }
   ],
   "source": [
    "doc_2 = ['economy', 'bank', 'mobile', 'phone', 'markets', 'buy', 'football', 'united', 'giggs']\n",
    "doc_2 = dictionary.doc2bow(doc_2)\n",
    "doc_2 = ldaseq[doc_2]\n",
    "print (doc_2)"
   ]
  },
  {
   "cell_type": "markdown",
   "metadata": {},
   "source": [
    "Pretty neat! Topics 2 and 3 are about technology, the market and football, so this works well for us."
   ]
  },
  {
   "cell_type": "markdown",
   "metadata": {},
   "source": [
    "### Distances between documents\n",
    "\n",
    "One of the more handy uses of DTMs topic modelling is that we can compare documents across different time-frames and see how similar they are topic-wise. When words may not necessarily overlap over these time-periods, this is very useful.\n",
    "\n",
    "The current dataset doesn't provide us the diversity for this to be an effective example; but we will nevertheless illustrate how to do the same."
   ]
  },
  {
   "cell_type": "code",
   "execution_count": 54,
   "metadata": {
    "collapsed": false
   },
   "outputs": [
    {
     "data": {
      "text/plain": [
       "0.69071218819511226"
      ]
     },
     "execution_count": 54,
     "metadata": {},
     "output_type": "execute_result"
    }
   ],
   "source": [
    "hellinger(doc_1, doc_2)"
   ]
  },
  {
   "cell_type": "markdown",
   "metadata": {},
   "source": [
    "The topic distributions are quite similar, so we get a high value.\n",
    "For more information on how to use the gensim distance metrics, check out [this notebook](https://github.com/RaRe-Technologies/gensim/blob/develop/docs/notebooks/distance_metrics.ipynb)."
   ]
  },
  {
   "cell_type": "markdown",
   "metadata": {},
   "source": [
    "### Performance\n",
    "\n",
    "The code currently runs between 5 to 7 times slower than the original C++ DTM code. The bottleneck is in the scipy `optimize.fmin_cg` method for updating obs. Speeding this up would fix things up!\n",
    "\n",
    "Since it uses iterable gensim corpuses, the memory stamp is also cleaner. The corpus size doesn't matter."
   ]
  },
  {
   "cell_type": "markdown",
   "metadata": {},
   "source": [
    "The advantages of the python port are that unlike the C++ code we needn't treat it like a black-box; PRs to help make the code better are welcomed, as well as help to make the documentation clearer and improve performance. It is also in pure python and doesn't need any dependancy outside of what gensim already needs. The added functionality of being able to analyse new documents is also a plus!\n",
    "\n",
    "### DTM wrapper comparison\n",
    "Let's now compare these results with the DTM wrapper."
   ]
  },
  {
   "cell_type": "code",
   "execution_count": 56,
   "metadata": {
    "collapsed": false
   },
   "outputs": [],
   "source": [
    "from gensim.models.wrappers.dtmmodel import DtmModel\n",
    "\n",
    "\n",
    "dtm_path = \"/Users/bhargavvader/Downloads/dtm_release/dtm/main\"\n",
    "dtm_model = DtmModel(dtm_path, corpus, time_slice, num_topics=5, id2word=dictionary, initialize_lda=True)\n",
    "dtm_model.save('dtm_news')\n",
    "ldaseq.save('ldaseq_news')\n",
    "\n",
    "# if we've saved before simply load the model\n",
    "dtm_model = DtmModel.load('dtm_news')"
   ]
  },
  {
   "cell_type": "code",
   "execution_count": 58,
   "metadata": {
    "collapsed": false
   },
   "outputs": [],
   "source": [
    "# setting up the DTM wrapper for \n",
    "\n",
    "from gensim import matutils\n",
    "num_topics = 5\n",
    "topic_term = dtm_model.lambda_[:,:,0] # the lambda matrix contains \n",
    "\n",
    "def validate(topic_term):\n",
    "    topic_term = numpy.exp(topic_term)\n",
    "    topic_term = topic_term / topic_term.sum()\n",
    "    topic_term = topic_term * num_topics\n",
    "    return topic_term\n",
    "\n",
    "def get_topics(topic_terms, topic_number):\n",
    "    topic_terms = topic_terms[topic_number]\n",
    "    bestn = matutils.argsort(topic_terms, 20, reverse=True)\n",
    "    beststr = [dictionary[id_] for id_ in bestn]\n",
    "    return beststr\n",
    "\n",
    "topic_term = validate(topic_term)\n",
    "# next is doc_topic_dist\n",
    "doc_topic = dtm_model.gamma_\n",
    "# next is the vocabulary, which we already have\n",
    "\n",
    "vocab = []\n",
    "for i in range(0, len(dictionary)):\n",
    "    vocab.append(dictionary[i])\n",
    "\n",
    "# we now need term-frequency and doc_lengths\n",
    "\n",
    "def term_frequency(corpus, dictionary):\n",
    "    term_frequency = [0] * len(dictionary)\n",
    "    doc_lengths = []\n",
    "    for doc in corpus:\n",
    "        doc_lengths.append(len(doc))\n",
    "        for pair in doc:\n",
    "            term_frequency[pair[0]] += pair[1]\n",
    "    return term_frequency, doc_lengths\n",
    "\n",
    "topics_wrapper = []\n",
    "for i in range(0, num_topics):\n",
    "    topics_wrapper.append(get_topics(topic_term, i))\n",
    "    \n",
    "    \n",
    "term_frequency, doc_lengths = term_frequency(corpus, dictionary)"
   ]
  },
  {
   "cell_type": "code",
   "execution_count": 59,
   "metadata": {
    "collapsed": false
   },
   "outputs": [
    {
     "data": {
      "text/html": [
       "\n",
       "<link rel=\"stylesheet\" type=\"text/css\" href=\"https://cdn.rawgit.com/bmabey/pyLDAvis/files/ldavis.v1.0.0.css\">\n",
       "\n",
       "\n",
       "<div id=\"ldavis_el2459646123138806567797470\"></div>\n",
       "<script type=\"text/javascript\">\n",
       "\n",
       "var ldavis_el2459646123138806567797470_data = {\"R\": 30, \"topic.order\": [1, 3, 5, 2, 4], \"lambda.step\": 0.01, \"plot.opts\": {\"xlab\": \"PC1\", \"ylab\": \"PC2\"}, \"token.table\": {\"Freq\": [0.32710307160227253, 0.6635519452503242, 0.9120598847202313, 0.11150849305905233, 0.3902797257066832, 0.07805594514133664, 0.41258142431849365, 0.990076897020546, 0.9798879824319267, 0.371145434985542, 0.1192967469596385, 0.503697376051807, 0.9880896127480736, 0.9632963915831404, 0.0356776441327089, 0.958930472531671, 0.9645791147107622, 0.21472350847803026, 0.12883410508681817, 0.22085846586311683, 0.4294470169560605, 0.09935580271392988, 0.8942022244253689, 0.995071834861585, 0.058714328126737894, 0.9394292500278063, 0.9769612563593266, 0.9507502535938638, 0.023939246153537642, 0.9735293435771973, 0.9922610863484485, 0.9761996198037097, 0.9748057547797122, 0.9902548959800453, 0.13105854625168173, 0.8518805506359312, 0.018332580889332057, 0.9716267871345992, 0.966300620171133, 0.9749415938729286, 0.36192082868540626, 0.17191239362556798, 0.26239260079691956, 0.11762426932275703, 0.08746420026563985, 0.06602698666070254, 0.09797552859330055, 0.8306620902475482, 0.006389708386519602, 0.13237309913226408, 0.14255564521936132, 0.040730184348388945, 0.6924131339226122, 0.993977791367316, 0.960807682418406, 0.9709855616268713, 0.9457439832580523, 0.05244505363400223, 0.9265292808673727, 0.01748168454466741, 0.14908031641949507, 0.8402708743644268, 0.4845315211396737, 0.4792648741707642, 0.03159988181345698, 0.9932718275536769, 0.8789170356372482, 0.07191139382486576, 0.04794092921657718, 0.9808483287810853, 0.9844068282662627, 0.1812326078924172, 0.1335398163417811, 0.6772376400190327, 0.9665341082243053, 0.9908596951702104, 0.9929669306963993, 0.07979820297093371, 0.9043796336705819, 0.9919217081836528, 0.9577444276676467, 0.992416724378866, 0.5298886185732357, 0.10367386015563305, 0.02879829448767585, 0.04031761228274619, 0.305261921569364, 0.983766896103358, 0.010141926763952144, 0.9778940707251264, 0.9752011761263005, 0.9827297336259622, 0.9756639793228642, 0.40484369961027084, 0.039178422542929435, 0.039178422542929435, 0.4962600188771062, 0.30421496167056306, 0.09475547986460162, 0.2992278311513735, 0.29424070063218394, 0.022756761295366905, 0.9633695615038655, 0.9760798791367571, 0.9855197482031478, 0.022796755449750815, 0.9726615658560348, 0.9222841691322345, 0.2863769547582958, 0.704927888635805, 0.9949309922576469, 0.9561779878533975, 0.21458945573823185, 0.7843614589052612, 0.9866329718030932, 0.9715198708711824, 0.1700722100476659, 0.08777920518589208, 0.515702830467116, 0.1700722100476659, 0.05486200324118255, 0.9532516812219388, 0.24952183538264447, 0.4812206825236715, 0.1960528706577921, 0.06683620590606548, 0.9646191025659542, 0.959579706087098, 0.03234538335125049, 0.9523112711606707, 0.9921476674844572, 0.9911365352090125, 0.9916548796044704, 0.9967370237629491, 0.8869660736179107, 0.10333585323703813, 0.5538261113534602, 0.14929225610397623, 0.019263516916642093, 0.08186994689572889, 0.19745104839558145, 0.9711580989987282, 0.13767623285800995, 0.13767623285800995, 0.06883811642900498, 0.6539621060755473, 0.41992627796141135, 0.1857366229444704, 0.0726795481087058, 0.3230202138164703, 0.6812906114709522, 0.10969933574532281, 0.09815203724581514, 0.028868246248769158, 0.08083108949655364, 0.9800104480614773, 0.983210981746962, 0.978492448619959, 0.9689764710445061, 0.9162789163167524, 0.07779726647972426, 0.9683642983891394, 0.020665897393980903, 0.9772017196296683, 0.10069379411359136, 0.8936574227581233, 0.468481505023277, 0.05621778060279324, 0.10306593110512094, 0.36541557391815604, 0.29453623553639097, 0.044180435330458644, 0.009817874517879698, 0.422168604268827, 0.2307200511701729, 0.30846876363121184, 0.4750418959920662, 0.21592813454184828, 0.28309813305379933, 0.2791933312185745, 0.3026221422299234, 0.10152484771584527, 0.03319081559941096, 0.9888278357881229, 0.8801415211523678, 0.016451243386025566, 0.08225621693012783, 0.016451243386025566, 0.18040792280679818, 0.2906572089665082, 0.2154872411303423, 0.31571386491189685, 0.08083826230554617, 0.8892208853610079, 0.023836190534746924, 0.7525425868827244, 0.17706884397240572, 0.04426721099310143, 0.9870269641237108, 0.9492432019007833, 0.043354417696300884, 0.9212813760463938, 0.03251581327222566, 0.39667838548469553, 0.3815668279424214, 0.09822512402478174, 0.12089246033819293, 0.35777531588779776, 0.4783300418934687, 0.12444358813488618, 0.038888621292151926, 0.980803524039024, 0.12031771577515028, 0.6531533142079587, 0.17761186614426946, 0.05156473533220727, 0.8073770752636602, 0.18997107653262593, 0.2712493885866844, 0.1356246942933422, 0.27714611442552534, 0.09434761342145544, 0.22407558187595666, 0.9957269085016803, 0.09234157256592578, 0.8926352014706158, 0.9717825534192482, 0.024294563835481207, 0.4520939704134298, 0.1069469607429619, 0.03888980390653159, 0.36945313711205013, 0.029167352929898697, 0.9951885046714672, 0.4187092466111697, 0.3279889098454163, 0.10118806793103269, 0.15003748003566916, 0.8579896038889625, 0.0389995274494983, 0.10139877136869557, 0.19702902221322743, 0.1860829654236037, 0.6129791802189298, 0.9720154843828561, 0.9734527859578052, 0.9812092366915398, 0.27360903758880956, 0.04828394780978992, 0.5472180751776191, 0.1287571941594398, 0.9855897250004467, 0.016832975677134064, 0.9145916784576176, 0.06733190270853626, 0.9799107538303949, 0.1295913745885386, 0.8293847973666469, 0.9472349810389931, 0.04241350661368626, 0.949336574710418, 0.9582299583172068, 0.07461992430506567, 0.12436654050844279, 0.7710725511523452, 0.9880775521895563, 0.009880775521895563, 0.36412916485638813, 0.24446230316649534, 0.2598480425266244, 0.05128579786709692, 0.08034774999178518, 0.033348727794376844, 0.013339491117750736, 0.9471038693603023, 0.9545228466470003, 0.93476117844606, 0.9246117778479671, 0.9584105418035126, 0.9437416137661787, 0.994729356948172, 0.056771359503879175, 0.13787330165227799, 0.8029092272691483, 0.9704843659917785, 0.9904594447743048, 0.27070054403506383, 0.2945858861558048, 0.17250524864979558, 0.2627387633281502, 0.9925237520300463, 0.09003870946386222, 0.06752903209789667, 0.8403612883293807, 0.9846535998219019, 0.9811703084524321, 0.9695178485928254, 0.4066767848232652, 0.1692381651127874, 0.13134902366962603, 0.2778537039165166, 0.015155656577264542, 0.9735685626255675, 0.0399529291102329, 0.8390115113148909, 0.04661175062860505, 0.07324703670209365, 0.9718340530856515, 0.02295670991540909, 0.926186436495182, 0.07386762990452371, 0.9375923869363928, 0.5625759807995583, 0.1434757534925048, 0.12082168715158298, 0.0830649099167133, 0.09061626536368723, 0.9561613051473998, 0.27258888161610945, 0.051110415303020525, 0.051110415303020525, 0.6303617887372531, 0.9152882002645468, 0.06423075089575767, 0.9860491746602222, 0.9712243354046589, 0.4424743783557402, 0.3422915002374594, 0.2128886160013467, 0.9846725270680498, 0.009701207163232018, 0.05965647572762815, 0.8829158407688966, 0.04772518058210252, 0.9938490614422062, 0.9843834102488981, 0.9881433769815935, 0.9896295547177213, 0.39513806403113805, 0.04473261102239299, 0.1863858792599708, 0.3727717585199416, 0.5538599581853365, 0.20870085380896736, 0.08026955915729514, 0.15652564035672553, 0.0948636532700182, 0.8853940971868365, 0.9929741548960713, 0.9742736667606179, 0.04345128046097877, 0.05793504061463837, 0.8979931295268947, 0.12189814751887958, 0.03750712231350141, 0.8345334714754064, 0.9769590835841582, 0.9891923627167527, 0.6002857833487573, 0.18838755966796103, 0.14049241737949636, 0.057474170746157606, 0.012772037943590579, 0.9735017767404783, 0.9651002378955951, 0.3116257867874562, 0.05445887536091468, 0.4780279059458066, 0.1543001468559249, 0.9713094732267193, 0.021538262507160986, 0.050255945850042304, 0.9261452878079225, 0.9730008857336885, 0.2163471011584501, 0.7692341374522671, 0.9157779922761361, 0.05592537357411518, 0.02796268678705759, 0.989032362784417, 0.9639616436135766, 0.16657108112872915, 0.825283992865067, 0.9879424867168145, 0.8635993342431674, 0.04227409328463057, 0.05435240565166787, 0.04227409328463057, 0.11214267984581378, 0.6308025741327025, 0.25699364131332325, 0.03204562827014988, 0.8438682111139469, 0.02136375218009992, 0.09613688481044964, 0.07639982750675739, 0.8949694079363009, 0.032742783217181735, 0.02685683641192089, 0.9578938320251783, 0.9840529586635508, 0.023608509316885413, 0.967948881992302, 0.9904032589270126, 0.9916530208212017, 0.9540953032337063, 0.047510153628209026, 0.9502030725641805, 0.9722408664481994, 0.9836737033703093, 0.9111231184495426, 0.6592616084193402, 0.01443638558582497, 0.13473959880103303, 0.06736979940051652, 0.1251153417438164, 0.9796573459939708, 0.9900201800199186, 0.21153698197272944, 0.5374182785253127, 0.13149596176683181, 0.12006153030884643, 0.37869809918920216, 0.1476280725652822, 0.4685586650985044, 0.9761169449519059, 0.8517390077703636, 0.03226284120342286, 0.11614622833232231, 0.14355998994658098, 0.026917498114983937, 0.07177999497329049, 0.7626624465912115, 0.910396688676854, 0.0601205360446979, 0.025765944019156245, 0.9889072829548203, 0.04807566116335924, 0.9454880028793984, 0.6853241032823525, 0.3141068806710782, 0.5639468576956327, 0.1231151590743987, 0.05957185116503163, 0.23431594791579108, 0.019857283721677207, 0.03985581330596618, 0.9565395193431883, 0.9708033150586707, 0.9886174499146632, 0.1031021894885204, 0.032558586154269605, 0.8628025330881445, 0.9573351055923849, 0.3795042306871314, 0.6110661341572454, 0.5941200618470956, 0.15152055268583647, 0.19139438234000397, 0.06778551041208473, 0.21440126105984855, 0.0186435879182477, 0.6991345469342888, 0.06525255771386695, 0.12053703796243376, 0.8808475851100928, 0.9873981941590319, 0.9600139422211744, 0.9821445940615746, 0.9902454853108502, 0.993437568496566, 0.9697687752512103, 0.9853163266160696, 0.9648518461083087, 0.9066788895590717, 0.07953323592623436, 0.9949038783658635, 0.9614218827316645, 0.07700576528794627, 0.8932668773401766, 0.02310172958638388, 0.9832274411184992, 0.09934122220336818, 0.8940709998303137, 0.48368387123612944, 0.32978445766099734, 0.07694970678756605, 0.10626388080187692, 0.9792349517009079, 0.9290633033571214, 0.2830141185812312, 0.019296417175993036, 0.6946710183357493, 0.40438311481974787, 0.2620402584031966, 0.14234285641655126, 0.18763376527636302, 0.8954100670118441, 0.10210816553643837, 0.034831117507314574, 0.8272390407987211, 0.017415558753657287, 0.11320113189877237, 0.14266272389911283, 0.8559763433946771, 0.9684958188445787, 0.2674008057681338, 0.5278561360617706, 0.13543677175269114, 0.06945475474496982, 0.35165631718214746, 0.21738754153078207, 0.2941125561887052, 0.03836250732896154, 0.09910314393315066, 0.3815503489109521, 0.317513926716107, 0.1680956082614684, 0.11206373884097894, 0.02134547406494837, 0.1764362493131667, 0.29616084706138696, 0.42848803404626196, 0.031506473091636907, 0.06301294618327381, 0.17938378413569317, 0.1865591355011209, 0.5345636767243657, 0.053815135240707954, 0.04305210819256636, 0.9949123942827194, 0.9930142721030779, 0.9748402578577824, 0.1891681319254523, 0.7910667335064369, 0.3759500742348234, 0.025750005084576946, 0.6025501189791005, 0.6702962424122957, 0.29167702598694034, 0.03645962824836754, 0.9694266086215101, 0.18295200533713787, 0.8136549711046395, 0.13408041680040783, 0.026071192155634856, 0.022346736133401306, 0.7709623966023451, 0.04469347226680261, 0.1707343412948578, 0.07256209505031457, 0.06829373651794311, 0.661595572517574, 0.02561015119422867, 0.9926276645937206, 0.13322686235223336, 0.02220447705870556, 0.7938100548487238, 0.049960073382087515, 0.9820497895288917, 0.9739175194013691, 0.3366255447271347, 0.4217958632725543, 0.09733750690905099, 0.1460062603635765, 0.3112868901844484, 0.2702380695007849, 0.085518376424299, 0.33181130052628016, 0.9892137360834956, 0.9731565716518024, 0.9710433940166265, 0.2880001182859271, 0.2560001051430463, 0.09600003942864235, 0.36000014785740886, 0.11657064822159709, 0.6729305601883104, 0.21194663313017653, 0.9860677281935504, 0.9801495305092351, 0.21067844658828438, 0.17775993930886494, 0.11850662620590996, 0.4937776091912915, 0.9786912291507368, 0.6270283601846939, 0.08749232932809682, 0.23914570016346462, 0.02916410977603227, 0.017498465865619362, 0.20391131497126494, 0.7929884471104748, 0.41750978512485065, 0.14314621204280592, 0.2743635730820447, 0.047715404014268645, 0.11133594269996017], \"Topic\": [1, 4, 5, 1, 3, 4, 5, 3, 3, 1, 2, 5, 3, 1, 3, 4, 4, 1, 2, 3, 4, 3, 5, 2, 1, 3, 1, 5, 2, 3, 3, 3, 3, 2, 1, 5, 1, 3, 5, 2, 1, 2, 3, 4, 5, 1, 2, 3, 4, 1, 3, 4, 5, 1, 4, 4, 5, 1, 2, 5, 2, 3, 1, 3, 4, 1, 1, 2, 3, 1, 1, 1, 2, 5, 3, 2, 1, 1, 5, 3, 3, 2, 1, 2, 3, 4, 5, 2, 3, 2, 2, 2, 3, 1, 3, 4, 5, 1, 3, 4, 5, 3, 4, 4, 1, 3, 5, 5, 4, 5, 2, 5, 1, 4, 1, 2, 1, 2, 3, 4, 5, 5, 1, 2, 3, 4, 3, 4, 5, 5, 1, 1, 1, 1, 1, 4, 1, 2, 3, 4, 5, 2, 1, 2, 4, 5, 1, 2, 3, 5, 1, 2, 3, 4, 5, 2, 3, 2, 5, 1, 3, 5, 1, 3, 1, 3, 1, 2, 4, 5, 1, 2, 3, 4, 5, 1, 4, 5, 1, 2, 3, 4, 5, 2, 1, 2, 3, 4, 1, 2, 3, 5, 4, 5, 1, 2, 3, 4, 2, 5, 1, 2, 4, 1, 2, 3, 4, 1, 2, 3, 4, 4, 1, 2, 3, 4, 1, 5, 1, 2, 3, 4, 5, 1, 2, 5, 1, 4, 1, 2, 3, 4, 5, 1, 1, 2, 3, 4, 1, 2, 3, 1, 4, 5, 5, 4, 1, 1, 2, 3, 4, 1, 1, 4, 5, 2, 2, 5, 4, 5, 5, 2, 2, 3, 5, 1, 4, 1, 2, 3, 4, 5, 1, 3, 5, 5, 5, 5, 5, 5, 2, 3, 4, 5, 5, 1, 1, 2, 3, 4, 2, 1, 3, 5, 3, 4, 2, 1, 2, 3, 4, 5, 4, 1, 2, 3, 4, 2, 3, 1, 4, 5, 1, 2, 3, 4, 5, 5, 1, 2, 3, 5, 4, 5, 4, 4, 1, 3, 4, 1, 2, 1, 2, 4, 1, 2, 3, 1, 1, 3, 4, 5, 1, 2, 3, 4, 3, 5, 3, 3, 1, 2, 3, 1, 2, 4, 4, 2, 1, 2, 3, 4, 5, 3, 3, 1, 2, 3, 4, 5, 1, 3, 4, 3, 1, 5, 1, 3, 5, 4, 4, 1, 4, 1, 1, 2, 3, 4, 1, 2, 3, 1, 2, 3, 4, 1, 2, 4, 3, 5, 3, 1, 2, 1, 1, 5, 2, 3, 4, 4, 5, 1, 2, 3, 4, 5, 2, 1, 1, 2, 3, 4, 1, 2, 3, 2, 1, 2, 4, 1, 2, 3, 5, 1, 3, 4, 3, 3, 5, 1, 3, 1, 2, 3, 4, 5, 2, 4, 2, 1, 1, 3, 4, 5, 1, 4, 1, 2, 3, 4, 1, 2, 3, 4, 1, 2, 3, 3, 4, 4, 4, 4, 3, 3, 4, 5, 1, 4, 2, 3, 5, 3, 2, 3, 1, 2, 3, 4, 2, 5, 1, 2, 4, 1, 2, 3, 4, 1, 5, 1, 2, 3, 4, 1, 4, 3, 1, 2, 3, 4, 1, 2, 3, 4, 5, 1, 2, 3, 4, 5, 1, 2, 3, 4, 5, 1, 2, 3, 4, 5, 1, 1, 4, 4, 5, 1, 2, 3, 1, 3, 4, 2, 1, 2, 1, 2, 3, 4, 5, 1, 2, 3, 4, 5, 4, 1, 2, 4, 5, 4, 4, 1, 2, 3, 4, 1, 2, 3, 4, 4, 4, 2, 1, 2, 4, 5, 1, 2, 3, 4, 4, 1, 2, 3, 4, 1, 1, 2, 3, 4, 5, 1, 3, 1, 2, 3, 4, 5], \"Term\": [\"access\", \"access\", \"accounting\", \"act\", \"act\", \"act\", \"act\", \"actor\", \"actress\", \"agreed\", \"agreed\", \"agreed\", \"album\", \"analysts\", \"analysts\", \"anti-virus\", \"apple\", \"around\", \"around\", \"around\", \"around\", \"arrested\", \"arrested\", \"arsenal\", \"artists\", \"artists\", \"asylum\", \"attorney\", \"award\", \"award\", \"awards\", \"awards,\", \"awards.\", \"ball\", \"ban\", \"ban\", \"band\", \"band\", \"bankruptcy\", \"barcelona\", \"bbc\", \"bbc\", \"bbc\", \"bbc\", \"bbc\", \"best\", \"best\", \"best\", \"best\", \"bill\", \"bill\", \"bill\", \"bill\", \"blair\", \"blog\", \"blogs\", \"boeing\", \"boss\", \"boss\", \"boss\", \"box\", \"box\", \"british\", \"british\", \"british\", \"broadband\", \"brown\", \"brown\", \"brown\", \"bt\", \"budget\", \"case\", \"case\", \"case\", \"ceremony\", \"champions\", \"chancellor\", \"charges\", \"charges\", \"chart\", \"charts\", \"chelsea\", \"chief\", \"chief\", \"chief\", \"chief\", \"chief\", \"club\", \"club\", \"club.\", \"clubs\", \"coach\", \"comedy\", \"committee\", \"committee\", \"committee\", \"committee\", \"company\", \"company\", \"company\", \"company\", \"computer\", \"computer\", \"computers\", \"consumer\", \"court\", \"court\", \"courts\", \"criminal\", \"criminal\", \"cup\", \"damages\", \"data\", \"data\", \"debt\", \"defender\", \"director\", \"director\", \"director\", \"director\", \"director\", \"dogs\", \"don't\", \"don't\", \"don't\", \"don't\", \"drama\", \"e-mail\", \"e-mail\", \"ebbers\", \"economic\", \"economy\", \"education\", \"election\", \"eu\", \"eu\", \"european\", \"european\", \"european\", \"european\", \"european\", \"everton\", \"evidence\", \"evidence\", \"evidence\", \"evidence\", \"executive\", \"executive\", \"executive\", \"executive\", \"expected\", \"expected\", \"expected\", \"expected\", \"expected\", \"fa\", \"favourite\", \"ferguson\", \"fiat\", \"figures\", \"figures\", \"filed\", \"film\", \"film\", \"films\", \"films\", \"financial\", \"financial\", \"financial\", \"financial\", \"firm\", \"firm\", \"firm\", \"firm\", \"firm\", \"firms\", \"firms\", \"firms\", \"first\", \"first\", \"first\", \"first\", \"first\", \"football\", \"foreign\", \"foreign\", \"foreign\", \"foreign\", \"former\", \"former\", \"former\", \"former\", \"fraud\", \"fraud\", \"game\", \"game\", \"game\", \"game\", \"gerrard\", \"gm\", \"goal\", \"goal\", \"goal\", \"going\", \"going\", \"going\", \"going\", \"good\", \"good\", \"good\", \"good\", \"google\", \"got\", \"got\", \"got\", \"got\", \"government\", \"government\", \"group\", \"group\", \"group\", \"group\", \"group\", \"growth\", \"guilty\", \"guilty\", \"health\", \"health\", \"help\", \"help\", \"help\", \"help\", \"help\", \"higher\", \"home\", \"home\", \"home\", \"home\", \"howard\", \"howard\", \"howard\", \"human\", \"human\", \"human\", \"hunting\", \"ibm\", \"immigration\", \"including\", \"including\", \"including\", \"including\", \"increase\", \"information\", \"information\", \"information\", \"injury\", \"inquiry\", \"inquiry\", \"internet\", \"internet\", \"jail\", \"jose\", \"judge\", \"judge\", \"judge\", \"labour\", \"labour\", \"last\", \"last\", \"last\", \"last\", \"last\", \"law\", \"law\", \"law\", \"law.\", \"laws.\", \"lawsuit\", \"lawyer\", \"lawyers\", \"league\", \"legal\", \"legal\", \"legal\", \"legislation\", \"liberal\", \"like\", \"like\", \"like\", \"like\", \"liverpool\", \"lord\", \"lord\", \"lord\", \"los\", \"machines\", \"madrid\", \"make\", \"make\", \"make\", \"make\", \"make\", \"malicious\", \"manager\", \"manager\", \"manager\", \"manager\", \"manchester\", \"manchester\", \"market\", \"market\", \"marsh\", \"may\", \"may\", \"may\", \"may\", \"may\", \"mcconnell\", \"men\", \"men\", \"men\", \"men\", \"messages\", \"messages\", \"microsoft\", \"microsoft's\", \"million\", \"million\", \"million\", \"minister\", \"minister\", \"minutes\", \"minutes\", \"minutes\", \"mobile\", \"mourinho\", \"movie\", \"mps\", \"ms\", \"ms\", \"ms\", \"ms\", \"much\", \"much\", \"much\", \"much\", \"murder\", \"murder\", \"music\", \"musical\", \"named\", \"named\", \"named\", \"net\", \"net\", \"net\", \"networks\", \"newcastle\", \"next\", \"next\", \"next\", \"next\", \"next\", \"nominated\", \"nominations\", \"number\", \"number\", \"number\", \"number\", \"officers\", \"online\", \"online\", \"online\", \"oscar\", \"parliament\", \"parliament\", \"party\", \"party\", \"party\", \"pc\", \"pcs\", \"phone\", \"phone\", \"phones\", \"plans\", \"plans\", \"plans\", \"plans\", \"play\", \"play\", \"play\", \"player\", \"player\", \"player\", \"player\", \"players\", \"players\", \"players\", \"police\", \"police\", \"pop\", \"premiership\", \"premiership\", \"prices\", \"prime\", \"prison\", \"prize\", \"prize\", \"program\", \"programs\", \"prosecutors\", \"public\", \"public\", \"public\", \"public\", \"public\", \"rangers\", \"rates\", \"real\", \"real\", \"real\", \"real\", \"record\", \"record\", \"record\", \"referee\", \"report\", \"report\", \"report\", \"rights\", \"rights\", \"rights\", \"rights\", \"rise\", \"rise\", \"rise\", \"rock\", \"russian\", \"russian\", \"sales\", \"sales\", \"says\", \"says\", \"says\", \"says\", \"says\", \"search\", \"search\", \"season.\", \"secretary\", \"security\", \"security\", \"security\", \"sentence\", \"service\", \"service\", \"set\", \"set\", \"set\", \"set\", \"show\", \"show\", \"show\", \"show\", \"side\", \"side\", \"singer\", \"singles\", \"site\", \"sites\", \"software\", \"software.\", \"song\", \"songs\", \"spam\", \"spam\", \"spending\", \"spyware\", \"star\", \"star\", \"star\", \"starring\", \"stars\", \"stars\", \"still\", \"still\", \"still\", \"still\", \"striker\", \"sullivan\", \"system\", \"system\", \"system\", \"take\", \"take\", \"take\", \"take\", \"tax\", \"tax\", \"team\", \"team\", \"team\", \"team\", \"technology\", \"technology\", \"theatre\", \"think\", \"think\", \"think\", \"think\", \"three\", \"three\", \"three\", \"three\", \"three\", \"time\", \"time\", \"time\", \"time\", \"time\", \"took\", \"took\", \"took\", \"took\", \"took\", \"top\", \"top\", \"top\", \"top\", \"top\", \"tories\", \"tory\", \"traffic\", \"trial\", \"trial\", \"tv\", \"tv\", \"tv\", \"uk\", \"uk\", \"uk\", \"ukip\", \"united\", \"united\", \"use\", \"use\", \"use\", \"use\", \"use\", \"used\", \"used\", \"used\", \"used\", \"used\", \"users\", \"using\", \"using\", \"using\", \"using\", \"virus\", \"viruses\", \"want\", \"want\", \"want\", \"want\", \"way\", \"way\", \"way\", \"way\", \"web\", \"websites\", \"wenger\", \"whether\", \"whether\", \"whether\", \"whether\", \"win\", \"win\", \"win\", \"windows\", \"wireless\", \"without\", \"without\", \"without\", \"without\", \"women\", \"year\", \"year\", \"year\", \"year\", \"year\", \"year's\", \"year's\", \"years\", \"years\", \"years\", \"years\", \"years\"]}, \"tinfo\": {\"Freq\": [338.0, 469.0, 379.0, 149.0, 197.0, 131.0, 133.0, 268.0, 195.0, 213.0, 189.0, 197.0, 111.0, 155.0, 184.0, 123.0, 178.0, 178.0, 293.0, 111.0, 207.0, 157.0, 199.0, 200.0, 180.0, 147.0, 131.0, 141.0, 104.0, 183.0, 212.4863133119164, 205.470616280967, 141.81125283738655, 141.317811524991, 136.34661422092265, 128.62417179118705, 114.22134092732531, 107.43382555164662, 105.74482575789212, 104.91311337117644, 104.20960191036498, 98.89832218352947, 90.30029030977892, 85.44465210390611, 79.76850059280859, 71.57005066579308, 200.16654271120484, 70.9458873024058, 68.78252887191522, 66.8472443260744, 64.85709724525856, 63.12752954353987, 61.50162487561248, 203.42506597325857, 59.13643993903283, 59.00120935223097, 57.4429149792676, 54.47530028852131, 53.21685265163727, 52.217202107644646, 79.64492574018897, 162.86604875647834, 80.63731357770568, 130.65148438135932, 306.46147985922033, 105.80792938138545, 105.60195395801281, 142.76915134731559, 113.67351324570927, 132.06920801338913, 110.23070307498243, 107.36465270724275, 103.25268791415242, 238.58241190060582, 110.23409851839752, 214.8392399792644, 188.35761758307274, 137.10112870642882, 148.6853897694185, 213.10806878991326, 148.68900725031327, 142.32564506815612, 137.68134417151504, 160.50486962752896, 119.7572746782936, 143.38206982953298, 132.43295218289916, 144.9388469522185, 117.58900946120478, 124.73861595684409, 120.42553466865029, 119.76283839219242, 177.29853455525722, 156.7779138971856, 146.6949789427791, 135.61958824292535, 122.32444220665249, 113.80475063336296, 86.74858041803988, 79.73331887083039, 76.49623204261633, 194.07479688018216, 59.89789861457687, 58.22089545252719, 58.17595040242098, 50.50325006211204, 48.807153152489285, 48.377402965731676, 45.550641608514724, 44.26932823252133, 43.297981049805486, 43.03950451913098, 41.16367532343692, 40.94920229436261, 127.23404124931989, 38.745581232349615, 38.144467327780994, 38.060009362544605, 37.80505304842312, 36.897029773621895, 35.693580962876325, 35.4717175595189, 81.94301568789338, 105.59540868693459, 163.5559343684377, 84.59710597760188, 94.76091010760479, 169.4026443551365, 125.63319521070228, 220.86797620882564, 74.08354991461486, 94.85859092523695, 78.7398036016602, 126.57086620516972, 135.33678805824292, 113.64886970329107, 151.65806517211763, 122.648083520528, 108.39832947652991, 94.36308945121944, 143.31768607719678, 142.7559971223821, 119.44911646696904, 104.46588695964205, 111.26840707241855, 101.14237217666819, 94.30372737913301, 89.89610757721698, 194.34943664640542, 93.70991013833519, 92.90887649386639, 88.03752661112121, 85.24349083975915, 75.9467391113036, 71.78441310162901, 64.50614394924558, 59.44841767203173, 59.18774257857942, 56.90049044038715, 54.40268392362571, 48.812653763894296, 47.55272530116112, 45.225451826259544, 331.119840403722, 42.11999725317133, 40.43392062070158, 40.36176405753145, 106.32939550266698, 38.58461634148607, 37.62565530983741, 37.33388755069621, 36.47623400341841, 36.14782189479269, 121.73549441320611, 33.85552223325464, 33.80572067645594, 32.13395622418932, 31.344494994283895, 59.61650593257396, 389.7576553795097, 116.21625649565458, 71.41823381302795, 62.1977893092521, 47.60024493515475, 150.45273973409638, 53.86807305106637, 62.405808233294074, 69.68132058565247, 149.32251752006408, 116.67029231371697, 158.4002557922347, 101.68953326884912, 94.01922940971257, 155.41272982382748, 91.47322794695208, 151.83934661250458, 104.24835218863181, 92.44315715727257, 82.49482491378424, 86.79572595893363, 73.499923260343, 81.93642550759277, 67.90125094885077, 69.43169194381727, 196.34922390567357, 153.91080453550154, 106.39322385946834, 88.49335572849789, 73.62245877341847, 66.62407387778426, 65.62540535882952, 64.811907153606, 62.35574207407154, 56.935377854727044, 51.89144895000255, 50.89169603359007, 50.27270789053628, 48.706780345145525, 44.99629835519885, 42.46371252117296, 41.00662421614464, 40.03558235051674, 39.70361382350795, 37.87425969116121, 37.37818014202789, 36.88441101521272, 36.43533919934079, 36.015765302422885, 35.17877007217762, 32.8712460001349, 127.49498535076904, 32.198826565682396, 31.766192205257706, 30.819838556674426, 119.80320555476727, 134.22857763085307, 88.61877281739612, 128.67738681985836, 162.8848760080584, 158.98447571799645, 161.61397325130145, 178.15678663854564, 207.24942822456453, 143.18861348235257, 109.38088183729246, 56.85786348761257, 105.61705465000895, 56.71291598976755, 154.54611383509766, 108.2480475789869, 95.4776674462217, 71.40010798793972, 110.3776114806362, 85.71123019591482, 96.81363154292559, 99.12816921923782, 76.69710204543159, 75.47006161280619, 75.9533462431537, 70.34676091235491, 42.02441809914927, 127.59390214442068, 32.966092797467944, 29.77573399238155, 107.36250774893777, 24.900084883106807, 24.017073797103166, 23.96994968102708, 23.599291060784534, 23.524141589555942, 22.514735840712234, 142.2414408446976, 20.81575096767737, 20.751122436014413, 58.95577484429064, 19.416255736979174, 18.947859128295697, 18.90523346714704, 18.79944754856446, 18.68635404500288, 18.282859913559072, 18.18958246808482, 17.473520588849198, 16.724233581259824, 16.594346563620977, 15.880214876644413, 15.669104935976888, 15.261518404357139, 14.862109405875293, 14.55084337199769, 34.05732105192827, 44.39618177273146, 111.81820451603652, 35.79380961401682, 98.86763807159876, 28.7196921218631, 38.96542197696023, 84.59544903550699, 27.82430390576684, 46.40030843737934, 32.34755094875456, 71.213993514199, 67.55485468888367, 55.964380238404075, 31.78525162731919, 31.00631515886161, 37.82697644461753, 36.51340264610153, 31.73153498768067, 62.91625402418606, 59.21376434942602, 49.76532416590661, 38.284563106571994, 71.85232607852286, 52.520115633786126, 38.30491887084204, 44.716976370664874, 46.7076542234992, 39.45363639925313, 40.21039683634915, 37.38129479646851, 47.27148762740068, 41.44071061508175, 37.98706163782915], \"logprob\": [30.0, 29.0, 28.0, 27.0, 26.0, 25.0, 24.0, 23.0, 22.0, 21.0, 20.0, 19.0, 18.0, 17.0, 16.0, 15.0, 14.0, 13.0, 12.0, 11.0, 10.0, 9.0, 8.0, 7.0, 6.0, 5.0, 4.0, 3.0, 2.0, 1.0, -6.0368, -6.0704, -6.4412, -6.4447, -6.4805, -6.5388, -6.6575, -6.7188, -6.7347, -6.7426, -6.7493, -6.8016, -6.8925, -6.9478, -7.0166, -7.125, -6.0965, -7.1338, -7.1647, -7.1933, -7.2235, -7.2505, -7.2766, -6.0804, -7.3158, -7.3181, -7.3449, -7.3979, -7.4213, -7.4403, -7.0181, -6.3028, -7.0057, -6.5232, -5.6706, -6.7341, -6.736, -6.4345, -6.6624, -6.5124, -6.6931, -6.7195, -6.7585, -5.921, -6.6931, -6.0258, -6.1573, -6.475, -6.3939, -6.0339, -6.3938, -6.4376, -6.4707, -6.3174, -6.6102, -6.4302, -6.5096, -6.4194, -6.6285, -6.5695, -6.6047, -6.6102, -5.5203, -5.6433, -5.7098, -5.7883, -5.8915, -5.9637, -6.2352, -6.3195, -6.3609, -5.4299, -6.6055, -6.6339, -6.6347, -6.7761, -6.8103, -6.8191, -6.8793, -6.9079, -6.9301, -6.9361, -6.9806, -6.9858, -5.8521, -7.0412, -7.0568, -7.059, -7.0657, -7.09, -7.1232, -7.1294, -6.2921, -6.0386, -5.601, -6.2603, -6.1468, -5.5659, -5.8648, -5.3006, -6.393, -6.1458, -6.332, -5.8574, -5.7904, -5.9651, -5.6765, -5.8889, -6.0124, -6.151, -5.7331, -5.737, -5.9153, -6.0493, -5.9862, -6.0816, -6.1516, -6.1995, -5.3705, -6.0999, -6.1085, -6.1624, -6.1946, -6.3101, -6.3665, -6.4734, -6.555, -6.5594, -6.5988, -6.6437, -6.7521, -6.7783, -6.8285, -4.8377, -6.8996, -6.9405, -6.9423, -5.9736, -6.9873, -7.0125, -7.0202, -7.0435, -7.0525, -5.8383, -7.118, -7.1195, -7.1702, -7.1951, -6.5522, -4.6746, -5.8847, -6.3716, -6.5098, -6.7773, -5.6265, -6.6536, -6.5065, -6.3962, -5.634, -5.8808, -5.575, -6.0182, -6.0966, -5.5941, -6.1241, -5.6173, -5.9934, -6.1135, -6.2274, -6.1766, -6.3429, -6.2342, -6.4221, -6.3998, -5.1389, -5.3825, -5.7517, -5.9359, -6.1199, -6.2198, -6.2349, -6.2473, -6.286, -6.3769, -6.4697, -6.4891, -6.5014, -6.533, -6.6122, -6.6702, -6.7051, -6.7291, -6.7374, -6.7846, -6.7977, -6.811, -6.8233, -6.8349, -6.8584, -6.9262, -5.5707, -6.9469, -6.9604, -6.9907, -5.633, -5.5193, -5.9345, -5.5615, -5.3258, -5.35, -5.3336, -5.2362, -5.0849, -5.4547, -5.724, -6.3783, -5.759, -6.3808, -5.3783, -5.7344, -5.8599, -6.1505, -5.7149, -5.9678, -5.846, -5.8224, -6.079, -6.0951, -6.0887, -6.1654, -5.8502, -4.7396, -6.093, -6.1948, -4.9122, -6.3736, -6.4097, -6.4117, -6.4272, -6.4304, -6.4743, -4.6309, -6.5527, -6.5559, -5.5117, -6.6223, -6.6468, -6.649, -6.6546, -6.6607, -6.6825, -6.6876, -6.7278, -6.7716, -6.7794, -6.8234, -6.8368, -6.8631, -6.8896, -6.9108, -6.0604, -5.7953, -4.8716, -6.0107, -4.9947, -6.2309, -5.9258, -5.1506, -6.2625, -5.7511, -6.1119, -5.3228, -5.3755, -5.5637, -6.1295, -6.1543, -5.9554, -5.9908, -6.1311, -5.4467, -5.5073, -5.6811, -5.9434, -5.3138, -5.6273, -5.9429, -5.7881, -5.7445, -5.9133, -5.8943, -5.9673, -5.7325, -5.8642, -5.9512], \"loglift\": [30.0, 29.0, 28.0, 27.0, 26.0, 25.0, 24.0, 23.0, 22.0, 21.0, 20.0, 19.0, 18.0, 17.0, 16.0, 15.0, 14.0, 13.0, 12.0, 11.0, 10.0, 9.0, 8.0, 7.0, 6.0, 5.0, 4.0, 3.0, 2.0, 1.0, 0.9158, 0.9157, 0.9139, 0.9139, 0.9137, 0.9134, 0.9126, 0.9122, 0.912, 0.912, 0.9119, 0.9115, 0.9108, 0.9103, 0.9096, 0.9085, 0.9084, 0.9084, 0.908, 0.9077, 0.9073, 0.907, 0.9067, 0.9062, 0.9061, 0.9061, 0.9058, 0.905, 0.9047, 0.9044, 0.8865, 0.8421, 0.8777, 0.8289, 0.7071, 0.8303, 0.8219, 0.7713, 0.8062, 0.7596, 0.7926, 0.7953, 0.8021, 0.5178, 0.7685, 0.452, 0.4111, 0.5037, 0.3968, -0.0902, 0.3422, 0.349, 0.3264, 0.0167, 0.5397, -0.0413, 0.1965, -0.3428, 0.5323, 0.0121, 0.0525, -0.0988, 1.6111, 1.6104, 1.6099, 1.6093, 1.6085, 1.6079, 1.605, 1.6039, 1.6034, 1.6011, 1.5996, 1.5991, 1.5991, 1.5964, 1.5957, 1.5955, 1.5942, 1.5935, 1.593, 1.5929, 1.5918, 1.5917, 1.5903, 1.5902, 1.5898, 1.5898, 1.5896, 1.5889, 1.588, 1.5878, 1.5838, 1.5369, 1.5034, 1.5303, 1.4877, 1.4132, 1.4386, 1.3322, 1.4937, 1.4259, 1.444, 1.2176, 1.1588, 1.188, 0.9759, 0.8768, 0.8893, 0.9999, 0.3434, 0.2067, 0.4736, 0.7583, 0.3973, 0.655, 0.5055, 0.5066, 1.6699, 1.6642, 1.6641, 1.6635, 1.6632, 1.6617, 1.6609, 1.6594, 1.658, 1.658, 1.6573, 1.6565, 1.6544, 1.6538, 1.6527, 1.6524, 1.6511, 1.6501, 1.6501, 1.6494, 1.6489, 1.6483, 1.6481, 1.6474, 1.6472, 1.6461, 1.6453, 1.6453, 1.6438, 1.643, 1.6176, 1.4889, 1.5641, 1.5685, 1.5707, 1.6043, 1.3202, 1.5607, 1.5076, 1.4386, 1.051, 1.1657, 0.9395, 1.0691, 1.0131, 0.4825, 0.9448, 0.3264, 0.4454, 0.4561, 0.609, 0.3348, 0.9238, 0.2436, 0.8262, 0.388, 1.8908, 1.8893, 1.8861, 1.884, 1.8815, 1.8799, 1.8797, 1.8795, 1.8788, 1.8772, 1.8753, 1.8749, 1.8746, 1.874, 1.8721, 1.8707, 1.8698, 1.8692, 1.8689, 1.8676, 1.8672, 1.8669, 1.8665, 1.8662, 1.8654, 1.8633, 1.863, 1.8626, 1.8622, 1.8611, 1.8503, 1.8439, 1.8509, 1.8172, 1.8064, 1.7487, 1.7385, 1.7164, 1.6375, 1.6668, 1.7079, 1.8054, 1.6499, 1.7934, 1.4804, 1.5344, 1.4089, 1.4919, 0.6192, 1.0307, 0.7913, 0.5611, 1.1481, 1.197, 0.9001, 1.0561, 2.699, 2.6959, 2.6915, 2.6878, 2.6871, 2.6803, 2.6786, 2.6785, 2.6778, 2.6776, 2.6755, 2.6741, 2.6714, 2.6713, 2.67, 2.6676, 2.6661, 2.666, 2.6657, 2.6653, 2.664, 2.6637, 2.6612, 2.6583, 2.6578, 2.6548, 2.6539, 2.652, 2.6501, 2.6485, 2.628, 2.6183, 2.5512, 2.6092, 2.5059, 2.6035, 2.5656, 2.4511, 2.5988, 2.5011, 2.5505, 2.3401, 2.3526, 2.2367, 2.4577, 2.467, 2.2975, 2.2521, 2.3687, 1.5725, 1.507, 1.7353, 2.0485, 1.0638, 1.5311, 2.0341, 1.6988, 1.254, 1.7316, 1.602, 1.8517, 0.2112, 1.1152, 1.2307], \"Category\": [\"Default\", \"Default\", \"Default\", \"Default\", \"Default\", \"Default\", \"Default\", \"Default\", \"Default\", \"Default\", \"Default\", \"Default\", \"Default\", \"Default\", \"Default\", \"Default\", \"Default\", \"Default\", \"Default\", \"Default\", \"Default\", \"Default\", \"Default\", \"Default\", \"Default\", \"Default\", \"Default\", \"Default\", \"Default\", \"Default\", \"Topic1\", \"Topic1\", \"Topic1\", \"Topic1\", \"Topic1\", \"Topic1\", \"Topic1\", \"Topic1\", \"Topic1\", \"Topic1\", \"Topic1\", \"Topic1\", \"Topic1\", \"Topic1\", \"Topic1\", \"Topic1\", \"Topic1\", \"Topic1\", \"Topic1\", \"Topic1\", \"Topic1\", \"Topic1\", \"Topic1\", \"Topic1\", \"Topic1\", \"Topic1\", \"Topic1\", \"Topic1\", \"Topic1\", \"Topic1\", \"Topic1\", \"Topic1\", \"Topic1\", \"Topic1\", \"Topic1\", \"Topic1\", \"Topic1\", \"Topic1\", \"Topic1\", \"Topic1\", \"Topic1\", \"Topic1\", \"Topic1\", \"Topic1\", \"Topic1\", \"Topic1\", \"Topic1\", \"Topic1\", \"Topic1\", \"Topic1\", \"Topic1\", \"Topic1\", \"Topic1\", \"Topic1\", \"Topic1\", \"Topic1\", \"Topic1\", \"Topic1\", \"Topic1\", \"Topic1\", \"Topic1\", \"Topic1\", \"Topic2\", \"Topic2\", \"Topic2\", \"Topic2\", \"Topic2\", \"Topic2\", \"Topic2\", \"Topic2\", \"Topic2\", \"Topic2\", \"Topic2\", \"Topic2\", \"Topic2\", \"Topic2\", \"Topic2\", \"Topic2\", \"Topic2\", \"Topic2\", \"Topic2\", \"Topic2\", \"Topic2\", \"Topic2\", \"Topic2\", \"Topic2\", \"Topic2\", \"Topic2\", \"Topic2\", \"Topic2\", \"Topic2\", \"Topic2\", \"Topic2\", \"Topic2\", \"Topic2\", \"Topic2\", \"Topic2\", \"Topic2\", \"Topic2\", \"Topic2\", \"Topic2\", \"Topic2\", \"Topic2\", \"Topic2\", \"Topic2\", \"Topic2\", \"Topic2\", \"Topic2\", \"Topic2\", \"Topic2\", \"Topic2\", \"Topic2\", \"Topic2\", \"Topic2\", \"Topic2\", \"Topic2\", \"Topic2\", \"Topic2\", \"Topic3\", \"Topic3\", \"Topic3\", \"Topic3\", \"Topic3\", \"Topic3\", \"Topic3\", \"Topic3\", \"Topic3\", \"Topic3\", \"Topic3\", \"Topic3\", \"Topic3\", \"Topic3\", \"Topic3\", \"Topic3\", \"Topic3\", \"Topic3\", \"Topic3\", \"Topic3\", \"Topic3\", \"Topic3\", \"Topic3\", \"Topic3\", \"Topic3\", \"Topic3\", \"Topic3\", \"Topic3\", \"Topic3\", \"Topic3\", \"Topic3\", \"Topic3\", \"Topic3\", \"Topic3\", \"Topic3\", \"Topic3\", \"Topic3\", \"Topic3\", \"Topic3\", \"Topic3\", \"Topic3\", \"Topic3\", \"Topic3\", \"Topic3\", \"Topic3\", \"Topic3\", \"Topic3\", \"Topic3\", \"Topic3\", \"Topic3\", \"Topic3\", \"Topic3\", \"Topic3\", \"Topic3\", \"Topic3\", \"Topic3\", \"Topic4\", \"Topic4\", \"Topic4\", \"Topic4\", \"Topic4\", \"Topic4\", \"Topic4\", \"Topic4\", \"Topic4\", \"Topic4\", \"Topic4\", \"Topic4\", \"Topic4\", \"Topic4\", \"Topic4\", \"Topic4\", \"Topic4\", \"Topic4\", \"Topic4\", \"Topic4\", \"Topic4\", \"Topic4\", \"Topic4\", \"Topic4\", \"Topic4\", \"Topic4\", \"Topic4\", \"Topic4\", \"Topic4\", \"Topic4\", \"Topic4\", \"Topic4\", \"Topic4\", \"Topic4\", \"Topic4\", \"Topic4\", \"Topic4\", \"Topic4\", \"Topic4\", \"Topic4\", \"Topic4\", \"Topic4\", \"Topic4\", \"Topic4\", \"Topic4\", \"Topic4\", \"Topic4\", \"Topic4\", \"Topic4\", \"Topic4\", \"Topic4\", \"Topic4\", \"Topic4\", \"Topic4\", \"Topic4\", \"Topic4\", \"Topic5\", \"Topic5\", \"Topic5\", \"Topic5\", \"Topic5\", \"Topic5\", \"Topic5\", \"Topic5\", \"Topic5\", \"Topic5\", \"Topic5\", \"Topic5\", \"Topic5\", \"Topic5\", \"Topic5\", \"Topic5\", \"Topic5\", \"Topic5\", \"Topic5\", \"Topic5\", \"Topic5\", \"Topic5\", \"Topic5\", \"Topic5\", \"Topic5\", \"Topic5\", \"Topic5\", \"Topic5\", \"Topic5\", \"Topic5\", \"Topic5\", \"Topic5\", \"Topic5\", \"Topic5\", \"Topic5\", \"Topic5\", \"Topic5\", \"Topic5\", \"Topic5\", \"Topic5\", \"Topic5\", \"Topic5\", \"Topic5\", \"Topic5\", \"Topic5\", \"Topic5\", \"Topic5\", \"Topic5\", \"Topic5\", \"Topic5\", \"Topic5\", \"Topic5\", \"Topic5\", \"Topic5\", \"Topic5\", \"Topic5\", \"Topic5\", \"Topic5\", \"Topic5\", \"Topic5\", \"Topic5\", \"Topic5\", \"Topic5\", \"Topic5\"], \"Total\": [338.0, 469.0, 379.0, 149.0, 197.0, 131.0, 133.0, 268.0, 195.0, 213.0, 189.0, 197.0, 111.0, 155.0, 184.0, 123.0, 178.0, 178.0, 293.0, 111.0, 207.0, 157.0, 199.0, 200.0, 180.0, 147.0, 131.0, 141.0, 104.0, 183.0, 213.2844434163592, 206.2687463854098, 142.60938294182935, 142.1159416294338, 137.14474432536545, 129.42230189562986, 115.01947103176809, 108.2319556560894, 106.54295586233489, 105.71124347561921, 105.00773201480776, 99.69645228797225, 91.09842041422169, 86.24278220834888, 80.56663069725137, 72.36818077023585, 202.41326154693502, 71.74401740684857, 69.580658976358, 67.64537443051718, 65.65522734970133, 63.92565964798266, 62.29975498005527, 206.15991044703014, 59.934570043475624, 59.79933945667376, 58.24104508371039, 55.2734303929641, 54.01498275608006, 53.015332212087436, 82.32294325362955, 175.9904848281029, 84.08626950930402, 143.0477704256725, 379.0050638978961, 115.68529856181522, 116.43276092541323, 165.58604705887242, 127.31596862702243, 154.97705141571768, 125.15401970818078, 121.57135804694805, 116.12620038539443, 356.55876443507253, 128.2066816444034, 342.887202002587, 313.1841619690246, 207.80824827411706, 250.79105986888396, 584.9572639533194, 264.8531133309931, 251.79677493058875, 249.16045646654507, 395.8917892742952, 175.09963450177992, 374.78671008468655, 272.90552331764434, 512.189884249235, 173.2006841327669, 309.11280767921835, 286.59505604717833, 331.5642275573701, 178.35249613591589, 157.83187547784428, 147.74894052343777, 136.673549823584, 123.37840378731111, 114.85871221402158, 87.8025419986985, 80.78728045148901, 77.55019362327495, 197.20118736300483, 60.95186019523551, 59.27485703318583, 59.229911983079624, 51.55721164277068, 49.86111473314793, 49.43136454639032, 46.60460318917337, 45.323289813179976, 44.35194263046413, 44.09346609978962, 42.21763690409556, 42.00316387502125, 130.68074698222887, 39.79954281300826, 39.19842890843964, 39.11397094320325, 38.85901462908176, 37.95099135428054, 36.74754254353497, 36.525679140177544, 84.71521743092642, 114.40545073844599, 183.24648702592597, 92.26280071433852, 107.85066747742337, 207.7047471000652, 150.1767238002897, 293.67108765957516, 83.81319779646984, 114.83984110357629, 93.6165137631102, 188.72675356646127, 214.01307720662524, 174.5378879968499, 287.95724746905796, 257.14462657019135, 224.42925651826576, 174.91031428617953, 512.189884249235, 584.9572639533194, 374.78671008468655, 246.56476996503332, 376.8001293221928, 264.6980623148953, 286.59505604717833, 272.90552331764434, 195.37265803288184, 94.7331315248116, 93.9320978803428, 89.06074799759762, 86.26671222623555, 76.96996049778001, 72.80763448810542, 65.52936533572199, 60.471639058508146, 60.21096396505583, 57.92371182686357, 55.425905310102124, 49.83587515037071, 48.57594668763753, 46.24867321273596, 338.7222856356, 43.14321863964774, 41.45714200717799, 41.38498544400787, 109.0953866274128, 39.60783772796248, 38.64887669631383, 38.357108937172626, 37.49945538989483, 37.17104328126911, 125.31722932121957, 34.878743619731054, 34.828942062932356, 33.157177610665734, 32.367716380760314, 63.14439695304959, 469.50499436392346, 129.8604067189928, 79.44878897874584, 69.04284449555259, 51.09485360241789, 214.55097685810455, 60.39788787495478, 73.78573016337884, 88.2736693769865, 278.7319948729478, 194.17471893994954, 330.5246368146387, 186.397351671712, 182.27551691902912, 512.189884249235, 189.87412786603738, 584.9572639533194, 356.55876443507253, 312.8054143359048, 239.56189371665312, 331.5642275573701, 155.79692669786252, 342.887202002587, 158.69754718204882, 251.49111168400802, 197.45570971994033, 155.0172903497683, 107.4997096737351, 89.59984154276465, 74.72894458768523, 67.73055969205102, 66.73189117309629, 65.91839296787276, 63.46222788833831, 58.04186366899381, 52.99793476426932, 51.99818184785684, 51.37919370480305, 49.813266159412294, 46.10278416946562, 43.57019833543973, 42.113110030411406, 41.14206816478351, 40.81009963777472, 38.980745505427976, 38.484665956294656, 37.99089682947949, 37.54182501360756, 37.122251116689654, 36.28525588644439, 33.97773181440167, 131.8289523303466, 33.305312379949164, 32.87267801952447, 31.926324370941188, 125.45221349808786, 141.464370174568, 92.74893939026443, 139.28700140053394, 178.22160843939218, 184.2831863635204, 189.25756681257297, 213.2928229772575, 268.49558540371794, 180.1438506939188, 132.07574718806083, 62.27546687865661, 135.14177525747496, 62.86679954324265, 234.28209987889957, 155.46927559859895, 155.4659875416262, 106.99991237794552, 395.8917892742952, 203.71007964684466, 292.3348296039043, 376.8001293221928, 162.09096639612181, 151.89024087753782, 205.70944557157793, 163.0003172362521, 43.20918820204422, 131.5976743538209, 34.15086290036289, 30.960504095276498, 111.70340221711282, 26.084854986001755, 25.201843899998114, 25.15471978392203, 24.784061163679482, 24.70891169245089, 23.699505943607182, 149.93075690410848, 22.00052107057232, 21.93589253890936, 62.401637905844204, 20.601025839874122, 20.132629231190645, 20.090003570041986, 19.984217651459407, 19.871124147897827, 19.46763001645402, 19.374352570979767, 18.658290691744146, 17.909003684154772, 17.779116666515925, 17.06498497953936, 16.853875038871834, 16.446288507252085, 16.04687950877024, 15.735613474892636, 37.59483156647954, 49.48151884909539, 133.2760106342517, 40.2593496377559, 123.30160949416214, 32.48807570239502, 45.781066337160055, 111.45166564830241, 31.62433552354192, 58.14932931903614, 38.58281475812213, 104.83764605582857, 98.20726480846918, 91.35709956739348, 41.599817847378986, 40.2037395231764, 58.10734237804621, 58.696451246067376, 45.39471414860213, 199.54777728111748, 200.5161076398912, 134.13033272295286, 75.4421241934196, 379.0050638978961, 173.621392827264, 76.57276136405886, 124.99994866064301, 203.71007964684466, 106.72779920632235, 123.8312597450224, 89.6792677011986, 584.9572639533194, 207.6464031624635, 169.58563571213202], \"Term\": [\"film\", \"best\", \"government\", \"law\", \"users\", \"court\", \"lord\", \"use\", \"music\", \"net\", \"technology\", \"club\", \"police\", \"software\", \"security\", \"legal\", \"chelsea\", \"information\", \"game\", \"rights\", \"united\", \"league\", \"former\", \"company\", \"using\", \"cup\", \"computer\", \"internet\", \"case\", \"players\", \"blair\", \"mobile\", \"growth\", \"economic\", \"prime\", \"election\", \"economy\", \"secretary\", \"spending\", \"broadband\", \"prices\", \"tory\", \"phones\", \"increase\", \"chancellor\", \"tories\", \"labour\", \"mps\", \"education\", \"liberal\", \"rates\", \"consumer\", \"higher\", \"minister\", \"budget\", \"debt\", \"women\", \"asylum\", \"immigration\", \"bt\", \"health\", \"market\", \"analysts\", \"party\", \"government\", \"figures\", \"rise\", \"plans\", \"tax\", \"report\", \"brown\", \"foreign\", \"eu\", \"uk\", \"howard\", \"year\", \"next\", \"public\", \"set\", \"last\", \"may\", \"says\", \"much\", \"make\", \"sales\", \"time\", \"still\", \"first\", \"expected\", \"take\", \"home\", \"bbc\", \"chelsea\", \"league\", \"cup\", \"arsenal\", \"football\", \"liverpool\", \"champions\", \"ball\", \"fa\", \"club\", \"mourinho\", \"ferguson\", \"striker\", \"newcastle\", \"coach\", \"wenger\", \"gerrard\", \"season.\", \"madrid\", \"clubs\", \"everton\", \"referee\", \"manchester\", \"injury\", \"ukip\", \"defender\", \"club.\", \"barcelona\", \"rangers\", \"jose\", \"premiership\", \"boss\", \"players\", \"goal\", \"side\", \"united\", \"manager\", \"game\", \"minutes\", \"team\", \"player\", \"win\", \"play\", \"got\", \"think\", \"good\", \"don't\", \"real\", \"first\", \"last\", \"time\", \"want\", \"like\", \"going\", \"home\", \"still\", \"music\", \"awards\", \"actor\", \"album\", \"song\", \"singer\", \"rock\", \"chart\", \"comedy\", \"actress\", \"pop\", \"musical\", \"starring\", \"movie\", \"oscar\", \"film\", \"nominated\", \"songs\", \"ceremony\", \"band\", \"los\", \"favourite\", \"drama\", \"singles\", \"theatre\", \"award\", \"awards.\", \"awards,\", \"nominations\", \"charts\", \"prize\", \"best\", \"star\", \"films\", \"named\", \"artists\", \"show\", \"stars\", \"box\", \"year's\", \"top\", \"tv\", \"number\", \"including\", \"director\", \"first\", \"british\", \"last\", \"uk\", \"three\", \"million\", \"bbc\", \"record\", \"year\", \"took\", \"years\", \"users\", \"software\", \"microsoft\", \"site\", \"sites\", \"web\", \"pc\", \"windows\", \"networks\", \"virus\", \"machines\", \"google\", \"websites\", \"programs\", \"computers\", \"pcs\", \"malicious\", \"program\", \"wireless\", \"traffic\", \"spyware\", \"viruses\", \"anti-virus\", \"software.\", \"apple\", \"microsoft's\", \"computer\", \"blog\", \"ibm\", \"blogs\", \"search\", \"internet\", \"e-mail\", \"online\", \"information\", \"security\", \"technology\", \"net\", \"use\", \"using\", \"phone\", \"messages\", \"data\", \"spam\", \"used\", \"system\", \"service\", \"access\", \"make\", \"firm\", \"way\", \"like\", \"firms\", \"without\", \"help\", \"around\", \"hunting\", \"court\", \"bankruptcy\", \"fiat\", \"police\", \"lawyer\", \"ebbers\", \"prison\", \"filed\", \"officers\", \"legislation\", \"law\", \"law.\", \"sentence\", \"russian\", \"courts\", \"lawyers\", \"boeing\", \"attorney\", \"mcconnell\", \"lawsuit\", \"sullivan\", \"prosecutors\", \"gm\", \"damages\", \"marsh\", \"jail\", \"accounting\", \"laws.\", \"dogs\", \"charges\", \"fraud\", \"lord\", \"arrested\", \"legal\", \"guilty\", \"ban\", \"rights\", \"murder\", \"trial\", \"inquiry\", \"case\", \"bill\", \"human\", \"parliament\", \"judge\", \"evidence\", \"men\", \"criminal\", \"former\", \"company\", \"ms\", \"agreed\", \"government\", \"chief\", \"committee\", \"whether\", \"firm\", \"financial\", \"executive\", \"act\", \"last\", \"european\", \"group\"]}, \"mdsDat\": {\"Freq\": [39.869700776266534, 19.84790751627094, 18.728889407430646, 15.010575160600398, 6.542927139431483], \"cluster\": [1, 1, 1, 1, 1], \"topics\": [1, 2, 3, 4, 5], \"x\": [-0.026064649996766245, -0.07671645977259904, -0.05882960032687375, -0.07765206997068846, 0.23926278006692747], \"y\": [-0.003322298793485215, 0.10377535722853247, 0.08845453176862277, -0.18388845904500414, -0.005019131158665953]}};\n",
       "\n",
       "function LDAvis_load_lib(url, callback){\n",
       "  var s = document.createElement('script');\n",
       "  s.src = url;\n",
       "  s.async = true;\n",
       "  s.onreadystatechange = s.onload = callback;\n",
       "  s.onerror = function(){console.warn(\"failed to load library \" + url);};\n",
       "  document.getElementsByTagName(\"head\")[0].appendChild(s);\n",
       "}\n",
       "\n",
       "if(typeof(LDAvis) !== \"undefined\"){\n",
       "   // already loaded: just create the visualization\n",
       "   !function(LDAvis){\n",
       "       new LDAvis(\"#\" + \"ldavis_el2459646123138806567797470\", ldavis_el2459646123138806567797470_data);\n",
       "   }(LDAvis);\n",
       "}else if(typeof define === \"function\" && define.amd){\n",
       "   // require.js is available: use it to load d3/LDAvis\n",
       "   require.config({paths: {d3: \"https://cdnjs.cloudflare.com/ajax/libs/d3/3.5.5/d3.min\"}});\n",
       "   require([\"d3\"], function(d3){\n",
       "      window.d3 = d3;\n",
       "      LDAvis_load_lib(\"https://cdn.rawgit.com/bmabey/pyLDAvis/files/ldavis.v1.0.0.js\", function(){\n",
       "        new LDAvis(\"#\" + \"ldavis_el2459646123138806567797470\", ldavis_el2459646123138806567797470_data);\n",
       "      });\n",
       "    });\n",
       "}else{\n",
       "    // require.js not available: dynamically load d3 & LDAvis\n",
       "    LDAvis_load_lib(\"https://cdnjs.cloudflare.com/ajax/libs/d3/3.5.5/d3.min.js\", function(){\n",
       "         LDAvis_load_lib(\"https://cdn.rawgit.com/bmabey/pyLDAvis/files/ldavis.v1.0.0.js\", function(){\n",
       "                 new LDAvis(\"#\" + \"ldavis_el2459646123138806567797470\", ldavis_el2459646123138806567797470_data);\n",
       "            })\n",
       "         });\n",
       "}\n",
       "</script>"
      ],
      "text/plain": [
       "<IPython.core.display.HTML object>"
      ]
     },
     "execution_count": 59,
     "metadata": {},
     "output_type": "execute_result"
    }
   ],
   "source": [
    "import pyLDAvis\n",
    "vis_wrapper = pyLDAvis.prepare(topic_term_dists=topic_term, doc_topic_dists=doc_topic, doc_lengths=doc_lengths, vocab=vocab, term_frequency=term_frequency)\n",
    "pyLDAvis.display(vis_wrapper)"
   ]
  },
  {
   "cell_type": "code",
   "execution_count": 60,
   "metadata": {
    "collapsed": false
   },
   "outputs": [
    {
     "data": {
      "text/html": [
       "\n",
       "<link rel=\"stylesheet\" type=\"text/css\" href=\"https://cdn.rawgit.com/bmabey/pyLDAvis/files/ldavis.v1.0.0.css\">\n",
       "\n",
       "\n",
       "<div id=\"ldavis_el2459646123140005046589239\"></div>\n",
       "<script type=\"text/javascript\">\n",
       "\n",
       "var ldavis_el2459646123140005046589239_data = {\"R\": 30, \"topic.order\": [2, 4, 1, 3, 5], \"lambda.step\": 0.01, \"plot.opts\": {\"xlab\": \"PC1\", \"ylab\": \"PC2\"}, \"token.table\": {\"Freq\": [0.9251071975388199, 0.03896911168911512, 0.16561872467873925, 0.5845366753367268, 0.20458783636785438, 0.12617012343776446, 0.27844441034541123, 0.087013878232941, 0.2653923286104701, 0.2436388590522348, 0.9415793933494666, 0.9835868321866876, 0.9391556047479924, 0.010695143671171567, 0.9304774993919263, 0.021390287342343134, 0.0320854310135147, 0.9039923545560802, 0.03348119831689186, 0.05022179747533778, 0.010402170859914553, 0.9569997191121389, 0.020804341719829107, 0.010402170859914553, 0.17478440467140346, 0.09613142256927192, 0.0699137618685614, 0.4719178926127894, 0.18352362490497365, 1.0060748684334997, 0.9977787378484486, 0.9753153543705, 0.9883145762719475, 0.9764403785475344, 0.9698066777891785, 0.006836627546830231, 0.24611859168588832, 0.7451924026044952, 0.9952078105737633, 0.04878082675209934, 0.8780548815377881, 0.073171240128149, 0.0311612502065219, 0.007790312551630475, 0.8725150057826133, 0.01558062510326095, 0.0623225004130438, 0.019159978536654063, 0.9292589590277219, 0.019159978536654063, 0.02873996780498109, 0.023096454516083796, 0.023096454516083796, 0.9469546351594357, 0.11591752935931364, 0.8887010584214046, 0.007822908799210047, 0.9387490559052056, 0.05476036159447033, 0.3532766284333423, 0.05151950831319575, 0.5814344509632092, 0.007359929759027964, 0.007359929759027964, 0.1271818784523264, 0.8648367734758194, 0.10901735204874648, 0.3356586892027194, 0.2954944016058128, 0.22664133715397294, 0.03155765454042661, 0.9690768562826004, 0.034578214156036076, 0.7607207114327936, 0.20746928493621644, 0.008828329677091221, 0.0158909934187642, 0.8333943215174113, 0.07415796928756627, 0.06709530554589328, 0.2325245499844587, 0.0348786824976688, 0.09300981999378348, 0.5231802374650321, 0.10463604749300641, 0.01744046094557877, 0.9810259281888057, 0.9960872403907699, 0.966679011655717, 1.0029832182394247, 0.9325499625488741, 0.07173461250375955, 0.9543499172556847, 0.19827399962483713, 0.09151107674992483, 0.045755538374962414, 0.6100738449994988, 0.061007384499949885, 1.0082247104910391, 0.9687650217771937, 0.058325628759978945, 0.3166248418398857, 0.6165852183197774, 0.9901540351842757, 0.049619360290997214, 0.024809680145498607, 0.7442904043649582, 0.024809680145498607, 0.16126292094574093, 0.11229588063863469, 0.3466525011018723, 0.4980078184843799, 0.0292945775579047, 0.01464728877895235, 0.9558812458355581, 0.01648071113509583, 0.03296142227019166, 0.9814956775385086, 0.9916465372826198, 0.02136412901746717, 0.8972934187336211, 0.007121376339155723, 0.07121376339155723, 0.9341364559471669, 0.016681008141913693, 0.05004302442574108, 0.8528519429168647, 0.09137699388394979, 0.060917995922633195, 0.6923453056409901, 0.09334992885047057, 0.14002489327570586, 0.06223328590031371, 0.015558321475078428, 0.9496185637368679, 0.9508744871501873, 0.9505169207895346, 0.11995430896361846, 0.8723949742808615, 0.08275136837727202, 0.14711354378181693, 0.09194596486363558, 0.09194596486363558, 0.5884541751272677, 0.04493891097416167, 0.9324824027138546, 0.022469455487080833, 0.08811378035752812, 0.9031662486646632, 0.02202844508938203, 0.9871123377429708, 0.06747072716543365, 0.9041077440168108, 0.026988290866173457, 0.17447272876538708, 0.8247801723454662, 0.9105503943127331, 0.02845469982227291, 0.02845469982227291, 0.02845469982227291, 0.02429330853835903, 0.6656366539510374, 0.3060956875833238, 0.9841638275570511, 0.8258731249271192, 0.14157824998750615, 0.9830315868370644, 0.01638385978061774, 0.8494169797973111, 0.05393123681252769, 0.060672641414093655, 0.03370702300782981, 0.006741404601565961, 0.5722630789905774, 0.12769506721277346, 0.20336621815367625, 0.08513004480851565, 0.009458893867612849, 0.9529146714319036, 0.08430641844223626, 0.653374742927331, 0.2529192553267088, 0.9837412782077538, 0.05048630987229575, 0.9466183101055453, 0.9485298316236083, 0.6514624763968818, 0.2811574898133911, 0.0274299990061845, 0.04114499850927675, 0.9394301001308928, 0.9412662478526036, 1.0001278335687518, 0.8048137480917165, 0.07916200800902129, 0.09235567601052483, 0.026387336003007095, 0.03310805845296834, 0.9601336951360818, 0.9826726126019181, 0.9518050317698882, 0.7962850458165058, 0.01911084109959614, 0.15925700916330116, 0.012740560733064094, 0.012740560733064094, 0.9729953276352509, 0.15831088427423345, 0.1532040815557098, 0.4749326528227004, 0.1532040815557098, 0.06128163262228392, 0.07129115566643367, 0.21387346699930102, 0.10483993480357894, 0.4864572974886062, 0.1174207269800084, 0.024634887326065977, 0.9361257183905072, 0.049269774652131955, 0.9639613694209735, 0.9518053246978053, 0.844905706445079, 0.1408176177408465, 0.9767462868332019, 0.08160353409778458, 0.8874384333134073, 0.03060132528666922, 0.9950938440582131, 0.800598173800077, 0.1312456022623077, 0.05249824090492308, 0.01312456022623077, 0.7016625912745631, 0.0645206980482357, 0.21775735591279546, 0.016130174512058924, 0.9626516871806983, 0.007064769070904665, 0.9890676699266531, 0.03321123453758687, 0.9631258015900193, 0.992251599998148, 0.9944169524288992, 0.9756803256138805, 0.8616764221485083, 0.03517046621014319, 0.07034093242028638, 0.03517046621014319, 0.017585233105071596, 0.9992709011666819, 0.676737473391172, 0.30535715262772395, 0.016505792033931023, 0.008252896016965511, 0.5606861533399315, 0.20968750450111262, 0.03190896807625627, 0.05470108813072503, 0.14131114433770633, 0.33987221084235064, 0.16778501547913513, 0.06023051837712543, 0.2581307930448233, 0.1720871953632155, 0.2100547532972597, 0.7784382033957271, 0.9933878518710663, 0.9378231532103282, 0.9376690878391346, 0.06049477986058933, 0.08142666413357344, 0.006514133130685875, 0.8956933054693078, 0.009771199696028812, 0.009771199696028812, 0.6398866484179453, 0.21018174583071197, 0.05604846555485652, 0.06538987648066595, 0.032694938240332976, 0.7813963185622554, 0.183857957308766, 0.02298224466359575, 0.011491122331797875, 0.2030531332404475, 0.15940619805792142, 0.2675746895972252, 0.12904311271355542, 0.24100698992090497, 0.021695987875562192, 0.00723199595852073, 0.6653436281839071, 0.30374383025787066, 0.9812336386640512, 0.11651742406420737, 0.2039054921123629, 0.24759952613644065, 0.06311360470144566, 0.36897184286999, 0.9711494223443152, 0.992667572443404, 1.0058874009691288, 0.046484144147957415, 0.00996088803170516, 0.02988266409511548, 0.3718731531836593, 0.5445285457332154, 0.2878824152450055, 0.008857920469077093, 0.18601632985061894, 0.5181883474410099, 0.953170017389162, 0.7910391633198689, 0.2028305546974023, 0.8936652419543931, 0.99873131217421, 1.0021786135751294, 0.9867276109112126, 0.19383698357813667, 0.19383698357813667, 0.13449913146238054, 0.3441595422713855, 0.13054327465466348, 0.010200028957836518, 0.07140020270485563, 0.04080011583134607, 0.887402519331777, 0.9883736669558654, 0.994812541166133, 0.05554275750380189, 0.11108551500760377, 0.8331413625570283, 0.2060647548919527, 0.25225168271256276, 0.07460965263329322, 0.2806744075252459, 0.18474771128244036, 0.17484909028976192, 0.15299295400354168, 0.09835261328799108, 0.22948943100531255, 0.34605549119848716, 0.9905555523029604, 0.03778797456245697, 0.1241604878480729, 0.09716907744631793, 0.3832780277049207, 0.35628661730316574, 0.29834526437072467, 0.637489881134027, 0.045899271441649944, 0.012749797622680541, 0.007649878573608325, 1.0038655889162733, 0.9531129957673873, 0.796161299201091, 0.019904032480027277, 0.17250161482690304, 0.006634677493342425, 0.019565478744165088, 0.039130957488330176, 0.8608810647432639, 0.09782739372082544, 0.9844691418677175, 0.9903296481594431, 0.9387046284996358, 0.04172020571109492, 0.14619796423523243, 0.12183163686269369, 0.4995097111370441, 0.07309898211761622, 0.1583811279215018, 0.9596589757471958, 0.15352085779094976, 0.3637776847655114, 0.10345970851129224, 0.05006114927965753, 0.3270661752937626, 0.9758280522478643, 0.858016351282341, 0.08066820396671583, 0.007333473087883257, 0.051334311615182794, 0.9281816465399735, 0.16195243194790693, 0.7692740517525579, 0.020244053993488366, 0.04048810798697673, 0.9857793349255182, 0.035879726967210215, 0.05381959045081532, 0.17042870309424854, 0.6189252901843763, 0.1166091126434332, 0.9433894109599442, 0.02774674738117483, 1.007433364601503, 0.03463206489736362, 0.9696978171261813, 0.19231017301900274, 0.14676302677766, 0.516200990735218, 0.10121588053631723, 0.04048635221452689, 0.9872558478395194, 0.025980417048408404, 0.9800926903327581, 0.6949305469840156, 0.02149269732940254, 0.21492697329402544, 0.050149627101939265, 0.02149269732940254, 0.38823222512866035, 0.539211423789806, 0.010784228475796121, 0.0539211423789806, 0.0053921142378980606, 0.995679609513461, 0.9648956656122494, 0.978487522443005, 0.9637705138231907, 0.9347422765773107, 0.9352696884943477, 0.9445878450964226, 0.027501779456409556, 0.9625622809743344, 0.9903242645426907, 0.9389796847908075, 0.9761673802770324, 0.029796573992437875, 0.238372591939503, 0.1906980735516024, 0.45886723948354324, 0.07747109238033847, 0.018685357599517033, 0.957624576975248, 0.018685357599517033, 0.23851185086491003, 0.10856401487644181, 0.3372064098434935, 0.1480418384678752, 0.16613584094728215, 0.05407632009410152, 0.8922592815526752, 0.03605088006273435, 0.018025440031367176, 0.2903722648940598, 0.7043071957004855, 0.9627274425522936, 0.9930206093141922, 0.02737839981846202, 0.9582439936461707, 0.01368919990923101, 0.22270265728114674, 0.2352140425216606, 0.10259335897221367, 0.30277552282043546, 0.14012751469375526, 1.0042626862928978, 0.6138955395815434, 0.37515838529983214, 0.9729252952662362, 0.027966123884813704, 0.804026061688394, 0.15381368136647536, 0.013983061942406852, 0.20824700260264947, 0.06462838011806363, 0.05744744899383434, 0.4452177297022161, 0.22260886485110806, 0.9932937357640803, 0.8159308982424434, 0.16737044066511658, 0.9870752685057064, 0.3144230682688648, 0.29282148342596565, 0.09360686765256279, 0.2136156723353356, 0.08640633937159642, 0.9844880931448132, 0.022374729389654846, 0.03788174349574435, 0.13258610223510522, 0.13258610223510522, 0.46405135782286827, 0.21782002510053003, 0.04396158490590001, 0.037681358490771436, 0.04396158490590001, 0.4584565283043858, 0.4144949433984858, 0.02872791690509309, 0.4237367743501231, 0.5386484419704954, 1.0055509519777233, 0.7286973429405003, 0.030790028574950716, 0.22066187145381347, 0.005131671429158453, 0.015395014287475358, 0.059244992180619634, 0.059244992180619634, 0.10367873631608436, 0.7701848983480553, 0.9372773286243857, 0.36338341797467993, 0.23990361575027414, 0.10936782482733086, 0.2081516666068555, 0.07761587568391222, 0.9509983286817535, 0.9716455714055765, 0.9613498014090416, 0.17145766293732728, 0.7629866000711064, 0.02571864944059909, 0.04286441573433182, 0.9657530427299, 0.42538779596292375, 0.09230112553912496, 0.44144016562190197, 0.024078554488467383, 0.012039277244233692, 0.1346236898956963, 0.8301794210234605, 0.022437281649282718, 0.008974912659713088, 0.008974912659713088, 0.06598752314089175, 0.08798336418785566, 0.010997920523481957, 0.8248440392611468, 0.9645977900278725, 0.008890302212238455, 0.01778060442447691, 0.004445151106119228, 0.008890302212238455, 0.981051601898161, 0.04646842723952593, 0.9448580205370273, 0.30508255430446585, 0.15864292823832224, 0.048813208688714534, 0.34779411190709103, 0.1403379749800543, 0.9864386359317922, 0.05115314965212279, 0.9079684063251795, 0.012788287413030697, 0.025576574826061394, 0.9723194876119272, 0.4954160883938, 0.16017211880401053, 0.0633238609225158, 0.21604611373564211, 0.0633238609225158, 0.9904922481538826, 0.01605077062731365, 0.9469954670115054, 0.02808884859779889, 0.008025385313656826, 0.033863727912035124, 0.9143206536249484, 0.033863727912035124, 0.016931863956017562, 0.9779740171950019, 0.928446372510139, 0.593462904135005, 0.34358378660447664, 0.01338638129627831, 0.004462127098759436, 0.044621270987594365, 0.1824083376694602, 0.8208375195125709, 0.33329767578063274, 0.27024135874105354, 0.12310995231536884, 0.13812336113431625, 0.13512067937052677, 0.946688473027832, 0.02080096543359522, 0.8944415136445945, 0.04160193086719044, 0.04160193086719044, 0.9135737714538061, 0.027684053680418368, 0.055368107360836735, 0.192926286589795, 0.16739192512938095, 0.5475701957622123, 0.04539442037406941, 0.04823157164744875, 0.9423429419783261, 0.7267982260298868, 0.23699942153148482, 0.02369994215314848, 0.00789998071771616, 0.6192852931625993, 0.29299519246402544, 0.03995388988145802, 0.026635926587638678, 0.01997694494072901, 1.0179459167246505, 0.93158529245368, 0.06210568616357867, 0.9864756345106513, 0.019482655727144513, 0.883213726297218, 0.05844796718143354, 0.032471092878574186, 0.9969836561279081, 0.9910795206573095, 0.945376862318338, 0.9651967947917088, 0.9625718255754805, 1.0034190149214692, 0.9189857389135438, 0.013924026347174906, 0.04177207904152472, 0.02088603952076236, 0.006962013173587453, 0.9221380335618456, 0.01921120903253845, 0.028816813548807677, 0.009605604516269226, 0.01921120903253845, 0.2785009790701761, 0.5683693450411758, 0.07957170830576461, 0.039785854152882306, 0.02841846725205879, 0.031254656679358825, 0.06697426431291177, 0.18306298912195884, 0.28129191011422944, 0.4375651935110236, 0.019903098014875924, 0.08956394106694167, 0.6468506854834676, 0.2388371761785111, 0.9670679135906978, 0.09513050325730071, 0.015020605777468533, 0.4055563559916504, 0.48065938487899307, 0.10792884378874935, 0.7751253326646544, 0.09811713071704486, 0.01962342614340897, 0.9769261338215041, 0.04836077490929629, 0.886614206670432, 0.04836077490929629, 0.9792986863008142, 0.04488666830276987, 0.08977333660553974, 0.8640683648283201, 1.0033285039850124, 1.0026069923346932, 0.7588347745026075, 0.22941516438450923, 0.008823660168634971, 0.02693584816953671, 0.9562226100185532, 0.013467924084768355, 0.9821397994372096, 0.8135762690192953, 0.026674631771124432, 0.1600477906267466, 0.013337315885562216, 0.11460474706162865, 0.6876284823697719, 0.12377312682655894, 0.0595944684720469, 0.013752569647395439, 0.16795569378554867, 0.12461228893766514, 0.07043303287781073, 0.46594160211474794, 0.17337361939153412, 0.10592438650087814, 0.05884688138937674, 0.6296616308663312, 0.07650094580618977, 0.12946313905662885, 1.0039156417185766, 0.0219797510152346, 0.0439595020304692, 0.9451292936550878, 0.995088913391813, 0.9858880250517209, 0.9866972649824635, 0.9741981222324817, 1.0016064490766128, 0.8797590984375244, 0.09912778573943938, 0.012390973217429923, 0.9930919882117564, 0.9856455522646291, 0.10485393292634401, 0.07489566637596, 0.82385233013556, 0.9726698042053121, 0.4072355198459356, 0.010859613862558282, 0.5646999208530307, 0.016289420793837422, 0.2287049486690964, 0.46572644092615995, 0.024949630763901425, 0.1995970461112114, 0.07900716408568785, 0.37514601432439204, 0.37514601432439204, 0.06685770552315898, 0.10771519223175613, 0.07428633947017664, 0.05140736504674597, 0.034271576697830645, 0.8910609941435969, 0.9836598973909356, 0.9624568541778026, 0.9504463345135493, 0.007727205971654872, 0.038636029858274364, 0.13374403639783441, 0.05731887274192903, 0.3725726728225387, 0.047765727284940857, 0.386902391008021, 0.07733182534111788, 0.8764273538660027, 0.017184850075803972, 0.017184850075803972, 0.008592425037901986, 0.11052910271709875, 0.8421264968921809, 0.03157974363345679, 0.015789871816728394, 0.5999853929655495, 0.3445460672475433, 0.03564269661181482, 0.023761797741209883, 0.8527896061226481, 0.031199619736194444, 0.041599492981592594, 0.06239923947238889, 0.020799746490796297, 0.036185445122334056, 0.024123630081556036, 0.14474178048933622, 0.10855633536700217, 0.6995852723651251, 0.09455898352447768, 0.0822252030647632, 0.6536903643648674, 0.12744906475038295, 0.0411126015323816, 0.06153228354531425, 0.07911293598683261, 0.07032260976607344, 0.7911293598683261, 0.9532744126798494, 0.9933118134042246, 0.7781594566585304, 0.20905776447542607, 0.011614320248634782, 0.06271816442647725, 0.9198664115883329, 0.02090605480882575, 0.09951694571835107, 0.8832128932503657, 0.012439618214793884, 0.9492680885012708, 0.9912349772417509, 0.009731461371349595, 0.9050259075355123, 0.08758315234214635, 0.08886651169632202, 0.11108313962040253, 0.6664988377224152, 0.13329976754448306, 0.07243181118141079, 0.7315612929322489, 0.09416135453583403, 0.09416135453583403, 0.019064964232872496, 0.8960533189450073, 0.03812992846574499, 0.03812992846574499, 0.9706743142763808, 0.293598977919423, 0.1761593867516538, 0.11053137992260631, 0.23142507671295695, 0.18652170361939815, 0.9845007306379008, 0.9275834045548822, 0.9847459282297788, 0.04110636455398097, 0.05754891037557336, 0.32062964352105155, 0.5754891037557336, 0.8551273739052204, 0.09076771007932508, 0.019108991595647384, 0.014331743696735537, 0.02388623949455923, 0.998433477081853, 0.9924212327138892, 0.1360642760984898, 0.08373186221445526, 0.10466482776806908, 0.5023911732867316, 0.16746372442891053, 0.06960884875939491, 0.21877066752952684, 0.05635002042427206, 0.4972060625671065, 0.15579123293769337, 0.2703392048251063, 0.08505053634947164, 0.3250145496211952, 0.10935068959217782, 0.2126263408736791, 0.0581477139867147, 0.9303634237874352, 0.25544601126968214, 0.19727513741619015, 0.1264584214206347, 0.22003765327190442, 0.20233347427301554, 0.9577980538588532, 0.009552369686615008, 0.8501609021087357, 0.05731421811969005, 0.028657109059845025, 0.047761848433075044, 0.13495962533208952, 0.06747981266604476, 0.5330905200617536, 0.08097577519925371, 0.18556948483162308, 0.025620864195788223, 0.9735928394399525, 0.02825632411363418, 0.9701337945681069, 1.0004776674832756, 0.943782039209608, 0.03629930920036954, 0.05696724896794871, 0.023736353736645295, 0.8545087345192306, 0.03323089523130341, 0.028483624483974356, 0.059976596866019326, 0.8996489529902898, 0.3296047974544305, 0.2584101612042735, 0.37706788828786847, 0.029005222175989883, 0.007910515138906333, 0.9914601020143418, 0.06442813743754676, 0.08283617670541726, 0.013806029450902878, 0.2991306381028957, 0.5384351485852122, 0.9861128897470334, 0.5329593309892032, 0.3197755985935219, 0.03197755985935219, 0.0604020575121097, 0.05329593309892032, 0.44832163270529013, 0.28676428758626665, 0.03635040265178028, 0.1534794778630723, 0.07270080530356056, 0.9839811041167362, 0.39177653714037614, 0.5827675989963095, 0.014691620142764105, 0.014691620142764105, 0.5654992993880895, 0.28274964969404476, 0.0320093943049862, 0.10669798101662067, 0.010669798101662067, 0.9281587719766412, 0.039628660926357195, 0.8916448708430369, 0.019814330463178598, 0.05944299138953579, 0.9673024358974064, 0.016121707264956774, 0.15815541542676367, 0.2391618477185207, 0.06557663566475568, 0.46289389881004006, 0.07714898313500668, 0.21268987242562368, 0.2868090703921289, 0.09667721473891985, 0.28358649656749824, 0.12245780533596515, 0.2484425317409686, 0.15122588888580696, 0.19803390211236627, 0.12962219047354884, 0.2736468465552698, 0.9862666206592519, 0.9462433879156407, 0.04970091313357721, 0.08946164364043899, 0.12922237414730076, 0.14413264808737392, 0.5914408662895688, 0.9024617581848383, 0.9279189331541303, 0.8841252197611044, 0.04312805950054168, 0.06469208925081252, 0.9452828170954909, 0.3263379266933909, 0.15139388351755248, 0.11438648976881742, 0.11102218124620514, 0.29605914998988037, 0.970503591300649, 0.9362136307641619, 1.0034249864970364, 0.9982261343673731, 0.9508506502242314, 0.3677604030166475, 0.14487531027928538, 0.3371137027652602, 0.0640794641619916, 0.08915403709494485, 0.1263972796628068, 0.04213242655426894, 0.7583836779768408, 0.0315993199157017, 0.04213242655426894, 0.9761665421429685, 0.9907617964318179], \"Topic\": [4, 1, 2, 4, 5, 1, 2, 3, 4, 5, 5, 3, 5, 2, 3, 4, 5, 3, 4, 5, 1, 3, 4, 5, 1, 2, 3, 4, 5, 4, 4, 4, 2, 1, 5, 1, 4, 5, 2, 1, 2, 3, 1, 2, 3, 4, 5, 1, 3, 4, 5, 1, 4, 5, 1, 4, 2, 3, 4, 1, 2, 3, 4, 5, 4, 5, 1, 2, 3, 4, 5, 4, 1, 4, 5, 1, 2, 3, 4, 5, 1, 2, 3, 4, 5, 1, 2, 2, 2, 1, 4, 5, 1, 1, 2, 3, 4, 5, 1, 3, 1, 4, 5, 3, 1, 2, 3, 4, 5, 1, 2, 3, 4, 5, 1, 2, 3, 3, 3, 1, 2, 4, 5, 1, 2, 3, 1, 2, 3, 1, 2, 3, 4, 5, 3, 5, 3, 4, 5, 1, 2, 3, 4, 5, 1, 2, 3, 2, 3, 4, 5, 1, 3, 5, 4, 5, 1, 2, 3, 5, 1, 4, 5, 4, 4, 5, 3, 5, 1, 2, 3, 4, 5, 1, 2, 3, 4, 5, 2, 1, 4, 5, 1, 4, 5, 4, 1, 2, 3, 4, 1, 3, 2, 1, 2, 3, 5, 1, 2, 2, 4, 1, 2, 3, 4, 5, 1, 1, 2, 3, 4, 5, 1, 2, 3, 4, 5, 1, 3, 5, 5, 5, 1, 3, 1, 1, 2, 4, 1, 1, 2, 3, 5, 1, 2, 3, 5, 3, 1, 2, 1, 2, 2, 3, 4, 1, 2, 3, 4, 5, 5, 1, 2, 3, 5, 1, 2, 3, 4, 5, 1, 2, 3, 4, 5, 4, 5, 5, 4, 1, 3, 1, 2, 3, 4, 5, 1, 2, 3, 4, 5, 1, 2, 3, 4, 1, 2, 3, 4, 5, 1, 3, 4, 5, 4, 1, 2, 3, 4, 5, 5, 3, 2, 1, 2, 3, 4, 5, 1, 3, 4, 5, 3, 4, 5, 4, 3, 4, 4, 1, 2, 3, 4, 5, 1, 2, 4, 5, 5, 5, 2, 4, 5, 1, 2, 3, 4, 5, 1, 2, 3, 4, 5, 2, 1, 2, 3, 4, 5, 1, 2, 3, 4, 5, 3, 4, 1, 2, 3, 5, 1, 2, 4, 5, 5, 5, 1, 3, 1, 2, 3, 4, 5, 5, 1, 2, 3, 4, 5, 1, 2, 3, 4, 5, 3, 1, 2, 3, 4, 5, 1, 2, 3, 4, 5, 1, 3, 1, 1, 2, 1, 2, 3, 4, 5, 1, 4, 1, 1, 2, 3, 4, 5, 1, 2, 3, 4, 5, 5, 2, 1, 4, 3, 3, 4, 4, 5, 2, 3, 2, 1, 2, 3, 4, 5, 1, 2, 3, 1, 2, 3, 4, 5, 1, 2, 3, 4, 4, 5, 4, 2, 1, 2, 3, 1, 2, 3, 4, 5, 5, 4, 5, 1, 1, 2, 3, 5, 1, 2, 3, 4, 5, 2, 4, 5, 4, 1, 2, 3, 4, 5, 2, 4, 1, 2, 3, 4, 5, 1, 2, 3, 4, 5, 2, 4, 5, 2, 1, 2, 3, 4, 5, 1, 2, 4, 5, 1, 1, 2, 3, 4, 5, 1, 1, 4, 1, 2, 4, 5, 2, 1, 2, 3, 4, 5, 1, 2, 3, 4, 5, 2, 3, 4, 5, 1, 2, 3, 4, 5, 3, 4, 5, 1, 2, 3, 4, 5, 4, 1, 2, 3, 4, 2, 1, 2, 3, 4, 5, 3, 1, 3, 4, 5, 1, 3, 4, 5, 4, 4, 1, 2, 3, 4, 5, 4, 5, 1, 2, 3, 4, 5, 1, 2, 3, 4, 5, 3, 4, 5, 1, 2, 3, 4, 5, 4, 1, 3, 4, 5, 1, 2, 3, 4, 5, 1, 3, 5, 4, 1, 2, 3, 4, 2, 1, 1, 1, 4, 4, 1, 2, 3, 4, 5, 1, 2, 3, 4, 5, 1, 2, 3, 4, 5, 1, 2, 3, 4, 5, 1, 3, 4, 5, 4, 1, 2, 4, 5, 1, 2, 3, 4, 2, 1, 3, 4, 3, 2, 4, 5, 2, 3, 1, 3, 5, 1, 2, 3, 5, 1, 2, 3, 5, 1, 2, 3, 4, 5, 1, 2, 3, 4, 5, 1, 2, 3, 4, 5, 4, 1, 4, 5, 2, 4, 5, 5, 5, 3, 4, 5, 5, 3, 1, 2, 3, 4, 1, 2, 3, 5, 1, 2, 3, 4, 5, 1, 2, 3, 4, 5, 3, 4, 5, 5, 2, 2, 3, 4, 1, 2, 3, 4, 5, 1, 2, 3, 4, 5, 1, 2, 3, 4, 1, 2, 3, 4, 1, 2, 3, 4, 5, 1, 2, 3, 4, 5, 1, 2, 3, 4, 5, 1, 2, 4, 5, 3, 4, 3, 4, 5, 1, 2, 4, 1, 2, 4, 1, 3, 1, 3, 4, 1, 3, 4, 5, 1, 3, 4, 5, 2, 3, 4, 5, 3, 1, 2, 3, 4, 5, 5, 3, 1, 1, 2, 4, 5, 1, 2, 3, 4, 5, 2, 2, 1, 2, 3, 4, 5, 1, 2, 3, 4, 5, 1, 2, 3, 4, 5, 4, 5, 1, 2, 3, 4, 5, 1, 1, 2, 3, 4, 5, 1, 2, 3, 4, 5, 1, 2, 1, 2, 1, 1, 3, 1, 2, 3, 4, 5, 4, 5, 1, 2, 3, 4, 5, 2, 1, 2, 3, 4, 5, 3, 1, 2, 3, 4, 5, 1, 2, 3, 4, 5, 5, 1, 2, 3, 4, 1, 2, 3, 4, 5, 4, 1, 3, 4, 5, 2, 4, 1, 2, 3, 4, 5, 1, 2, 3, 4, 5, 1, 2, 3, 4, 5, 1, 4, 1, 2, 3, 4, 5, 4, 4, 1, 3, 5, 5, 1, 2, 3, 4, 5, 1, 1, 5, 5, 5, 1, 2, 3, 4, 5, 1, 2, 3, 4, 5, 3, 3], \"Term\": [\"  50m\", \"\\\"he\", \"\\\"he\", \"\\\"he\", \"\\\"he\", \"\\\"it\", \"\\\"it\", \"\\\"it\", \"\\\"it\", \"\\\"it\", \"3-0\", \"3g\", \":\", \"actor\", \"actor\", \"actor\", \"actor\", \"actress\", \"actress\", \"actress\", \"album\", \"album\", \"album\", \"album\", \"always\", \"always\", \"always\", \"always\", \"always\", \"anelka\", \"anfield\", \"angels\", \"anti-virus\", \"aragones\", \"argonaut\", \"arsenal\", \"arsenal\", \"arsenal\", \"asylum\", \"attacks\", \"attacks\", \"attacks\", \"award\", \"award\", \"award\", \"award\", \"award\", \"awards\", \"awards\", \"awards\", \"awards\", \"ball\", \"ball\", \"ball\", \"ballet\", \"ballet\", \"band\", \"band\", \"band\", \"bank\", \"bank\", \"bank\", \"bank\", \"bank\", \"barcelona\", \"barcelona\", \"bbc\", \"bbc\", \"bbc\", \"bbc\", \"bbc\", \"beattie\", \"beckham\", \"beckham\", \"beckham\", \"best\", \"best\", \"best\", \"best\", \"best\", \"bid\", \"bid\", \"bid\", \"bid\", \"bid\", \"blair\", \"blair\", \"blair's\", \"blogs\", \"blu-ray\", \"blunkett's\", \"blunkett's\", \"bmw\", \"board\", \"board\", \"board\", \"board\", \"board\", \"boeing\", \"borussia\", \"boss\", \"boss\", \"boss\", \"bowl\", \"box\", \"box\", \"box\", \"box\", \"box\", \"british\", \"british\", \"british\", \"british\", \"british\", \"broadband\", \"broadband\", \"broadband\", \"broadcaster\", \"broadcasting\", \"brown\", \"brown\", \"brown\", \"brown\", \"bt\", \"bt\", \"bt\", \"budget\", \"budget\", \"budget\", \"business\", \"business\", \"business\", \"business\", \"business\", \"cabir\", \"cech\", \"celebrity\", \"champions\", \"champions\", \"chance\", \"chance\", \"chance\", \"chance\", \"chance\", \"chancellor\", \"chancellor\", \"chancellor\", \"channel\", \"channel\", \"channel\", \"charlton\", \"chart\", \"chart\", \"chart\", \"chelsea\", \"chelsea\", \"china\", \"china\", \"china\", \"china\", \"club\", \"club\", \"club\", \"club,\", \"club.\", \"club.\", \"comedy\", \"comedy\", \"companies\", \"companies\", \"companies\", \"companies\", \"companies\", \"company\", \"company\", \"company\", \"company\", \"company\", \"constitution\", \"contract\", \"contract\", \"contract\", \"crude\", \"cup\", \"cup\", \"dancers\", \"data\", \"data\", \"data\", \"data\", \"dean.\", \"deficit.\", \"dem\", \"demand\", \"demand\", \"demand\", \"demand\", \"democrats\", \"democrats\", \"dems\", \"deserves\", \"digital\", \"digital\", \"digital\", \"digital\", \"digital\", \"directive\", \"director\", \"director\", \"director\", \"director\", \"director\", \"don't\", \"don't\", \"don't\", \"don't\", \"don't\", \"drama\", \"drama\", \"drama\", \"drogba\", \"duff\", \"dvd\", \"dvd\", \"dvds\", \"e-mail\", \"e-mail\", \"e-mail\", \"ebbers\", \"economic\", \"economic\", \"economic\", \"economic\", \"economy\", \"economy\", \"economy\", \"economy\", \"edwards\", \"election\", \"election\", \"election,\", \"election,\", \"election.\", \"elvis\", \"employers\", \"energy\", \"energy\", \"energy\", \"energy\", \"energy\", \"eriksson\", \"eu\", \"eu\", \"eu\", \"eu\", \"european\", \"european\", \"european\", \"european\", \"european\", \"even\", \"even\", \"even\", \"even\", \"even\", \"fa\", \"fa\", \"faroe\", \"feta\", \"fiat\", \"fiat\", \"film\", \"film\", \"film\", \"film\", \"film\", \"firm\", \"firm\", \"firm\", \"firm\", \"firm\", \"firms\", \"firms\", \"firms\", \"firms\", \"first\", \"first\", \"first\", \"first\", \"first\", \"football\", \"football\", \"football\", \"football\", \"forensic\", \"four\", \"four\", \"four\", \"four\", \"four\", \"free-kick\", \"freeview\", \"g8\", \"game\", \"game\", \"game\", \"game\", \"game\", \"games\", \"games\", \"games\", \"games\", \"gazprom\", \"gerrard\", \"gerrard\", \"gerrard.\", \"gig\", \"glazer\", \"glazer's\", \"go\", \"go\", \"go\", \"go\", \"go\", \"goal\", \"goal\", \"goal\", \"goal\", \"goal.\", \"goalkeeper\", \"goals\", \"goals\", \"goals\", \"going\", \"going\", \"going\", \"going\", \"going\", \"good\", \"good\", \"good\", \"good\", \"good\", \"google\", \"got\", \"got\", \"got\", \"got\", \"got\", \"government\", \"government\", \"government\", \"government\", \"government\", \"grammy\", \"gravesen\", \"growth\", \"growth\", \"growth\", \"growth\", \"he's\", \"he's\", \"he's\", \"he's\", \"header\", \"henry\", \"high-definition\", \"high-definition\", \"hit\", \"hit\", \"hit\", \"hit\", \"hit\", \"holland\", \"home\", \"home\", \"home\", \"home\", \"home\", \"hotspots\", \"howard\", \"howard\", \"howard\", \"howard\", \"hsdpa\", \"human\", \"human\", \"human\", \"human\", \"hunts\", \"i'm\", \"i'm\", \"i'm\", \"i'm\", \"i'm\", \"ibm\", \"ibm\", \"icann\", \"immigration\", \"immigration\", \"including\", \"including\", \"including\", \"including\", \"including\", \"india\", \"india\", \"india's\", \"industry\", \"industry\", \"industry\", \"industry\", \"industry\", \"information\", \"information\", \"information\", \"information\", \"information\", \"ink\", \"jeeves\", \"jet\", \"jp\", \"kanye\", \"kapranos\", \"keegan\", \"keeper\", \"keeper\", \"kennedy\", \"keys\", \"kilroy-silk\", \"know\", \"know\", \"know\", \"know\", \"know\", \"labour\", \"labour\", \"labour\", \"last\", \"last\", \"last\", \"last\", \"last\", \"leader\", \"leader\", \"leader\", \"leader\", \"league\", \"league\", \"learning\", \"lib\", \"liberal\", \"liberal\", \"liberal\", \"like\", \"like\", \"like\", \"like\", \"like\", \"lisbon\", \"liverpool\", \"liverpool\", \"livingstone\", \"lord\", \"lord\", \"lord\", \"lord\", \"lot\", \"lot\", \"lot\", \"lot\", \"lot\", \"lycos\", \"madrid\", \"madrid\", \"magnier\", \"make\", \"make\", \"make\", \"make\", \"make\", \"malicious\", \"malicious\", \"man\", \"man\", \"man\", \"man\", \"man\", \"manager\", \"manager\", \"manager\", \"manager\", \"manager\", \"manchester\", \"manchester\", \"manchester\", \"manifesto\", \"market\", \"market\", \"market\", \"market\", \"market\", \"match\", \"match\", \"match\", \"match\", \"maternity\", \"may\", \"may\", \"may\", \"may\", \"may\", \"mayor\", \"mcletchie\", \"mcmanus\", \"microsoft\", \"microsoft\", \"microsoft\", \"microsoft\", \"milburn\", \"million\", \"million\", \"million\", \"million\", \"million\", \"minister\", \"minister\", \"minister\", \"minister\", \"minister\", \"minutes\", \"minutes\", \"minutes\", \"minutes\", \"mobile\", \"mobile\", \"mobile\", \"mobile\", \"mobile\", \"mortgage\", \"mourinho\", \"mourinho\", \"move\", \"move\", \"move\", \"move\", \"move\", \"moyes\", \"mps\", \"mps\", \"mps\", \"mps\", \"mrs\", \"much\", \"much\", \"much\", \"much\", \"much\", \"multimedia\", \"music\", \"music\", \"music\", \"music\", \"musical\", \"musical\", \"musical\", \"musical\", \"mutu\", \"nair\", \"net\", \"net\", \"net\", \"net\", \"net\", \"newcastle\", \"newcastle\", \"next\", \"next\", \"next\", \"next\", \"next\", \"nissan\", \"nominated\", \"nominated\", \"nominated\", \"nominated\", \"nominations\", \"nominations\", \"nominations\", \"number\", \"number\", \"number\", \"number\", \"number\", \"offence\", \"oil\", \"oil\", \"oil\", \"oil\", \"online\", \"online\", \"online\", \"online\", \"online\", \"opec\", \"oscar\", \"oscar\", \"parry\", \"party\", \"party\", \"party\", \"party\", \"party's\", \"patent\", \"patenting\", \"patents\", \"peel\", \"pennant\", \"phone\", \"phone\", \"phone\", \"phone\", \"phone\", \"phones\", \"phones\", \"phones\", \"phones\", \"phones\", \"plans\", \"plans\", \"plans\", \"plans\", \"plans\", \"play\", \"play\", \"play\", \"play\", \"play\", \"player\", \"player\", \"player\", \"player\", \"player,\", \"players\", \"players\", \"players\", \"players\", \"political\", \"political\", \"political\", \"political\", \"politics\", \"pop\", \"pop\", \"pop\", \"pops\", \"premiership\", \"premiership\", \"premiership\", \"prescott\", \"presley\", \"prices\", \"prices\", \"prices\", \"prime\", \"prime\", \"prime\", \"printer\", \"profits\", \"profits\", \"profits\", \"profits\", \"public\", \"public\", \"public\", \"public\", \"public\", \"real\", \"real\", \"real\", \"real\", \"real\", \"record\", \"record\", \"record\", \"record\", \"record\", \"redknapp\", \"referee\", \"referee\", \"referee\", \"referendum\", \"reggae\", \"republic\", \"rfid\", \"robben\", \"rock\", \"rock\", \"rock\", \"rooney\", \"rosneft\", \"russian\", \"russian\", \"russian\", \"saints\", \"sales\", \"sales\", \"sales\", \"sales\", \"say\", \"say\", \"say\", \"say\", \"say\", \"says\", \"says\", \"says\", \"says\", \"says\", \"scored\", \"scored\", \"scored\", \"scoring\", \"screensaver\", \"search\", \"search\", \"search\", \"second\", \"second\", \"second\", \"second\", \"second\", \"secretary\", \"secretary\", \"secretary\", \"secretary\", \"secretary\", \"security\", \"security\", \"security\", \"security\", \"service\", \"service\", \"service\", \"service\", \"shares\", \"shares\", \"shares\", \"shares\", \"shares\", \"shot\", \"shot\", \"shot\", \"shot\", \"shot\", \"show\", \"show\", \"show\", \"show\", \"show\", \"side\", \"side\", \"side\", \"side\", \"siemens\", \"simonetti\", \"singer\", \"singer\", \"singer\", \"site\", \"site\", \"site\", \"sites\", \"sites\", \"sites\", \"skype\", \"slowdown\", \"song\", \"song\", \"song\", \"spanish\", \"spanish\", \"spanish\", \"spanish\", \"star\", \"star\", \"star\", \"star\", \"starring\", \"starring\", \"starring\", \"starring\", \"stern\", \"still\", \"still\", \"still\", \"still\", \"still\", \"subs\", \"subscription\", \"sullivan\", \"team\", \"team\", \"team\", \"team\", \"technology\", \"technology\", \"technology\", \"technology\", \"technology\", \"terrorist\", \"terrorists\", \"that's\", \"that's\", \"that's\", \"that's\", \"that's\", \"think\", \"think\", \"think\", \"think\", \"think\", \"three\", \"three\", \"three\", \"three\", \"three\", \"tie\", \"tie\", \"time\", \"time\", \"time\", \"time\", \"time\", \"tobacco\", \"tony\", \"tony\", \"tony\", \"tony\", \"tony\", \"top\", \"top\", \"top\", \"top\", \"top\", \"tories\", \"tories\", \"tory\", \"tory\", \"toshiba\", \"turkey\", \"turkey\", \"tv\", \"tv\", \"tv\", \"tv\", \"tv\", \"uefa\", \"uefa\", \"uk\", \"uk\", \"uk\", \"uk\", \"uk\", \"ukip\", \"united\", \"united\", \"united\", \"united\", \"united\", \"urban\", \"use\", \"use\", \"use\", \"use\", \"use\", \"used\", \"used\", \"used\", \"used\", \"used\", \"used:\", \"users\", \"users\", \"users\", \"users\", \"using\", \"using\", \"using\", \"using\", \"using\", \"valve\", \"viewers\", \"viewers\", \"viewers\", \"viewers\", \"virus\", \"virus\", \"want\", \"want\", \"want\", \"want\", \"want\", \"way\", \"way\", \"way\", \"way\", \"way\", \"well\", \"well\", \"well\", \"well\", \"well\", \"wi-fi\", \"wilson\", \"win\", \"win\", \"win\", \"win\", \"win\", \"window\", \"window.\", \"wireless\", \"wireless\", \"wireless\", \"wolves\", \"world\", \"world\", \"world\", \"world\", \"world\", \"worldcom\", \"worldcom's\", \"wright-phillips\", \"yards\", \"yards.\", \"year\", \"year\", \"year\", \"year\", \"year\", \"year's\", \"year's\", \"year's\", \"year's\", \"year's\", \"yugansk\", \"yukos\"]}, \"tinfo\": {\"Freq\": [566.0, 307.0, 249.0, 229.0, 301.0, 189.0, 158.0, 214.0, 224.0, 205.0, 161.0, 210.0, 392.0, 146.0, 141.0, 199.0, 225.0, 217.0, 222.0, 148.0, 301.0, 127.0, 138.0, 189.0, 139.0, 201.0, 129.0, 98.0, 209.0, 86.0, 33.14898910482823, 25.839689634952535, 20.648546669641995, 20.540171880253297, 20.021344475861316, 32.27881685216194, 26.083193068911477, 16.197879398702934, 26.437396413167896, 14.458662528364457, 15.132287787936184, 28.640477003212688, 28.84070194132195, 13.025170741000007, 19.454075514641396, 19.061326662666808, 15.28704563887488, 37.55191478327893, 16.411932104281124, 11.461106522329183, 14.033849057929693, 12.981641378345675, 12.471663843170035, 10.516748623119401, 10.274538199093524, 12.634642011541581, 11.308789153339422, 11.378753920792546, 14.889716236845578, 9.63784962887581, 216.50675230489006, 116.06411111919456, 34.42456035166885, 131.85803753355432, 45.21211646923254, 95.74453620218179, 55.98323728404641, 64.28544372372683, 31.057083554149624, 178.61161652587302, 126.02011098221278, 25.86124720437249, 82.14739825993864, 122.37922932300691, 120.14230120546554, 124.50174742420157, 135.6779328787114, 55.78245736737112, 54.411896193907495, 40.97307717221427, 142.23969206719357, 48.74643312174197, 60.940081098129326, 85.90509408780328, 61.10127323245902, 92.21307713443865, 136.74844079118887, 97.12460766897307, 87.25675091857914, 89.17570479471306, 133.25777010429502, 94.88956814024476, 150.1880817683763, 121.1597858546686, 122.74102664834184, 100.77335479706238, 81.81196139219117, 132.7176755048892, 92.9794555200151, 106.19053704918711, 111.46703187660407, 131.57906542527982, 131.0345913424849, 125.20481156568005, 145.39262910017322, 106.27699497618383, 116.59771144663239, 111.41318365643568, 102.56782845839366, 101.46588101231643, 107.29998641424494, 100.54158657618996, 58.91934081152743, 53.13422626972589, 140.39123119575325, 54.87585695258316, 35.935236539700675, 32.65371586002009, 36.75313029888076, 23.48482685335474, 38.86466581174264, 28.66590979415094, 22.784740641356205, 25.57107211201807, 39.666707885218436, 225.3632980134834, 21.439638070028778, 25.941617191795217, 17.66204620736108, 32.4227343779463, 16.4233605221937, 16.524176859045365, 15.179752115571949, 43.66360669001563, 16.684273888243148, 30.98818774789893, 24.99657264316526, 13.75445530437637, 15.505808448667107, 13.596700522406545, 29.32873732027929, 23.028923267918845, 75.8296613522243, 102.75963745563242, 60.18716398773111, 204.64441811052282, 141.83214667456724, 123.18917577371204, 55.54821855141208, 69.82669256229727, 29.32740538611383, 83.32066335442025, 87.71824433381994, 125.57234362625529, 136.48565200447322, 99.25341709843265, 70.93551706527444, 101.97580876429684, 159.8429154099767, 184.64345297413803, 117.46718999736878, 86.91153574406817, 89.36183451573908, 70.85935175225029, 71.93001768340555, 115.19593618187557, 249.9494940791583, 149.6487879628336, 88.70587183225906, 79.41447409958963, 118.53638292056938, 76.40808902200864, 100.23572232575508, 100.47981665079266, 112.14584276875026, 116.73696584106511, 122.25314834281727, 109.21175122153899, 101.23494226727608, 97.53638181183494, 93.7014310947871, 89.941542366309, 89.71029817015443, 88.77669217734716, 69.2263181148241, 32.08563130000385, 25.876281902249637, 24.228575659736297, 18.930978914017853, 29.832938490225022, 16.827823246455253, 18.761739087486877, 25.59069405594404, 18.519448948745705, 15.660651566798116, 17.421752757616876, 59.523787850687434, 15.40006961363261, 21.817002177052395, 18.621512539399422, 11.74527897197344, 13.448091822020748, 16.13415180843486, 19.401110783807543, 11.012307031387166, 10.989765764524556, 10.435679437362369, 10.441425407065823, 10.35396766741883, 11.85850370231402, 10.279350682041077, 11.158660900765257, 14.769949673691418, 10.335371536825376, 92.04518781145372, 235.6879088998817, 120.04758182479891, 97.03317088218165, 86.80794577063511, 12.520822120550903, 275.0822406419678, 93.34094860220851, 37.82377652466873, 44.63024654552176, 54.05291144856938, 472.44207592158256, 67.18748509658735, 179.79213703298018, 111.84610864516794, 54.350322493073094, 71.16846500964847, 47.27726569055781, 55.087159662102046, 43.18263648178355, 45.003670826669676, 40.68247985785541, 32.81683285887175, 101.33137756548665, 54.64441818953775, 158.97769544376067, 67.08129206960179, 71.97834982293348, 192.60998252310662, 106.69937419580798, 158.43032856360037, 104.32009694649479, 59.73428726783517, 204.95129888932243, 102.03950998895684, 101.81188906345619, 142.55139295783044, 110.48311361193724, 79.15138173637465, 92.888234723067, 120.83717895940653, 141.10482069617893, 106.64114889428934, 103.09534179203243, 82.14723086531109, 77.5436324519905, 33.02455936067728, 28.540891336043337, 16.844248215102652, 15.841444436915221, 15.728752319367382, 17.600261710351027, 21.9569471162436, 26.17642813985444, 11.851236802864744, 11.580781667726976, 11.160764849079149, 11.845899396492387, 10.284793840030023, 9.561114086952585, 9.580216504270938, 11.199479105377005, 10.36144386212749, 8.909018828288804, 8.873470841165236, 8.727608325492222, 8.269486412157155, 9.922043583494286, 8.238015305946098, 14.695813561950803, 8.055239076985714, 7.93289124447448, 10.125128432817114, 7.939233190013562, 11.62234819009933, 7.454757173346301, 10.611202182700893, 9.220967326513062, 9.946347764267223, 11.894350203694664, 10.460462581968418, 11.615307124521152, 43.67440554616433, 22.71617290508476, 35.39414130498475, 38.77736816473714, 137.4694522441269, 38.91318282137323, 91.51746970800966, 12.697875749015434, 65.06691753423851, 72.44952497760602, 69.40057892288405, 149.78356856910486, 116.18109116425953, 59.955812291316974, 120.1048887272058, 21.913880851025265, 86.31031879463715, 40.001396636607495, 29.90615433735986, 77.08095039210757, 73.30363526817779, 30.905526116044147, 111.88304754681712, 81.31382120806649, 62.12087251635021, 120.68973992849502, 45.102099692286075, 53.63970692246535, 87.35905125002236, 47.89960151200234, 71.13206052511148, 59.151602586602465, 87.70060413763144, 79.25852192745215, 49.382202751368425, 87.07953209171049, 88.8413070480188, 79.38861085508286, 64.84869206809358, 90.46267336881003, 57.33823757964908, 63.152652423385696, 66.70716538022864, 60.71470177294563, 62.521547590869794, 68.22668873383333, 60.3769242037253, 34.135915147851335, 34.15336605941184, 30.022671399083784, 26.57924823556463, 30.636595466614526, 23.983882483040638, 25.86619761108092, 32.75915468898707, 21.411145614968333, 19.524278382923722, 19.18016364215457, 18.860687641606138, 22.677607692791533, 18.6231563587542, 16.450339613286342, 15.09347079950858, 16.387829734877904, 14.484051508771511, 15.799053391337045, 13.63637991561399, 22.50169257548017, 13.167593812159629, 12.863118996663689, 18.745619066035566, 15.935583222082228, 12.22933694576919, 11.70517209486118, 11.584711710491442, 14.434348392961219, 11.263394237395126, 150.28480343434978, 81.56632627035921, 34.80110956063741, 61.049037118276, 43.05966529969511, 32.28484974168003, 86.85812029287965, 80.44458636285036, 156.1781591252335, 52.15633011937313, 76.78852123502065, 30.44997475033171, 74.99607345785856, 90.3390460345065, 108.98950313565592, 114.26332934717055, 34.46118940492416, 63.09644129411845, 44.51518766511238, 44.73426089736122, 51.96119822055276, 163.54694046748904, 118.57188998732697, 117.2409125694503, 116.6718969363955, 57.76218633038302, 74.28966916923464, 96.44731027795362, 69.96982640949183, 75.16522790122946, 98.24283528108354, 63.751783118072545, 94.82212593902447, 98.29940348896069, 126.68067749685969, 80.63575371536359, 87.9203596272506, 75.94449912538063, 100.83068327745369, 75.59475161445283, 79.8885726024008, 69.91546740872089, 65.6023213173278, 65.6254954352863], \"logprob\": [30.0, 29.0, 28.0, 27.0, 26.0, 25.0, 24.0, 23.0, 22.0, 21.0, 20.0, 19.0, 18.0, 17.0, 16.0, 15.0, 14.0, 13.0, 12.0, 11.0, 10.0, 9.0, 8.0, 7.0, 6.0, 5.0, 4.0, 3.0, 2.0, 1.0, -7.4675, -7.7166, -7.9409, -7.9462, -7.9717, -7.4941, -7.7072, -8.1837, -7.6938, -8.2972, -8.2517, -7.6137, -7.6068, -8.4017, -8.0005, -8.0209, -8.2415, -7.3428, -8.1705, -8.5296, -8.3271, -8.405, -8.4451, -8.6156, -8.6389, -8.4321, -8.543, -8.5368, -8.2679, -8.7028, -5.5909, -6.2144, -7.4298, -6.0868, -7.1572, -6.4069, -6.9435, -6.8052, -7.5327, -5.7833, -6.1321, -7.7158, -6.56, -6.1614, -6.1799, -6.1442, -6.0583, -6.9471, -6.972, -7.2556, -6.011, -7.0819, -6.8586, -6.5153, -6.856, -6.4444, -6.0504, -6.3925, -6.4997, -6.4779, -6.0763, -6.4158, -5.9567, -6.1714, -6.1585, -6.3557, -6.5641, -6.0803, -6.4362, -6.3033, -6.2548, -6.0889, -6.0931, -6.1386, -5.9891, -6.3025, -6.2098, -6.2553, -6.338, -6.3488, -6.2929, -6.358, -6.8123, -6.9156, -5.944, -6.8834, -7.3067, -7.4025, -7.2842, -7.7321, -7.2284, -7.5327, -7.7624, -7.647, -7.2079, -5.4707, -7.8232, -7.6326, -8.017, -7.4096, -8.0897, -8.0836, -8.1685, -7.1119, -8.074, -7.4548, -7.6697, -8.2671, -8.1472, -8.2786, -7.5099, -7.7517, -6.56, -6.2561, -6.791, -5.5672, -5.9338, -6.0747, -6.8712, -6.6424, -7.5099, -6.4657, -6.4143, -6.0556, -5.9722, -6.2908, -6.6267, -6.2637, -5.8143, -5.67, -6.1223, -6.4236, -6.3958, -6.6277, -6.6128, -6.1418, -5.3672, -5.8802, -6.4031, -6.5138, -6.1132, -6.5524, -6.2809, -6.2785, -6.1686, -6.1285, -6.0824, -6.1952, -6.271, -6.3082, -6.3483, -6.3893, -6.3919, -6.4023, -6.4771, -7.246, -7.4611, -7.5269, -7.7736, -7.3188, -7.8914, -7.7826, -7.4722, -7.7956, -7.9633, -7.8567, -6.6281, -7.9801, -7.6318, -7.7901, -8.251, -8.1156, -7.9335, -7.7491, -8.3154, -8.3175, -8.3692, -8.3687, -8.3771, -8.2414, -8.3843, -8.3022, -8.0219, -8.3789, -6.1922, -5.2519, -5.9266, -6.1394, -6.2508, -8.1871, -5.0974, -6.1782, -7.0815, -6.916, -6.7245, -4.5565, -6.507, -5.5226, -5.9973, -6.719, -6.4494, -6.8584, -6.7055, -6.949, -6.9077, -7.0087, -7.2235, -6.0961, -6.7136, -5.6457, -6.5085, -6.4381, -5.4538, -6.0444, -5.6491, -6.067, -6.6245, -5.3917, -6.0891, -6.0913, -5.7547, -6.0096, -6.3431, -6.1831, -5.92, -5.7649, -6.045, -6.0788, -6.3059, -6.3636, -6.9303, -7.0762, -7.6036, -7.6649, -7.6721, -7.5597, -7.3385, -7.1627, -7.9551, -7.9782, -8.0152, -7.9556, -8.0969, -8.1699, -8.1679, -8.0117, -8.0895, -8.2405, -8.2445, -8.2611, -8.315, -8.1328, -8.3188, -7.74, -8.3412, -8.3566, -8.1126, -8.3558, -7.9746, -8.4187, -8.0657, -8.2061, -8.1304, -7.9515, -8.08, -7.9752, -6.6508, -7.3045, -6.861, -6.7697, -5.5042, -6.7662, -5.911, -7.8861, -6.2522, -6.1447, -6.1877, -5.4184, -5.6724, -6.334, -5.6392, -7.3405, -5.9696, -6.7387, -7.0295, -6.0827, -6.133, -6.9966, -5.7101, -6.0293, -6.2985, -5.6343, -6.6186, -6.4453, -5.9575, -6.5585, -6.163, -6.3475, -5.9536, -6.0549, -6.528, -5.9607, -5.9407, -6.0532, -6.2555, -5.9226, -6.3786, -6.282, -6.2273, -6.3214, -6.2921, -6.2047, -6.327, -6.8653, -6.8648, -6.9937, -7.1155, -6.9734, -7.2183, -7.1427, -6.9065, -7.3317, -7.424, -7.4418, -7.4586, -7.2743, -7.4712, -7.5953, -7.6814, -7.5991, -7.7226, -7.6357, -7.7829, -7.282, -7.8179, -7.8413, -7.4647, -7.6271, -7.8918, -7.9356, -7.9459, -7.726, -7.9741, -5.3831, -5.9942, -6.846, -6.284, -6.633, -6.921, -5.9314, -6.0081, -5.3446, -6.4414, -6.0546, -6.9795, -6.0782, -5.8921, -5.7044, -5.6571, -6.8558, -6.251, -6.5998, -6.5949, -6.4451, -5.2985, -5.6201, -5.6314, -5.6363, -6.3393, -6.0877, -5.8266, -6.1476, -6.0759, -5.8082, -6.2406, -5.8436, -5.8076, -5.554, -6.0057, -5.9192, -6.0656, -5.7822, -6.0702, -6.015, -6.1483, -6.212, -6.2117], \"loglift\": [30.0, 29.0, 28.0, 27.0, 26.0, 25.0, 24.0, 23.0, 22.0, 21.0, 20.0, 19.0, 18.0, 17.0, 16.0, 15.0, 14.0, 13.0, 12.0, 11.0, 10.0, 9.0, 8.0, 7.0, 6.0, 5.0, 4.0, 3.0, 2.0, 1.0, 1.3374, 1.3356, 1.3328, 1.3328, 1.3324, 1.3318, 1.3298, 1.3291, 1.328, 1.3269, 1.3267, 1.3253, 1.3248, 1.3248, 1.3236, 1.3225, 1.3225, 1.322, 1.3219, 1.3219, 1.3217, 1.3208, 1.3205, 1.3196, 1.319, 1.3187, 1.3182, 1.3181, 1.3176, 1.3172, 1.3084, 1.3021, 1.3008, 1.2611, 1.2881, 1.263, 1.2783, 1.2574, 1.2842, 1.188, 1.1837, 1.2835, 1.1893, 1.1274, 1.1199, 1.1149, 1.0977, 1.1836, 1.1858, 1.2229, 1.0319, 1.1926, 1.1394, 1.0696, 1.1312, 1.0299, 0.8984, 0.984, 0.9953, 0.981, 0.8269, 0.917, 0.7186, 0.7899, 0.766, 0.8336, 0.9539, 0.6422, 0.8673, 0.7784, 0.5487, 0.3432, 0.1899, 0.2385, -0.0839, 0.4946, 0.1338, 0.2517, 0.3302, 0.3709, -0.2448, -0.0226, 1.4206, 1.4198, 1.4186, 1.4175, 1.4153, 1.4132, 1.4123, 1.4119, 1.4116, 1.4113, 1.4107, 1.4103, 1.4099, 1.4093, 1.4092, 1.4071, 1.4063, 1.406, 1.4047, 1.4043, 1.4039, 1.4035, 1.4031, 1.4031, 1.4025, 1.4015, 1.401, 1.4009, 1.4005, 1.4, 1.3978, 1.3941, 1.3967, 1.3818, 1.3808, 1.3775, 1.3879, 1.3817, 1.3973, 1.3607, 1.3401, 1.315, 1.3062, 1.3154, 1.3293, 1.2947, 1.254, 1.2388, 1.2776, 1.3064, 1.2685, 1.3006, 1.2958, 1.2104, 0.9764, 1.0499, 1.153, 1.1773, 0.8829, 1.1698, 0.8642, 0.8139, 0.6639, 0.3329, 0.2007, 0.4175, 0.4487, 0.0688, -0.0236, 0.286, 0.1151, 0.1753, 1.5948, 1.5869, 1.5865, 1.5861, 1.5827, 1.5812, 1.5807, 1.5794, 1.5793, 1.579, 1.5781, 1.5773, 1.5757, 1.5754, 1.5733, 1.5723, 1.572, 1.5717, 1.5711, 1.5709, 1.5702, 1.5701, 1.5689, 1.5688, 1.5687, 1.568, 1.5678, 1.5673, 1.5667, 1.5663, 1.5573, 1.545, 1.538, 1.5278, 1.5265, 1.5658, 1.4909, 1.5047, 1.5301, 1.5217, 1.5122, 1.4195, 1.5028, 1.4424, 1.463, 1.5063, 1.4751, 1.4969, 1.482, 1.4935, 1.4862, 1.4912, 1.5048, 1.2915, 1.4005, 1.1755, 1.3512, 1.3239, 0.9965, 1.1354, 0.9744, 1.0324, 1.301, 0.5135, 0.9399, 0.9018, 0.6223, 0.7875, 1.0604, 0.855, 0.5121, 0.2832, 0.4735, 0.3826, 0.9085, 0.6076, 1.8748, 1.8739, 1.8651, 1.8641, 1.8639, 1.863, 1.8607, 1.8564, 1.8563, 1.8555, 1.8542, 1.8525, 1.8516, 1.8488, 1.8487, 1.8486, 1.8484, 1.8461, 1.8458, 1.8439, 1.843, 1.8429, 1.8427, 1.8426, 1.8417, 1.8411, 1.8407, 1.8406, 1.8397, 1.8382, 1.8375, 1.8374, 1.8329, 1.8236, 1.8301, 1.8216, 1.7304, 1.7573, 1.7076, 1.6785, 1.4841, 1.651, 1.475, 1.7943, 1.4531, 1.406, 1.4137, 1.1875, 1.1686, 1.35, 1.1183, 1.6103, 1.1276, 1.3935, 1.4788, 1.1097, 1.1119, 1.459, 0.8974, 0.989, 1.0804, 0.6903, 1.2421, 1.13, 0.8251, 1.1972, 0.9305, 1.0316, 0.624, 0.6204, 1.1277, 0.3746, 0.3423, 0.4082, 0.6785, -0.0175, 0.8374, 0.6217, 0.4198, 0.5564, 0.4081, -0.1566, 0.5396, 1.908, 1.908, 1.907, 1.9055, 1.9035, 1.9033, 1.9028, 1.9026, 1.9023, 1.8998, 1.8998, 1.8993, 1.8986, 1.8978, 1.897, 1.8952, 1.8942, 1.8934, 1.8926, 1.8926, 1.8925, 1.8912, 1.891, 1.8897, 1.8894, 1.8881, 1.8881, 1.8878, 1.8874, 1.887, 1.8666, 1.8598, 1.8758, 1.8637, 1.8646, 1.8563, 1.7985, 1.7886, 1.7281, 1.8073, 1.7708, 1.8287, 1.727, 1.6891, 1.6254, 1.5714, 1.7879, 1.6707, 1.7262, 1.7163, 1.6577, 1.309, 1.3908, 1.3026, 1.2594, 1.5582, 1.44, 1.1917, 1.3666, 1.3031, 1.0956, 1.3855, 0.8566, 0.8051, 0.4942, 0.9655, 0.7015, 0.9218, 0.123, 0.6183, 0.3204, 0.3702, 1.0329, 0.8819], \"Category\": [\"Default\", \"Default\", \"Default\", \"Default\", \"Default\", \"Default\", \"Default\", \"Default\", \"Default\", \"Default\", \"Default\", \"Default\", \"Default\", \"Default\", \"Default\", \"Default\", \"Default\", \"Default\", \"Default\", \"Default\", \"Default\", \"Default\", \"Default\", \"Default\", \"Default\", \"Default\", \"Default\", \"Default\", \"Default\", \"Default\", \"Topic1\", \"Topic1\", \"Topic1\", \"Topic1\", \"Topic1\", \"Topic1\", \"Topic1\", \"Topic1\", \"Topic1\", \"Topic1\", \"Topic1\", \"Topic1\", \"Topic1\", \"Topic1\", \"Topic1\", \"Topic1\", \"Topic1\", \"Topic1\", \"Topic1\", \"Topic1\", \"Topic1\", \"Topic1\", \"Topic1\", \"Topic1\", \"Topic1\", \"Topic1\", \"Topic1\", \"Topic1\", \"Topic1\", \"Topic1\", \"Topic1\", \"Topic1\", \"Topic1\", \"Topic1\", \"Topic1\", \"Topic1\", \"Topic1\", \"Topic1\", \"Topic1\", \"Topic1\", \"Topic1\", \"Topic1\", \"Topic1\", \"Topic1\", \"Topic1\", \"Topic1\", \"Topic1\", \"Topic1\", \"Topic1\", \"Topic1\", \"Topic1\", \"Topic1\", \"Topic1\", \"Topic1\", \"Topic1\", \"Topic1\", \"Topic1\", \"Topic1\", \"Topic1\", \"Topic1\", \"Topic1\", \"Topic1\", \"Topic1\", \"Topic1\", \"Topic1\", \"Topic1\", \"Topic1\", \"Topic1\", \"Topic1\", \"Topic1\", \"Topic1\", \"Topic1\", \"Topic1\", \"Topic1\", \"Topic1\", \"Topic1\", \"Topic1\", \"Topic1\", \"Topic1\", \"Topic1\", \"Topic1\", \"Topic1\", \"Topic2\", \"Topic2\", \"Topic2\", \"Topic2\", \"Topic2\", \"Topic2\", \"Topic2\", \"Topic2\", \"Topic2\", \"Topic2\", \"Topic2\", \"Topic2\", \"Topic2\", \"Topic2\", \"Topic2\", \"Topic2\", \"Topic2\", \"Topic2\", \"Topic2\", \"Topic2\", \"Topic2\", \"Topic2\", \"Topic2\", \"Topic2\", \"Topic2\", \"Topic2\", \"Topic2\", \"Topic2\", \"Topic2\", \"Topic2\", \"Topic2\", \"Topic2\", \"Topic2\", \"Topic2\", \"Topic2\", \"Topic2\", \"Topic2\", \"Topic2\", \"Topic2\", \"Topic2\", \"Topic2\", \"Topic2\", \"Topic2\", \"Topic2\", \"Topic2\", \"Topic2\", \"Topic2\", \"Topic2\", \"Topic2\", \"Topic2\", \"Topic2\", \"Topic2\", \"Topic2\", \"Topic2\", \"Topic2\", \"Topic2\", \"Topic2\", \"Topic2\", \"Topic2\", \"Topic2\", \"Topic2\", \"Topic2\", \"Topic2\", \"Topic2\", \"Topic2\", \"Topic2\", \"Topic2\", \"Topic2\", \"Topic2\", \"Topic2\", \"Topic2\", \"Topic2\", \"Topic3\", \"Topic3\", \"Topic3\", \"Topic3\", \"Topic3\", \"Topic3\", \"Topic3\", \"Topic3\", \"Topic3\", \"Topic3\", \"Topic3\", \"Topic3\", \"Topic3\", \"Topic3\", \"Topic3\", \"Topic3\", \"Topic3\", \"Topic3\", \"Topic3\", \"Topic3\", \"Topic3\", \"Topic3\", \"Topic3\", \"Topic3\", \"Topic3\", \"Topic3\", \"Topic3\", \"Topic3\", \"Topic3\", \"Topic3\", \"Topic3\", \"Topic3\", \"Topic3\", \"Topic3\", \"Topic3\", \"Topic3\", \"Topic3\", \"Topic3\", \"Topic3\", \"Topic3\", \"Topic3\", \"Topic3\", \"Topic3\", \"Topic3\", \"Topic3\", \"Topic3\", \"Topic3\", \"Topic3\", \"Topic3\", \"Topic3\", \"Topic3\", \"Topic3\", \"Topic3\", \"Topic3\", \"Topic3\", \"Topic3\", \"Topic3\", \"Topic3\", \"Topic3\", \"Topic3\", \"Topic3\", \"Topic3\", \"Topic3\", \"Topic3\", \"Topic3\", \"Topic3\", \"Topic3\", \"Topic3\", \"Topic3\", \"Topic3\", \"Topic3\", \"Topic3\", \"Topic3\", \"Topic3\", \"Topic3\", \"Topic3\", \"Topic4\", \"Topic4\", \"Topic4\", \"Topic4\", \"Topic4\", \"Topic4\", \"Topic4\", \"Topic4\", \"Topic4\", \"Topic4\", \"Topic4\", \"Topic4\", \"Topic4\", \"Topic4\", \"Topic4\", \"Topic4\", \"Topic4\", \"Topic4\", \"Topic4\", \"Topic4\", \"Topic4\", \"Topic4\", \"Topic4\", \"Topic4\", \"Topic4\", \"Topic4\", \"Topic4\", \"Topic4\", \"Topic4\", \"Topic4\", \"Topic4\", \"Topic4\", \"Topic4\", \"Topic4\", \"Topic4\", \"Topic4\", \"Topic4\", \"Topic4\", \"Topic4\", \"Topic4\", \"Topic4\", \"Topic4\", \"Topic4\", \"Topic4\", \"Topic4\", \"Topic4\", \"Topic4\", \"Topic4\", \"Topic4\", \"Topic4\", \"Topic4\", \"Topic4\", \"Topic4\", \"Topic4\", \"Topic4\", \"Topic4\", \"Topic4\", \"Topic4\", \"Topic4\", \"Topic4\", \"Topic4\", \"Topic4\", \"Topic4\", \"Topic4\", \"Topic4\", \"Topic4\", \"Topic4\", \"Topic4\", \"Topic4\", \"Topic4\", \"Topic4\", \"Topic4\", \"Topic4\", \"Topic4\", \"Topic4\", \"Topic4\", \"Topic4\", \"Topic4\", \"Topic4\", \"Topic4\", \"Topic4\", \"Topic4\", \"Topic4\", \"Topic5\", \"Topic5\", \"Topic5\", \"Topic5\", \"Topic5\", \"Topic5\", \"Topic5\", \"Topic5\", \"Topic5\", \"Topic5\", \"Topic5\", \"Topic5\", \"Topic5\", \"Topic5\", \"Topic5\", \"Topic5\", \"Topic5\", \"Topic5\", \"Topic5\", \"Topic5\", \"Topic5\", \"Topic5\", \"Topic5\", \"Topic5\", \"Topic5\", \"Topic5\", \"Topic5\", \"Topic5\", \"Topic5\", \"Topic5\", \"Topic5\", \"Topic5\", \"Topic5\", \"Topic5\", \"Topic5\", \"Topic5\", \"Topic5\", \"Topic5\", \"Topic5\", \"Topic5\", \"Topic5\", \"Topic5\", \"Topic5\", \"Topic5\", \"Topic5\", \"Topic5\", \"Topic5\", \"Topic5\", \"Topic5\", \"Topic5\", \"Topic5\", \"Topic5\", \"Topic5\", \"Topic5\", \"Topic5\", \"Topic5\", \"Topic5\", \"Topic5\", \"Topic5\", \"Topic5\", \"Topic5\", \"Topic5\", \"Topic5\", \"Topic5\", \"Topic5\", \"Topic5\", \"Topic5\", \"Topic5\", \"Topic5\", \"Topic5\", \"Topic5\", \"Topic5\", \"Topic5\", \"Topic5\"], \"Total\": [566.0, 307.0, 249.0, 229.0, 301.0, 189.0, 158.0, 214.0, 224.0, 205.0, 161.0, 210.0, 392.0, 146.0, 141.0, 199.0, 225.0, 217.0, 222.0, 148.0, 301.0, 127.0, 138.0, 189.0, 139.0, 201.0, 129.0, 98.0, 209.0, 86.0, 33.45951217323137, 26.128188969561144, 20.937538752504864, 20.828690054395015, 20.309807257545966, 32.761834297573955, 26.52810316458187, 16.486286236774383, 26.937511749208458, 14.748204611095234, 15.437727954959021, 29.26102234537795, 29.479295666879157, 13.313664905314178, 19.90884020259166, 19.527329125184224, 15.66092135974468, 38.490529160357006, 16.82442494108138, 11.74945508005637, 14.389594009033313, 13.322019150867726, 12.803040928784702, 10.806075076555809, 10.563136961007453, 12.993793287462175, 11.635571419660952, 11.709226688039212, 15.329781582241608, 9.926214826084866, 224.96423093995446, 121.35398670637343, 36.04026036862483, 143.63661416123267, 47.938402170153424, 104.10588925520281, 59.94841507734419, 70.28715862377506, 33.06070382616508, 209.32554080515237, 148.33703940091505, 27.548733626859754, 96.1550180856763, 152.38605831552331, 150.72322671349906, 156.97896206480402, 174.0474030518031, 65.66204188791868, 63.91245743528439, 46.373521627488955, 194.86828293759075, 56.86589390228777, 74.97760483295671, 113.3316538588658, 75.79393386934098, 126.58258744321269, 214.10041972077175, 139.58229411698483, 123.99121897316111, 128.54857146406394, 224.10836308943792, 145.82574352620796, 281.4473662025794, 211.44121373937585, 219.37406384535385, 168.33743151776915, 121.16958676618437, 268.4612048655957, 150.17311250048039, 187.4449713990796, 247.59010474287606, 358.9293434454517, 416.63609709444484, 379.2420528019829, 607.9362491808681, 249.1843936426395, 392.16308744426885, 333.0356257061244, 283.4471660101367, 269.2285034185767, 526.9556706288045, 395.38687450230424, 59.284100640232076, 53.505328274400505, 141.54744337198088, 55.386564472196135, 36.351729720188146, 33.0998405010626, 37.2889295417302, 23.836774088321715, 39.46111990689556, 29.11391575362732, 23.155285462771495, 25.996676752035103, 40.34453824085539, 229.35173631486026, 21.819159901915455, 26.458455915604755, 18.02824165372445, 33.10302552777137, 16.790590469089423, 16.90049998003876, 15.531921036043965, 44.693277964843624, 17.083900515034987, 31.732184171115712, 25.61036201896554, 14.106913010834525, 15.911675055879675, 13.953555534797335, 30.11029291513534, 23.65477632921801, 78.06137937879461, 106.1709225848116, 62.02817006693002, 214.07136463384512, 148.50098555737438, 129.4128826988985, 57.74994953166223, 73.0502883025086, 30.204126932437017, 89.00972260542457, 95.66606508444029, 140.42229372174359, 153.98311411006475, 110.95429551343419, 78.19655343224804, 116.38157977391795, 189.99520925950048, 222.8433942290795, 136.36103767152997, 98.03496978958891, 104.68606563680446, 80.38831921792782, 81.99943023367999, 143.03018954200152, 392.16308744426885, 218.14105123024495, 116.64687163798901, 101.91900157413393, 204.19803744228682, 98.79444110568531, 175.9419308456114, 185.45601147905526, 240.48452086437882, 348.56836352995, 416.63609709444484, 299.63355248208984, 269.2285034185767, 379.2420528019829, 399.63600383826423, 281.4473662025794, 333.0356257061244, 310.3109670775687, 69.64337971902052, 32.53398576804687, 26.24957443984019, 24.585968647637774, 19.27670647561429, 30.42248033863128, 17.16904582107385, 19.168008026583305, 26.145974217851037, 18.92683663010256, 16.02032479102758, 17.835223191938915, 61.03567861237493, 15.795815891565054, 22.424916240322016, 19.160052786616035, 12.088639070240374, 13.84481497370865, 16.62075724072009, 19.98912337532918, 11.354662640296988, 11.332328298189584, 10.773753216600944, 10.780701714686975, 10.692103168764712, 12.25366700462817, 10.623986595518442, 11.539174715784881, 15.282797818955734, 10.698136000242116, 96.1337795222693, 249.20921822863673, 127.82968914337586, 104.38425054463883, 93.50038024224672, 12.966197223228923, 307.0247352757771, 102.75948923191547, 40.592838390695945, 48.304755736831765, 59.06024301858398, 566.3585505845554, 74.10621183525026, 210.6473494402287, 128.36455448641848, 59.73501847426305, 80.70391102075317, 52.452235828261564, 62.03374543990849, 48.074691686421446, 50.4685233678888, 45.39585049886303, 36.121877653608415, 138.06088563703406, 66.75953685892965, 243.2344251463552, 86.1006049938692, 94.93875209982922, 352.46622532357867, 169.9325395653887, 296.3849366177008, 184.16861090204958, 80.6136954717199, 607.9362491808681, 197.59745105239494, 204.81606154381942, 379.2420528019829, 249.1843936426395, 135.87086191595276, 195.81723734358252, 358.9293434454517, 526.9556706288045, 329.21603086602926, 348.56836352995, 164.1609725931889, 209.35512905197004, 33.45242279234793, 28.936957551455457, 17.22866555269597, 16.219964848483823, 16.107731514000285, 18.040071728541882, 22.556806781945426, 27.00660524547967, 12.22950327746406, 11.959111618927372, 11.541128962514549, 12.270264637927774, 10.662991168183787, 9.939618127595628, 9.960996307300547, 11.64529064935949, 10.776803492960918, 9.287189082736113, 9.252883106979098, 9.117845707576828, 8.64764647954682, 10.375914034069067, 8.616545055123943, 15.373887948967578, 8.434104793843245, 8.311068106753636, 10.611847931928374, 8.321632758725777, 12.193091906036722, 7.832910659803008, 11.157453707202627, 9.696616863118438, 10.506353366723571, 12.681726660656805, 11.080801939035563, 12.408642486590539, 51.11042837621466, 25.880468783119028, 42.37939090594411, 47.79816536425815, 205.81799272441714, 49.302236612815776, 138.27441355547234, 13.940271858966142, 100.48686885354053, 117.2837972549502, 111.48356852479736, 301.685782400843, 238.458751875784, 102.64539853797291, 259.2386728545864, 28.91994350799742, 184.5724863581095, 65.56583326405816, 45.01133130631874, 167.8045268314726, 159.22992801518723, 47.44597236971533, 301.1779663069301, 199.72563320316357, 139.2577066539302, 399.63600383826423, 86.01242321009435, 114.42668490704426, 252.78973648621525, 95.54307987932101, 185.24411750172567, 139.23738408234018, 310.3109670775687, 281.4649212108666, 105.59176085571039, 395.38687450230424, 416.63609709444484, 348.56836352995, 217.29636393060193, 607.9362491808681, 163.8900661297764, 223.96662589555604, 289.5105446291025, 229.84839207441007, 274.5224463018586, 526.9556706288045, 232.44030397249531, 34.53527147508557, 34.55350906409922, 30.404462508095822, 26.95669544149947, 31.134513254869358, 24.37862090270054, 26.30584046221964, 33.32223776328566, 21.785105364351015, 19.915108141503634, 19.564445555797967, 19.248062528975616, 23.15998948034583, 19.03376333864598, 16.826616147786975, 15.467000118203739, 16.81016021325573, 14.868634656710153, 16.230812954918456, 14.010214831288028, 23.11993370433296, 13.546478831064054, 13.236404845266755, 19.31561919968039, 16.423763949918367, 12.620278481347347, 12.079873915709515, 11.959040447948265, 14.907007879441531, 11.636729030787828, 158.45879843933656, 86.59337729118769, 36.361283515672305, 64.55996422121657, 45.496420742295044, 34.39516126905608, 98.03893735338036, 91.70158283631349, 189.1413072605461, 58.3573967907522, 89.11331919355591, 33.346340147770725, 90.9262799149051, 113.76142078076765, 146.27094911198506, 161.86118883340185, 39.31377693775949, 80.9312797408702, 54.01244257263696, 54.82205543762408, 67.51625500776908, 301.1779663069301, 201.20354676630973, 217.29636393060193, 225.78662869936335, 82.90626216860787, 120.0158515016843, 199.72563320316357, 121.6356652857002, 139.23738408234018, 223.96662589555604, 108.75953082694744, 274.5224463018586, 299.63355248208984, 526.9556706288045, 209.35512905197004, 297.23789993657664, 205.97777708143212, 607.9362491808681, 277.7302240340267, 395.38687450230424, 329.21603086602926, 159.22992801518723, 185.24411750172567], \"Term\": [\"best\", \"film\", \"music\", \"blair\", \"game\", \"chelsea\", \"cup\", \"labour\", \"mobile\", \"club\", \"league\", \"tv\", \"government\", \"arsenal\", \"election\", \"players\", \"games\", \"united\", \"minister\", \"prime\", \"think\", \"band\", \"football\", \"security\", \"manchester\", \"win\", \"search\", \"goal\", \"technology\", \"ball\", \"wi-fi\", \"ebbers\", \"blu-ray\", \"boeing\", \"sullivan\", \"dvds\", \"india's\", \"worldcom\", \"patents\", \"skype\", \"mcletchie\", \"patent\", \"crude\", \"aragones\", \"bmw\", \"directive\", \"tobacco\", \"india\", \"mayor\", \"worldcom's\", \"livingstone\", \"hotspots\", \"maternity\", \"opec\", \"nissan\", \"toshiba\", \"patenting\", \"dean.\", \"jet\", \"icann\", \"mobile\", \"broadband\", \"ibm\", \"phone\", \"high-definition\", \"phones\", \"bt\", \"china\", \"fiat\", \"technology\", \"companies\", \"turkey\", \"shares\", \"economic\", \"growth\", \"digital\", \"firms\", \"budget\", \"dvd\", \"wireless\", \"market\", \"energy\", \"profits\", \"prices\", \"demand\", \"oil\", \"firm\", \"industry\", \"economy\", \"business\", \"net\", \"data\", \"use\", \"company\", \"european\", \"service\", \"eu\", \"much\", \"online\", \"using\", \"used\", \"year\", \"make\", \"uk\", \"last\", \"million\", \"government\", \"next\", \"may\", \"says\", \"first\", \"time\", \"asylum\", \"google\", \"election\", \"lib\", \"kennedy\", \"party's\", \"election.\", \"jeeves\", \"anti-virus\", \"blair's\", \"lycos\", \"dem\", \"ukip\", \"blair\", \"screensaver\", \"dems\", \"terrorist\", \"blogs\", \"constitution\", \"g8\", \"milburn\", \"malicious\", \"referendum\", \"politics\", \"kilroy-silk\", \"terrorists\", \"manifesto\", \"prescott\", \"election,\", \"mrs\", \"tories\", \"tory\", \"virus\", \"labour\", \"prime\", \"search\", \"immigration\", \"liberal\", \"democrats\", \"chancellor\", \"site\", \"brown\", \"party\", \"leader\", \"mps\", \"secretary\", \"security\", \"minister\", \"howard\", \"e-mail\", \"tony\", \"sites\", \"attacks\", \"lord\", \"government\", \"public\", \"microsoft\", \"political\", \"users\", \"human\", \"plans\", \"information\", \"say\", \"bbc\", \"make\", \"home\", \"says\", \"uk\", \"like\", \"use\", \"next\", \"way\", \"yukos\", \"3g\", \"multimedia\", \"yugansk\", \"rosneft\", \"urban\", \"bowl\", \"slowdown\", \"elvis\", \"grammy\", \"gig\", \"gazprom\", \"comedy\", \"cabir\", \"mortgage\", \"broadcasting\", \"freeview\", \"keys\", \"edwards\", \"celebrity\", \"borussia\", \"stern\", \"hsdpa\", \"subscription\", \"kapranos\", \"pops\", \"deficit.\", \"siemens\", \"broadcaster\", \"kanye\", \"album\", \"music\", \"band\", \"awards\", \"actor\", \"presley\", \"film\", \"song\", \"drama\", \"oscar\", \"musical\", \"best\", \"chart\", \"tv\", \"award\", \"actress\", \"rock\", \"starring\", \"pop\", \"nominated\", \"viewers\", \"channel\", \"nominations\", \"star\", \"russian\", \"show\", \"singer\", \"year's\", \"number\", \"record\", \"top\", \"sales\", \"box\", \"last\", \"including\", \"british\", \"uk\", \"million\", \"bank\", \"director\", \"year\", \"first\", \"three\", \"bbc\", \"hit\", \"second\", \"parry\", \"glazer\", \"glazer's\", \"moyes\", \"simonetti\", \"anfield\", \"angels\", \"learning\", \"forensic\", \"pennant\", \"gravesen\", \"mutu\", \"feta\", \"anelka\", \"redknapp\", \"keegan\", \"window.\", \"beattie\", \"saints\", \"magnier\", \"  50m\", \"jp\", \"nair\", \"employers\", \"dancers\", \"peel\", \"offence\", \"mcmanus\", \"club,\", \"gerrard.\", \"reggae\", \"valve\", \"deserves\", \"wilson\", \"window\", \"player,\", \"he's\", \"ballet\", \"club.\", \"madrid\", \"club\", \"gerrard\", \"football\", \"blunkett's\", \"player\", \"liverpool\", \"i'm\", \"think\", \"don't\", \"\\\"he\", \"want\", \"beckham\", \"real\", \"board\", \"spanish\", \"know\", \"manager\", \"contract\", \"game\", \"players\", \"lot\", \"like\", \"bid\", \"always\", \"go\", \"that's\", \"got\", \"manchester\", \"way\", \"going\", \"man\", \"time\", \"make\", \"bbc\", \"united\", \"last\", \"move\", \"play\", \"still\", \"\\\"it\", \"good\", \"first\", \"even\", \"subs\", \"used:\", \"republic\", \"robben\", \"ink\", \"header\", \"goal.\", \"henry\", \"drogba\", \"lisbon\", \"free-kick\", \"charlton\", \"rooney\", \"yards\", \"cech\", \"argonaut\", \"duff\", \"3-0\", \"hunts\", \"eriksson\", \"goalkeeper\", \"holland\", \"printer\", \"scoring\", \"rfid\", \"yards.\", \"faroe\", \"wright-phillips\", \":\", \"wolves\", \"cup\", \"ball\", \"keeper\", \"mourinho\", \"referee\", \"tie\", \"goal\", \"champions\", \"chelsea\", \"scored\", \"premiership\", \"uefa\", \"minutes\", \"side\", \"arsenal\", \"league\", \"barcelona\", \"fa\", \"goals\", \"newcastle\", \"match\", \"game\", \"win\", \"united\", \"games\", \"shot\", \"boss\", \"players\", \"team\", \"manchester\", \"play\", \"chance\", \"good\", \"home\", \"first\", \"second\", \"world\", \"four\", \"last\", \"well\", \"time\", \"three\", \"manager\", \"got\"]}, \"mdsDat\": {\"Freq\": [26.00972092329974, 24.007719917662047, 20.173678383132803, 15.14241545919537, 14.66646531671004], \"cluster\": [1, 1, 1, 1, 1], \"topics\": [1, 2, 3, 4, 5], \"x\": [0.11066000623004052, 0.11340654576919694, 0.054556332149693, -0.08786797718430091, -0.19075490696462952], \"y\": [-0.0026906043539047368, 0.12305946009559969, -0.1771882777474859, 0.06655189447137304, -0.009732472465581982]}};\n",
       "\n",
       "function LDAvis_load_lib(url, callback){\n",
       "  var s = document.createElement('script');\n",
       "  s.src = url;\n",
       "  s.async = true;\n",
       "  s.onreadystatechange = s.onload = callback;\n",
       "  s.onerror = function(){console.warn(\"failed to load library \" + url);};\n",
       "  document.getElementsByTagName(\"head\")[0].appendChild(s);\n",
       "}\n",
       "\n",
       "if(typeof(LDAvis) !== \"undefined\"){\n",
       "   // already loaded: just create the visualization\n",
       "   !function(LDAvis){\n",
       "       new LDAvis(\"#\" + \"ldavis_el2459646123140005046589239\", ldavis_el2459646123140005046589239_data);\n",
       "   }(LDAvis);\n",
       "}else if(typeof define === \"function\" && define.amd){\n",
       "   // require.js is available: use it to load d3/LDAvis\n",
       "   require.config({paths: {d3: \"https://cdnjs.cloudflare.com/ajax/libs/d3/3.5.5/d3.min\"}});\n",
       "   require([\"d3\"], function(d3){\n",
       "      window.d3 = d3;\n",
       "      LDAvis_load_lib(\"https://cdn.rawgit.com/bmabey/pyLDAvis/files/ldavis.v1.0.0.js\", function(){\n",
       "        new LDAvis(\"#\" + \"ldavis_el2459646123140005046589239\", ldavis_el2459646123140005046589239_data);\n",
       "      });\n",
       "    });\n",
       "}else{\n",
       "    // require.js not available: dynamically load d3 & LDAvis\n",
       "    LDAvis_load_lib(\"https://cdnjs.cloudflare.com/ajax/libs/d3/3.5.5/d3.min.js\", function(){\n",
       "         LDAvis_load_lib(\"https://cdn.rawgit.com/bmabey/pyLDAvis/files/ldavis.v1.0.0.js\", function(){\n",
       "                 new LDAvis(\"#\" + \"ldavis_el2459646123140005046589239\", ldavis_el2459646123140005046589239_data);\n",
       "            })\n",
       "         });\n",
       "}\n",
       "</script>"
      ],
      "text/plain": [
       "<IPython.core.display.HTML object>"
      ]
     },
     "execution_count": 60,
     "metadata": {},
     "output_type": "execute_result"
    }
   ],
   "source": [
    "# now let us visualize the DTM python port.\n",
    "\n",
    "# getting a list of just words for each topics\n",
    "dtm_tp = ldaseq.print_topics()\n",
    "dtm_topics = []\n",
    "for topic in dtm_tp:\n",
    "    topics = []\n",
    "    for prob, word in topic:\n",
    "        topics.append(word)\n",
    "    dtm_topics.append(topics)\n",
    "    \n",
    "# getting dtm python doc-topic proportions\n",
    "doc_topic = numpy.copy(ldaseq.gammas)\n",
    "doc_topic /= doc_topic.sum(axis=1)[:, numpy.newaxis]\n",
    "\n",
    "# getting dtm topic_word proportions for first time_slice\n",
    "def get_topic_term(ldaseq, topic, time=0):\n",
    "    topic = numpy.transpose(ldaseq.topic_chains[topic].e_log_prob)\n",
    "    topic = topic[time]\n",
    "    topic = numpy.exp(topic)\n",
    "    topic = topic / topic.sum()\n",
    "    return topic\n",
    "\n",
    "# get_topic_term(ldaseq, 0).shape\n",
    "topic_term =numpy.array(numpy.split(numpy.concatenate((get_topic_term(ldaseq, 0), get_topic_term(ldaseq, 1), get_topic_term(ldaseq, 2), get_topic_term(ldaseq, 3), get_topic_term(ldaseq, 4))), 5))\n",
    "vis_dtm = pyLDAvis.prepare(topic_term_dists=topic_term, doc_topic_dists=doc_topic, doc_lengths=doc_lengths, vocab=vocab, term_frequency=term_frequency)\n",
    "pyLDAvis.display(vis_dtm)"
   ]
  },
  {
   "cell_type": "code",
   "execution_count": 61,
   "metadata": {
    "collapsed": false
   },
   "outputs": [
    {
     "name": "stdout",
     "output_type": "stream",
     "text": [
      "-1.8017627313\n",
      "-1.93767499394\n",
      "0.474753976324\n",
      "0.511561156095\n"
     ]
    }
   ],
   "source": [
    "from gensim.models.coherencemodel import CoherenceModel\n",
    "import pickle\n",
    "\n",
    "\n",
    "cm_wrapper = CoherenceModel(topics=topics_wrapper, corpus=corpus, dictionary=dictionary, coherence='u_mass')\n",
    "cm_DTM = CoherenceModel(topics=dtm_topics, corpus=corpus, dictionary=dictionary, coherence='u_mass')\n",
    "\n",
    "print (cm_wrapper.get_coherence())\n",
    "print (cm_DTM.get_coherence())\n",
    "\n",
    "# to use 'c_v' we need texts, which we have saved to disk.\n",
    "texts = pickle.load(open('Corpus/texts', 'rb'))\n",
    "cm_wrapper = CoherenceModel(topics=topics_wrapper, texts=texts, dictionary=dictionary, coherence='c_v')\n",
    "cm_DTM = CoherenceModel(topics=dtm_topics, texts=texts, dictionary=dictionary, coherence='c_v')\n",
    "\n",
    "print (cm_wrapper.get_coherence())\n",
    "print (cm_DTM.get_coherence())"
   ]
  },
  {
   "cell_type": "markdown",
   "metadata": {
    "collapsed": true
   },
   "source": [
    "So while `u_mass` coherence prefers the wrapper topics, `c_v` seems to favor our python port better. :)"
   ]
  },
  {
   "cell_type": "markdown",
   "metadata": {},
   "source": [
    "## Conclusion\n",
    "\n",
    "So while there is already a python wrapper of DTM, a pure python implementation will be useful to better understand what goes on undcer the hood and better the code. When it comes to performance, the C++ is undoubtably faster, but we can continue to work on ours to make it as fast.\n",
    "As for evaluating the results, our topics are on par if not better than the wrapper!"
   ]
  }
 ],
 "metadata": {
  "kernelspec": {
   "display_name": "Python 3",
   "language": "python",
   "name": "python3"
  },
  "language_info": {
   "codemirror_mode": {
    "name": "ipython",
    "version": 3
   },
   "file_extension": ".py",
   "mimetype": "text/x-python",
   "name": "python",
   "nbconvert_exporter": "python",
   "pygments_lexer": "ipython3",
   "version": "3.5.2"
  }
 },
 "nbformat": 4,
 "nbformat_minor": 0
}
