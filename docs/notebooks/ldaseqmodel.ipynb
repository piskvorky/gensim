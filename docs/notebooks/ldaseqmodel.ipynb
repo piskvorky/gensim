{
 "cells": [
  {
   "cell_type": "markdown",
   "metadata": {},
   "source": [
    "\n",
    "# Dynamic Topic Models Tutorial"
   ]
  },
  {
   "cell_type": "markdown",
   "metadata": {},
   "source": [
    "\n",
    "### What is this tutorial about?\n",
    "This tutorial will exaplin what Dynamic Topic Models are, and how to use them using the LdaSeqModel class of gensim. I will start with some theory and already documented examples, before moving on to an example run of Dynamic Topic Model on a sample dataset. I will also do an comparison between the python code and the already present gensim wrapper, and illustrate how to easily visualise them and do topic coherence with DTM. Any suggestions to improve documentation or code through PRs/Issues is always appreciated!\n",
    "\n",
    "\n",
    "### Why Dynamic Topic Models?\n",
    "Imagine you have a gigantic corpus which spans over a couple of years. You want to find semantically similar documents; one from the very beginning of your time-line, and one in the very end. How would you?\n",
    "This is where Dynamic Topic Models comes in. By having a time-based element to topics, context is preserved while key-words may change.\n",
    "\n",
    "David Blei does a good job explaining the theory behind this in this [Google talk](https://www.youtube.com/watch?v=7BMsuyBPx90). If you prefer to directly read the [paper on DTM by Blei and Lafferty](http://repository.cmu.edu/cgi/viewcontent.cgi?article=2036&context=compsci), that should get you upto speed too.\n",
    "\n",
    "In his talk, Blei gives a very interesting example of the motivation to use DTM. After running DTM on a dataset of the Science Journal from 1880 onwards, he picks up [this](http://science.sciencemag.org/content/os-1/28/326) paper - The Brain of the Orang (1880). It's topics are concentrated on a topic which must be to do with Monkeys, and with Neuroscience or brains. \n",
    "<img src=\"Monkey Brains.png\" width=\"500\">\n",
    "\n",
    "\n",
    "He goes ahead to pick up another paper with likely very less common words, but in the same context - analysing monkey brains. In fact, this one is called - \"[Representation of the visual field on the medial wall of occipital-parietal cortex in the owl monkey](http://allmanlab.caltech.edu/PDFs/AllmanKaas1976.pdf)\". Quite the title, eh? Like mentioned before, you wouldn't imagine too many common words in these two papers, about a 100 years apart.\n",
    "<img src=\"Monkey Brains New.png\" witdth=\"400\">\n",
    "\n",
    "\n",
    "\n",
    "But a Hellinger Distance based Document-Topic distribution gives a very high similarity value! The same topics evolved smoothly over time and the context remains. A document similarity match using other traditional techniques might not work very well on this!\n",
    "Blei defines this technique as - \"Time corrected Document Similarity\".\n",
    "\n",
    "Another obviously useful analysis is to see how words in a topic change over time. The same broad classified topic starts looking more 'mature' as time goes on. This image illustrates an example from the same paper linked to above.\n",
    "\n",
    "<img src=\"Dynamic Topic Model.png\" width=\"800\">\n",
    "\n",
    "#### So, briefly put : \n",
    "\n",
    "Dynamic Topic Models are used to model the evolution of topics in a corpus, over time. The Dynamic Topic Model is part of a class of probabilistic topic models, like the LDA. \n",
    "\n",
    "While most traditional topic mining algorithms do not expect time-tagged data or take into account any prior ordering, Dynamic Topic Models (DTM) leverages the knowledge of different documents belonging to a different time-slice in an attempt to map how the words in a topic change over time.\n",
    "\n",
    "[This](http://rare-technologies.com/understanding-and-coding-dynamic-topic-models/) blog post is also useful in breaking down the ideas and theory behind DTM.\n",
    "\n"
   ]
  },
  {
   "cell_type": "markdown",
   "metadata": {},
   "source": [
    "### Motivation to code this!"
   ]
  },
  {
   "cell_type": "markdown",
   "metadata": {},
   "source": [
    "But - why even undertake this, especially when Gensim itself have a wrapper?\n",
    "The main motivation was the lack of documentation in the original code - and the fact that doing an only python version makes it easier to use gensim building blocks. For example, for setting up the Sufficient Statistics to initialize the DTM, you can just pass a pre-trained gensim LDA model!\n",
    "\n",
    "There is some clarity on how they built their code now - Variational Inference using Kalman Filters, as described in section 3 of the paper. The mathematical basis for the code is well described in the appendix of the paper. If the documentation is lacking or not clear, comments via Issues or PRs via the gensim repo would be useful in improving the quality.\n",
    "\n",
    "This project was part of the Google Summer of Code 2016 program: I have been regularly blogging about my progress with implementing this, which you can find [here](http://rare-technologies.com/author/bhargav/)."
   ]
  },
  {
   "cell_type": "markdown",
   "metadata": {},
   "source": [
    "# Using LdaSeqModel for DTM"
   ]
  },
  {
   "cell_type": "markdown",
   "metadata": {},
   "source": [
    "Gensim already has a wrapper for original C++ DTM code, but the `LdaSeqModel` class is an effort to have a pure python implementation of the same.\n",
    "Using it is very similar to using any other gensim topic-modelling algorithm, with all you need to start is an iterable gensim corpus, id2word and a list with the number of documents in each of your time-slices."
   ]
  },
  {
   "cell_type": "code",
   "execution_count": 1,
   "metadata": {},
   "outputs": [],
   "source": [
    "# setting up our imports\n",
    "\n",
    "from gensim.models import ldaseqmodel\n",
    "from gensim.corpora import Dictionary, bleicorpus\n",
    "import numpy\n",
    "from gensim.matutils import hellinger"
   ]
  },
  {
   "cell_type": "markdown",
   "metadata": {},
   "source": [
    "We will be loading the corpus and dictionary from disk. Here our corpus in the Blei corpus format, but it can be any iterable corpus.\n",
    "The data set here consists of news reports over 3 months (March, April, May) downloaded from [here](https://github.com/derekgreene/dynamic-nmf/tree/master/data) and cleaned.\n",
    "\n",
    "The files can also be found after processing in the `datasets` folder, but it would be a good exercise to download the files in the link and have a shot at cleaning and processing yourself. :)\n",
    "\n",
    "Note: the dataset is not cleaned and requires pre-processing. This means that some care must be taken to group the relevant docs together (the months are mentioned as per the folder name), after which it needs to be broken into tokens, and stop words must be removed. This is a link to some basic pre-processing for gensim - [link](https://radimrehurek.com/gensim/tut1.html#from-strings-to-vectors).\n",
    "\n",
    "### What is a time-slice?\n",
    "A very important input for DTM to work is the `time_slice` input. It should be a list which contains the number of documents in each time-slice. In our case, the first month had 438 articles, the second 430 and the last month had 456 articles. This means we'd need an input which looks like this: `time_slice = [438, 430, 456]`. \n",
    "Technically, a time-slice can be a month, year, or any way you wish to split up the number of documents in your corpus, time-based.\n",
    "\n",
    "Once you have your corpus, id2word and time_slice ready, we're good to go!"
   ]
  },
  {
   "cell_type": "code",
   "execution_count": 2,
   "metadata": {},
   "outputs": [],
   "source": [
    "# loading our corpus and dictionary\n",
    "try:\n",
    "    dictionary = Dictionary.load('datasets/news_dictionary')\n",
    "except FileNotFoundError as e:\n",
    "    raise ValueError(\"SKIP: Please download the Corpus/news_dictionary dataset.\")\n",
    "corpus = bleicorpus.BleiCorpus('datasets/news_corpus')\n",
    "# it's very important that your corpus is saved in order of your time-slices!\n",
    "\n",
    "time_slice = [438, 430, 456]"
   ]
  },
  {
   "cell_type": "markdown",
   "metadata": {},
   "source": [
    "For DTM to work it first needs the Sufficient Statistics from a trained LDA model on the _*same*_ dataset. \n",
    "By default LdaSeqModel trains it's own model and passes those values on, but can also accept a pre-trained gensim LDA model, or a numpy matrix which contains the Suff Stats.\n",
    "\n",
    "We will be training our model in default mode, so gensim LDA will be first trained on the dataset.\n",
    "\n",
    "NOTE: You have to set logging as true to see your progress!"
   ]
  },
  {
   "cell_type": "code",
   "execution_count": 3,
   "metadata": {
    "scrolled": true
   },
   "outputs": [
    {
     "name": "stderr",
     "output_type": "stream",
     "text": [
      "/home/misha/git/gensim/gensim/models/ldaseqmodel.py:293: RuntimeWarning: divide by zero encountered in double_scalars\n",
      "  convergence = np.fabs((bound - old_bound) / old_bound)\n"
     ]
    }
   ],
   "source": [
    "ldaseq = ldaseqmodel.LdaSeqModel(corpus=corpus, id2word=dictionary, time_slice=time_slice, num_topics=5)"
   ]
  },
  {
   "cell_type": "markdown",
   "metadata": {},
   "source": [
    "Now that our model is trained, let's see what our results look like.\n",
    "\n",
    "### Results\n",
    "Much like LDA, the points of interest would be in what the topics are and how the documents are made up of these topics.\n",
    "In DTM we have the added interest of seeing how these topics evolve over time.\n",
    "\n",
    "Let's go through some of the functions to print Topics and analyse documents.\n",
    "\n",
    "### Printing Topics\n",
    "\n",
    "To print all topics from a particular time-period, simply use `print_topics`. \n",
    "The input parameter to `print_topics` is a time-slice option. By passing `0` we are seeing the topics in the 1st time-slice. \n",
    "\n",
    "The result would be a list of lists, where each individual list contains a tuple of the most probable words in the topic. i.e `(word, word_probability)`"
   ]
  },
  {
   "cell_type": "code",
   "execution_count": 4,
   "metadata": {},
   "outputs": [
    {
     "data": {
      "text/plain": [
       "[[('film', 0.005917469495987717),\n",
       "  ('best', 0.00486801522781858),\n",
       "  ('last', 0.003433887442830304),\n",
       "  ('tv', 0.0034066181560892983),\n",
       "  ('first', 0.003231913726883219),\n",
       "  ('show', 0.003224849338213615),\n",
       "  ('three', 0.0023048170201803537),\n",
       "  ('bbc', 0.0022750794162480974),\n",
       "  ('home', 0.0020196147021130373),\n",
       "  ('second', 0.001957191475970597),\n",
       "  ('director', 0.001955785339407403),\n",
       "  ('star', 0.0018697442019571776),\n",
       "  ('united', 0.0018486275961695346),\n",
       "  ('actor', 0.0017773645590414533),\n",
       "  ('world', 0.0017728348478406259),\n",
       "  ('time', 0.0017660315811460685),\n",
       "  ('took', 0.0017534951800840248),\n",
       "  ('award', 0.0016593687293076347),\n",
       "  ('four', 0.001646883029873571),\n",
       "  ('rights', 0.001494912649347212)],\n",
       " [('blair', 0.003656853413619428),\n",
       "  ('labour', 0.003571831088597708),\n",
       "  ('think', 0.0033329732624369085),\n",
       "  ('chelsea', 0.0029922287405279684),\n",
       "  ('game', 0.0028011339801883163),\n",
       "  ('league', 0.002610476262682161),\n",
       "  ('players', 0.002584137822138894),\n",
       "  ('time', 0.002562398970649943),\n",
       "  ('minister', 0.0025281531553959192),\n",
       "  ('club', 0.002527139415819049),\n",
       "  ('good', 0.0024787460166518565),\n",
       "  ('last', 0.0024499225552730096),\n",
       "  (\"don't\", 0.002415439141733538),\n",
       "  ('arsenal', 0.0023802238324075278),\n",
       "  ('party', 0.002379839625412044),\n",
       "  ('bbc', 0.0023698950465503867),\n",
       "  ('like', 0.0023651537261334767),\n",
       "  ('election', 0.0023497931652231656),\n",
       "  ('want', 0.00231801726260594),\n",
       "  ('going', 0.002301691972872612)],\n",
       " [('music', 0.004535324394354765),\n",
       "  ('number', 0.0036113710103155496),\n",
       "  ('best', 0.003320026020611955),\n",
       "  ('like', 0.003311533622142927),\n",
       "  ('make', 0.002863027781655863),\n",
       "  ('games', 0.0028196051742470636),\n",
       "  ('government', 0.002788805852512145),\n",
       "  ('first', 0.002547823171177183),\n",
       "  ('band', 0.0024952788511720227),\n",
       "  ('top', 0.0024859910933818347),\n",
       "  ('uk', 0.0024576067300663123),\n",
       "  ('last', 0.002142118981734694),\n",
       "  ('world', 0.0020189228825508864),\n",
       "  ('album', 0.001992838242293178),\n",
       "  ('technology', 0.001969315542996064),\n",
       "  ('video', 0.00191108778009925),\n",
       "  ('next', 0.0018981806100445784),\n",
       "  ('song', 0.0018852686282286684),\n",
       "  ('british', 0.001820807928747836),\n",
       "  ('years', 0.0018139501663332197)],\n",
       " [('mobile', 0.007197643998061543),\n",
       "  ('users', 0.006658644027884087),\n",
       "  ('net', 0.0064791532730191104),\n",
       "  ('use', 0.00576421127183059),\n",
       "  ('phone', 0.004636221654879627),\n",
       "  ('used', 0.004191649534638687),\n",
       "  ('using', 0.004121003944338685),\n",
       "  ('internet', 0.00406147222068167),\n",
       "  ('information', 0.003952892153876258),\n",
       "  ('data', 0.003913138986834236),\n",
       "  ('broadband', 0.003831513514609501),\n",
       "  ('security', 0.00374214444231794),\n",
       "  ('software', 0.0036371490042105517),\n",
       "  ('service', 0.003607383455833399),\n",
       "  ('online', 0.0034560031044337833),\n",
       "  ('computer', 0.00339076896283381),\n",
       "  ('phones', 0.0032184885220204905),\n",
       "  ('million', 0.0031314352626954645),\n",
       "  ('technology', 0.003096129557983641),\n",
       "  ('site', 0.0030781219059679782)],\n",
       " [('last', 0.004329814208995159),\n",
       "  ('year', 0.0037804149324644964),\n",
       "  ('market', 0.003676885359238659),\n",
       "  ('sales', 0.0034766894610293083),\n",
       "  ('economic', 0.003139945186068337),\n",
       "  ('government', 0.002927826150837857),\n",
       "  ('growth', 0.0028388426302171014),\n",
       "  ('oil', 0.0026113628080416252),\n",
       "  ('economy', 0.002605167250854227),\n",
       "  ('bank', 0.0026044767470200696),\n",
       "  ('company', 0.002513269599201577),\n",
       "  ('since', 0.002392370123819913),\n",
       "  ('firm', 0.002259595203029759),\n",
       "  ('uk', 0.002203922126442529),\n",
       "  ('however,', 0.002175535174978607),\n",
       "  ('prices', 0.0021384803520053666),\n",
       "  ('rise', 0.002095321371791152),\n",
       "  ('year.', 0.0020281054332198746),\n",
       "  ('companies', 0.001991460828586195),\n",
       "  ('tax', 0.001986423523484035)]]"
      ]
     },
     "execution_count": 4,
     "metadata": {},
     "output_type": "execute_result"
    }
   ],
   "source": [
    "ldaseq.print_topics(time=0)"
   ]
  },
  {
   "cell_type": "markdown",
   "metadata": {},
   "source": [
    "We can see 5 different fairly well defined topics:\n",
    "1. Economy\n",
    "2. Entertainment\n",
    "3. Football\n",
    "4. Technology and Entertainment\n",
    "5. Government"
   ]
  },
  {
   "cell_type": "markdown",
   "metadata": {},
   "source": [
    "### Looking for Topic Evolution\n",
    "\n",
    "To fix a topic and see it evolve, use `print_topic_times`.\n",
    "The input parameter is the `topic_id`\n",
    "In this case, we are looking at the evolution of the technology topic."
   ]
  },
  {
   "cell_type": "markdown",
   "metadata": {},
   "source": [
    "If you look at the lower frequencies; the word \"may\" is creeping itself into prominence. This makes sense, as the 3rd time-slice are news reports about the economy in the month of may. This isn't present at all in the first time-slice because it's still March!\n"
   ]
  },
  {
   "cell_type": "code",
   "execution_count": 5,
   "metadata": {},
   "outputs": [
    {
     "data": {
      "text/plain": [
       "[[('film', 0.005917469495987717),\n",
       "  ('best', 0.00486801522781858),\n",
       "  ('last', 0.003433887442830304),\n",
       "  ('tv', 0.0034066181560892983),\n",
       "  ('first', 0.003231913726883219),\n",
       "  ('show', 0.003224849338213615),\n",
       "  ('three', 0.0023048170201803537),\n",
       "  ('bbc', 0.0022750794162480974),\n",
       "  ('home', 0.0020196147021130373),\n",
       "  ('second', 0.001957191475970597),\n",
       "  ('director', 0.001955785339407403),\n",
       "  ('star', 0.0018697442019571776),\n",
       "  ('united', 0.0018486275961695346),\n",
       "  ('actor', 0.0017773645590414533),\n",
       "  ('world', 0.0017728348478406259),\n",
       "  ('time', 0.0017660315811460685),\n",
       "  ('took', 0.0017534951800840248),\n",
       "  ('award', 0.0016593687293076347),\n",
       "  ('four', 0.001646883029873571),\n",
       "  ('rights', 0.001494912649347212)],\n",
       " [('film', 0.00571305545611347),\n",
       "  ('best', 0.004837727655153439),\n",
       "  ('show', 0.003481314386186913),\n",
       "  ('tv', 0.0034722615227741997),\n",
       "  ('last', 0.003386168752366683),\n",
       "  ('first', 0.0032365624129367236),\n",
       "  ('three', 0.0023234319442561988),\n",
       "  ('bbc', 0.0023081792345694347),\n",
       "  ('home', 0.001998773395520472),\n",
       "  ('second', 0.0019645262577901016),\n",
       "  ('united', 0.0018667489008505022),\n",
       "  ('star', 0.0018651888307475372),\n",
       "  ('director', 0.001864169176393472),\n",
       "  ('time', 0.0017736738670308424),\n",
       "  ('world', 0.0017731872594117693),\n",
       "  ('took', 0.0017633644840274812),\n",
       "  ('actor', 0.0016991013070837629),\n",
       "  ('four', 0.0016705538768877733),\n",
       "  ('award', 0.0016528333936788875),\n",
       "  ('police', 0.0016136170157803962)],\n",
       " [('film', 0.005540858483231528),\n",
       "  ('best', 0.0048262559888687185),\n",
       "  ('show', 0.003716906775365683),\n",
       "  ('tv', 0.0035395904398093526),\n",
       "  ('last', 0.0034777589481244098),\n",
       "  ('first', 0.003243689110874043),\n",
       "  ('bbc', 0.0023370004552749914),\n",
       "  ('three', 0.002329091349260664),\n",
       "  ('home', 0.0020582079444666068),\n",
       "  ('second', 0.001973888122637219),\n",
       "  ('united', 0.001916879327887862),\n",
       "  ('star', 0.0018340698498021293),\n",
       "  ('world', 0.0017979775587484525),\n",
       "  ('director', 0.0017916941003114167),\n",
       "  ('time', 0.0017818044310012845),\n",
       "  ('took', 0.0017774896897978856),\n",
       "  ('four', 0.0016868970107681114),\n",
       "  ('award', 0.001650192716396564),\n",
       "  ('actor', 0.0016306709680404894),\n",
       "  ('rights', 0.0015213265124893606)]]"
      ]
     },
     "execution_count": 5,
     "metadata": {},
     "output_type": "execute_result"
    }
   ],
   "source": [
    "ldaseq.print_topic_times(topic=0) # evolution of 1st topic"
   ]
  },
  {
   "cell_type": "markdown",
   "metadata": {},
   "source": [
    "### Document - Topic Proportions\n",
    "the function `doc_topics` checks the topic proportions on documents already trained on. It accepts the document number in the corpus as an input.\n",
    "\n",
    "Let's pick up document number 558 arbitrarily and have a look."
   ]
  },
  {
   "cell_type": "code",
   "execution_count": 6,
   "metadata": {},
   "outputs": [
    {
     "name": "stdout",
     "output_type": "stream",
     "text": [
      "['set', 'time,\"', 'chairman', 'decision', 'news', 'director', 'former', 'vowed', '\"it', 'results', 'club', 'third', 'home', 'paul', 'saturday.', 'south', 'conference', 'leading', '\"some', 'survival', 'needed', 'coach', \"don't\", 'every', 'trouble', 'desperate', 'eight', 'first', 'win', 'going', 'park', 'near', 'chance', 'manager', 'league', 'milan', 'games', 'go', 'game', 'foot', 'say', 'upset', \"i'm\", 'poor', 'season.', 'executive', 'road', '24', 'debut', 'portsmouth.', 'give', 'claiming', 'steve', 'break', 'rivals', 'boss', 'kevin', 'premiership', 'little', 'left', 'table.', 'life', 'join', 'years.', 'bring', 'season,', 'director.', 'became', 'st', 'according', 'official', 'hope', 'shocked', 'though', 'phone', 'charge', '14', 'website.', 'time,', 'claimed', 'kept', 'bond', 'appointment', 'unveil', 'november', 'picked', 'confirmed,', 'believed', 'deep', 'position', 'surprised', 'negotiations', 'talks', 'gmt', 'middlesbrough', 'replaced', 'appear', 'football,', '\"i\\'m', 'charge.', 'saints', 'southampton', 'sturrock', 'wednesday.', 'harry', 'poised', 'ninth', 'quit', 'relieved', 'chance.\"', 'decision.\"', 'hero', 'redknapp,', 'redknapp', \"saints'\", 'first-team', \"wouldn't\", \"mary's.\", 'portsmouth', \"redknapp's\", 'pompey', 'academy', \"harry's\", 'cult', 'rupert', 'time\".', 'coast', '57,', 'succeed', 'duties', \"'i\", 'bitter,', \"mandaric's\", \"portsmouth's\", 'wigley,', 'wigley', \"southampton',\", '1500', 'mandaric', \"'absolutely\", 'lowe', '\"disappointed\"', 'velimir', 'not\\',\"', 'disgusted', 'disappointed,', 'mandaric,', 'fratton', 'replaces', 'masterminding', 'angry,', 'vowed:', 'informed.\"', 'zajec']\n"
     ]
    }
   ],
   "source": [
    "# to check Document - Topic proportions, use `doc-topics`\n",
    "words = [dictionary[word_id] for word_id, count in corpus[558]]\n",
    "print (words)"
   ]
  },
  {
   "cell_type": "markdown",
   "metadata": {},
   "source": [
    "It's pretty clear that it's a news article about football. What topics will it likely be comprised of?"
   ]
  },
  {
   "cell_type": "code",
   "execution_count": 7,
   "metadata": {},
   "outputs": [
    {
     "name": "stdout",
     "output_type": "stream",
     "text": [
      "[2.82842860e-01 4.26855326e-01 5.46298825e-05 5.46298825e-05\n",
      " 2.90192554e-01]\n"
     ]
    }
   ],
   "source": [
    "doc = ldaseq.doc_topics(558) # check the 558th document in the corpuses topic distribution\n",
    "print (doc)"
   ]
  },
  {
   "cell_type": "markdown",
   "metadata": {},
   "source": [
    "Let's look at our topics as desribed by us, again:\n",
    "\n",
    "1. Economy\n",
    "2. Entertainment\n",
    "3. Football\n",
    "4. Technology and Entertainment\n",
    "5. Government\n",
    "\n",
    "Our topic distribution for the above document is largely in topics 3 and 4. Considering it is a document about a news article on a football match, the distribution makes perfect sense!"
   ]
  },
  {
   "cell_type": "markdown",
   "metadata": {},
   "source": [
    "If we wish to analyse a document not in our training set, we can use simply pass the doc to the model similar to the `__getitem__` funciton for `LdaModel`.\n",
    "\n",
    "Let's let our document be a hypothetical news article about the effects of Ryan Giggs buying mobiles affecting the British economy."
   ]
  },
  {
   "cell_type": "code",
   "execution_count": 8,
   "metadata": {},
   "outputs": [
    {
     "name": "stdout",
     "output_type": "stream",
     "text": [
      "[0.00110497 0.33842633 0.00110497 0.25458869 0.40477504]\n"
     ]
    }
   ],
   "source": [
    "doc_football_1 = ['economy', 'bank', 'mobile', 'phone', 'markets', 'buy', 'football', 'united', 'giggs']\n",
    "doc_football_1 = dictionary.doc2bow(doc_football_1)\n",
    "doc_football_1 = ldaseq[doc_football_1]\n",
    "print (doc_football_1)"
   ]
  },
  {
   "cell_type": "markdown",
   "metadata": {},
   "source": [
    "Pretty neat! Topic 1 is about the Economy, and this document also has traces of football and technology, so topics 1, 3, and 4 got correctly activated."
   ]
  },
  {
   "cell_type": "markdown",
   "metadata": {},
   "source": [
    "### Distances between documents\n",
    "\n",
    "One of the more handy uses of DTMs topic modelling is that we can compare documents across different time-frames and see how similar they are topic-wise. When words may not necessarily overlap over these time-periods, this is very useful.\n",
    "\n",
    "The current dataset doesn't provide us the diversity for this to be an effective example; but we will nevertheless illustrate how to do the same.\n",
    "\n"
   ]
  },
  {
   "cell_type": "code",
   "execution_count": 9,
   "metadata": {},
   "outputs": [],
   "source": [
    "doc_football_2 = ['arsenal', 'fourth', 'wenger', 'oil', 'middle', 'east', 'sanction', 'fluctuation']\n",
    "doc_football_2 = dictionary.doc2bow(doc_football_2)\n",
    "doc_football_2 = ldaseq[doc_football_2]"
   ]
  },
  {
   "cell_type": "code",
   "execution_count": 10,
   "metadata": {},
   "outputs": [
    {
     "data": {
      "text/plain": [
       "0.38644713413294984"
      ]
     },
     "execution_count": 10,
     "metadata": {},
     "output_type": "execute_result"
    }
   ],
   "source": [
    "hellinger(doc_football_1, doc_football_2)"
   ]
  },
  {
   "cell_type": "markdown",
   "metadata": {},
   "source": [
    "The topic distributions are quite related - matches well in football and economy."
   ]
  },
  {
   "cell_type": "markdown",
   "metadata": {},
   "source": [
    "Now let's try with documents that shouldn't be similar."
   ]
  },
  {
   "cell_type": "code",
   "execution_count": 11,
   "metadata": {},
   "outputs": [
    {
     "data": {
      "text/plain": [
       "0.6105070034631694"
      ]
     },
     "execution_count": 11,
     "metadata": {},
     "output_type": "execute_result"
    }
   ],
   "source": [
    "doc_governemt_1 = ['tony', 'government', 'house', 'party', 'vote', 'european', 'official', 'house']\n",
    "doc_governemt_1 = dictionary.doc2bow(doc_governemt_1)\n",
    "doc_governemt_1 = ldaseq[doc_governemt_1]\n",
    "\n",
    "hellinger(doc_football_1, doc_governemt_1)"
   ]
  },
  {
   "cell_type": "markdown",
   "metadata": {},
   "source": [
    "As expected, the value is very high, meaning the topic distributions are far apart.\n",
    "\n",
    "For more information on how to use the gensim distance metrics, check out [this notebook](distance_metrics.ipynb)."
   ]
  },
  {
   "cell_type": "markdown",
   "metadata": {},
   "source": [
    "### Performance\n",
    "\n",
    "The code currently runs between 5 to 7 times slower than the original C++ DTM code. The bottleneck is in the scipy `optimize.fmin_cg` method for updating obs. Speeding this up would fix things up!\n",
    "\n",
    "Since it uses iterable gensim corpuses, the memory stamp is also cleaner. \n",
    "\n",
    "TODO: check memory, check BLAS, see how performance can be improved memory and speed wise. "
   ]
  },
  {
   "cell_type": "markdown",
   "metadata": {},
   "source": [
    "The advantages of the python port are that unlike the C++ code we needn't treat it like a black-box; PRs to help make the code better are welcomed, as well as help to make the documentation clearer and improve performance. It is also in pure python and doesn't need any dependancy outside of what gensim already needs. The added functionality of being able to analyse new documents is also a plus!\n",
    "\n",
    "## Choosing your best Dynamic Topic Model.\n",
    "\n",
    "Like we've been going on and on before, the advantage in having a python port is the transparency with which you can train your DTM.\n",
    "We'll go over two key ideas: changing variance, and changing suff stats.\n",
    "\n",
    "\n",
    "### Chain Variance\n",
    "One of the key aspects of topic evolution is how fast/slow these topics evolve. And this is where the factor of `variance` comes in.\n",
    "By setting the `chain_variance` input to the DTM model higher, we can tweak our topic evolution.\n",
    "The default value is 0.005. (this is the value suggested by Blei in his tech talk and is the default value in the C++ code)\n",
    "\n",
    "Let us see a small example illustrating the same.\n",
    "Let's first see the evolution of values for the first time-slice."
   ]
  },
  {
   "cell_type": "code",
   "execution_count": 12,
   "metadata": {},
   "outputs": [
    {
     "data": {
      "text/plain": [
       "[[('blair', 0.003656853413619428),\n",
       "  ('labour', 0.003571831088597708),\n",
       "  ('think', 0.0033329732624369085),\n",
       "  ('chelsea', 0.0029922287405279684),\n",
       "  ('game', 0.0028011339801883163),\n",
       "  ('league', 0.002610476262682161),\n",
       "  ('players', 0.002584137822138894),\n",
       "  ('time', 0.002562398970649943),\n",
       "  ('minister', 0.0025281531553959192),\n",
       "  ('club', 0.002527139415819049),\n",
       "  ('good', 0.0024787460166518565),\n",
       "  ('last', 0.0024499225552730096),\n",
       "  (\"don't\", 0.002415439141733538),\n",
       "  ('arsenal', 0.0023802238324075278),\n",
       "  ('party', 0.002379839625412044),\n",
       "  ('bbc', 0.0023698950465503867),\n",
       "  ('like', 0.0023651537261334767),\n",
       "  ('election', 0.0023497931652231656),\n",
       "  ('want', 0.00231801726260594),\n",
       "  ('going', 0.002301691972872612)],\n",
       " [('blair', 0.003713648430818856),\n",
       "  ('labour', 0.0036449572943794075),\n",
       "  ('think', 0.003353002849447595),\n",
       "  ('chelsea', 0.002991152664241214),\n",
       "  ('game', 0.002840371715052553),\n",
       "  ('good', 0.002614374642365314),\n",
       "  ('league', 0.0026123473809775686),\n",
       "  ('players', 0.0026066919212031805),\n",
       "  ('minister', 0.0025735327622053933),\n",
       "  ('time', 0.002566662482461167),\n",
       "  ('club', 0.002522072121908676),\n",
       "  ('arsenal', 0.0025037396662147774),\n",
       "  ('last', 0.0024429429322480882),\n",
       "  ('party', 0.002438765770456181),\n",
       "  (\"don't\", 0.0024340625164823004),\n",
       "  ('like', 0.002409449283893575),\n",
       "  ('election', 0.002387601302866562),\n",
       "  ('bbc', 0.0023755665907874224),\n",
       "  ('want', 0.0023708316249832647),\n",
       "  ('going', 0.0023174286362697234)],\n",
       " [('blair', 0.003789052020451831),\n",
       "  ('labour', 0.003756904854182253),\n",
       "  ('think', 0.0033769676071775255),\n",
       "  ('chelsea', 0.002988386430522845),\n",
       "  ('minister', 0.0026322228590789872),\n",
       "  ('players', 0.002630819930110458),\n",
       "  ('league', 0.0026201218499371185),\n",
       "  ('time', 0.0025720811242427775),\n",
       "  ('game', 0.002548580400470664),\n",
       "  ('party', 0.0025405169968800087),\n",
       "  ('club', 0.0025145293254008045),\n",
       "  ('good', 0.0024869026158916875),\n",
       "  (\"don't\", 0.0024553708499001846),\n",
       "  ('last', 0.0024434629262835893),\n",
       "  ('election', 0.002439979749044198),\n",
       "  ('arsenal', 0.002383892972725239),\n",
       "  ('bbc', 0.0023820557285104097),\n",
       "  ('prime', 0.0023747029188644644),\n",
       "  ('next', 0.002362162655076952),\n",
       "  ('like', 0.002349811209855933)]]"
      ]
     },
     "execution_count": 12,
     "metadata": {},
     "output_type": "execute_result"
    }
   ],
   "source": [
    "ldaseq.print_topic_times(1)"
   ]
  },
  {
   "cell_type": "markdown",
   "metadata": {},
   "source": [
    "Now let us do the same, but after increasing the `chain_variance` value."
   ]
  },
  {
   "cell_type": "code",
   "execution_count": 13,
   "metadata": {},
   "outputs": [
    {
     "name": "stderr",
     "output_type": "stream",
     "text": [
      "/home/misha/git/gensim/gensim/models/ldaseqmodel.py:293: RuntimeWarning: divide by zero encountered in double_scalars\n",
      "  convergence = np.fabs((bound - old_bound) / old_bound)\n"
     ]
    }
   ],
   "source": [
    "ldaseq_chain = ldaseqmodel.LdaSeqModel(corpus=corpus, id2word=dictionary, time_slice=time_slice, num_topics=5, chain_variance=0.05)"
   ]
  },
  {
   "cell_type": "markdown",
   "metadata": {},
   "source": [
    "It's noticable that the values are moving more freely after increasing the chain_variance. Film went from highest probability to 5th to 8th!"
   ]
  },
  {
   "cell_type": "code",
   "execution_count": 14,
   "metadata": {},
   "outputs": [
    {
     "data": {
      "text/plain": [
       "[[('film', 0.01375823795635665),\n",
       "  ('best', 0.011276818151806972),\n",
       "  ('director', 0.0037205351022692626),\n",
       "  ('award', 0.003633238905079213),\n",
       "  ('actor', 0.0033617813327913725),\n",
       "  ('million', 0.003171307691973619),\n",
       "  ('last', 0.003001466360153857),\n",
       "  ('star', 0.0028582559564371015),\n",
       "  ('top', 0.002712140388471245),\n",
       "  ('number', 0.0027089038839408905),\n",
       "  ('awards', 0.0026868686691167926),\n",
       "  ('including', 0.002439768747498039),\n",
       "  ('first', 0.002344462049607271),\n",
       "  ('former', 0.0022905809196871805),\n",
       "  ('three', 0.002194680615038633),\n",
       "  (\"year's\", 0.0021776664285641303),\n",
       "  ('films', 0.002083143276187699),\n",
       "  ('actress', 0.0020164206323942174),\n",
       "  ('show', 0.00197821093747264),\n",
       "  ('year', 0.0019242389412551)],\n",
       " [('best', 0.006251718153454164),\n",
       "  ('music', 0.006238051188736231),\n",
       "  ('number', 0.004698151339240129),\n",
       "  ('show', 0.004373075014477944),\n",
       "  ('last', 0.004059693074135519),\n",
       "  ('top', 0.00405154039904161),\n",
       "  ('band', 0.0038494003568372613),\n",
       "  ('film', 0.0033736878692985192),\n",
       "  ('album', 0.0031989412560276334),\n",
       "  ('first', 0.0031124929302574207),\n",
       "  ('year', 0.002834362048826918),\n",
       "  ('star', 0.002550351654850285),\n",
       "  ('uk', 0.002519053818321902),\n",
       "  ('former', 0.002500363208100788),\n",
       "  ('three', 0.0024999255264368087),\n",
       "  ('song', 0.002474514670099769),\n",
       "  ('award', 0.002462145721864402),\n",
       "  ('awards', 0.002365331088911364),\n",
       "  ('including', 0.0022353211770823654),\n",
       "  ('singer', 0.002218424423530627)],\n",
       " [('music', 0.010806445443709194),\n",
       "  ('best', 0.00981469175905119),\n",
       "  ('show', 0.005951862553416929),\n",
       "  ('last', 0.004887788345653499),\n",
       "  ('number', 0.004868033645733588),\n",
       "  ('band', 0.004531100533940954),\n",
       "  ('song', 0.004107695027634018),\n",
       "  ('top', 0.0033553984393853925),\n",
       "  ('album', 0.00331033540878989),\n",
       "  ('first', 0.0031215613317256067),\n",
       "  ('rock', 0.002974436692834055),\n",
       "  ('three', 0.0029380521471727944),\n",
       "  ('singer', 0.0029097633299058753),\n",
       "  ('award', 0.00280974819746582),\n",
       "  ('uk', 0.0027834816968850167),\n",
       "  ('film', 0.0025622295396685907),\n",
       "  ('hit', 0.0025414452086195195),\n",
       "  ('record', 0.0025200223644026203),\n",
       "  ('spam', 0.0024324731646563516),\n",
       "  ('bbc', 0.0024080622812893727)]]"
      ]
     },
     "execution_count": 14,
     "metadata": {},
     "output_type": "execute_result"
    }
   ],
   "source": [
    "ldaseq_chain.print_topic_times(2)"
   ]
  },
  {
   "cell_type": "markdown",
   "metadata": {},
   "source": [
    "### LDA Model and DTM\n",
    "\n",
    "For the first slice of DTM to get setup, we need to provide it sufficient stats from an LDA model. As discussed before, this is done by fitting gensim LDA on the dataset first. \n",
    "\n",
    "We also, however, have the option of passing our own model or suff stats values. Our final DTM results are heavily influenced by what we pass over here. We already know what a \"Good\" or \"Bad\" LDA model is (if not, read about it [here](http://nbviewer.jupyter.org/github/dsquareindia/gensim/blob/280375fe14adea67ce6384ba7eabf362b05e6029/docs/notebooks/topic_coherence_tutorial.ipynb)). \n",
    "\n",
    "It's quite obvious, then, that by passing a \"bad\" LDA model we will get not so satisfactory results; and by passing a better fitted or better trained LDA we will get better results. The same logic goes if we wish to directly pass the `suff_stats` numpy matrix."
   ]
  },
  {
   "cell_type": "markdown",
   "metadata": {},
   "source": [
    "### Visualising Dynamic Topic Models.\n",
    "\n",
    "Let us use pyLDAvis to visualise both the DTM wrapper and DTM python port.\n",
    "With the new `DTMvis` methods it is now very straightforward to visualise DTM for a particular time-slice."
   ]
  },
  {
   "cell_type": "code",
   "execution_count": 15,
   "metadata": {},
   "outputs": [
    {
     "ename": "FileNotFoundError",
     "evalue": "[Errno 2] No such file or directory: 'dtm_news'",
     "output_type": "error",
     "traceback": [
      "\u001b[0;31m---------------------------------------------------------------------------\u001b[0m",
      "\u001b[0;31mFileNotFoundError\u001b[0m                         Traceback (most recent call last)",
      "\u001b[0;32m<ipython-input-15-353cbcbeba51>\u001b[0m in \u001b[0;36m<module>\u001b[0;34m\u001b[0m\n\u001b[1;32m      8\u001b[0m \u001b[0;34m\u001b[0m\u001b[0m\n\u001b[1;32m      9\u001b[0m \u001b[0;31m# if we've saved before simply load the model\u001b[0m\u001b[0;34m\u001b[0m\u001b[0;34m\u001b[0m\u001b[0;34m\u001b[0m\u001b[0m\n\u001b[0;32m---> 10\u001b[0;31m \u001b[0mdtm_model\u001b[0m \u001b[0;34m=\u001b[0m \u001b[0mDtmModel\u001b[0m\u001b[0;34m.\u001b[0m\u001b[0mload\u001b[0m\u001b[0;34m(\u001b[0m\u001b[0;34m'dtm_news'\u001b[0m\u001b[0;34m)\u001b[0m\u001b[0;34m\u001b[0m\u001b[0;34m\u001b[0m\u001b[0m\n\u001b[0m",
      "\u001b[0;32m~/git/gensim/gensim/utils.py\u001b[0m in \u001b[0;36mload\u001b[0;34m(cls, fname, mmap)\u001b[0m\n\u001b[1;32m    424\u001b[0m         \u001b[0mcompress\u001b[0m\u001b[0;34m,\u001b[0m \u001b[0msubname\u001b[0m \u001b[0;34m=\u001b[0m \u001b[0mSaveLoad\u001b[0m\u001b[0;34m.\u001b[0m\u001b[0m_adapt_by_suffix\u001b[0m\u001b[0;34m(\u001b[0m\u001b[0mfname\u001b[0m\u001b[0;34m)\u001b[0m\u001b[0;34m\u001b[0m\u001b[0;34m\u001b[0m\u001b[0m\n\u001b[1;32m    425\u001b[0m \u001b[0;34m\u001b[0m\u001b[0m\n\u001b[0;32m--> 426\u001b[0;31m         \u001b[0mobj\u001b[0m \u001b[0;34m=\u001b[0m \u001b[0munpickle\u001b[0m\u001b[0;34m(\u001b[0m\u001b[0mfname\u001b[0m\u001b[0;34m)\u001b[0m\u001b[0;34m\u001b[0m\u001b[0;34m\u001b[0m\u001b[0m\n\u001b[0m\u001b[1;32m    427\u001b[0m         \u001b[0mobj\u001b[0m\u001b[0;34m.\u001b[0m\u001b[0m_load_specials\u001b[0m\u001b[0;34m(\u001b[0m\u001b[0mfname\u001b[0m\u001b[0;34m,\u001b[0m \u001b[0mmmap\u001b[0m\u001b[0;34m,\u001b[0m \u001b[0mcompress\u001b[0m\u001b[0;34m,\u001b[0m \u001b[0msubname\u001b[0m\u001b[0;34m)\u001b[0m\u001b[0;34m\u001b[0m\u001b[0;34m\u001b[0m\u001b[0m\n\u001b[1;32m    428\u001b[0m         \u001b[0mlogger\u001b[0m\u001b[0;34m.\u001b[0m\u001b[0minfo\u001b[0m\u001b[0;34m(\u001b[0m\u001b[0;34m\"loaded %s\"\u001b[0m\u001b[0;34m,\u001b[0m \u001b[0mfname\u001b[0m\u001b[0;34m)\u001b[0m\u001b[0;34m\u001b[0m\u001b[0;34m\u001b[0m\u001b[0m\n",
      "\u001b[0;32m~/git/gensim/gensim/utils.py\u001b[0m in \u001b[0;36munpickle\u001b[0;34m(fname)\u001b[0m\n\u001b[1;32m   1379\u001b[0m \u001b[0;34m\u001b[0m\u001b[0m\n\u001b[1;32m   1380\u001b[0m     \"\"\"\n\u001b[0;32m-> 1381\u001b[0;31m     \u001b[0;32mwith\u001b[0m \u001b[0msmart_open\u001b[0m\u001b[0;34m(\u001b[0m\u001b[0mfname\u001b[0m\u001b[0;34m,\u001b[0m \u001b[0;34m'rb'\u001b[0m\u001b[0;34m)\u001b[0m \u001b[0;32mas\u001b[0m \u001b[0mf\u001b[0m\u001b[0;34m:\u001b[0m\u001b[0;34m\u001b[0m\u001b[0;34m\u001b[0m\u001b[0m\n\u001b[0m\u001b[1;32m   1382\u001b[0m         \u001b[0;31m# Because of loading from S3 load can't be used (missing readline in smart_open)\u001b[0m\u001b[0;34m\u001b[0m\u001b[0;34m\u001b[0m\u001b[0;34m\u001b[0m\u001b[0m\n\u001b[1;32m   1383\u001b[0m         \u001b[0;32mif\u001b[0m \u001b[0msys\u001b[0m\u001b[0;34m.\u001b[0m\u001b[0mversion_info\u001b[0m \u001b[0;34m>\u001b[0m \u001b[0;34m(\u001b[0m\u001b[0;36m3\u001b[0m\u001b[0;34m,\u001b[0m \u001b[0;36m0\u001b[0m\u001b[0;34m)\u001b[0m\u001b[0;34m:\u001b[0m\u001b[0;34m\u001b[0m\u001b[0;34m\u001b[0m\u001b[0m\n",
      "\u001b[0;32m~/envs/gensim/lib/python3.7/site-packages/smart_open/smart_open_lib.py\u001b[0m in \u001b[0;36msmart_open\u001b[0;34m(uri, mode, **kw)\u001b[0m\n\u001b[1;32m    437\u001b[0m             \u001b[0mtransport_params\u001b[0m\u001b[0;34m[\u001b[0m\u001b[0mkey\u001b[0m\u001b[0;34m]\u001b[0m \u001b[0;34m=\u001b[0m \u001b[0mvalue\u001b[0m\u001b[0;34m\u001b[0m\u001b[0;34m\u001b[0m\u001b[0m\n\u001b[1;32m    438\u001b[0m \u001b[0;34m\u001b[0m\u001b[0m\n\u001b[0;32m--> 439\u001b[0;31m     \u001b[0;32mreturn\u001b[0m \u001b[0mopen\u001b[0m\u001b[0;34m(\u001b[0m\u001b[0muri\u001b[0m\u001b[0;34m,\u001b[0m \u001b[0mmode\u001b[0m\u001b[0;34m,\u001b[0m \u001b[0mignore_ext\u001b[0m\u001b[0;34m=\u001b[0m\u001b[0mignore_extension\u001b[0m\u001b[0;34m,\u001b[0m \u001b[0mtransport_params\u001b[0m\u001b[0;34m=\u001b[0m\u001b[0mtransport_params\u001b[0m\u001b[0;34m,\u001b[0m \u001b[0;34m**\u001b[0m\u001b[0mscrubbed_kwargs\u001b[0m\u001b[0;34m)\u001b[0m\u001b[0;34m\u001b[0m\u001b[0;34m\u001b[0m\u001b[0m\n\u001b[0m\u001b[1;32m    440\u001b[0m \u001b[0;34m\u001b[0m\u001b[0m\n\u001b[1;32m    441\u001b[0m \u001b[0;34m\u001b[0m\u001b[0m\n",
      "\u001b[0;32m~/envs/gensim/lib/python3.7/site-packages/smart_open/smart_open_lib.py\u001b[0m in \u001b[0;36mopen\u001b[0;34m(uri, mode, buffering, encoding, errors, newline, closefd, opener, ignore_ext, transport_params)\u001b[0m\n\u001b[1;32m    305\u001b[0m         \u001b[0mbuffering\u001b[0m\u001b[0;34m=\u001b[0m\u001b[0mbuffering\u001b[0m\u001b[0;34m,\u001b[0m\u001b[0;34m\u001b[0m\u001b[0;34m\u001b[0m\u001b[0m\n\u001b[1;32m    306\u001b[0m         \u001b[0mencoding\u001b[0m\u001b[0;34m=\u001b[0m\u001b[0mencoding\u001b[0m\u001b[0;34m,\u001b[0m\u001b[0;34m\u001b[0m\u001b[0;34m\u001b[0m\u001b[0m\n\u001b[0;32m--> 307\u001b[0;31m         \u001b[0merrors\u001b[0m\u001b[0;34m=\u001b[0m\u001b[0merrors\u001b[0m\u001b[0;34m,\u001b[0m\u001b[0;34m\u001b[0m\u001b[0;34m\u001b[0m\u001b[0m\n\u001b[0m\u001b[1;32m    308\u001b[0m     )\n\u001b[1;32m    309\u001b[0m     \u001b[0;32mif\u001b[0m \u001b[0mfobj\u001b[0m \u001b[0;32mis\u001b[0m \u001b[0;32mnot\u001b[0m \u001b[0;32mNone\u001b[0m\u001b[0;34m:\u001b[0m\u001b[0;34m\u001b[0m\u001b[0;34m\u001b[0m\u001b[0m\n",
      "\u001b[0;32m~/envs/gensim/lib/python3.7/site-packages/smart_open/smart_open_lib.py\u001b[0m in \u001b[0;36m_shortcut_open\u001b[0;34m(uri, mode, ignore_ext, buffering, encoding, errors)\u001b[0m\n\u001b[1;32m    496\u001b[0m     \u001b[0;31m#\u001b[0m\u001b[0;34m\u001b[0m\u001b[0;34m\u001b[0m\u001b[0;34m\u001b[0m\u001b[0m\n\u001b[1;32m    497\u001b[0m     \u001b[0;32mif\u001b[0m \u001b[0msix\u001b[0m\u001b[0;34m.\u001b[0m\u001b[0mPY3\u001b[0m\u001b[0;34m:\u001b[0m\u001b[0;34m\u001b[0m\u001b[0;34m\u001b[0m\u001b[0m\n\u001b[0;32m--> 498\u001b[0;31m         \u001b[0;32mreturn\u001b[0m \u001b[0m_builtin_open\u001b[0m\u001b[0;34m(\u001b[0m\u001b[0mparsed_uri\u001b[0m\u001b[0;34m.\u001b[0m\u001b[0muri_path\u001b[0m\u001b[0;34m,\u001b[0m \u001b[0mmode\u001b[0m\u001b[0;34m,\u001b[0m \u001b[0mbuffering\u001b[0m\u001b[0;34m=\u001b[0m\u001b[0mbuffering\u001b[0m\u001b[0;34m,\u001b[0m \u001b[0;34m**\u001b[0m\u001b[0mopen_kwargs\u001b[0m\u001b[0;34m)\u001b[0m\u001b[0;34m\u001b[0m\u001b[0;34m\u001b[0m\u001b[0m\n\u001b[0m\u001b[1;32m    499\u001b[0m     \u001b[0;32melif\u001b[0m \u001b[0;32mnot\u001b[0m \u001b[0mopen_kwargs\u001b[0m\u001b[0;34m:\u001b[0m\u001b[0;34m\u001b[0m\u001b[0;34m\u001b[0m\u001b[0m\n\u001b[1;32m    500\u001b[0m         \u001b[0;32mreturn\u001b[0m \u001b[0m_builtin_open\u001b[0m\u001b[0;34m(\u001b[0m\u001b[0mparsed_uri\u001b[0m\u001b[0;34m.\u001b[0m\u001b[0muri_path\u001b[0m\u001b[0;34m,\u001b[0m \u001b[0mmode\u001b[0m\u001b[0;34m,\u001b[0m \u001b[0mbuffering\u001b[0m\u001b[0;34m=\u001b[0m\u001b[0mbuffering\u001b[0m\u001b[0;34m)\u001b[0m\u001b[0;34m\u001b[0m\u001b[0;34m\u001b[0m\u001b[0m\n",
      "\u001b[0;31mFileNotFoundError\u001b[0m: [Errno 2] No such file or directory: 'dtm_news'"
     ]
    }
   ],
   "source": [
    "from gensim.models.wrappers.dtmmodel import DtmModel\n",
    "from gensim.corpora import Dictionary, bleicorpus\n",
    "import pyLDAvis\n",
    "\n",
    "# dtm_path = \"/Users/bhargavvader/Downloads/dtm_release/dtm/main\"\n",
    "# dtm_model = DtmModel(dtm_path, corpus, time_slice, num_topics=5, id2word=dictionary, initialize_lda=True)\n",
    "# dtm_model.save('dtm_news')\n",
    "\n",
    "# if we've saved before simply load the model\n",
    "dtm_model = DtmModel.load('dtm_news')"
   ]
  },
  {
   "cell_type": "markdown",
   "metadata": {},
   "source": [
    "If you take some time to look at the topics, you will notice large semantic similarities with the wrapper and the python DTM. \n",
    "Functionally, the python DTM replicates the wrapper quite well."
   ]
  },
  {
   "cell_type": "code",
   "execution_count": null,
   "metadata": {},
   "outputs": [],
   "source": [
    "doc_topic, topic_term, doc_lengths, term_frequency, vocab = dtm_model.dtm_vis(time=0, corpus=corpus)\n",
    "vis_wrapper = pyLDAvis.prepare(topic_term_dists=topic_term, doc_topic_dists=doc_topic, doc_lengths=doc_lengths, vocab=vocab, term_frequency=term_frequency)\n",
    "pyLDAvis.display(vis_wrapper)"
   ]
  },
  {
   "cell_type": "markdown",
   "metadata": {},
   "source": [
    "Now let us do the same for the python DTM."
   ]
  },
  {
   "cell_type": "markdown",
   "metadata": {},
   "source": [
    "In particular, look at topic 2 of the wrapper and topic 3 of the python port. Notice how they are both about football."
   ]
  },
  {
   "cell_type": "code",
   "execution_count": null,
   "metadata": {},
   "outputs": [],
   "source": [
    "doc_topic, topic_term, doc_lengths, term_frequency, vocab = ldaseq.dtm_vis(time=0, corpus=corpus)\n",
    "vis_dtm = pyLDAvis.prepare(topic_term_dists=topic_term, doc_topic_dists=doc_topic, doc_lengths=doc_lengths, vocab=vocab, term_frequency=term_frequency)\n",
    "pyLDAvis.display(vis_dtm)"
   ]
  },
  {
   "cell_type": "markdown",
   "metadata": {},
   "source": [
    "Visualising topics is a handy way to compare topic models."
   ]
  },
  {
   "cell_type": "markdown",
   "metadata": {},
   "source": [
    "### Topic Coherence for DTM\n",
    "\n",
    "Similar to visualising DTM time-slices, finding coherence values for both python DTM and the wrapper is very easy.\n",
    "We just have to specify the time-slice we want to find coherence for.\n",
    "The following examples will illustrate this."
   ]
  },
  {
   "cell_type": "code",
   "execution_count": null,
   "metadata": {},
   "outputs": [],
   "source": [
    "from gensim.models.coherencemodel import CoherenceModel\n",
    "import pickle\n",
    "\n",
    "# we just have to specify the time-slice we want to find coherence for.\n",
    "topics_wrapper = dtm_model.dtm_coherence(time=0)\n",
    "topics_dtm = ldaseq.dtm_coherence(time=2)\n",
    "\n",
    "# running u_mass coherence on our models\n",
    "cm_wrapper = CoherenceModel(topics=topics_wrapper, corpus=corpus, dictionary=dictionary, coherence='u_mass')\n",
    "cm_DTM = CoherenceModel(topics=topics_dtm, corpus=corpus, dictionary=dictionary, coherence='u_mass')\n",
    "\n",
    "print (\"U_mass topic coherence\")\n",
    "print (\"Wrapper coherence is \", cm_wrapper.get_coherence())\n",
    "print (\"DTM Python coherence is\", cm_DTM.get_coherence())\n",
    "\n",
    "# to use 'c_v' we need texts, which we have saved to disk.\n",
    "texts = pickle.load(open('Corpus/texts', 'rb'))\n",
    "cm_wrapper = CoherenceModel(topics=topics_wrapper, texts=texts, dictionary=dictionary, coherence='c_v')\n",
    "cm_DTM = CoherenceModel(topics=topics_dtm, texts=texts, dictionary=dictionary, coherence='c_v')\n",
    "\n",
    "print (\"C_v topic coherence\")\n",
    "print (\"Wrapper coherence is \", cm_wrapper.get_coherence())\n",
    "print (\"DTM Python coherence is\", cm_DTM.get_coherence())"
   ]
  },
  {
   "cell_type": "markdown",
   "metadata": {
    "collapsed": true
   },
   "source": [
    "Our values are a little behind the wrapper - but not by much. "
   ]
  },
  {
   "cell_type": "markdown",
   "metadata": {},
   "source": [
    "## Conclusion\n",
    "\n",
    "So while there is already a python wrapper of DTM, a pure python implementation will be useful to better understand what goes on undcer the hood and tune our model. When it comes to performance, the C++ is undoubtedly faster, but we can continue to work on ours to make it as fast.\n",
    "As for evaluating the results, our topics are on par if not better than the wrapper!\n",
    "\n",
    "On a more personal note, implementing Dynamic Topic Models with the Google Summer of Code 2016 program was a great learning experience. Gensim and RaRe Technologies have been a joy to work with, and Lev and Radim have been great mentors throughout, especially when things became slow or difficult. \n",
    "I look forward to continuing my contribution to gensim for a long time!"
   ]
  }
 ],
 "metadata": {
  "anaconda-cloud": {},
  "kernelspec": {
   "display_name": "Python 3",
   "language": "python",
   "name": "python3"
  },
  "language_info": {
   "codemirror_mode": {
    "name": "ipython",
    "version": 3
   },
   "file_extension": ".py",
   "mimetype": "text/x-python",
   "name": "python",
   "nbconvert_exporter": "python",
   "pygments_lexer": "ipython3",
   "version": "3.7.1"
  }
 },
 "nbformat": 4,
 "nbformat_minor": 1
}
