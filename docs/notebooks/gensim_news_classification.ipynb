{
 "cells": [
  {
   "cell_type": "markdown",
   "metadata": {
    "nbpresent": {
     "id": "e0085648-0300-4087-9b12-ee7d2392ce4f"
    }
   },
   "source": [
    "# News classification with topic models in gensim\n",
    "News article classification is a task which is performed on a huge scale by news agencies all over the world. We will be looking into how topic modeling can be used to accurately classify news articles into different categories such as sports, technology, politics etc.\n",
    "\n",
    "Our aim in this tutorial is to come up with some topic model which can come up with topics that can easily be interpreted by us. Such a topic model can be used to discover hidden structure in the corpus and can also be used to determine the membership of a news article into one of the topics.\n",
    "\n",
    "For this tutorial, we will be using the Lee corpus which is a shortened version of the [Lee Background Corpus](http://www.socsci.uci.edu/~mdlee/lee_pincombe_welsh_document.PDF). The shortened version consists of 300 documents selected from the Australian Broadcasting Corporation's news mail service. It consists of texts of headline stories from around the year 2000-2001.\n",
    "\n",
    "Accompanying slides can be found [here](https://speakerdeck.com/dsquareindia/pycon-delhi-lightening).\n",
    "\n",
    "### Requirements\n",
    "In this tutorial we look at how different topic models can be easily created using [gensim](https://radimrehurek.com/gensim/).\n",
    "Following are the dependencies for this tutorial:\n",
    "    - Gensim Version >=0.13.1 would be preferred since we will be using topic coherence metrics extensively here.\n",
    "    - matplotlib\n",
    "    - Patterns library; Gensim uses this for lemmatization. ONLY FOR PYTHON 2.5+ - no support for Python 3 yet.\n",
    "    - nltk.stopwords\n",
    "    - pyLDAVis\n",
    "We will be playing around with 4 different topic models here:\n",
    "    - LSI (Latent Semantic Indexing)\n",
    "    - HDP (Hierarchical Dirichlet Process)\n",
    "    - LDA (Latent Dirichlet Allocation)\n",
    "    - LDA (tweaked with topic coherence to find optimal number of topics) and\n",
    "    - LDA as LSI with the help of topic coherence metrics\n",
    "First we'll fit those topic models on our existing data then we'll compare each against the other and see how they rank in terms of human interpretability.\n",
    "\n",
    "All can be found in gensim and can be easily used in a plug-and-play fashion. We will tinker with the LDA model using the newly added topic coherence metrics in gensim based on [this](http://svn.aksw.org/papers/2015/WSDM_Topic_Evaluation/public.pdf) paper by Roeder et al and see how the resulting topic model compares with the exsisting ones."
   ]
  },
  {
   "cell_type": "code",
   "execution_count": null,
   "metadata": {
    "collapsed": false,
    "nbpresent": {
     "id": "25997dab-04e3-4abc-b22f-b36944b208c2"
    }
   },
   "outputs": [],
   "source": [
    "import os\n",
    "import re\n",
    "import operator\n",
    "import matplotlib.pyplot as plt\n",
    "import warnings\n",
    "import gensim\n",
    "import numpy as np\n",
    "warnings.filterwarnings('ignore')  # Let's not pay heed to them right now\n",
    "\n",
    "from gensim.models import CoherenceModel, LdaModel, LsiModel, HdpModel\n",
    "from gensim.models.wrappers import LdaMallet\n",
    "from gensim.corpora import Dictionary\n",
    "from pprint import pprint\n",
    "\n",
    "%matplotlib inline"
   ]
  },
  {
   "cell_type": "code",
   "execution_count": 2,
   "metadata": {
    "collapsed": false,
    "nbpresent": {
     "id": "8778b874-a6d1-4f2f-ba02-35dc0fa10f0c"
    }
   },
   "outputs": [],
   "source": [
    "test_data_dir = '{}'.format(os.sep).join([gensim.__path__[0], 'test', 'test_data'])\n",
    "lee_train_file = test_data_dir + os.sep + 'lee_background.cor'"
   ]
  },
  {
   "cell_type": "markdown",
   "metadata": {
    "nbpresent": {
     "id": "bcbc3313-3a57-4923-b330-69691eaf7535"
    }
   },
   "source": [
    "Analysing our corpus.\n",
    "    - The first document talks about a bushfire that had occured in New South Wales.\n",
    "    - The second talks about conflict between India and Pakistan in Kashmir.\n",
    "    - The third talks about road accidents in the New South Wales area.\n",
    "    - The fourth one talks about Argentina's economic and political crisis during that time.\n",
    "    - The last one talks about the use of drugs by midwives in a Sydney hospital.\n",
    "Our final topic model should be giving us keywords which we can easily interpret and make a small summary out of. Without this the topic model cannot be of much practical use."
   ]
  },
  {
   "cell_type": "code",
   "execution_count": 3,
   "metadata": {
    "collapsed": false,
    "nbpresent": {
     "id": "d447e236-b1b9-4cf7-bc39-8bfb499d4730"
    }
   },
   "outputs": [
    {
     "name": "stdout",
     "output_type": "stream",
     "text": [
      "['Hundreds of people have been forced to vacate their homes in the Southern Highlands of New South Wales as strong winds today pushed a huge bushfire towards the town of Hill Top. A new blaze near Goulburn, south-west of Sydney, has forced the closure of the Hume Highway. At about 4:00pm AEDT, a marked deterioration in the weather as a storm cell moved east across the Blue Mountains forced authorities to make a decision to evacuate people from homes in outlying streets at Hill Top in the New South Wales southern highlands. An estimated 500 residents have left their homes for nearby Mittagong. The New South Wales Rural Fire Service says the weather conditions which caused the fire to burn in a finger formation have now eased and about 60 fire units in and around Hill Top are optimistic of defending all properties. As more than 100 blazes burn on New Year\\'s Eve in New South Wales, fire crews have been called to new fire at Gunning, south of Goulburn. While few details are available at this stage, fire authorities says it has closed the Hume Highway in both directions. Meanwhile, a new fire in Sydney\\'s west is no longer threatening properties in the Cranebrook area. Rain has fallen in some parts of the Illawarra, Sydney, the Hunter Valley and the north coast. But the Bureau of Meteorology\\'s Claire Richards says the rain has done little to ease any of the hundred fires still burning across the state. \"The falls have been quite isolated in those areas and generally the falls have been less than about five millimetres,\" she said. \"In some places really not significant at all, less than a millimetre, so there hasn\\'t been much relief as far as rain is concerned. \"In fact, they\\'ve probably hampered the efforts of the firefighters more because of the wind gusts that are associated with those thunderstorms.\" \\n']\n",
      "[\"Indian security forces have shot dead eight suspected militants in a night-long encounter in southern Kashmir. The shootout took place at Dora village some 50 kilometers south of the Kashmiri summer capital Srinagar. The deaths came as Pakistani police arrested more than two dozen militants from extremist groups accused of staging an attack on India's parliament. India has accused Pakistan-based Lashkar-e-Taiba and Jaish-e-Mohammad of carrying out the attack on December 13 at the behest of Pakistani military intelligence. Military tensions have soared since the raid, with both sides massing troops along their border and trading tit-for-tat diplomatic sanctions. Yesterday, Pakistan announced it had arrested Lashkar-e-Taiba chief Hafiz Mohammed Saeed. Police in Karachi say it is likely more raids will be launched against the two groups as well as other militant organisations accused of targetting India. Military tensions between India and Pakistan have escalated to a level not seen since their 1971 war. \\n\"]\n",
      "['The national road toll for the Christmas-New Year holiday period stands at 45, eight fewer than for the same time last year. 20 people have died on New South Wales roads, with eight fatalities in both Queensland and Victoria. Western Australia, the Northern Territory and South Australia have each recorded three deaths, while the ACT and Tasmania remain fatality free. \\n']\n",
      "[\"Argentina's political and economic crisis has deepened with the resignation of its interim President who took office just a week ago. Aldolfo Rodregiuez Saa told a stunned nation that he could not rescue Argentina because key fellow Peronists would not support his default on massive foreign debt repayment or his plan for a new currency. It was only a week ago that he was promising a million new jobs to end four years of recession, days after his predecessor resigned following a series of failed rescue packages. After announcing that the senate leader, Ramon Puerta, would assume the presidency until congress appoints a new caretaker president, the government said he too had quit and another senior lawmaker would act in the role. Fresh elections are not scheduled until March leaving whoever assumes the presidency with the daunting task of tackling Argentina's worst crisis in 12 years, but this time, isolated by international lending agencies. \\n\"]\n",
      "['Six midwives have been suspended at Wollongong Hospital, south of Sydney, for inappropriate use of nitrous oxide during work hours, on some occasions while women were in labour. The Illawarra Area Health Service says that following an investigation of unprofessional conduct, a further four midwives have been relocated to other areas within the hospital. The service\\'s chief executive officer, Tony Sherbon, says no one was put at risk, because other staff not involved in the use of nitrous oxide were able to take over caring for women in labour. \"Well we\\'re very concerned and the body of midwives to the hospital - there are over 70 midwives that work in our service - are very annoyed and angry at the inappropriate behaviour of these very senior people who should know better,\" he said. \"And that\\'s why we\\'ve take the action of suspending them and we\\'ll consider further action next week.\" \\n']\n"
     ]
    }
   ],
   "source": [
    "with open(lee_train_file) as f:\n",
    "    for n, l in enumerate(f):\n",
    "        if n < 5:\n",
    "            print([l])"
   ]
  },
  {
   "cell_type": "code",
   "execution_count": 4,
   "metadata": {
    "collapsed": true,
    "nbpresent": {
     "id": "f4d505e5-5e90-4770-aaae-04ae05d697b5"
    }
   },
   "outputs": [],
   "source": [
    "def build_texts(fname):\n",
    "    \"\"\"\n",
    "    Function to build tokenized texts from file\n",
    "    \n",
    "    Parameters:\n",
    "    ----------\n",
    "    fname: File to be read\n",
    "    \n",
    "    Returns:\n",
    "    -------\n",
    "    yields preprocessed line\n",
    "    \"\"\"\n",
    "    with open(fname) as f:\n",
    "        for line in f:\n",
    "            yield gensim.utils.simple_preprocess(line, deacc=True, min_len=3)"
   ]
  },
  {
   "cell_type": "code",
   "execution_count": 5,
   "metadata": {
    "collapsed": false,
    "nbpresent": {
     "id": "4dbde9d2-3a9d-4677-8dd4-90066c0cb7c4"
    }
   },
   "outputs": [],
   "source": [
    "train_texts = list(build_texts(lee_train_file))"
   ]
  },
  {
   "cell_type": "code",
   "execution_count": 6,
   "metadata": {
    "collapsed": false,
    "nbpresent": {
     "id": "e7995c4c-f483-4cb5-9f53-3b8c5fef39c3"
    }
   },
   "outputs": [
    {
     "data": {
      "text/plain": [
       "300"
      ]
     },
     "execution_count": 6,
     "metadata": {},
     "output_type": "execute_result"
    }
   ],
   "source": [
    "len(train_texts)"
   ]
  },
  {
   "cell_type": "markdown",
   "metadata": {
    "nbpresent": {
     "id": "a6d40ad7-2abd-44e5-8839-62731fb5eab7"
    }
   },
   "source": [
    "### Preprocessing our data. Remember: Garbage In Garbage Out\n",
    "                                        \"NLP is 80% preprocessing.\"\n",
    "                                                                -Lev Konstantinovskiy\n",
    "This is the single most important step in setting up a good topic modeling system. If the preprocessing is not good, the algorithm can't do much since we would be feeding it a lot of noise. In this tutorial, we will be filtering out the noise using the following steps in this order for each line:\n",
    "1. Stopword removal using NLTK's english stopwords dataset.\n",
    "2. Bigram collocation detection (frequently co-occuring tokens) using gensim's [Phrases](https://radimrehurek.com/gensim/models/phrases.html). This is our first attempt to find some hidden structure in the corpus. You can even try trigram collocation detection.\n",
    "3. Lemmatization (using gensim's [`lemmatize`](https://radimrehurek.com/gensim/utils.html#gensim.utils.lemmatize)) to only keep the nouns. Lemmatization is generally better than stemming in the case of topic modeling since the words after lemmatization still remain understable. However, generally stemming might be preferred if the data is being fed into a vectorizer and isn't intended to be viewed."
   ]
  },
  {
   "cell_type": "code",
   "execution_count": 7,
   "metadata": {
    "collapsed": false,
    "nbpresent": {
     "id": "3ca3d45b-a28b-41c7-b5de-4c124c50d13d"
    }
   },
   "outputs": [],
   "source": [
    "bigram = gensim.models.Phrases(train_texts)  # for bigram collocation detection"
   ]
  },
  {
   "cell_type": "code",
   "execution_count": 8,
   "metadata": {
    "collapsed": false,
    "nbpresent": {
     "id": "862c087b-b918-47b9-b0cf-42b71996e061"
    }
   },
   "outputs": [
    {
     "data": {
      "text/plain": [
       "[u'new_york', u'example']"
      ]
     },
     "execution_count": 8,
     "metadata": {},
     "output_type": "execute_result"
    }
   ],
   "source": [
    "bigram[['new', 'york', 'example']]"
   ]
  },
  {
   "cell_type": "code",
   "execution_count": 9,
   "metadata": {
    "collapsed": true,
    "nbpresent": {
     "id": "1181e3a8-6803-4f41-9d55-397f3d700c28"
    }
   },
   "outputs": [],
   "source": [
    "from gensim.utils import lemmatize\n",
    "from nltk.corpus import stopwords"
   ]
  },
  {
   "cell_type": "code",
   "execution_count": 10,
   "metadata": {
    "collapsed": false,
    "nbpresent": {
     "id": "dbeeeabe-b6dd-477c-a798-fb7b39302ba9"
    }
   },
   "outputs": [],
   "source": [
    "stops = set(stopwords.words('english'))  # nltk stopwords list"
   ]
  },
  {
   "cell_type": "code",
   "execution_count": 11,
   "metadata": {
    "collapsed": true,
    "nbpresent": {
     "id": "3d784001-6875-4be5-b8e8-e6c490f5b7b4"
    }
   },
   "outputs": [],
   "source": [
    "def process_texts(texts):\n",
    "    \"\"\"\n",
    "    Function to process texts. Following are the steps we take:\n",
    "    \n",
    "    1. Stopword Removal.\n",
    "    2. Collocation detection.\n",
    "    3. Lemmatization (not stem since stemming can reduce the interpretability).\n",
    "    \n",
    "    Parameters:\n",
    "    ----------\n",
    "    texts: Tokenized texts.\n",
    "    \n",
    "    Returns:\n",
    "    -------\n",
    "    texts: Pre-processed tokenized texts.\n",
    "    \"\"\"\n",
    "    texts = [[word for word in line if word not in stops] for line in texts]\n",
    "    texts = [bigram[line] for line in texts]\n",
    "    texts = [[word.split('/')[0] for word in lemmatize(' '.join(line), allowed_tags=re.compile('(NN)'), min_length=3)] for line in texts]\n",
    "    return texts"
   ]
  },
  {
   "cell_type": "code",
   "execution_count": 12,
   "metadata": {
    "collapsed": false,
    "nbpresent": {
     "id": "d8cfc39f-aa3b-469f-ae34-1ef99ef51a25"
    }
   },
   "outputs": [
    {
     "name": "stdout",
     "output_type": "stream",
     "text": [
      "[['afghani', 'asylum_seeker', 'australia', 'return', 'home', 'environment', 'government', 'application', 'kabul', 'foreign_affair', 'downer', 'process', 'threat', 'person', 'asylum', 'afghan', 'australia', 'matter', 'britain', 'country', 'europe', 'taliban', 'power', 'afghanistan', 'taliban', 'airlift', 'detainee', 'christmas', 'island', 'island', 'nauru', 'total', 'person', 'island', 'operation', 'aircraft', 'airlift', 'today', 'asylum_seeker', 'claim', 'visa', 'department', 'immigration', 'detainee', 'christmas', 'island', 'spokesman', 'decision']]\n"
     ]
    }
   ],
   "source": [
    "try:\n",
    "    train_texts = process_texts(train_texts)\n",
    "    print(train_texts[5:6])\n",
    "except ImportError:\n",
    "    raise ValueError(\"SKIP: Install Pattern library to run functions using lemmatize\")"
   ]
  },
  {
   "cell_type": "markdown",
   "metadata": {
    "nbpresent": {
     "id": "0e5ca1a8-9c78-412a-9ab4-a4d0be5afd34"
    }
   },
   "source": [
    "Finalising our dictionary and corpus"
   ]
  },
  {
   "cell_type": "code",
   "execution_count": 13,
   "metadata": {
    "collapsed": false,
    "nbpresent": {
     "id": "161e8770-8bc2-41ae-98f4-08d1c9311e82"
    }
   },
   "outputs": [],
   "source": [
    "dictionary = Dictionary(train_texts)\n",
    "corpus = [dictionary.doc2bow(text) for text in train_texts]"
   ]
  },
  {
   "cell_type": "markdown",
   "metadata": {
    "nbpresent": {
     "id": "fe809373-e88b-44eb-9cb9-08be3dc5949a"
    }
   },
   "source": [
    "### Topic modeling with LSI\n",
    "This is a useful topic modeling algorithm in that it can rank topics by itself. Thus it outputs topics in a ranked order. However it does require a `num_topics` parameter (set to 200 by default) to determine the number of latent dimensions after the SVD."
   ]
  },
  {
   "cell_type": "code",
   "execution_count": 14,
   "metadata": {
    "collapsed": false,
    "nbpresent": {
     "id": "58e7dda6-0dd2-4e4f-b81a-0b530c66b20b"
    }
   },
   "outputs": [],
   "source": [
    "lsimodel = LsiModel(corpus=corpus, num_topics=10, id2word=dictionary)"
   ]
  },
  {
   "cell_type": "code",
   "execution_count": 15,
   "metadata": {
    "collapsed": false,
    "nbpresent": {
     "id": "6b5572c0-2ab0-4b13-a08f-3db21b4c4f21"
    },
    "scrolled": false
   },
   "outputs": [
    {
     "data": {
      "text/plain": [
       "[(0,\n",
       "  u'0.241*\"person\" + 0.202*\"australia\" + 0.201*\"government\" + 0.193*\"afghanistan\" + 0.182*\"day\" + 0.174*\"attack\" + 0.156*\"force\" + 0.155*\"area\" + 0.154*\"man\" + 0.147*\"security\"'),\n",
       " (1,\n",
       "  u'-0.524*\"fire\" + -0.274*\"sydney\" + -0.269*\"area\" + -0.219*\"firefighter\" + -0.180*\"wale\" + -0.163*\"wind\" + 0.139*\"israel\" + 0.137*\"attack\" + -0.136*\"line\" + -0.126*\"today\"'),\n",
       " (2,\n",
       "  u'0.332*\"australia\" + -0.320*\"israel\" + -0.242*\"palestinian\" + 0.205*\"afghanistan\" + -0.204*\"fire\" + -0.177*\"attack\" + -0.173*\"sharon\" + -0.128*\"yasser_arafat\" + 0.122*\"company\" + -0.119*\"office\"'),\n",
       " (3,\n",
       "  u'-0.353*\"afghanistan\" + 0.300*\"australia\" + -0.236*\"pakistan\" + -0.222*\"force\" + -0.154*\"afghan\" + 0.152*\"test\" + 0.150*\"company\" + -0.146*\"area\" + 0.131*\"union\" + -0.115*\"tora_bora\"'),\n",
       " (4,\n",
       "  u'-0.331*\"union\" + -0.327*\"company\" + 0.197*\"test\" + 0.193*\"australia\" + -0.191*\"worker\" + 0.190*\"day\" + -0.170*\"qanta\" + -0.150*\"pakistan\" + 0.136*\"wicket\" + -0.130*\"commission\"')]"
      ]
     },
     "execution_count": 15,
     "metadata": {},
     "output_type": "execute_result"
    }
   ],
   "source": [
    "lsimodel.show_topics(num_topics=5)  # Showing only the top 5 topics"
   ]
  },
  {
   "cell_type": "code",
   "execution_count": 16,
   "metadata": {
    "collapsed": true,
    "nbpresent": {
     "id": "b1a8c7b4-dc46-4bfe-b17b-d604f212b389"
    }
   },
   "outputs": [],
   "source": [
    "lsitopics = lsimodel.show_topics(formatted=False)"
   ]
  },
  {
   "cell_type": "markdown",
   "metadata": {
    "nbpresent": {
     "id": "943a5fcd-7c2e-4c16-9879-34882a7a74d4"
    }
   },
   "source": [
    "### Topic modeling with [HDP](http://jmlr.csail.mit.edu/proceedings/papers/v15/wang11a/wang11a.pdf)\n",
    "An HDP model is fully unsupervised. It can also determine the ideal number of topics it needs through posterior inference."
   ]
  },
  {
   "cell_type": "code",
   "execution_count": 17,
   "metadata": {
    "collapsed": false,
    "nbpresent": {
     "id": "b492de13-0053-416c-b314-1bbae21ca828"
    }
   },
   "outputs": [],
   "source": [
    "hdpmodel = HdpModel(corpus=corpus, id2word=dictionary)"
   ]
  },
  {
   "cell_type": "code",
   "execution_count": 18,
   "metadata": {
    "collapsed": false,
    "nbpresent": {
     "id": "92dbb672-adca-4535-8089-de23712828d8"
    }
   },
   "outputs": [
    {
     "data": {
      "text/plain": [
       "[u'topic 0: 0.004*airport + 0.003*taliban + 0.003*opposition + 0.002*night + 0.002*kandahar + 0.002*troop + 0.002*president_bush + 0.002*force + 0.002*expedition + 0.002*rest + 0.002*dissident + 0.002*gul + 0.002*lali + 0.002*person + 0.002*israel + 0.002*bombing + 0.002*firm + 0.002*out + 0.002*protester + 0.002*martyrdom',\n",
       " u'topic 1: 0.003*hare + 0.002*night + 0.002*ash + 0.002*area + 0.002*mouth + 0.002*benare + 0.002*today + 0.002*sect + 0.002*soul + 0.002*detail + 0.002*defiance + 0.002*harrison + 0.002*amalgamation + 0.002*portion + 0.002*administration + 0.002*scatter + 0.002*river + 0.002*rumsfeld + 0.002*morning + 0.002*diversity',\n",
       " u'topic 2: 0.003*government + 0.003*group + 0.002*call + 0.002*warning + 0.002*cow + 0.002*helicopter + 0.002*palestinian + 0.002*accomplishment + 0.002*china + 0.002*sabotage + 0.002*uncertainty + 0.002*manufacturing + 0.002*disease + 0.002*civilian + 0.002*japan + 0.002*sharon + 0.002*sheet + 0.002*coastguard + 0.002*israel + 0.002*case',\n",
       " u'topic 3: 0.005*company + 0.002*redundancy + 0.002*staff + 0.002*entitlement + 0.002*champion + 0.002*restructuring + 0.002*option + 0.002*ship + 0.002*umpire + 0.002*dog + 0.002*morning + 0.002*expansion + 0.002*science + 0.002*traveland + 0.002*coordination + 0.002*knee + 0.002*state + 0.002*swimmer + 0.002*operator + 0.002*calypso',\n",
       " u'topic 4: 0.003*harrison + 0.002*silence + 0.002*jefferson + 0.002*karen + 0.002*student + 0.002*beatle + 0.002*life + 0.002*memory + 0.002*conference + 0.002*perth + 0.002*liverpool + 0.002*premier + 0.002*dawn + 0.002*person + 0.002*music + 0.002*crowe + 0.002*buyer + 0.002*tonight + 0.002*reserve_bank + 0.002*buyout',\n",
       " u'topic 5: 0.003*job + 0.003*per_cent + 0.003*householder + 0.002*kiwi + 0.002*tailender + 0.002*market + 0.002*appin + 0.002*president + 0.002*issue + 0.002*november + 0.002*strategy + 0.002*intolerance + 0.002*disease + 0.002*fall + 0.002*week + 0.002*beaumont + 0.001*trip + 0.001*row + 0.001*person + 0.001*scrapper',\n",
       " u'topic 6: 0.004*storm + 0.003*tree + 0.002*service + 0.002*afternoon + 0.002*sydney + 0.002*owner + 0.002*shuttle + 0.002*overweight + 0.002*democrat + 0.002*anaemia + 0.002*hornsby + 0.002*area + 0.002*timothy + 0.002*worker + 0.002*junior + 0.002*home + 0.002*defence + 0.002*shaun_pollock + 0.002*archbishop + 0.001*narrow',\n",
       " u'topic 7: 0.003*government + 0.002*ascendancy + 0.002*terence + 0.002*occasion + 0.002*time + 0.002*doug + 0.002*reconstruction + 0.002*review + 0.002*bid + 0.002*lebanon + 0.002*complex + 0.002*thousand + 0.002*right + 0.002*australia + 0.002*merger + 0.002*help + 0.002*dollar + 0.002*automobile + 0.002*cessnock + 0.002*razor',\n",
       " u'topic 8: 0.003*howard + 0.002*indonesia + 0.002*cody + 0.002*wife + 0.002*sailor + 0.002*location + 0.002*summit + 0.002*land + 0.002*outsourcing + 0.002*president + 0.002*faith + 0.002*centimetre + 0.002*goodwill + 0.001*projection + 0.001*haunting + 0.001*leg + 0.001*operation + 0.001*sort + 0.001*sect + 0.001*australia',\n",
       " u'topic 9: 0.003*person + 0.003*company + 0.003*group + 0.002*jirga + 0.002*hour + 0.002*isatabu + 0.002*think + 0.002*education + 0.002*placing + 0.002*council + 0.002*justice + 0.002*corcoran + 0.002*agreement + 0.002*afghan + 0.002*day + 0.002*misconduct + 0.002*islamic_jihad + 0.002*vision + 0.002*machinery + 0.002*hawthorne',\n",
       " u'topic 10: 0.003*guide + 0.003*cell + 0.003*block + 0.002*powell + 0.002*defendant + 0.002*court + 0.002*water + 0.002*priority + 0.002*assurance + 0.002*embryo + 0.002*killmier + 0.002*group + 0.002*thunderstorm + 0.002*change + 0.002*appin + 0.002*defunctoperator + 0.002*convention + 0.002*mcg + 0.002*manager + 0.002*master',\n",
       " u'topic 11: 0.003*firefighter + 0.003*redundancy + 0.003*outburst + 0.002*greenpeace + 0.002*execution + 0.002*militia + 0.002*indian + 0.002*delivery + 0.002*prison + 0.002*boeta + 0.002*competitor + 0.002*staff + 0.002*kashmiri + 0.002*elimination + 0.002*bomb + 0.002*program + 0.001*manhattan + 0.001*operator + 0.001*butler + 0.001*parliament',\n",
       " u'topic 12: 0.002*bis + 0.002*attempt + 0.002*head + 0.002*adam + 0.002*profit + 0.002*gst + 0.002*hebron + 0.002*state + 0.002*tissue + 0.002*text + 0.002*invasion + 0.002*shootout + 0.001*proposal + 0.001*memory + 0.001*accc + 0.001*cycle + 0.001*convention + 0.001*larrakia + 0.001*corowa + 0.001*qassam',\n",
       " u'topic 13: 0.003*match + 0.002*victory + 0.002*rafter + 0.002*team + 0.002*hour + 0.002*education + 0.002*years_ago + 0.002*rubber + 0.002*game + 0.002*beck + 0.002*career + 0.002*year + 0.002*pretoria + 0.002*blow + 0.002*australia + 0.002*france + 0.002*attack + 0.002*scarfe + 0.002*wash + 0.002*tennis',\n",
       " u'topic 14: 0.002*senator + 0.002*traveland + 0.002*prosecutor + 0.002*senate + 0.002*patrol + 0.002*sect + 0.002*million + 0.002*swimmer + 0.002*tell + 0.002*interruption + 0.002*democrat + 0.002*migration + 0.002*livelihood + 0.002*frontline + 0.002*gaza_strip + 0.002*lennon + 0.002*alcohol + 0.002*green + 0.002*today + 0.002*fever',\n",
       " u'topic 15: 0.003*australia + 0.003*economy + 0.002*decade + 0.002*cronin + 0.002*sailor + 0.002*set + 0.002*goner + 0.002*bis + 0.002*struggle + 0.002*asic + 0.002*sanchez + 0.002*lance + 0.002*prize + 0.002*disintegration + 0.002*airway + 0.002*banksa + 0.002*broomstick + 0.002*skill + 0.002*fellow + 0.002*equity',\n",
       " u'topic 16: 0.003*baz + 0.003*technique + 0.002*step + 0.002*reserve + 0.002*tent + 0.002*action + 0.002*replacement + 0.002*villager + 0.002*representation + 0.002*bowling + 0.002*everything + 0.002*single + 0.002*asylum_seeker + 0.002*burhanuddin + 0.002*plant + 0.001*institute + 0.001*fielder + 0.001*ivf + 0.001*treasurer + 0.001*happened',\n",
       " u'topic 17: 0.003*mazar + 0.002*clash + 0.002*rodriguez + 0.002*inflation + 0.002*swedish + 0.002*sharon + 0.002*suicide_attack + 0.002*taliban_force + 0.002*tower + 0.002*christmas + 0.001*range + 0.001*hendriks + 0.001*suggestion + 0.001*night + 0.001*air_strike + 0.001*behaviour + 0.001*show + 0.001*pilkem + 0.001*backer + 0.001*israeli_prime',\n",
       " u'topic 18: 0.002*bounce + 0.002*rantissi + 0.002*cost + 0.002*credit + 0.002*rupiah + 0.002*ludde + 0.002*nepal + 0.002*land + 0.002*hayward + 0.002*holding + 0.002*mistake + 0.002*extent + 0.002*lack + 0.002*require + 0.002*robbard + 0.002*negotiation + 0.002*tatp + 0.002*influence + 0.001*smoke + 0.001*problem',\n",
       " u'topic 19: 0.004*director + 0.003*domingo + 0.002*saviour + 0.002*defunct + 0.002*throat + 0.002*redmond + 0.002*commission + 0.002*hingis + 0.002*afp + 0.002*month + 0.002*pattern + 0.002*navy + 0.002*tragedy + 0.002*flood + 0.002*bishop + 0.002*adventure_world + 0.002*hanifi + 0.002*approach + 0.002*justice + 0.002*possibility']"
      ]
     },
     "execution_count": 18,
     "metadata": {},
     "output_type": "execute_result"
    }
   ],
   "source": [
    "hdpmodel.show_topics()"
   ]
  },
  {
   "cell_type": "code",
   "execution_count": 19,
   "metadata": {
    "collapsed": true,
    "nbpresent": {
     "id": "85e46481-0245-448c-b4e2-e0c6e175357c"
    }
   },
   "outputs": [],
   "source": [
    "hdptopics = hdpmodel.show_topics(formatted=False)"
   ]
  },
  {
   "cell_type": "markdown",
   "metadata": {
    "nbpresent": {
     "id": "380ef8b7-6de1-4822-ae30-7120e12b5955"
    }
   },
   "source": [
    "### Topic modeling using [LDA](https://www.cs.princeton.edu/~blei/papers/HoffmanBleiBach2010b.pdf)\n",
    "This is one the most popular topic modeling algorithms today. It is a generative model in that it assumes each document is a mixture of topics and in turn, each topic is a mixture of words. To understand it better you can watch [this](https://www.youtube.com/watch?v=DDq3OVp9dNA) lecture by David Blei. Let's choose 10 topics to initialize this."
   ]
  },
  {
   "cell_type": "code",
   "execution_count": 20,
   "metadata": {
    "collapsed": true,
    "nbpresent": {
     "id": "a02b72fb-0049-4ec3-825f-179e396f3904"
    }
   },
   "outputs": [],
   "source": [
    "ldamodel = LdaModel(corpus=corpus, num_topics=10, id2word=dictionary)"
   ]
  },
  {
   "cell_type": "markdown",
   "metadata": {
    "nbpresent": {
     "id": "672c009d-3dbc-4a1f-a789-2a0fe78729b9"
    }
   },
   "source": [
    "pyLDAvis is a great way to visualize an LDA model. To summarize in short, the area of the circles represent the prevelance of the topic. The length of the bars on the right represent the membership of a term in a particular topic. pyLDAvis is based on [this](http://nlp.stanford.edu/events/illvi2014/papers/sievert-illvi2014.pdf) paper."
   ]
  },
  {
   "cell_type": "code",
   "execution_count": 21,
   "metadata": {
    "collapsed": true,
    "nbpresent": {
     "id": "f7724653-52ef-41e8-aa22-6232be216b08"
    }
   },
   "outputs": [],
   "source": [
    "import pyLDAvis.gensim"
   ]
  },
  {
   "cell_type": "code",
   "execution_count": 22,
   "metadata": {
    "collapsed": true,
    "nbpresent": {
     "id": "2c5b03e0-ce0f-4999-8fe1-820a9fe06873"
    }
   },
   "outputs": [],
   "source": [
    "pyLDAvis.enable_notebook()"
   ]
  },
  {
   "cell_type": "code",
   "execution_count": 23,
   "metadata": {
    "collapsed": false,
    "nbpresent": {
     "id": "7da56259-bbf2-4f63-93f6-033833ae4494"
    },
    "scrolled": false
   },
   "outputs": [
    {
     "data": {
      "text/html": [
       "\n",
       "<link rel=\"stylesheet\" type=\"text/css\" href=\"https://cdn.rawgit.com/bmabey/pyLDAvis/files/ldavis.v1.0.0.css\">\n",
       "\n",
       "\n",
       "<div id=\"ldavis_el45661406155702736163309174310\"></div>\n",
       "<script type=\"text/javascript\">\n",
       "\n",
       "var ldavis_el45661406155702736163309174310_data = {\"plot.opts\": {\"xlab\": \"PC1\", \"ylab\": \"PC2\"}, \"topic.order\": [1, 6, 4, 2, 5, 9, 3, 7, 8, 10], \"token.table\": {\"Topic\": [4, 8, 2, 5, 8, 1, 3, 4, 5, 6, 7, 8, 9, 1, 3, 6, 10, 1, 1, 2, 3, 4, 5, 6, 7, 8, 9, 10, 5, 1, 2, 3, 4, 5, 6, 7, 8, 9, 10, 1, 2, 3, 4, 5, 6, 7, 8, 9, 10, 10, 1, 2, 3, 4, 5, 7, 10, 7, 1, 2, 4, 5, 6, 7, 8, 9, 10, 1, 3, 4, 5, 7, 8, 9, 3, 4, 2, 4, 2, 3, 5, 6, 7, 8, 5, 2, 3, 8, 3, 1, 2, 3, 4, 5, 6, 7, 8, 9, 10, 1, 2, 4, 5, 9, 3, 7, 2, 10, 1, 1, 2, 3, 4, 5, 6, 7, 6, 1, 2, 3, 4, 5, 6, 7, 8, 9, 10, 9, 1, 2, 3, 4, 5, 6, 7, 8, 9, 10, 1, 2, 3, 4, 5, 6, 7, 8, 10, 6, 1, 9, 5, 6, 1, 8, 10, 6, 8, 3, 7, 7, 1, 3, 1, 2, 3, 4, 5, 6, 7, 8, 9, 6, 8, 1, 2, 3, 6, 1, 5, 6, 4, 10, 8, 1, 2, 3, 5, 8, 2, 7, 1, 2, 4, 5, 6, 7, 8, 9, 9, 9, 2, 8, 1, 2, 5, 7, 8, 9, 6, 1, 2, 3, 4, 5, 6, 7, 8, 9, 4, 4, 2, 8, 3, 4, 8, 1, 2, 3, 4, 5, 6, 7, 8, 9, 10, 3, 6, 1, 5, 6, 8, 5, 1, 2, 3, 4, 5, 6, 7, 8, 9, 10, 5, 1, 2, 3, 4, 5, 6, 7, 8, 9, 10, 2, 8, 1, 2, 3, 4, 5, 6, 7, 8, 9, 10, 1, 2, 3, 4, 5, 6, 7, 10, 6, 8, 3, 5, 6, 8, 8, 10, 7, 5, 1, 2, 3, 5, 6, 7, 8, 9, 10, 1, 2, 3, 8, 9, 10, 1, 2, 3, 4, 5, 6, 7, 8, 9, 10, 1, 2, 3, 4, 5, 6, 7, 8, 9, 10, 4, 6, 4, 6, 10, 1, 2, 3, 4, 5, 6, 8, 9, 10, 3, 4, 10, 2, 6, 10, 1, 6, 8, 3, 1, 2, 3, 4, 5, 7, 8, 9, 10, 1, 2, 3, 4, 5, 6, 7, 8, 9, 10, 1, 3, 2, 10, 3, 1, 2, 3, 4, 5, 6, 7, 8, 9, 1, 8, 4, 6, 1, 2, 3, 4, 5, 6, 7, 8, 9, 10, 1, 2, 3, 4, 6, 7, 8, 9, 10, 1, 2, 3, 4, 5, 6, 7, 8, 8, 2, 5, 8, 1, 4, 5, 6, 8, 6, 2, 7, 4, 1, 2, 4, 5, 6, 7, 9, 3, 7, 5, 5, 1, 6, 1, 2, 3, 4, 5, 6, 7, 8, 9, 10, 1, 2, 3, 5, 8, 10, 10, 7, 5, 3, 7, 8, 3, 7, 8, 3, 4, 1, 3, 8, 7, 1, 2, 3, 5, 6, 7, 8, 10, 7, 8, 10, 9, 2, 3, 4, 5, 9, 10, 1, 3, 5, 6, 7, 9, 10, 1, 2, 3, 4, 5, 6, 7, 9, 1, 4, 10, 9, 3, 4, 3, 4, 7, 9, 1, 3, 5, 9, 1, 10, 9, 5, 1, 2, 3, 6, 7, 8, 9, 10, 6, 8, 7, 4, 6, 7, 9, 10, 7, 1, 2, 3, 4, 5, 6, 7, 8, 9, 10, 1, 2, 3, 4, 5, 6, 7, 8, 9, 10, 5, 1, 2, 4, 7, 1, 10, 4, 1, 2, 4, 5, 6, 7, 8, 9, 8, 9, 1, 2, 3, 4, 5, 6, 7, 8, 9, 10, 4, 6, 9, 8, 5, 1, 2, 3, 4, 5, 6, 7, 8, 9, 10, 5, 2, 3, 7, 1, 6, 7, 9, 10, 5, 1, 2, 3, 4, 5, 6, 7, 8, 9, 10, 3, 7, 5, 8, 9, 1, 1, 3, 6, 7, 7, 3, 3, 8, 1, 3, 1, 4, 1, 4, 9, 2, 5, 6, 9, 1, 2, 3, 4, 5, 9, 5, 1, 2, 1, 10, 1, 2, 3, 4, 5, 6, 7, 8, 9, 10, 8, 8, 2, 10, 1, 2, 3, 4, 5, 6, 7, 8, 9, 10, 1, 2, 3, 5, 6, 10, 1, 2, 3, 4, 5, 6, 7, 9, 10, 5, 5, 5, 9, 9, 1, 2, 3, 4, 5, 6, 7, 9, 10, 1, 4, 8, 3, 7, 9, 1, 1, 2, 3, 4, 5, 6, 7, 8, 9, 1, 8, 6, 7, 8, 1, 2, 3, 8, 10, 1, 3, 4, 5, 6, 9, 7, 3, 3, 2, 8, 10, 6, 7, 8, 5, 8, 1, 2, 3, 4, 5, 6, 7, 8, 9, 10, 2, 1, 2, 3, 4, 5, 6, 7, 8, 9, 10, 10, 1, 2, 5, 6, 7, 8, 1, 3, 6, 8, 6, 1, 2, 3, 4, 5, 6, 9, 10, 1, 2, 4, 5, 8, 10, 1, 4, 6, 8, 1, 2, 3, 4, 6, 7, 8, 9, 7, 7, 4, 5, 7, 10, 1, 2, 3, 4, 5, 6, 7, 8, 9, 10, 1, 2, 3, 4, 5, 6, 7, 10, 1, 3, 4, 7, 2, 1, 2, 3, 4, 5, 6, 7, 8, 10, 4, 7, 1, 2, 3, 5, 8, 1, 3, 7, 1, 2, 3, 4, 5, 6, 7, 8, 9, 10, 9, 6, 10, 4, 9, 9, 1, 5, 7, 8, 1, 4, 6, 10, 9, 4, 2, 6, 9, 1, 3, 4, 5, 6, 7, 8, 9, 10, 2, 1, 2, 3, 4, 6, 7, 8, 9, 10, 1, 2, 3, 4, 5, 6, 7, 8, 9, 10, 1, 4, 6, 1, 5, 6, 10, 8, 2, 3, 5, 6, 7, 8, 10, 1, 2, 3, 4, 5, 6, 7, 8, 9, 10, 1, 3, 4, 5, 6, 7, 8, 9, 10, 6, 8, 6, 3, 8, 6, 1, 2, 8, 3, 10, 3, 4, 5, 1, 2, 3, 4, 5, 6, 7, 8, 9, 10, 6, 7, 8, 9, 1, 2, 3, 4, 5, 6, 7, 9, 10, 1, 2, 3, 4, 5, 6, 7, 9, 10, 9, 8, 2, 3, 9, 2, 10, 1, 2, 3, 4, 5, 6, 7, 8, 9, 10, 5, 1, 2, 3, 4, 5, 6, 7, 8, 9, 10, 6, 1, 3, 4, 5, 6, 7, 8, 9, 6, 10, 1, 2, 3, 4, 5, 6, 7, 9, 10, 1, 2, 4, 5, 6, 7, 8, 10, 1, 2, 3, 4, 5, 6, 7, 8, 9, 10, 10, 3, 5, 9, 1, 3, 4, 5, 6, 7, 8, 9, 1, 2, 3, 4, 5, 6, 7, 8, 9, 10, 1, 2, 3, 4, 5, 6, 7, 8, 9, 9, 9, 8, 4, 3, 6, 1, 2, 5, 9, 4, 9, 5, 4, 2, 7, 4, 1, 2, 3, 4, 5, 6, 7, 8, 9, 10, 1, 2, 3, 4, 5, 6, 7, 9, 10, 1, 2, 3, 5, 3, 1, 1, 2, 3, 4, 5, 6, 7, 8, 9, 1, 2, 3, 5, 10, 1, 2, 3, 4, 5, 6, 7, 8, 9, 10, 1, 2, 3, 4, 5, 6, 7, 8, 9, 10, 2, 1, 3, 4, 3, 1, 1, 2, 3, 4, 5, 6, 7, 8, 9, 10, 6, 1, 3, 5, 6, 7, 8, 9, 10, 1, 4, 5, 1, 2, 3, 4, 5, 6, 7, 8, 9, 10, 1, 2, 3, 4, 5, 6, 7, 8, 9, 10, 4, 9, 4, 7, 9, 5, 5, 8, 1, 2, 3, 4, 5, 6, 7, 8, 9, 10, 9, 1, 2, 3, 4, 5, 6, 7, 8, 9, 10, 9, 4, 1, 2, 3, 4, 5, 6, 7, 8, 9, 10, 4, 1, 2, 3, 4, 5, 6, 7, 8, 9, 10, 1, 2, 3, 4, 5, 6, 7, 8, 9, 10, 1, 9, 10, 4, 6, 7, 10, 1, 5, 6, 1, 2, 3, 5, 6, 8, 1, 3, 5, 6, 7, 8, 9, 10, 9, 2, 5, 9, 10, 1, 2, 3, 5, 6, 8, 7, 1, 9, 1, 2, 5, 6, 7, 8, 9, 10, 1, 2, 3, 4, 6, 7, 8, 9, 2, 1, 2, 3, 4, 5, 6, 7, 10, 1, 3, 6, 9, 1, 2, 3, 6, 7, 10, 4, 4, 9, 6, 8, 9, 3, 6, 4, 1, 2, 3, 4, 5, 6, 7, 8, 9, 10, 5, 8, 2, 3, 6, 1, 10, 8, 4, 1, 2, 3, 4, 6, 7, 8, 10, 7, 1, 4, 8, 9, 10, 2, 1, 8, 9, 2, 2, 4, 3, 4, 2, 3, 2, 5, 3, 7, 6, 5, 1, 1, 2, 3, 4, 5, 6, 7, 8, 9, 10, 2, 5, 7, 8, 2, 4, 2, 1, 2, 4, 5, 6, 7, 8, 10, 1, 2, 3, 5, 6, 7, 8, 9, 10, 8, 1, 2, 3, 4, 5, 6, 7, 8, 9, 10, 1, 7, 6, 6, 8, 10, 8, 6, 1, 3, 4, 1, 2, 7, 9, 10, 6, 10, 9, 1, 5, 10, 6, 1, 2, 9, 3, 4, 1, 2, 3, 4, 5, 6, 7, 9, 10, 9, 1, 3, 1, 2, 1, 10, 2, 3, 1, 2, 3, 4, 5, 6, 7, 8, 9, 10, 1, 4, 5, 6, 7, 8, 9, 10, 1, 2, 3, 4, 5, 6, 7, 8, 9, 10, 1, 2, 3, 5, 6, 7, 8, 9, 1, 2, 3, 5, 9, 1, 3, 7, 8, 8, 7, 1, 2, 3, 5, 6, 7, 8, 6, 1, 1, 2, 3, 4, 5, 7, 7, 6, 8, 2, 5, 4, 1, 4, 6, 10, 3, 7, 3, 6, 8, 6, 9, 1, 2, 3, 4, 5, 6, 7, 8, 9, 10, 6, 5, 2, 3, 1, 2, 3, 4, 5, 6, 8, 9, 10, 4, 5, 6, 1, 2, 3, 4, 5, 6, 7, 8, 9, 10, 7, 9, 3, 9, 7, 1, 2, 3, 4, 5, 6, 7, 8, 9, 10, 1, 2, 3, 4, 5, 6, 7, 8, 9, 10, 5, 1, 2, 3, 4, 5, 6, 7, 8, 9, 10, 4, 1, 2, 3, 4, 5, 6, 7, 8, 9, 10, 1, 2, 3, 3, 5, 7, 10, 1, 2, 3, 4, 5, 8, 9, 10, 3, 2, 1, 5, 1, 5, 6, 8, 1, 1, 2, 4, 5, 6, 7, 8, 9, 10, 6, 2, 7, 6, 3, 1, 2, 3, 4, 5, 6, 7, 8, 9, 10, 1, 2, 3, 4, 5, 6, 7, 8, 9, 10, 4, 5, 9, 4, 9, 1, 2, 6, 7, 8, 9, 10, 4, 6, 10, 10, 4, 1, 4, 6, 9, 1, 2, 3, 4, 5, 6, 7, 9, 6, 4, 6, 10, 2, 1, 2, 3, 4, 5, 6, 7, 8, 9, 10, 5, 8, 1, 2, 3, 4, 5, 6, 7, 8, 9, 10, 1, 2, 4, 6, 7, 8, 9, 10, 1, 2, 3, 4, 5, 6, 7, 8, 9, 10, 1, 2, 3, 4, 5, 6, 7, 9, 10, 1, 2, 3, 4, 5, 6, 7, 8, 9, 10, 1, 2, 3, 4, 5, 8, 9, 8, 2, 1, 2, 4, 5, 6, 7, 8, 9, 10, 2, 4, 6, 1, 2, 3, 4, 5, 6, 7, 8, 9, 10, 1, 2, 3, 4, 5, 6, 7, 8, 9, 10, 6, 4, 10, 1, 2, 3, 4, 5, 6, 7, 9, 10, 1, 2, 3, 4, 5, 6, 7, 8, 9, 10, 1, 2, 3, 4, 5, 7, 8, 9, 10, 1, 2, 3, 4, 5, 6, 7, 8, 9, 10, 1, 8, 10, 3, 8, 3], \"Freq\": [0.7745492264576476, 0.6134359172760099, 0.5628797470910232, 0.0703599683863779, 0.2814398735455116, 0.0998590419327002, 0.0998590419327002, 0.29957712579810064, 0.0998590419327002, 0.0998590419327002, 0.0998590419327002, 0.1997180838654004, 0.0998590419327002, 0.3087094098256679, 0.15435470491283396, 0.15435470491283396, 0.3087094098256679, 0.813204048671252, 0.24015723240019, 0.0600393081000475, 0.15009827025011874, 0.0600393081000475, 0.03001965405002375, 0.09005896215007124, 0.0600393081000475, 0.120078616200095, 0.120078616200095, 0.0600393081000475, 0.43197638105146896, 0.473812744636497, 0.05922659307956212, 0.02961329653978106, 0.17767977923868636, 0.08883988961934318, 0.02961329653978106, 0.05922659307956212, 0.02961329653978106, 0.05922659307956212, 0.02961329653978106, 0.4358292542735252, 0.07263820904558753, 0.11622113447294005, 0.043582925427352516, 0.13074877628205755, 0.043582925427352516, 0.058110567236470026, 0.029055283618235013, 0.043582925427352516, 0.043582925427352516, 0.6378000998532042, 0.42060575082894347, 0.0841211501657887, 0.04206057508289435, 0.12618172524868304, 0.12618172524868304, 0.04206057508289435, 0.04206057508289435, 0.40000019690104116, 0.2663737017051327, 0.0380533859578761, 0.0380533859578761, 0.0380533859578761, 0.11416015787362829, 0.1902669297893805, 0.11416015787362829, 0.1522135438315044, 0.0380533859578761, 0.2781792061952451, 0.05563584123904902, 0.2781792061952451, 0.05563584123904902, 0.11127168247809804, 0.05563584123904902, 0.16690752371714707, 0.599248681348154, 0.299624340674077, 0.8866294374152122, 0.40425823302515324, 0.4899058639419794, 0.08165097732366323, 0.16330195464732647, 0.08165097732366323, 0.08165097732366323, 0.08165097732366323, 0.4488033365364825, 0.40301067885232544, 0.6011780644573391, 0.30058903222866956, 0.6082058841174073, 0.2292246045796093, 0.07640820152653643, 0.12225312244245828, 0.09168984183184371, 0.106971482137151, 0.15281640305307287, 0.06112656122122914, 0.06112656122122914, 0.045844920915921857, 0.03056328061061457, 0.09372545691100154, 0.09372545691100154, 0.37490182764400615, 0.09372545691100154, 0.2811763707330046, 0.19973030660113014, 0.5991909198033905, 0.48839334856244876, 0.24419667428122438, 0.7961498157709942, 0.12013711248243139, 0.12013711248243139, 0.3003427812060785, 0.1802056687236471, 0.12013711248243139, 0.060068556241215695, 0.060068556241215695, 0.45773235921179795, 0.2092246854662589, 0.17933544468536475, 0.08966772234268237, 0.05977848156178825, 0.04483386117134119, 0.13450158351402355, 0.07472310195223532, 0.014944620390447062, 0.07472310195223532, 0.10461234273312944, 0.6476955863515795, 0.2244314992172211, 0.13811169182598224, 0.20716753773897334, 0.051791884434743335, 0.08631980739123889, 0.08631980739123889, 0.051791884434743335, 0.04315990369561944, 0.04315990369561944, 0.06905584591299112, 0.22288442456299032, 0.11144221228149516, 0.22288442456299032, 0.13930276535186895, 0.05572110614074758, 0.11144221228149516, 0.02786055307037379, 0.02786055307037379, 0.05572110614074758, 0.34073280443886045, 0.7420259884161093, 0.08244733204623436, 0.4322481600389409, 0.4664795403234829, 0.6604014239934665, 0.7999986584895895, 0.6574887382443556, 0.4512859619146688, 0.7999987004564004, 0.24045847566768944, 0.4809169513353789, 0.6039898644511011, 0.8237074249577079, 0.11767248927967255, 0.06795618547422275, 0.1359123709484455, 0.06795618547422275, 0.20386855642266827, 0.06795618547422275, 0.06795618547422275, 0.06795618547422275, 0.271824741896891, 0.06795618547422275, 0.6768092132344259, 0.6039868934332144, 0.6543138685348857, 0.09347340979069796, 0.09347340979069796, 0.09347340979069796, 0.7412248691588791, 0.1235374781931465, 0.1235374781931465, 0.9462463807065556, 0.6446075782690652, 0.6040736869063402, 0.2940475273613066, 0.09801584245376888, 0.09801584245376888, 0.09801584245376888, 0.2940475273613066, 0.2953817466967278, 0.2953817466967278, 0.11889847857296164, 0.11889847857296164, 0.17834771785944245, 0.05944923928648082, 0.11889847857296164, 0.05944923928648082, 0.05944923928648082, 0.17834771785944245, 0.4339139442001852, 0.8859129383922992, 0.39544643923714007, 0.6039868806552922, 0.07520050682436273, 0.4512030409461764, 0.07520050682436273, 0.07520050682436273, 0.15040101364872546, 0.07520050682436273, 0.6768088884257438, 0.25423317637542864, 0.06355829409385716, 0.31779147046928574, 0.06355829409385716, 0.06355829409385716, 0.12711658818771432, 0.06355829409385716, 0.06355829409385716, 0.06355829409385716, 0.6917094736683365, 0.7742206937708264, 0.5973245602407208, 0.6020217145866865, 0.16858477558798954, 0.6743391023519582, 0.6039868946481988, 0.2913334288920472, 0.13242428586002147, 0.05296971434400859, 0.26484857172004295, 0.05296971434400859, 0.10593942868801717, 0.026484857172004293, 0.05296971434400859, 0.026484857172004293, 0.05296971434400859, 0.6296645390538433, 0.31483226952692167, 0.2904147271616829, 0.14520736358084144, 0.43562209074252434, 0.14520736358084144, 0.659394180229347, 0.15726849320372085, 0.17973542080425242, 0.08986771040212621, 0.13480156560318932, 0.022466927600531553, 0.11233463800265776, 0.044933855201063105, 0.11233463800265776, 0.08986771040212621, 0.06740078280159466, 0.6593941625074022, 0.2022739026145839, 0.040454780522916775, 0.08090956104583355, 0.040454780522916775, 0.040454780522916775, 0.12136434156875034, 0.28318346366041747, 0.12136434156875034, 0.040454780522916775, 0.08090956104583355, 0.594327369342013, 0.19810912311400433, 0.3882926014796878, 0.0277351858199777, 0.0554703716399554, 0.1386759290998885, 0.0554703716399554, 0.0832055574599331, 0.0554703716399554, 0.0554703716399554, 0.0554703716399554, 0.0277351858199777, 0.19846068042401457, 0.24807585053001824, 0.14884551031801094, 0.04961517010600364, 0.04961517010600364, 0.04961517010600364, 0.09923034021200729, 0.14884551031801094, 0.33267136383062146, 0.33267136383062146, 0.13446932261391614, 0.5378772904556646, 0.13446932261391614, 0.13446932261391614, 0.6040808654231747, 0.6421819508906237, 0.6039898634283576, 0.4330458138781884, 0.3199432619977147, 0.09598297859931441, 0.19196595719862883, 0.06398865239954295, 0.09598297859931441, 0.06398865239954295, 0.09598297859931441, 0.031994326199771474, 0.06398865239954295, 0.08022413426249873, 0.08022413426249873, 0.32089653704999493, 0.32089653704999493, 0.08022413426249873, 0.08022413426249873, 0.12429354870464679, 0.20715591450774465, 0.08286236580309786, 0.08286236580309786, 0.08286236580309786, 0.12429354870464679, 0.08286236580309786, 0.08286236580309786, 0.08286236580309786, 0.08286236580309786, 0.1491023577733334, 0.033133857282962975, 0.2153700723392593, 0.06626771456592595, 0.06626771456592595, 0.06626771456592595, 0.033133857282962975, 0.1325354291318519, 0.1159685004903704, 0.09940157184888891, 0.5862968961057512, 0.6768090796017472, 0.3629051080135926, 0.1814525540067963, 0.3629051080135926, 0.2599595581945332, 0.05199191163890664, 0.05199191163890664, 0.10398382327781328, 0.05199191163890664, 0.20796764655562655, 0.10398382327781328, 0.10398382327781328, 0.05199191163890664, 0.606579757674234, 0.5862116954495064, 0.6422482458862788, 0.3217372772508002, 0.1608686386254001, 0.3217372772508002, 0.2223894509113531, 0.4447789018227062, 0.6039869646826598, 0.606579729108716, 0.3217745545684891, 0.19306473274109345, 0.06435491091369781, 0.09653236637054673, 0.09653236637054673, 0.09653236637054673, 0.03217745545684891, 0.03217745545684891, 0.06435491091369781, 0.08865842758970752, 0.04432921379485376, 0.08865842758970752, 0.2216460689742688, 0.1329876413845613, 0.1329876413845613, 0.08865842758970752, 0.08865842758970752, 0.08865842758970752, 0.04432921379485376, 0.2313162576325139, 0.6939487728975416, 0.604897763795079, 0.6446075328386661, 0.8045538060721268, 0.10105145790463568, 0.20210291580927137, 0.05052572895231784, 0.10105145790463568, 0.10105145790463568, 0.05052572895231784, 0.05052572895231784, 0.20210291580927137, 0.05052572895231784, 0.7240545306488577, 0.8001352687001796, 0.27029385704262593, 0.5405877140852519, 0.3694196982470034, 0.052774242606714775, 0.12665818225611544, 0.10554848521342955, 0.09499363669208659, 0.07388393964940068, 0.04221939408537182, 0.04221939408537182, 0.04221939408537182, 0.052774242606714775, 0.20857011874335699, 0.17380843228613083, 0.03476168645722617, 0.06952337291445233, 0.03476168645722617, 0.17380843228613083, 0.13904674582890467, 0.06952337291445233, 0.10428505937167849, 0.15325309039226692, 0.10216872692817795, 0.2554218173204449, 0.10216872692817795, 0.051084363464088976, 0.2043374538563559, 0.051084363464088976, 0.051084363464088976, 0.6040981447812225, 0.39573425933717643, 0.3088879858110159, 0.6177759716220318, 0.1804732774549333, 0.1804732774549333, 0.5414198323648, 0.41990473524925864, 0.41990473524925864, 0.4658743218371243, 0.797260777858385, 0.6039898649997194, 0.586287814182253, 0.11134197330502289, 0.16701295995753435, 0.2783549332625572, 0.055670986652511446, 0.22268394661004579, 0.055670986652511446, 0.055670986652511446, 0.300948103624455, 0.60189620724891, 0.44333200002995987, 0.6593942249430322, 0.31801147359388987, 0.31801147359388987, 0.25165513620394697, 0.071901467486842, 0.143802934973684, 0.071901467486842, 0.035950733743421, 0.071901467486842, 0.071901467486842, 0.179753668717105, 0.071901467486842, 0.035950733743421, 0.1513828607803436, 0.0756914303901718, 0.378457151950859, 0.1513828607803436, 0.1513828607803436, 0.0756914303901718, 0.6446076454484726, 0.8038379981846359, 0.32180774498517384, 0.39961394897690844, 0.19980697448845422, 0.19980697448845422, 0.6615303882746549, 0.1102550647124425, 0.1102550647124425, 0.6011601310371681, 0.30058006551858407, 0.19707502287560816, 0.19707502287560816, 0.5912250686268244, 0.6039898600928828, 0.09499214593165085, 0.09499214593165085, 0.09499214593165085, 0.1899842918633017, 0.09499214593165085, 0.2849764377949526, 0.09499214593165085, 0.09499214593165085, 0.5077544096264703, 0.3385029397509802, 0.43552270679488614, 0.885912492579019, 0.18000896765271598, 0.09000448382635799, 0.36001793530543197, 0.36001793530543197, 0.09000448382635799, 0.4262313853256915, 0.305532225904748, 0.08729492168707086, 0.26188476506121255, 0.13094238253060628, 0.04364746084353543, 0.04364746084353543, 0.08729492168707086, 0.08780080073242226, 0.08780080073242226, 0.35120320292968904, 0.08780080073242226, 0.08780080073242226, 0.08780080073242226, 0.08780080073242226, 0.08780080073242226, 0.1667735945266213, 0.5003207835798639, 0.1667735945266213, 0.44422794370828667, 0.5995635203582157, 0.19985450678607192, 0.1664954892805164, 0.6659819571220656, 0.32812293418525235, 0.6562458683705047, 0.7462821823697995, 0.10661174033854279, 0.10661174033854279, 0.6612814814452158, 0.5437187305711874, 0.6431368538070891, 0.4335271106040079, 0.43915006155009834, 0.06593144376148895, 0.06593144376148895, 0.06593144376148895, 0.1318628875229779, 0.06593144376148895, 0.06593144376148895, 0.4615201063304227, 0.4346654507191625, 0.17605404235018823, 0.7042161694007529, 0.6039898819790535, 0.12855431959295094, 0.2571086391859019, 0.3856629587788528, 0.12855431959295094, 0.12855431959295094, 0.6061922876008351, 0.14729088063714793, 0.14729088063714793, 0.07364544031857397, 0.3682272015928698, 0.07364544031857397, 0.07364544031857397, 0.07364544031857397, 0.07364544031857397, 0.07364544031857397, 0.3151972727836414, 0.14708467741771564, 0.03677116935442891, 0.03677116935442891, 0.07354233870885782, 0.11031350806328673, 0.07354233870885782, 0.11031350806328673, 0.18385584677214453, 0.18385584677214453, 0.07354233870885782, 0.4422908194311477, 0.13093602113459718, 0.26187204226919436, 0.13093602113459718, 0.5237440845383887, 0.7265480569385863, 0.18163701423464657, 0.5863034105839069, 0.25794229583538675, 0.17196153055692448, 0.08598076527846224, 0.17196153055692448, 0.04299038263923112, 0.04299038263923112, 0.08598076527846224, 0.08598076527846224, 0.60406265752606, 0.4420999737775805, 0.07996651461421177, 0.2398995438426353, 0.15993302922842353, 0.1439397263055812, 0.12794642338273882, 0.15993302922842353, 0.015993302922842352, 0.015993302922842352, 0.031986605845684704, 0.015993302922842352, 0.49737164572254944, 0.24868582286127472, 0.24868582286127472, 0.603986929112913, 0.43301803973295916, 0.21609814132573568, 0.043219628265147136, 0.043219628265147136, 0.043219628265147136, 0.08643925653029427, 0.17287851306058855, 0.1296588847954414, 0.08643925653029427, 0.17287851306058855, 0.043219628265147136, 0.6593941679981766, 0.19960582089701762, 0.19960582089701762, 0.5988174626910528, 0.15986096122720184, 0.15986096122720184, 0.15986096122720184, 0.15986096122720184, 0.3197219224544037, 0.6593941578324016, 0.5040618227585559, 0.08690721082044067, 0.0521443264922644, 0.06952576865635253, 0.12167009514861693, 0.034762884328176265, 0.0521443264922644, 0.034762884328176265, 0.017381442164088132, 0.017381442164088132, 0.602338749150536, 0.301169374575268, 0.2047063418207214, 0.4094126836414428, 0.4434448898866296, 0.7233537370071615, 0.20321071910053023, 0.20321071910053023, 0.20321071910053023, 0.40642143820106047, 0.6057142848355931, 0.8045540659765161, 0.17030542224500383, 0.6812216889800153, 0.24319575453882655, 0.4863915090776531, 0.8515695200407895, 0.7728030761751801, 0.16584905540799413, 0.4975471662239824, 0.16584905540799413, 0.14823434989951537, 0.44470304969854607, 0.14823434989951537, 0.14823434989951537, 0.08648725453256385, 0.3459490181302554, 0.08648725453256385, 0.1729745090651277, 0.08648725453256385, 0.08648725453256385, 0.6681375264360804, 0.5521844906338165, 0.7983327271032538, 0.7231166520890454, 0.6429144134741143, 0.23151737509068104, 0.16105556528047377, 0.1006597283002961, 0.16105556528047377, 0.07046180981020728, 0.05032986415014805, 0.05032986415014805, 0.04026389132011844, 0.08052778264023688, 0.05032986415014805, 0.6039868764235341, 0.6039869061981885, 0.7917105988638149, 0.8728526778746676, 0.24225148322750442, 0.1384294189871454, 0.10382206424035904, 0.12112574161375221, 0.05191103212017952, 0.08651838686696586, 0.0692147094935727, 0.05191103212017952, 0.05191103212017952, 0.0692147094935727, 0.17996079202895726, 0.08998039601447863, 0.08998039601447863, 0.17996079202895726, 0.08998039601447863, 0.2699411880434359, 0.07178810429754219, 0.07178810429754219, 0.07178810429754219, 0.21536431289262656, 0.07178810429754219, 0.07178810429754219, 0.28715241719016876, 0.14357620859508438, 0.07178810429754219, 0.6593941183397598, 0.683298384242343, 0.6791534310404053, 0.33957671552020263, 0.4436783482541533, 0.059407222891779236, 0.17822166867533773, 0.059407222891779236, 0.2970361144588962, 0.059407222891779236, 0.059407222891779236, 0.23762889156711695, 0.059407222891779236, 0.059407222891779236, 0.6566265563302017, 0.3026799291259069, 0.6053598582518138, 0.4001272788580766, 0.6001909182871149, 0.5411141158060595, 0.7972049225665738, 0.1264748740463967, 0.18971231106959505, 0.06323743702319835, 0.06323743702319835, 0.06323743702319835, 0.31618718511599175, 0.1264748740463967, 0.06323743702319835, 0.4429787037177584, 0.8479534147366542, 0.21198835368416355, 0.1021311856337978, 0.1021311856337978, 0.6127871138027868, 0.09257447301921089, 0.09257447301921089, 0.4628723650960544, 0.18514894603842177, 0.09257447301921089, 0.11624407241314828, 0.11624407241314828, 0.23248814482629657, 0.11624407241314828, 0.11624407241314828, 0.34873221723944486, 0.800003917472633, 0.6010251435318325, 0.6065797588009583, 0.6762384491556539, 0.33811922457782695, 0.8728528587098571, 0.24642784359235834, 0.24642784359235834, 0.4928556871847167, 0.24480555637940973, 0.48961111275881947, 0.1944053353716503, 0.07776213414866012, 0.07776213414866012, 0.11664320122299017, 0.03888106707433006, 0.23328640244598034, 0.11664320122299017, 0.03888106707433006, 0.07776213414866012, 0.07776213414866012, 0.7917105902871954, 0.23407542564139314, 0.10639792074608778, 0.06383875244765268, 0.10639792074608778, 0.08511833659687022, 0.1489570890445229, 0.08511833659687022, 0.06383875244765268, 0.04255916829843511, 0.04255916829843511, 0.6571456321174813, 0.09810602619039283, 0.19621205238078565, 0.3924241047615713, 0.09810602619039283, 0.09810602619039283, 0.19621205238078565, 0.2779338050687039, 0.13896690253435195, 0.2779338050687039, 0.13896690253435195, 0.6768091702467657, 0.03442455423408229, 0.20654732540449375, 0.34424554234082294, 0.10327366270224687, 0.13769821693632917, 0.03442455423408229, 0.03442455423408229, 0.10327366270224687, 0.12430728667349787, 0.12430728667349787, 0.24861457334699574, 0.3729218600204936, 0.12430728667349787, 0.6446072453916861, 0.7867804432550498, 0.07152549484136816, 0.07152549484136816, 0.07152549484136816, 0.08693643444724741, 0.34774573778898965, 0.08693643444724741, 0.08693643444724741, 0.17387286889449483, 0.08693643444724741, 0.08693643444724741, 0.08693643444724741, 0.6039898304126208, 0.6039898687382881, 0.18269796072465475, 0.18269796072465475, 0.18269796072465475, 0.3653959214493095, 0.30235805772347535, 0.08638801649242153, 0.10798502061552691, 0.10798502061552691, 0.021597004123105383, 0.08638801649242153, 0.19437303710794845, 0.021597004123105383, 0.043194008246210766, 0.021597004123105383, 0.12423427720367342, 0.18635141580551012, 0.06211713860183671, 0.24846855440734683, 0.06211713860183671, 0.06211713860183671, 0.24846855440734683, 0.06211713860183671, 0.14632337183605437, 0.14632337183605437, 0.4389701155081631, 0.14632337183605437, 0.4024533993405585, 0.08658774598178601, 0.303057110936251, 0.08658774598178601, 0.043293872990893004, 0.216469364954465, 0.08658774598178601, 0.08658774598178601, 0.043293872990893004, 0.043293872990893004, 0.7745895075373963, 0.6169500795147361, 0.1501775537567777, 0.1501775537567777, 0.45053266127033303, 0.1501775537567777, 0.6041056154385027, 0.17090889095213854, 0.17090889095213854, 0.5127266728564156, 0.0831213222825235, 0.12468198342378524, 0.24936396684757048, 0.0831213222825235, 0.04156066114126175, 0.12468198342378524, 0.12468198342378524, 0.04156066114126175, 0.0831213222825235, 0.0831213222825235, 0.443587361429756, 0.4584703168510988, 0.42202796331275844, 0.4814677948607167, 0.24073389743035836, 0.44391392400856344, 0.5609792733000298, 0.18699309110000994, 0.09349654555000497, 0.09349654555000497, 0.653503710959251, 0.10891728515987517, 0.5532328653296731, 0.27661643266483654, 0.4343937677303689, 0.5862111540913563, 0.7917106663101163, 0.2249029397487265, 0.6747088192461794, 0.1939501669181233, 0.1939501669181233, 0.1939501669181233, 0.04848754172953083, 0.04848754172953083, 0.04848754172953083, 0.04848754172953083, 0.24243770864765413, 0.04848754172953083, 0.7795851553973621, 0.17813513848994542, 0.17813513848994542, 0.13360135386745906, 0.044533784622486354, 0.13360135386745906, 0.044533784622486354, 0.044533784622486354, 0.17813513848994542, 0.08906756924497271, 0.1430500962298825, 0.047683365409960835, 0.1430500962298825, 0.19073346163984334, 0.07152504811494124, 0.023841682704980417, 0.07152504811494124, 0.07152504811494124, 0.16689177893486293, 0.07152504811494124, 0.6753934219740733, 0.13507868439481466, 0.13507868439481466, 0.6281895731985434, 0.1256379146397087, 0.1256379146397087, 0.1256379146397087, 0.6991714406593587, 0.1544171075977546, 0.0772085537988773, 0.1544171075977546, 0.23162566139663188, 0.1544171075977546, 0.0772085537988773, 0.0772085537988773, 0.1648957735167534, 0.1648957735167534, 0.05496525783891781, 0.05496525783891781, 0.10993051567783561, 0.10993051567783561, 0.05496525783891781, 0.05496525783891781, 0.21986103135567123, 0.05496525783891781, 0.33183430878286396, 0.047404901254694855, 0.047404901254694855, 0.047404901254694855, 0.23702450627347427, 0.09480980250938971, 0.047404901254694855, 0.09480980250938971, 0.047404901254694855, 0.6768091461369473, 0.6073309178682681, 0.46214281288004916, 0.34187754597309866, 0.512816318959648, 0.45889287703518666, 0.1308844809795516, 0.5235379239182064, 0.2617689619591032, 0.6065797946485625, 0.6578535781096743, 0.4857100828849735, 0.24285504144248676, 0.24285504144248676, 0.19112526852675904, 0.08821166239696572, 0.13231749359544856, 0.10291360612979333, 0.0735097186641381, 0.10291360612979333, 0.029403887465655237, 0.04410583119848286, 0.13231749359544856, 0.10291360612979333, 0.41224124893684216, 0.20612062446842108, 0.10306031223421054, 0.10306031223421054, 0.07233566082800949, 0.07233566082800949, 0.07233566082800949, 0.07233566082800949, 0.07233566082800949, 0.07233566082800949, 0.07233566082800949, 0.07233566082800949, 0.43401396496805694, 0.42815105400209186, 0.047572339333565763, 0.14271701800069728, 0.047572339333565763, 0.09514467866713153, 0.14271701800069728, 0.047572339333565763, 0.09514467866713153, 0.047572339333565763, 0.4423217853732906, 0.4182282304660955, 0.2087180266226941, 0.4174360532453882, 0.2087180266226941, 0.25422074893491564, 0.5084414978698313, 0.16342672792533303, 0.1400800525074283, 0.16342672792533303, 0.07004002625371415, 0.09338670167161887, 0.04669335083580944, 0.1167333770895236, 0.02334667541790472, 0.09338670167161887, 0.07004002625371415, 0.4462080982497736, 0.3095886713847036, 0.044226953054957656, 0.044226953054957656, 0.1547943356923518, 0.08845390610991531, 0.044226953054957656, 0.11056738263739413, 0.11056738263739413, 0.06634042958243648, 0.06634042958243648, 0.46647946611523194, 0.042558719563238936, 0.08511743912647787, 0.08511743912647787, 0.042558719563238936, 0.2127935978161947, 0.08511743912647787, 0.08511743912647787, 0.38302847606915047, 0.3477049286177829, 0.3477049286177829, 0.15449973181013157, 0.07724986590506579, 0.07724986590506579, 0.30899946362026315, 0.038624932952532894, 0.07724986590506579, 0.11587479885759867, 0.038624932952532894, 0.07724986590506579, 0.1531249135635493, 0.07656245678177465, 0.22968737034532394, 0.07656245678177465, 0.07656245678177465, 0.07656245678177465, 0.07656245678177465, 0.22968737034532394, 0.16216129544710625, 0.09729677726826376, 0.129729036357685, 0.03243225908942125, 0.09729677726826376, 0.0648645181788425, 0.0648645181788425, 0.129729036357685, 0.16216129544710625, 0.0648645181788425, 0.6446075538544865, 0.9027684134283451, 0.3393772939394991, 0.3393772939394991, 0.08554022769322572, 0.17108045538645145, 0.08554022769322572, 0.08554022769322572, 0.25662068307967717, 0.08554022769322572, 0.08554022769322572, 0.08554022769322572, 0.1761444759604224, 0.0880722379802112, 0.11009029747526401, 0.11009029747526401, 0.0660541784851584, 0.1761444759604224, 0.11009029747526401, 0.0220180594950528, 0.0880722379802112, 0.0440361189901056, 0.22592002742150477, 0.10040890107622434, 0.10040890107622434, 0.05020445053811217, 0.05020445053811217, 0.10040890107622434, 0.10040890107622434, 0.1506133516143365, 0.07530667580716825, 0.4436696343537555, 0.43167972056487636, 0.7999986573998136, 0.586211892630101, 0.6277588601241441, 0.31387943006207203, 0.11656820511045146, 0.6994092306627088, 0.11656820511045146, 0.540883903863022, 0.5862109984302495, 0.8859799549723976, 0.43578577507475874, 0.5862916946295738, 0.2952448354672281, 0.5904896709344561, 0.586211031361501, 0.2289930092343221, 0.09159720369372884, 0.04579860184686442, 0.13739580554059325, 0.09159720369372884, 0.04579860184686442, 0.09159720369372884, 0.18319440738745768, 0.04579860184686442, 0.04579860184686442, 0.17556724695844297, 0.20064828223822054, 0.1504862116786654, 0.10032414111911027, 0.050162070559555134, 0.025081035279777567, 0.20064828223822054, 0.025081035279777567, 0.050162070559555134, 0.16780610602408919, 0.5034183180722676, 0.16780610602408919, 0.16780610602408919, 0.8045539312363837, 0.7211929715153086, 0.2908237586824852, 0.04847062644708087, 0.09694125289416174, 0.2908237586824852, 0.04847062644708087, 0.04847062644708087, 0.04847062644708087, 0.09694125289416174, 0.09694125289416174, 0.24879366226132363, 0.12439683113066181, 0.12439683113066181, 0.37319049339198546, 0.42607496374066045, 0.13056260743358833, 0.313350257840612, 0.10445008594687066, 0.05222504297343533, 0.20890017189374133, 0.026112521486717666, 0.026112521486717666, 0.026112521486717666, 0.026112521486717666, 0.05222504297343533, 0.19363352171257864, 0.055323863346451035, 0.19363352171257864, 0.1659715900393531, 0.027661931673225518, 0.055323863346451035, 0.1659715900393531, 0.027661931673225518, 0.08298579501967655, 0.055323863346451035, 0.38733480740497794, 0.2852086506618574, 0.2852086506618574, 0.5704173013237148, 0.606579780437076, 0.8016480568036852, 0.14589072722692045, 0.07294536361346023, 0.1823634090336506, 0.10941804542019035, 0.2188360908403807, 0.03647268180673011, 0.03647268180673011, 0.03647268180673011, 0.07294536361346023, 0.07294536361346023, 0.6768090232408052, 0.05095393833562048, 0.10190787667124096, 0.10190787667124096, 0.10190787667124096, 0.20381575334248192, 0.15286181500686144, 0.10190787667124096, 0.10190787667124096, 0.5478774093958803, 0.13696935234897006, 0.13696935234897006, 0.13877726630832218, 0.06938863315416109, 0.06938863315416109, 0.10408294973124163, 0.20816589946248326, 0.034694316577080546, 0.13877726630832218, 0.034694316577080546, 0.034694316577080546, 0.17347158288540274, 0.29479129633312695, 0.15515331385954048, 0.11636498539465537, 0.0930919883157243, 0.04654599415786215, 0.054303659850839174, 0.06981899123679322, 0.062061325543816194, 0.062061325543816194, 0.054303659850839174, 0.6084681415589934, 0.3042340707794967, 0.25378734941945785, 0.25378734941945785, 0.5075746988389157, 0.44306398292740223, 0.6591894316055609, 0.6039869012551912, 0.2878209707949394, 0.08634629123848182, 0.11512838831797577, 0.17269258247696365, 0.057564194158987884, 0.08634629123848182, 0.028782097079493942, 0.057564194158987884, 0.057564194158987884, 0.028782097079493942, 0.43573806418729133, 0.15511397648767256, 0.11633548236575442, 0.07755698824383628, 0.23267096473150883, 0.03877849412191814, 0.07755698824383628, 0.07755698824383628, 0.07755698824383628, 0.07755698824383628, 0.07755698824383628, 0.4433180482527886, 0.7691082311658808, 0.4093609060713402, 0.02558505662945876, 0.02558505662945876, 0.15351033977675257, 0.07675516988837629, 0.12792528314729382, 0.05117011325891752, 0.05117011325891752, 0.07675516988837629, 0.02558505662945876, 0.5862117279395783, 0.20328258273809738, 0.15810867546296464, 0.06776086091269913, 0.09034781455026551, 0.20328258273809738, 0.022586953637566378, 0.022586953637566378, 0.06776086091269913, 0.13552172182539826, 0.022586953637566378, 0.1888086734479311, 0.09440433672396555, 0.09440433672396555, 0.09440433672396555, 0.04720216836198277, 0.1888086734479311, 0.09440433672396555, 0.09440433672396555, 0.04720216836198277, 0.04720216836198277, 0.8047070141831185, 0.6714366863050714, 0.9521346409407134, 0.18444348496997715, 0.18444348496997715, 0.18444348496997715, 0.3688869699399543, 0.11311246544409113, 0.6786747926645468, 0.11311246544409113, 0.10446660740350829, 0.10446660740350829, 0.41786642961403314, 0.10446660740350829, 0.20893321480701657, 0.10446660740350829, 0.2556104072034045, 0.051122081440680894, 0.051122081440680894, 0.051122081440680894, 0.20448832576272358, 0.30673248864408537, 0.051122081440680894, 0.051122081440680894, 0.885912758637294, 0.7917105471178271, 0.40368058778602595, 0.13456019592867532, 0.40368058778602595, 0.18423367393058343, 0.18423367393058343, 0.09211683696529172, 0.09211683696529172, 0.09211683696529172, 0.4605841848264586, 0.6039898839357267, 0.21646915908345513, 0.6494074772503654, 0.3342309304361736, 0.05570515507269559, 0.05570515507269559, 0.05570515507269559, 0.05570515507269559, 0.05570515507269559, 0.27852577536347795, 0.11141031014539118, 0.17355156647044961, 0.43387891617612406, 0.08677578323522481, 0.043387891617612404, 0.043387891617612404, 0.08677578323522481, 0.08677578323522481, 0.043387891617612404, 0.7917105791889405, 0.0952238181870863, 0.2856714545612589, 0.14283572728062946, 0.04761190909354315, 0.1904476363741726, 0.04761190909354315, 0.04761190909354315, 0.0952238181870863, 0.3130700243260933, 0.15653501216304666, 0.15653501216304666, 0.46960503648914004, 0.12708356694754472, 0.12708356694754472, 0.12708356694754472, 0.12708356694754472, 0.12708356694754472, 0.3812507008426342, 0.5862121505336415, 0.258510834527862, 0.517021669055724, 0.4562098856286026, 0.2281049428143013, 0.2281049428143013, 0.6067189870212458, 0.6768090959530936, 0.38710442999461103, 0.22361854394607267, 0.11180927197303633, 0.15653298076225086, 0.0670855631838218, 0.17889483515685814, 0.08944741757842907, 0.022361854394607267, 0.022361854394607267, 0.044723708789214535, 0.08944741757842907, 0.6535931395460314, 0.3267965697730157, 0.3031254776406704, 0.6062509552813408, 0.6768089320129516, 0.7866170012073503, 0.6389239393459331, 0.6039868702786243, 0.5862110440192765, 0.099156993318832, 0.099156993318832, 0.099156993318832, 0.297470979956496, 0.099156993318832, 0.148735489978248, 0.099156993318832, 0.049578496659416, 0.6039898023807566, 0.3040771445883415, 0.1824462867530049, 0.0608154289176683, 0.3040771445883415, 0.1216308578353366, 0.7791342296024676, 0.1700752743300413, 0.5102258229901239, 0.1700752743300413, 0.7103465349423227, 0.5940476518381489, 0.29702382591907445, 0.6001162825446249, 0.30005814127231245, 0.7917105275002506, 0.49049887529632297, 0.797134044400948, 0.6593942481122427, 0.4022126413906044, 0.4022126413906044, 0.4657637090849253, 0.4372377883140281, 0.7367806866108095, 0.316369619207267, 0.08788044977979641, 0.08788044977979641, 0.08788044977979641, 0.07030435982383712, 0.08788044977979641, 0.12303262969171497, 0.05272826986787784, 0.07030435982383712, 0.01757608995595928, 0.15628380759405655, 0.15628380759405655, 0.4688514227821697, 0.604074043733078, 0.8410501485414396, 0.1682100297082879, 0.7917105290770324, 0.1383564846467081, 0.20753472697006214, 0.06917824232335405, 0.1383564846467081, 0.1383564846467081, 0.06917824232335405, 0.06917824232335405, 0.20753472697006214, 0.2182381358334673, 0.06235375309527637, 0.12470750619055274, 0.09353062964291456, 0.06235375309527637, 0.06235375309527637, 0.1558843827381909, 0.031176876547638184, 0.12470750619055274, 0.603986906891768, 0.16246967695856504, 0.12185225771892377, 0.08123483847928252, 0.08123483847928252, 0.08123483847928252, 0.08123483847928252, 0.16246967695856504, 0.04061741923964126, 0.12185225771892377, 0.08123483847928252, 0.6941122905382782, 0.13882245810765564, 0.6768090674887514, 0.32913297095397137, 0.32913297095397137, 0.6446075721155256, 0.8916197020009948, 0.6768091282892692, 0.7016271202447995, 0.11693785337413325, 0.8583791072961209, 0.11339749210792487, 0.22679498421584973, 0.11339749210792487, 0.11339749210792487, 0.3401924763237746, 0.6768090727628835, 0.6398879997171918, 0.4427292022672436, 0.25582597182130257, 0.5116519436426051, 0.6418751115149443, 0.6768091907373921, 0.16971786441937295, 0.5091535932581188, 0.16971786441937295, 0.6093096852430601, 0.7751448323873272, 0.5539946840603213, 0.046166223671693436, 0.046166223671693436, 0.046166223671693436, 0.13849867101508032, 0.09233244734338687, 0.046166223671693436, 0.046166223671693436, 0.046166223671693436, 0.4439499186868788, 0.7798628206283091, 0.12997713677138487, 0.28968696851034065, 0.5793739370206813, 0.2507912508819055, 0.501582501763811, 0.4006229891524183, 0.4006229891524183, 0.1882408589559256, 0.06274695298530854, 0.0941204294779628, 0.06274695298530854, 0.06274695298530854, 0.0941204294779628, 0.12549390597061708, 0.15686738246327134, 0.0941204294779628, 0.0941204294779628, 0.3090537465771528, 0.06181074931543056, 0.12362149863086112, 0.06181074931543056, 0.24724299726172225, 0.06181074931543056, 0.06181074931543056, 0.06181074931543056, 0.24286199358158606, 0.04857239871631721, 0.12143099679079303, 0.04857239871631721, 0.14571719614895162, 0.14571719614895162, 0.04857239871631721, 0.09714479743263442, 0.09714479743263442, 0.024286199358158605, 0.1263711924003665, 0.3791135772010995, 0.04212373080012217, 0.08424746160024434, 0.1263711924003665, 0.08424746160024434, 0.1263711924003665, 0.04212373080012217, 0.6246459088402927, 0.05205382573669106, 0.15616147721007317, 0.05205382573669106, 0.05205382573669106, 0.11933728305051766, 0.23867456610103532, 0.11933728305051766, 0.358011849151553, 0.6040736856615817, 0.6039898169049676, 0.1427248073494016, 0.04757493578313387, 0.04757493578313387, 0.2854496146988032, 0.04757493578313387, 0.04757493578313387, 0.3330245504819371, 0.4598460976186593, 0.7959678107999607, 0.10801225039070463, 0.10801225039070463, 0.3240367511721139, 0.10801225039070463, 0.10801225039070463, 0.10801225039070463, 0.6039899116420233, 0.707901128766423, 0.235967042922141, 0.1836912076275894, 0.5510736228827682, 0.774784124127128, 0.12248114647638163, 0.36744343942914487, 0.24496229295276326, 0.12248114647638163, 0.6065797718465943, 0.803565256677401, 0.20720750735138468, 0.20720750735138468, 0.41441501470276937, 0.22421513089409137, 0.44843026178818274, 0.2099393996843801, 0.04198787993687602, 0.16795151974750408, 0.02099393996843801, 0.08397575987375204, 0.12596363981062805, 0.04198787993687602, 0.23093333965281812, 0.06298181990531403, 0.02099393996843801, 0.7001629755572185, 0.6593942238853546, 0.19963969146016255, 0.5989190743804876, 0.23967082174857632, 0.11983541087428816, 0.0798902739161921, 0.03994513695809605, 0.19972568479048028, 0.0798902739161921, 0.03994513695809605, 0.0798902739161921, 0.11983541087428816, 0.5862110103903946, 0.5476454587159115, 0.33781320955977534, 0.1281464296905263, 0.06407321484526315, 0.06407321484526315, 0.1281464296905263, 0.09610982226789472, 0.28832946680368415, 0.06407321484526315, 0.09610982226789472, 0.06407321484526315, 0.06407321484526315, 0.60412329032297, 0.302061645161485, 0.627211795164462, 0.313605897582231, 0.6061492630005016, 0.5055167109739314, 0.025275835548696567, 0.0758275066460897, 0.025275835548696567, 0.12637917774348284, 0.0758275066460897, 0.050551671097393135, 0.025275835548696567, 0.050551671097393135, 0.050551671097393135, 0.09726007845525692, 0.14589011768288537, 0.14589011768288537, 0.09726007845525692, 0.09726007845525692, 0.04863003922762846, 0.09726007845525692, 0.19452015691051383, 0.04863003922762846, 0.04863003922762846, 0.8259463916177395, 0.23561901603397695, 0.12566347521812105, 0.07853967201132564, 0.14137140962038616, 0.03141586880453026, 0.06283173760906052, 0.14137140962038616, 0.07853967201132564, 0.047123803206795385, 0.06283173760906052, 0.5862117145210868, 0.23072463950388453, 0.07690821316796151, 0.13843478370233073, 0.07690821316796151, 0.06152657053436921, 0.07690821316796151, 0.07690821316796151, 0.12305314106873842, 0.06152657053436921, 0.07690821316796151, 0.16776558820750925, 0.16776558820750925, 0.5032967646225277, 0.15797459588147908, 0.15797459588147908, 0.15797459588147908, 0.31594919176295816, 0.06489965861687891, 0.06489965861687891, 0.12979931723375782, 0.32449829308439454, 0.12979931723375782, 0.06489965861687891, 0.06489965861687891, 0.12979931723375782, 0.606579731371979, 0.795257854723792, 0.21962922337903076, 0.4392584467580615, 0.20288725424713694, 0.20288725424713694, 0.27051633899618255, 0.27051633899618255, 0.7172119456031053, 0.3452200463696636, 0.11507334878988786, 0.03835778292996262, 0.2301466975797757, 0.11507334878988786, 0.03835778292996262, 0.03835778292996262, 0.07671556585992524, 0.03835778292996262, 0.6768089894169397, 0.4019951239770159, 0.4019951239770159, 0.46235401640421375, 0.6065797695786599, 0.09661518084272995, 0.019323036168545988, 0.1739073255169139, 0.038646072337091976, 0.07729214467418395, 0.05796910850563797, 0.21255339785400587, 0.1545842893483679, 0.07729214467418395, 0.11593821701127593, 0.2327962794989966, 0.16930638509017934, 0.10581649068136209, 0.06348989440881725, 0.14814308695390693, 0.042326596272544835, 0.06348989440881725, 0.021163298136272417, 0.021163298136272417, 0.10581649068136209, 0.5188104572406537, 0.17293681908021788, 0.17293681908021788, 0.5862110302897978, 0.44309848945730296, 0.18575262761805708, 0.09287631380902854, 0.37150525523611416, 0.09287631380902854, 0.09287631380902854, 0.18575262761805708, 0.09287631380902854, 0.5298579124925653, 0.17661930416418845, 0.3532386083283769, 0.6641532909039873, 0.5862118379463704, 0.12109067183253718, 0.4843626873301487, 0.12109067183253718, 0.12109067183253718, 0.09770204283820108, 0.09770204283820108, 0.09770204283820108, 0.09770204283820108, 0.09770204283820108, 0.09770204283820108, 0.09770204283820108, 0.2931061285146032, 0.4563044299620382, 0.5597162430559877, 0.11194324861119753, 0.3358297458335926, 0.791710440267152, 0.26204789449991706, 0.11646573088885202, 0.14558216361106502, 0.029116432722213006, 0.08734929816663901, 0.11646573088885202, 0.05823286544442601, 0.11646573088885202, 0.029116432722213006, 0.05823286544442601, 0.3310987581074194, 0.3310987581074194, 0.2695697275868796, 0.2096653436786841, 0.02995219195409773, 0.11980876781639092, 0.08985657586229319, 0.02995219195409773, 0.05990438390819546, 0.11980876781639092, 0.02995219195409773, 0.05990438390819546, 0.11996090384782784, 0.11996090384782784, 0.11996090384782784, 0.11996090384782784, 0.11996090384782784, 0.05998045192391392, 0.2399218076956557, 0.05998045192391392, 0.26234484309705697, 0.17489656206470466, 0.05829885402156822, 0.05829885402156822, 0.08744828103235233, 0.05829885402156822, 0.08744828103235233, 0.05829885402156822, 0.08744828103235233, 0.08744828103235233, 0.061538521618556045, 0.12307704323711209, 0.061538521618556045, 0.18461556485566816, 0.061538521618556045, 0.061538521618556045, 0.18461556485566816, 0.061538521618556045, 0.18461556485566816, 0.21739065556724232, 0.13586915972952646, 0.10869532778362116, 0.13586915972952646, 0.05434766389181058, 0.13586915972952646, 0.08152149583771587, 0.08152149583771587, 0.02717383194590529, 0.05434766389181058, 0.6602932053876799, 0.044019547025845325, 0.044019547025845325, 0.044019547025845325, 0.08803909405169065, 0.044019547025845325, 0.044019547025845325, 0.6040561815069339, 0.599250549475375, 0.06289711330890507, 0.12579422661781015, 0.06289711330890507, 0.06289711330890507, 0.31448556654452536, 0.06289711330890507, 0.06289711330890507, 0.18869133992671522, 0.06289711330890507, 0.2610738520003095, 0.6526846300007737, 0.13053692600015476, 0.07260880633061491, 0.036304403165307454, 0.1815220158265373, 0.036304403165307454, 0.036304403165307454, 0.10891320949592237, 0.21782641899184474, 0.21782641899184474, 0.07260880633061491, 0.036304403165307454, 0.15568478021716414, 0.13344409732899784, 0.08896273155266522, 0.04448136577633261, 0.06672204866449892, 0.11120341444083152, 0.04448136577633261, 0.11120341444083152, 0.11120341444083152, 0.11120341444083152, 0.8621121743176914, 0.7743998019368665, 0.4240392454612203, 0.1856815051411599, 0.13926112885586991, 0.09284075257057996, 0.13926112885586991, 0.04642037628528998, 0.09284075257057996, 0.1856815051411599, 0.04642037628528998, 0.09284075257057996, 0.21971417807635232, 0.10985708903817616, 0.06277547945038638, 0.12555095890077275, 0.17263256848856254, 0.04708160958778978, 0.07846934931298297, 0.07846934931298297, 0.04708160958778978, 0.06277547945038638, 0.23056593156410726, 0.1537106210427382, 0.03842765526068455, 0.0768553105213691, 0.0768553105213691, 0.03842765526068455, 0.1537106210427382, 0.1537106210427382, 0.0768553105213691, 0.3209859361778493, 0.06878270060953914, 0.1375654012190783, 0.1146378343492319, 0.045855133739692765, 0.09171026747938553, 0.06878270060953914, 0.09171026747938553, 0.045855133739692765, 0.022927566869846382, 0.7193784259392293, 0.6039868716304142, 0.42170877451129607, 0.24454801082852812, 0.48909602165705623, 0.6065797479400978], \"Term\": [\"abegglen\", \"abortion\", \"abuse\", \"abuse\", \"abuse\", \"accident\", \"accident\", \"accident\", \"accident\", \"accident\", \"accident\", \"accident\", \"accident\", \"account\", \"account\", \"account\", \"account\", \"accountancy\", \"action\", \"action\", \"action\", \"action\", \"action\", \"action\", \"action\", \"action\", \"action\", \"action\", \"actress\", \"afghan\", \"afghan\", \"afghan\", \"afghan\", \"afghan\", \"afghan\", \"afghan\", \"afghan\", \"afghan\", \"afghan\", \"afghanistan\", \"afghanistan\", \"afghanistan\", \"afghanistan\", \"afghanistan\", \"afghanistan\", \"afghanistan\", \"afghanistan\", \"afghanistan\", \"afghanistan\", \"afroz\", \"agreement\", \"agreement\", \"agreement\", \"agreement\", \"agreement\", \"agreement\", \"agreement\", \"airlift\", \"airline\", \"airline\", \"airline\", \"airline\", \"airline\", \"airline\", \"airline\", \"airline\", \"airline\", \"airport\", \"airport\", \"airport\", \"airport\", \"airport\", \"airport\", \"airport\", \"airspace\", \"airspace\", \"alcohol\", \"alice\", \"allegation\", \"allegation\", \"allegation\", \"allegation\", \"allegation\", \"allegation\", \"amalgamation\", \"ambush\", \"amwu\", \"amwu\", \"arbitration\", \"area\", \"area\", \"area\", \"area\", \"area\", \"area\", \"area\", \"area\", \"area\", \"area\", \"argentina\", \"argentina\", \"argentina\", \"argentina\", \"argentina\", \"ash\", \"ash\", \"association\", \"association\", \"astronaut\", \"asylum_seeker\", \"asylum_seeker\", \"asylum_seeker\", \"asylum_seeker\", \"asylum_seeker\", \"asylum_seeker\", \"asylum_seeker\", \"atlanta\", \"attack\", \"attack\", \"attack\", \"attack\", \"attack\", \"attack\", \"attack\", \"attack\", \"attack\", \"attack\", \"attendant\", \"australia\", \"australia\", \"australia\", \"australia\", \"australia\", \"australia\", \"australia\", \"australia\", \"australia\", \"australia\", \"authority\", \"authority\", \"authority\", \"authority\", \"authority\", \"authority\", \"authority\", \"authority\", \"authority\", \"bail\", \"ball\", \"ball\", \"balmer\", \"banksa\", \"bat\", \"battlefield\", \"bayliss\", \"behaviour\", \"belgium\", \"benare\", \"benare\", \"bernard\", \"bichel\", \"bichel\", \"bill\", \"bill\", \"bill\", \"bill\", \"bill\", \"bill\", \"bill\", \"bill\", \"bill\", \"bis\", \"bituman\", \"bowling\", \"bowling\", \"bowling\", \"bowling\", \"boxing_day\", \"boxing_day\", \"boxing_day\", \"brain\", \"brand\", \"breakup\", \"brisbane\", \"brisbane\", \"brisbane\", \"brisbane\", \"brisbane\", \"britt\", \"britt\", \"building\", \"building\", \"building\", \"building\", \"building\", \"building\", \"building\", \"building\", \"bulli\", \"burakin\", \"butler\", \"bypass\", \"cancer\", \"cancer\", \"cancer\", \"cancer\", \"cancer\", \"cancer\", \"cano\", \"case\", \"case\", \"case\", \"case\", \"case\", \"case\", \"case\", \"case\", \"case\", \"casino\", \"catastrophe\", \"cathedral\", \"catholic\", \"cell\", \"cell\", \"cemetery\", \"centre\", \"centre\", \"centre\", \"centre\", \"centre\", \"centre\", \"centre\", \"centre\", \"centre\", \"centre\", \"centrelink\", \"centrelink\", \"century\", \"century\", \"century\", \"century\", \"cherry\", \"child\", \"child\", \"child\", \"child\", \"child\", \"child\", \"child\", \"child\", \"child\", \"child\", \"chris\", \"christmas\", \"christmas\", \"christmas\", \"christmas\", \"christmas\", \"christmas\", \"christmas\", \"christmas\", \"christmas\", \"christmas\", \"church\", \"church\", \"city\", \"city\", \"city\", \"city\", \"city\", \"city\", \"city\", \"city\", \"city\", \"city\", \"claim\", \"claim\", \"claim\", \"claim\", \"claim\", \"claim\", \"claim\", \"claim\", \"climate\", \"climate\", \"club\", \"club\", \"club\", \"club\", \"coaching\", \"cocoon\", \"colour\", \"comedy\", \"commission\", \"commission\", \"commission\", \"commission\", \"commission\", \"commission\", \"commission\", \"commission\", \"commission\", \"commonwealth\", \"commonwealth\", \"commonwealth\", \"commonwealth\", \"commonwealth\", \"commonwealth\", \"community\", \"community\", \"community\", \"community\", \"community\", \"community\", \"community\", \"community\", \"community\", \"community\", \"company\", \"company\", \"company\", \"company\", \"company\", \"company\", \"company\", \"company\", \"company\", \"company\", \"compassion\", \"complexity\", \"computer\", \"computer\", \"computer\", \"condition\", \"condition\", \"condition\", \"condition\", \"condition\", \"condition\", \"condition\", \"condition\", \"condition\", \"confession\", \"congressman\", \"consensus\", \"consumer\", \"consumer\", \"consumer\", \"containment\", \"containment\", \"context\", \"coordination\", \"country\", \"country\", \"country\", \"country\", \"country\", \"country\", \"country\", \"country\", \"country\", \"court\", \"court\", \"court\", \"court\", \"court\", \"court\", \"court\", \"court\", \"court\", \"court\", \"cow\", \"cow\", \"credit\", \"crop\", \"crush\", \"damage\", \"damage\", \"damage\", \"damage\", \"damage\", \"damage\", \"damage\", \"damage\", \"damage\", \"dan\", \"darren\", \"datum\", \"datum\", \"day\", \"day\", \"day\", \"day\", \"day\", \"day\", \"day\", \"day\", \"day\", \"day\", \"death\", \"death\", \"death\", \"death\", \"death\", \"death\", \"death\", \"death\", \"death\", \"decision\", \"decision\", \"decision\", \"decision\", \"decision\", \"decision\", \"decision\", \"decision\", \"dedication\", \"defector\", \"defunct\", \"defunct\", \"delay\", \"delay\", \"delay\", \"demonstrator\", \"demonstrator\", \"dempsey\", \"dennehy\", \"deny\", \"deserve\", \"detainee\", \"detainee\", \"detainee\", \"detainee\", \"detainee\", \"detainee\", \"detainee\", \"devotee\", \"devotee\", \"dfat\", \"difference\", \"difficulty\", \"difficulty\", \"director\", \"director\", \"director\", \"director\", \"director\", \"director\", \"director\", \"director\", \"director\", \"director\", \"dispute\", \"dispute\", \"dispute\", \"dispute\", \"dispute\", \"dispute\", \"disrepute\", \"dissatisfaction\", \"door\", \"doug\", \"doug\", \"doug\", \"downer\", \"downer\", \"downer\", \"downgrade\", \"downgrade\", \"draft\", \"draft\", \"draft\", \"driver\", \"drop\", \"drop\", \"drop\", \"drop\", \"drop\", \"drop\", \"drop\", \"drop\", \"drug\", \"drug\", \"dun\", \"earthquake\", \"east_timor\", \"east_timor\", \"east_timor\", \"east_timor\", \"east_timor\", \"economist\", \"economy\", \"economy\", \"economy\", \"economy\", \"economy\", \"economy\", \"economy\", \"effort\", \"effort\", \"effort\", \"effort\", \"effort\", \"effort\", \"effort\", \"effort\", \"elder\", \"elder\", \"elder\", \"elimination\", \"embassy\", \"embassy\", \"embryo\", \"embryo\", \"emission\", \"emission\", \"endeavour\", \"endeavour\", \"endeavour\", \"england\", \"equipment\", \"equity\", \"escort\", \"evan\", \"event\", \"event\", \"event\", \"event\", \"event\", \"event\", \"event\", \"expectation\", \"explanation\", \"explanation\", \"explosion\", \"explosive\", \"explosive\", \"explosive\", \"explosive\", \"explosive\", \"express\", \"facility\", \"facility\", \"facility\", \"facility\", \"facility\", \"facility\", \"facility\", \"facility\", \"facility\", \"faith\", \"family\", \"family\", \"family\", \"family\", \"family\", \"family\", \"family\", \"family\", \"family\", \"family\", \"fare\", \"farmer\", \"farmer\", \"farmer\", \"farmer\", \"fatality\", \"fatality\", \"fencing\", \"fighter\", \"fighter\", \"fighter\", \"fighter\", \"fighter\", \"fighter\", \"fighter\", \"fighter\", \"finalist\", \"finish\", \"fire\", \"fire\", \"fire\", \"fire\", \"fire\", \"fire\", \"fire\", \"fire\", \"fire\", \"fire\", \"firework\", \"firework\", \"firework\", \"flander\", \"flash\", \"flight\", \"flight\", \"flight\", \"flight\", \"flight\", \"flight\", \"flight\", \"flight\", \"flight\", \"flight\", \"flurry\", \"focus\", \"focus\", \"focus\", \"food\", \"food\", \"food\", \"food\", \"food\", \"football\", \"force\", \"force\", \"force\", \"force\", \"force\", \"force\", \"force\", \"force\", \"force\", \"force\", \"foreign_affair\", \"foreign_affair\", \"forest\", \"forest\", \"format\", \"four\", \"franc\", \"franc\", \"franc\", \"franc\", \"fraud\", \"freeman\", \"friedli\", \"friedli\", \"gain\", \"gain\", \"gambier\", \"gaming\", \"gang\", \"gang\", \"gang\", \"gas\", \"gas\", \"gas\", \"gas\", \"general\", \"general\", \"general\", \"general\", \"general\", \"general\", \"gerber\", \"gibbon\", \"gift\", \"gillespie\", \"glenn\", \"government\", \"government\", \"government\", \"government\", \"government\", \"government\", \"government\", \"government\", \"government\", \"government\", \"grave\", \"graveyard\", \"green\", \"grocery\", \"group\", \"group\", \"group\", \"group\", \"group\", \"group\", \"group\", \"group\", \"group\", \"group\", \"growth\", \"growth\", \"growth\", \"growth\", \"growth\", \"growth\", \"guide\", \"guide\", \"guide\", \"guide\", \"guide\", \"guide\", \"guide\", \"guide\", \"guide\", \"gunship\", \"gutnick\", \"habeel\", \"habeel\", \"ham\", \"hamas\", \"hamas\", \"hamas\", \"hamas\", \"hamas\", \"hamas\", \"hamas\", \"hamas\", \"hamas\", \"hamid\", \"handling\", \"handling\", \"hare\", \"hare\", \"hass\", \"hat\", \"health\", \"health\", \"health\", \"health\", \"health\", \"health\", \"health\", \"health\", \"heater\", \"henderson\", \"henderson\", \"hewitt\", \"hewitt\", \"hewitt\", \"hick\", \"hick\", \"hick\", \"hick\", \"hick\", \"highway\", \"highway\", \"highway\", \"highway\", \"highway\", \"highway\", \"hilton\", \"historian\", \"hoax\", \"hollingworth\", \"hollingworth\", \"hooke\", \"hopman\", \"hopman\", \"hopman\", \"hornsby\", \"hornsby\", \"hospital\", \"hospital\", \"hospital\", \"hospital\", \"hospital\", \"hospital\", \"hospital\", \"hospital\", \"hospital\", \"hospital\", \"hostage\", \"hour\", \"hour\", \"hour\", \"hour\", \"hour\", \"hour\", \"hour\", \"hour\", \"hour\", \"hour\", \"housing\", \"howard\", \"howard\", \"howard\", \"howard\", \"howard\", \"howard\", \"ice\", \"ice\", \"ice\", \"ice\", \"immunity\", \"india\", \"india\", \"india\", \"india\", \"india\", \"india\", \"india\", \"india\", \"indonesia\", \"indonesia\", \"indonesia\", \"indonesia\", \"indonesia\", \"ingredient\", \"innings\", \"innings\", \"innings\", \"innings\", \"inquiry\", \"inquiry\", \"inquiry\", \"inquiry\", \"inquiry\", \"inquiry\", \"inquiry\", \"inquiry\", \"insight\", \"installation\", \"internet\", \"internet\", \"internet\", \"internet\", \"israel\", \"israel\", \"israel\", \"israel\", \"israel\", \"israel\", \"israel\", \"israel\", \"israel\", \"israel\", \"israeli\", \"israeli\", \"israeli\", \"israeli\", \"israeli\", \"israeli\", \"israeli\", \"israeli\", \"israeli_army\", \"israeli_army\", \"israeli_army\", \"israeli_army\", \"israelis\", \"issue\", \"issue\", \"issue\", \"issue\", \"issue\", \"issue\", \"issue\", \"issue\", \"issue\", \"jackson\", \"jan\", \"japan\", \"japan\", \"japan\", \"japan\", \"jason\", \"jerusalem\", \"jerusalem\", \"jerusalem\", \"job\", \"job\", \"job\", \"job\", \"job\", \"job\", \"job\", \"job\", \"job\", \"job\", \"jone\", \"journal\", \"juan\", \"judge\", \"judge\", \"julia\", \"kabul\", \"kabul\", \"kabul\", \"kabul\", \"karzai\", \"karzai\", \"kashmir\", \"kashmir\", \"kemp\", \"kerb\", \"kerry\", \"kieren\", \"kieren\", \"labor\", \"labor\", \"labor\", \"labor\", \"labor\", \"labor\", \"labor\", \"labor\", \"labor\", \"larrakia\", \"law\", \"law\", \"law\", \"law\", \"law\", \"law\", \"law\", \"law\", \"law\", \"leader\", \"leader\", \"leader\", \"leader\", \"leader\", \"leader\", \"leader\", \"leader\", \"leader\", \"leader\", \"lee\", \"lee\", \"lee\", \"leg\", \"leg\", \"leg\", \"leg\", \"legal_advice\", \"level\", \"level\", \"level\", \"level\", \"level\", \"level\", \"level\", \"life\", \"life\", \"life\", \"life\", \"life\", \"life\", \"life\", \"life\", \"life\", \"life\", \"line\", \"line\", \"line\", \"line\", \"line\", \"line\", \"line\", \"line\", \"line\", \"link\", \"lleyton\", \"local\", \"lockett\", \"lockett\", \"luggage\", \"lung\", \"lung\", \"lung\", \"magna\", \"maguire\", \"maker\", \"maker\", \"maker\", \"man\", \"man\", \"man\", \"man\", \"man\", \"man\", \"man\", \"man\", \"man\", \"man\", \"management\", \"management\", \"management\", \"management\", \"market\", \"market\", \"market\", \"market\", \"market\", \"market\", \"market\", \"market\", \"market\", \"match\", \"match\", \"match\", \"match\", \"match\", \"match\", \"match\", \"match\", \"match\", \"matt\", \"mcgauran\", \"mcgrath\", \"mcgrath\", \"mcgrath\", \"mcmenamin\", \"mcmenamin\", \"meeting\", \"meeting\", \"meeting\", \"meeting\", \"meeting\", \"meeting\", \"meeting\", \"meeting\", \"meeting\", \"meeting\", \"megawati\", \"member\", \"member\", \"member\", \"member\", \"member\", \"member\", \"member\", \"member\", \"member\", \"member\", \"mentha\", \"metre\", \"metre\", \"metre\", \"metre\", \"metre\", \"metre\", \"metre\", \"metre\", \"midwife\", \"midwife\", \"militant\", \"militant\", \"militant\", \"militant\", \"militant\", \"militant\", \"militant\", \"militant\", \"militant\", \"militia\", \"militia\", \"militia\", \"militia\", \"militia\", \"militia\", \"militia\", \"militia\", \"minister\", \"minister\", \"minister\", \"minister\", \"minister\", \"minister\", \"minister\", \"minister\", \"minister\", \"minister\", \"mitch\", \"mitsubishi\", \"mohamad\", \"mohamad\", \"money\", \"money\", \"money\", \"money\", \"money\", \"money\", \"money\", \"money\", \"month\", \"month\", \"month\", \"month\", \"month\", \"month\", \"month\", \"month\", \"month\", \"month\", \"morning\", \"morning\", \"morning\", \"morning\", \"morning\", \"morning\", \"morning\", \"morning\", \"morning\", \"mosis\", \"motorist\", \"motorway\", \"mouse\", \"murray\", \"murray\", \"musharraf\", \"musharraf\", \"musharraf\", \"nail\", \"nitzanit\", \"nobel\", \"nomination\", \"nursing\", \"obesity\", \"obesity\", \"observation\", \"office\", \"office\", \"office\", \"office\", \"office\", \"office\", \"office\", \"office\", \"office\", \"office\", \"official\", \"official\", \"official\", \"official\", \"official\", \"official\", \"official\", \"official\", \"official\", \"oil\", \"oil\", \"oil\", \"oil\", \"olympic\", \"opener\", \"opposition\", \"opposition\", \"opposition\", \"opposition\", \"opposition\", \"opposition\", \"opposition\", \"opposition\", \"opposition\", \"option\", \"option\", \"option\", \"option\", \"outrage\", \"pakistan\", \"pakistan\", \"pakistan\", \"pakistan\", \"pakistan\", \"pakistan\", \"pakistan\", \"pakistan\", \"pakistan\", \"pakistan\", \"palestinian\", \"palestinian\", \"palestinian\", \"palestinian\", \"palestinian\", \"palestinian\", \"palestinian\", \"palestinian\", \"palestinian\", \"palestinian\", \"palmerston\", \"panel\", \"panel\", \"panel\", \"parore\", \"partnership\", \"party\", \"party\", \"party\", \"party\", \"party\", \"party\", \"party\", \"party\", \"party\", \"party\", \"pattern\", \"pay\", \"pay\", \"pay\", \"pay\", \"pay\", \"pay\", \"pay\", \"pay\", \"peacekeeper\", \"peacekeeper\", \"peacekeeper\", \"per_cent\", \"per_cent\", \"per_cent\", \"per_cent\", \"per_cent\", \"per_cent\", \"per_cent\", \"per_cent\", \"per_cent\", \"per_cent\", \"person\", \"person\", \"person\", \"person\", \"person\", \"person\", \"person\", \"person\", \"person\", \"person\", \"peru\", \"peru\", \"petrol\", \"petrol\", \"petrol\", \"pickup\", \"picture\", \"pilkem\", \"police\", \"police\", \"police\", \"police\", \"police\", \"police\", \"police\", \"police\", \"police\", \"police\", \"pollutant\", \"polouse\", \"polouse\", \"polouse\", \"polouse\", \"polouse\", \"polouse\", \"polouse\", \"polouse\", \"polouse\", \"polouse\", \"pool\", \"pott\", \"power\", \"power\", \"power\", \"power\", \"power\", \"power\", \"power\", \"power\", \"power\", \"power\", \"precursor\", \"president\", \"president\", \"president\", \"president\", \"president\", \"president\", \"president\", \"president\", \"president\", \"president\", \"pressure\", \"pressure\", \"pressure\", \"pressure\", \"pressure\", \"pressure\", \"pressure\", \"pressure\", \"pressure\", \"pressure\", \"prix\", \"prize\", \"product\", \"profit\", \"profit\", \"profit\", \"profit\", \"project\", \"project\", \"project\", \"property\", \"property\", \"property\", \"property\", \"property\", \"property\", \"qanta\", \"qanta\", \"qanta\", \"qanta\", \"qanta\", \"qanta\", \"qanta\", \"qanta\", \"quake\", \"quarrel\", \"quarter\", \"quarter\", \"quarter\", \"question\", \"question\", \"question\", \"question\", \"question\", \"question\", \"queue\", \"rabbani\", \"rabbani\", \"race\", \"race\", \"race\", \"race\", \"race\", \"race\", \"race\", \"race\", \"radio\", \"radio\", \"radio\", \"radio\", \"radio\", \"radio\", \"radio\", \"radio\", \"raduyev\", \"rate\", \"rate\", \"rate\", \"rate\", \"rate\", \"rate\", \"rate\", \"rate\", \"ray\", \"ray\", \"ray\", \"ray\", \"record\", \"record\", \"record\", \"record\", \"record\", \"record\", \"recrimination\", \"redmond\", \"redmond\", \"redundancy\", \"redundancy\", \"redundancy\", \"reject\", \"remainder\", \"repayment\", \"report\", \"report\", \"report\", \"report\", \"report\", \"report\", \"report\", \"report\", \"report\", \"report\", \"reserve\", \"reserve\", \"resolve\", \"resolve\", \"retreat\", \"rfds\", \"rialto\", \"ridge\", \"rifle\", \"river\", \"river\", \"river\", \"river\", \"river\", \"river\", \"river\", \"river\", \"river_gorge\", \"road\", \"road\", \"road\", \"road\", \"road\", \"rosebury\", \"route\", \"route\", \"route\", \"rudd\", \"saa\", \"saa\", \"saadi\", \"saadi\", \"salman\", \"sanction\", \"sanctuary\", \"saviour\", \"scatter\", \"scatter\", \"schneider\", \"seat\", \"section\", \"security\", \"security\", \"security\", \"security\", \"security\", \"security\", \"security\", \"security\", \"security\", \"security\", \"sele\", \"sele\", \"sele\", \"semi\", \"senate\", \"senate\", \"senator\", \"september\", \"september\", \"september\", \"september\", \"september\", \"september\", \"september\", \"september\", \"service\", \"service\", \"service\", \"service\", \"service\", \"service\", \"service\", \"service\", \"service\", \"serviceman\", \"set\", \"set\", \"set\", \"set\", \"set\", \"set\", \"set\", \"set\", \"set\", \"set\", \"shaun_pollock\", \"shaun_pollock\", \"sheer\", \"sheet\", \"sheet\", \"shelve\", \"shepherd\", \"shrapnel\", \"shuttle\", \"shuttle\", \"sinai\", \"sir\", \"sir\", \"sir\", \"sir\", \"sir\", \"size\", \"skepticism\", \"skin\", \"slip\", \"slip\", \"slowing\", \"slumping\", \"smoke\", \"smoke\", \"smoke\", \"soil\", \"sorrow\", \"south_africa\", \"south_africa\", \"south_africa\", \"south_africa\", \"south_africa\", \"south_africa\", \"south_africa\", \"south_africa\", \"south_africa\", \"spa\", \"space\", \"space\", \"spill\", \"spill\", \"sponsor\", \"sponsor\", \"sri\", \"sri\", \"staff\", \"staff\", \"staff\", \"staff\", \"staff\", \"staff\", \"staff\", \"staff\", \"staff\", \"staff\", \"start\", \"start\", \"start\", \"start\", \"start\", \"start\", \"start\", \"start\", \"state\", \"state\", \"state\", \"state\", \"state\", \"state\", \"state\", \"state\", \"state\", \"state\", \"statement\", \"statement\", \"statement\", \"statement\", \"statement\", \"statement\", \"statement\", \"statement\", \"station\", \"station\", \"station\", \"station\", \"station\", \"step\", \"step\", \"step\", \"step\", \"stoltenberg\", \"stopping\", \"storm\", \"storm\", \"storm\", \"storm\", \"storm\", \"storm\", \"storm\", \"stringer\", \"stump\", \"suicide_attack\", \"suicide_attack\", \"suicide_attack\", \"suicide_attack\", \"suicide_attack\", \"suicide_attack\", \"suitcase\", \"sultan\", \"sultan\", \"summit\", \"summit\", \"supervisor\", \"surrender\", \"surrender\", \"surrender\", \"surrender\", \"suspicion\", \"sutton\", \"swan\", \"swan\", \"swan\", \"swimmer\", \"swimmer\", \"sydney\", \"sydney\", \"sydney\", \"sydney\", \"sydney\", \"sydney\", \"sydney\", \"sydney\", \"sydney\", \"sydney\", \"symptom\", \"szondy\", \"taliban_force\", \"taliban_force\", \"talk\", \"talk\", \"talk\", \"talk\", \"talk\", \"talk\", \"talk\", \"talk\", \"talk\", \"tanami\", \"tax\", \"taylor\", \"team\", \"team\", \"team\", \"team\", \"team\", \"team\", \"team\", \"team\", \"team\", \"team\", \"terminal\", \"terminal\", \"termination\", \"termination\", \"terrence\", \"test\", \"test\", \"test\", \"test\", \"test\", \"test\", \"test\", \"test\", \"test\", \"test\", \"think\", \"think\", \"think\", \"think\", \"think\", \"think\", \"think\", \"think\", \"think\", \"think\", \"ticket\", \"time\", \"time\", \"time\", \"time\", \"time\", \"time\", \"time\", \"time\", \"time\", \"time\", \"tissue\", \"today\", \"today\", \"today\", \"today\", \"today\", \"today\", \"today\", \"today\", \"today\", \"today\", \"track\", \"track\", \"track\", \"trade\", \"trade\", \"trade\", \"trade\", \"training\", \"training\", \"training\", \"training\", \"training\", \"training\", \"training\", \"training\", \"tran\", \"treason\", \"treasurer\", \"treasurer\", \"tree\", \"tree\", \"tree\", \"tree\", \"trick\", \"troop\", \"troop\", \"troop\", \"troop\", \"troop\", \"troop\", \"troop\", \"troop\", \"troop\", \"truckload\", \"truss\", \"truss\", \"typhoid\", \"umpire\", \"union\", \"union\", \"union\", \"union\", \"union\", \"union\", \"union\", \"union\", \"union\", \"union\", \"united_state\", \"united_state\", \"united_state\", \"united_state\", \"united_state\", \"united_state\", \"united_state\", \"united_state\", \"united_state\", \"united_state\", \"unrest\", \"unrest\", \"unrest\", \"uprising\", \"upset\", \"use\", \"use\", \"use\", \"use\", \"use\", \"use\", \"use\", \"user\", \"user\", \"user\", \"utn\", \"variety\", \"vehicle\", \"vehicle\", \"vehicle\", \"vehicle\", \"verdict\", \"verdict\", \"verdict\", \"verdict\", \"verdict\", \"verdict\", \"verdict\", \"verdict\", \"villawood\", \"virus\", \"virus\", \"virus\", \"voracity\", \"wale\", \"wale\", \"wale\", \"wale\", \"wale\", \"wale\", \"wale\", \"wale\", \"wale\", \"wale\", \"walker\", \"walker\", \"war\", \"war\", \"war\", \"war\", \"war\", \"war\", \"war\", \"war\", \"war\", \"war\", \"water\", \"water\", \"water\", \"water\", \"water\", \"water\", \"water\", \"water\", \"way\", \"way\", \"way\", \"way\", \"way\", \"way\", \"way\", \"way\", \"way\", \"way\", \"weapon\", \"weapon\", \"weapon\", \"weapon\", \"weapon\", \"weapon\", \"weapon\", \"weapon\", \"weapon\", \"week\", \"week\", \"week\", \"week\", \"week\", \"week\", \"week\", \"week\", \"week\", \"week\", \"wicket\", \"wicket\", \"wicket\", \"wicket\", \"wicket\", \"wicket\", \"wicket\", \"wimbledon\", \"wisdom\", \"woman\", \"woman\", \"woman\", \"woman\", \"woman\", \"woman\", \"woman\", \"woman\", \"woman\", \"woomera\", \"woomera\", \"woomera\", \"worker\", \"worker\", \"worker\", \"worker\", \"worker\", \"worker\", \"worker\", \"worker\", \"worker\", \"worker\", \"world\", \"world\", \"world\", \"world\", \"world\", \"world\", \"world\", \"world\", \"world\", \"world\", \"world_heritage\", \"wrongdoing\", \"yachting\", \"yasser_arafat\", \"yasser_arafat\", \"yasser_arafat\", \"yasser_arafat\", \"yasser_arafat\", \"yasser_arafat\", \"yasser_arafat\", \"yasser_arafat\", \"yasser_arafat\", \"year\", \"year\", \"year\", \"year\", \"year\", \"year\", \"year\", \"year\", \"year\", \"year\", \"year_old\", \"year_old\", \"year_old\", \"year_old\", \"year_old\", \"year_old\", \"year_old\", \"year_old\", \"year_old\", \"yesterday\", \"yesterday\", \"yesterday\", \"yesterday\", \"yesterday\", \"yesterday\", \"yesterday\", \"yesterday\", \"yesterday\", \"yesterday\", \"yorker\", \"ypre\", \"zealander\", \"zimbabwe\", \"zimbabwe\", \"zimbabwean\"]}, \"mdsDat\": {\"y\": [-0.013264654253382713, -0.07230033933195933, -0.016466093218248164, 0.05225859405488973, -0.04991424678356875, 0.014594281397371534, 0.016324510297310742, 0.010288751426610464, 0.06990231380477223, -0.011423117393795772], \"cluster\": [1, 1, 1, 1, 1, 1, 1, 1, 1, 1], \"Freq\": [20.828435136189317, 11.593699123383763, 10.206941915355431, 9.907182676931933, 8.787994516538456, 8.57294563214289, 8.283057369716577, 7.9080722343809455, 7.5331311716728395, 6.37854022368785], \"topics\": [1, 2, 3, 4, 5, 6, 7, 8, 9, 10], \"x\": [-0.03065708411811233, -0.03534368881882836, 0.014996296168511437, -0.07559590786447305, -0.004824340368702263, 0.021527554935567243, 0.0195164796947408, 0.10654352647413706, -0.011299778542010619, -0.004863057560829963]}, \"R\": 30, \"lambda.step\": 0.01, \"tinfo\": {\"Category\": [\"Default\", \"Default\", \"Default\", \"Default\", \"Default\", \"Default\", \"Default\", \"Default\", \"Default\", \"Default\", \"Default\", \"Default\", \"Default\", \"Default\", \"Default\", \"Default\", \"Default\", \"Default\", \"Default\", \"Default\", \"Default\", \"Default\", \"Default\", \"Default\", \"Default\", \"Default\", \"Default\", \"Default\", \"Default\", \"Default\", \"Topic1\", \"Topic1\", \"Topic1\", \"Topic1\", \"Topic1\", \"Topic1\", \"Topic1\", \"Topic1\", \"Topic1\", \"Topic1\", \"Topic1\", \"Topic1\", \"Topic1\", \"Topic1\", \"Topic1\", \"Topic1\", \"Topic1\", \"Topic1\", \"Topic1\", \"Topic1\", \"Topic1\", \"Topic1\", \"Topic1\", \"Topic1\", \"Topic1\", \"Topic1\", \"Topic1\", \"Topic1\", \"Topic1\", \"Topic1\", \"Topic1\", \"Topic1\", \"Topic1\", \"Topic1\", \"Topic1\", \"Topic1\", \"Topic1\", \"Topic1\", \"Topic1\", \"Topic1\", \"Topic1\", \"Topic1\", \"Topic1\", \"Topic1\", \"Topic1\", \"Topic1\", \"Topic1\", \"Topic1\", \"Topic1\", \"Topic1\", \"Topic1\", \"Topic1\", \"Topic1\", \"Topic1\", \"Topic1\", \"Topic1\", \"Topic1\", \"Topic1\", \"Topic1\", \"Topic1\", \"Topic1\", \"Topic1\", \"Topic1\", \"Topic1\", \"Topic2\", \"Topic2\", \"Topic2\", \"Topic2\", \"Topic2\", \"Topic2\", \"Topic2\", \"Topic2\", \"Topic2\", \"Topic2\", \"Topic2\", \"Topic2\", \"Topic2\", \"Topic2\", \"Topic2\", \"Topic2\", \"Topic2\", \"Topic2\", \"Topic2\", \"Topic2\", \"Topic2\", \"Topic2\", \"Topic2\", \"Topic2\", \"Topic2\", \"Topic2\", \"Topic2\", \"Topic2\", \"Topic2\", \"Topic2\", \"Topic2\", \"Topic2\", \"Topic2\", \"Topic2\", \"Topic2\", \"Topic2\", \"Topic2\", \"Topic2\", \"Topic2\", \"Topic2\", \"Topic2\", \"Topic2\", \"Topic2\", \"Topic2\", \"Topic2\", \"Topic2\", \"Topic2\", \"Topic2\", \"Topic2\", \"Topic2\", \"Topic2\", \"Topic2\", \"Topic2\", \"Topic2\", \"Topic2\", \"Topic2\", \"Topic2\", \"Topic2\", \"Topic2\", \"Topic2\", \"Topic2\", \"Topic2\", \"Topic2\", \"Topic2\", \"Topic2\", \"Topic2\", \"Topic2\", \"Topic3\", \"Topic3\", \"Topic3\", \"Topic3\", \"Topic3\", \"Topic3\", \"Topic3\", \"Topic3\", \"Topic3\", \"Topic3\", \"Topic3\", \"Topic3\", \"Topic3\", \"Topic3\", \"Topic3\", \"Topic3\", \"Topic3\", \"Topic3\", \"Topic3\", \"Topic3\", \"Topic3\", \"Topic3\", \"Topic3\", \"Topic3\", \"Topic3\", \"Topic3\", \"Topic3\", \"Topic3\", \"Topic3\", \"Topic3\", \"Topic3\", \"Topic3\", \"Topic3\", \"Topic3\", \"Topic3\", \"Topic3\", \"Topic3\", \"Topic3\", \"Topic3\", \"Topic3\", \"Topic3\", \"Topic3\", \"Topic3\", \"Topic3\", \"Topic3\", \"Topic3\", \"Topic3\", \"Topic3\", \"Topic3\", \"Topic3\", \"Topic3\", \"Topic3\", \"Topic3\", \"Topic3\", \"Topic3\", \"Topic3\", \"Topic3\", \"Topic3\", \"Topic3\", \"Topic3\", \"Topic3\", \"Topic3\", \"Topic3\", \"Topic3\", \"Topic3\", \"Topic3\", \"Topic3\", \"Topic3\", \"Topic3\", \"Topic3\", \"Topic3\", \"Topic3\", \"Topic3\", \"Topic3\", \"Topic3\", \"Topic4\", \"Topic4\", \"Topic4\", \"Topic4\", \"Topic4\", \"Topic4\", \"Topic4\", \"Topic4\", \"Topic4\", \"Topic4\", \"Topic4\", \"Topic4\", \"Topic4\", \"Topic4\", \"Topic4\", \"Topic4\", \"Topic4\", \"Topic4\", \"Topic4\", \"Topic4\", \"Topic4\", \"Topic4\", \"Topic4\", \"Topic4\", \"Topic4\", \"Topic4\", \"Topic4\", \"Topic4\", \"Topic4\", \"Topic4\", \"Topic4\", \"Topic4\", \"Topic4\", \"Topic4\", \"Topic4\", \"Topic4\", \"Topic4\", \"Topic4\", \"Topic4\", \"Topic4\", \"Topic4\", \"Topic4\", \"Topic4\", \"Topic4\", \"Topic4\", \"Topic4\", \"Topic4\", \"Topic4\", \"Topic4\", \"Topic4\", \"Topic4\", \"Topic4\", \"Topic4\", \"Topic4\", \"Topic4\", \"Topic4\", \"Topic4\", \"Topic4\", \"Topic4\", \"Topic4\", \"Topic4\", \"Topic4\", \"Topic4\", \"Topic4\", \"Topic4\", \"Topic4\", \"Topic4\", \"Topic4\", \"Topic4\", \"Topic4\", \"Topic4\", \"Topic4\", \"Topic4\", \"Topic4\", \"Topic4\", \"Topic4\", \"Topic4\", \"Topic4\", \"Topic4\", \"Topic4\", \"Topic4\", \"Topic5\", \"Topic5\", \"Topic5\", \"Topic5\", \"Topic5\", \"Topic5\", \"Topic5\", \"Topic5\", \"Topic5\", \"Topic5\", \"Topic5\", \"Topic5\", \"Topic5\", \"Topic5\", \"Topic5\", \"Topic5\", \"Topic5\", \"Topic5\", \"Topic5\", \"Topic5\", \"Topic5\", \"Topic5\", \"Topic5\", \"Topic5\", \"Topic5\", \"Topic5\", \"Topic5\", \"Topic5\", \"Topic5\", \"Topic5\", \"Topic5\", \"Topic5\", \"Topic5\", \"Topic5\", \"Topic5\", \"Topic5\", \"Topic5\", \"Topic5\", \"Topic5\", \"Topic5\", \"Topic5\", \"Topic5\", \"Topic5\", \"Topic5\", \"Topic5\", \"Topic5\", \"Topic5\", \"Topic5\", \"Topic5\", \"Topic5\", \"Topic5\", \"Topic5\", \"Topic5\", \"Topic5\", \"Topic5\", \"Topic5\", \"Topic5\", \"Topic5\", \"Topic5\", \"Topic5\", \"Topic5\", \"Topic5\", \"Topic5\", \"Topic5\", \"Topic5\", \"Topic5\", \"Topic5\", \"Topic5\", \"Topic5\", \"Topic5\", \"Topic6\", \"Topic6\", \"Topic6\", \"Topic6\", \"Topic6\", \"Topic6\", \"Topic6\", \"Topic6\", \"Topic6\", \"Topic6\", \"Topic6\", \"Topic6\", \"Topic6\", \"Topic6\", \"Topic6\", \"Topic6\", \"Topic6\", \"Topic6\", \"Topic6\", \"Topic6\", \"Topic6\", \"Topic6\", \"Topic6\", \"Topic6\", \"Topic6\", \"Topic6\", \"Topic6\", \"Topic6\", \"Topic6\", \"Topic6\", \"Topic6\", \"Topic6\", \"Topic6\", \"Topic6\", \"Topic6\", \"Topic6\", \"Topic6\", \"Topic6\", \"Topic6\", \"Topic6\", \"Topic6\", \"Topic6\", \"Topic6\", \"Topic6\", \"Topic6\", \"Topic6\", \"Topic6\", \"Topic6\", \"Topic6\", \"Topic6\", \"Topic6\", \"Topic6\", \"Topic6\", \"Topic6\", \"Topic6\", \"Topic6\", \"Topic6\", \"Topic6\", \"Topic6\", \"Topic6\", \"Topic6\", \"Topic6\", \"Topic6\", \"Topic6\", \"Topic6\", \"Topic6\", \"Topic6\", \"Topic6\", \"Topic6\", \"Topic6\", \"Topic6\", \"Topic6\", \"Topic6\", \"Topic6\", \"Topic6\", \"Topic6\", \"Topic6\", \"Topic7\", \"Topic7\", \"Topic7\", \"Topic7\", \"Topic7\", \"Topic7\", \"Topic7\", \"Topic7\", \"Topic7\", \"Topic7\", \"Topic7\", \"Topic7\", \"Topic7\", \"Topic7\", \"Topic7\", \"Topic7\", \"Topic7\", \"Topic7\", \"Topic7\", \"Topic7\", \"Topic7\", \"Topic7\", \"Topic7\", \"Topic7\", \"Topic7\", \"Topic7\", \"Topic7\", \"Topic7\", \"Topic7\", \"Topic7\", \"Topic7\", \"Topic7\", \"Topic7\", \"Topic7\", \"Topic7\", \"Topic7\", \"Topic7\", \"Topic7\", \"Topic7\", \"Topic7\", \"Topic7\", \"Topic7\", \"Topic7\", \"Topic7\", \"Topic7\", \"Topic7\", \"Topic7\", \"Topic7\", \"Topic7\", \"Topic7\", \"Topic7\", \"Topic7\", \"Topic7\", \"Topic7\", \"Topic7\", \"Topic7\", \"Topic7\", \"Topic7\", \"Topic7\", \"Topic7\", \"Topic7\", \"Topic7\", \"Topic7\", \"Topic7\", \"Topic7\", \"Topic7\", \"Topic7\", \"Topic7\", \"Topic7\", \"Topic8\", \"Topic8\", \"Topic8\", \"Topic8\", \"Topic8\", \"Topic8\", \"Topic8\", \"Topic8\", \"Topic8\", \"Topic8\", \"Topic8\", \"Topic8\", \"Topic8\", \"Topic8\", \"Topic8\", \"Topic8\", \"Topic8\", \"Topic8\", \"Topic8\", \"Topic8\", \"Topic8\", \"Topic8\", \"Topic8\", \"Topic8\", \"Topic8\", \"Topic8\", \"Topic8\", \"Topic8\", \"Topic8\", \"Topic8\", \"Topic8\", \"Topic8\", \"Topic8\", \"Topic8\", \"Topic8\", \"Topic8\", \"Topic8\", \"Topic8\", \"Topic8\", \"Topic8\", \"Topic8\", \"Topic8\", \"Topic8\", \"Topic8\", \"Topic8\", \"Topic8\", \"Topic8\", \"Topic8\", \"Topic8\", \"Topic8\", \"Topic8\", \"Topic8\", \"Topic8\", \"Topic8\", \"Topic8\", \"Topic8\", \"Topic8\", \"Topic8\", \"Topic8\", \"Topic8\", \"Topic8\", \"Topic8\", \"Topic8\", \"Topic8\", \"Topic8\", \"Topic8\", \"Topic8\", \"Topic8\", \"Topic8\", \"Topic8\", \"Topic8\", \"Topic8\", \"Topic8\", \"Topic8\", \"Topic8\", \"Topic8\", \"Topic8\", \"Topic9\", \"Topic9\", \"Topic9\", \"Topic9\", \"Topic9\", \"Topic9\", \"Topic9\", \"Topic9\", \"Topic9\", \"Topic9\", \"Topic9\", \"Topic9\", \"Topic9\", \"Topic9\", \"Topic9\", \"Topic9\", \"Topic9\", \"Topic9\", \"Topic9\", \"Topic9\", \"Topic9\", \"Topic9\", \"Topic9\", \"Topic9\", \"Topic9\", \"Topic9\", \"Topic9\", \"Topic9\", \"Topic9\", \"Topic9\", \"Topic9\", \"Topic9\", \"Topic9\", \"Topic9\", \"Topic9\", \"Topic9\", \"Topic9\", \"Topic9\", \"Topic9\", \"Topic9\", \"Topic9\", \"Topic9\", \"Topic9\", \"Topic9\", \"Topic9\", \"Topic9\", \"Topic9\", \"Topic9\", \"Topic9\", \"Topic9\", \"Topic9\", \"Topic9\", \"Topic9\", \"Topic9\", \"Topic9\", \"Topic9\", \"Topic9\", \"Topic9\", \"Topic9\", \"Topic9\", \"Topic9\", \"Topic9\", \"Topic9\", \"Topic9\", \"Topic9\", \"Topic9\", \"Topic9\", \"Topic9\", \"Topic9\", \"Topic10\", \"Topic10\", \"Topic10\", \"Topic10\", \"Topic10\", \"Topic10\", \"Topic10\", \"Topic10\", \"Topic10\", \"Topic10\", \"Topic10\", \"Topic10\", \"Topic10\", \"Topic10\", \"Topic10\", \"Topic10\", \"Topic10\", \"Topic10\", \"Topic10\", \"Topic10\", \"Topic10\", \"Topic10\", \"Topic10\", \"Topic10\", \"Topic10\", \"Topic10\", \"Topic10\", \"Topic10\", \"Topic10\", \"Topic10\", \"Topic10\", \"Topic10\", \"Topic10\", \"Topic10\", \"Topic10\", \"Topic10\", \"Topic10\", \"Topic10\", \"Topic10\", \"Topic10\", \"Topic10\", \"Topic10\", \"Topic10\", \"Topic10\", \"Topic10\", \"Topic10\", \"Topic10\", \"Topic10\", \"Topic10\", \"Topic10\", \"Topic10\", \"Topic10\", \"Topic10\", \"Topic10\", \"Topic10\", \"Topic10\", \"Topic10\", \"Topic10\", \"Topic10\", \"Topic10\", \"Topic10\", \"Topic10\", \"Topic10\", \"Topic10\", \"Topic10\", \"Topic10\", \"Topic10\", \"Topic10\", \"Topic10\", \"Topic10\", \"Topic10\"], \"Term\": [\"union\", \"fire\", \"storm\", \"sydney\", \"metre\", \"company\", \"abuse\", \"india\", \"market\", \"event\", \"australia\", \"pakistan\", \"hewitt\", \"road\", \"man\", \"qanta\", \"attack\", \"product\", \"virus\", \"worker\", \"project\", \"tree\", \"president\", \"per_cent\", \"economy\", \"space\", \"leader\", \"team\", \"race\", \"official\", \"rfds\", \"space\", \"bichel\", \"ball\", \"hat\", \"stump\", \"innings\", \"endeavour\", \"shuttle\", \"gambier\", \"astronaut\", \"henderson\", \"partnership\", \"trick\", \"yorker\", \"accountancy\", \"prix\", \"boxing_day\", \"lee\", \"gillespie\", \"opener\", \"gibbon\", \"equipment\", \"fatality\", \"four\", \"section\", \"hamid\", \"shaun_pollock\", \"dan\", \"wicket\", \"bat\", \"station\", \"leg\", \"bowling\", \"karzai\", \"force\", \"south_africa\", \"test\", \"afghanistan\", \"peacekeeper\", \"afghan\", \"day\", \"kabul\", \"person\", \"power\", \"city\", \"agreement\", \"security\", \"australia\", \"government\", \"yesterday\", \"israel\", \"member\", \"match\", \"area\", \"time\", \"today\", \"group\", \"year\", \"attack\", \"centre\", \"man\", \"united_state\", \"hour\", \"alcohol\", \"senate\", \"cathedral\", \"rudd\", \"voracity\", \"quarrel\", \"senator\", \"raduyev\", \"salman\", \"hostage\", \"green\", \"kerry\", \"sanctuary\", \"dennehy\", \"church\", \"gift\", \"spill\", \"musharraf\", \"treason\", \"credit\", \"larrakia\", \"rosebury\", \"hollingworth\", \"israelis\", \"butler\", \"abuse\", \"defector\", \"ambush\", \"palmerston\", \"wisdom\", \"smoke\", \"saa\", \"allegation\", \"association\", \"radio\", \"lung\", \"cancer\", \"statement\", \"pakistan\", \"fire\", \"oil\", \"person\", \"issue\", \"rate\", \"government\", \"attack\", \"australia\", \"general\", \"official\", \"child\", \"war\", \"inquiry\", \"united_state\", \"president\", \"group\", \"time\", \"india\", \"meeting\", \"way\", \"year\", \"country\", \"world\", \"death\", \"community\", \"man\", \"hour\", \"security\", \"mitsubishi\", \"crush\", \"olympic\", \"freeman\", \"taliban_force\", \"amwu\", \"downer\", \"cow\", \"centrelink\", \"embassy\", \"hoax\", \"suspicion\", \"confession\", \"tran\", \"coordination\", \"parore\", \"umpire\", \"zimbabwean\", \"magna\", \"murray\", \"airspace\", \"reject\", \"resolve\", \"sanction\", \"arbitration\", \"sri\", \"soil\", \"downgrade\", \"historian\", \"foreign_affair\", \"hick\", \"gain\", \"saadi\", \"termination\", \"india\", \"maker\", \"doug\", \"track\", \"property\", \"mcgrath\", \"case\", \"dispute\", \"australia\", \"company\", \"japan\", \"asylum_seeker\", \"suicide_attack\", \"commonwealth\", \"union\", \"authority\", \"palestinian\", \"effort\", \"person\", \"sydney\", \"fire\", \"commission\", \"day\", \"job\", \"today\", \"decision\", \"report\", \"man\", \"meeting\", \"area\", \"government\", \"afghanistan\", \"party\", \"worker\", \"yesterday\", \"official\", \"group\", \"attack\", \"leader\", \"state\", \"united_state\", \"brain\", \"sinai\", \"casino\", \"pott\", \"gaming\", \"embryo\", \"cell\", \"catastrophe\", \"wrongdoing\", \"abegglen\", \"jackson\", \"woomera\", \"supervisor\", \"sorrow\", \"nitzanit\", \"uprising\", \"tanami\", \"observation\", \"rifle\", \"kerb\", \"tissue\", \"precursor\", \"congressman\", \"variety\", \"mouse\", \"recrimination\", \"deserve\", \"nursing\", \"compassion\", \"fencing\", \"virus\", \"vehicle\", \"unrest\", \"user\", \"panel\", \"alice\", \"israeli_army\", \"repayment\", \"peru\", \"argentina\", \"gang\", \"judge\", \"firework\", \"surrender\", \"militant\", \"elder\", \"facility\", \"centre\", \"river\", \"detainee\", \"government\", \"opposition\", \"training\", \"leader\", \"hamas\", \"polouse\", \"accident\", \"fire\", \"airport\", \"time\", \"day\", \"member\", \"person\", \"afghan\", \"year\", \"group\", \"power\", \"police\", \"palestinian\", \"man\", \"area\", \"child\", \"month\", \"australia\", \"court\", \"yesterday\", \"hour\", \"security\", \"today\", \"city\", \"israel\", \"ticket\", \"gutnick\", \"gerber\", \"amalgamation\", \"project\", \"megawati\", \"fare\", \"evan\", \"dfat\", \"pickup\", \"nomination\", \"slip\", \"picture\", \"club\", \"comedy\", \"seat\", \"tax\", \"actress\", \"treasurer\", \"habeel\", \"flash\", \"balmer\", \"saviour\", \"szondy\", \"difference\", \"football\", \"cherry\", \"chris\", \"flurry\", \"gunship\", \"mohamad\", \"reserve\", \"summit\", \"gas\", \"walker\", \"delay\", \"door\", \"option\", \"howard\", \"east_timor\", \"storm\", \"economy\", \"pakistan\", \"quarter\", \"party\", \"president\", \"year\", \"troop\", \"issue\", \"report\", \"per_cent\", \"indonesia\", \"afghanistan\", \"united_state\", \"fire\", \"force\", \"talk\", \"australia\", \"day\", \"state\", \"area\", \"fighter\", \"test\", \"government\", \"india\", \"person\", \"man\", \"rate\", \"sydney\", \"hour\", \"world_heritage\", \"sultan\", \"banksa\", \"mentha\", \"symptom\", \"dempsey\", \"schneider\", \"typhoid\", \"stringer\", \"local\", \"luggage\", \"journal\", \"atlanta\", \"villawood\", \"containment\", \"midwife\", \"bail\", \"bis\", \"slumping\", \"immunity\", \"link\", \"shrapnel\", \"remainder\", \"complexity\", \"size\", \"sheer\", \"pattern\", \"truckload\", \"retreat\", \"cano\", \"kashmir\", \"datum\", \"redundancy\", \"taylor\", \"management\", \"climate\", \"difficulty\", \"century\", \"behaviour\", \"sheet\", \"woman\", \"team\", \"use\", \"health\", \"hospital\", \"line\", \"fire\", \"area\", \"month\", \"attack\", \"money\", \"level\", \"condition\", \"tree\", \"hour\", \"metre\", \"ice\", \"australia\", \"state\", \"man\", \"sydney\", \"world\", \"week\", \"detainee\", \"day\", \"power\", \"decision\", \"group\", \"pressure\", \"person\", \"child\", \"today\", \"security\", \"government\", \"morning\", \"authority\", \"report\", \"hilton\", \"dissatisfaction\", \"sutton\", \"focus\", \"ash\", \"river_gorge\", \"insight\", \"stopping\", \"deny\", \"colour\", \"bernard\", \"explosion\", \"driver\", \"suitcase\", \"installation\", \"queue\", \"benare\", \"farmer\", \"hare\", \"terminal\", \"fraud\", \"airlift\", \"jan\", \"truss\", \"terrence\", \"drug\", \"devotee\", \"scatter\", \"obesity\", \"express\", \"jerusalem\", \"franc\", \"sele\", \"christmas\", \"union\", \"drop\", \"israel\", \"explosive\", \"official\", \"guide\", \"hamas\", \"worker\", \"start\", \"britt\", \"israeli\", \"time\", \"pay\", \"palestinian\", \"security\", \"airline\", \"set\", \"death\", \"person\", \"weapon\", \"per_cent\", \"qanta\", \"meeting\", \"yasser_arafat\", \"member\", \"month\", \"australia\", \"today\", \"year\", \"government\", \"attack\", \"area\", \"hour\", \"morning\", \"afghanistan\", \"friedli\", \"shepherd\", \"battlefield\", \"motorway\", \"belgium\", \"darren\", \"explanation\", \"lleyton\", \"legal_advice\", \"hewitt\", \"ridge\", \"grave\", \"ypre\", \"cemetery\", \"pilkem\", \"bypass\", \"bituman\", \"serviceman\", \"flander\", \"graveyard\", \"context\", \"wimbledon\", \"finalist\", \"breakup\", \"stoltenberg\", \"semi\", \"coaching\", \"dedication\", \"jason\", \"catholic\", \"lockett\", \"abortion\", \"draft\", \"question\", \"route\", \"forest\", \"mcgauran\", \"storm\", \"defunct\", \"handling\", \"hopman\", \"hornsby\", \"swan\", \"step\", \"qanta\", \"sydney\", \"demonstrator\", \"commonwealth\", \"zimbabwe\", \"brisbane\", \"abuse\", \"tree\", \"worker\", \"company\", \"damage\", \"union\", \"morning\", \"family\", \"today\", \"think\", \"staff\", \"service\", \"director\", \"bill\", \"person\", \"world\", \"time\", \"year\", \"child\", \"office\", \"member\", \"action\", \"australia\", \"area\", \"wale\", \"government\", \"day\", \"prize\", \"burakin\", \"quake\", \"earthquake\", \"nobel\", \"nail\", \"hass\", \"emission\", \"rabbani\", \"escort\", \"bulli\", \"kieren\", \"pollutant\", \"upset\", \"matt\", \"julia\", \"ham\", \"elimination\", \"finish\", \"pool\", \"spa\", \"motorist\", \"kemp\", \"mosis\", \"swimmer\", \"heater\", \"attendant\", \"format\", \"skin\", \"jone\", \"event\", \"redmond\", \"metre\", \"ray\", \"petrol\", \"road\", \"race\", \"highway\", \"england\", \"water\", \"man\", \"leader\", \"labor\", \"family\", \"president\", \"company\", \"minister\", \"verdict\", \"government\", \"life\", \"person\", \"world\", \"woman\", \"law\", \"flight\", \"building\", \"year_old\", \"attack\", \"australia\", \"state\", \"month\", \"security\", \"action\", \"child\", \"airline\", \"today\", \"day\", \"union\", \"meeting\", \"product\", \"maguire\", \"housing\", \"bayliss\", \"hooke\", \"grocery\", \"utn\", \"disrepute\", \"shelve\", \"brand\", \"crop\", \"mitch\", \"ingredient\", \"mcmenamin\", \"expectation\", \"outrage\", \"yachting\", \"economist\", \"skepticism\", \"rialto\", \"glenn\", \"equity\", \"zealander\", \"afroz\", \"cocoon\", \"dun\", \"slowing\", \"consensus\", \"market\", \"juan\", \"sponsor\", \"faith\", \"quarter\", \"consumer\", \"food\", \"profit\", \"growth\", \"computer\", \"record\", \"account\", \"sir\", \"virus\", \"internet\", \"per_cent\", \"militia\", \"attack\", \"man\", \"trade\", \"company\", \"union\", \"australia\", \"united_state\", \"world\", \"service\", \"weapon\", \"person\", \"group\", \"today\", \"september\", \"government\", \"time\", \"day\", \"staff\", \"year\", \"report\", \"claim\", \"leader\", \"child\", \"talk\", \"afghanistan\", \"death\"], \"loglift\": [30.0, 29.0, 28.0, 27.0, 26.0, 25.0, 24.0, 23.0, 22.0, 21.0, 20.0, 19.0, 18.0, 17.0, 16.0, 15.0, 14.0, 13.0, 12.0, 11.0, 10.0, 9.0, 8.0, 7.0, 6.0, 5.0, 4.0, 3.0, 2.0, 1.0, 1.3624, 1.3484, 1.3375, 1.3155, 1.313, 1.3023, 1.2898, 1.2885, 1.2816, 1.2807, 1.2801, 1.2754, 1.2604, 1.2416, 1.226, 1.2202, 1.2145, 1.2031, 1.1976, 1.1956, 1.1866, 1.1862, 1.161, 1.1609, 1.1579, 1.1403, 1.1378, 1.1314, 1.1289, 1.124, 1.1226, 1.0796, 1.0926, 1.0736, 1.0763, 0.8856, 0.9587, 0.8857, 0.7272, 1.0798, 0.8081, 0.5759, 0.9978, 0.34, 0.6442, 0.6384, 0.7246, 0.4351, 0.0644, 0.1115, 0.4129, 0.3769, 0.3861, 0.6796, 0.1193, 0.1078, 0.0892, 0.1298, 0.0618, 0.023, 0.3543, -0.0612, 0.1552, 0.1286, 1.9133, 1.8955, 1.846, 1.8442, 1.8161, 1.8161, 1.8161, 1.8161, 1.8161, 1.8161, 1.8161, 1.8161, 1.7677, 1.7665, 1.7661, 1.7566, 1.7262, 1.7108, 1.7078, 1.6912, 1.6609, 1.6546, 1.6344, 1.6257, 1.6159, 1.5996, 1.5975, 1.5919, 1.5904, 1.5841, 1.5821, 1.572, 1.4399, 1.5472, 1.3267, 1.4309, 1.3223, 1.1423, 1.0231, 0.704, 1.4275, 0.2913, 0.9159, 0.9431, 0.3195, 0.444, 0.1696, 1.1528, 0.5457, 0.491, 0.5801, 1.077, 0.3459, 0.3733, 0.1953, 0.0843, 0.5205, 0.2547, 0.396, -0.0417, 0.4558, 0.1596, 0.4687, 0.59, -0.2697, -0.0281, -0.2079, 2.035, 1.9358, 1.9358, 1.9358, 1.882, 1.8497, 1.8105, 1.7736, 1.756, 1.7252, 1.6999, 1.6999, 1.6999, 1.6999, 1.6999, 1.6999, 1.6999, 1.6999, 1.6999, 1.6877, 1.6803, 1.6796, 1.6752, 1.6675, 1.656, 1.6541, 1.6414, 1.6312, 1.6022, 1.6012, 1.6002, 1.5932, 1.5999, 1.5985, 1.1832, 1.5243, 1.476, 1.4367, 1.3356, 1.4764, 1.2251, 1.2439, 0.6922, 0.7841, 1.3972, 1.1402, 1.3047, 1.1583, 0.5854, 0.7193, 0.6983, 1.1684, 0.1509, 0.545, 0.4198, 0.7098, 0.1884, 0.8161, 0.3447, 0.8929, 0.4626, 0.2249, 0.4401, 0.2016, -0.0346, 0.1446, 0.6478, 0.6285, 0.2774, 0.3289, 0.0399, -0.0806, 0.2638, 0.2645, 0.1151, 2.165, 2.0805, 2.0743, 1.9867, 1.9598, 1.9167, 1.8873, 1.8393, 1.8338, 1.8291, 1.8278, 1.8249, 1.8217, 1.8102, 1.7617, 1.7617, 1.7617, 1.7617, 1.7617, 1.7617, 1.7617, 1.7617, 1.7617, 1.7617, 1.7617, 1.7617, 1.7563, 1.7561, 1.7557, 1.7552, 1.6935, 1.6547, 1.6633, 1.6012, 1.6556, 1.7053, 1.5373, 1.6925, 1.6453, 1.3914, 1.5066, 1.5785, 1.584, 1.4335, 1.1482, 1.4835, 1.2838, 0.9433, 1.1125, 1.1257, 0.4557, 1.0102, 1.0985, 0.6369, 1.0031, 0.8104, 1.2265, 0.4, 0.9553, 0.304, 0.0978, 0.465, -0.0959, 0.5929, 0.1983, 0.2513, 0.455, 0.5282, 0.4894, 0.0386, -0.0169, 0.2613, 0.1949, -0.6414, 0.7553, 0.1523, 0.0837, -0.0944, -0.2238, 0.3191, 0.0651, 2.2037, 2.14, 2.0695, 2.0, 1.9939, 1.9676, 1.9435, 1.9077, 1.8807, 1.8558, 1.8539, 1.8507, 1.8322, 1.825, 1.8208, 1.8136, 1.8082, 1.8044, 1.8021, 1.7932, 1.7799, 1.763, 1.7614, 1.7614, 1.7614, 1.7614, 1.7614, 1.7614, 1.7614, 1.7614, 1.7516, 1.7386, 1.6591, 1.63, 1.6985, 1.6361, 1.679, 1.5591, 1.4639, 1.3913, 1.2022, 1.1268, 0.9012, 1.422, 0.9739, 0.7917, 0.6419, 0.9083, 0.9371, 0.6464, 0.7825, 1.339, 0.35, 0.4717, 0.3307, 0.3471, 0.7674, -0.022, 0.0636, 0.4882, 0.2178, 0.7659, 0.4231, -0.1748, 0.5632, -0.5999, -0.166, 0.748, -0.0064, -0.0287, 2.1909, 2.1194, 2.0298, 2.0298, 2.022, 1.9939, 1.9872, 1.9263, 1.9254, 1.9165, 1.9138, 1.8985, 1.8949, 1.8646, 1.7886, 1.7853, 1.7566, 1.7553, 1.7553, 1.7553, 1.7553, 1.7553, 1.7553, 1.7553, 1.7553, 1.7553, 1.7553, 1.7553, 1.7553, 1.7553, 1.7415, 1.7143, 1.7038, 1.7071, 1.5912, 1.6932, 1.6467, 1.491, 1.6852, 1.6262, 1.3056, 1.1574, 1.3461, 1.2196, 1.0327, 1.0629, 0.6721, 0.5523, 0.6853, 0.4772, 1.1782, 1.1255, 0.9446, 1.0456, 0.4932, 0.8096, 1.3533, 0.0112, 0.4799, 0.1719, 0.3474, 0.3345, 0.4434, 0.8399, -0.137, 0.3428, 0.7836, 0.0497, 0.7305, -0.5019, 0.1849, -0.0959, -0.0059, -0.4739, 0.2497, 0.3251, 0.0821, 2.1474, 2.0194, 2.0141, 2.0008, 1.9385, 1.9129, 1.9129, 1.9129, 1.9129, 1.9129, 1.9129, 1.9129, 1.9129, 1.9129, 1.9129, 1.9128, 1.8605, 1.8434, 1.838, 1.8181, 1.8089, 1.796, 1.7911, 1.788, 1.7858, 1.7794, 1.7719, 1.7651, 1.7627, 1.7616, 1.7368, 1.7192, 1.6329, 1.2086, 0.9587, 1.3678, 0.881, 1.3894, 0.8319, 1.1891, 1.1076, 0.9303, 1.0836, 1.6518, 1.0719, 0.4975, 0.9618, 0.6671, 0.3529, 0.7309, 0.7568, 0.6722, -0.1668, 0.9507, 0.6127, 0.8408, 0.3226, 0.7481, 0.2334, 0.2026, -0.4843, -0.0684, -0.0879, -0.491, -0.2025, -0.2252, 0.0412, 0.1641, -0.3777, 2.2684, 2.2417, 2.1937, 2.1937, 2.1937, 2.1928, 2.1803, 2.1037, 2.0888, 2.0782, 1.9592, 1.9592, 1.9592, 1.9592, 1.9592, 1.9592, 1.9592, 1.9592, 1.9592, 1.9592, 1.9592, 1.9583, 1.9583, 1.9581, 1.9581, 1.9581, 1.958, 1.9578, 1.9577, 1.9213, 1.9057, 1.8958, 1.8419, 1.7017, 1.7875, 1.7692, 1.894, 1.4801, 1.8318, 1.8239, 1.7678, 1.7633, 1.7058, 1.5678, 1.3327, 1.0692, 1.8613, 1.413, 1.6908, 1.3978, 1.2387, 1.2042, 0.9427, 0.5692, 1.0524, 0.6225, 0.7175, 0.8773, 0.4432, 0.9831, 0.7173, 0.6985, 0.755, 1.1361, -0.2984, 0.3381, 0.0722, 0.059, 0.2793, 0.8169, 0.2379, 0.4753, -0.6777, -0.1804, 0.4033, -0.6206, -0.6191, 2.2318, 2.1893, 2.1893, 2.1893, 2.1848, 2.1681, 2.1661, 2.0824, 2.0517, 2.0508, 2.0286, 2.0173, 2.014, 2.0119, 2.0057, 2.002, 1.997, 1.9954, 1.9939, 1.9937, 1.9886, 1.9846, 1.9776, 1.9741, 1.9737, 1.9682, 1.9658, 1.9592, 1.9564, 1.9556, 1.8011, 1.8846, 1.6046, 1.7217, 1.8316, 1.4205, 1.3321, 1.5541, 1.8896, 1.2287, 0.6059, 0.7861, 1.0725, 0.8739, 0.6072, 0.417, 0.731, 1.276, 0.0858, 0.959, -0.1735, 0.4261, 1.0262, 0.8138, 0.775, 0.9439, 0.6262, -0.0407, -0.4647, 0.2814, 0.2048, 0.0083, 0.4168, 0.1706, 0.5933, -0.1433, -0.4971, -0.0207, 0.1433, 2.6009, 2.3729, 2.3655, 2.3652, 2.3639, 2.3639, 2.3448, 2.1073, 2.1073, 2.1073, 2.1073, 2.1073, 2.1073, 2.0739, 2.0704, 2.066, 2.0414, 2.0361, 2.0303, 2.0138, 2.0065, 2.0063, 2.0036, 1.9942, 1.9831, 1.9784, 1.9467, 1.9418, 1.938, 1.9153, 1.8696, 1.8663, 1.7469, 1.7554, 1.7491, 1.7654, 1.5848, 1.7344, 1.6303, 1.6542, 1.5379, 1.5258, 1.6419, 1.0078, 1.2752, 0.54, 0.4677, 1.5442, 0.4599, 0.5346, 0.1378, 0.5671, 0.5482, 0.696, 1.0471, -0.2186, 0.1991, 0.1096, 1.1143, -0.2387, 0.0663, -0.2653, 0.5239, -0.0126, 0.2076, 0.797, 0.1575, 0.0717, 0.5783, -0.3583, 0.4356], \"Freq\": [51.0, 62.0, 21.0, 47.0, 23.0, 60.0, 14.0, 29.0, 13.0, 15.0, 115.0, 38.0, 9.0, 16.0, 68.0, 19.0, 66.0, 5.0, 8.0, 27.0, 8.0, 14.0, 44.0, 28.0, 22.0, 15.0, 41.0, 31.0, 17.0, 39.0, 3.1025419768375206, 12.342452441469348, 6.742689926809654, 9.414080678158513, 2.913774765559924, 2.887028478207126, 10.577130878456751, 7.086807950263558, 6.416651087251838, 3.5211722186479544, 2.8231199903176467, 3.5174373939564023, 2.7491106563131273, 2.010328804791505, 1.9731486203682156, 2.603066203850122, 2.615594371265476, 5.615337881213981, 5.1072381710063, 1.9042128992917673, 1.8921803877927552, 2.4703217005639404, 2.4463593031100235, 3.661286819895678, 1.8332688880255874, 1.7683607660550198, 2.9690728732907608, 4.651316255290431, 1.779061086723332, 14.55950963396381, 2.907385654912141, 11.778381708091501, 4.943613167439274, 6.51947291325314, 5.610250468936306, 29.05292953808669, 11.767714913090883, 19.981302281903062, 29.666155930631845, 4.477151847422918, 15.780534250921447, 35.10096380453274, 6.0419876098867915, 37.72299434600618, 15.503657320201814, 14.219102480045684, 10.220237606735608, 18.310451483455978, 25.735158894291022, 23.132305132911423, 13.727861217235354, 14.058331985732819, 13.857168839567182, 8.638589139415755, 15.35636275204696, 14.768498642020527, 14.803861985826822, 13.704734862259016, 14.11751383413939, 14.261709467768412, 11.208014742977511, 13.326642156245708, 11.493814078168967, 11.13141984938447, 2.657997715547347, 4.587717762292378, 2.4589416624905347, 3.096004775407685, 1.8005862635427836, 1.8005817332503304, 1.8005807685482818, 1.8005802762419567, 1.800579796968747, 1.8005787936505506, 1.8005773999140644, 1.8005737932807921, 1.7037636855310387, 1.7015166558312194, 3.4224359480456794, 1.6825415691808068, 2.2490140366556632, 5.5036393449760865, 1.6084659210307908, 3.120045815049795, 1.5656498532423093, 1.5567703776407686, 3.5154273560018527, 1.4639641118291278, 1.475340206632685, 8.15779033257568, 1.4474551441450625, 1.4133404545808959, 1.4683134664315634, 0.9431647196902359, 3.323550345789861, 1.879924226649655, 5.992699081908095, 2.2306477319842055, 10.070553415907334, 3.704689436681678, 5.784499216540155, 8.625902438886568, 12.35079064317279, 14.656983053462197, 2.8798004500019796, 19.998074250101745, 6.691836837882842, 6.252734577086975, 15.854048202122435, 12.09400453141974, 15.913069681538065, 4.24564156145954, 7.977816890806719, 8.431806659491619, 6.914137746587936, 3.9151303098859116, 7.742448763606376, 7.455409121129433, 8.145405252540842, 8.02976589955507, 5.667682804886556, 6.406490736426824, 5.909958283458779, 7.085485588223774, 5.68355656050857, 6.114626003034062, 5.329218160007117, 5.0483286024713125, 6.0215176040016445, 5.297473552642632, 5.358277221905961, 2.5954920336202747, 1.7582356353479105, 1.7582325519245583, 1.7582274312846056, 3.357194411466207, 2.1589616798813336, 5.659345901930902, 2.5998455902341115, 1.876922283237704, 2.8669013411917836, 0.920982031615073, 0.9209820030546634, 0.92098199506063, 0.9209819173237725, 0.9209810799459693, 0.9209799650710156, 0.9209796117138042, 0.9209788482136361, 0.9209786023008314, 1.7582392007581593, 1.82828940518712, 1.8045527468105822, 1.7980494952414297, 2.205269396676519, 1.7582317733597002, 1.3320849603501732, 1.7296080392318103, 1.7351995977179122, 0.8429921804675697, 1.6805721342474638, 5.462205231718607, 2.0646065354769907, 1.6847087430820695, 1.6097112490719916, 9.68040593839719, 1.9298638263298578, 2.2350234267971265, 2.5595518418296197, 3.7150150882668, 2.140500920005691, 5.4673496043274925, 4.678036161239011, 23.625702743385435, 13.494797300274744, 2.748384759440887, 5.313914707724537, 3.4836183295321077, 4.051812074195242, 9.485746599892375, 7.521042612096956, 7.418170162243745, 3.7394602782969875, 15.301032194887561, 8.384494403582893, 9.71088298500883, 6.487413621668305, 11.675440135371387, 5.554487182459483, 9.366768830950502, 4.879582324679848, 7.249160578148847, 8.693906787648574, 6.788959483436475, 8.171463181785056, 9.795498272344698, 8.11884509421211, 5.348880113379064, 5.2710817834721375, 5.874840421789838, 5.654282356076073, 6.139096816962925, 6.30100633495589, 5.573625265395007, 5.475466605751722, 5.411421912587022, 4.562110917102678, 2.7730751952529946, 3.419917789372324, 1.8785296476640139, 1.819785881264683, 4.0453764440104925, 3.8794463846704756, 1.6103726446980131, 1.6010437923499894, 1.5932647739653099, 1.5911652251748059, 4.707306690722017, 1.5810383201845273, 1.5622761270359469, 0.9839948533649658, 0.9839942630011101, 0.9839941329209978, 0.9839938492109536, 0.9839932426658108, 0.9839916687903559, 0.9839871867318686, 0.9839867707998784, 0.9839866198514357, 0.9839850705354496, 0.9839841190040169, 0.9839816518888723, 0.9786095527001673, 0.9783350469017112, 0.9779732057244688, 0.9775136687625472, 4.813262505052807, 4.280393323409048, 3.022813405432171, 2.7815667189916833, 1.8189189949072362, 1.3486899870583073, 3.1496257114602106, 1.3905223942717175, 1.6876155299145703, 4.249705016282352, 2.695000638448206, 1.9950773776497026, 1.9419057358731013, 3.391955721988205, 8.085702938114736, 2.618737501689202, 4.8568430647274905, 9.607699988345558, 6.078923034214888, 5.4855732628114655, 15.524599428889445, 5.612866151618525, 4.578989629483733, 7.856150886475486, 4.547269812894054, 5.745439743455969, 3.3822484926234018, 9.241463268215702, 4.628669065529604, 8.547672805863694, 10.351274386849648, 7.132225874011913, 11.603076575063186, 6.052510793612383, 7.697309609335415, 7.360862586793191, 6.103125943515193, 5.8377010621715915, 5.8427529745609315, 7.00368298956496, 6.374337787222787, 5.726581540246449, 5.467924474014185, 6.043219459035922, 4.756370542654904, 5.032130143082689, 5.0623157727502806, 5.1291733105646955, 5.149305772548351, 4.914611449956165, 4.895915145540969, 2.891370308117603, 2.1861592106923897, 3.125594947693686, 1.4468403014102484, 5.705962922805963, 1.408888246430697, 1.3874432602059579, 1.348255248116785, 1.2999779487665641, 1.2688172362198522, 1.2875068624843748, 2.186152502751267, 1.6658089227315402, 4.053836571416437, 1.253510889791951, 1.232607206367163, 1.957625270811409, 1.2360924535433724, 2.4257438243748215, 1.5550364050460899, 1.2033196249695222, 1.1852823132546855, 0.7757355674423969, 0.7757355429471385, 0.7757353638790898, 0.7757347483735025, 0.7757345786395522, 0.7757345470777399, 0.775734361823635, 0.7757340780038297, 1.4924771007489936, 1.5299477995959867, 2.5137754741990994, 3.025834466838297, 1.450652093954702, 2.5004803250121848, 1.4637140741902543, 3.358696218103459, 3.872125748338387, 3.9252395569559866, 6.146687618263408, 6.212995089906102, 8.287937789671048, 2.707429433459327, 6.38074925530538, 8.587276281091235, 10.639584190762378, 5.682322585466494, 5.181451753897294, 7.5004734008755936, 5.539618956487792, 2.697102811939704, 8.58377341729845, 6.655447900154182, 7.648080559516925, 7.153879504729449, 4.739369149497648, 9.958869636390956, 8.872689216772386, 5.896117176182988, 7.1497454967598415, 4.396893640561626, 5.308040903221037, 7.330369397009362, 4.483589508124202, 6.217585680211176, 5.063027123293517, 3.8995718595553623, 4.159171855361097, 4.012884841208076, 2.66790691315651, 3.024908900941191, 1.3990023236061122, 1.3990007705318424, 1.849731472195344, 1.351460332573501, 1.3427535681519116, 1.272738649796428, 1.2785739139435996, 1.2608515681722363, 1.266459990798533, 1.248368151583967, 1.2457975499494867, 1.2123881285506175, 2.305599360729522, 1.4697907653145788, 1.457534588284967, 0.7328112099735125, 0.7328110346862381, 0.732810898156273, 0.7328106842627515, 0.7328104826832981, 0.7328102531111259, 0.7328100967070879, 0.732810017955278, 0.7328099752144668, 0.7328094491638216, 0.7328092761542342, 0.7328085410269686, 0.7328085184955768, 1.7683592654761575, 1.761110849725778, 2.0651923129671386, 1.3990031974976387, 4.083866602950908, 1.401035667830655, 1.3990033200129104, 2.622346703666866, 1.0246345386932394, 1.324421942430048, 5.02940059644315, 8.513965736055285, 3.5465984977886804, 4.590283079255283, 6.192903409856374, 5.234842471706325, 10.49780249352775, 9.745851052578443, 7.72624898788828, 9.244542635952083, 3.255861308597338, 3.4217770568529806, 4.2407714225643405, 3.606639894304943, 6.597415856625637, 4.526276054210285, 2.387591508022055, 10.043916665142183, 5.704188882677839, 6.924760894550393, 5.779615597144234, 5.385608100069446, 4.915330106677815, 3.5667763218091246, 7.082609763034739, 4.720670335795934, 3.6742046001156212, 5.206693158409136, 3.7707040216195544, 6.690086154669749, 4.590838858509046, 5.064065081052943, 4.8488185509548725, 5.3024218305184245, 4.383732634853767, 4.259402758829728, 4.161632555627826, 1.7730815414366785, 1.5525990736525017, 1.544909124590766, 3.068792077477874, 2.8815179131662676, 0.9287597389966749, 0.9287595752207022, 0.9287594441274267, 0.9287582630589392, 0.9287575987272707, 0.9287574730907607, 0.928757297816626, 0.9287569794781841, 0.9287563948053716, 0.928755828798848, 0.9287527654994011, 2.2138264182960707, 3.996915095028903, 2.601583192397368, 1.6891699382355227, 0.8346633670620611, 1.2477353349465512, 1.6099655590323172, 1.231680188710317, 0.815008158339102, 2.900318331161453, 1.618853389874924, 1.2030775781973968, 1.6350166864176134, 0.7954810905443772, 2.7524494181173185, 2.2745481210378684, 2.712812972736899, 6.856651364908979, 11.181171252686244, 3.4240683712680613, 9.255343895251269, 2.5852030043546494, 7.587802750956987, 3.789230491040019, 4.220736100148318, 5.7843664597740965, 3.960467199449663, 1.462715653667014, 3.894931029987749, 8.672232103449616, 4.253174285989385, 5.834797732963245, 6.70693633856603, 4.521043152174633, 4.3467449638197335, 4.666839323042138, 9.036583585045552, 3.482870619291793, 4.405703771211953, 3.756117568547752, 4.898766510711144, 3.770372462312787, 4.730378166539385, 4.606759858678776, 5.9122605804521315, 5.029223503974664, 4.833764093773332, 5.0358910392527205, 4.526475342551822, 4.3273497508667225, 4.0562293762966295, 3.888185955511026, 3.9080055603596735, 4.487591289841496, 2.5035156652032042, 1.7731035793410264, 1.7731024091816323, 1.773098980648313, 1.7710815127267676, 3.9746482142035866, 2.1345154814322607, 3.653546216554807, 6.186467302037158, 0.9287689655282338, 0.9287683820244795, 0.9287679764392099, 0.9287675138418408, 0.9287672538465909, 0.928767282389178, 0.9287668751561982, 0.9287667979783665, 0.928766454494369, 0.9287661818068847, 0.9287651073974946, 0.9278690639605865, 0.9277845073508212, 0.9276409787589824, 0.9276402980021685, 0.9276369414424193, 0.9275475541165219, 0.9273235564094306, 0.9272259785792686, 0.8971348021181755, 3.110767730595664, 1.716629110788303, 2.5314674268233492, 4.7072696612412255, 2.778025972377224, 2.266199147616032, 1.2566477225391008, 7.30319316410076, 1.5988900732105307, 1.6187523144311646, 1.879808759627829, 1.8839193106987562, 2.101246310831843, 3.178139693179008, 5.864869691255392, 10.973080889420281, 1.2114022521277055, 4.04961510236414, 1.7539971764365656, 3.2645604885749857, 3.878885405631136, 3.8987669628771022, 5.591139427486334, 8.433768849007915, 4.483590250825249, 7.62699556686916, 6.455726745252752, 5.170853047183709, 8.008134904489822, 4.346155115662563, 5.16472080511022, 5.100347467592685, 4.679875749043892, 3.624636812135939, 7.563962044150272, 4.98616251247174, 5.411132083647224, 5.344936615439739, 4.654067406437198, 3.9085452488942383, 4.536475635752809, 4.237468288531519, 4.6520101762968755, 4.320781154318131, 4.065263098305614, 4.223664492544346, 4.034187385195235, 2.090494707326456, 1.518527817773515, 1.518525132467166, 1.5185213069602326, 1.5116226286324062, 2.435003957374783, 2.429050099996913, 1.8421642056349683, 2.707939388482816, 1.3508624689919924, 1.3200809717083544, 2.5181985624775676, 1.2954278070022702, 1.2712925086942748, 1.2656638999613388, 1.2564713094433815, 1.2508602106143532, 1.247272727015083, 1.2514353575707182, 1.247688218472218, 1.239619613431851, 1.2697684129936468, 1.2530604860977403, 1.2225079632401548, 2.4181261799889615, 1.2171979568548257, 1.6610351031118427, 1.205000070292034, 1.2036259477398457, 1.2003407439124345, 6.919593846886744, 1.9185466172027688, 8.807705401862373, 2.6920703435697315, 1.8533541582869684, 5.127061901558725, 5.1241066099109664, 3.065785117985793, 1.5075628230509648, 4.291075407229338, 9.391916135259528, 6.935106761498467, 4.540583312266791, 4.908894089568043, 6.1212797889649515, 6.899931655107542, 4.824604120605205, 2.7621844289219846, 8.154489859179797, 3.5759036711690917, 8.163624806269597, 5.18670712096727, 3.3421712596890165, 3.816905225829621, 3.783141894572596, 3.256669401446221, 3.6668250891605956, 4.839535762479667, 5.483107067725253, 4.110024785317244, 4.198962331544111, 4.321587985046589, 3.8071446639950857, 3.976840628095533, 3.5828819756177928, 4.243521058388918, 4.341399947533232, 3.8186890981866775, 3.723882439835635, 4.513988117311739, 2.0804772320449727, 2.067409837482548, 2.0656734848584386, 1.553993987309399, 1.5539903508831745, 2.0036953720672965, 0.8139990950881035, 0.8139978619220428, 0.813997557023318, 0.8139972027585199, 0.8139966181432312, 0.8139907004016937, 1.9960784487776715, 1.1633876405707109, 1.181596188799756, 1.1584510712441416, 1.1463724211848438, 0.7592089594461102, 0.747917400254831, 0.7378811060059836, 0.7374639810019045, 1.1216929331412329, 0.7347115674806947, 0.7216104546295071, 1.0590273190701762, 0.696160324939392, 0.6923594396253506, 6.123817642285082, 1.026120445539271, 1.6495054234482878, 1.3082124171010399, 2.7193931127478583, 2.293995832401918, 2.2939927281842745, 2.0210284617665457, 3.4582413513772736, 1.9915438446779246, 2.5623726187912523, 2.160684580403376, 2.618295264305345, 2.620315879857261, 1.8033236631206866, 5.036824612440894, 2.982079445316619, 7.324089820328589, 6.925658577158578, 1.8912989151843251, 6.098464868927731, 5.633899281664013, 8.480951006202924, 5.314232320357346, 4.962166238948242, 4.103457446536692, 2.953443132739733, 6.607735940429783, 4.4983893040053875, 4.627195896644578, 2.8097749716981597, 4.991307933318, 4.339212821956613, 4.634922928429312, 3.4332228434044683, 4.013433709325984, 3.510459651062326, 2.852509460803441, 3.131850186980896, 3.050173091966209, 2.847126226819107, 3.06834275279883, 2.836628834504024], \"Total\": [51.0, 62.0, 21.0, 47.0, 23.0, 60.0, 14.0, 29.0, 13.0, 15.0, 115.0, 38.0, 9.0, 16.0, 68.0, 19.0, 66.0, 5.0, 8.0, 27.0, 8.0, 14.0, 44.0, 28.0, 22.0, 15.0, 41.0, 31.0, 17.0, 39.0, 3.813800102712511, 15.387321568082967, 8.498163046617439, 12.128955239439712, 3.7631478620849497, 3.768996634405292, 13.981028753702946, 9.379829996438724, 8.551550854970635, 4.697208983957532, 3.7681350175215322, 4.717240275802492, 3.7422906156119664, 2.7885759743142526, 2.780177897868949, 3.6891109985272443, 3.7280649318626695, 8.09470951346874, 7.403092534401287, 2.765805481345377, 2.7731828775282876, 3.6219778605232658, 3.6783724516883205, 5.505485785557765, 2.7648989666866117, 2.714511979405972, 4.568806989419679, 7.203445419648948, 2.762222892532294, 22.717180606444384, 4.542691597875295, 19.210883846624405, 7.959380755942151, 10.698229606036211, 9.181279156307848, 57.53262534602013, 21.660857667532042, 39.56347943763894, 68.83429624293207, 7.300903325089858, 33.768614671340245, 94.74318821136092, 10.695582324645008, 128.9047555768348, 39.08531509164592, 36.05528394476082, 23.775233648830707, 56.89547575744763, 115.84826591046077, 99.34459558809066, 43.61561807568725, 46.30271839093451, 45.2212929413144, 21.020618578124598, 65.43800142008982, 63.66209422518324, 65.01256230047098, 57.791183828799305, 63.71914695070291, 66.9137103435041, 37.75742468632399, 68.01821705841003, 47.251614259786365, 46.99339954144591, 3.38360071682922, 5.944948715211652, 3.3482634619845593, 4.223290819942675, 2.526176109696276, 2.5261757687590185, 2.526175826323263, 2.526175666427091, 2.52617583135443, 2.5261756310149823, 2.5261756036488623, 2.526175388442464, 2.5089883113736717, 2.5085894798091446, 5.04772311482363, 2.5052211090693848, 3.452002018393534, 8.57866859194129, 2.5149075713243194, 4.959515772017813, 2.5654670130046036, 2.566951783161223, 5.91507330734354, 2.4847597302906466, 2.528787468485266, 14.212627193186828, 2.526948264916262, 2.4813238270701716, 2.5817457684727256, 1.668751077283898, 5.892131646960861, 3.366733281095284, 12.247250832479509, 4.095059864936446, 23.047904904281427, 7.640325212858753, 13.297782717549845, 23.73958766247504, 38.29580381613693, 62.52617141214496, 5.959258716464384, 128.9047555768348, 23.097956614099946, 21.003148561745324, 99.34459558809066, 66.9137103435041, 115.84826591046077, 11.562397319751707, 39.87076246435026, 44.50986880717685, 33.3865381716476, 11.502657158165313, 47.251614259786365, 44.273345403109644, 57.791183828799305, 63.66209422518324, 29.04903265268552, 42.83265099205917, 34.30599166254762, 63.71914695070291, 31.077659367473444, 44.96264818073883, 28.767303946271074, 24.136409582517963, 68.01821705841003, 46.99339954144591, 56.89547575744763, 3.3231113931060428, 2.485849902027191, 2.485849515304134, 2.4858490989943953, 5.009023970564224, 3.326801355943226, 9.069878128574969, 4.323085676012768, 3.176294480558286, 5.003639978308916, 1.648587816343766, 1.6485877808877918, 1.6485878194060242, 1.6485878908913953, 1.6485878970425865, 1.6485877575402228, 1.6485877870516785, 1.6485878458618668, 1.6485877189156548, 3.1859367139867762, 3.337512559060654, 3.2964190058056726, 3.2989638739156573, 4.077481316938288, 3.2883601626154646, 2.4961123726715213, 3.282403100489333, 3.326900598929348, 1.6638239028132047, 3.3203907316614654, 10.802113880707502, 4.111913885570517, 3.332687444372548, 3.1887155430098018, 29.04903265268552, 4.117682688653681, 5.004830299643943, 5.960697963655694, 9.572436827946776, 4.791153002839234, 15.73358779144214, 13.21153524045234, 115.84826591046077, 60.3612185240013, 6.6587847183845135, 16.647645000561138, 9.258209104826303, 12.465076864873769, 51.75170150681592, 35.893041946226646, 36.15076531216791, 11.389417769065167, 128.9047555768348, 47.632793153804656, 62.52617141214496, 31.255541803132044, 94.74318821136092, 24.06121492151125, 65.01256230047098, 19.57546169099229, 44.719010434177484, 68.01821705841003, 42.83265099205917, 65.43800142008982, 99.34459558809066, 68.83429624293207, 27.41778093804649, 27.544868192616413, 43.61561807568725, 39.87076246435026, 57.791183828799305, 66.9137103435041, 41.943348226469965, 41.175648163493484, 47.251614259786365, 5.284036062855569, 3.4949592487752263, 4.337080977205831, 2.600414244648282, 2.5879814168165103, 6.00616872157522, 5.93173373166232, 2.583242757641933, 2.5826452886451685, 2.5821470497709678, 2.582012770039287, 7.660667602964808, 2.5813641990318277, 2.580162979143274, 1.705870416416258, 1.7058703237051724, 1.7058703816123095, 1.705870320586523, 1.7058702837524788, 1.7058699634435104, 1.705868332598851, 1.705868293551219, 1.7058683880968994, 1.7058679734329842, 1.705867814304134, 1.7058670638090299, 1.705646912335689, 1.7056356232912564, 1.7056204913280466, 1.705601540001426, 8.933097908148177, 8.258274439033206, 5.782458618810049, 5.661895253932052, 3.506205010540151, 2.473666380315325, 6.834178213993275, 2.5832822425047453, 3.286942837920286, 10.669459856029995, 6.029579110595277, 4.153964234676543, 4.021137950263588, 8.164521877600425, 25.89001257889364, 5.996153065108725, 13.578573169964361, 37.75742468632399, 20.17003474045595, 17.962677871003525, 99.34459558809066, 20.631051696676074, 15.408401543423881, 41.943348226469965, 16.832969987869603, 25.787489242259827, 10.014115703953458, 62.52617141214496, 17.974024976153895, 63.66209422518324, 94.74318821136092, 45.2212929413144, 128.9047555768348, 33.768614671340245, 63.71914695070291, 57.791183828799305, 39.08531509164592, 34.74381999470285, 36.15076531216791, 68.01821705841003, 65.43800142008982, 44.50986880717685, 45.41726305284479, 115.84826591046077, 22.558487155395735, 43.61561807568725, 46.99339954144591, 56.89547575744763, 65.01256230047098, 36.05528394476082, 46.30271839093451, 3.632196992984074, 2.926978968664833, 4.490093553047877, 2.228147428041038, 8.84075858548302, 2.2411067928225514, 2.2609558147423225, 2.2771259474955574, 2.255645881489315, 2.2570103608802117, 2.2947054658414463, 3.90890726567243, 3.0340292245412392, 7.436640421482354, 2.309224493003159, 2.287085029534984, 3.651997780990439, 2.314941380743806, 4.553128152141322, 2.944842665281349, 2.30937260862549, 2.313485845515018, 1.5165434076242945, 1.516543463343811, 1.516543460911254, 1.5165436152592822, 1.5165435637484475, 1.5165436045072271, 1.5165435918789703, 1.5165437060885936, 2.9465730850522673, 3.060007639292462, 5.443918698751075, 6.746074716675837, 3.0202469067418454, 5.54098653330942, 3.1074454098240287, 8.038789982918754, 10.193053768779867, 11.11055757987857, 21.019471356901278, 22.910840188040602, 38.29580381613693, 7.431618192129103, 27.41778093804649, 44.273345403109644, 63.71914695070291, 26.070328460482127, 23.097956614099946, 44.719010434177484, 28.823164675352366, 8.044580706089842, 68.83429624293207, 47.251614259786365, 62.52617141214496, 57.53262534602013, 25.03433649630586, 115.84826591046077, 94.74318821136092, 41.175648163493484, 65.43800142008982, 23.261016502036068, 39.56347943763894, 99.34459558809066, 29.04903265268552, 128.9047555768348, 68.01821705841003, 21.003148561745324, 47.632793153804656, 46.99339954144591, 3.4798255834564857, 4.237879949743478, 2.143716741159847, 2.143717082185511, 2.856477805625637, 2.146501648892366, 2.1470114147894344, 2.16284484295633, 2.1746406138457197, 2.1638332829803275, 2.179157816658206, 2.1811662898228117, 2.184682773404903, 2.1915193768405756, 4.49661616547905, 2.876001798350282, 2.9348509652507953, 1.4775212577575105, 1.4775213068700905, 1.4775213516025476, 1.4775214042359548, 1.4775214431986776, 1.4775215137908035, 1.4775215494869351, 1.477521564416653, 1.4775215759304527, 1.4775216725268232, 1.4775217463667027, 1.477521871683667, 1.4775219668376371, 3.6151142228475424, 3.6996771252640706, 4.383947088836621, 2.9602157988527447, 9.703056184493619, 3.0059695805652416, 3.1445406315025908, 6.886703093698612, 2.215889888879558, 3.0382857028925496, 15.898980849704886, 31.214291413814667, 10.767007851497974, 15.813417606301071, 25.719458730087606, 21.094865162301392, 62.52617141214496, 65.43800142008982, 45.41726305284479, 66.9137103435041, 11.690406104439141, 12.951932794971498, 19.23376095391882, 14.786537533529339, 46.99339954144591, 23.49694751774846, 7.1959580429793695, 115.84826591046077, 41.175648163493484, 68.01821705841003, 47.632793153804656, 44.96264818073883, 36.80010982590498, 17.962677871003525, 94.74318821136092, 39.08531509164592, 19.57546169099229, 57.791183828799305, 21.185467420293612, 128.9047555768348, 44.50986880717685, 65.01256230047098, 56.89547575744763, 99.34459558809066, 39.83710564627575, 35.893041946226646, 44.719010434177484, 2.4999877579579692, 2.488063520904388, 2.4889080051440295, 5.009873938074826, 5.006751439064489, 1.6556570923189156, 1.6556570154779617, 1.6556570525051437, 1.6556569206678071, 1.655656924975224, 1.6556569221716795, 1.6556568741240607, 1.6556569341184268, 1.6556567928119412, 1.6556569104196432, 1.6556568687604287, 4.158722196101698, 7.6373177627876645, 4.9984095203601235, 3.3105825119418606, 1.6509433986213922, 2.4999987693690984, 3.2417533709909008, 2.487592362083414, 1.6497586667843105, 5.908368185727723, 3.32283203634296, 2.4862470670802734, 3.387019449188635, 1.6496415748833793, 5.851070675311098, 4.92100025247827, 6.39861554050101, 24.71895748967223, 51.75170150681592, 10.527186118308393, 46.30271839093451, 7.778812903108651, 39.87076246435026, 13.929884481351836, 16.832969987869603, 27.544868192616413, 16.17841574605144, 3.385449545149832, 16.098616621893648, 63.66209422518324, 19.625568359667458, 36.15076531216791, 56.89547575744763, 26.278870456021142, 24.619978785457473, 28.767303946271074, 128.9047555768348, 16.249984135115533, 28.823164675352366, 19.561018875186882, 42.83265099205917, 21.542263980244538, 45.2212929413144, 45.41726305284479, 115.84826591046077, 65.01256230047098, 63.71914695070291, 99.34459558809066, 66.9137103435041, 65.43800142008982, 46.99339954144591, 39.83710564627575, 68.83429624293207, 5.871803650275947, 3.3646632003165995, 2.500004192227063, 2.500004195632624, 2.500004061080346, 2.4995773567749384, 5.680074065047054, 3.2930976196963613, 5.72105747944706, 9.791328611278498, 1.6556651298374938, 1.655665112992901, 1.6556651261319308, 1.6556650630349603, 1.6556650449236958, 1.655665101392692, 1.6556650663655081, 1.655665029472561, 1.6556649685593676, 1.6556650313738195, 1.655664871054641, 1.6554751538264345, 1.655457405851741, 1.655427179954367, 1.655427183365552, 1.655426202092983, 1.6554075078995811, 1.6553601573501862, 1.655339686379391, 1.6610696520914408, 5.850047841859068, 3.2603242550274705, 5.074209737025835, 10.855778736484249, 5.879749445880298, 4.885046506647969, 2.3910389762201074, 21.019471356901278, 3.23741953697034, 3.3038199886191535, 4.057982999900786, 4.084874603296009, 4.8260799658392175, 8.379610918213059, 19.561018875186882, 47.632793153804656, 2.381492553082052, 12.465076864873769, 4.0891765858655, 10.202432330994553, 14.212627193186828, 14.786537533529339, 27.544868192616413, 60.3612185240013, 19.791896539359588, 51.75170150681592, 39.83710564627575, 27.195218905366545, 65.01256230047098, 20.563421619283094, 31.874057700750452, 32.075054037950295, 27.815843958483892, 14.715363921939403, 128.9047555768348, 44.96264818073883, 63.66209422518324, 63.71914695070291, 44.50986880717685, 21.83472769198662, 45.2212929413144, 33.31150979733589, 115.84826591046077, 65.43800142008982, 34.34486667857142, 99.34459558809066, 94.74318821136092, 2.978687403880234, 2.2575581790570505, 2.257558637124031, 2.2575593151166786, 2.2573874146648265, 3.6976511700863943, 3.69607803895624, 3.047638234989749, 4.61959571623998, 2.3066608189895175, 2.304604434511218, 4.446362511389371, 2.294956723290014, 2.2568345950011643, 2.2607975303682264, 2.25268896945145, 2.2538850587028594, 2.2510965691448597, 2.261931823825662, 2.2557168695053456, 2.25250632539322, 2.316532263066344, 2.302058809970558, 2.2539293261676323, 4.460002302308281, 2.257444864972888, 3.0878703547539197, 2.255071651080833, 2.2587170552087783, 2.2543473663831026, 15.167269863186394, 3.8683098208490025, 23.49694751774846, 6.388347157493438, 3.9403067264286973, 16.44319571195981, 17.95165992617727, 8.602589183608908, 3.024430679094544, 16.672098457486026, 68.01821705841003, 41.943348226469965, 20.623854382598253, 27.195218905366545, 44.273345403109644, 60.3612185240013, 30.833498130451844, 10.235200523453173, 99.34459558809066, 18.193310453134202, 128.9047555768348, 44.96264818073883, 15.898980849704886, 22.45486226865776, 23.137635378655325, 16.821073103746293, 26.02292524007061, 66.9137103435041, 115.84826591046077, 41.175648163493484, 45.41726305284479, 56.89547575744763, 33.31150979733589, 44.50986880717685, 26.278870456021142, 65.01256230047098, 94.74318821136092, 51.75170150681592, 42.83265099205917, 5.251358143066801, 3.040190198169857, 3.043465408961966, 3.0418771967721527, 2.291336941894367, 2.2913374166071803, 3.011352992436091, 1.5513312742424432, 1.55133145072764, 1.5513314359183514, 1.5513315452524852, 1.5513314946751922, 1.5513322370311937, 3.933589229791842, 2.300619932744782, 2.347004835066233, 2.3582722842370805, 2.3461435136595608, 1.5627734860506295, 1.56513152570821, 1.5554169871481083, 1.5548790184864032, 2.371304702300458, 1.567889375103829, 1.557191071180261, 2.2960915341457966, 1.5579354644859413, 1.5570303327493513, 13.824439958842326, 2.3695112336878856, 3.987379928460453, 3.1726162830299067, 7.431618192129103, 6.216252021182372, 6.25543592584029, 5.421714950586492, 11.113531883534845, 5.511082527736397, 7.868837993922236, 6.478584508095898, 8.818537177597019, 8.933097908148177, 5.473514844027768, 28.823164675352366, 13.061231862638525, 66.9137103435041, 68.01821705841003, 6.330131717825397, 60.3612185240013, 51.75170150681592, 115.84826591046077, 47.251614259786365, 44.96264818073883, 32.075054037950295, 16.249984135115533, 128.9047555768348, 57.791183828799305, 65.01256230047098, 14.455412083553439, 99.34459558809066, 63.66209422518324, 94.74318821136092, 31.874057700750452, 63.71914695070291, 44.719010434177484, 20.155125899265954, 41.943348226469965, 44.50986880717685, 25.03433649630586, 68.83429624293207, 28.767303946271074], \"logprob\": [30.0, 29.0, 28.0, 27.0, 26.0, 25.0, 24.0, 23.0, 22.0, 21.0, 20.0, 19.0, 18.0, 17.0, 16.0, 15.0, 14.0, 13.0, 12.0, 11.0, 10.0, 9.0, 8.0, 7.0, 6.0, 5.0, 4.0, 3.0, 2.0, 1.0, -7.0193, -5.6385, -6.2431, -5.9093, -7.0821, -7.0913, -5.7929, -6.1933, -6.2927, -6.8928, -7.1137, -6.8938, -7.1403, -7.4533, -7.4719, -7.1949, -7.1901, -6.4261, -6.5209, -7.5075, -7.5138, -7.2472, -7.257, -6.8537, -7.5455, -7.5815, -7.0633, -6.6144, -7.5755, -5.4733, -7.0843, -5.6853, -6.5535, -6.2768, -6.427, -4.7824, -5.6862, -5.1568, -4.7615, -6.6526, -5.3928, -4.5933, -6.3528, -4.5213, -5.4105, -5.497, -5.8272, -5.2441, -4.9037, -5.0103, -5.5321, -5.5083, -5.5228, -5.9953, -5.42, -5.4591, -5.4567, -5.5338, -5.5041, -5.494, -5.7349, -5.5618, -5.7097, -5.7418, -6.5881, -6.0423, -6.666, -6.4356, -6.9776, -6.9776, -6.9776, -6.9776, -6.9776, -6.9776, -6.9776, -6.9776, -7.0329, -7.0342, -6.3353, -7.0454, -6.7552, -5.8603, -7.0904, -6.4278, -7.1174, -7.1231, -6.3085, -7.1845, -7.1768, -5.4667, -7.1959, -7.2197, -7.1816, -7.6242, -6.3647, -6.9345, -5.7752, -6.7634, -5.2561, -6.2561, -5.8105, -5.4109, -5.052, -4.8808, -6.508, -4.5701, -5.6648, -5.7327, -4.8023, -5.073, -4.7986, -6.1198, -5.489, -5.4337, -5.6321, -6.2008, -5.519, -5.5568, -5.4682, -5.4825, -5.8309, -5.7084, -5.7891, -5.6076, -5.8281, -5.755, -5.8925, -5.9466, -5.7704, -5.8985, -5.8871, -6.4845, -6.874, -6.874, -6.874, -6.2272, -6.6687, -5.705, -6.4829, -6.8087, -6.3851, -7.5206, -7.5206, -7.5206, -7.5206, -7.5206, -7.5206, -7.5206, -7.5206, -7.5206, -6.874, -6.8349, -6.848, -6.8516, -6.6475, -6.874, -7.1516, -6.8904, -6.8872, -7.6091, -6.9192, -5.7405, -6.7134, -6.9167, -6.9622, -5.1682, -6.7809, -6.6341, -6.4985, -6.1259, -6.6773, -5.7395, -5.8954, -4.276, -4.836, -6.4273, -5.768, -6.1902, -6.0391, -5.1885, -5.4206, -5.4344, -6.1194, -4.7104, -5.3119, -5.1651, -5.5684, -4.9808, -5.7237, -5.2011, -5.8532, -5.4574, -5.2757, -5.523, -5.3377, -5.1564, -5.3441, -5.7614, -5.7761, -5.6676, -5.7059, -5.6236, -5.5976, -5.7203, -5.738, -5.7498, -5.8907, -6.3885, -6.1789, -6.778, -6.8098, -6.0109, -6.0528, -6.932, -6.9378, -6.9427, -6.944, -5.8594, -6.9504, -6.9624, -7.4246, -7.4246, -7.4246, -7.4246, -7.4246, -7.4246, -7.4246, -7.4246, -7.4246, -7.4246, -7.4246, -7.4246, -7.4301, -7.4304, -7.4308, -7.4312, -5.8371, -5.9545, -6.3023, -6.3855, -6.8103, -7.1094, -6.2612, -7.0788, -6.8852, -5.9616, -6.4171, -6.7178, -6.7448, -6.1871, -5.3184, -6.4458, -5.8281, -5.1459, -5.6037, -5.7064, -4.6661, -5.6834, -5.887, -5.3472, -5.894, -5.6601, -6.19, -5.1848, -5.8762, -5.2628, -5.0714, -5.4439, -4.9572, -5.608, -5.3676, -5.4123, -5.5997, -5.6442, -5.6433, -5.4621, -5.5562, -5.6634, -5.7096, -5.6096, -5.849, -5.7927, -5.7867, -5.7736, -5.7696, -5.8163, -5.8201, -6.2269, -6.5065, -6.149, -6.9192, -5.5471, -6.9458, -6.9612, -6.9898, -7.0263, -7.0505, -7.0359, -6.5065, -6.7783, -5.889, -7.0627, -7.0795, -6.6169, -7.0767, -6.4025, -6.8471, -7.1035, -7.1186, -7.5426, -7.5426, -7.5426, -7.5426, -7.5426, -7.5426, -7.5426, -7.5426, -6.8882, -6.8634, -6.3668, -6.1814, -6.9166, -6.3721, -6.9076, -6.0771, -5.9348, -5.9212, -5.4727, -5.462, -5.1738, -6.2926, -5.4353, -5.1383, -4.924, -5.5513, -5.6435, -5.2737, -5.5767, -6.2964, -5.1387, -5.3932, -5.2542, -5.321, -5.7327, -4.9902, -5.1056, -5.5143, -5.3215, -5.8077, -5.6194, -5.2966, -5.7882, -5.4612, -5.6667, -5.9278, -5.8633, -5.8991, -6.2826, -6.157, -6.9281, -6.9281, -6.6488, -6.9627, -6.9691, -7.0227, -7.0181, -7.0321, -7.0276, -7.042, -7.0441, -7.0713, -6.4285, -6.8787, -6.8871, -7.5747, -7.5747, -7.5747, -7.5747, -7.5747, -7.5747, -7.5747, -7.5747, -7.5747, -7.5747, -7.5747, -7.5747, -7.5747, -6.6938, -6.6979, -6.5386, -6.9281, -5.8568, -6.9266, -6.9281, -6.2998, -7.2395, -6.9829, -5.6485, -5.1221, -5.9979, -5.7399, -5.4404, -5.6085, -4.9127, -4.987, -5.2192, -5.0398, -6.0834, -6.0337, -5.8191, -5.9811, -5.3772, -5.7539, -6.3936, -4.9569, -5.5226, -5.3287, -5.5095, -5.5801, -5.6715, -5.9922, -5.3062, -5.7119, -5.9625, -5.6139, -5.9366, -5.3632, -5.7398, -5.6417, -5.6851, -5.5957, -5.7859, -5.8147, -5.8379, -6.6567, -6.7895, -6.7945, -6.1082, -6.1711, -7.3034, -7.3034, -7.3034, -7.3034, -7.3034, -7.3034, -7.3034, -7.3034, -7.3034, -7.3034, -7.3034, -6.4347, -5.8439, -6.2733, -6.7052, -7.4102, -7.0081, -6.7532, -7.0211, -7.434, -6.1646, -6.7477, -7.0446, -6.7378, -7.4583, -6.217, -6.4077, -6.2315, -5.3042, -4.8152, -5.9986, -5.0042, -6.2796, -5.2029, -5.8973, -5.7894, -5.4743, -5.8531, -6.8492, -5.8698, -5.0693, -5.7818, -5.4656, -5.3263, -5.7207, -5.76, -5.689, -5.0282, -5.9816, -5.7465, -5.9061, -5.6405, -5.9023, -5.6754, -5.7019, -5.4524, -5.6142, -5.6538, -5.6129, -5.7195, -5.7645, -5.8292, -5.8715, -5.8664, -5.6818, -6.2654, -6.6104, -6.6104, -6.6104, -6.6115, -5.8032, -6.4249, -5.8874, -5.3608, -7.257, -7.257, -7.257, -7.257, -7.257, -7.257, -7.257, -7.257, -7.257, -7.257, -7.257, -7.258, -7.2581, -7.2582, -7.2582, -7.2582, -7.2583, -7.2586, -7.2587, -7.2917, -6.0483, -6.6428, -6.2543, -5.634, -6.1614, -6.365, -6.9547, -5.1948, -6.7138, -6.7015, -6.5519, -6.5498, -6.4406, -6.0268, -5.4141, -4.7877, -6.9913, -5.7845, -6.6212, -6.0, -5.8276, -5.8225, -5.4619, -5.0509, -5.6827, -5.1514, -5.3182, -5.5401, -5.1027, -5.7138, -5.5413, -5.5538, -5.6398, -5.8954, -5.1597, -5.5765, -5.4947, -5.507, -5.6454, -5.82, -5.671, -5.7392, -5.6458, -5.7197, -5.7806, -5.7424, -5.7883, -6.3971, -6.7168, -6.7168, -6.7168, -6.7214, -6.2446, -6.247, -6.5236, -6.1384, -6.8338, -6.8569, -6.211, -6.8757, -6.8945, -6.8989, -6.9062, -6.9107, -6.9136, -6.9103, -6.9133, -6.9197, -6.8957, -6.909, -6.9336, -6.2516, -6.938, -6.6271, -6.9481, -6.9492, -6.9519, -5.2002, -6.483, -4.9589, -6.1442, -6.5175, -5.5, -5.5006, -6.0142, -6.7241, -5.678, -4.8947, -5.1979, -5.6215, -5.5435, -5.3228, -5.203, -5.5608, -6.1185, -5.036, -5.8603, -5.0349, -5.4884, -5.9279, -5.7951, -5.804, -5.9538, -5.8352, -5.5577, -5.4329, -5.7211, -5.6997, -5.6709, -5.7977, -5.7541, -5.8584, -5.6892, -5.6663, -5.7946, -5.8198, -5.461, -6.2356, -6.2419, -6.2427, -6.5273, -6.5273, -6.2732, -7.174, -7.174, -7.174, -7.174, -7.174, -7.174, -6.277, -6.8168, -6.8013, -6.8211, -6.8316, -7.2437, -7.2586, -7.2721, -7.2727, -6.8533, -7.2765, -7.2944, -6.9108, -7.3304, -7.3358, -5.156, -6.9424, -6.4677, -6.6995, -5.9678, -6.1379, -6.1379, -6.2646, -5.7274, -6.2793, -6.0272, -6.1977, -6.0057, -6.0049, -6.3785, -5.3514, -5.8756, -4.977, -5.0329, -6.3309, -5.1601, -5.2394, -4.8304, -5.2978, -5.3663, -5.5563, -5.8852, -5.0799, -5.4645, -5.4362, -5.9351, -5.3605, -5.5005, -5.4346, -5.7347, -5.5785, -5.7124, -5.92, -5.8266, -5.853, -5.9219, -5.847, -5.9256]}};\n",
       "\n",
       "function LDAvis_load_lib(url, callback){\n",
       "  var s = document.createElement('script');\n",
       "  s.src = url;\n",
       "  s.async = true;\n",
       "  s.onreadystatechange = s.onload = callback;\n",
       "  s.onerror = function(){console.warn(\"failed to load library \" + url);};\n",
       "  document.getElementsByTagName(\"head\")[0].appendChild(s);\n",
       "}\n",
       "\n",
       "if(typeof(LDAvis) !== \"undefined\"){\n",
       "   // already loaded: just create the visualization\n",
       "   !function(LDAvis){\n",
       "       new LDAvis(\"#\" + \"ldavis_el45661406155702736163309174310\", ldavis_el45661406155702736163309174310_data);\n",
       "   }(LDAvis);\n",
       "}else if(typeof define === \"function\" && define.amd){\n",
       "   // require.js is available: use it to load d3/LDAvis\n",
       "   require.config({paths: {d3: \"https://cdnjs.cloudflare.com/ajax/libs/d3/3.5.5/d3.min\"}});\n",
       "   require([\"d3\"], function(d3){\n",
       "      window.d3 = d3;\n",
       "      LDAvis_load_lib(\"https://cdn.rawgit.com/bmabey/pyLDAvis/files/ldavis.v1.0.0.js\", function(){\n",
       "        new LDAvis(\"#\" + \"ldavis_el45661406155702736163309174310\", ldavis_el45661406155702736163309174310_data);\n",
       "      });\n",
       "    });\n",
       "}else{\n",
       "    // require.js not available: dynamically load d3 & LDAvis\n",
       "    LDAvis_load_lib(\"https://cdnjs.cloudflare.com/ajax/libs/d3/3.5.5/d3.min.js\", function(){\n",
       "         LDAvis_load_lib(\"https://cdn.rawgit.com/bmabey/pyLDAvis/files/ldavis.v1.0.0.js\", function(){\n",
       "                 new LDAvis(\"#\" + \"ldavis_el45661406155702736163309174310\", ldavis_el45661406155702736163309174310_data);\n",
       "            })\n",
       "         });\n",
       "}\n",
       "</script>"
      ],
      "text/plain": [
       "PreparedData(topic_coordinates=            Freq  cluster  topics         x         y\n",
       "topic                                                \n",
       "0      20.828435        1       1 -0.030657 -0.013265\n",
       "5      11.593699        1       2 -0.035344 -0.072300\n",
       "3      10.206942        1       3  0.014996 -0.016466\n",
       "1       9.907183        1       4 -0.075596  0.052259\n",
       "4       8.787995        1       5 -0.004824 -0.049914\n",
       "8       8.572946        1       6  0.021528  0.014594\n",
       "2       8.283057        1       7  0.019516  0.016325\n",
       "6       7.908072        1       8  0.106544  0.010289\n",
       "7       7.533131        1       9 -0.011300  0.069902\n",
       "9       6.378540        1      10 -0.004863 -0.011423, topic_info=     Category        Freq          Term       Total  loglift  logprob\n",
       "term                                                                 \n",
       "574   Default   51.000000         union   51.000000  30.0000  30.0000\n",
       "2354  Default   62.000000          fire   62.000000  29.0000  29.0000\n",
       "438   Default   21.000000         storm   21.000000  28.0000  28.0000\n",
       "2457  Default   47.000000        sydney   47.000000  27.0000  27.0000\n",
       "2735  Default   23.000000         metre   23.000000  26.0000  26.0000\n",
       "1922  Default   60.000000       company   60.000000  25.0000  25.0000\n",
       "2850  Default   14.000000         abuse   14.000000  24.0000  24.0000\n",
       "157   Default   29.000000         india   29.000000  23.0000  23.0000\n",
       "1020  Default   13.000000        market   13.000000  22.0000  22.0000\n",
       "2060  Default   15.000000         event   15.000000  21.0000  21.0000\n",
       "2464  Default  115.000000     australia  115.000000  20.0000  20.0000\n",
       "1458  Default   38.000000      pakistan   38.000000  19.0000  19.0000\n",
       "2160  Default    9.000000        hewitt    9.000000  18.0000  18.0000\n",
       "1672  Default   16.000000          road   16.000000  17.0000  17.0000\n",
       "1110  Default   68.000000           man   68.000000  16.0000  16.0000\n",
       "1853  Default   19.000000         qanta   19.000000  15.0000  15.0000\n",
       "2989  Default   66.000000        attack   66.000000  14.0000  14.0000\n",
       "2924  Default    5.000000       product    5.000000  13.0000  13.0000\n",
       "2195  Default    8.000000         virus    8.000000  12.0000  12.0000\n",
       "589   Default   27.000000        worker   27.000000  11.0000  11.0000\n",
       "2281  Default    8.000000       project    8.000000  10.0000  10.0000\n",
       "379   Default   14.000000          tree   14.000000   9.0000   9.0000\n",
       "194   Default   44.000000     president   44.000000   8.0000   8.0000\n",
       "1346  Default   28.000000      per_cent   28.000000   7.0000   7.0000\n",
       "1097  Default   22.000000       economy   22.000000   6.0000   6.0000\n",
       "1201  Default   15.000000         space   15.000000   5.0000   5.0000\n",
       "3382  Default   41.000000        leader   41.000000   4.0000   4.0000\n",
       "949   Default   31.000000          team   31.000000   3.0000   3.0000\n",
       "2688  Default   17.000000          race   17.000000   2.0000   2.0000\n",
       "3461  Default   39.000000      official   39.000000   1.0000   1.0000\n",
       "...       ...         ...           ...         ...      ...      ...\n",
       "2195  Topic10    2.620316         virus    8.933098   1.5258  -6.0049\n",
       "1206  Topic10    1.803324      internet    5.473515   1.6419  -6.3785\n",
       "1346  Topic10    5.036825      per_cent   28.823165   1.0078  -5.3514\n",
       "2532  Topic10    2.982079       militia   13.061232   1.2752  -5.8756\n",
       "2989  Topic10    7.324090        attack   66.913710   0.5400  -4.9770\n",
       "1110  Topic10    6.925659           man   68.018217   0.4677  -5.0329\n",
       "1996  Topic10    1.891299         trade    6.330132   1.5442  -6.3309\n",
       "1922  Topic10    6.098465       company   60.361219   0.4599  -5.1601\n",
       "574   Topic10    5.633899         union   51.751702   0.5346  -5.2394\n",
       "2464  Topic10    8.480951     australia  115.848266   0.1378  -4.8304\n",
       "2307  Topic10    5.314232  united_state   47.251614   0.5671  -5.2978\n",
       "1608  Topic10    4.962166         world   44.962648   0.5482  -5.3663\n",
       "347   Topic10    4.103457       service   32.075054   0.6960  -5.5563\n",
       "3289  Topic10    2.953443        weapon   16.249984   1.0471  -5.8852\n",
       "2422  Topic10    6.607736        person  128.904756  -0.2186  -5.0799\n",
       "1140  Topic10    4.498389         group   57.791184   0.1991  -5.4645\n",
       "1038  Topic10    4.627196         today   65.012562   0.1096  -5.4362\n",
       "1994  Topic10    2.809775     september   14.455412   1.1143  -5.9351\n",
       "3333  Topic10    4.991308    government   99.344596  -0.2387  -5.3605\n",
       "884   Topic10    4.339213          time   63.662094   0.0663  -5.5005\n",
       "2904  Topic10    4.634923           day   94.743188  -0.2653  -5.4346\n",
       "3087  Topic10    3.433223         staff   31.874058   0.5239  -5.7347\n",
       "1192  Topic10    4.013434          year   63.719147  -0.0126  -5.5785\n",
       "481   Topic10    3.510460        report   44.719010   0.2076  -5.7124\n",
       "2745  Topic10    2.852509         claim   20.155126   0.7970  -5.9200\n",
       "3382  Topic10    3.131850        leader   41.943348   0.1575  -5.8266\n",
       "593   Topic10    3.050173         child   44.509869   0.0717  -5.8530\n",
       "1121  Topic10    2.847126          talk   25.034336   0.5783  -5.9219\n",
       "965   Topic10    3.068343   afghanistan   68.834296  -0.3583  -5.8470\n",
       "1584  Topic10    2.836629         death   28.767304   0.4356  -5.9256\n",
       "\n",
       "[750 rows x 6 columns], token_table=      Topic      Freq         Term\n",
       "term                              \n",
       "2770      4  0.774549     abegglen\n",
       "1059      8  0.613436     abortion\n",
       "2850      2  0.562880        abuse\n",
       "2850      5  0.070360        abuse\n",
       "2850      8  0.281440        abuse\n",
       "541       1  0.099859     accident\n",
       "541       3  0.099859     accident\n",
       "541       4  0.299577     accident\n",
       "541       5  0.099859     accident\n",
       "541       6  0.099859     accident\n",
       "541       7  0.099859     accident\n",
       "541       8  0.199718     accident\n",
       "541       9  0.099859     accident\n",
       "2792      1  0.308709      account\n",
       "2792      3  0.154355      account\n",
       "2792      6  0.154355      account\n",
       "2792     10  0.308709      account\n",
       "796       1  0.813204  accountancy\n",
       "1893      1  0.240157       action\n",
       "1893      2  0.060039       action\n",
       "1893      3  0.150098       action\n",
       "1893      4  0.060039       action\n",
       "1893      5  0.030020       action\n",
       "1893      6  0.090059       action\n",
       "1893      7  0.060039       action\n",
       "1893      8  0.120079       action\n",
       "1893      9  0.120079       action\n",
       "1893     10  0.060039       action\n",
       "2248      5  0.431976      actress\n",
       "3280      1  0.473813       afghan\n",
       "...     ...       ...          ...\n",
       "1192      6  0.047082         year\n",
       "1192      7  0.078469         year\n",
       "1192      8  0.078469         year\n",
       "1192      9  0.047082         year\n",
       "1192     10  0.062775         year\n",
       "1166      1  0.230566     year_old\n",
       "1166      2  0.153711     year_old\n",
       "1166      3  0.038428     year_old\n",
       "1166      4  0.076855     year_old\n",
       "1166      5  0.076855     year_old\n",
       "1166      7  0.038428     year_old\n",
       "1166      8  0.153711     year_old\n",
       "1166      9  0.153711     year_old\n",
       "1166     10  0.076855     year_old\n",
       "2408      1  0.320986    yesterday\n",
       "2408      2  0.068783    yesterday\n",
       "2408      3  0.137565    yesterday\n",
       "2408      4  0.114638    yesterday\n",
       "2408      5  0.045855    yesterday\n",
       "2408      6  0.091710    yesterday\n",
       "2408      7  0.068783    yesterday\n",
       "2408      8  0.091710    yesterday\n",
       "2408      9  0.045855    yesterday\n",
       "2408     10  0.022928    yesterday\n",
       "742       1  0.719378       yorker\n",
       "2940      8  0.603987         ypre\n",
       "1542     10  0.421709    zealander\n",
       "3339      3  0.244548     zimbabwe\n",
       "3339      8  0.489096     zimbabwe\n",
       "2253      3  0.606580   zimbabwean\n",
       "\n",
       "[1909 rows x 3 columns], R=30, lambda_step=0.01, plot_opts={'xlab': 'PC1', 'ylab': 'PC2'}, topic_order=[1, 6, 4, 2, 5, 9, 3, 7, 8, 10])"
      ]
     },
     "execution_count": 23,
     "metadata": {},
     "output_type": "execute_result"
    }
   ],
   "source": [
    "pyLDAvis.gensim.prepare(ldamodel, corpus, dictionary)"
   ]
  },
  {
   "cell_type": "code",
   "execution_count": 24,
   "metadata": {
    "collapsed": true,
    "nbpresent": {
     "id": "13f462fd-b0c3-4a29-90f3-050e2317b72c"
    }
   },
   "outputs": [],
   "source": [
    "ldatopics = ldamodel.show_topics(formatted=False)"
   ]
  },
  {
   "cell_type": "markdown",
   "metadata": {
    "nbpresent": {
     "id": "68d38063-fb92-4d36-b3fb-f2d3cbff9eb5"
    }
   },
   "source": [
    "### Finding out the optimal number of topics\n",
    "__Introduction to topic coherence__:\n",
    "<img src=\"https://rare-technologies.com/wp-content/uploads/2016/06/pipeline.png\">\n",
    "Topic coherence in essence measures the human interpretability of a topic model. Traditionally [perplexity has been used](http://qpleple.com/perplexity-to-evaluate-topic-models/) to evaluate topic models however this does not correlate with human annotations at times. Topic coherence is another way to evaluate topic models with a much higher guarantee on human interpretability. Thus this can be used to compare different topic models among many other use-cases. Here's a short blog I wrote explaining topic coherence:\n",
    "[What is topic coherence?](https://rare-technologies.com/what-is-topic-coherence/)"
   ]
  },
  {
   "cell_type": "code",
   "execution_count": 25,
   "metadata": {
    "collapsed": true,
    "nbpresent": {
     "id": "45b1a641-1152-4364-ad25-62d1f8187317"
    }
   },
   "outputs": [],
   "source": [
    "def evaluate_graph(dictionary, corpus, texts, limit):\n",
    "    \"\"\"\n",
    "    Function to display num_topics - LDA graph using c_v coherence\n",
    "    \n",
    "    Parameters:\n",
    "    ----------\n",
    "    dictionary : Gensim dictionary\n",
    "    corpus : Gensim corpus\n",
    "    limit : topic limit\n",
    "    \n",
    "    Returns:\n",
    "    -------\n",
    "    lm_list : List of LDA topic models\n",
    "    c_v : Coherence values corresponding to the LDA model with respective number of topics\n",
    "    \"\"\"\n",
    "    c_v = []\n",
    "    lm_list = []\n",
    "    for num_topics in range(1, limit):\n",
    "        lm = LdaModel(corpus=corpus, num_topics=num_topics, id2word=dictionary)\n",
    "        lm_list.append(lm)\n",
    "        cm = CoherenceModel(model=lm, texts=texts, dictionary=dictionary, coherence='c_v')\n",
    "        c_v.append(cm.get_coherence())\n",
    "        \n",
    "    # Show graph\n",
    "    x = range(1, limit)\n",
    "    plt.plot(x, c_v)\n",
    "    plt.xlabel(\"num_topics\")\n",
    "    plt.ylabel(\"Coherence score\")\n",
    "    plt.legend((\"c_v\"), loc='best')\n",
    "    plt.show()\n",
    "    \n",
    "    return lm_list, c_v"
   ]
  },
  {
   "cell_type": "code",
   "execution_count": 26,
   "metadata": {
    "collapsed": false,
    "nbpresent": {
     "id": "e8936716-d06c-4cef-ae87-5c5da9a25a85"
    }
   },
   "outputs": [
    {
     "data": {
      "image/png": "[encoded data removed]",
      "text/plain": [
       "<matplotlib.figure.Figure at 0x7fe38a4f14d0>"
      ]
     },
     "metadata": {},
     "output_type": "display_data"
    },
    {
     "name": "stdout",
     "output_type": "stream",
     "text": [
      "CPU times: user 28 s, sys: 81.6 ms, total: 28.1 s\n",
      "Wall time: 28.1 s\n"
     ]
    }
   ],
   "source": [
    "%%time\n",
    "lmlist, c_v = evaluate_graph(dictionary=dictionary, corpus=corpus, texts=train_texts, limit=10)"
   ]
  },
  {
   "cell_type": "code",
   "execution_count": 27,
   "metadata": {
    "collapsed": false,
    "nbpresent": {
     "id": "c02b6f0a-801c-4a8f-aa8f-8c9d64df7a9a"
    }
   },
   "outputs": [
    {
     "data": {
      "text/html": [
       "\n",
       "<link rel=\"stylesheet\" type=\"text/css\" href=\"https://cdn.rawgit.com/bmabey/pyLDAvis/files/ldavis.v1.0.0.css\">\n",
       "\n",
       "\n",
       "<div id=\"ldavis_el45661406152829397281062323347\"></div>\n",
       "<script type=\"text/javascript\">\n",
       "\n",
       "var ldavis_el45661406152829397281062323347_data = {\"plot.opts\": {\"xlab\": \"PC1\", \"ylab\": \"PC2\"}, \"topic.order\": [2, 1, 3], \"token.table\": {\"Topic\": [2, 1, 2, 3, 1, 1, 2, 3, 1, 2, 3, 3, 2, 1, 3, 2, 3, 2, 1, 1, 2, 3, 1, 2, 3, 1, 2, 3, 2, 1, 2, 3, 1, 2, 3, 1, 1, 2, 3, 2, 3, 2, 1, 2, 3, 1, 1, 2, 3, 1, 2, 3, 1, 2, 3, 1, 2, 3, 1, 2, 1, 2, 3, 1, 2, 3, 1, 2, 3, 2, 3, 1, 2, 3, 1, 3, 1, 2, 3, 1, 2, 3, 3, 1, 2, 3, 2, 3, 1, 2, 3, 3, 1, 2, 3, 1, 2, 3, 2, 1, 2, 1, 2, 3, 1, 2, 3, 1, 2, 1, 2, 1, 2, 3, 2, 3, 1, 2, 3, 1, 2, 3, 1, 2, 3, 1, 2, 3, 2, 2, 3, 2, 1, 2, 3, 1, 2, 3, 1, 2, 3, 1, 2, 1, 2, 3, 2, 3, 2, 1, 2, 3, 1, 2, 1, 2, 1, 2, 3, 1, 2, 3, 1, 2, 3, 1, 2, 3, 1, 2, 3, 1, 2, 3, 1, 2, 3, 1, 2, 3, 1, 3, 1, 2, 3, 1, 2, 3, 1, 1, 2, 3, 1, 2, 3, 1, 2, 3, 2, 1, 2, 3, 3, 1, 2, 3, 3, 1, 2, 3, 1, 3, 3, 1, 2, 2, 3, 1, 2, 3, 1, 2, 3, 1, 2, 3, 2, 1, 2, 3, 1, 2, 3, 1, 2, 3, 1, 2, 1, 2, 3, 1, 2, 3, 2, 3, 1, 2, 3, 1, 2, 3, 1, 2, 3, 1, 2, 3, 1, 2, 3, 1, 2, 3, 2, 1, 2, 3, 1, 2, 3, 1, 2, 3, 1, 2, 3, 1, 2, 3, 1, 2, 3, 1, 2, 3, 1, 2, 3, 3, 1, 2, 3, 1, 2, 3, 1, 3, 2, 2, 1, 2, 3, 1, 2, 3, 1, 2, 3, 1, 2, 3, 3, 1, 2, 3, 3, 1, 2, 1, 3, 1, 2, 3, 1, 2, 3, 1, 1, 2, 3, 1, 2, 3, 1, 2, 3, 3, 1, 3, 1, 1, 1, 1, 2, 3, 1, 2, 3, 2, 1, 2, 3, 1, 3, 1, 2, 3, 1, 1, 3, 2, 1, 2, 3, 1, 2, 3, 1, 2, 3, 1, 2, 3, 1, 2, 1, 2, 3, 1, 2, 3, 1, 2, 3, 1, 2, 3, 1, 2, 3, 1, 2, 3, 1, 2, 3, 1, 2, 3, 3, 2, 1, 2, 3, 1, 2, 3, 3, 1, 2, 3, 1, 2, 3, 3, 1, 2, 3, 1, 2, 1, 2, 1, 1, 2, 3, 1, 2, 3, 1, 2, 3, 1, 2, 3, 1, 2, 1, 2, 3, 1, 2, 3, 1, 2, 3], \"Freq\": [0.9014279688755474, 0.2852861912227106, 0.5705723824454212, 0.12679386276564916, 0.8932396446367417, 0.36003608077667953, 0.5250526177993243, 0.12001202692555984, 0.6226511242920152, 0.28302323831455234, 0.05660464766291047, 0.8427382326114448, 0.9064229895419251, 0.9472444317948782, 0.8434402074392638, 0.31356721089969414, 0.6271344217993883, 0.8031221916804522, 0.7933305846083861, 0.5980784017867256, 0.2691352808040265, 0.13456764040201324, 0.3240984154634197, 0.47141587703770144, 0.1915127000465662, 0.3417285523291431, 0.2541058466037218, 0.3943021757643959, 0.961482521730959, 0.12003564331751738, 0.8402495032226217, 0.12003564331751738, 0.26667724703747736, 0.600023805834324, 0.06666931175936934, 0.7938425618960078, 0.7171728915071673, 0.11952881525119456, 0.11952881525119456, 0.8031302852186045, 0.8516831582203302, 0.8031086306922822, 0.07734396695099893, 0.4640638017059936, 0.4640638017059936, 0.8943603953205348, 0.6884322645052684, 0.25033900527464303, 0.06258475131866076, 0.17974261601346408, 0.17974261601346408, 0.7189704640538563, 0.47173134814573014, 0.16649341699261064, 0.36073573681732307, 0.17971675543192667, 0.6065440495827525, 0.2021813498609175, 0.5958967342386152, 0.9020281852777635, 0.2769922163713058, 0.1384961081856529, 0.5539844327426116, 0.6245469347983221, 0.2838849703628737, 0.11355398814514948, 0.3110429091023553, 0.4747497033667528, 0.22918951197015655, 0.804938185089982, 0.2012345462724955, 0.8456206923377525, 0.1691241384675505, 0.6267009412789727, 0.7920905197174619, 0.19802262992936548, 0.25941078920689015, 0.562056709948262, 0.21617565767240846, 0.7435845532093243, 0.14871691064186485, 0.14871691064186485, 0.8413522609402995, 0.29043867432924775, 0.29043867432924775, 0.4356580114938716, 0.3140874553854495, 0.628174910770899, 0.6489281215080147, 0.1996701912332353, 0.14975264342492645, 0.8373462792091912, 0.35212620949248385, 0.29710648925928324, 0.34112226544584373, 0.24997544860812018, 0.49995089721624036, 0.24997544860812018, 0.9017752963614122, 0.7956371327961043, 0.9021307912576189, 0.10978621158125687, 0.7685034810687981, 0.14638161544167583, 0.07349168590015481, 0.36745842950077406, 0.5879334872012385, 0.24005442154786263, 0.7201632646435878, 0.20020648831715257, 0.8008259532686103, 0.2084589012251178, 0.6253767036753534, 0.16676712098009425, 0.18070353875483883, 0.7228141550193553, 0.3018435139248684, 0.5282261493685197, 0.18865219620304277, 0.7143548268169907, 0.23811827560566357, 0.11905913780283178, 0.7299753010669834, 0.18249382526674585, 0.09124691263337292, 0.1201786792024741, 0.7210720752148446, 0.1201786792024741, 0.8030163637796748, 0.8038406738623969, 0.1339734456437328, 0.901453846980568, 0.7215459548378331, 0.10746429114606025, 0.16887245751523755, 0.6941238203512953, 0.09254984271350604, 0.2313746067837651, 0.3722437542070998, 0.5376854227435887, 0.12408125140236662, 0.24024288952438036, 0.7207286685731411, 0.4419629449952331, 0.4603780677033678, 0.09207561354067356, 0.8007051949433661, 0.9517229143243603, 0.8576411018437674, 0.7951004664169872, 0.1325167444028312, 0.1325167444028312, 0.1999042016032343, 0.7996168064129372, 0.7122679412803067, 0.23742264709343555, 0.36107722639407647, 0.3301277498460128, 0.29917827329794905, 0.20114953010954076, 0.804598120438163, 0.20114953010954076, 0.4042403953584588, 0.351513387268225, 0.26363504045116876, 0.0886623173107913, 0.3546492692431652, 0.5319739038647479, 0.142389341059475, 0.7119467052973751, 0.142389341059475, 0.24663866634269596, 0.30829833292836994, 0.43161766609971797, 0.21086762871590142, 0.10543381435795071, 0.738036700505655, 0.5058118278391787, 0.31613239239948665, 0.15806619619974333, 0.25171717257151727, 0.7551515177145517, 0.3004002198032266, 0.6008004396064532, 0.11265008242621, 0.42594863037613406, 0.2981640412632938, 0.2768666097444871, 0.7932023925841707, 0.6688619230684988, 0.10032928846027481, 0.23410167307397456, 0.37866751882805244, 0.46776575855230007, 0.15592191951743334, 0.21237834867516986, 0.38228102761530575, 0.4247566973503397, 0.9021503512962142, 0.19991314677199176, 0.6996960137019712, 0.09995657338599588, 0.8366465009254167, 0.4272239480475965, 0.3322852929259084, 0.23734663780422027, 0.6267076589764418, 0.5602759354214383, 0.14006898385535957, 0.326827628995839, 0.31477523062591856, 0.6295504612518371, 0.8435459864910982, 0.17161036712748065, 0.8580518356374032, 0.27849115722952106, 0.5569823144590421, 0.3621943122387304, 0.3477065397491812, 0.28975544979098433, 0.15045154410064587, 0.7522577205032294, 0.15045154410064587, 0.19730625870667784, 0.3452859527366862, 0.44393908209002514, 0.7225412859563737, 0.4176023969225971, 0.39440226376023063, 0.18560106529893206, 0.3642141409433092, 0.4552676761791365, 0.1821070704716546, 0.31610899459080405, 0.31610899459080405, 0.3556226189146546, 0.895622326105927, 0.9033828985668724, 0.3210724560405279, 0.5779304208729502, 0.08561932161080744, 0.5261898994418596, 0.2756232806600217, 0.1753966331472865, 0.8031156246858135, 0.626713867778087, 0.3131157814184871, 0.3131157814184871, 0.6262315628369742, 0.29203755520883584, 0.3212413107297194, 0.37964882177148657, 0.33338334951952203, 0.4872525877593014, 0.15386923823977938, 0.7089681883768687, 0.2025623395362482, 0.1012811697681241, 0.30999961883899974, 0.47909032002390867, 0.22545426824654524, 0.28921420113006463, 0.32536597627132274, 0.3976695265538389, 0.9021540489986454, 0.09733127017070009, 0.6813188911949006, 0.24332817542675023, 0.2835032543949744, 0.5670065087899488, 0.1417516271974872, 0.6758543495310224, 0.2079551844710838, 0.15596638835331286, 0.4239029092259717, 0.367915732535749, 0.20795237056368424, 0.13935316848562954, 0.13935316848562954, 0.6967658424281477, 0.6493081591669901, 0.19978712589753542, 0.14984034442315158, 0.46892141244712887, 0.35169105933534667, 0.14653794138972778, 0.700853189230824, 0.18170267868947287, 0.12978762763533777, 0.626704358551215, 0.294900084109255, 0.34026932781837116, 0.36295394967292927, 0.1873975344699265, 0.5621926034097794, 0.2810963017048897, 0.8476684765479429, 0.16953369530958856, 0.8030884295954335, 0.8034943376987068, 0.7144697703251343, 0.15877106007225206, 0.07938553003612603, 0.20888115107314228, 0.6788637409877124, 0.10444057553657114, 0.2084361090886726, 0.2084361090886726, 0.6253083272660178, 0.5755251470350423, 0.30989815609579197, 0.13281349546962515, 0.9524082926604767, 0.09327015136893317, 0.6995261352669988, 0.18654030273786634, 0.6267051295303336, 0.24017859649377313, 0.7205357894813194, 0.41160704316844865, 0.5145088039605609, 0.5055447602403579, 0.24178227663669288, 0.24178227663669288, 0.17887956882971953, 0.17887956882971953, 0.7155182753188781, 0.8901127401319218, 0.2516810590521609, 0.2516810590521609, 0.7550431771564828, 0.15038134841539152, 0.7519067420769576, 0.15038134841539152, 0.21953112765321953, 0.6037106010463537, 0.16464834573991463, 0.842440041450714, 0.5979709247272096, 0.2989854623636048, 0.7964846870191519, 0.7954490968115223, 0.7931802169525843, 0.5020438772295678, 0.32274249250472214, 0.16137124625236107, 0.34349460648855, 0.34349460648855, 0.3122678240805, 0.9018342101988601, 0.7938554460885102, 0.1323092410147517, 0.1323092410147517, 0.25112508260262933, 0.753375247807888, 0.8172263956381802, 0.07429330869438003, 0.07429330869438003, 0.8896638606894663, 0.25208454885829873, 0.7562536465748961, 0.8031455729927025, 0.28244698298896537, 0.34521297920873545, 0.34521297920873545, 0.5194202641737028, 0.283320144094747, 0.18888009606316467, 0.7377235202058087, 0.17024388927826353, 0.11349592618550902, 0.5937645711590032, 0.36539358225169427, 0.045674197781461784, 0.20060415589538108, 0.8024166235815243, 0.4152531641378277, 0.4152531641378277, 0.1661012656551311, 0.336689876411112, 0.30608170582828365, 0.36729804699394036, 0.2259039784129494, 0.2259039784129494, 0.5647599460323734, 0.643389969485596, 0.17157065852949227, 0.17157065852949227, 0.13303817331946857, 0.5321526932778743, 0.31929161596672456, 0.3407522716114435, 0.3569785702596075, 0.2920733756669516, 0.4185388238280916, 0.3565330721498558, 0.2325215687933842, 0.7443685142903286, 0.14887370285806573, 0.09924913523871048, 0.6266967997146857, 0.8031023606286601, 0.6257954049178854, 0.2503181619671542, 0.06257954049178854, 0.2406285927324111, 0.7218857781972333, 0.12031429636620555, 0.8435274962232169, 0.37675994351506914, 0.43327393504232947, 0.18837997175753457, 0.3618008996837802, 0.38308330554753195, 0.2553888703650213, 0.8422029796267337, 0.8457644584316492, 0.16915289168632983, 0.6267045583806016, 0.8594527691782228, 0.10743159614727785, 0.7899219919221018, 0.2633073306407006, 0.8916820136127911, 0.3033234561664804, 0.4411977544239715, 0.24817373686348396, 0.2973799591498861, 0.14868997957494304, 0.5451965917747912, 0.6178421590912367, 0.2883263409092438, 0.12356843181824735, 0.21995203333327631, 0.3519232533332421, 0.417908863333225, 0.5942262764163273, 0.29711313820816365, 0.845483679415344, 0.31334775781956103, 0.6266955156391221, 0.22223585804779328, 0.44447171609558656, 0.3174797972111333, 0.24187129115283043, 0.31443267849867956, 0.4353683240750948], \"Term\": [\"abortion\", \"afghan\", \"afghan\", \"afghan\", \"afghan_force\", \"afghanistan\", \"afghanistan\", \"afghanistan\", \"aircraft\", \"aircraft\", \"aircraft\", \"alarm\", \"alcohol\", \"almao\", \"amalgamation\", \"amwu\", \"amwu\", \"antibiotic\", \"aquilina\", \"area\", \"area\", \"area\", \"attack\", \"attack\", \"attack\", \"australia\", \"australia\", \"australia\", \"bacterium\", \"ballot\", \"ballot\", \"ballot\", \"bill\", \"bill\", \"bill\", \"blackout\", \"blake\", \"blake\", \"blake\", \"boje\", \"brain\", \"bulli\", \"cancer\", \"cancer\", \"cancer\", \"cathedral\", \"cave\", \"cave\", \"cave\", \"cell\", \"cell\", \"cell\", \"centre\", \"centre\", \"centre\", \"child\", \"child\", \"child\", \"china\", \"climate\", \"coalition\", \"coalition\", \"coalition\", \"commander\", \"commander\", \"commander\", \"company\", \"company\", \"company\", \"competition\", \"competition\", \"computer\", \"computer\", \"congressman\", \"containment\", \"containment\", \"court\", \"court\", \"court\", \"crew_member\", \"crew_member\", \"crew_member\", \"crush\", \"cup\", \"cup\", \"cup\", \"currency\", \"currency\", \"damage\", \"damage\", \"damage\", \"darren\", \"day\", \"day\", \"day\", \"death\", \"death\", \"death\", \"defunct\", \"dennehy\", \"dewar\", \"director\", \"director\", \"director\", \"disease\", \"disease\", \"disease\", \"disruption\", \"disruption\", \"draft\", \"draft\", \"economy\", \"economy\", \"economy\", \"embryo\", \"embryo\", \"end\", \"end\", \"end\", \"endeavour\", \"endeavour\", \"endeavour\", \"energy\", \"energy\", \"energy\", \"explosive\", \"explosive\", \"explosive\", \"fare\", \"farmer\", \"farmer\", \"ferguson\", \"fire\", \"fire\", \"fire\", \"firefighter\", \"firefighter\", \"firefighter\", \"flight\", \"flight\", \"flight\", \"flood\", \"flood\", \"force\", \"force\", \"force\", \"franc\", \"franklin\", \"friedli\", \"gas\", \"gas\", \"gas\", \"gerber\", \"gerber\", \"goodin\", \"goodin\", \"government\", \"government\", \"government\", \"grant\", \"grant\", \"grant\", \"group\", \"group\", \"group\", \"growth\", \"growth\", \"growth\", \"guide\", \"guide\", \"guide\", \"health\", \"health\", \"health\", \"hewitt\", \"hewitt\", \"hewitt\", \"home\", \"home\", \"home\", \"hopman\", \"hopman\", \"hospital\", \"hospital\", \"hospital\", \"hour\", \"hour\", \"hour\", \"householder\", \"india\", \"india\", \"india\", \"israel\", \"israel\", \"israel\", \"issue\", \"issue\", \"issue\", \"jan\", \"kabul\", \"kabul\", \"kabul\", \"keeper\", \"leader\", \"leader\", \"leader\", \"liberal\", \"line\", \"line\", \"line\", \"lleyton\", \"lleyton\", \"local\", \"lockett\", \"lockett\", \"lung\", \"lung\", \"man\", \"man\", \"man\", \"manslaughter\", \"manslaughter\", \"manslaughter\", \"match\", \"match\", \"match\", \"mcmenamin\", \"meeting\", \"meeting\", \"meeting\", \"member\", \"member\", \"member\", \"metre\", \"metre\", \"metre\", \"midwife\", \"mitsubishi\", \"month\", \"month\", \"month\", \"morning\", \"morning\", \"morning\", \"motorist\", \"mouse\", \"murray\", \"murray\", \"murray\", \"number\", \"number\", \"number\", \"official\", \"official\", \"official\", \"pakistan\", \"pakistan\", \"pakistan\", \"palestinian\", \"palestinian\", \"palestinian\", \"party\", \"party\", \"party\", \"patient\", \"pay\", \"pay\", \"pay\", \"peace\", \"peace\", \"peace\", \"pentagon\", \"pentagon\", \"pentagon\", \"person\", \"person\", \"person\", \"perth\", \"perth\", \"perth\", \"plane\", \"plane\", \"plane\", \"police\", \"police\", \"police\", \"power\", \"power\", \"power\", \"precursor\", \"president\", \"president\", \"president\", \"process\", \"process\", \"process\", \"product\", \"product\", \"punishment\", \"punt\", \"qaeda_fighter\", \"qaeda_fighter\", \"qaeda_fighter\", \"qanta\", \"qanta\", \"qanta\", \"rabbani\", \"rabbani\", \"rabbani\", \"radio\", \"radio\", \"radio\", \"raft\", \"rate\", \"rate\", \"rate\", \"recrimination\", \"redmond\", \"redmond\", \"refugee\", \"refugee\", \"report\", \"report\", \"report\", \"republic\", \"republic\", \"republic\", \"rfds\", \"riot\", \"riot\", \"riot\", \"rise\", \"rise\", \"rise\", \"role\", \"role\", \"role\", \"romaszko\", \"rural_fire\", \"rural_fire\", \"sanctuary\", \"sand\", \"seamaster\", \"security\", \"security\", \"security\", \"service\", \"service\", \"service\", \"sheet\", \"shuttle\", \"shuttle\", \"shuttle\", \"slip\", \"slip\", \"space\", \"space\", \"space\", \"spill\", \"spread\", \"spread\", \"sri\", \"staff\", \"staff\", \"staff\", \"state\", \"state\", \"state\", \"station\", \"station\", \"station\", \"storm\", \"storm\", \"storm\", \"swan\", \"swan\", \"sydney\", \"sydney\", \"sydney\", \"team\", \"team\", \"team\", \"tennis\", \"tennis\", \"tennis\", \"terrorism\", \"terrorism\", \"terrorism\", \"test\", \"test\", \"test\", \"time\", \"time\", \"time\", \"today\", \"today\", \"today\", \"tora_bora\", \"tora_bora\", \"tora_bora\", \"tran\", \"transfer\", \"tree\", \"tree\", \"tree\", \"trial\", \"trial\", \"trial\", \"typhoid\", \"union\", \"union\", \"union\", \"united_state\", \"united_state\", \"united_state\", \"upside\", \"user\", \"user\", \"variety\", \"virus\", \"virus\", \"volunteer\", \"volunteer\", \"ward\", \"week\", \"week\", \"week\", \"wicket\", \"wicket\", \"wicket\", \"work\", \"work\", \"work\", \"world\", \"world\", \"world\", \"worm\", \"worm\", \"yallourn\", \"yassin\", \"yassin\", \"year\", \"year\", \"year\", \"yesterday\", \"yesterday\", \"yesterday\"]}, \"mdsDat\": {\"y\": [0.029392251330889504, -0.03116366501012807, 0.0017714136792385704], \"cluster\": [1, 1, 1], \"Freq\": [38.53846150571563, 37.201228180235375, 24.26031031404899], \"topics\": [1, 2, 3], \"x\": [-0.019749201542678837, -0.016562568278793422, 0.03631176982147227]}, \"R\": 30, \"lambda.step\": 0.01, \"tinfo\": {\"Category\": [\"Default\", \"Default\", \"Default\", \"Default\", \"Default\", \"Default\", \"Default\", \"Default\", \"Default\", \"Default\", \"Default\", \"Default\", \"Default\", \"Default\", \"Default\", \"Default\", \"Default\", \"Default\", \"Default\", \"Default\", \"Default\", \"Default\", \"Default\", \"Default\", \"Default\", \"Default\", \"Default\", \"Default\", \"Default\", \"Default\", \"Topic1\", \"Topic1\", \"Topic1\", \"Topic1\", \"Topic1\", \"Topic1\", \"Topic1\", \"Topic1\", \"Topic1\", \"Topic1\", \"Topic1\", \"Topic1\", \"Topic1\", \"Topic1\", \"Topic1\", \"Topic1\", \"Topic1\", \"Topic1\", \"Topic1\", \"Topic1\", \"Topic1\", \"Topic1\", \"Topic1\", \"Topic1\", \"Topic1\", \"Topic1\", \"Topic1\", \"Topic1\", \"Topic1\", \"Topic1\", \"Topic1\", \"Topic1\", \"Topic1\", \"Topic1\", \"Topic1\", \"Topic1\", \"Topic1\", \"Topic1\", \"Topic1\", \"Topic1\", \"Topic1\", \"Topic1\", \"Topic1\", \"Topic1\", \"Topic1\", \"Topic1\", \"Topic1\", \"Topic1\", \"Topic1\", \"Topic1\", \"Topic1\", \"Topic1\", \"Topic1\", \"Topic1\", \"Topic1\", \"Topic1\", \"Topic1\", \"Topic1\", \"Topic1\", \"Topic1\", \"Topic1\", \"Topic1\", \"Topic1\", \"Topic1\", \"Topic1\", \"Topic1\", \"Topic1\", \"Topic1\", \"Topic1\", \"Topic1\", \"Topic1\", \"Topic1\", \"Topic1\", \"Topic1\", \"Topic1\", \"Topic1\", \"Topic1\", \"Topic1\", \"Topic2\", \"Topic2\", \"Topic2\", \"Topic2\", \"Topic2\", \"Topic2\", \"Topic2\", \"Topic2\", \"Topic2\", \"Topic2\", \"Topic2\", \"Topic2\", \"Topic2\", \"Topic2\", \"Topic2\", \"Topic2\", \"Topic2\", \"Topic2\", \"Topic2\", \"Topic2\", \"Topic2\", \"Topic2\", \"Topic2\", \"Topic2\", \"Topic2\", \"Topic2\", \"Topic2\", \"Topic2\", \"Topic2\", \"Topic2\", \"Topic2\", \"Topic2\", \"Topic2\", \"Topic2\", \"Topic2\", \"Topic2\", \"Topic2\", \"Topic2\", \"Topic2\", \"Topic2\", \"Topic2\", \"Topic2\", \"Topic2\", \"Topic2\", \"Topic2\", \"Topic2\", \"Topic2\", \"Topic2\", \"Topic2\", \"Topic2\", \"Topic2\", \"Topic2\", \"Topic2\", \"Topic2\", \"Topic2\", \"Topic2\", \"Topic2\", \"Topic2\", \"Topic2\", \"Topic2\", \"Topic2\", \"Topic2\", \"Topic2\", \"Topic2\", \"Topic2\", \"Topic2\", \"Topic2\", \"Topic2\", \"Topic2\", \"Topic2\", \"Topic2\", \"Topic2\", \"Topic2\", \"Topic2\", \"Topic2\", \"Topic2\", \"Topic2\", \"Topic2\", \"Topic2\", \"Topic2\", \"Topic2\", \"Topic2\", \"Topic3\", \"Topic3\", \"Topic3\", \"Topic3\", \"Topic3\", \"Topic3\", \"Topic3\", \"Topic3\", \"Topic3\", \"Topic3\", \"Topic3\", \"Topic3\", \"Topic3\", \"Topic3\", \"Topic3\", \"Topic3\", \"Topic3\", \"Topic3\", \"Topic3\", \"Topic3\", \"Topic3\", \"Topic3\", \"Topic3\", \"Topic3\", \"Topic3\", \"Topic3\", \"Topic3\", \"Topic3\", \"Topic3\", \"Topic3\", \"Topic3\", \"Topic3\", \"Topic3\", \"Topic3\", \"Topic3\", \"Topic3\", \"Topic3\", \"Topic3\", \"Topic3\", \"Topic3\", \"Topic3\", \"Topic3\", \"Topic3\", \"Topic3\", \"Topic3\", \"Topic3\", \"Topic3\", \"Topic3\", \"Topic3\", \"Topic3\", \"Topic3\", \"Topic3\", \"Topic3\", \"Topic3\", \"Topic3\", \"Topic3\", \"Topic3\", \"Topic3\", \"Topic3\", \"Topic3\", \"Topic3\", \"Topic3\", \"Topic3\", \"Topic3\", \"Topic3\", \"Topic3\", \"Topic3\", \"Topic3\", \"Topic3\", \"Topic3\", \"Topic3\", \"Topic3\", \"Topic3\"], \"Term\": [\"australia\", \"fire\", \"yesterday\", \"world\", \"day\", \"director\", \"hewitt\", \"year\", \"wicket\", \"test\", \"disease\", \"pakistan\", \"centre\", \"government\", \"power\", \"president\", \"india\", \"child\", \"number\", \"rate\", \"issue\", \"party\", \"brain\", \"firefighter\", \"pay\", \"refugee\", \"match\", \"cancer\", \"space\", \"line\", \"yallourn\", \"almao\", \"product\", \"virus\", \"containment\", \"spill\", \"rfds\", \"computer\", \"space\", \"user\", \"shuttle\", \"gas\", \"cathedral\", \"seamaster\", \"householder\", \"aquilina\", \"blackout\", \"energy\", \"ward\", \"dennehy\", \"sand\", \"afghan_force\", \"midwife\", \"rural_fire\", \"goodin\", \"crew_member\", \"sanctuary\", \"china\", \"blake\", \"worm\", \"volunteer\", \"tora_bora\", \"fire\", \"pakistan\", \"power\", \"station\", \"qaeda_fighter\", \"endeavour\", \"firefighter\", \"cave\", \"india\", \"area\", \"pentagon\", \"damage\", \"terrorism\", \"aircraft\", \"tree\", \"plane\", \"work\", \"storm\", \"security\", \"person\", \"state\", \"morning\", \"report\", \"commander\", \"radio\", \"force\", \"today\", \"government\", \"australia\", \"day\", \"home\", \"group\", \"man\", \"hour\", \"afghanistan\", \"sydney\", \"union\", \"attack\", \"leader\", \"time\", \"centre\", \"meeting\", \"police\", \"company\", \"united_state\", \"israel\", \"friedli\", \"franc\", \"bacterium\", \"farmer\", \"lockett\", \"mcmenamin\", \"dewar\", \"patient\", \"jan\", \"mitsubishi\", \"swan\", \"sheet\", \"flood\", \"ferguson\", \"redmond\", \"ballot\", \"disruption\", \"punishment\", \"transfer\", \"antibiotic\", \"motorist\", \"bulli\", \"sri\", \"boje\", \"competition\", \"climate\", \"punt\", \"abortion\", \"manslaughter\", \"fare\", \"director\", \"alcohol\", \"rise\", \"explosive\", \"defunct\", \"draft\", \"rate\", \"kabul\", \"grant\", \"guide\", \"gerber\", \"qanta\", \"pay\", \"child\", \"month\", \"trial\", \"afghanistan\", \"economy\", \"afghan\", \"hospital\", \"role\", \"bill\", \"test\", \"attack\", \"peace\", \"company\", \"year\", \"official\", \"force\", \"person\", \"israel\", \"process\", \"member\", \"union\", \"end\", \"flight\", \"court\", \"government\", \"death\", \"palestinian\", \"sydney\", \"today\", \"time\", \"man\", \"day\", \"australia\", \"group\", \"meeting\", \"united_state\", \"security\", \"area\", \"week\", \"brain\", \"raft\", \"franklin\", \"hewitt\", \"local\", \"typhoid\", \"amalgamation\", \"alarm\", \"embryo\", \"romaszko\", \"upside\", \"crush\", \"spread\", \"lleyton\", \"hopman\", \"riot\", \"cell\", \"slip\", \"darren\", \"keeper\", \"currency\", \"perth\", \"amwu\", \"mouse\", \"liberal\", \"variety\", \"precursor\", \"recrimination\", \"congressman\", \"tran\", \"republic\", \"murray\", \"lung\", \"yassin\", \"disease\", \"rabbani\", \"coalition\", \"wicket\", \"australia\", \"yesterday\", \"world\", \"tennis\", \"day\", \"president\", \"party\", \"government\", \"number\", \"match\", \"issue\", \"year\", \"growth\", \"centre\", \"team\", \"man\", \"time\", \"staff\", \"person\", \"health\", \"test\", \"metre\", \"cup\", \"group\", \"hour\", \"today\", \"united_state\", \"company\", \"service\", \"report\", \"attack\", \"leader\", \"fire\", \"child\", \"union\"], \"loglift\": [30.0, 29.0, 28.0, 27.0, 26.0, 25.0, 24.0, 23.0, 22.0, 21.0, 20.0, 19.0, 18.0, 17.0, 16.0, 15.0, 14.0, 13.0, 12.0, 11.0, 10.0, 9.0, 8.0, 7.0, 6.0, 5.0, 4.0, 3.0, 2.0, 1.0, 0.8226, 0.8054, 0.7833, 0.7804, 0.7776, 0.7755, 0.7686, 0.7484, 0.7474, 0.7332, 0.7199, 0.7135, 0.708, 0.7019, 0.7009, 0.6914, 0.6902, 0.6874, 0.6843, 0.6673, 0.6673, 0.6633, 0.6625, 0.6614, 0.6596, 0.6589, 0.6521, 0.6507, 0.6492, 0.6488, 0.6456, 0.6331, 0.6194, 0.6166, 0.5945, 0.6137, 0.6121, 0.6201, 0.5723, 0.5869, 0.5327, 0.4421, 0.5332, 0.5218, 0.5004, 0.5214, 0.532, 0.4858, 0.4544, 0.4625, 0.2801, 0.0884, 0.3142, 0.3237, 0.2758, 0.4879, 0.4101, 0.1452, 0.0808, -0.0566, -0.1134, -0.0831, 0.2851, 0.0263, -0.0649, 0.0945, -0.0794, 0.0604, -0.0091, -0.1517, 0.1072, -0.109, 0.186, 0.0537, 0.2168, -0.2374, -0.0419, -0.0142, 0.8863, 0.8722, 0.8469, 0.8177, 0.8174, 0.8148, 0.8092, 0.8086, 0.8082, 0.785, 0.7774, 0.7592, 0.7573, 0.7571, 0.7536, 0.746, 0.7423, 0.7417, 0.7416, 0.7406, 0.7406, 0.7403, 0.7391, 0.7388, 0.7379, 0.7354, 0.7324, 0.7314, 0.731, 0.7302, 0.7145, 0.7302, 0.7208, 0.716, 0.73, 0.7066, 0.6332, 0.6692, 0.7046, 0.6269, 0.6991, 0.5903, 0.5805, 0.4823, 0.4427, 0.645, 0.3547, 0.4941, 0.4468, 0.4609, 0.4946, 0.5282, 0.36, 0.2468, 0.4054, 0.2399, 0.1911, 0.2855, 0.1972, -0.0116, 0.2369, 0.4198, 0.2184, 0.1651, 0.3597, 0.3768, 0.3909, -0.1066, 0.3241, 0.2346, 0.1209, -0.042, -0.0288, -0.0837, -0.2084, -0.3651, -0.0747, 0.072, 0.0041, -0.1304, -0.3167, 0.1756, 1.2864, 1.1968, 1.1845, 1.1543, 1.1427, 1.1424, 1.1407, 1.1256, 1.1211, 1.119, 1.114, 1.1042, 1.0975, 1.0761, 1.0731, 1.0442, 1.0386, 1.0328, 1.0305, 1.0038, 0.9991, 0.9956, 0.9819, 0.9797, 0.9795, 0.9794, 0.9794, 0.9794, 0.9793, 0.9792, 0.9711, 0.9695, 0.9291, 0.9541, 0.8652, 0.9219, 0.897, 0.7724, 0.4944, 0.6053, 0.5591, 0.8059, 0.3472, 0.4154, 0.5226, 0.2172, 0.4632, 0.5903, 0.55, 0.2834, 0.7272, 0.4066, 0.4197, 0.2013, 0.1886, 0.3849, -0.1384, 0.5953, 0.2784, 0.4243, 0.6471, 0.0658, 0.1401, -0.0732, 0.0572, -0.0834, 0.2292, 0.0093, -0.2302, 0.0007, -0.3484, -0.1324, -0.3023], \"Freq\": [114.0, 65.0, 41.0, 45.0, 90.0, 27.0, 9.0, 62.0, 20.0, 37.0, 13.0, 39.0, 36.0, 96.0, 38.0, 44.0, 29.0, 44.0, 34.0, 21.0, 23.0, 27.0, 4.0, 21.0, 20.0, 9.0, 20.0, 12.0, 13.0, 21.0, 5.187861367448272, 3.6415200503851826, 4.975131528501081, 7.828836399728348, 4.235197690674771, 2.8222147735661833, 2.801331369464129, 4.8163216128612065, 10.95289320625471, 4.7428537177800845, 5.983674802500664, 5.936186574975108, 2.6240582817494267, 1.9605899800135875, 1.958501288062658, 1.939679350541155, 1.9362130787377496, 8.399028368589876, 2.5703748326289135, 1.8881390521388037, 1.8884637746756643, 2.512665748683736, 2.5039546950151705, 2.497394420481163, 3.1393004213797093, 5.008515665702949, 1.8576209383025104, 2.479431218554762, 6.171268927554132, 2.4816271899702906, 5.58252351928075, 14.62662657599052, 46.6353983458036, 28.196546445651528, 26.902811968609285, 12.545452382805797, 8.953555610675766, 6.017607175841764, 14.759626943458965, 11.074093640454848, 19.630225731473345, 40.10624782346176, 12.633935282242033, 13.009059328339314, 14.819671939552572, 11.467583572481697, 10.483094684853599, 12.541966872627723, 14.739029387673217, 13.399908275665965, 28.44286492289763, 52.63927621072873, 22.349242788790423, 21.259042633025498, 23.101129962806365, 11.05694936475228, 13.117944191422161, 24.197549023518746, 26.953209348144355, 35.29909110558387, 39.26517876031296, 32.230361640302604, 16.21297097158435, 22.51144800800528, 24.928764197520316, 19.888984631338488, 23.729921202601844, 19.716873862361094, 20.27270398430792, 22.477175071788, 18.074763112167187, 21.298337261841315, 16.72741544706342, 17.526912137845475, 16.33363808642824, 18.566881165783357, 17.364736039778926, 17.05768029403708, 5.26185079686974, 4.445534781666815, 3.6097543850086287, 6.2900475284846245, 4.908907160132904, 3.4888369963636587, 2.77860618265578, 2.7768308895529747, 2.7757628024989924, 2.7084740669787117, 4.034938551730497, 2.644024556459304, 3.3020296820971233, 2.639475763533594, 3.290975918357713, 6.534732524647339, 3.2556775862893375, 1.9451853845790494, 1.944949882309477, 1.9429167066794906, 1.9428756747175737, 1.9424094591627385, 1.939839164530386, 1.939355593697058, 3.866493056059366, 2.5812009417561863, 1.926059068945908, 2.572646709075612, 5.136121304555794, 1.923058609678656, 20.76887538681028, 2.555463591597862, 5.086257436814653, 6.334164011991667, 2.5682340029243305, 3.766553987693376, 15.025421071193415, 7.267694382381565, 3.741357924491194, 9.780674227324091, 3.7439909266974287, 12.855869424410763, 13.6591240720318, 26.82460928979384, 27.0574412535304, 5.89355955964487, 35.35503473007166, 14.6243989009112, 18.34751381671958, 15.708233123798426, 11.115167618729451, 9.46284449181429, 20.040852781708455, 32.32118170926441, 15.744673816624791, 28.88482586464571, 28.371085910669034, 19.299316025848306, 24.606102250574413, 45.97620091167481, 21.16632123752238, 12.082891265294142, 20.330563713438327, 23.292847560520915, 14.128239536903838, 13.110099171417584, 12.71987282201012, 32.413559575310735, 14.405600065547995, 16.691280193615043, 20.219190608913088, 23.011717216118413, 22.27540961794363, 23.61580366990209, 27.44737741363551, 29.469092377330448, 19.64364625541374, 17.23135373805253, 17.551577025591026, 18.210755403836, 18.127006603725647, 16.080054485714466, 4.124309804203951, 2.528973547681016, 2.50005092044409, 7.298455870816494, 1.8033978859221393, 1.8028011349331503, 1.7999974803366077, 1.7744109565546702, 4.1190991472609895, 1.7633779721341656, 1.7551294650385196, 1.7398753730953993, 2.8839334254638764, 2.260647631423339, 2.818547734265185, 2.738697961280198, 3.8132917043487886, 2.7134888393095498, 1.6239855647539616, 1.5824852834016736, 2.0978228936081864, 4.711670239053129, 2.0653217411927467, 1.0311551114982804, 1.030902858876697, 1.0308471585830308, 1.0308346178106458, 1.0308054616326128, 1.0307546485767043, 1.0306012473392452, 3.5817720627589154, 2.0429318473257143, 4.412027525336434, 2.010117321967892, 7.841693106441837, 2.9262720638702606, 4.295691656870758, 10.597515187392933, 45.391398883737544, 18.3741305774989, 19.292143408925337, 4.808221307834711, 31.19876811126636, 16.202195930785887, 11.316861629853312, 29.21952183391616, 13.20158676201165, 8.875447537370901, 9.899894039795823, 20.291252686658957, 5.662164704696114, 13.12915218687174, 12.059999547175348, 20.479155463500415, 18.054602362582234, 11.359109741171432, 26.413152892841445, 7.135270681693698, 12.044264087575264, 9.384365268893612, 6.381615744695334, 14.741743024712044, 13.104328392817187, 14.545217926155727, 12.070855885448788, 13.633112600510165, 9.770688894122136, 11.140575486714111, 13.082258952729518, 10.228906877327551, 11.153494904303011, 9.460242816845039, 9.518647941468378], \"Total\": [114.0, 65.0, 41.0, 45.0, 90.0, 27.0, 9.0, 62.0, 20.0, 37.0, 13.0, 39.0, 36.0, 96.0, 38.0, 44.0, 29.0, 44.0, 34.0, 21.0, 23.0, 27.0, 4.0, 21.0, 20.0, 9.0, 20.0, 12.0, 13.0, 21.0, 5.913774708764957, 4.222774888653221, 5.898532431407702, 9.30824855873035, 5.049927881256295, 3.3720600920836303, 3.3703595788948895, 5.912816520817742, 13.46016239650457, 5.911811438933949, 7.558051065295627, 7.546216174464328, 3.3543524687548505, 2.5214950615940013, 2.5214245679267413, 2.5210171381294537, 2.5193912445601487, 10.959274907392944, 3.3644280743591812, 2.5137087216774416, 2.514302936563507, 3.3585611856939304, 3.3496261901416515, 3.344644224821444, 4.211898116048125, 6.724184866966252, 2.511033837304532, 3.356286223913318, 8.36618348386086, 3.3657212401673706, 7.59568674040878, 20.15130907881133, 65.13791628221824, 39.4940146244135, 38.524473334611066, 17.621777866555327, 12.596754087866255, 8.399187315265568, 21.609977298298908, 15.978333043273308, 29.901537686952143, 66.88086357992907, 19.23491357127574, 20.03303535342233, 23.314009716366606, 17.66639386142206, 15.97966351528606, 20.021310092080082, 24.278045418692365, 21.894199538757512, 55.77201768600903, 125.028630015245, 42.35491280841294, 39.90954600663208, 45.495476976291485, 17.612767571346907, 22.588065989770666, 54.30319503427795, 64.5101444904185, 96.93217251481076, 114.12567002138096, 90.87650716520447, 31.632316840734596, 56.89683728813106, 69.02372333092282, 46.95401880348575, 66.65998571095028, 48.163389775789284, 53.084199486297216, 67.88061573378192, 42.1324695917904, 61.62834924236718, 36.037460870097306, 43.1032008739555, 34.12085602255156, 61.08481963093923, 46.987168950818734, 44.894265165952774, 5.829944471237372, 4.99559641333777, 4.160242032063975, 7.464165717281299, 5.827153782948035, 4.152011875735412, 3.3254601539737254, 3.3253744228381827, 3.325388052767019, 3.3208509976879164, 4.984941590749093, 3.3265537790349304, 4.162454097932908, 3.3279573990931883, 4.163568338721332, 8.330858837943723, 4.165722062322512, 2.490385773590994, 2.490342574057958, 2.4902810814070544, 2.4903014441817377, 2.4903231313502303, 2.4902085839153, 2.490255985622082, 4.969325687478536, 3.3258384260755705, 2.489127684120603, 3.328052937765219, 6.646658271124431, 2.4906092705088936, 27.325835884040757, 3.309713052971104, 6.649760828302628, 8.320943503757638, 3.326771105955939, 4.99484311625242, 21.443087318352617, 10.004344548090542, 4.971425980738937, 14.04599519260795, 5.002396107635493, 19.14964552545649, 20.54838076696615, 44.5144915997009, 46.71842669091054, 8.311564213086191, 66.65998571095028, 23.98554329229831, 31.547268241153983, 26.631138969339965, 18.220650723930895, 14.999404877754202, 37.58319792916391, 67.88061573378192, 28.218370956879617, 61.08481963093923, 62.99613448064357, 38.99414898415242, 54.30319503427795, 125.028630015245, 44.894265165952774, 21.344998008188412, 43.930199850451274, 53.084199486297216, 26.50379958799205, 24.17770586687346, 23.129338676868862, 96.93217251481076, 28.0027500259584, 35.48391459704639, 48.163389775789284, 64.5101444904185, 61.62834924236718, 69.02372333092282, 90.87650716520447, 114.12567002138096, 56.89683728813106, 43.1032008739555, 46.987168950818734, 55.77201768600903, 66.88086357992907, 36.26491712517809, 4.696582245865194, 3.1499095746213412, 3.1521779657157216, 9.48462318364934, 2.370943649817372, 2.370995621310196, 2.3712409988991663, 2.373216169156675, 5.533925936872237, 2.3740561958046573, 2.3747244409968777, 2.3771256022593796, 3.966923020585915, 3.1768700415580287, 3.972712667094187, 3.97328270854403, 5.563510881165168, 3.9820793273062316, 2.3884981036624957, 2.3904958638897016, 3.183826615338061, 7.176011933328395, 3.1891089541243085, 1.5956244969420237, 1.5956403048164924, 1.5956481991833444, 1.5956487079677442, 1.5956467449842346, 1.5956574087142708, 1.5956679537142473, 5.5903533675884916, 3.193706799030595, 7.1815565704001205, 3.191342446355855, 13.606981357844909, 4.797633214188341, 7.220419498427409, 20.176208299819784, 114.12567002138096, 41.344303213238035, 45.46445808413043, 8.853319069680248, 90.87650716520447, 44.08272733887638, 27.66115899129815, 96.93217251481076, 34.24217132912583, 20.27305178365647, 23.542889523298065, 62.99613448064357, 11.278748743896045, 36.037460870097306, 32.67101499235027, 69.02372333092282, 61.62834924236718, 31.864387095795642, 125.028630015245, 16.218057206172762, 37.58319792916391, 25.30772656550257, 13.772270546399447, 56.89683728813106, 46.95401880348575, 64.5101444904185, 46.987168950818734, 61.08481963093923, 32.02379249109599, 45.495476976291485, 67.88061573378192, 42.1324695917904, 65.13791628221824, 44.5144915997009, 53.084199486297216], \"logprob\": [30.0, 29.0, 28.0, 27.0, 26.0, 25.0, 24.0, 23.0, 22.0, 21.0, 20.0, 19.0, 18.0, 17.0, 16.0, 15.0, 14.0, 13.0, 12.0, 11.0, 10.0, 9.0, 8.0, 7.0, 6.0, 5.0, 4.0, 3.0, 2.0, 1.0, -7.1206, -7.4745, -7.1624, -6.7091, -7.3235, -7.7294, -7.7368, -7.1949, -6.3733, -7.2103, -6.9779, -6.9858, -7.8022, -8.0936, -8.0947, -8.1044, -8.1062, -6.6388, -7.8228, -8.1313, -8.1311, -7.8455, -7.849, -7.8516, -7.6229, -7.1558, -8.1476, -7.8589, -6.947, -7.858, -7.0473, -6.084, -4.9245, -5.4277, -5.4747, -6.2375, -6.5748, -6.9722, -6.075, -6.3623, -5.7898, -5.0754, -6.2305, -6.2012, -6.0709, -6.3274, -6.4171, -6.2378, -6.0764, -6.1716, -5.419, -4.8034, -5.6601, -5.7101, -5.627, -6.3638, -6.1929, -5.5806, -5.4728, -5.203, -5.0966, -5.294, -5.9811, -5.6529, -5.5509, -5.7767, -5.6002, -5.7854, -5.7576, -5.6544, -5.8724, -5.7083, -5.9498, -5.9032, -5.9737, -5.8455, -5.9125, -5.9303, -7.0711, -7.2397, -7.4479, -6.8926, -7.1405, -7.482, -7.7096, -7.7103, -7.7107, -7.7352, -7.3366, -7.7593, -7.537, -7.761, -7.5404, -6.8544, -7.5512, -8.0662, -8.0663, -8.0674, -8.0674, -8.0676, -8.069, -8.0692, -7.3792, -7.7833, -8.0761, -7.7866, -7.0953, -8.0777, -5.6981, -7.7933, -7.105, -6.8856, -7.7884, -7.4054, -6.0218, -6.7481, -7.4121, -6.4512, -7.4114, -6.1778, -6.1172, -5.4423, -5.4336, -6.9577, -5.1661, -6.0489, -5.8221, -5.9774, -6.3233, -6.4842, -5.7338, -5.2559, -5.9751, -5.3683, -5.3862, -5.7715, -5.5286, -4.9035, -5.6792, -6.2398, -5.7195, -5.5834, -6.0834, -6.1582, -6.1884, -5.253, -6.064, -5.9167, -5.7249, -5.5956, -5.6281, -5.5697, -5.4193, -5.3482, -5.7538, -5.8848, -5.8664, -5.8296, -5.8342, -5.954, -6.8872, -7.3763, -7.3878, -6.3164, -7.7144, -7.7147, -7.7163, -7.7306, -6.8884, -7.7368, -7.7415, -7.7503, -7.2449, -7.4884, -7.2679, -7.2966, -6.9656, -7.3058, -7.8192, -7.8451, -7.5632, -6.754, -7.5788, -8.2734, -8.2736, -8.2737, -8.2737, -8.2737, -8.2738, -8.2739, -7.0282, -7.5897, -6.8197, -7.6059, -6.2446, -7.2303, -6.8465, -5.9435, -4.4888, -5.3931, -5.3444, -6.7337, -4.8637, -5.5189, -5.8778, -4.9292, -5.7237, -6.1208, -6.0116, -5.2939, -6.5703, -5.7292, -5.8142, -5.2847, -5.4107, -5.8741, -5.0302, -6.339, -5.8155, -6.065, -6.4507, -5.6134, -5.7311, -5.6268, -5.8133, -5.6916, -6.0247, -5.8935, -5.7328, -5.9789, -5.8923, -6.057, -6.0508]}};\n",
       "\n",
       "function LDAvis_load_lib(url, callback){\n",
       "  var s = document.createElement('script');\n",
       "  s.src = url;\n",
       "  s.async = true;\n",
       "  s.onreadystatechange = s.onload = callback;\n",
       "  s.onerror = function(){console.warn(\"failed to load library \" + url);};\n",
       "  document.getElementsByTagName(\"head\")[0].appendChild(s);\n",
       "}\n",
       "\n",
       "if(typeof(LDAvis) !== \"undefined\"){\n",
       "   // already loaded: just create the visualization\n",
       "   !function(LDAvis){\n",
       "       new LDAvis(\"#\" + \"ldavis_el45661406152829397281062323347\", ldavis_el45661406152829397281062323347_data);\n",
       "   }(LDAvis);\n",
       "}else if(typeof define === \"function\" && define.amd){\n",
       "   // require.js is available: use it to load d3/LDAvis\n",
       "   require.config({paths: {d3: \"https://cdnjs.cloudflare.com/ajax/libs/d3/3.5.5/d3.min\"}});\n",
       "   require([\"d3\"], function(d3){\n",
       "      window.d3 = d3;\n",
       "      LDAvis_load_lib(\"https://cdn.rawgit.com/bmabey/pyLDAvis/files/ldavis.v1.0.0.js\", function(){\n",
       "        new LDAvis(\"#\" + \"ldavis_el45661406152829397281062323347\", ldavis_el45661406152829397281062323347_data);\n",
       "      });\n",
       "    });\n",
       "}else{\n",
       "    // require.js not available: dynamically load d3 & LDAvis\n",
       "    LDAvis_load_lib(\"https://cdnjs.cloudflare.com/ajax/libs/d3/3.5.5/d3.min.js\", function(){\n",
       "         LDAvis_load_lib(\"https://cdn.rawgit.com/bmabey/pyLDAvis/files/ldavis.v1.0.0.js\", function(){\n",
       "                 new LDAvis(\"#\" + \"ldavis_el45661406152829397281062323347\", ldavis_el45661406152829397281062323347_data);\n",
       "            })\n",
       "         });\n",
       "}\n",
       "</script>"
      ],
      "text/plain": [
       "PreparedData(topic_coordinates=            Freq  cluster  topics         x         y\n",
       "topic                                                \n",
       "1      38.538462        1       1 -0.019749  0.029392\n",
       "0      37.201228        1       2 -0.016563 -0.031164\n",
       "2      24.260310        1       3  0.036312  0.001771, topic_info=     Category        Freq          Term       Total  loglift  logprob\n",
       "term                                                                 \n",
       "2464  Default  114.000000     australia  114.000000  30.0000  30.0000\n",
       "2354  Default   65.000000          fire   65.000000  29.0000  29.0000\n",
       "2408  Default   41.000000     yesterday   41.000000  28.0000  28.0000\n",
       "1608  Default   45.000000         world   45.000000  27.0000  27.0000\n",
       "2904  Default   90.000000           day   90.000000  26.0000  26.0000\n",
       "1553  Default   27.000000      director   27.000000  25.0000  25.0000\n",
       "2160  Default    9.000000        hewitt    9.000000  24.0000  24.0000\n",
       "1192  Default   62.000000          year   62.000000  23.0000  23.0000\n",
       "2549  Default   20.000000        wicket   20.000000  22.0000  22.0000\n",
       "851   Default   37.000000          test   37.000000  21.0000  21.0000\n",
       "3060  Default   13.000000       disease   13.000000  20.0000  20.0000\n",
       "1458  Default   39.000000      pakistan   39.000000  19.0000  19.0000\n",
       "3044  Default   36.000000        centre   36.000000  18.0000  18.0000\n",
       "3333  Default   96.000000    government   96.000000  17.0000  17.0000\n",
       "2704  Default   38.000000         power   38.000000  16.0000  16.0000\n",
       "194   Default   44.000000     president   44.000000  15.0000  15.0000\n",
       "157   Default   29.000000         india   29.000000  14.0000  14.0000\n",
       "593   Default   44.000000         child   44.000000  13.0000  13.0000\n",
       "2111  Default   34.000000        number   34.000000  12.0000  12.0000\n",
       "1844  Default   21.000000          rate   21.000000  11.0000  11.0000\n",
       "2074  Default   23.000000         issue   23.000000  10.0000  10.0000\n",
       "2028  Default   27.000000         party   27.000000   9.0000   9.0000\n",
       "3121  Default    4.000000         brain    4.000000   8.0000   8.0000\n",
       "3434  Default   21.000000   firefighter   21.000000   7.0000   7.0000\n",
       "1533  Default   20.000000           pay   20.000000   6.0000   6.0000\n",
       "325   Default    9.000000       refugee    9.000000   5.0000   5.0000\n",
       "3329  Default   20.000000         match   20.000000   4.0000   4.0000\n",
       "1462  Default   12.000000        cancer   12.000000   3.0000   3.0000\n",
       "1201  Default   13.000000         space   13.000000   2.0000   2.0000\n",
       "2580  Default   21.000000          line   21.000000   1.0000   1.0000\n",
       "...       ...         ...           ...         ...      ...      ...\n",
       "194    Topic3   16.202196     president   44.082727   0.4154  -5.5189\n",
       "2028   Topic3   11.316862         party   27.661159   0.5226  -5.8778\n",
       "3333   Topic3   29.219522    government   96.932173   0.2172  -4.9292\n",
       "2111   Topic3   13.201587        number   34.242171   0.4632  -5.7237\n",
       "3329   Topic3    8.875448         match   20.273052   0.5903  -6.1208\n",
       "2074   Topic3    9.899894         issue   23.542890   0.5500  -6.0116\n",
       "1192   Topic3   20.291253          year   62.996134   0.2834  -5.2939\n",
       "3364   Topic3    5.662165        growth   11.278749   0.7272  -6.5703\n",
       "3044   Topic3   13.129152        centre   36.037461   0.4066  -5.7292\n",
       "949    Topic3   12.060000          team   32.671015   0.4197  -5.8142\n",
       "1110   Topic3   20.479155           man   69.023723   0.2013  -5.2847\n",
       "884    Topic3   18.054602          time   61.628349   0.1886  -5.4107\n",
       "3087   Topic3   11.359110         staff   31.864387   0.3849  -5.8741\n",
       "2422   Topic3   26.413153        person  125.028630  -0.1384  -5.0302\n",
       "2070   Topic3    7.135271        health   16.218057   0.5953  -6.3390\n",
       "851    Topic3   12.044264          test   37.583198   0.2784  -5.8155\n",
       "2735   Topic3    9.384365         metre   25.307727   0.4243  -6.0650\n",
       "2447   Topic3    6.381616           cup   13.772271   0.6471  -6.4507\n",
       "1140   Topic3   14.741743         group   56.896837   0.0658  -5.6134\n",
       "1931   Topic3   13.104328          hour   46.954019   0.1401  -5.7311\n",
       "1038   Topic3   14.545218         today   64.510144  -0.0732  -5.6268\n",
       "2307   Topic3   12.070856  united_state   46.987169   0.0572  -5.8133\n",
       "1922   Topic3   13.633113       company   61.084820  -0.0834  -5.6916\n",
       "347    Topic3    9.770689       service   32.023792   0.2292  -6.0247\n",
       "481    Topic3   11.140575        report   45.495477   0.0093  -5.8935\n",
       "2989   Topic3   13.082259        attack   67.880616  -0.2302  -5.7328\n",
       "3382   Topic3   10.228907        leader   42.132470   0.0007  -5.9789\n",
       "2354   Topic3   11.153495          fire   65.137916  -0.3484  -5.8923\n",
       "593    Topic3    9.460243         child   44.514492  -0.1324  -6.0570\n",
       "574    Topic3    9.518648         union   53.084199  -0.3023  -6.0508\n",
       "\n",
       "[263 rows x 6 columns], token_table=      Topic      Freq          Term\n",
       "term                               \n",
       "1059      2  0.901428      abortion\n",
       "3280      1  0.285286        afghan\n",
       "3280      2  0.570572        afghan\n",
       "3280      3  0.126794        afghan\n",
       "2034      1  0.893240  afghan_force\n",
       "965       1  0.360036   afghanistan\n",
       "965       2  0.525053   afghanistan\n",
       "965       3  0.120012   afghanistan\n",
       "3175      1  0.622651      aircraft\n",
       "3175      2  0.283023      aircraft\n",
       "3175      3  0.056605      aircraft\n",
       "2588      3  0.842738         alarm\n",
       "2063      2  0.906423       alcohol\n",
       "237       1  0.947244         almao\n",
       "2656      3  0.843440  amalgamation\n",
       "3090      2  0.313567          amwu\n",
       "3090      3  0.627134          amwu\n",
       "1841      2  0.803122    antibiotic\n",
       "2886      1  0.793331      aquilina\n",
       "1692      1  0.598078          area\n",
       "1692      2  0.269135          area\n",
       "1692      3  0.134568          area\n",
       "2989      1  0.324098        attack\n",
       "2989      2  0.471416        attack\n",
       "2989      3  0.191513        attack\n",
       "2464      1  0.341729     australia\n",
       "2464      2  0.254106     australia\n",
       "2464      3  0.394302     australia\n",
       "3029      2  0.961483     bacterium\n",
       "2604      1  0.120036        ballot\n",
       "...     ...       ...           ...\n",
       "331       2  0.169153          user\n",
       "2929      3  0.626705       variety\n",
       "2195      1  0.859453         virus\n",
       "2195      2  0.107432         virus\n",
       "3225      1  0.789922     volunteer\n",
       "3225      2  0.263307     volunteer\n",
       "906       1  0.891682          ward\n",
       "1547      1  0.303323          week\n",
       "1547      2  0.441198          week\n",
       "1547      3  0.248174          week\n",
       "2549      1  0.297380        wicket\n",
       "2549      2  0.148690        wicket\n",
       "2549      3  0.545197        wicket\n",
       "142       1  0.617842          work\n",
       "142       2  0.288326          work\n",
       "142       3  0.123568          work\n",
       "1608      1  0.219952         world\n",
       "1608      2  0.351923         world\n",
       "1608      3  0.417909         world\n",
       "144       1  0.594226          worm\n",
       "144       2  0.297113          worm\n",
       "275       1  0.845484      yallourn\n",
       "586       2  0.313348        yassin\n",
       "586       3  0.626696        yassin\n",
       "1192      1  0.222236          year\n",
       "1192      2  0.444472          year\n",
       "1192      3  0.317480          year\n",
       "2408      1  0.241871     yesterday\n",
       "2408      2  0.314433     yesterday\n",
       "2408      3  0.435368     yesterday\n",
       "\n",
       "[447 rows x 3 columns], R=30, lambda_step=0.01, plot_opts={'xlab': 'PC1', 'ylab': 'PC2'}, topic_order=[2, 1, 3])"
      ]
     },
     "execution_count": 27,
     "metadata": {},
     "output_type": "execute_result"
    }
   ],
   "source": [
    "pyLDAvis.gensim.prepare(lmlist[2], corpus, dictionary)"
   ]
  },
  {
   "cell_type": "code",
   "execution_count": 28,
   "metadata": {
    "collapsed": false,
    "nbpresent": {
     "id": "699e2ddb-add6-4134-a723-1bb37029f013"
    }
   },
   "outputs": [],
   "source": [
    "lmtopics = lmlist[5].show_topics(formatted=False)"
   ]
  },
  {
   "cell_type": "markdown",
   "metadata": {
    "nbpresent": {
     "id": "caa35df4-b625-4246-bc1f-42c561f31486"
    }
   },
   "source": [
    "### LDA as LSI"
   ]
  },
  {
   "cell_type": "markdown",
   "metadata": {
    "nbpresent": {
     "id": "d2aa5aac-acc7-41c9-96d4-5410c0d8a14b"
    }
   },
   "source": [
    "One of the problem with LDA is that if we train it on a large number of topics, the topics get \"lost\" among the numbers. Let us see if we can dig out the best topics from the best LDA model we can produce. The function below can be used to control the quality of the LDA model we produce."
   ]
  },
  {
   "cell_type": "code",
   "execution_count": 29,
   "metadata": {
    "collapsed": false,
    "nbpresent": {
     "id": "c39406c8-1e69-4249-91ac-894338d4053b"
    }
   },
   "outputs": [],
   "source": [
    "def ret_top_model():\n",
    "    \"\"\"\n",
    "    Since LDAmodel is a probabilistic model, it comes up different topics each time we run it. To control the\n",
    "    quality of the topic model we produce, we can see what the interpretability of the best topic is and keep\n",
    "    evaluating the topic model until this threshold is crossed. \n",
    "    \n",
    "    Returns:\n",
    "    -------\n",
    "    lm: Final evaluated topic model\n",
    "    top_topics: ranked topics in decreasing order. List of tuples\n",
    "    \"\"\"\n",
    "    top_topics = [(0, 0)]\n",
    "    while top_topics[0][1] < 0.97:\n",
    "        lm = LdaModel(corpus=corpus, id2word=dictionary)\n",
    "        coherence_values = {}\n",
    "        for n, topic in lm.show_topics(num_topics=-1, formatted=False):\n",
    "            topic = [word for word, _ in topic]\n",
    "            cm = CoherenceModel(topics=[topic], texts=train_texts, dictionary=dictionary, window_size=10)\n",
    "            coherence_values[n] = cm.get_coherence()\n",
    "        top_topics = sorted(coherence_values.items(), key=operator.itemgetter(1), reverse=True)\n",
    "    return lm, top_topics"
   ]
  },
  {
   "cell_type": "code",
   "execution_count": 30,
   "metadata": {
    "collapsed": false,
    "nbpresent": {
     "id": "6b8eef4a-a87d-42bd-84dd-586610828698"
    }
   },
   "outputs": [
    {
     "name": "stdout",
     "output_type": "stream",
     "text": [
      "CPU times: user 3min 49s, sys: 3.5 s, total: 3min 52s\n",
      "Wall time: 2min 56s\n"
     ]
    }
   ],
   "source": [
    "%%time\n",
    "lm, top_topics = ret_top_model()"
   ]
  },
  {
   "cell_type": "code",
   "execution_count": 31,
   "metadata": {
    "collapsed": false,
    "nbpresent": {
     "id": "43870992-c2ff-47cf-8b6b-f62855673b42"
    }
   },
   "outputs": [
    {
     "name": "stdout",
     "output_type": "stream",
     "text": [
      "[(46, 0.98993831353039874), (53, 0.91150179907291595), (71, 0.90302748070962713), (70, 0.90178681005725581), (40, 0.85458736392159851)]\n"
     ]
    }
   ],
   "source": [
    "print(top_topics[:5])"
   ]
  },
  {
   "cell_type": "markdown",
   "metadata": {},
   "source": [
    "### Inference\n",
    "We can clearly see below that the first topic is about __cinema__, second is about __email malware__, third is about the land which was given back to the __Larrakia aboriginal community of Australia__ in 2000. Then there's one about __Australian cricket__. LDA as LSI has worked wonderfully in finding out the best topics from within LDA."
   ]
  },
  {
   "cell_type": "code",
   "execution_count": 32,
   "metadata": {
    "collapsed": false,
    "nbpresent": {
     "id": "281d1434-ce22-46c6-ba53-71a24a476568"
    }
   },
   "outputs": [
    {
     "name": "stdout",
     "output_type": "stream",
     "text": [
      "[[(u'actor', 0.025946022624634402),\n",
      "  (u'picture', 0.018433326607109113),\n",
      "  (u'nomination', 0.017326081553327294),\n",
      "  (u'comedy', 0.017326081553327294),\n",
      "  (u'globe', 0.017326081553327294),\n",
      "  (u'award', 0.017326081553327294),\n",
      "  (u'actress', 0.017326081553327294),\n",
      "  (u'film', 0.01732608155332729),\n",
      "  (u'song', 0.0087061404820201853),\n",
      "  (u'score', 0.0087061404820201853)],\n",
      " [(u'metre', 0.029678101574220662),\n",
      "  (u'event', 0.028320272858576672),\n",
      "  (u'race', 0.013907766493141006),\n",
      "  (u'kieren', 0.012937355331713581),\n",
      "  (u'water', 0.012607253556509117),\n",
      "  (u'nail', 0.011077812729010461),\n",
      "  (u'winner', 0.010447958770864763),\n",
      "  (u'swimmer', 0.010234636770640196),\n",
      "  (u'hass', 0.0099297904547094272),\n",
      "  (u'ray', 0.0099133587839137071)],\n",
      " [(u'market', 0.018832918532041523),\n",
      "  (u'rate', 0.011291139970440223),\n",
      "  (u'account', 0.010693490816298605),\n",
      "  (u'area', 0.010208016102526576),\n",
      "  (u'growth', 0.0098463718778851027),\n",
      "  (u'per_cent', 0.0089038896231044551),\n",
      "  (u'sector', 0.0088686521526868435),\n",
      "  (u'bayliss', 0.0086837657201215557),\n",
      "  (u'quarter', 0.0078340622915147855),\n",
      "  (u'maguire', 0.0078111503703121388)],\n",
      " [(u'airline', 0.038000252493372064),\n",
      "  (u'launceston', 0.038000252493372057),\n",
      "  (u'flight', 0.038000252493372057),\n",
      "  (u'morning', 0.025375583890922867),\n",
      "  (u'sherrard', 0.025375583890922867),\n",
      "  (u'administrator', 0.025375583890922867),\n",
      "  (u'contract', 0.012750915288473684),\n",
      "  (u'deputy', 0.012750915288473684),\n",
      "  (u'tent', 0.012750915288473684),\n",
      "  (u'space', 0.012750915288473681)],\n",
      " [(u'policy', 0.0046166534686521172),\n",
      "  (u'labor', 0.0040224916758538447),\n",
      "  (u'coalition', 0.0033821452445619085),\n",
      "  (u'momentum', 0.002309860952955592),\n",
      "  (u'change', 0.0022863990901989561),\n",
      "  (u'apology', 0.0022785357339841147),\n",
      "  (u'election', 0.0021911464103359351),\n",
      "  (u'willingness', 0.002166692427025837),\n",
      "  (u'extinguishment', 0.0021651969931842335),\n",
      "  (u'fact', 0.0020247850095334616)],\n",
      " [(u'space', 0.071737854458040762),\n",
      "  (u'station', 0.039817271386513094),\n",
      "  (u'shuttle', 0.037081418286004045),\n",
      "  (u'endeavour', 0.031674500837204994),\n",
      "  (u'centre', 0.023467062975410291),\n",
      "  (u'crew', 0.017596007903244625),\n",
      "  (u'launch', 0.012448678347843811),\n",
      "  (u'commander', 0.011667228882405163),\n",
      "  (u'security', 0.01139414575229462),\n",
      "  (u'equipment', 0.0096885120115283822)],\n",
      " [(u'president', 0.043653051464190164),\n",
      "  (u'rabbani', 0.038173470055958704),\n",
      "  (u'personnel', 0.019134332870941892),\n",
      "  (u'security', 0.019134332870941892),\n",
      "  (u'government', 0.019134332870941892),\n",
      "  (u'bonn', 0.019134332870941892),\n",
      "  (u'afghan', 0.019134332870941892),\n",
      "  (u'faction', 0.019134332870941892),\n",
      "  (u'security_force', 0.019134332870941892),\n",
      "  (u'appointment', 0.019134332870941885)],\n",
      " [(u'survey', 0.0213778091978577),\n",
      "  (u'year', 0.01581480449631157),\n",
      "  (u'projection', 0.0142755470058784),\n",
      "  (u'sale', 0.014275547005878396),\n",
      "  (u'dun', 0.014275547005878396),\n",
      "  (u'profit', 0.014275547005878396),\n",
      "  (u'investment', 0.014275547005878396),\n",
      "  (u'bradstreet', 0.014275547005878396),\n",
      "  (u'per_cent', 0.014275547005878396),\n",
      "  (u'metre', 0.010853556316301999)],\n",
      " [(u'union', 0.017838804924875787),\n",
      "  (u'yallourn', 0.016292383875914081),\n",
      "  (u'dispute', 0.016292383875914081),\n",
      "  (u'state', 0.013056203834386392),\n",
      "  (u'government', 0.012882124028360888),\n",
      "  (u'enterprise', 0.010879631757670202),\n",
      "  (u'power', 0.0108796317576702),\n",
      "  (u'energy', 0.0108796317576702),\n",
      "  (u'electricity', 0.0108796317576702),\n",
      "  (u'agreement', 0.0108796317576702)],\n",
      " [(u'hih', 0.027026345692914639),\n",
      "  (u'director', 0.02299929020646416),\n",
      "  (u'creditor', 0.020286608612436644),\n",
      "  (u'gibbon', 0.020286608612345519),\n",
      "  (u'australia', 0.017438431793234028),\n",
      "  (u'per_cent', 0.015560510720678832),\n",
      "  (u'meeting', 0.013546871531835569),\n",
      "  (u'commission', 0.013546871531834549),\n",
      "  (u'accountancy', 0.013546871531825088),\n",
      "  (u'firm', 0.013546871531820742)]]\n"
     ]
    }
   ],
   "source": [
    "pprint([lm.show_topic(topicid) for topicid, c_v in top_topics[:10]])"
   ]
  },
  {
   "cell_type": "code",
   "execution_count": 33,
   "metadata": {
    "collapsed": false,
    "nbpresent": {
     "id": "ada914a2-bacb-4300-8ce3-f1332843d24c"
    }
   },
   "outputs": [],
   "source": [
    "lda_lsi_topics = [[word for word, prob in lm.show_topic(topicid)] for topicid, c_v in top_topics]"
   ]
  },
  {
   "cell_type": "markdown",
   "metadata": {
    "nbpresent": {
     "id": "4f313370-b5f0-4754-9744-157da0447fc4"
    }
   },
   "source": [
    "### Evaluating all the topic models\n",
    "Any topic model which can come up with topic terms can be plugged into the coherence pipeline. You can even plug in an [NMF topic model](http://derekgreene.com/nmf-topic/) created with scikit-learn."
   ]
  },
  {
   "cell_type": "code",
   "execution_count": 34,
   "metadata": {
    "collapsed": false,
    "nbpresent": {
     "id": "4329af31-21b4-4570-903a-6df3715244c7"
    }
   },
   "outputs": [],
   "source": [
    "lsitopics = [[word for word, prob in topic] for topicid, topic in lsitopics]\n",
    "\n",
    "hdptopics = [[word for word, prob in topic] for topicid, topic in hdptopics]\n",
    "\n",
    "ldatopics = [[word for word, prob in topic] for topicid, topic in ldatopics]\n",
    "\n",
    "lmtopics = [[word for word, prob in topic] for topicid, topic in lmtopics]"
   ]
  },
  {
   "cell_type": "code",
   "execution_count": 35,
   "metadata": {
    "collapsed": true,
    "nbpresent": {
     "id": "0924faf0-a957-4d12-b35c-b50ebb30f370"
    }
   },
   "outputs": [],
   "source": [
    "lsi_coherence = CoherenceModel(topics=lsitopics[:10], texts=train_texts, dictionary=dictionary, window_size=10).get_coherence()\n",
    "\n",
    "hdp_coherence = CoherenceModel(topics=hdptopics[:10], texts=train_texts, dictionary=dictionary, window_size=10).get_coherence()\n",
    "\n",
    "lda_coherence = CoherenceModel(topics=ldatopics, texts=train_texts, dictionary=dictionary, window_size=10).get_coherence()\n",
    "\n",
    "lm_coherence = CoherenceModel(topics=lmtopics, texts=train_texts, dictionary=dictionary, window_size=10).get_coherence()\n",
    "\n",
    "lda_lsi_coherence = CoherenceModel(topics=lda_lsi_topics[:10], texts=train_texts, dictionary=dictionary, window_size=10).get_coherence()"
   ]
  },
  {
   "cell_type": "code",
   "execution_count": 36,
   "metadata": {
    "collapsed": true,
    "nbpresent": {
     "id": "59cc671f-041a-4d6f-a609-f1b9855aa05c"
    }
   },
   "outputs": [],
   "source": [
    "def evaluate_bar_graph(coherences, indices):\n",
    "    \"\"\"\n",
    "    Function to plot bar graph.\n",
    "    \n",
    "    coherences: list of coherence values\n",
    "    indices: Indices to be used to mark bars. Length of this and coherences should be equal.\n",
    "    \"\"\"\n",
    "    assert len(coherences) == len(indices)\n",
    "    n = len(coherences)\n",
    "    x = np.arange(n)\n",
    "    plt.bar(x, coherences, width=0.2, tick_label=indices, align='center')\n",
    "    plt.xlabel('Models')\n",
    "    plt.ylabel('Coherence Value')"
   ]
  },
  {
   "cell_type": "code",
   "execution_count": 37,
   "metadata": {
    "collapsed": false,
    "nbpresent": {
     "id": "b86ba0c1-c7c4-43a5-a9f5-8dfe7967be6c"
    }
   },
   "outputs": [
    {
     "data": {
      "image/png": "[encoded data removed]",
      "text/plain": [
       "<matplotlib.figure.Figure at 0x7fe38a437d50>"
      ]
     },
     "metadata": {},
     "output_type": "display_data"
    }
   ],
   "source": [
    "evaluate_bar_graph([lsi_coherence, hdp_coherence, lda_coherence, lm_coherence, lda_lsi_coherence],\n",
    "                   ['LSI', 'HDP', 'LDA', 'LDA_Mod', 'LDA_LSI'])"
   ]
  },
  {
   "cell_type": "markdown",
   "metadata": {
    "nbpresent": {
     "id": "df6cc31a-0b01-4700-b210-836dd510007a"
    }
   },
   "source": [
    "### Customizing the topic coherence measure\n",
    "Till now we only used the `c_v` coherence measure. There are others such as `u_mass`, `c_uci`, `c_npmi`. All of these calculate coherence in a different way. `c_v` is found to be most in line with human ratings but can be much slower than `u_mass` since it uses a sliding window over the texts."
   ]
  },
  {
   "cell_type": "markdown",
   "metadata": {
    "nbpresent": {
     "id": "664fa23d-ba6e-4a30-9287-e4fef1cc093e"
    }
   },
   "source": [
    "### Making your own coherence measure\n",
    "Let's modify `c_uci` to use `s_one_pre` instead of `s_one_one` segmentation"
   ]
  },
  {
   "cell_type": "code",
   "execution_count": 38,
   "metadata": {
    "collapsed": true,
    "nbpresent": {
     "id": "b3652f43-da03-4027-9170-83e1679dfa2b"
    }
   },
   "outputs": [],
   "source": [
    "from gensim.topic_coherence import (segmentation, probability_estimation,\n",
    "                                    direct_confirmation_measure, indirect_confirmation_measure,\n",
    "                                    aggregation)\n",
    "from gensim.matutils import argsort\n",
    "from collections import namedtuple"
   ]
  },
  {
   "cell_type": "code",
   "execution_count": 39,
   "metadata": {
    "collapsed": false,
    "nbpresent": {
     "id": "8ce2b802-f0c1-4ffc-9ce5-c2792856b5b4"
    }
   },
   "outputs": [],
   "source": [
    "make_pipeline = namedtuple('Coherence_Measure', 'seg, prob, conf, aggr')"
   ]
  },
  {
   "cell_type": "code",
   "execution_count": 40,
   "metadata": {
    "collapsed": true,
    "nbpresent": {
     "id": "9994e7f0-f366-40da-9c14-76e8142ee46e"
    }
   },
   "outputs": [],
   "source": [
    "measure = make_pipeline(segmentation.s_one_one,\n",
    "                        probability_estimation.p_boolean_sliding_window,\n",
    "                        direct_confirmation_measure.log_ratio_measure,\n",
    "                        aggregation.arithmetic_mean)"
   ]
  },
  {
   "cell_type": "markdown",
   "metadata": {
    "nbpresent": {
     "id": "416f5820-1538-4483-a77f-5211c8179891"
    }
   },
   "source": [
    "To get topics out of the topic model:"
   ]
  },
  {
   "cell_type": "code",
   "execution_count": 41,
   "metadata": {
    "collapsed": true,
    "nbpresent": {
     "id": "aa9d35ae-c458-49d2-bdbe-d93d5cb3ba9c"
    }
   },
   "outputs": [],
   "source": [
    "topics = []\n",
    "for topic in lm.state.get_lambda():\n",
    "    bestn = argsort(topic, topn=10, reverse=True)\n",
    "topics.append(bestn)"
   ]
  },
  {
   "cell_type": "markdown",
   "metadata": {
    "nbpresent": {
     "id": "13f246a0-918e-44c1-ae19-7af118d83585"
    }
   },
   "source": [
    "__Step 1__: Segmentation"
   ]
  },
  {
   "cell_type": "code",
   "execution_count": 42,
   "metadata": {
    "collapsed": true,
    "nbpresent": {
     "id": "821ab68b-c377-40b1-bdf3-b92d66414383"
    }
   },
   "outputs": [],
   "source": [
    "# Perform segmentation\n",
    "segmented_topics = measure.seg(topics)"
   ]
  },
  {
   "cell_type": "markdown",
   "metadata": {
    "nbpresent": {
     "id": "e4b50714-b644-4213-b3cb-bdac9fe22476"
    }
   },
   "source": [
    "__Step 2__: Probability estimation"
   ]
  },
  {
   "cell_type": "code",
   "execution_count": 43,
   "metadata": {
    "collapsed": false,
    "nbpresent": {
     "id": "d8a8bcc6-8b37-4d4f-ad06-903804776078"
    }
   },
   "outputs": [],
   "source": [
    "# Since this is a window-based coherence measure we will perform window based prob estimation\n",
    "per_topic_postings, num_windows = measure.prob(texts=train_texts, segmented_topics=segmented_topics,\n",
    "                                               dictionary=dictionary, window_size=2)"
   ]
  },
  {
   "cell_type": "markdown",
   "metadata": {
    "nbpresent": {
     "id": "6f302dcb-787b-42b0-98f0-1df0a163a818"
    }
   },
   "source": [
    "__Step 3__: Confirmation Measure"
   ]
  },
  {
   "cell_type": "code",
   "execution_count": 44,
   "metadata": {
    "collapsed": true,
    "nbpresent": {
     "id": "ffb5aaa9-5fa1-4b28-ba2f-e23525caa392"
    }
   },
   "outputs": [],
   "source": [
    "confirmed_measures = measure.conf(segmented_topics, per_topic_postings, num_windows, normalize=False)"
   ]
  },
  {
   "cell_type": "markdown",
   "metadata": {
    "nbpresent": {
     "id": "3544f061-6870-4630-bd54-79f75decf8b6"
    }
   },
   "source": [
    "__Step 4__: Aggregation"
   ]
  },
  {
   "cell_type": "code",
   "execution_count": 45,
   "metadata": {
    "collapsed": false,
    "nbpresent": {
     "id": "31c64f41-a499-4f80-8ccd-1364940f7383"
    }
   },
   "outputs": [
    {
     "name": "stdout",
     "output_type": "stream",
     "text": [
      "-11.255475409\n"
     ]
    }
   ],
   "source": [
    "print(measure.aggr(confirmed_measures))"
   ]
  },
  {
   "cell_type": "markdown",
   "metadata": {},
   "source": [
    "# How this topic model can be used further\n",
    "The best topic model here can be used as a standalone for news article classification. However a topic model can also be used as a dimensionality reduction algorithm to feed into a classifier. A good topic model should be able to extract the signal from the noise efficiently, hence improving the performance of the classifier."
   ]
  }
 ],
 "metadata": {
  "anaconda-cloud": {},
  "kernelspec": {
   "display_name": "Python 2",
   "language": "python",
   "name": "python2"
  },
  "language_info": {
   "codemirror_mode": {
    "name": "ipython",
    "version": 2
   },
   "file_extension": ".py",
   "mimetype": "text/x-python",
   "name": "python",
   "nbconvert_exporter": "python",
   "pygments_lexer": "ipython2",
   "version": "2.7.12"
  },
  "nbpresent": {
   "slides": {
    "04abaf09-1754-419e-9cf8-3c4f0accfc5f": {
     "id": "04abaf09-1754-419e-9cf8-3c4f0accfc5f",
     "prev": "67c9421a-0e61-4346-873f-bf3769d00c97",
     "regions": {
      "48b5cd39-b89b-4e2f-be2a-47a0fccafd3b": {
       "attrs": {
        "height": 0.8,
        "width": 0.8,
        "x": 0.1,
        "y": 0.1
       },
       "content": {
        "cell": "862c087b-b918-47b9-b0cf-42b71996e061",
        "part": "whole"
       },
       "id": "48b5cd39-b89b-4e2f-be2a-47a0fccafd3b"
      }
     }
    },
    "0527f44a-39b6-4cf8-9802-d16b8cd34754": {
     "id": "0527f44a-39b6-4cf8-9802-d16b8cd34754",
     "prev": "103c32ed-02bc-4365-a431-5acd77fe6585",
     "regions": {
      "ed3805ae-4076-41ad-a578-69a0b2356f95": {
       "attrs": {
        "height": 0.8,
        "width": 0.8,
        "x": 0.1,
        "y": 0.1
       },
       "content": {
        "cell": "b3652f43-da03-4027-9170-83e1679dfa2b",
        "part": "whole"
       },
       "id": "ed3805ae-4076-41ad-a578-69a0b2356f95"
      }
     }
    },
    "05fa6235-ac93-41b7-9975-3fee534b0c94": {
     "id": "05fa6235-ac93-41b7-9975-3fee534b0c94",
     "prev": "e44d6d8f-7236-458f-a308-36142bc72ff4",
     "regions": {
      "3e316a57-509e-404e-a89b-bde56696b966": {
       "attrs": {
        "height": 0.8,
        "width": 0.8,
        "x": 0.1,
        "y": 0.1
       },
       "content": {
        "cell": "c39406c8-1e69-4249-91ac-894338d4053b",
        "part": "whole"
       },
       "id": "3e316a57-509e-404e-a89b-bde56696b966"
      }
     }
    },
    "0e2565e0-a21d-4dbb-a4b3-8698e797c45d": {
     "id": "0e2565e0-a21d-4dbb-a4b3-8698e797c45d",
     "prev": "11baa747-dc0e-430a-8f38-65331394d2fd",
     "regions": {
      "2e423579-bece-40ca-ba30-122f49d93655": {
       "attrs": {
        "height": 0.8,
        "width": 0.8,
        "x": 0.1,
        "y": 0.1
       },
       "content": {
        "cell": "e4b50714-b644-4213-b3cb-bdac9fe22476",
        "part": "whole"
       },
       "id": "2e423579-bece-40ca-ba30-122f49d93655"
      }
     }
    },
    "103c32ed-02bc-4365-a431-5acd77fe6585": {
     "id": "103c32ed-02bc-4365-a431-5acd77fe6585",
     "prev": "23b717ee-a57c-42c5-9959-c8a314a329c6",
     "regions": {
      "aa966e74-db8d-473a-9ee6-8cad8e7407f3": {
       "attrs": {
        "height": 0.8,
        "width": 0.8,
        "x": 0.1,
        "y": 0.1
       },
       "content": {
        "cell": "664fa23d-ba6e-4a30-9287-e4fef1cc093e",
        "part": "whole"
       },
       "id": "aa966e74-db8d-473a-9ee6-8cad8e7407f3"
      }
     }
    },
    "10763d44-d64e-46c7-a164-8b92d219e71d": {
     "id": "10763d44-d64e-46c7-a164-8b92d219e71d",
     "prev": "d84b78ed-e79f-4657-b62b-eeff30c4fe8d",
     "regions": {
      "a27ddbe9-cfa8-49fe-b284-3567ebbfb1c7": {
       "attrs": {
        "height": 0.8,
        "width": 0.8,
        "x": 0.1,
        "y": 0.1
       },
       "content": {
        "cell": "43870992-c2ff-47cf-8b6b-f62855673b42",
        "part": "whole"
       },
       "id": "a27ddbe9-cfa8-49fe-b284-3567ebbfb1c7"
      }
     }
    },
    "11baa747-dc0e-430a-8f38-65331394d2fd": {
     "id": "11baa747-dc0e-430a-8f38-65331394d2fd",
     "prev": "a2c51720-8844-4953-94a8-55d723ec2499",
     "regions": {
      "6d7e8f18-6703-4c31-8353-4a714df2d33f": {
       "attrs": {
        "height": 0.8,
        "width": 0.8,
        "x": 0.1,
        "y": 0.1
       },
       "content": {
        "cell": "821ab68b-c377-40b1-bdf3-b92d66414383",
        "part": "whole"
       },
       "id": "6d7e8f18-6703-4c31-8353-4a714df2d33f"
      }
     }
    },
    "12513a0d-3e80-464d-9285-3bdd87e0b9c0": {
     "id": "12513a0d-3e80-464d-9285-3bdd87e0b9c0",
     "prev": "e71a7d3a-c9bb-4db0-9597-95b9b3233d3b",
     "regions": {
      "5fb06a62-1d61-417a-9c02-3fa7fa00fee1": {
       "attrs": {
        "height": 0.8,
        "width": 0.8,
        "x": 0.1,
        "y": 0.1
       },
       "content": {
        "cell": "416f5820-1538-4483-a77f-5211c8179891",
        "part": "whole"
       },
       "id": "5fb06a62-1d61-417a-9c02-3fa7fa00fee1"
      }
     }
    },
    "13c7e576-8024-4b19-8874-d65c24a9ee0f": {
     "id": "13c7e576-8024-4b19-8874-d65c24a9ee0f",
     "prev": "b6050bf2-3f03-47ef-9510-80c01755a79e",
     "regions": {
      "45c58bb7-75a4-4434-b5fa-59f7ad56e7d6": {
       "attrs": {
        "height": 0.8,
        "width": 0.8,
        "x": 0.1,
        "y": 0.1
       },
       "content": {
        "cell": "2c5b03e0-ce0f-4999-8fe1-820a9fe06873",
        "part": "whole"
       },
       "id": "45c58bb7-75a4-4434-b5fa-59f7ad56e7d6"
      }
     }
    },
    "23b717ee-a57c-42c5-9959-c8a314a329c6": {
     "id": "23b717ee-a57c-42c5-9959-c8a314a329c6",
     "prev": "4033c3a0-0021-4cbc-a589-50c63550217b",
     "regions": {
      "ca7e045e-962d-47e3-a594-eafdf7424671": {
       "attrs": {
        "height": 0.8,
        "width": 0.8,
        "x": 0.1,
        "y": 0.1
       },
       "content": {
        "cell": "df6cc31a-0b01-4700-b210-836dd510007a",
        "part": "whole"
       },
       "id": "ca7e045e-962d-47e3-a594-eafdf7424671"
      }
     }
    },
    "257bf09e-bd55-4957-97ea-4d3c8b85016a": {
     "id": "257bf09e-bd55-4957-97ea-4d3c8b85016a",
     "prev": null,
     "regions": {
      "cf220469-7ef0-4fb9-80b4-cbdb55aa86db": {
       "attrs": {
        "height": 0.8,
        "width": 0.8,
        "x": 0.1,
        "y": 0.1
       },
       "content": {
        "cell": "e0085648-0300-4087-9b12-ee7d2392ce4f",
        "part": "whole"
       },
       "id": "cf220469-7ef0-4fb9-80b4-cbdb55aa86db"
      }
     }
    },
    "280f0473-61ec-4b88-b9d4-172e734fd0a5": {
     "id": "280f0473-61ec-4b88-b9d4-172e734fd0a5",
     "prev": "d7495fd8-cfb5-42ee-a0eb-86679c419bae",
     "regions": {
      "c58169da-ccea-4657-95a3-fc1e5fba3ac3": {
       "attrs": {
        "height": 0.8,
        "width": 0.8,
        "x": 0.1,
        "y": 0.1
       },
       "content": {
        "cell": "f4d505e5-5e90-4770-aaae-04ae05d697b5",
        "part": "whole"
       },
       "id": "c58169da-ccea-4657-95a3-fc1e5fba3ac3"
      }
     }
    },
    "2e4a9702-f7a2-48a5-bd13-2087e9216b38": {
     "id": "2e4a9702-f7a2-48a5-bd13-2087e9216b38",
     "prev": "04abaf09-1754-419e-9cf8-3c4f0accfc5f",
     "regions": {
      "b31a05d5-a8fe-40d2-a368-cc39f50ee938": {
       "attrs": {
        "height": 0.8,
        "width": 0.8,
        "x": 0.1,
        "y": 0.1
       },
       "content": {
        "cell": "1181e3a8-6803-4f41-9d55-397f3d700c28",
        "part": "whole"
       },
       "id": "b31a05d5-a8fe-40d2-a368-cc39f50ee938"
      }
     }
    },
    "4033c3a0-0021-4cbc-a589-50c63550217b": {
     "id": "4033c3a0-0021-4cbc-a589-50c63550217b",
     "prev": "c68aae9d-645c-4cbf-9dc1-92ed9aa0f5d3",
     "regions": {
      "55173d13-adca-4e7f-a760-92bd299e6c40": {
       "attrs": {
        "height": 0.8,
        "width": 0.8,
        "x": 0.1,
        "y": 0.1
       },
       "content": {
        "cell": "b86ba0c1-c7c4-43a5-a9f5-8dfe7967be6c",
        "part": "whole"
       },
       "id": "55173d13-adca-4e7f-a760-92bd299e6c40"
      }
     }
    },
    "479d81b5-3b8b-4ddf-bbfe-6ae6ff33c2fa": {
     "id": "479d81b5-3b8b-4ddf-bbfe-6ae6ff33c2fa",
     "prev": "280f0473-61ec-4b88-b9d4-172e734fd0a5",
     "regions": {
      "6c334c87-c8a0-4328-b310-6be0e9a89532": {
       "attrs": {
        "height": 0.8,
        "width": 0.8,
        "x": 0.1,
        "y": 0.1
       },
       "content": {
        "cell": "4dbde9d2-3a9d-4677-8dd4-90066c0cb7c4",
        "part": "whole"
       },
       "id": "6c334c87-c8a0-4328-b310-6be0e9a89532"
      }
     }
    },
    "488af944-ad92-49c5-9d1d-ccdb1e929dce": {
     "id": "488af944-ad92-49c5-9d1d-ccdb1e929dce",
     "prev": "13c7e576-8024-4b19-8874-d65c24a9ee0f",
     "regions": {
      "fb1eddce-8820-408b-8b73-3a1654b93816": {
       "attrs": {
        "height": 0.8,
        "width": 0.8,
        "x": 0.1,
        "y": 0.1
       },
       "content": {
        "cell": "7da56259-bbf2-4f63-93f6-033833ae4494",
        "part": "whole"
       },
       "id": "fb1eddce-8820-408b-8b73-3a1654b93816"
      }
     }
    },
    "4af127dc-0330-4f8e-b907-3e409ba31a06": {
     "id": "4af127dc-0330-4f8e-b907-3e409ba31a06",
     "prev": "fbd9f3b3-f9b0-4886-b987-3f9d0ca983bc",
     "regions": {
      "1f9e4115-c1c7-4e4c-a262-648adc28ad2a": {
       "attrs": {
        "height": 0.8,
        "width": 0.8,
        "x": 0.1,
        "y": 0.1
       },
       "content": {
        "cell": "3d784001-6875-4be5-b8e8-e6c490f5b7b4",
        "part": "whole"
       },
       "id": "1f9e4115-c1c7-4e4c-a262-648adc28ad2a"
      }
     }
    },
    "67c9421a-0e61-4346-873f-bf3769d00c97": {
     "id": "67c9421a-0e61-4346-873f-bf3769d00c97",
     "prev": "efc03832-2e6d-4250-8ac5-f4c13cfdb733",
     "regions": {
      "d9b839cd-46ac-451d-bb1b-3edd613c0ba3": {
       "attrs": {
        "height": 0.8,
        "width": 0.8,
        "x": 0.1,
        "y": 0.1
       },
       "content": {
        "cell": "3ca3d45b-a28b-41c7-b5de-4c124c50d13d",
        "part": "whole"
       },
       "id": "d9b839cd-46ac-451d-bb1b-3edd613c0ba3"
      }
     }
    },
    "78837f0a-d7b6-48ae-b64e-3a2af8286ccc": {
     "id": "78837f0a-d7b6-48ae-b64e-3a2af8286ccc",
     "prev": "bb7417b1-270b-4977-bbf3-606a574c38ec",
     "regions": {
      "37ced915-20bf-49cd-9691-82e9fdcfe211": {
       "attrs": {
        "height": 0.8,
        "width": 0.8,
        "x": 0.1,
        "y": 0.1
       },
       "content": {
        "cell": "b1a8c7b4-dc46-4bfe-b17b-d604f212b389",
        "part": "whole"
       },
       "id": "37ced915-20bf-49cd-9691-82e9fdcfe211"
      }
     }
    },
    "7f7b5da4-7345-442b-8cd5-662cfba97db9": {
     "id": "7f7b5da4-7345-442b-8cd5-662cfba97db9",
     "prev": "f6d5269c-54db-4887-b274-d00572aead72",
     "regions": {
      "5fcadbcf-4f67-4bd7-bc4c-0e9db215581c": {
       "attrs": {
        "height": 0.8,
        "width": 0.8,
        "x": 0.1,
        "y": 0.1
       },
       "content": {
        "cell": "a02b72fb-0049-4ec3-825f-179e396f3904",
        "part": "whole"
       },
       "id": "5fcadbcf-4f67-4bd7-bc4c-0e9db215581c"
      }
     }
    },
    "823091e1-74b1-44e3-af50-388881c30968": {
     "id": "823091e1-74b1-44e3-af50-388881c30968",
     "prev": "e24d4b0b-34e2-46de-a99d-a4be39ca2951",
     "regions": {
      "cd97517e-4f86-48bd-9496-92ebad8c97cf": {
       "attrs": {
        "height": 0.8,
        "width": 0.8,
        "x": 0.1,
        "y": 0.1
       },
       "content": {
        "cell": "ffb5aaa9-5fa1-4b28-ba2f-e23525caa392",
        "part": "whole"
       },
       "id": "cd97517e-4f86-48bd-9496-92ebad8c97cf"
      }
     }
    },
    "845fbe01-dd28-4ad8-9eb5-d13c49f6772c": {
     "id": "845fbe01-dd28-4ad8-9eb5-d13c49f6772c",
     "prev": "87040bd6-a3e9-4785-97e0-08d7e7c5b8ef",
     "regions": {
      "1b5a1350-c3d1-43d8-bbc3-90ac260b5a8b": {
       "attrs": {
        "height": 0.8,
        "width": 0.8,
        "x": 0.1,
        "y": 0.1
       },
       "content": {
        "cell": "bcbc3313-3a57-4923-b330-69691eaf7535",
        "part": "whole"
       },
       "id": "1b5a1350-c3d1-43d8-bbc3-90ac260b5a8b"
      }
     }
    },
    "8541226b-6ff1-4700-a399-71e3cf68d91b": {
     "id": "8541226b-6ff1-4700-a399-71e3cf68d91b",
     "prev": "10763d44-d64e-46c7-a164-8b92d219e71d",
     "regions": {
      "7c4c47d8-a698-4e96-a411-556d9ad6b15b": {
       "attrs": {
        "height": 0.8,
        "width": 0.8,
        "x": 0.1,
        "y": 0.1
       },
       "content": {
        "cell": "281d1434-ce22-46c6-ba53-71a24a476568",
        "part": "whole"
       },
       "id": "7c4c47d8-a698-4e96-a411-556d9ad6b15b"
      }
     }
    },
    "87040bd6-a3e9-4785-97e0-08d7e7c5b8ef": {
     "id": "87040bd6-a3e9-4785-97e0-08d7e7c5b8ef",
     "prev": "ad16016c-8a9e-49da-a3d2-5ab56ca11579",
     "regions": {
      "cc35a589-c8c7-459f-893d-102c0d77bee3": {
       "attrs": {
        "height": 0.8,
        "width": 0.8,
        "x": 0.1,
        "y": 0.1
       },
       "content": {
        "cell": "8778b874-a6d1-4f2f-ba02-35dc0fa10f0c",
        "part": "whole"
       },
       "id": "cc35a589-c8c7-459f-893d-102c0d77bee3"
      }
     }
    },
    "8aa83fc2-d106-4c85-8b7f-1116db7ee9d4": {
     "id": "8aa83fc2-d106-4c85-8b7f-1116db7ee9d4",
     "prev": "f870a325-581b-4d8e-a4c0-095972e4cc21",
     "regions": {
      "9f7afc1f-6e9d-47bf-98e0-7e0350e1f516": {
       "attrs": {
        "height": 0.8,
        "width": 0.8,
        "x": 0.1,
        "y": 0.1
       },
       "content": {
        "cell": "45b1a641-1152-4364-ad25-62d1f8187317",
        "part": "whole"
       },
       "id": "9f7afc1f-6e9d-47bf-98e0-7e0350e1f516"
      }
     }
    },
    "944a5639-4b22-4f7f-b836-5ac3bf1cb21e": {
     "id": "944a5639-4b22-4f7f-b836-5ac3bf1cb21e",
     "prev": "d30e098d-5b03-4087-bb2e-fe706d78fae9",
     "regions": {
      "c32c5800-6b61-4a15-b909-b1163c6ffe62": {
       "attrs": {
        "height": 0.8,
        "width": 0.8,
        "x": 0.1,
        "y": 0.1
       },
       "content": {
        "cell": "4329af31-21b4-4570-903a-6df3715244c7",
        "part": "whole"
       },
       "id": "c32c5800-6b61-4a15-b909-b1163c6ffe62"
      }
     }
    },
    "951ea1a1-a91e-41a8-827e-fc3624ae3250": {
     "id": "951ea1a1-a91e-41a8-827e-fc3624ae3250",
     "prev": "d46a6bb8-e8dc-42dd-ac78-33a9cc66fcaa",
     "regions": {
      "bc84fb60-e322-4e23-8b12-21f7fbfd11be": {
       "attrs": {
        "height": 0.8,
        "width": 0.8,
        "x": 0.1,
        "y": 0.1
       },
       "content": {
        "cell": "caa35df4-b625-4246-bc1f-42c561f31486",
        "part": "whole"
       },
       "id": "bc84fb60-e322-4e23-8b12-21f7fbfd11be"
      }
     }
    },
    "96f08da8-8b76-4bf1-829e-50dc77b96f23": {
     "id": "96f08da8-8b76-4bf1-829e-50dc77b96f23",
     "prev": "7f7b5da4-7345-442b-8cd5-662cfba97db9",
     "regions": {
      "ee8f45c8-aaa8-4c02-8067-bee120c4685d": {
       "attrs": {
        "height": 0.8,
        "width": 0.8,
        "x": 0.1,
        "y": 0.1
       },
       "content": {
        "cell": "672c009d-3dbc-4a1f-a789-2a0fe78729b9",
        "part": "whole"
       },
       "id": "ee8f45c8-aaa8-4c02-8067-bee120c4685d"
      }
     }
    },
    "9d28ba7f-c1e5-4ac3-ae0d-08721cddf897": {
     "id": "9d28ba7f-c1e5-4ac3-ae0d-08721cddf897",
     "prev": "b758d6c7-7c92-4aba-a50f-4ea841c3bbd5",
     "regions": {
      "f1d84675-1d92-48aa-b454-b5cfd4919f9c": {
       "attrs": {
        "height": 0.8,
        "width": 0.8,
        "x": 0.1,
        "y": 0.1
       },
       "content": {
        "cell": "85e46481-0245-448c-b4e2-e0c6e175357c",
        "part": "whole"
       },
       "id": "f1d84675-1d92-48aa-b454-b5cfd4919f9c"
      }
     }
    },
    "a2c51720-8844-4953-94a8-55d723ec2499": {
     "id": "a2c51720-8844-4953-94a8-55d723ec2499",
     "prev": "ec5e5d0b-4635-44cc-acc2-f4a52d49a309",
     "regions": {
      "8e52be0c-e63e-434c-b1ca-9c69b58557a6": {
       "attrs": {
        "height": 0.8,
        "width": 0.8,
        "x": 0.1,
        "y": 0.1
       },
       "content": {
        "cell": "13f246a0-918e-44c1-ae19-7af118d83585",
        "part": "whole"
       },
       "id": "8e52be0c-e63e-434c-b1ca-9c69b58557a6"
      }
     }
    },
    "ad16016c-8a9e-49da-a3d2-5ab56ca11579": {
     "id": "ad16016c-8a9e-49da-a3d2-5ab56ca11579",
     "prev": "257bf09e-bd55-4957-97ea-4d3c8b85016a",
     "regions": {
      "ba9b7c66-e2b9-4e94-a595-b6e1e9c8ba3a": {
       "attrs": {
        "height": 0.8,
        "width": 0.8,
        "x": 0.1,
        "y": 0.1
       },
       "content": {
        "cell": "25997dab-04e3-4abc-b22f-b36944b208c2",
        "part": "whole"
       },
       "id": "ba9b7c66-e2b9-4e94-a595-b6e1e9c8ba3a"
      }
     }
    },
    "aea4c7d8-d448-4c6e-b98a-aee48ab874f3": {
     "id": "aea4c7d8-d448-4c6e-b98a-aee48ab874f3",
     "prev": "823091e1-74b1-44e3-af50-388881c30968",
     "regions": {
      "c9f42ad3-4f13-490e-98af-ba7f90c04c7e": {
       "attrs": {
        "height": 0.8,
        "width": 0.8,
        "x": 0.1,
        "y": 0.1
       },
       "content": {
        "cell": "3544f061-6870-4630-bd54-79f75decf8b6",
        "part": "whole"
       },
       "id": "c9f42ad3-4f13-490e-98af-ba7f90c04c7e"
      }
     }
    },
    "aedf0537-c77a-45f0-9d07-af274cfcc254": {
     "id": "aedf0537-c77a-45f0-9d07-af274cfcc254",
     "prev": "e6ae4652-4831-456f-a99c-275d5a367c31",
     "regions": {
      "6b39b1f4-a8eb-48a7-abe6-34f074ddfffe": {
       "attrs": {
        "height": 0.8,
        "width": 0.8,
        "x": 0.1,
        "y": 0.1
       },
       "content": {
        "cell": "58e7dda6-0dd2-4e4f-b81a-0b530c66b20b",
        "part": "whole"
       },
       "id": "6b39b1f4-a8eb-48a7-abe6-34f074ddfffe"
      }
     }
    },
    "b225aeee-0655-46cd-b065-53ac161542e1": {
     "id": "b225aeee-0655-46cd-b065-53ac161542e1",
     "prev": "944a5639-4b22-4f7f-b836-5ac3bf1cb21e",
     "regions": {
      "3fb9131f-b513-4608-88e3-1829aab4af80": {
       "attrs": {
        "height": 0.8,
        "width": 0.8,
        "x": 0.1,
        "y": 0.1
       },
       "content": {
        "cell": "0924faf0-a957-4d12-b35c-b50ebb30f370",
        "part": "whole"
       },
       "id": "3fb9131f-b513-4608-88e3-1829aab4af80"
      }
     }
    },
    "b6050bf2-3f03-47ef-9510-80c01755a79e": {
     "id": "b6050bf2-3f03-47ef-9510-80c01755a79e",
     "prev": "96f08da8-8b76-4bf1-829e-50dc77b96f23",
     "regions": {
      "35a04fb6-5997-463a-b71f-8ad41ce5def6": {
       "attrs": {
        "height": 0.8,
        "width": 0.8,
        "x": 0.1,
        "y": 0.1
       },
       "content": {
        "cell": "f7724653-52ef-41e8-aa22-6232be216b08",
        "part": "whole"
       },
       "id": "35a04fb6-5997-463a-b71f-8ad41ce5def6"
      }
     }
    },
    "b758d6c7-7c92-4aba-a50f-4ea841c3bbd5": {
     "id": "b758d6c7-7c92-4aba-a50f-4ea841c3bbd5",
     "prev": "f2b5f77b-2cf3-4728-901e-453b1ee328e4",
     "regions": {
      "3907d293-429a-446b-aa7b-d48636df66de": {
       "attrs": {
        "height": 0.8,
        "width": 0.8,
        "x": 0.1,
        "y": 0.1
       },
       "content": {
        "cell": "92dbb672-adca-4535-8089-de23712828d8",
        "part": "whole"
       },
       "id": "3907d293-429a-446b-aa7b-d48636df66de"
      }
     }
    },
    "b78b6f6e-aa16-462e-8f65-fcb552b32c31": {
     "id": "b78b6f6e-aa16-462e-8f65-fcb552b32c31",
     "prev": "de9edf29-6b79-4254-9128-e8e5339d95b7",
     "regions": {
      "7907113d-9b89-4a1c-9b8e-9ccf0f800218": {
       "attrs": {
        "height": 0.8,
        "width": 0.8,
        "x": 0.1,
        "y": 0.1
       },
       "content": {
        "cell": "0e5ca1a8-9c78-412a-9ab4-a4d0be5afd34",
        "part": "whole"
       },
       "id": "7907113d-9b89-4a1c-9b8e-9ccf0f800218"
      }
     }
    },
    "bb7417b1-270b-4977-bbf3-606a574c38ec": {
     "id": "bb7417b1-270b-4977-bbf3-606a574c38ec",
     "prev": "aedf0537-c77a-45f0-9d07-af274cfcc254",
     "regions": {
      "4186cf60-3730-4fac-9b82-c178d043465c": {
       "attrs": {
        "height": 0.8,
        "width": 0.8,
        "x": 0.1,
        "y": 0.1
       },
       "content": {
        "cell": "6b5572c0-2ab0-4b13-a08f-3db21b4c4f21",
        "part": "whole"
       },
       "id": "4186cf60-3730-4fac-9b82-c178d043465c"
      }
     }
    },
    "bc583748-3efc-4990-a121-5c23ddd1cf76": {
     "id": "bc583748-3efc-4990-a121-5c23ddd1cf76",
     "prev": "b78b6f6e-aa16-462e-8f65-fcb552b32c31",
     "regions": {
      "1fe1815a-69fc-439e-9943-115c788d87de": {
       "attrs": {
        "height": 0.8,
        "width": 0.8,
        "x": 0.1,
        "y": 0.1
       },
       "content": {
        "cell": "161e8770-8bc2-41ae-98f4-08d1c9311e82",
        "part": "whole"
       },
       "id": "1fe1815a-69fc-439e-9943-115c788d87de"
      }
     }
    },
    "bebeb5ec-eea2-4353-b2e1-ba7cdb847132": {
     "id": "bebeb5ec-eea2-4353-b2e1-ba7cdb847132",
     "prev": "aea4c7d8-d448-4c6e-b98a-aee48ab874f3",
     "regions": {
      "acd4706d-0fa8-4d2c-93b1-e01bcddce185": {
       "attrs": {
        "height": 0.8,
        "width": 0.8,
        "x": 0.1,
        "y": 0.1
       },
       "content": {
        "cell": "31c64f41-a499-4f80-8ccd-1364940f7383",
        "part": "whole"
       },
       "id": "acd4706d-0fa8-4d2c-93b1-e01bcddce185"
      }
     }
    },
    "c68aae9d-645c-4cbf-9dc1-92ed9aa0f5d3": {
     "id": "c68aae9d-645c-4cbf-9dc1-92ed9aa0f5d3",
     "prev": "b225aeee-0655-46cd-b065-53ac161542e1",
     "regions": {
      "18e9a755-775e-407c-adec-19d9d2553aa3": {
       "attrs": {
        "height": 0.8,
        "width": 0.8,
        "x": 0.1,
        "y": 0.1
       },
       "content": {
        "cell": "59cc671f-041a-4d6f-a609-f1b9855aa05c",
        "part": "whole"
       },
       "id": "18e9a755-775e-407c-adec-19d9d2553aa3"
      }
     }
    },
    "c86c2c29-3931-4f32-b9b8-2927bd48a5d2": {
     "id": "c86c2c29-3931-4f32-b9b8-2927bd48a5d2",
     "prev": "8541226b-6ff1-4700-a399-71e3cf68d91b",
     "regions": {
      "98d1caf9-aaab-4a6a-8d39-875e61f4b508": {
       "attrs": {
        "height": 0.8,
        "width": 0.8,
        "x": 0.1,
        "y": 0.1
       },
       "content": {
        "cell": "ada914a2-bacb-4300-8ce3-f1332843d24c",
        "part": "whole"
       },
       "id": "98d1caf9-aaab-4a6a-8d39-875e61f4b508"
      }
     }
    },
    "ca688a20-d25d-4266-8f63-967e003c1f2f": {
     "id": "ca688a20-d25d-4266-8f63-967e003c1f2f",
     "prev": "78837f0a-d7b6-48ae-b64e-3a2af8286ccc",
     "regions": {
      "3b6c70c9-c6b9-4505-aefb-c64c0d183b96": {
       "attrs": {
        "height": 0.8,
        "width": 0.8,
        "x": 0.1,
        "y": 0.1
       },
       "content": {
        "cell": "943a5fcd-7c2e-4c16-9879-34882a7a74d4",
        "part": "whole"
       },
       "id": "3b6c70c9-c6b9-4505-aefb-c64c0d183b96"
      }
     }
    },
    "d30e098d-5b03-4087-bb2e-fe706d78fae9": {
     "id": "d30e098d-5b03-4087-bb2e-fe706d78fae9",
     "prev": "c86c2c29-3931-4f32-b9b8-2927bd48a5d2",
     "regions": {
      "ce2693da-705b-4afd-9284-d04c8e1b2ff4": {
       "attrs": {
        "height": 0.8,
        "width": 0.8,
        "x": 0.1,
        "y": 0.1
       },
       "content": {
        "cell": "4f313370-b5f0-4754-9744-157da0447fc4",
        "part": "whole"
       },
       "id": "ce2693da-705b-4afd-9284-d04c8e1b2ff4"
      }
     }
    },
    "d386ac9f-a3fc-4b7e-8171-72c5de5bcd6b": {
     "id": "d386ac9f-a3fc-4b7e-8171-72c5de5bcd6b",
     "prev": "488af944-ad92-49c5-9d1d-ccdb1e929dce",
     "regions": {
      "742b6acb-94bd-40bc-95c5-45686415a4d2": {
       "attrs": {
        "height": 0.8,
        "width": 0.8,
        "x": 0.1,
        "y": 0.1
       },
       "content": {
        "cell": "13f462fd-b0c3-4a29-90f3-050e2317b72c",
        "part": "whole"
       },
       "id": "742b6acb-94bd-40bc-95c5-45686415a4d2"
      }
     }
    },
    "d46a6bb8-e8dc-42dd-ac78-33a9cc66fcaa": {
     "id": "d46a6bb8-e8dc-42dd-ac78-33a9cc66fcaa",
     "prev": "e1b1494f-f764-4c7c-9b18-9c4117ac6b1a",
     "regions": {
      "46818eb4-db41-4ae4-ab4a-fb8aa8381df4": {
       "attrs": {
        "height": 0.8,
        "width": 0.8,
        "x": 0.1,
        "y": 0.1
       },
       "content": {
        "cell": "699e2ddb-add6-4134-a723-1bb37029f013",
        "part": "whole"
       },
       "id": "46818eb4-db41-4ae4-ab4a-fb8aa8381df4"
      }
     }
    },
    "d7495fd8-cfb5-42ee-a0eb-86679c419bae": {
     "id": "d7495fd8-cfb5-42ee-a0eb-86679c419bae",
     "prev": "845fbe01-dd28-4ad8-9eb5-d13c49f6772c",
     "regions": {
      "1b6fb9c6-e9e8-48d0-8879-43681a10b003": {
       "attrs": {
        "height": 0.8,
        "width": 0.8,
        "x": 0.1,
        "y": 0.1
       },
       "content": {
        "cell": "d447e236-b1b9-4cf7-bc39-8bfb499d4730",
        "part": "whole"
       },
       "id": "1b6fb9c6-e9e8-48d0-8879-43681a10b003"
      }
     }
    },
    "d84b78ed-e79f-4657-b62b-eeff30c4fe8d": {
     "id": "d84b78ed-e79f-4657-b62b-eeff30c4fe8d",
     "prev": "05fa6235-ac93-41b7-9975-3fee534b0c94",
     "regions": {
      "2dc757c4-cd6f-4663-b3ed-16873bd59e53": {
       "attrs": {
        "height": 0.8,
        "width": 0.8,
        "x": 0.1,
        "y": 0.1
       },
       "content": {
        "cell": "6b8eef4a-a87d-42bd-84dd-586610828698",
        "part": "whole"
       },
       "id": "2dc757c4-cd6f-4663-b3ed-16873bd59e53"
      }
     }
    },
    "de9edf29-6b79-4254-9128-e8e5339d95b7": {
     "id": "de9edf29-6b79-4254-9128-e8e5339d95b7",
     "prev": "4af127dc-0330-4f8e-b907-3e409ba31a06",
     "regions": {
      "ef8b9aae-46b3-45ae-8ddf-d951cecabb16": {
       "attrs": {
        "height": 0.8,
        "width": 0.8,
        "x": 0.1,
        "y": 0.1
       },
       "content": {
        "cell": "d8cfc39f-aa3b-469f-ae34-1ef99ef51a25",
        "part": "whole"
       },
       "id": "ef8b9aae-46b3-45ae-8ddf-d951cecabb16"
      }
     }
    },
    "deebcf04-3780-4222-bac9-4ec42c55e64e": {
     "id": "deebcf04-3780-4222-bac9-4ec42c55e64e",
     "prev": "479d81b5-3b8b-4ddf-bbfe-6ae6ff33c2fa",
     "regions": {
      "41284583-e45d-4b58-80b1-9aa982c35d62": {
       "attrs": {
        "height": 0.8,
        "width": 0.8,
        "x": 0.1,
        "y": 0.1
       },
       "content": {
        "cell": "e7995c4c-f483-4cb5-9f53-3b8c5fef39c3",
        "part": "whole"
       },
       "id": "41284583-e45d-4b58-80b1-9aa982c35d62"
      }
     }
    },
    "e1226821-9a12-4537-a8af-79cc88d3d16a": {
     "id": "e1226821-9a12-4537-a8af-79cc88d3d16a",
     "prev": "0e2565e0-a21d-4dbb-a4b3-8698e797c45d",
     "regions": {
      "a85036ed-bcf3-498f-bcbf-d29b7ba22e33": {
       "attrs": {
        "height": 0.8,
        "width": 0.8,
        "x": 0.1,
        "y": 0.1
       },
       "content": {
        "cell": "d8a8bcc6-8b37-4d4f-ad06-903804776078",
        "part": "whole"
       },
       "id": "a85036ed-bcf3-498f-bcbf-d29b7ba22e33"
      }
     }
    },
    "e1b1494f-f764-4c7c-9b18-9c4117ac6b1a": {
     "id": "e1b1494f-f764-4c7c-9b18-9c4117ac6b1a",
     "prev": "e975c742-3e8e-42fb-992f-68889dc8eacf",
     "regions": {
      "4481842a-f6a3-4783-8056-761d3ff7903c": {
       "attrs": {
        "height": 0.8,
        "width": 0.8,
        "x": 0.1,
        "y": 0.1
       },
       "content": {
        "cell": "c02b6f0a-801c-4a8f-aa8f-8c9d64df7a9a",
        "part": "whole"
       },
       "id": "4481842a-f6a3-4783-8056-761d3ff7903c"
      }
     }
    },
    "e24d4b0b-34e2-46de-a99d-a4be39ca2951": {
     "id": "e24d4b0b-34e2-46de-a99d-a4be39ca2951",
     "prev": "e1226821-9a12-4537-a8af-79cc88d3d16a",
     "regions": {
      "8a097e4f-9443-46a4-9b0f-84d5e12c50e7": {
       "attrs": {
        "height": 0.8,
        "width": 0.8,
        "x": 0.1,
        "y": 0.1
       },
       "content": {
        "cell": "6f302dcb-787b-42b0-98f0-1df0a163a818",
        "part": "whole"
       },
       "id": "8a097e4f-9443-46a4-9b0f-84d5e12c50e7"
      }
     }
    },
    "e44d6d8f-7236-458f-a308-36142bc72ff4": {
     "id": "e44d6d8f-7236-458f-a308-36142bc72ff4",
     "prev": "951ea1a1-a91e-41a8-827e-fc3624ae3250",
     "regions": {
      "cc091066-cdf1-4dd5-bf80-5c7c94722472": {
       "attrs": {
        "height": 0.8,
        "width": 0.8,
        "x": 0.1,
        "y": 0.1
       },
       "content": {
        "cell": "d2aa5aac-acc7-41c9-96d4-5410c0d8a14b",
        "part": "whole"
       },
       "id": "cc091066-cdf1-4dd5-bf80-5c7c94722472"
      }
     }
    },
    "e6ae4652-4831-456f-a99c-275d5a367c31": {
     "id": "e6ae4652-4831-456f-a99c-275d5a367c31",
     "prev": "bc583748-3efc-4990-a121-5c23ddd1cf76",
     "regions": {
      "fc109e55-75c1-42c7-a13b-68d9feb3aad7": {
       "attrs": {
        "height": 0.8,
        "width": 0.8,
        "x": 0.1,
        "y": 0.1
       },
       "content": {
        "cell": "fe809373-e88b-44eb-9cb9-08be3dc5949a",
        "part": "whole"
       },
       "id": "fc109e55-75c1-42c7-a13b-68d9feb3aad7"
      }
     }
    },
    "e71a7d3a-c9bb-4db0-9597-95b9b3233d3b": {
     "id": "e71a7d3a-c9bb-4db0-9597-95b9b3233d3b",
     "prev": "f6887642-4c01-4304-bedb-6e6bf5f5c45e",
     "regions": {
      "88ed165d-ed0c-4d77-a642-afc80f335c88": {
       "attrs": {
        "height": 0.8,
        "width": 0.8,
        "x": 0.1,
        "y": 0.1
       },
       "content": {
        "cell": "9994e7f0-f366-40da-9c14-76e8142ee46e",
        "part": "whole"
       },
       "id": "88ed165d-ed0c-4d77-a642-afc80f335c88"
      }
     }
    },
    "e975c742-3e8e-42fb-992f-68889dc8eacf": {
     "id": "e975c742-3e8e-42fb-992f-68889dc8eacf",
     "prev": "8aa83fc2-d106-4c85-8b7f-1116db7ee9d4",
     "regions": {
      "6f8253e7-9544-4503-84a2-5dd528b2b98c": {
       "attrs": {
        "height": 0.8,
        "width": 0.8,
        "x": 0.1,
        "y": 0.1
       },
       "content": {
        "cell": "e8936716-d06c-4cef-ae87-5c5da9a25a85",
        "part": "whole"
       },
       "id": "6f8253e7-9544-4503-84a2-5dd528b2b98c"
      }
     }
    },
    "ec5e5d0b-4635-44cc-acc2-f4a52d49a309": {
     "id": "ec5e5d0b-4635-44cc-acc2-f4a52d49a309",
     "prev": "12513a0d-3e80-464d-9285-3bdd87e0b9c0",
     "regions": {
      "007395dd-4907-4340-9391-024482d674f4": {
       "attrs": {
        "height": 0.8,
        "width": 0.8,
        "x": 0.1,
        "y": 0.1
       },
       "content": {
        "cell": "aa9d35ae-c458-49d2-bdbe-d93d5cb3ba9c",
        "part": "whole"
       },
       "id": "007395dd-4907-4340-9391-024482d674f4"
      }
     }
    },
    "efc03832-2e6d-4250-8ac5-f4c13cfdb733": {
     "id": "efc03832-2e6d-4250-8ac5-f4c13cfdb733",
     "prev": "deebcf04-3780-4222-bac9-4ec42c55e64e",
     "regions": {
      "ece43b16-b994-439a-a683-911e322998be": {
       "attrs": {
        "height": 0.8,
        "width": 0.8,
        "x": 0.1,
        "y": 0.1
       },
       "content": {
        "cell": "a6d40ad7-2abd-44e5-8839-62731fb5eab7",
        "part": "whole"
       },
       "id": "ece43b16-b994-439a-a683-911e322998be"
      }
     }
    },
    "f2b5f77b-2cf3-4728-901e-453b1ee328e4": {
     "id": "f2b5f77b-2cf3-4728-901e-453b1ee328e4",
     "prev": "ca688a20-d25d-4266-8f63-967e003c1f2f",
     "regions": {
      "fd2525a2-6271-4119-a693-9ebaa319233e": {
       "attrs": {
        "height": 0.8,
        "width": 0.8,
        "x": 0.1,
        "y": 0.1
       },
       "content": {
        "cell": "b492de13-0053-416c-b314-1bbae21ca828",
        "part": "whole"
       },
       "id": "fd2525a2-6271-4119-a693-9ebaa319233e"
      }
     }
    },
    "f6887642-4c01-4304-bedb-6e6bf5f5c45e": {
     "id": "f6887642-4c01-4304-bedb-6e6bf5f5c45e",
     "prev": "0527f44a-39b6-4cf8-9802-d16b8cd34754",
     "regions": {
      "22ac5030-534d-4372-b64f-11254caef474": {
       "attrs": {
        "height": 0.8,
        "width": 0.8,
        "x": 0.1,
        "y": 0.1
       },
       "content": {
        "cell": "8ce2b802-f0c1-4ffc-9ce5-c2792856b5b4",
        "part": "whole"
       },
       "id": "22ac5030-534d-4372-b64f-11254caef474"
      }
     }
    },
    "f6d5269c-54db-4887-b274-d00572aead72": {
     "id": "f6d5269c-54db-4887-b274-d00572aead72",
     "prev": "9d28ba7f-c1e5-4ac3-ae0d-08721cddf897",
     "regions": {
      "4adeafcb-a40e-4001-9cea-ced25a006c2a": {
       "attrs": {
        "height": 0.8,
        "width": 0.8,
        "x": 0.1,
        "y": 0.1
       },
       "content": {
        "cell": "380ef8b7-6de1-4822-ae30-7120e12b5955",
        "part": "whole"
       },
       "id": "4adeafcb-a40e-4001-9cea-ced25a006c2a"
      }
     }
    },
    "f870a325-581b-4d8e-a4c0-095972e4cc21": {
     "id": "f870a325-581b-4d8e-a4c0-095972e4cc21",
     "prev": "d386ac9f-a3fc-4b7e-8171-72c5de5bcd6b",
     "regions": {
      "6923b170-3e50-4538-a408-f2032324357e": {
       "attrs": {
        "height": 0.8,
        "width": 0.8,
        "x": 0.1,
        "y": 0.1
       },
       "content": {
        "cell": "68d38063-fb92-4d36-b3fb-f2d3cbff9eb5",
        "part": "whole"
       },
       "id": "6923b170-3e50-4538-a408-f2032324357e"
      }
     }
    },
    "fbd9f3b3-f9b0-4886-b987-3f9d0ca983bc": {
     "id": "fbd9f3b3-f9b0-4886-b987-3f9d0ca983bc",
     "prev": "2e4a9702-f7a2-48a5-bd13-2087e9216b38",
     "regions": {
      "b1150180-2e0b-444f-956f-2dd4cf1f3d4a": {
       "attrs": {
        "height": 0.8,
        "width": 0.8,
        "x": 0.1,
        "y": 0.1
       },
       "content": {
        "cell": "dbeeeabe-b6dd-477c-a798-fb7b39302ba9",
        "part": "whole"
       },
       "id": "b1150180-2e0b-444f-956f-2dd4cf1f3d4a"
      }
     }
    }
   },
   "themes": {}
  }
 },
 "nbformat": 4,
 "nbformat_minor": 1
}
