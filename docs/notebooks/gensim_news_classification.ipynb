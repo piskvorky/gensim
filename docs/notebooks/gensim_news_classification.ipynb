{
 "cells": [
  {
   "cell_type": "markdown",
   "metadata": {
    "nbpresent": {
     "id": "e0085648-0300-4087-9b12-ee7d2392ce4f"
    }
   },
   "source": [
    "# News classification with topic models in gensim\n",
    "News article classification is a task which is performed on a huge scale by news agencies all over the world. We will be looking into how topic modeling can be used to accurately classify news articles into different categories such as sports, technology, politics etc.\n",
    "\n",
    "Our aim in this tutorial is to come up with some topic model which can come up with topics that can easily be interpreted by us. Such a topic model can be used to discover hidden structure in the corpus and can also be used to determine the membership of a news article into one of the topics.\n",
    "\n",
    "For this tutorial, we will be using the Lee corpus which is a shortened version of the [Lee Background Corpus](http://www.socsci.uci.edu/~mdlee/lee_pincombe_welsh_document.PDF). The shortened version consists of 300 documents selected from the Australian Broadcasting Corporation's news mail service. It consists of texts of headline stories from around the year 2000-2001.\n",
    "\n",
    "Accompanying slides can be found [here](https://speakerdeck.com/dsquareindia/pycon-delhi-lightening).\n",
    "\n",
    "### Requirements\n",
    "In this tutorial we look at how different topic models can be easily created using [gensim](https://radimrehurek.com/gensim/).\n",
    "Following are the dependencies for this tutorial:\n",
    "    - Gensim Version >=0.13.1 would be preferred since we will be using topic coherence metrics extensively here.\n",
    "    - matplotlib\n",
    "    - nltk.stopwords and nltk.wordnet\n",
    "    - pyLDAVis\n",
    "We will be playing around with 4 different topic models here:\n",
    "    - LSI (Latent Semantic Indexing)\n",
    "    - HDP (Hierarchical Dirichlet Process)\n",
    "    - LDA (Latent Dirichlet Allocation)\n",
    "    - LDA (tweaked with topic coherence to find optimal number of topics) and\n",
    "    - LDA as LSI with the help of topic coherence metrics\n",
    "First we'll fit those topic models on our existing data then we'll compare each against the other and see how they rank in terms of human interpretability.\n",
    "\n",
    "All can be found in gensim and can be easily used in a plug-and-play fashion. We will tinker with the LDA model using the newly added topic coherence metrics in gensim based on [this](http://svn.aksw.org/papers/2015/WSDM_Topic_Evaluation/public.pdf) paper by Roeder et al and see how the resulting topic model compares with the exsisting ones."
   ]
  },
  {
   "cell_type": "code",
   "execution_count": null,
   "metadata": {
    "collapsed": false,
    "nbpresent": {
     "id": "25997dab-04e3-4abc-b22f-b36944b208c2"
    }
   },
   "outputs": [],
   "source": [
    "import os\n",
    "import re\n",
    "import operator\n",
    "import matplotlib.pyplot as plt\n",
    "import warnings\n",
    "import gensim\n",
    "import numpy as np\n",
    "warnings.filterwarnings('ignore')  # Let's not pay heed to them right now\n",
    "\n",
    "import nltk\n",
    "nltk.download('stopwords') # Let's make sure the 'stopword' package is downloaded & updated\n",
    "nltk.download('wordnet') # Let's also download wordnet, which will be used for lemmatization\n",
    "\n",
    "from gensim.models import CoherenceModel, LdaModel, LsiModel, HdpModel\n",
    "from gensim.models.wrappers import LdaMallet\n",
    "from gensim.corpora import Dictionary\n",
    "from pprint import pprint\n",
    "\n",
    "%matplotlib inline"
   ]
  },
  {
   "cell_type": "code",
   "execution_count": 2,
   "metadata": {
    "collapsed": false,
    "nbpresent": {
     "id": "8778b874-a6d1-4f2f-ba02-35dc0fa10f0c"
    }
   },
   "outputs": [],
   "source": [
    "test_data_dir = '{}'.format(os.sep).join([gensim.__path__[0], 'test', 'test_data'])\n",
    "lee_train_file = test_data_dir + os.sep + 'lee_background.cor'"
   ]
  },
  {
   "cell_type": "markdown",
   "metadata": {
    "nbpresent": {
     "id": "bcbc3313-3a57-4923-b330-69691eaf7535"
    }
   },
   "source": [
    "Analysing our corpus.\n",
    "    - The first document talks about a bushfire that had occured in New South Wales.\n",
    "    - The second talks about conflict between India and Pakistan in Kashmir.\n",
    "    - The third talks about road accidents in the New South Wales area.\n",
    "    - The fourth one talks about Argentina's economic and political crisis during that time.\n",
    "    - The last one talks about the use of drugs by midwives in a Sydney hospital.\n",
    "Our final topic model should be giving us keywords which we can easily interpret and make a small summary out of. Without this the topic model cannot be of much practical use."
   ]
  },
  {
   "cell_type": "code",
   "execution_count": 3,
   "metadata": {
    "collapsed": false,
    "nbpresent": {
     "id": "d447e236-b1b9-4cf7-bc39-8bfb499d4730"
    }
   },
   "outputs": [
    {
     "name": "stdout",
     "output_type": "stream",
     "text": [
      "['Hundreds of people have been forced to vacate their homes in the Southern Highlands of New South Wales as strong winds today pushed a huge bushfire towards the town of Hill Top. A new blaze near Goulburn, south-west of Sydney, has forced the closure of the Hume Highway. At about 4:00pm AEDT, a marked deterioration in the weather as a storm cell moved east across the Blue Mountains forced authorities to make a decision to evacuate people from homes in outlying streets at Hill Top in the New South Wales southern highlands. An estimated 500 residents have left their homes for nearby Mittagong. The New South Wales Rural Fire Service says the weather conditions which caused the fire to burn in a finger formation have now eased and about 60 fire units in and around Hill Top are optimistic of defending all properties. As more than 100 blazes burn on New Year\\'s Eve in New South Wales, fire crews have been called to new fire at Gunning, south of Goulburn. While few details are available at this stage, fire authorities says it has closed the Hume Highway in both directions. Meanwhile, a new fire in Sydney\\'s west is no longer threatening properties in the Cranebrook area. Rain has fallen in some parts of the Illawarra, Sydney, the Hunter Valley and the north coast. But the Bureau of Meteorology\\'s Claire Richards says the rain has done little to ease any of the hundred fires still burning across the state. \"The falls have been quite isolated in those areas and generally the falls have been less than about five millimetres,\" she said. \"In some places really not significant at all, less than a millimetre, so there hasn\\'t been much relief as far as rain is concerned. \"In fact, they\\'ve probably hampered the efforts of the firefighters more because of the wind gusts that are associated with those thunderstorms.\" \\n']\n",
      "[\"Indian security forces have shot dead eight suspected militants in a night-long encounter in southern Kashmir. The shootout took place at Dora village some 50 kilometers south of the Kashmiri summer capital Srinagar. The deaths came as Pakistani police arrested more than two dozen militants from extremist groups accused of staging an attack on India's parliament. India has accused Pakistan-based Lashkar-e-Taiba and Jaish-e-Mohammad of carrying out the attack on December 13 at the behest of Pakistani military intelligence. Military tensions have soared since the raid, with both sides massing troops along their border and trading tit-for-tat diplomatic sanctions. Yesterday, Pakistan announced it had arrested Lashkar-e-Taiba chief Hafiz Mohammed Saeed. Police in Karachi say it is likely more raids will be launched against the two groups as well as other militant organisations accused of targetting India. Military tensions between India and Pakistan have escalated to a level not seen since their 1971 war. \\n\"]\n",
      "['The national road toll for the Christmas-New Year holiday period stands at 45, eight fewer than for the same time last year. 20 people have died on New South Wales roads, with eight fatalities in both Queensland and Victoria. Western Australia, the Northern Territory and South Australia have each recorded three deaths, while the ACT and Tasmania remain fatality free. \\n']\n",
      "[\"Argentina's political and economic crisis has deepened with the resignation of its interim President who took office just a week ago. Aldolfo Rodregiuez Saa told a stunned nation that he could not rescue Argentina because key fellow Peronists would not support his default on massive foreign debt repayment or his plan for a new currency. It was only a week ago that he was promising a million new jobs to end four years of recession, days after his predecessor resigned following a series of failed rescue packages. After announcing that the senate leader, Ramon Puerta, would assume the presidency until congress appoints a new caretaker president, the government said he too had quit and another senior lawmaker would act in the role. Fresh elections are not scheduled until March leaving whoever assumes the presidency with the daunting task of tackling Argentina's worst crisis in 12 years, but this time, isolated by international lending agencies. \\n\"]\n",
      "['Six midwives have been suspended at Wollongong Hospital, south of Sydney, for inappropriate use of nitrous oxide during work hours, on some occasions while women were in labour. The Illawarra Area Health Service says that following an investigation of unprofessional conduct, a further four midwives have been relocated to other areas within the hospital. The service\\'s chief executive officer, Tony Sherbon, says no one was put at risk, because other staff not involved in the use of nitrous oxide were able to take over caring for women in labour. \"Well we\\'re very concerned and the body of midwives to the hospital - there are over 70 midwives that work in our service - are very annoyed and angry at the inappropriate behaviour of these very senior people who should know better,\" he said. \"And that\\'s why we\\'ve take the action of suspending them and we\\'ll consider further action next week.\" \\n']\n"
     ]
    }
   ],
   "source": [
    "with open(lee_train_file) as f:\n",
    "    for n, l in enumerate(f):\n",
    "        if n < 5:\n",
    "            print([l])"
   ]
  },
  {
   "cell_type": "code",
   "execution_count": 4,
   "metadata": {
    "collapsed": true,
    "nbpresent": {
     "id": "f4d505e5-5e90-4770-aaae-04ae05d697b5"
    }
   },
   "outputs": [],
   "source": [
    "def build_texts(fname):\n",
    "    \"\"\"\n",
    "    Function to build tokenized texts from file\n",
    "    \n",
    "    Parameters:\n",
    "    ----------\n",
    "    fname: File to be read\n",
    "    \n",
    "    Returns:\n",
    "    -------\n",
    "    yields preprocessed line\n",
    "    \"\"\"\n",
    "    with open(fname) as f:\n",
    "        for line in f:\n",
    "            yield gensim.utils.simple_preprocess(line, deacc=True, min_len=3)"
   ]
  },
  {
   "cell_type": "code",
   "execution_count": 5,
   "metadata": {
    "collapsed": false,
    "nbpresent": {
     "id": "4dbde9d2-3a9d-4677-8dd4-90066c0cb7c4"
    }
   },
   "outputs": [],
   "source": [
    "train_texts = list(build_texts(lee_train_file))"
   ]
  },
  {
   "cell_type": "code",
   "execution_count": 6,
   "metadata": {
    "collapsed": false,
    "nbpresent": {
     "id": "e7995c4c-f483-4cb5-9f53-3b8c5fef39c3"
    }
   },
   "outputs": [
    {
     "data": {
      "text/plain": [
       "300"
      ]
     },
     "execution_count": 6,
     "metadata": {},
     "output_type": "execute_result"
    }
   ],
   "source": [
    "len(train_texts)"
   ]
  },
  {
   "cell_type": "markdown",
   "metadata": {
    "nbpresent": {
     "id": "a6d40ad7-2abd-44e5-8839-62731fb5eab7"
    }
   },
   "source": [
    "### Preprocessing our data. Remember: Garbage In Garbage Out\n",
    "                                        \"NLP is 80% preprocessing.\"\n",
    "                                                                -Lev Konstantinovskiy\n",
    "This is the single most important step in setting up a good topic modeling system. If the preprocessing is not good, the algorithm can't do much since we would be feeding it a lot of noise. In this tutorial, we will be filtering out the noise using the following steps in this order for each line:\n",
    "1. Stopword removal using NLTK's english stopwords dataset.\n",
    "2. Bigram collocation detection (frequently co-occuring tokens) using gensim's [Phrases](https://radimrehurek.com/gensim/models/phrases.html). This is our first attempt to find some hidden structure in the corpus. You can even try trigram collocation detection.\n",
    "3. Lemmatization (using gensim's [`lemmatize`](https://radimrehurek.com/gensim/utils.html#gensim.utils.lemmatize)) to only keep the nouns. Lemmatization is generally better than stemming in the case of topic modeling since the words after lemmatization still remain understable. However, generally stemming might be preferred if the data is being fed into a vectorizer and isn't intended to be viewed."
   ]
  },
  {
   "cell_type": "code",
   "execution_count": 7,
   "metadata": {
    "collapsed": false,
    "nbpresent": {
     "id": "3ca3d45b-a28b-41c7-b5de-4c124c50d13d"
    }
   },
   "outputs": [],
   "source": [
    "bigram = gensim.models.Phrases(train_texts)  # for bigram collocation detection"
   ]
  },
  {
   "cell_type": "code",
   "execution_count": 8,
   "metadata": {
    "collapsed": false,
    "nbpresent": {
     "id": "862c087b-b918-47b9-b0cf-42b71996e061"
    }
   },
   "outputs": [
    {
     "data": {
      "text/plain": [
       "[u'new_york', u'example']"
      ]
     },
     "execution_count": 8,
     "metadata": {},
     "output_type": "execute_result"
    }
   ],
   "source": [
    "bigram[['new', 'york', 'example']]"
   ]
  },
  {
   "cell_type": "code",
   "execution_count": 9,
   "metadata": {
    "collapsed": true,
    "nbpresent": {
     "id": "1181e3a8-6803-4f41-9d55-397f3d700c28"
    }
   },
   "outputs": [],
   "source": [
    "from gensim.utils import lemmatize\n",
    "from nltk.corpus import stopwords"
   ]
  },
  {
   "cell_type": "code",
   "execution_count": 10,
   "metadata": {
    "collapsed": false,
    "nbpresent": {
     "id": "dbeeeabe-b6dd-477c-a798-fb7b39302ba9"
    }
   },
   "outputs": [],
   "source": [
    "stops = set(stopwords.words('english'))  # nltk stopwords list"
   ]
  },
  {
   "cell_type": "code",
   "execution_count": 11,
   "metadata": {
    "collapsed": true,
    "nbpresent": {
     "id": "3d784001-6875-4be5-b8e8-e6c490f5b7b4"
    }
   },
   "outputs": [],
   "source": [
    "def process_texts(texts):\n",
    "    \"\"\"\n",
    "    Function to process texts. Following are the steps we take:\n",
    "    \n",
    "    1. Stopword Removal.\n",
    "    2. Collocation detection.\n",
    "    3. Lemmatization (not stem since stemming can reduce the interpretability).\n",
    "    \n",
    "    Parameters:\n",
    "    ----------\n",
    "    texts: Tokenized texts.\n",
    "    \n",
    "    Returns:\n",
    "    -------\n",
    "    texts: Pre-processed tokenized texts.\n",
    "    \"\"\"\n",
    "    texts = [[word for word in line if word not in stops] for line in texts]\n",
    "    texts = [bigram[line] for line in texts]\n",
    "    \n",
    "    from nltk.stem import WordNetLemmatizer\n",
    "    lemmatizer = WordNetLemmatizer()\n",
    "\n",
    "    texts = [[word for word in lemmatizer.lemmatize(' '.join(line), pos='v').split()] for line in texts]\n",
    "    return texts"
   ]
  },
  {
   "cell_type": "code",
   "execution_count": 12,
   "metadata": {
    "collapsed": false,
    "nbpresent": {
     "id": "d8cfc39f-aa3b-469f-ae34-1ef99ef51a25"
    }
   },
   "outputs": [
    {
     "data": {
      "text/plain": [
       "[['afghani',\n",
       "  'asylum_seeker',\n",
       "  'australia',\n",
       "  'return',\n",
       "  'home',\n",
       "  'environment',\n",
       "  'government',\n",
       "  'application',\n",
       "  'kabul',\n",
       "  'foreign_affair',\n",
       "  'downer',\n",
       "  'process',\n",
       "  'threat',\n",
       "  'person',\n",
       "  'asylum',\n",
       "  'afghan',\n",
       "  'australia',\n",
       "  'matter',\n",
       "  'britain',\n",
       "  'country',\n",
       "  'europe',\n",
       "  'taliban',\n",
       "  'power',\n",
       "  'afghanistan',\n",
       "  'taliban',\n",
       "  'airlift',\n",
       "  'detainee',\n",
       "  'christmas',\n",
       "  'island',\n",
       "  'island',\n",
       "  'nauru',\n",
       "  'total',\n",
       "  'person',\n",
       "  'island',\n",
       "  'operation',\n",
       "  'aircraft',\n",
       "  'airlift',\n",
       "  'today',\n",
       "  'asylum_seeker',\n",
       "  'claim',\n",
       "  'visa',\n",
       "  'department',\n",
       "  'immigration',\n",
       "  'detainee',\n",
       "  'christmas',\n",
       "  'island',\n",
       "  'spokesman',\n",
       "  'decision']]"
      ]
     },
     "execution_count": 12,
     "metadata": {},
     "output_type": "execute_result"
    }
   ],
   "source": [
    "train_texts = process_texts(train_texts)\n",
    "train_texts[5:6]"
   ]
  },
  {
   "cell_type": "markdown",
   "metadata": {
    "nbpresent": {
     "id": "0e5ca1a8-9c78-412a-9ab4-a4d0be5afd34"
    }
   },
   "source": [
    "Finalising our dictionary and corpus"
   ]
  },
  {
   "cell_type": "code",
   "execution_count": 13,
   "metadata": {
    "collapsed": false,
    "nbpresent": {
     "id": "161e8770-8bc2-41ae-98f4-08d1c9311e82"
    }
   },
   "outputs": [],
   "source": [
    "dictionary = Dictionary(train_texts)\n",
    "corpus = [dictionary.doc2bow(text) for text in train_texts]"
   ]
  },
  {
   "cell_type": "markdown",
   "metadata": {
    "nbpresent": {
     "id": "fe809373-e88b-44eb-9cb9-08be3dc5949a"
    }
   },
   "source": [
    "### Topic modeling with LSI\n",
    "This is a useful topic modeling algorithm in that it can rank topics by itself. Thus it outputs topics in a ranked order. However it does require a `num_topics` parameter (set to 200 by default) to determine the number of latent dimensions after the SVD."
   ]
  },
  {
   "cell_type": "code",
   "execution_count": 14,
   "metadata": {
    "collapsed": false,
    "nbpresent": {
     "id": "58e7dda6-0dd2-4e4f-b81a-0b530c66b20b"
    }
   },
   "outputs": [],
   "source": [
    "lsimodel = LsiModel(corpus=corpus, num_topics=10, id2word=dictionary)"
   ]
  },
  {
   "cell_type": "code",
   "execution_count": 15,
   "metadata": {
    "collapsed": false,
    "nbpresent": {
     "id": "6b5572c0-2ab0-4b13-a08f-3db21b4c4f21"
    },
    "scrolled": false
   },
   "outputs": [
    {
     "data": {
      "text/plain": [
       "[(0,\n",
       "  u'-0.241*\"person\" + -0.202*\"australia\" + -0.201*\"government\" + -0.193*\"afghanistan\" + -0.182*\"day\" + -0.174*\"attack\" + -0.156*\"force\" + -0.155*\"area\" + -0.154*\"man\" + -0.147*\"security\"'),\n",
       " (1,\n",
       "  u'0.524*\"fire\" + 0.274*\"sydney\" + 0.269*\"area\" + 0.219*\"firefighter\" + 0.180*\"wale\" + 0.163*\"wind\" + -0.139*\"israel\" + -0.138*\"attack\" + 0.136*\"line\" + 0.126*\"today\"'),\n",
       " (2,\n",
       "  u'-0.333*\"australia\" + 0.320*\"israel\" + 0.243*\"palestinian\" + -0.205*\"afghanistan\" + 0.204*\"fire\" + 0.177*\"attack\" + 0.174*\"sharon\" + 0.128*\"yasser_arafat\" + -0.122*\"company\" + 0.119*\"office\"'),\n",
       " (3,\n",
       "  u'0.353*\"afghanistan\" + -0.301*\"australia\" + 0.236*\"pakistan\" + 0.221*\"force\" + 0.153*\"afghan\" + -0.152*\"test\" + -0.150*\"company\" + 0.146*\"area\" + -0.132*\"union\" + 0.114*\"tora_bora\"'),\n",
       " (4,\n",
       "  u'-0.331*\"union\" + -0.327*\"company\" + 0.197*\"test\" + 0.193*\"australia\" + -0.190*\"worker\" + 0.189*\"day\" + -0.169*\"qanta\" + -0.150*\"pakistan\" + 0.136*\"wicket\" + -0.130*\"commission\"')]"
      ]
     },
     "execution_count": 15,
     "metadata": {},
     "output_type": "execute_result"
    }
   ],
   "source": [
    "lsimodel.show_topics(num_topics=5)  # Showing only the top 5 topics"
   ]
  },
  {
   "cell_type": "code",
   "execution_count": 93,
   "metadata": {
    "collapsed": true,
    "nbpresent": {
     "id": "b1a8c7b4-dc46-4bfe-b17b-d604f212b389"
    }
   },
   "outputs": [],
   "source": [
    "lsitopics = lsimodel.show_topics(formatted=False)"
   ]
  },
  {
   "cell_type": "markdown",
   "metadata": {
    "nbpresent": {
     "id": "943a5fcd-7c2e-4c16-9879-34882a7a74d4"
    }
   },
   "source": [
    "### Topic modeling with [HDP](http://jmlr.csail.mit.edu/proceedings/papers/v15/wang11a/wang11a.pdf)\n",
    "An HDP model is fully unsupervised. It can also determine the ideal number of topics it needs through posterior inference."
   ]
  },
  {
   "cell_type": "code",
   "execution_count": 17,
   "metadata": {
    "collapsed": false,
    "nbpresent": {
     "id": "b492de13-0053-416c-b314-1bbae21ca828"
    }
   },
   "outputs": [],
   "source": [
    "hdpmodel = HdpModel(corpus=corpus, id2word=dictionary)"
   ]
  },
  {
   "cell_type": "code",
   "execution_count": 18,
   "metadata": {
    "collapsed": false,
    "nbpresent": {
     "id": "92dbb672-adca-4535-8089-de23712828d8"
    }
   },
   "outputs": [
    {
     "data": {
      "text/plain": [
       "[u'topic 0: 0.004*collapse + 0.004*afghanistan + 0.004*troop + 0.003*force + 0.003*government + 0.002*benefit + 0.002*operation + 0.002*taliban + 0.002*time + 0.002*today + 0.002*ypre + 0.002*tourism + 0.002*person + 0.002*help + 0.002*wayne + 0.002*fire + 0.002*peru + 0.002*day + 0.002*united_state + 0.002*hih',\n",
       " u'topic 1: 0.003*group + 0.003*government + 0.002*target + 0.002*palestinian + 0.002*end + 0.002*terrorism + 0.002*cease + 0.002*memorandum + 0.002*radio + 0.002*call + 0.002*official + 0.002*path + 0.002*security + 0.002*wayne + 0.002*attack + 0.002*human_right + 0.001*four + 0.001*gunman + 0.001*sharon + 0.001*subsidiary',\n",
       " u'topic 2: 0.003*rafter + 0.003*double + 0.003*team + 0.002*reality + 0.002*manager + 0.002*cup + 0.002*australia + 0.002*abc + 0.002*nomination + 0.002*user + 0.002*freeman + 0.002*herberton + 0.002*lung + 0.002*believe + 0.002*injury + 0.002*steve_waugh + 0.002*fact + 0.002*statement + 0.002*mouth + 0.002*alejandro',\n",
       " u'topic 3: 0.003*india + 0.003*sector + 0.002*anthony + 0.002*interview + 0.002*suicide_bomber + 0.002*union + 0.002*marconi + 0.002*imprisonment + 0.002*document + 0.002*mood + 0.002*remember + 0.002*repair + 0.002*vicki + 0.001*training + 0.001*dressing + 0.001*government + 0.001*indian + 0.001*law + 0.001*convention + 0.001*pair',\n",
       " u'topic 4: 0.003*airport + 0.003*commission + 0.002*marathon + 0.002*tonne + 0.002*citizen + 0.002*dickie + 0.002*arrest + 0.002*taliban + 0.002*opposition + 0.002*agha + 0.002*pitch + 0.002*tune + 0.002*regulation + 0.002*monday + 0.002*chile + 0.002*night + 0.002*foreign_affair + 0.002*charge + 0.002*county + 0.002*signature',\n",
       " u'topic 5: 0.005*company + 0.002*share + 0.002*version + 0.002*entitlement + 0.002*staff + 0.002*value + 0.002*tanzim + 0.002*bay + 0.002*beaumont + 0.002*cent + 0.002*world + 0.002*hass + 0.002*broker + 0.002*line + 0.002*tie + 0.002*plane + 0.002*flare + 0.001*creditor + 0.001*pay + 0.001*administrator',\n",
       " u'topic 6: 0.002*hiv + 0.002*aids + 0.002*margin + 0.002*worker + 0.002*horror + 0.002*claire + 0.002*nation + 0.002*person + 0.002*battleground + 0.002*christmas + 0.002*quarters + 0.002*day + 0.002*underdog + 0.002*festival + 0.002*devaluation + 0.002*immunity + 0.001*quirindi + 0.001*auditor + 0.001*europe + 0.001*board',\n",
       " u'topic 7: 0.002*david + 0.002*victim + 0.002*navy + 0.002*promise + 0.002*symbol + 0.002*site + 0.002*agenda + 0.002*endeavour + 0.002*hamas + 0.002*installation + 0.002*bulli + 0.002*quarrel + 0.002*israeli + 0.002*leaf + 0.002*space + 0.002*sharon + 0.002*spa + 0.002*dispute + 0.002*council + 0.002*tit',\n",
       " u'topic 8: 0.005*storm + 0.004*tree + 0.002*roger + 0.002*aedt + 0.002*minister + 0.002*service + 0.002*sydney + 0.002*electricity + 0.002*power + 0.002*split + 0.002*impact + 0.002*australia + 0.002*area + 0.002*quirindi + 0.002*expansion + 0.002*hornsby + 0.002*standing + 0.002*judgment + 0.002*search + 0.002*thank',\n",
       " u'topic 9: 0.003*australia + 0.003*economy + 0.002*ward + 0.002*game + 0.002*brought + 0.002*johnston + 0.002*supporter + 0.002*recession + 0.002*stray + 0.002*boat_people + 0.002*ritual + 0.002*thousand + 0.001*police + 0.001*box + 0.001*britain + 0.001*year + 0.001*thing + 0.001*kill + 0.001*tour + 0.001*junction',\n",
       " u'topic 10: 0.003*match + 0.003*crowd + 0.002*team + 0.002*rafter + 0.002*scrapping + 0.002*decision + 0.002*guarantee + 0.002*masood + 0.002*tennis + 0.002*forestry + 0.002*world + 0.002*france + 0.002*member + 0.002*career + 0.002*australia + 0.002*single + 0.002*rubber + 0.002*road + 0.002*tower + 0.002*attack',\n",
       " u'topic 11: 0.002*cycle + 0.002*communication + 0.002*spend + 0.002*airline + 0.002*flight + 0.002*amendment + 0.002*swift + 0.002*morning + 0.002*ansett + 0.002*mark + 0.002*platform + 0.002*administrator + 0.002*screen + 0.002*launceston + 0.002*airplane + 0.002*alarming + 0.002*worker + 0.001*tent + 0.001*severance + 0.001*wilton',\n",
       " u'topic 12: 0.003*summit + 0.003*indonesia + 0.002*john + 0.002*pitwater + 0.002*president + 0.002*week + 0.002*howard + 0.002*issue + 0.002*baptist + 0.002*city + 0.002*model + 0.002*mile + 0.002*talk + 0.002*australia + 0.002*network + 0.002*head + 0.002*passage + 0.002*quinlan + 0.002*start + 0.002*match',\n",
       " u'topic 13: 0.002*sorrow + 0.002*australia + 0.002*israelis + 0.002*middle_east + 0.002*deck + 0.002*sydney + 0.002*variety + 0.002*zimbabwean + 0.002*general + 0.002*calculation + 0.002*instrument + 0.002*piece + 0.002*treatment + 0.002*truce + 0.002*wicket + 0.002*submission + 0.002*line + 0.002*december + 0.002*showing + 0.001*father',\n",
       " u'topic 14: 0.002*game + 0.002*giuliani + 0.002*care + 0.002*java + 0.002*mystery + 0.002*session + 0.002*seeker + 0.002*distance + 0.002*tennessee + 0.002*transmission + 0.002*hamid + 0.002*cabinet + 0.002*day + 0.002*regret + 0.002*australia + 0.002*lifestyle + 0.002*afghanistan + 0.002*preview + 0.002*test + 0.002*hit',\n",
       " u'topic 15: 0.003*president + 0.002*rabbani + 0.002*maxi + 0.002*penalty + 0.002*show + 0.002*sibling + 0.002*adjournment + 0.002*new_delhi + 0.002*permission + 0.002*jackie + 0.002*arrest + 0.002*motive + 0.002*outcome + 0.002*shift + 0.002*spy + 0.002*beech + 0.002*beset + 0.002*need + 0.002*personnel + 0.002*mitchell',\n",
       " u'topic 16: 0.002*today + 0.002*matter + 0.002*work + 0.002*debate + 0.002*agreement + 0.002*mastermind + 0.002*member + 0.002*downer + 0.002*intercept + 0.002*bedside + 0.002*felix + 0.002*assembly + 0.002*afghan + 0.002*saudi + 0.002*burn + 0.002*franc + 0.002*modification + 0.002*spelt + 0.002*declared + 0.002*resist',\n",
       " u'topic 17: 0.002*margaret + 0.002*government + 0.002*disruption + 0.002*hingis + 0.002*section + 0.002*security + 0.002*corps + 0.002*pakistan + 0.002*front + 0.002*insurance + 0.002*maintenance + 0.002*order + 0.002*plume + 0.002*amendment + 0.002*demand + 0.001*hawke + 0.001*coal + 0.001*discontent + 0.001*modification + 0.001*distress',\n",
       " u'topic 18: 0.002*speaker + 0.002*love + 0.002*safety + 0.002*chaman + 0.002*coastguard + 0.002*salfit + 0.002*soccer + 0.002*payment + 0.002*complexity + 0.002*personnel + 0.002*flood + 0.002*employment + 0.002*morrow + 0.002*community + 0.002*darren + 0.002*context + 0.001*tunnel + 0.001*negotiation + 0.001*friendship + 0.001*sutherland',\n",
       " u'topic 19: 0.003*brain + 0.003*team + 0.003*olympic + 0.002*cell + 0.002*embryo + 0.002*suburb + 0.002*speaking + 0.002*macfarlane + 0.002*sheet + 0.002*overtime + 0.002*man + 0.002*finding + 0.002*canyon + 0.002*research + 0.002*manhattan + 0.002*brutality + 0.002*spot + 0.002*backdrop + 0.001*pervez + 0.001*sector']"
      ]
     },
     "execution_count": 18,
     "metadata": {},
     "output_type": "execute_result"
    }
   ],
   "source": [
    "hdpmodel.show_topics()"
   ]
  },
  {
   "cell_type": "code",
   "execution_count": 94,
   "metadata": {
    "collapsed": true,
    "nbpresent": {
     "id": "85e46481-0245-448c-b4e2-e0c6e175357c"
    }
   },
   "outputs": [],
   "source": [
    "hdptopics = hdpmodel.show_topics(formatted=False)"
   ]
  },
  {
   "cell_type": "markdown",
   "metadata": {
    "nbpresent": {
     "id": "380ef8b7-6de1-4822-ae30-7120e12b5955"
    }
   },
   "source": [
    "### Topic modeling using [LDA](https://www.cs.princeton.edu/~blei/papers/HoffmanBleiBach2010b.pdf)\n",
    "This is one the most popular topic modeling algorithms today. It is a generative model in that it assumes each document is a mixture of topics and in turn, each topic is a mixture of words. To understand it better you can watch [this](https://www.youtube.com/watch?v=DDq3OVp9dNA) lecture by David Blei. Let's choose 10 topics to initialize this."
   ]
  },
  {
   "cell_type": "code",
   "execution_count": 20,
   "metadata": {
    "collapsed": true,
    "nbpresent": {
     "id": "a02b72fb-0049-4ec3-825f-179e396f3904"
    }
   },
   "outputs": [],
   "source": [
    "ldamodel = LdaModel(corpus=corpus, num_topics=10, id2word=dictionary)"
   ]
  },
  {
   "cell_type": "markdown",
   "metadata": {
    "nbpresent": {
     "id": "672c009d-3dbc-4a1f-a789-2a0fe78729b9"
    }
   },
   "source": [
    "pyLDAvis is a great way to visualize an LDA model. To summarize in short, the area of the circles represent the prevelance of the topic. The length of the bars on the right represent the membership of a term in a particular topic. pyLDAvis is based on [this](http://nlp.stanford.edu/events/illvi2014/papers/sievert-illvi2014.pdf) paper."
   ]
  },
  {
   "cell_type": "code",
   "execution_count": 21,
   "metadata": {
    "collapsed": true,
    "nbpresent": {
     "id": "f7724653-52ef-41e8-aa22-6232be216b08"
    }
   },
   "outputs": [],
   "source": [
    "import pyLDAvis.gensim"
   ]
  },
  {
   "cell_type": "code",
   "execution_count": 22,
   "metadata": {
    "collapsed": true,
    "nbpresent": {
     "id": "2c5b03e0-ce0f-4999-8fe1-820a9fe06873"
    }
   },
   "outputs": [],
   "source": [
    "pyLDAvis.enable_notebook()"
   ]
  },
  {
   "cell_type": "code",
   "execution_count": 88,
   "metadata": {
    "collapsed": false,
    "nbpresent": {
     "id": "7da56259-bbf2-4f63-93f6-033833ae4494"
    },
    "scrolled": false
   },
   "outputs": [
    {
     "data": {
      "text/html": [
       "\n",
       "<link rel=\"stylesheet\" type=\"text/css\" href=\"https://cdn.rawgit.com/bmabey/pyLDAvis/files/ldavis.v1.0.0.css\">\n",
       "\n",
       "\n",
       "<div id=\"ldavis_el62341396934228628008573380221\"></div>\n",
       "<script type=\"text/javascript\">\n",
       "\n",
       "var ldavis_el62341396934228628008573380221_data = {\"plot.opts\": {\"xlab\": \"PC1\", \"ylab\": \"PC2\"}, \"topic.order\": [6, 7, 10, 8, 1, 9, 3, 4, 2, 5], \"token.table\": {\"Topic\": [4, 4, 1, 2, 4, 5, 7, 8, 10, 1, 2, 3, 4, 5, 6, 7, 8, 9, 10, 5, 7, 3, 6, 1, 2, 3, 4, 5, 7, 9, 10, 1, 2, 3, 4, 5, 6, 7, 8, 9, 10, 9, 1, 2, 3, 4, 5, 6, 7, 9, 10, 10, 1, 1, 2, 3, 7, 8, 9, 1, 2, 3, 4, 5, 6, 7, 8, 9, 10, 3, 9, 4, 1, 2, 4, 3, 7, 10, 10, 2, 5, 1, 1, 2, 4, 6, 8, 9, 10, 4, 7, 1, 2, 3, 4, 5, 6, 7, 8, 9, 10, 1, 2, 3, 4, 5, 6, 7, 9, 1, 2, 2, 5, 4, 5, 3, 9, 10, 2, 5, 6, 7, 10, 8, 1, 2, 3, 4, 5, 6, 7, 8, 9, 10, 8, 4, 1, 2, 3, 4, 5, 6, 7, 8, 9, 10, 1, 2, 3, 4, 5, 6, 7, 8, 9, 10, 6, 1, 2, 3, 8, 10, 3, 4, 5, 2, 3, 4, 7, 8, 9, 10, 3, 2, 10, 4, 10, 5, 6, 2, 3, 7, 8, 1, 2, 3, 4, 5, 6, 7, 8, 9, 10, 9, 1, 3, 4, 7, 9, 3, 9, 2, 8, 2, 5, 6, 7, 8, 10, 2, 1, 6, 1, 2, 3, 4, 6, 7, 8, 9, 10, 3, 1, 5, 4, 3, 3, 7, 9, 10, 1, 3, 8, 9, 10, 4, 3, 7, 10, 1, 2, 5, 6, 8, 9, 8, 6, 7, 2, 4, 7, 8, 6, 1, 2, 3, 4, 5, 6, 7, 8, 9, 3, 4, 3, 4, 6, 7, 8, 9, 10, 1, 5, 7, 9, 1, 2, 3, 4, 5, 6, 7, 9, 10, 1, 4, 6, 1, 3, 4, 5, 7, 6, 3, 6, 7, 1, 9, 1, 2, 3, 4, 5, 6, 7, 8, 9, 2, 3, 4, 5, 1, 2, 3, 4, 6, 7, 8, 9, 10, 2, 1, 2, 3, 4, 5, 6, 7, 8, 9, 10, 4, 6, 1, 8, 3, 6, 9, 1, 2, 3, 4, 5, 6, 7, 8, 9, 10, 1, 2, 3, 4, 5, 6, 7, 8, 10, 1, 3, 6, 8, 2, 3, 4, 5, 7, 8, 9, 10, 1, 2, 3, 4, 7, 9, 10, 1, 2, 3, 4, 5, 6, 7, 8, 9, 10, 2, 1, 2, 3, 4, 5, 6, 7, 8, 9, 10, 1, 8, 7, 8, 2, 1, 2, 3, 5, 6, 7, 8, 9, 10, 4, 9, 4, 1, 1, 8, 4, 8, 8, 1, 2, 3, 4, 5, 6, 7, 8, 9, 10, 1, 2, 10, 1, 3, 8, 10, 5, 4, 7, 8, 10, 1, 1, 2, 3, 4, 5, 6, 7, 8, 9, 10, 1, 2, 3, 4, 5, 6, 7, 8, 9, 10, 1, 4, 5, 9, 1, 10, 6, 5, 6, 2, 3, 5, 6, 7, 8, 9, 1, 2, 3, 4, 5, 6, 7, 8, 9, 10, 5, 4, 5, 7, 10, 3, 4, 9, 2, 5, 6, 8, 3, 4, 4, 5, 6, 7, 10, 5, 10, 2, 6, 10, 8, 1, 2, 4, 5, 7, 8, 9, 10, 6, 1, 5, 2, 7, 1, 8, 3, 8, 9, 3, 6, 4, 9, 1, 3, 8, 7, 1, 2, 6, 7, 8, 9, 10, 1, 2, 4, 5, 7, 9, 8, 2, 4, 1, 2, 9, 10, 2, 3, 5, 6, 10, 1, 2, 5, 6, 1, 3, 1, 3, 4, 5, 6, 7, 8, 10, 8, 2, 5, 1, 10, 9, 10, 3, 6, 8, 9, 7, 8, 3, 7, 9, 3, 8, 1, 2, 3, 4, 5, 6, 7, 8, 9, 10, 3, 6, 9, 7, 10, 1, 2, 3, 4, 5, 6, 7, 8, 9, 10, 1, 2, 3, 4, 5, 6, 7, 8, 10, 2, 3, 3, 4, 6, 1, 2, 3, 4, 5, 6, 7, 8, 9, 10, 2, 5, 1, 7, 10, 9, 8, 6, 1, 2, 3, 4, 6, 9, 10, 5, 6, 6, 9, 8, 1, 1, 2, 3, 4, 5, 6, 7, 8, 9, 10, 5, 3, 1, 2, 3, 4, 5, 6, 7, 8, 9, 10, 8, 2, 1, 2, 3, 4, 5, 6, 1, 2, 3, 5, 6, 8, 1, 1, 6, 7, 1, 2, 4, 6, 9, 10, 5, 2, 6, 1, 4, 6, 8, 10, 7, 2, 1, 3, 10, 2, 3, 4, 5, 6, 8, 7, 5, 6, 10, 1, 2, 6, 10, 1, 4, 5, 6, 3, 4, 5, 8, 10, 9, 2, 7, 8, 9, 9, 3, 1, 2, 1, 9, 3, 1, 2, 9, 1, 2, 3, 4, 5, 6, 7, 8, 9, 10, 1, 2, 4, 5, 7, 10, 8, 1, 2, 7, 1, 4, 6, 10, 6, 5, 1, 2, 3, 5, 6, 7, 8, 9, 10, 1, 3, 9, 1, 2, 5, 7, 9, 2, 1, 3, 7, 8, 10, 8, 10, 1, 5, 1, 3, 5, 8, 2, 1, 2, 3, 4, 5, 6, 7, 8, 9, 1, 2, 3, 9, 10, 1, 2, 6, 2, 9, 10, 1, 2, 9, 5, 1, 2, 3, 4, 5, 6, 7, 8, 9, 10, 7, 7, 1, 2, 4, 5, 7, 1, 5, 4, 5, 7, 10, 8, 9, 2, 5, 3, 5, 1, 1, 2, 3, 4, 5, 6, 7, 8, 1, 2, 3, 4, 5, 6, 7, 8, 9, 10, 4, 1, 3, 2, 4, 10, 1, 9, 1, 2, 3, 4, 6, 7, 8, 9, 10, 7, 5, 1, 10, 1, 10, 8, 3, 4, 8, 1, 2, 3, 4, 5, 6, 7, 9, 10, 5, 3, 9, 9, 8, 1, 8, 9, 1, 2, 3, 4, 5, 6, 7, 8, 9, 10, 3, 4, 10, 1, 2, 3, 6, 7, 8, 9, 10, 7, 3, 10, 4, 9, 10, 6, 3, 6, 1, 2, 3, 4, 5, 6, 7, 8, 9, 10, 7, 1, 2, 3, 4, 5, 6, 7, 8, 9, 10, 1, 2, 10, 10, 1, 2, 3, 4, 5, 6, 7, 8, 10, 8, 1, 2, 3, 4, 6, 7, 9, 10, 3, 1, 2, 3, 4, 5, 6, 7, 8, 9, 10, 2, 4, 9, 1, 3, 4, 5, 6, 8, 9, 3, 7, 10, 8, 9, 1, 3, 1, 2, 3, 4, 5, 6, 7, 8, 9, 10, 1, 2, 3, 4, 5, 6, 7, 8, 9, 10, 7, 1, 6, 1, 2, 3, 4, 6, 7, 8, 9, 9, 1, 10, 7, 4, 2, 3, 5, 6, 9, 1, 3, 4, 6, 9, 2, 6, 7, 8, 9, 1, 2, 4, 6, 9, 6, 1, 2, 3, 4, 5, 6, 7, 8, 9, 10, 8, 6, 2, 6, 8, 1, 4, 5, 6, 8, 1, 2, 3, 4, 5, 6, 8, 9, 10, 1, 2, 3, 4, 5, 6, 7, 8, 9, 10, 1, 2, 3, 4, 5, 6, 7, 8, 9, 10, 7, 8, 9, 2, 1, 2, 3, 4, 5, 6, 7, 9, 10, 1, 6, 7, 8, 3, 3, 4, 5, 1, 6, 1, 3, 4, 5, 6, 7, 8, 9, 10, 1, 1, 2, 4, 5, 6, 7, 8, 9, 10, 5, 1, 2, 3, 4, 5, 6, 7, 8, 9, 10, 9, 1, 2, 3, 4, 5, 6, 7, 8, 9, 10, 1, 2, 8, 9, 10, 1, 10, 7, 1, 3, 4, 5, 7, 8, 9, 10, 3, 1, 2, 3, 4, 5, 6, 7, 8, 9, 10, 9, 1, 3, 4, 5, 7, 9, 10, 1, 2, 3, 4, 5, 6, 7, 8, 9, 10, 1, 2, 3, 4, 5, 6, 7, 8, 9, 10, 2, 3, 7, 8, 7, 1, 2, 3, 4, 5, 6, 7, 8, 9, 10, 1, 2, 3, 4, 5, 6, 7, 8, 9, 10, 1, 1, 2, 3, 4, 5, 6, 7, 8, 9, 10, 1, 2, 3, 4, 5, 6, 7, 8, 9, 10, 4, 1, 2, 3, 4, 5, 6, 7, 9, 10, 6, 1, 2, 3, 10, 1, 2, 3, 4, 5, 6, 7, 8, 9, 10, 1, 4, 10, 1, 2, 3, 4, 5, 6, 7, 8, 9, 10, 5, 4, 8, 6, 7, 1, 2, 3, 4, 5, 6, 7, 8, 9, 3, 8, 3, 9, 6, 1, 4, 1, 2, 4, 5, 7, 9, 10, 1, 2, 3, 4, 7, 8, 9, 3, 4, 5, 7, 8, 1, 1, 5, 1, 2, 4, 5, 6, 7, 8, 10, 1, 2, 3, 4, 6, 7, 9, 2, 1, 3, 4, 5, 7, 8, 9, 10, 1, 5, 4, 6, 7, 1, 4, 5, 7, 4, 2, 5, 6, 7, 1, 3, 2, 6, 9, 1, 4, 10, 1, 2, 3, 4, 5, 6, 7, 8, 9, 10, 3, 5, 6, 8, 1, 2, 5, 6, 8, 1, 4, 4, 6, 8, 10, 2, 3, 5, 6, 7, 8, 10, 2, 3, 4, 5, 6, 7, 8, 9, 10, 10, 5, 7, 8, 9, 7, 2, 10, 1, 1, 8, 6, 10, 9, 7, 1, 2, 3, 4, 5, 6, 7, 8, 9, 10, 9, 1, 5, 5, 1, 2, 3, 4, 5, 6, 7, 8, 9, 1, 2, 3, 4, 5, 6, 7, 8, 9, 10, 6, 8, 9, 2, 2, 2, 3, 7, 9, 10, 2, 9, 4, 3, 8, 1, 3, 1, 2, 3, 6, 7, 8, 9, 10, 2, 1, 4, 5, 6, 7, 7, 3, 8, 5, 10, 1, 2, 3, 4, 5, 6, 7, 8, 9, 10, 4, 1, 2, 4, 5, 7, 8, 9, 1, 2, 3, 6, 7, 8, 9, 10, 7, 7, 1, 2, 3, 9, 2, 2, 1, 2, 3, 4, 5, 6, 7, 8, 9, 1, 2, 3, 5, 6, 8, 9, 1, 2, 3, 4, 5, 6, 7, 8, 9, 10, 1, 2, 3, 4, 6, 7, 8, 1, 2, 3, 4, 5, 6, 7, 9, 9, 5, 6, 8, 10, 4, 5, 9, 1, 2, 3, 4, 6, 9, 2, 8, 2, 8, 1, 7, 9, 10, 1, 2, 3, 4, 5, 6, 7, 9, 1, 10, 5, 7, 4, 10, 1, 2, 3, 4, 5, 6, 7, 8, 9, 10, 3, 7, 1, 5, 1, 2, 4, 5, 6, 7, 8, 9, 10, 1, 2, 3, 4, 5, 10, 4, 2, 1, 2, 3, 4, 5, 6, 7, 8, 9, 10, 9, 1, 3, 5, 6, 7, 8, 10, 5, 6, 8, 1, 2, 3, 8, 9, 10, 3, 1, 2, 3, 4, 6, 9, 1, 2, 3, 5, 6, 7, 8, 9, 10, 8, 2, 7, 9, 1, 1, 2, 3, 4, 5, 6, 7, 8, 9, 10, 1, 2, 3, 4, 5, 6, 7, 8, 9, 10, 3, 2, 1, 5, 10, 1, 2, 3, 4, 7, 8, 9, 1, 1, 7, 1, 2, 3, 4, 5, 6, 7, 8, 9, 10, 3, 10, 7, 1, 2, 3, 4, 5, 6, 7, 8, 9, 10, 1, 2, 3, 4, 5, 6, 7, 8, 9, 10, 7, 7, 8, 8, 7, 8, 6, 4, 1, 9, 4, 4, 1, 2, 3, 4, 5, 6, 7, 8, 9, 10, 1, 8, 1, 2, 3, 4, 5, 6, 7, 8, 9, 10, 2, 1, 2, 3, 4, 5, 6, 7, 3, 1, 2, 3, 4, 5, 8, 1, 2, 3, 4, 5, 6, 7, 8, 9, 10, 1, 2, 3, 4, 5, 6, 7, 9, 10, 1, 2, 3, 4, 5, 6, 7, 8, 9, 10, 1, 2, 3, 4, 5, 6, 7, 8, 10, 1, 2, 3, 7, 8, 9, 10, 1, 2, 3, 4, 5, 6, 7, 8, 10, 2, 1, 2, 4, 5, 6, 7, 10, 1, 2, 3, 4, 5, 6, 7, 8, 9, 1, 2, 3, 4, 5, 7, 8, 9, 10, 1, 2, 3, 4, 5, 6, 7, 8, 9, 10, 5, 9, 8, 6, 1, 2, 3, 4, 6, 7, 8, 9, 10, 2, 1, 2, 3, 4, 5, 6, 7, 8, 9, 10, 1, 2, 3, 5, 6, 7, 8, 9, 10, 1, 2, 3, 4, 5, 6, 7, 8, 9, 10, 9, 1, 4, 10], \"Freq\": [0.82121470525907625, 0.61988519346528481, 0.071486708332555299, 0.2859468333302212, 0.35743354166277647, 0.071486708332555299, 0.071486708332555299, 0.071486708332555299, 0.1429734166651106, 0.062395895041091845, 0.093593842561637761, 0.093593842561637761, 0.18718768512327552, 0.062395895041091845, 0.062395895041091845, 0.062395895041091845, 0.15598973760272961, 0.093593842561637761, 0.12479179008218369, 0.21293115758371486, 0.42586231516742973, 0.80498172840374538, 0.614370656271643, 0.27059931881375116, 0.090199772937917061, 0.030066590979305686, 0.030066590979305686, 0.45099886468958528, 0.030066590979305686, 0.030066590979305686, 0.030066590979305686, 0.38983758314146488, 0.01443842900523944, 0.043315287015718316, 0.072192145026197196, 0.31764543811526769, 0.01443842900523944, 0.072192145026197196, 0.02887685801047888, 0.02887685801047888, 0.01443842900523944, 0.63105795430349099, 0.043387672243470551, 0.13016301673041164, 0.043387672243470551, 0.086775344486941103, 0.43387672243470549, 0.086775344486941103, 0.043387672243470551, 0.043387672243470551, 0.043387672243470551, 0.65844501302743774, 0.56546350458554429, 0.059945006385959447, 0.11989001277191889, 0.17983501915787833, 0.17983501915787833, 0.23978002554383779, 0.059945006385959447, 0.078180985204002226, 0.11727147780600333, 0.039090492602001113, 0.15636197040800445, 0.11727147780600333, 0.039090492602001113, 0.19545246301000554, 0.11727147780600333, 0.078180985204002226, 0.039090492602001113, 0.31370325314000697, 0.31370325314000697, 0.82760327001773326, 0.67132833086059496, 0.22377611028686498, 0.61455911107757033, 0.2663094763299183, 0.2663094763299183, 0.2663094763299183, 0.65753640155030724, 0.56752196573811797, 0.59589843865629744, 0.7453757134587341, 0.21062978366198484, 0.14041985577465657, 0.070209927887328286, 0.28083971154931314, 0.070209927887328286, 0.070209927887328286, 0.070209927887328286, 0.634416077378267, 0.3172080386891335, 0.29640404886595501, 0.118561619546382, 0.074101012216488751, 0.13338182198967977, 0.074101012216488751, 0.044460607329893251, 0.059280809773191001, 0.088921214659786502, 0.059280809773191001, 0.044460607329893251, 0.282387106049584, 0.33886452725950078, 0.056477421209916799, 0.1129548424198336, 0.056477421209916799, 0.1129548424198336, 0.056477421209916799, 0.056477421209916799, 0.13584217152478001, 0.6792108576239001, 0.56079304884480974, 0.58917169713115392, 0.19556077566255645, 0.58668232698766931, 0.25409057920251965, 0.25409057920251965, 0.25409057920251965, 0.24460374598581722, 0.12230187299290861, 0.24460374598581722, 0.24460374598581722, 0.061150936496454304, 0.44017649917607343, 0.19344001349802892, 0.10416000726816942, 0.074400005191549587, 0.074400005191549587, 0.029760002076619833, 0.14880001038309917, 0.074400005191549587, 0.11904000830647933, 0.13392000934478926, 0.044640003114929751, 0.4406887074888296, 0.61500622761345713, 0.14180749876217227, 0.12408156141690074, 0.097492655398993433, 0.035451874690543068, 0.044314843363178834, 0.11521859274426498, 0.26588906017907299, 0.070903749381086137, 0.044314843363178834, 0.053177812035814606, 0.082551015959324431, 0.30268705851752287, 0.11006802127909923, 0.055034010639549616, 0.082551015959324431, 0.055034010639549616, 0.13758502659887403, 0.082551015959324431, 0.027517005319774808, 0.027517005319774808, 0.92310047171417264, 0.18278870904666472, 0.091394354523332361, 0.45697177261666183, 0.091394354523332361, 0.091394354523332361, 0.12183531829433039, 0.60917659147165193, 0.12183531829433039, 0.058057434010668596, 0.29028717005334298, 0.058057434010668596, 0.11611486802133719, 0.23222973604267438, 0.11611486802133719, 0.058057434010668596, 0.40558811991823757, 0.75747869352936192, 0.6574821513281196, 0.32642165521424671, 0.32642165521424671, 0.58917171120210821, 0.61437062445313906, 0.13510995485385072, 0.54043981941540287, 0.13510995485385072, 0.13510995485385072, 0.068477426774754657, 0.068477426774754657, 0.068477426774754657, 0.34238713387377329, 0.068477426774754657, 0.068477426774754657, 0.068477426774754657, 0.068477426774754657, 0.068477426774754657, 0.068477426774754657, 0.63125018606859251, 0.71558878866294895, 0.059632399055245741, 0.059632399055245741, 0.059632399055245741, 0.059632399055245741, 0.79358485310670235, 0.63120994936179398, 0.3142886925351564, 0.6285773850703128, 0.20119084654360353, 0.067063615514534505, 0.067063615514534505, 0.26825446205813802, 0.33531807757267251, 0.067063615514534505, 0.55652863628868798, 0.39986499714375495, 0.39986499714375495, 0.39158027109159427, 0.065263378515265716, 0.065263378515265716, 0.13052675703053143, 0.065263378515265716, 0.065263378515265716, 0.065263378515265716, 0.065263378515265716, 0.065263378515265716, 0.72506244918554064, 0.25479003435993475, 0.63697508589983687, 0.61500624971938433, 0.79010933070154232, 0.5179355182536366, 0.10358710365072731, 0.10358710365072731, 0.20717420730145461, 0.20331517820482481, 0.50828794551206202, 0.1016575891024124, 0.1016575891024124, 0.1016575891024124, 0.82759689145341653, 0.54755486017222488, 0.13688871504305622, 0.13688871504305622, 0.19783178566226725, 0.065943928554089079, 0.065943928554089079, 0.19783178566226725, 0.3956635713245345, 0.065943928554089079, 0.87955391241376613, 0.83137506674914463, 0.20784376668728616, 0.20328959761762452, 0.50822399404406127, 0.10164479880881226, 0.10164479880881226, 0.61794731086821431, 0.055066240718993097, 0.33039744431395862, 0.22026496287597239, 0.055066240718993097, 0.055066240718993097, 0.11013248143798619, 0.055066240718993097, 0.055066240718993097, 0.055066240718993097, 0.20394878351842963, 0.61184635055528891, 0.16081986400116505, 0.080409932000582524, 0.080409932000582524, 0.080409932000582524, 0.080409932000582524, 0.48245959200349514, 0.080409932000582524, 0.24772694198116338, 0.24772694198116338, 0.24772694198116338, 0.24772694198116338, 0.063662407143739094, 0.12732481428747819, 0.063662407143739094, 0.063662407143739094, 0.31831203571869549, 0.063662407143739094, 0.1909872214312173, 0.063662407143739094, 0.063662407143739094, 0.68011461681975749, 0.22670487227325248, 0.6232679848587066, 0.48705423734169051, 0.18264533900313396, 0.060881779667711314, 0.060881779667711314, 0.12176355933542263, 0.41382111408916694, 0.17547828225580533, 0.52643484676741603, 0.17547828225580533, 0.25252152675513917, 0.50504305351027834, 0.10744625327958202, 0.16116937991937302, 0.21489250655916403, 0.16116937991937302, 0.080584689959686512, 0.10744625327958202, 0.026861563319895504, 0.053723126639791008, 0.080584689959686512, 0.1050554227279161, 0.2101108454558322, 0.1050554227279161, 0.52527711363958052, 0.047224039717379006, 0.047224039717379006, 0.14167211915213701, 0.18889615886951602, 0.14167211915213701, 0.094448079434758012, 0.094448079434758012, 0.047224039717379006, 0.23612019858689501, 0.56079308684225726, 0.08970140785142601, 0.08970140785142601, 0.17940281570285202, 0.13455211177713902, 0.022425351962856502, 0.31395492747999104, 0.08970140785142601, 0.022425351962856502, 0.022425351962856502, 0.022425351962856502, 0.20541204148156303, 0.61623612444468912, 0.31500365004678199, 0.31500365004678199, 0.24946685094846346, 0.24946685094846346, 0.49893370189692693, 0.11648952458068632, 0.14561190572585789, 0.058244762290343158, 0.14561190572585789, 0.087367143435514744, 0.058244762290343158, 0.058244762290343158, 0.11648952458068632, 0.20385666801620106, 0.029122381145171579, 0.051415075664265765, 0.1542452269927973, 0.051415075664265765, 0.051415075664265765, 0.25707537832132882, 0.051415075664265765, 0.25707537832132882, 0.051415075664265765, 0.051415075664265765, 0.57945841081617455, 0.11589168216323492, 0.11589168216323492, 0.11589168216323492, 0.099866017414075345, 0.13315468988543377, 0.33288672471358449, 0.16644336235679225, 0.099866017414075345, 0.099866017414075345, 0.033288672471358444, 0.066577344942716887, 0.16938883830933021, 0.084694419154665107, 0.084694419154665107, 0.084694419154665107, 0.084694419154665107, 0.084694419154665107, 0.33877767661866043, 0.083014094103438893, 0.083014094103438893, 0.041507047051719446, 0.083014094103438893, 0.12452114115515835, 0.16602818820687779, 0.083014094103438893, 0.083014094103438893, 0.083014094103438893, 0.16602818820687779, 0.56079334749919019, 0.05044261782790093, 0.05044261782790093, 0.18495626536897009, 0.20177047131160372, 0.10088523565580186, 0.084071029713168224, 0.016814205942633643, 0.15132785348370278, 0.05044261782790093, 0.10088523565580186, 0.76247671032279418, 0.64715614207273375, 0.19279458790133452, 0.7711783516053381, 0.56079325885138664, 0.052168914391095451, 0.1043378287821909, 0.052168914391095451, 0.20867565756438181, 0.1043378287821909, 0.26084457195547728, 0.15650674317328636, 0.052168914391095451, 0.052168914391095451, 0.40712785112887967, 0.6340058409522864, 0.61500624727871334, 0.57145358240230082, 0.57056963807509575, 0.64715600007175456, 0.22008732812287427, 0.66026198436862282, 0.64715611809939511, 0.16641227104600498, 0.19969472525520598, 0.066564908418402, 0.133129816836804, 0.099847362627602992, 0.066564908418402, 0.099847362627602992, 0.033282454209201, 0.033282454209201, 0.099847362627602992, 0.14252095847640747, 0.57008383390562989, 0.14252095847640747, 0.15844167597665992, 0.15844167597665992, 0.47532502792997977, 0.15844167597665992, 0.77906950478534021, 0.82722802627970071, 0.3778399966992439, 0.18891999834962195, 0.18891999834962195, 0.76924401126962183, 0.087131834689418222, 0.11980627269795006, 0.26139550406825468, 0.06534887601706367, 0.098023314025595512, 0.087131834689418222, 0.087131834689418222, 0.076240355353240946, 0.087131834689418222, 0.032674438008531835, 0.10879184180792699, 0.10879184180792699, 0.072527894538617993, 0.10879184180792699, 0.072527894538617993, 0.14505578907723599, 0.036263947269308996, 0.072527894538617993, 0.10879184180792699, 0.14505578907723599, 0.15348043032602038, 0.46044129097806114, 0.15348043032602038, 0.15348043032602038, 0.31900626675393029, 0.31900626675393029, 0.81514747140040467, 0.39346018667315569, 0.41370119398266558, 0.41413851979218747, 0.20706925989609373, 0.10353462994804687, 0.15530194492207031, 0.051767314974023433, 0.051767314974023433, 0.63266485121209759, 0.037498161204914227, 0.074996322409828453, 0.22498896722948536, 0.074996322409828453, 0.18749080602457113, 0.074996322409828453, 0.037498161204914227, 0.037498161204914227, 0.037498161204914227, 0.22498896722948536, 0.58917170724027046, 0.55637707854607177, 0.079482439792295967, 0.23844731937688793, 0.079482439792295967, 0.24822414261446055, 0.49644828522892109, 0.63115379294286811, 0.1098954764703426, 0.43958190588137042, 0.1098954764703426, 0.21979095294068521, 0.20387657466600539, 0.61162972399801618, 0.11127767051142168, 0.44511068204568671, 0.22255534102284336, 0.11127767051142168, 0.11127767051142168, 0.78890260740853069, 0.65798242494510184, 0.18315045763485824, 0.18315045763485824, 0.54945137290457469, 0.87955393494378942, 0.12804201644301305, 0.12804201644301305, 0.085361344295342048, 0.1707226885906841, 0.29876470503369718, 0.085361344295342048, 0.085361344295342048, 0.042680672147671024, 0.41264859919425456, 0.32802259232633135, 0.49203388848949697, 0.56079309151097478, 0.43568699076322648, 0.2586321882050347, 0.51726437641006939, 0.2081727734367281, 0.2081727734367281, 0.41634554687345621, 0.34983489791932398, 0.52475234687898598, 0.61211013219295407, 0.63191504976101509, 0.3472447218929603, 0.46299296252394706, 0.11574824063098677, 0.66346539471779897, 0.14961461971083406, 0.14961461971083406, 0.37403654927708513, 0.074807309855417031, 0.074807309855417031, 0.074807309855417031, 0.074807309855417031, 0.065273468255663145, 0.065273468255663145, 0.065273468255663145, 0.065273468255663145, 0.58746121430096832, 0.065273468255663145, 0.64715618230081151, 0.33430443412209071, 0.50145665118313598, 0.12916489550260232, 0.12916489550260232, 0.12916489550260232, 0.51665958201040929, 0.22155628442770228, 0.22155628442770228, 0.07385209480923409, 0.36926047404617046, 0.07385209480923409, 0.12987710275983921, 0.12987710275983921, 0.51950841103935685, 0.12987710275983921, 0.11793887363678524, 0.70763324182071141, 0.21894896923449145, 0.10947448461724572, 0.036491494872415237, 0.072982989744830473, 0.14596597948966095, 0.072982989744830473, 0.25544046410690668, 0.036491494872415237, 0.87955407833855048, 0.5468714582054921, 0.27343572910274605, 0.18798232243823676, 0.56394696731471028, 0.15315731237583974, 0.61262924950335895, 0.60613158813010826, 0.62265856363101812, 0.2075528545436727, 0.2075528545436727, 0.44079170355230435, 0.64715597540765712, 0.25748429130579525, 0.25748429130579525, 0.51496858261159051, 0.31976543427358056, 0.31976543427358056, 0.33834667279103608, 0.084586668197759021, 0.16917333639551804, 0.12688000229663854, 0.042293334098879511, 0.042293334098879511, 0.084586668197759021, 0.084586668197759021, 0.042293334098879511, 0.042293334098879511, 0.17712429526421447, 0.53137288579264341, 0.17712429526421447, 0.43592792873228864, 0.65770076759898899, 0.059504047862608794, 0.38677631110695715, 0.11900809572521759, 0.074380059828261, 0.029752023931304397, 0.17851214358782638, 0.029752023931304397, 0.1041320837595654, 0.014876011965652199, 0.014876011965652199, 0.047846145481023103, 0.14353843644306932, 0.047846145481023103, 0.14353843644306932, 0.095692290962046206, 0.23923072740511553, 0.14353843644306932, 0.14353843644306932, 0.047846145481023103, 0.87338105866695426, 0.60213726456547967, 0.59570160558225438, 0.14892540139556359, 0.14892540139556359, 0.27276083641414622, 0.090920278804715413, 0.054552167282829245, 0.18184055760943083, 0.18184055760943083, 0.01818405576094308, 0.072736223043772322, 0.054552167282829245, 0.036368111521886161, 0.054552167282829245, 0.29314182327198346, 0.58628364654396692, 0.73980817827085843, 0.43730608114182934, 0.79529883213987174, 0.63400592185380045, 0.79524561750673006, 0.61437064323643009, 0.088398289370824459, 0.44199144685412228, 0.088398289370824459, 0.088398289370824459, 0.088398289370824459, 0.088398289370824459, 0.088398289370824459, 0.66847257242668101, 0.16711814310667025, 0.41297532427292116, 0.64248282593479455, 0.64715618574023204, 0.66813507491118229, 0.23166272209618111, 0.08057833812041082, 0.04028916906020541, 0.08057833812041082, 0.23166272209618111, 0.090650630385462172, 0.11079521491556488, 0.050361461325256762, 0.020144584530102705, 0.04028916906020541, 0.77664486885601869, 0.79335234812019761, 0.13731488115333876, 0.27462976230667752, 0.085821800720836713, 0.085821800720836713, 0.068657440576669379, 0.1201505210091714, 0.017164360144167345, 0.068657440576669379, 0.03432872028833469, 0.10298616086500406, 0.6471561279609398, 0.56079305715516381, 0.11573895823428304, 0.11573895823428304, 0.11573895823428304, 0.11573895823428304, 0.46295583293713216, 0.11573895823428304, 0.14795538916233897, 0.51784386206818633, 0.073977694581169484, 0.073977694581169484, 0.073977694581169484, 0.073977694581169484, 0.82792012987415342, 0.55781346346732885, 0.61437064692937593, 0.43627367642190307, 0.11172340083519743, 0.55861700417598714, 0.055861700417598713, 0.055861700417598713, 0.055861700417598713, 0.055861700417598713, 0.4734384050161769, 0.56079313291543054, 0.61437063554147275, 0.13077250329315912, 0.13077250329315912, 0.13077250329315912, 0.26154500658631824, 0.26154500658631824, 0.53051944457171873, 0.56806974744925209, 0.20343042247093476, 0.61029126741280426, 0.20343042247093476, 0.076477051762742956, 0.22943115528822886, 0.30590820705097183, 0.076477051762742956, 0.076477051762742956, 0.15295410352548591, 0.43681596900405734, 0.59097223406758825, 0.41188922465221606, 0.65787294453234091, 0.66602460364081639, 0.095146371948688052, 0.095146371948688052, 0.095146371948688052, 0.089586503427451003, 0.089586503427451003, 0.53751902056470602, 0.089586503427451003, 0.079469170568185837, 0.31787668227274335, 0.15893834113637167, 0.23840751170455751, 0.15893834113637167, 0.42168233907080316, 0.72732235886601837, 0.22293881886394856, 0.44587763772789712, 0.22293881886394856, 0.63069350561277482, 0.79335232996728977, 0.44333867201991667, 0.22166933600995833, 0.67874998175046375, 0.22624999391682127, 0.39931743559947963, 0.12057597239754624, 0.72345583438527739, 0.12057597239754624, 0.2334599935783544, 0.063670907339551192, 0.084894543119401589, 0.16978908623880318, 0.084894543119401589, 0.084894543119401589, 0.084894543119401589, 0.084894543119401589, 0.042447271559700794, 0.063670907339551192, 0.74596160698141312, 0.10127473223356775, 0.10127473223356775, 0.10127473223356775, 0.60764839340140653, 0.10127473223356775, 0.64715609675871955, 0.2080556337800307, 0.2080556337800307, 0.41611126756006139, 0.13924947639668178, 0.41774842919004529, 0.13924947639668178, 0.13924947639668178, 0.61437065016261816, 0.58917169362541488, 0.43544289233069078, 0.033495607102360825, 0.06699121420472165, 0.033495607102360825, 0.06699121420472165, 0.1339824284094433, 0.033495607102360825, 0.10048682130708249, 0.1339824284094433, 0.29087382026146702, 0.58174764052293404, 0.42260448364124586, 0.12453123694589577, 0.12453123694589577, 0.12453123694589577, 0.37359371083768728, 0.12453123694589577, 0.56079305031968762, 0.24158272370277778, 0.40263787283796298, 0.080527574567592589, 0.080527574567592589, 0.080527574567592589, 0.64715600243121219, 0.65844498582261646, 0.377475352930699, 0.56621302939604856, 0.15500144284398512, 0.15500144284398512, 0.31000288568797024, 0.31000288568797024, 0.56079317607657408, 0.12875511483708507, 0.34334697289889349, 0.021459185806180843, 0.064377557418542536, 0.021459185806180843, 0.27896941548035098, 0.021459185806180843, 0.042918371612361686, 0.085836743224723372, 0.35374053581277004, 0.35374053581277004, 0.058956755968795009, 0.058956755968795009, 0.11791351193759002, 0.14191196202813955, 0.5676478481125582, 0.14191196202813955, 0.72732252399812836, 0.33741767025922081, 0.67483534051844163, 0.15862977328174679, 0.63451909312698718, 0.63019309874819496, 0.58917170337792557, 0.3189723644555893, 0.079743091113897324, 0.079743091113897324, 0.15948618222779465, 0.039871545556948662, 0.039871545556948662, 0.079743091113897324, 0.039871545556948662, 0.15948618222779465, 0.039871545556948662, 0.43823975724927255, 0.43586047216933388, 0.28705887855868928, 0.095686292852896412, 0.095686292852896412, 0.38274517141158565, 0.095686292852896412, 0.11632464704263473, 0.69794788225580839, 0.40785412195228921, 0.77657843091863976, 0.65909912328338194, 0.64300865692717291, 0.43136065085693448, 0.63107229060858605, 0.54791379395307716, 0.27395689697653858, 0.80555661550401136, 0.77578571160523457, 0.75839732966082352, 0.085146003638991635, 0.042573001819495818, 0.29801101273647068, 0.17029200727798327, 0.17029200727798327, 0.085146003638991635, 0.085146003638991635, 0.042573001819495818, 0.13784651608977225, 0.22974419348295375, 0.068923258044886124, 0.13784651608977225, 0.13784651608977225, 0.13784651608977225, 0.068923258044886124, 0.022974419348295375, 0.022974419348295375, 0.045948838696590749, 0.61305309633501148, 0.29530695130900114, 0.59061390261800228, 0.49472971214519479, 0.32981980809679651, 0.16490990404839825, 0.40911742840935134, 0.40911742840935134, 0.076440034894974543, 0.076440034894974543, 0.076440034894974543, 0.076440034894974543, 0.076440034894974543, 0.30576013957989817, 0.076440034894974543, 0.076440034894974543, 0.15288006978994909, 0.43511742523050362, 0.58917169404612502, 0.25303494779334934, 0.50606989558669868, 0.56709081631721991, 0.65844503263833698, 0.44125708541791125, 0.36427603623048432, 0.18213801811524216, 0.36427603623048432, 0.055625704181688176, 0.055625704181688176, 0.33375422509012909, 0.055625704181688176, 0.16687711254506454, 0.055625704181688176, 0.11125140836337635, 0.055625704181688176, 0.11125140836337635, 0.5891717143967331, 0.28096174550256003, 0.56192349100512007, 0.63113600306158835, 0.64715609448901235, 0.21300812391924789, 0.21300812391924789, 0.42601624783849579, 0.21428132470504413, 0.12856879482302647, 0.057141686588011761, 0.057141686588011761, 0.11428337317602352, 0.12856879482302647, 0.1714250597640353, 0.028570843294005881, 0.042856264941008824, 0.042856264941008824, 0.17721828093840072, 0.53165484281520226, 0.65727055679850643, 0.14892056049572466, 0.049640186831908219, 0.29784112099144933, 0.049640186831908219, 0.14892056049572466, 0.099280373663816437, 0.049640186831908219, 0.099280373663816437, 0.4354889812386607, 0.61805274687481837, 0.20601758229160611, 0.16020993830036284, 0.48062981490108858, 0.16020993830036284, 0.81708264778545692, 0.59307765029020976, 0.73872798048037924, 0.16400687115056661, 0.11714776510754758, 0.11714776510754758, 0.093718212086038061, 0.070288659064528553, 0.093718212086038061, 0.093718212086038061, 0.070288659064528553, 0.070288659064528553, 0.093718212086038061, 0.88792482290243191, 0.15872821157896549, 0.068026376390985202, 0.1360527527819704, 0.1360527527819704, 0.18140367037596056, 0.090701835187980279, 0.090701835187980279, 0.068026376390985202, 0.02267545879699507, 0.02267545879699507, 0.25240785091500528, 0.25240785091500528, 0.50481570183001057, 0.65844508788155631, 0.041077794790105815, 0.12323338437031744, 0.041077794790105815, 0.08215558958021163, 0.12323338437031744, 0.041077794790105815, 0.41077794790105815, 0.08215558958021163, 0.041077794790105815, 0.64715612647087106, 0.18460005885689817, 0.40612012948517601, 0.036920011771379636, 0.11076003531413892, 0.036920011771379636, 0.11076003531413892, 0.073840023542759273, 0.036920011771379636, 0.3921771728967634, 0.16203065802327254, 0.032406131604654505, 0.032406131604654505, 0.16203065802327254, 0.097218394813963521, 0.16203065802327254, 0.097218394813963521, 0.032406131604654505, 0.097218394813963521, 0.06481226320930901, 0.17415204907730278, 0.17415204907730278, 0.34830409815460556, 0.57417911448996461, 0.071772389311245577, 0.071772389311245577, 0.071772389311245577, 0.071772389311245577, 0.071772389311245577, 0.071772389311245577, 0.26289336804546914, 0.26289336804546914, 0.26289336804546914, 0.66610287788794664, 0.63152581129118013, 0.56235097814016133, 0.28117548907008066, 0.12893009341598283, 0.15041844231864665, 0.085953395610655223, 0.21488348902663806, 0.085953395610655223, 0.064465046707991414, 0.085953395610655223, 0.085953395610655223, 0.064465046707991414, 0.042976697805327611, 0.10146503820768278, 0.15219755731152418, 0.050732519103841391, 0.17756381686344488, 0.12683129775960347, 0.10146503820768278, 0.10146503820768278, 0.10146503820768278, 0.050732519103841391, 0.050732519103841391, 0.43421164861488643, 0.29898071471764426, 0.59796142943528852, 0.39089962350764196, 0.043433291500849111, 0.21716645750424554, 0.086866583001698222, 0.043433291500849111, 0.086866583001698222, 0.043433291500849111, 0.043433291500849111, 0.63400590289273639, 0.32619337349915584, 0.65238674699831167, 0.79741051814957775, 0.61500622223352386, 0.13336343469759279, 0.13336343469759279, 0.13336343469759279, 0.40009030409277835, 0.13336343469759279, 0.083500864708771924, 0.083500864708771924, 0.16700172941754385, 0.083500864708771924, 0.41750432354385963, 0.56079333696995448, 0.23641115574372309, 0.23641115574372309, 0.11820557787186155, 0.23641115574372309, 0.45276388353297709, 0.22638194176648854, 0.11319097088324427, 0.11319097088324427, 0.11319097088324427, 0.82007546957693267, 0.11777742272091041, 0.058888711360455204, 0.11777742272091041, 0.029444355680227602, 0.058888711360455204, 0.20611048976159321, 0.11777742272091041, 0.11777742272091041, 0.088333067040682806, 0.058888711360455204, 0.42920223153466608, 0.61792241097268208, 0.17602633338497853, 0.52807900015493558, 0.17602633338497853, 0.11262824863951518, 0.3378847459185455, 0.11262824863951518, 0.11262824863951518, 0.22525649727903035, 0.091214992221453531, 0.22803748055363385, 0.091214992221453531, 0.18242998444290706, 0.1368224883321803, 0.091214992221453531, 0.045607496110726765, 0.1368224883321803, 0.045607496110726765, 0.190128894885112, 0.14259667116383401, 0.28519334232766802, 0.047532223721278001, 0.047532223721278001, 0.047532223721278001, 0.047532223721278001, 0.047532223721278001, 0.095064447442556002, 0.047532223721278001, 0.31642737183251335, 0.2677462377044344, 0.024340567064039489, 0.073021701192118468, 0.097362268256157958, 0.073021701192118468, 0.024340567064039489, 0.048681134128078979, 0.073021701192118468, 0.048681134128078979, 0.18730384328417715, 0.18730384328417715, 0.56191152985253146, 0.38314899716171419, 0.050594774419738364, 0.050594774419738364, 0.10118954883947673, 0.25297387209869182, 0.25297387209869182, 0.050594774419738364, 0.10118954883947673, 0.10118954883947673, 0.050594774419738364, 0.16279688560427524, 0.16279688560427524, 0.16279688560427524, 0.48839065681282573, 0.40561551798877188, 0.80546792192045469, 0.61500623846696445, 0.78581731025604162, 0.20436812636860094, 0.61310437910580273, 0.36420989524932562, 0.15608995510685383, 0.026014992517808973, 0.026014992517808973, 0.026014992517808973, 0.026014992517808973, 0.052029985035617947, 0.10405997007123589, 0.23413493266028076, 0.76265370673211663, 0.13061637807511028, 0.52246551230044114, 0.052246551230044111, 0.026123275615022055, 0.18286292930515438, 0.026123275615022055, 0.026123275615022055, 0.026123275615022055, 0.026123275615022055, 0.77578574745539708, 0.17928435555812472, 0.11952290370541649, 0.11952290370541649, 0.08964217777906236, 0.14940362963177062, 0.059761451852708244, 0.08964217777906236, 0.08964217777906236, 0.059761451852708244, 0.059761451852708244, 0.63400590205630047, 0.071524628423178277, 0.17881157105794571, 0.10728694263476742, 0.21457388526953483, 0.071524628423178277, 0.035762314211589138, 0.10728694263476742, 0.071524628423178277, 0.071524628423178277, 0.035762314211589138, 0.14036523072417129, 0.14036523072417129, 0.14036523072417129, 0.28073046144834257, 0.14036523072417129, 0.26033676624752949, 0.52067353249505899, 0.43605223831256062, 0.050337997938875369, 0.20135199175550147, 0.30202798763325223, 0.050337997938875369, 0.050337997938875369, 0.25168998969437684, 0.050337997938875369, 0.050337997938875369, 0.8863402782575297, 0.14251617216383156, 0.14251617216383156, 0.035629043040957889, 0.035629043040957889, 0.10688712912287367, 0.32066138736862104, 0.035629043040957889, 0.035629043040957889, 0.071258086081915778, 0.14251617216383156, 0.63184190739463297, 0.36108039986731533, 0.15474874280027801, 0.10316582853351867, 0.051582914266759337, 0.051582914266759337, 0.20633165706703735, 0.051582914266759337, 0.17460468756431494, 0.034920937512862987, 0.10476281253858896, 0.13968375005145195, 0.034920937512862987, 0.069841875025725975, 0.10476281253858896, 0.20952562507717792, 0.10476281253858896, 0.034920937512862987, 0.1838526426657707, 0.079935931593813347, 0.17585904950638936, 0.13589108370948269, 0.063948745275050678, 0.079935931593813347, 0.063948745275050678, 0.055955152115669343, 0.087929524753194682, 0.063948745275050678, 0.81203994971124216, 0.13323940592056907, 0.39971821776170718, 0.26647881184113814, 0.43847788960117068, 0.19491829861931453, 0.097459149309657267, 0.19491829861931453, 0.064972766206438173, 0.064972766206438173, 0.064972766206438173, 0.097459149309657267, 0.064972766206438173, 0.16243191551609543, 0.032486383103219087, 0.25843617431786481, 0.051687234863572962, 0.051687234863572962, 0.10337446972714592, 0.051687234863572962, 0.051687234863572962, 0.051687234863572962, 0.10337446972714592, 0.25843617431786481, 0.051687234863572962, 0.57449099415213845, 0.18656376063902591, 0.062187920213008639, 0.062187920213008639, 0.062187920213008639, 0.12437584042601728, 0.062187920213008639, 0.24875168085203456, 0.12437584042601728, 0.062187920213008639, 0.062187920213008639, 0.17605067548696079, 0.146708896239134, 0.088025337743480397, 0.1173671169913072, 0.088025337743480397, 0.088025337743480397, 0.029341779247826799, 0.058683558495653598, 0.1173671169913072, 0.1173671169913072, 0.4086171485668274, 0.221390996898677, 0.29518799586490269, 0.1106954984493385, 0.1106954984493385, 0.036898499483112836, 0.073796998966225671, 0.036898499483112836, 0.073796998966225671, 0.036898499483112836, 0.61437063494162791, 0.17744056816474649, 0.17744056816474649, 0.17744056816474649, 0.35488113632949297, 0.30720532424061897, 0.051200887373436497, 0.12800221843359125, 0.15360266212030949, 0.12800221843359125, 0.025600443686718249, 0.051200887373436497, 0.025600443686718249, 0.076801331060154743, 0.025600443686718249, 0.20946784469518884, 0.20946784469518884, 0.41893568939037767, 0.13413205252297619, 0.15648739461013889, 0.044710684174325395, 0.08942136834865079, 0.20119807878446427, 0.044710684174325395, 0.11177671043581348, 0.08942136834865079, 0.044710684174325395, 0.08942136834865079, 0.38996720765972115, 0.32145943385567349, 0.32145943385567349, 0.63007814328002176, 0.31503907164001088, 0.091731485656531553, 0.18346297131306311, 0.091731485656531553, 0.045865742828265776, 0.13759722848479733, 0.27519445696959466, 0.045865742828265776, 0.091731485656531553, 0.045865742828265776, 0.84321070911918772, 0.64951828644883891, 0.3159642678090272, 0.6319285356180544, 0.82007560298680926, 0.49666248110197303, 0.16555416036732434, 0.48329304365904668, 0.069041863379863816, 0.069041863379863816, 0.069041863379863816, 0.13808372675972763, 0.069041863379863816, 0.069041863379863816, 0.47233434279284048, 0.078722390465473413, 0.078722390465473413, 0.078722390465473413, 0.078722390465473413, 0.078722390465473413, 0.078722390465473413, 0.10890911222649786, 0.49009100501924041, 0.10890911222649786, 0.1633636683397468, 0.054454556113248932, 0.74726813842850959, 0.19331780558311079, 0.77327122233244316, 0.05795425176730773, 0.05795425176730773, 0.17386275530192319, 0.11590850353461546, 0.05795425176730773, 0.34772551060384638, 0.11590850353461546, 0.05795425176730773, 0.092978263003607897, 0.13946739450541185, 0.046489131501803949, 0.092978263003607897, 0.13946739450541185, 0.37191305201443159, 0.046489131501803949, 0.56079316099437782, 0.04978873345528894, 0.04978873345528894, 0.19915493382115576, 0.09957746691057788, 0.14936620036586681, 0.29873240073173363, 0.14936620036586681, 0.04978873345528894, 0.23425408978508316, 0.46850817957016633, 0.61500625190342539, 0.8164988526325776, 0.43741597569503415, 0.12098530385097933, 0.36295591155293799, 0.12098530385097933, 0.12098530385097933, 0.8205826181893241, 0.4928910348842101, 0.098578206976842025, 0.098578206976842025, 0.29573462093052605, 0.56102482979624158, 0.28051241489812079, 0.20485968826110726, 0.61457906478332169, 0.63129301754682421, 0.57056975776958496, 0.63633956545322889, 0.31816978272661445, 0.13536488499217852, 0.022560814165363086, 0.15792569915754159, 0.090243256661452345, 0.11280407082681543, 0.090243256661452345, 0.15792569915754159, 0.11280407082681543, 0.022560814165363086, 0.067682442496089262, 0.17518837572370902, 0.17518837572370902, 0.35037675144741803, 0.17518837572370902, 0.13280230089953618, 0.13280230089953618, 0.13280230089953618, 0.39840690269860851, 0.6638393276220893, 0.23937687119322112, 0.47875374238644225, 0.47764805465928167, 0.15921601821976056, 0.15921601821976056, 0.15921601821976056, 0.10704673613357586, 0.10704673613357586, 0.053523368066787931, 0.21409347226715172, 0.21409347226715172, 0.053523368066787931, 0.21409347226715172, 0.22541029891769251, 0.056352574729423129, 0.056352574729423129, 0.056352574729423129, 0.22541029891769251, 0.22541029891769251, 0.056352574729423129, 0.056352574729423129, 0.056352574729423129, 0.64541105397036569, 0.77578564315035936, 0.44362893894290745, 0.22181446947145372, 0.62957694321269064, 0.43668010538271873, 0.57654194287999094, 0.28827097143999547, 0.57056968906624783, 0.31688869091870242, 0.63377738183740484, 0.41447074388095739, 0.44933949090173303, 0.31876661080191354, 0.43487315788314673, 0.21044055205946979, 0.14029370137297986, 0.052610138014867448, 0.087683563358112407, 0.1929038393878473, 0.1052202760297349, 0.035073425343244966, 0.035073425343244966, 0.1052202760297349, 0.035073425343244966, 0.42101450459979589, 0.14547637377571682, 0.58190549510286727, 0.77668910436607463, 0.21415947412456734, 0.091782631767671721, 0.18356526353534344, 0.061188421178447812, 0.091782631767671721, 0.12237684235689562, 0.030594210589223906, 0.15297105294611954, 0.091782631767671721, 0.1609275763795083, 0.12069568228463123, 0.080463788189754151, 0.040231894094877076, 0.24139136456926247, 0.040231894094877076, 0.1609275763795083, 0.080463788189754151, 0.040231894094877076, 0.080463788189754151, 0.36473603136006455, 0.18236801568003227, 0.18236801568003227, 0.7273220718850828, 0.56079315600015089, 0.13683050700932334, 0.54732202803729335, 0.13683050700932334, 0.13683050700932334, 0.13683050700932334, 0.46138723572259255, 0.23069361786129627, 0.61412083232032411, 0.45953970898735147, 0.15317990299578382, 0.25622033512462294, 0.64055083781155742, 0.19215911197926272, 0.04803977799481568, 0.43235800195334112, 0.09607955598963136, 0.09607955598963136, 0.09607955598963136, 0.04803977799481568, 0.43100631400177292, 0.81437514358375807, 0.11964728731931708, 0.11964728731931708, 0.47858914927726831, 0.11964728731931708, 0.11964728731931708, 0.43748100463066292, 0.71699311715948899, 0.4398769297513847, 0.60658107776928116, 0.30329053888464058, 0.060344907333479032, 0.36206944400087421, 0.12068981466695806, 0.12068981466695806, 0.12068981466695806, 0.060344907333479032, 0.060344907333479032, 0.060344907333479032, 0.060344907333479032, 0.060344907333479032, 0.61500626162381022, 0.29959081276045763, 0.29959081276045763, 0.04993180212674294, 0.09986360425348588, 0.04993180212674294, 0.09986360425348588, 0.09986360425348588, 0.0492128847069103, 0.0492128847069103, 0.5413417317760133, 0.0492128847069103, 0.14763865412073088, 0.0492128847069103, 0.0492128847069103, 0.098425769413820599, 0.43326046538689422, 0.43513517938504775, 0.21439218876928032, 0.071464062923093444, 0.64317656630784092, 0.64300971728184741, 0.56079313664757791, 0.75939703175085072, 0.061607001077509549, 0.18482100323252865, 0.2464280043100382, 0.061607001077509549, 0.1232140021550191, 0.030803500538754774, 0.030803500538754774, 0.21562450377128342, 0.061607001077509549, 0.18943596078034461, 0.063145320260114865, 0.063145320260114865, 0.25258128104045946, 0.12629064052022973, 0.18943596078034461, 0.063145320260114865, 0.21190802273103218, 0.14127201515402144, 0.023545335859003574, 0.11772667929501787, 0.070636007577010718, 0.14127201515402144, 0.11772667929501787, 0.094181343436014295, 0.047090671718007147, 0.047090671718007147, 0.22132414464333877, 0.16599310848250409, 0.33198621696500819, 0.16599310848250409, 0.055331036160834693, 0.055331036160834693, 0.64715614523204246, 0.60659737518713708, 0.043328383941938366, 0.043328383941938366, 0.1299851518258151, 0.043328383941938366, 0.043328383941938366, 0.043328383941938366, 0.086656767883876731, 0.63100420452084127, 0.17750993914531785, 0.53252981743595351, 0.17750993914531785, 0.45026894111959703, 0.14903816462301489, 0.44711449386904462, 0.14903816462301489, 0.18955015384573959, 0.37910030769147918, 0.094775076922869794, 0.094775076922869794, 0.094775076922869794, 0.094775076922869794, 0.25034907726078082, 0.50069815452156163, 0.57818032194936742, 0.19272677398312246, 0.18511633242114886, 0.37023266484229772, 0.18511633242114886, 0.18511633242114886, 0.32388572069967764, 0.18507755468553008, 0.046269388671382521, 0.046269388671382521, 0.092538777342765041, 0.046269388671382521, 0.046269388671382521, 0.13880816601414755, 0.26319277456258577, 0.52638554912517155, 0.58917174008515794, 0.65909489384118936, 0.61500624752584265, 0.53769485079224677, 0.24788171692378588, 0.10328404871824412, 0.10328404871824412, 0.082627238974595285, 0.082627238974595285, 0.12394085846189294, 0.082627238974595285, 0.14459766820554176, 0.041313619487297643, 0.020656809743648821, 0.73192927247657058, 0.12198821207942843, 0.19017010273359178, 0.76068041093436711, 0.15957785557961693, 0.039894463894904232, 0.1196833916847127, 0.23936678336942541, 0.079788927789808464, 0.19947231947452118, 0.039894463894904232, 0.079788927789808464, 0.079788927789808464, 0.16304754770871382, 0.40761886927178459, 0.16304754770871382, 0.081523773854356912, 0.081523773854356912, 0.081523773854356912, 0.6150062545334295, 0.56079306677225094, 0.15687088505141308, 0.031374177010282618, 0.12549670804113047, 0.031374177010282618, 0.031374177010282618, 0.15687088505141308, 0.21961923907197833, 0.031374177010282618, 0.031374177010282618, 0.12549670804113047, 0.63400587157835386, 0.11864565982929673, 0.47458263931718692, 0.11864565982929673, 0.11864565982929673, 0.11864565982929673, 0.44023252647754468, 0.22011626323877234, 0.58917175549311429, 0.32378469718609332, 0.32378469718609332, 0.2856162986971405, 0.095205432899046843, 0.19041086579809369, 0.095205432899046843, 0.095205432899046843, 0.2856162986971405, 0.88662263530536267, 0.12457987451534379, 0.12457987451534379, 0.12457987451534379, 0.12457987451534379, 0.12457987451534379, 0.24915974903068758, 0.026515940594759296, 0.079547821784277883, 0.50380287130042656, 0.053031881189518591, 0.079547821784277883, 0.10606376237903718, 0.053031881189518591, 0.026515940594759296, 0.079547821784277883, 0.64715616755960792, 0.72732199424100985, 0.43802126327171187, 0.63169583387520067, 0.87707758562646843, 0.28212458762054365, 0.12538870560913051, 0.15673588201141314, 0.031347176402282628, 0.094041529206847885, 0.094041529206847885, 0.047020764603423942, 0.062694352804565256, 0.078367941005706571, 0.047020764603423942, 0.12673370342468276, 0.063366851712341382, 0.063366851712341382, 0.11089199049659741, 0.12673370342468276, 0.12673370342468276, 0.095050277568512073, 0.17425884220893878, 0.063366851712341382, 0.031683425856170691, 0.79366262009922484, 0.56079332840011398, 0.20881628705352787, 0.20881628705352787, 0.41763257410705573, 0.39470610322624589, 0.049338262903280736, 0.14801478870984219, 0.098676525806561471, 0.14801478870984219, 0.049338262903280736, 0.049338262903280736, 0.57143457900805328, 0.58208997928296702, 0.19402999309432234, 0.18516876264523374, 0.074067505058093494, 0.14813501011618699, 0.14813501011618699, 0.18516876264523374, 0.074067505058093494, 0.074067505058093494, 0.037033752529046747, 0.037033752529046747, 0.037033752529046747, 0.88974423317780149, 0.45026896176108533, 0.43806905013361203, 0.096334609942191091, 0.096334609942191091, 0.096334609942191091, 0.32753767380344972, 0.038533843976876439, 0.01926692198843822, 0.11560153193062932, 0.15413537590750576, 0.038533843976876439, 0.01926692198843822, 0.27113734623789737, 0.062570156824130155, 0.16685375153101376, 0.062570156824130155, 0.14599703258963703, 0.041713437882753439, 0.041713437882753439, 0.041713437882753439, 0.10428359470688359, 0.062570156824130155, 0.43564609018777084, 0.19289112070394143, 0.77156448281576573, 0.6471560775888886, 0.12352421715773612, 0.74114530294641667, 0.61437062950022925, 0.6150062376825326, 0.74989511058662672, 0.12498251843110444, 0.8276953691412392, 0.61500624685213123, 0.23360859362962919, 0.087603222611110948, 0.1752064452222219, 0.029201074203703648, 0.087603222611110948, 0.11680429681481459, 0.058402148407407296, 0.11680429681481459, 0.058402148407407296, 0.029201074203703648, 0.84030933949289899, 0.64715616721741687, 0.12246351365042792, 0.15307939206303489, 0.09184763523782094, 0.12246351365042792, 0.18369527047564188, 0.09184763523782094, 0.09184763523782094, 0.030615878412606979, 0.061231756825213958, 0.061231756825213958, 0.56079320543761035, 0.059833058846381494, 0.059833058846381494, 0.23933223538552598, 0.059833058846381494, 0.059833058846381494, 0.17949917653914449, 0.29916529423190746, 0.40483348640897876, 0.075752562725097672, 0.3787628136254883, 0.075752562725097672, 0.15150512545019534, 0.15150512545019534, 0.075752562725097672, 0.14907159677683163, 0.059628638710732651, 0.1192572774214653, 0.1192572774214653, 0.1192572774214653, 0.059628638710732651, 0.059628638710732651, 0.14907159677683163, 0.089442958066098976, 0.029814319355366325, 0.12532968010325382, 0.12532968010325382, 0.12532968010325382, 0.062664840051626911, 0.062664840051626911, 0.062664840051626911, 0.062664840051626911, 0.18799452015488075, 0.25065936020650764, 0.29342825227859726, 0.13337647830845328, 0.080025886985071973, 0.053350591323381318, 0.080025886985071973, 0.13337647830845328, 0.10670118264676264, 0.053350591323381318, 0.026675295661690659, 0.026675295661690659, 0.37327560488400774, 0.10665017282400222, 0.053325086412001108, 0.15997525923600334, 0.053325086412001108, 0.053325086412001108, 0.053325086412001108, 0.10665017282400222, 0.053325086412001108, 0.19433675328501759, 0.048584188321254398, 0.48584188321254396, 0.14575256496376318, 0.048584188321254398, 0.048584188321254398, 0.048584188321254398, 0.13391428104210668, 0.17855237472280888, 0.044638093680702221, 0.22319046840351112, 0.089276187361404441, 0.044638093680702221, 0.044638093680702221, 0.17855237472280888, 0.044638093680702221, 0.56079307715368232, 0.11495182057751235, 0.11495182057751235, 0.11495182057751235, 0.11495182057751235, 0.11495182057751235, 0.34485546173253706, 0.11495182057751235, 0.20528631009925777, 0.08211452403970311, 0.12317178605955466, 0.20528631009925777, 0.12317178605955466, 0.041057262019851555, 0.12317178605955466, 0.08211452403970311, 0.041057262019851555, 0.07270895382596225, 0.07270895382596225, 0.10906343073894337, 0.39989924604279237, 0.07270895382596225, 0.1454179076519245, 0.036354476912981125, 0.036354476912981125, 0.036354476912981125, 0.15361586567829957, 0.08778049467331403, 0.021945123668328508, 0.10972561834164254, 0.15361586567829957, 0.13167074200997106, 0.17556098934662806, 0.06583537100498553, 0.021945123668328508, 0.08778049467331403, 0.47490450482784013, 0.23745225241392007, 0.66633694720287218, 0.6143706292209089, 0.18078967552147218, 0.27118451328220827, 0.045197418880368045, 0.045197418880368045, 0.2259870944018402, 0.045197418880368045, 0.045197418880368045, 0.090394837760736091, 0.045197418880368045, 0.56269090888044204, 0.15736427353956442, 0.12589141883165153, 0.062945709415825765, 0.031472854707912883, 0.15736427353956442, 0.11015499147769509, 0.14162784618560798, 0.07868213676978221, 0.07868213676978221, 0.04720928206186932, 0.23487295006378384, 0.039145491677297306, 0.039145491677297306, 0.15658196670918922, 0.19572745838648653, 0.078290983354594612, 0.15658196670918922, 0.039145491677297306, 0.039145491677297306, 0.16553598629971245, 0.094591992171264266, 0.16553598629971245, 0.094591992171264266, 0.11823999021408033, 0.070943994128448193, 0.11823999021408033, 0.094591992171264266, 0.047295996085632133, 0.047295996085632133, 0.42161075658460295, 0.26121322109927503, 0.26121322109927503, 0.52242644219855006], \"Term\": [\"abbott\", \"abortion\", \"abuse\", \"abuse\", \"abuse\", \"abuse\", \"abuse\", \"abuse\", \"abuse\", \"action\", \"action\", \"action\", \"action\", \"action\", \"action\", \"action\", \"action\", \"action\", \"action\", \"actor\", \"actor\", \"advantage\", \"advent\", \"afghan\", \"afghan\", \"afghan\", \"afghan\", \"afghan\", \"afghan\", \"afghan\", \"afghan\", \"afghanistan\", \"afghanistan\", \"afghanistan\", \"afghanistan\", \"afghanistan\", \"afghanistan\", \"afghanistan\", \"afghanistan\", \"afghanistan\", \"afghanistan\", \"aftermath\", \"agreement\", \"agreement\", \"agreement\", \"agreement\", \"agreement\", \"agreement\", \"agreement\", \"agreement\", \"agreement\", \"agriculture\", \"aip\", \"aircraft\", \"aircraft\", \"aircraft\", \"aircraft\", \"aircraft\", \"aircraft\", \"airline\", \"airline\", \"airline\", \"airline\", \"airline\", \"airline\", \"airline\", \"airline\", \"airline\", \"airline\", \"airspace\", \"airspace\", \"amendment\", \"amin\", \"amin\", \"amwu\", \"analysis\", \"analysis\", \"analysis\", \"andy_bichel\", \"apache\", \"appointment\", \"aquilina\", \"arafat\", \"arafat\", \"arafat\", \"arafat\", \"arafat\", \"arafat\", \"arafat\", \"arbitration\", \"arbitration\", \"area\", \"area\", \"area\", \"area\", \"area\", \"area\", \"area\", \"area\", \"area\", \"area\", \"army\", \"army\", \"army\", \"army\", \"army\", \"army\", \"army\", \"army\", \"arrest\", \"arrest\", \"arrondissement\", \"asic\", \"assembly\", \"assembly\", \"association\", \"association\", \"association\", \"asylum_seeker\", \"asylum_seeker\", \"asylum_seeker\", \"asylum_seeker\", \"asylum_seeker\", \"attachment\", \"attack\", \"attack\", \"attack\", \"attack\", \"attack\", \"attack\", \"attack\", \"attack\", \"attack\", \"attack\", \"attacker\", \"auditor\", \"australia\", \"australia\", \"australia\", \"australia\", \"australia\", \"australia\", \"australia\", \"australia\", \"australia\", \"australia\", \"authority\", \"authority\", \"authority\", \"authority\", \"authority\", \"authority\", \"authority\", \"authority\", \"authority\", \"authority\", \"baker\", \"ball\", \"ball\", \"ball\", \"ball\", \"ball\", \"ballot\", \"ballot\", \"ballot\", \"bank\", \"bank\", \"bank\", \"bank\", \"bank\", \"bank\", \"bank\", \"batsmen\", \"battlefield\", \"beacon\", \"beattie\", \"beattie\", \"bellamack\", \"bernadette\", \"bichel\", \"bichel\", \"bichel\", \"bichel\", \"bill\", \"bill\", \"bill\", \"bill\", \"bill\", \"bill\", \"bill\", \"bill\", \"bill\", \"bill\", \"billionaire\", \"bin_laden\", \"bin_laden\", \"bin_laden\", \"bin_laden\", \"bin_laden\", \"blood\", \"bloomberg\", \"blue\", \"blue\", \"boat\", \"boat\", \"boat\", \"boat\", \"boat\", \"boat\", \"boat_people\", \"boje\", \"boje\", \"bombing\", \"bombing\", \"bombing\", \"bombing\", \"bombing\", \"bombing\", \"bombing\", \"bombing\", \"bombing\", \"bond\", \"bonn\", \"bonn\", \"boonah\", \"boundary\", \"bowler\", \"bowler\", \"bowler\", \"bowler\", \"bowling\", \"bowling\", \"bowling\", \"bowling\", \"bowling\", \"box\", \"boxing_day\", \"boxing_day\", \"boxing_day\", \"boy\", \"boy\", \"boy\", \"boy\", \"boy\", \"boy\", \"bradstreet\", \"brain\", \"brain\", \"brisbane\", \"brisbane\", \"brisbane\", \"brisbane\", \"britt\", \"building\", \"building\", \"building\", \"building\", \"building\", \"building\", \"building\", \"building\", \"building\", \"cameron\", \"cameron\", \"cancer\", \"cancer\", \"cancer\", \"cancer\", \"cancer\", \"cancer\", \"cancer\", \"card\", \"card\", \"card\", \"card\", \"case\", \"case\", \"case\", \"case\", \"case\", \"case\", \"case\", \"case\", \"case\", \"casino\", \"casino\", \"cathedral\", \"cave\", \"cave\", \"cave\", \"cave\", \"cave\", \"ceasefire\", \"cell\", \"cell\", \"cell\", \"center\", \"center\", \"centre\", \"centre\", \"centre\", \"centre\", \"centre\", \"centre\", \"centre\", \"centre\", \"centre\", \"chairman\", \"chairman\", \"chairman\", \"chairman\", \"change\", \"change\", \"change\", \"change\", \"change\", \"change\", \"change\", \"change\", \"change\", \"chatelet\", \"child\", \"child\", \"child\", \"child\", \"child\", \"child\", \"child\", \"child\", \"child\", \"child\", \"child_sex\", \"child_sex\", \"china\", \"china\", \"cigarette\", \"cigarette\", \"cigarette\", \"city\", \"city\", \"city\", \"city\", \"city\", \"city\", \"city\", \"city\", \"city\", \"city\", \"claim\", \"claim\", \"claim\", \"claim\", \"claim\", \"claim\", \"claim\", \"claim\", \"claim\", \"club\", \"club\", \"club\", \"club\", \"commission\", \"commission\", \"commission\", \"commission\", \"commission\", \"commission\", \"commission\", \"commission\", \"commonwealth\", \"commonwealth\", \"commonwealth\", \"commonwealth\", \"commonwealth\", \"commonwealth\", \"commonwealth\", \"community\", \"community\", \"community\", \"community\", \"community\", \"community\", \"community\", \"community\", \"community\", \"community\", \"companion\", \"company\", \"company\", \"company\", \"company\", \"company\", \"company\", \"company\", \"company\", \"company\", \"company\", \"competitor\", \"compression\", \"computer\", \"computer\", \"conclusion\", \"condition\", \"condition\", \"condition\", \"condition\", \"condition\", \"condition\", \"condition\", \"condition\", \"condition\", \"confidentiality\", \"conspiracy\", \"content\", \"contractor\", \"conversation\", \"coordination\", \"coroner\", \"coroner\", \"counterpart\", \"country\", \"country\", \"country\", \"country\", \"country\", \"country\", \"country\", \"country\", \"country\", \"country\", \"crackdown\", \"crackdown\", \"crackdown\", \"crew_member\", \"crew_member\", \"crew_member\", \"crew_member\", \"crompton\", \"crush\", \"custody\", \"custody\", \"custody\", \"darren\", \"day\", \"day\", \"day\", \"day\", \"day\", \"day\", \"day\", \"day\", \"day\", \"day\", \"death\", \"death\", \"death\", \"death\", \"death\", \"death\", \"death\", \"death\", \"death\", \"death\", \"debate\", \"debate\", \"debate\", \"debate\", \"defunct\", \"defunct\", \"demonstrator\", \"dempsey\", \"dennehy\", \"detainee\", \"detainee\", \"detainee\", \"detainee\", \"detainee\", \"detainee\", \"deterrent\", \"director\", \"director\", \"director\", \"director\", \"director\", \"director\", \"director\", \"director\", \"director\", \"director\", \"discrepancy\", \"dispute\", \"dispute\", \"dispute\", \"dispute\", \"disruption\", \"disruption\", \"diversity\", \"doctor\", \"doctor\", \"doctor\", \"doctor\", \"doug\", \"doug\", \"downer\", \"downer\", \"downer\", \"downer\", \"downer\", \"drip\", \"driving\", \"drug\", \"drug\", \"drug\", \"dun\", \"economy\", \"economy\", \"economy\", \"economy\", \"economy\", \"economy\", \"economy\", \"economy\", \"editor\", \"elder\", \"elder\", \"elevator\", \"elimination\", \"email\", \"email\", \"embassy\", \"embassy\", \"embassy\", \"embryo\", \"embryo\", \"emission\", \"emotion\", \"endeavour\", \"endeavour\", \"endeavour\", \"engine\", \"envoy\", \"envoy\", \"envoy\", \"envoy\", \"envoy\", \"envoy\", \"envoy\", \"event\", \"event\", \"event\", \"event\", \"event\", \"event\", \"everybody\", \"explanation\", \"explanation\", \"explosive\", \"explosive\", \"explosive\", \"explosive\", \"facility\", \"facility\", \"facility\", \"facility\", \"facility\", \"faction\", \"faction\", \"faction\", \"faction\", \"factory\", \"factory\", \"family\", \"family\", \"family\", \"family\", \"family\", \"family\", \"family\", \"family\", \"fare\", \"farina\", \"farina\", \"farm\", \"farm\", \"farmer\", \"farmer\", \"fast_bowler\", \"fatality\", \"fatality\", \"fatality\", \"feature\", \"february\", \"feel\", \"feel\", \"feel\", \"ferguson\", \"ferguson\", \"fighter\", \"fighter\", \"fighter\", \"fighter\", \"fighter\", \"fighter\", \"fighter\", \"fighter\", \"fighter\", \"fighter\", \"finding\", \"finding\", \"finding\", \"finish\", \"finke\", \"fire\", \"fire\", \"fire\", \"fire\", \"fire\", \"fire\", \"fire\", \"fire\", \"fire\", \"fire\", \"firefighter\", \"firefighter\", \"firefighter\", \"firefighter\", \"firefighter\", \"firefighter\", \"firefighter\", \"firefighter\", \"firefighter\", \"firework\", \"first_test\", \"food\", \"food\", \"food\", \"force\", \"force\", \"force\", \"force\", \"force\", \"force\", \"force\", \"force\", \"force\", \"force\", \"foreign_affair\", \"foreign_affair\", \"forest\", \"format\", \"friedli\", \"funding\", \"gambier\", \"gap\", \"gaza_city\", \"gaza_city\", \"gaza_city\", \"gaza_city\", \"gaza_city\", \"gaza_city\", \"gaza_city\", \"germany\", \"germany\", \"gift\", \"giuliani\", \"good\", \"goodin\", \"government\", \"government\", \"government\", \"government\", \"government\", \"government\", \"government\", \"government\", \"government\", \"government\", \"green\", \"grocery\", \"group\", \"group\", \"group\", \"group\", \"group\", \"group\", \"group\", \"group\", \"group\", \"group\", \"gst\", \"guest\", \"gun\", \"gun\", \"gun\", \"gun\", \"gun\", \"gun\", \"gunman\", \"gunman\", \"gunman\", \"gunman\", \"gunman\", \"gunman\", \"gutnick\", \"habeel\", \"hak\", \"ham\", \"hamas\", \"hamas\", \"hamas\", \"hamas\", \"hamas\", \"hamas\", \"hamid\", \"haniya\", \"happened\", \"harrison\", \"harrison\", \"harrison\", \"harrison\", \"harrison\", \"hass\", \"hawke\", \"hayden\", \"hayden\", \"hayden\", \"hearing\", \"hearing\", \"hearing\", \"hearing\", \"hearing\", \"hearing\", \"heater\", \"hectare\", \"helena\", \"hermansburg\", \"hewitt\", \"hewitt\", \"hewitt\", \"hewitt\", \"hick\", \"hick\", \"hick\", \"hick\", \"hih\", \"hih\", \"hih\", \"hih\", \"hih\", \"hijacker\", \"hilton\", \"hiv\", \"hiv\", \"hiv\", \"homelessness\", \"hooke\", \"hopman\", \"hopman\", \"hornsby\", \"hornsby\", \"hostage\", \"hotel\", \"hotel\", \"hotel\", \"hour\", \"hour\", \"hour\", \"hour\", \"hour\", \"hour\", \"hour\", \"hour\", \"hour\", \"hour\", \"householder\", \"howard\", \"howard\", \"howard\", \"howard\", \"howard\", \"huttner\", \"ian\", \"ian\", \"ian\", \"ice\", \"ice\", \"ice\", \"ice\", \"image\", \"inauguration\", \"india\", \"india\", \"india\", \"india\", \"india\", \"india\", \"india\", \"india\", \"india\", \"indiana\", \"indiana\", \"indictment\", \"indonesia\", \"indonesia\", \"indonesia\", \"indonesia\", \"indonesia\", \"inferno\", \"innings\", \"innings\", \"innings\", \"innings\", \"innings\", \"inspection\", \"intent\", \"interview\", \"interview\", \"investment\", \"investment\", \"investment\", \"investment\", \"ismail\", \"israel\", \"israel\", \"israel\", \"israel\", \"israel\", \"israel\", \"israel\", \"israel\", \"israel\", \"israeli\", \"israeli\", \"israeli\", \"israeli\", \"israeli\", \"israeli_army\", \"israeli_army\", \"israeli_army\", \"jackson\", \"jan\", \"jan\", \"jenin\", \"jenin\", \"jerk\", \"jirga\", \"job\", \"job\", \"job\", \"job\", \"job\", \"job\", \"job\", \"job\", \"job\", \"job\", \"jone\", \"julia\", \"kabul\", \"kabul\", \"kabul\", \"kabul\", \"kabul\", \"karzai\", \"karzai\", \"kemp\", \"kerry\", \"kieren\", \"killer\", \"killmier\", \"knee\", \"knop\", \"knop\", \"language\", \"larrakia\", \"laura\", \"law\", \"law\", \"law\", \"law\", \"law\", \"law\", \"law\", \"law\", \"leader\", \"leader\", \"leader\", \"leader\", \"leader\", \"leader\", \"leader\", \"leader\", \"leader\", \"leader\", \"leak\", \"lee\", \"lee\", \"legal_advice\", \"legal_advice\", \"legal_advice\", \"lesson\", \"lesson\", \"level\", \"level\", \"level\", \"level\", \"level\", \"level\", \"level\", \"level\", \"level\", \"liesel\", \"livelihood\", \"liverpool\", \"liverpool\", \"lleyton\", \"lobby\", \"lombe\", \"lording\", \"lording\", \"lording\", \"lot\", \"lot\", \"lot\", \"lot\", \"lot\", \"lot\", \"lot\", \"lot\", \"lot\", \"loya\", \"lung\", \"lung\", \"magazine\", \"magna\", \"male\", \"male\", \"male\", \"man\", \"man\", \"man\", \"man\", \"man\", \"man\", \"man\", \"man\", \"man\", \"man\", \"manufacturing\", \"manufacturing\", \"martyn\", \"match\", \"match\", \"match\", \"match\", \"match\", \"match\", \"match\", \"match\", \"matt\", \"matthew\", \"matthew\", \"mayor\", \"mayor\", \"mayor\", \"mcgauran\", \"mcgrath\", \"mcmenamin\", \"meeting\", \"meeting\", \"meeting\", \"meeting\", \"meeting\", \"meeting\", \"meeting\", \"meeting\", \"meeting\", \"meeting\", \"megawati\", \"member\", \"member\", \"member\", \"member\", \"member\", \"member\", \"member\", \"member\", \"member\", \"member\", \"memory\", \"memory\", \"memory\", \"mentality\", \"metre\", \"metre\", \"metre\", \"metre\", \"metre\", \"metre\", \"metre\", \"metre\", \"metre\", \"midweek\", \"militant\", \"militant\", \"militant\", \"militant\", \"militant\", \"militant\", \"militant\", \"militant\", \"millwork\", \"minister\", \"minister\", \"minister\", \"minister\", \"minister\", \"minister\", \"minister\", \"minister\", \"minister\", \"minister\", \"missile\", \"missile\", \"missile\", \"mission\", \"mission\", \"mission\", \"mission\", \"mission\", \"mission\", \"mission\", \"mistake\", \"mistake\", \"mistake\", \"mitsubishi\", \"mogul\", \"mohamad\", \"mohamad\", \"month\", \"month\", \"month\", \"month\", \"month\", \"month\", \"month\", \"month\", \"month\", \"month\", \"morning\", \"morning\", \"morning\", \"morning\", \"morning\", \"morning\", \"morning\", \"morning\", \"morning\", \"morning\", \"mosis\", \"mosque\", \"mosque\", \"mountain\", \"mountain\", \"mountain\", \"mountain\", \"mountain\", \"mountain\", \"mountain\", \"mountain\", \"moussaoui\", \"music\", \"music\", \"nail\", \"nambour\", \"name\", \"name\", \"name\", \"name\", \"name\", \"new_york\", \"new_york\", \"new_york\", \"new_york\", \"new_york\", \"new_zealand\", \"news\", \"news\", \"news\", \"news\", \"news_agency\", \"news_agency\", \"news_agency\", \"news_agency\", \"news_agency\", \"nobel\", \"number\", \"number\", \"number\", \"number\", \"number\", \"number\", \"number\", \"number\", \"number\", \"number\", \"nurse\", \"obesity\", \"offender\", \"offender\", \"offender\", \"offer\", \"offer\", \"offer\", \"offer\", \"offer\", \"office\", \"office\", \"office\", \"office\", \"office\", \"office\", \"office\", \"office\", \"office\", \"officer\", \"officer\", \"officer\", \"officer\", \"officer\", \"officer\", \"officer\", \"officer\", \"officer\", \"officer\", \"official\", \"official\", \"official\", \"official\", \"official\", \"official\", \"official\", \"official\", \"official\", \"official\", \"oil\", \"oil\", \"oil\", \"olympic\", \"opposition\", \"opposition\", \"opposition\", \"opposition\", \"opposition\", \"opposition\", \"opposition\", \"opposition\", \"opposition\", \"outlook\", \"outlook\", \"outlook\", \"outlook\", \"output\", \"over\", \"owen\", \"oxygen\", \"paedophile\", \"paedophile\", \"pakistan\", \"pakistan\", \"pakistan\", \"pakistan\", \"pakistan\", \"pakistan\", \"pakistan\", \"pakistan\", \"pakistan\", \"paktika\", \"palestinian\", \"palestinian\", \"palestinian\", \"palestinian\", \"palestinian\", \"palestinian\", \"palestinian\", \"palestinian\", \"palestinian\", \"palmerston\", \"part\", \"part\", \"part\", \"part\", \"part\", \"part\", \"part\", \"part\", \"part\", \"part\", \"participant\", \"party\", \"party\", \"party\", \"party\", \"party\", \"party\", \"party\", \"party\", \"party\", \"party\", \"passenger\", \"passenger\", \"passenger\", \"passenger\", \"passenger\", \"passport\", \"passport\", \"pawlik\", \"pay\", \"pay\", \"pay\", \"pay\", \"pay\", \"pay\", \"pay\", \"pay\", \"payout\", \"peace\", \"peace\", \"peace\", \"peace\", \"peace\", \"peace\", \"peace\", \"peace\", \"peace\", \"peace\", \"penguin\", \"pentagon\", \"pentagon\", \"pentagon\", \"pentagon\", \"pentagon\", \"pentagon\", \"pentagon\", \"per_cent\", \"per_cent\", \"per_cent\", \"per_cent\", \"per_cent\", \"per_cent\", \"per_cent\", \"per_cent\", \"per_cent\", \"per_cent\", \"person\", \"person\", \"person\", \"person\", \"person\", \"person\", \"person\", \"person\", \"person\", \"person\", \"peru\", \"pilot\", \"pilot\", \"pilot\", \"piston\", \"place\", \"place\", \"place\", \"place\", \"place\", \"place\", \"place\", \"place\", \"place\", \"place\", \"plane\", \"plane\", \"plane\", \"plane\", \"plane\", \"plane\", \"plane\", \"plane\", \"plane\", \"plane\", \"pocket\", \"point\", \"point\", \"point\", \"point\", \"point\", \"point\", \"point\", \"point\", \"point\", \"point\", \"police\", \"police\", \"police\", \"police\", \"police\", \"police\", \"police\", \"police\", \"police\", \"police\", \"pollutant\", \"polouse\", \"polouse\", \"polouse\", \"polouse\", \"polouse\", \"polouse\", \"polouse\", \"polouse\", \"polouse\", \"pornography\", \"possibility\", \"possibility\", \"possibility\", \"possibility\", \"power\", \"power\", \"power\", \"power\", \"power\", \"power\", \"power\", \"power\", \"power\", \"power\", \"premier\", \"premier\", \"premier\", \"president\", \"president\", \"president\", \"president\", \"president\", \"president\", \"president\", \"president\", \"president\", \"president\", \"privacy\", \"prix\", \"prix\", \"prize\", \"prize\", \"process\", \"process\", \"process\", \"process\", \"process\", \"process\", \"process\", \"process\", \"process\", \"product\", \"projection\", \"prosecution\", \"prosecution\", \"prostitute\", \"province\", \"province\", \"qaeda\", \"qaeda\", \"qaeda\", \"qaeda\", \"qaeda\", \"qaeda\", \"qaeda\", \"qaeda_fighter\", \"qaeda_fighter\", \"qaeda_fighter\", \"qaeda_fighter\", \"qaeda_fighter\", \"qaeda_fighter\", \"qaeda_fighter\", \"qanta\", \"qanta\", \"qanta\", \"qanta\", \"qanta\", \"quarrel\", \"rabbani\", \"rabbani\", \"race\", \"race\", \"race\", \"race\", \"race\", \"race\", \"race\", \"race\", \"radio\", \"radio\", \"radio\", \"radio\", \"radio\", \"radio\", \"radio\", \"rajoub\", \"rate\", \"rate\", \"rate\", \"rate\", \"rate\", \"rate\", \"rate\", \"rate\", \"razzano\", \"razzano\", \"reach\", \"reactor\", \"rebecca\", \"record\", \"record\", \"record\", \"record\", \"reduction\", \"refugee\", \"refugee\", \"refugee\", \"refugee\", \"rehman\", \"rehman\", \"reid\", \"reid\", \"reign\", \"rein\", \"reject\", \"reject\", \"report\", \"report\", \"report\", \"report\", \"report\", \"report\", \"report\", \"report\", \"report\", \"report\", \"republic\", \"republic\", \"republic\", \"republic\", \"research\", \"research\", \"research\", \"research\", \"rfds\", \"rink\", \"rink\", \"rise\", \"rise\", \"rise\", \"rise\", \"river\", \"river\", \"river\", \"river\", \"river\", \"river\", \"river\", \"role\", \"role\", \"role\", \"role\", \"role\", \"role\", \"role\", \"role\", \"role\", \"rome\", \"rosebury\", \"ruddock\", \"ruddock\", \"rudolph\", \"ryan\", \"saa\", \"saa\", \"sabotage\", \"sale\", \"sale\", \"sanctuary\", \"sand\", \"scale\", \"second\", \"security\", \"security\", \"security\", \"security\", \"security\", \"security\", \"security\", \"security\", \"security\", \"security\", \"segment\", \"sele\", \"sele\", \"senator\", \"service\", \"service\", \"service\", \"service\", \"service\", \"service\", \"service\", \"service\", \"service\", \"set\", \"set\", \"set\", \"set\", \"set\", \"set\", \"set\", \"set\", \"set\", \"set\", \"sex\", \"sex\", \"sex\", \"shaft\", \"shanab\", \"shane\", \"shane\", \"shane\", \"shane\", \"shane\", \"sheikh\", \"sheikh\", \"shepherd\", \"shot\", \"shot\", \"shuttle\", \"shuttle\", \"side\", \"side\", \"side\", \"side\", \"side\", \"side\", \"side\", \"silence\", \"sinai\", \"six_month\", \"six_month\", \"six_month\", \"six_month\", \"six_month\", \"skin\", \"slip\", \"software\", \"soil\", \"soil\", \"soldier\", \"soldier\", \"soldier\", \"soldier\", \"soldier\", \"soldier\", \"soldier\", \"soldier\", \"soldier\", \"soldier\", \"someone\", \"source\", \"source\", \"source\", \"source\", \"source\", \"source\", \"source\", \"south_africa\", \"south_africa\", \"south_africa\", \"south_africa\", \"south_africa\", \"south_africa\", \"south_africa\", \"south_africa\", \"south_australia\", \"spa\", \"space\", \"space\", \"space\", \"spill\", \"spokesperson\", \"sri\", \"staff\", \"staff\", \"staff\", \"staff\", \"staff\", \"staff\", \"staff\", \"staff\", \"staff\", \"start\", \"start\", \"start\", \"start\", \"start\", \"start\", \"start\", \"state\", \"state\", \"state\", \"state\", \"state\", \"state\", \"state\", \"state\", \"state\", \"state\", \"station\", \"station\", \"station\", \"station\", \"station\", \"station\", \"stationery\", \"storm\", \"storm\", \"storm\", \"storm\", \"storm\", \"storm\", \"storm\", \"storm\", \"strength\", \"study\", \"study\", \"study\", \"subsidy\", \"suharto\", \"suharto\", \"suharto\", \"suicide_bombing\", \"suicide_bombing\", \"suicide_bombing\", \"suicide_bombing\", \"suicide_bombing\", \"suicide_bombing\", \"sullivan\", \"sullivan\", \"sultan\", \"sultan\", \"summit\", \"summit\", \"summit\", \"summit\", \"support\", \"support\", \"support\", \"support\", \"support\", \"support\", \"support\", \"support\", \"suspension\", \"suspension\", \"swedish\", \"swimmer\", \"swimming\", \"swiss\", \"sydney\", \"sydney\", \"sydney\", \"sydney\", \"sydney\", \"sydney\", \"sydney\", \"sydney\", \"sydney\", \"sydney\", \"tailender\", \"tailender\", \"taliban_force\", \"taliban_force\", \"talk\", \"talk\", \"talk\", \"talk\", \"talk\", \"talk\", \"talk\", \"talk\", \"talk\", \"tank\", \"tank\", \"tank\", \"tank\", \"tank\", \"tank\", \"tarpaulin\", \"teacher\", \"team\", \"team\", \"team\", \"team\", \"team\", \"team\", \"team\", \"team\", \"team\", \"team\", \"tech\", \"technology\", \"technology\", \"technology\", \"technology\", \"technology\", \"teenager\", \"teenager\", \"tel\", \"templeton\", \"templeton\", \"tension\", \"tension\", \"tension\", \"tension\", \"tension\", \"tension\", \"termination\", \"terror\", \"terror\", \"terror\", \"terror\", \"terror\", \"terror\", \"test\", \"test\", \"test\", \"test\", \"test\", \"test\", \"test\", \"test\", \"test\", \"thank\", \"theatre\", \"thermostat\", \"thomson\", \"ticket\", \"time\", \"time\", \"time\", \"time\", \"time\", \"time\", \"time\", \"time\", \"time\", \"time\", \"today\", \"today\", \"today\", \"today\", \"today\", \"today\", \"today\", \"today\", \"today\", \"today\", \"toddler\", \"tolkien\", \"tonight\", \"tonight\", \"tonight\", \"tora_bora\", \"tora_bora\", \"tora_bora\", \"tora_bora\", \"tora_bora\", \"tora_bora\", \"tora_bora\", \"tradespeople\", \"treasurer\", \"treasurer\", \"troop\", \"troop\", \"troop\", \"troop\", \"troop\", \"troop\", \"troop\", \"troop\", \"troop\", \"troop\", \"trounson\", \"truss\", \"turns\", \"union\", \"union\", \"union\", \"union\", \"union\", \"union\", \"union\", \"union\", \"union\", \"union\", \"united_state\", \"united_state\", \"united_state\", \"united_state\", \"united_state\", \"united_state\", \"united_state\", \"united_state\", \"united_state\", \"united_state\", \"upset\", \"user\", \"user\", \"vigin\", \"virus\", \"virus\", \"volleyball\", \"voltage\", \"volunteer\", \"volunteer\", \"voting\", \"wage_freeze\", \"wale\", \"wale\", \"wale\", \"wale\", \"wale\", \"wale\", \"wale\", \"wale\", \"wale\", \"wale\", \"walker\", \"wallace\", \"war\", \"war\", \"war\", \"war\", \"war\", \"war\", \"war\", \"war\", \"war\", \"war\", \"warrant\", \"water\", \"water\", \"water\", \"water\", \"water\", \"water\", \"water\", \"waugh\", \"wave\", \"wave\", \"wave\", \"wave\", \"wave\", \"wave\", \"way\", \"way\", \"way\", \"way\", \"way\", \"way\", \"way\", \"way\", \"way\", \"way\", \"weapon\", \"weapon\", \"weapon\", \"weapon\", \"weapon\", \"weapon\", \"weapon\", \"weapon\", \"weapon\", \"week\", \"week\", \"week\", \"week\", \"week\", \"week\", \"week\", \"week\", \"week\", \"week\", \"weekend\", \"weekend\", \"weekend\", \"weekend\", \"weekend\", \"weekend\", \"weekend\", \"weekend\", \"weekend\", \"wicket\", \"wicket\", \"wicket\", \"wicket\", \"wicket\", \"wicket\", \"wicket\", \"wind\", \"wind\", \"wind\", \"wind\", \"wind\", \"wind\", \"wind\", \"wind\", \"wind\", \"window\", \"winner\", \"winner\", \"winner\", \"winner\", \"winner\", \"winner\", \"winner\", \"work\", \"work\", \"work\", \"work\", \"work\", \"work\", \"work\", \"work\", \"work\", \"worker\", \"worker\", \"worker\", \"worker\", \"worker\", \"worker\", \"worker\", \"worker\", \"worker\", \"world\", \"world\", \"world\", \"world\", \"world\", \"world\", \"world\", \"world\", \"world\", \"world\", \"world_heritage\", \"world_heritage\", \"worm\", \"worshipped\", \"yasser_arafat\", \"yasser_arafat\", \"yasser_arafat\", \"yasser_arafat\", \"yasser_arafat\", \"yasser_arafat\", \"yasser_arafat\", \"yasser_arafat\", \"yasser_arafat\", \"yassin\", \"year\", \"year\", \"year\", \"year\", \"year\", \"year\", \"year\", \"year\", \"year\", \"year\", \"year_old\", \"year_old\", \"year_old\", \"year_old\", \"year_old\", \"year_old\", \"year_old\", \"year_old\", \"year_old\", \"yesterday\", \"yesterday\", \"yesterday\", \"yesterday\", \"yesterday\", \"yesterday\", \"yesterday\", \"yesterday\", \"yesterday\", \"yesterday\", \"zaccarias\", \"zimbabwe\", \"zimbabwe\", \"zimbabwe\"]}, \"mdsDat\": {\"y\": [-0.0037400104133117492, 0.092622930959624095, -0.056635000450074816, -0.014136772734511893, -0.047329693748871263, 0.063111611743378704, -0.046082132004247475, -0.027303703284488768, 0.0098042621669850415, 0.029688507765518016], \"cluster\": [1, 1, 1, 1, 1, 1, 1, 1, 1, 1], \"Freq\": [15.818394800690665, 12.159658994041648, 11.567770939146701, 10.030019386377294, 9.7231802800938851, 9.49922738551229, 9.4036901174717862, 8.3389077077773521, 6.9640238779753183, 6.4951265109130576], \"topics\": [1, 2, 3, 4, 5, 6, 7, 8, 9, 10], \"x\": [0.020284119551101615, -0.022615282587884779, 0.095137339258173054, -0.041508941653067774, -0.093848691595010414, 0.003548108244099723, -0.033738365772702061, 0.011366589424266733, 0.038242387626403036, 0.023132737504621022]}, \"R\": 30, \"lambda.step\": 0.01, \"tinfo\": {\"Category\": [\"Default\", \"Default\", \"Default\", \"Default\", \"Default\", \"Default\", \"Default\", \"Default\", \"Default\", \"Default\", \"Default\", \"Default\", \"Default\", \"Default\", \"Default\", \"Default\", \"Default\", \"Default\", \"Default\", \"Default\", \"Default\", \"Default\", \"Default\", \"Default\", \"Default\", \"Default\", \"Default\", \"Default\", \"Default\", \"Default\", \"Topic1\", \"Topic1\", \"Topic1\", \"Topic1\", \"Topic1\", \"Topic1\", \"Topic1\", \"Topic1\", \"Topic1\", \"Topic1\", \"Topic1\", \"Topic1\", \"Topic1\", \"Topic1\", \"Topic1\", \"Topic1\", \"Topic1\", \"Topic1\", \"Topic1\", \"Topic1\", \"Topic1\", \"Topic1\", \"Topic1\", \"Topic1\", \"Topic1\", \"Topic1\", \"Topic1\", \"Topic1\", \"Topic1\", \"Topic1\", \"Topic1\", \"Topic1\", \"Topic1\", \"Topic1\", \"Topic1\", \"Topic1\", \"Topic1\", \"Topic1\", \"Topic1\", \"Topic1\", \"Topic1\", \"Topic1\", \"Topic1\", \"Topic1\", \"Topic1\", \"Topic1\", \"Topic1\", \"Topic1\", \"Topic1\", \"Topic1\", \"Topic1\", \"Topic1\", \"Topic1\", \"Topic1\", \"Topic1\", \"Topic1\", \"Topic1\", \"Topic1\", \"Topic1\", \"Topic1\", \"Topic1\", \"Topic1\", \"Topic1\", \"Topic1\", \"Topic1\", \"Topic1\", \"Topic1\", \"Topic1\", \"Topic1\", \"Topic1\", \"Topic2\", \"Topic2\", \"Topic2\", \"Topic2\", \"Topic2\", \"Topic2\", \"Topic2\", \"Topic2\", \"Topic2\", \"Topic2\", \"Topic2\", \"Topic2\", \"Topic2\", \"Topic2\", \"Topic2\", \"Topic2\", \"Topic2\", \"Topic2\", \"Topic2\", \"Topic2\", \"Topic2\", \"Topic2\", \"Topic2\", \"Topic2\", \"Topic2\", \"Topic2\", \"Topic2\", \"Topic2\", \"Topic2\", \"Topic2\", \"Topic2\", \"Topic2\", \"Topic2\", \"Topic2\", \"Topic2\", \"Topic2\", \"Topic2\", \"Topic2\", \"Topic2\", \"Topic2\", \"Topic2\", \"Topic2\", \"Topic2\", \"Topic2\", \"Topic2\", \"Topic2\", \"Topic2\", \"Topic2\", \"Topic2\", \"Topic2\", \"Topic2\", \"Topic2\", \"Topic2\", \"Topic2\", \"Topic2\", \"Topic2\", \"Topic2\", \"Topic2\", \"Topic2\", \"Topic2\", \"Topic2\", \"Topic2\", \"Topic2\", \"Topic2\", \"Topic2\", \"Topic2\", \"Topic2\", \"Topic2\", \"Topic2\", \"Topic2\", \"Topic2\", \"Topic2\", \"Topic2\", \"Topic2\", \"Topic2\", \"Topic2\", \"Topic2\", \"Topic2\", \"Topic2\", \"Topic3\", \"Topic3\", \"Topic3\", \"Topic3\", \"Topic3\", \"Topic3\", \"Topic3\", \"Topic3\", \"Topic3\", \"Topic3\", \"Topic3\", \"Topic3\", \"Topic3\", \"Topic3\", \"Topic3\", \"Topic3\", \"Topic3\", \"Topic3\", \"Topic3\", \"Topic3\", \"Topic3\", \"Topic3\", \"Topic3\", \"Topic3\", \"Topic3\", \"Topic3\", \"Topic3\", \"Topic3\", \"Topic3\", \"Topic3\", \"Topic3\", \"Topic3\", \"Topic3\", \"Topic3\", \"Topic3\", \"Topic3\", \"Topic3\", \"Topic3\", \"Topic3\", \"Topic3\", \"Topic3\", \"Topic3\", \"Topic3\", \"Topic3\", \"Topic3\", \"Topic3\", \"Topic3\", \"Topic3\", \"Topic3\", \"Topic3\", \"Topic3\", \"Topic3\", \"Topic3\", \"Topic3\", \"Topic3\", \"Topic3\", \"Topic3\", \"Topic3\", \"Topic3\", \"Topic3\", \"Topic3\", \"Topic3\", \"Topic3\", \"Topic3\", \"Topic3\", \"Topic3\", \"Topic3\", \"Topic3\", \"Topic4\", \"Topic4\", \"Topic4\", \"Topic4\", \"Topic4\", \"Topic4\", \"Topic4\", \"Topic4\", \"Topic4\", \"Topic4\", \"Topic4\", \"Topic4\", \"Topic4\", \"Topic4\", \"Topic4\", \"Topic4\", \"Topic4\", \"Topic4\", \"Topic4\", \"Topic4\", \"Topic4\", \"Topic4\", \"Topic4\", \"Topic4\", \"Topic4\", \"Topic4\", \"Topic4\", \"Topic4\", \"Topic4\", \"Topic4\", \"Topic4\", \"Topic4\", \"Topic4\", \"Topic4\", \"Topic4\", \"Topic4\", \"Topic4\", \"Topic4\", \"Topic4\", \"Topic4\", \"Topic4\", \"Topic4\", \"Topic4\", \"Topic4\", \"Topic4\", \"Topic4\", \"Topic4\", \"Topic4\", \"Topic4\", \"Topic4\", \"Topic4\", \"Topic4\", \"Topic4\", \"Topic4\", \"Topic4\", \"Topic4\", \"Topic4\", \"Topic4\", \"Topic4\", \"Topic4\", \"Topic4\", \"Topic4\", \"Topic4\", \"Topic4\", \"Topic4\", \"Topic4\", \"Topic4\", \"Topic4\", \"Topic4\", \"Topic4\", \"Topic4\", \"Topic4\", \"Topic4\", \"Topic4\", \"Topic5\", \"Topic5\", \"Topic5\", \"Topic5\", \"Topic5\", \"Topic5\", \"Topic5\", \"Topic5\", \"Topic5\", \"Topic5\", \"Topic5\", \"Topic5\", \"Topic5\", \"Topic5\", \"Topic5\", \"Topic5\", \"Topic5\", \"Topic5\", \"Topic5\", \"Topic5\", \"Topic5\", \"Topic5\", \"Topic5\", \"Topic5\", \"Topic5\", \"Topic5\", \"Topic5\", \"Topic5\", \"Topic5\", \"Topic5\", \"Topic5\", \"Topic5\", \"Topic5\", \"Topic5\", \"Topic5\", \"Topic5\", \"Topic5\", \"Topic5\", \"Topic5\", \"Topic5\", \"Topic5\", \"Topic5\", \"Topic5\", \"Topic5\", \"Topic5\", \"Topic5\", \"Topic5\", \"Topic5\", \"Topic5\", \"Topic5\", \"Topic5\", \"Topic5\", \"Topic5\", \"Topic5\", \"Topic5\", \"Topic5\", \"Topic5\", \"Topic5\", \"Topic5\", \"Topic5\", \"Topic5\", \"Topic5\", \"Topic5\", \"Topic5\", \"Topic5\", \"Topic5\", \"Topic5\", \"Topic5\", \"Topic5\", \"Topic5\", \"Topic5\", \"Topic5\", \"Topic5\", \"Topic5\", \"Topic6\", \"Topic6\", \"Topic6\", \"Topic6\", \"Topic6\", \"Topic6\", \"Topic6\", \"Topic6\", \"Topic6\", \"Topic6\", \"Topic6\", \"Topic6\", \"Topic6\", \"Topic6\", \"Topic6\", \"Topic6\", \"Topic6\", \"Topic6\", \"Topic6\", \"Topic6\", \"Topic6\", \"Topic6\", \"Topic6\", \"Topic6\", \"Topic6\", \"Topic6\", \"Topic6\", \"Topic6\", \"Topic6\", \"Topic6\", \"Topic6\", \"Topic6\", \"Topic6\", \"Topic6\", \"Topic6\", \"Topic6\", \"Topic6\", \"Topic6\", \"Topic6\", \"Topic6\", \"Topic6\", \"Topic6\", \"Topic6\", \"Topic6\", \"Topic6\", \"Topic6\", \"Topic6\", \"Topic6\", \"Topic6\", \"Topic6\", \"Topic6\", \"Topic6\", \"Topic6\", \"Topic6\", \"Topic6\", \"Topic6\", \"Topic6\", \"Topic6\", \"Topic6\", \"Topic6\", \"Topic6\", \"Topic6\", \"Topic6\", \"Topic6\", \"Topic6\", \"Topic6\", \"Topic6\", \"Topic6\", \"Topic6\", \"Topic6\", \"Topic6\", \"Topic6\", \"Topic6\", \"Topic6\", \"Topic6\", \"Topic7\", \"Topic7\", \"Topic7\", \"Topic7\", \"Topic7\", \"Topic7\", \"Topic7\", \"Topic7\", \"Topic7\", \"Topic7\", \"Topic7\", \"Topic7\", \"Topic7\", \"Topic7\", \"Topic7\", \"Topic7\", \"Topic7\", \"Topic7\", \"Topic7\", \"Topic7\", \"Topic7\", \"Topic7\", \"Topic7\", \"Topic7\", \"Topic7\", \"Topic7\", \"Topic7\", \"Topic7\", \"Topic7\", \"Topic7\", \"Topic7\", \"Topic7\", \"Topic7\", \"Topic7\", \"Topic7\", \"Topic7\", \"Topic7\", \"Topic7\", \"Topic7\", \"Topic7\", \"Topic7\", \"Topic7\", \"Topic7\", \"Topic7\", \"Topic7\", \"Topic7\", \"Topic7\", \"Topic7\", \"Topic7\", \"Topic7\", \"Topic7\", \"Topic7\", \"Topic7\", \"Topic7\", \"Topic7\", \"Topic7\", \"Topic7\", \"Topic7\", \"Topic7\", \"Topic7\", \"Topic7\", \"Topic7\", \"Topic7\", \"Topic7\", \"Topic7\", \"Topic7\", \"Topic7\", \"Topic7\", \"Topic7\", \"Topic7\", \"Topic7\", \"Topic8\", \"Topic8\", \"Topic8\", \"Topic8\", \"Topic8\", \"Topic8\", \"Topic8\", \"Topic8\", \"Topic8\", \"Topic8\", \"Topic8\", \"Topic8\", \"Topic8\", \"Topic8\", \"Topic8\", \"Topic8\", \"Topic8\", \"Topic8\", \"Topic8\", \"Topic8\", \"Topic8\", \"Topic8\", \"Topic8\", \"Topic8\", \"Topic8\", \"Topic8\", \"Topic8\", \"Topic8\", \"Topic8\", \"Topic8\", \"Topic8\", \"Topic8\", \"Topic8\", \"Topic8\", \"Topic8\", \"Topic8\", \"Topic8\", \"Topic8\", \"Topic8\", \"Topic8\", \"Topic8\", \"Topic8\", \"Topic8\", \"Topic8\", \"Topic8\", \"Topic8\", \"Topic8\", \"Topic8\", \"Topic8\", \"Topic8\", \"Topic8\", \"Topic8\", \"Topic8\", \"Topic8\", \"Topic8\", \"Topic8\", \"Topic8\", \"Topic8\", \"Topic8\", \"Topic8\", \"Topic8\", \"Topic8\", \"Topic8\", \"Topic8\", \"Topic8\", \"Topic8\", \"Topic8\", \"Topic8\", \"Topic8\", \"Topic8\", \"Topic8\", \"Topic8\", \"Topic8\", \"Topic8\", \"Topic8\", \"Topic8\", \"Topic8\", \"Topic9\", \"Topic9\", \"Topic9\", \"Topic9\", \"Topic9\", \"Topic9\", \"Topic9\", \"Topic9\", \"Topic9\", \"Topic9\", \"Topic9\", \"Topic9\", \"Topic9\", \"Topic9\", \"Topic9\", \"Topic9\", \"Topic9\", \"Topic9\", \"Topic9\", \"Topic9\", \"Topic9\", \"Topic9\", \"Topic9\", \"Topic9\", \"Topic9\", \"Topic9\", \"Topic9\", \"Topic9\", \"Topic9\", \"Topic9\", \"Topic9\", \"Topic9\", \"Topic9\", \"Topic9\", \"Topic9\", \"Topic9\", \"Topic9\", \"Topic9\", \"Topic9\", \"Topic9\", \"Topic9\", \"Topic9\", \"Topic9\", \"Topic9\", \"Topic9\", \"Topic9\", \"Topic9\", \"Topic9\", \"Topic9\", \"Topic9\", \"Topic9\", \"Topic9\", \"Topic9\", \"Topic9\", \"Topic9\", \"Topic9\", \"Topic9\", \"Topic9\", \"Topic9\", \"Topic9\", \"Topic9\", \"Topic9\", \"Topic9\", \"Topic9\", \"Topic9\", \"Topic9\", \"Topic9\", \"Topic9\", \"Topic9\", \"Topic9\", \"Topic9\", \"Topic9\", \"Topic10\", \"Topic10\", \"Topic10\", \"Topic10\", \"Topic10\", \"Topic10\", \"Topic10\", \"Topic10\", \"Topic10\", \"Topic10\", \"Topic10\", \"Topic10\", \"Topic10\", \"Topic10\", \"Topic10\", \"Topic10\", \"Topic10\", \"Topic10\", \"Topic10\", \"Topic10\", \"Topic10\", \"Topic10\", \"Topic10\", \"Topic10\", \"Topic10\", \"Topic10\", \"Topic10\", \"Topic10\", \"Topic10\", \"Topic10\", \"Topic10\", \"Topic10\", \"Topic10\", \"Topic10\", \"Topic10\", \"Topic10\", \"Topic10\", \"Topic10\", \"Topic10\", \"Topic10\", \"Topic10\", \"Topic10\", \"Topic10\", \"Topic10\", \"Topic10\", \"Topic10\", \"Topic10\", \"Topic10\", \"Topic10\", \"Topic10\", \"Topic10\", \"Topic10\", \"Topic10\", \"Topic10\", \"Topic10\", \"Topic10\", \"Topic10\", \"Topic10\", \"Topic10\", \"Topic10\", \"Topic10\", \"Topic10\", \"Topic10\", \"Topic10\", \"Topic10\", \"Topic10\"], \"Term\": [\"afghanistan\", \"israel\", \"australia\", \"afghan\", \"fire\", \"pakistan\", \"palestinian\", \"test\", \"union\", \"company\", \"qanta\", \"government\", \"child\", \"india\", \"space\", \"south_africa\", \"cancer\", \"virus\", \"event\", \"worker\", \"metre\", \"commission\", \"director\", \"agreement\", \"wicket\", \"rate\", \"dispute\", \"peace\", \"attack\", \"farmer\", \"ticket\", \"forest\", \"gutnick\", \"goodin\", \"aquilina\", \"walker\", \"householder\", \"volunteer\", \"quarrel\", \"bin_laden\", \"habeel\", \"aip\", \"hornsby\", \"storm\", \"rehman\", \"hewitt\", \"darren\", \"casino\", \"laura\", \"mohamad\", \"paktika\", \"treasurer\", \"amin\", \"conversation\", \"sabotage\", \"rein\", \"lleyton\", \"pocket\", \"tradespeople\", \"contractor\", \"mission\", \"competitor\", \"club\", \"province\", \"hopman\", \"cave\", \"india\", \"afghanistan\", \"qaeda\", \"news_agency\", \"tora_bora\", \"qaeda_fighter\", \"pakistan\", \"area\", \"mountain\", \"time\", \"official\", \"government\", \"power\", \"bombing\", \"force\", \"weekend\", \"pentagon\", \"week\", \"united_state\", \"person\", \"man\", \"fighter\", \"sydney\", \"afghan\", \"attack\", \"hour\", \"australia\", \"security\", \"state\", \"year\", \"job\", \"wale\", \"today\", \"day\", \"peru\", \"firework\", \"sinai\", \"theatre\", \"shaft\", \"hilton\", \"jackson\", \"hotel\", \"arrest\", \"yassin\", \"farina\", \"knop\", \"sri\", \"inferno\", \"arrondissement\", \"guest\", \"window\", \"teacher\", \"chatelet\", \"elevator\", \"spokesperson\", \"haniya\", \"rajoub\", \"shanab\", \"ismail\", \"warrant\", \"conclusion\", \"tolkien\", \"companion\", \"new_zealand\", \"jenin\", \"hamas\", \"palestinian\", \"hawke\", \"sultan\", \"boat_people\", \"gunman\", \"sheikh\", \"apache\", \"battlefield\", \"crackdown\", \"saa\", \"fire\", \"israeli_army\", \"olympic\", \"legal_advice\", \"militant\", \"refugee\", \"detainee\", \"israel\", \"gaza_city\", \"tank\", \"group\", \"authority\", \"israeli\", \"polouse\", \"army\", \"official\", \"soldier\", \"leader\", \"wave\", \"building\", \"suicide_bombing\", \"source\", \"australia\", \"yasser_arafat\", \"day\", \"man\", \"security\", \"year\", \"person\", \"president\", \"month\", \"time\", \"area\", \"government\", \"attack\", \"centre\", \"state\", \"product\", \"trounson\", \"slip\", \"termination\", \"payout\", \"tailender\", \"factory\", \"hooke\", \"grocery\", \"bond\", \"blood\", \"toddler\", \"mcgrath\", \"fast_bowler\", \"shuttle\", \"first_test\", \"food\", \"advantage\", \"over\", \"space\", \"language\", \"boundary\", \"boxing_day\", \"waugh\", \"millwork\", \"batsmen\", \"output\", \"bichel\", \"hostage\", \"indiana\", \"south_africa\", \"test\", \"hayden\", \"lee\", \"wicket\", \"matthew\", \"technology\", \"side\", \"bowler\", \"bowling\", \"endeavour\", \"day\", \"ball\", \"shane\", \"shot\", \"person\", \"innings\", \"match\", \"company\", \"staff\", \"law\", \"centre\", \"station\", \"child\", \"time\", \"lot\", \"australia\", \"director\", \"united_state\", \"yesterday\", \"report\", \"officer\", \"fire\", \"place\", \"wale\", \"member\", \"pakistan\", \"service\", \"abortion\", \"shepherd\", \"abbott\", \"leak\", \"reduction\", \"emission\", \"amwu\", \"box\", \"doug\", \"crush\", \"amendment\", \"voting\", \"cameron\", \"manufacturing\", \"ballot\", \"pollutant\", \"disruption\", \"kemp\", \"rink\", \"tarpaulin\", \"boonah\", \"voltage\", \"nambour\", \"someone\", \"wage_freeze\", \"content\", \"auditor\", \"owen\", \"swimming\", \"reach\", \"dispute\", \"qanta\", \"arbitration\", \"rise\", \"confidentiality\", \"brisbane\", \"worker\", \"explanation\", \"union\", \"debate\", \"reject\", \"ice\", \"commission\", \"record\", \"bill\", \"abuse\", \"company\", \"month\", \"offer\", \"pay\", \"person\", \"force\", \"party\", \"hih\", \"morning\", \"hour\", \"wind\", \"area\", \"action\", \"opposition\", \"hearing\", \"work\", \"member\", \"today\", \"minister\", \"government\", \"power\", \"centre\", \"leader\", \"child\", \"day\", \"attack\", \"security\", \"afghanistan\", \"taliban_force\", \"rosebury\", \"larrakia\", \"palmerston\", \"kerry\", \"green\", \"senator\", \"rabbani\", \"karzai\", \"germany\", \"oxygen\", \"sele\", \"drip\", \"bonn\", \"assembly\", \"crompton\", \"appointment\", \"dempsey\", \"world_heritage\", \"interview\", \"hick\", \"jirga\", \"asic\", \"livelihood\", \"discrepancy\", \"inauguration\", \"loya\", \"swedish\", \"bellamack\", \"tel\", \"hamid\", \"soil\", \"chairman\", \"hectare\", \"privacy\", \"foreign_affair\", \"afghan\", \"razzano\", \"six_month\", \"agreement\", \"faction\", \"afghanistan\", \"suharto\", \"elder\", \"doctor\", \"government\", \"gun\", \"downer\", \"security\", \"case\", \"president\", \"force\", \"year\", \"member\", \"set\", \"kabul\", \"talk\", \"opposition\", \"world\", \"united_state\", \"day\", \"today\", \"man\", \"director\", \"war\", \"person\", \"commission\", \"troop\", \"part\", \"leader\", \"time\", \"company\", \"area\", \"report\", \"mcmenamin\", \"baker\", \"brain\", \"prostitute\", \"nobel\", \"reid\", \"child_sex\", \"reactor\", \"mcgauran\", \"britt\", \"demonstrator\", \"paedophile\", \"cathedral\", \"ceasefire\", \"gift\", \"obesity\", \"offender\", \"editor\", \"dennehy\", \"helena\", \"sanctuary\", \"advent\", \"pornography\", \"hak\", \"bernadette\", \"happened\", \"image\", \"gap\", \"worshipped\", \"volleyball\", \"fatality\", \"study\", \"prize\", \"embryo\", \"finding\", \"mosque\", \"cell\", \"boje\", \"child\", \"envoy\", \"israel\", \"peace\", \"facility\", \"name\", \"sex\", \"republic\", \"fire\", \"process\", \"number\", \"research\", \"asylum_seeker\", \"australia\", \"attack\", \"yasser_arafat\", \"firefighter\", \"man\", \"arafat\", \"palestinian\", \"today\", \"person\", \"government\", \"day\", \"state\", \"leader\", \"group\", \"year\", \"team\", \"time\", \"minister\", \"world\", \"sydney\", \"security\", \"year_old\", \"week\", \"company\", \"nail\", \"megawati\", \"engine\", \"hass\", \"feature\", \"piston\", \"jone\", \"turns\", \"thermostat\", \"event\", \"rebecca\", \"format\", \"skin\", \"howard\", \"ryan\", \"heater\", \"pawlik\", \"ham\", \"swimmer\", \"julia\", \"finish\", \"south_australia\", \"kieren\", \"elimination\", \"upset\", \"matt\", \"spa\", \"liesel\", \"second\", \"mosis\", \"metre\", \"pilot\", \"ruddock\", \"radio\", \"australia\", \"winner\", \"water\", \"race\", \"actor\", \"ian\", \"economy\", \"custody\", \"team\", \"claim\", \"man\", \"summit\", \"indonesia\", \"level\", \"asylum_seeker\", \"condition\", \"role\", \"world\", \"year\", \"report\", \"government\", \"talk\", \"airline\", \"point\", \"boat\", \"river\", \"day\", \"person\", \"authority\", \"today\", \"union\", \"yesterday\", \"state\", \"worker\", \"afghanistan\", \"president\", \"attack\", \"mitsubishi\", \"computer\", \"virus\", \"user\", \"coroner\", \"fare\", \"bradstreet\", \"dun\", \"gambier\", \"worm\", \"rfds\", \"software\", \"attachment\", \"killmier\", \"email\", \"good\", \"everybody\", \"wallace\", \"thank\", \"compression\", \"stationery\", \"midweek\", \"gst\", \"huttner\", \"vigin\", \"counterpart\", \"magna\", \"coordination\", \"february\", \"inspection\", \"lombe\", \"nurse\", \"projection\", \"attacker\", \"sale\", \"templeton\", \"blue\", \"boy\", \"sullivan\", \"china\", \"ferguson\", \"teenager\", \"prix\", \"outlook\", \"hiv\", \"lording\", \"crew_member\", \"boat\", \"family\", \"rate\", \"pay\", \"investment\", \"today\", \"staff\", \"bank\", \"per_cent\", \"company\", \"aircraft\", \"union\", \"sydney\", \"attack\", \"australia\", \"way\", \"service\", \"fire\", \"report\", \"day\", \"action\", \"area\", \"start\", \"year\", \"person\", \"year_old\", \"government\", \"number\", \"group\", \"wale\", \"spill\", \"giuliani\", \"oil\", \"prosecution\", \"center\", \"mayor\", \"funding\", \"moussaoui\", \"participant\", \"tech\", \"conspiracy\", \"deterrent\", \"emotion\", \"penguin\", \"thomson\", \"mogul\", \"reign\", \"billionaire\", \"bloomberg\", \"diversity\", \"magazine\", \"knee\", \"aftermath\", \"strength\", \"homelessness\", \"lung\", \"jerk\", \"rudolph\", \"segment\", \"indictment\", \"cancer\", \"new_york\", \"male\", \"feel\", \"scale\", \"embassy\", \"zaccarias\", \"hijacker\", \"plane\", \"missile\", \"cigarette\", \"city\", \"terror\", \"lesson\", \"attack\", \"association\", \"airspace\", \"job\", \"person\", \"card\", \"place\", \"pentagon\", \"passenger\", \"security\", \"day\", \"weapon\", \"united_state\", \"news\", \"time\", \"year\", \"support\", \"police\", \"office\", \"today\", \"australia\", \"pakistan\", \"rate\", \"israel\", \"way\", \"area\", \"centre\", \"meeting\", \"friedli\", \"truss\", \"subsidy\", \"farmer\", \"sand\", \"swiss\", \"farm\", \"jan\", \"music\", \"suspension\", \"mentality\", \"agriculture\", \"lobby\", \"intent\", \"drug\", \"silence\", \"driving\", \"hermansburg\", \"finke\", \"beacon\", \"passport\", \"zimbabwe\", \"defunct\", \"explosive\", \"liverpool\", \"andy_bichel\", \"rome\", \"beattie\", \"killer\", \"martyn\", \"memory\", \"commonwealth\", \"tonight\", \"analysis\", \"pakistan\", \"mistake\", \"possibility\", \"harrison\", \"director\", \"change\", \"premier\", \"weapon\", \"tension\", \"river\", \"group\", \"community\", \"company\", \"death\", \"india\", \"person\", \"team\", \"action\", \"meeting\", \"peace\", \"australia\", \"police\", \"world\", \"president\", \"government\", \"country\", \"united_state\", \"hour\", \"attack\", \"man\", \"day\", \"area\"], \"loglift\": [30.0, 29.0, 28.0, 27.0, 26.0, 25.0, 24.0, 23.0, 22.0, 21.0, 20.0, 19.0, 18.0, 17.0, 16.0, 15.0, 14.0, 13.0, 12.0, 11.0, 10.0, 9.0, 8.0, 7.0, 6.0, 5.0, 4.0, 3.0, 2.0, 1.0, 1.6183000000000001, 1.5906, 1.5609, 1.5501, 1.5207999999999999, 1.5175000000000001, 1.5168999999999999, 1.5164, 1.4881, 1.4823, 1.4683999999999999, 1.4433, 1.3996, 1.377, 1.3765000000000001, 1.3715999999999999, 1.3651, 1.3643000000000001, 1.3562000000000001, 1.3359000000000001, 1.3337000000000001, 1.3217000000000001, 1.3169, 1.3121, 1.3121, 1.3121, 1.3102, 1.3072999999999999, 1.3025, 1.3023, 1.2665, 1.2906, 1.2410000000000001, 1.2358, 1.2467999999999999, 1.1407, 1.0492999999999999, 0.89000000000000001, 1.0862000000000001, 1.1402000000000001, 0.95269999999999999, 1.0448, 0.8014, 0.63539999999999996, 0.85770000000000002, 0.55359999999999998, 0.67149999999999999, 0.39689999999999998, 0.6724, 0.96230000000000004, 0.53249999999999997, 0.88790000000000002, 0.86850000000000005, 0.63400000000000001, 0.52869999999999995, 0.1628, 0.32729999999999998, 0.77880000000000005, 0.40860000000000002, 0.58009999999999995, 0.23480000000000001, 0.3916, -0.090499999999999997, 0.2737, 0.28199999999999997, -0.0361, 0.65390000000000004, 0.38569999999999999, -0.23089999999999999, -0.61450000000000005, 1.8573, 1.8400000000000001, 1.8041, 1.8035000000000001, 1.8035000000000001, 1.8035000000000001, 1.8035000000000001, 1.7744, 1.7141, 1.7112000000000001, 1.6559999999999999, 1.6236999999999999, 1.5951, 1.5900000000000001, 1.5900000000000001, 1.5900000000000001, 1.5900000000000001, 1.5900000000000001, 1.5900000000000001, 1.5900000000000001, 1.5900000000000001, 1.5900000000000001, 1.5900000000000001, 1.5900000000000001, 1.5900000000000001, 1.5900000000000001, 1.5900000000000001, 1.5900000000000001, 1.5900000000000001, 1.5900000000000001, 1.5546, 1.4865999999999999, 1.4480999999999999, 1.5618000000000001, 1.526, 1.5358000000000001, 1.411, 1.5083, 1.526, 1.5525, 1.4490000000000001, 1.5130999999999999, 1.1392, 1.4218, 1.544, 1.4326000000000001, 1.2036, 1.3318000000000001, 1.2262, 1.0335000000000001, 1.2776000000000001, 1.2321, 0.81059999999999999, 0.92559999999999998, 1.1278999999999999, 0.93440000000000001, 1.0720000000000001, 0.76129999999999998, 1.0871, 0.67930000000000001, 1.1554, 1.0066999999999999, 1.2101999999999999, 0.90490000000000004, 0.0178, 0.7954, -0.025700000000000001, 0.091200000000000003, 0.1784, 0.088599999999999998, -0.41420000000000001, 0.26919999999999999, 0.2268, -0.0086999999999999994, -0.082600000000000007, -0.41220000000000001, -0.13550000000000001, 0.34039999999999998, 0.20799999999999999, 2.0253000000000001, 1.9019999999999999, 1.8943000000000001, 1.8667, 1.8621000000000001, 1.8302, 1.8164, 1.8143, 1.8143, 1.8080000000000001, 1.806, 1.8031999999999999, 1.7759, 1.7614000000000001, 1.7519, 1.7472000000000001, 1.6990000000000001, 1.6934, 1.6782999999999999, 1.6739999999999999, 1.6702999999999999, 1.6671, 1.6419999999999999, 1.6392, 1.6234999999999999, 1.6218999999999999, 1.6198999999999999, 1.6155999999999999, 1.6154999999999999, 1.607, 1.5299, 1.4925999999999999, 1.5686, 1.5416000000000001, 1.4111, 1.5651999999999999, 1.4885999999999999, 1.3286, 1.4383999999999999, 1.4181999999999999, 1.4234, 0.80469999999999997, 1.3101, 1.4461999999999999, 1.4843999999999999, 0.44, 1.2476, 1.0195000000000001, 0.51200000000000001, 0.76800000000000002, 0.89329999999999998, 0.63800000000000001, 1.0167999999999999, 0.48459999999999998, 0.27350000000000002, 0.99829999999999997, -0.18909999999999999, 0.7228, 0.312, 0.37280000000000002, 0.33300000000000002, 0.86409999999999998, -0.028400000000000002, 0.55249999999999999, 0.43640000000000001, 0.1777, 0.27139999999999997, 0.4078, 1.9675, 1.9482999999999999, 1.9399, 1.8956, 1.8857999999999999, 1.8732, 1.8501000000000001, 1.8448, 1.8426, 1.8369, 1.8263, 1.8228, 1.8137000000000001, 1.8064, 1.7686999999999999, 1.7557, 1.746, 1.728, 1.7159, 1.6974, 1.6974, 1.6974, 1.6974, 1.6973, 1.6973, 1.6973, 1.6973, 1.6973, 1.6973, 1.6973, 1.6457999999999999, 1.6027, 1.6639999999999999, 1.5958000000000001, 1.6679999999999999, 1.5284, 1.4056, 1.5157, 1.1997, 1.4987999999999999, 1.6023000000000001, 1.4545999999999999, 1.1692, 1.3997999999999999, 1.2273000000000001, 1.1972, 0.69420000000000004, 0.7591, 1.3416999999999999, 1.024, 0.2777, 0.56559999999999999, 0.82030000000000003, 1.1765000000000001, 0.61760000000000004, 0.4955, 0.84770000000000001, 0.25540000000000002, 0.63800000000000001, 0.89859999999999995, 1.1137999999999999, 0.74419999999999997, 0.35439999999999999, 0.10920000000000001, 0.56359999999999999, -0.2054, 0.40110000000000001, 0.4194, 0.30120000000000002, 0.22409999999999999, -0.48259999999999997, -0.2341, -0.10580000000000001, -0.30059999999999998, 2.0274999999999999, 1.9985999999999999, 1.9985999999999999, 1.9985999999999999, 1.9913000000000001, 1.9906999999999999, 1.9903, 1.9703999999999999, 1.9582999999999999, 1.9339999999999999, 1.9020999999999999, 1.8775999999999999, 1.8706, 1.867, 1.8347, 1.8027, 1.8008999999999999, 1.7977000000000001, 1.7959000000000001, 1.7927999999999999, 1.7818000000000001, 1.7699, 1.7699, 1.7699, 1.7699, 1.7699, 1.7699, 1.7699, 1.7699, 1.7699, 1.7468999999999999, 1.7524999999999999, 1.6933, 1.7264999999999999, 1.7441, 1.7184999999999999, 1.5281, 1.6906000000000001, 1.6301000000000001, 1.5047999999999999, 1.5965, 1.1943999999999999, 1.5968, 1.6081000000000001, 1.5046999999999999, 0.88619999999999999, 1.4490000000000001, 1.4189000000000001, 0.68669999999999998, 1.1679999999999999, 0.68759999999999999, 0.5796, 0.43609999999999999, 0.58919999999999995, 0.86770000000000003, 1.2859, 0.82020000000000004, 0.92830000000000001, 0.44209999999999999, 0.41149999999999998, 0.020400000000000001, 0.2165, 0.13550000000000001, 0.73909999999999998, 0.59889999999999999, -0.37159999999999999, 0.62849999999999995, 0.69679999999999997, 0.52080000000000004, 0.28289999999999998, -0.055800000000000002, -0.041200000000000001, -0.18179999999999999, 0.155, 2.1541999999999999, 2.0973999999999999, 2.0659000000000001, 1.9950000000000001, 1.9950000000000001, 1.9702, 1.9614, 1.9396, 1.9388000000000001, 1.9311, 1.9137, 1.9109, 1.8802000000000001, 1.8664000000000001, 1.8641000000000001, 1.8568, 1.8516999999999999, 1.8385, 1.8311999999999999, 1.8144, 1.8089, 1.7527999999999999, 1.7527999999999999, 1.7527999999999999, 1.7527999999999999, 1.7527999999999999, 1.7527999999999999, 1.7527999999999999, 1.7527999999999999, 1.7527999999999999, 1.7289000000000001, 1.7146999999999999, 1.7315, 1.6841999999999999, 1.6321000000000001, 1.6793, 1.6002000000000001, 1.7000999999999999, 1.1967000000000001, 1.3663000000000001, 1.0955999999999999, 1.1848000000000001, 1.319, 1.4782999999999999, 1.5422, 1.5245, 0.59040000000000004, 1.0016, 0.79300000000000004, 1.4059999999999999, 1.0600000000000001, 0.18509999999999999, 0.4173, 0.91739999999999999, 0.94269999999999998, 0.31879999999999997, 1.1117999999999999, 0.60650000000000004, 0.32569999999999999, -0.1416, -0.0247, -0.047600000000000003, 0.42020000000000002, 0.37919999999999998, 0.1895, 0.12690000000000001, 0.5575, 0.061499999999999999, 0.56920000000000004, 0.2722, 0.20530000000000001, 0.048099999999999997, 0.67830000000000001, 0.26929999999999998, -0.18909999999999999, 1.9626999999999999, 1.9625999999999999, 1.9487000000000001, 1.9469000000000001, 1.8963000000000001, 1.8449, 1.8275999999999999, 1.8270999999999999, 1.8220000000000001, 1.8181, 1.8100000000000001, 1.8091999999999999, 1.8082, 1.8022, 1.798, 1.7919, 1.7881, 1.7796000000000001, 1.7751999999999999, 1.7746999999999999, 1.7744, 1.7729999999999999, 1.7657, 1.7643, 1.7604, 1.7542, 1.7495000000000001, 1.748, 1.7366999999999999, 1.7366999999999999, 1.5157, 1.5988, 1.6524000000000001, 1.3638999999999999, 1.0381, 1.4291, 1.2506999999999999, 1.2279, 1.5798000000000001, 1.5618000000000001, 1.0907, 1.5283, 0.9113, 1.0771999999999999, 0.62519999999999998, 1.5046999999999999, 1.3605, 1.149, 1.0392999999999999, 0.96330000000000005, 0.97789999999999999, 0.56920000000000004, 0.41539999999999999, 0.56840000000000002, 0.17530000000000001, 0.80820000000000003, 0.79659999999999997, 0.99719999999999998, 1.0245, 0.89249999999999996, -0.095100000000000004, -0.34089999999999998, 0.44979999999999998, 0.049500000000000002, 0.1205, 0.24210000000000001, 0.1913, 0.53669999999999995, -0.23810000000000001, 0.094899999999999998, -0.29549999999999998, 2.1996000000000002, 2.1915, 2.1886999999999999, 2.1280999999999999, 2.093, 2.0880999999999998, 2.0880999999999998, 2.0880999999999998, 2.0785999999999998, 2.0265, 1.9882, 1.9852000000000001, 1.9174, 1.8811, 1.835, 1.8278000000000001, 1.8278000000000001, 1.8278000000000001, 1.8278000000000001, 1.8278000000000001, 1.8278000000000001, 1.8278000000000001, 1.8278000000000001, 1.8278000000000001, 1.8278000000000001, 1.8278000000000001, 1.8278000000000001, 1.8278000000000001, 1.8278000000000001, 1.8278000000000001, 1.8254999999999999, 1.821, 1.7988999999999999, 1.8107, 1.7604, 1.7617, 1.7522, 1.5662, 1.7081, 1.7193000000000001, 1.7201, 1.6595, 1.7161999999999999, 1.5926, 1.645, 1.601, 1.5718000000000001, 1.3079000000000001, 1.1335, 1.2078, 1.1883999999999999, 1.5238, 0.70860000000000001, 0.9214, 1.1383000000000001, 0.93179999999999996, 0.64610000000000001, 1.1231, 0.57809999999999995, 0.4955, 0.30520000000000003, -0.11219999999999999, 0.56930000000000003, 0.57110000000000005, 0.15029999999999999, 0.374, -0.070699999999999999, 0.52980000000000005, 0.059999999999999998, 0.95720000000000005, 0.019300000000000001, -0.44290000000000002, 0.62790000000000001, -0.45369999999999999, 0.36930000000000002, -0.095200000000000007, 0.33160000000000001, 2.3691, 2.3334000000000001, 2.1680999999999999, 2.0792000000000002, 2.0626000000000002, 2.0375000000000001, 2.0305, 2.0305, 2.0305, 2.0305, 2.0305, 2.0135000000000001, 2.0038999999999998, 2.0030000000000001, 2.0011000000000001, 1.9988999999999999, 1.9958, 1.9953000000000001, 1.9947999999999999, 1.994, 1.9938, 1.9930000000000001, 1.9927999999999999, 1.9921, 1.988, 1.9878, 1.9814000000000001, 1.9733000000000001, 1.9615, 1.9607000000000001, 1.9547000000000001, 1.8291999999999999, 1.8952, 1.8649, 1.8675999999999999, 1.7615000000000001, 1.8998999999999999, 1.8936999999999999, 1.3231999999999999, 1.6104000000000001, 1.7023999999999999, 1.0109999999999999, 1.4553, 1.8559000000000001, 0.67030000000000001, 1.6821999999999999, 1.7554000000000001, 0.90369999999999995, 0.22459999999999999, 1.6443000000000001, 0.76749999999999996, 0.96130000000000004, 1.3919999999999999, 0.44119999999999998, 0.20519999999999999, 1.0122, 0.46970000000000001, 1.2883, 0.1615, 0.14999999999999999, 0.74480000000000002, 0.43819999999999998, 0.69310000000000005, 0.0177, -0.35980000000000001, 0.30659999999999998, 0.73550000000000004, 0.1105, 0.32279999999999998, -0.2525, 0.2107, 0.082199999999999995, 2.5735000000000001, 2.3246000000000002, 2.3246000000000002, 2.3125, 2.2844000000000002, 2.2288999999999999, 2.1829000000000001, 2.1720999999999999, 2.1585999999999999, 2.1507000000000001, 2.0579999999999998, 2.0579999999999998, 2.0579999999999998, 2.0579999999999998, 2.0508999999999999, 2.0406, 2.0405000000000002, 2.0364, 2.0297999999999998, 2.0213000000000001, 1.9906999999999999, 1.9903999999999999, 1.9812000000000001, 1.9480999999999999, 1.9339, 1.9277, 1.9265000000000001, 1.9224000000000001, 1.9003000000000001, 1.8861000000000001, 1.8634999999999999, 1.7000999999999999, 1.7830999999999999, 1.7994000000000001, 1.2427999999999999, 1.7865, 1.6786000000000001, 1.5923, 1.1715, 1.2081, 1.6775, 1.2650999999999999, 1.3528, 1.0848, 0.53949999999999998, 0.9113, 0.46820000000000001, 0.83730000000000004, 0.78620000000000001, -0.0089999999999999993, 0.67000000000000004, 0.62, 0.42470000000000002, 0.65949999999999998, -0.2838, 0.49280000000000002, 0.28160000000000002, 0.25459999999999999, -0.4047, 0.47839999999999999, 0.087099999999999997, 0.080100000000000005, -0.2273, -0.2979, -0.56679999999999997, -0.29949999999999999], \"Freq\": [69.0, 46.0, 112.0, 33.0, 67.0, 38.0, 38.0, 37.0, 51.0, 59.0, 18.0, 99.0, 44.0, 29.0, 13.0, 20.0, 12.0, 8.0, 15.0, 27.0, 24.0, 30.0, 26.0, 23.0, 20.0, 20.0, 12.0, 28.0, 67.0, 6.0, 3.6392601800532578, 4.1965068532550109, 2.7300822985367477, 3.3468703762403389, 1.9421599047073046, 2.5757684500322835, 1.9331159322718021, 5.7661007099834629, 1.8748943113320431, 11.679692801134847, 2.4626888312296513, 2.3692239577571859, 2.8340823911656949, 14.467625759153393, 2.2336531744695689, 6.5531643263205082, 1.6105709163406692, 2.7303875816954579, 1.6191650712582486, 2.1398349772980185, 1.5742519998886664, 3.0568908971702786, 2.6381046948150879, 1.0296700755279307, 1.0296687350788776, 1.0296677469605728, 2.0680466385576199, 2.0355238445287061, 1.0182878205328041, 1.0180380889333553, 7.8206341261881924, 1.5081607334482008, 4.7216204468771386, 3.2880985376009706, 2.4826725627839981, 8.1299218047611426, 13.485635517756386, 26.67746290906473, 6.7884437535493509, 4.3704109415959689, 8.3127419126794546, 5.7124505750853869, 13.551572312868156, 20.149449715424854, 8.5866935538215845, 17.555323923928142, 12.719269744347871, 23.355852471753408, 12.104074830441995, 6.3444388385793351, 14.816323801768771, 7.2086288296028078, 7.3088988775144674, 11.178503046101007, 12.869061168362199, 23.287502098241731, 15.360794732561635, 8.1492622765614318, 11.522315848284659, 9.3977421301145814, 13.444299294862887, 11.026221404752322, 16.303118174848002, 11.860035539612849, 8.9065677418725304, 9.696020518604886, 7.6292143248890065, 7.966538513095581, 7.9261116613441569, 7.8558773773635044, 2.8779983972500576, 3.5066941610818776, 2.720884327650817, 2.0299074101807801, 2.0299052300498732, 2.0298989820039601, 2.02989469561243, 5.9467736073569784, 4.9695526313271134, 2.3924204578705677, 2.3294873772055946, 2.2511851799746978, 1.5784559813940842, 1.0632846823806574, 1.0632846829289671, 1.0632844640352974, 1.06328425543886, 1.0632842706822132, 1.0632840133560943, 1.0632838006391618, 1.0632831177089443, 1.0632831141104719, 1.0632826287054835, 1.0632826087787723, 1.0632820263654206, 1.0632815714767985, 1.0632809352894443, 1.0632795260802046, 1.0632793909182701, 1.0632792588172764, 3.628269577990956, 9.6258276394726057, 19.805707488831949, 2.0410114939714394, 2.90211135818558, 2.029892931215783, 6.7393641829099362, 2.3818294876087802, 1.971166419761248, 1.5164523839630277, 3.6337011943030011, 1.9153860082341805, 25.537473106601414, 3.5511860476224584, 1.4862628738388932, 3.0890821537563768, 10.973801320455575, 4.6724796923977667, 8.005545745837086, 15.927115646437361, 4.9357500579306874, 5.113503711992526, 15.934557256529857, 11.150205889708284, 6.3712657972215556, 8.3888237541527495, 6.2892996024958236, 10.695865619274075, 5.9758131667819923, 10.43954451719563, 5.0970111576326582, 6.0426116405459709, 4.3034375095815678, 6.0193049775610286, 13.966515411023204, 5.9602201826325727, 10.881535121527966, 9.3249849755853358, 8.2878383196272694, 8.4427607952049897, 10.053003763965364, 7.1198948147506202, 7.0994226823283011, 7.6905595845758894, 7.5541864301632877, 7.9940748377873128, 7.1359783574438724, 6.3622823080249047, 6.3583059321523168, 5.1983427428044662, 2.6130536321284032, 3.2176728942559696, 2.531135595881532, 2.5203830271713628, 5.9126475981564983, 6.0315223283183927, 1.7895917625362268, 1.7895909911966252, 2.9188360125652197, 1.774265765488527, 1.7691439038032377, 3.4557329308609464, 4.4433683220001923, 5.206074851304483, 4.4096005772747766, 4.247827803311746, 1.5628893874541501, 1.538551134884218, 8.6330551782587808, 1.5261240654159425, 1.5509808586529883, 4.3649629387456113, 1.4718466633428626, 1.4957703361218135, 1.4439454444556608, 1.4410165307873846, 4.3071529262510078, 1.4572435337625678, 1.9836646146351407, 10.854682380850319, 19.4068407308839, 2.7294196187879711, 3.6601601082987787, 9.7629835365419986, 2.6860346259700925, 4.3199306425203421, 9.0921271246946684, 4.7059426122178616, 4.6994589504752478, 4.1485554631900534, 23.748603257109004, 4.6914213192141148, 3.5904200797922066, 3.3319670059482318, 22.468716832525239, 5.0020084147495742, 6.4589814342569145, 11.479960206940467, 8.0942592886253397, 6.6384846518285112, 8.1509468242593801, 5.7792989506056935, 8.3747158776380175, 9.7020387457908281, 5.6434783640438679, 10.80263829546532, 6.3552837779616, 7.5769296966120905, 7.1018413856011708, 7.1535536160545306, 5.7745787213609416, 7.5580649501077222, 6.1873304585753948, 6.1286516401273232, 6.0933046503794976, 5.8329876501246263, 5.6849167640103513, 2.3147000472057524, 2.2919831095267682, 1.6996645299583175, 2.1781369872467478, 1.6114085549851642, 2.1331671276233086, 2.0761521308668698, 1.5334864063781692, 3.1058864578356862, 1.5222128357770666, 1.5053714205386883, 1.500005695785054, 3.0162506568110459, 3.4458584965552941, 4.8266945973177018, 1.4205659046495145, 2.3159566683255481, 1.3843363674877671, 2.3303927938124751, 0.89037458943703607, 0.89037440868972362, 0.8903741051274614, 0.89037384173387168, 0.89037282317687672, 0.89037278490261973, 0.8903726450211592, 0.89037183906108441, 0.8903716741675981, 0.89036914113459142, 0.8903679731157822, 6.5431426658040062, 9.1472901986392152, 1.6696627686455661, 3.1070256115355055, 1.306115178225882, 4.5497504423941102, 11.251365712756025, 2.7319116868556796, 17.277910509980845, 2.9251891077498935, 1.5649354743720572, 3.0848648573611568, 9.7001891044252098, 3.3611893137139437, 4.9975287760991778, 4.6453523406818844, 11.942458578679963, 9.9717266027469051, 3.4069481901599019, 5.5477449147137401, 16.564027034282127, 9.7107227984433226, 6.3701402129220144, 4.0932506615165858, 7.3327587212479646, 7.7570092894852651, 5.2447884244084042, 8.7369108815158381, 6.0849865991085421, 4.8693727384789698, 3.9949254546426487, 5.1416214576386805, 6.3045363305979256, 7.0616664863904397, 5.4378892575975382, 8.108976613771107, 5.8511516967066486, 5.679356572765748, 5.9002811190931315, 5.5958584225701129, 5.683524463987518, 5.3335729177312521, 5.1453693754898095, 5.1432516144507998, 3.8834556393111321, 1.8495307553656581, 1.8495278855947781, 1.8495264229513928, 1.8342871459831616, 1.8330128280880364, 1.8321589866057435, 3.6080938358464953, 5.9240825559187504, 4.0245690357143156, 1.6580811468076879, 4.3694465714818298, 1.6003282282965525, 4.9370307328694736, 3.1140486707500123, 1.5142036079071501, 1.9760206514273966, 1.4915099061061625, 2.4671851608967059, 3.0943318849392312, 6.4472931192453391, 0.96880269879852798, 0.96880247178047207, 0.96880243479193739, 0.96880241013020163, 0.96880213289477146, 0.96880198597952916, 0.96880181948751465, 0.9688018152328659, 0.96880125694520036, 2.3563467307279291, 1.8495337178806615, 5.0322695948390619, 1.8495314796721671, 1.4263593261192982, 1.8495325945755714, 14.906698682443258, 2.2508382071269022, 4.1480126426751207, 10.092061619770943, 3.6949233096750422, 22.233896983570052, 3.2209460735335473, 2.9602680086552113, 3.9838882745639723, 23.41816023014033, 3.5776829578304548, 3.6109972945053119, 11.017183033003489, 4.9109309920723616, 8.650985571901133, 9.5458397700543483, 9.5569482491531055, 7.7290787226890432, 5.7551234330267906, 3.6762959088425746, 5.5348315491516393, 4.8623104358125167, 6.8938696802626076, 7.0349227423595053, 9.1110360623792435, 7.6210405785438979, 7.793887822074633, 5.4295560314466327, 5.7806799380377623, 8.3888044756081488, 5.4759067519552804, 5.2699470240997028, 5.477859237729799, 5.6160615097958333, 5.8670077001078944, 5.5490971296719289, 5.4702829235863231, 5.032412937456618, 3.325569052412459, 2.5144537100094646, 3.6070186672887559, 1.7033403151944133, 1.7033315916192002, 3.325563266325303, 3.2876605762626192, 1.6185650843845609, 1.6161348501680834, 2.1205795531032043, 1.5797128421800675, 3.1418745911448998, 1.9980986103813159, 1.484021138979182, 1.4836258656543297, 1.9687769119527021, 3.4378579694719265, 1.447366702321371, 1.4331334527781281, 1.4154905167233096, 1.3989344921739568, 0.89222630232597422, 0.89222633196709411, 0.8922254599285343, 0.89222547109404671, 0.89222525450354406, 0.89222499426493629, 0.89222495251030276, 0.89222487610285228, 0.89222437623438455, 2.5786396644256468, 2.9727860434709603, 1.7033316013725746, 2.9262099655019598, 2.7430119240119146, 1.7034833441312054, 2.6817326360296594, 1.3005744785103666, 14.017377343728919, 4.9786801944037222, 13.240418253652749, 8.7182089195699533, 4.8100466914477709, 3.1238070418130586, 2.4349785126345997, 2.490419867040385, 11.523735091583458, 5.638812991513972, 7.1295869714511326, 2.9182034117121232, 4.4836441829588072, 12.896685735367379, 9.6897366355697052, 5.2599586516988666, 5.0963026985773876, 9.1463063502642861, 4.1127123508172581, 6.6692184467596274, 8.305029364529334, 10.31470867945642, 9.2008485897662027, 8.31631471853823, 6.1416228478947241, 6.0413156624489099, 6.6890769308035125, 6.8533448637984256, 5.2871061799696664, 6.4452340485332247, 5.1791903961441994, 5.6828579676701443, 5.6465812699062923, 5.6834868936631544, 4.78196723142851, 4.6614582554236481, 4.6762148823317817, 2.5184616064720791, 1.5076642760209256, 1.9898071191920188, 2.4840032777392098, 1.4210207334669795, 1.3570014568065181, 1.3344847548724816, 1.3342721752452844, 1.3276600888526842, 8.8750399762462191, 1.3135768198696296, 1.3129216944478879, 1.3110710259697567, 5.6299068246040918, 1.3001377218075942, 1.2918755632010737, 1.2891582561880246, 1.277699630914453, 2.5260627482551685, 1.2725850342738121, 1.2720613566640728, 1.278032702716841, 2.5021883841218275, 1.2599951182271014, 1.2551323616566001, 1.2478061302303582, 1.2430329311703898, 1.2411425283776527, 1.227974070358212, 1.2297763527418795, 10.422170519691029, 3.4916985697373404, 2.2126634677432149, 7.9118398900733089, 29.95997392079104, 3.4151862813992442, 5.4894348346284039, 5.5394814062563524, 2.1436185059613919, 2.1547799477172322, 6.5576942682906028, 2.2949412724601208, 7.4555586518000672, 5.3709230296110171, 12.300697089822696, 2.2872881478565374, 2.9435366500733964, 3.8814939111225866, 4.3477416351292888, 4.7233966881799381, 4.437073093476088, 7.5713192058982361, 9.0530047555347934, 7.3584668108915663, 11.125151386474627, 5.289151659504479, 5.3357463755548729, 4.0988617079492702, 3.9059755547482866, 4.2892447950539765, 7.8505193494478913, 8.3655535707756759, 5.3586150533491823, 6.2372130563639914, 5.5055649104501923, 5.0658352547581273, 4.8358008761696656, 4.4241288894560551, 5.1329182359905499, 4.6250251480106126, 4.7026713717847626, 2.2588111397607951, 3.8706615952526757, 6.0244394496219638, 3.6308925957298253, 3.0726206824185693, 1.5301726090779371, 1.5301706468220457, 1.5301693420434663, 2.5144868002530689, 1.899039622859316, 1.834643712735011, 1.380178795098177, 1.2888184674765806, 1.2683094850844991, 2.0199475116800487, 0.80151863596800277, 0.80151821482082231, 0.80151805137044907, 0.80151792889445472, 0.80151791424230334, 0.80151788695759763, 0.80151783960045264, 0.80151741202747906, 0.80151740191947374, 0.80151690562040756, 0.80151680721316299, 0.80151650339854397, 0.80151576986513384, 0.80151550395758475, 0.80151534194565666, 1.1727984285368087, 1.2003088741927006, 1.5517158473064485, 1.1570405016849963, 1.5301712768709532, 1.4994673700474677, 1.530170891812425, 6.0553252209524961, 1.8382123156961379, 1.4772790522558281, 1.4564842717165634, 1.9914580622372224, 1.4432475395710569, 2.5184386591607471, 1.9378617454002376, 2.2700278368520883, 2.5342264584923915, 4.5987290288176474, 7.0990225417358888, 5.604483881603092, 5.4366409377523945, 2.4691342622708095, 10.691371436707424, 6.8022478316231823, 4.4834967074514065, 6.0633470932290754, 9.4633411805128258, 4.276758276824661, 7.7156757148473298, 6.6255093896568242, 7.6042038653836812, 8.4105161459326681, 4.9423971421097006, 4.8251150223609285, 6.514895107808524, 5.3725166147176822, 7.1339167492470237, 4.5401347687322362, 5.9743846909569429, 3.4392181164222984, 5.4025667459658102, 6.6993763042107908, 3.9913854455018245, 5.2596364754896294, 4.097395474829316, 4.4171832961396369, 3.9787026733368189, 2.3150122180681607, 3.3535551142969244, 3.2500181602900073, 1.7628699833462769, 2.1692950571621563, 3.334529724759919, 0.83677365439581031, 0.83677339536473394, 0.83677332512496128, 0.83677293245954865, 0.83677141877572969, 0.82442186218244895, 0.81749583381727764, 0.81681735516859566, 0.81546359105440724, 0.81389239264118596, 0.81173521927009995, 0.81133824268079457, 0.81096452279444342, 0.81044380660075821, 0.81027983258494107, 0.80968860383940322, 0.80955512872957014, 0.80905681573853672, 0.80617274598013777, 3.6185655902145974, 0.80152145478674364, 0.7957840924209213, 1.1760449998571445, 1.1707211809707079, 6.1157075184706651, 5.1947714330510797, 2.1753639117427568, 1.7459545559688194, 1.4141277923639479, 1.9472985376228997, 1.1042802854369969, 1.0971860573955878, 5.0599713013424816, 2.0013590382440181, 1.531697687147626, 6.5721477919265618, 2.3957115714357462, 1.0889398606308351, 9.148665646127041, 1.4737768950762169, 1.2844649876443712, 4.3119319255654505, 10.906165842267033, 1.4554461099717413, 4.6182091255667288, 3.5306871959814017, 1.995910182997636, 6.1734213785982526, 7.8502414688994921, 3.0579633991871242, 5.3406529404775354, 2.1366961313177444, 5.2217294052210192, 5.1415289130533486, 3.1698175336469601, 3.6787206920960673, 3.0537274698532246, 4.474535441984937, 5.4832315350940046, 3.6374385728641694, 2.9183990226233778, 3.6244225097640688, 3.2256062396447391, 3.6504237128618726, 3.2007060270712251, 3.2268985429403436, 4.2831759132245493, 1.4745362639335096, 1.4745351582480131, 4.2831812948969255, 1.4194366733631854, 2.2442290734680461, 3.0654332577787553, 1.6894317454716701, 1.7241924119716623, 2.1199958521950295, 0.77237634489783824, 0.772376021347562, 0.7723758057868374, 0.77237545583201261, 2.7571055545734393, 1.1596626845951701, 0.75956797100621631, 0.75653561524991708, 0.75176279372685517, 0.74570017660051113, 1.826511768049996, 1.8197505489599524, 1.4764277485001618, 3.527631993245036, 1.7753752195735444, 0.67896192457991111, 0.69094122633415589, 1.3604747943705251, 0.67557213265126737, 0.65159011161685298, 1.6588203692711325, 4.1982828127962231, 1.8501528027372993, 1.4745320445640275, 8.6513769404180625, 1.4745336353399241, 1.9612229665397811, 2.4410732310576786, 5.5894317691026032, 4.6037935220394646, 1.6596029370896579, 3.6728052419670898, 2.6390750837497938, 3.5905760909990727, 6.4904340139906287, 3.8924797649563176, 6.1696387440452529, 4.1374229238513385, 4.2564846659278386, 8.0523285186978768, 4.0456791217076775, 3.8700605190051087, 4.2392499647077289, 3.5251934513187999, 5.517708195112335, 3.6235567914041256, 3.9225458470806851, 3.7476305123257174, 4.3022596594986737, 3.1486207508765611, 3.3975723027792908, 3.3154840268486434, 3.4776346293468468, 3.3753911641793537, 3.3833235259456513, 3.2483504803971126], \"Total\": [69.0, 46.0, 112.0, 33.0, 67.0, 38.0, 38.0, 37.0, 51.0, 59.0, 18.0, 99.0, 44.0, 29.0, 13.0, 20.0, 12.0, 8.0, 15.0, 27.0, 24.0, 30.0, 26.0, 23.0, 20.0, 20.0, 12.0, 28.0, 67.0, 6.0, 4.5605999578052474, 5.4068069500787823, 3.6235379377187145, 4.4901100281238806, 2.683210579426432, 3.5701138366621135, 2.6811031308878519, 8.0011189769010898, 2.6764154620668843, 16.769407500670258, 3.5854279808309788, 3.5369214525451955, 4.4198896215999053, 23.079559148571914, 3.564904606319081, 10.510122241332489, 2.5999552426791599, 4.411021209966222, 2.6371400871024373, 3.5564977705107084, 2.6224221849911014, 5.1538423727813951, 4.4687522663526122, 1.7526344433146732, 1.7526342866837634, 1.7526340756458971, 3.5267719780551654, 3.4813426500300437, 1.7499816019812602, 1.7499234072453578, 13.93293451139596, 2.6230309371066571, 8.6287469586599599, 6.040319360028426, 4.5112238706533399, 16.425275434751303, 29.854661148372447, 69.259612637712763, 14.483965974354797, 8.8346269335519114, 20.268244991931105, 12.702866288576267, 38.439372962165343, 67.475461541501232, 23.023813426169884, 63.801599682654818, 41.083677194907672, 99.28226601106293, 39.061822999529085, 15.322528847722626, 54.993232156044428, 18.752899756669581, 19.386264118939327, 37.487869401055434, 47.946179972543256, 125.1001871200304, 70.001433959059824, 23.644387970502738, 48.410185910119139, 33.259507228081915, 67.204296385827462, 47.117280487323214, 112.82901214437092, 57.023229993280196, 42.471256557489575, 63.546825305845594, 25.080542678529898, 34.245315532713086, 63.124486887218303, 91.814892094445526, 3.6943995194654979, 4.5799023923248567, 3.6838059506557759, 2.7498137218950482, 2.7498134283432014, 2.7498123433442041, 2.7498117190237692, 8.2935263147033957, 7.3614842046130153, 3.5543492322975325, 3.657166542504914, 3.6502092520256539, 2.6336684453306853, 1.78318900248485, 1.7831890071746122, 1.7831889807496557, 1.78318891715911, 1.783188950169599, 1.7831888863517411, 1.783188871506328, 1.783188727982659, 1.7831887398499999, 1.7831886505656325, 1.7831886664460843, 1.7831886026078425, 1.7831885092467521, 1.7831883394037116, 1.7831881182554326, 1.7831880575249583, 1.7831880910053979, 6.303986819825254, 17.901352671408464, 38.280038642051274, 3.5206944375763785, 5.1886926727034428, 3.5937054620178435, 13.517588046796787, 4.3347536410879233, 3.5240926708427995, 2.6403382921324039, 7.0165118919371929, 3.4689583727585047, 67.222317534359263, 7.0466223263244805, 2.6099507173652707, 6.0639171781127041, 27.085581830046955, 10.14422995373531, 19.317208174729455, 46.60009047090557, 11.312436101620383, 12.26636050713882, 58.260255063443893, 36.341163886804225, 16.961584530351129, 27.101373064172037, 17.706190873750646, 41.083677194907672, 16.571406671880087, 43.526671331268993, 13.200873528582141, 18.159946764898486, 10.551297160263175, 20.027316407721056, 112.82901214437092, 22.125157249507453, 91.814892094445526, 70.001433959059824, 57.023229993280196, 63.546825305845594, 125.1001871200304, 44.732037474579229, 46.536846759596074, 63.801599682654818, 67.475461541501232, 99.28226601106293, 67.204296385827462, 37.227915147415558, 42.471256557489575, 5.9297159605847112, 3.3717554867259216, 4.1841405840618071, 3.3836266755887263, 3.3847045808385774, 8.1975133740699828, 8.478968546704003, 2.5209480384112073, 2.5209479807287192, 4.1375746370121451, 2.5202093918129354, 2.5199624492204977, 5.0583595563447972, 6.5992270957859827, 7.8057816879648545, 6.6430035730914616, 6.7147712252517691, 2.4845284426094243, 2.4830287408981548, 13.993047121826212, 2.4827553538849196, 2.5312952553340806, 7.3052040826408922, 2.4701513920460636, 2.5498679400782964, 2.4655554511842945, 2.4653889105585987, 7.4013791291819047, 2.5042733195427322, 3.4379168228378139, 20.319881794281073, 37.713163386617467, 4.9156856081487792, 6.7726140246094468, 20.582828170096739, 4.8539546424953048, 8.4284583307873664, 20.816082874236372, 9.6537113671193833, 9.836943890067813, 8.6394401724693832, 91.814892094445526, 10.94159486344101, 7.3083117343989823, 6.5282715319876159, 125.1001871200304, 12.418106535179797, 20.144968498732762, 59.473519202261414, 32.463842826625211, 23.48906483596986, 37.227915147415558, 18.073039461853348, 44.59238818888182, 63.801599682654818, 17.977300507221212, 112.82901214437092, 26.667974318403314, 47.946179972543256, 42.286877654059438, 44.324641507630908, 21.03835927946173, 67.222317534359263, 30.782127909490473, 34.245315532713086, 44.100540983652294, 38.439372962165343, 32.685922621982165, 3.2264038907262673, 3.2566880892859928, 2.4354166908994177, 3.2623601641627986, 2.4372926694610557, 3.2673858752096994, 3.254365550765641, 2.4166354666794629, 4.9049283942415629, 2.4177130566944354, 2.4166168410102409, 2.4163479397922267, 4.9031917854495859, 5.6427587193873627, 8.2078006115122939, 2.4472785919714153, 4.0286169969904613, 2.4518570395053652, 4.1775130363067374, 1.6259997237892214, 1.6259997365169558, 1.6259997683408893, 1.6259998091861423, 1.6259997050431405, 1.6259997440976151, 1.625999742969785, 1.6259997949622693, 1.6259997662669496, 1.6259997423164061, 1.6259997307426239, 12.58139537001137, 18.363936305353473, 3.1525052269561438, 6.2807750826913242, 2.4562308798752306, 9.8381817045153461, 27.506928579762597, 5.9825709618604215, 51.902426376153102, 6.5154886383613722, 3.1429760281768941, 7.1813555488803935, 30.040248702029178, 8.2654666985977521, 14.603352478318689, 13.988614433721192, 59.473519202261414, 46.536846759596074, 8.8787672016516996, 19.865708628584795, 125.1001871200304, 54.993232156044428, 27.962396227589206, 12.583496126236573, 39.422446102199622, 47.117280487323214, 22.402390369827025, 67.475461541501232, 32.053390670698242, 19.764887015878728, 13.075817868899156, 24.35622715212941, 44.100540983652294, 63.124486887218303, 30.858357677482541, 99.28226601106293, 39.061822999529085, 37.227915147415558, 43.526671331268993, 44.59238818888182, 91.814892094445526, 67.204296385827462, 57.023229993280196, 69.259612637712763, 5.258450122419581, 2.5780317252047533, 2.5780314977207492, 2.5780313785862479, 2.5753998828349318, 2.5751795707424905, 2.5750329041018012, 5.1728292537961904, 8.5966304254805515, 5.9837907567086086, 2.5451208237552607, 6.8739684255652094, 2.5351671818778847, 7.8496005741521904, 5.113499865256812, 2.5671650446015946, 3.3562766241003037, 2.5415532088655572, 4.2113729806059208, 5.2983591762272795, 11.16239569289386, 1.6972980784152625, 1.697298096411092, 1.6972981052985077, 1.6972980672885392, 1.6972981065104982, 1.6972980466720533, 1.6972979726683115, 1.6972980558751947, 1.6972979282807577, 4.2244143669157177, 3.2971684632086706, 9.5187851710416531, 3.3842537512029107, 2.5643181794726271, 3.4113180740919997, 33.259507228081915, 4.2688689060560341, 8.3578994760757084, 23.048021437713587, 7.6995865995651194, 69.259612637712763, 6.7096907864469051, 6.0971410103677002, 9.0995556151928518, 99.28226601106293, 8.6401330654433863, 8.9865288822464944, 57.023229993280196, 15.707857193369499, 44.732037474579229, 54.993232156044428, 63.546825305845594, 44.100540983652294, 24.855901580018696, 10.450817668705723, 25.066134555269237, 19.764887015878728, 45.568209827097633, 47.946179972543256, 91.814892094445526, 63.124486887218303, 70.001433959059824, 26.667974318403314, 32.662789762981973, 125.1001871200304, 30.040248702029178, 27.002394618683812, 33.466389085213713, 43.526671331268993, 63.801599682654818, 59.473519202261414, 67.475461541501232, 44.324641507630908, 4.0610347506387443, 3.2499170912881032, 4.8113061841520706, 2.4387995359400656, 2.4387999326839718, 4.8813898355904639, 4.8682637725975573, 2.4494829276875847, 2.4477328033101791, 3.2365218924409676, 2.4535437698948459, 4.8931309288239371, 3.2088925608033523, 2.4165030878161713, 2.4214521818236636, 3.2366523118198067, 5.6809681868050346, 2.4233694284982885, 2.4172035627286608, 2.4278372439686007, 2.4127155288123689, 1.627681904712994, 1.6276819612236371, 1.6276819294639147, 1.6276819890113003, 1.6276819596344387, 1.6276819208979292, 1.627681939247815, 1.6276819763798158, 1.6276819756397989, 4.8180498514395653, 5.6334873687346247, 3.1742094553360065, 5.7169825306028317, 5.6457528794020631, 3.3446973358947063, 5.6987109011144712, 2.5008440527253533, 44.59238818888182, 13.36767759638381, 46.60009047090557, 28.066990147628587, 13.540577319886193, 7.4983071804317438, 5.4834176720687511, 5.7081412843116253, 67.222317534359263, 21.802764728880135, 33.962366535040786, 7.5299900169387248, 16.352979321224012, 112.82901214437092, 67.204296385827462, 22.125157249507453, 20.90032519749419, 70.001433959059824, 14.242999958706456, 38.280038642051274, 63.124486887218303, 125.1001871200304, 99.28226601106293, 91.814892094445526, 42.471256557489575, 43.526671331268993, 58.260255063443893, 63.546825305845594, 31.873346021865643, 63.801599682654818, 30.858357677482541, 45.568209827097633, 48.410185910119139, 57.023229993280196, 25.545725884443463, 37.487869401055434, 59.473519202261414, 3.7621776133096629, 2.2524429415797136, 3.0144752325035551, 3.769890096327333, 2.2686452397835115, 2.2806167054616524, 2.2818559554632007, 2.2827451510098644, 2.2829941919501824, 15.320160345750278, 2.2861533541637233, 2.2867278620707654, 2.2858135311365935, 9.8741312659679146, 2.290005859377477, 2.2892935949205455, 2.2933032149308765, 2.2921392099598954, 4.5516966191561146, 2.2943122027626659, 2.2939571752332446, 2.3080804271098612, 4.551667410897374, 2.2952257496791972, 2.2954412366445962, 2.2962693502731146, 2.2981364122598502, 2.2982301834274956, 2.2995210945365052, 2.3030243504289909, 24.344052671514504, 7.5052871415244224, 4.5082721717065191, 21.510403995419797, 112.82901214437092, 8.6992967573375406, 16.713168594095315, 17.25498940121085, 4.6963535602197881, 4.8064067376193327, 23.429809084076656, 5.293245864576841, 31.873346021865643, 19.449548349007191, 70.001433959059824, 5.4020084933670267, 8.0301137652271386, 13.082149967277733, 16.352979321224012, 19.168503153109256, 17.745418107362436, 45.568209827097633, 63.546825305845594, 44.324641507630908, 99.28226601106293, 25.066134555269237, 25.581667905326121, 16.080293352386743, 14.911215154859535, 18.683428119698529, 91.814892094445526, 125.1001871200304, 36.341163886804225, 63.124486887218303, 51.902426376153102, 42.286877654059438, 42.471256557489575, 27.506928579762597, 69.259612637712763, 44.732037474579229, 67.204296385827462, 3.0025391968602855, 5.1868675925268439, 8.0955785271080476, 5.1842718127748766, 4.543650961320691, 2.2738795137849124, 2.2738799427443688, 2.2738798844982897, 3.772419405976307, 3.0014844717759321, 3.0127772139745246, 2.2733631440166522, 2.2718159689847357, 2.3182457602783546, 3.8664947582132907, 1.545222037638684, 1.5452220458510268, 1.5452220818658176, 1.545222081048764, 1.5452221419040633, 1.5452221343605457, 1.5452221791568108, 1.5452221755989564, 1.5452222501008623, 1.5452222958728954, 1.5452221991454811, 1.545222255520269, 1.5452224809615043, 1.5452225398522805, 1.5452224753277979, 2.266252561254416, 2.3299040091762229, 3.0792050689361701, 2.2691754587910506, 3.1556821958551664, 3.0884720886770509, 3.1817880304050066, 15.164398329404527, 3.9944225516690488, 3.1745663894735423, 3.1272923612638932, 4.5430536812050297, 3.1108124219772399, 6.1426236520936168, 4.4855355612620498, 5.4903419415010939, 6.3114707278614635, 14.911215154859535, 27.403645794623859, 20.084865201441922, 19.865708628584795, 6.4515528478437343, 63.124486887218303, 32.463842826625211, 17.224323069742294, 28.636115500382942, 59.473519202261414, 16.681956684789409, 51.902426376153102, 48.410185910119139, 67.204296385827462, 112.82901214437092, 33.540930050445994, 32.685922621982165, 67.222317534359263, 44.324641507630908, 91.814892094445526, 32.053390670698242, 67.475461541501232, 15.836486312535822, 63.546825305845594, 125.1001871200304, 25.545725884443463, 99.28226601106293, 33.962366535040786, 58.260255063443893, 34.245315532713086, 3.1103729014461372, 4.6693855133560715, 5.3389187454247873, 3.1649148396881785, 3.9600584268986427, 6.2418100313177334, 1.5772723337915391, 1.5772723809626483, 1.5772723830435238, 1.5772724588662026, 1.5772725350573817, 1.5806157052729253, 1.5824911914634594, 1.5826743815133244, 1.5830403595752736, 1.5834665537350872, 1.5840504681739618, 1.584157948891818, 1.5842589316139322, 1.5843998898229226, 1.5844445494300483, 1.5846045134316258, 1.5846405123024183, 1.5847754941020702, 1.5855562029743926, 7.1184068009777395, 1.5868152189961826, 1.5883682062704907, 2.3752150794675608, 2.3662787280054327, 12.436274663094549, 11.975923883994797, 4.6946566243600332, 3.8837320712989558, 3.1370914208496425, 4.8037021532210087, 2.371855993667785, 2.3714533603744159, 19.34713672804267, 5.7421087222242155, 4.0085486155697163, 34.337851531271426, 8.0269787065553331, 2.4442859936033532, 67.204296385827462, 3.9356043940651686, 3.1877259479795583, 25.080542678529898, 125.1001871200304, 4.0367026371965542, 30.782127909490473, 19.386264118939327, 7.1242714085304968, 57.023229993280196, 91.814892094445526, 15.957911951520856, 47.946179972543256, 8.4598376659012704, 63.801599682654818, 63.546825305845594, 21.612561322179236, 34.08109615827285, 21.926220145306388, 63.124486887218303, 112.82901214437092, 38.439372962165343, 20.084865201441922, 46.60009047090557, 33.540930050445994, 67.475461541501232, 37.227915147415558, 42.681138606526098, 5.0295559836764694, 2.2208948093797423, 2.2208949111912819, 6.5292344484738294, 2.2254887902089426, 3.7195818354093841, 5.3196491405651125, 2.9636859244263967, 3.0656662006120978, 3.799496402064813, 1.5187295317478076, 1.5187297044018002, 1.5187296591684796, 1.5187297671508089, 5.4599918171849238, 2.320151625425809, 1.519797432406244, 1.5200503506203091, 1.5204482787067637, 1.5209538357505088, 3.8411785412176283, 3.8282901447011612, 3.134734656392701, 7.7420416445879656, 3.9520232628762733, 1.5208283490347436, 1.5494001750486217, 3.0635222388773515, 1.5551890153063055, 1.5214434750750003, 3.9618419014103319, 11.807153410826814, 4.7888984815808957, 3.7550297262465682, 38.439372962165343, 3.8038236089205695, 5.6356897993673005, 7.6468674592720074, 26.667974318403314, 21.175655576792771, 4.7740024319969931, 15.957911951520856, 10.503602258290993, 18.683428119698529, 58.260255063443893, 24.092294466382054, 59.473519202261414, 27.57559712332592, 29.854661148372447, 125.1001871200304, 31.873346021865643, 32.053390670698242, 42.681138606526098, 28.066990147628587, 112.82901214437092, 34.08109615827285, 45.568209827097633, 44.732037474579229, 99.28226601106293, 30.045861213069681, 47.946179972543256, 47.117280487323214, 67.204296385827462, 70.001433959059824, 91.814892094445526, 67.475461541501232], \"logprob\": [30.0, 29.0, 28.0, 27.0, 26.0, 25.0, 24.0, 23.0, 22.0, 21.0, 20.0, 19.0, 18.0, 17.0, 16.0, 15.0, 14.0, 13.0, 12.0, 11.0, 10.0, 9.0, 8.0, 7.0, 6.0, 5.0, 4.0, 3.0, 2.0, 1.0, -6.5846, -6.4421999999999997, -6.8720999999999997, -6.6684000000000001, -7.2126000000000001, -6.9302999999999999, -7.2172999999999998, -6.1243999999999996, -7.2478999999999996, -5.4185999999999996, -6.9752000000000001, -7.0137999999999998, -6.8346999999999998, -5.2045000000000003, -7.0728, -5.9965000000000002, -7.3997999999999999, -6.8719999999999999, -7.3944999999999999, -7.1157000000000004, -7.4226000000000001, -6.7590000000000003, -6.9062999999999999, -7.8472, -7.8472, -7.8472, -7.1497999999999999, -7.1657000000000002, -7.8582999999999998, -7.8585000000000003, -5.8196000000000003, -7.4654999999999996, -6.3243, -6.6860999999999997, -6.9671000000000003, -5.7808999999999999, -5.2747999999999999, -4.5926, -5.9611999999999998, -6.4016000000000002, -5.7586000000000004, -6.1337999999999999, -5.2698999999999998, -4.8731999999999998, -5.7262000000000004, -5.0110999999999999, -5.3333000000000004, -4.7256, -5.3829000000000002, -6.0288000000000004, -5.1806999999999999, -5.9010999999999996, -5.8872999999999998, -5.4623999999999997, -5.3216000000000001, -4.7285000000000004, -5.1445999999999996, -5.7785000000000002, -5.4321000000000002, -5.6359000000000004, -5.2778999999999998, -5.4760999999999997, -5.0850999999999997, -5.4032, -5.6896000000000004, -5.6047000000000002, -5.8444000000000003, -5.8011999999999997, -5.8061999999999996, -5.8151000000000002, -6.5563000000000002, -6.3586999999999998, -6.6124000000000001, -6.9054000000000002, -6.9054000000000002, -6.9054000000000002, -6.9054000000000002, -5.8304999999999998, -6.0099999999999998, -6.7411000000000003, -6.7676999999999996, -6.8018999999999998, -7.1569000000000003, -7.5519999999999996, -7.5519999999999996, -7.5519999999999996, -7.5519999999999996, -7.5519999999999996, -7.5519999999999996, -7.5519999999999996, -7.5519999999999996, -7.5519999999999996, -7.5519999999999996, -7.5519999999999996, -7.5519999999999996, -7.5519999999999996, -7.5519999999999996, -7.5519999999999996, -7.5519999999999996, -7.5519999999999996, -6.3246000000000002, -5.3489000000000004, -4.6273999999999997, -6.8998999999999997, -6.5479000000000003, -6.9054000000000002, -5.7054, -6.7454999999999998, -6.9347000000000003, -7.1970000000000001, -6.3231000000000002, -6.9634, -4.3731999999999998, -6.3460999999999999, -7.2171000000000003, -6.4855, -5.2178000000000004, -6.0716999999999999, -5.5331999999999999, -4.8452999999999999, -6.0168999999999997, -5.9814999999999996, -4.8449, -5.2019000000000002, -5.7615999999999996, -5.4865000000000004, -5.7744999999999997, -5.2435, -5.8255999999999997, -5.2678000000000003, -5.9847000000000001, -5.8144999999999998, -6.1539000000000001, -5.8183999999999996, -4.9767000000000001, -5.8282999999999996, -5.2263000000000002, -5.3807, -5.4985999999999997, -5.4800000000000004, -5.3055000000000003, -5.6505000000000001, -5.6532999999999998, -5.5734000000000004, -5.5913000000000004, -5.5347, -5.6482000000000001, -5.7629999999999999, -5.7636000000000003, -5.9150999999999998, -6.6029, -6.3948, -6.6348000000000003, -6.6390000000000002, -5.7864000000000004, -5.7664999999999997, -6.9814999999999996, -6.9814999999999996, -6.4923000000000002, -6.9901, -6.9930000000000003, -6.3234000000000004, -6.0720000000000001, -5.9135999999999997, -6.0796999999999999, -6.1170999999999998, -7.1169000000000002, -7.1326000000000001, -5.4078999999999997, -7.1406999999999998, -7.1246, -6.0898000000000003, -7.1768999999999998, -7.1608000000000001, -7.1961000000000004, -7.1981000000000002, -6.1032000000000002, -7.1868999999999996, -6.8784999999999998, -5.1788999999999996, -4.5978000000000003, -6.5594000000000001, -6.266, -5.2849000000000004, -6.5754000000000001, -6.1002000000000001, -5.3559999999999999, -6.0145999999999997, -6.016, -6.1406999999999998, -4.3959000000000001, -6.0176999999999996, -6.2851999999999997, -6.3598999999999997, -4.4512999999999998, -5.9535999999999998, -5.6980000000000004, -5.1228999999999996, -5.4722999999999997, -5.6706000000000003, -5.4653, -5.8091999999999997, -5.4382000000000001, -5.2911000000000001, -5.8330000000000002, -5.1837, -5.7141999999999999, -5.5384000000000002, -5.6031000000000004, -5.5957999999999997, -5.8099999999999996, -5.5407999999999999, -5.7409999999999997, -5.7504999999999997, -5.7563000000000004, -5.7999000000000001, -5.8255999999999997, -6.5815000000000001, -6.5914000000000001, -6.8903999999999996, -6.6422999999999996, -6.9436999999999998, -6.6631999999999998, -6.6902999999999997, -6.9932999999999996, -6.2874999999999996, -7.0007000000000001, -7.0118, -7.0152999999999999, -6.3167999999999997, -6.1836000000000002, -5.8467000000000002, -7.0697999999999999, -6.5810000000000004, -7.0956000000000001, -6.5747999999999998, -7.5369000000000002, -7.5369000000000002, -7.5369000000000002, -7.5369000000000002, -7.5369000000000002, -7.5369000000000002, -7.5369000000000002, -7.5369000000000002, -7.5369000000000002, -7.5369000000000002, -7.5369000000000002, -5.5423999999999998, -5.2073999999999998, -6.9081999999999999, -6.2872000000000003, -7.1538000000000004, -5.9057000000000004, -5.0003000000000002, -6.4157999999999999, -4.5713999999999997, -6.3475000000000001, -6.9729999999999999, -6.2942999999999998, -5.1486999999999998, -6.2084999999999999, -5.8118999999999996, -5.8849999999999998, -4.9406999999999996, -5.1211000000000002, -6.1950000000000003, -5.7073999999999998, -4.6135999999999999, -5.1475999999999997, -5.5692000000000004, -6.0114999999999998, -5.4284999999999997, -5.3722000000000003, -5.7636000000000003, -5.2533000000000003, -5.6150000000000002, -5.8379000000000003, -6.0358000000000001, -5.7834000000000003, -5.5795000000000003, -5.4661, -5.7274000000000003, -5.3277999999999999, -5.6542000000000003, -5.6840000000000002, -5.6458000000000004, -5.6988000000000003, -5.6832000000000003, -5.7468000000000004, -5.7827000000000002, -5.7831000000000001, -6.0330000000000004, -6.7747999999999999, -6.7747999999999999, -6.7747999999999999, -6.7831000000000001, -6.7838000000000003, -6.7843, -6.1066000000000003, -5.6106999999999996, -5.9973000000000001, -6.8841000000000001, -5.9150999999999998, -6.9195000000000002, -5.7930000000000001, -6.2538, -6.9748999999999999, -6.7087000000000003, -6.9900000000000002, -6.4866999999999999, -6.2602000000000002, -5.5260999999999996, -7.4214000000000002, -7.4214000000000002, -7.4214000000000002, -7.4214000000000002, -7.4214000000000002, -7.4214000000000002, -7.4214000000000002, -7.4214000000000002, -7.4214000000000002, -6.5326000000000004, -6.7747999999999999, -5.7739000000000003, -6.7747999999999999, -7.0346000000000002, -6.7747999999999999, -4.6879, -6.5784000000000002, -5.9671000000000003, -5.0780000000000003, -6.0827999999999998, -4.2881, -6.2201000000000004, -6.3045, -6.0075000000000003, -4.2362000000000002, -6.1150000000000002, -6.1058000000000003, -4.9903000000000004, -5.7983000000000002, -5.2321, -5.1336000000000004, -5.1325000000000003, -5.3448000000000002, -5.6397000000000004, -6.0877999999999997, -5.6787000000000001, -5.8082000000000003, -5.4591000000000003, -5.4389000000000003, -5.1802999999999999, -5.3587999999999996, -5.3364000000000003, -5.6978999999999997, -5.6352000000000002, -5.2629000000000001, -5.6894, -5.7276999999999996, -5.6890000000000001, -5.6641000000000004, -5.6204000000000001, -5.6760999999999999, -5.6904000000000003, -5.7737999999999996, -6.1647999999999996, -6.4443999999999999, -6.0835999999999997, -6.8338999999999999, -6.8338999999999999, -6.1647999999999996, -6.1763000000000003, -6.8849, -6.8864000000000001, -6.6147999999999998, -6.9092000000000002, -6.2215999999999996, -6.6741999999999999, -6.9717000000000002, -6.9720000000000004, -6.6890000000000001, -6.1315999999999997, -6.9966999999999997, -7.0065999999999997, -7.0190000000000001, -7.0307000000000004, -7.4805000000000001, -7.4805000000000001, -7.4805000000000001, -7.4805000000000001, -7.4805000000000001, -7.4805000000000001, -7.4805000000000001, -7.4805000000000001, -7.4805000000000001, -6.4192, -6.2769000000000004, -6.8338999999999999, -6.2927, -6.3574000000000002, -6.8338000000000001, -6.3799999999999999, -7.1036000000000001, -4.7260999999999997, -5.7613000000000003, -4.7831999999999999, -5.2009999999999996, -5.7957000000000001, -6.2274000000000003, -6.4764999999999997, -6.4539999999999997, -4.9219999999999997, -5.6368, -5.4021999999999997, -6.2954999999999997, -5.8659999999999997, -4.8094999999999999, -5.0953999999999997, -5.7062999999999997, -5.7378999999999998, -5.1531000000000002, -5.9523999999999999, -5.4688999999999997, -5.2496, -5.0328999999999997, -5.1471999999999998, -5.2481999999999998, -5.5514000000000001, -5.5678000000000001, -5.4660000000000002, -5.4417, -5.7012, -5.5030999999999999, -5.7218, -5.6289999999999996, -5.6353999999999997, -5.6288999999999998, -5.8015999999999996, -5.8270999999999997, -5.8239999999999998, -6.4326999999999996, -6.9458000000000002, -6.6683000000000003, -6.4465000000000003, -7.0049999999999999, -7.0510999999999999, -7.0678000000000001, -7.0679999999999996, -7.0728999999999997, -5.1730999999999998, -7.0835999999999997, -7.0841000000000003, -7.0854999999999997, -5.6281999999999996, -7.0938999999999997, -7.1002000000000001, -7.1022999999999996, -7.1113, -6.4297000000000004, -7.1153000000000004, -7.1157000000000004, -7.1109999999999998, -6.4391999999999996, -7.1252000000000004, -7.1291000000000002, -7.1349999999999998, -7.1387999999999998, -7.1402999999999999, -7.1509999999999998, -7.1494999999999997, -5.0124000000000004, -6.1059000000000001, -6.5621, -5.2880000000000003, -3.9565000000000001, -6.1280999999999999, -5.6535000000000002, -5.6444000000000001, -6.5937999999999999, -6.5885999999999996, -5.4756999999999998, -6.5255999999999998, -5.3474000000000004, -5.6753, -4.8467000000000002, -6.5289999999999999, -6.2766999999999999, -6.0000999999999998, -5.8867000000000003, -5.8037999999999998, -5.8662999999999998, -5.3319999999999999, -5.1532, -5.3605, -4.9470999999999998, -5.6906999999999996, -5.6818999999999997, -5.9455999999999998, -5.9938000000000002, -5.9001999999999999, -5.2957999999999998, -5.2321999999999997, -5.6776, -5.5258000000000003, -5.6505999999999998, -5.7337999999999996, -5.7803000000000004, -5.8693, -5.7206999999999999, -5.8249000000000004, -5.8082000000000003, -6.4212999999999996, -5.8826999999999998, -5.4402999999999997, -5.9466999999999999, -6.1135999999999999, -6.8108000000000004, -6.8108000000000004, -6.8108000000000004, -6.3140999999999998, -6.5948000000000002, -6.6292999999999997, -6.9139999999999997, -6.9824000000000002, -6.9984999999999999, -6.5331000000000001, -7.4573999999999998, -7.4573999999999998, -7.4573999999999998, -7.4573999999999998, -7.4573999999999998, -7.4573999999999998, -7.4573999999999998, -7.4573999999999998, -7.4573999999999998, -7.4573999999999998, -7.4573999999999998, -7.4573999999999998, -7.4573999999999998, -7.4573999999999998, -7.4573999999999998, -7.0768000000000004, -7.0536000000000003, -6.7968000000000002, -7.0903, -6.8108000000000004, -6.8311000000000002, -6.8108000000000004, -5.4352, -6.6273999999999997, -6.8460000000000001, -6.8601000000000001, -6.5472999999999999, -6.8693, -6.3125, -6.5746000000000002, -6.4164000000000003, -6.3063000000000002, -5.7103999999999999, -5.2762000000000002, -5.5125999999999999, -5.5430000000000001, -6.3323, -4.8666999999999998, -5.3189000000000002, -5.7358000000000002, -5.4339000000000004, -4.9886999999999997, -5.7830000000000004, -5.1928999999999998, -5.3452000000000002, -5.2074999999999996, -5.1067, -5.6383000000000001, -5.6623000000000001, -5.3620999999999999, -5.5548999999999999, -5.2713000000000001, -5.7232000000000003, -5.4486999999999997, -6.0008999999999997, -5.5492999999999997, -5.3342000000000001, -5.8520000000000003, -5.5761000000000003, -5.8258000000000001, -5.7507000000000001, -5.8552, -6.2165999999999997, -5.8460000000000001, -5.8773, -6.4889999999999999, -6.2816000000000001, -5.8517000000000001, -7.2342000000000004, -7.2342000000000004, -7.2342000000000004, -7.2342000000000004, -7.2342000000000004, -7.2491000000000003, -7.2575000000000003, -7.2583000000000002, -7.2599999999999998, -7.2618999999999998, -7.2645999999999997, -7.2651000000000003, -7.2655000000000003, -7.2662000000000004, -7.2664, -7.2671000000000001, -7.2672999999999996, -7.2679, -7.2714999999999996, -5.7698999999999998, -7.2771999999999997, -7.2843999999999998, -6.8937999999999997, -6.8983999999999996, -5.2450999999999999, -5.4082999999999997, -6.2788000000000004, -6.4987000000000004, -6.7095000000000002, -6.3895, -6.9568000000000003, -6.9631999999999996, -5.4345999999999997, -6.3621999999999996, -6.6295999999999999, -5.1731999999999996, -6.1822999999999997, -6.9707999999999997, -4.8423999999999996, -6.6681999999999997, -6.8056999999999999, -5.5945999999999998, -4.6666999999999996, -6.6806999999999999, -5.5259999999999998, -5.7945000000000002, -6.3648999999999996, -5.2356999999999996, -4.9954000000000001, -5.9382000000000001, -5.3806000000000003, -6.2967000000000004, -5.4032, -5.4185999999999996, -5.9023000000000003, -5.7534000000000001, -5.9396000000000004, -5.5575999999999999, -5.3543000000000003, -5.7647000000000004, -5.9850000000000003, -5.7683, -5.8849, -5.7610999999999999, -5.8925999999999998, -5.8845000000000001, -5.5316000000000001, -6.5979000000000001, -6.5979000000000001, -5.5316000000000001, -6.6360000000000001, -6.1779000000000002, -5.8661000000000003, -6.4619, -6.4414999999999996, -6.2348999999999997, -7.2446000000000002, -7.2446000000000002, -7.2446000000000002, -7.2446000000000002, -5.9721000000000002, -6.8381999999999996, -7.2613000000000003, -7.2652999999999999, -7.2716000000000003, -7.2797000000000001, -6.3838999999999997, -6.3875999999999999, -6.5967000000000002, -5.7256999999999998, -6.4123000000000001, -7.3734999999999999, -7.3559999999999999, -6.6784999999999997, -7.3784999999999998, -7.4146000000000001, -6.4802, -5.5515999999999996, -6.3710000000000004, -6.5979000000000001, -4.8285999999999998, -6.5979000000000001, -6.3127000000000004, -6.0937999999999999, -5.2653999999999996, -5.4593999999999996, -6.4797000000000002, -5.6852999999999998, -6.0159000000000002, -5.7080000000000002, -5.1159999999999997, -5.6272000000000002, -5.1665999999999999, -5.5662000000000003, -5.5377999999999998, -4.9002999999999997, -5.5885999999999996, -5.633, -5.5419, -5.7263999999999999, -5.2782999999999998, -5.6988000000000003, -5.6195000000000004, -5.6651999999999996, -5.5270999999999999, -5.8392999999999997, -5.7632000000000003, -5.7877000000000001, -5.7398999999999996, -5.7698, -5.7674000000000003, -5.8080999999999996]}};\n",
       "\n",
       "function LDAvis_load_lib(url, callback){\n",
       "  var s = document.createElement('script');\n",
       "  s.src = url;\n",
       "  s.async = true;\n",
       "  s.onreadystatechange = s.onload = callback;\n",
       "  s.onerror = function(){console.warn(\"failed to load library \" + url);};\n",
       "  document.getElementsByTagName(\"head\")[0].appendChild(s);\n",
       "}\n",
       "\n",
       "if(typeof(LDAvis) !== \"undefined\"){\n",
       "   // already loaded: just create the visualization\n",
       "   !function(LDAvis){\n",
       "       new LDAvis(\"#\" + \"ldavis_el62341396934228628008573380221\", ldavis_el62341396934228628008573380221_data);\n",
       "   }(LDAvis);\n",
       "}else if(typeof define === \"function\" && define.amd){\n",
       "   // require.js is available: use it to load d3/LDAvis\n",
       "   require.config({paths: {d3: \"https://cdnjs.cloudflare.com/ajax/libs/d3/3.5.5/d3.min\"}});\n",
       "   require([\"d3\"], function(d3){\n",
       "      window.d3 = d3;\n",
       "      LDAvis_load_lib(\"https://cdn.rawgit.com/bmabey/pyLDAvis/files/ldavis.v1.0.0.js\", function(){\n",
       "        new LDAvis(\"#\" + \"ldavis_el62341396934228628008573380221\", ldavis_el62341396934228628008573380221_data);\n",
       "      });\n",
       "    });\n",
       "}else{\n",
       "    // require.js not available: dynamically load d3 & LDAvis\n",
       "    LDAvis_load_lib(\"https://cdnjs.cloudflare.com/ajax/libs/d3/3.5.5/d3.min.js\", function(){\n",
       "         LDAvis_load_lib(\"https://cdn.rawgit.com/bmabey/pyLDAvis/files/ldavis.v1.0.0.js\", function(){\n",
       "                 new LDAvis(\"#\" + \"ldavis_el62341396934228628008573380221\", ldavis_el62341396934228628008573380221_data);\n",
       "            })\n",
       "         });\n",
       "}\n",
       "</script>"
      ],
      "text/plain": [
       "PreparedData(topic_coordinates=            Freq  cluster  topics         x         y\n",
       "topic                                                \n",
       "5      15.818395        1       1  0.020284 -0.003740\n",
       "6      12.159659        1       2 -0.022615  0.092623\n",
       "9      11.567771        1       3  0.095137 -0.056635\n",
       "7      10.030019        1       4 -0.041509 -0.014137\n",
       "0       9.723180        1       5 -0.093849 -0.047330\n",
       "8       9.499227        1       6  0.003548  0.063112\n",
       "2       9.403690        1       7 -0.033738 -0.046082\n",
       "3       8.338908        1       8  0.011367 -0.027304\n",
       "1       6.964024        1       9  0.038242  0.009804\n",
       "4       6.495127        1      10  0.023133  0.029689, topic_info=     Category        Freq          Term       Total  loglift  logprob\n",
       "term                                                                 \n",
       "965   Default   69.000000   afghanistan   69.000000  30.0000  30.0000\n",
       "1918  Default   46.000000        israel   46.000000  29.0000  29.0000\n",
       "2464  Default  112.000000     australia  112.000000  28.0000  28.0000\n",
       "3280  Default   33.000000        afghan   33.000000  27.0000  27.0000\n",
       "2354  Default   67.000000          fire   67.000000  26.0000  26.0000\n",
       "1458  Default   38.000000      pakistan   38.000000  25.0000  25.0000\n",
       "757   Default   38.000000   palestinian   38.000000  24.0000  24.0000\n",
       "851   Default   37.000000          test   37.000000  23.0000  23.0000\n",
       "574   Default   51.000000         union   51.000000  22.0000  22.0000\n",
       "1922  Default   59.000000       company   59.000000  21.0000  21.0000\n",
       "1853  Default   18.000000         qanta   18.000000  20.0000  20.0000\n",
       "3333  Default   99.000000    government   99.000000  19.0000  19.0000\n",
       "593   Default   44.000000         child   44.000000  18.0000  18.0000\n",
       "157   Default   29.000000         india   29.000000  17.0000  17.0000\n",
       "1201  Default   13.000000         space   13.000000  16.0000  16.0000\n",
       "545   Default   20.000000  south_africa   20.000000  15.0000  15.0000\n",
       "1462  Default   12.000000        cancer   12.000000  14.0000  14.0000\n",
       "2195  Default    8.000000         virus    8.000000  13.0000  13.0000\n",
       "2060  Default   15.000000         event   15.000000  12.0000  12.0000\n",
       "589   Default   27.000000        worker   27.000000  11.0000  11.0000\n",
       "2735  Default   24.000000         metre   24.000000  10.0000  10.0000\n",
       "3430  Default   30.000000    commission   30.000000   9.0000   9.0000\n",
       "1553  Default   26.000000      director   26.000000   8.0000   8.0000\n",
       "985   Default   23.000000     agreement   23.000000   7.0000   7.0000\n",
       "2549  Default   20.000000        wicket   20.000000   6.0000   6.0000\n",
       "1844  Default   20.000000          rate   20.000000   5.0000   5.0000\n",
       "1377  Default   12.000000       dispute   12.000000   4.0000   4.0000\n",
       "2605  Default   28.000000         peace   28.000000   3.0000   3.0000\n",
       "2989  Default   67.000000        attack   67.000000   2.0000   2.0000\n",
       "1149  Default    6.000000        farmer    6.000000   1.0000   1.0000\n",
       "...       ...         ...           ...         ...      ...      ...\n",
       "1214  Topic10    1.961223   possibility    5.635690   1.6786  -6.3127\n",
       "2269  Topic10    2.441073      harrison    7.646867   1.5923  -6.0938\n",
       "1553  Topic10    5.589432      director   26.667974   1.1715  -5.2654\n",
       "991   Topic10    4.603794        change   21.175656   1.2081  -5.4594\n",
       "1303  Topic10    1.659603       premier    4.774002   1.6775  -6.4797\n",
       "3289  Topic10    3.672805        weapon   15.957912   1.2651  -5.6853\n",
       "2840  Topic10    2.639075       tension   10.503602   1.3528  -6.0159\n",
       "2263  Topic10    3.590576         river   18.683428   1.0848  -5.7080\n",
       "1140  Topic10    6.490434         group   58.260255   0.5395  -5.1160\n",
       "2319  Topic10    3.892480     community   24.092294   0.9113  -5.6272\n",
       "1922  Topic10    6.169639       company   59.473519   0.4682  -5.1666\n",
       "1584  Topic10    4.137423         death   27.575597   0.8373  -5.5662\n",
       "157   Topic10    4.256485         india   29.854661   0.7862  -5.5378\n",
       "2422  Topic10    8.052329        person  125.100187  -0.0090  -4.9003\n",
       "949   Topic10    4.045679          team   31.873346   0.6700  -5.5886\n",
       "1893  Topic10    3.870061        action   32.053391   0.6200  -5.6330\n",
       "2344  Topic10    4.239250       meeting   42.681139   0.4247  -5.5419\n",
       "2605  Topic10    3.525193         peace   28.066990   0.6595  -5.7264\n",
       "2464  Topic10    5.517708     australia  112.829012  -0.2838  -5.2783\n",
       "3165  Topic10    3.623557        police   34.081096   0.4928  -5.6988\n",
       "1608  Topic10    3.922546         world   45.568210   0.2816  -5.6195\n",
       "194   Topic10    3.747631     president   44.732037   0.2546  -5.6652\n",
       "3333  Topic10    4.302260    government   99.282266  -0.4047  -5.5271\n",
       "546   Topic10    3.148621       country   30.045861   0.4784  -5.8393\n",
       "2307  Topic10    3.397572  united_state   47.946180   0.0871  -5.7632\n",
       "1931  Topic10    3.315484          hour   47.117280   0.0801  -5.7877\n",
       "2989  Topic10    3.477635        attack   67.204296  -0.2273  -5.7399\n",
       "1110  Topic10    3.375391           man   70.001434  -0.2979  -5.7698\n",
       "2904  Topic10    3.383324           day   91.814892  -0.5668  -5.7674\n",
       "1692  Topic10    3.248350          area   67.475462  -0.2995  -5.8081\n",
       "\n",
       "[756 rows x 6 columns], token_table=      Topic      Freq       Term\n",
       "term                            \n",
       "311       4  0.821215     abbott\n",
       "1059      4  0.619885   abortion\n",
       "2850      1  0.071487      abuse\n",
       "2850      2  0.285947      abuse\n",
       "2850      4  0.357434      abuse\n",
       "2850      5  0.071487      abuse\n",
       "2850      7  0.071487      abuse\n",
       "2850      8  0.071487      abuse\n",
       "2850     10  0.142973      abuse\n",
       "1893      1  0.062396     action\n",
       "1893      2  0.093594     action\n",
       "1893      3  0.093594     action\n",
       "1893      4  0.187188     action\n",
       "1893      5  0.062396     action\n",
       "1893      6  0.062396     action\n",
       "1893      7  0.062396     action\n",
       "1893      8  0.155990     action\n",
       "1893      9  0.093594     action\n",
       "1893     10  0.124792     action\n",
       "844       5  0.212931      actor\n",
       "844       7  0.425862      actor\n",
       "1719      3  0.804982  advantage\n",
       "1173      6  0.614371     advent\n",
       "3280      1  0.270599     afghan\n",
       "3280      2  0.090200     afghan\n",
       "3280      3  0.030067     afghan\n",
       "3280      4  0.030067     afghan\n",
       "3280      5  0.450999     afghan\n",
       "3280      7  0.030067     afghan\n",
       "3280      9  0.030067     afghan\n",
       "...     ...       ...        ...\n",
       "1192      4  0.031473       year\n",
       "1192      5  0.157364       year\n",
       "1192      6  0.110155       year\n",
       "1192      7  0.141628       year\n",
       "1192      8  0.078682       year\n",
       "1192      9  0.078682       year\n",
       "1192     10  0.047209       year\n",
       "1166      1  0.234873   year_old\n",
       "1166      2  0.039145   year_old\n",
       "1166      3  0.039145   year_old\n",
       "1166      5  0.156582   year_old\n",
       "1166      6  0.195727   year_old\n",
       "1166      7  0.078291   year_old\n",
       "1166      8  0.156582   year_old\n",
       "1166      9  0.039145   year_old\n",
       "1166     10  0.039145   year_old\n",
       "2408      1  0.165536  yesterday\n",
       "2408      2  0.094592  yesterday\n",
       "2408      3  0.165536  yesterday\n",
       "2408      4  0.094592  yesterday\n",
       "2408      5  0.118240  yesterday\n",
       "2408      6  0.070944  yesterday\n",
       "2408      7  0.118240  yesterday\n",
       "2408      8  0.094592  yesterday\n",
       "2408      9  0.047296  yesterday\n",
       "2408     10  0.047296  yesterday\n",
       "238       9  0.421611  zaccarias\n",
       "3339      1  0.261213   zimbabwe\n",
       "3339      4  0.261213   zimbabwe\n",
       "3339     10  0.522426   zimbabwe\n",
       "\n",
       "[2006 rows x 3 columns], R=30, lambda_step=0.01, plot_opts={'xlab': 'PC1', 'ylab': 'PC2'}, topic_order=[6, 7, 10, 8, 1, 9, 3, 4, 2, 5])"
      ]
     },
     "execution_count": 88,
     "metadata": {},
     "output_type": "execute_result"
    }
   ],
   "source": [
    "pyLDAvis.gensim.prepare(ldamodel, corpus, dictionary)"
   ]
  },
  {
   "cell_type": "code",
   "execution_count": 95,
   "metadata": {
    "collapsed": true,
    "nbpresent": {
     "id": "13f462fd-b0c3-4a29-90f3-050e2317b72c"
    }
   },
   "outputs": [],
   "source": [
    "ldatopics = ldamodel.show_topics(formatted=False)"
   ]
  },
  {
   "cell_type": "markdown",
   "metadata": {
    "nbpresent": {
     "id": "68d38063-fb92-4d36-b3fb-f2d3cbff9eb5"
    }
   },
   "source": [
    "### Finding out the optimal number of topics\n",
    "__Introduction to topic coherence__:\n",
    "<img src=\"https://rare-technologies.com/wp-content/uploads/2016/06/pipeline.png\">\n",
    "Topic coherence in essence measures the human interpretability of a topic model. Traditionally [perplexity has been used](http://qpleple.com/perplexity-to-evaluate-topic-models/) to evaluate topic models however this does not correlate with human annotations at times. Topic coherence is another way to evaluate topic models with a much higher guarantee on human interpretability. Thus this can be used to compare different topic models among many other use-cases. Here's a short blog I wrote explaining topic coherence:\n",
    "[What is topic coherence?](https://rare-technologies.com/what-is-topic-coherence/)"
   ]
  },
  {
   "cell_type": "code",
   "execution_count": 25,
   "metadata": {
    "collapsed": true,
    "nbpresent": {
     "id": "45b1a641-1152-4364-ad25-62d1f8187317"
    }
   },
   "outputs": [],
   "source": [
    "def evaluate_graph(dictionary, corpus, texts, limit):\n",
    "    \"\"\"\n",
    "    Function to display num_topics - LDA graph using c_v coherence\n",
    "    \n",
    "    Parameters:\n",
    "    ----------\n",
    "    dictionary : Gensim dictionary\n",
    "    corpus : Gensim corpus\n",
    "    limit : topic limit\n",
    "    \n",
    "    Returns:\n",
    "    -------\n",
    "    lm_list : List of LDA topic models\n",
    "    c_v : Coherence values corresponding to the LDA model with respective number of topics\n",
    "    \"\"\"\n",
    "    c_v = []\n",
    "    lm_list = []\n",
    "    for num_topics in range(1, limit):\n",
    "        lm = LdaModel(corpus=corpus, num_topics=num_topics, id2word=dictionary)\n",
    "        lm_list.append(lm)\n",
    "        cm = CoherenceModel(model=lm, texts=texts, dictionary=dictionary, coherence='c_v')\n",
    "        c_v.append(cm.get_coherence())\n",
    "        \n",
    "    # Show graph\n",
    "    x = range(1, limit)\n",
    "    plt.plot(x, c_v)\n",
    "    plt.xlabel(\"num_topics\")\n",
    "    plt.ylabel(\"Coherence score\")\n",
    "    plt.legend((\"c_v\"), loc='best')\n",
    "    plt.show()\n",
    "    \n",
    "    return lm_list, c_v"
   ]
  },
  {
   "cell_type": "code",
   "execution_count": 26,
   "metadata": {
    "collapsed": false,
    "nbpresent": {
     "id": "e8936716-d06c-4cef-ae87-5c5da9a25a85"
    }
   },
   "outputs": [
    {
     "data": {
      "image/png": "[encoded data removed]",
      "text/plain": [
       "<matplotlib.figure.Figure at 0x7f0cea715390>"
      ]
     },
     "metadata": {},
     "output_type": "display_data"
    },
    {
     "name": "stdout",
     "output_type": "stream",
     "text": [
      "CPU times: user 22.8 s, sys: 536 ms, total: 23.4 s\n",
      "Wall time: 22.9 s\n"
     ]
    }
   ],
   "source": [
    "%%time\n",
    "lmlist, c_v = evaluate_graph(dictionary=dictionary, corpus=corpus, texts=train_texts, limit=10)"
   ]
  },
  {
   "cell_type": "code",
   "execution_count": 97,
   "metadata": {
    "collapsed": false,
    "nbpresent": {
     "id": "c02b6f0a-801c-4a8f-aa8f-8c9d64df7a9a"
    }
   },
   "outputs": [
    {
     "data": {
      "text/html": [
       "\n",
       "<link rel=\"stylesheet\" type=\"text/css\" href=\"https://cdn.rawgit.com/bmabey/pyLDAvis/files/ldavis.v1.0.0.css\">\n",
       "\n",
       "\n",
       "<div id=\"ldavis_el6234139693600051664982684879\"></div>\n",
       "<script type=\"text/javascript\">\n",
       "\n",
       "var ldavis_el6234139693600051664982684879_data = {\"plot.opts\": {\"xlab\": \"PC1\", \"ylab\": \"PC2\"}, \"topic.order\": [2, 1, 3], \"token.table\": {\"Topic\": [2, 3, 1, 2, 3, 1, 2, 3, 1, 2, 3, 1, 2, 3, 1, 2, 3, 1, 2, 1, 2, 3, 2, 3, 3, 1, 2, 3, 1, 2, 3, 1, 1, 2, 3, 1, 2, 3, 1, 2, 3, 1, 3, 2, 2, 1, 3, 1, 2, 3, 1, 2, 3, 1, 2, 3, 1, 3, 1, 2, 3, 1, 1, 2, 3, 2, 2, 3, 3, 1, 3, 1, 2, 3, 1, 2, 3, 2, 3, 1, 2, 3, 1, 2, 3, 1, 3, 1, 3, 1, 2, 3, 1, 3, 1, 2, 3, 2, 1, 2, 3, 1, 2, 3, 1, 2, 3, 1, 2, 3, 1, 1, 2, 3, 1, 3, 1, 3, 1, 3, 1, 2, 3, 1, 2, 3, 1, 2, 3, 1, 2, 3, 1, 2, 3, 1, 2, 3, 1, 2, 1, 2, 3, 1, 3, 1, 3, 2, 3, 1, 3, 1, 2, 3, 1, 2, 3, 2, 1, 2, 3, 3, 1, 2, 3, 1, 3, 1, 2, 3, 1, 2, 3, 1, 2, 3, 1, 2, 3, 1, 2, 3, 1, 2, 3, 1, 2, 3, 1, 2, 2, 1, 2, 3, 1, 2, 3, 1, 2, 3, 1, 2, 1, 2, 3, 1, 1, 2, 3, 1, 1, 2, 3, 1, 2, 3, 1, 3, 1, 2, 3, 1, 2, 3, 3, 1, 2, 3, 1, 2, 3, 3, 1, 2, 3, 2, 2, 1, 2, 3, 1, 2, 3, 2, 1, 2, 1, 2, 1, 1, 2, 3, 1, 2, 3, 1, 2, 3, 1, 2, 1, 2, 3, 1, 2, 3, 1, 2, 3, 1, 2, 3, 1, 2, 3, 1, 2, 3, 1, 2, 3, 1, 2, 3, 1, 2, 3, 1, 2, 3, 1, 2, 3, 2, 3, 1, 2, 3, 1, 1, 2, 3, 1, 3, 1, 2, 3, 1, 2, 3, 1, 2, 3, 2, 3, 1, 2, 3, 1, 2, 3, 1, 2, 3, 1, 1, 2, 3, 2, 3, 1, 2, 3, 1, 3, 3, 1, 3, 2, 2, 1, 3, 1, 1, 1, 1, 2, 3, 1, 2, 3, 1, 2, 3, 1, 2, 3, 3, 1, 2, 3, 1, 2, 3, 1, 2, 3, 1, 2, 3, 1, 2, 3, 3, 1, 2, 3, 1, 2, 3, 1, 2, 3, 2, 3, 2, 3, 1, 2, 3, 1, 2, 3, 1, 2, 1, 1, 2, 1, 2, 3, 2, 1, 2, 3, 1, 2, 3, 1, 2, 3, 1, 2, 3, 1, 2, 3, 1, 2, 3, 1, 2, 3, 1, 2, 3, 1, 1, 1, 2, 3, 1, 2, 3], \"Freq\": [0.63134208478101639, 0.31567104239050819, 0.53642949784332383, 0.2384131101525884, 0.20861147138351485, 0.62219845246105188, 0.21776945836136816, 0.18665953573831556, 0.70037847733090608, 0.14591218277727211, 0.14591218277727211, 0.61233277306335099, 0.17495222087524315, 0.21869027609405395, 0.11872616497917116, 0.51448004824307503, 0.39575388326390387, 0.31228072654731298, 0.62456145309462596, 0.24989878435673055, 0.74969635307019167, 0.24989878435673055, 0.83877724265699449, 0.62873596337987991, 0.83692316259395372, 0.41045992461388481, 0.25843773031244599, 0.31924660803302152, 0.3079610203519233, 0.55432983663346191, 0.18477661221115399, 0.77017089458412258, 0.51117634491015795, 0.3505209222241083, 0.13144534583404063, 0.47392132090183953, 0.18095177707161147, 0.33605330027584984, 0.58062490256662025, 0.19354163418887343, 0.22119043907299821, 0.25339419540148839, 0.7601825862044651, 0.83732492695567307, 0.83763521029941479, 0.86416987446198934, 0.8450893587576227, 0.7701558257874912, 0.1283593042979152, 0.1283593042979152, 0.13933635645152742, 0.13933635645152742, 0.55734542580610968, 0.32301652006073073, 0.58142973610931525, 0.12920660802429229, 0.41751122636558713, 0.83502245273117426, 0.20869654430665963, 0.62608963291997888, 0.20869654430665963, 0.76760633566210656, 0.65835946923017707, 0.1463021042733727, 0.21945315641005902, 0.83536593204135956, 0.42173637164342964, 0.84347274328685928, 0.84386080024988241, 0.25280615276193785, 0.75841845828581345, 0.38681822460059984, 0.4697078441578712, 0.13814936592878566, 0.27534426916514448, 0.13767213458257224, 0.55068853833028897, 0.63108535368706831, 0.31554267684353415, 0.25322591878974543, 0.32228753300513058, 0.41436968529231072, 0.76804689035167895, 0.1440087919409398, 0.096005861293959868, 0.31320392563536015, 0.6264078512707203, 0.31291331318594739, 0.62582662637189479, 0.44148768617464162, 0.31067651990067374, 0.24527093676368977, 0.81219271131825987, 0.84295442271797816, 0.56128969611472312, 0.23111928663547424, 0.19810224568754933, 0.75819237965451247, 0.37119015042850861, 0.1237300501428362, 0.618650250714181, 0.43632511458218243, 0.29451945234297311, 0.272703196613864, 0.36548668450289656, 0.48731557933719538, 0.12182889483429885, 0.2262326156633567, 0.56558153915839171, 0.16967446174751752, 0.86569970981534283, 0.23260852957978498, 0.54275323568616496, 0.23260852957978498, 0.83131814199923515, 0.10391476774990439, 0.41805498760401094, 0.83610997520802188, 0.31321519702603834, 0.62643039405207668, 0.25039837993266434, 0.25039837993266434, 0.62599594983166085, 0.70060438356308319, 0.1751510958907708, 0.11676739726051387, 0.18172571229936754, 0.18172571229936754, 0.72690284919747017, 0.32479380661142493, 0.39697020808063049, 0.25261740514221942, 0.39102284754851291, 0.29717736413686979, 0.31281827803881035, 0.21529720803342314, 0.51671329928021559, 0.30141609124679242, 0.20602160631404637, 0.61806481894213905, 0.44617447994071413, 0.27885904996294636, 0.26026844663208326, 0.76646964079976643, 0.19161741019994161, 0.81638097988117508, 0.16327619597623499, 0.63478268352722134, 0.21159422784240708, 0.41805696927872577, 0.83611393855745153, 0.48951551865394033, 0.25495599929892726, 0.25495599929892726, 0.40412324451376541, 0.45683497205903917, 0.12299403093897208, 0.83171072719803107, 0.1671412913361659, 0.66856516534466359, 0.1671412913361659, 0.83876500247450703, 0.36453377546970123, 0.5468006632045519, 0.060755629244950204, 0.91788716863881969, 0.8416984907264029, 0.79635514541808339, 0.072395922310734856, 0.14479184462146971, 0.30343885657339603, 0.34678726465530973, 0.36846146869626661, 0.74502037787127351, 0.08278004198569705, 0.1655600839713941, 0.53034716578715546, 0.33146697861697216, 0.13258679144678887, 0.30838326434506286, 0.61676652869012571, 0.15419163217253143, 0.67894077376818029, 0.19398307821948008, 0.096991539109740038, 0.80908567099002004, 0.11558366728428858, 0.11558366728428858, 0.25083548853035914, 0.75250646559107748, 0.83609733818679099, 0.7691489880142196, 0.1922872470035549, 0.1922872470035549, 0.2486715486588891, 0.6216788716472228, 0.12433577432944455, 0.12577585873620409, 0.62887929368102036, 0.12577585873620409, 0.76760618809499603, 0.94618272232818956, 0.45037040521391825, 0.2607407609133211, 0.28444446645089572, 0.76940110833903674, 0.31303887832898791, 0.62607775665797583, 0.31303887832898791, 0.7695271679322746, 0.58025323000099149, 0.21228776707353347, 0.21228776707353347, 0.24842174262296415, 0.24842174262296415, 0.44715913672133545, 0.21032447512097574, 0.84129790048390296, 0.48697581432733894, 0.18551459593422434, 0.32465054288489265, 0.41247174650377705, 0.36664155244780183, 0.22915097027987613, 0.84553106390715627, 0.60916637236110605, 0.19036449136284561, 0.19036449136284561, 0.35463159924633259, 0.51224564335581368, 0.11821053308211085, 0.84178889036364368, 0.44689191017357832, 0.19152510436010498, 0.38305020872020995, 0.62890461984809953, 0.6241900892695168, 0.55283030166724534, 0.23388974301306534, 0.19136433519250801, 0.52312057599124018, 0.27401553980493537, 0.1992840289490439, 0.6241816761311616, 0.76754401443931441, 0.83734060182812076, 0.79947510067889072, 0.11421072866841296, 0.91758979339541236, 0.35188337915269619, 0.2345889194351308, 0.4691778388702616, 0.32170204640647121, 0.4386846087360971, 0.23396512465925179, 0.38910284198171474, 0.41504303144716237, 0.20752151572358118, 0.82222531300757262, 0.16444506260151454, 0.74106797062039598, 0.1482135941240792, 0.09880906274938614, 0.34225214352240535, 0.51337821528360805, 0.17112607176120267, 0.76753497691160921, 0.62718122933673481, 0.95637959348428958, 0.59305796532889166, 0.20931457599843234, 0.20931457599843234, 0.30888860813691943, 0.30888860813691943, 0.3775305210562348, 0.71019349495153106, 0.15438989020685459, 0.13123140667582639, 0.11456310695298624, 0.22912621390597249, 0.57281553476493119, 0.43011728533972221, 0.46921885673424241, 0.1173047141835606, 0.71092582401216875, 0.10156083200173839, 0.17773145600304219, 0.65430645203452142, 0.10905107533908689, 0.23991236574599117, 0.29061377361499813, 0.21796033021124858, 0.50857410382624668, 0.18215868820251077, 0.72863475281004308, 0.13924191589997273, 0.13924191589997273, 0.55696766359989092, 0.76994387362735917, 0.055253053617641587, 0.4420244289411327, 0.4420244289411327, 0.7722896768011559, 0.19307241920028897, 0.3642788086084876, 0.22767425538030475, 0.4553485107606095, 0.27644050555295946, 0.13822025277647973, 0.69110126388239868, 0.28419082287146408, 0.47365137145244013, 0.23682568572622006, 0.21208691157286289, 0.63626073471858868, 0.10571786844253576, 0.21143573688507153, 0.74002507909775039, 0.5625603035745953, 0.2163693475286905, 0.2163693475286905, 0.75418411305657229, 0.11602832508562649, 0.11602832508562649, 0.76763624058814972, 0.17932788372464178, 0.71731153489856714, 0.17932788372464178, 0.63059607772976867, 0.31529803886488433, 0.56901961005788615, 0.14225490251447154, 0.30229166784325201, 0.24906500735639001, 0.74719502206916999, 0.62872491819960008, 0.3143646065989909, 0.62872921319798181, 0.83808026554340864, 0.62756122485317467, 0.24885800174832803, 0.74657400524498407, 0.76989429522287101, 0.86202390911382554, 0.85751225377888451, 0.40562916108599106, 0.21841570212322595, 0.37442691792553023, 0.26213468766613912, 0.26213468766613912, 0.45873570341574343, 0.31435906126723911, 0.29017759501591306, 0.38690346002121739, 0.37567559890873325, 0.14087834959077497, 0.46959449863591657, 0.6287265733622539, 0.24714186680246544, 0.61785466700616354, 0.12357093340123272, 0.77001055396321327, 0.19250263849080332, 0.19250263849080332, 0.49810474112046882, 0.1245261852801172, 0.3735785558403516, 0.67942935994624121, 0.15098430221027581, 0.18873037776284476, 0.27877130972276543, 0.34072048966115775, 0.40266966959955008, 0.95636869168101712, 0.37358891855049492, 0.10673969101442712, 0.53369845507213565, 0.39013226954462038, 0.27634369092743943, 0.32511022462051697, 0.39112033093863829, 0.28160663827581955, 0.32854107798845616, 0.42242742930845878, 0.84485485861691756, 0.31835729467779456, 0.63671458935558911, 0.39956204694092168, 0.36150851866083394, 0.24734793382057058, 0.50606411783406946, 0.21086004909752892, 0.29520406873654048, 0.8125532765141471, 0.62632148043342062, 0.86439118267448967, 0.92635926622050291, 0.10292880735783365, 0.27296036925388917, 0.68240092313472289, 0.13648018462694458, 0.83888619667121755, 0.33109779876160544, 0.21069859921193074, 0.48159679819869888, 0.43382121933111017, 0.3718467594266659, 0.18592337971333295, 0.41601004768919747, 0.17829002043822748, 0.41601004768919747, 0.38828948753650522, 0.19414474376825261, 0.41602445093196988, 0.20008885669579052, 0.3001332850436858, 0.50022214173947632, 0.13915415849286089, 0.69577079246430451, 0.13915415849286089, 0.42024444267018851, 0.16809777706807541, 0.42024444267018851, 0.45373023955163444, 0.2376682207175228, 0.32409302825116743, 0.69176438285028197, 0.8609056326285659, 0.44082311710087535, 0.20466787579683499, 0.34636102057925922, 0.38272310898573597, 0.28704233173930194, 0.33488272036251893], \"Term\": [\"abortion\", \"abortion\", \"action\", \"action\", \"action\", \"afghan\", \"afghan\", \"afghan\", \"afghanistan\", \"afghanistan\", \"afghanistan\", \"agreement\", \"agreement\", \"agreement\", \"airline\", \"airline\", \"airline\", \"alcohol\", \"alcohol\", \"ambulance\", \"ambulance\", \"ambulance\", \"amendment\", \"anthony\", \"antibiotic\", \"area\", \"area\", \"area\", \"army\", \"army\", \"army\", \"attachment\", \"attack\", \"attack\", \"attack\", \"australia\", \"australia\", \"australia\", \"authority\", \"authority\", \"authority\", \"bacterium\", \"bacterium\", \"battlefield\", \"belgium\", \"boat_people\", \"boje\", \"bonn\", \"bonn\", \"bonn\", \"boxing_day\", \"boxing_day\", \"boxing_day\", \"boy\", \"boy\", \"boy\", \"bradstreet\", \"bradstreet\", \"brain\", \"brain\", \"brain\", \"bulli\", \"cabinet\", \"cabinet\", \"cabinet\", \"cannon\", \"carr\", \"carr\", \"carrier\", \"casino\", \"casino\", \"centre\", \"centre\", \"centre\", \"century\", \"century\", \"century\", \"chief_executive\", \"chief_executive\", \"child\", \"child\", \"child\", \"claim\", \"claim\", \"claim\", \"climate\", \"climate\", \"combination\", \"combination\", \"company\", \"company\", \"company\", \"computer\", \"convention\", \"country\", \"country\", \"country\", \"cow\", \"criticism\", \"criticism\", \"criticism\", \"day\", \"day\", \"day\", \"department\", \"department\", \"department\", \"detainee\", \"detainee\", \"detainee\", \"dialogue\", \"dispute\", \"dispute\", \"dispute\", \"downer\", \"downer\", \"dun\", \"dun\", \"england\", \"england\", \"entitlement\", \"entitlement\", \"entitlement\", \"event\", \"event\", \"event\", \"explanation\", \"explanation\", \"explanation\", \"family\", \"family\", \"family\", \"fire\", \"fire\", \"fire\", \"flight\", \"flight\", \"flight\", \"focus\", \"focus\", \"force\", \"force\", \"force\", \"franc\", \"franc\", \"friedli\", \"friedli\", \"gerber\", \"gerber\", \"goulburn\", \"goulburn\", \"government\", \"government\", \"government\", \"group\", \"group\", \"group\", \"guerrilla\", \"gunman\", \"gunman\", \"gunman\", \"gust\", \"hamas\", \"hamas\", \"hamas\", \"hass\", \"headach\", \"hih\", \"hih\", \"hih\", \"hour\", \"hour\", \"hour\", \"inquiry\", \"inquiry\", \"inquiry\", \"israel\", \"israel\", \"israel\", \"japan\", \"japan\", \"japan\", \"kabul\", \"kabul\", \"kabul\", \"karzai\", \"karzai\", \"karzai\", \"kashmir\", \"kashmir\", \"kashmiri\", \"kieren\", \"kieren\", \"kieren\", \"killing\", \"killing\", \"killing\", \"land\", \"land\", \"land\", \"larrakia\", \"launceston\", \"leader\", \"leader\", \"leader\", \"liability\", \"magistrate\", \"magistrate\", \"magistrate\", \"malaysia\", \"man\", \"man\", \"man\", \"match\", \"match\", \"match\", \"mcgrath\", \"mcgrath\", \"meeting\", \"meeting\", \"meeting\", \"member\", \"member\", \"member\", \"mentha\", \"metre\", \"metre\", \"metre\", \"militant\", \"militant\", \"militant\", \"millimetre\", \"minister\", \"minister\", \"minister\", \"mitsubishi\", \"mjc\", \"month\", \"month\", \"month\", \"morning\", \"morning\", \"morning\", \"motive\", \"motorist\", \"motorway\", \"musharraf\", \"musharraf\", \"nail\", \"new_south\", \"new_south\", \"new_south\", \"number\", \"number\", \"number\", \"official\", \"official\", \"official\", \"oil\", \"oil\", \"pakistan\", \"pakistan\", \"pakistan\", \"palestinian\", \"palestinian\", \"palestinian\", \"palmerston\", \"panel\", \"payout\", \"peace\", \"peace\", \"peace\", \"per_cent\", \"per_cent\", \"per_cent\", \"person\", \"person\", \"person\", \"play\", \"play\", \"play\", \"polouse\", \"polouse\", \"polouse\", \"power\", \"power\", \"power\", \"president\", \"president\", \"president\", \"problem\", \"problem\", \"problem\", \"product\", \"product\", \"professor\", \"professor\", \"professor\", \"punt\", \"qanta\", \"qanta\", \"qanta\", \"rabbani\", \"rabbani\", \"radio\", \"radio\", \"radio\", \"rain\", \"rain\", \"rain\", \"rate\", \"rate\", \"rate\", \"redundancy\", \"redundancy\", \"refugee\", \"refugee\", \"refugee\", \"report\", \"report\", \"report\", \"road\", \"road\", \"road\", \"rosebury\", \"route\", \"route\", \"route\", \"saadi\", \"saadi\", \"security\", \"security\", \"security\", \"selector\", \"selector\", \"severance\", \"sheet\", \"sheet\", \"sherrard\", \"sinai\", \"slip\", \"slip\", \"software\", \"solvency\", \"spill\", \"staff\", \"staff\", \"staff\", \"start\", \"start\", \"start\", \"state\", \"state\", \"state\", \"storm\", \"storm\", \"storm\", \"sturestep\", \"surrender\", \"surrender\", \"surrender\", \"swimmer\", \"swimmer\", \"swimmer\", \"sydney\", \"sydney\", \"sydney\", \"talk\", \"talk\", \"talk\", \"team\", \"team\", \"team\", \"termination\", \"test\", \"test\", \"test\", \"time\", \"time\", \"time\", \"today\", \"today\", \"today\", \"toddler\", \"toddler\", \"trounson\", \"trounson\", \"union\", \"union\", \"union\", \"united_state\", \"united_state\", \"united_state\", \"user\", \"utn\", \"vajpayee\", \"virus\", \"virus\", \"visa\", \"visa\", \"visa\", \"voting\", \"wale\", \"wale\", \"wale\", \"war\", \"war\", \"war\", \"way\", \"way\", \"way\", \"week\", \"week\", \"week\", \"wicket\", \"wicket\", \"wicket\", \"woomera\", \"woomera\", \"woomera\", \"work\", \"work\", \"work\", \"world\", \"world\", \"world\", \"world_heritage\", \"worm\", \"year\", \"year\", \"year\", \"yesterday\", \"yesterday\", \"yesterday\"]}, \"mdsDat\": {\"y\": [-0.011893739701580029, -0.018097572114954948, 0.029991311816534975], \"cluster\": [1, 1, 1], \"Freq\": [43.675711517333802, 28.636817718577962, 27.687470764088239], \"topics\": [1, 2, 3], \"x\": [0.030435455958181135, -0.026509050253731698, -0.0039264057044494432]}, \"R\": 30, \"lambda.step\": 0.01, \"tinfo\": {\"Category\": [\"Default\", \"Default\", \"Default\", \"Default\", \"Default\", \"Default\", \"Default\", \"Default\", \"Default\", \"Default\", \"Default\", \"Default\", \"Default\", \"Default\", \"Default\", \"Default\", \"Default\", \"Default\", \"Default\", \"Default\", \"Default\", \"Default\", \"Default\", \"Default\", \"Default\", \"Default\", \"Default\", \"Default\", \"Default\", \"Default\", \"Topic1\", \"Topic1\", \"Topic1\", \"Topic1\", \"Topic1\", \"Topic1\", \"Topic1\", \"Topic1\", \"Topic1\", \"Topic1\", \"Topic1\", \"Topic1\", \"Topic1\", \"Topic1\", \"Topic1\", \"Topic1\", \"Topic1\", \"Topic1\", \"Topic1\", \"Topic1\", \"Topic1\", \"Topic1\", \"Topic1\", \"Topic1\", \"Topic1\", \"Topic1\", \"Topic1\", \"Topic1\", \"Topic1\", \"Topic1\", \"Topic1\", \"Topic1\", \"Topic1\", \"Topic1\", \"Topic1\", \"Topic1\", \"Topic1\", \"Topic1\", \"Topic1\", \"Topic1\", \"Topic1\", \"Topic1\", \"Topic1\", \"Topic1\", \"Topic1\", \"Topic1\", \"Topic1\", \"Topic1\", \"Topic1\", \"Topic1\", \"Topic1\", \"Topic1\", \"Topic1\", \"Topic1\", \"Topic1\", \"Topic1\", \"Topic1\", \"Topic1\", \"Topic1\", \"Topic1\", \"Topic1\", \"Topic1\", \"Topic1\", \"Topic1\", \"Topic1\", \"Topic1\", \"Topic1\", \"Topic1\", \"Topic1\", \"Topic1\", \"Topic1\", \"Topic1\", \"Topic1\", \"Topic1\", \"Topic1\", \"Topic2\", \"Topic2\", \"Topic2\", \"Topic2\", \"Topic2\", \"Topic2\", \"Topic2\", \"Topic2\", \"Topic2\", \"Topic2\", \"Topic2\", \"Topic2\", \"Topic2\", \"Topic2\", \"Topic2\", \"Topic2\", \"Topic2\", \"Topic2\", \"Topic2\", \"Topic2\", \"Topic2\", \"Topic2\", \"Topic2\", \"Topic2\", \"Topic2\", \"Topic2\", \"Topic2\", \"Topic2\", \"Topic2\", \"Topic2\", \"Topic2\", \"Topic2\", \"Topic2\", \"Topic2\", \"Topic2\", \"Topic2\", \"Topic2\", \"Topic2\", \"Topic2\", \"Topic2\", \"Topic2\", \"Topic2\", \"Topic2\", \"Topic2\", \"Topic2\", \"Topic2\", \"Topic2\", \"Topic2\", \"Topic2\", \"Topic2\", \"Topic2\", \"Topic2\", \"Topic2\", \"Topic2\", \"Topic2\", \"Topic2\", \"Topic2\", \"Topic2\", \"Topic2\", \"Topic2\", \"Topic2\", \"Topic2\", \"Topic2\", \"Topic2\", \"Topic2\", \"Topic2\", \"Topic2\", \"Topic2\", \"Topic2\", \"Topic2\", \"Topic2\", \"Topic2\", \"Topic2\", \"Topic2\", \"Topic3\", \"Topic3\", \"Topic3\", \"Topic3\", \"Topic3\", \"Topic3\", \"Topic3\", \"Topic3\", \"Topic3\", \"Topic3\", \"Topic3\", \"Topic3\", \"Topic3\", \"Topic3\", \"Topic3\", \"Topic3\", \"Topic3\", \"Topic3\", \"Topic3\", \"Topic3\", \"Topic3\", \"Topic3\", \"Topic3\", \"Topic3\", \"Topic3\", \"Topic3\", \"Topic3\", \"Topic3\", \"Topic3\", \"Topic3\", \"Topic3\", \"Topic3\", \"Topic3\", \"Topic3\", \"Topic3\", \"Topic3\", \"Topic3\", \"Topic3\", \"Topic3\", \"Topic3\", \"Topic3\", \"Topic3\", \"Topic3\", \"Topic3\", \"Topic3\", \"Topic3\", \"Topic3\", \"Topic3\", \"Topic3\", \"Topic3\", \"Topic3\", \"Topic3\", \"Topic3\", \"Topic3\", \"Topic3\", \"Topic3\", \"Topic3\", \"Topic3\", \"Topic3\", \"Topic3\", \"Topic3\", \"Topic3\", \"Topic3\", \"Topic3\", \"Topic3\", \"Topic3\", \"Topic3\", \"Topic3\", \"Topic3\", \"Topic3\", \"Topic3\", \"Topic3\", \"Topic3\", \"Topic3\", \"Topic3\", \"Topic3\", \"Topic3\", \"Topic3\", \"Topic3\", \"Topic3\"], \"Term\": [\"test\", \"airline\", \"person\", \"group\", \"child\", \"qanta\", \"palestinian\", \"wale\", \"centre\", \"flight\", \"hour\", \"australia\", \"detainee\", \"sydney\", \"militant\", \"refugee\", \"gunman\", \"state\", \"wicket\", \"team\", \"hamas\", \"number\", \"virus\", \"week\", \"woomera\", \"attack\", \"afghanistan\", \"pakistan\", \"army\", \"polouse\", \"virus\", \"computer\", \"user\", \"downer\", \"friedli\", \"musharraf\", \"spill\", \"nail\", \"hass\", \"worm\", \"solvency\", \"franc\", \"palmerston\", \"motorist\", \"bulli\", \"larrakia\", \"rosebury\", \"boat_people\", \"oil\", \"claim\", \"vajpayee\", \"world_heritage\", \"kieren\", \"malaysia\", \"liability\", \"dialogue\", \"punt\", \"software\", \"swimmer\", \"attachment\", \"bonn\", \"hih\", \"karzai\", \"pakistan\", \"person\", \"inquiry\", \"road\", \"afghanistan\", \"power\", \"talk\", \"rabbani\", \"president\", \"event\", \"kabul\", \"man\", \"cabinet\", \"security\", \"afghan\", \"metre\", \"report\", \"month\", \"australia\", \"government\", \"agreement\", \"authority\", \"attack\", \"peace\", \"israel\", \"day\", \"country\", \"morning\", \"sydney\", \"united_state\", \"action\", \"year\", \"company\", \"force\", \"area\", \"meeting\", \"group\", \"today\", \"fire\", \"time\", \"world\", \"union\", \"cow\", \"launceston\", \"kashmir\", \"mitsubishi\", \"panel\", \"belgium\", \"battlefield\", \"motorway\", \"sinai\", \"sherrard\", \"woomera\", \"alcohol\", \"utn\", \"kashmiri\", \"abortion\", \"brain\", \"guerrilla\", \"land\", \"gerber\", \"saadi\", \"magistrate\", \"amendment\", \"voting\", \"focus\", \"killing\", \"cannon\", \"chief_executive\", \"surrender\", \"motive\", \"mjc\", \"gunman\", \"ambulance\", \"japan\", \"detainee\", \"route\", \"visa\", \"palestinian\", \"army\", \"militant\", \"boy\", \"group\", \"centre\", \"airline\", \"hamas\", \"flight\", \"number\", \"rate\", \"polouse\", \"attack\", \"official\", \"union\", \"department\", \"dispute\", \"day\", \"family\", \"member\", \"hour\", \"qanta\", \"company\", \"government\", \"fire\", \"israel\", \"today\", \"time\", \"child\", \"war\", \"area\", \"force\", \"australia\", \"person\", \"man\", \"state\", \"year\", \"yesterday\", \"payout\", \"termination\", \"casino\", \"bacterium\", \"mentha\", \"boje\", \"redundancy\", \"mcgrath\", \"millimetre\", \"trounson\", \"sheet\", \"convention\", \"refugee\", \"headach\", \"gust\", \"climate\", \"goulburn\", \"dun\", \"england\", \"bradstreet\", \"product\", \"carrier\", \"selector\", \"toddler\", \"explanation\", \"antibiotic\", \"carr\", \"severance\", \"sturestep\", \"anthony\", \"combination\", \"rain\", \"slip\", \"boxing_day\", \"test\", \"criticism\", \"professor\", \"wale\", \"play\", \"century\", \"entitlement\", \"child\", \"wicket\", \"australia\", \"week\", \"match\", \"sydney\", \"state\", \"year\", \"storm\", \"way\", \"radio\", \"problem\", \"start\", \"work\", \"today\", \"hour\", \"area\", \"time\", \"team\", \"fire\", \"day\", \"government\", \"new_south\", \"qanta\", \"per_cent\", \"staff\", \"yesterday\", \"minister\", \"airline\", \"security\", \"meeting\", \"world\", \"united_state\", \"company\", \"force\", \"man\", \"leader\", \"person\", \"union\"], \"loglift\": [30.0, 29.0, 28.0, 27.0, 26.0, 25.0, 24.0, 23.0, 22.0, 21.0, 20.0, 19.0, 18.0, 17.0, 16.0, 15.0, 14.0, 13.0, 12.0, 11.0, 10.0, 9.0, 8.0, 7.0, 6.0, 5.0, 4.0, 3.0, 2.0, 1.0, 0.73540000000000005, 0.70299999999999996, 0.69940000000000002, 0.66900000000000004, 0.66830000000000001, 0.66779999999999995, 0.66139999999999999, 0.63300000000000001, 0.63039999999999996, 0.62649999999999995, 0.62019999999999997, 0.61990000000000001, 0.60319999999999996, 0.60309999999999997, 0.60240000000000005, 0.60240000000000005, 0.60199999999999998, 0.5998, 0.59919999999999995, 0.5948, 0.59340000000000004, 0.59130000000000005, 0.58520000000000005, 0.58160000000000001, 0.5806, 0.57989999999999997, 0.57699999999999996, 0.57450000000000001, 0.57450000000000001, 0.57110000000000005, 0.56950000000000001, 0.55640000000000001, 0.56120000000000003, 0.52380000000000004, 0.48699999999999999, 0.5474, 0.53210000000000002, 0.4748, 0.47539999999999999, 0.45400000000000001, 0.55589999999999995, 0.39450000000000002, 0.46779999999999999, 0.49580000000000002, 0.27210000000000001, 0.45419999999999999, 0.26040000000000002, 0.3372, 0.35780000000000001, 0.25969999999999999, 0.24779999999999999, 0.0877, 0.106, 0.35709999999999997, 0.27289999999999998, 0.15040000000000001, 0.30149999999999999, 0.20169999999999999, 0.0070000000000000001, 0.27329999999999999, 0.191, 0.13250000000000001, 0.1353, 0.23269999999999999, 0.0091999999999999998, 0.012699999999999999, 0.038800000000000001, -0.058400000000000001, 0.0906, -0.056300000000000003, -0.1208, -0.1217, -0.105, 0.031800000000000002, -0.10829999999999999, 1.0931, 1.0357000000000001, 1.0049999999999999, 1.0004, 0.99729999999999996, 0.97789999999999999, 0.97330000000000005, 0.97309999999999997, 0.9718, 0.96819999999999995, 0.95689999999999997, 0.95650000000000002, 0.94940000000000002, 0.94710000000000005, 0.92479999999999996, 0.89170000000000005, 0.88680000000000003, 0.87760000000000005, 0.86429999999999996, 0.86419999999999997, 0.85980000000000001, 0.85970000000000002, 0.85289999999999999, 0.85240000000000005, 0.83550000000000002, 0.83079999999999998, 0.82530000000000003, 0.8246, 0.82120000000000004, 0.82099999999999995, 0.81440000000000001, 0.81989999999999996, 0.79959999999999998, 0.72650000000000003, 0.79530000000000001, 0.77290000000000003, 0.56059999999999999, 0.65180000000000005, 0.59189999999999998, 0.65339999999999998, 0.46689999999999998, 0.50539999999999996, 0.55479999999999996, 0.63160000000000005, 0.56279999999999997, 0.442, 0.52449999999999997, 0.4793, 0.217, 0.34260000000000002, 0.25559999999999999, 0.55010000000000003, 0.60919999999999996, 0.014800000000000001, 0.36580000000000001, 0.22040000000000001, 0.1958, 0.48980000000000001, 0.076799999999999993, -0.109, 0.042700000000000002, 0.16120000000000001, -0.023400000000000001, -0.015100000000000001, 0.12770000000000001, 0.253, -0.075499999999999998, -0.0015, -0.4456, -0.59719999999999995, -0.3044, 0.037900000000000003, -0.3322, -0.035799999999999998, 1.0842000000000001, 1.0840000000000001, 1.0228999999999999, 1.006, 1.0017, 0.99709999999999999, 0.98350000000000004, 0.98319999999999996, 0.96150000000000002, 0.96060000000000001, 0.94910000000000005, 0.94750000000000001, 0.94720000000000004, 0.93920000000000003, 0.92530000000000001, 0.91059999999999997, 0.89329999999999998, 0.89319999999999999, 0.88870000000000005, 0.87909999999999999, 0.87529999999999997, 0.86890000000000001, 0.86519999999999997, 0.86209999999999998, 0.85909999999999997, 0.85599999999999998, 0.85289999999999999, 0.84809999999999997, 0.84799999999999998, 0.84789999999999999, 0.8478, 0.83720000000000006, 0.83240000000000003, 0.80030000000000001, 0.66020000000000001, 0.75249999999999995, 0.75019999999999998, 0.55979999999999996, 0.71079999999999999, 0.7329, 0.71460000000000001, 0.42170000000000002, 0.54790000000000005, 0.20480000000000001, 0.4214, 0.52410000000000001, 0.32529999999999998, 0.3453, 0.2452, 0.48970000000000002, 0.37809999999999999, 0.47449999999999998, 0.58660000000000001, 0.56010000000000004, 0.44619999999999999, 0.1852, 0.2571, 0.15240000000000001, 0.1593, 0.34279999999999999, 0.12720000000000001, -0.026800000000000001, -0.072099999999999997, 0.51429999999999998, 0.49230000000000002, 0.32519999999999999, 0.28860000000000002, 0.18820000000000001, 0.28710000000000002, 0.3679, 0.062899999999999998, 0.1603, 0.1305, 0.074300000000000005, -0.10829999999999999, -0.062799999999999995, -0.251, 0.047899999999999998, -0.74390000000000001, -0.15010000000000001], \"Freq\": [37.0, 25.0, 129.0, 56.0, 43.0, 18.0, 35.0, 33.0, 36.0, 23.0, 46.0, 116.0, 17.0, 48.0, 25.0, 9.0, 11.0, 41.0, 19.0, 32.0, 16.0, 34.0, 9.0, 36.0, 7.0, 68.0, 68.0, 40.0, 16.0, 25.0, 8.8528985936877742, 5.4305231721730207, 5.4089357667708384, 8.2058000173630585, 5.2188562174309405, 7.456673935801474, 2.960587712776686, 3.585501355562414, 3.5749389411282375, 2.8476704233635557, 2.826218114661065, 4.2367807713965249, 2.0803017719914751, 2.0801266869992374, 2.0785571535415541, 2.0785535516416007, 2.0776442470988772, 2.7621248910032787, 4.8353709257706257, 16.492096107798659, 2.743918326082146, 3.4212178421053232, 4.0777969818382527, 2.0306744919912738, 2.0289499386131786, 2.7029447710331342, 2.0201770005285109, 2.0153791858184773, 4.0300332859397594, 2.0077767255391672, 6.0135282490844535, 10.523834673520874, 6.6232471746526338, 29.85168444019472, 92.079125610950982, 9.1207853335713232, 12.817110227555409, 48.122772054703276, 27.672532982082096, 18.218855030471204, 3.9440659065640471, 29.711759882149124, 11.942670233570109, 7.3929497110759419, 40.513313622653634, 9.403237196717706, 31.867130005342847, 19.669243348012646, 16.406001979742552, 26.170335828093631, 26.31719987612939, 55.33256570679012, 47.61406026246118, 14.271402379730805, 20.754022742933323, 34.75836499078283, 16.924750713934944, 24.181399085785209, 40.319158674865683, 17.385135532720206, 21.223996383052924, 24.024757602094375, 23.713985622406305, 18.494756741750106, 27.996803735895096, 27.051167203595366, 24.422197102291864, 27.101301390414562, 20.620246975836263, 23.495687094920935, 24.740734501056782, 24.724325071778647, 24.191130727004701, 20.867067480601033, 20.599548686764059, 3.3806995853997401, 2.5579297364023912, 3.1189479641972704, 2.4765913626994758, 2.4755842302976476, 1.8179253712454011, 1.8104256715008153, 1.8099866425551212, 2.4117335387875452, 1.7994645023972842, 5.3580121916805643, 2.3866962558667018, 2.3630970487099465, 1.7661606581561982, 2.2872149951087608, 3.3471815229048096, 1.6715301833705103, 5.4759316131790712, 3.2120386495095818, 2.1554106084015117, 2.1614098898557774, 1.6131434443140549, 1.6019841886716952, 3.2600491968467593, 5.3111768223082922, 1.5736459337987159, 2.0715853629189214, 5.286092040711484, 1.0428890360850689, 1.042681637834266, 7.7367737056493597, 2.6016134128239932, 4.13156277360057, 10.469666456410744, 3.5373599689725643, 4.5449693169841154, 17.589138634098664, 8.9222147425845471, 13.136077243947472, 8.5199028212764425, 25.997144330973086, 17.180137982145084, 12.601680500933874, 8.864486794634578, 11.675332378250499, 15.233633560630359, 10.21509628795547, 11.826838296312296, 24.358265624989755, 15.550403841781188, 19.434328245457756, 8.149158019266892, 6.7918485848244412, 26.643865747668357, 11.439658351559192, 15.578177245562623, 16.070419967166529, 8.458437036903236, 18.910542018882143, 25.180376346127996, 19.108083231680816, 15.225347468742726, 17.880273446379348, 17.353344212472219, 14.134047365281637, 11.902027672100814, 17.46723912847634, 15.381393174673866, 21.284472147392673, 20.416204496284919, 14.924136027238431, 12.300025199217428, 13.047416774384658, 11.550501131464738, 2.5683614815873899, 2.5678437930307934, 3.0461678107034138, 2.9879868177191735, 1.7832560922002287, 1.7759752361481629, 3.4904249274266115, 3.5188897688758578, 1.7206904298680992, 2.2727956246797789, 2.2752463224413564, 1.6943370293388287, 6.7527454807377163, 1.6827886102695966, 1.6654343276570689, 2.1975249169584603, 1.6181322032214858, 1.6179671225690266, 2.149739414557712, 1.5973568231237032, 3.6472120236090535, 1.5645677049141493, 2.6406222655315377, 1.5521336652181057, 3.5972998679720161, 1.5573411996154074, 1.5404935415558216, 1.028373744662324, 1.0283022601701979, 1.0281875981217166, 2.0656664465008019, 4.627115450469911, 2.5576171816206155, 4.4234829884209947, 20.077923697499642, 4.7490870059653778, 4.2103400676321705, 16.100977761989864, 4.9196098921921747, 4.1852391692861435, 4.5189088932297006, 18.336771899974824, 9.5734853480126159, 39.435981021057493, 15.214838307161092, 9.4114833641982933, 18.46981406703765, 16.171296614054956, 22.473319550108332, 9.6210007079348312, 13.599766188308401, 9.7724321585546683, 6.851469235062094, 7.3975017024070251, 10.293808384246399, 21.297939809647296, 16.519763868344651, 21.211328308494888, 19.973122740955564, 12.593493622842292, 20.10247467520928, 24.711735207801084, 25.261698837309265, 7.8954833341115682, 8.1986380985481073, 11.167314201708525, 11.842531760886919, 13.971237740119063, 11.557994178756143, 10.107526075871471, 16.582082651406406, 14.015394966312105, 14.601072982236499, 14.144146843014699, 15.195149384263944, 13.987025455222769, 15.221355644358416, 12.253431879709495, 17.046830802416995, 12.523667411085169], \"Total\": [37.0, 25.0, 129.0, 56.0, 43.0, 18.0, 35.0, 33.0, 36.0, 23.0, 46.0, 116.0, 17.0, 48.0, 25.0, 9.0, 11.0, 41.0, 19.0, 32.0, 16.0, 34.0, 9.0, 36.0, 7.0, 68.0, 68.0, 40.0, 16.0, 25.0, 9.7154530949094156, 6.1561744279686561, 6.153442665876625, 9.6232712794656656, 6.124591487576982, 8.7557448556631794, 3.4984922801739589, 4.3592463961467587, 4.3578340962449644, 3.4847024880534581, 3.4801818931960349, 5.2187324677677163, 2.6057444418332012, 2.6057137602212768, 2.6055022048181504, 2.6055027057083699, 2.6054007018579974, 3.4715396690583842, 6.0810582219985125, 20.832061428793498, 3.4706508582350182, 4.336736718995386, 5.2005528998057402, 2.5989985582627515, 2.5994243812795492, 3.4654048811451164, 2.597591939497617, 2.5977592150115032, 5.1947339934656238, 2.5968262551390771, 7.7906311931938532, 13.81293266363595, 8.6517414051278436, 40.482116606503794, 129.54216090965289, 12.080206484707782, 17.237170307543796, 68.534373276181583, 39.385262223250919, 26.492820388898448, 5.17940368770447, 45.850075154718468, 17.128068681173911, 10.310177662698607, 70.658805294250485, 13.670343361999096, 56.237077658438963, 32.144085091969835, 26.265402566436162, 46.21726743744977, 47.030707111365409, 116.0530188752403, 98.056135445898448, 22.863385100166084, 36.167928566567952, 68.469522012313462, 28.664988911450376, 45.253376558312624, 91.674759630335117, 30.287390126123633, 40.143708666415847, 48.182637141764317, 47.424820599253053, 33.55520170379836, 63.517540060388086, 61.156858606741451, 53.790615732188499, 65.779868827385783, 43.123291510908729, 56.913331049970239, 63.918947757083423, 63.934882978668739, 61.517597680432488, 46.283007323364004, 52.557544343306986, 3.9567794144370296, 3.1706349410166368, 3.9866767093403843, 3.1801324666418629, 3.1888709458270412, 2.3876742231085237, 2.3885590116987854, 2.3885142982837659, 3.1869400479099448, 2.3864062694558332, 7.1862746383630611, 3.2022469367749857, 3.1932482957729316, 2.3920659816204122, 3.1678547149184713, 4.7916461833244135, 2.4046822225533209, 7.9506513415849493, 4.7260268401309524, 3.1716023467831755, 3.1944913850255077, 2.3844232989257081, 2.3841136115198887, 4.8538598348547142, 8.0427375418949332, 2.3941603592962641, 3.1691434261865719, 8.0925179771283027, 1.6020976556028637, 1.602076061749538, 11.965924063476717, 4.0016201062126813, 6.4854362452111438, 17.680916556930775, 5.5763776342529159, 7.3270709790831798, 35.061869522562759, 16.235820995417654, 25.378449126154891, 15.479084472397709, 56.913331049970239, 36.192710450639638, 25.268229631828063, 16.459380182999528, 23.223710356818888, 34.193130329365317, 21.112574781183994, 25.574419756954899, 68.469522012313462, 38.550219586175373, 52.557544343306986, 16.416466739850406, 12.897205469720305, 91.674759630335117, 27.709887986772394, 43.639352640690923, 46.137795792193373, 18.098547220939711, 61.156858606741451, 98.056135445898448, 63.934882978668739, 45.253376558312624, 63.918947757083423, 61.517597680432488, 43.439471174881376, 32.271358283455989, 65.779868827385783, 53.790615732188499, 116.0530188752403, 129.54216090965289, 70.658805294250485, 41.353985304557824, 63.517540060388086, 41.80568046283382, 3.1368297906382305, 3.1368655478745078, 3.9555999293327275, 3.9464203132812816, 2.3653773177275133, 2.3666136359120968, 4.7150481497602836, 4.7545584004182766, 2.3758926054916474, 3.1411248201869775, 3.1810196790875311, 2.3726075172027743, 9.4591388828801648, 2.3761477797993429, 2.384458095055995, 3.192808001915739, 2.3920184890717198, 2.3920298277776264, 3.1926931052354637, 2.3951451765859004, 5.4897189360974803, 2.3700591370137869, 4.0150160418524328, 2.3672705194287813, 5.5027986262760695, 2.3897056377328765, 2.3711495314079327, 1.5905207047679506, 1.5905165176211331, 1.5904927636464843, 3.1957732632671796, 7.2348297728635407, 4.0183558212900365, 7.1768777759585074, 37.474344941277309, 8.0821110057385575, 7.1817454789861577, 33.222812235970608, 8.7288135473697857, 7.2636340173851623, 7.9872721242758375, 43.439471174881376, 19.991118276423997, 116.0530188752403, 36.055573095276714, 20.127062740996163, 48.182637141764317, 41.353985304557824, 63.517540060388086, 21.294968380268749, 33.653033328799424, 21.961200626957364, 13.763972540748036, 15.259331130927983, 23.795674575637605, 63.918947757083423, 46.137795792193373, 65.779868827385783, 61.517597680432488, 32.284527446351589, 63.934882978668739, 91.674759630335117, 98.056135445898448, 17.051103733422888, 18.098547220939711, 29.136717130113837, 32.04897785256636, 41.80568046283382, 31.327485866911818, 25.268229631828063, 56.237077658438963, 43.123291510908729, 46.283007323364004, 47.424820599253053, 61.156858606741451, 53.790615732188499, 70.658805294250485, 42.187496736103974, 129.54216090965289, 52.557544343306986], \"logprob\": [30.0, 29.0, 28.0, 27.0, 26.0, 25.0, 24.0, 23.0, 22.0, 21.0, 20.0, 19.0, 18.0, 17.0, 16.0, 15.0, 14.0, 13.0, 12.0, 11.0, 10.0, 9.0, 8.0, 7.0, 6.0, 5.0, 4.0, 3.0, 2.0, 1.0, -6.7112999999999996, -7.2000000000000002, -7.2039999999999997, -6.7872000000000003, -7.2397, -6.8829000000000002, -7.8066000000000004, -7.6151, -7.6181000000000001, -7.8455000000000004, -7.8531000000000004, -7.4481999999999999, -8.1594999999999995, -8.1595999999999993, -8.1603999999999992, -8.1603999999999992, -8.1608000000000001, -7.8760000000000003, -7.3160999999999996, -6.0891000000000002, -7.8826000000000001, -7.6619999999999999, -7.4865000000000004, -8.1837, -8.1844999999999999, -7.8977000000000004, -8.1888000000000005, -8.1912000000000003, -7.4983000000000004, -8.1950000000000003, -7.0979999999999999, -6.5384000000000002, -7.0014000000000003, -5.4958, -4.3693999999999997, -6.6814999999999998, -6.3411999999999997, -5.0183, -5.5716000000000001, -5.9896000000000003, -7.5198, -5.5004999999999997, -6.4119000000000002, -6.8914999999999997, -5.1904000000000003, -6.6509999999999998, -5.4305000000000003, -5.9130000000000003, -6.0944000000000003, -5.6273999999999997, -5.6218000000000004, -4.8787000000000003, -5.0289000000000001, -6.2337999999999996, -5.8593000000000002, -5.3436000000000003, -6.0632999999999999, -5.7064000000000004, -5.1951999999999998, -6.0364000000000004, -5.8369, -5.7129000000000003, -5.726, -5.9744999999999999, -5.5598999999999998, -5.5942999999999996, -5.6965000000000003, -5.5923999999999996, -5.8658000000000001, -5.7351999999999999, -5.6836000000000002, -5.6841999999999997, -5.7060000000000004, -5.8539000000000003, -5.8667999999999996, -7.2518000000000002, -7.5307000000000004, -7.3323999999999998, -7.5629999999999997, -7.5635000000000003, -7.8722000000000003, -7.8764000000000003, -7.8765999999999998, -7.5895999999999999, -7.8823999999999996, -6.7912999999999997, -7.5999999999999996, -7.6100000000000003, -7.9010999999999996, -7.6425999999999998, -7.2618, -7.9561999999999999, -6.7695999999999996, -7.3029999999999999, -7.7019000000000002, -7.6992000000000003, -7.9916999999999998, -7.9987000000000004, -7.2881999999999998, -6.8000999999999996, -8.0165000000000006, -7.7416, -6.8048000000000002, -8.4278999999999993, -8.4281000000000006, -6.4238999999999997, -7.5137999999999998, -7.0513000000000003, -6.1214000000000004, -7.2065000000000001, -6.9558999999999997, -5.6025999999999998, -6.2813999999999997, -5.8945999999999996, -6.3274999999999997, -5.2119, -5.6261999999999999, -5.9360999999999997, -6.2878999999999996, -6.0125000000000002, -5.7464000000000004, -6.1460999999999997, -5.9996, -5.2770999999999999, -5.7257999999999996, -5.5029000000000003, -6.3719999999999999, -6.5541999999999998, -5.1874000000000002, -6.0327999999999999, -5.7241, -5.6928999999999998, -6.3348000000000004, -5.5301999999999998, -5.2439, -5.5198, -5.7469999999999999, -5.5861999999999998, -5.6161000000000003, -5.8212999999999999, -5.9931999999999999, -5.6096000000000004, -5.7367999999999997, -5.4119999999999999, -5.4535999999999998, -5.7668999999999997, -5.9603000000000002, -5.9013, -6.0232000000000001, -7.4928999999999997, -7.4931000000000001, -7.3223000000000003, -7.3415999999999997, -7.8578000000000001, -7.8619000000000003, -7.1862000000000004, -7.1780999999999997, -7.8935000000000004, -7.6151999999999997, -7.6140999999999996, -7.9089, -6.5263, -7.9157999999999999, -7.9260999999999999, -7.6489000000000003, -7.9549000000000003, -7.9550000000000001, -7.6708999999999996, -7.9679000000000002, -7.1422999999999996, -7.9885999999999999, -7.4652000000000003, -7.9965999999999999, -7.1559999999999997, -7.9931999999999999, -8.0040999999999993, -8.4082000000000008, -8.4083000000000006, -8.4084000000000003, -7.7107999999999999, -6.9043000000000001, -7.4970999999999997, -6.9493, -5.4366000000000003, -6.8783000000000003, -6.9987000000000004, -5.6573000000000002, -6.843, -7.0046999999999997, -6.9279000000000002, -5.5273000000000003, -6.1772, -4.7614999999999998, -5.7138999999999998, -6.1943000000000001, -5.5201000000000002, -5.6529999999999996, -5.3239000000000001, -6.1722999999999999, -5.8262, -6.1566999999999998, -6.5118, -6.4351000000000003, -6.1047000000000002, -5.3776000000000002, -5.6317000000000004, -5.3817000000000004, -5.4417999999999997, -5.9029999999999996, -5.4353999999999996, -5.2289000000000003, -5.2069000000000001, -6.3699000000000003, -6.3322000000000003, -6.0232000000000001, -5.9645000000000001, -5.7991999999999999, -5.9888000000000003, -6.1228999999999996, -5.6279000000000003, -5.7961, -5.7550999999999997, -5.7869000000000002, -5.7152000000000003, -5.7980999999999998, -5.7134999999999998, -5.9303999999999997, -5.6002999999999998, -5.9085999999999999]}};\n",
       "\n",
       "function LDAvis_load_lib(url, callback){\n",
       "  var s = document.createElement('script');\n",
       "  s.src = url;\n",
       "  s.async = true;\n",
       "  s.onreadystatechange = s.onload = callback;\n",
       "  s.onerror = function(){console.warn(\"failed to load library \" + url);};\n",
       "  document.getElementsByTagName(\"head\")[0].appendChild(s);\n",
       "}\n",
       "\n",
       "if(typeof(LDAvis) !== \"undefined\"){\n",
       "   // already loaded: just create the visualization\n",
       "   !function(LDAvis){\n",
       "       new LDAvis(\"#\" + \"ldavis_el6234139693600051664982684879\", ldavis_el6234139693600051664982684879_data);\n",
       "   }(LDAvis);\n",
       "}else if(typeof define === \"function\" && define.amd){\n",
       "   // require.js is available: use it to load d3/LDAvis\n",
       "   require.config({paths: {d3: \"https://cdnjs.cloudflare.com/ajax/libs/d3/3.5.5/d3.min\"}});\n",
       "   require([\"d3\"], function(d3){\n",
       "      window.d3 = d3;\n",
       "      LDAvis_load_lib(\"https://cdn.rawgit.com/bmabey/pyLDAvis/files/ldavis.v1.0.0.js\", function(){\n",
       "        new LDAvis(\"#\" + \"ldavis_el6234139693600051664982684879\", ldavis_el6234139693600051664982684879_data);\n",
       "      });\n",
       "    });\n",
       "}else{\n",
       "    // require.js not available: dynamically load d3 & LDAvis\n",
       "    LDAvis_load_lib(\"https://cdnjs.cloudflare.com/ajax/libs/d3/3.5.5/d3.min.js\", function(){\n",
       "         LDAvis_load_lib(\"https://cdn.rawgit.com/bmabey/pyLDAvis/files/ldavis.v1.0.0.js\", function(){\n",
       "                 new LDAvis(\"#\" + \"ldavis_el6234139693600051664982684879\", ldavis_el6234139693600051664982684879_data);\n",
       "            })\n",
       "         });\n",
       "}\n",
       "</script>"
      ],
      "text/plain": [
       "PreparedData(topic_coordinates=            Freq  cluster  topics         x         y\n",
       "topic                                                \n",
       "1      43.675712        1       1  0.030435 -0.011894\n",
       "0      28.636818        1       2 -0.026509 -0.018098\n",
       "2      27.687471        1       3 -0.003926  0.029991, topic_info=     Category        Freq          Term       Total  loglift  logprob\n",
       "term                                                                 \n",
       "851   Default   37.000000          test   37.000000  30.0000  30.0000\n",
       "3437  Default   25.000000       airline   25.000000  29.0000  29.0000\n",
       "2422  Default  129.000000        person  129.000000  28.0000  28.0000\n",
       "1140  Default   56.000000         group   56.000000  27.0000  27.0000\n",
       "593   Default   43.000000         child   43.000000  26.0000  26.0000\n",
       "1853  Default   18.000000         qanta   18.000000  25.0000  25.0000\n",
       "757   Default   35.000000   palestinian   35.000000  24.0000  24.0000\n",
       "3183  Default   33.000000          wale   33.000000  23.0000  23.0000\n",
       "3044  Default   36.000000        centre   36.000000  22.0000  22.0000\n",
       "2351  Default   23.000000        flight   23.000000  21.0000  21.0000\n",
       "1931  Default   46.000000          hour   46.000000  20.0000  20.0000\n",
       "2464  Default  116.000000     australia  116.000000  19.0000  19.0000\n",
       "661   Default   17.000000      detainee   17.000000  18.0000  18.0000\n",
       "2457  Default   48.000000        sydney   48.000000  17.0000  17.0000\n",
       "2127  Default   25.000000      militant   25.000000  16.0000  16.0000\n",
       "325   Default    9.000000       refugee    9.000000  15.0000  15.0000\n",
       "2873  Default   11.000000        gunman   11.000000  14.0000  14.0000\n",
       "3143  Default   41.000000         state   41.000000  13.0000  13.0000\n",
       "2549  Default   19.000000        wicket   19.000000  12.0000  12.0000\n",
       "949   Default   32.000000          team   32.000000  11.0000  11.0000\n",
       "102   Default   16.000000         hamas   16.000000  10.0000  10.0000\n",
       "2111  Default   34.000000        number   34.000000   9.0000   9.0000\n",
       "2195  Default    9.000000         virus    9.000000   8.0000   8.0000\n",
       "1547  Default   36.000000          week   36.000000   7.0000   7.0000\n",
       "3254  Default    7.000000       woomera    7.000000   6.0000   6.0000\n",
       "2989  Default   68.000000        attack   68.000000   5.0000   5.0000\n",
       "965   Default   68.000000   afghanistan   68.000000   4.0000   4.0000\n",
       "1458  Default   40.000000      pakistan   40.000000   3.0000   3.0000\n",
       "109   Default   16.000000          army   16.000000   2.0000   2.0000\n",
       "1132  Default   25.000000       polouse   25.000000   1.0000   1.0000\n",
       "...       ...         ...           ...         ...      ...      ...\n",
       "791    Topic3   13.599766           way   33.653033   0.3781  -5.8262\n",
       "457    Topic3    9.772432         radio   21.961201   0.4745  -6.1567\n",
       "3469   Topic3    6.851469       problem   13.763973   0.5866  -6.5118\n",
       "1694   Topic3    7.397502         start   15.259331   0.5601  -6.4351\n",
       "142    Topic3   10.293808          work   23.795675   0.4462  -6.1047\n",
       "1038   Topic3   21.297940         today   63.918948   0.1852  -5.3776\n",
       "1931   Topic3   16.519764          hour   46.137796   0.2571  -5.6317\n",
       "1692   Topic3   21.211328          area   65.779869   0.1524  -5.3817\n",
       "884    Topic3   19.973123          time   61.517598   0.1593  -5.4418\n",
       "949    Topic3   12.593494          team   32.284527   0.3428  -5.9030\n",
       "2354   Topic3   20.102475          fire   63.934883   0.1272  -5.4354\n",
       "2904   Topic3   24.711735           day   91.674760  -0.0268  -5.2289\n",
       "3333   Topic3   25.261699    government   98.056135  -0.0721  -5.2069\n",
       "2169   Topic3    7.895483     new_south   17.051104   0.5143  -6.3699\n",
       "1853   Topic3    8.198638         qanta   18.098547   0.4923  -6.3322\n",
       "1346   Topic3   11.167314      per_cent   29.136717   0.3252  -6.0232\n",
       "3087   Topic3   11.842532         staff   32.048978   0.2886  -5.9645\n",
       "2408   Topic3   13.971238     yesterday   41.805680   0.1882  -5.7992\n",
       "1494   Topic3   11.557994      minister   31.327486   0.2871  -5.9888\n",
       "3437   Topic3   10.107526       airline   25.268230   0.3679  -6.1229\n",
       "713    Topic3   16.582083      security   56.237078   0.0629  -5.6279\n",
       "2344   Topic3   14.015395       meeting   43.123292   0.1603  -5.7961\n",
       "1608   Topic3   14.601073         world   46.283007   0.1305  -5.7551\n",
       "2307   Topic3   14.144147  united_state   47.424821   0.0743  -5.7869\n",
       "1922   Topic3   15.195149       company   61.156859  -0.1083  -5.7152\n",
       "41     Topic3   13.987025         force   53.790616  -0.0628  -5.7981\n",
       "1110   Topic3   15.221356           man   70.658805  -0.2510  -5.7135\n",
       "3382   Topic3   12.253432        leader   42.187497   0.0479  -5.9304\n",
       "2422   Topic3   17.046831        person  129.542161  -0.7439  -5.6003\n",
       "574    Topic3   12.523667         union   52.557544  -0.1501  -5.9086\n",
       "\n",
       "[259 rows x 6 columns], token_table=      Topic      Freq            Term\n",
       "term                                 \n",
       "1059      2  0.631342        abortion\n",
       "1059      3  0.315671        abortion\n",
       "1893      1  0.536429          action\n",
       "1893      2  0.238413          action\n",
       "1893      3  0.208611          action\n",
       "3280      1  0.622198          afghan\n",
       "3280      2  0.217769          afghan\n",
       "3280      3  0.186660          afghan\n",
       "965       1  0.700378     afghanistan\n",
       "965       2  0.145912     afghanistan\n",
       "965       3  0.145912     afghanistan\n",
       "985       1  0.612333       agreement\n",
       "985       2  0.174952       agreement\n",
       "985       3  0.218690       agreement\n",
       "3437      1  0.118726         airline\n",
       "3437      2  0.514480         airline\n",
       "3437      3  0.395754         airline\n",
       "2063      1  0.312281         alcohol\n",
       "2063      2  0.624561         alcohol\n",
       "207       1  0.249899       ambulance\n",
       "207       2  0.749696       ambulance\n",
       "207       3  0.249899       ambulance\n",
       "1957      2  0.838777       amendment\n",
       "2358      3  0.628736         anthony\n",
       "1841      3  0.836923      antibiotic\n",
       "1692      1  0.410460            area\n",
       "1692      2  0.258438            area\n",
       "1692      3  0.319247            area\n",
       "109       1  0.307961            army\n",
       "109       2  0.554330            army\n",
       "...     ...       ...             ...\n",
       "3183      3  0.481597            wale\n",
       "794       1  0.433821             war\n",
       "794       2  0.371847             war\n",
       "794       3  0.185923             war\n",
       "791       1  0.416010             way\n",
       "791       2  0.178290             way\n",
       "791       3  0.416010             way\n",
       "1547      1  0.388289            week\n",
       "1547      2  0.194145            week\n",
       "1547      3  0.416024            week\n",
       "2549      1  0.200089          wicket\n",
       "2549      2  0.300133          wicket\n",
       "2549      3  0.500222          wicket\n",
       "3254      1  0.139154         woomera\n",
       "3254      2  0.695771         woomera\n",
       "3254      3  0.139154         woomera\n",
       "142       1  0.420244            work\n",
       "142       2  0.168098            work\n",
       "142       3  0.420244            work\n",
       "1608      1  0.453730           world\n",
       "1608      2  0.237668           world\n",
       "1608      3  0.324093           world\n",
       "2073      1  0.691764  world_heritage\n",
       "144       1  0.860906            worm\n",
       "1192      1  0.440823            year\n",
       "1192      2  0.204668            year\n",
       "1192      3  0.346361            year\n",
       "2408      1  0.382723       yesterday\n",
       "2408      2  0.287042       yesterday\n",
       "2408      3  0.334883       yesterday\n",
       "\n",
       "[434 rows x 3 columns], R=30, lambda_step=0.01, plot_opts={'xlab': 'PC1', 'ylab': 'PC2'}, topic_order=[2, 1, 3])"
      ]
     },
     "execution_count": 97,
     "metadata": {},
     "output_type": "execute_result"
    }
   ],
   "source": [
    "pyLDAvis.gensim.prepare(lmlist[2], corpus, dictionary)"
   ]
  },
  {
   "cell_type": "code",
   "execution_count": 96,
   "metadata": {
    "collapsed": false,
    "nbpresent": {
     "id": "699e2ddb-add6-4134-a723-1bb37029f013"
    }
   },
   "outputs": [],
   "source": [
    "lmtopics = lmlist[5].show_topics(formatted=False)"
   ]
  },
  {
   "cell_type": "markdown",
   "metadata": {
    "nbpresent": {
     "id": "caa35df4-b625-4246-bc1f-42c561f31486"
    }
   },
   "source": [
    "### LDA as LSI"
   ]
  },
  {
   "cell_type": "markdown",
   "metadata": {
    "nbpresent": {
     "id": "d2aa5aac-acc7-41c9-96d4-5410c0d8a14b"
    }
   },
   "source": [
    "One of the problem with LDA is that if we train it on a large number of topics, the topics get \"lost\" among the numbers. Let us see if we can dig out the best topics from the best LDA model we can produce. The function below can be used to control the quality of the LDA model we produce."
   ]
  },
  {
   "cell_type": "code",
   "execution_count": 76,
   "metadata": {
    "collapsed": false,
    "nbpresent": {
     "id": "c39406c8-1e69-4249-91ac-894338d4053b"
    }
   },
   "outputs": [],
   "source": [
    "def ret_top_model():\n",
    "    \"\"\"\n",
    "    Since LDAmodel is a probabilistic model, it comes up different topics each time we run it. To control the\n",
    "    quality of the topic model we produce, we can see what the interpretability of the best topic is and keep\n",
    "    evaluating the topic model until this threshold is crossed. \n",
    "    \n",
    "    Returns:\n",
    "    -------\n",
    "    lm: Final evaluated topic model\n",
    "    top_topics: ranked topics in decreasing order. List of tuples\n",
    "    \"\"\"\n",
    "    top_topics = [(0, 0)]\n",
    "    while top_topics[0][1] < 0.97:\n",
    "        lm = LdaModel(corpus=corpus, id2word=dictionary)\n",
    "        coherence_values = {}\n",
    "        for n, topic in lm.show_topics(num_topics=-1, formatted=False):\n",
    "            topic = [word for word, _ in topic]\n",
    "            cm = CoherenceModel(topics=[topic], texts=train_texts, dictionary=dictionary, window_size=10)\n",
    "            coherence_values[n] = cm.get_coherence()\n",
    "        top_topics = sorted(coherence_values.items(), key=operator.itemgetter(1), reverse=True)\n",
    "    return lm, top_topics"
   ]
  },
  {
   "cell_type": "code",
   "execution_count": 70,
   "metadata": {
    "collapsed": true,
    "nbpresent": {
     "id": "6b8eef4a-a87d-42bd-84dd-586610828698"
    }
   },
   "outputs": [],
   "source": [
    "lm, top_topics = ret_top_model()"
   ]
  },
  {
   "cell_type": "code",
   "execution_count": 79,
   "metadata": {
    "collapsed": false,
    "nbpresent": {
     "id": "43870992-c2ff-47cf-8b6b-f62855673b42"
    }
   },
   "outputs": [
    {
     "name": "stdout",
     "output_type": "stream",
     "text": [
      "[(91, 0.99286550077029223), (42, 0.96031455145699274), (54, 0.87011963575683104), (2, 0.84575428129030361), (10, 0.83238343784453017)]\n"
     ]
    }
   ],
   "source": [
    "print(top_topics[:5])"
   ]
  },
  {
   "cell_type": "markdown",
   "metadata": {},
   "source": [
    "### Inference\n",
    "We can clearly see below that the first topic is about __cinema__, second is about __email malware__, third is about the land which was given back to the __Larrakia aboriginal community of Australia__ in 2000. Then there's one about __Australian cricket__. LDA as LSI has worked wonderfully in finding out the best topics from within LDA."
   ]
  },
  {
   "cell_type": "code",
   "execution_count": 78,
   "metadata": {
    "collapsed": false,
    "nbpresent": {
     "id": "281d1434-ce22-46c6-ba53-71a24a476568"
    }
   },
   "outputs": [
    {
     "name": "stdout",
     "output_type": "stream",
     "text": [
      "[[(u'actor', 0.034688196735986693),\n",
      "  (u'picture', 0.023163878883499418),\n",
      "  (u'award', 0.023163878883499418),\n",
      "  (u'comedy', 0.023163878883499418),\n",
      "  (u'globe', 0.023163878883499418),\n",
      "  (u'nomination', 0.023163878883499418),\n",
      "  (u'actress', 0.023163878883499418),\n",
      "  (u'film', 0.023163878883499418),\n",
      "  (u'drama', 0.011639561031012149),\n",
      "  (u'winner', 0.011639561031012149)],\n",
      " [(u'virus', 0.064292949289013482),\n",
      "  (u'user', 0.048074573973209883),\n",
      "  (u'computer', 0.040350900997751814),\n",
      "  (u'company', 0.028173623478117912),\n",
      "  (u'email', 0.022580226976870982),\n",
      "  (u'worm', 0.020928236506996975),\n",
      "  (u'attachment', 0.014534311779706417),\n",
      "  (u'outlook', 0.01260706654637953),\n",
      "  (u'software', 0.011909411409069969),\n",
      "  (u'list', 0.0088116041533348403)],\n",
      " [(u'claim', 0.0096511365969504694),\n",
      "  (u'agreement', 0.0082836950379963047),\n",
      "  (u'hectare', 0.0077564979304569235),\n",
      "  (u'larrakia', 0.0065928813973845394),\n",
      "  (u'rosebury', 0.006086042494624749),\n",
      "  (u'term', 0.004880655853124416),\n",
      "  (u'region', 0.004786636929111303),\n",
      "  (u'title', 0.0045026307214029735),\n",
      "  (u'palmerston', 0.0043726827115423677),\n",
      "  (u'developer', 0.0040102561358092521)],\n",
      " [(u'government', 0.046880132726190141),\n",
      "  (u'razor', 0.035772624674521684),\n",
      "  (u'gang', 0.034958865711441162),\n",
      "  (u'minister', 0.023615858300345904),\n",
      "  (u'interest', 0.023531518290467797),\n",
      "  (u'taxpayer', 0.023484887279677492),\n",
      "  (u'nelson', 0.023408331025582648),\n",
      "  (u'spending', 0.023363131530296326),\n",
      "  (u'program', 0.022809499664362586),\n",
      "  (u'colleague', 0.012039863390851384)],\n",
      " [(u'australia', 0.019022701887671096),\n",
      "  (u'outlook', 0.012806577991883974),\n",
      "  (u'price', 0.012017645637892888),\n",
      "  (u'growth', 0.011021360611214826),\n",
      "  (u'world', 0.010586500333515535),\n",
      "  (u'imf', 0.0074848683800558145),\n",
      "  (u'half', 0.0073080219523406773),\n",
      "  (u'release', 0.0073069514968024446),\n",
      "  (u'oil', 0.0071307771829650724),\n",
      "  (u'weakening', 0.0067585126681211785)],\n",
      " [(u'role', 0.036823234375415084),\n",
      "  (u'heart', 0.018676496748175567),\n",
      "  (u'mcreddie', 0.018520830095514161),\n",
      "  (u'sir', 0.018430691138823303),\n",
      "  (u'actor', 0.018423768093119148),\n",
      "  (u'attack', 0.018421603513127272),\n",
      "  (u'minister', 0.018330977218667187),\n",
      "  (u'cancer', 0.018246768643902407),\n",
      "  (u'servant', 0.018246520413261125),\n",
      "  (u'friend', 0.018230140539399531)],\n",
      " [(u'australia', 0.038230610979973961),\n",
      "  (u'test', 0.03039802044037989),\n",
      "  (u'day', 0.026478028361575149),\n",
      "  (u'adam', 0.023237227270639361),\n",
      "  (u'wicket', 0.018060239149805601),\n",
      "  (u'match', 0.015652900511647725),\n",
      "  (u'gilchrist', 0.015206348827236857),\n",
      "  (u'steve_waugh', 0.01496754571623464),\n",
      "  (u'south_africa', 0.013902623982144873),\n",
      "  (u'selector', 0.012332915474867073)],\n",
      " [(u'product', 0.067729999063555119),\n",
      "  (u'food', 0.033921347284742248),\n",
      "  (u'consumer', 0.033921347284742241),\n",
      "  (u'company', 0.033921347284742241),\n",
      "  (u'hooke', 0.022651796691804622),\n",
      "  (u'law', 0.022651796691804622),\n",
      "  (u'grocery', 0.022651796691804622),\n",
      "  (u'technology', 0.022651796691804622),\n",
      "  (u'sultan', 0.014079780537934588),\n",
      "  (u'stage', 0.013736597864617922)],\n",
      " [(u'credit', 0.020223411999648302),\n",
      "  (u'way', 0.017706515460000523),\n",
      "  (u'bank', 0.017459639386736926),\n",
      "  (u'card', 0.016308335204832106),\n",
      "  (u'consumer', 0.014565787979687885),\n",
      "  (u'reserve_bank', 0.014365008462949415),\n",
      "  (u'association', 0.011448453247788988),\n",
      "  (u'rate', 0.010363334709658676),\n",
      "  (u'movement', 0.010204675471073506),\n",
      "  (u'inquiry', 0.0093452022355641085)],\n",
      " [(u'fire', 0.045611922604745642),\n",
      "  (u'area', 0.021994719721821848),\n",
      "  (u'firefighter', 0.018748173264525044),\n",
      "  (u'sydney', 0.016599279291396325),\n",
      "  (u'wind', 0.014270025525472343),\n",
      "  (u'property', 0.0098028785236429564),\n",
      "  (u'hour', 0.0097079779464512347),\n",
      "  (u'today', 0.0093953004964965076),\n",
      "  (u'year', 0.0089216764257795157),\n",
      "  (u'state', 0.0086116373269496185)]]\n"
     ]
    }
   ],
   "source": [
    "pprint([lm.show_topic(topicid) for topicid, c_v in top_topics[:10]])"
   ]
  },
  {
   "cell_type": "code",
   "execution_count": 98,
   "metadata": {
    "collapsed": false,
    "nbpresent": {
     "id": "ada914a2-bacb-4300-8ce3-f1332843d24c"
    }
   },
   "outputs": [],
   "source": [
    "lda_lsi_topics = [[word for word, prob in lm.show_topic(topicid)] for topicid, c_v in top_topics]"
   ]
  },
  {
   "cell_type": "markdown",
   "metadata": {
    "nbpresent": {
     "id": "4f313370-b5f0-4754-9744-157da0447fc4"
    }
   },
   "source": [
    "### Evaluating all the topic models\n",
    "Any topic model which can come up with topic terms can be plugged into the coherence pipeline. You can even plug in an [NMF topic model](http://derekgreene.com/nmf-topic/) created with scikit-learn."
   ]
  },
  {
   "cell_type": "code",
   "execution_count": 99,
   "metadata": {
    "collapsed": false,
    "nbpresent": {
     "id": "4329af31-21b4-4570-903a-6df3715244c7"
    }
   },
   "outputs": [],
   "source": [
    "lsitopics = [[word for word, prob in topic] for topicid, topic in lsitopics]\n",
    "\n",
    "hdptopics = [[word for word, prob in topic] for topicid, topic in hdptopics]\n",
    "\n",
    "ldatopics = [[word for word, prob in topic] for topicid, topic in ldatopics]\n",
    "\n",
    "lmtopics = [[word for word, prob in topic] for topicid, topic in lmtopics]"
   ]
  },
  {
   "cell_type": "code",
   "execution_count": 100,
   "metadata": {
    "collapsed": true,
    "nbpresent": {
     "id": "0924faf0-a957-4d12-b35c-b50ebb30f370"
    }
   },
   "outputs": [],
   "source": [
    "lsi_coherence = CoherenceModel(topics=lsitopics[:10], texts=train_texts, dictionary=dictionary, window_size=10).get_coherence()\n",
    "\n",
    "hdp_coherence = CoherenceModel(topics=hdptopics[:10], texts=train_texts, dictionary=dictionary, window_size=10).get_coherence()\n",
    "\n",
    "lda_coherence = CoherenceModel(topics=ldatopics, texts=train_texts, dictionary=dictionary, window_size=10).get_coherence()\n",
    "\n",
    "lm_coherence = CoherenceModel(topics=lmtopics, texts=train_texts, dictionary=dictionary, window_size=10).get_coherence()\n",
    "\n",
    "lda_lsi_coherence = CoherenceModel(topics=lda_lsi_topics[:10], texts=train_texts, dictionary=dictionary, window_size=10).get_coherence()"
   ]
  },
  {
   "cell_type": "code",
   "execution_count": 101,
   "metadata": {
    "collapsed": true,
    "nbpresent": {
     "id": "59cc671f-041a-4d6f-a609-f1b9855aa05c"
    }
   },
   "outputs": [],
   "source": [
    "def evaluate_bar_graph(coherences, indices):\n",
    "    \"\"\"\n",
    "    Function to plot bar graph.\n",
    "    \n",
    "    coherences: list of coherence values\n",
    "    indices: Indices to be used to mark bars. Length of this and coherences should be equal.\n",
    "    \"\"\"\n",
    "    assert len(coherences) == len(indices)\n",
    "    n = len(coherences)\n",
    "    x = np.arange(n)\n",
    "    plt.bar(x, coherences, width=0.2, tick_label=indices, align='center')\n",
    "    plt.xlabel('Models')\n",
    "    plt.ylabel('Coherence Value')"
   ]
  },
  {
   "cell_type": "code",
   "execution_count": 102,
   "metadata": {
    "collapsed": false,
    "nbpresent": {
     "id": "b86ba0c1-c7c4-43a5-a9f5-8dfe7967be6c"
    }
   },
   "outputs": [
    {
     "data": {
      "image/png": "[encoded data removed]",
      "text/plain": [
       "<matplotlib.figure.Figure at 0x7f0ce8179250>"
      ]
     },
     "metadata": {},
     "output_type": "display_data"
    }
   ],
   "source": [
    "evaluate_bar_graph([lsi_coherence, hdp_coherence, lda_coherence, lm_coherence, lda_lsi_coherence],\n",
    "                   ['LSI', 'HDP', 'LDA', 'LDA_Mod', 'LDA_LSI'])"
   ]
  },
  {
   "cell_type": "markdown",
   "metadata": {
    "nbpresent": {
     "id": "df6cc31a-0b01-4700-b210-836dd510007a"
    }
   },
   "source": [
    "### Customizing the topic coherence measure\n",
    "Till now we only used the `c_v` coherence measure. There are others such as `u_mass`, `c_uci`, `c_npmi`. All of these calculate coherence in a different way. `c_v` is found to be most in line with human ratings but can be much slower than `u_mass` since it uses a sliding window over the texts."
   ]
  },
  {
   "cell_type": "markdown",
   "metadata": {
    "nbpresent": {
     "id": "664fa23d-ba6e-4a30-9287-e4fef1cc093e"
    }
   },
   "source": [
    "### Making your own coherence measure\n",
    "Let's modify `c_uci` to use `s_one_pre` instead of `s_one_one` segmentation"
   ]
  },
  {
   "cell_type": "code",
   "execution_count": 47,
   "metadata": {
    "collapsed": true,
    "nbpresent": {
     "id": "b3652f43-da03-4027-9170-83e1679dfa2b"
    }
   },
   "outputs": [],
   "source": [
    "from gensim.topic_coherence import (segmentation, probability_estimation,\n",
    "                                    direct_confirmation_measure, indirect_confirmation_measure,\n",
    "                                    aggregation)\n",
    "from gensim.matutils import argsort\n",
    "from collections import namedtuple"
   ]
  },
  {
   "cell_type": "code",
   "execution_count": 48,
   "metadata": {
    "collapsed": false,
    "nbpresent": {
     "id": "8ce2b802-f0c1-4ffc-9ce5-c2792856b5b4"
    }
   },
   "outputs": [],
   "source": [
    "make_pipeline = namedtuple('Coherence_Measure', 'seg, prob, conf, aggr')"
   ]
  },
  {
   "cell_type": "code",
   "execution_count": 49,
   "metadata": {
    "collapsed": true,
    "nbpresent": {
     "id": "9994e7f0-f366-40da-9c14-76e8142ee46e"
    }
   },
   "outputs": [],
   "source": [
    "measure = make_pipeline(segmentation.s_one_one,\n",
    "                        probability_estimation.p_boolean_sliding_window,\n",
    "                        direct_confirmation_measure.log_ratio_measure,\n",
    "                        aggregation.arithmetic_mean)"
   ]
  },
  {
   "cell_type": "markdown",
   "metadata": {
    "nbpresent": {
     "id": "416f5820-1538-4483-a77f-5211c8179891"
    }
   },
   "source": [
    "To get topics out of the topic model:"
   ]
  },
  {
   "cell_type": "code",
   "execution_count": 50,
   "metadata": {
    "collapsed": true,
    "nbpresent": {
     "id": "aa9d35ae-c458-49d2-bdbe-d93d5cb3ba9c"
    }
   },
   "outputs": [],
   "source": [
    "topics = []\n",
    "for topic in lm.state.get_lambda():\n",
    "    bestn = argsort(topic, topn=10, reverse=True)\n",
    "topics.append(bestn)"
   ]
  },
  {
   "cell_type": "markdown",
   "metadata": {
    "nbpresent": {
     "id": "13f246a0-918e-44c1-ae19-7af118d83585"
    }
   },
   "source": [
    "__Step 1__: Segmentation"
   ]
  },
  {
   "cell_type": "code",
   "execution_count": 51,
   "metadata": {
    "collapsed": true,
    "nbpresent": {
     "id": "821ab68b-c377-40b1-bdf3-b92d66414383"
    }
   },
   "outputs": [],
   "source": [
    "# Perform segmentation\n",
    "segmented_topics = measure.seg(topics)"
   ]
  },
  {
   "cell_type": "markdown",
   "metadata": {
    "nbpresent": {
     "id": "e4b50714-b644-4213-b3cb-bdac9fe22476"
    }
   },
   "source": [
    "__Step 2__: Probability estimation"
   ]
  },
  {
   "cell_type": "code",
   "execution_count": 52,
   "metadata": {
    "collapsed": false,
    "nbpresent": {
     "id": "d8a8bcc6-8b37-4d4f-ad06-903804776078"
    }
   },
   "outputs": [],
   "source": [
    "# Since this is a window-based coherence measure we will perform window based prob estimation\n",
    "per_topic_postings, num_windows = measure.prob(texts=train_texts, segmented_topics=segmented_topics,\n",
    "                                               dictionary=dictionary, window_size=2)"
   ]
  },
  {
   "cell_type": "markdown",
   "metadata": {
    "nbpresent": {
     "id": "6f302dcb-787b-42b0-98f0-1df0a163a818"
    }
   },
   "source": [
    "__Step 3__: Confirmation Measure"
   ]
  },
  {
   "cell_type": "code",
   "execution_count": 53,
   "metadata": {
    "collapsed": true,
    "nbpresent": {
     "id": "ffb5aaa9-5fa1-4b28-ba2f-e23525caa392"
    }
   },
   "outputs": [],
   "source": [
    "confirmed_measures = measure.conf(segmented_topics, per_topic_postings, num_windows, normalize=False)"
   ]
  },
  {
   "cell_type": "markdown",
   "metadata": {
    "nbpresent": {
     "id": "3544f061-6870-4630-bd54-79f75decf8b6"
    }
   },
   "source": [
    "__Step 4__: Aggregation"
   ]
  },
  {
   "cell_type": "code",
   "execution_count": 54,
   "metadata": {
    "collapsed": false,
    "nbpresent": {
     "id": "31c64f41-a499-4f80-8ccd-1364940f7383"
    }
   },
   "outputs": [
    {
     "name": "stdout",
     "output_type": "stream",
     "text": [
      "-11.2873225334\n"
     ]
    }
   ],
   "source": [
    "print(measure.aggr(confirmed_measures))"
   ]
  },
  {
   "cell_type": "markdown",
   "metadata": {},
   "source": [
    "# How this topic model can be used further\n",
    "The best topic model here can be used as a standalone for news article classification. However a topic model can also be used as a dimensionality reduction algorithm to feed into a classifier. A good topic model should be able to extract the signal from the noise efficiently, hence improving the performance of the classifier."
   ]
  }
 ],
 "metadata": {
  "anaconda-cloud": {},
  "kernelspec": {
   "display_name": "Python 2",
   "language": "python",
   "name": "python2"
  },
  "language_info": {
   "codemirror_mode": {
    "name": "ipython",
    "version": 2
   },
   "file_extension": ".py",
   "mimetype": "text/x-python",
   "name": "python",
   "nbconvert_exporter": "python",
   "pygments_lexer": "ipython2",
   "version": "2.7.12"
  },
  "nbpresent": {
   "slides": {
    "04abaf09-1754-419e-9cf8-3c4f0accfc5f": {
     "id": "04abaf09-1754-419e-9cf8-3c4f0accfc5f",
     "prev": "67c9421a-0e61-4346-873f-bf3769d00c97",
     "regions": {
      "48b5cd39-b89b-4e2f-be2a-47a0fccafd3b": {
       "attrs": {
        "height": 0.8,
        "width": 0.8,
        "x": 0.1,
        "y": 0.1
       },
       "content": {
        "cell": "862c087b-b918-47b9-b0cf-42b71996e061",
        "part": "whole"
       },
       "id": "48b5cd39-b89b-4e2f-be2a-47a0fccafd3b"
      }
     }
    },
    "0527f44a-39b6-4cf8-9802-d16b8cd34754": {
     "id": "0527f44a-39b6-4cf8-9802-d16b8cd34754",
     "prev": "103c32ed-02bc-4365-a431-5acd77fe6585",
     "regions": {
      "ed3805ae-4076-41ad-a578-69a0b2356f95": {
       "attrs": {
        "height": 0.8,
        "width": 0.8,
        "x": 0.1,
        "y": 0.1
       },
       "content": {
        "cell": "b3652f43-da03-4027-9170-83e1679dfa2b",
        "part": "whole"
       },
       "id": "ed3805ae-4076-41ad-a578-69a0b2356f95"
      }
     }
    },
    "05fa6235-ac93-41b7-9975-3fee534b0c94": {
     "id": "05fa6235-ac93-41b7-9975-3fee534b0c94",
     "prev": "e44d6d8f-7236-458f-a308-36142bc72ff4",
     "regions": {
      "3e316a57-509e-404e-a89b-bde56696b966": {
       "attrs": {
        "height": 0.8,
        "width": 0.8,
        "x": 0.1,
        "y": 0.1
       },
       "content": {
        "cell": "c39406c8-1e69-4249-91ac-894338d4053b",
        "part": "whole"
       },
       "id": "3e316a57-509e-404e-a89b-bde56696b966"
      }
     }
    },
    "0e2565e0-a21d-4dbb-a4b3-8698e797c45d": {
     "id": "0e2565e0-a21d-4dbb-a4b3-8698e797c45d",
     "prev": "11baa747-dc0e-430a-8f38-65331394d2fd",
     "regions": {
      "2e423579-bece-40ca-ba30-122f49d93655": {
       "attrs": {
        "height": 0.8,
        "width": 0.8,
        "x": 0.1,
        "y": 0.1
       },
       "content": {
        "cell": "e4b50714-b644-4213-b3cb-bdac9fe22476",
        "part": "whole"
       },
       "id": "2e423579-bece-40ca-ba30-122f49d93655"
      }
     }
    },
    "103c32ed-02bc-4365-a431-5acd77fe6585": {
     "id": "103c32ed-02bc-4365-a431-5acd77fe6585",
     "prev": "23b717ee-a57c-42c5-9959-c8a314a329c6",
     "regions": {
      "aa966e74-db8d-473a-9ee6-8cad8e7407f3": {
       "attrs": {
        "height": 0.8,
        "width": 0.8,
        "x": 0.1,
        "y": 0.1
       },
       "content": {
        "cell": "664fa23d-ba6e-4a30-9287-e4fef1cc093e",
        "part": "whole"
       },
       "id": "aa966e74-db8d-473a-9ee6-8cad8e7407f3"
      }
     }
    },
    "10763d44-d64e-46c7-a164-8b92d219e71d": {
     "id": "10763d44-d64e-46c7-a164-8b92d219e71d",
     "prev": "d84b78ed-e79f-4657-b62b-eeff30c4fe8d",
     "regions": {
      "a27ddbe9-cfa8-49fe-b284-3567ebbfb1c7": {
       "attrs": {
        "height": 0.8,
        "width": 0.8,
        "x": 0.1,
        "y": 0.1
       },
       "content": {
        "cell": "43870992-c2ff-47cf-8b6b-f62855673b42",
        "part": "whole"
       },
       "id": "a27ddbe9-cfa8-49fe-b284-3567ebbfb1c7"
      }
     }
    },
    "11baa747-dc0e-430a-8f38-65331394d2fd": {
     "id": "11baa747-dc0e-430a-8f38-65331394d2fd",
     "prev": "a2c51720-8844-4953-94a8-55d723ec2499",
     "regions": {
      "6d7e8f18-6703-4c31-8353-4a714df2d33f": {
       "attrs": {
        "height": 0.8,
        "width": 0.8,
        "x": 0.1,
        "y": 0.1
       },
       "content": {
        "cell": "821ab68b-c377-40b1-bdf3-b92d66414383",
        "part": "whole"
       },
       "id": "6d7e8f18-6703-4c31-8353-4a714df2d33f"
      }
     }
    },
    "12513a0d-3e80-464d-9285-3bdd87e0b9c0": {
     "id": "12513a0d-3e80-464d-9285-3bdd87e0b9c0",
     "prev": "e71a7d3a-c9bb-4db0-9597-95b9b3233d3b",
     "regions": {
      "5fb06a62-1d61-417a-9c02-3fa7fa00fee1": {
       "attrs": {
        "height": 0.8,
        "width": 0.8,
        "x": 0.1,
        "y": 0.1
       },
       "content": {
        "cell": "416f5820-1538-4483-a77f-5211c8179891",
        "part": "whole"
       },
       "id": "5fb06a62-1d61-417a-9c02-3fa7fa00fee1"
      }
     }
    },
    "13c7e576-8024-4b19-8874-d65c24a9ee0f": {
     "id": "13c7e576-8024-4b19-8874-d65c24a9ee0f",
     "prev": "b6050bf2-3f03-47ef-9510-80c01755a79e",
     "regions": {
      "45c58bb7-75a4-4434-b5fa-59f7ad56e7d6": {
       "attrs": {
        "height": 0.8,
        "width": 0.8,
        "x": 0.1,
        "y": 0.1
       },
       "content": {
        "cell": "2c5b03e0-ce0f-4999-8fe1-820a9fe06873",
        "part": "whole"
       },
       "id": "45c58bb7-75a4-4434-b5fa-59f7ad56e7d6"
      }
     }
    },
    "23b717ee-a57c-42c5-9959-c8a314a329c6": {
     "id": "23b717ee-a57c-42c5-9959-c8a314a329c6",
     "prev": "4033c3a0-0021-4cbc-a589-50c63550217b",
     "regions": {
      "ca7e045e-962d-47e3-a594-eafdf7424671": {
       "attrs": {
        "height": 0.8,
        "width": 0.8,
        "x": 0.1,
        "y": 0.1
       },
       "content": {
        "cell": "df6cc31a-0b01-4700-b210-836dd510007a",
        "part": "whole"
       },
       "id": "ca7e045e-962d-47e3-a594-eafdf7424671"
      }
     }
    },
    "257bf09e-bd55-4957-97ea-4d3c8b85016a": {
     "id": "257bf09e-bd55-4957-97ea-4d3c8b85016a",
     "prev": null,
     "regions": {
      "cf220469-7ef0-4fb9-80b4-cbdb55aa86db": {
       "attrs": {
        "height": 0.8,
        "width": 0.8,
        "x": 0.1,
        "y": 0.1
       },
       "content": {
        "cell": "e0085648-0300-4087-9b12-ee7d2392ce4f",
        "part": "whole"
       },
       "id": "cf220469-7ef0-4fb9-80b4-cbdb55aa86db"
      }
     }
    },
    "280f0473-61ec-4b88-b9d4-172e734fd0a5": {
     "id": "280f0473-61ec-4b88-b9d4-172e734fd0a5",
     "prev": "d7495fd8-cfb5-42ee-a0eb-86679c419bae",
     "regions": {
      "c58169da-ccea-4657-95a3-fc1e5fba3ac3": {
       "attrs": {
        "height": 0.8,
        "width": 0.8,
        "x": 0.1,
        "y": 0.1
       },
       "content": {
        "cell": "f4d505e5-5e90-4770-aaae-04ae05d697b5",
        "part": "whole"
       },
       "id": "c58169da-ccea-4657-95a3-fc1e5fba3ac3"
      }
     }
    },
    "2e4a9702-f7a2-48a5-bd13-2087e9216b38": {
     "id": "2e4a9702-f7a2-48a5-bd13-2087e9216b38",
     "prev": "04abaf09-1754-419e-9cf8-3c4f0accfc5f",
     "regions": {
      "b31a05d5-a8fe-40d2-a368-cc39f50ee938": {
       "attrs": {
        "height": 0.8,
        "width": 0.8,
        "x": 0.1,
        "y": 0.1
       },
       "content": {
        "cell": "1181e3a8-6803-4f41-9d55-397f3d700c28",
        "part": "whole"
       },
       "id": "b31a05d5-a8fe-40d2-a368-cc39f50ee938"
      }
     }
    },
    "4033c3a0-0021-4cbc-a589-50c63550217b": {
     "id": "4033c3a0-0021-4cbc-a589-50c63550217b",
     "prev": "c68aae9d-645c-4cbf-9dc1-92ed9aa0f5d3",
     "regions": {
      "55173d13-adca-4e7f-a760-92bd299e6c40": {
       "attrs": {
        "height": 0.8,
        "width": 0.8,
        "x": 0.1,
        "y": 0.1
       },
       "content": {
        "cell": "b86ba0c1-c7c4-43a5-a9f5-8dfe7967be6c",
        "part": "whole"
       },
       "id": "55173d13-adca-4e7f-a760-92bd299e6c40"
      }
     }
    },
    "479d81b5-3b8b-4ddf-bbfe-6ae6ff33c2fa": {
     "id": "479d81b5-3b8b-4ddf-bbfe-6ae6ff33c2fa",
     "prev": "280f0473-61ec-4b88-b9d4-172e734fd0a5",
     "regions": {
      "6c334c87-c8a0-4328-b310-6be0e9a89532": {
       "attrs": {
        "height": 0.8,
        "width": 0.8,
        "x": 0.1,
        "y": 0.1
       },
       "content": {
        "cell": "4dbde9d2-3a9d-4677-8dd4-90066c0cb7c4",
        "part": "whole"
       },
       "id": "6c334c87-c8a0-4328-b310-6be0e9a89532"
      }
     }
    },
    "488af944-ad92-49c5-9d1d-ccdb1e929dce": {
     "id": "488af944-ad92-49c5-9d1d-ccdb1e929dce",
     "prev": "13c7e576-8024-4b19-8874-d65c24a9ee0f",
     "regions": {
      "fb1eddce-8820-408b-8b73-3a1654b93816": {
       "attrs": {
        "height": 0.8,
        "width": 0.8,
        "x": 0.1,
        "y": 0.1
       },
       "content": {
        "cell": "7da56259-bbf2-4f63-93f6-033833ae4494",
        "part": "whole"
       },
       "id": "fb1eddce-8820-408b-8b73-3a1654b93816"
      }
     }
    },
    "4af127dc-0330-4f8e-b907-3e409ba31a06": {
     "id": "4af127dc-0330-4f8e-b907-3e409ba31a06",
     "prev": "fbd9f3b3-f9b0-4886-b987-3f9d0ca983bc",
     "regions": {
      "1f9e4115-c1c7-4e4c-a262-648adc28ad2a": {
       "attrs": {
        "height": 0.8,
        "width": 0.8,
        "x": 0.1,
        "y": 0.1
       },
       "content": {
        "cell": "3d784001-6875-4be5-b8e8-e6c490f5b7b4",
        "part": "whole"
       },
       "id": "1f9e4115-c1c7-4e4c-a262-648adc28ad2a"
      }
     }
    },
    "67c9421a-0e61-4346-873f-bf3769d00c97": {
     "id": "67c9421a-0e61-4346-873f-bf3769d00c97",
     "prev": "efc03832-2e6d-4250-8ac5-f4c13cfdb733",
     "regions": {
      "d9b839cd-46ac-451d-bb1b-3edd613c0ba3": {
       "attrs": {
        "height": 0.8,
        "width": 0.8,
        "x": 0.1,
        "y": 0.1
       },
       "content": {
        "cell": "3ca3d45b-a28b-41c7-b5de-4c124c50d13d",
        "part": "whole"
       },
       "id": "d9b839cd-46ac-451d-bb1b-3edd613c0ba3"
      }
     }
    },
    "78837f0a-d7b6-48ae-b64e-3a2af8286ccc": {
     "id": "78837f0a-d7b6-48ae-b64e-3a2af8286ccc",
     "prev": "bb7417b1-270b-4977-bbf3-606a574c38ec",
     "regions": {
      "37ced915-20bf-49cd-9691-82e9fdcfe211": {
       "attrs": {
        "height": 0.8,
        "width": 0.8,
        "x": 0.1,
        "y": 0.1
       },
       "content": {
        "cell": "b1a8c7b4-dc46-4bfe-b17b-d604f212b389",
        "part": "whole"
       },
       "id": "37ced915-20bf-49cd-9691-82e9fdcfe211"
      }
     }
    },
    "7f7b5da4-7345-442b-8cd5-662cfba97db9": {
     "id": "7f7b5da4-7345-442b-8cd5-662cfba97db9",
     "prev": "f6d5269c-54db-4887-b274-d00572aead72",
     "regions": {
      "5fcadbcf-4f67-4bd7-bc4c-0e9db215581c": {
       "attrs": {
        "height": 0.8,
        "width": 0.8,
        "x": 0.1,
        "y": 0.1
       },
       "content": {
        "cell": "a02b72fb-0049-4ec3-825f-179e396f3904",
        "part": "whole"
       },
       "id": "5fcadbcf-4f67-4bd7-bc4c-0e9db215581c"
      }
     }
    },
    "823091e1-74b1-44e3-af50-388881c30968": {
     "id": "823091e1-74b1-44e3-af50-388881c30968",
     "prev": "e24d4b0b-34e2-46de-a99d-a4be39ca2951",
     "regions": {
      "cd97517e-4f86-48bd-9496-92ebad8c97cf": {
       "attrs": {
        "height": 0.8,
        "width": 0.8,
        "x": 0.1,
        "y": 0.1
       },
       "content": {
        "cell": "ffb5aaa9-5fa1-4b28-ba2f-e23525caa392",
        "part": "whole"
       },
       "id": "cd97517e-4f86-48bd-9496-92ebad8c97cf"
      }
     }
    },
    "845fbe01-dd28-4ad8-9eb5-d13c49f6772c": {
     "id": "845fbe01-dd28-4ad8-9eb5-d13c49f6772c",
     "prev": "87040bd6-a3e9-4785-97e0-08d7e7c5b8ef",
     "regions": {
      "1b5a1350-c3d1-43d8-bbc3-90ac260b5a8b": {
       "attrs": {
        "height": 0.8,
        "width": 0.8,
        "x": 0.1,
        "y": 0.1
       },
       "content": {
        "cell": "bcbc3313-3a57-4923-b330-69691eaf7535",
        "part": "whole"
       },
       "id": "1b5a1350-c3d1-43d8-bbc3-90ac260b5a8b"
      }
     }
    },
    "8541226b-6ff1-4700-a399-71e3cf68d91b": {
     "id": "8541226b-6ff1-4700-a399-71e3cf68d91b",
     "prev": "10763d44-d64e-46c7-a164-8b92d219e71d",
     "regions": {
      "7c4c47d8-a698-4e96-a411-556d9ad6b15b": {
       "attrs": {
        "height": 0.8,
        "width": 0.8,
        "x": 0.1,
        "y": 0.1
       },
       "content": {
        "cell": "281d1434-ce22-46c6-ba53-71a24a476568",
        "part": "whole"
       },
       "id": "7c4c47d8-a698-4e96-a411-556d9ad6b15b"
      }
     }
    },
    "87040bd6-a3e9-4785-97e0-08d7e7c5b8ef": {
     "id": "87040bd6-a3e9-4785-97e0-08d7e7c5b8ef",
     "prev": "ad16016c-8a9e-49da-a3d2-5ab56ca11579",
     "regions": {
      "cc35a589-c8c7-459f-893d-102c0d77bee3": {
       "attrs": {
        "height": 0.8,
        "width": 0.8,
        "x": 0.1,
        "y": 0.1
       },
       "content": {
        "cell": "8778b874-a6d1-4f2f-ba02-35dc0fa10f0c",
        "part": "whole"
       },
       "id": "cc35a589-c8c7-459f-893d-102c0d77bee3"
      }
     }
    },
    "8aa83fc2-d106-4c85-8b7f-1116db7ee9d4": {
     "id": "8aa83fc2-d106-4c85-8b7f-1116db7ee9d4",
     "prev": "f870a325-581b-4d8e-a4c0-095972e4cc21",
     "regions": {
      "9f7afc1f-6e9d-47bf-98e0-7e0350e1f516": {
       "attrs": {
        "height": 0.8,
        "width": 0.8,
        "x": 0.1,
        "y": 0.1
       },
       "content": {
        "cell": "45b1a641-1152-4364-ad25-62d1f8187317",
        "part": "whole"
       },
       "id": "9f7afc1f-6e9d-47bf-98e0-7e0350e1f516"
      }
     }
    },
    "944a5639-4b22-4f7f-b836-5ac3bf1cb21e": {
     "id": "944a5639-4b22-4f7f-b836-5ac3bf1cb21e",
     "prev": "d30e098d-5b03-4087-bb2e-fe706d78fae9",
     "regions": {
      "c32c5800-6b61-4a15-b909-b1163c6ffe62": {
       "attrs": {
        "height": 0.8,
        "width": 0.8,
        "x": 0.1,
        "y": 0.1
       },
       "content": {
        "cell": "4329af31-21b4-4570-903a-6df3715244c7",
        "part": "whole"
       },
       "id": "c32c5800-6b61-4a15-b909-b1163c6ffe62"
      }
     }
    },
    "951ea1a1-a91e-41a8-827e-fc3624ae3250": {
     "id": "951ea1a1-a91e-41a8-827e-fc3624ae3250",
     "prev": "d46a6bb8-e8dc-42dd-ac78-33a9cc66fcaa",
     "regions": {
      "bc84fb60-e322-4e23-8b12-21f7fbfd11be": {
       "attrs": {
        "height": 0.8,
        "width": 0.8,
        "x": 0.1,
        "y": 0.1
       },
       "content": {
        "cell": "caa35df4-b625-4246-bc1f-42c561f31486",
        "part": "whole"
       },
       "id": "bc84fb60-e322-4e23-8b12-21f7fbfd11be"
      }
     }
    },
    "96f08da8-8b76-4bf1-829e-50dc77b96f23": {
     "id": "96f08da8-8b76-4bf1-829e-50dc77b96f23",
     "prev": "7f7b5da4-7345-442b-8cd5-662cfba97db9",
     "regions": {
      "ee8f45c8-aaa8-4c02-8067-bee120c4685d": {
       "attrs": {
        "height": 0.8,
        "width": 0.8,
        "x": 0.1,
        "y": 0.1
       },
       "content": {
        "cell": "672c009d-3dbc-4a1f-a789-2a0fe78729b9",
        "part": "whole"
       },
       "id": "ee8f45c8-aaa8-4c02-8067-bee120c4685d"
      }
     }
    },
    "9d28ba7f-c1e5-4ac3-ae0d-08721cddf897": {
     "id": "9d28ba7f-c1e5-4ac3-ae0d-08721cddf897",
     "prev": "b758d6c7-7c92-4aba-a50f-4ea841c3bbd5",
     "regions": {
      "f1d84675-1d92-48aa-b454-b5cfd4919f9c": {
       "attrs": {
        "height": 0.8,
        "width": 0.8,
        "x": 0.1,
        "y": 0.1
       },
       "content": {
        "cell": "85e46481-0245-448c-b4e2-e0c6e175357c",
        "part": "whole"
       },
       "id": "f1d84675-1d92-48aa-b454-b5cfd4919f9c"
      }
     }
    },
    "a2c51720-8844-4953-94a8-55d723ec2499": {
     "id": "a2c51720-8844-4953-94a8-55d723ec2499",
     "prev": "ec5e5d0b-4635-44cc-acc2-f4a52d49a309",
     "regions": {
      "8e52be0c-e63e-434c-b1ca-9c69b58557a6": {
       "attrs": {
        "height": 0.8,
        "width": 0.8,
        "x": 0.1,
        "y": 0.1
       },
       "content": {
        "cell": "13f246a0-918e-44c1-ae19-7af118d83585",
        "part": "whole"
       },
       "id": "8e52be0c-e63e-434c-b1ca-9c69b58557a6"
      }
     }
    },
    "ad16016c-8a9e-49da-a3d2-5ab56ca11579": {
     "id": "ad16016c-8a9e-49da-a3d2-5ab56ca11579",
     "prev": "257bf09e-bd55-4957-97ea-4d3c8b85016a",
     "regions": {
      "ba9b7c66-e2b9-4e94-a595-b6e1e9c8ba3a": {
       "attrs": {
        "height": 0.8,
        "width": 0.8,
        "x": 0.1,
        "y": 0.1
       },
       "content": {
        "cell": "25997dab-04e3-4abc-b22f-b36944b208c2",
        "part": "whole"
       },
       "id": "ba9b7c66-e2b9-4e94-a595-b6e1e9c8ba3a"
      }
     }
    },
    "aea4c7d8-d448-4c6e-b98a-aee48ab874f3": {
     "id": "aea4c7d8-d448-4c6e-b98a-aee48ab874f3",
     "prev": "823091e1-74b1-44e3-af50-388881c30968",
     "regions": {
      "c9f42ad3-4f13-490e-98af-ba7f90c04c7e": {
       "attrs": {
        "height": 0.8,
        "width": 0.8,
        "x": 0.1,
        "y": 0.1
       },
       "content": {
        "cell": "3544f061-6870-4630-bd54-79f75decf8b6",
        "part": "whole"
       },
       "id": "c9f42ad3-4f13-490e-98af-ba7f90c04c7e"
      }
     }
    },
    "aedf0537-c77a-45f0-9d07-af274cfcc254": {
     "id": "aedf0537-c77a-45f0-9d07-af274cfcc254",
     "prev": "e6ae4652-4831-456f-a99c-275d5a367c31",
     "regions": {
      "6b39b1f4-a8eb-48a7-abe6-34f074ddfffe": {
       "attrs": {
        "height": 0.8,
        "width": 0.8,
        "x": 0.1,
        "y": 0.1
       },
       "content": {
        "cell": "58e7dda6-0dd2-4e4f-b81a-0b530c66b20b",
        "part": "whole"
       },
       "id": "6b39b1f4-a8eb-48a7-abe6-34f074ddfffe"
      }
     }
    },
    "b225aeee-0655-46cd-b065-53ac161542e1": {
     "id": "b225aeee-0655-46cd-b065-53ac161542e1",
     "prev": "944a5639-4b22-4f7f-b836-5ac3bf1cb21e",
     "regions": {
      "3fb9131f-b513-4608-88e3-1829aab4af80": {
       "attrs": {
        "height": 0.8,
        "width": 0.8,
        "x": 0.1,
        "y": 0.1
       },
       "content": {
        "cell": "0924faf0-a957-4d12-b35c-b50ebb30f370",
        "part": "whole"
       },
       "id": "3fb9131f-b513-4608-88e3-1829aab4af80"
      }
     }
    },
    "b6050bf2-3f03-47ef-9510-80c01755a79e": {
     "id": "b6050bf2-3f03-47ef-9510-80c01755a79e",
     "prev": "96f08da8-8b76-4bf1-829e-50dc77b96f23",
     "regions": {
      "35a04fb6-5997-463a-b71f-8ad41ce5def6": {
       "attrs": {
        "height": 0.8,
        "width": 0.8,
        "x": 0.1,
        "y": 0.1
       },
       "content": {
        "cell": "f7724653-52ef-41e8-aa22-6232be216b08",
        "part": "whole"
       },
       "id": "35a04fb6-5997-463a-b71f-8ad41ce5def6"
      }
     }
    },
    "b758d6c7-7c92-4aba-a50f-4ea841c3bbd5": {
     "id": "b758d6c7-7c92-4aba-a50f-4ea841c3bbd5",
     "prev": "f2b5f77b-2cf3-4728-901e-453b1ee328e4",
     "regions": {
      "3907d293-429a-446b-aa7b-d48636df66de": {
       "attrs": {
        "height": 0.8,
        "width": 0.8,
        "x": 0.1,
        "y": 0.1
       },
       "content": {
        "cell": "92dbb672-adca-4535-8089-de23712828d8",
        "part": "whole"
       },
       "id": "3907d293-429a-446b-aa7b-d48636df66de"
      }
     }
    },
    "b78b6f6e-aa16-462e-8f65-fcb552b32c31": {
     "id": "b78b6f6e-aa16-462e-8f65-fcb552b32c31",
     "prev": "de9edf29-6b79-4254-9128-e8e5339d95b7",
     "regions": {
      "7907113d-9b89-4a1c-9b8e-9ccf0f800218": {
       "attrs": {
        "height": 0.8,
        "width": 0.8,
        "x": 0.1,
        "y": 0.1
       },
       "content": {
        "cell": "0e5ca1a8-9c78-412a-9ab4-a4d0be5afd34",
        "part": "whole"
       },
       "id": "7907113d-9b89-4a1c-9b8e-9ccf0f800218"
      }
     }
    },
    "bb7417b1-270b-4977-bbf3-606a574c38ec": {
     "id": "bb7417b1-270b-4977-bbf3-606a574c38ec",
     "prev": "aedf0537-c77a-45f0-9d07-af274cfcc254",
     "regions": {
      "4186cf60-3730-4fac-9b82-c178d043465c": {
       "attrs": {
        "height": 0.8,
        "width": 0.8,
        "x": 0.1,
        "y": 0.1
       },
       "content": {
        "cell": "6b5572c0-2ab0-4b13-a08f-3db21b4c4f21",
        "part": "whole"
       },
       "id": "4186cf60-3730-4fac-9b82-c178d043465c"
      }
     }
    },
    "bc583748-3efc-4990-a121-5c23ddd1cf76": {
     "id": "bc583748-3efc-4990-a121-5c23ddd1cf76",
     "prev": "b78b6f6e-aa16-462e-8f65-fcb552b32c31",
     "regions": {
      "1fe1815a-69fc-439e-9943-115c788d87de": {
       "attrs": {
        "height": 0.8,
        "width": 0.8,
        "x": 0.1,
        "y": 0.1
       },
       "content": {
        "cell": "161e8770-8bc2-41ae-98f4-08d1c9311e82",
        "part": "whole"
       },
       "id": "1fe1815a-69fc-439e-9943-115c788d87de"
      }
     }
    },
    "bebeb5ec-eea2-4353-b2e1-ba7cdb847132": {
     "id": "bebeb5ec-eea2-4353-b2e1-ba7cdb847132",
     "prev": "aea4c7d8-d448-4c6e-b98a-aee48ab874f3",
     "regions": {
      "acd4706d-0fa8-4d2c-93b1-e01bcddce185": {
       "attrs": {
        "height": 0.8,
        "width": 0.8,
        "x": 0.1,
        "y": 0.1
       },
       "content": {
        "cell": "31c64f41-a499-4f80-8ccd-1364940f7383",
        "part": "whole"
       },
       "id": "acd4706d-0fa8-4d2c-93b1-e01bcddce185"
      }
     }
    },
    "c68aae9d-645c-4cbf-9dc1-92ed9aa0f5d3": {
     "id": "c68aae9d-645c-4cbf-9dc1-92ed9aa0f5d3",
     "prev": "b225aeee-0655-46cd-b065-53ac161542e1",
     "regions": {
      "18e9a755-775e-407c-adec-19d9d2553aa3": {
       "attrs": {
        "height": 0.8,
        "width": 0.8,
        "x": 0.1,
        "y": 0.1
       },
       "content": {
        "cell": "59cc671f-041a-4d6f-a609-f1b9855aa05c",
        "part": "whole"
       },
       "id": "18e9a755-775e-407c-adec-19d9d2553aa3"
      }
     }
    },
    "c86c2c29-3931-4f32-b9b8-2927bd48a5d2": {
     "id": "c86c2c29-3931-4f32-b9b8-2927bd48a5d2",
     "prev": "8541226b-6ff1-4700-a399-71e3cf68d91b",
     "regions": {
      "98d1caf9-aaab-4a6a-8d39-875e61f4b508": {
       "attrs": {
        "height": 0.8,
        "width": 0.8,
        "x": 0.1,
        "y": 0.1
       },
       "content": {
        "cell": "ada914a2-bacb-4300-8ce3-f1332843d24c",
        "part": "whole"
       },
       "id": "98d1caf9-aaab-4a6a-8d39-875e61f4b508"
      }
     }
    },
    "ca688a20-d25d-4266-8f63-967e003c1f2f": {
     "id": "ca688a20-d25d-4266-8f63-967e003c1f2f",
     "prev": "78837f0a-d7b6-48ae-b64e-3a2af8286ccc",
     "regions": {
      "3b6c70c9-c6b9-4505-aefb-c64c0d183b96": {
       "attrs": {
        "height": 0.8,
        "width": 0.8,
        "x": 0.1,
        "y": 0.1
       },
       "content": {
        "cell": "943a5fcd-7c2e-4c16-9879-34882a7a74d4",
        "part": "whole"
       },
       "id": "3b6c70c9-c6b9-4505-aefb-c64c0d183b96"
      }
     }
    },
    "d30e098d-5b03-4087-bb2e-fe706d78fae9": {
     "id": "d30e098d-5b03-4087-bb2e-fe706d78fae9",
     "prev": "c86c2c29-3931-4f32-b9b8-2927bd48a5d2",
     "regions": {
      "ce2693da-705b-4afd-9284-d04c8e1b2ff4": {
       "attrs": {
        "height": 0.8,
        "width": 0.8,
        "x": 0.1,
        "y": 0.1
       },
       "content": {
        "cell": "4f313370-b5f0-4754-9744-157da0447fc4",
        "part": "whole"
       },
       "id": "ce2693da-705b-4afd-9284-d04c8e1b2ff4"
      }
     }
    },
    "d386ac9f-a3fc-4b7e-8171-72c5de5bcd6b": {
     "id": "d386ac9f-a3fc-4b7e-8171-72c5de5bcd6b",
     "prev": "488af944-ad92-49c5-9d1d-ccdb1e929dce",
     "regions": {
      "742b6acb-94bd-40bc-95c5-45686415a4d2": {
       "attrs": {
        "height": 0.8,
        "width": 0.8,
        "x": 0.1,
        "y": 0.1
       },
       "content": {
        "cell": "13f462fd-b0c3-4a29-90f3-050e2317b72c",
        "part": "whole"
       },
       "id": "742b6acb-94bd-40bc-95c5-45686415a4d2"
      }
     }
    },
    "d46a6bb8-e8dc-42dd-ac78-33a9cc66fcaa": {
     "id": "d46a6bb8-e8dc-42dd-ac78-33a9cc66fcaa",
     "prev": "e1b1494f-f764-4c7c-9b18-9c4117ac6b1a",
     "regions": {
      "46818eb4-db41-4ae4-ab4a-fb8aa8381df4": {
       "attrs": {
        "height": 0.8,
        "width": 0.8,
        "x": 0.1,
        "y": 0.1
       },
       "content": {
        "cell": "699e2ddb-add6-4134-a723-1bb37029f013",
        "part": "whole"
       },
       "id": "46818eb4-db41-4ae4-ab4a-fb8aa8381df4"
      }
     }
    },
    "d7495fd8-cfb5-42ee-a0eb-86679c419bae": {
     "id": "d7495fd8-cfb5-42ee-a0eb-86679c419bae",
     "prev": "845fbe01-dd28-4ad8-9eb5-d13c49f6772c",
     "regions": {
      "1b6fb9c6-e9e8-48d0-8879-43681a10b003": {
       "attrs": {
        "height": 0.8,
        "width": 0.8,
        "x": 0.1,
        "y": 0.1
       },
       "content": {
        "cell": "d447e236-b1b9-4cf7-bc39-8bfb499d4730",
        "part": "whole"
       },
       "id": "1b6fb9c6-e9e8-48d0-8879-43681a10b003"
      }
     }
    },
    "d84b78ed-e79f-4657-b62b-eeff30c4fe8d": {
     "id": "d84b78ed-e79f-4657-b62b-eeff30c4fe8d",
     "prev": "05fa6235-ac93-41b7-9975-3fee534b0c94",
     "regions": {
      "2dc757c4-cd6f-4663-b3ed-16873bd59e53": {
       "attrs": {
        "height": 0.8,
        "width": 0.8,
        "x": 0.1,
        "y": 0.1
       },
       "content": {
        "cell": "6b8eef4a-a87d-42bd-84dd-586610828698",
        "part": "whole"
       },
       "id": "2dc757c4-cd6f-4663-b3ed-16873bd59e53"
      }
     }
    },
    "de9edf29-6b79-4254-9128-e8e5339d95b7": {
     "id": "de9edf29-6b79-4254-9128-e8e5339d95b7",
     "prev": "4af127dc-0330-4f8e-b907-3e409ba31a06",
     "regions": {
      "ef8b9aae-46b3-45ae-8ddf-d951cecabb16": {
       "attrs": {
        "height": 0.8,
        "width": 0.8,
        "x": 0.1,
        "y": 0.1
       },
       "content": {
        "cell": "d8cfc39f-aa3b-469f-ae34-1ef99ef51a25",
        "part": "whole"
       },
       "id": "ef8b9aae-46b3-45ae-8ddf-d951cecabb16"
      }
     }
    },
    "deebcf04-3780-4222-bac9-4ec42c55e64e": {
     "id": "deebcf04-3780-4222-bac9-4ec42c55e64e",
     "prev": "479d81b5-3b8b-4ddf-bbfe-6ae6ff33c2fa",
     "regions": {
      "41284583-e45d-4b58-80b1-9aa982c35d62": {
       "attrs": {
        "height": 0.8,
        "width": 0.8,
        "x": 0.1,
        "y": 0.1
       },
       "content": {
        "cell": "e7995c4c-f483-4cb5-9f53-3b8c5fef39c3",
        "part": "whole"
       },
       "id": "41284583-e45d-4b58-80b1-9aa982c35d62"
      }
     }
    },
    "e1226821-9a12-4537-a8af-79cc88d3d16a": {
     "id": "e1226821-9a12-4537-a8af-79cc88d3d16a",
     "prev": "0e2565e0-a21d-4dbb-a4b3-8698e797c45d",
     "regions": {
      "a85036ed-bcf3-498f-bcbf-d29b7ba22e33": {
       "attrs": {
        "height": 0.8,
        "width": 0.8,
        "x": 0.1,
        "y": 0.1
       },
       "content": {
        "cell": "d8a8bcc6-8b37-4d4f-ad06-903804776078",
        "part": "whole"
       },
       "id": "a85036ed-bcf3-498f-bcbf-d29b7ba22e33"
      }
     }
    },
    "e1b1494f-f764-4c7c-9b18-9c4117ac6b1a": {
     "id": "e1b1494f-f764-4c7c-9b18-9c4117ac6b1a",
     "prev": "e975c742-3e8e-42fb-992f-68889dc8eacf",
     "regions": {
      "4481842a-f6a3-4783-8056-761d3ff7903c": {
       "attrs": {
        "height": 0.8,
        "width": 0.8,
        "x": 0.1,
        "y": 0.1
       },
       "content": {
        "cell": "c02b6f0a-801c-4a8f-aa8f-8c9d64df7a9a",
        "part": "whole"
       },
       "id": "4481842a-f6a3-4783-8056-761d3ff7903c"
      }
     }
    },
    "e24d4b0b-34e2-46de-a99d-a4be39ca2951": {
     "id": "e24d4b0b-34e2-46de-a99d-a4be39ca2951",
     "prev": "e1226821-9a12-4537-a8af-79cc88d3d16a",
     "regions": {
      "8a097e4f-9443-46a4-9b0f-84d5e12c50e7": {
       "attrs": {
        "height": 0.8,
        "width": 0.8,
        "x": 0.1,
        "y": 0.1
       },
       "content": {
        "cell": "6f302dcb-787b-42b0-98f0-1df0a163a818",
        "part": "whole"
       },
       "id": "8a097e4f-9443-46a4-9b0f-84d5e12c50e7"
      }
     }
    },
    "e44d6d8f-7236-458f-a308-36142bc72ff4": {
     "id": "e44d6d8f-7236-458f-a308-36142bc72ff4",
     "prev": "951ea1a1-a91e-41a8-827e-fc3624ae3250",
     "regions": {
      "cc091066-cdf1-4dd5-bf80-5c7c94722472": {
       "attrs": {
        "height": 0.8,
        "width": 0.8,
        "x": 0.1,
        "y": 0.1
       },
       "content": {
        "cell": "d2aa5aac-acc7-41c9-96d4-5410c0d8a14b",
        "part": "whole"
       },
       "id": "cc091066-cdf1-4dd5-bf80-5c7c94722472"
      }
     }
    },
    "e6ae4652-4831-456f-a99c-275d5a367c31": {
     "id": "e6ae4652-4831-456f-a99c-275d5a367c31",
     "prev": "bc583748-3efc-4990-a121-5c23ddd1cf76",
     "regions": {
      "fc109e55-75c1-42c7-a13b-68d9feb3aad7": {
       "attrs": {
        "height": 0.8,
        "width": 0.8,
        "x": 0.1,
        "y": 0.1
       },
       "content": {
        "cell": "fe809373-e88b-44eb-9cb9-08be3dc5949a",
        "part": "whole"
       },
       "id": "fc109e55-75c1-42c7-a13b-68d9feb3aad7"
      }
     }
    },
    "e71a7d3a-c9bb-4db0-9597-95b9b3233d3b": {
     "id": "e71a7d3a-c9bb-4db0-9597-95b9b3233d3b",
     "prev": "f6887642-4c01-4304-bedb-6e6bf5f5c45e",
     "regions": {
      "88ed165d-ed0c-4d77-a642-afc80f335c88": {
       "attrs": {
        "height": 0.8,
        "width": 0.8,
        "x": 0.1,
        "y": 0.1
       },
       "content": {
        "cell": "9994e7f0-f366-40da-9c14-76e8142ee46e",
        "part": "whole"
       },
       "id": "88ed165d-ed0c-4d77-a642-afc80f335c88"
      }
     }
    },
    "e975c742-3e8e-42fb-992f-68889dc8eacf": {
     "id": "e975c742-3e8e-42fb-992f-68889dc8eacf",
     "prev": "8aa83fc2-d106-4c85-8b7f-1116db7ee9d4",
     "regions": {
      "6f8253e7-9544-4503-84a2-5dd528b2b98c": {
       "attrs": {
        "height": 0.8,
        "width": 0.8,
        "x": 0.1,
        "y": 0.1
       },
       "content": {
        "cell": "e8936716-d06c-4cef-ae87-5c5da9a25a85",
        "part": "whole"
       },
       "id": "6f8253e7-9544-4503-84a2-5dd528b2b98c"
      }
     }
    },
    "ec5e5d0b-4635-44cc-acc2-f4a52d49a309": {
     "id": "ec5e5d0b-4635-44cc-acc2-f4a52d49a309",
     "prev": "12513a0d-3e80-464d-9285-3bdd87e0b9c0",
     "regions": {
      "007395dd-4907-4340-9391-024482d674f4": {
       "attrs": {
        "height": 0.8,
        "width": 0.8,
        "x": 0.1,
        "y": 0.1
       },
       "content": {
        "cell": "aa9d35ae-c458-49d2-bdbe-d93d5cb3ba9c",
        "part": "whole"
       },
       "id": "007395dd-4907-4340-9391-024482d674f4"
      }
     }
    },
    "efc03832-2e6d-4250-8ac5-f4c13cfdb733": {
     "id": "efc03832-2e6d-4250-8ac5-f4c13cfdb733",
     "prev": "deebcf04-3780-4222-bac9-4ec42c55e64e",
     "regions": {
      "ece43b16-b994-439a-a683-911e322998be": {
       "attrs": {
        "height": 0.8,
        "width": 0.8,
        "x": 0.1,
        "y": 0.1
       },
       "content": {
        "cell": "a6d40ad7-2abd-44e5-8839-62731fb5eab7",
        "part": "whole"
       },
       "id": "ece43b16-b994-439a-a683-911e322998be"
      }
     }
    },
    "f2b5f77b-2cf3-4728-901e-453b1ee328e4": {
     "id": "f2b5f77b-2cf3-4728-901e-453b1ee328e4",
     "prev": "ca688a20-d25d-4266-8f63-967e003c1f2f",
     "regions": {
      "fd2525a2-6271-4119-a693-9ebaa319233e": {
       "attrs": {
        "height": 0.8,
        "width": 0.8,
        "x": 0.1,
        "y": 0.1
       },
       "content": {
        "cell": "b492de13-0053-416c-b314-1bbae21ca828",
        "part": "whole"
       },
       "id": "fd2525a2-6271-4119-a693-9ebaa319233e"
      }
     }
    },
    "f6887642-4c01-4304-bedb-6e6bf5f5c45e": {
     "id": "f6887642-4c01-4304-bedb-6e6bf5f5c45e",
     "prev": "0527f44a-39b6-4cf8-9802-d16b8cd34754",
     "regions": {
      "22ac5030-534d-4372-b64f-11254caef474": {
       "attrs": {
        "height": 0.8,
        "width": 0.8,
        "x": 0.1,
        "y": 0.1
       },
       "content": {
        "cell": "8ce2b802-f0c1-4ffc-9ce5-c2792856b5b4",
        "part": "whole"
       },
       "id": "22ac5030-534d-4372-b64f-11254caef474"
      }
     }
    },
    "f6d5269c-54db-4887-b274-d00572aead72": {
     "id": "f6d5269c-54db-4887-b274-d00572aead72",
     "prev": "9d28ba7f-c1e5-4ac3-ae0d-08721cddf897",
     "regions": {
      "4adeafcb-a40e-4001-9cea-ced25a006c2a": {
       "attrs": {
        "height": 0.8,
        "width": 0.8,
        "x": 0.1,
        "y": 0.1
       },
       "content": {
        "cell": "380ef8b7-6de1-4822-ae30-7120e12b5955",
        "part": "whole"
       },
       "id": "4adeafcb-a40e-4001-9cea-ced25a006c2a"
      }
     }
    },
    "f870a325-581b-4d8e-a4c0-095972e4cc21": {
     "id": "f870a325-581b-4d8e-a4c0-095972e4cc21",
     "prev": "d386ac9f-a3fc-4b7e-8171-72c5de5bcd6b",
     "regions": {
      "6923b170-3e50-4538-a408-f2032324357e": {
       "attrs": {
        "height": 0.8,
        "width": 0.8,
        "x": 0.1,
        "y": 0.1
       },
       "content": {
        "cell": "68d38063-fb92-4d36-b3fb-f2d3cbff9eb5",
        "part": "whole"
       },
       "id": "6923b170-3e50-4538-a408-f2032324357e"
      }
     }
    },
    "fbd9f3b3-f9b0-4886-b987-3f9d0ca983bc": {
     "id": "fbd9f3b3-f9b0-4886-b987-3f9d0ca983bc",
     "prev": "2e4a9702-f7a2-48a5-bd13-2087e9216b38",
     "regions": {
      "b1150180-2e0b-444f-956f-2dd4cf1f3d4a": {
       "attrs": {
        "height": 0.8,
        "width": 0.8,
        "x": 0.1,
        "y": 0.1
       },
       "content": {
        "cell": "dbeeeabe-b6dd-477c-a798-fb7b39302ba9",
        "part": "whole"
       },
       "id": "b1150180-2e0b-444f-956f-2dd4cf1f3d4a"
      }
     }
    }
   },
   "themes": {}
  }
 },
 "nbformat": 4,
 "nbformat_minor": 1
}
