{
 "cells": [
  {
   "cell_type": "markdown",
   "metadata": {},
   "source": [
    "# Using and benchmarking tensorflow wrapper on text8 corpus\n",
    "[TensorFlow](https://www.tensorflow.org) is Google Brain's second generation machine learning system, \n",
    "with a reference implementation released as open source software on November 9, 2015. This tutorial will compare the time taken to train on gensim's word2vec implementation with TensorFlow's.\n",
    "Before getting started you need to install [gensim](https://github.com/RaRe-Technologies/gensim/) and [setup Tensorflow](https://www.tensorflow.org/get_started/os_setup) to run with GPU support.\n",
    "This wrapper has all the functionalities of the conventional word2vec of gensim."
   ]
  },
  {
   "cell_type": "markdown",
   "metadata": {
    "collapsed": true
   },
   "source": [
    "# Training the model\n",
    "We will be training the model using [lee corpus.](https://github.com/RaRe-Technologies/gensim/blob/develop/gensim/test/test_data/lee_background.cor)"
   ]
  },
  {
   "cell_type": "code",
   "execution_count": 1,
   "metadata": {
    "collapsed": false
   },
   "outputs": [],
   "source": [
    "%matplotlib inline \n",
    "import gensim\n",
    "import os, time\n",
    "\n",
    "from gensim.models.tfword2vec import TfWord2Vec\n",
    "from gensim.models.word2vec import Word2Vec, Text8Corpus\n",
    "\n",
    "import matplotlib.pyplot as plt"
   ]
  },
  {
   "cell_type": "markdown",
   "metadata": {},
   "source": [
    "\n",
    "Initialising the model trains it as well.\n"
   ]
  },
  {
   "cell_type": "code",
   "execution_count": 2,
   "metadata": {
    "collapsed": false
   },
   "outputs": [
    {
     "name": "stdout",
     "output_type": "stream",
     "text": [
      "Data file:  ../../gensim/test/test_data/lee.cor\n",
      "Vocab size:  96  + UNK\n",
      "Words per epoch:  3983\n",
      "Data file:  ../../gensim/test/test_data/lee.cor=    83407\n",
      "Vocab size:  96  + UNK\n",
      "Words per epoch:  3983\n",
      "Epoch  452 Step       12: lr = 0.000 words/sec =    83339\r"
     ]
    }
   ],
   "source": [
    "corpus = '../../gensim/test/test_data/lee.cor'\n",
    "save_path = '.'\n",
    "model = TfWord2Vec(corpus, epochs_to_train=1, embedding_size=100, batch_size=100000, save_path=save_path)\n",
    "model.train()"
   ]
  },
  {
   "cell_type": "code",
   "execution_count": 3,
   "metadata": {
    "collapsed": true
   },
   "outputs": [],
   "source": [
    "model = Word2Vec(corpus, iter=1)"
   ]
  },
  {
   "cell_type": "markdown",
   "metadata": {},
   "source": [
    "This model behaves similar to the wor2vec model."
   ]
  },
  {
   "cell_type": "code",
   "execution_count": 4,
   "metadata": {
    "collapsed": false
   },
   "outputs": [
    {
     "name": "stdout",
     "output_type": "stream",
     "text": [
      "Word2Vec(vocab=4, size=100, alpha=0.025)\n"
     ]
    }
   ],
   "source": [
    "print(model)#,modelg)\n",
    "# print(model.wv.vocab)\n",
    "#model.most_similar('President')\n",
    "#model.similarity('President', 'military')"
   ]
  },
  {
   "cell_type": "markdown",
   "metadata": {},
   "source": [
    "## Saving and loading the model"
   ]
  },
  {
   "cell_type": "code",
   "execution_count": 5,
   "metadata": {
    "collapsed": false
   },
   "outputs": [],
   "source": [
    "from tempfile import mkstemp\n",
    "\n",
    "fs, temp_path = mkstemp(\"tfword2vec_temp\")  # creates a temp file\n",
    "\n",
    "#model.save(temp_path)  # save the model"
   ]
  },
  {
   "cell_type": "markdown",
   "metadata": {},
   "source": [
    "# Gensim benchmark\n",
    "These benchmarks are conducted on Intel i7 6700K with hyper threading over-clocked to 4.4GHz. "
   ]
  },
  {
   "cell_type": "code",
   "execution_count": null,
   "metadata": {
    "collapsed": false
   },
   "outputs": [],
   "source": [
    "batch_size = []\n",
    "time_taken = []\n",
    "size = 100000000\n",
    "while size<=10000000:\n",
    "    start = time.time()\n",
    "    corpus = Text8Corpus(\"text8\")\n",
    "    model = Word2Vec(corpus, iter=1, hs=1, negative=0, batch_words=size)\n",
    "    print \"Gensim:\\n\" + str(time.time()-start)\n",
    "    size *= 10"
   ]
  },
  {
   "cell_type": "code",
   "execution_count": null,
   "metadata": {
    "collapsed": false
   },
   "outputs": [],
   "source": []
  },
  {
   "cell_type": "markdown",
   "metadata": {},
   "source": [
    "# Benchmarking TensorFlow\n",
    "Using the TensorFlow wrapper for gensim to train the model.\n",
    "\n",
    "We are considering only one epoch i.e the number of training examples processed per step.\n",
    "For varying batch sizes i.e the number of training examples each step processes we encounter different results."
   ]
  },
  {
   "cell_type": "code",
   "execution_count": 9,
   "metadata": {
    "collapsed": false
   },
   "outputs": [
    {
     "name": "stdout",
     "output_type": "stream",
     "text": [
      "Data file:  text8\n",
      "Vocab size:  71290  + UNK\n",
      "Words per epoch:  17005207\n",
      "Epoch    1 Step   754730: lr = 0.006 words/sec =    39239\n",
      "Tensorflow:84.2913510799\n",
      "Batch size:100\n",
      "\n",
      "Data file:  text8\n",
      "Vocab size:  71290  + UNK\n",
      "Words per epoch:  17005207\n",
      "Epoch    1 Step    75472: lr = 0.006 words/sec =   958657\n",
      "Tensorflow:14.2873580456\n",
      "Batch size:1000\n",
      "\n",
      "Data file:  text8\n",
      "Vocab size:  71290  + UNK\n",
      "Words per epoch:  17005207\n",
      "Epoch    1 Step     7548: lr = 0.006 words/sec =  2524956\n",
      "Tensorflow:9.20834207535\n",
      "Batch size:10000\n",
      "\n",
      "Data file:  text8\n",
      "Vocab size:  71290  + UNK\n",
      "Words per epoch:  17005207\n",
      "Epoch    1 Step      753: lr = 0.006 words/sec =  2555518\n",
      "Tensorflow:9.12145018578\n",
      "Batch size:100000\n",
      "\n",
      "Data file:  text8\n",
      "Vocab size:  71290  + UNK\n",
      "Words per epoch:  17005207\n",
      "Epoch    1 Step       73: lr = 0.003 words/sec =  2853582\n",
      "Tensorflow:9.29603505135\n",
      "Batch size:1000000\n",
      "\n",
      "Data file:  text8\n",
      "Vocab size:  71290  + UNK\n",
      "Words per epoch:  17005207\n",
      "Epoch    3 Step       14: lr = 0.000 words/sec =  8762526\n",
      "Tensorflow:9.91744184494\n",
      "Batch size:10000000\n",
      "\n"
     ]
    }
   ],
   "source": [
    "batch_size = []\n",
    "time_taken = []\n",
    "size = 100#00000\n",
    "while size<=10000000:\n",
    "    start = time.time()\n",
    "    model = TfWord2Vec(\"text8\", epochs_to_train=1, embedding_size=100, batch_size=size, num_neg_samples=0)\n",
    "    batch_size.append(size)\n",
    "    time_taken.append(time.time()-start)\n",
    "    print(\"\\nTensorflow:\" + str(time_taken[-1]))\n",
    "    print(\"Batch size:\" + str(size) + \"\\n\")\n",
    "    size *= 10"
   ]
  },
  {
   "cell_type": "code",
   "execution_count": 10,
   "metadata": {
    "collapsed": false
   },
   "outputs": [
    {
     "name": "stdout",
     "output_type": "stream",
     "text": [
      "[287.65921902656555, 70.377512216568, 60.35301494598389, 60.31839084625244, 55.83613204956055, 102.36370205879211]\n",
      "[100, 1000, 10000, 100000, 1000000, 10000000]\n"
     ]
    },
    {
     "data": {
      "image/png": "[encoded data removed]",
      "text/plain": [
       "<matplotlib.figure.Figure at 0x7f0da359ecd0>"
      ]
     },
     "metadata": {},
     "output_type": "display_data"
    }
   ],
   "source": [
    "b = [100, 1000, 10000, 100000, 1000000, 10000000]\n",
    "t =[287.65921902656555, 70.377512216568, 60.35301494598389, 60.31839084625244, 55.83613204956055, 102.36370205879211]\n",
    "\n",
    "plt.xscale('log', nonposy='clip')\n",
    "plt.plot(batch_size, time_taken)\n",
    "plt.title('Tensorflow benchmarks on NVIDIA GRID K520 (4x cluster)')\n",
    "plt.ylabel('time taken in seconds')\n",
    "plt.xlabel('batch size')\n",
    "print(t)\n",
    "print(b)"
   ]
  },
  {
   "cell_type": "markdown",
   "metadata": {},
   "source": [
    "Note how the time taken decreases drastically with increasing batch size."
   ]
  },
  {
   "cell_type": "code",
   "execution_count": null,
   "metadata": {
    "collapsed": true
   },
   "outputs": [],
   "source": []
  }
 ],
 "metadata": {
  "kernelspec": {
   "display_name": "Python 2",
   "language": "python",
   "name": "python2"
  },
  "language_info": {
   "codemirror_mode": {
    "name": "ipython",
    "version": 2
   },
   "file_extension": ".py",
   "mimetype": "text/x-python",
   "name": "python",
   "nbconvert_exporter": "python",
   "pygments_lexer": "ipython2",
   "version": "2.7.12"
  }
 },
 "nbformat": 4,
 "nbformat_minor": 2
}
