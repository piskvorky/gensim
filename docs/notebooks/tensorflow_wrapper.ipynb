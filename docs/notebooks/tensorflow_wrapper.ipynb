{
 "cells": [
  {
   "cell_type": "markdown",
   "metadata": {},
   "source": [
    "# Using and benchmarking tensorflow wrapper on text8 corpus\n",
    "[TensorFlow](https://www.tensorflow.org) is Google Brain's second generation machine learning system, \n",
    "with a reference implementation released as open source software on November 9, 2015. This tutorial will compare the time taken to train on gensim's word2vec implementation with TensorFlow's.\n",
    "Before getting started you need to install [gensim](https://github.com/RaRe-Technologies/gensim/) and [setup Tensorflow](https://www.tensorflow.org/get_started/os_setup) to run with GPU support.\n",
    "This wrapper has all the functionalities of the conventional word2vec of gensim."
   ]
  },
  {
   "cell_type": "markdown",
   "metadata": {
    "collapsed": true
   },
   "source": [
    "# Training the model\n",
    "We will be training the model using [lee corpus.](https://github.com/RaRe-Technologies/gensim/blob/develop/gensim/test/test_data/lee_background.cor)"
   ]
  },
  {
   "cell_type": "code",
   "execution_count": 1,
   "metadata": {
    "collapsed": false
   },
   "outputs": [],
   "source": [
    "%matplotlib inline \n",
    "import gensim\n",
    "import os, time\n",
    "\n",
    "from gensim.models.wrappers.tfword2vec import TfWord2Vec\n",
    "from gensim.models.word2vec import Word2Vec, Text8Corpus\n",
    "\n",
    "import matplotlib.pyplot as plt"
   ]
  },
  {
   "cell_type": "markdown",
   "metadata": {},
   "source": [
    "\n",
    "Initialising the model trains it as well.\n"
   ]
  },
  {
   "cell_type": "code",
   "execution_count": 2,
   "metadata": {
    "collapsed": false
   },
   "outputs": [
    {
     "name": "stdout",
     "output_type": "stream",
     "text": [
      "Data file:  ../../gensim/test/test_data/lee.cor\n",
      "Vocab size:  96  + UNK\n",
      "Words per epoch:  3983\n",
      "Data file:  ../../gensim/test/test_data/lee.cor=    83334\n",
      "Vocab size:  96  + UNK\n",
      "Words per epoch:  3983\n",
      "Epoch  452 Step       12: lr = 0.000 words/sec =    83315\r"
     ]
    }
   ],
   "source": [
    "corpus = '../../gensim/test/test_data/lee.cor'\n",
    "save_path = '.'\n",
    "model = TfWord2Vec(corpus, epochs_to_train=1, embedding_size=100, batch_size=100000, save_path=save_path)\n",
    "model.train()"
   ]
  },
  {
   "cell_type": "markdown",
   "metadata": {},
   "source": [
    "This model behaves similar to the wor2vec model."
   ]
  },
  {
   "cell_type": "code",
   "execution_count": 3,
   "metadata": {
    "collapsed": false
   },
   "outputs": [
    {
     "name": "stdout",
     "output_type": "stream",
     "text": [
      "<gensim.models.wrappers.tfword2vec.TfWord2Vec object at 0x7f3cb31b77d0>\n"
     ]
    }
   ],
   "source": [
    "print(model)"
   ]
  },
  {
   "cell_type": "code",
   "execution_count": 4,
   "metadata": {
    "collapsed": false
   },
   "outputs": [
    {
     "name": "stdout",
     "output_type": "stream",
     "text": [
      "[('told', 0.22218063473701477), ('The', 0.1978411227464676), ('Saudi', 0.19136053323745728), ('the', 0.18330501019954681), ('one', 0.17754220962524414), ('world', 0.17289648950099945), ('a', 0.16694964468479156), ('was', 0.16650299727916718), ('after', 0.16578058898448944), ('her', 0.15404342114925385)]\n",
      "0.021422123478\n"
     ]
    }
   ],
   "source": [
    "print(model.most_similar('President'))\n",
    "print(model.similarity('President', 'military'))"
   ]
  },
  {
   "cell_type": "markdown",
   "metadata": {},
   "source": [
    "## Saving and loading the model"
   ]
  },
  {
   "cell_type": "code",
   "execution_count": 5,
   "metadata": {
    "collapsed": false
   },
   "outputs": [
    {
     "name": "stdout",
     "output_type": "stream",
     "text": [
      "/tmp/tmpimygaDtfword2vec_temp\n"
     ]
    }
   ],
   "source": [
    "from tempfile import mkstemp\n",
    "\n",
    "fs, temp_path = mkstemp(\"tfword2vec_temp\")  # creates a temp file\n",
    "print(temp_path)\n",
    "#model.save(temp_path)  # save the model\n"
   ]
  },
  {
   "cell_type": "code",
   "execution_count": 6,
   "metadata": {
    "collapsed": false
   },
   "outputs": [],
   "source": [
    "#model=TfWord2Vec.load_tf_model(temp_path)\n"
   ]
  },
  {
   "cell_type": "code",
   "execution_count": 7,
   "metadata": {
    "collapsed": false
   },
   "outputs": [
    {
     "data": {
      "text/plain": [
       "0.021422123477959142"
      ]
     },
     "execution_count": 7,
     "metadata": {},
     "output_type": "execute_result"
    }
   ],
   "source": [
    "model.similarity('President', 'military')"
   ]
  },
  {
   "cell_type": "markdown",
   "metadata": {},
   "source": [
    "# Gensim benchmark\n",
    "These benchmarks are conducted on Intel i7 6700K with hyper threading over-clocked to 4.4GHz. "
   ]
  },
  {
   "cell_type": "code",
   "execution_count": 27,
   "metadata": {
    "collapsed": false
   },
   "outputs": [
    {
     "name": "stdout",
     "output_type": "stream",
     "text": [
      "Gensim:\n",
      "16.6226937771\n",
      "Gensim:\n",
      "17.3763868809\n",
      "Gensim:\n",
      "9.14171791077\n",
      "Gensim:\n",
      "8.3934469223\n",
      "Gensim:\n",
      "8.40102887154\n"
     ]
    }
   ],
   "source": [
    "gbatch_size = []\n",
    "gtime_taken = []\n",
    "size = 1000\n",
    "while size<=10000000:\n",
    "    start = time.time()\n",
    "    corpus = Text8Corpus(\"text8\")\n",
    "    model = Word2Vec(corpus, iter=1, hs=1, negative=0, batch_words=size)\n",
    "    print \"Gensim:\\n\" + str(time.time()-start)\n",
    "    gbatch_size.append(size)\n",
    "    gtime_taken.append(str(time.time()-start))\n",
    "    size *= 10"
   ]
  },
  {
   "cell_type": "code",
   "execution_count": 32,
   "metadata": {
    "collapsed": false
   },
   "outputs": [
    {
     "name": "stdout",
     "output_type": "stream",
     "text": [
      "[1000, 10000, 100000, 1000000, 10000000]\n",
      "['16.622784853', '17.3764719963', '9.14182305336', '8.39353394508', '8.40112304688']\n"
     ]
    },
    {
     "data": {
      "image/png": "[encoded data removed]",
      "text/plain": [
       "<matplotlib.figure.Figure at 0x7f3c0359a610>"
      ]
     },
     "metadata": {},
     "output_type": "display_data"
    }
   ],
   "source": [
    "plt.xscale('log', nonposy='clip')\n",
    "plt.plot(gbatch_size, gtime_taken)\n",
    "plt.title('Tensorflow benchmarks on i7 6700k @4.5GHz')\n",
    "plt.ylabel('time taken in seconds')\n",
    "plt.xlabel('batch size')\n",
    "print(gbatch_size)\n",
    "print(gtime_taken)"
   ]
  },
  {
   "cell_type": "markdown",
   "metadata": {},
   "source": [
    "# Benchmarking TensorFlow\n",
    "Using the TensorFlow wrapper for gensim to train the model.\n",
    "\n",
    "We are considering only one epoch i.e the number of training examples processed per step.\n",
    "For varying batch sizes i.e the number of training examples each step processes we encounter different results."
   ]
  },
  {
   "cell_type": "code",
   "execution_count": 29,
   "metadata": {
    "collapsed": false
   },
   "outputs": [
    {
     "name": "stdout",
     "output_type": "stream",
     "text": [
      "Data file:  text8\n",
      "Vocab size:  71290  + UNK\n",
      "Words per epoch:  17005207\n",
      "Epoch    1 Step    75472: lr = 0.006 words/sec =  1062082\n",
      "Tensorflow:42.3120291233\n",
      "Batch size:1000\n",
      "\n",
      "Data file:  text8\n",
      "Vocab size:  71290  + UNK\n",
      "Words per epoch:  17005207\n",
      "Epoch    1 Step     7548: lr = 0.006 words/sec =  2523470\n",
      "Tensorflow:42.3120291233\n",
      "Batch size:10000\n",
      "\n",
      "Data file:  text8\n",
      "Vocab size:  71290  + UNK\n",
      "Words per epoch:  17005207\n",
      "Epoch    1 Step      753: lr = 0.006 words/sec =  2553772\n",
      "Tensorflow:42.3120291233\n",
      "Batch size:100000\n",
      "\n",
      "Data file:  text8\n",
      "Vocab size:  71290  + UNK\n",
      "Words per epoch:  17005207\n",
      "Epoch    1 Step       73: lr = 0.003 words/sec =  2860683\n",
      "Tensorflow:42.3120291233\n",
      "Batch size:1000000\n",
      "\n",
      "Data file:  text8\n",
      "Vocab size:  71290  + UNK\n",
      "Words per epoch:  17005207\n",
      "Epoch    3 Step       12: lr = 0.000 words/sec =  1226755\n",
      "Tensorflow:42.3120291233\n",
      "Batch size:10000000\n",
      "\n"
     ]
    }
   ],
   "source": [
    "tbatch_size = []\n",
    "ttime_taken = []\n",
    "size = 1000#0000\n",
    "while size<=10000000:\n",
    "    start = time.time()\n",
    "    model = TfWord2Vec(\"text8\", epochs_to_train=1, embedding_size=100, batch_size=size, num_neg_samples=0)\n",
    "    tbatch_size.append(size)\n",
    "    ttime_taken.append(time.time()-start)\n",
    "    print(\"\\nTensorflow:\" + str(ttime_taken[-1]))\n",
    "    print(\"Batch size:\" + str(size) + \"\\n\")\n",
    "    size *= 10"
   ]
  },
  {
   "cell_type": "code",
   "execution_count": 33,
   "metadata": {
    "collapsed": false
   },
   "outputs": [
    {
     "name": "stdout",
     "output_type": "stream",
     "text": [
      "[1000, 10000, 100000, 1000000, 10000000]\n",
      "[14.071324110031128, 12.441872119903564, 9.271472215652466, 9.260348796844482, 37.27010893821716]\n"
     ]
    },
    {
     "data": {
      "image/png": "[encoded data removed]",
      "text/plain": [
       "<matplotlib.figure.Figure at 0x7f3c666a4810>"
      ]
     },
     "metadata": {},
     "output_type": "display_data"
    }
   ],
   "source": [
    "plt.xscale('log', nonposy='clip')\n",
    "plt.plot(tbatch_size, ttime_taken)\n",
    "plt.title('Tensorflow benchmarks on GTX1060')\n",
    "plt.ylabel('time taken in seconds')\n",
    "plt.xlabel('batch size')\n",
    "print(tbatch_size)\n",
    "print(ttime_taken)"
   ]
  },
  {
   "cell_type": "markdown",
   "metadata": {},
   "source": [
    "Note how the time taken decreases drastically with increasing batch size."
   ]
  },
  {
   "cell_type": "code",
   "execution_count": null,
   "metadata": {
    "collapsed": true
   },
   "outputs": [],
   "source": []
  },
  {
   "cell_type": "code",
   "execution_count": null,
   "metadata": {
    "collapsed": true
   },
   "outputs": [],
   "source": []
  }
 ],
 "metadata": {
  "kernelspec": {
   "display_name": "Python 2",
   "language": "python",
   "name": "python2"
  },
  "language_info": {
   "codemirror_mode": {
    "name": "ipython",
    "version": 2
   },
   "file_extension": ".py",
   "mimetype": "text/x-python",
   "name": "python",
   "nbconvert_exporter": "python",
   "pygments_lexer": "ipython2",
   "version": "2.7.12"
  }
 },
 "nbformat": 4,
 "nbformat_minor": 2
}
