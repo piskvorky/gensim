{
 "cells": [
  {
   "cell_type": "markdown",
   "metadata": {},
   "source": [
    "# Word2Vec Tutorial\n",
    "\n",
    "In case you missed the buzz, word2vec is a widely featured as a member of the “new wave” of machine learning algorithms based on neural networks, commonly referred to as \"deep learning\" (though word2vec itself is rather shallow). Using large amounts of unannotated plain text, word2vec learns relationships between words automatically. The output are vectors, one vector per word, with remarkable linear relationships that allow us to do things like vec(“king”) – vec(“man”) + vec(“woman”) =~ vec(“queen”), or vec(“Montreal Canadiens”) – vec(“Montreal”) + vec(“Toronto”) resembles the vector for “Toronto Maple Leafs”.\n",
    "\n",
    "Word2vec is very useful in [automatic text tagging](https://github.com/RaRe-Technologies/movie-plots-by-genre), recommender systems and machine translation.\n",
    "\n",
    "Check out an [online word2vec demo](http://radimrehurek.com/2014/02/word2vec-tutorial/#app) where you can try this vector algebra for yourself. That demo runs `word2vec` on the Google News dataset, of **about 100 billion words**.\n",
    "\n",
    "## This tutorial\n",
    "\n",
    "In this tutorial you will learn how to train and evaluate word2vec models on your business data.\n"
   ]
  },
  {
   "cell_type": "markdown",
   "metadata": {},
   "source": [
    "## Preparing the Input\n",
    "Starting from the beginning, gensim’s `word2vec` expects a sequence of sentences as its input. Each sentence a list of words (utf8 strings):"
   ]
  },
  {
   "cell_type": "code",
   "execution_count": 1,
   "metadata": {
    "collapsed": true
   },
   "outputs": [],
   "source": [
    "# import modules & set up logging\n",
    "import gensim, logging\n",
    "logging.basicConfig(format='%(asctime)s : %(levelname)s : %(message)s', level=logging.INFO)"
   ]
  },
  {
   "cell_type": "code",
   "execution_count": 2,
   "metadata": {
    "collapsed": true
   },
   "outputs": [
    {
     "name": "stderr",
     "output_type": "stream",
     "text": [
      "WARNING:gensim.models.word2vec:under 10 jobs per worker: consider setting a smaller `batch_words' for smoother alpha decay\n"
     ]
    }
   ],
   "source": [
    "sentences = [['first', 'sentence'], ['second', 'sentence']]\n",
    "# train word2vec on the two sentences\n",
    "model = gensim.models.Word2Vec(sentences, min_count=1)"
   ]
  },
  {
   "cell_type": "markdown",
   "metadata": {},
   "source": [
    "Keeping the input as a Python built-in list is convenient, but can use up a lot of RAM when the input is large.\n",
    "\n",
    "Gensim only requires that the input must provide sentences sequentially, when iterated over. No need to keep everything in RAM: we can provide one sentence, process it, forget it, load another sentence…\n",
    "\n",
    "For example, if our input is strewn across several files on disk, with one sentence per line, then instead of loading everything into an in-memory list, we can process the input file by file, line by line:"
   ]
  },
  {
   "cell_type": "code",
   "execution_count": 3,
   "metadata": {
    "collapsed": false
   },
   "outputs": [],
   "source": [
    "# create some toy data to use with the following example\n",
    "import smart_open, os\n",
    "\n",
    "if not os.path.exists('./data/'):\n",
    "    os.makedirs('./data/')\n",
    "\n",
    "filenames = ['./data/f1.txt', './data/f2.txt']\n",
    "\n",
    "for i, fname in enumerate(filenames):\n",
    "    with smart_open.smart_open(fname, 'w') as fout:\n",
    "        for line in sentences[i]:\n",
    "            fout.write(line + '\\n')"
   ]
  },
  {
   "cell_type": "code",
   "execution_count": 4,
   "metadata": {
    "collapsed": true
   },
   "outputs": [],
   "source": [
    "class MySentences(object):\n",
    "    def __init__(self, dirname):\n",
    "        self.dirname = dirname\n",
    " \n",
    "    def __iter__(self):\n",
    "        for fname in os.listdir(self.dirname):\n",
    "            for line in open(os.path.join(self.dirname, fname)):\n",
    "                yield line.split()"
   ]
  },
  {
   "cell_type": "code",
   "execution_count": 5,
   "metadata": {
    "collapsed": false
   },
   "outputs": [
    {
     "name": "stdout",
     "output_type": "stream",
     "text": [
      "[['first'], ['sentence'], ['second'], ['sentence']]\n"
     ]
    }
   ],
   "source": [
    "sentences = MySentences('./data/') # a memory-friendly iterator\n",
    "print(list(sentences))"
   ]
  },
  {
   "cell_type": "code",
   "execution_count": 6,
   "metadata": {
    "collapsed": true
   },
   "outputs": [
    {
     "name": "stderr",
     "output_type": "stream",
     "text": [
      "WARNING:gensim.models.word2vec:under 10 jobs per worker: consider setting a smaller `batch_words' for smoother alpha decay\n"
     ]
    }
   ],
   "source": [
    "# generate the Word2Vec model\n",
    "model = gensim.models.Word2Vec(sentences, min_count=1)\n"
   ]
  },
  {
   "cell_type": "code",
   "execution_count": 7,
   "metadata": {
    "collapsed": false
   },
   "outputs": [
    {
     "name": "stdout",
     "output_type": "stream",
     "text": [
      "Word2Vec(vocab=3, size=100, alpha=0.025)\n",
      "{'second': <gensim.models.word2vec.Vocab object at 0x7fb2639b6f90>, 'first': <gensim.models.word2vec.Vocab object at 0x7fb293914590>, 'sentence': <gensim.models.word2vec.Vocab object at 0x7fb293914850>}\n"
     ]
    }
   ],
   "source": [
    "print(model)\n",
    "print(model.wv.vocab)"
   ]
  },
  {
   "cell_type": "markdown",
   "metadata": {},
   "source": [
    "Say we want to further preprocess the words from the files — convert to unicode, lowercase, remove numbers, extract named entities… All of this can be done inside the `MySentences` iterator and `word2vec` doesn’t need to know. All that is required is that the input yields one sentence (list of utf8 words) after another.\n",
    "\n",
    "**Note to advanced users:** calling `Word2Vec(sentences, iter=1)` will run **two** passes over the sentences iterator. In general it runs `iter+1` passes. By the way, the default value is `iter=5` to comply with Google's word2vec in C language. \n",
    "  1. The first pass collects words and their frequencies to build an internal dictionary tree structure. \n",
    "  2. The second pass trains the neural model.\n",
    "\n",
    "These two passes can also be initiated manually, in case your input stream is non-repeatable (you can only afford one pass), and you’re able to initialize the vocabulary some other way:"
   ]
  },
  {
   "cell_type": "code",
   "execution_count": 8,
   "metadata": {
    "collapsed": true
   },
   "outputs": [
    {
     "name": "stderr",
     "output_type": "stream",
     "text": [
      "WARNING:gensim.models.word2vec:under 10 jobs per worker: consider setting a smaller `batch_words' for smoother alpha decay\n"
     ]
    },
    {
     "data": {
      "text/plain": [
       "0"
      ]
     },
     "execution_count": 8,
     "metadata": {},
     "output_type": "execute_result"
    }
   ],
   "source": [
    "# build the same model, making the 2 steps explicit\n",
    "new_model = gensim.models.Word2Vec(min_count=1)  # an empty model, no training\n",
    "new_model.build_vocab(sentences)                 # can be a non-repeatable, 1-pass generator     \n",
    "new_model.train(sentences)                       # can be a non-repeatable, 1-pass generator\n"
   ]
  },
  {
   "cell_type": "code",
   "execution_count": 9,
   "metadata": {
    "collapsed": false
   },
   "outputs": [
    {
     "name": "stdout",
     "output_type": "stream",
     "text": [
      "Word2Vec(vocab=3, size=100, alpha=0.025)\n",
      "{'second': <gensim.models.word2vec.Vocab object at 0x7fb2639b6f90>, 'first': <gensim.models.word2vec.Vocab object at 0x7fb293914590>, 'sentence': <gensim.models.word2vec.Vocab object at 0x7fb293914850>}\n"
     ]
    }
   ],
   "source": [
    "print(new_model)\n",
    "print(model.wv.vocab)"
   ]
  },
  {
   "cell_type": "markdown",
   "metadata": {},
   "source": [
    "## More data would be nice\n",
    "For the following examples, we'll use the [Lee Corpus](https://github.com/RaRe-Technologies/gensim/blob/develop/gensim/test/test_data/lee_background.cor) (which you already have if you've installed gensim):"
   ]
  },
  {
   "cell_type": "code",
   "execution_count": 10,
   "metadata": {
    "collapsed": false
   },
   "outputs": [],
   "source": [
    "# Set file names for train and test data\n",
    "test_data_dir = '{}'.format(os.sep).join([gensim.__path__[0], 'test', 'test_data']) + os.sep\n",
    "lee_train_file = test_data_dir + 'lee_background.cor'"
   ]
  },
  {
   "cell_type": "code",
   "execution_count": 11,
   "metadata": {
    "collapsed": false
   },
   "outputs": [
    {
     "name": "stdout",
     "output_type": "stream",
     "text": [
      "<__main__.MyText object at 0x7fb2639539d0>\n"
     ]
    }
   ],
   "source": [
    "class MyText(object):\n",
    "    def __iter__(self):\n",
    "        for line in open(lee_train_file):\n",
    "            # assume there's one document per line, tokens separated by whitespace\n",
    "            yield line.lower().split()\n",
    "\n",
    "sentences = MyText()\n",
    "\n",
    "print(sentences)"
   ]
  },
  {
   "cell_type": "markdown",
   "metadata": {},
   "source": [
    "## Training\n",
    "`Word2Vec` accepts several parameters that affect both training speed and quality.\n",
    "\n",
    "One of them is for pruning the internal dictionary. Words that appear only once or twice in a billion-word corpus are probably uninteresting typos and garbage. In addition, there’s not enough data to make any meaningful training on those words, so it’s best to ignore them:"
   ]
  },
  {
   "cell_type": "code",
   "execution_count": 12,
   "metadata": {
    "collapsed": true
   },
   "outputs": [],
   "source": [
    "# default value of min_count=5\n",
    "model = gensim.models.Word2Vec(sentences, min_count=10)"
   ]
  },
  {
   "cell_type": "code",
   "execution_count": 13,
   "metadata": {
    "collapsed": true
   },
   "outputs": [],
   "source": [
    "# default value of size=100\n",
    "model = gensim.models.Word2Vec(sentences, size=200)"
   ]
  },
  {
   "cell_type": "markdown",
   "metadata": {},
   "source": [
    "Bigger size values require more training data, but can lead to better (more accurate) models. Reasonable values are in the tens to hundreds.\n",
    "\n",
    "The last of the major parameters (full list [here](http://radimrehurek.com/gensim/models/word2vec.html#gensim.models.word2vec.Word2Vec)) is for training parallelization, to speed up training:"
   ]
  },
  {
   "cell_type": "code",
   "execution_count": 14,
   "metadata": {
    "collapsed": true
   },
   "outputs": [
    {
     "name": "stderr",
     "output_type": "stream",
     "text": [
      "WARNING:gensim.models.word2vec:under 10 jobs per worker: consider setting a smaller `batch_words' for smoother alpha decay\n"
     ]
    }
   ],
   "source": [
    "# default value of workers=3 (tutorial says 1...)\n",
    "model = gensim.models.Word2Vec(sentences, workers=4)"
   ]
  },
  {
   "cell_type": "markdown",
   "metadata": {},
   "source": [
    "The `workers` parameter only has an effect if you have [Cython](http://cython.org/) installed. Without Cython, you’ll only be able to use one core because of the [GIL](https://wiki.python.org/moin/GlobalInterpreterLock) (and `word2vec` training will be [miserably slow](http://rare-technologies.com/word2vec-in-python-part-two-optimizing/))."
   ]
  },
  {
   "cell_type": "markdown",
   "metadata": {},
   "source": [
    "## Memory\n",
    "At its core, `word2vec` model parameters are stored as matrices (NumPy arrays). Each array is **#vocabulary** (controlled by min_count parameter) times **#size** (size parameter) of floats (single precision aka 4 bytes).\n",
    "\n",
    "Three such matrices are held in RAM (work is underway to reduce that number to two, or even one). So if your input contains 100,000 unique words, and you asked for layer `size=200`, the model will require approx. `100,000*200*4*3 bytes = ~229MB`.\n",
    "\n",
    "There’s a little extra memory needed for storing the vocabulary tree (100,000 words would take a few megabytes), but unless your words are extremely loooong strings, memory footprint will be dominated by the three matrices above."
   ]
  },
  {
   "cell_type": "markdown",
   "metadata": {},
   "source": [
    "## Evaluating\n",
    "`Word2Vec` training is an unsupervised task, there’s no good way to objectively evaluate the result. Evaluation depends on your end application.\n",
    "\n",
    "Google have released their testing set of about 20,000 syntactic and semantic test examples, following the “A is to B as C is to D” task. It is provided in the 'datasets' folder.\n",
    "\n",
    "For example a syntactic analogy of comparative type is bad:worse;good:?. There are total of 9 types of syntactic comparisons in the dataset like plural nouns and nouns of opposite meaning.\n",
    "\n",
    "The semantic questions contain five types of semantic analogies, such as capital cities (Paris:France;Tokyo:?) or family members (brother:sister;dad:?). "
   ]
  },
  {
   "cell_type": "markdown",
   "metadata": {},
   "source": [
    "Gensim support the same evaluation set, in exactly the same format:"
   ]
  },
  {
   "cell_type": "code",
   "execution_count": 15,
   "metadata": {
    "collapsed": false
   },
   "outputs": [
    {
     "data": {
      "text/plain": [
       "[{'correct': [], 'incorrect': [], 'section': u'capital-common-countries'},\n",
       " {'correct': [], 'incorrect': [], 'section': u'capital-world'},\n",
       " {'correct': [], 'incorrect': [], 'section': u'currency'},\n",
       " {'correct': [], 'incorrect': [], 'section': u'city-in-state'},\n",
       " {'correct': [],\n",
       "  'incorrect': [(u'HE', u'SHE', u'HIS', u'HER'),\n",
       "   (u'HIS', u'HER', u'HE', u'SHE')],\n",
       "  'section': u'family'},\n",
       " {'correct': [], 'incorrect': [], 'section': u'gram1-adjective-to-adverb'},\n",
       " {'correct': [], 'incorrect': [], 'section': u'gram2-opposite'},\n",
       " {'correct': [],\n",
       "  'incorrect': [(u'GOOD', u'BETTER', u'GREAT', u'GREATER'),\n",
       "   (u'GOOD', u'BETTER', u'LONG', u'LONGER'),\n",
       "   (u'GOOD', u'BETTER', u'LOW', u'LOWER'),\n",
       "   (u'GREAT', u'GREATER', u'LONG', u'LONGER'),\n",
       "   (u'GREAT', u'GREATER', u'LOW', u'LOWER'),\n",
       "   (u'GREAT', u'GREATER', u'GOOD', u'BETTER'),\n",
       "   (u'LONG', u'LONGER', u'LOW', u'LOWER'),\n",
       "   (u'LONG', u'LONGER', u'GOOD', u'BETTER'),\n",
       "   (u'LONG', u'LONGER', u'GREAT', u'GREATER'),\n",
       "   (u'LOW', u'LOWER', u'GOOD', u'BETTER'),\n",
       "   (u'LOW', u'LOWER', u'GREAT', u'GREATER'),\n",
       "   (u'LOW', u'LOWER', u'LONG', u'LONGER')],\n",
       "  'section': u'gram3-comparative'},\n",
       " {'correct': [],\n",
       "  'incorrect': [(u'BIG', u'BIGGEST', u'GOOD', u'BEST'),\n",
       "   (u'BIG', u'BIGGEST', u'GREAT', u'GREATEST'),\n",
       "   (u'BIG', u'BIGGEST', u'LARGE', u'LARGEST'),\n",
       "   (u'GOOD', u'BEST', u'GREAT', u'GREATEST'),\n",
       "   (u'GOOD', u'BEST', u'LARGE', u'LARGEST'),\n",
       "   (u'GOOD', u'BEST', u'BIG', u'BIGGEST'),\n",
       "   (u'GREAT', u'GREATEST', u'LARGE', u'LARGEST'),\n",
       "   (u'GREAT', u'GREATEST', u'BIG', u'BIGGEST'),\n",
       "   (u'GREAT', u'GREATEST', u'GOOD', u'BEST'),\n",
       "   (u'LARGE', u'LARGEST', u'BIG', u'BIGGEST'),\n",
       "   (u'LARGE', u'LARGEST', u'GOOD', u'BEST'),\n",
       "   (u'LARGE', u'LARGEST', u'GREAT', u'GREATEST')],\n",
       "  'section': u'gram4-superlative'},\n",
       " {'correct': [(u'LOOK', u'LOOKING', u'SAY', u'SAYING')],\n",
       "  'incorrect': [(u'GO', u'GOING', u'LOOK', u'LOOKING'),\n",
       "   (u'GO', u'GOING', u'PLAY', u'PLAYING'),\n",
       "   (u'GO', u'GOING', u'RUN', u'RUNNING'),\n",
       "   (u'GO', u'GOING', u'SAY', u'SAYING'),\n",
       "   (u'LOOK', u'LOOKING', u'PLAY', u'PLAYING'),\n",
       "   (u'LOOK', u'LOOKING', u'RUN', u'RUNNING'),\n",
       "   (u'LOOK', u'LOOKING', u'GO', u'GOING'),\n",
       "   (u'PLAY', u'PLAYING', u'RUN', u'RUNNING'),\n",
       "   (u'PLAY', u'PLAYING', u'SAY', u'SAYING'),\n",
       "   (u'PLAY', u'PLAYING', u'GO', u'GOING'),\n",
       "   (u'PLAY', u'PLAYING', u'LOOK', u'LOOKING'),\n",
       "   (u'RUN', u'RUNNING', u'SAY', u'SAYING'),\n",
       "   (u'RUN', u'RUNNING', u'GO', u'GOING'),\n",
       "   (u'RUN', u'RUNNING', u'LOOK', u'LOOKING'),\n",
       "   (u'RUN', u'RUNNING', u'PLAY', u'PLAYING'),\n",
       "   (u'SAY', u'SAYING', u'GO', u'GOING'),\n",
       "   (u'SAY', u'SAYING', u'LOOK', u'LOOKING'),\n",
       "   (u'SAY', u'SAYING', u'PLAY', u'PLAYING'),\n",
       "   (u'SAY', u'SAYING', u'RUN', u'RUNNING')],\n",
       "  'section': u'gram5-present-participle'},\n",
       " {'correct': [],\n",
       "  'incorrect': [(u'AUSTRALIA', u'AUSTRALIAN', u'FRANCE', u'FRENCH'),\n",
       "   (u'AUSTRALIA', u'AUSTRALIAN', u'INDIA', u'INDIAN'),\n",
       "   (u'AUSTRALIA', u'AUSTRALIAN', u'ISRAEL', u'ISRAELI'),\n",
       "   (u'AUSTRALIA', u'AUSTRALIAN', u'SWITZERLAND', u'SWISS'),\n",
       "   (u'FRANCE', u'FRENCH', u'INDIA', u'INDIAN'),\n",
       "   (u'FRANCE', u'FRENCH', u'ISRAEL', u'ISRAELI'),\n",
       "   (u'FRANCE', u'FRENCH', u'SWITZERLAND', u'SWISS'),\n",
       "   (u'FRANCE', u'FRENCH', u'AUSTRALIA', u'AUSTRALIAN'),\n",
       "   (u'INDIA', u'INDIAN', u'ISRAEL', u'ISRAELI'),\n",
       "   (u'INDIA', u'INDIAN', u'SWITZERLAND', u'SWISS'),\n",
       "   (u'INDIA', u'INDIAN', u'AUSTRALIA', u'AUSTRALIAN'),\n",
       "   (u'INDIA', u'INDIAN', u'FRANCE', u'FRENCH'),\n",
       "   (u'ISRAEL', u'ISRAELI', u'SWITZERLAND', u'SWISS'),\n",
       "   (u'ISRAEL', u'ISRAELI', u'AUSTRALIA', u'AUSTRALIAN'),\n",
       "   (u'ISRAEL', u'ISRAELI', u'FRANCE', u'FRENCH'),\n",
       "   (u'ISRAEL', u'ISRAELI', u'INDIA', u'INDIAN'),\n",
       "   (u'SWITZERLAND', u'SWISS', u'AUSTRALIA', u'AUSTRALIAN'),\n",
       "   (u'SWITZERLAND', u'SWISS', u'FRANCE', u'FRENCH'),\n",
       "   (u'SWITZERLAND', u'SWISS', u'INDIA', u'INDIAN'),\n",
       "   (u'SWITZERLAND', u'SWISS', u'ISRAEL', u'ISRAELI')],\n",
       "  'section': u'gram6-nationality-adjective'},\n",
       " {'correct': [],\n",
       "  'incorrect': [(u'GOING', u'WENT', u'PAYING', u'PAID'),\n",
       "   (u'GOING', u'WENT', u'PLAYING', u'PLAYED'),\n",
       "   (u'GOING', u'WENT', u'SAYING', u'SAID'),\n",
       "   (u'GOING', u'WENT', u'TAKING', u'TOOK'),\n",
       "   (u'PAYING', u'PAID', u'PLAYING', u'PLAYED'),\n",
       "   (u'PAYING', u'PAID', u'SAYING', u'SAID'),\n",
       "   (u'PAYING', u'PAID', u'TAKING', u'TOOK'),\n",
       "   (u'PAYING', u'PAID', u'GOING', u'WENT'),\n",
       "   (u'PLAYING', u'PLAYED', u'SAYING', u'SAID'),\n",
       "   (u'PLAYING', u'PLAYED', u'TAKING', u'TOOK'),\n",
       "   (u'PLAYING', u'PLAYED', u'GOING', u'WENT'),\n",
       "   (u'PLAYING', u'PLAYED', u'PAYING', u'PAID'),\n",
       "   (u'SAYING', u'SAID', u'TAKING', u'TOOK'),\n",
       "   (u'SAYING', u'SAID', u'GOING', u'WENT'),\n",
       "   (u'SAYING', u'SAID', u'PAYING', u'PAID'),\n",
       "   (u'SAYING', u'SAID', u'PLAYING', u'PLAYED'),\n",
       "   (u'TAKING', u'TOOK', u'GOING', u'WENT'),\n",
       "   (u'TAKING', u'TOOK', u'PAYING', u'PAID'),\n",
       "   (u'TAKING', u'TOOK', u'PLAYING', u'PLAYED'),\n",
       "   (u'TAKING', u'TOOK', u'SAYING', u'SAID')],\n",
       "  'section': u'gram7-past-tense'},\n",
       " {'correct': [],\n",
       "  'incorrect': [(u'BUILDING', u'BUILDINGS', u'CAR', u'CARS'),\n",
       "   (u'BUILDING', u'BUILDINGS', u'CHILD', u'CHILDREN'),\n",
       "   (u'BUILDING', u'BUILDINGS', u'MAN', u'MEN'),\n",
       "   (u'CAR', u'CARS', u'CHILD', u'CHILDREN'),\n",
       "   (u'CAR', u'CARS', u'MAN', u'MEN'),\n",
       "   (u'CAR', u'CARS', u'BUILDING', u'BUILDINGS'),\n",
       "   (u'CHILD', u'CHILDREN', u'MAN', u'MEN'),\n",
       "   (u'CHILD', u'CHILDREN', u'BUILDING', u'BUILDINGS'),\n",
       "   (u'CHILD', u'CHILDREN', u'CAR', u'CARS'),\n",
       "   (u'MAN', u'MEN', u'BUILDING', u'BUILDINGS'),\n",
       "   (u'MAN', u'MEN', u'CAR', u'CARS'),\n",
       "   (u'MAN', u'MEN', u'CHILD', u'CHILDREN')],\n",
       "  'section': u'gram8-plural'},\n",
       " {'correct': [], 'incorrect': [], 'section': u'gram9-plural-verbs'},\n",
       " {'correct': [(u'LOOK', u'LOOKING', u'SAY', u'SAYING')],\n",
       "  'incorrect': [(u'HE', u'SHE', u'HIS', u'HER'),\n",
       "   (u'HIS', u'HER', u'HE', u'SHE'),\n",
       "   (u'GOOD', u'BETTER', u'GREAT', u'GREATER'),\n",
       "   (u'GOOD', u'BETTER', u'LONG', u'LONGER'),\n",
       "   (u'GOOD', u'BETTER', u'LOW', u'LOWER'),\n",
       "   (u'GREAT', u'GREATER', u'LONG', u'LONGER'),\n",
       "   (u'GREAT', u'GREATER', u'LOW', u'LOWER'),\n",
       "   (u'GREAT', u'GREATER', u'GOOD', u'BETTER'),\n",
       "   (u'LONG', u'LONGER', u'LOW', u'LOWER'),\n",
       "   (u'LONG', u'LONGER', u'GOOD', u'BETTER'),\n",
       "   (u'LONG', u'LONGER', u'GREAT', u'GREATER'),\n",
       "   (u'LOW', u'LOWER', u'GOOD', u'BETTER'),\n",
       "   (u'LOW', u'LOWER', u'GREAT', u'GREATER'),\n",
       "   (u'LOW', u'LOWER', u'LONG', u'LONGER'),\n",
       "   (u'BIG', u'BIGGEST', u'GOOD', u'BEST'),\n",
       "   (u'BIG', u'BIGGEST', u'GREAT', u'GREATEST'),\n",
       "   (u'BIG', u'BIGGEST', u'LARGE', u'LARGEST'),\n",
       "   (u'GOOD', u'BEST', u'GREAT', u'GREATEST'),\n",
       "   (u'GOOD', u'BEST', u'LARGE', u'LARGEST'),\n",
       "   (u'GOOD', u'BEST', u'BIG', u'BIGGEST'),\n",
       "   (u'GREAT', u'GREATEST', u'LARGE', u'LARGEST'),\n",
       "   (u'GREAT', u'GREATEST', u'BIG', u'BIGGEST'),\n",
       "   (u'GREAT', u'GREATEST', u'GOOD', u'BEST'),\n",
       "   (u'LARGE', u'LARGEST', u'BIG', u'BIGGEST'),\n",
       "   (u'LARGE', u'LARGEST', u'GOOD', u'BEST'),\n",
       "   (u'LARGE', u'LARGEST', u'GREAT', u'GREATEST'),\n",
       "   (u'GO', u'GOING', u'LOOK', u'LOOKING'),\n",
       "   (u'GO', u'GOING', u'PLAY', u'PLAYING'),\n",
       "   (u'GO', u'GOING', u'RUN', u'RUNNING'),\n",
       "   (u'GO', u'GOING', u'SAY', u'SAYING'),\n",
       "   (u'LOOK', u'LOOKING', u'PLAY', u'PLAYING'),\n",
       "   (u'LOOK', u'LOOKING', u'RUN', u'RUNNING'),\n",
       "   (u'LOOK', u'LOOKING', u'GO', u'GOING'),\n",
       "   (u'PLAY', u'PLAYING', u'RUN', u'RUNNING'),\n",
       "   (u'PLAY', u'PLAYING', u'SAY', u'SAYING'),\n",
       "   (u'PLAY', u'PLAYING', u'GO', u'GOING'),\n",
       "   (u'PLAY', u'PLAYING', u'LOOK', u'LOOKING'),\n",
       "   (u'RUN', u'RUNNING', u'SAY', u'SAYING'),\n",
       "   (u'RUN', u'RUNNING', u'GO', u'GOING'),\n",
       "   (u'RUN', u'RUNNING', u'LOOK', u'LOOKING'),\n",
       "   (u'RUN', u'RUNNING', u'PLAY', u'PLAYING'),\n",
       "   (u'SAY', u'SAYING', u'GO', u'GOING'),\n",
       "   (u'SAY', u'SAYING', u'LOOK', u'LOOKING'),\n",
       "   (u'SAY', u'SAYING', u'PLAY', u'PLAYING'),\n",
       "   (u'SAY', u'SAYING', u'RUN', u'RUNNING'),\n",
       "   (u'AUSTRALIA', u'AUSTRALIAN', u'FRANCE', u'FRENCH'),\n",
       "   (u'AUSTRALIA', u'AUSTRALIAN', u'INDIA', u'INDIAN'),\n",
       "   (u'AUSTRALIA', u'AUSTRALIAN', u'ISRAEL', u'ISRAELI'),\n",
       "   (u'AUSTRALIA', u'AUSTRALIAN', u'SWITZERLAND', u'SWISS'),\n",
       "   (u'FRANCE', u'FRENCH', u'INDIA', u'INDIAN'),\n",
       "   (u'FRANCE', u'FRENCH', u'ISRAEL', u'ISRAELI'),\n",
       "   (u'FRANCE', u'FRENCH', u'SWITZERLAND', u'SWISS'),\n",
       "   (u'FRANCE', u'FRENCH', u'AUSTRALIA', u'AUSTRALIAN'),\n",
       "   (u'INDIA', u'INDIAN', u'ISRAEL', u'ISRAELI'),\n",
       "   (u'INDIA', u'INDIAN', u'SWITZERLAND', u'SWISS'),\n",
       "   (u'INDIA', u'INDIAN', u'AUSTRALIA', u'AUSTRALIAN'),\n",
       "   (u'INDIA', u'INDIAN', u'FRANCE', u'FRENCH'),\n",
       "   (u'ISRAEL', u'ISRAELI', u'SWITZERLAND', u'SWISS'),\n",
       "   (u'ISRAEL', u'ISRAELI', u'AUSTRALIA', u'AUSTRALIAN'),\n",
       "   (u'ISRAEL', u'ISRAELI', u'FRANCE', u'FRENCH'),\n",
       "   (u'ISRAEL', u'ISRAELI', u'INDIA', u'INDIAN'),\n",
       "   (u'SWITZERLAND', u'SWISS', u'AUSTRALIA', u'AUSTRALIAN'),\n",
       "   (u'SWITZERLAND', u'SWISS', u'FRANCE', u'FRENCH'),\n",
       "   (u'SWITZERLAND', u'SWISS', u'INDIA', u'INDIAN'),\n",
       "   (u'SWITZERLAND', u'SWISS', u'ISRAEL', u'ISRAELI'),\n",
       "   (u'GOING', u'WENT', u'PAYING', u'PAID'),\n",
       "   (u'GOING', u'WENT', u'PLAYING', u'PLAYED'),\n",
       "   (u'GOING', u'WENT', u'SAYING', u'SAID'),\n",
       "   (u'GOING', u'WENT', u'TAKING', u'TOOK'),\n",
       "   (u'PAYING', u'PAID', u'PLAYING', u'PLAYED'),\n",
       "   (u'PAYING', u'PAID', u'SAYING', u'SAID'),\n",
       "   (u'PAYING', u'PAID', u'TAKING', u'TOOK'),\n",
       "   (u'PAYING', u'PAID', u'GOING', u'WENT'),\n",
       "   (u'PLAYING', u'PLAYED', u'SAYING', u'SAID'),\n",
       "   (u'PLAYING', u'PLAYED', u'TAKING', u'TOOK'),\n",
       "   (u'PLAYING', u'PLAYED', u'GOING', u'WENT'),\n",
       "   (u'PLAYING', u'PLAYED', u'PAYING', u'PAID'),\n",
       "   (u'SAYING', u'SAID', u'TAKING', u'TOOK'),\n",
       "   (u'SAYING', u'SAID', u'GOING', u'WENT'),\n",
       "   (u'SAYING', u'SAID', u'PAYING', u'PAID'),\n",
       "   (u'SAYING', u'SAID', u'PLAYING', u'PLAYED'),\n",
       "   (u'TAKING', u'TOOK', u'GOING', u'WENT'),\n",
       "   (u'TAKING', u'TOOK', u'PAYING', u'PAID'),\n",
       "   (u'TAKING', u'TOOK', u'PLAYING', u'PLAYED'),\n",
       "   (u'TAKING', u'TOOK', u'SAYING', u'SAID'),\n",
       "   (u'BUILDING', u'BUILDINGS', u'CAR', u'CARS'),\n",
       "   (u'BUILDING', u'BUILDINGS', u'CHILD', u'CHILDREN'),\n",
       "   (u'BUILDING', u'BUILDINGS', u'MAN', u'MEN'),\n",
       "   (u'CAR', u'CARS', u'CHILD', u'CHILDREN'),\n",
       "   (u'CAR', u'CARS', u'MAN', u'MEN'),\n",
       "   (u'CAR', u'CARS', u'BUILDING', u'BUILDINGS'),\n",
       "   (u'CHILD', u'CHILDREN', u'MAN', u'MEN'),\n",
       "   (u'CHILD', u'CHILDREN', u'BUILDING', u'BUILDINGS'),\n",
       "   (u'CHILD', u'CHILDREN', u'CAR', u'CARS'),\n",
       "   (u'MAN', u'MEN', u'BUILDING', u'BUILDINGS'),\n",
       "   (u'MAN', u'MEN', u'CAR', u'CARS'),\n",
       "   (u'MAN', u'MEN', u'CHILD', u'CHILDREN')],\n",
       "  'section': 'total'}]"
      ]
     },
     "execution_count": 15,
     "metadata": {},
     "output_type": "execute_result"
    }
   ],
   "source": [
    "model.accuracy('./datasets/questions-words.txt')"
   ]
  },
  {
   "cell_type": "markdown",
   "metadata": {},
   "source": [
    "This `accuracy` takes an \n",
    "[optional parameter](http://radimrehurek.com/gensim/models/word2vec.html#gensim.models.word2vec.Word2Vec.accuracy) `restrict_vocab` \n",
    "which limits which test examples are to be considered.\n",
    "\n"
   ]
  },
  {
   "cell_type": "markdown",
   "metadata": {},
   "source": [
    "In the December 2016 release of Gensim we added a better way to evaluate semantic similarity.\n",
    "\n",
    "By default it uses an academic dataset WS-353 but one can create a dataset specific to your business based on it. It contain word pairs together with human-assigned similarity judgments. It measures the relatedness or co-occurrence of two words. For example, coast and shore are very similar as they appear in the same context. At the same time clothes and closet are less similar because they are related but not interchangeable."
   ]
  },
  {
   "cell_type": "code",
   "execution_count": 16,
   "metadata": {
    "collapsed": false
   },
   "outputs": [
    {
     "data": {
      "text/plain": [
       "((0.10128579883072975, 0.47943282766520035),\n",
       " SpearmanrResult(correlation=0.072904174848358635, pvalue=0.61116578621439932),\n",
       " 85.55240793201133)"
      ]
     },
     "execution_count": 16,
     "metadata": {},
     "output_type": "execute_result"
    }
   ],
   "source": [
    "model.evaluate_word_pairs(test_data_dir +'wordsim353.tsv')"
   ]
  },
  {
   "cell_type": "markdown",
   "metadata": {},
   "source": [
    "Once again, **good performance on Google's or WS-353 test set doesn’t mean word2vec will work well in your application, or vice versa**. It’s always best to evaluate directly on your intended task. For an example of how to use word2vec in a classifier pipeline, see this [tutorial](https://github.com/RaRe-Technologies/movie-plots-by-genre)."
   ]
  },
  {
   "cell_type": "markdown",
   "metadata": {},
   "source": [
    "## Storing and loading models\n",
    "You can store/load models using the standard gensim methods:"
   ]
  },
  {
   "cell_type": "code",
   "execution_count": 31,
   "metadata": {
    "collapsed": true
   },
   "outputs": [
    {
     "name": "stderr",
     "output_type": "stream",
     "text": [
      "WARNING:gensim.models.word2vec:direct access to syn0norm will not be supported in future gensim releases, please use model.wv.syn0norm\n",
      "WARNING:gensim.models.word2vec:direct access to syn0norm will not be supported in future gensim releases, please use model.wv.syn0norm\n",
      "WARNING:gensim.models.word2vec:direct access to syn0norm will not be supported in future gensim releases, please use model.wv.syn0norm\n",
      "WARNING:gensim.models.word2vec:direct access to syn0norm will not be supported in future gensim releases, please use model.wv.syn0norm\n"
     ]
    }
   ],
   "source": [
    "from tempfile import mkstemp\n",
    "\n",
    "fs, temp_path = mkstemp(\"gensim_temp\")  # creates a temp file\n",
    "\n",
    "model.save(temp_path)  # save the model\n"
   ]
  },
  {
   "cell_type": "code",
   "execution_count": 32,
   "metadata": {
    "collapsed": true
   },
   "outputs": [
    {
     "name": "stderr",
     "output_type": "stream",
     "text": [
      "WARNING:gensim.models.word2vec:direct access to syn0norm will not be supported in future gensim releases, please use model.wv.syn0norm\n",
      "WARNING:gensim.models.word2vec:direct access to index2word will not be supported in future gensim releases, please use model.wv.index2word\n"
     ]
    }
   ],
   "source": [
    "new_model = gensim.models.Word2Vec.load(temp_path)  # open the model"
   ]
  },
  {
   "cell_type": "markdown",
   "metadata": {},
   "source": [
    "which uses pickle internally, optionally `mmap`‘ing the model’s internal large NumPy matrices into virtual memory directly from disk files, for inter-process memory sharing.\n",
    "\n",
    "In addition, you can load models created by the original C tool, both using its text and binary formats:\n",
    "\n",
    "    model = gensim.models.Word2Vec.load_word2vec_format('/tmp/vectors.txt', binary=False)\n",
    "    # using gzipped/bz2 input works too, no need to unzip:\n",
    "    model = gensim.models.Word2Vec.load_word2vec_format('/tmp/vectors.bin.gz', binary=True)"
   ]
  },
  {
   "cell_type": "markdown",
   "metadata": {},
   "source": [
    "## Online training / Resuming training\n",
    "Advanced users can load a model and continue training it with more sentences and [new vocabulary words](https://github.com/RaRe-Technologies/gensim/blob/develop/docs/notebooks/online_w2v_tutorial.ipynb):"
   ]
  },
  {
   "cell_type": "code",
   "execution_count": 33,
   "metadata": {
    "collapsed": true
   },
   "outputs": [
    {
     "name": "stderr",
     "output_type": "stream",
     "text": [
      "WARNING:gensim.models.word2vec:direct access to syn0norm will not be supported in future gensim releases, please use model.wv.syn0norm\n",
      "WARNING:gensim.models.word2vec:direct access to index2word will not be supported in future gensim releases, please use model.wv.index2word\n",
      "WARNING:gensim.models.word2vec:Each 'sentences' item should be a list of words (usually unicode strings).First item here is instead plain <type 'str'>.\n",
      "WARNING:gensim.models.word2vec:under 10 jobs per worker: consider setting a smaller `batch_words' for smoother alpha decay\n"
     ]
    }
   ],
   "source": [
    "model = gensim.models.Word2Vec.load(temp_path)\n",
    "more_sentences = ['Advanced', 'users', 'can', 'load', 'a', 'model', 'and', 'continue', \n",
    "                  'training', 'it', 'with', 'more', 'sentences']\n",
    "model.build_vocab(more_sentences, update=True)\n",
    "model.train(more_sentences, )\n",
    "\n",
    "# cleaning up temp\n",
    "os.close(fs)\n",
    "os.remove(temp_path)"
   ]
  },
  {
   "cell_type": "markdown",
   "metadata": {},
   "source": [
    "You may need to tweak the `total_words` parameter to `train()`, depending on what learning rate decay you want to simulate.\n",
    "\n",
    "Note that it’s not possible to resume training with models generated by the C tool, `load_word2vec_format()`. You can still use them for querying/similarity, but information vital for training (the vocab tree) is missing there.\n",
    "\n",
    "## Using the model\n",
    "`Word2Vec` supports several word similarity tasks out of the box:"
   ]
  },
  {
   "cell_type": "code",
   "execution_count": 34,
   "metadata": {
    "collapsed": false
   },
   "outputs": [
    {
     "data": {
      "text/plain": [
       "[('ensure', 0.9957192540168762)]"
      ]
     },
     "execution_count": 34,
     "metadata": {},
     "output_type": "execute_result"
    }
   ],
   "source": [
    "model.most_similar(positive=['human', 'crime'], negative=['party'], topn=1)"
   ]
  },
  {
   "cell_type": "code",
   "execution_count": 35,
   "metadata": {
    "collapsed": false
   },
   "outputs": [
    {
     "data": {
      "text/plain": [
       "'sentence'"
      ]
     },
     "execution_count": 35,
     "metadata": {},
     "output_type": "execute_result"
    }
   ],
   "source": [
    "model.doesnt_match(\"input is lunch he sentence cat\".split())"
   ]
  },
  {
   "cell_type": "code",
   "execution_count": 36,
   "metadata": {
    "collapsed": false
   },
   "outputs": [
    {
     "name": "stdout",
     "output_type": "stream",
     "text": [
      "0.999075350666\n",
      "0.994927937956\n"
     ]
    }
   ],
   "source": [
    "print(model.similarity('human', 'party'))\n",
    "print(model.similarity('tree', 'murder'))"
   ]
  },
  {
   "cell_type": "markdown",
   "metadata": {},
   "source": [
    "The results here don't look good because the training corpus is very small. To get meaningful results one needs to train on 500k+ words."
   ]
  },
  {
   "cell_type": "markdown",
   "metadata": {},
   "source": [
    "If you need the raw output vectors in your application, you can access these either on a word-by-word basis:"
   ]
  },
  {
   "cell_type": "code",
   "execution_count": 29,
   "metadata": {
    "collapsed": false
   },
   "outputs": [
    {
     "data": {
      "text/plain": [
       "array([ 0.0044026 ,  0.0197748 , -0.02639075, -0.00805756, -0.02940564,\n",
       "       -0.03424382,  0.00585153, -0.08163424, -0.01097746, -0.01996135,\n",
       "        0.02069173, -0.02237663, -0.06126078, -0.01786143, -0.01912139,\n",
       "        0.04299303, -0.02625322, -0.00262815,  0.02180346, -0.02537277,\n",
       "       -0.06165754, -0.00596116,  0.0625946 ,  0.04605089,  0.02265292,\n",
       "        0.01248171, -0.00406209,  0.01647919, -0.01257895,  0.00213343,\n",
       "        0.0013593 ,  0.06606596,  0.00893093, -0.00202957,  0.02115596,\n",
       "        0.0191715 , -0.03835866,  0.01671978,  0.01097227, -0.06311714,\n",
       "       -0.07220271,  0.00545426, -0.04120893, -0.02457557,  0.02904521,\n",
       "       -0.05145161,  0.03559498,  0.00507238, -0.01168406,  0.03649417,\n",
       "        0.01431915,  0.00701938, -0.03449947,  0.00628083,  0.01424492,\n",
       "       -0.01694195,  0.05345082, -0.02725438,  0.02032493, -0.03279101,\n",
       "       -0.02823507, -0.04623265,  0.01619413, -0.03048068, -0.01032882,\n",
       "       -0.05897115, -0.07391553,  0.03485925,  0.04940247, -0.00280599,\n",
       "       -0.00966417,  0.00758454, -0.04670098,  0.01224129, -0.04389989,\n",
       "       -0.05034593,  0.03377169, -0.00763094,  0.04285096,  0.03868506,\n",
       "       -0.01992619,  0.03243366, -0.01554415,  0.00177458,  0.01495264,\n",
       "        0.00747898, -0.08512215, -0.07518613,  0.06046252, -0.0258348 ,\n",
       "       -0.05520898, -0.04187159, -0.04409514, -0.00446168, -0.02488452,\n",
       "       -0.02667282, -0.02259186,  0.01971211, -0.04830339, -0.00232734], dtype=float32)"
      ]
     },
     "execution_count": 29,
     "metadata": {},
     "output_type": "execute_result"
    }
   ],
   "source": [
    "model['tree']  # raw NumPy vector of a word"
   ]
  },
  {
   "cell_type": "markdown",
   "metadata": {},
   "source": [
    "…or en-masse as a 2D NumPy matrix from `model.syn0`.\n",
    "\n",
    "## Conclusion\n",
    "\n",
    "In this tutorial we learned how to train word2vec models on your custom data and also how to evaluate it. Hope that you too will find this popular tool useful in your Machine Learning tasks!\n",
    "\n",
    "## Links\n",
    "\n",
    "\n",
    "Full `word2vec` API docs [here](http://radimrehurek.com/gensim/models/word2vec.html); get [gensim](http://radimrehurek.com/gensim/) here. Original C toolkit and `word2vec` papers by Google [here](https://code.google.com/archive/p/word2vec/)."
   ]
  },
  {
   "cell_type": "code",
   "execution_count": null,
   "metadata": {
    "collapsed": true
   },
   "outputs": [],
   "source": []
  }
 ],
 "metadata": {
  "anaconda-cloud": {},
  "kernelspec": {
   "display_name": "Python 2",
   "language": "python",
   "name": "python2"
  },
  "language_info": {
   "codemirror_mode": {
    "name": "ipython",
    "version": 2
   },
   "file_extension": ".py",
   "mimetype": "text/x-python",
   "name": "python",
   "nbconvert_exporter": "python",
   "pygments_lexer": "ipython2",
   "version": "2.7.12"
  }
 },
 "nbformat": 4,
 "nbformat_minor": 0
}
