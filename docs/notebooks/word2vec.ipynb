{
 "cells": [
  {
   "cell_type": "markdown",
   "metadata": {},
   "source": [
    "# Word2Vec Tutorial\n",
    "This tutorial follows a [blog post](http://rare-technologies.com/word2vec-tutorial/) written by the creator of gensim."
   ]
  },
  {
   "cell_type": "markdown",
   "metadata": {},
   "source": [
    "## Preparing the Input\n",
    "Starting from the beginning, gensim’s `word2vec` expects a sequence of sentences as its input. Each sentence a list of words (utf8 strings):"
   ]
  },
  {
   "cell_type": "code",
   "execution_count": 1,
   "metadata": {
    "collapsed": true
   },
   "outputs": [],
   "source": [
    "# import modules & set up logging\n",
    "import gensim, logging\n",
    "logging.basicConfig(format='%(asctime)s : %(levelname)s : %(message)s', level=logging.INFO)"
   ]
  },
  {
   "cell_type": "code",
   "execution_count": 2,
   "metadata": {
    "collapsed": false
   },
   "outputs": [
    {
     "name": "stderr",
     "output_type": "stream",
     "text": [
      "2016-11-10 19:48:07,037 : INFO : collecting all words and their counts\n",
      "2016-11-10 19:48:07,043 : INFO : PROGRESS: at sentence #0, processed 0 words, keeping 0 word types\n",
      "2016-11-10 19:48:07,045 : INFO : collected 3 word types from a corpus of 4 raw words and 2 sentences\n",
      "2016-11-10 19:48:07,049 : INFO : min_count=1 retains 3 unique words (drops 0)\n",
      "2016-11-10 19:48:07,054 : INFO : min_count leaves 4 word corpus (100% of original 4)\n",
      "2016-11-10 19:48:07,059 : INFO : deleting the raw counts dictionary of 3 items\n",
      "2016-11-10 19:48:07,062 : INFO : sample=0.001 downsamples 3 most-common words\n",
      "2016-11-10 19:48:07,065 : INFO : downsampling leaves estimated 0 word corpus (5.7% of prior 4)\n",
      "2016-11-10 19:48:07,068 : INFO : estimated required memory for 3 words and 100 dimensions: 3900 bytes\n",
      "2016-11-10 19:48:07,073 : INFO : resetting layer weights\n",
      "2016-11-10 19:48:07,076 : INFO : training model with 3 workers on 3 vocabulary and 100 features, using sg=0 hs=0 sample=0.001 negative=5\n",
      "2016-11-10 19:48:07,079 : INFO : expecting 2 sentences, matching count from corpus used for vocabulary survey\n",
      "2016-11-10 19:48:07,099 : INFO : worker thread finished; awaiting finish of 2 more threads\n",
      "2016-11-10 19:48:07,100 : INFO : worker thread finished; awaiting finish of 1 more threads\n",
      "2016-11-10 19:48:07,102 : INFO : worker thread finished; awaiting finish of 0 more threads\n",
      "2016-11-10 19:48:07,104 : INFO : training on 20 raw words (0 effective words) took 0.0s, 0 effective words/s\n",
      "2016-11-10 19:48:07,108 : WARNING : under 10 jobs per worker: consider setting a smaller `batch_words' for smoother alpha decay\n"
     ]
    }
   ],
   "source": [
    "sentences = [['first', 'sentence'], ['second', 'sentence']]\n",
    "# train word2vec on the two sentences\n",
    "model = gensim.models.Word2Vec(sentences, min_count=1)"
   ]
  },
  {
   "cell_type": "markdown",
   "metadata": {},
   "source": [
    "Keeping the input as a Python built-in list is convenient, but can use up a lot of RAM when the input is large.\n",
    "\n",
    "Gensim only requires that the input must provide sentences sequentially, when iterated over. No need to keep everything in RAM: we can provide one sentence, process it, forget it, load another sentence…\n",
    "\n",
    "For example, if our input is strewn across several files on disk, with one sentence per line, then instead of loading everything into an in-memory list, we can process the input file by file, line by line:"
   ]
  },
  {
   "cell_type": "code",
   "execution_count": 3,
   "metadata": {
    "collapsed": false
   },
   "outputs": [],
   "source": [
    "# create some toy data to use with the following example\n",
    "import smart_open, os\n",
    "\n",
    "if not os.path.exists('./data/'):\n",
    "    os.makedirs('./data/')\n",
    "\n",
    "filenames = ['./data/f1.txt', './data/f2.txt']\n",
    "\n",
    "for i, fname in enumerate(filenames):\n",
    "    with smart_open.smart_open(fname, 'w') as fout:\n",
    "        for line in sentences[i]:\n",
    "            fout.write(line + '\\n')"
   ]
  },
  {
   "cell_type": "code",
   "execution_count": 4,
   "metadata": {
    "collapsed": true
   },
   "outputs": [],
   "source": [
    "class MySentences(object):\n",
    "    def __init__(self, dirname):\n",
    "        self.dirname = dirname\n",
    " \n",
    "    def __iter__(self):\n",
    "        for fname in os.listdir(self.dirname):\n",
    "            for line in open(os.path.join(self.dirname, fname)):\n",
    "                yield line.split()"
   ]
  },
  {
   "cell_type": "code",
   "execution_count": 5,
   "metadata": {
    "collapsed": false
   },
   "outputs": [
    {
     "name": "stdout",
     "output_type": "stream",
     "text": [
      "[['first'], ['sentence'], ['second'], ['sentence']]\n"
     ]
    }
   ],
   "source": [
    "sentences = MySentences('./data/') # a memory-friendly iterator\n",
    "print(list(sentences))"
   ]
  },
  {
   "cell_type": "code",
   "execution_count": 6,
   "metadata": {
    "collapsed": false
   },
   "outputs": [
    {
     "name": "stderr",
     "output_type": "stream",
     "text": [
      "2016-11-10 19:48:07,625 : INFO : collecting all words and their counts\n",
      "2016-11-10 19:48:07,625 : INFO : PROGRESS: at sentence #0, processed 0 words, keeping 0 word types\n",
      "2016-11-10 19:48:07,634 : INFO : collected 3 word types from a corpus of 4 raw words and 4 sentences\n",
      "2016-11-10 19:48:07,634 : INFO : min_count=1 retains 3 unique words (drops 0)\n",
      "2016-11-10 19:48:07,638 : INFO : min_count leaves 4 word corpus (100% of original 4)\n",
      "2016-11-10 19:48:07,642 : INFO : deleting the raw counts dictionary of 3 items\n",
      "2016-11-10 19:48:07,646 : INFO : sample=0.001 downsamples 3 most-common words\n",
      "2016-11-10 19:48:07,646 : INFO : downsampling leaves estimated 0 word corpus (5.7% of prior 4)\n",
      "2016-11-10 19:48:07,650 : INFO : estimated required memory for 3 words and 100 dimensions: 3900 bytes\n",
      "2016-11-10 19:48:07,654 : INFO : resetting layer weights\n",
      "2016-11-10 19:48:07,658 : INFO : training model with 3 workers on 3 vocabulary and 100 features, using sg=0 hs=0 sample=0.001 negative=5\n",
      "2016-11-10 19:48:07,662 : INFO : expecting 4 sentences, matching count from corpus used for vocabulary survey\n",
      "2016-11-10 19:48:07,690 : INFO : worker thread finished; awaiting finish of 2 more threads\n",
      "2016-11-10 19:48:07,690 : INFO : worker thread finished; awaiting finish of 1 more threads\n",
      "2016-11-10 19:48:07,694 : INFO : worker thread finished; awaiting finish of 0 more threads\n",
      "2016-11-10 19:48:07,696 : INFO : training on 20 raw words (0 effective words) took 0.0s, 0 effective words/s\n",
      "2016-11-10 19:48:07,698 : WARNING : under 10 jobs per worker: consider setting a smaller `batch_words' for smoother alpha decay\n"
     ]
    },
    {
     "name": "stdout",
     "output_type": "stream",
     "text": [
      "Word2Vec(vocab=3, size=100, alpha=0.025)\n",
      "{'second': <gensim.models.word2vec.Vocab object at 0x00000216B9898470>, 'first': <gensim.models.word2vec.Vocab object at 0x00000216B9898400>, 'sentence': <gensim.models.word2vec.Vocab object at 0x00000216B98984E0>}\n"
     ]
    }
   ],
   "source": [
    "# generate the Word2Vec model\n",
    "model = gensim.models.Word2Vec(sentences, min_count=1)\n",
    "print(model)\n",
    "print(model.vocab)"
   ]
  },
  {
   "cell_type": "markdown",
   "metadata": {},
   "source": [
    "Say we want to further preprocess the words from the files — convert to unicode, lowercase, remove numbers, extract named entities… All of this can be done inside the `MySentences` iterator and `word2vec` doesn’t need to know. All that is required is that the input yields one sentence (list of utf8 words) after another.\n",
    "\n",
    "**Note to advanced users:** calling `Word2Vec(sentences)` will run two passes over the sentences iterator. \n",
    "  1. The first pass collects words and their frequencies to build an internal dictionary tree structure. \n",
    "  2. The second pass trains the neural model.\n",
    "\n",
    "These two passes can also be initiated manually, in case your input stream is non-repeatable (you can only afford one pass), and you’re able to initialize the vocabulary some other way:"
   ]
  },
  {
   "cell_type": "code",
   "execution_count": 7,
   "metadata": {
    "collapsed": false
   },
   "outputs": [
    {
     "name": "stderr",
     "output_type": "stream",
     "text": [
      "2016-11-10 19:48:07,742 : INFO : collecting all words and their counts\n",
      "2016-11-10 19:48:07,746 : INFO : PROGRESS: at sentence #0, processed 0 words, keeping 0 word types\n",
      "2016-11-10 19:48:07,750 : INFO : collected 3 word types from a corpus of 4 raw words and 4 sentences\n",
      "2016-11-10 19:48:07,754 : INFO : min_count=1 retains 3 unique words (drops 0)\n",
      "2016-11-10 19:48:07,758 : INFO : min_count leaves 4 word corpus (100% of original 4)\n",
      "2016-11-10 19:48:07,758 : INFO : deleting the raw counts dictionary of 3 items\n",
      "2016-11-10 19:48:07,762 : INFO : sample=0.001 downsamples 3 most-common words\n",
      "2016-11-10 19:48:07,762 : INFO : downsampling leaves estimated 0 word corpus (5.7% of prior 4)\n",
      "2016-11-10 19:48:07,766 : INFO : estimated required memory for 3 words and 100 dimensions: 3900 bytes\n",
      "2016-11-10 19:48:07,766 : INFO : resetting layer weights\n",
      "2016-11-10 19:48:07,770 : INFO : training model with 3 workers on 3 vocabulary and 100 features, using sg=0 hs=0 sample=0.001 negative=5\n",
      "2016-11-10 19:48:07,770 : INFO : expecting 4 sentences, matching count from corpus used for vocabulary survey\n",
      "2016-11-10 19:48:07,782 : INFO : worker thread finished; awaiting finish of 2 more threads\n",
      "2016-11-10 19:48:07,786 : INFO : worker thread finished; awaiting finish of 1 more threads\n",
      "2016-11-10 19:48:07,786 : INFO : worker thread finished; awaiting finish of 0 more threads\n",
      "2016-11-10 19:48:07,786 : INFO : training on 20 raw words (0 effective words) took 0.0s, 0 effective words/s\n",
      "2016-11-10 19:48:07,790 : WARNING : under 10 jobs per worker: consider setting a smaller `batch_words' for smoother alpha decay\n"
     ]
    },
    {
     "name": "stdout",
     "output_type": "stream",
     "text": [
      "Word2Vec(vocab=3, size=100, alpha=0.025)\n",
      "{'second': <gensim.models.word2vec.Vocab object at 0x00000216B9898470>, 'first': <gensim.models.word2vec.Vocab object at 0x00000216B9898400>, 'sentence': <gensim.models.word2vec.Vocab object at 0x00000216B98984E0>}\n"
     ]
    }
   ],
   "source": [
    "# build the same model, making the 2 steps explicit\n",
    "new_model = gensim.models.Word2Vec(min_count=1)  # an empty model, no training\n",
    "new_model.build_vocab(sentences)                 # can be a non-repeatable, 1-pass generator     \n",
    "new_model.train(sentences)                       # can be a non-repeatable, 1-pass generator\n",
    "print(new_model)\n",
    "print(model.vocab)"
   ]
  },
  {
   "cell_type": "markdown",
   "metadata": {},
   "source": [
    "## More data would be nice\n",
    "For the following examples, we'll use the Lee Corpus (which you already have if you've installed gensim):"
   ]
  },
  {
   "cell_type": "code",
   "execution_count": 8,
   "metadata": {
    "collapsed": true
   },
   "outputs": [],
   "source": [
    "# Set file names for train and test data\n",
    "test_data_dir = '{}'.format(os.sep).join([gensim.__path__[0], 'test', 'test_data']) + os.sep\n",
    "lee_train_file = test_data_dir + 'lee_background.cor'"
   ]
  },
  {
   "cell_type": "code",
   "execution_count": 9,
   "metadata": {
    "collapsed": false
   },
   "outputs": [
    {
     "name": "stdout",
     "output_type": "stream",
     "text": [
      "<__main__.MyText object at 0x00000216B9890940>\n"
     ]
    }
   ],
   "source": [
    "class MyText(object):\n",
    "    def __iter__(self):\n",
    "        for line in open(lee_train_file):\n",
    "            # assume there's one document per line, tokens separated by whitespace\n",
    "            yield line.lower().split()\n",
    "\n",
    "sentences = MyText()\n",
    "\n",
    "print(sentences)"
   ]
  },
  {
   "cell_type": "markdown",
   "metadata": {},
   "source": [
    "## Training\n",
    "`Word2Vec` accepts several parameters that affect both training speed and quality.\n",
    "\n",
    "One of them is for pruning the internal dictionary. Words that appear only once or twice in a billion-word corpus are probably uninteresting typos and garbage. In addition, there’s not enough data to make any meaningful training on those words, so it’s best to ignore them:"
   ]
  },
  {
   "cell_type": "code",
   "execution_count": 10,
   "metadata": {
    "collapsed": false
   },
   "outputs": [
    {
     "name": "stderr",
     "output_type": "stream",
     "text": [
      "2016-11-10 19:48:08,108 : INFO : collecting all words and their counts\n",
      "2016-11-10 19:48:08,110 : INFO : PROGRESS: at sentence #0, processed 0 words, keeping 0 word types\n",
      "2016-11-10 19:48:08,155 : INFO : collected 10186 word types from a corpus of 59890 raw words and 300 sentences\n",
      "2016-11-10 19:48:08,175 : INFO : min_count=10 retains 806 unique words (drops 9380)\n",
      "2016-11-10 19:48:08,175 : INFO : min_count leaves 40964 word corpus (68% of original 59890)\n",
      "2016-11-10 19:48:08,186 : INFO : deleting the raw counts dictionary of 10186 items\n",
      "2016-11-10 19:48:08,194 : INFO : sample=0.001 downsamples 54 most-common words\n",
      "2016-11-10 19:48:08,206 : INFO : downsampling leaves estimated 26224 word corpus (64.0% of prior 40964)\n",
      "2016-11-10 19:48:08,210 : INFO : estimated required memory for 806 words and 100 dimensions: 1047800 bytes\n",
      "2016-11-10 19:48:08,225 : INFO : resetting layer weights\n",
      "2016-11-10 19:48:08,298 : INFO : training model with 3 workers on 806 vocabulary and 100 features, using sg=0 hs=0 sample=0.001 negative=5\n",
      "2016-11-10 19:48:08,299 : INFO : expecting 300 sentences, matching count from corpus used for vocabulary survey\n",
      "2016-11-10 19:48:08,623 : INFO : worker thread finished; awaiting finish of 2 more threads\n",
      "2016-11-10 19:48:08,629 : INFO : worker thread finished; awaiting finish of 1 more threads\n",
      "2016-11-10 19:48:08,647 : INFO : worker thread finished; awaiting finish of 0 more threads\n",
      "2016-11-10 19:48:08,650 : INFO : training on 299450 raw words (131035 effective words) took 0.3s, 378385 effective words/s\n"
     ]
    }
   ],
   "source": [
    "# default value of min_count=5\n",
    "model = gensim.models.Word2Vec(sentences, min_count=10)"
   ]
  },
  {
   "cell_type": "code",
   "execution_count": 11,
   "metadata": {
    "collapsed": false
   },
   "outputs": [
    {
     "name": "stderr",
     "output_type": "stream",
     "text": [
      "2016-11-10 19:48:08,667 : INFO : collecting all words and their counts\n",
      "2016-11-10 19:48:08,674 : INFO : PROGRESS: at sentence #0, processed 0 words, keeping 0 word types\n",
      "2016-11-10 19:48:08,735 : INFO : collected 10186 word types from a corpus of 59890 raw words and 300 sentences\n",
      "2016-11-10 19:48:08,755 : INFO : min_count=5 retains 1723 unique words (drops 8463)\n",
      "2016-11-10 19:48:08,766 : INFO : min_count leaves 46858 word corpus (78% of original 59890)\n",
      "2016-11-10 19:48:08,795 : INFO : deleting the raw counts dictionary of 10186 items\n",
      "2016-11-10 19:48:08,800 : INFO : sample=0.001 downsamples 49 most-common words\n",
      "2016-11-10 19:48:08,803 : INFO : downsampling leaves estimated 32849 word corpus (70.1% of prior 46858)\n",
      "2016-11-10 19:48:08,805 : INFO : estimated required memory for 1723 words and 200 dimensions: 3618300 bytes\n",
      "2016-11-10 19:48:08,820 : INFO : resetting layer weights\n",
      "2016-11-10 19:48:08,910 : INFO : training model with 3 workers on 1723 vocabulary and 200 features, using sg=0 hs=0 sample=0.001 negative=5\n",
      "2016-11-10 19:48:08,911 : INFO : expecting 300 sentences, matching count from corpus used for vocabulary survey\n",
      "2016-11-10 19:48:09,378 : INFO : worker thread finished; awaiting finish of 2 more threads\n",
      "2016-11-10 19:48:09,388 : INFO : worker thread finished; awaiting finish of 1 more threads\n",
      "2016-11-10 19:48:09,404 : INFO : worker thread finished; awaiting finish of 0 more threads\n",
      "2016-11-10 19:48:09,411 : INFO : training on 299450 raw words (164316 effective words) took 0.5s, 331532 effective words/s\n"
     ]
    }
   ],
   "source": [
    "# default value of size=100\n",
    "model = gensim.models.Word2Vec(sentences, size=200)"
   ]
  },
  {
   "cell_type": "markdown",
   "metadata": {},
   "source": [
    "Bigger size values require more training data, but can lead to better (more accurate) models. Reasonable values are in the tens to hundreds.\n",
    "\n",
    "The last of the major parameters (full list [here](http://radimrehurek.com/gensim/models/word2vec.html#gensim.models.word2vec.Word2Vec)) is for training parallelization, to speed up training:"
   ]
  },
  {
   "cell_type": "code",
   "execution_count": 12,
   "metadata": {
    "collapsed": false
   },
   "outputs": [
    {
     "name": "stderr",
     "output_type": "stream",
     "text": [
      "2016-11-10 19:48:09,429 : INFO : collecting all words and their counts\n",
      "2016-11-10 19:48:09,434 : INFO : PROGRESS: at sentence #0, processed 0 words, keeping 0 word types\n",
      "2016-11-10 19:48:09,486 : INFO : collected 10186 word types from a corpus of 59890 raw words and 300 sentences\n",
      "2016-11-10 19:48:09,507 : INFO : min_count=5 retains 1723 unique words (drops 8463)\n",
      "2016-11-10 19:48:09,511 : INFO : min_count leaves 46858 word corpus (78% of original 59890)\n",
      "2016-11-10 19:48:09,528 : INFO : deleting the raw counts dictionary of 10186 items\n",
      "2016-11-10 19:48:09,535 : INFO : sample=0.001 downsamples 49 most-common words\n",
      "2016-11-10 19:48:09,538 : INFO : downsampling leaves estimated 32849 word corpus (70.1% of prior 46858)\n",
      "2016-11-10 19:48:09,541 : INFO : estimated required memory for 1723 words and 100 dimensions: 2239900 bytes\n",
      "2016-11-10 19:48:09,570 : INFO : resetting layer weights\n",
      "2016-11-10 19:48:09,648 : INFO : training model with 4 workers on 1723 vocabulary and 100 features, using sg=0 hs=0 sample=0.001 negative=5\n",
      "2016-11-10 19:48:09,649 : INFO : expecting 300 sentences, matching count from corpus used for vocabulary survey\n",
      "2016-11-10 19:48:10,029 : INFO : worker thread finished; awaiting finish of 3 more threads\n",
      "2016-11-10 19:48:10,034 : INFO : worker thread finished; awaiting finish of 2 more threads\n",
      "2016-11-10 19:48:10,071 : INFO : worker thread finished; awaiting finish of 1 more threads\n",
      "2016-11-10 19:48:10,090 : INFO : worker thread finished; awaiting finish of 0 more threads\n",
      "2016-11-10 19:48:10,095 : INFO : training on 299450 raw words (164298 effective words) took 0.4s, 373031 effective words/s\n",
      "2016-11-10 19:48:10,100 : WARNING : under 10 jobs per worker: consider setting a smaller `batch_words' for smoother alpha decay\n"
     ]
    }
   ],
   "source": [
    "# default value of workers=3 (tutorial says 1...)\n",
    "model = gensim.models.Word2Vec(sentences, workers=4)"
   ]
  },
  {
   "cell_type": "markdown",
   "metadata": {},
   "source": [
    "The `workers` parameter only has an effect if you have [Cython](http://cython.org/) installed. Without Cython, you’ll only be able to use one core because of the [GIL](https://wiki.python.org/moin/GlobalInterpreterLock) (and `word2vec` training will be [miserably slow](http://rare-technologies.com/word2vec-in-python-part-two-optimizing/))."
   ]
  },
  {
   "cell_type": "markdown",
   "metadata": {},
   "source": [
    "## Memory\n",
    "At its core, `word2vec` model parameters are stored as matrices (NumPy arrays). Each array is **#vocabulary** (controlled by min_count parameter) times **#size** (size parameter) of floats (single precision aka 4 bytes).\n",
    "\n",
    "Three such matrices are held in RAM (work is underway to reduce that number to two, or even one). So if your input contains 100,000 unique words, and you asked for layer `size=200`, the model will require approx. `100,000*200*4*3 bytes = ~229MB`.\n",
    "\n",
    "There’s a little extra memory needed for storing the vocabulary tree (100,000 words would take a few megabytes), but unless your words are extremely loooong strings, memory footprint will be dominated by the three matrices above."
   ]
  },
  {
   "cell_type": "markdown",
   "metadata": {},
   "source": [
    "## Evaluating\n",
    "`Word2Vec` training is an unsupervised task, there’s no good way to objectively evaluate the result. Evaluation depends on your end application.\n",
    "\n",
    "Google have released their testing set of about 20,000 syntactic and semantic test examples, following the “A is to B as C is to D” task. It is provided in the 'datasets' folder."
   ]
  },
  {
   "cell_type": "markdown",
   "metadata": {},
   "source": [
    "Gensim support the same evaluation set, in exactly the same format:"
   ]
  },
  {
   "cell_type": "code",
   "execution_count": 20,
   "metadata": {
    "collapsed": false
   },
   "outputs": [
    {
     "name": "stderr",
     "output_type": "stream",
     "text": [
      "2016-11-10 19:48:43,879 : INFO : family: 0.0% (0/2)\n",
      "2016-11-10 19:48:43,947 : INFO : gram3-comparative: 0.0% (0/12)\n",
      "2016-11-10 19:48:43,978 : INFO : gram4-superlative: 0.0% (0/12)\n",
      "2016-11-10 19:48:44,011 : INFO : gram5-present-participle: 0.0% (0/20)\n",
      "2016-11-10 19:48:44,061 : INFO : gram6-nationality-adjective: 0.0% (0/20)\n",
      "2016-11-10 19:48:44,105 : INFO : gram7-past-tense: 0.0% (0/20)\n",
      "2016-11-10 19:48:44,138 : INFO : gram8-plural: 0.0% (0/12)\n",
      "2016-11-10 19:48:44,152 : INFO : total: 0.0% (0/98)\n"
     ]
    },
    {
     "data": {
      "text/plain": [
       "[{'correct': [], 'incorrect': [], 'section': 'capital-common-countries'},\n",
       " {'correct': [], 'incorrect': [], 'section': 'capital-world'},\n",
       " {'correct': [], 'incorrect': [], 'section': 'currency'},\n",
       " {'correct': [], 'incorrect': [], 'section': 'city-in-state'},\n",
       " {'correct': [],\n",
       "  'incorrect': [('he', 'she', 'his', 'her'), ('his', 'her', 'he', 'she')],\n",
       "  'section': 'family'},\n",
       " {'correct': [], 'incorrect': [], 'section': 'gram1-adjective-to-adverb'},\n",
       " {'correct': [], 'incorrect': [], 'section': 'gram2-opposite'},\n",
       " {'correct': [],\n",
       "  'incorrect': [('good', 'better', 'great', 'greater'),\n",
       "   ('good', 'better', 'long', 'longer'),\n",
       "   ('good', 'better', 'low', 'lower'),\n",
       "   ('great', 'greater', 'long', 'longer'),\n",
       "   ('great', 'greater', 'low', 'lower'),\n",
       "   ('great', 'greater', 'good', 'better'),\n",
       "   ('long', 'longer', 'low', 'lower'),\n",
       "   ('long', 'longer', 'good', 'better'),\n",
       "   ('long', 'longer', 'great', 'greater'),\n",
       "   ('low', 'lower', 'good', 'better'),\n",
       "   ('low', 'lower', 'great', 'greater'),\n",
       "   ('low', 'lower', 'long', 'longer')],\n",
       "  'section': 'gram3-comparative'},\n",
       " {'correct': [],\n",
       "  'incorrect': [('big', 'biggest', 'good', 'best'),\n",
       "   ('big', 'biggest', 'great', 'greatest'),\n",
       "   ('big', 'biggest', 'large', 'largest'),\n",
       "   ('good', 'best', 'great', 'greatest'),\n",
       "   ('good', 'best', 'large', 'largest'),\n",
       "   ('good', 'best', 'big', 'biggest'),\n",
       "   ('great', 'greatest', 'large', 'largest'),\n",
       "   ('great', 'greatest', 'big', 'biggest'),\n",
       "   ('great', 'greatest', 'good', 'best'),\n",
       "   ('large', 'largest', 'big', 'biggest'),\n",
       "   ('large', 'largest', 'good', 'best'),\n",
       "   ('large', 'largest', 'great', 'greatest')],\n",
       "  'section': 'gram4-superlative'},\n",
       " {'correct': [],\n",
       "  'incorrect': [('go', 'going', 'look', 'looking'),\n",
       "   ('go', 'going', 'play', 'playing'),\n",
       "   ('go', 'going', 'run', 'running'),\n",
       "   ('go', 'going', 'say', 'saying'),\n",
       "   ('look', 'looking', 'play', 'playing'),\n",
       "   ('look', 'looking', 'run', 'running'),\n",
       "   ('look', 'looking', 'say', 'saying'),\n",
       "   ('look', 'looking', 'go', 'going'),\n",
       "   ('play', 'playing', 'run', 'running'),\n",
       "   ('play', 'playing', 'say', 'saying'),\n",
       "   ('play', 'playing', 'go', 'going'),\n",
       "   ('play', 'playing', 'look', 'looking'),\n",
       "   ('run', 'running', 'say', 'saying'),\n",
       "   ('run', 'running', 'go', 'going'),\n",
       "   ('run', 'running', 'look', 'looking'),\n",
       "   ('run', 'running', 'play', 'playing'),\n",
       "   ('say', 'saying', 'go', 'going'),\n",
       "   ('say', 'saying', 'look', 'looking'),\n",
       "   ('say', 'saying', 'play', 'playing'),\n",
       "   ('say', 'saying', 'run', 'running')],\n",
       "  'section': 'gram5-present-participle'},\n",
       " {'correct': [],\n",
       "  'incorrect': [('australia', 'australian', 'france', 'french'),\n",
       "   ('australia', 'australian', 'india', 'indian'),\n",
       "   ('australia', 'australian', 'israel', 'israeli'),\n",
       "   ('australia', 'australian', 'switzerland', 'swiss'),\n",
       "   ('france', 'french', 'india', 'indian'),\n",
       "   ('france', 'french', 'israel', 'israeli'),\n",
       "   ('france', 'french', 'switzerland', 'swiss'),\n",
       "   ('france', 'french', 'australia', 'australian'),\n",
       "   ('india', 'indian', 'israel', 'israeli'),\n",
       "   ('india', 'indian', 'switzerland', 'swiss'),\n",
       "   ('india', 'indian', 'australia', 'australian'),\n",
       "   ('india', 'indian', 'france', 'french'),\n",
       "   ('israel', 'israeli', 'switzerland', 'swiss'),\n",
       "   ('israel', 'israeli', 'australia', 'australian'),\n",
       "   ('israel', 'israeli', 'france', 'french'),\n",
       "   ('israel', 'israeli', 'india', 'indian'),\n",
       "   ('switzerland', 'swiss', 'australia', 'australian'),\n",
       "   ('switzerland', 'swiss', 'france', 'french'),\n",
       "   ('switzerland', 'swiss', 'india', 'indian'),\n",
       "   ('switzerland', 'swiss', 'israel', 'israeli')],\n",
       "  'section': 'gram6-nationality-adjective'},\n",
       " {'correct': [],\n",
       "  'incorrect': [('going', 'went', 'paying', 'paid'),\n",
       "   ('going', 'went', 'playing', 'played'),\n",
       "   ('going', 'went', 'saying', 'said'),\n",
       "   ('going', 'went', 'taking', 'took'),\n",
       "   ('paying', 'paid', 'playing', 'played'),\n",
       "   ('paying', 'paid', 'saying', 'said'),\n",
       "   ('paying', 'paid', 'taking', 'took'),\n",
       "   ('paying', 'paid', 'going', 'went'),\n",
       "   ('playing', 'played', 'saying', 'said'),\n",
       "   ('playing', 'played', 'taking', 'took'),\n",
       "   ('playing', 'played', 'going', 'went'),\n",
       "   ('playing', 'played', 'paying', 'paid'),\n",
       "   ('saying', 'said', 'taking', 'took'),\n",
       "   ('saying', 'said', 'going', 'went'),\n",
       "   ('saying', 'said', 'paying', 'paid'),\n",
       "   ('saying', 'said', 'playing', 'played'),\n",
       "   ('taking', 'took', 'going', 'went'),\n",
       "   ('taking', 'took', 'paying', 'paid'),\n",
       "   ('taking', 'took', 'playing', 'played'),\n",
       "   ('taking', 'took', 'saying', 'said')],\n",
       "  'section': 'gram7-past-tense'},\n",
       " {'correct': [],\n",
       "  'incorrect': [('building', 'buildings', 'car', 'cars'),\n",
       "   ('building', 'buildings', 'child', 'children'),\n",
       "   ('building', 'buildings', 'man', 'men'),\n",
       "   ('car', 'cars', 'child', 'children'),\n",
       "   ('car', 'cars', 'man', 'men'),\n",
       "   ('car', 'cars', 'building', 'buildings'),\n",
       "   ('child', 'children', 'man', 'men'),\n",
       "   ('child', 'children', 'building', 'buildings'),\n",
       "   ('child', 'children', 'car', 'cars'),\n",
       "   ('man', 'men', 'building', 'buildings'),\n",
       "   ('man', 'men', 'car', 'cars'),\n",
       "   ('man', 'men', 'child', 'children')],\n",
       "  'section': 'gram8-plural'},\n",
       " {'correct': [], 'incorrect': [], 'section': 'gram9-plural-verbs'},\n",
       " {'correct': [],\n",
       "  'incorrect': [('he', 'she', 'his', 'her'),\n",
       "   ('his', 'her', 'he', 'she'),\n",
       "   ('good', 'better', 'great', 'greater'),\n",
       "   ('good', 'better', 'long', 'longer'),\n",
       "   ('good', 'better', 'low', 'lower'),\n",
       "   ('great', 'greater', 'long', 'longer'),\n",
       "   ('great', 'greater', 'low', 'lower'),\n",
       "   ('great', 'greater', 'good', 'better'),\n",
       "   ('long', 'longer', 'low', 'lower'),\n",
       "   ('long', 'longer', 'good', 'better'),\n",
       "   ('long', 'longer', 'great', 'greater'),\n",
       "   ('low', 'lower', 'good', 'better'),\n",
       "   ('low', 'lower', 'great', 'greater'),\n",
       "   ('low', 'lower', 'long', 'longer'),\n",
       "   ('big', 'biggest', 'good', 'best'),\n",
       "   ('big', 'biggest', 'great', 'greatest'),\n",
       "   ('big', 'biggest', 'large', 'largest'),\n",
       "   ('good', 'best', 'great', 'greatest'),\n",
       "   ('good', 'best', 'large', 'largest'),\n",
       "   ('good', 'best', 'big', 'biggest'),\n",
       "   ('great', 'greatest', 'large', 'largest'),\n",
       "   ('great', 'greatest', 'big', 'biggest'),\n",
       "   ('great', 'greatest', 'good', 'best'),\n",
       "   ('large', 'largest', 'big', 'biggest'),\n",
       "   ('large', 'largest', 'good', 'best'),\n",
       "   ('large', 'largest', 'great', 'greatest'),\n",
       "   ('go', 'going', 'look', 'looking'),\n",
       "   ('go', 'going', 'play', 'playing'),\n",
       "   ('go', 'going', 'run', 'running'),\n",
       "   ('go', 'going', 'say', 'saying'),\n",
       "   ('look', 'looking', 'play', 'playing'),\n",
       "   ('look', 'looking', 'run', 'running'),\n",
       "   ('look', 'looking', 'say', 'saying'),\n",
       "   ('look', 'looking', 'go', 'going'),\n",
       "   ('play', 'playing', 'run', 'running'),\n",
       "   ('play', 'playing', 'say', 'saying'),\n",
       "   ('play', 'playing', 'go', 'going'),\n",
       "   ('play', 'playing', 'look', 'looking'),\n",
       "   ('run', 'running', 'say', 'saying'),\n",
       "   ('run', 'running', 'go', 'going'),\n",
       "   ('run', 'running', 'look', 'looking'),\n",
       "   ('run', 'running', 'play', 'playing'),\n",
       "   ('say', 'saying', 'go', 'going'),\n",
       "   ('say', 'saying', 'look', 'looking'),\n",
       "   ('say', 'saying', 'play', 'playing'),\n",
       "   ('say', 'saying', 'run', 'running'),\n",
       "   ('australia', 'australian', 'france', 'french'),\n",
       "   ('australia', 'australian', 'india', 'indian'),\n",
       "   ('australia', 'australian', 'israel', 'israeli'),\n",
       "   ('australia', 'australian', 'switzerland', 'swiss'),\n",
       "   ('france', 'french', 'india', 'indian'),\n",
       "   ('france', 'french', 'israel', 'israeli'),\n",
       "   ('france', 'french', 'switzerland', 'swiss'),\n",
       "   ('france', 'french', 'australia', 'australian'),\n",
       "   ('india', 'indian', 'israel', 'israeli'),\n",
       "   ('india', 'indian', 'switzerland', 'swiss'),\n",
       "   ('india', 'indian', 'australia', 'australian'),\n",
       "   ('india', 'indian', 'france', 'french'),\n",
       "   ('israel', 'israeli', 'switzerland', 'swiss'),\n",
       "   ('israel', 'israeli', 'australia', 'australian'),\n",
       "   ('israel', 'israeli', 'france', 'french'),\n",
       "   ('israel', 'israeli', 'india', 'indian'),\n",
       "   ('switzerland', 'swiss', 'australia', 'australian'),\n",
       "   ('switzerland', 'swiss', 'france', 'french'),\n",
       "   ('switzerland', 'swiss', 'india', 'indian'),\n",
       "   ('switzerland', 'swiss', 'israel', 'israeli'),\n",
       "   ('going', 'went', 'paying', 'paid'),\n",
       "   ('going', 'went', 'playing', 'played'),\n",
       "   ('going', 'went', 'saying', 'said'),\n",
       "   ('going', 'went', 'taking', 'took'),\n",
       "   ('paying', 'paid', 'playing', 'played'),\n",
       "   ('paying', 'paid', 'saying', 'said'),\n",
       "   ('paying', 'paid', 'taking', 'took'),\n",
       "   ('paying', 'paid', 'going', 'went'),\n",
       "   ('playing', 'played', 'saying', 'said'),\n",
       "   ('playing', 'played', 'taking', 'took'),\n",
       "   ('playing', 'played', 'going', 'went'),\n",
       "   ('playing', 'played', 'paying', 'paid'),\n",
       "   ('saying', 'said', 'taking', 'took'),\n",
       "   ('saying', 'said', 'going', 'went'),\n",
       "   ('saying', 'said', 'paying', 'paid'),\n",
       "   ('saying', 'said', 'playing', 'played'),\n",
       "   ('taking', 'took', 'going', 'went'),\n",
       "   ('taking', 'took', 'paying', 'paid'),\n",
       "   ('taking', 'took', 'playing', 'played'),\n",
       "   ('taking', 'took', 'saying', 'said'),\n",
       "   ('building', 'buildings', 'car', 'cars'),\n",
       "   ('building', 'buildings', 'child', 'children'),\n",
       "   ('building', 'buildings', 'man', 'men'),\n",
       "   ('car', 'cars', 'child', 'children'),\n",
       "   ('car', 'cars', 'man', 'men'),\n",
       "   ('car', 'cars', 'building', 'buildings'),\n",
       "   ('child', 'children', 'man', 'men'),\n",
       "   ('child', 'children', 'building', 'buildings'),\n",
       "   ('child', 'children', 'car', 'cars'),\n",
       "   ('man', 'men', 'building', 'buildings'),\n",
       "   ('man', 'men', 'car', 'cars'),\n",
       "   ('man', 'men', 'child', 'children')],\n",
       "  'section': 'total'}]"
      ]
     },
     "execution_count": 20,
     "metadata": {},
     "output_type": "execute_result"
    }
   ],
   "source": [
    "model.accuracy('./datasets/questions-words.txt')"
   ]
  },
  {
   "cell_type": "markdown",
   "metadata": {},
   "source": [
    "This `accuracy` takes an \n",
    "[optional parameter](http://radimrehurek.com/gensim/models/word2vec.html#gensim.models.word2vec.Word2Vec.accuracy) `restrict_vocab` \n",
    "which limits which test examples are to be considered.\n",
    "\n",
    "Once again, **good performance on this test set doesn’t mean word2vec will work well in your application, or vice versa**. It’s always best to evaluate directly on your intended task."
   ]
  },
  {
   "cell_type": "markdown",
   "metadata": {},
   "source": [
    "## Storing and loading models\n",
    "You can store/load models using the standard gensim methods:"
   ]
  },
  {
   "cell_type": "code",
   "execution_count": 14,
   "metadata": {
    "collapsed": false
   },
   "outputs": [
    {
     "name": "stderr",
     "output_type": "stream",
     "text": [
      "2016-11-10 19:48:10,552 : INFO : saving Word2Vec object under C:\\Users\\vtush\\AppData\\Local\\Temp\\tmp2ifnei6xgensim_temp, separately None\n",
      "2016-11-10 19:48:10,556 : INFO : not storing attribute syn0norm\n",
      "2016-11-10 19:48:10,558 : INFO : not storing attribute cum_table\n",
      "2016-11-10 19:48:10,601 : INFO : loading Word2Vec object from C:\\Users\\vtush\\AppData\\Local\\Temp\\tmp2ifnei6xgensim_temp\n",
      "2016-11-10 19:48:10,630 : INFO : setting ignored attribute syn0norm to None\n",
      "2016-11-10 19:48:10,632 : INFO : setting ignored attribute cum_table to None\n"
     ]
    }
   ],
   "source": [
    "from tempfile import mkstemp\n",
    "\n",
    "fs, temp_path = mkstemp(\"gensim_temp\")  # creates a temp file\n",
    "\n",
    "model.save(temp_path)  # save the model\n",
    "new_model = gensim.models.Word2Vec.load(temp_path)  # open the model"
   ]
  },
  {
   "cell_type": "markdown",
   "metadata": {},
   "source": [
    "which uses pickle internally, optionally `mmap`‘ing the model’s internal large NumPy matrices into virtual memory directly from disk files, for inter-process memory sharing.\n",
    "\n",
    "In addition, you can load models created by the original C tool, both using its text and binary formats:\n",
    "\n",
    "    model = gensim.models.Word2Vec.load_word2vec_format('/tmp/vectors.txt', binary=False)\n",
    "    # using gzipped/bz2 input works too, no need to unzip:\n",
    "    model = gensim.models.Word2Vec.load_word2vec_format('/tmp/vectors.bin.gz', binary=True)"
   ]
  },
  {
   "cell_type": "markdown",
   "metadata": {},
   "source": [
    "## Online training / Resuming training\n",
    "Advanced users can load a model and continue training it with more sentences:"
   ]
  },
  {
   "cell_type": "code",
   "execution_count": 15,
   "metadata": {
    "collapsed": false
   },
   "outputs": [
    {
     "name": "stderr",
     "output_type": "stream",
     "text": [
      "2016-11-10 19:48:10,675 : INFO : loading Word2Vec object from C:\\Users\\vtush\\AppData\\Local\\Temp\\tmp2ifnei6xgensim_temp\n",
      "2016-11-10 19:48:10,747 : INFO : setting ignored attribute syn0norm to None\n",
      "2016-11-10 19:48:10,748 : INFO : setting ignored attribute cum_table to None\n",
      "2016-11-10 19:48:10,760 : INFO : training model with 4 workers on 1723 vocabulary and 100 features, using sg=0 hs=0 sample=0.001 negative=5\n",
      "2016-11-10 19:48:10,768 : INFO : expecting 300 sentences, matching count from corpus used for vocabulary survey\n",
      "2016-11-10 19:48:10,793 : INFO : worker thread finished; awaiting finish of 3 more threads\n",
      "2016-11-10 19:48:10,797 : INFO : worker thread finished; awaiting finish of 2 more threads\n",
      "2016-11-10 19:48:10,801 : INFO : worker thread finished; awaiting finish of 1 more threads\n",
      "2016-11-10 19:48:10,804 : INFO : worker thread finished; awaiting finish of 0 more threads\n",
      "2016-11-10 19:48:10,813 : INFO : training on 320 raw words (37 effective words) took 0.0s, 1679 effective words/s\n",
      "2016-11-10 19:48:10,816 : WARNING : under 10 jobs per worker: consider setting a smaller `batch_words' for smoother alpha decay\n",
      "2016-11-10 19:48:10,819 : WARNING : supplied example count (65) did not equal expected count (1500)\n"
     ]
    }
   ],
   "source": [
    "model = gensim.models.Word2Vec.load(temp_path)\n",
    "more_sentences = ['Advanced', 'users', 'can', 'load', 'a', 'model', 'and', 'continue', \n",
    "                  'training', 'it', 'with', 'more', 'sentences']\n",
    "model.train(more_sentences)\n",
    "\n",
    "# cleaning up temp\n",
    "os.close(fs)\n",
    "os.remove(temp_path)"
   ]
  },
  {
   "cell_type": "markdown",
   "metadata": {},
   "source": [
    "You may need to tweak the `total_words` parameter to `train()`, depending on what learning rate decay you want to simulate.\n",
    "\n",
    "Note that it’s not possible to resume training with models generated by the C tool, `load_word2vec_format()`. You can still use them for querying/similarity, but information vital for training (the vocab tree) is missing there.\n",
    "\n",
    "## Using the model\n",
    "`Word2Vec` supports several word similarity tasks out of the box:"
   ]
  },
  {
   "cell_type": "code",
   "execution_count": 16,
   "metadata": {
    "collapsed": false
   },
   "outputs": [
    {
     "name": "stderr",
     "output_type": "stream",
     "text": [
      "2016-11-10 19:48:10,851 : INFO : precomputing L2-norms of word weight vectors\n"
     ]
    },
    {
     "data": {
      "text/plain": [
       "[('yesterday,', 0.9939109683036804)]"
      ]
     },
     "execution_count": 16,
     "metadata": {},
     "output_type": "execute_result"
    }
   ],
   "source": [
    "model.most_similar(positive=['human', 'crime'], negative=['party'], topn=1)"
   ]
  },
  {
   "cell_type": "code",
   "execution_count": 17,
   "metadata": {
    "collapsed": false
   },
   "outputs": [
    {
     "data": {
      "text/plain": [
       "'sentence'"
      ]
     },
     "execution_count": 17,
     "metadata": {},
     "output_type": "execute_result"
    }
   ],
   "source": [
    "model.doesnt_match(\"input is lunch he sentence cat\".split())"
   ]
  },
  {
   "cell_type": "code",
   "execution_count": 18,
   "metadata": {
    "collapsed": false
   },
   "outputs": [
    {
     "name": "stdout",
     "output_type": "stream",
     "text": [
      "0.998607211002\n",
      "0.996326758402\n"
     ]
    }
   ],
   "source": [
    "print(model.similarity('human', 'party'))\n",
    "print(model.similarity('tree', 'murder'))"
   ]
  },
  {
   "cell_type": "markdown",
   "metadata": {},
   "source": [
    "If you need the raw output vectors in your application, you can access these either on a word-by-word basis:"
   ]
  },
  {
   "cell_type": "code",
   "execution_count": 19,
   "metadata": {
    "collapsed": false
   },
   "outputs": [
    {
     "data": {
      "text/plain": [
       "array([-0.04036779,  0.02003553, -0.04284975,  0.0091192 ,  0.02448689,\n",
       "       -0.00216569,  0.01173194,  0.04932737,  0.02052016,  0.03154321,\n",
       "        0.03878884, -0.04184856, -0.00124647, -0.01990931, -0.05680807,\n",
       "       -0.11135258,  0.11940905, -0.02824721, -0.02524053,  0.0395379 ,\n",
       "        0.02866056,  0.03140666,  0.00251211, -0.01522053, -0.01220295,\n",
       "        0.06460804,  0.00598784,  0.08115971, -0.02839125, -0.05328558,\n",
       "       -0.01666472,  0.05955963,  0.01684751,  0.01161456, -0.02370278,\n",
       "        0.02833314,  0.0592064 ,  0.02200391, -0.01102725, -0.07582182,\n",
       "       -0.00775153,  0.00349301,  0.01163415,  0.08868522,  0.01771937,\n",
       "       -0.01190445, -0.06827834,  0.0019346 ,  0.02322449,  0.0387942 ,\n",
       "       -0.00897879,  0.03611458, -0.03682299,  0.11514064,  0.06071609,\n",
       "       -0.04949778, -0.03331855, -0.04093069, -0.05451356, -0.01999527,\n",
       "       -0.06447638,  0.00418219, -0.05440477,  0.03913156,  0.01763333,\n",
       "        0.04044701, -0.03877832, -0.04378604,  0.0416888 , -0.09959508,\n",
       "        0.0519225 , -0.00876303,  0.00755177,  0.0199695 , -0.01945884,\n",
       "        0.04657057, -0.03607963, -0.0029297 ,  0.03263984,  0.00665692,\n",
       "       -0.00313392,  0.04821754, -0.0732187 ,  0.02061378, -0.02486049,\n",
       "        0.02817053,  0.00889842,  0.05549937,  0.00870937, -0.02475666,\n",
       "        0.06040503, -0.05282155,  0.01314425, -0.01814836, -0.02232507,\n",
       "       -0.01911532, -0.03181317,  0.11537127,  0.0908583 ,  0.06476384], dtype=float32)"
      ]
     },
     "execution_count": 19,
     "metadata": {},
     "output_type": "execute_result"
    }
   ],
   "source": [
    "model['tree']  # raw NumPy vector of a word"
   ]
  },
  {
   "cell_type": "markdown",
   "metadata": {},
   "source": [
    "…or en-masse as a 2D NumPy matrix from `model.syn0`.\n",
    "\n",
    "## Outro\n",
    "There is a **Bonus App** on the original [blog post](http://rare-technologies.com/word2vec-tutorial/), which runs `word2vec` on the Google News dataset, of **about 100 billion words**.\n",
    "\n",
    "Full `word2vec` API docs [here](http://radimrehurek.com/gensim/models/word2vec.html); get [gensim](http://radimrehurek.com/gensim/) here. Original C toolkit and `word2vec` papers by Google [here](https://code.google.com/archive/p/word2vec/)."
   ]
  }
 ],
 "metadata": {
  "anaconda-cloud": {},
  "kernelspec": {
   "display_name": "Python [default]",
   "language": "python",
   "name": "python3"
  },
  "language_info": {
   "codemirror_mode": {
    "name": "ipython",
    "version": 3
   },
   "file_extension": ".py",
   "mimetype": "text/x-python",
   "name": "python",
   "nbconvert_exporter": "python",
   "pygments_lexer": "ipython3",
   "version": "3.5.2"
  }
 },
 "nbformat": 4,
 "nbformat_minor": 0
}
