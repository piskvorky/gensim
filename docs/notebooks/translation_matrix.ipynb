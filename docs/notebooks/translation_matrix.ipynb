{
 "cells": [
  {
   "cell_type": "markdown",
   "metadata": {
    "deletable": true,
    "editable": true
   },
   "source": [
    "# Tranlation Matrix Tutorial"
   ]
  },
  {
   "cell_type": "markdown",
   "metadata": {
    "deletable": true,
    "editable": true
   },
   "source": [
    "## What is it ?"
   ]
  },
  {
   "cell_type": "markdown",
   "metadata": {
    "deletable": true,
    "editable": true
   },
   "source": [
    "Suppose we are given a setofword pairs and their associated vector representaion $\\{x_{i},z_{i}\\}_{i=1}^{n}$, where $x_{i} \\in R^{d_{1}}$ is the distibuted representation of word $i$ in the source language, and ${z_{i} \\in R^{d_{2}}}$ is the vector representation of its translation. Our goal is to find a transformation matrix $W$ such that $Wx_{i}$ approximates $z_{i}$. In practice, $W$ can be learned by the following optimization prolem:\n",
    "\n",
    "<center>$\\min \\limits_{W} \\sum \\limits_{i=1}^{n} ||Wx_{i}-z_{i}||^{2}$</center>"
   ]
  },
  {
   "cell_type": "markdown",
   "metadata": {
    "deletable": true,
    "editable": true
   },
   "source": [
    "## Resources"
   ]
  },
  {
   "cell_type": "markdown",
   "metadata": {
    "deletable": true,
    "editable": true
   },
   "source": [
    "Tomas Mikolov, Quoc V Le, Ilya Sutskever. 2013.[Exploiting Similarities among Languages for Machine Translation](https://arxiv.org/pdf/1309.4168.pdf)\n",
    "\n",
    "Georgiana Dinu, Angelikie Lazaridou and Marco Baroni. 2014.[Improving zero-shot learning by mitigating the hubness problem](https://arxiv.org/pdf/1309.4168.pdf)"
   ]
  },
  {
   "cell_type": "code",
   "execution_count": 1,
   "metadata": {
    "collapsed": false,
    "deletable": true,
    "editable": true
   },
   "outputs": [
    {
     "name": "stderr",
     "output_type": "stream",
     "text": [
      "Using Theano backend.\n"
     ]
    }
   ],
   "source": [
    "import os\n",
    "\n",
    "from gensim import utils\n",
    "from gensim.models import translation_matrix\n",
    "from gensim.models import KeyedVectors"
   ]
  },
  {
   "cell_type": "markdown",
   "metadata": {
    "deletable": true,
    "editable": true
   },
   "source": [
    "For this tutorial, we'll be training our model using the English -> Italian word pairs from the OPUS collection. This corpus contains 5000 word pairs. Each pair is a English word and corresponding Italian word.\n",
    "\n",
    "dataset download: \n",
    "\n",
    "[OPUS_en_it_europarl_train_5K.txt](https://pan.baidu.com/s/1nuIuQoT)"
   ]
  },
  {
   "cell_type": "code",
   "execution_count": 2,
   "metadata": {
    "collapsed": false,
    "deletable": true,
    "editable": true
   },
   "outputs": [
    {
     "name": "stdout",
     "output_type": "stream",
     "text": [
      "[(u'for', u'per'), (u'that', u'che'), (u'with', u'con'), (u'are', u'are'), (u'are', u'sono'), (u'this', u'questa'), (u'this', u'questo'), (u'you', u'lei'), (u'not', u'non'), (u'which', u'che')]\n"
     ]
    }
   ],
   "source": [
    "train_file = \"OPUS_en_it_europarl_train_5K.txt\"\n",
    "\n",
    "with utils.smart_open(train_file, \"r\") as f:\n",
    "    word_pair = [tuple(utils.to_unicode(line).strip().split()) for line in f]\n",
    "print word_pair[:10]"
   ]
  },
  {
   "cell_type": "markdown",
   "metadata": {
    "deletable": true,
    "editable": true
   },
   "source": [
    "This tutorial uses 300-dimensional vectors of English words as source and vectors of Italian words as target.(those vector trained by the word2vec toolkit with cbow. The context window was set 5 words to either side of the target,\n",
    "the sub-sampling option was set to 1e-05 and estimate the probability of a target word with the negative sampling method, drawing 10 samples from the noise distribution)\n",
    "\n",
    "dataset download:\n",
    "\n",
    "[EN.200K.cbow1_wind5_hs0_neg10_size300_smpl1e-05.txt](https://pan.baidu.com/s/1nv3bYel)\n",
    "\n",
    "[IT.200K.cbow1_wind5_hs0_neg10_size300_smpl1e-05.txt](https://pan.baidu.com/s/1boP0P7D)"
   ]
  },
  {
   "cell_type": "code",
   "execution_count": 3,
   "metadata": {
    "collapsed": false,
    "deletable": true,
    "editable": true
   },
   "outputs": [],
   "source": [
    "# Load the source language word vector\n",
    "source_word_vec_file = \"EN.200K.cbow1_wind5_hs0_neg10_size300_smpl1e-05.txt\"\n",
    "source_word_vec = KeyedVectors.load_word2vec_format(source_word_vec_file, binary=False)"
   ]
  },
  {
   "cell_type": "code",
   "execution_count": 4,
   "metadata": {
    "collapsed": true,
    "deletable": true,
    "editable": true
   },
   "outputs": [],
   "source": [
    "#Load the target language word vector\n",
    "target_word_vec_file = \"IT.200K.cbow1_wind5_hs0_neg10_size300_smpl1e-05.txt\"\n",
    "target_word_vec = KeyedVectors.load_word2vec_format(target_word_vec_file, binary=False)"
   ]
  },
  {
   "cell_type": "markdown",
   "metadata": {
    "deletable": true,
    "editable": true
   },
   "source": [
    "training the translation matrix"
   ]
  },
  {
   "cell_type": "code",
   "execution_count": 5,
   "metadata": {
    "collapsed": false,
    "deletable": true,
    "editable": true
   },
   "outputs": [
    {
     "name": "stdout",
     "output_type": "stream",
     "text": [
      "the shape of translation matrix is:  (300, 300)\n"
     ]
    }
   ],
   "source": [
    "transmat = translation_matrix.TranslationMatrix(word_pair, source_word_vec, target_word_vec)\n",
    "transmat.train(word_pair)\n",
    "print \"the shape of translation matrix is: \", transmat.translation_matrix.shape"
   ]
  },
  {
   "cell_type": "markdown",
   "metadata": {
    "deletable": true,
    "editable": true
   },
   "source": [
    "Prediction Time: for any given new word, we can map it to the other language space by coputing $z = Wx$, then we find the word whose representation is closet to z in the target language space, using consine similarity as the distance metric."
   ]
  },
  {
   "cell_type": "markdown",
   "metadata": {
    "deletable": true,
    "editable": true
   },
   "source": [
    "#### part one:\n",
    "Let's look at some number translation. We use English words (one, two, three, four and five) as test."
   ]
  },
  {
   "cell_type": "code",
   "execution_count": 6,
   "metadata": {
    "collapsed": false,
    "deletable": true,
    "editable": true
   },
   "outputs": [
    {
     "name": "stderr",
     "output_type": "stream",
     "text": [
      "/home/robotcator/PycharmProjects/gensim/gensim/models/translation_matrix.py:220: UserWarning: The parameter source_lang_vec isn't specified, use the model's source language word vector as default.\n",
      "  warnings.warn(\"The parameter source_lang_vec isn't specified, use the model's source language word vector as default.\")\n",
      "/home/robotcator/PycharmProjects/gensim/gensim/models/translation_matrix.py:224: UserWarning: The parameter target_lang_vec isn't specified, use the model's target language word vector as default.\n",
      "  warnings.warn(\"The parameter target_lang_vec isn't specified, use the model's target language word vector as default.\")\n"
     ]
    }
   ],
   "source": [
    "# the piar is (English, Italian), we can see whether the translated word is right or not \n",
    "words = [(\"one\", \"uno\"), (\"two\", \"due\"), (\"three\", \"tre\"), (\"four\", \"quattro\"), (\"five\", \"cinque\")]\n",
    "source_word, target_word = zip(*words)\n",
    "translated_word = transmat.translate(source_word, 5)"
   ]
  },
  {
   "cell_type": "code",
   "execution_count": 7,
   "metadata": {
    "collapsed": false,
    "deletable": true,
    "editable": true,
    "scrolled": true
   },
   "outputs": [
    {
     "name": "stdout",
     "output_type": "stream",
     "text": [
      "word  one  and translated word [u'solo', u'due', u'tre', u'cinque', u'quattro']\n",
      "word  two  and translated word [u'due', u'tre', u'quattro', u'cinque', u'otto']\n",
      "word  three  and translated word [u'tre', u'quattro', u'due', u'cinque', u'sette']\n",
      "word  four  and translated word [u'tre', u'quattro', u'cinque', u'due', u'sette']\n",
      "word  five  and translated word [u'cinque', u'tre', u'quattro', u'otto', u'dieci']\n"
     ]
    }
   ],
   "source": [
    "for k, v in translated_word.iteritems():\n",
    "    print \"word \", k, \" and translated word\", v"
   ]
  },
  {
   "cell_type": "markdown",
   "metadata": {
    "deletable": true,
    "editable": true
   },
   "source": [
    "#### part two:\n",
    "Let's look at some fruit translations. We use English words (apple, orange, grape, banana and mango) as test."
   ]
  },
  {
   "cell_type": "code",
   "execution_count": 8,
   "metadata": {
    "collapsed": false,
    "deletable": true,
    "editable": true
   },
   "outputs": [
    {
     "name": "stdout",
     "output_type": "stream",
     "text": [
      "word  apple  and translated word [u'apple', u'mela', u'microsoft', u'macintosh', u'turbolinux']\n",
      "word  orange  and translated word [u'arancione', u'curacao', u'aranciato', u'gialloarancio', u'bluastro']\n",
      "word  grape  and translated word [u'sylvaner', u'vinsanto', u'marzemino', u'traminer', u'legume']\n",
      "word  banana  and translated word [u'anacardi', u'papaia', u'muesli', u'manioca', u'basmati']\n",
      "word  mango  and translated word [u'patchouli', u'anacardi', u'papaia', u'tamarindo', u'guacamole']\n"
     ]
    }
   ],
   "source": [
    "words = [(\"apple\", \"mela\"), (\"orange\", \"arancione\"), (\"grape\", \"acino\"), (\"banana\", \"banana\"), (\"mango\", \"mango\")]\n",
    "source_word, target_word = zip(*words)\n",
    "translated_word = transmat.translate(source_word, 5)\n",
    "for k, v in translated_word.iteritems():\n",
    "    print \"word \", k, \" and translated word\", v"
   ]
  },
  {
   "cell_type": "markdown",
   "metadata": {
    "deletable": true,
    "editable": true
   },
   "source": [
    "#### part three:\n",
    "Let's look at some animal translations. We use English words (dog, pig, cat, horse and bird) as test."
   ]
  },
  {
   "cell_type": "code",
   "execution_count": 9,
   "metadata": {
    "collapsed": false,
    "deletable": true,
    "editable": true
   },
   "outputs": [
    {
     "name": "stdout",
     "output_type": "stream",
     "text": [
      "word  dog  and translated word [u'cane', u'cani', u'cagnolino', u'barboncino', u'micio']\n",
      "word  pig  and translated word [u'maiali', u'maialini', u'animale', u'barboncino', u'vitella']\n",
      "word  cat  and translated word [u'gatto', u'gattino', u'micio', u'cagnolino', u'cane']\n",
      "word  fish  and translated word [u'krill', u'pesce', u'pesci', u'storioni', u'alborelle']\n",
      "word  birds  and translated word [u'uccelli', u'passeriformi', u'antilopi', u'rettili', u'svassi']\n"
     ]
    }
   ],
   "source": [
    "words = [(\"dog\", \"cane\"), (\"pig\", \"maiale\"), (\"cat\", \"gatto\"), (\"fish\", \"cavallo\"), (\"birds\", \"uccelli\")]\n",
    "source_word, target_word = zip(*words)\n",
    "translated_word = transmat.translate(source_word, 5)\n",
    "for k, v in translated_word.iteritems():\n",
    "    print \"word \", k, \" and translated word\", v"
   ]
  },
  {
   "cell_type": "markdown",
   "metadata": {
    "deletable": true,
    "editable": true
   },
   "source": [
    "### The Creation Time for the Translation Matrix"
   ]
  },
  {
   "cell_type": "markdown",
   "metadata": {
    "deletable": true,
    "editable": true
   },
   "source": [
    "Testing the creation time, we extracted more word pairs from a dictionary built from Europarl([Europara, en-it](http://opus.lingfil.uu.se/)).we obtain about 20K word pairs and their coresponding word vectors.Or you can download from this.[word_dict.pkl](https://pan.baidu.com/s/1dF8HUX7)"
   ]
  },
  {
   "cell_type": "code",
   "execution_count": 10,
   "metadata": {
    "collapsed": false,
    "deletable": true,
    "editable": true
   },
   "outputs": [
    {
     "name": "stdout",
     "output_type": "stream",
     "text": [
      "the length of word pair  20942\n"
     ]
    }
   ],
   "source": [
    "import pickle\n",
    "word_dict = \"word_dict.pkl\"\n",
    "with utils.smart_open(word_dict, \"r\") as f:\n",
    "    word_pair = pickle.load(f)\n",
    "print \"the length of word pair \", len(word_pair)"
   ]
  },
  {
   "cell_type": "code",
   "execution_count": 11,
   "metadata": {
    "collapsed": false,
    "deletable": true,
    "editable": true
   },
   "outputs": [],
   "source": [
    "import time\n",
    "\n",
    "test_case = 10\n",
    "word_pair_length = len(word_pair)\n",
    "step = word_pair_length / test_case\n",
    "\n",
    "duration = []\n",
    "sizeofword = []\n",
    "\n",
    "for idx in xrange(0, test_case):\n",
    "    sub_pair = word_pair[: (idx + 1) * step]\n",
    "\n",
    "    startTime = time.time()\n",
    "    transmat = translation_matrix.TranslationMatrix(sub_pair, source_word_vec, target_word_vec)\n",
    "    transmat.train(sub_pair)\n",
    "    endTime = time.time()\n",
    "    \n",
    "    sizeofword.append(len(sub_pair))\n",
    "    duration.append(endTime - startTime)"
   ]
  },
  {
   "cell_type": "code",
   "execution_count": 12,
   "metadata": {
    "collapsed": false,
    "deletable": true,
    "editable": true
   },
   "outputs": [
    {
     "data": {
      "text/html": [
       "<script>requirejs.config({paths: { 'plotly': ['https://cdn.plot.ly/plotly-latest.min']},});if(!window.Plotly) {{require(['plotly'],function(plotly) {window.Plotly=plotly;});}}</script>"
      ],
      "text/vnd.plotly.v1+html": [
       "<script>requirejs.config({paths: { 'plotly': ['https://cdn.plot.ly/plotly-latest.min']},});if(!window.Plotly) {{require(['plotly'],function(plotly) {window.Plotly=plotly;});}}</script>"
      ]
     },
     "metadata": {},
     "output_type": "display_data"
    },
    {
     "data": {
      "application/vnd.plotly.v1+json": {
       "data": [
        {
         "type": "scatter",
         "x": [
          2094,
          4188,
          6282,
          8376,
          10470,
          12564,
          14658,
          16752,
          18846,
          20940
         ],
         "y": [
          0.6137721538543701,
          0.5209219455718994,
          0.728323221206665,
          0.9210660457611084,
          1.135694980621338,
          1.3455538749694824,
          1.5958888530731201,
          1.819183111190796,
          2.0376498699188232,
          2.496438980102539
         ]
        }
       ],
       "layout": {
        "title": "time for creation"
       }
      },
      "text/html": [
       "<div id=\"9cd0c680-c18f-4f1a-bfce-bd7213391a92\" style=\"height: 525px; width: 100%;\" class=\"plotly-graph-div\"></div><script type=\"text/javascript\">require([\"plotly\"], function(Plotly) { window.PLOTLYENV=window.PLOTLYENV || {};window.PLOTLYENV.BASE_URL=\"https://plot.ly\";Plotly.newPlot(\"9cd0c680-c18f-4f1a-bfce-bd7213391a92\", [{\"y\": [0.6137721538543701, 0.5209219455718994, 0.728323221206665, 0.9210660457611084, 1.135694980621338, 1.3455538749694824, 1.5958888530731201, 1.819183111190796, 2.0376498699188232, 2.496438980102539], \"x\": [2094, 4188, 6282, 8376, 10470, 12564, 14658, 16752, 18846, 20940], \"type\": \"scatter\"}], {\"title\": \"time for creation\"}, {\"linkText\": \"Export to plot.ly\", \"showLink\": true})});</script>"
      ],
      "text/vnd.plotly.v1+html": [
       "<div id=\"9cd0c680-c18f-4f1a-bfce-bd7213391a92\" style=\"height: 525px; width: 100%;\" class=\"plotly-graph-div\"></div><script type=\"text/javascript\">require([\"plotly\"], function(Plotly) { window.PLOTLYENV=window.PLOTLYENV || {};window.PLOTLYENV.BASE_URL=\"https://plot.ly\";Plotly.newPlot(\"9cd0c680-c18f-4f1a-bfce-bd7213391a92\", [{\"y\": [0.6137721538543701, 0.5209219455718994, 0.728323221206665, 0.9210660457611084, 1.135694980621338, 1.3455538749694824, 1.5958888530731201, 1.819183111190796, 2.0376498699188232, 2.496438980102539], \"x\": [2094, 4188, 6282, 8376, 10470, 12564, 14658, 16752, 18846, 20940], \"type\": \"scatter\"}], {\"title\": \"time for creation\"}, {\"linkText\": \"Export to plot.ly\", \"showLink\": true})});</script>"
      ]
     },
     "metadata": {},
     "output_type": "display_data"
    }
   ],
   "source": [
    "import plotly\n",
    "from plotly.graph_objs import Scatter, Layout\n",
    "\n",
    "plotly.offline.init_notebook_mode(connected=True)\n",
    "\n",
    "plotly.offline.iplot({\n",
    "    \"data\": [Scatter(x=sizeofword, y=duration)],\n",
    "    \"layout\": Layout(title=\"time for creation\"),\n",
    "}, filename=\"tm_creation_time.html\")"
   ]
  },
  {
   "cell_type": "markdown",
   "metadata": {},
   "source": [
    "You will see a two dimensional coordination whose horizontal axis is the size of corpus and vertical axis is the time to train a translation matrix (the unit is second). As the size of corpus increases, the time increases linearly."
   ]
  },
  {
   "cell_type": "markdown",
   "metadata": {
    "collapsed": true,
    "deletable": true,
    "editable": true
   },
   "source": [
    "### Linear Relationship Between Languages"
   ]
  },
  {
   "cell_type": "markdown",
   "metadata": {
    "deletable": true,
    "editable": true
   },
   "source": [
    "To have a better understanding of the principles behind, we visualized the word vectors using PCA, we noticed that the vector representations of similar words in different languages were related by a linear transformation."
   ]
  },
  {
   "cell_type": "code",
   "execution_count": 13,
   "metadata": {
    "collapsed": false,
    "deletable": true,
    "editable": true
   },
   "outputs": [
    {
     "data": {
      "text/html": [
       "<script>requirejs.config({paths: { 'plotly': ['https://cdn.plot.ly/plotly-latest.min']},});if(!window.Plotly) {{require(['plotly'],function(plotly) {window.Plotly=plotly;});}}</script>"
      ],
      "text/vnd.plotly.v1+html": [
       "<script>requirejs.config({paths: { 'plotly': ['https://cdn.plot.ly/plotly-latest.min']},});if(!window.Plotly) {{require(['plotly'],function(plotly) {window.Plotly=plotly;});}}</script>"
      ]
     },
     "metadata": {},
     "output_type": "display_data"
    }
   ],
   "source": [
    "from sklearn.decomposition import PCA\n",
    "\n",
    "import plotly\n",
    "from plotly.graph_objs import Scatter, Layout, Figure\n",
    "plotly.offline.init_notebook_mode(connected=True)"
   ]
  },
  {
   "cell_type": "code",
   "execution_count": 14,
   "metadata": {
    "collapsed": false,
    "deletable": true,
    "editable": true
   },
   "outputs": [],
   "source": [
    "words = [(\"one\", \"uno\"), (\"two\", \"due\"), (\"three\", \"tre\"), (\"four\", \"quattro\"), (\"five\", \"cinque\")]\n",
    "en_words_vec = [source_word_vec[item[0]] for item in words]\n",
    "it_words_vec = [target_word_vec[item[1]] for item in words]\n",
    "\n",
    "en_words, it_words = zip(*words)\n",
    "\n",
    "pca = PCA(n_components=2)\n",
    "new_en_words_vec = pca.fit_transform(en_words_vec)\n",
    "new_it_words_vec = pca.fit_transform(it_words_vec)\n",
    "\n",
    "# remove the code, use the plotly for ploting instead\n",
    "# fig = plt.figure()\n",
    "# fig.add_subplot(121)\n",
    "# plt.scatter(new_en_words_vec[:, 0], new_en_words_vec[:, 1])\n",
    "# for idx, item in enumerate(en_words):\n",
    "#     plt.annotate(item, xy=(new_en_words_vec[idx][0], new_en_words_vec[idx][1]))\n",
    "\n",
    "# fig.add_subplot(122)\n",
    "# plt.scatter(new_it_words_vec[:, 0], new_it_words_vec[:, 1])\n",
    "# for idx, item in enumerate(it_words):\n",
    "#     plt.annotate(item, xy=(new_it_words_vec[idx][0], new_it_words_vec[idx][1]))\n",
    "# plt.show()"
   ]
  },
  {
   "cell_type": "code",
   "execution_count": 15,
   "metadata": {
    "collapsed": false,
    "deletable": true,
    "editable": true
   },
   "outputs": [
    {
     "data": {
      "application/vnd.plotly.v1+json": {
       "data": [
        {
         "mode": "markers+text",
         "text": [
          "one",
          "two",
          "three",
          "four",
          "five"
         ],
         "textposition": "top",
         "type": "scatter",
         "x": [
          1.3152927124584963,
          -0.2135391946410942,
          -0.41853131679090877,
          -0.44261965826408217,
          -0.24060254276241194
         ],
         "y": [
          -0.012982020585119488,
          0.6946434653689207,
          0.07943642028572512,
          -0.07689106511677166,
          -0.6842067999527552
         ]
        },
        {
         "mode": "markers+text",
         "text": [
          "uno",
          "due",
          "tre",
          "quattro",
          "cinque"
         ],
         "textposition": "top",
         "type": "scatter",
         "x": [
          2.027197813185206,
          -0.29054172798853567,
          -0.5369809554860695,
          -0.6418108143913539,
          -0.5578643153192474
         ],
         "y": [
          -0.09450346833782378,
          0.853948136638104,
          0.15055229620593427,
          -0.1533556973430418,
          -0.756641267163173
         ]
        }
       ],
       "layout": {
        "showlegend": false
       }
      },
      "text/html": [
       "<div id=\"17576bf7-ee5a-4ac3-b413-074966fdc65e\" style=\"height: 525px; width: 100%;\" class=\"plotly-graph-div\"></div><script type=\"text/javascript\">require([\"plotly\"], function(Plotly) { window.PLOTLYENV=window.PLOTLYENV || {};window.PLOTLYENV.BASE_URL=\"https://plot.ly\";Plotly.newPlot(\"17576bf7-ee5a-4ac3-b413-074966fdc65e\", [{\"textposition\": \"top\", \"text\": [\"one\", \"two\", \"three\", \"four\", \"five\"], \"mode\": \"markers+text\", \"y\": [-0.012982020585119488, 0.6946434653689207, 0.07943642028572512, -0.07689106511677166, -0.6842067999527552], \"x\": [1.3152927124584963, -0.2135391946410942, -0.41853131679090877, -0.44261965826408217, -0.24060254276241194], \"type\": \"scatter\"}, {\"textposition\": \"top\", \"text\": [\"uno\", \"due\", \"tre\", \"quattro\", \"cinque\"], \"mode\": \"markers+text\", \"y\": [-0.09450346833782378, 0.853948136638104, 0.15055229620593427, -0.1533556973430418, -0.756641267163173], \"x\": [2.027197813185206, -0.29054172798853567, -0.5369809554860695, -0.6418108143913539, -0.5578643153192474], \"type\": \"scatter\"}], {\"showlegend\": false}, {\"linkText\": \"Export to plot.ly\", \"showLink\": true})});</script>"
      ],
      "text/vnd.plotly.v1+html": [
       "<div id=\"17576bf7-ee5a-4ac3-b413-074966fdc65e\" style=\"height: 525px; width: 100%;\" class=\"plotly-graph-div\"></div><script type=\"text/javascript\">require([\"plotly\"], function(Plotly) { window.PLOTLYENV=window.PLOTLYENV || {};window.PLOTLYENV.BASE_URL=\"https://plot.ly\";Plotly.newPlot(\"17576bf7-ee5a-4ac3-b413-074966fdc65e\", [{\"textposition\": \"top\", \"text\": [\"one\", \"two\", \"three\", \"four\", \"five\"], \"mode\": \"markers+text\", \"y\": [-0.012982020585119488, 0.6946434653689207, 0.07943642028572512, -0.07689106511677166, -0.6842067999527552], \"x\": [1.3152927124584963, -0.2135391946410942, -0.41853131679090877, -0.44261965826408217, -0.24060254276241194], \"type\": \"scatter\"}, {\"textposition\": \"top\", \"text\": [\"uno\", \"due\", \"tre\", \"quattro\", \"cinque\"], \"mode\": \"markers+text\", \"y\": [-0.09450346833782378, 0.853948136638104, 0.15055229620593427, -0.1533556973430418, -0.756641267163173], \"x\": [2.027197813185206, -0.29054172798853567, -0.5369809554860695, -0.6418108143913539, -0.5578643153192474], \"type\": \"scatter\"}], {\"showlegend\": false}, {\"linkText\": \"Export to plot.ly\", \"showLink\": true})});</script>"
      ]
     },
     "metadata": {},
     "output_type": "display_data"
    }
   ],
   "source": [
    "# you can also using plotly lib to plot in one figure\n",
    "trace1 = Scatter(\n",
    "    x = new_en_words_vec[:, 0],\n",
    "    y = new_en_words_vec[:, 1],\n",
    "    mode = 'markers+text',\n",
    "    text = en_words,\n",
    "    textposition = 'top'\n",
    ")\n",
    "trace2 = Scatter(\n",
    "    x = new_it_words_vec[:, 0],\n",
    "    y = new_it_words_vec[:, 1],\n",
    "    mode = 'markers+text',\n",
    "    text = it_words,\n",
    "    textposition = 'top'\n",
    ")\n",
    "layout = Layout(\n",
    "    showlegend = False\n",
    ")\n",
    "data = [trace1, trace2]\n",
    "\n",
    "fig = Figure(data=data, layout=layout)\n",
    "plot_url = plotly.offline.iplot(fig, filename='relatie_position_for_number.html')"
   ]
  },
  {
   "cell_type": "markdown",
   "metadata": {
    "deletable": true,
    "editable": true
   },
   "source": [
    "The figure shows that the word vectors for English number one to five and the corresponding Italian words uno to cinque have similar geometric arrangements. So the relationship between vector spaces that represent these tow languages can be captured by linear mapping. \n",
    "If we know the translation of one and four from English to Spanish, we can learn the transformation matrix that can help us to translate five or other numbers."
   ]
  },
  {
   "cell_type": "code",
   "execution_count": 16,
   "metadata": {
    "collapsed": false,
    "deletable": true,
    "editable": true
   },
   "outputs": [
    {
     "name": "stdout",
     "output_type": "stream",
     "text": [
      "translation of five:  OrderedDict([('five', [u'cinque', u'quattro', u'tre'])])\n"
     ]
    }
   ],
   "source": [
    "words = [(\"one\", \"uno\"), (\"two\", \"due\"), (\"three\", \"tre\"), (\"four\", \"quattro\"), (\"five\", \"cinque\")]\n",
    "en_words, it_words = zip(*words)\n",
    "en_words_vec = [source_word_vec[item[0]] for item in words]\n",
    "it_words_vec = [target_word_vec[item[1]] for item in words]\n",
    "\n",
    "# translate the English word five to Spanish\n",
    "translated_word = transmat.translate([en_words[4]], 3)\n",
    "print \"translation of five: \", translated_word\n",
    "\n",
    "# the translated words of five\n",
    "for item in translated_word[en_words[4]]:\n",
    "    it_words_vec.append(target_word_vec[item])\n",
    "\n",
    "pca = PCA(n_components=2)\n",
    "new_en_words_vec = pca.fit_transform(en_words_vec)\n",
    "new_it_words_vec = pca.fit_transform(it_words_vec)\n",
    "\n",
    "# remove the code, use the plotly for ploting instead\n",
    "# fig = plt.figure()\n",
    "# fig.add_subplot(121)\n",
    "# plt.scatter(new_en_words_vec[:, 0], new_en_words_vec[:, 1])\n",
    "# for idx, item in enumerate(en_words):\n",
    "#     plt.annotate(item, xy=(new_en_words_vec[idx][0], new_en_words_vec[idx][1]))\n",
    "\n",
    "# fig.add_subplot(122)\n",
    "# plt.scatter(new_it_words_vec[:, 0], new_it_words_vec[:, 1])\n",
    "# for idx, item in enumerate(it_words):\n",
    "#     plt.annotate(item, xy=(new_it_words_vec[idx][0], new_it_words_vec[idx][1]))\n",
    "# # annote for the translation of five, the red text annotation is the translation of five\n",
    "# for idx, item in enumerate(translated_word[en_words[4]]):\n",
    "#     plt.annotate(item, xy=(new_it_words_vec[idx + 5][0], new_it_words_vec[idx + 5][1]),\n",
    "#                  xytext=(new_it_words_vec[idx + 5][0] + 0.1, new_it_words_vec[idx + 5][1] + 0.1),\n",
    "#                  color=\"red\",\n",
    "#                  arrowprops=dict(facecolor='red', shrink=0.1, width=1, headwidth=2),)\n",
    "# plt.show()"
   ]
  },
  {
   "cell_type": "code",
   "execution_count": 19,
   "metadata": {
    "collapsed": false,
    "deletable": true,
    "editable": true
   },
   "outputs": [
    {
     "data": {
      "application/vnd.plotly.v1+json": {
       "data": [
        {
         "mode": "markers+text",
         "text": [
          "one",
          "two",
          "three",
          "four",
          "five"
         ],
         "textposition": "top",
         "type": "scatter",
         "x": [
          1.3152927124584963,
          -0.2135391946410942,
          -0.41853131679090877,
          -0.44261965826408217,
          -0.24060254276241194
         ],
         "y": [
          -0.012982020585119488,
          0.6946434653689207,
          0.07943642028572512,
          -0.07689106511677166,
          -0.6842067999527552
         ]
        },
        {
         "mode": "markers+text",
         "text": [
          "uno",
          "due",
          "tre",
          "quattro",
          "cinque"
         ],
         "textposition": "top",
         "type": "scatter",
         "x": [
          2.238256809135214,
          -0.001303773153150972,
          -0.3056676679567372,
          -0.43875310919367744,
          -0.374055740840617,
          -0.374055740840617,
          -0.43875310919367744,
          -0.3056676679567372
         ],
         "y": [
          -0.1257325191472076,
          0.7888307462022796,
          0.33178257213847573,
          0.08474468776781709,
          -0.7480763734338287,
          -0.7480763734338287,
          0.08474468776781709,
          0.33178257213847556
         ]
        }
       ],
       "layout": {
        "annotations": [
         {
          "arrowcolor": "black",
          "arrowhead": 0.5,
          "arrowsize": 1.5,
          "arrowwidth": 1,
          "text": "cinque",
          "x": -0.374055740840617,
          "y": -0.7480763734338287
         },
         {
          "arrowcolor": "black",
          "arrowhead": 0.5,
          "arrowsize": 1.5,
          "arrowwidth": 1,
          "text": "quattro",
          "x": -0.43875310919367744,
          "y": 0.08474468776781709
         },
         {
          "arrowcolor": "black",
          "arrowhead": 0.5,
          "arrowsize": 1.5,
          "arrowwidth": 1,
          "text": "tre",
          "x": -0.3056676679567372,
          "y": 0.33178257213847556
         }
        ],
        "showlegend": false
       }
      },
      "text/html": [
       "<div id=\"48c521c3-9ddf-4494-a2ea-2a32b68e88da\" style=\"height: 525px; width: 100%;\" class=\"plotly-graph-div\"></div><script type=\"text/javascript\">require([\"plotly\"], function(Plotly) { window.PLOTLYENV=window.PLOTLYENV || {};window.PLOTLYENV.BASE_URL=\"https://plot.ly\";Plotly.newPlot(\"48c521c3-9ddf-4494-a2ea-2a32b68e88da\", [{\"textposition\": \"top\", \"text\": [\"one\", \"two\", \"three\", \"four\", \"five\"], \"mode\": \"markers+text\", \"y\": [-0.012982020585119488, 0.6946434653689207, 0.07943642028572512, -0.07689106511677166, -0.6842067999527552], \"x\": [1.3152927124584963, -0.2135391946410942, -0.41853131679090877, -0.44261965826408217, -0.24060254276241194], \"type\": \"scatter\"}, {\"textposition\": \"top\", \"text\": [\"uno\", \"due\", \"tre\", \"quattro\", \"cinque\"], \"mode\": \"markers+text\", \"y\": [-0.1257325191472076, 0.7888307462022796, 0.33178257213847573, 0.08474468776781709, -0.7480763734338287, -0.7480763734338287, 0.08474468776781709, 0.33178257213847556], \"x\": [2.238256809135214, -0.001303773153150972, -0.3056676679567372, -0.43875310919367744, -0.374055740840617, -0.374055740840617, -0.43875310919367744, -0.3056676679567372], \"type\": \"scatter\"}], {\"showlegend\": false, \"annotations\": [{\"arrowhead\": 0.5, \"text\": \"cinque\", \"arrowsize\": 1.5, \"y\": -0.7480763734338287, \"x\": -0.374055740840617, \"arrowwidth\": 1, \"arrowcolor\": \"black\"}, {\"arrowhead\": 0.5, \"text\": \"quattro\", \"arrowsize\": 1.5, \"y\": 0.08474468776781709, \"x\": -0.43875310919367744, \"arrowwidth\": 1, \"arrowcolor\": \"black\"}, {\"arrowhead\": 0.5, \"text\": \"tre\", \"arrowsize\": 1.5, \"y\": 0.33178257213847556, \"x\": -0.3056676679567372, \"arrowwidth\": 1, \"arrowcolor\": \"black\"}]}, {\"linkText\": \"Export to plot.ly\", \"showLink\": true})});</script>"
      ],
      "text/vnd.plotly.v1+html": [
       "<div id=\"48c521c3-9ddf-4494-a2ea-2a32b68e88da\" style=\"height: 525px; width: 100%;\" class=\"plotly-graph-div\"></div><script type=\"text/javascript\">require([\"plotly\"], function(Plotly) { window.PLOTLYENV=window.PLOTLYENV || {};window.PLOTLYENV.BASE_URL=\"https://plot.ly\";Plotly.newPlot(\"48c521c3-9ddf-4494-a2ea-2a32b68e88da\", [{\"textposition\": \"top\", \"text\": [\"one\", \"two\", \"three\", \"four\", \"five\"], \"mode\": \"markers+text\", \"y\": [-0.012982020585119488, 0.6946434653689207, 0.07943642028572512, -0.07689106511677166, -0.6842067999527552], \"x\": [1.3152927124584963, -0.2135391946410942, -0.41853131679090877, -0.44261965826408217, -0.24060254276241194], \"type\": \"scatter\"}, {\"textposition\": \"top\", \"text\": [\"uno\", \"due\", \"tre\", \"quattro\", \"cinque\"], \"mode\": \"markers+text\", \"y\": [-0.1257325191472076, 0.7888307462022796, 0.33178257213847573, 0.08474468776781709, -0.7480763734338287, -0.7480763734338287, 0.08474468776781709, 0.33178257213847556], \"x\": [2.238256809135214, -0.001303773153150972, -0.3056676679567372, -0.43875310919367744, -0.374055740840617, -0.374055740840617, -0.43875310919367744, -0.3056676679567372], \"type\": \"scatter\"}], {\"showlegend\": false, \"annotations\": [{\"arrowhead\": 0.5, \"text\": \"cinque\", \"arrowsize\": 1.5, \"y\": -0.7480763734338287, \"x\": -0.374055740840617, \"arrowwidth\": 1, \"arrowcolor\": \"black\"}, {\"arrowhead\": 0.5, \"text\": \"quattro\", \"arrowsize\": 1.5, \"y\": 0.08474468776781709, \"x\": -0.43875310919367744, \"arrowwidth\": 1, \"arrowcolor\": \"black\"}, {\"arrowhead\": 0.5, \"text\": \"tre\", \"arrowsize\": 1.5, \"y\": 0.33178257213847556, \"x\": -0.3056676679567372, \"arrowwidth\": 1, \"arrowcolor\": \"black\"}]}, {\"linkText\": \"Export to plot.ly\", \"showLink\": true})});</script>"
      ]
     },
     "metadata": {},
     "output_type": "display_data"
    }
   ],
   "source": [
    "trace1 = Scatter(\n",
    "    x = new_en_words_vec[:, 0],\n",
    "    y = new_en_words_vec[:, 1],\n",
    "    mode = 'markers+text',\n",
    "    text = en_words,\n",
    "    textposition = 'top'\n",
    ")\n",
    "trace2 = Scatter(\n",
    "    x = new_it_words_vec[:, 0],\n",
    "    y = new_it_words_vec[:, 1],\n",
    "    mode = 'markers+text',\n",
    "    text = it_words,\n",
    "    textposition = 'top'\n",
    ")\n",
    "layout = Layout(\n",
    "    showlegend = False,\n",
    "    annotations = [dict(\n",
    "        x = new_it_words_vec[5][0],\n",
    "        y = new_it_words_vec[5][1],\n",
    "        text = translated_word[en_words[4]][0],\n",
    "        arrowcolor = \"black\",\n",
    "        arrowsize = 1.5,\n",
    "        arrowwidth = 1,\n",
    "        arrowhead = 0.5\n",
    "      ), dict(\n",
    "        x = new_it_words_vec[6][0],\n",
    "        y = new_it_words_vec[6][1],\n",
    "        text = translated_word[en_words[4]][1],\n",
    "        arrowcolor = \"black\",\n",
    "        arrowsize = 1.5,\n",
    "        arrowwidth = 1,\n",
    "        arrowhead = 0.5\n",
    "      ), dict(\n",
    "        x = new_it_words_vec[7][0],\n",
    "        y = new_it_words_vec[7][1],\n",
    "        text = translated_word[en_words[4]][2],\n",
    "        arrowcolor = \"black\",\n",
    "        arrowsize = 1.5,\n",
    "        arrowwidth = 1,\n",
    "        arrowhead = 0.5\n",
    "      )]\n",
    ")\n",
    "data = [trace1, trace2]\n",
    "\n",
    "fig = Figure(data=data, layout=layout)\n",
    "plot_url = plotly.offline.iplot(fig, filename='relatie_position_for_numbers.html')"
   ]
  },
  {
   "cell_type": "markdown",
   "metadata": {},
   "source": [
    "You probably will see that two kind of different color nodes, one for the English and the other for the Italian. For the translation of word `five`, we return `top 3` similar words `[u'cinque', u'quattro', u'tre']`. We can easily see that the translation is convincing."
   ]
  },
  {
   "cell_type": "markdown",
   "metadata": {
    "deletable": true,
    "editable": true
   },
   "source": [
    "Let's see some animals word, the figue show that most of words are also share the similar geometric arrangements."
   ]
  },
  {
   "cell_type": "code",
   "execution_count": 20,
   "metadata": {
    "collapsed": false,
    "deletable": true,
    "editable": true
   },
   "outputs": [],
   "source": [
    "words = [(\"dog\", \"cane\"), (\"pig\", \"maiale\"), (\"cat\", \"gatto\"), (\"horse\", \"cavallo\"), (\"birds\", \"uccelli\")]\n",
    "en_words_vec = [source_word_vec[item[0]] for item in words]\n",
    "it_words_vec = [target_word_vec[item[1]] for item in words]\n",
    "\n",
    "en_words, it_words = zip(*words)\n",
    "\n",
    "# remove the code, use the plotly for ploting instead\n",
    "# pca = PCA(n_components=2)\n",
    "# new_en_words_vec = pca.fit_transform(en_words_vec)\n",
    "# new_it_words_vec = pca.fit_transform(it_words_vec)\n",
    "\n",
    "# fig = plt.figure()\n",
    "# fig.add_subplot(121)\n",
    "# plt.scatter(new_en_words_vec[:, 0], new_en_words_vec[:, 1])\n",
    "# for idx, item in enumerate(en_words):\n",
    "#     plt.annotate(item, xy=(new_en_words_vec[idx][0], new_en_words_vec[idx][1]))\n",
    "\n",
    "# fig.add_subplot(122)\n",
    "# plt.scatter(new_it_words_vec[:, 0], new_it_words_vec[:, 1])\n",
    "# for idx, item in enumerate(it_words):\n",
    "#     plt.annotate(item, xy=(new_it_words_vec[idx][0], new_it_words_vec[idx][1]))\n",
    "# plt.show()"
   ]
  },
  {
   "cell_type": "code",
   "execution_count": 21,
   "metadata": {
    "collapsed": false,
    "deletable": true,
    "editable": true
   },
   "outputs": [
    {
     "data": {
      "application/vnd.plotly.v1+json": {
       "data": [
        {
         "mode": "markers+text",
         "text": [
          "dog",
          "pig",
          "cat",
          "horse",
          "birds"
         ],
         "textposition": "top",
         "type": "scatter",
         "x": [
          1.3152927124584963,
          -0.2135391946410942,
          -0.41853131679090877,
          -0.44261965826408217,
          -0.24060254276241194
         ],
         "y": [
          -0.012982020585119488,
          0.6946434653689207,
          0.07943642028572512,
          -0.07689106511677166,
          -0.6842067999527552
         ]
        },
        {
         "mode": "markers+text",
         "text": [
          "cane",
          "maiale",
          "gatto",
          "cavallo",
          "uccelli"
         ],
         "textposition": "top",
         "type": "scatter",
         "x": [
          2.238256809135214,
          -0.001303773153150972,
          -0.3056676679567372,
          -0.43875310919367744,
          -0.374055740840617,
          -0.374055740840617,
          -0.43875310919367744,
          -0.3056676679567372
         ],
         "y": [
          -0.1257325191472076,
          0.7888307462022796,
          0.33178257213847573,
          0.08474468776781709,
          -0.7480763734338287,
          -0.7480763734338287,
          0.08474468776781709,
          0.33178257213847556
         ]
        }
       ],
       "layout": {
        "showlegend": false
       }
      },
      "text/html": [
       "<div id=\"b825914c-d1af-4c11-8073-fa05e77d3584\" style=\"height: 525px; width: 100%;\" class=\"plotly-graph-div\"></div><script type=\"text/javascript\">require([\"plotly\"], function(Plotly) { window.PLOTLYENV=window.PLOTLYENV || {};window.PLOTLYENV.BASE_URL=\"https://plot.ly\";Plotly.newPlot(\"b825914c-d1af-4c11-8073-fa05e77d3584\", [{\"textposition\": \"top\", \"text\": [\"dog\", \"pig\", \"cat\", \"horse\", \"birds\"], \"mode\": \"markers+text\", \"y\": [-0.012982020585119488, 0.6946434653689207, 0.07943642028572512, -0.07689106511677166, -0.6842067999527552], \"x\": [1.3152927124584963, -0.2135391946410942, -0.41853131679090877, -0.44261965826408217, -0.24060254276241194], \"type\": \"scatter\"}, {\"textposition\": \"top\", \"text\": [\"cane\", \"maiale\", \"gatto\", \"cavallo\", \"uccelli\"], \"mode\": \"markers+text\", \"y\": [-0.1257325191472076, 0.7888307462022796, 0.33178257213847573, 0.08474468776781709, -0.7480763734338287, -0.7480763734338287, 0.08474468776781709, 0.33178257213847556], \"x\": [2.238256809135214, -0.001303773153150972, -0.3056676679567372, -0.43875310919367744, -0.374055740840617, -0.374055740840617, -0.43875310919367744, -0.3056676679567372], \"type\": \"scatter\"}], {\"showlegend\": false}, {\"linkText\": \"Export to plot.ly\", \"showLink\": true})});</script>"
      ],
      "text/vnd.plotly.v1+html": [
       "<div id=\"b825914c-d1af-4c11-8073-fa05e77d3584\" style=\"height: 525px; width: 100%;\" class=\"plotly-graph-div\"></div><script type=\"text/javascript\">require([\"plotly\"], function(Plotly) { window.PLOTLYENV=window.PLOTLYENV || {};window.PLOTLYENV.BASE_URL=\"https://plot.ly\";Plotly.newPlot(\"b825914c-d1af-4c11-8073-fa05e77d3584\", [{\"textposition\": \"top\", \"text\": [\"dog\", \"pig\", \"cat\", \"horse\", \"birds\"], \"mode\": \"markers+text\", \"y\": [-0.012982020585119488, 0.6946434653689207, 0.07943642028572512, -0.07689106511677166, -0.6842067999527552], \"x\": [1.3152927124584963, -0.2135391946410942, -0.41853131679090877, -0.44261965826408217, -0.24060254276241194], \"type\": \"scatter\"}, {\"textposition\": \"top\", \"text\": [\"cane\", \"maiale\", \"gatto\", \"cavallo\", \"uccelli\"], \"mode\": \"markers+text\", \"y\": [-0.1257325191472076, 0.7888307462022796, 0.33178257213847573, 0.08474468776781709, -0.7480763734338287, -0.7480763734338287, 0.08474468776781709, 0.33178257213847556], \"x\": [2.238256809135214, -0.001303773153150972, -0.3056676679567372, -0.43875310919367744, -0.374055740840617, -0.374055740840617, -0.43875310919367744, -0.3056676679567372], \"type\": \"scatter\"}], {\"showlegend\": false}, {\"linkText\": \"Export to plot.ly\", \"showLink\": true})});</script>"
      ]
     },
     "metadata": {},
     "output_type": "display_data"
    }
   ],
   "source": [
    "trace1 = Scatter(\n",
    "    x = new_en_words_vec[:, 0],\n",
    "    y = new_en_words_vec[:, 1],\n",
    "    mode = 'markers+text',\n",
    "    text = en_words,\n",
    "    textposition = 'top'\n",
    ")\n",
    "trace2 = Scatter(\n",
    "    x = new_it_words_vec[:, 0],\n",
    "    y = new_it_words_vec[:, 1],\n",
    "    mode = 'markers+text',\n",
    "    text = it_words,\n",
    "    textposition ='top'\n",
    ")\n",
    "layout = Layout(\n",
    "    showlegend = False\n",
    ")\n",
    "data = [trace1, trace2]\n",
    "\n",
    "fig = Figure(data=data, layout=layout)\n",
    "plot_url = plotly.offline.iplot(fig, filename='relatie_position_for_animal.html')"
   ]
  },
  {
   "cell_type": "code",
   "execution_count": 22,
   "metadata": {
    "collapsed": false,
    "deletable": true,
    "editable": true
   },
   "outputs": [
    {
     "name": "stdout",
     "output_type": "stream",
     "text": [
      "translation of birds:  OrderedDict([('birds', [u'uccelli', u'garzette', u'iguane'])])\n"
     ]
    }
   ],
   "source": [
    "words = [(\"dog\", \"cane\"), (\"pig\", \"maiale\"), (\"cat\", \"gatto\"), (\"horse\", \"cavallo\"), (\"birds\", \"uccelli\")]\n",
    "en_words, it_words = zip(*words)\n",
    "en_words_vec = [source_word_vec[item[0]] for item in words]\n",
    "it_words_vec = [target_word_vec[item[1]] for item in words]\n",
    "\n",
    "# translate the English word birds to Spanish\n",
    "translated_word = transmat.translate([en_words[4]], 3)\n",
    "print \"translation of birds: \", translated_word\n",
    "\n",
    "# the translated words of birds\n",
    "for item in translated_word[en_words[4]]:\n",
    "    it_words_vec.append(target_word_vec[item])\n",
    "\n",
    "pca = PCA(n_components=2)\n",
    "new_en_words_vec = pca.fit_transform(en_words_vec)\n",
    "new_it_words_vec = pca.fit_transform(it_words_vec)\n",
    "\n",
    "# # remove the code, use the plotly for ploting instead\n",
    "# fig = plt.figure()\n",
    "# fig.add_subplot(121)\n",
    "# plt.scatter(new_en_words_vec[:, 0], new_en_words_vec[:, 1])\n",
    "# for idx, item in enumerate(en_words):\n",
    "#     plt.annotate(item, xy=(new_en_words_vec[idx][0], new_en_words_vec[idx][1]))\n",
    "\n",
    "# fig.add_subplot(122)\n",
    "# plt.scatter(new_it_words_vec[:, 0], new_it_words_vec[:, 1])\n",
    "# for idx, item in enumerate(it_words):\n",
    "#     plt.annotate(item, xy=(new_it_words_vec[idx][0], new_it_words_vec[idx][1]))\n",
    "# # annote for the translation of five, the red text annotation is the translation of five\n",
    "# for idx, item in enumerate(translated_word[en_words[4]]):\n",
    "#     plt.annotate(item, xy=(new_it_words_vec[idx + 5][0], new_it_words_vec[idx + 5][1]),\n",
    "#                  xytext=(new_it_words_vec[idx + 5][0] + 0.1, new_it_words_vec[idx + 5][1] + 0.1),\n",
    "#                  color=\"red\",\n",
    "#                  arrowprops=dict(facecolor='red', shrink=0.1, width=1, headwidth=2),)\n",
    "# plt.show()"
   ]
  },
  {
   "cell_type": "code",
   "execution_count": 23,
   "metadata": {
    "collapsed": false,
    "deletable": true,
    "editable": true
   },
   "outputs": [
    {
     "data": {
      "application/vnd.plotly.v1+json": {
       "data": [
        {
         "mode": "markers+text",
         "text": [
          "dog",
          "pig",
          "cat",
          "horse",
          "birds"
         ],
         "textposition": "top",
         "type": "scatter",
         "x": [
          -0.7834409574097115,
          -0.24918978502602576,
          -0.3596040571376046,
          -1.1177974088927534,
          2.510032208466096
         ],
         "y": [
          -0.0023674114362893157,
          1.7359129383593168,
          0.5183138512392008,
          -1.728125363648011,
          -0.5237340145142162
         ]
        },
        {
         "mode": "markers+text",
         "text": [
          "cane",
          "maiale",
          "gatto",
          "cavallo",
          "uccelli"
         ],
         "textposition": "top",
         "type": "scatter",
         "x": [
          -1.2409943327592234,
          -1.7527728653051347,
          -1.2766374897944894,
          -1.06059013714337,
          2.3863134870161686
         ],
         "y": [
          -1.3573964620591614,
          2.405608050256626,
          -1.1248098791692556,
          -0.28287459942417575,
          0.16446671644015692
         ]
        }
       ],
       "layout": {
        "annotations": [
         {
          "arrowcolor": "black",
          "arrowhead": 0.5,
          "arrowsize": 1.5,
          "arrowwidth": 1,
          "text": "uccelli",
          "x": 2.3863134870161686,
          "y": 0.1644667164401571
         },
         {
          "arrowcolor": "black",
          "arrowhead": 0.5,
          "arrowsize": 1.5,
          "arrowwidth": 1,
          "text": "garzette",
          "x": 0.29281044463499584,
          "y": 0.10738109697864884
         },
         {
          "arrowcolor": "black",
          "arrowhead": 0.5,
          "arrowsize": 1.5,
          "arrowwidth": 1,
          "text": "iguane",
          "x": 0.2655574063348864,
          "y": -0.07684163946299687
         }
        ],
        "showlegend": false
       }
      },
      "text/html": [
       "<div id=\"ea6729fd-e75e-4714-bae7-4186a804a4e9\" style=\"height: 525px; width: 100%;\" class=\"plotly-graph-div\"></div><script type=\"text/javascript\">require([\"plotly\"], function(Plotly) { window.PLOTLYENV=window.PLOTLYENV || {};window.PLOTLYENV.BASE_URL=\"https://plot.ly\";Plotly.newPlot(\"ea6729fd-e75e-4714-bae7-4186a804a4e9\", [{\"textposition\": \"top\", \"text\": [\"dog\", \"pig\", \"cat\", \"horse\", \"birds\"], \"mode\": \"markers+text\", \"y\": [-0.0023674114362893157, 1.7359129383593168, 0.5183138512392008, -1.728125363648011, -0.5237340145142162], \"x\": [-0.7834409574097115, -0.24918978502602576, -0.3596040571376046, -1.1177974088927534, 2.510032208466096], \"type\": \"scatter\"}, {\"textposition\": \"top\", \"text\": [\"cane\", \"maiale\", \"gatto\", \"cavallo\", \"uccelli\"], \"mode\": \"markers+text\", \"y\": [-1.3573964620591614, 2.405608050256626, -1.1248098791692556, -0.28287459942417575, 0.16446671644015692], \"x\": [-1.2409943327592234, -1.7527728653051347, -1.2766374897944894, -1.06059013714337, 2.3863134870161686], \"type\": \"scatter\"}], {\"showlegend\": false, \"annotations\": [{\"arrowhead\": 0.5, \"text\": \"uccelli\", \"arrowsize\": 1.5, \"y\": 0.1644667164401571, \"x\": 2.3863134870161686, \"arrowwidth\": 1, \"arrowcolor\": \"black\"}, {\"arrowhead\": 0.5, \"text\": \"garzette\", \"arrowsize\": 1.5, \"y\": 0.10738109697864884, \"x\": 0.29281044463499584, \"arrowwidth\": 1, \"arrowcolor\": \"black\"}, {\"arrowhead\": 0.5, \"text\": \"iguane\", \"arrowsize\": 1.5, \"y\": -0.07684163946299687, \"x\": 0.2655574063348864, \"arrowwidth\": 1, \"arrowcolor\": \"black\"}]}, {\"linkText\": \"Export to plot.ly\", \"showLink\": true})});</script>"
      ],
      "text/vnd.plotly.v1+html": [
       "<div id=\"ea6729fd-e75e-4714-bae7-4186a804a4e9\" style=\"height: 525px; width: 100%;\" class=\"plotly-graph-div\"></div><script type=\"text/javascript\">require([\"plotly\"], function(Plotly) { window.PLOTLYENV=window.PLOTLYENV || {};window.PLOTLYENV.BASE_URL=\"https://plot.ly\";Plotly.newPlot(\"ea6729fd-e75e-4714-bae7-4186a804a4e9\", [{\"textposition\": \"top\", \"text\": [\"dog\", \"pig\", \"cat\", \"horse\", \"birds\"], \"mode\": \"markers+text\", \"y\": [-0.0023674114362893157, 1.7359129383593168, 0.5183138512392008, -1.728125363648011, -0.5237340145142162], \"x\": [-0.7834409574097115, -0.24918978502602576, -0.3596040571376046, -1.1177974088927534, 2.510032208466096], \"type\": \"scatter\"}, {\"textposition\": \"top\", \"text\": [\"cane\", \"maiale\", \"gatto\", \"cavallo\", \"uccelli\"], \"mode\": \"markers+text\", \"y\": [-1.3573964620591614, 2.405608050256626, -1.1248098791692556, -0.28287459942417575, 0.16446671644015692], \"x\": [-1.2409943327592234, -1.7527728653051347, -1.2766374897944894, -1.06059013714337, 2.3863134870161686], \"type\": \"scatter\"}], {\"showlegend\": false, \"annotations\": [{\"arrowhead\": 0.5, \"text\": \"uccelli\", \"arrowsize\": 1.5, \"y\": 0.1644667164401571, \"x\": 2.3863134870161686, \"arrowwidth\": 1, \"arrowcolor\": \"black\"}, {\"arrowhead\": 0.5, \"text\": \"garzette\", \"arrowsize\": 1.5, \"y\": 0.10738109697864884, \"x\": 0.29281044463499584, \"arrowwidth\": 1, \"arrowcolor\": \"black\"}, {\"arrowhead\": 0.5, \"text\": \"iguane\", \"arrowsize\": 1.5, \"y\": -0.07684163946299687, \"x\": 0.2655574063348864, \"arrowwidth\": 1, \"arrowcolor\": \"black\"}]}, {\"linkText\": \"Export to plot.ly\", \"showLink\": true})});</script>"
      ]
     },
     "metadata": {},
     "output_type": "display_data"
    }
   ],
   "source": [
    "trace1 = Scatter(\n",
    "    x = new_en_words_vec[:, 0],\n",
    "    y = new_en_words_vec[:, 1],\n",
    "    mode = 'markers+text',\n",
    "    text = en_words,\n",
    "    textposition = 'top'\n",
    ")\n",
    "trace2 = Scatter(\n",
    "    x = new_it_words_vec[:5, 0],\n",
    "    y = new_it_words_vec[:5, 1],\n",
    "    mode = 'markers+text',\n",
    "    text = it_words[:5],\n",
    "    textposition = 'top'\n",
    ")\n",
    "layout = Layout(\n",
    "    showlegend = False,\n",
    "    annotations = [dict(\n",
    "        x = new_it_words_vec[5][0],\n",
    "        y = new_it_words_vec[5][1],\n",
    "        text = translated_word[en_words[4]][0],\n",
    "        arrowcolor = \"black\",\n",
    "        arrowsize = 1.5,\n",
    "        arrowwidth = 1,\n",
    "        arrowhead = 0.5\n",
    "      ), dict(\n",
    "        x = new_it_words_vec[6][0],\n",
    "        y = new_it_words_vec[6][1],\n",
    "        text = translated_word[en_words[4]][1],\n",
    "        arrowcolor = \"black\",\n",
    "        arrowsize = 1.5,\n",
    "        arrowwidth = 1,\n",
    "        arrowhead = 0.5\n",
    "      ), dict(\n",
    "        x = new_it_words_vec[7][0],\n",
    "        y = new_it_words_vec[7][1],\n",
    "        text = translated_word[en_words[4]][2],\n",
    "        arrowcolor = \"black\",\n",
    "        arrowsize = 1.5,\n",
    "        arrowwidth = 1,\n",
    "        arrowhead = 0.5\n",
    "      )]\n",
    ")\n",
    "data = [trace1, trace2]\n",
    "\n",
    "fig = Figure(data=data, layout=layout)\n",
    "plot_url = plotly.offline.iplot(fig, filename='relatie_position_for_animal.html')"
   ]
  },
  {
   "cell_type": "markdown",
   "metadata": {},
   "source": [
    "You probably will see that two kind of different color nodes, one for the English and the other for the Italian. For the translation of word `bird`, we return `top 3` similar words `[u'uccelli', u'garzette', u'iguane']`. We can easily see that the animals' words translation is also convincing as the numbers."
   ]
  },
  {
   "cell_type": "code",
   "execution_count": null,
   "metadata": {
    "collapsed": true
   },
   "outputs": [],
   "source": []
  }
 ],
 "metadata": {
  "kernelspec": {
   "display_name": "Python 2",
   "language": "python",
   "name": "python2"
  },
  "language_info": {
   "codemirror_mode": {
    "name": "ipython",
    "version": 2
   },
   "file_extension": ".py",
   "mimetype": "text/x-python",
   "name": "python",
   "nbconvert_exporter": "python",
   "pygments_lexer": "ipython2",
   "version": "2.7.6"
  }
 },
 "nbformat": 4,
 "nbformat_minor": 0
}
