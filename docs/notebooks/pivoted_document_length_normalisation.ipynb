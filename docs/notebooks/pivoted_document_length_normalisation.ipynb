{
 "cells": [
  {
   "cell_type": "markdown",
   "metadata": {},
   "source": [
    "## Pivoted document length normalization\n",
    "It is seen that in *many* cases normalizing the tfidf weights for each terms tends to favor weight of terms of the documents with shorter length. Pivoted document length normalization scheme brings a pivoting scheme on the table which can be used to counter the effect of this bias for short documents by making tfidf independent of the document length.\n",
    "\n",
    "This is achieved by *tilting* the normalization curve along the pivot point defined by user with some slope. Roughly following the equation -  \n",
    "`pivoted_norm = (1 - slope) * pivot + slope * old_norm`\n",
    "\n",
    "This scheme is proposed in the paper [pivoted document length normalization](http://singhal.info/pivoted-dln.pdf)\n",
    "\n",
    "Overall this approach can in many cases help increase the accuracy of the model where the document lengths are hugely varying in the enitre corpus."
   ]
  },
  {
   "cell_type": "code",
   "execution_count": 1,
   "metadata": {
    "collapsed": true,
    "scrolled": true
   },
   "outputs": [],
   "source": [
    "%matplotlib inline\n",
    "from sklearn.linear_model import LogisticRegression\n",
    "\n",
    "from gensim.corpora import Dictionary\n",
    "from gensim.sklearn_api.tfidf import TfIdfTransformer\n",
    "from gensim.matutils import corpus2csc\n",
    "\n",
    "import numpy as np\n",
    "import matplotlib.pyplot as py\n",
    "\n",
    "import gensim.downloader as api"
   ]
  },
  {
   "cell_type": "code",
   "execution_count": 2,
   "metadata": {
    "collapsed": true
   },
   "outputs": [],
   "source": [
    "# This function returns the model accuracy and indivitual document prob values using\n",
    "# gensim's TfIdfTransformer and sklearn's LogisticRegression\n",
    "def get_tfidf_scores(kwargs):\n",
    "    tfidf_transformer = TfIdfTransformer(**kwargs).fit(train_corpus)\n",
    "\n",
    "    X_train_tfidf = corpus2csc(tfidf_transformer.transform(train_corpus), num_terms=len(id2word)).T\n",
    "    X_test_tfidf = corpus2csc(tfidf_transformer.transform(test_corpus), num_terms=len(id2word)).T\n",
    "\n",
    "    clf = LogisticRegression().fit(X_train_tfidf, y_train)\n",
    "\n",
    "    model_accuracy = clf.score(X_test_tfidf, y_test)\n",
    "    doc_scores = clf.decision_function(X_test_tfidf)\n",
    "\n",
    "    return model_accuracy, doc_scores"
   ]
  },
  {
   "cell_type": "code",
   "execution_count": 3,
   "metadata": {
    "collapsed": true
   },
   "outputs": [],
   "source": [
    "# Sort the document scores by their scores and return a sorted list\n",
    "# of document score and corresponding document lengths.\n",
    "def sort_length_by_score(doc_scores, X_test):\n",
    "    doc_scores = sorted(enumerate(doc_scores), key=lambda x: x[1])\n",
    "    doc_leng = np.empty(len(doc_scores))\n",
    "\n",
    "    ds = np.empty(len(doc_scores))\n",
    "\n",
    "    for i, _ in enumerate(doc_scores):\n",
    "        doc_leng[i] = len(X_test[_[0]])\n",
    "        ds[i] = _[1]\n",
    "\n",
    "    return ds, doc_leng"
   ]
  },
  {
   "cell_type": "code",
   "execution_count": 4,
   "metadata": {
    "collapsed": true
   },
   "outputs": [],
   "source": [
    "nws = api.load(\"20-newsgroups\")"
   ]
  },
  {
   "cell_type": "code",
   "execution_count": 5,
   "metadata": {
    "collapsed": true
   },
   "outputs": [],
   "source": [
    "cat1, cat2 = ('sci.electronics', 'sci.space')\n",
    "\n",
    "X_train = []\n",
    "X_test = []\n",
    "y_train = []\n",
    "y_test = []\n",
    "\n",
    "for i in nws:\n",
    "    if i[\"set\"] == \"train\" and i[\"topic\"] == cat1:\n",
    "        X_train.append(i[\"data\"])\n",
    "        y_train.append(0)\n",
    "    elif i[\"set\"] == \"train\" and i[\"topic\"] == cat2:\n",
    "        X_train.append(i[\"data\"])\n",
    "        y_train.append(1)\n",
    "    elif i[\"set\"] == \"test\" and i[\"topic\"] == cat1:\n",
    "        X_test.append(i[\"data\"])\n",
    "        y_test.append(0)\n",
    "    elif i[\"set\"] == \"test\" and i[\"topic\"] == cat2:\n",
    "        X_test.append(i[\"data\"])\n",
    "        y_test.append(1)"
   ]
  },
  {
   "cell_type": "code",
   "execution_count": 6,
   "metadata": {
    "collapsed": true
   },
   "outputs": [],
   "source": [
    "id2word = Dictionary([_.split() for _ in X_train])\n",
    "\n",
    "train_corpus = [id2word.doc2bow(i.split()) for i in X_train]\n",
    "test_corpus = [id2word.doc2bow(i.split()) for i in X_test]"
   ]
  },
  {
   "cell_type": "code",
   "execution_count": 7,
   "metadata": {
    "collapsed": false
   },
   "outputs": [
    {
     "name": "stdout",
     "output_type": "stream",
     "text": [
      "(1184, 787)\n"
     ]
    }
   ],
   "source": [
    "print(len(X_train), len(X_test))"
   ]
  },
  {
   "cell_type": "code",
   "execution_count": 8,
   "metadata": {
    "collapsed": true
   },
   "outputs": [],
   "source": [
    "# We perform our analysis on top k documents which is almost top 10% most scored documents\n",
    "k = len(X_test) / 10"
   ]
  },
  {
   "cell_type": "markdown",
   "metadata": {},
   "source": [
    "### Get TFIDF scores for corpus without pivoted document length normalisation"
   ]
  },
  {
   "cell_type": "code",
   "execution_count": 9,
   "metadata": {
    "collapsed": false
   },
   "outputs": [
    {
     "name": "stdout",
     "output_type": "stream",
     "text": [
      "0.9440914866581956\n"
     ]
    }
   ],
   "source": [
    "params = {}\n",
    "model_accuracy, doc_scores = get_tfidf_scores(params)\n",
    "print(model_accuracy)"
   ]
  },
  {
   "cell_type": "code",
   "execution_count": 10,
   "metadata": {
    "collapsed": false
   },
   "outputs": [
    {
     "name": "stdout",
     "output_type": "stream",
     "text": [
      "Normal cosine normalisation favors short documents as our top 78 docs have a smaller mean doc length of 1290.077 compared to the corpus mean doc length of 1577.799\n"
     ]
    }
   ],
   "source": [
    "print(\n",
    "    \"Normal cosine normalisation favors short documents as our top {} \"\n",
    "    \"docs have a smaller mean doc length of {:.3f} compared to the corpus mean doc length of {:.3f}\"\n",
    "    .format(\n",
    "        k, sort_length_by_score(doc_scores, X_test)[1][:k].mean(), \n",
    "        sort_length_by_score(doc_scores, X_test)[1].mean()\n",
    "    )\n",
    ")"
   ]
  },
  {
   "cell_type": "markdown",
   "metadata": {},
   "source": [
    "### Get TFIDF scores for corpus with pivoted document length normalisation testing on various values of alpha."
   ]
  },
  {
   "cell_type": "code",
   "execution_count": 11,
   "metadata": {
    "collapsed": false
   },
   "outputs": [
    {
     "name": "stdout",
     "output_type": "stream",
     "text": [
      "Score for slope 0.0 is 0.951715374841\n",
      "Score for slope 0.1 is 0.954256670902\n",
      "Score for slope 0.2 is 0.955527318933\n",
      "Score for slope 0.3 is 0.954256670902\n",
      "Score for slope 0.4 is 0.951715374841\n",
      "Score for slope 0.5 is 0.950444726811\n",
      "Score for slope 0.6 is 0.94917407878\n",
      "Score for slope 0.7 is 0.950444726811\n",
      "Score for slope 0.8 is 0.94790343075\n",
      "Score for slope 0.9 is 0.94790343075\n",
      "Score for slope 1.0 is 0.944091486658\n",
      "We get best score of 0.955527318933 at slope 0.2\n"
     ]
    }
   ],
   "source": [
    "best_model_accuracy = 0\n",
    "optimum_slope = 0\n",
    "for slope in np.arange(0, 1.1, 0.1):\n",
    "    params = {\"pivot\": 10, \"slope\": slope}\n",
    "\n",
    "    model_accuracy, doc_scores = get_tfidf_scores(params)\n",
    "\n",
    "    if model_accuracy > best_model_accuracy:\n",
    "        best_model_accuracy = model_accuracy\n",
    "        optimum_slope = slope\n",
    "\n",
    "    print(\"Score for slope {} is {}\".format(slope, model_accuracy))\n",
    "\n",
    "print(\"We get best score of {} at slope {}\".format(best_model_accuracy, optimum_slope))"
   ]
  },
  {
   "cell_type": "code",
   "execution_count": 12,
   "metadata": {
    "collapsed": false
   },
   "outputs": [
    {
     "name": "stdout",
     "output_type": "stream",
     "text": [
      "0.9555273189326556\n"
     ]
    }
   ],
   "source": [
    "params = {\"pivot\": 10, \"slope\": optimum_slope}\n",
    "model_accuracy, doc_scores = get_tfidf_scores(params)\n",
    "print(model_accuracy)"
   ]
  },
  {
   "cell_type": "code",
   "execution_count": 13,
   "metadata": {
    "collapsed": false
   },
   "outputs": [
    {
     "name": "stdout",
     "output_type": "stream",
     "text": [
      "With pivoted normalisation top 78 docs have mean length of 1777.385 which is much closer to the corpus mean doc length of 1577.799\n"
     ]
    }
   ],
   "source": [
    "print(\n",
    "    \"With pivoted normalisation top {} docs have mean length of {:.3f} \"\n",
    "    \"which is much closer to the corpus mean doc length of {:.3f}\"\n",
    "    .format(\n",
    "        k, sort_length_by_score(doc_scores, X_test)[1][:k].mean(), \n",
    "        sort_length_by_score(doc_scores, X_test)[1].mean()\n",
    "    )\n",
    ")"
   ]
  },
  {
   "cell_type": "markdown",
   "metadata": {},
   "source": [
    "## Visualizing the pivoted normalization"
   ]
  },
  {
   "cell_type": "markdown",
   "metadata": {},
   "source": [
    "Since cosine normalization favors retrieval of short documents from the plot we can see that when slope was 1 (when pivoted normalisation was not applied) short documents with length of around 500 had very good score hence the bias for short documents can be seen. As we varied the value of slope from 1 to 0 we introdcued a new bias for long documents to counter the bias caused by cosine normalisation. Therefore at a certain point we got an optimum value of slope which is 0.5 where the overall accuracy of the model is increased.\n"
   ]
  },
  {
   "cell_type": "code",
   "execution_count": 14,
   "metadata": {
    "collapsed": false
   },
   "outputs": [
    {
     "data": {
      "image/png": "[encoded data removed]",
      "text/plain": [
       "<matplotlib.figure.Figure at 0x7f6f87e9cd50>"
      ]
     },
     "metadata": {},
     "output_type": "display_data"
    }
   ],
   "source": [
    "best_model_accuracy = 0\n",
    "optimum_slope = 0\n",
    "\n",
    "w = 2\n",
    "h = 2\n",
    "f, axarr = py.subplots(h, w, figsize=(15, 7))\n",
    "\n",
    "it = 0\n",
    "for slope in [1, 0.2]:\n",
    "    params = {\"pivot\": 10, \"slope\": slope}\n",
    "\n",
    "    model_accuracy, doc_scores = get_tfidf_scores(params)\n",
    "\n",
    "    if model_accuracy > best_model_accuracy:\n",
    "        best_model_accuracy = model_accuracy\n",
    "        optimum_slope = slope\n",
    "\n",
    "    doc_scores, doc_leng = sort_length_by_score(doc_scores, X_test)\n",
    "\n",
    "    y = abs(doc_scores[:k, np.newaxis])\n",
    "    x = doc_leng[:k, np.newaxis]\n",
    "\n",
    "    py.subplot(1, 2, it+1).bar(x, y, linewidth=10.)\n",
    "    py.title(\"slope = \" + str(slope) + \" Model accuracy = \" + str(model_accuracy))\n",
    "    py.ylim([0, 4.5])\n",
    "    py.xlim([0, 3200])\n",
    "    py.xlabel(\"document length\")\n",
    "    py.ylabel(\"confidence score\")\n",
    "    \n",
    "    it += 1\n",
    "\n",
    "py.tight_layout()\n",
    "py.show()"
   ]
  },
  {
   "cell_type": "markdown",
   "metadata": {},
   "source": [
    "The above histogram plot helps us visualize the effect of `slope`. For top k documents we have document length on the x axis and their respective scores of belonging to a specific class on y axis.  \n",
    "As we decrease the slope the density of bins is shifted from low document length (around ~250-500) to over ~500 document length. This suggests that the positive biasness which was seen at `slope=1` (or when regular tfidf was used) for short documents is now reduced. We get the optimum slope or the max model accuracy when slope is 0.2."
   ]
  }
 ],
 "metadata": {
  "kernelspec": {
   "display_name": "Python 2",
   "language": "python",
   "name": "python2"
  },
  "language_info": {
   "codemirror_mode": {
    "name": "ipython",
    "version": 2
   },
   "file_extension": ".py",
   "mimetype": "text/x-python",
   "name": "python",
   "nbconvert_exporter": "python",
   "pygments_lexer": "ipython2",
   "version": "2.7.12"
  }
 },
 "nbformat": 4,
 "nbformat_minor": 1
}
