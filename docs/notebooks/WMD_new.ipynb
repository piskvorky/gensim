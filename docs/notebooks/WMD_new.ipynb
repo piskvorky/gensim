{
 "cells": [
  {
   "cell_type": "code",
   "execution_count": 11,
   "metadata": {
    "collapsed": true
   },
   "outputs": [],
   "source": [
    "import os\n",
    "import numpy as np\n",
    "import gensim\n",
    "from gensim.parsing.preprocessing import STOPWORDS\n",
    "from scipy.spatial.distance import euclidean\n",
    "from sklearn.metrics import euclidean_distances\n",
    "from gensim.corpora.dictionary import Dictionary\n",
    "from time import time\n",
    "import collections"
   ]
  },
  {
   "cell_type": "code",
   "execution_count": 2,
   "metadata": {},
   "outputs": [
    {
     "name": "stdout",
     "output_type": "stream",
     "text": [
      "Cell took 387.18 seconds to run.\n"
     ]
    }
   ],
   "source": [
    "from gensim.models import Word2Vec\n",
    "start = time()\n",
    "if not os.path.exists('GoogleNews-vectors-negative300.bin.gz'):\n",
    "    raise ValueError(\"SKIP: You need to download the google news model\")\n",
    "    \n",
    "model = gensim.models.KeyedVectors.load_word2vec_format('GoogleNews-vectors-negative300.bin.gz', binary=True)\n",
    "print('Cell took %.2f seconds to run.' % (time() - start))"
   ]
  },
  {
   "cell_type": "code",
   "execution_count": 15,
   "metadata": {},
   "outputs": [
    {
     "name": "stdout",
     "output_type": "stream",
     "text": [
      "['obama', 'speaks', 'media', 'illinois'] ['president', 'greets', 'press', 'chicago'] ['oranges', 'favorite', 'fruit']\n"
     ]
    }
   ],
   "source": [
    "s1 = \"Obama speaks to the media in Illinois\".lower().split()\n",
    "s2 = \"The president greets the press in Chicago\".lower().split()\n",
    "s3 = 'Oranges are my favorite fruit'.lower().split()\n",
    "s1 = [w for w in s1 if w not in STOPWORDS]\n",
    "s2 = [w for w in s2 if w not in STOPWORDS]\n",
    "s3 = [w for w in s3 if w not in STOPWORDS]\n",
    "print s1, s2, s3"
   ]
  },
  {
   "cell_type": "markdown",
   "metadata": {},
   "source": [
    "Defining the relaxed word mover distance"
   ]
  },
  {
   "cell_type": "code",
   "execution_count": 24,
   "metadata": {
    "collapsed": true
   },
   "outputs": [],
   "source": [
    "def wmDistance(d1,d2):\n",
    "    d1 = [w for w in d1 if w not in STOPWORDS]\n",
    "    d2 = [w for w in d2 if w not in STOPWORDS]\n",
    "    # print d1, d2\n",
    "    freq1 = collections.Counter(d1)\n",
    "    freq2 = collections.Counter(d2)\n",
    "    sum1 = 0\n",
    "    sum2 = 0\n",
    "    di = []\n",
    "    dj = []\n",
    "    for word in freq1:\n",
    "        di.append(freq1[word])\n",
    "        sum1 = sum1 + freq1[word]\n",
    "    for word in freq2:\n",
    "        dj.append(freq2[word])\n",
    "        sum2 = sum2 + freq2[word]\n",
    "    \n",
    "    di = np.array(di)/float(sum1)\n",
    "    dj = np.array(dj)/float(sum2)\n",
    "    # print di, dj\n",
    "    distance_matrix = []\n",
    "    for word1 in d1:\n",
    "        row = []\n",
    "        for word2 in d2:\n",
    "            a = euclidean_distances([model[word1]], [model[word2]])\n",
    "            row.append(a[0][0])\n",
    "        distance_matrix.append(row)\n",
    "    distance_matrix = np.array(distance_matrix)\n",
    "    flow_matrix = []\n",
    "    for i in range(len(distance_matrix)):\n",
    "        for j in range(len(distance_matrix)):\n",
    "            # print distance_matrix[i][j]\n",
    "            if np.argmin(distance_matrix[i]) == j:\n",
    "                flow_matrix.append(di[i])\n",
    "            else:\n",
    "                flow_matrix.append(0)\n",
    "    finalSum = 0\n",
    "    x = 0\n",
    "    for i in distance_matrix:\n",
    "        for j in i:\n",
    "            finalSum = finalSum + flow_matrix[x]*j\n",
    "            x = x + 1\n",
    "    return finalSum"
   ]
  },
  {
   "cell_type": "markdown",
   "metadata": {},
   "source": [
    "Computing from existing wmdistance method, for performance benchmark"
   ]
  },
  {
   "cell_type": "code",
   "execution_count": 25,
   "metadata": {},
   "outputs": [
    {
     "name": "stdout",
     "output_type": "stream",
     "text": [
      "3.37412332147 4.18429791\n"
     ]
    }
   ],
   "source": [
    "distance = model.wmdistance(s1, s2)\n",
    "distance1 = model.wmdistance(s2, s3)\n",
    "print distance, distance1"
   ]
  },
  {
   "cell_type": "markdown",
   "metadata": {},
   "source": [
    "Checking with wmDistance function."
   ]
  },
  {
   "cell_type": "code",
   "execution_count": 26,
   "metadata": {},
   "outputs": [
    {
     "name": "stdout",
     "output_type": "stream",
     "text": [
      "2.10030454397 3.12690079212\n"
     ]
    }
   ],
   "source": [
    "distance0 = wmDistance(s1, s2)\n",
    "distance01 = wmDistance(s2, s3)\n",
    "print distance0, distance01"
   ]
  },
  {
   "cell_type": "markdown",
   "metadata": {},
   "source": [
    "Normalizing word2vec vectors."
   ]
  },
  {
   "cell_type": "code",
   "execution_count": 27,
   "metadata": {},
   "outputs": [
    {
     "name": "stdout",
     "output_type": "stream",
     "text": [
      "Cell took 61.41 seconds to run.\n"
     ]
    }
   ],
   "source": [
    "start = time()\n",
    "model.init_sims(replace=True)\n",
    "print 'Cell took %.2f seconds to run.' %(time() - start)"
   ]
  },
  {
   "cell_type": "code",
   "execution_count": 28,
   "metadata": {},
   "outputs": [
    {
     "name": "stdout",
     "output_type": "stream",
     "text": [
      "1.01746462593 1.33882517563\n"
     ]
    }
   ],
   "source": [
    "distance = model.wmdistance(s1, s2)\n",
    "distance1 = model.wmdistance(s2, s3)\n",
    "print distance, distance1"
   ]
  },
  {
   "cell_type": "code",
   "execution_count": 29,
   "metadata": {},
   "outputs": [
    {
     "name": "stdout",
     "output_type": "stream",
     "text": [
      "0.353553384542 0.965925842524\n"
     ]
    }
   ],
   "source": [
    "distance0 = wmDistance(s1, s2)\n",
    "distance01 = wmDistance(s2, s3)\n",
    "print distance0, distance01"
   ]
  },
  {
   "cell_type": "code",
   "execution_count": null,
   "metadata": {
    "collapsed": true
   },
   "outputs": [],
   "source": []
  }
 ],
 "metadata": {
  "kernelspec": {
   "display_name": "Python 2",
   "language": "python",
   "name": "python2"
  },
  "language_info": {
   "codemirror_mode": {
    "name": "ipython",
    "version": 2
   },
   "file_extension": ".py",
   "mimetype": "text/x-python",
   "name": "python",
   "nbconvert_exporter": "python",
   "pygments_lexer": "ipython2",
   "version": "2.7.14"
  }
 },
 "nbformat": 4,
 "nbformat_minor": 2
}
