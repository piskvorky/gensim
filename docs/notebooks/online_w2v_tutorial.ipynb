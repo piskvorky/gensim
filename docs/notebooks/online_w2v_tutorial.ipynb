{
 "cells": [
  {
   "cell_type": "markdown",
   "metadata": {},
   "source": [
    "# Online word2vec tutorial\n",
    "\n",
    "So far, word2vec cannot increase the size of vocabulary after initial training. To handle unknown words, not in word2vec vocaburary, you must  retrain updated documents over again.\n",
    "\n",
    "In this tutorial, we introduce gensim new feature, online vocaburary update. This additional feature overcomes the unknown word problems. Despite after initial training, we can continuously add new vocaburary to the pre-trained word2vec model using this online feature.\n",
    "\n",
    "This implementation is still beta version at 16/09/04. You can download the beta version of online word2vec implementation in the following repository."
   ]
  },
  {
   "cell_type": "code",
   "execution_count": null,
   "metadata": {
    "collapsed": true
   },
   "outputs": [],
   "source": [
    "%%bash\n",
    "git clone -b online-w2v git@github.com:isohyt/gensim.git"
   ]
  },
  {
   "cell_type": "code",
   "execution_count": 1,
   "metadata": {
    "collapsed": true
   },
   "outputs": [],
   "source": [
    "from gensim.corpora.wikicorpus import WikiCorpus\n",
    "from gensim.models.word2vec import Word2Vec, LineSentence\n",
    "from pprint import pprint\n",
    "from copy import deepcopy\n",
    "from multiprocessing import cpu_count"
   ]
  },
  {
   "cell_type": "markdown",
   "metadata": {},
   "source": [
    "### Download wikipedia dump files\n",
    "\n",
    "We use the past and the current version of wiki dump files as online training."
   ]
  },
  {
   "cell_type": "code",
   "execution_count": null,
   "metadata": {
    "collapsed": false
   },
   "outputs": [],
   "source": [
    "%%bash\n",
    "wget https://dumps.wikimedia.org/archive/2010/2010-11/enwiki/20101011/enwiki-20101011-pages-articles.xml.bz2\n",
    "wget https://dumps.wikimedia.org/enwiki/20160820/enwiki-20160820-pages-articles.xml.bz2"
   ]
  },
  {
   "cell_type": "markdown",
   "metadata": {},
   "source": [
    "### Convert two wikipedia dump files\n",
    "To avoid alert when convert old verision of wikipedia dump, you should download alternative wikicorpus.py in my repo."
   ]
  },
  {
   "cell_type": "code",
   "execution_count": 2,
   "metadata": {
    "collapsed": false
   },
   "outputs": [],
   "source": [
    "old, new = [WikiCorpus('enwiki-{}-pages-articles.xml.bz2'.format(ymd)) for ymd in ['20101011', '20160820']]"
   ]
  },
  {
   "cell_type": "code",
   "execution_count": 3,
   "metadata": {
    "collapsed": true
   },
   "outputs": [],
   "source": [
    "def write_wiki(wiki):\n",
    "    with open('{}.wiki'.format(wiki), 'w') as f:\n",
    "        for text in eval(wiki).get_texts():\n",
    "            f.write(' '.join([t.decode(\"utf-8\") for t in text]) + \"\\n\")"
   ]
  },
  {
   "cell_type": "code",
   "execution_count": 4,
   "metadata": {
    "collapsed": false
   },
   "outputs": [],
   "source": [
    "for wiki in ['old', 'new']:\n",
    "    write_wiki(wiki)"
   ]
  },
  {
   "cell_type": "code",
   "execution_count": 5,
   "metadata": {
    "collapsed": true
   },
   "outputs": [],
   "source": [
    "oldwiki, newwiki = [LineSentence(f+'.wiki') for f in ['old', 'new']]"
   ]
  },
  {
   "cell_type": "markdown",
   "metadata": {},
   "source": [
    "### Initial training\n",
    "At first we train word2vec using \"enwiki-20101011-pages-articles.xml.bz2\". After that, we update model using \"enwiki-20160820-pages-articles.xml.bz2\"."
   ]
  },
  {
   "cell_type": "code",
   "execution_count": 6,
   "metadata": {
    "collapsed": true
   },
   "outputs": [],
   "source": [
    "model = Word2Vec(oldwiki, min_count = 0, workers=cpu_count())\n",
    "# model = Word2Vec.load('oldmodel')\n",
    "oldmodel = deepcopy(model)\n",
    "oldmodel.save('oldmodel')"
   ]
  },
  {
   "cell_type": "markdown",
   "metadata": {},
   "source": [
    "#### Japanese new idol group, [\"Babymetal\"](https://en.wikipedia.org/wiki/Babymetal), weren't known worldwide in 2010, so that the word, \"babymetal\", is not in oldmodel vocaburary.\n",
    "Note: In recent years, they became the famous idol group not only in Japan. They won many music awards and run world tour."
   ]
  },
  {
   "cell_type": "code",
   "execution_count": 7,
   "metadata": {
    "collapsed": false
   },
   "outputs": [
    {
     "name": "stdout",
     "output_type": "stream",
     "text": [
      "\"word 'babymetal' not in vocabulary\"\n"
     ]
    }
   ],
   "source": [
    "try:\n",
    "    print(oldmodel.most_similar('babymetal'))\n",
    "except KeyError as e:\n",
    "    print(e)"
   ]
  },
  {
   "cell_type": "markdown",
   "metadata": {},
   "source": [
    "## Online update\n",
    "To use online word2vec feature, set update=True when you use build_vocab using new documents."
   ]
  },
  {
   "cell_type": "code",
   "execution_count": 8,
   "metadata": {
    "collapsed": false
   },
   "outputs": [],
   "source": [
    "model.build_vocab(newwiki, update=True)\n",
    "model.train(newwiki)\n",
    "model.save('newmodel')\n",
    "# model = Word2Vec.load('newmodel')"
   ]
  },
  {
   "cell_type": "markdown",
   "metadata": {},
   "source": [
    "#### Model Comparison\n",
    "By the online training, the size of vocaburaries are increased about 3 millions."
   ]
  },
  {
   "cell_type": "code",
   "execution_count": 9,
   "metadata": {
    "collapsed": false
   },
   "outputs": [
    {
     "name": "stdout",
     "output_type": "stream",
     "text": [
      "The vocabulary size of the oldmodel is 6161170\n",
      "The vocabulary size of the model is 9577157\n"
     ]
    }
   ],
   "source": [
    "for m in ['oldmodel', 'model']:\n",
    "    print('The vocabulary size of the', m, 'is', len(eval(m).vocab))"
   ]
  },
  {
   "cell_type": "markdown",
   "metadata": {},
   "source": [
    "#### After online training, the word, \"babymetal\", is added in model. This word is simillar with rock and metal bands."
   ]
  },
  {
   "cell_type": "code",
   "execution_count": 10,
   "metadata": {
    "collapsed": false
   },
   "outputs": [
    {
     "name": "stdout",
     "output_type": "stream",
     "text": [
      "[('espairsray', 0.8282548189163208),\n",
      " ('mucc', 0.8032759428024292),\n",
      " ('galneryus', 0.7984307408332825),\n",
      " ('quruli', 0.7982708215713501),\n",
      " ('ellegarden', 0.7801949381828308),\n",
      " ('crossfaith', 0.779990017414093),\n",
      " ('chatmonchy', 0.7631145119667053),\n",
      " ('kuroyume', 0.7630795836448669),\n",
      " ('boøwy', 0.7613781690597534),\n",
      " ('ayabie', 0.7611944675445557)]\n"
     ]
    }
   ],
   "source": [
    "try:\n",
    "    pprint(model.most_similar('babymetal'))\n",
    "except KeyError as e:\n",
    "    print(e)"
   ]
  },
  {
   "cell_type": "markdown",
   "metadata": {},
   "source": [
    "## The word, \"Zootopia\", become disney movie through the years.\n",
    "In the past, the word, \"Zootopia\", was used just for an annual summer concert put on by New York top-40 radio station Z100, so that the word, \"zootopia\", is simillar with music festival.\n",
    "\n",
    "In 2016, Zootopia is a American 3D computer-animated comedy film released by Walt Disney Pictures. As a result, the word, \"zootopia\", was often used as Animation films."
   ]
  },
  {
   "cell_type": "code",
   "execution_count": 11,
   "metadata": {
    "collapsed": false,
    "scrolled": false
   },
   "outputs": [
    {
     "name": "stdout",
     "output_type": "stream",
     "text": [
      "The count of the word,zootopia, is 24 in oldmodel\n",
      "[('ramfest', 0.6304245591163635),\n",
      " ('concentratd', 0.6224538683891296),\n",
      " ('panagaris', 0.6218596696853638),\n",
      " ('fswe', 0.6206151843070984),\n",
      " ('soulico', 0.6189069747924805),\n",
      " ('tipitinia', 0.6183321475982666),\n",
      " ('plavka', 0.6179454326629639),\n",
      " ('rieleymike', 0.6165690422058105),\n",
      " ('selimova', 0.6146136522293091),\n",
      " ('silvashado', 0.6124839782714844)]\n",
      "\n",
      "The count of the word,zootopia, is 502 in model\n",
      "[('paranorman', 0.7775266170501709),\n",
      " ('antz', 0.7768376469612122),\n",
      " ('boxtrolls', 0.7680517435073853),\n",
      " ('croods', 0.76442950963974),\n",
      " ('incredibles', 0.7581683993339539),\n",
      " ('frankenweenie', 0.7470959424972534),\n",
      " ('pagemaster', 0.7417251467704773),\n",
      " ('shrek', 0.7348070740699768),\n",
      " ('megamind', 0.7298991680145264),\n",
      " ('spaceballs', 0.7187278270721436)]\n",
      "\n"
     ]
    }
   ],
   "source": [
    "w = 'zootopia'\n",
    "for m in ['oldmodel', 'model']:\n",
    "    print('The count of the word,'+w+', is', eval(m).vocab[w].count, 'in', m)\n",
    "    pprint(eval(m).most_similar(w))\n",
    "    print('')"
   ]
  }
 ],
 "metadata": {
  "kernelspec": {
   "display_name": "Python 3",
   "language": "python",
   "name": "python3"
  },
  "language_info": {
   "codemirror_mode": {
    "name": "ipython",
    "version": 3
   },
   "file_extension": ".py",
   "mimetype": "text/x-python",
   "name": "python",
   "nbconvert_exporter": "python",
   "pygments_lexer": "ipython3",
   "version": "3.5.1"
  }
 },
 "nbformat": 4,
 "nbformat_minor": 0
}
