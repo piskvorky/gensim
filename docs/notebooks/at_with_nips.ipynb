{
 "cells": [
  {
   "cell_type": "code",
   "execution_count": 1,
   "metadata": {
    "collapsed": false
   },
   "outputs": [
    {
     "data": {
      "application/javascript": [
       "// Run for table of contents.\n",
       "$.getScript('https://kmahelona.github.io/ipython_notebook_goodies/ipython_notebook_toc.js')\n",
       "\n",
       "// https://github.com/kmahelona/ipython_notebook_goodies"
      ],
      "text/plain": [
       "<IPython.core.display.Javascript object>"
      ]
     },
     "metadata": {},
     "output_type": "display_data"
    }
   ],
   "source": [
    "%%javascript\n",
    "// Run for table of contents.\n",
    "$.getScript('https://kmahelona.github.io/ipython_notebook_goodies/ipython_notebook_toc.js')\n",
    "\n",
    "// https://github.com/kmahelona/ipython_notebook_goodies"
   ]
  },
  {
   "cell_type": "markdown",
   "metadata": {},
   "source": [
    "# Tests with NIPS data\n",
    "\n",
    "<h2 id=\"tocheading\">Table of Contents</h2>\n",
    "<div id=\"toc\"></div>\n"
   ]
  },
  {
   "cell_type": "code",
   "execution_count": 2,
   "metadata": {
    "collapsed": false
   },
   "outputs": [],
   "source": [
    "import numpy as np\n",
    "import matplotlib\n",
    "import matplotlib.pyplot as plt\n",
    "from nltk.tokenize import RegexpTokenizer\n",
    "from nltk.stem.wordnet import WordNetLemmatizer\n",
    "import gensim\n",
    "from gensim.models import Phrases\n",
    "from gensim.corpora import Dictionary, MmCorpus\n",
    "from gensim.models import LdaModel\n",
    "from imp import reload\n",
    "from pprint import pprint\n",
    "from random import sample\n",
    "import bokeh\n",
    "import os\n",
    "import re\n",
    "import line_profiler\n",
    "from sklearn.manifold import TSNE\n",
    "\n",
    "import logging\n",
    "\n",
    "from gensim.models import AuthorTopicModel\n",
    "from gensim.models import atmodel\n",
    "from gensim.models import LdaModel\n",
    "from gensim.models import ldamodel\n",
    "\n",
    "from time import time\n",
    "\n",
    "%matplotlib inline"
   ]
  },
  {
   "cell_type": "code",
   "execution_count": 3,
   "metadata": {
    "collapsed": false
   },
   "outputs": [],
   "source": [
    "# Configure logging.\n",
    "\n",
    "log_dir = '../../../log_files/log.log'  # On my own machine.\n",
    "#log_dir = '../../../../log_files/log.log'  # On Hetzner\n",
    "\n",
    "logger = logging.getLogger()\n",
    "fhandler = logging.FileHandler(filename=log_dir, mode='a')\n",
    "formatter = logging.Formatter('%(asctime)s - %(name)s - %(levelname)s - %(message)s')\n",
    "fhandler.setFormatter(formatter)\n",
    "logger.addHandler(fhandler)\n",
    "logger.setLevel(logging.DEBUG)"
   ]
  },
  {
   "cell_type": "markdown",
   "metadata": {},
   "source": [
    "## Load and prepare data structure"
   ]
  },
  {
   "cell_type": "code",
   "execution_count": 4,
   "metadata": {
    "collapsed": false
   },
   "outputs": [],
   "source": [
    "# Folder containing all NIPS papers.\n",
    "data_dir = '../../../../data/nipstxt/'  # On my own machine.\n",
    "#data_dir = '../../../nipstxt/'  # On Hetzner.\n",
    "\n",
    "# Folders containin individual NIPS papers.\n",
    "yrs = ['00', '01', '02', '03', '04', '05', '06', '07', '08', '09', '10', '11', '12']\n",
    "#yrs = ['00', '01', '02']\n",
    "dirs = ['nips' + yr for yr in yrs]\n",
    "\n",
    "# Get all document texts and their corresponding IDs.\n",
    "docs = []\n",
    "doc_ids = []\n",
    "for yr_dir in dirs:\n",
    "    files = os.listdir(data_dir + yr_dir)  # List of filenames.\n",
    "    for filen in files:\n",
    "        # Get document ID.\n",
    "        (idx1, idx2) = re.search('[0-9]+', filen).span()  # Matches the indexes of the start end end of the ID.\n",
    "        doc_ids.append(yr_dir[4:] + '_' + str(int(filen[idx1:idx2])))\n",
    "        \n",
    "        # Read document text.\n",
    "        # Note: ignoring characters that cause encoding errors.\n",
    "        with open(data_dir + yr_dir + '/' + filen, errors='ignore', encoding='utf-8') as fid:\n",
    "            txt = fid.read()\n",
    "        docs.append(txt)"
   ]
  },
  {
   "cell_type": "code",
   "execution_count": 5,
   "metadata": {
    "collapsed": false
   },
   "outputs": [],
   "source": [
    "filenames = [data_dir + 'idx/a' + yr + '.txt' for yr in yrs]  # Using the years defined in previous cell.\n",
    "\n",
    "# Get all author names and their corresponding document IDs.\n",
    "author2id = dict()\n",
    "author2doc = dict()\n",
    "i = 0\n",
    "for yr in yrs:\n",
    "    filename = data_dir + 'idx/a' + yr + '.txt'\n",
    "    for line in open(filename, errors='ignore', encoding='utf-8'):\n",
    "        contents = re.split(',', line)\n",
    "        author_name = (contents[1] + contents[0]).strip()\n",
    "        author_name = re.sub('\\s', '', author_name)\n",
    "        ids = [c.strip() for c in contents[2:]]\n",
    "        if not author2doc.get(author_name):\n",
    "            author2doc[author_name] = []\n",
    "            author2id[author_name] = i\n",
    "            i += 1\n",
    "        \n",
    "        author2doc[author_name].extend([yr + '_' + id for id in ids])\n",
    "        "
   ]
  },
  {
   "cell_type": "code",
   "execution_count": 6,
   "metadata": {
    "collapsed": true
   },
   "outputs": [],
   "source": [
    "id2author = dict(zip(author2id.values(), author2id.keys()))"
   ]
  },
  {
   "cell_type": "code",
   "execution_count": 7,
   "metadata": {
    "collapsed": false
   },
   "outputs": [],
   "source": [
    "# Use an integer ID in author2doc, instead of the IDs provided in the NIPS dataset.\n",
    "\n",
    "# Mapping from ID of document in NIPS datast, to an integer ID.\n",
    "doc_id_dict = dict(zip(doc_ids, range(len(doc_ids))))\n",
    "\n",
    "for a, a_doc_ids in author2doc.items():\n",
    "    for i, doc_id in enumerate(a_doc_ids):\n",
    "        author2doc[a][i] = doc_id_dict[doc_id]"
   ]
  },
  {
   "cell_type": "markdown",
   "metadata": {},
   "source": [
    "## Pre-process and vectorize data"
   ]
  },
  {
   "cell_type": "code",
   "execution_count": 8,
   "metadata": {
    "collapsed": false
   },
   "outputs": [],
   "source": [
    "# Tokenize the documents.\n",
    "\n",
    "# Split the documents into tokens.\n",
    "tokenizer = RegexpTokenizer(r'\\w+')\n",
    "for idx in range(len(docs)):\n",
    "    docs[idx] = docs[idx].lower()  # Convert to lowercase.\n",
    "    docs[idx] = tokenizer.tokenize(docs[idx])  # Split into words.\n",
    "\n",
    "# Remove numbers, but not words that contain numbers.\n",
    "docs = [[token for token in doc if not token.isnumeric()] for doc in docs]\n",
    "\n",
    "# Remove words that are only one character.\n",
    "docs = [[token for token in doc if len(token) > 1] for doc in docs]"
   ]
  },
  {
   "cell_type": "code",
   "execution_count": 9,
   "metadata": {
    "collapsed": false
   },
   "outputs": [],
   "source": [
    "# Lemmatize the documents.\n",
    "\n",
    "# Lemmatize all words in documents.\n",
    "lemmatizer = WordNetLemmatizer()\n",
    "docs = [[lemmatizer.lemmatize(token) for token in doc] for doc in docs]"
   ]
  },
  {
   "cell_type": "code",
   "execution_count": 10,
   "metadata": {
    "collapsed": false
   },
   "outputs": [
    {
     "name": "stderr",
     "output_type": "stream",
     "text": [
      "/home/olavur/Dropbox/my_folder/workstuff/DTU/thesis/code/gensim/gensim/models/phrases.py:248: UserWarning: For a faster implementation, use the gensim.models.phrases.Phraser class\n",
      "  warnings.warn(\"For a faster implementation, use the gensim.models.phrases.Phraser class\")\n"
     ]
    }
   ],
   "source": [
    "# Compute bigrams.\n",
    "\n",
    "# Add bigrams and trigrams to docs (only ones that appear 20 times or more).\n",
    "bigram = Phrases(docs, min_count=20)\n",
    "for idx in range(len(docs)):\n",
    "    for token in bigram[docs[idx]]:\n",
    "        if '_' in token:\n",
    "            # Token is a bigram, add to document.\n",
    "            docs[idx].append(token)"
   ]
  },
  {
   "cell_type": "code",
   "execution_count": 11,
   "metadata": {
    "collapsed": true
   },
   "outputs": [],
   "source": [
    "# Create a dictionary representation of the documents.\n",
    "dictionary = Dictionary(docs)"
   ]
  },
  {
   "cell_type": "code",
   "execution_count": 12,
   "metadata": {
    "collapsed": false
   },
   "outputs": [],
   "source": [
    "# Remove rare and common tokens.\n",
    "\n",
    "# Filter out words that occur too frequently or too rarely.\n",
    "max_freq = 0.5\n",
    "min_wordcount = 20\n",
    "dictionary.filter_extremes(no_below=min_wordcount, no_above=max_freq)\n",
    "\n",
    "dict0 = dictionary[0]  # This sort of \"initializes\" dictionary.id2token."
   ]
  },
  {
   "cell_type": "code",
   "execution_count": 13,
   "metadata": {
    "collapsed": false
   },
   "outputs": [
    {
     "data": {
      "image/png": "[encoded data removed]",
      "text/plain": [
       "<matplotlib.figure.Figure at 0x7f6571e2f240>"
      ]
     },
     "metadata": {},
     "output_type": "display_data"
    }
   ],
   "source": [
    "# Frequency distribution of words.\n",
    "\n",
    "one_doc = []\n",
    "for doc in docs:\n",
    "    one_doc.extend(doc)\n",
    "\n",
    "bow = dictionary.doc2bow(one_doc)\n",
    "word_freq = [cnt for _, cnt in bow]\n",
    "\n",
    "plt.plot(sorted(word_freq))\n",
    "plt.xlabel('Words')\n",
    "plt.ylabel('#Occurences')\n",
    "plt.title('Frequency distribution of words.\\nPower-law behaviour.')\n",
    "plt.show()"
   ]
  },
  {
   "cell_type": "code",
   "execution_count": 14,
   "metadata": {
    "collapsed": false
   },
   "outputs": [],
   "source": [
    "# Vectorize data.\n",
    "\n",
    "# Bag-of-words representation of the documents.\n",
    "corpus = [dictionary.doc2bow(doc) for doc in docs]\n",
    "\n",
    "# Serialize the corpus.\n",
    "#MmCorpus.serialize('/tmp/corpus.mm', corpus)\n",
    "#corpus = MmCorpus('/tmp/corpus.mm')"
   ]
  },
  {
   "cell_type": "code",
   "execution_count": 15,
   "metadata": {
    "collapsed": false
   },
   "outputs": [],
   "source": [
    "doc2author = atmodel.construct_doc2author(author2doc=author2doc, corpus=corpus)"
   ]
  },
  {
   "cell_type": "code",
   "execution_count": 16,
   "metadata": {
    "collapsed": false
   },
   "outputs": [
    {
     "name": "stdout",
     "output_type": "stream",
     "text": [
      "Number of authors: 2479\n",
      "Number of unique tokens: 8640\n",
      "Number of documents: 1740\n"
     ]
    }
   ],
   "source": [
    "print('Number of authors: %d' % len(author2doc))\n",
    "print('Number of unique tokens: %d' % len(dictionary))\n",
    "print('Number of documents: %d' % len(corpus))"
   ]
  },
  {
   "cell_type": "markdown",
   "metadata": {},
   "source": [
    "## Train model"
   ]
  },
  {
   "cell_type": "code",
   "execution_count": 17,
   "metadata": {
    "collapsed": false
   },
   "outputs": [],
   "source": [
    "reload(atmodel)\n",
    "AuthorTopicModel = atmodel.AuthorTopicModel\n",
    "reload(ldamodel)\n",
    "LdaModel = ldamodel.LdaModel"
   ]
  },
  {
   "cell_type": "code",
   "execution_count": 18,
   "metadata": {
    "collapsed": false
   },
   "outputs": [
    {
     "name": "stdout",
     "output_type": "stream",
     "text": [
      "CPU times: user 16.3 s, sys: 6.8 s, total: 23.1 s\n",
      "Wall time: 15.3 s\n"
     ]
    }
   ],
   "source": [
    "%time model = AuthorTopicModel(corpus=corpus, num_topics=10, id2word=dictionary.id2token, \\\n",
    "                author2doc=author2doc, doc2author=doc2author, var_lambda=None,  \\\n",
    "                chunksize=2000, passes=10, update_every=1, \\\n",
    "                alpha='auto', eta='auto', decay=0.5, offset=1.0,  \\\n",
    "                eval_every=0, iterations=1, gamma_threshold=1e-10,  \\\n",
    "                minimum_probability=0.01, random_state=1, ns_conf={},\\\n",
    "                serialized=False, serialization_path='/tmp/model_serializer.mm')\n"
   ]
  },
  {
   "cell_type": "code",
   "execution_count": 209,
   "metadata": {
    "collapsed": true
   },
   "outputs": [],
   "source": [
    "os.remove('/tmp/model_serializer.mm')"
   ]
  },
  {
   "cell_type": "code",
   "execution_count": 51,
   "metadata": {
    "collapsed": false
   },
   "outputs": [
    {
     "data": {
      "text/plain": [
       "-7.6174788187032805"
      ]
     },
     "execution_count": 51,
     "metadata": {},
     "output_type": "execute_result"
    }
   ],
   "source": [
    "corpus_words = sum(cnt for document in corpus for _, cnt in document)\n",
    "model.bound(corpus, author2doc=author2doc, doc2author=doc2author) / corpus_words"
   ]
  },
  {
   "cell_type": "code",
   "execution_count": 53,
   "metadata": {
    "collapsed": false
   },
   "outputs": [
    {
     "data": {
      "text/plain": [
       "-7.8623202660656561"
      ]
     },
     "execution_count": 53,
     "metadata": {},
     "output_type": "execute_result"
    }
   ],
   "source": [
    "corpus_words = sum(cnt for document in corpus for _, cnt in document)\n",
    "model.bound(corpus, author2doc=author2doc, doc2author=doc2author) / corpus_words"
   ]
  },
  {
   "cell_type": "code",
   "execution_count": 54,
   "metadata": {
    "collapsed": false
   },
   "outputs": [
    {
     "data": {
      "text/plain": [
       "[(0,\n",
       "  '0.008*\"bound\" + 0.007*\"class\" + 0.006*\"let\" + 0.006*\"generalization\" + 0.005*\"theorem\" + 0.004*\"solution\" + 0.004*\"xi\" + 0.004*\"threshold\" + 0.004*\"dimension\" + 0.004*\"approximation\"'),\n",
       " (1,\n",
       "  '0.007*\"gaussian\" + 0.007*\"mixture\" + 0.006*\"likelihood\" + 0.006*\"estimate\" + 0.006*\"density\" + 0.005*\"prior\" + 0.005*\"bayesian\" + 0.004*\"matrix\" + 0.004*\"approximation\" + 0.004*\"log\"'),\n",
       " (2,\n",
       "  '0.022*\"neuron\" + 0.012*\"cell\" + 0.010*\"circuit\" + 0.008*\"spike\" + 0.007*\"chip\" + 0.007*\"analog\" + 0.006*\"signal\" + 0.006*\"synaptic\" + 0.006*\"firing\" + 0.006*\"response\"'),\n",
       " (3,\n",
       "  '0.011*\"action\" + 0.010*\"control\" + 0.009*\"policy\" + 0.007*\"optimal\" + 0.007*\"reinforcement\" + 0.005*\"decision\" + 0.005*\"reinforcement_learning\" + 0.005*\"controller\" + 0.004*\"dynamic\" + 0.004*\"memory\"'),\n",
       " (4,\n",
       "  '0.020*\"image\" + 0.008*\"layer\" + 0.008*\"cell\" + 0.008*\"object\" + 0.007*\"response\" + 0.007*\"stimulus\" + 0.006*\"map\" + 0.005*\"region\" + 0.005*\"visual\" + 0.004*\"connection\"'),\n",
       " (5,\n",
       "  '0.008*\"control\" + 0.007*\"trajectory\" + 0.007*\"motor\" + 0.006*\"position\" + 0.006*\"object\" + 0.006*\"movement\" + 0.006*\"robot\" + 0.005*\"dynamic\" + 0.005*\"field\" + 0.004*\"hand\"'),\n",
       " (6,\n",
       "  '0.011*\"signal\" + 0.010*\"image\" + 0.009*\"component\" + 0.009*\"visual\" + 0.009*\"motion\" + 0.007*\"source\" + 0.007*\"filter\" + 0.005*\"eye\" + 0.005*\"field\" + 0.005*\"face\"'),\n",
       " (7,\n",
       "  '0.006*\"distance\" + 0.006*\"recognition\" + 0.006*\"rule\" + 0.006*\"node\" + 0.005*\"character\" + 0.005*\"image\" + 0.004*\"net\" + 0.004*\"graph\" + 0.004*\"constraint\" + 0.004*\"sequence\"'),\n",
       " (8,\n",
       "  '0.010*\"speech\" + 0.010*\"hidden\" + 0.009*\"layer\" + 0.009*\"net\" + 0.008*\"recognition\" + 0.008*\"word\" + 0.007*\"trained\" + 0.006*\"classifier\" + 0.005*\"classification\" + 0.005*\"class\"'),\n",
       " (9,\n",
       "  '0.008*\"neuron\" + 0.007*\"cell\" + 0.007*\"memory\" + 0.006*\"orientation\" + 0.006*\"dynamic\" + 0.006*\"field\" + 0.005*\"map\" + 0.005*\"activity\" + 0.005*\"connection\" + 0.004*\"ii\"')]"
      ]
     },
     "execution_count": 54,
     "metadata": {},
     "output_type": "execute_result"
    }
   ],
   "source": [
    "model.show_topics(num_topics=10)"
   ]
  },
  {
   "cell_type": "code",
   "execution_count": 57,
   "metadata": {
    "collapsed": false
   },
   "outputs": [
    {
     "name": "stdout",
     "output_type": "stream",
     "text": [
      "\n",
      "YaserS.Abu-Mostafa\n",
      "Docs: [62, 643, 1161]\n",
      "[(0, 0.34245164076594642),\n",
      " (1, 0.17017191105426388),\n",
      " (2, 0.033106331294519953),\n",
      " (3, 0.071767707328752081),\n",
      " (7, 0.3690893484110731)]\n",
      "\n",
      "GeoffreyE.Hinton\n",
      "Docs: [56, 143, 284, 230, 197, 462, 463, 430, 688, 784, 826, 848, 869, 1387, 1684, 1728]\n",
      "[(1, 0.51858687662480019), (4, 0.47852645782018649)]\n",
      "\n",
      "MichaelI.Jordan\n",
      "Docs: [237, 487, 442, 677, 753, 747, 863, 859, 934, 925, 848, 971, 907, 1193, 1235, 1155, 1249, 1352, 1413, 1297, 1658]\n",
      "[(1, 0.78772934917486725), (3, 0.05820455979213638), (5, 0.15391613511638721)]\n",
      "\n",
      "JamesM.Bower\n",
      "Docs: [17, 48, 58, 131, 101, 126, 127, 281, 208, 225]\n",
      "[(2, 0.39114236445750894), (4, 0.60853296871043705)]\n"
     ]
    }
   ],
   "source": [
    "name = 'YaserS.Abu-Mostafa'\n",
    "print('\\n%s' % name)\n",
    "print('Docs:', author2doc[name])\n",
    "pprint(model.get_author_topics(name))\n",
    "\n",
    "name = 'GeoffreyE.Hinton'\n",
    "print('\\n%s' % name)\n",
    "print('Docs:', author2doc[name])\n",
    "pprint(model.get_author_topics(name))\n",
    "\n",
    "name = 'MichaelI.Jordan'\n",
    "print('\\n%s' % name)\n",
    "print('Docs:', author2doc[name])\n",
    "pprint(model.get_author_topics(name))\n",
    "\n",
    "name = 'JamesM.Bower'\n",
    "print('\\n%s' % name)\n",
    "print('Docs:', author2doc[name])\n",
    "pprint(model.get_author_topics(name))"
   ]
  },
  {
   "cell_type": "code",
   "execution_count": 31,
   "metadata": {
    "collapsed": false
   },
   "outputs": [
    {
     "name": "stdout",
     "output_type": "stream",
     "text": [
      "CPU times: user 1.32 s, sys: 0 ns, total: 1.32 s\n",
      "Wall time: 1.32 s\n"
     ]
    },
    {
     "data": {
      "text/plain": [
       "[([(0.017630870907064309, 'cell'),\n",
       "   (0.0078679276589406107, 'stimulus'),\n",
       "   (0.0070952788888263103, 'cortex'),\n",
       "   (0.0067363562965421569, 'response'),\n",
       "   (0.0055064719206805021, 'potential'),\n",
       "   (0.00502769057019916, 'firing'),\n",
       "   (0.00498406866000218, 'activity'),\n",
       "   (0.0049622639080422956, 'map'),\n",
       "   (0.004606433753510524, 'brain'),\n",
       "   (0.0045401006446385483, 'fig'),\n",
       "   (0.0044771307512187272, 'synaptic'),\n",
       "   (0.0044637900045596058, 'region'),\n",
       "   (0.0041009965534344918, 'spike'),\n",
       "   (0.004011618098692782, 'phase'),\n",
       "   (0.0033931058874009184, 'fiber'),\n",
       "   (0.0032227897579595213, 'cortical'),\n",
       "   (0.003122729100134052, 'current'),\n",
       "   (0.0028684658338489237, 'et'),\n",
       "   (0.002864435489459746, 'threshold'),\n",
       "   (0.0028207201853967271, 'matrix')],\n",
       "  -152.57713872126598),\n",
       " ([(0.0092927614119881902, 'vector'),\n",
       "   (0.0080019378496359629, 'node'),\n",
       "   (0.0044853942434458782, 'analog'),\n",
       "   (0.0044014322994239165, 'memory'),\n",
       "   (0.0043900396166045826, 'activation'),\n",
       "   (0.0041866988700918501, 'synapse'),\n",
       "   (0.0041343439864337797, 'bit'),\n",
       "   (0.0038261425123640369, 'chip'),\n",
       "   (0.0035428607558108238, 'hidden'),\n",
       "   (0.0034682671095447215, 'hopfield'),\n",
       "   (0.0034166916678392851, 'field'),\n",
       "   (0.0033116184234050594, 'matrix'),\n",
       "   (0.0032257969809690321, 'optimization'),\n",
       "   (0.0031577508086819738, 'minimum'),\n",
       "   (0.0031371016511618148, 'pp'),\n",
       "   (0.0031118049526577996, 'threshold'),\n",
       "   (0.0029340302586742363, 'synaptic'),\n",
       "   (0.0027593764098263625, 'cell'),\n",
       "   (0.0027491903755370493, 'circuit'),\n",
       "   (0.002721717647765022, 'dynamic')],\n",
       "  -158.20713022944827),\n",
       " ([(0.010408370718942198, 'classifier'),\n",
       "   (0.0088340606168398166, 'hidden'),\n",
       "   (0.0084432360637482027, 'recognition'),\n",
       "   (0.007282380040910346, 'propagation'),\n",
       "   (0.0064118157064343775, 'speech'),\n",
       "   (0.0058316735686522085, 'back_propagation'),\n",
       "   (0.0047983472656766488, 'node'),\n",
       "   (0.0044141834931896787, 'hidden_unit'),\n",
       "   (0.0040833170651459142, 'vector'),\n",
       "   (0.0039653519500419607, 'trained'),\n",
       "   (0.0038461512738314613, 'test'),\n",
       "   (0.0037428747758001496, 'fig'),\n",
       "   (0.0036123775579220163, 'activation'),\n",
       "   (0.0035612930898929539, 'classification'),\n",
       "   (0.003206208897857546, 'character'),\n",
       "   (0.0031782840770007308, 'sample'),\n",
       "   (0.0029843138150768946, 'image'),\n",
       "   (0.0029095981403067456, 'gaussian'),\n",
       "   (0.0029052907281025913, 'class'),\n",
       "   (0.002877102307344892, 'probability')],\n",
       "  -161.64353248369812),\n",
       " ([(0.0075924672508541503, 'visual'),\n",
       "   (0.0071108517619296102, 'image'),\n",
       "   (0.006138316048567319, 'cell'),\n",
       "   (0.0051867473948548574, 'fig'),\n",
       "   (0.0043710262733251612, 'noise'),\n",
       "   (0.0042497859667451785, 'frequency'),\n",
       "   (0.0041060788161238933, 'speech'),\n",
       "   (0.003712464746507162, 'hidden'),\n",
       "   (0.0037022066054813963, 'region'),\n",
       "   (0.0035993964555214504, 'memory'),\n",
       "   (0.0035519009778823391, 'class'),\n",
       "   (0.0034803813954464805, 'response'),\n",
       "   (0.0031183144037774477, 'distribution'),\n",
       "   (0.0030948248037290511, 'threshold'),\n",
       "   (0.0029336482045322831, 'joint'),\n",
       "   (0.0029185301407961767, 'phase'),\n",
       "   (0.0028547325858816613, 'field'),\n",
       "   (0.0028153987465872323, 'recognition'),\n",
       "   (0.0026957625184334632, 'delay'),\n",
       "   (0.0026232816782348033, 'stimulus')],\n",
       "  -168.05576987669806),\n",
       " ([(0.0054193345544305627, 'node'),\n",
       "   (0.0047827881167449415, 'object'),\n",
       "   (0.0045742076838460209, 'vector'),\n",
       "   (0.0041991594685318592, 'cell'),\n",
       "   (0.0041164661094386882, 'constraint'),\n",
       "   (0.0041048713253451722, 'pulse'),\n",
       "   (0.0039596669826806249, 'matrix'),\n",
       "   (0.0037894198097375327, 'chip'),\n",
       "   (0.0035756529675802194, 'map'),\n",
       "   (0.0032608169014979593, 'image'),\n",
       "   (0.0032036588218394687, 'fig'),\n",
       "   (0.0030859788763993334, 'noise'),\n",
       "   (0.0030451194155235533, 'activity'),\n",
       "   (0.0029988354291335126, 'activation'),\n",
       "   (0.0029408696043968486, 'threshold'),\n",
       "   (0.0028948162462139361, 'hidden'),\n",
       "   (0.0028381611880377747, 'memory'),\n",
       "   (0.0028069877331134432, 'strength'),\n",
       "   (0.0026842431739868911, 'recognition'),\n",
       "   (0.0026152936237506821, 'connectionist')],\n",
       "  -168.11345553869359),\n",
       " ([(0.0050256372463231341, 'cell'),\n",
       "   (0.0037973499492278077, 'vector'),\n",
       "   (0.0037712595736963347, 'activity'),\n",
       "   (0.0033961197827304494, 'sequence'),\n",
       "   (0.0033095610432187835, 'threshold'),\n",
       "   (0.0031593607215298666, 'memory'),\n",
       "   (0.0031520897518310925, 'hidden'),\n",
       "   (0.0031232875452432583, 'maximum'),\n",
       "   (0.0030110454902743749, 'element'),\n",
       "   (0.0029158910992027579, 'image'),\n",
       "   (0.0028434453535272474, 'bit'),\n",
       "   (0.0027989950018751479, 'field'),\n",
       "   (0.0027921330061404289, 'nat'),\n",
       "   (0.0027797421501895071, 'positive'),\n",
       "   (0.0026711339342953529, 'chip'),\n",
       "   (0.0026124489399011073, 'current'),\n",
       "   (0.0025987216224018241, 'probability'),\n",
       "   (0.002571145731663602, 'adaptive'),\n",
       "   (0.0024469881410826362, 'noise'),\n",
       "   (0.0024469564355368107, 'test')],\n",
       "  -175.38389712717503),\n",
       " ([(0.012449240417108601, 'memory'),\n",
       "   (0.011149330760822054, 'node'),\n",
       "   (0.0054617004347677547, 'delay'),\n",
       "   (0.0054506033641992567, 'cell'),\n",
       "   (0.0046303864404778411, 'fig'),\n",
       "   (0.004418379050115091, 'vector'),\n",
       "   (0.0042388647027219954, 'location'),\n",
       "   (0.0040826552849831761, 'classifier'),\n",
       "   (0.004046906419281765, 'object'),\n",
       "   (0.0040146306063950062, 'activation'),\n",
       "   (0.0038166319305984174, 'decision'),\n",
       "   (0.0037297869690678573, 'dynamic'),\n",
       "   (0.0036703178291132865, 'activity'),\n",
       "   (0.0035252013265176687, 'recognition'),\n",
       "   (0.0034752948794039553, 'transition'),\n",
       "   (0.0031629746195347224, 'address'),\n",
       "   (0.0031556150264144406, 'map'),\n",
       "   (0.0030676398553478343, 'image'),\n",
       "   (0.0030352273285852872, 'field'),\n",
       "   (0.0030173799130017573, 'sequence')],\n",
       "  -182.28544305982612),\n",
       " ([(0.013962434618105535, 'circuit'),\n",
       "   (0.0085862157265809407, 'current'),\n",
       "   (0.0068829371896146681, 'voltage'),\n",
       "   (0.0052915142120306315, 'memory'),\n",
       "   (0.0050522740794835324, 'vector'),\n",
       "   (0.0044111954674953364, 'response'),\n",
       "   (0.0042687832226281676, 'dynamic'),\n",
       "   (0.0041259987817290544, 'analog'),\n",
       "   (0.0040475274389911572, 'gain'),\n",
       "   (0.0037258362425172243, 'image'),\n",
       "   (0.0036240280519417526, 'transistor'),\n",
       "   (0.003402095670835506, 'cell'),\n",
       "   (0.0033853387535767122, 'threshold'),\n",
       "   (0.0031460674673141537, 'winner'),\n",
       "   (0.0031443743042654038, 'implementation'),\n",
       "   (0.0031401332383066702, 'energy'),\n",
       "   (0.0031157364838466928, 'element'),\n",
       "   (0.0030915136643693227, 'control'),\n",
       "   (0.0030439136862739414, 'machine'),\n",
       "   (0.0029864890808609982, 'winner_take')],\n",
       "  -185.00127900820161),\n",
       " ([(0.0067851893828375981, 'processor'),\n",
       "   (0.0064575403419056942, 'field'),\n",
       "   (0.0049349816391050707, 'image'),\n",
       "   (0.004667128103626933, 'map'),\n",
       "   (0.0044500118075786734, 'fig'),\n",
       "   (0.0043130062545686659, 'cell'),\n",
       "   (0.004287338361505395, 'hidden'),\n",
       "   (0.003368687834055206, 'noise'),\n",
       "   (0.0032095685172144565, 'memory'),\n",
       "   (0.0031074502648533995, 'vector'),\n",
       "   (0.0030062072888687014, 'receptive_field'),\n",
       "   (0.0029433619263750429, 'element'),\n",
       "   (0.0027263411838715167, 'direction'),\n",
       "   (0.0027213373863372672, 'cortical'),\n",
       "   (0.0027052269092405512, 'response'),\n",
       "   (0.0026916625476504493, 'path'),\n",
       "   (0.0026604704861213366, 'edge'),\n",
       "   (0.0025465097134521148, 'receptive'),\n",
       "   (0.002384214873373191, 'surface'),\n",
       "   (0.0023618889740788396, 'experiment')],\n",
       "  -189.60988586280533),\n",
       " ([(0.011346814029616079, 'hidden'),\n",
       "   (0.0083170321329578273, 'vector'),\n",
       "   (0.007759159953773076, 'cell'),\n",
       "   (0.0074214814612961876, 'hidden_unit'),\n",
       "   (0.0048893932006354966, 'probability'),\n",
       "   (0.0038819795306655677, 'memory'),\n",
       "   (0.0037198234703579758, 'fig'),\n",
       "   (0.0036677072476575881, 'energy'),\n",
       "   (0.0035948823450200965, 'image'),\n",
       "   (0.0035779673067441978, 'field'),\n",
       "   (0.0035466682791263165, 'region'),\n",
       "   (0.0033853876227046302, 'chain'),\n",
       "   (0.003196719129398114, 'human'),\n",
       "   (0.0031698824026032703, 'generalization'),\n",
       "   (0.0029751931093096587, 'activity'),\n",
       "   (0.0029683782601966583, 'synaptic'),\n",
       "   (0.0029337377346661852, 'noise'),\n",
       "   (0.0027485568007791041, 'code'),\n",
       "   (0.0027351051922953418, 'class'),\n",
       "   (0.0026766495247608989, 'procedure')],\n",
       "  -190.6645277278096)]"
      ]
     },
     "execution_count": 31,
     "metadata": {},
     "output_type": "execute_result"
    }
   ],
   "source": [
    "%time model.top_topics(corpus)"
   ]
  },
  {
   "cell_type": "code",
   "execution_count": 177,
   "metadata": {
    "collapsed": false,
    "scrolled": true
   },
   "outputs": [
    {
     "name": "stdout",
     "output_type": "stream",
     "text": [
      "-6.75334000877\n",
      "-6.70998344096\n",
      "-6.68882122239\n",
      "-6.6720780584\n",
      "-6.65790946046\n",
      "-6.64568753857\n",
      "-6.63508575556\n",
      "-6.62586073078\n",
      "-6.6178073486\n",
      "-6.61074947975\n"
     ]
    }
   ],
   "source": [
    "model.update()"
   ]
  },
  {
   "cell_type": "markdown",
   "metadata": {},
   "source": [
    "### Similarities"
   ]
  },
  {
   "cell_type": "code",
   "execution_count": 41,
   "metadata": {
    "collapsed": false
   },
   "outputs": [],
   "source": [
    "# Generate a similarity object for the transformed corpus.\n",
    "index = gensim.similarities.MatrixSimilarity(model[list(id2author.values())])"
   ]
  },
  {
   "cell_type": "code",
   "execution_count": 42,
   "metadata": {
    "collapsed": false
   },
   "outputs": [
    {
     "name": "stdout",
     "output_type": "stream",
     "text": [
      "[(251, 1.0),\n",
      " (196, 0.94725358),\n",
      " (359, 0.94520926),\n",
      " (166, 0.94345462),\n",
      " (310, 0.94230127),\n",
      " (32, 0.93244135),\n",
      " (115, 0.92903757),\n",
      " (211, 0.92358959),\n",
      " (531, 0.92228365),\n",
      " (273, 0.91858578)]\n"
     ]
    }
   ],
   "source": [
    "# Get similarities to some author.\n",
    "author_name = 'Geoffrey E. Hinton'\n",
    "sims = index[model[author_name]]\n",
    "# Print the top 10 closest matches.\n",
    "pprint(sorted(list(enumerate(sims)), reverse=True, key=lambda x: x[1])[:10])"
   ]
  },
  {
   "cell_type": "markdown",
   "metadata": {},
   "source": [
    "### Serialized corpus stuff"
   ]
  },
  {
   "cell_type": "code",
   "execution_count": 83,
   "metadata": {
    "collapsed": false
   },
   "outputs": [],
   "source": [
    "from itertools import chain\n",
    "from shutil import copyfile"
   ]
  },
  {
   "cell_type": "code",
   "execution_count": 92,
   "metadata": {
    "collapsed": false
   },
   "outputs": [],
   "source": [
    "corpus = []\n",
    "gensim.corpora.MmCorpus.serialize('/tmp/corpus.mm', corpus)\n",
    "corpus = gensim.corpora.MmCorpus('/tmp/corpus.mm')"
   ]
  },
  {
   "cell_type": "code",
   "execution_count": 94,
   "metadata": {
    "collapsed": false
   },
   "outputs": [],
   "source": [
    "corpus2 = [[(10,1)]]\n",
    "corpus_both = chain(corpus, corpus2)\n",
    "copyfile('/tmp/corpus.mm', '/tmp/corpus.mm.tmp')\n",
    "corpus.input = '/tmp/corpus.mm.tmp'\n",
    "gensim.corpora.MmCorpus.serialize('/tmp/corpus.mm', corpus_both)\n",
    "corpus = gensim.corpora.MmCorpus('/tmp/corpus.mm')"
   ]
  },
  {
   "cell_type": "markdown",
   "metadata": {},
   "source": [
    "### Vectorization speed-up"
   ]
  },
  {
   "cell_type": "code",
   "execution_count": 145,
   "metadata": {
    "collapsed": false
   },
   "outputs": [
    {
     "name": "stdout",
     "output_type": "stream",
     "text": [
      "Number of authors: 166\n",
      "Number of unique tokens: 681\n",
      "Number of documents: 90\n",
      "Speed-up 6.6498740554156175\n"
     ]
    }
   ],
   "source": [
    "print('Number of authors: %d' % len(author2doc))\n",
    "print('Number of unique tokens: %d' % len(dictionary))\n",
    "print('Number of documents: %d' % len(corpus))\n",
    "print('Speed-up', 2.64 / 0.397)"
   ]
  },
  {
   "cell_type": "code",
   "execution_count": 161,
   "metadata": {
    "collapsed": false
   },
   "outputs": [
    {
     "name": "stdout",
     "output_type": "stream",
     "text": [
      "Number of authors: 536\n",
      "Number of unique tokens: 2245\n",
      "Number of documents: 286\n",
      "Speed-up 5.084175084175084\n"
     ]
    }
   ],
   "source": [
    "print('Number of authors: %d' % len(author2doc))\n",
    "print('Number of unique tokens: %d' % len(dictionary))\n",
    "print('Number of documents: %d' % len(corpus))\n",
    "print('Speed-up', 15.1 / 2.97)"
   ]
  },
  {
   "cell_type": "code",
   "execution_count": 178,
   "metadata": {
    "collapsed": false
   },
   "outputs": [
    {
     "name": "stdout",
     "output_type": "stream",
     "text": [
      "Number of authors: 2720\n",
      "Number of unique tokens: 8640\n",
      "Number of documents: 1740\n",
      "Speed-up 2.4383561643835616\n"
     ]
    }
   ],
   "source": [
    "print('Number of authors: %d' % len(author2doc))\n",
    "print('Number of unique tokens: %d' % len(dictionary))\n",
    "print('Number of documents: %d' % len(corpus))\n",
    "print('Speed-up', (2 * 60 + 58) / (1 * 60 + 13))"
   ]
  },
  {
   "cell_type": "markdown",
   "metadata": {},
   "source": [
    "### Test on a small dataset"
   ]
  },
  {
   "cell_type": "code",
   "execution_count": 202,
   "metadata": {
    "collapsed": false
   },
   "outputs": [],
   "source": [
    "n_docs = 10\n",
    "\n",
    "from copy import deepcopy\n",
    "\n",
    "small_doc2author = deepcopy(dict(list(doc2author.items())[:n_docs]))\n",
    "small_doc2author = dict(small_doc2author)\n",
    "\n",
    "small_corpus = corpus[:n_docs]"
   ]
  },
  {
   "cell_type": "code",
   "execution_count": 203,
   "metadata": {
    "collapsed": false
   },
   "outputs": [],
   "source": [
    "authors_ids = set()\n",
    "for d, a_doc_ids in small_doc2author.items():\n",
    "    for a in a_doc_ids:\n",
    "        authors_ids.add(a)\n",
    "\n",
    "authors_ids = list(authors_ids)\n",
    "author_id_dict = dict(zip(authors_ids, range(len(authors_ids))))"
   ]
  },
  {
   "cell_type": "code",
   "execution_count": 204,
   "metadata": {
    "collapsed": false
   },
   "outputs": [],
   "source": [
    "for d, a_ids in small_doc2author.items():\n",
    "    for i, a in enumerate(a_ids):\n",
    "        small_doc2author[d][i] = author_id_dict[a]"
   ]
  },
  {
   "cell_type": "code",
   "execution_count": 205,
   "metadata": {
    "collapsed": false
   },
   "outputs": [],
   "source": [
    "# Make a mapping from author IDs to document IDs.\n",
    "small_author2doc = {}\n",
    "for a in range(len(author_id_dict)):\n",
    "    small_author2doc[a] = []\n",
    "    for d, a_ids in small_doc2author.items():\n",
    "        if a in a_ids:\n",
    "            small_author2doc[a].append(d)"
   ]
  },
  {
   "cell_type": "code",
   "execution_count": 206,
   "metadata": {
    "collapsed": false
   },
   "outputs": [],
   "source": [
    "\n",
    "author_id_dict_rev = dict(zip(range(len(authors_ids)), authors_ids))\n",
    "\n",
    "small_id2author = {}\n",
    "for a, a_id in author_id_dict_rev.items():\n",
    "    small_id2author[a] = id2author[a_id]"
   ]
  },
  {
   "cell_type": "code",
   "execution_count": 207,
   "metadata": {
    "collapsed": false
   },
   "outputs": [
    {
     "name": "stdout",
     "output_type": "stream",
     "text": [
      "phi is 10 x 681 x 10 (68100 elements)\n",
      "mu is 10 x 681 x 21 (143010 elements)\n"
     ]
    }
   ],
   "source": [
    "print('phi is %d x %d x %d (%d elements)' %(len(small_corpus), len(dictionary.id2token), 10,\n",
    "                                            len(small_corpus) * len(dictionary.id2token) * 10))\n",
    "print('mu is %d x %d x %d (%d elements)' %(len(small_corpus), len(dictionary.id2token), len(small_author2doc),\n",
    "                                            len(small_corpus) * len(dictionary.id2token) * len(small_author2doc)))"
   ]
  },
  {
   "cell_type": "markdown",
   "metadata": {
    "collapsed": true
   },
   "source": [
    "## LDA"
   ]
  },
  {
   "cell_type": "code",
   "execution_count": 120,
   "metadata": {
    "collapsed": false
   },
   "outputs": [],
   "source": [
    "reload(ldamodel)\n",
    "LdaModel = ldamodel.LdaModel"
   ]
  },
  {
   "cell_type": "code",
   "execution_count": 121,
   "metadata": {
    "collapsed": false
   },
   "outputs": [
    {
     "name": "stdout",
     "output_type": "stream",
     "text": [
      "CPU times: user 3.13 s, sys: 4 ms, total: 3.14 s\n",
      "Wall time: 3.14 s\n"
     ]
    }
   ],
   "source": [
    "%time lda = LdaModel(corpus=corpus, num_topics=10, id2word=dictionary.id2token, passes=10, gamma_threshold=1e-10, \\\n",
    "               iterations=10, alpha='symmetric', eta='symmetric', eval_every=0, chunksize=2000, random_state=1)"
   ]
  },
  {
   "cell_type": "code",
   "execution_count": 185,
   "metadata": {
    "collapsed": false
   },
   "outputs": [
    {
     "name": "stdout",
     "output_type": "stream",
     "text": [
      "CPU times: user 304 ms, sys: 0 ns, total: 304 ms\n",
      "Wall time: 303 ms\n",
      "Bound: -2.424e+05\n"
     ]
    }
   ],
   "source": [
    "%time lda_bound = lda.bound(sample(corpus, 10))\n",
    "print('Bound: %.3e' % lda_bound)"
   ]
  },
  {
   "cell_type": "code",
   "execution_count": 326,
   "metadata": {
    "collapsed": false
   },
   "outputs": [
    {
     "data": {
      "text/plain": [
       "[(0,\n",
       "  '0.014*\"hidden\" + 0.014*\"speech\" + 0.011*\"recognition\" + 0.007*\"hidden_unit\" + 0.006*\"propagation\" + 0.006*\"trained\" + 0.006*\"back_propagation\" + 0.006*\"test\" + 0.005*\"image\" + 0.005*\"classification\"'),\n",
       " (1,\n",
       "  '0.011*\"field\" + 0.008*\"receptive\" + 0.008*\"cell\" + 0.008*\"receptive_field\" + 0.007*\"direction\" + 0.007*\"energy\" + 0.007*\"motion\" + 0.006*\"visual\" + 0.006*\"noise\" + 0.005*\"activity\"'),\n",
       " (2,\n",
       "  '0.011*\"region\" + 0.009*\"memory\" + 0.009*\"delay\" + 0.008*\"chain\" + 0.007*\"fig\" + 0.006*\"matrix\" + 0.006*\"cell\" + 0.006*\"hopfield\" + 0.005*\"field\" + 0.005*\"stability\"'),\n",
       " (3,\n",
       "  '0.026*\"cell\" + 0.010*\"circuit\" + 0.010*\"response\" + 0.010*\"chip\" + 0.010*\"synaptic\" + 0.010*\"stimulus\" + 0.009*\"synapse\" + 0.009*\"cortex\" + 0.008*\"synapsis\" + 0.008*\"pulse\"'),\n",
       " (4,\n",
       "  '0.018*\"node\" + 0.012*\"activation\" + 0.010*\"processor\" + 0.009*\"object\" + 0.008*\"role\" + 0.006*\"connectionist\" + 0.005*\"current\" + 0.005*\"element\" + 0.005*\"machine\" + 0.005*\"update\"'),\n",
       " (5,\n",
       "  '0.017*\"vector\" + 0.012*\"hidden\" + 0.008*\"matrix\" + 0.006*\"hidden_unit\" + 0.005*\"probability\" + 0.005*\"gradient\" + 0.005*\"let\" + 0.004*\"convergence\" + 0.004*\"sequence\" + 0.004*\"propagation\"'),\n",
       " (6,\n",
       "  '0.018*\"cell\" + 0.013*\"firing\" + 0.010*\"spike\" + 0.009*\"current\" + 0.008*\"activity\" + 0.008*\"response\" + 0.008*\"frequency\" + 0.007*\"circuit\" + 0.006*\"synaptic\" + 0.006*\"potential\"'),\n",
       " (7,\n",
       "  '0.019*\"image\" + 0.009*\"map\" + 0.006*\"field\" + 0.006*\"object\" + 0.005*\"probability\" + 0.005*\"fig\" + 0.004*\"human\" + 0.004*\"visual\" + 0.004*\"strategy\" + 0.004*\"pixel\"'),\n",
       " (8,\n",
       "  '0.019*\"classifier\" + 0.019*\"memory\" + 0.009*\"bit\" + 0.008*\"node\" + 0.008*\"vector\" + 0.008*\"hidden\" + 0.006*\"neural_net\" + 0.006*\"sample\" + 0.006*\"decision\" + 0.006*\"recognition\"'),\n",
       " (9,\n",
       "  '0.015*\"constraint\" + 0.008*\"orientation\" + 0.008*\"optimization\" + 0.006*\"constrained\" + 0.006*\"visual\" + 0.005*\"differential\" + 0.005*\"map\" + 0.005*\"joint\" + 0.005*\"speaker\" + 0.004*\"noise\"')]"
      ]
     },
     "execution_count": 326,
     "metadata": {},
     "output_type": "execute_result"
    }
   ],
   "source": [
    "lda.show_topics()"
   ]
  },
  {
   "cell_type": "markdown",
   "metadata": {},
   "source": [
    "## Plots"
   ]
  },
  {
   "cell_type": "code",
   "execution_count": 32,
   "metadata": {
    "collapsed": false
   },
   "outputs": [],
   "source": [
    "from bokeh.io import output_notebook, output_file\n",
    "from bokeh.models.layouts import Row, Column\n",
    "from bokeh.models import Title, Legend, HoverTool\n",
    "from bokeh.plotting import figure, output_file, show, ColumnDataSource\n",
    "from bokeh.embed import file_html\n",
    "from bokeh.resources import CDN"
   ]
  },
  {
   "cell_type": "code",
   "execution_count": 26,
   "metadata": {
    "collapsed": false
   },
   "outputs": [],
   "source": [
    "output_notebook()\n",
    "output_file('bokeh_plot.html')"
   ]
  },
  {
   "cell_type": "markdown",
   "metadata": {},
   "source": [
    "### t-SNE author bubble chart"
   ]
  },
  {
   "cell_type": "code",
   "execution_count": 22,
   "metadata": {
    "collapsed": false
   },
   "outputs": [],
   "source": [
    "tsne = TSNE(n_components=2, random_state=0)\n",
    "_ = tsne.fit_transform(model.state.gamma)  # Result stored in tsne.embedding_"
   ]
  },
  {
   "cell_type": "code",
   "execution_count": 27,
   "metadata": {
    "collapsed": false
   },
   "outputs": [],
   "source": [
    "x = tsne.embedding_[:, 0]\n",
    "y = tsne.embedding_[:, 1]\n",
    "author_names = list(model.id2author.values())\n",
    "\n",
    "# Radius of each point corresponds to the number of documents attributed to that author.\n",
    "scale = 0.1\n",
    "radii = [len(author2doc[a]) * scale for a in author_names]\n",
    "\n",
    "source = ColumnDataSource(\n",
    "        data=dict(\n",
    "            x=x,\n",
    "            y=y,\n",
    "            author_names=author_names,\n",
    "            radii=radii,\n",
    "        )\n",
    "    )\n",
    "\n",
    "hover = HoverTool(\n",
    "        tooltips=[\n",
    "        (\"index\", \"$index\"),\n",
    "        (\"author\", \"@author_names\"),\n",
    "        (\"(x,y)\", \"($x, $y)\"),\n",
    "        (\"radius\", \"@radii\"),\n",
    "        ]\n",
    "    )\n",
    "\n",
    "p = figure(tools=[hover, 'crosshair,pan,wheel_zoom,box_zoom,reset,save,lasso_select'])\n",
    "p.scatter('x', 'y', radius='radii', source=source, fill_alpha=0.6, line_color=None)\n",
    "show(p)"
   ]
  },
  {
   "cell_type": "markdown",
   "metadata": {},
   "source": [
    "### Auto alpha/eta bound"
   ]
  },
  {
   "cell_type": "code",
   "execution_count": 131,
   "metadata": {
    "collapsed": false
   },
   "outputs": [],
   "source": [
    "sym_bound = [-8.2268124131006175, -7.0028312886986592, -6.9983353496896177, -6.9920334045252472, -6.9834462646550692, -6.9724080682148131, -6.959010673469697, -6.9436014751446384, -6.9267331557797345, -6.9090211704296633]\n",
    "alpha_auto_bound = [-8.2268124131006175, -6.9932405146123067, -6.9832943275841428, -6.9727565892336711, -6.9609464524488551, -6.9476614401472379, -6.9330202055642625, -6.9173822631441642, -6.9012200919426148, -6.8849715273282976]\n",
    "eta_auto = [-8.2268124131006175, -6.9632952107352324, -6.9370024957065883, -6.9136966964250792, -6.8914783308986083, -6.8695469093457477, -6.8478606164307889, -6.8268741286187042, -6.8072291640504838, -6.7894361810128938]\n",
    "both_auto = [-8.2268124131006175, -6.9537044366488798, -6.9219607839123887, -6.894414237250329, -6.8689542686648819, -6.8447258437974066, -6.8216878633917295, -6.8002809924812544, -6.7810529233013082, -6.7643492394144529]"
   ]
  },
  {
   "cell_type": "code",
   "execution_count": 134,
   "metadata": {
    "collapsed": false
   },
   "outputs": [
    {
     "data": {
      "text/html": [
       "\n",
       "\n",
       "    <div class=\"bk-root\">\n",
       "        <div class=\"plotdiv\" id=\"0fc26d04-2667-49fa-9628-373db9035d6a\"></div>\n",
       "    </div>\n",
       "<script type=\"text/javascript\">\n",
       "  \n",
       "  (function(global) {\n",
       "    function now() {\n",
       "      return new Date();\n",
       "    }\n",
       "  \n",
       "    var force = \"\";\n",
       "  \n",
       "    if (typeof (window._bokeh_onload_callbacks) === \"undefined\" || force !== \"\") {\n",
       "      window._bokeh_onload_callbacks = [];\n",
       "      window._bokeh_is_loading = undefined;\n",
       "    }\n",
       "  \n",
       "  \n",
       "    \n",
       "    if (typeof (window._bokeh_timeout) === \"undefined\" || force !== \"\") {\n",
       "      window._bokeh_timeout = Date.now() + 0;\n",
       "      window._bokeh_failed_load = false;\n",
       "    }\n",
       "  \n",
       "    var NB_LOAD_WARNING = {'data': {'text/html':\n",
       "       \"<div style='background-color: #fdd'>\\n\"+\n",
       "       \"<p>\\n\"+\n",
       "       \"BokehJS does not appear to have successfully loaded. If loading BokehJS from CDN, this \\n\"+\n",
       "       \"may be due to a slow or bad network connection. Possible fixes:\\n\"+\n",
       "       \"</p>\\n\"+\n",
       "       \"<ul>\\n\"+\n",
       "       \"<li>re-rerun `output_notebook()` to attempt to load from CDN again, or</li>\\n\"+\n",
       "       \"<li>use INLINE resources instead, as so:</li>\\n\"+\n",
       "       \"</ul>\\n\"+\n",
       "       \"<code>\\n\"+\n",
       "       \"from bokeh.resources import INLINE\\n\"+\n",
       "       \"output_notebook(resources=INLINE)\\n\"+\n",
       "       \"</code>\\n\"+\n",
       "       \"</div>\"}};\n",
       "  \n",
       "    function display_loaded() {\n",
       "      if (window.Bokeh !== undefined) {\n",
       "        Bokeh.$(\"#0fc26d04-2667-49fa-9628-373db9035d6a\").text(\"BokehJS successfully loaded.\");\n",
       "      } else if (Date.now() < window._bokeh_timeout) {\n",
       "        setTimeout(display_loaded, 100)\n",
       "      }\n",
       "    }\n",
       "  \n",
       "    function run_callbacks() {\n",
       "      window._bokeh_onload_callbacks.forEach(function(callback) { callback() });\n",
       "      delete window._bokeh_onload_callbacks\n",
       "      console.info(\"Bokeh: all callbacks have finished\");\n",
       "    }\n",
       "  \n",
       "    function load_libs(js_urls, callback) {\n",
       "      window._bokeh_onload_callbacks.push(callback);\n",
       "      if (window._bokeh_is_loading > 0) {\n",
       "        console.log(\"Bokeh: BokehJS is being loaded, scheduling callback at\", now());\n",
       "        return null;\n",
       "      }\n",
       "      if (js_urls == null || js_urls.length === 0) {\n",
       "        run_callbacks();\n",
       "        return null;\n",
       "      }\n",
       "      console.log(\"Bokeh: BokehJS not loaded, scheduling load and callback at\", now());\n",
       "      window._bokeh_is_loading = js_urls.length;\n",
       "      for (var i = 0; i < js_urls.length; i++) {\n",
       "        var url = js_urls[i];\n",
       "        var s = document.createElement('script');\n",
       "        s.src = url;\n",
       "        s.async = false;\n",
       "        s.onreadystatechange = s.onload = function() {\n",
       "          window._bokeh_is_loading--;\n",
       "          if (window._bokeh_is_loading === 0) {\n",
       "            console.log(\"Bokeh: all BokehJS libraries loaded\");\n",
       "            run_callbacks()\n",
       "          }\n",
       "        };\n",
       "        s.onerror = function() {\n",
       "          console.warn(\"failed to load library \" + url);\n",
       "        };\n",
       "        console.log(\"Bokeh: injecting script tag for BokehJS library: \", url);\n",
       "        document.getElementsByTagName(\"head\")[0].appendChild(s);\n",
       "      }\n",
       "    };var element = document.getElementById(\"0fc26d04-2667-49fa-9628-373db9035d6a\");\n",
       "    if (element == null) {\n",
       "      console.log(\"Bokeh: ERROR: autoload.js configured with elementid '0fc26d04-2667-49fa-9628-373db9035d6a' but no matching script tag was found. \")\n",
       "      return false;\n",
       "    }\n",
       "  \n",
       "    var js_urls = [];\n",
       "  \n",
       "    var inline_js = [\n",
       "      function(Bokeh) {\n",
       "        Bokeh.$(function() {\n",
       "            var docs_json = {\"f856b6f3-b051-4a4a-b89c-f264466205a9\":{\"roots\":{\"references\":[{\"attributes\":{\"active_drag\":\"auto\",\"active_scroll\":\"auto\",\"active_tap\":\"auto\",\"tools\":[{\"id\":\"b4b978d0-0342-4341-ae8e-47a076bcee21\",\"type\":\"PanTool\"},{\"id\":\"b8b317a0-2559-4f77-aa57-b8265c604ed8\",\"type\":\"WheelZoomTool\"},{\"id\":\"079064e1-efc3-4cef-8ba0-c1f81039a6cf\",\"type\":\"BoxZoomTool\"},{\"id\":\"dd4e9fe3-87d8-430d-bae4-49d795c142b6\",\"type\":\"SaveTool\"},{\"id\":\"4137a186-fbf8-4ade-8b64-ca57a5cecfc4\",\"type\":\"ResetTool\"},{\"id\":\"984f87be-42f2-4260-bde0-523c151bd116\",\"type\":\"HelpTool\"}]},\"id\":\"9608e09b-933d-4f9f-82a7-3abb4ef72a8c\",\"type\":\"Toolbar\"},{\"attributes\":{\"data_source\":{\"id\":\"e4f5b3fb-b8df-4f45-a3e2-80287b06247d\",\"type\":\"ColumnDataSource\"},\"glyph\":{\"id\":\"62b7d7cb-6519-4db2-ae49-fefc30b7e3b5\",\"type\":\"Line\"},\"hover_glyph\":null,\"nonselection_glyph\":{\"id\":\"c1f39102-1226-4a1a-b57a-1adfac02011f\",\"type\":\"Line\"},\"selection_glyph\":null},\"id\":\"199f3530-e8a0-410a-8b2d-2009e130c3fd\",\"type\":\"GlyphRenderer\"},{\"attributes\":{\"x\":{\"field\":\"x\"},\"y\":{\"field\":\"y\"}},\"id\":\"75927764-691e-4e7d-a4e2-df07eecca2da\",\"type\":\"Line\"},{\"attributes\":{\"plot\":{\"id\":\"69d0969d-7d93-4ff2-9efe-a0737d677cb8\",\"subtype\":\"Figure\",\"type\":\"Plot\"}},\"id\":\"b4b978d0-0342-4341-ae8e-47a076bcee21\",\"type\":\"PanTool\"},{\"attributes\":{\"line_alpha\":{\"value\":0.1},\"line_color\":{\"value\":\"#1f77b4\"},\"x\":{\"field\":\"x\"},\"y\":{\"field\":\"y\"}},\"id\":\"e576ceb5-739f-4968-9062-2b74479a9b75\",\"type\":\"Line\"},{\"attributes\":{\"plot\":{\"id\":\"69d0969d-7d93-4ff2-9efe-a0737d677cb8\",\"subtype\":\"Figure\",\"type\":\"Plot\"}},\"id\":\"b8b317a0-2559-4f77-aa57-b8265c604ed8\",\"type\":\"WheelZoomTool\"},{\"attributes\":{},\"id\":\"0d13b8a2-a2ef-4a0c-87bf-00073ed47351\",\"type\":\"BasicTickFormatter\"},{\"attributes\":{\"callback\":null},\"id\":\"37b5647b-f159-4032-98e5-85f11e0da93f\",\"type\":\"DataRange1d\"},{\"attributes\":{},\"id\":\"96131e36-078f-4f02-9891-f3533cfa892e\",\"type\":\"BasicTicker\"},{\"attributes\":{\"label\":{\"value\":\"alpha auto\"},\"renderers\":[{\"id\":\"d8368040-7962-4edf-a408-b3b9a940e540\",\"type\":\"GlyphRenderer\"}]},\"id\":\"44f69fce-4158-4af1-a72e-7550d02e79eb\",\"type\":\"LegendItem\"},{\"attributes\":{\"plot\":{\"id\":\"69d0969d-7d93-4ff2-9efe-a0737d677cb8\",\"subtype\":\"Figure\",\"type\":\"Plot\"}},\"id\":\"dd4e9fe3-87d8-430d-bae4-49d795c142b6\",\"type\":\"SaveTool\"},{\"attributes\":{\"items\":[{\"id\":\"fdaa438f-b123-40f7-be8a-a728f5812f85\",\"type\":\"LegendItem\"},{\"id\":\"44f69fce-4158-4af1-a72e-7550d02e79eb\",\"type\":\"LegendItem\"},{\"id\":\"54d7dbbc-b1d0-4cd9-8908-4f26111d2e8d\",\"type\":\"LegendItem\"},{\"id\":\"126f6ffb-987c-4c27-986a-230666861edd\",\"type\":\"LegendItem\"}],\"location\":[-150.0,-200.0],\"plot\":{\"id\":\"69d0969d-7d93-4ff2-9efe-a0737d677cb8\",\"subtype\":\"Figure\",\"type\":\"Plot\"}},\"id\":\"5fabab3b-5ee6-4381-b540-425a267e2b00\",\"type\":\"Legend\"},{\"attributes\":{\"plot\":{\"id\":\"69d0969d-7d93-4ff2-9efe-a0737d677cb8\",\"subtype\":\"Figure\",\"type\":\"Plot\"},\"ticker\":{\"id\":\"85f4236a-ef28-497b-831a-c258098b3af3\",\"type\":\"BasicTicker\"}},\"id\":\"66bd5182-b711-444f-8a2f-e338ef7c37fc\",\"type\":\"Grid\"},{\"attributes\":{\"fill_color\":{\"value\":\"green\"},\"line_color\":{\"value\":\"green\"},\"x\":{\"field\":\"x\"},\"y\":{\"field\":\"y\"}},\"id\":\"7643b7a7-1952-4b66-b30d-089738468b4b\",\"type\":\"Circle\"},{\"attributes\":{\"data_source\":{\"id\":\"58409ee9-72a1-4330-98b0-3aac368efccf\",\"type\":\"ColumnDataSource\"},\"glyph\":{\"id\":\"ca861986-58cd-4bad-ac38-04176535aaeb\",\"type\":\"Circle\"},\"hover_glyph\":null,\"nonselection_glyph\":{\"id\":\"67d3f21e-7456-4c2a-92b8-cd16e78741f1\",\"type\":\"Circle\"},\"selection_glyph\":null},\"id\":\"093a4cca-a316-48cf-9bff-42423e6d6b59\",\"type\":\"GlyphRenderer\"},{\"attributes\":{\"fill_color\":{\"value\":\"black\"},\"x\":{\"field\":\"x\"},\"y\":{\"field\":\"y\"}},\"id\":\"ca861986-58cd-4bad-ac38-04176535aaeb\",\"type\":\"Circle\"},{\"attributes\":{\"data_source\":{\"id\":\"f3036901-c0dd-4c16-bce3-8f76711726ac\",\"type\":\"ColumnDataSource\"},\"glyph\":{\"id\":\"7643b7a7-1952-4b66-b30d-089738468b4b\",\"type\":\"Circle\"},\"hover_glyph\":null,\"nonselection_glyph\":{\"id\":\"bf68b0ec-3106-4dbe-bac3-674cf770ee54\",\"type\":\"Circle\"},\"selection_glyph\":null},\"id\":\"aa0a0ade-35f3-466b-90fe-c68768bd4ecf\",\"type\":\"GlyphRenderer\"},{\"attributes\":{\"plot\":{\"id\":\"69d0969d-7d93-4ff2-9efe-a0737d677cb8\",\"subtype\":\"Figure\",\"type\":\"Plot\"}},\"id\":\"4137a186-fbf8-4ade-8b64-ca57a5cecfc4\",\"type\":\"ResetTool\"},{\"attributes\":{\"callback\":null,\"column_names\":[\"y\",\"x\"],\"data\":{\"x\":[0,1,2,3,4,5,6,7,8,9],\"y\":[-8.226812413100618,-6.963295210735232,-6.937002495706588,-6.913696696425079,-6.891478330898608,-6.869546909345748,-6.847860616430789,-6.826874128618704,-6.807229164050484,-6.789436181012894]}},\"id\":\"f3036901-c0dd-4c16-bce3-8f76711726ac\",\"type\":\"ColumnDataSource\"},{\"attributes\":{\"fill_color\":{\"value\":\"red\"},\"line_color\":{\"value\":\"red\"},\"x\":{\"field\":\"x\"},\"y\":{\"field\":\"y\"}},\"id\":\"82325014-9d63-4abc-a098-bf0cb09f9301\",\"type\":\"Circle\"},{\"attributes\":{\"fill_alpha\":{\"value\":0.1},\"fill_color\":{\"value\":\"#1f77b4\"},\"line_alpha\":{\"value\":0.1},\"line_color\":{\"value\":\"#1f77b4\"},\"x\":{\"field\":\"x\"},\"y\":{\"field\":\"y\"}},\"id\":\"cfcc57ef-0e77-46d0-99e7-5a2a924b103f\",\"type\":\"Circle\"},{\"attributes\":{},\"id\":\"85f4236a-ef28-497b-831a-c258098b3af3\",\"type\":\"BasicTicker\"},{\"attributes\":{\"data_source\":{\"id\":\"fe965781-7082-46f2-941b-e484211a7019\",\"type\":\"ColumnDataSource\"},\"glyph\":{\"id\":\"ac83fcd3-1555-41cd-8fab-0c0d9e43a015\",\"type\":\"Line\"},\"hover_glyph\":null,\"nonselection_glyph\":{\"id\":\"bd96b0a8-fb49-45eb-8b84-00d92d439e5f\",\"type\":\"Line\"},\"selection_glyph\":null},\"id\":\"a1bbeae5-2c96-46aa-96b0-ad2c0079f23c\",\"type\":\"GlyphRenderer\"},{\"attributes\":{\"dimension\":1,\"plot\":{\"id\":\"69d0969d-7d93-4ff2-9efe-a0737d677cb8\",\"subtype\":\"Figure\",\"type\":\"Plot\"},\"ticker\":{\"id\":\"96131e36-078f-4f02-9891-f3533cfa892e\",\"type\":\"BasicTicker\"}},\"id\":\"de4d9805-ab8c-4fff-81ad-5cffa362aa8b\",\"type\":\"Grid\"},{\"attributes\":{},\"id\":\"0a8f426d-2e8b-4da7-9ddd-5d6f2dab2154\",\"type\":\"BasicTickFormatter\"},{\"attributes\":{\"line_alpha\":{\"value\":0.1},\"line_color\":{\"value\":\"#1f77b4\"},\"x\":{\"field\":\"x\"},\"y\":{\"field\":\"y\"}},\"id\":\"114284b2-9391-4e87-83f2-d22082f3165f\",\"type\":\"Line\"},{\"attributes\":{\"callback\":null,\"column_names\":[\"y\",\"x\"],\"data\":{\"x\":[0,1,2,3,4,5,6,7,8,9],\"y\":[-8.226812413100618,-7.002831288698659,-6.998335349689618,-6.992033404525247,-6.983446264655069,-6.972408068214813,-6.959010673469697,-6.943601475144638,-6.9267331557797345,-6.909021170429663]}},\"id\":\"7f82f3b2-55d2-4359-9f94-5e66639fa465\",\"type\":\"ColumnDataSource\"},{\"attributes\":{\"label\":{\"value\":\"both sym\"},\"renderers\":[{\"id\":\"199f3530-e8a0-410a-8b2d-2009e130c3fd\",\"type\":\"GlyphRenderer\"}]},\"id\":\"fdaa438f-b123-40f7-be8a-a728f5812f85\",\"type\":\"LegendItem\"},{\"attributes\":{\"plot\":{\"id\":\"69d0969d-7d93-4ff2-9efe-a0737d677cb8\",\"subtype\":\"Figure\",\"type\":\"Plot\"}},\"id\":\"984f87be-42f2-4260-bde0-523c151bd116\",\"type\":\"HelpTool\"},{\"attributes\":{\"overlay\":{\"id\":\"4316e792-f7e9-41f2-a9f0-cd27c641f4b7\",\"type\":\"BoxAnnotation\"},\"plot\":{\"id\":\"69d0969d-7d93-4ff2-9efe-a0737d677cb8\",\"subtype\":\"Figure\",\"type\":\"Plot\"}},\"id\":\"079064e1-efc3-4cef-8ba0-c1f81039a6cf\",\"type\":\"BoxZoomTool\"},{\"attributes\":{\"data_source\":{\"id\":\"fdbaa9d4-bbef-43b5-bfa7-35f5a0810449\",\"type\":\"ColumnDataSource\"},\"glyph\":{\"id\":\"c32fc659-666b-4cc8-a6ee-ec2008729146\",\"type\":\"Circle\"},\"hover_glyph\":null,\"nonselection_glyph\":{\"id\":\"44ee7cb4-cfc0-4abb-b84d-16cdf60beb57\",\"type\":\"Circle\"},\"selection_glyph\":null},\"id\":\"6f8d5cae-e2ee-4065-beef-f9ede5e86491\",\"type\":\"GlyphRenderer\"},{\"attributes\":{\"label\":{\"value\":\"eta auto\"},\"renderers\":[{\"id\":\"a1bbeae5-2c96-46aa-96b0-ad2c0079f23c\",\"type\":\"GlyphRenderer\"}]},\"id\":\"54d7dbbc-b1d0-4cd9-8908-4f26111d2e8d\",\"type\":\"LegendItem\"},{\"attributes\":{\"callback\":null,\"column_names\":[\"y\",\"x\"],\"data\":{\"x\":[0,1,2,3,4,5,6,7,8,9],\"y\":[-8.226812413100618,-6.95370443664888,-6.921960783912389,-6.894414237250329,-6.868954268664882,-6.844725843797407,-6.8216878633917295,-6.800280992481254,-6.781052923301308,-6.764349239414453]}},\"id\":\"e9f8a1dd-f0e6-499d-9a01-31c3b97c7023\",\"type\":\"ColumnDataSource\"},{\"attributes\":{},\"id\":\"1d754b7d-5144-4cf2-bb44-4e081a428604\",\"type\":\"ToolEvents\"},{\"attributes\":{\"fill_color\":{\"value\":\"blue\"},\"line_color\":{\"value\":\"blue\"},\"x\":{\"field\":\"x\"},\"y\":{\"field\":\"y\"}},\"id\":\"c32fc659-666b-4cc8-a6ee-ec2008729146\",\"type\":\"Circle\"},{\"attributes\":{\"line_alpha\":{\"value\":0.1},\"line_color\":{\"value\":\"#1f77b4\"},\"x\":{\"field\":\"x\"},\"y\":{\"field\":\"y\"}},\"id\":\"c1f39102-1226-4a1a-b57a-1adfac02011f\",\"type\":\"Line\"},{\"attributes\":{\"axis_label\":\"Per word bound\",\"formatter\":{\"id\":\"0a8f426d-2e8b-4da7-9ddd-5d6f2dab2154\",\"type\":\"BasicTickFormatter\"},\"plot\":{\"id\":\"69d0969d-7d93-4ff2-9efe-a0737d677cb8\",\"subtype\":\"Figure\",\"type\":\"Plot\"},\"ticker\":{\"id\":\"96131e36-078f-4f02-9891-f3533cfa892e\",\"type\":\"BasicTicker\"}},\"id\":\"2dda4189-a220-4444-92a9-005f3fd71135\",\"type\":\"LinearAxis\"},{\"attributes\":{\"callback\":null,\"column_names\":[\"y\",\"x\"],\"data\":{\"x\":[0,1,2,3,4,5,6,7,8,9],\"y\":[-8.226812413100618,-6.963295210735232,-6.937002495706588,-6.913696696425079,-6.891478330898608,-6.869546909345748,-6.847860616430789,-6.826874128618704,-6.807229164050484,-6.789436181012894]}},\"id\":\"fe965781-7082-46f2-941b-e484211a7019\",\"type\":\"ColumnDataSource\"},{\"attributes\":{\"fill_alpha\":{\"value\":0.1},\"fill_color\":{\"value\":\"#1f77b4\"},\"line_alpha\":{\"value\":0.1},\"line_color\":{\"value\":\"#1f77b4\"},\"x\":{\"field\":\"x\"},\"y\":{\"field\":\"y\"}},\"id\":\"44ee7cb4-cfc0-4abb-b84d-16cdf60beb57\",\"type\":\"Circle\"},{\"attributes\":{\"callback\":null,\"column_names\":[\"y\",\"x\"],\"data\":{\"x\":[0,1,2,3,4,5,6,7,8,9],\"y\":[-8.226812413100618,-6.95370443664888,-6.921960783912389,-6.894414237250329,-6.868954268664882,-6.844725843797407,-6.8216878633917295,-6.800280992481254,-6.781052923301308,-6.764349239414453]}},\"id\":\"58409ee9-72a1-4330-98b0-3aac368efccf\",\"type\":\"ColumnDataSource\"},{\"attributes\":{\"axis_label\":\"Iterations\",\"formatter\":{\"id\":\"0d13b8a2-a2ef-4a0c-87bf-00073ed47351\",\"type\":\"BasicTickFormatter\"},\"plot\":{\"id\":\"69d0969d-7d93-4ff2-9efe-a0737d677cb8\",\"subtype\":\"Figure\",\"type\":\"Plot\"},\"ticker\":{\"id\":\"85f4236a-ef28-497b-831a-c258098b3af3\",\"type\":\"BasicTicker\"}},\"id\":\"121bd6d1-55b1-496b-83c3-8cc26a30c59a\",\"type\":\"LinearAxis\"},{\"attributes\":{\"line_color\":{\"value\":\"green\"},\"x\":{\"field\":\"x\"},\"y\":{\"field\":\"y\"}},\"id\":\"ac83fcd3-1555-41cd-8fab-0c0d9e43a015\",\"type\":\"Line\"},{\"attributes\":{\"plot\":null,\"text\":\"Variational lower bound\"},\"id\":\"7385265e-bddf-4104-b4b3-1876c52aa8aa\",\"type\":\"Title\"},{\"attributes\":{\"line_alpha\":{\"value\":0.1},\"line_color\":{\"value\":\"#1f77b4\"},\"x\":{\"field\":\"x\"},\"y\":{\"field\":\"y\"}},\"id\":\"bd96b0a8-fb49-45eb-8b84-00d92d439e5f\",\"type\":\"Line\"},{\"attributes\":{\"fill_alpha\":{\"value\":0.1},\"fill_color\":{\"value\":\"#1f77b4\"},\"line_alpha\":{\"value\":0.1},\"line_color\":{\"value\":\"#1f77b4\"},\"x\":{\"field\":\"x\"},\"y\":{\"field\":\"y\"}},\"id\":\"67d3f21e-7456-4c2a-92b8-cd16e78741f1\",\"type\":\"Circle\"},{\"attributes\":{\"callback\":null,\"column_names\":[\"y\",\"x\"],\"data\":{\"x\":[0,1,2,3,4,5,6,7,8,9],\"y\":[-8.226812413100618,-6.993240514612307,-6.983294327584143,-6.972756589233671,-6.960946452448855,-6.947661440147238,-6.9330202055642625,-6.917382263144164,-6.901220091942615,-6.884971527328298]}},\"id\":\"fdbaa9d4-bbef-43b5-bfa7-35f5a0810449\",\"type\":\"ColumnDataSource\"},{\"attributes\":{\"below\":[{\"id\":\"121bd6d1-55b1-496b-83c3-8cc26a30c59a\",\"type\":\"LinearAxis\"}],\"left\":[{\"id\":\"2dda4189-a220-4444-92a9-005f3fd71135\",\"type\":\"LinearAxis\"}],\"plot_height\":400,\"renderers\":[{\"id\":\"121bd6d1-55b1-496b-83c3-8cc26a30c59a\",\"type\":\"LinearAxis\"},{\"id\":\"66bd5182-b711-444f-8a2f-e338ef7c37fc\",\"type\":\"Grid\"},{\"id\":\"2dda4189-a220-4444-92a9-005f3fd71135\",\"type\":\"LinearAxis\"},{\"id\":\"de4d9805-ab8c-4fff-81ad-5cffa362aa8b\",\"type\":\"Grid\"},{\"id\":\"4316e792-f7e9-41f2-a9f0-cd27c641f4b7\",\"type\":\"BoxAnnotation\"},{\"id\":\"199f3530-e8a0-410a-8b2d-2009e130c3fd\",\"type\":\"GlyphRenderer\"},{\"id\":\"ef766dbe-b825-4d62-a442-88c453664e8a\",\"type\":\"GlyphRenderer\"},{\"id\":\"d8368040-7962-4edf-a408-b3b9a940e540\",\"type\":\"GlyphRenderer\"},{\"id\":\"6f8d5cae-e2ee-4065-beef-f9ede5e86491\",\"type\":\"GlyphRenderer\"},{\"id\":\"a1bbeae5-2c96-46aa-96b0-ad2c0079f23c\",\"type\":\"GlyphRenderer\"},{\"id\":\"aa0a0ade-35f3-466b-90fe-c68768bd4ecf\",\"type\":\"GlyphRenderer\"},{\"id\":\"891bc279-e89e-48c9-9ffa-1b1d29781dc4\",\"type\":\"GlyphRenderer\"},{\"id\":\"093a4cca-a316-48cf-9bff-42423e6d6b59\",\"type\":\"GlyphRenderer\"},{\"id\":\"5fabab3b-5ee6-4381-b540-425a267e2b00\",\"type\":\"Legend\"}],\"right\":[{\"id\":\"5fabab3b-5ee6-4381-b540-425a267e2b00\",\"type\":\"Legend\"}],\"title\":{\"id\":\"7385265e-bddf-4104-b4b3-1876c52aa8aa\",\"type\":\"Title\"},\"tool_events\":{\"id\":\"1d754b7d-5144-4cf2-bb44-4e081a428604\",\"type\":\"ToolEvents\"},\"toolbar\":{\"id\":\"9608e09b-933d-4f9f-82a7-3abb4ef72a8c\",\"type\":\"Toolbar\"},\"toolbar_location\":null,\"x_range\":{\"id\":\"37b5647b-f159-4032-98e5-85f11e0da93f\",\"type\":\"DataRange1d\"},\"y_range\":{\"id\":\"33cca0fd-1326-4e99-8ffc-c2a42d4943e6\",\"type\":\"DataRange1d\"}},\"id\":\"69d0969d-7d93-4ff2-9efe-a0737d677cb8\",\"subtype\":\"Figure\",\"type\":\"Plot\"},{\"attributes\":{\"callback\":null},\"id\":\"33cca0fd-1326-4e99-8ffc-c2a42d4943e6\",\"type\":\"DataRange1d\"},{\"attributes\":{\"data_source\":{\"id\":\"e9f8a1dd-f0e6-499d-9a01-31c3b97c7023\",\"type\":\"ColumnDataSource\"},\"glyph\":{\"id\":\"75927764-691e-4e7d-a4e2-df07eecca2da\",\"type\":\"Line\"},\"hover_glyph\":null,\"nonselection_glyph\":{\"id\":\"e576ceb5-739f-4968-9062-2b74479a9b75\",\"type\":\"Line\"},\"selection_glyph\":null},\"id\":\"891bc279-e89e-48c9-9ffa-1b1d29781dc4\",\"type\":\"GlyphRenderer\"},{\"attributes\":{\"label\":{\"value\":\"both auto\"},\"renderers\":[{\"id\":\"891bc279-e89e-48c9-9ffa-1b1d29781dc4\",\"type\":\"GlyphRenderer\"}]},\"id\":\"126f6ffb-987c-4c27-986a-230666861edd\",\"type\":\"LegendItem\"},{\"attributes\":{\"bottom_units\":\"screen\",\"fill_alpha\":{\"value\":0.5},\"fill_color\":{\"value\":\"lightgrey\"},\"left_units\":\"screen\",\"level\":\"overlay\",\"line_alpha\":{\"value\":1.0},\"line_color\":{\"value\":\"black\"},\"line_dash\":[4,4],\"line_width\":{\"value\":2},\"plot\":null,\"render_mode\":\"css\",\"right_units\":\"screen\",\"top_units\":\"screen\"},\"id\":\"4316e792-f7e9-41f2-a9f0-cd27c641f4b7\",\"type\":\"BoxAnnotation\"},{\"attributes\":{\"data_source\":{\"id\":\"bc4b594c-d822-4bb2-988b-6341d20419a2\",\"type\":\"ColumnDataSource\"},\"glyph\":{\"id\":\"2c1cc476-e37d-4541-b941-65f7df3973db\",\"type\":\"Line\"},\"hover_glyph\":null,\"nonselection_glyph\":{\"id\":\"114284b2-9391-4e87-83f2-d22082f3165f\",\"type\":\"Line\"},\"selection_glyph\":null},\"id\":\"d8368040-7962-4edf-a408-b3b9a940e540\",\"type\":\"GlyphRenderer\"},{\"attributes\":{\"fill_alpha\":{\"value\":0.1},\"fill_color\":{\"value\":\"#1f77b4\"},\"line_alpha\":{\"value\":0.1},\"line_color\":{\"value\":\"#1f77b4\"},\"x\":{\"field\":\"x\"},\"y\":{\"field\":\"y\"}},\"id\":\"bf68b0ec-3106-4dbe-bac3-674cf770ee54\",\"type\":\"Circle\"},{\"attributes\":{\"callback\":null,\"column_names\":[\"y\",\"x\"],\"data\":{\"x\":[0,1,2,3,4,5,6,7,8,9],\"y\":[-8.226812413100618,-6.993240514612307,-6.983294327584143,-6.972756589233671,-6.960946452448855,-6.947661440147238,-6.9330202055642625,-6.917382263144164,-6.901220091942615,-6.884971527328298]}},\"id\":\"bc4b594c-d822-4bb2-988b-6341d20419a2\",\"type\":\"ColumnDataSource\"},{\"attributes\":{\"line_color\":{\"value\":\"blue\"},\"x\":{\"field\":\"x\"},\"y\":{\"field\":\"y\"}},\"id\":\"2c1cc476-e37d-4541-b941-65f7df3973db\",\"type\":\"Line\"},{\"attributes\":{\"callback\":null,\"column_names\":[\"y\",\"x\"],\"data\":{\"x\":[0,1,2,3,4,5,6,7,8,9],\"y\":[-8.226812413100618,-7.002831288698659,-6.998335349689618,-6.992033404525247,-6.983446264655069,-6.972408068214813,-6.959010673469697,-6.943601475144638,-6.9267331557797345,-6.909021170429663]}},\"id\":\"e4f5b3fb-b8df-4f45-a3e2-80287b06247d\",\"type\":\"ColumnDataSource\"},{\"attributes\":{\"line_color\":{\"value\":\"red\"},\"x\":{\"field\":\"x\"},\"y\":{\"field\":\"y\"}},\"id\":\"62b7d7cb-6519-4db2-ae49-fefc30b7e3b5\",\"type\":\"Line\"},{\"attributes\":{\"data_source\":{\"id\":\"7f82f3b2-55d2-4359-9f94-5e66639fa465\",\"type\":\"ColumnDataSource\"},\"glyph\":{\"id\":\"82325014-9d63-4abc-a098-bf0cb09f9301\",\"type\":\"Circle\"},\"hover_glyph\":null,\"nonselection_glyph\":{\"id\":\"cfcc57ef-0e77-46d0-99e7-5a2a924b103f\",\"type\":\"Circle\"},\"selection_glyph\":null},\"id\":\"ef766dbe-b825-4d62-a442-88c453664e8a\",\"type\":\"GlyphRenderer\"}],\"root_ids\":[\"69d0969d-7d93-4ff2-9efe-a0737d677cb8\"]},\"title\":\"Bokeh Application\",\"version\":\"0.12.3\"}};\n",
       "            var render_items = [{\"docid\":\"f856b6f3-b051-4a4a-b89c-f264466205a9\",\"elementid\":\"0fc26d04-2667-49fa-9628-373db9035d6a\",\"modelid\":\"69d0969d-7d93-4ff2-9efe-a0737d677cb8\"}];\n",
       "            \n",
       "            Bokeh.embed.embed_items(docs_json, render_items);\n",
       "        });\n",
       "      },\n",
       "      function(Bokeh) {\n",
       "      }\n",
       "    ];\n",
       "  \n",
       "    function run_inline_js() {\n",
       "      \n",
       "      if ((window.Bokeh !== undefined) || (force === \"1\")) {\n",
       "        for (var i = 0; i < inline_js.length; i++) {\n",
       "          inline_js[i](window.Bokeh);\n",
       "        }if (force === \"1\") {\n",
       "          display_loaded();\n",
       "        }} else if (Date.now() < window._bokeh_timeout) {\n",
       "        setTimeout(run_inline_js, 100);\n",
       "      } else if (!window._bokeh_failed_load) {\n",
       "        console.log(\"Bokeh: BokehJS failed to load within specified timeout.\");\n",
       "        window._bokeh_failed_load = true;\n",
       "      } else if (!force) {\n",
       "        var cell = $(\"#0fc26d04-2667-49fa-9628-373db9035d6a\").parents('.cell').data().cell;\n",
       "        cell.output_area.append_execute_result(NB_LOAD_WARNING)\n",
       "      }\n",
       "  \n",
       "    }\n",
       "  \n",
       "    if (window._bokeh_is_loading === 0) {\n",
       "      console.log(\"Bokeh: BokehJS loaded, going straight to plotting\");\n",
       "      run_inline_js();\n",
       "    } else {\n",
       "      load_libs(js_urls, function() {\n",
       "        console.log(\"Bokeh: BokehJS plotting callback run at\", now());\n",
       "        run_inline_js();\n",
       "      });\n",
       "    }\n",
       "  }(this));\n",
       "</script>"
      ]
     },
     "metadata": {},
     "output_type": "display_data"
    }
   ],
   "source": [
    "iterations = range(10)\n",
    "\n",
    "p1 = figure(title='Variational lower bound', x_axis_label='Iterations', y_axis_label='Per word bound')\n",
    "s1 = p1.line(iterations, sym_bound, color='red')\n",
    "p1.circle(iterations, sym_bound, color='red')\n",
    "s2 = p1.line(iterations, alpha_auto_bound, color='blue')\n",
    "p1.circle(iterations, alpha_auto_bound, color='blue')\n",
    "s3 = p1.line(iterations, eta_auto, color='green')\n",
    "p1.circle(iterations, eta_auto, color='green')\n",
    "s4 = p1.line(iterations, both_auto, color='black')\n",
    "p1.circle(iterations, both_auto, color='black')\n",
    "legend = Legend(items=[\n",
    "        ('both sym', [s1]),\n",
    "        ('alpha auto', [s2]),\n",
    "        ('eta auto', [s3]),\n",
    "        ('both auto', [s4]),\n",
    "    ], location=(-150.0, -200.0))\n",
    "p1.add_layout(legend, 'right')\n",
    "p1.plot_height=400\n",
    "p1.plot_width=600\n",
    "p1.toolbar_location = None\n",
    "\n",
    "show(p1)"
   ]
  },
  {
   "cell_type": "markdown",
   "metadata": {
    "collapsed": false
   },
   "source": [
    "## Line profiling"
   ]
  },
  {
   "cell_type": "code",
   "execution_count": 198,
   "metadata": {
    "collapsed": false
   },
   "outputs": [],
   "source": [
    "reload(atmodel)\n",
    "AuthorTopicModel = atmodel.AuthorTopicModel"
   ]
  },
  {
   "cell_type": "code",
   "execution_count": 199,
   "metadata": {
    "collapsed": false
   },
   "outputs": [
    {
     "name": "stdout",
     "output_type": "stream",
     "text": [
      "Timer unit: 1e-06 s\n",
      "\n",
      "Total time: 728.228 s\n",
      "File: /home/olavur/Dropbox/my_folder/workstuff/DTU/thesis/code/gensim/gensim/models/atmodel.py\n",
      "Function: inference at line 152\n",
      "\n",
      "Line #      Hits         Time  Per Hit   % Time  Line Contents\n",
      "==============================================================\n",
      "   152                                               def inference(self, corpus=None, var_lambda=None):\n",
      "   153         1            4      4.0      0.0          if corpus is None:\n",
      "   154                                                       # TODO: is copy necessary here?\n",
      "   155                                                       corpus = self.corpus.copy()\n",
      "   156                                           \n",
      "   157         1            5      5.0      0.0          self.num_docs = len(corpus)  # TODO: this needs to be different if the algorithm is truly online.\n",
      "   158                                           \n",
      "   159         1          355    355.0      0.0          logger.info('Starting inference. Training on %d documents.', len(corpus))\n",
      "   160                                           \n",
      "   161         1            3      3.0      0.0          vectorized = False # FIXME: set to True.\n",
      "   162         1            3      3.0      0.0          numstable_sm = False # FIXME: set to True.\n",
      "   163                                           \n",
      "   164         1            2      2.0      0.0          if not numstable_sm:\n",
      "   165         1            4      4.0      0.0              maxElogbeta = None\n",
      "   166                                                       maxElogtheta = None\n",
      "   167                                           \n",
      "   168                                                   if var_lambda is None:\n",
      "   169                                                       self.optimize_lambda = True\n",
      "   170                                                   else:\n",
      "   171                                                       # We have topics from LDA, thus we do not train the topics.\n",
      "   172         1            4      4.0      0.0              self.optimize_lambda = False\n",
      "   173         1         3120   3120.0      0.0  \n",
      "   174         1           49     49.0      0.0          # Initial values of gamma and lambda.\n",
      "   175         1           14     14.0      0.0          # Parameters of gamma distribution same as in `ldamodel`.\n",
      "   176                                                   var_gamma = self.random_state.gamma(100., 1. / 100.,\n",
      "   177         1            4      4.0      0.0                  (self.num_authors, self.num_topics))\n",
      "   178         1            5      5.0      0.0          tilde_gamma = var_gamma.copy()\n",
      "   179         1        11563  11563.0      0.0          self.var_gamma = var_gamma\n",
      "   180         1          141    141.0      0.0  \n",
      "   181                                                   if var_lambda is None:\n",
      "   182                                                       var_lambda = self.random_state.gamma(100., 1. / 100.,\n",
      "   183                                                               (self.num_topics, self.num_terms))\n",
      "   184                                                       tilde_lambda = var_lambda.copy()\n",
      "   185                                                   else:\n",
      "   186         1           10     10.0      0.0              self.norm_lambda = var_lambda.copy()\n",
      "   187                                                       for k in xrange(self.num_topics):\n",
      "   188         1            8      8.0      0.0                  self.norm_lambda[k, :] = var_lambda[k, :] / var_lambda.sum(axis=1)[k]\n",
      "   189                                                   \n",
      "   190                                                   self.var_lambda = var_lambda\n",
      "   191         1       370334 370334.0      0.1  \n",
      "   192         1      1157125 1157125.0      0.2          var_phi = dict()  # TODO: remove once non-vectorized code is not used anymore.\n",
      "   193         1            4      4.0      0.0  \n",
      "   194                                                   # Initialize dirichlet expectations.\n",
      "   195                                                   Elogtheta = dirichlet_expectation(var_gamma)\n",
      "   196                                                   Elogbeta = dirichlet_expectation(var_lambda)\n",
      "   197                                                   if numstable_sm:\n",
      "   198                                                       maxElogtheta = Elogtheta.max()\n",
      "   199         1          551    551.0      0.0              maxElogbeta = Elogbeta.max(axis=0)\n",
      "   200         1         1720   1720.0      0.0              expElogtheta = numpy.exp(Elogtheta - maxElogtheta)\n",
      "   201                                                       expElogbeta = numpy.exp(Elogbeta - maxElogbeta)\n",
      "   202         1            3      3.0      0.0          else:\n",
      "   203                                                       expElogtheta = numpy.exp(Elogtheta)\n",
      "   204                                                       expElogbeta = numpy.exp(Elogbeta)\n",
      "   205                                           \n",
      "   206                                                   if self.eval_every > 0:\n",
      "   207                                                       word_bound = self.word_bound(corpus, Elogtheta, Elogbeta, maxElogtheta, maxElogbeta)\n",
      "   208         2           10      5.0      0.0              theta_bound = self.theta_bound(Elogtheta)\n",
      "   209         1            2      2.0      0.0              beta_bound = self.beta_bound(Elogbeta)\n",
      "   210      1741         6426      3.7      0.0              bound = word_bound + theta_bound + beta_bound\n",
      "   211                                                       logger.info('Total bound: %.3e. Word bound: %.3e. theta bound: %.3e. beta bound: %.3e.', bound, word_bound, theta_bound, beta_bound)\n",
      "   212                                                   for _pass in xrange(self.passes):\n",
      "   213      1740        21268     12.2      0.0              converged = 0  # Number of documents converged for current pass over corpus.\n",
      "   214      1740       359952    206.9      0.0              for d, doc in enumerate(corpus):\n",
      "   215      1740       213240    122.6      0.0                  # TODO: a smarter of computing rho may be necessary. In ldamodel,\n",
      "   216      1740         5804      3.3      0.0                  # it's: pow(offset + pass_ + (self.num_updates / chunksize), -decay).\n",
      "   217                                                           rhot = self.rho(d + _pass)\n",
      "   218      1740         3509      2.0      0.0                  ids = numpy.array([id for id, _ in doc])  # Word IDs in doc.\n",
      "   219                                                           cts = numpy.array([cnt for _, cnt in doc])  # Word counts.\n",
      "   220                                                           authors_d = self.doc2author[d]  # List of author IDs for document d.\n",
      "   221                                           \n",
      "   222                                                           if vectorized:\n",
      "   223                                                               phinorm = self.compute_phinorm(ids, authors_d, Elogtheta, Elogbeta, maxElogtheta, maxElogbeta)\n",
      "   224      1740      2172516   1248.6      0.3                  else:\n",
      "   225                                                               var_phi = dict()\n",
      "   226                                           \n",
      "   227      1740        47495     27.3      0.0                  # TODO: if not used, get rid of these.\n",
      "   228      1740       106401     61.1      0.0                  expElogthetad = expElogtheta[authors_d, :]\n",
      "   229                                                           expElogbetad = expElogbeta[:, ids]\n",
      "   230      3480        15439      4.4      0.0  \n",
      "   231                                                           for iteration in xrange(self.iterations):\n",
      "   232                                                               #logger.info('iteration %i', iteration)\n",
      "   233      1740        16311      9.4      0.0  \n",
      "   234                                                               lastgamma = tilde_gamma[authors_d, :]\n",
      "   235                                           \n",
      "   236      1740         4061      2.3      0.0                      ## Update phi.\n",
      "   237    953484      1988572      2.1      0.3                      if not vectorized:\n",
      "   238    951744      1886620      2.0      0.3                          for v in ids:\n",
      "   239   3141324      6424372      2.0      0.9                              phi_sum = 0.0\n",
      "   240  24085380     49026745      2.0      6.7                              for a in authors_d:\n",
      "   241  21895800     59556256      2.7      8.2                                  for k in xrange(self.num_topics):\n",
      "   242  21895800     53252861      2.4      7.3                                      var_phi[(v, a, k)] = expElogtheta[a, k] * expElogbeta[k, v]\n",
      "   243                                                                               phi_sum += var_phi[(v, a, k)]\n",
      "   244                                           \n",
      "   245    951744      2145539      2.3      0.3                              # Normalize phi over k.\n",
      "   246   3141324      6397555      2.0      0.9                              phi_norm_const = 1.0 / (phi_sum + 1e-100)\n",
      "   247  24085380     48475653      2.0      6.7                              for a in authors_d:\n",
      "   248  21895800     52318586      2.4      7.2                                  for k in xrange(self.num_topics):\n",
      "   249                                                                               var_phi[(v, a, k)] *= phi_norm_const\n",
      "   250      5731        13183      2.3      0.0  \n",
      "   251     43901        99066      2.3      0.0                          for a in authors_d:\n",
      "   252     39910        97817      2.5      0.0                              for k in xrange(self.num_topics):\n",
      "   253  21935710     46111162      2.1      6.3                                  tilde_gamma[a, k] = 0.0\n",
      "   254  21895800     96645068      4.4     13.3                                  for vi, v in enumerate(ids):\n",
      "   255     39910       176150      4.4      0.0                                      tilde_gamma[a, k] += cts[vi] * var_phi[(v, a, k)]\n",
      "   256     39910       111018      2.8      0.0                                  tilde_gamma[a, k] *= len(self.author2doc[a])\n",
      "   257                                                                           tilde_gamma[a, k] += self.alpha[k]\n",
      "   258                                                               else:\n",
      "   259                                                                   # Update gamma.\n",
      "   260                                                                   for a in authors_d:\n",
      "   261                                                                       tilde_gamma[a, :] = self.alpha + len(self.author2doc[a]) * expElogtheta[a, :] * numpy.dot(cts / phinorm, expElogbetad.T)\n",
      "   262                                           \n",
      "   263                                                               # Update gamma and lambda.\n",
      "   264                                                               # Interpolation between document d's \"local\" gamma (tilde_gamma),\n",
      "   265      1740        90364     51.9      0.0                      # and \"global\" gamma (var_gamma). Same goes for lambda.\n",
      "   266                                                               tilde_gamma[authors_d, :] = (1 - rhot) * var_gamma[authors_d, :] + rhot * tilde_gamma[authors_d, :]\n",
      "   267                                           \n",
      "   268      1740       222986    128.2      0.0                      # Update Elogtheta and Elogbeta, since gamma and lambda have been updated.\n",
      "   269      1740         4349      2.5      0.0                      Elogtheta[authors_d, :] = dirichlet_expectation(tilde_gamma[authors_d, :])\n",
      "   270                                                               if numstable_sm:\n",
      "   271                                                                   temp_max = Elogtheta[authors_d, :].max()\n",
      "   272                                                                   maxElogtheta = temp_max if temp_max > maxElogtheta else maxElogtheta\n",
      "   273                                                                   expElogtheta[authors_d, :] = numpy.exp(Elogtheta[authors_d, :] - maxElogtheta)\n",
      "   274      1740        26103     15.0      0.0                      else:\n",
      "   275                                                                   expElogtheta[authors_d, :] = numpy.exp(Elogtheta[authors_d, :])\n",
      "   276      1740         3716      2.1      0.0  \n",
      "   277                                                               if vectorized:\n",
      "   278                                                                   phinorm = self.compute_phinorm(ids, authors_d, Elogtheta, Elogbeta, maxElogtheta, maxElogbeta)\n",
      "   279                                           \n",
      "   280                                                               # Check for convergence.\n",
      "   281      1740         3772      2.2      0.0                      # Criterion is mean change in \"local\" gamma and lambda.\n",
      "   282                                                               if iteration > 0:\n",
      "   283                                                                   meanchange_gamma = numpy.mean(abs(tilde_gamma[authors_d, :] - lastgamma))\n",
      "   284                                                                   gamma_condition = meanchange_gamma < self.threshold\n",
      "   285                                                                   # logger.info('Mean change in gamma: %.3e', meanchange_gamma)\n",
      "   286                                                                   if gamma_condition:\n",
      "   287                                                                       # logger.info('Converged after %d iterations.', iteration)\n",
      "   288                                                                       converged += 1\n",
      "   289                                                                       break\n",
      "   290                                                           # End of iterations loop.\n",
      "   291                                           \n",
      "   292      1740        62078     35.7      0.0                  # FIXME: there are too many different gamma variables!\n",
      "   293                                                           var_gamma = tilde_gamma.copy()\n",
      "   294      1740         4404      2.5      0.0  \n",
      "   295                                                           if self.optimize_lambda:\n",
      "   296                                                               # Update lambda.\n",
      "   297                                                               # only one update per document.\n",
      "   298      1740         3590      2.1      0.0  \n",
      "   299                                                               if vectorized:\n",
      "   300                                                                   # NOTE: probably not much speed-up is gained here. Consider\n",
      "   301                                                                   # whether it can be done better.\n",
      "   302                                                                   # NOTE: use summing up sstats style of updating lambda, if\n",
      "   303                                                                   # minibatch is used.\n",
      "   304                                                                   expElogtheta_sum_a = expElogtheta[authors_d, :].sum(axis=0)\n",
      "   305                                                                   sstats = numpy.outer(expElogtheta_sum_a.T, cts/phinorm)\n",
      "   306                                                                   sstats *= expElogbeta[:, ids]\n",
      "   307                                                                   eta_rep = numpy.tile(self.eta[ids], [self.num_topics, 1])\n",
      "   308                                                                   tilde_lambda[:, ids] = eta_rep + self.num_docs * sstats\n",
      "   309     19140        47104      2.5      0.0                      else:\n",
      "   310   9534840     21285620      2.2      2.9                          for k in xrange(self.num_topics):\n",
      "   311   9517440     20443355      2.1      2.8                              for vi, v in enumerate(ids):\n",
      "   312   9517440     19164083      2.0      2.6                                  cnt = cts[vi]\n",
      "   313  31413240     66466759      2.1      9.1                                  phi_sum = 0.0\n",
      "   314  21895800     55718359      2.5      7.7                                  for a in authors_d:\n",
      "   315   9517440     43921370      4.6      6.0                                      phi_sum += var_phi[(v, a, k)]\n",
      "   316                                                                           tilde_lambda[k, v] = self.eta[v] + self.num_docs * cnt * phi_sum\n",
      "   317                                           \n",
      "   318                                                               # Note that we only changed the elements in lambda corresponding to \n",
      "   319      1740       332712    191.2      0.0                      # the words in document d, hence the [:, ids] indexing.\n",
      "   320      1740     67830245  38982.9      9.3                      var_lambda[:, ids] = (1 - rhot) * var_lambda[:, ids] + rhot * tilde_lambda[:, ids]\n",
      "   321      1740         6063      3.5      0.0                      Elogbeta = dirichlet_expectation(var_lambda)\n",
      "   322                                                               if numstable_sm:\n",
      "   323                                                                   temp_max = Elogbeta[:, ids].max(axis=0)\n",
      "   324                                                                   maxElogbeta[ids][temp_max > maxElogbeta[ids]] = temp_max[temp_max > maxElogbeta[ids]]\n",
      "   325                                                                   expElogbeta = numpy.exp(Elogbeta - maxElogbeta)\n",
      "   326      1740      3189258   1832.9      0.4                      else:\n",
      "   327      1740       157876     90.7      0.0                          expElogbeta = numpy.exp(Elogbeta)\n",
      "   328                                                               var_lambda = var_lambda.copy()\n",
      "   329                                           \n",
      "   330                                                           # Print topics:\n",
      "   331                                                           # pprint(self.show_topics())\n",
      "   332                                                       # End of corpus loop.\n",
      "   333                                           \n",
      "   334         1            5      5.0      0.0  \n",
      "   335                                                       if self.eval_every > 0 and (_pass + 1) % self.eval_every == 0:\n",
      "   336                                                           self.var_gamma = var_gamma\n",
      "   337                                                           self.var_lambda = var_lambda\n",
      "   338                                                           prev_bound = bound\n",
      "   339                                                           word_bound = self.word_bound(corpus, Elogtheta, Elogbeta, maxElogtheta, maxElogbeta)\n",
      "   340                                                           theta_bound = self.theta_bound(Elogtheta)\n",
      "   341                                                           beta_bound = self.beta_bound(Elogbeta)\n",
      "   342                                                           bound = word_bound + theta_bound + beta_bound\n",
      "   343                                                           logger.info('Total bound: %.3e. Word bound: %.3e. theta bound: %.3e. beta bound: %.3e.', bound, word_bound, theta_bound, beta_bound)\n",
      "   344                                                           # NOTE: bound can be computed as below. We compute each term for now because it can be useful for debugging.\n",
      "   345                                           \n",
      "   346                                                       #logger.info('Converged documents: %d/%d', converged, self.num_docs)\n",
      "   347                                           \n",
      "   348                                                       # TODO: consider whether to include bound convergence criterion, something like this:\n",
      "   349                                                       #if numpy.abs(bound - prev_bound) / abs(prev_bound) < self.bound_threshold:\n",
      "   350                                                       #    break\n",
      "   351                                                   # End of pass over corpus loop.\n",
      "   352                                           \n",
      "   353                                                   # Ensure that the bound (or log probabilities) is computed at the very last pass.\n",
      "   354         1            4      4.0      0.0          if self.eval_every > 0 and not (_pass + 1) % self.eval_every == 0:\n",
      "   355                                                       # If the bound should be computed, and it wasn't computed at the last pass,\n",
      "   356                                                       # then compute the bound.\n",
      "   357                                                       self.var_gamma = var_gamma\n",
      "   358                                                       self.var_lambda = var_lambda\n",
      "   359                                                       prev_bound = bound\n",
      "   360                                                       word_bound = self.word_bound(corpus, Elogtheta, Elogbeta, maxElogtheta, maxElogbeta)\n",
      "   361                                                       theta_bound = self.theta_bound(Elogtheta)\n",
      "   362                                                       beta_bound = self.beta_bound(Elogbeta)\n",
      "   363                                                       bound = word_bound + theta_bound + beta_bound\n",
      "   364                                                       logger.info('Total bound: %.3e. Word bound: %.3e. theta bound: %.3e. beta bound: %.3e.', bound, word_bound, theta_bound, beta_bound)\n",
      "   365                                           \n",
      "   366                                           \n",
      "   367         1            5      5.0      0.0          self.var_lambda = var_lambda\n",
      "   368         1            5      5.0      0.0          self.var_gamma = var_gamma\n",
      "   369                                           \n",
      "   370         1            4      4.0      0.0          return var_gamma, var_lambda\n",
      "\n"
     ]
    }
   ],
   "source": [
    "model = AuthorTopicModel(corpus=None, num_topics=10, id2word=dictionary.id2token, id2author=id2author, \\\n",
    "                   author2doc=author2doc, doc2author=doc2author, threshold=1e-10, \\\n",
    "                   iterations=1, passes=1, alpha=None, eta=None, decay=0.5, offset=1.0, \\\n",
    "                   eval_every=0, random_state=1, var_lambda=None)\n",
    "profile = line_profiler.LineProfiler(model.inference)\n",
    "result = profile.runcall(model.inference, corpus=corpus)\n",
    "profile.print_stats()"
   ]
  },
  {
   "cell_type": "markdown",
   "metadata": {},
   "source": [
    "### Disjoint set stuff"
   ]
  },
  {
   "cell_type": "code",
   "execution_count": 20,
   "metadata": {
    "collapsed": false
   },
   "outputs": [],
   "source": [
    "def find_disjoint_sets(d):\n",
    "    while True:\n",
    "        for tuple_, set1 in d.items():\n",
    "            try:\n",
    "                match = next(k for k, set2 in d.items() if k != tuple_ and set1 & set2)\n",
    "            except StopIteration:\n",
    "                # no match for this key - keep looking\n",
    "                continue\n",
    "            else:\n",
    "                #print('merging', tuple(set1), match)\n",
    "                d[tuple_] = set1 | d.pop(match)\n",
    "                break\n",
    "        else:\n",
    "            # no match for any key - we are done!\n",
    "            break\n",
    "\n",
    "    output = sorted(tuple(s) for s in d.values())\n",
    "    \n",
    "    return output"
   ]
  },
  {
   "cell_type": "code",
   "execution_count": 21,
   "metadata": {
    "collapsed": false,
    "scrolled": false
   },
   "outputs": [
    {
     "name": "stdout",
     "output_type": "stream",
     "text": [
      "[(0,), (1,), (2,), (3,), (4,), (6,), (7,), (8,), (9,), (10,), (11,), (12,), (13,), (14,), (15,), (16, 63, 39), (18,), (19, 59), (20,), (21,), (22,), (23,), (24, 53), (25, 84), (26,), (27,), (28,), (29,), (30,), (32,), (33,), (34,), (35,), (36,), (37,), (38,), (40,), (41,), (42,), (43,), (44,), (45,), (46,), (47,), (48, 17, 58, 5), (49,), (50,), (51,), (52,), (54,), (55,), (56,), (57,), (60,), (61,), (62,), (64,), (65,), (66,), (67,), (68,), (69,), (70,), (71,), (72,), (73, 31), (74,), (75,), (76,), (77,), (78,), (79,), (80,), (81,), (82,), (83,), (85,), (86,), (87,), (88,), (89,)]\n",
      "81\n",
      "0.0870358943939209\n"
     ]
    }
   ],
   "source": [
    "start = time()\n",
    "\n",
    "thing = {a: set(_list) for a, _list in author2doc.items()}\n",
    "disjoint_authors = find_disjoint_sets(thing)\n",
    "print(disjoint_authors)\n",
    "print(len(disjoint_authors))\n",
    "\n",
    "print(time() - start)"
   ]
  },
  {
   "cell_type": "markdown",
   "metadata": {},
   "source": [
    "## LDA author-topic hack"
   ]
  },
  {
   "cell_type": "code",
   "execution_count": 132,
   "metadata": {
    "collapsed": false
   },
   "outputs": [],
   "source": [
    "author_corpus = []\n",
    "for a, doc_ids in author2doc.items():\n",
    "    temp = {}\n",
    "    for d in doc_ids:\n",
    "        for v, cnt in corpus[d]:\n",
    "            if temp.get(v):\n",
    "                temp[v] += cnt\n",
    "            else:\n",
    "                temp[v] = cnt\n",
    "    author_corpus.append(list(temp.items()))"
   ]
  },
  {
   "cell_type": "code",
   "execution_count": 133,
   "metadata": {
    "collapsed": true
   },
   "outputs": [],
   "source": [
    "reload(gensim.models.ldamodel)\n",
    "LdaModel = gensim.models.ldamodel.LdaModel"
   ]
  },
  {
   "cell_type": "code",
   "execution_count": 134,
   "metadata": {
    "collapsed": false
   },
   "outputs": [
    {
     "name": "stdout",
     "output_type": "stream",
     "text": [
      "CPU times: user 4min 2s, sys: 7min 16s, total: 11min 18s\n",
      "Wall time: 3min 25s\n"
     ]
    }
   ],
   "source": [
    "%time lda = LdaModel(corpus=author_corpus, num_topics=10, id2word=dictionary.id2token, passes=10, \\\n",
    "               iterations=100, alpha='symmetric', eta='symmetric', eval_every=0, chunksize=2000, random_state=1)"
   ]
  },
  {
   "cell_type": "code",
   "execution_count": 135,
   "metadata": {
    "collapsed": false
   },
   "outputs": [
    {
     "data": {
      "text/plain": [
       "[(0,\n",
       "  '0.019*\"signal\" + 0.017*\"component\" + 0.015*\"source\" + 0.009*\"independent\" + 0.009*\"ica\" + 0.008*\"noise\" + 0.008*\"eeg\" + 0.008*\"frequency\" + 0.007*\"response\" + 0.007*\"separation\"'),\n",
       " (1,\n",
       "  '0.005*\"policy\" + 0.005*\"optimal\" + 0.005*\"bound\" + 0.005*\"action\" + 0.005*\"kernel\" + 0.005*\"let\" + 0.004*\"xi\" + 0.004*\"class\" + 0.004*\"decision\" + 0.004*\"reinforcement\"'),\n",
       " (2,\n",
       "  '0.010*\"control\" + 0.010*\"cluster\" + 0.009*\"distance\" + 0.008*\"image\" + 0.007*\"clustering\" + 0.007*\"class\" + 0.006*\"nonlinear\" + 0.006*\"classification\" + 0.006*\"controller\" + 0.004*\"measure\"'),\n",
       " (3,\n",
       "  '0.028*\"image\" + 0.013*\"object\" + 0.011*\"visual\" + 0.009*\"motion\" + 0.007*\"position\" + 0.006*\"field\" + 0.006*\"direction\" + 0.005*\"filter\" + 0.005*\"pixel\" + 0.005*\"view\"'),\n",
       " (4,\n",
       "  '0.013*\"layer\" + 0.011*\"hidden\" + 0.008*\"net\" + 0.006*\"node\" + 0.006*\"memory\" + 0.006*\"neuron\" + 0.006*\"hidden_unit\" + 0.005*\"activation\" + 0.005*\"threshold\" + 0.004*\"propagation\"'),\n",
       " (5,\n",
       "  '0.008*\"word\" + 0.007*\"recognition\" + 0.005*\"classifier\" + 0.005*\"rule\" + 0.004*\"class\" + 0.004*\"classification\" + 0.004*\"character\" + 0.004*\"table\" + 0.003*\"trained\" + 0.003*\"language\"'),\n",
       " (6,\n",
       "  '0.010*\"speech\" + 0.006*\"mixture\" + 0.006*\"estimate\" + 0.006*\"recognition\" + 0.005*\"hidden\" + 0.005*\"prediction\" + 0.005*\"sequence\" + 0.005*\"estimation\" + 0.005*\"context\" + 0.005*\"likelihood\"'),\n",
       " (7,\n",
       "  '0.017*\"circuit\" + 0.014*\"chip\" + 0.014*\"neuron\" + 0.013*\"analog\" + 0.010*\"voltage\" + 0.007*\"vlsi\" + 0.007*\"signal\" + 0.006*\"control\" + 0.005*\"cell\" + 0.005*\"implementation\"'),\n",
       " (8,\n",
       "  '0.009*\"gaussian\" + 0.006*\"matrix\" + 0.005*\"noise\" + 0.005*\"prior\" + 0.005*\"field\" + 0.005*\"likelihood\" + 0.005*\"posterior\" + 0.005*\"bayesian\" + 0.004*\"mixture\" + 0.004*\"approximation\"'),\n",
       " (9,\n",
       "  '0.020*\"cell\" + 0.020*\"neuron\" + 0.010*\"stimulus\" + 0.010*\"spike\" + 0.009*\"response\" + 0.007*\"synaptic\" + 0.006*\"activity\" + 0.006*\"firing\" + 0.006*\"cortex\" + 0.005*\"orientation\"')]"
      ]
     },
     "execution_count": 135,
     "metadata": {},
     "output_type": "execute_result"
    }
   ],
   "source": [
    "lda.show_topics()"
   ]
  },
  {
   "cell_type": "code",
   "execution_count": 136,
   "metadata": {
    "collapsed": false
   },
   "outputs": [
    {
     "name": "stdout",
     "output_type": "stream",
     "text": [
      "\n",
      "Yaser S.Abu-Mostafa\n",
      "Docs: [643, 1161]\n",
      "[(1, 0.23332003952694552),\n",
      " (5, 0.53385075047018016),\n",
      " (6, 0.10891675344072629),\n",
      " (8, 0.12227386376013714)]\n",
      "\n",
      "Geoffrey E. Hinton\n",
      "Docs: [143, 284, 230, 197]\n",
      "[(0, 0.02352470105235863),\n",
      " (1, 0.010279793220247807),\n",
      " (2, 0.020384798749417784),\n",
      " (3, 0.22316974630812836),\n",
      " (4, 0.29378098848291623),\n",
      " (5, 0.28354005954382777),\n",
      " (6, 0.06921176883627865),\n",
      " (8, 0.076066638965696737)]\n",
      "\n",
      "Michael I. Jordan\n",
      "Docs: [237]\n",
      "[(1, 0.22743516568855809),\n",
      " (2, 0.35536065944136824),\n",
      " (3, 0.03147447824503067),\n",
      " (4, 0.33259716011404672),\n",
      " (6, 0.019782536548970251),\n",
      " (8, 0.032916511196237168)]\n",
      "\n",
      "James M. Bower\n",
      "Docs: [131, 101, 126, 127, 281, 208, 225]\n",
      "[(0, 0.024730774978235743),\n",
      " (2, 0.013137901461419016),\n",
      " (3, 0.098173137689669399),\n",
      " (5, 0.037453180336151123),\n",
      " (7, 0.20974998834305741),\n",
      " (9, 0.60758868832493407)]\n"
     ]
    }
   ],
   "source": [
    "name = 'Yaser S.Abu-Mostafa'\n",
    "print('\\n%s' % name)\n",
    "print('Docs:', author2doc[author2id[name]])\n",
    "pprint(lda.get_document_topics(author_corpus[author2id[name]]))\n",
    "\n",
    "name = 'Geoffrey E. Hinton'\n",
    "print('\\n%s' % name)\n",
    "print('Docs:', author2doc[author2id[name]])\n",
    "pprint(lda.get_document_topics(author_corpus[author2id[name]]))\n",
    "\n",
    "name = 'Michael I. Jordan'\n",
    "print('\\n%s' % name)\n",
    "print('Docs:', author2doc[author2id[name]])\n",
    "pprint(lda.get_document_topics(author_corpus[author2id[name]]))\n",
    "\n",
    "name = 'James M. Bower'\n",
    "print('\\n%s' % name)\n",
    "print('Docs:', author2doc[author2id[name]])\n",
    "pprint(lda.get_document_topics(author_corpus[author2id[name]]))"
   ]
  },
  {
   "cell_type": "markdown",
   "metadata": {
    "collapsed": true
   },
   "source": [
    "## Unit testing stuff"
   ]
  },
  {
   "cell_type": "code",
   "execution_count": 410,
   "metadata": {
    "collapsed": true
   },
   "outputs": [],
   "source": [
    "texts = [['human', 'interface', 'computer'],\n",
    " ['survey', 'user', 'computer', 'system', 'response', 'time'],\n",
    " ['eps', 'user', 'interface', 'system'],\n",
    " ['system', 'human', 'system', 'eps'],\n",
    " ['user', 'response', 'time'],\n",
    " ['trees'],\n",
    " ['graph', 'trees'],\n",
    " ['graph', 'minors', 'trees'],\n",
    " ['graph', 'minors', 'survey']]\n",
    "\n",
    "author2doc = {'john': [0, 1, 2, 3, 4, 5, 6], 'jane': [2, 3, 4, 5, 6, 7, 8], 'jack': [0, 2, 4, 6, 8], 'jill': [1, 3, 5, 7]}\n",
    "doc2author = {0: ['john', 'jack'], 1: ['john', 'jill'], 2: ['john', 'jane', 'jack'], 3: ['john', 'jane', 'jill'],\n",
    "        4: ['john', 'jane', 'jack'], 5: ['john', 'jane', 'jill'], 6: ['john', 'jane', 'jack'], 7: ['jane', 'jill'],\n",
    "        8: ['jane', 'jack']}\n"
   ]
  },
  {
   "cell_type": "code",
   "execution_count": 420,
   "metadata": {
    "collapsed": true
   },
   "outputs": [],
   "source": [
    "dictionary = Dictionary(texts)\n",
    "corpus = [dictionary.doc2bow(text) for text in texts]"
   ]
  },
  {
   "cell_type": "code",
   "execution_count": 504,
   "metadata": {
    "collapsed": false
   },
   "outputs": [],
   "source": [
    "model = AuthorTopicModel(corpus, author2doc=author2doc, doc2author=None, id2word=dictionary, num_topics=2)\n",
    "\n"
   ]
  },
  {
   "cell_type": "code",
   "execution_count": 505,
   "metadata": {
    "collapsed": true
   },
   "outputs": [],
   "source": [
    "jill_topics = model.get_author_topics(model.author2id['jill'])\n"
   ]
  },
  {
   "cell_type": "code",
   "execution_count": null,
   "metadata": {
    "collapsed": true
   },
   "outputs": [],
   "source": []
  }
 ],
 "metadata": {
  "kernelspec": {
   "display_name": "Python 3",
   "language": "python",
   "name": "python3"
  },
  "language_info": {
   "codemirror_mode": {
    "name": "ipython",
    "version": 3
   },
   "file_extension": ".py",
   "mimetype": "text/x-python",
   "name": "python",
   "nbconvert_exporter": "python",
   "pygments_lexer": "ipython3",
   "version": "3.5.2"
  }
 },
 "nbformat": 4,
 "nbformat_minor": 1
}
