{
 "cells": [
  {
   "cell_type": "markdown",
   "metadata": {
    "collapsed": false
   },
   "source": [
    "# Table of Contents\n",
    " <p><div class=\"lev1\"><a href=\"#Supervised-Topic-Model\"><span class=\"toc-item-num\">1 - </span>Supervised Topic Model</a></div><div class=\"lev2\"><a href=\"#Read-and-tokenize-moview-review-dataset\"><span class=\"toc-item-num\">1.1 - </span>Read and tokenize moview review dataset</a></div><div class=\"lev2\"><a href=\"#Infer-topics-with-SupervisedLDA\"><span class=\"toc-item-num\">1.2 - </span>Infer topics with SupervisedLDA</a></div>"
   ]
  },
  {
   "cell_type": "markdown",
   "metadata": {
    "collapsed": false
   },
   "source": [
    "# Supervised Topic Model"
   ]
  },
  {
   "cell_type": "markdown",
   "metadata": {
    "collapsed": false
   },
   "source": [
    "Supervised topic models are a special type of topic modelling algorithms which was proposed by Blei and McAuliffe(see [https://arxiv.org/pdf/1003.0783.pdf](https://arxiv.org/pdf/1003.0783.pdf)) which uses a response variable associated with the topics to create a topic matrix associated with the response variable, as opposed to LDA, which creates topic-word associations.\n",
    "\n",
    "The difference between sLDA and LDA is the use of response variable, which can come from reviews, likes, retweets etc.\n",
    "\n",
    "This notebook shows an example of supervised topic model with the dataset provided by [Bo Pang](https://www.cs.cornell.edu/people/pabo/movie-review-data/)"
   ]
  },
  {
   "cell_type": "code",
   "execution_count": 11,
   "metadata": {
    "collapsed": false
   },
   "outputs": [
   ],
   "source": [
    "import numpy as np\n",
    "import matplotlib.pyplot as plt\n",
    "\n",
    "%matplotlib inline"
   ]
  },
  {
   "cell_type": "markdown",
   "metadata": {
    "collapsed": false
   },
   "source": [
    "# Read and tokenize moview review dataset"
   ]
  },
  {
   "cell_type": "code",
   "execution_count": 12,
   "metadata": {
    "collapsed": false
   },
   "outputs": [
   ],
   "source": [
    "rating_file = 'datasets/Pang_review/rating.Dennis+Schwartz'\n",
    "review_file = 'datasets/Pang_review/subj.Dennis+Schwartz'\n",
    "with open(rating_file, 'r') as f:\n",
    "    ratings = np.array([float(line.strip()) for line in f.readlines()])\n",
    "with open(review_file, 'r') as f:\n",
    "    reviews = [line for line in f.readlines()]"
   ]
  },
  {
   "cell_type": "markdown",
   "metadata": {
    "collapsed": false
   },
   "source": [
    "## Show a distribution of ratings"
   ]
  },
  {
   "cell_type": "code",
   "execution_count": 13,
   "metadata": {
    "collapsed": false
   },
   "outputs": [
    {
     "data": {
      "image/png": "[encoded data removed]"
     },
     "execution_count": 13,
     "metadata": {
     },
     "output_type": "execute_result"
    },
    {
     "name": "stdout",
     "output_type": "stream",
     "text": [
      "max rating 0.9 \tmin rating 0.1\n"
     ]
    }
   ],
   "source": [
    "plt.hist(ratings, bins=9)\n",
    "plt.show()\n",
    "print('max rating', np.max(ratings), '\\tmin rating', np.min(ratings))"
   ]
  },
  {
   "cell_type": "code",
   "execution_count": 0,
   "metadata": {
    "collapsed": false
   },
   "outputs": [
   ],
   "source": [
   ]
  }
 ],
 "metadata": {
  "kernelspec": {
   "display_name": "Python 3 (Anaconda)",
   "language": "python",
   "name": "anaconda3"
  }
 },
 "nbformat": 4,
 "nbformat_minor": 0
}
