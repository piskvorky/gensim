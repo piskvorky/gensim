{
  "cells": [
    {
      "cell_type": "code",
      "execution_count": null,
      "metadata": {
        "collapsed": false
      },
      "outputs": [],
      "source": [
        "%matplotlib inline"
      ]
    },
    {
      "cell_type": "markdown",
      "metadata": {},
      "source": [
        "\n\nHow to Play with the Examples via Binder\n========================================\n\nIf you don't have Jupyter installed locally, you can still play with the examples provided in the ``gensim`` documentation using Binder.\n"
      ]
    },
    {
      "cell_type": "code",
      "execution_count": null,
      "metadata": {
        "collapsed": false
      },
      "outputs": [],
      "source": [
        "import os.path"
      ]
    },
    {
      "cell_type": "markdown",
      "metadata": {},
      "source": [
        "`Binder <https://mybinder.org>`__ is a free platform that enables you to run\npublicly available Jupyter notebooks, including all the ``gensim`` examples.\n\nTo start, point your browser `here <https://mybinder.org/v2/gh/mpenkov/gensim/numfocus?filepath=docs/src/auto_examples/>`__.\nThis will instruct Binder to set up a virtual environment to use with the examples.\nBinder will automatically pick up the required dependencies via the :file:`requirements.txt` at the top level of our git repository.\n\n.. Important::\n  It takes a few minutes to set up the virtual environment.\n\nOnce the environment is ready, you will see a collection of Jupyter notebooks.\n\n- 000_core: core tutorials\n- 010_tutorials: tutorials\n- 020_howtos: how-to guides\n\n"
      ]
    },
    {
      "cell_type": "code",
      "execution_count": null,
      "metadata": {
        "collapsed": false
      },
      "outputs": [],
      "source": [
        "def extract_title(path):\n    with open(path) as fin:\n        lines = [l for l in fin]\n    for i, l in enumerate(lines):\n        if l.startswith('=') and l.endswith('=\\n'):\n            return lines[i - 1].strip()\n\nfor subdir in ('000_core', '010_tutorials', '020_howtos'):\n    for script in sorted(os.listdir(os.path.join('..', subdir))):\n        if not script.endswith('.py'):\n            continue\n        path = os.path.join('..', subdir, script)\n        title = extract_title(path)\n        print(path)\n        print('\\t' + title)\n    print()"
      ]
    },
    {
      "cell_type": "markdown",
      "metadata": {},
      "source": [
        "Find the notebook you're interested in and click on it.\nA new browser tab will open.\nYou can now play with the example the same way you would with a local Jupyter notebook, e.g. edit code, run everything via Kernel/Restart & Run All, etc.\n\n.. Important::\n  Avoid setting up more than virtual environment.\n  You can reuse the same environment for multiple examples.\n\n.. Important::\n  The virtual hardware provided by Binder may not be sufficient to run **all** the examples.\n  If a particular example requires gigabytes of memory or many CPU cycles, consider running it locally.\n\n"
      ]
    }
  ],
  "metadata": {
    "kernelspec": {
      "display_name": "Python 3",
      "language": "python",
      "name": "python3"
    },
    "language_info": {
      "codemirror_mode": {
        "name": "ipython",
        "version": 3
      },
      "file_extension": ".py",
      "mimetype": "text/x-python",
      "name": "python",
      "nbconvert_exporter": "python",
      "pygments_lexer": "ipython3",
      "version": "3.7.1"
    }
  },
  "nbformat": 4,
  "nbformat_minor": 0
}