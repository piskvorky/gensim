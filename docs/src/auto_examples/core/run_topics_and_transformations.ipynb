{
  "cells": [
    {
      "cell_type": "code",
      "execution_count": null,
      "metadata": {
        "collapsed": false
      },
      "outputs": [],
      "source": [
        "%matplotlib inline"
      ]
    },
    {
      "cell_type": "markdown",
      "metadata": {},
      "source": [
        "\nTopics and Transformations\n===========================\n\nIntroduces transformations and demonstrates their use on a toy corpus.\n\n"
      ]
    },
    {
      "cell_type": "code",
      "execution_count": null,
      "metadata": {
        "collapsed": false
      },
      "outputs": [],
      "source": [
        "import logging\nlogging.basicConfig(format='%(asctime)s : %(levelname)s : %(message)s', level=logging.INFO)"
      ]
    },
    {
      "cell_type": "markdown",
      "metadata": {},
      "source": [
        "In this tutorial, I will show how to transform documents from one vector representation\ninto another. This process serves two goals:\n\n1. To bring out hidden structure in the corpus, discover relationships between\n   words and use them to describe the documents in a new and\n   (hopefully) more semantic way.\n2. To make the document representation more compact. This both improves efficiency\n   (new representation consumes less resources) and efficacy (marginal data\n   trends are ignored, noise-reduction).\n\nCreating the Corpus\n-------------------\n\nFirst, we need to create a corpus to work with.\nThis step is the same as in the previous tutorial;\nif you completed it, feel free to skip to the next section.\n\n"
      ]
    },
    {
      "cell_type": "code",
      "execution_count": null,
      "metadata": {
        "collapsed": false
      },
      "outputs": [],
      "source": [
        "from collections import defaultdict\nfrom gensim import corpora\n\ndocuments = [\n    \"Human machine interface for lab abc computer applications\",\n    \"A survey of user opinion of computer system response time\",\n    \"The EPS user interface management system\",\n    \"System and human system engineering testing of EPS\",\n    \"Relation of user perceived response time to error measurement\",\n    \"The generation of random binary unordered trees\",\n    \"The intersection graph of paths in trees\",\n    \"Graph minors IV Widths of trees and well quasi ordering\",\n    \"Graph minors A survey\",\n]\n\n# remove common words and tokenize\nstoplist = set('for a of the and to in'.split())\ntexts = [\n    [word for word in document.lower().split() if word not in stoplist]\n    for document in documents\n]\n\n# remove words that appear only once\nfrequency = defaultdict(int)\nfor text in texts:\n    for token in text:\n        frequency[token] += 1\n\ntexts = [\n    [token for token in text if frequency[token] > 1]\n    for text in texts\n]\n\ndictionary = corpora.Dictionary(texts)\ncorpus = [dictionary.doc2bow(text) for text in texts]"
      ]
    },
    {
      "cell_type": "markdown",
      "metadata": {},
      "source": [
        "Creating a transformation\n++++++++++++++++++++++++++\n\nThe transformations are standard Python objects, typically initialized by means of\na :dfn:`training corpus`:\n\n\n"
      ]
    },
    {
      "cell_type": "code",
      "execution_count": null,
      "metadata": {
        "collapsed": false
      },
      "outputs": [],
      "source": [
        "from gensim import models\n\ntfidf = models.TfidfModel(corpus)  # step 1 -- initialize a model"
      ]
    },
    {
      "cell_type": "markdown",
      "metadata": {},
      "source": [
        "We used our old corpus from tutorial 1 to initialize (train) the transformation model. Different\ntransformations may require different initialization parameters; in case of TfIdf, the\n\"training\" consists simply of going through the supplied corpus once and computing document frequencies\nof all its features. Training other models, such as Latent Semantic Analysis or Latent Dirichlet\nAllocation, is much more involved and, consequently, takes much more time.\n\n<div class=\"alert alert-info\"><h4>Note</h4><p>Transformations always convert between two specific vector\n  spaces. The same vector space (= the same set of feature ids) must be used for training\n  as well as for subsequent vector transformations. Failure to use the same input\n  feature space, such as applying a different string preprocessing, using different\n  feature ids, or using bag-of-words input vectors where TfIdf vectors are expected, will\n  result in feature mismatch during transformation calls and consequently in either\n  garbage output and/or runtime exceptions.</p></div>\n\n\nTransforming vectors\n+++++++++++++++++++++\n\nFrom now on, ``tfidf`` is treated as a read-only object that can be used to convert\nany vector from the old representation (bag-of-words integer counts) to the new representation\n(TfIdf real-valued weights):\n\n"
      ]
    },
    {
      "cell_type": "code",
      "execution_count": null,
      "metadata": {
        "collapsed": false
      },
      "outputs": [],
      "source": [
        "doc_bow = [(0, 1), (1, 1)]\nprint(tfidf[doc_bow])  # step 2 -- use the model to transform vectors"
      ]
    },
    {
      "cell_type": "markdown",
      "metadata": {},
      "source": [
        "Or to apply a transformation to a whole corpus:\n\n"
      ]
    },
    {
      "cell_type": "code",
      "execution_count": null,
      "metadata": {
        "collapsed": false
      },
      "outputs": [],
      "source": [
        "corpus_tfidf = tfidf[corpus]\nfor doc in corpus_tfidf:\n    print(doc)"
      ]
    },
    {
      "cell_type": "markdown",
      "metadata": {},
      "source": [
        "In this particular case, we are transforming the same corpus that we used\nfor training, but this is only incidental. Once the transformation model has been initialized,\nit can be used on any vectors (provided they come from the same vector space, of course),\neven if they were not used in the training corpus at all. This is achieved by a process called\nfolding-in for LSA, by topic inference for LDA etc.\n\n<div class=\"alert alert-info\"><h4>Note</h4><p>Calling ``model[corpus]`` only creates a wrapper around the old ``corpus``\n  document stream -- actual conversions are done on-the-fly, during document iteration.\n  We cannot convert the entire corpus at the time of calling ``corpus_transformed = model[corpus]``,\n  because that would mean storing the result in main memory, and that contradicts gensim's objective of memory-indepedence.\n  If you will be iterating over the transformed ``corpus_transformed`` multiple times, and the\n  transformation is costly, `serialize the resulting corpus to disk first <corpus-formats>` and continue\n  using that.</p></div>\n\nTransformations can also be serialized, one on top of another, in a sort of chain:\n\n"
      ]
    },
    {
      "cell_type": "code",
      "execution_count": null,
      "metadata": {
        "collapsed": false
      },
      "outputs": [],
      "source": [
        "lsi_model = models.LsiModel(corpus_tfidf, id2word=dictionary, num_topics=2)  # initialize an LSI transformation\ncorpus_lsi = lsi_model[corpus_tfidf]  # create a double wrapper over the original corpus: bow->tfidf->fold-in-lsi"
      ]
    },
    {
      "cell_type": "markdown",
      "metadata": {},
      "source": [
        "Here we transformed our Tf-Idf corpus via `Latent Semantic Indexing <http://en.wikipedia.org/wiki/Latent_semantic_indexing>`_\ninto a latent 2-D space (2-D because we set ``num_topics=2``). Now you're probably wondering: what do these two latent\ndimensions stand for? Let's inspect with :func:`models.LsiModel.print_topics`:\n\n"
      ]
    },
    {
      "cell_type": "code",
      "execution_count": null,
      "metadata": {
        "collapsed": false
      },
      "outputs": [],
      "source": [
        "lsi_model.print_topics(2)"
      ]
    },
    {
      "cell_type": "markdown",
      "metadata": {},
      "source": [
        "(the topics are printed to log -- see the note at the top of this page about activating\nlogging)\n\nIt appears that according to LSI, \"trees\", \"graph\" and \"minors\" are all related\nwords (and contribute the most to the direction of the first topic), while the\nsecond topic practically concerns itself with all the other words. As expected,\nthe first five documents are more strongly related to the second topic while the\nremaining four documents to the first topic:\n\n"
      ]
    },
    {
      "cell_type": "code",
      "execution_count": null,
      "metadata": {
        "collapsed": false
      },
      "outputs": [],
      "source": [
        "# both bow->tfidf and tfidf->lsi transformations are actually executed here, on the fly\nfor doc, as_text in zip(corpus_lsi, documents):\n    print(doc, as_text)"
      ]
    },
    {
      "cell_type": "markdown",
      "metadata": {},
      "source": [
        "Model persistency is achieved with the :func:`save` and :func:`load` functions:\n\n"
      ]
    },
    {
      "cell_type": "code",
      "execution_count": null,
      "metadata": {
        "collapsed": false
      },
      "outputs": [],
      "source": [
        "import os\nimport tempfile\n\nwith tempfile.NamedTemporaryFile(prefix='model-', suffix='.lsi', delete=False) as tmp:\n    lsi_model.save(tmp.name)  # same for tfidf, lda, ...\n\nloaded_lsi_model = models.LsiModel.load(tmp.name)\n\nos.unlink(tmp.name)"
      ]
    },
    {
      "cell_type": "markdown",
      "metadata": {},
      "source": [
        "The next question might be: just how exactly similar are those documents to each other?\nIs there a way to formalize the similarity, so that for a given input document, we can\norder some other set of documents according to their similarity? Similarity queries\nare covered in the next tutorial (`sphx_glr_auto_examples_core_run_similarity_queries.py`).\n\n\nAvailable transformations\n--------------------------\n\nGensim implements several popular Vector Space Model algorithms:\n\n* `Term Frequency * Inverse Document Frequency, Tf-Idf <http://en.wikipedia.org/wiki/Tf%E2%80%93idf>`_\n  expects a bag-of-words (integer values) training corpus during initialization.\n  During transformation, it will take a vector and return another vector of the\n  same dimensionality, except that features which were rare in the training corpus\n  will have their value increased.\n  It therefore converts integer-valued vectors into real-valued ones, while leaving\n  the number of dimensions intact. It can also optionally normalize the resulting\n  vectors to (Euclidean) unit length.\n\n .. sourcecode:: pycon\n\n    model = models.TfidfModel(corpus, normalize=True)\n\n* `Latent Semantic Indexing, LSI (or sometimes LSA) <http://en.wikipedia.org/wiki/Latent_semantic_indexing>`_\n  transforms documents from either bag-of-words or (preferrably) TfIdf-weighted space into\n  a latent space of a lower dimensionality. For the toy corpus above we used only\n  2 latent dimensions, but on real corpora, target dimensionality of 200--500 is recommended\n  as a \"golden standard\" [1]_.\n\n  .. sourcecode:: pycon\n\n    model = models.LsiModel(tfidf_corpus, id2word=dictionary, num_topics=300)\n\n  LSI training is unique in that we can continue \"training\" at any point, simply\n  by providing more training documents. This is done by incremental updates to\n  the underlying model, in a process called `online training`. Because of this feature, the\n  input document stream may even be infinite -- just keep feeding LSI new documents\n  as they arrive, while using the computed transformation model as read-only in the meanwhile!\n\n  .. sourcecode:: pycon\n\n    model.add_documents(another_tfidf_corpus)  # now LSI has been trained on tfidf_corpus + another_tfidf_corpus\n    lsi_vec = model[tfidf_vec]  # convert some new document into the LSI space, without affecting the model\n\n    model.add_documents(more_documents)  # tfidf_corpus + another_tfidf_corpus + more_documents\n    lsi_vec = model[tfidf_vec]\n\n  See the :mod:`gensim.models.lsimodel` documentation for details on how to make\n  LSI gradually \"forget\" old observations in infinite streams. If you want to get dirty,\n  there are also parameters you can tweak that affect speed vs. memory footprint vs. numerical\n  precision of the LSI algorithm.\n\n  `gensim` uses a novel online incremental streamed distributed training algorithm (quite a mouthful!),\n  which I published in [5]_. `gensim` also executes a stochastic multi-pass algorithm\n  from Halko et al. [4]_ internally, to accelerate in-core part\n  of the computations.\n  See also `wiki` for further speed-ups by distributing the computation across\n  a cluster of computers.\n\n* `Random Projections, RP <http://www.cis.hut.fi/ella/publications/randproj_kdd.pdf>`_ aim to\n  reduce vector space dimensionality. This is a very efficient (both memory- and\n  CPU-friendly) approach to approximating TfIdf distances between documents, by throwing in a little randomness.\n  Recommended target dimensionality is again in the hundreds/thousands, depending on your dataset.\n\n  .. sourcecode:: pycon\n\n    model = models.RpModel(tfidf_corpus, num_topics=500)\n\n* `Latent Dirichlet Allocation, LDA <http://en.wikipedia.org/wiki/Latent_Dirichlet_allocation>`_\n  is yet another transformation from bag-of-words counts into a topic space of lower\n  dimensionality. LDA is a probabilistic extension of LSA (also called multinomial PCA),\n  so LDA's topics can be interpreted as probability distributions over words. These distributions are,\n  just like with LSA, inferred automatically from a training corpus. Documents\n  are in turn interpreted as a (soft) mixture of these topics (again, just like with LSA).\n\n  .. sourcecode:: pycon\n\n    model = models.LdaModel(corpus, id2word=dictionary, num_topics=100)\n\n  `gensim` uses a fast implementation of online LDA parameter estimation based on [2]_,\n  modified to run in `distributed mode <distributed>` on a cluster of computers.\n\n* `Hierarchical Dirichlet Process, HDP <http://jmlr.csail.mit.edu/proceedings/papers/v15/wang11a/wang11a.pdf>`_\n  is a non-parametric bayesian method (note the missing number of requested topics):\n\n  .. sourcecode:: pycon\n\n    model = models.HdpModel(corpus, id2word=dictionary)\n\n  `gensim` uses a fast, online implementation based on [3]_.\n  The HDP model is a new addition to `gensim`, and still rough around its academic edges -- use with care.\n\nAdding new :abbr:`VSM (Vector Space Model)` transformations (such as different weighting schemes) is rather trivial;\nsee the `apiref` or directly the `Python code <https://github.com/piskvorky/gensim/blob/develop/gensim/models/tfidfmodel.py>`_\nfor more info and examples.\n\nIt is worth repeating that these are all unique, **incremental** implementations,\nwhich do not require the whole training corpus to be present in main memory all at once.\nWith memory taken care of, I am now improving `distributed`,\nto improve CPU efficiency, too.\nIf you feel you could contribute by testing, providing use-cases or code, see the `Gensim Developer guide <https://github.com/RaRe-Technologies/gensim/wiki/Developer-page>`__.\n\nWhat Next?\n----------\n\nContinue on to the next tutorial on `sphx_glr_auto_examples_core_run_similarity_queries.py`.\n\nReferences\n----------\n\n.. [1] Bradford. 2008. An empirical study of required dimensionality for large-scale latent semantic indexing applications.\n\n.. [2] Hoffman, Blei, Bach. 2010. Online learning for Latent Dirichlet Allocation.\n\n.. [3] Wang, Paisley, Blei. 2011. Online variational inference for the hierarchical Dirichlet process.\n\n.. [4] Halko, Martinsson, Tropp. 2009. Finding structure with randomness.\n\n.. [5] \u0158eh\u016f\u0159ek. 2011. Subspace tracking for Latent Semantic Analysis.\n\n"
      ]
    },
    {
      "cell_type": "code",
      "execution_count": null,
      "metadata": {
        "collapsed": false
      },
      "outputs": [],
      "source": [
        "import matplotlib.pyplot as plt\nimport matplotlib.image as mpimg\nimg = mpimg.imread('run_topics_and_transformations.png')\nimgplot = plt.imshow(img)\nplt.axis('off')\nplt.show()"
      ]
    }
  ],
  "metadata": {
    "kernelspec": {
      "display_name": "Python 3",
      "language": "python",
      "name": "python3"
    },
    "language_info": {
      "codemirror_mode": {
        "name": "ipython",
        "version": 3
      },
      "file_extension": ".py",
      "mimetype": "text/x-python",
      "name": "python",
      "nbconvert_exporter": "python",
      "pygments_lexer": "ipython3",
      "version": "3.6.8"
    }
  },
  "nbformat": 4,
  "nbformat_minor": 0
}