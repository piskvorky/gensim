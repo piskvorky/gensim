{
  "cells": [
    {
      "cell_type": "code",
      "execution_count": null,
      "metadata": {
        "collapsed": false
      },
      "outputs": [],
      "source": [
        "%matplotlib inline"
      ]
    },
    {
      "cell_type": "markdown",
      "metadata": {},
      "source": [
        "\nSimilarity Queries\n==================\n\nDemonstrates querying a corpus for similar documents.\n\n"
      ]
    },
    {
      "cell_type": "code",
      "execution_count": null,
      "metadata": {
        "collapsed": false
      },
      "outputs": [],
      "source": [
        "import logging\nlogging.basicConfig(format='%(asctime)s : %(levelname)s : %(message)s', level=logging.INFO)"
      ]
    },
    {
      "cell_type": "markdown",
      "metadata": {},
      "source": [
        "Creating the Corpus\n-------------------\n\nFirst, we need to create a corpus to work with.\nThis step is the same as in the previous tutorial;\nif you completed it, feel free to skip to the next section.\n\n"
      ]
    },
    {
      "cell_type": "code",
      "execution_count": null,
      "metadata": {
        "collapsed": false
      },
      "outputs": [],
      "source": [
        "from collections import defaultdict\nfrom gensim import corpora\n\ndocuments = [\n    \"Human machine interface for lab abc computer applications\",\n    \"A survey of user opinion of computer system response time\",\n    \"The EPS user interface management system\",\n    \"System and human system engineering testing of EPS\",\n    \"Relation of user perceived response time to error measurement\",\n    \"The generation of random binary unordered trees\",\n    \"The intersection graph of paths in trees\",\n    \"Graph minors IV Widths of trees and well quasi ordering\",\n    \"Graph minors A survey\",\n]\n\n# remove common words and tokenize\nstoplist = set('for a of the and to in'.split())\ntexts = [\n    [word for word in document.lower().split() if word not in stoplist]\n    for document in documents\n]\n\n# remove words that appear only once\nfrequency = defaultdict(int)\nfor text in texts:\n    for token in text:\n        frequency[token] += 1\n\ntexts = [\n    [token for token in text if frequency[token] > 1]\n    for text in texts\n]\n\ndictionary = corpora.Dictionary(texts)\ncorpus = [dictionary.doc2bow(text) for text in texts]"
      ]
    },
    {
      "cell_type": "markdown",
      "metadata": {},
      "source": [
        "Similarity interface\n--------------------\n\nIn the previous tutorials on\n`sphx_glr_auto_examples_core_run_corpora_and_vector_spaces.py`\nand\n`sphx_glr_auto_examples_core_run_topics_and_transformations.py`,\nwe covered what it means to create a corpus in the Vector Space Model and how\nto transform it between different vector spaces. A common reason for such a\ncharade is that we want to determine **similarity between pairs of\ndocuments**, or the **similarity between a specific document and a set of\nother documents** (such as a user query vs. indexed documents).\n\nTo show how this can be done in gensim, let us consider the same corpus as in the\nprevious examples (which really originally comes from Deerwester et al.'s\n`\"Indexing by Latent Semantic Analysis\" <http://www.cs.bham.ac.uk/~pxt/IDA/lsa_ind.pdf>`_\nseminal 1990 article).\nTo follow Deerwester's example, we first use this tiny corpus to define a 2-dimensional\nLSI space:\n\n"
      ]
    },
    {
      "cell_type": "code",
      "execution_count": null,
      "metadata": {
        "collapsed": false
      },
      "outputs": [],
      "source": [
        "from gensim import models\nlsi = models.LsiModel(corpus, id2word=dictionary, num_topics=2)"
      ]
    },
    {
      "cell_type": "markdown",
      "metadata": {},
      "source": [
        "For the purposes of this tutorial, there are only two things you need to know about LSI.\nFirst, it's just another transformation: it transforms vectors from one space to another.\nSecond, the benefit of LSI is that enables identifying patterns and relationships between terms (in our case, words in a document) and topics.\nOur LSI space is two-dimensional (`num_topics = 2`) so there are two topics, but this is arbitrary.\nIf you're interested, you can read more about LSI here: `Latent Semantic Indexing <https://en.wikipedia.org/wiki/Latent_semantic_indexing>`_:\n\nNow suppose a user typed in the query `\"Human computer interaction\"`. We would\nlike to sort our nine corpus documents in decreasing order of relevance to this query.\nUnlike modern search engines, here we only concentrate on a single aspect of possible\nsimilarities---on apparent semantic relatedness of their texts (words). No hyperlinks,\nno random-walk static ranks, just a semantic extension over the boolean keyword match:\n\n"
      ]
    },
    {
      "cell_type": "code",
      "execution_count": null,
      "metadata": {
        "collapsed": false
      },
      "outputs": [],
      "source": [
        "doc = \"Human computer interaction\"\nvec_bow = dictionary.doc2bow(doc.lower().split())\nvec_lsi = lsi[vec_bow]  # convert the query to LSI space\nprint(vec_lsi)"
      ]
    },
    {
      "cell_type": "markdown",
      "metadata": {},
      "source": [
        "In addition, we will be considering `cosine similarity <http://en.wikipedia.org/wiki/Cosine_similarity>`_\nto determine the similarity of two vectors. Cosine similarity is a standard measure\nin Vector Space Modeling, but wherever the vectors represent probability distributions,\n`different similarity measures <http://en.wikipedia.org/wiki/Kullback%E2%80%93Leibler_divergence#Symmetrised_divergence>`_\nmay be more appropriate.\n\nInitializing query structures\n++++++++++++++++++++++++++++++++\n\nTo prepare for similarity queries, we need to enter all documents which we want\nto compare against subsequent queries. In our case, they are the same nine documents\nused for training LSI, converted to 2-D LSA space. But that's only incidental, we\nmight also be indexing a different corpus altogether.\n\n"
      ]
    },
    {
      "cell_type": "code",
      "execution_count": null,
      "metadata": {
        "collapsed": false
      },
      "outputs": [],
      "source": [
        "from gensim import similarities\nindex = similarities.MatrixSimilarity(lsi[corpus])  # transform corpus to LSI space and index it"
      ]
    },
    {
      "cell_type": "markdown",
      "metadata": {},
      "source": [
        "<div class=\"alert alert-danger\"><h4>Warning</h4><p>The class :class:`similarities.MatrixSimilarity` is only appropriate when the whole\n  set of vectors fits into memory. For example, a corpus of one million documents\n  would require 2GB of RAM in a 256-dimensional LSI space, when used with this class.\n\n  Without 2GB of free RAM, you would need to use the :class:`similarities.Similarity` class.\n  This class operates in fixed memory, by splitting the index across multiple files on disk, called shards.\n  It uses :class:`similarities.MatrixSimilarity` and :class:`similarities.SparseMatrixSimilarity` internally,\n  so it is still fast, although slightly more complex.</p></div>\n\nIndex persistency is handled via the standard :func:`save` and :func:`load` functions:\n\n"
      ]
    },
    {
      "cell_type": "code",
      "execution_count": null,
      "metadata": {
        "collapsed": false
      },
      "outputs": [],
      "source": [
        "index.save('/tmp/deerwester.index')\nindex = similarities.MatrixSimilarity.load('/tmp/deerwester.index')"
      ]
    },
    {
      "cell_type": "markdown",
      "metadata": {},
      "source": [
        "This is true for all similarity indexing classes (:class:`similarities.Similarity`,\n:class:`similarities.MatrixSimilarity` and :class:`similarities.SparseMatrixSimilarity`).\nAlso in the following, `index` can be an object of any of these. When in doubt,\nuse :class:`similarities.Similarity`, as it is the most scalable version, and it also\nsupports adding more documents to the index later.\n\nPerforming queries\n++++++++++++++++++\n\nTo obtain similarities of our query document against the nine indexed documents:\n\n"
      ]
    },
    {
      "cell_type": "code",
      "execution_count": null,
      "metadata": {
        "collapsed": false
      },
      "outputs": [],
      "source": [
        "sims = index[vec_lsi]  # perform a similarity query against the corpus\nprint(list(enumerate(sims)))  # print (document_number, document_similarity) 2-tuples"
      ]
    },
    {
      "cell_type": "markdown",
      "metadata": {},
      "source": [
        "Cosine measure returns similarities in the range `<-1, 1>` (the greater, the more similar),\nso that the first document has a score of 0.99809301 etc.\n\nWith some standard Python magic we sort these similarities into descending\norder, and obtain the final answer to the query `\"Human computer interaction\"`:\n\n"
      ]
    },
    {
      "cell_type": "code",
      "execution_count": null,
      "metadata": {
        "collapsed": false
      },
      "outputs": [],
      "source": [
        "sims = sorted(enumerate(sims), key=lambda item: -item[1])\nfor doc_position, doc_score in sims:\n    print(doc_score, documents[doc_position])"
      ]
    },
    {
      "cell_type": "markdown",
      "metadata": {},
      "source": [
        "The thing to note here is that documents no. 2 (``\"The EPS user interface management system\"``)\nand 4 (``\"Relation of user perceived response time to error measurement\"``) would never be returned by\na standard boolean fulltext search, because they do not share any common words with ``\"Human\ncomputer interaction\"``. However, after applying LSI, we can observe that both of\nthem received quite high similarity scores (no. 2 is actually the most similar!),\nwhich corresponds better to our intuition of\nthem sharing a \"computer-human\" related topic with the query. In fact, this semantic\ngeneralization is the reason why we apply transformations and do topic modelling\nin the first place.\n\nWhere next?\n------------\n\nCongratulations, you have finished the tutorials -- now you know how gensim works :-)\nTo delve into more details, you can browse through the `apiref`,\nsee the `wiki` or perhaps check out `distributed` in `gensim`.\n\nGensim is a fairly mature package that has been used successfully by many individuals and companies, both for rapid prototyping and in production.\nThat doesn't mean it's perfect though:\n\n* there are parts that could be implemented more efficiently (in C, for example), or make better use of parallelism (multiple machines cores)\n* new algorithms are published all the time; help gensim keep up by `discussing them <http://groups.google.com/group/gensim>`_ and `contributing code <https://github.com/piskvorky/gensim/wiki/Developer-page>`_\n* your **feedback is most welcome** and appreciated (and it's not just the code!):\n  `bug reports <https://github.com/piskvorky/gensim/issues>`_ or\n  `user stories and general questions <http://groups.google.com/group/gensim/topics>`_.\n\nGensim has no ambition to become an all-encompassing framework, across all NLP (or even Machine Learning) subfields.\nIts mission is to help NLP practitioners try out popular topic modelling algorithms\non large datasets easily, and to facilitate prototyping of new algorithms for researchers.\n\n"
      ]
    },
    {
      "cell_type": "code",
      "execution_count": null,
      "metadata": {
        "collapsed": false
      },
      "outputs": [],
      "source": [
        "import matplotlib.pyplot as plt\nimport matplotlib.image as mpimg\nimg = mpimg.imread('run_similarity_queries.png')\nimgplot = plt.imshow(img)\nplt.axis('off')\nplt.show()"
      ]
    }
  ],
  "metadata": {
    "kernelspec": {
      "display_name": "Python 3",
      "language": "python",
      "name": "python3"
    },
    "language_info": {
      "codemirror_mode": {
        "name": "ipython",
        "version": 3
      },
      "file_extension": ".py",
      "mimetype": "text/x-python",
      "name": "python",
      "nbconvert_exporter": "python",
      "pygments_lexer": "ipython3",
      "version": "3.6.5"
    }
  },
  "nbformat": 4,
  "nbformat_minor": 0
}