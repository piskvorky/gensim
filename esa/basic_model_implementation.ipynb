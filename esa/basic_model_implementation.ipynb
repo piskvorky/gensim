{
 "cells": [
  {
   "cell_type": "code",
   "execution_count": 68,
   "metadata": {
    "collapsed": true
   },
   "outputs": [],
   "source": [
    "import pandas as pd\n",
    "import sklearn"
   ]
  },
  {
   "cell_type": "code",
   "execution_count": 125,
   "metadata": {},
   "outputs": [],
   "source": [
    "example_corpus= {\"fruitness\":\"I went to buy Orange and Apple apple from the grocery store\",\n",
    "    \"computer\": \"I want an Apple mobile\",\n",
    "    \"animal\": \"I want a cat\",\"exam\":\" I want to appear for cat\"}"
   ]
  },
  {
   "cell_type": "code",
   "execution_count": 82,
   "metadata": {
    "collapsed": true
   },
   "outputs": [],
   "source": [
    "cv = sklearn.feature_extraction.text.CountVectorizer(stop_words='english')"
   ]
  },
  {
   "cell_type": "code",
   "execution_count": 126,
   "metadata": {},
   "outputs": [],
   "source": [
    "array = cv.fit_transform(list(example_corpus.values())).toarray()"
   ]
  },
  {
   "cell_type": "code",
   "execution_count": 128,
   "metadata": {},
   "outputs": [
    {
     "data": {
      "text/plain": [
       "array([[0, 2, 1, 0, 1, 0, 1, 1, 0, 1],\n",
       "       [0, 1, 0, 0, 0, 1, 0, 0, 1, 0],\n",
       "       [1, 0, 0, 1, 0, 0, 0, 0, 1, 0],\n",
       "       [0, 0, 0, 1, 0, 0, 0, 0, 1, 0]])"
      ]
     },
     "execution_count": 128,
     "metadata": {},
     "output_type": "execute_result"
    }
   ],
   "source": [
    "array"
   ]
  },
  {
   "cell_type": "code",
   "execution_count": 129,
   "metadata": {},
   "outputs": [
    {
     "data": {
      "text/plain": [
       "[u'appear',\n",
       " u'apple',\n",
       " u'buy',\n",
       " u'cat',\n",
       " u'grocery',\n",
       " u'mobile',\n",
       " u'orange',\n",
       " u'store',\n",
       " u'want',\n",
       " u'went']"
      ]
     },
     "execution_count": 129,
     "metadata": {},
     "output_type": "execute_result"
    }
   ],
   "source": [
    "cv.get_feature_names()"
   ]
  },
  {
   "cell_type": "code",
   "execution_count": 130,
   "metadata": {},
   "outputs": [
    {
     "name": "stdout",
     "output_type": "stream",
     "text": [
      "[[0 2 1 0 1 0 1 1 0 1]\n",
      " [0 1 0 0 0 1 0 0 1 0]\n",
      " [1 0 0 1 0 0 0 0 1 0]\n",
      " [0 0 0 1 0 0 0 0 1 0]]\n",
      "[[ 0.  2.  1.  0.  1.  0.  1.  1.  0.  1.]\n",
      " [ 0.  1.  0.  0.  0.  1.  0.  0.  1.  0.]\n",
      " [ 1.  0.  0.  1.  0.  0.  0.  0.  1.  0.]\n",
      " [ 0.  0.  0.  1.  0.  0.  0.  0.  1.  0.]]\n"
     ]
    }
   ],
   "source": [
    "\n",
    "print array\n",
    "b = array.astype(float)\n",
    "print b\n",
    "import numpy as np"
   ]
  },
  {
   "cell_type": "code",
   "execution_count": 90,
   "metadata": {},
   "outputs": [
    {
     "name": "stdout",
     "output_type": "stream",
     "text": [
      "[[ 0.          0.28571429  0.14285714  0.          0.14285714  0.\n",
      "   0.14285714  0.14285714  0.          0.14285714]\n",
      " [ 0.          0.33333333  0.          0.          0.          0.33333333\n",
      "   0.          0.          0.33333333  0.        ]\n",
      " [ 0.33333333  0.          0.          0.33333333  0.          0.          0.\n",
      "   0.          0.33333333  0.        ]\n",
      " [ 0.          0.          0.          0.5         0.          0.          0.\n",
      "   0.          0.5         0.        ]]\n",
      "[[ 0.          0.          0.33333333  0.        ]\n",
      " [ 0.28571429  0.33333333  0.          0.        ]\n",
      " [ 0.14285714  0.          0.          0.        ]\n",
      " [ 0.          0.          0.33333333  0.5       ]\n",
      " [ 0.14285714  0.          0.          0.        ]\n",
      " [ 0.          0.33333333  0.          0.        ]\n",
      " [ 0.14285714  0.          0.          0.        ]\n",
      " [ 0.14285714  0.          0.          0.        ]\n",
      " [ 0.          0.33333333  0.33333333  0.5       ]\n",
      " [ 0.14285714  0.          0.          0.        ]]\n"
     ]
    }
   ],
   "source": [
    "c = a.toarray()/b.sum(axis=1).reshape(4,1)\n",
    "print c\n",
    "c = c.transpose()\n",
    "print c"
   ]
  },
  {
   "cell_type": "code",
   "execution_count": 91,
   "metadata": {},
   "outputs": [
    {
     "name": "stdout",
     "output_type": "stream",
     "text": [
      "         fruitness  computer      exam  animal\n",
      "appear    0.000000  0.000000  0.333333     0.0\n",
      "apple     0.285714  0.333333  0.000000     0.0\n",
      "buy       0.142857  0.000000  0.000000     0.0\n",
      "cat       0.000000  0.000000  0.333333     0.5\n",
      "grocery   0.142857  0.000000  0.000000     0.0\n",
      "mobile    0.000000  0.333333  0.000000     0.0\n",
      "orange    0.142857  0.000000  0.000000     0.0\n",
      "store     0.142857  0.000000  0.000000     0.0\n",
      "want      0.000000  0.333333  0.333333     0.5\n",
      "went      0.142857  0.000000  0.000000     0.0\n"
     ]
    }
   ],
   "source": [
    "data = pd.DataFrame(c,index=cv.get_feature_names(),columns=d.keys())\n",
    "print data"
   ]
  },
  {
   "cell_type": "code",
   "execution_count": 92,
   "metadata": {},
   "outputs": [
    {
     "data": {
      "text/html": [
       "<div>\n",
       "<style>\n",
       "    .dataframe thead tr:only-child th {\n",
       "        text-align: right;\n",
       "    }\n",
       "\n",
       "    .dataframe thead th {\n",
       "        text-align: left;\n",
       "    }\n",
       "\n",
       "    .dataframe tbody tr th {\n",
       "        vertical-align: top;\n",
       "    }\n",
       "</style>\n",
       "<table border=\"1\" class=\"dataframe\">\n",
       "  <thead>\n",
       "    <tr style=\"text-align: right;\">\n",
       "      <th></th>\n",
       "      <th>appear</th>\n",
       "      <th>apple</th>\n",
       "      <th>buy</th>\n",
       "      <th>cat</th>\n",
       "      <th>grocery</th>\n",
       "      <th>mobile</th>\n",
       "      <th>orange</th>\n",
       "      <th>store</th>\n",
       "      <th>want</th>\n",
       "      <th>went</th>\n",
       "    </tr>\n",
       "  </thead>\n",
       "  <tbody>\n",
       "    <tr>\n",
       "      <th>fruitness</th>\n",
       "      <td>0.000000</td>\n",
       "      <td>0.285714</td>\n",
       "      <td>0.142857</td>\n",
       "      <td>0.000000</td>\n",
       "      <td>0.142857</td>\n",
       "      <td>0.000000</td>\n",
       "      <td>0.142857</td>\n",
       "      <td>0.142857</td>\n",
       "      <td>0.000000</td>\n",
       "      <td>0.142857</td>\n",
       "    </tr>\n",
       "    <tr>\n",
       "      <th>computer</th>\n",
       "      <td>0.000000</td>\n",
       "      <td>0.333333</td>\n",
       "      <td>0.000000</td>\n",
       "      <td>0.000000</td>\n",
       "      <td>0.000000</td>\n",
       "      <td>0.333333</td>\n",
       "      <td>0.000000</td>\n",
       "      <td>0.000000</td>\n",
       "      <td>0.333333</td>\n",
       "      <td>0.000000</td>\n",
       "    </tr>\n",
       "    <tr>\n",
       "      <th>exam</th>\n",
       "      <td>0.333333</td>\n",
       "      <td>0.000000</td>\n",
       "      <td>0.000000</td>\n",
       "      <td>0.333333</td>\n",
       "      <td>0.000000</td>\n",
       "      <td>0.000000</td>\n",
       "      <td>0.000000</td>\n",
       "      <td>0.000000</td>\n",
       "      <td>0.333333</td>\n",
       "      <td>0.000000</td>\n",
       "    </tr>\n",
       "    <tr>\n",
       "      <th>animal</th>\n",
       "      <td>0.000000</td>\n",
       "      <td>0.000000</td>\n",
       "      <td>0.000000</td>\n",
       "      <td>0.500000</td>\n",
       "      <td>0.000000</td>\n",
       "      <td>0.000000</td>\n",
       "      <td>0.000000</td>\n",
       "      <td>0.000000</td>\n",
       "      <td>0.500000</td>\n",
       "      <td>0.000000</td>\n",
       "    </tr>\n",
       "  </tbody>\n",
       "</table>\n",
       "</div>"
      ],
      "text/plain": [
       "             appear     apple       buy       cat   grocery    mobile  \\\n",
       "fruitness  0.000000  0.285714  0.142857  0.000000  0.142857  0.000000   \n",
       "computer   0.000000  0.333333  0.000000  0.000000  0.000000  0.333333   \n",
       "exam       0.333333  0.000000  0.000000  0.333333  0.000000  0.000000   \n",
       "animal     0.000000  0.000000  0.000000  0.500000  0.000000  0.000000   \n",
       "\n",
       "             orange     store      want      went  \n",
       "fruitness  0.142857  0.142857  0.000000  0.142857  \n",
       "computer   0.000000  0.000000  0.333333  0.000000  \n",
       "exam       0.000000  0.000000  0.333333  0.000000  \n",
       "animal     0.000000  0.000000  0.500000  0.000000  "
      ]
     },
     "execution_count": 92,
     "metadata": {},
     "output_type": "execute_result"
    }
   ],
   "source": [
    "data.transpose()"
   ]
  },
  {
   "cell_type": "markdown",
   "metadata": {},
   "source": [
    "Discarded the count vectorizer approach as it doesn't take all count of all the words in all documents"
   ]
  },
  {
   "cell_type": "code",
   "execution_count": 94,
   "metadata": {
    "collapsed": true
   },
   "outputs": [],
   "source": [
    "tfidf = sklearn.feature_extraction.text.TfidfVectorizer(stop_words='english')"
   ]
  },
  {
   "cell_type": "code",
   "execution_count": 95,
   "metadata": {
    "collapsed": true
   },
   "outputs": [],
   "source": [
    "a1 = tfidf.fit_transform(list(d.values()))"
   ]
  },
  {
   "cell_type": "code",
   "execution_count": 105,
   "metadata": {},
   "outputs": [
    {
     "name": "stdout",
     "output_type": "stream",
     "text": [
      "[[ 0.          0.57629822  0.36548061  0.          0.36548061  0.\n",
      "   0.36548061  0.36548061  0.          0.36548061]\n",
      " [ 0.          0.55349232  0.          0.          0.          0.70203482\n",
      "   0.          0.          0.44809973  0.        ]\n",
      " [ 0.70203482  0.          0.          0.55349232  0.          0.          0.\n",
      "   0.          0.44809973  0.        ]\n",
      " [ 0.          0.          0.          0.77722116  0.          0.          0.\n",
      "   0.          0.62922751  0.        ]]\n"
     ]
    },
    {
     "data": {
      "text/plain": [
       "array([[ 0.        ,  0.23975451,  0.1520491 ,  0.        ,  0.1520491 ,\n",
       "         0.        ,  0.1520491 ,  0.1520491 ,  0.        ,  0.1520491 ],\n",
       "       [ 0.        ,  0.32489058,  0.        ,  0.        ,  0.        ,\n",
       "         0.4120825 ,  0.        ,  0.        ,  0.26302692,  0.        ],\n",
       "       [ 0.4120825 ,  0.        ,  0.        ,  0.32489058,  0.        ,\n",
       "         0.        ,  0.        ,  0.        ,  0.26302692,  0.        ],\n",
       "       [ 0.        ,  0.        ,  0.        ,  0.55261253,  0.        ,\n",
       "         0.        ,  0.        ,  0.        ,  0.44738747,  0.        ]])"
      ]
     },
     "execution_count": 105,
     "metadata": {},
     "output_type": "execute_result"
    }
   ],
   "source": [
    "c = a1.toarray()\n",
    "print c\n",
    "c = np.divide(c,c.sum(axis=1).reshape(4,1))\n",
    "c"
   ]
  },
  {
   "cell_type": "code",
   "execution_count": 106,
   "metadata": {},
   "outputs": [
    {
     "data": {
      "text/plain": [
       "[u'appear',\n",
       " u'apple',\n",
       " u'buy',\n",
       " u'cat',\n",
       " u'grocery',\n",
       " u'mobile',\n",
       " u'orange',\n",
       " u'store',\n",
       " u'want',\n",
       " u'went']"
      ]
     },
     "execution_count": 106,
     "metadata": {},
     "output_type": "execute_result"
    }
   ],
   "source": [
    "tfidf.get_feature_names()"
   ]
  },
  {
   "cell_type": "code",
   "execution_count": 121,
   "metadata": {},
   "outputs": [
    {
     "name": "stdout",
     "output_type": "stream",
     "text": [
      "             appear     apple       buy       cat   grocery    mobile  \\\n",
      "fruitness  0.000000  0.239755  0.152049  0.000000  0.152049  0.000000   \n",
      "computer   0.000000  0.324891  0.000000  0.000000  0.000000  0.412083   \n",
      "exam       0.412083  0.000000  0.000000  0.324891  0.000000  0.000000   \n",
      "animal     0.000000  0.000000  0.000000  0.552613  0.000000  0.000000   \n",
      "\n",
      "             orange     store      want      went  \n",
      "fruitness  0.152049  0.152049  0.000000  0.152049  \n",
      "computer   0.000000  0.000000  0.263027  0.000000  \n",
      "exam       0.000000  0.000000  0.263027  0.000000  \n",
      "animal     0.000000  0.000000  0.447387  0.000000  \n"
     ]
    }
   ],
   "source": [
    "data = pd.DataFrame(c,index=d.keys(),columns=cv.get_feature_names())\n",
    "print data"
   ]
  },
  {
   "cell_type": "code",
   "execution_count": 122,
   "metadata": {},
   "outputs": [
    {
     "data": {
      "text/html": [
       "<div>\n",
       "<style>\n",
       "    .dataframe thead tr:only-child th {\n",
       "        text-align: right;\n",
       "    }\n",
       "\n",
       "    .dataframe thead th {\n",
       "        text-align: left;\n",
       "    }\n",
       "\n",
       "    .dataframe tbody tr th {\n",
       "        vertical-align: top;\n",
       "    }\n",
       "</style>\n",
       "<table border=\"1\" class=\"dataframe\">\n",
       "  <thead>\n",
       "    <tr style=\"text-align: right;\">\n",
       "      <th></th>\n",
       "      <th>fruitness</th>\n",
       "      <th>computer</th>\n",
       "      <th>exam</th>\n",
       "      <th>animal</th>\n",
       "    </tr>\n",
       "  </thead>\n",
       "  <tbody>\n",
       "    <tr>\n",
       "      <th>appear</th>\n",
       "      <td>0.000000</td>\n",
       "      <td>0.000000</td>\n",
       "      <td>0.412083</td>\n",
       "      <td>0.000000</td>\n",
       "    </tr>\n",
       "    <tr>\n",
       "      <th>apple</th>\n",
       "      <td>0.239755</td>\n",
       "      <td>0.324891</td>\n",
       "      <td>0.000000</td>\n",
       "      <td>0.000000</td>\n",
       "    </tr>\n",
       "    <tr>\n",
       "      <th>buy</th>\n",
       "      <td>0.152049</td>\n",
       "      <td>0.000000</td>\n",
       "      <td>0.000000</td>\n",
       "      <td>0.000000</td>\n",
       "    </tr>\n",
       "    <tr>\n",
       "      <th>cat</th>\n",
       "      <td>0.000000</td>\n",
       "      <td>0.000000</td>\n",
       "      <td>0.324891</td>\n",
       "      <td>0.552613</td>\n",
       "    </tr>\n",
       "    <tr>\n",
       "      <th>grocery</th>\n",
       "      <td>0.152049</td>\n",
       "      <td>0.000000</td>\n",
       "      <td>0.000000</td>\n",
       "      <td>0.000000</td>\n",
       "    </tr>\n",
       "    <tr>\n",
       "      <th>mobile</th>\n",
       "      <td>0.000000</td>\n",
       "      <td>0.412083</td>\n",
       "      <td>0.000000</td>\n",
       "      <td>0.000000</td>\n",
       "    </tr>\n",
       "    <tr>\n",
       "      <th>orange</th>\n",
       "      <td>0.152049</td>\n",
       "      <td>0.000000</td>\n",
       "      <td>0.000000</td>\n",
       "      <td>0.000000</td>\n",
       "    </tr>\n",
       "    <tr>\n",
       "      <th>store</th>\n",
       "      <td>0.152049</td>\n",
       "      <td>0.000000</td>\n",
       "      <td>0.000000</td>\n",
       "      <td>0.000000</td>\n",
       "    </tr>\n",
       "    <tr>\n",
       "      <th>want</th>\n",
       "      <td>0.000000</td>\n",
       "      <td>0.263027</td>\n",
       "      <td>0.263027</td>\n",
       "      <td>0.447387</td>\n",
       "    </tr>\n",
       "    <tr>\n",
       "      <th>went</th>\n",
       "      <td>0.152049</td>\n",
       "      <td>0.000000</td>\n",
       "      <td>0.000000</td>\n",
       "      <td>0.000000</td>\n",
       "    </tr>\n",
       "  </tbody>\n",
       "</table>\n",
       "</div>"
      ],
      "text/plain": [
       "         fruitness  computer      exam    animal\n",
       "appear    0.000000  0.000000  0.412083  0.000000\n",
       "apple     0.239755  0.324891  0.000000  0.000000\n",
       "buy       0.152049  0.000000  0.000000  0.000000\n",
       "cat       0.000000  0.000000  0.324891  0.552613\n",
       "grocery   0.152049  0.000000  0.000000  0.000000\n",
       "mobile    0.000000  0.412083  0.000000  0.000000\n",
       "orange    0.152049  0.000000  0.000000  0.000000\n",
       "store     0.152049  0.000000  0.000000  0.000000\n",
       "want      0.000000  0.263027  0.263027  0.447387\n",
       "went      0.152049  0.000000  0.000000  0.000000"
      ]
     },
     "execution_count": 122,
     "metadata": {},
     "output_type": "execute_result"
    }
   ],
   "source": [
    "data.transpose()"
   ]
  },
  {
   "cell_type": "code",
   "execution_count": 123,
   "metadata": {},
   "outputs": [
    {
     "data": {
      "text/plain": [
       "fruitness    0.000000\n",
       "computer     0.000000\n",
       "exam         0.412083\n",
       "animal       0.000000\n",
       "Name: appear, dtype: float64"
      ]
     },
     "execution_count": 123,
     "metadata": {},
     "output_type": "execute_result"
    }
   ],
   "source": [
    "data['appear']"
   ]
  },
  {
   "cell_type": "code",
   "execution_count": 124,
   "metadata": {},
   "outputs": [
    {
     "data": {
      "text/plain": [
       "{u'appear': {'animal': 0.0,\n",
       "  'computer': 0.0,\n",
       "  'exam': 0.41208250080998421,\n",
       "  'fruitness': 0.0},\n",
       " u'apple': {'animal': 0.0,\n",
       "  'computer': 0.32489057687003392,\n",
       "  'exam': 0.0,\n",
       "  'fruitness': 0.23975451048392163},\n",
       " u'buy': {'animal': 0.0,\n",
       "  'computer': 0.0,\n",
       "  'exam': 0.0,\n",
       "  'fruitness': 0.15204909790321566},\n",
       " u'cat': {'animal': 0.55261253035951696,\n",
       "  'computer': 0.0,\n",
       "  'exam': 0.32489057687003392,\n",
       "  'fruitness': 0.0},\n",
       " u'grocery': {'animal': 0.0,\n",
       "  'computer': 0.0,\n",
       "  'exam': 0.0,\n",
       "  'fruitness': 0.15204909790321566},\n",
       " u'mobile': {'animal': 0.0,\n",
       "  'computer': 0.41208250080998421,\n",
       "  'exam': 0.0,\n",
       "  'fruitness': 0.0},\n",
       " u'orange': {'animal': 0.0,\n",
       "  'computer': 0.0,\n",
       "  'exam': 0.0,\n",
       "  'fruitness': 0.15204909790321566},\n",
       " u'store': {'animal': 0.0,\n",
       "  'computer': 0.0,\n",
       "  'exam': 0.0,\n",
       "  'fruitness': 0.15204909790321566},\n",
       " u'want': {'animal': 0.44738746964048304,\n",
       "  'computer': 0.26302692231998198,\n",
       "  'exam': 0.26302692231998198,\n",
       "  'fruitness': 0.0},\n",
       " u'went': {'animal': 0.0,\n",
       "  'computer': 0.0,\n",
       "  'exam': 0.0,\n",
       "  'fruitness': 0.15204909790321566}}"
      ]
     },
     "execution_count": 124,
     "metadata": {},
     "output_type": "execute_result"
    }
   ],
   "source": [
    "data.to_dict()"
   ]
  },
  {
   "cell_type": "markdown",
   "metadata": {},
   "source": [
    "TODO: 1. For a given test set (word,sentence,document) get the ranking of concepts\n",
    "      2. Find similarity between two words, sentence and document (using cosine product)"
   ]
  }
 ],
 "metadata": {
  "kernelspec": {
   "display_name": "Python 2",
   "language": "python",
   "name": "python2"
  },
  "language_info": {
   "codemirror_mode": {
    "name": "ipython",
    "version": 2
   },
   "file_extension": ".py",
   "mimetype": "text/x-python",
   "name": "python",
   "nbconvert_exporter": "python",
   "pygments_lexer": "ipython2",
   "version": "2.7.12"
  }
 },
 "nbformat": 4,
 "nbformat_minor": 2
}
