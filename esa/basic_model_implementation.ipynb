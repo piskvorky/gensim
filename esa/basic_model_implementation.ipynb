{
 "cells": [
  {
   "cell_type": "code",
   "execution_count": 68,
   "metadata": {
    "collapsed": true
   },
   "outputs": [],
   "source": [
    "import pandas as pd\n",
    "import sklearn"
   ]
  },
  {
   "cell_type": "code",
   "execution_count": 2,
   "metadata": {
    "collapsed": true
   },
   "outputs": [],
   "source": [
    "example_corpus= {\"fruitness\":\"I went to buy Orange and Apple apple from the grocery store\",\n",
    "    \"computer\": \"I want an Apple mobile\",\n",
    "    \"animal\": \"I want a cat\",\"exam\":\" I want to appear for cat\"}"
   ]
  },
  {
   "cell_type": "code",
   "execution_count": 82,
   "metadata": {
    "collapsed": true
   },
   "outputs": [],
   "source": [
    "cv = sklearn.feature_extraction.text.CountVectorizer(stop_words='english')"
   ]
  },
  {
   "cell_type": "code",
   "execution_count": 126,
   "metadata": {
    "collapsed": true
   },
   "outputs": [],
   "source": [
    "array = cv.fit_transform(list(example_corpus.values())).toarray()"
   ]
  },
  {
   "cell_type": "code",
   "execution_count": 128,
   "metadata": {},
   "outputs": [
    {
     "data": {
      "text/plain": [
       "array([[0, 2, 1, 0, 1, 0, 1, 1, 0, 1],\n",
       "       [0, 1, 0, 0, 0, 1, 0, 0, 1, 0],\n",
       "       [1, 0, 0, 1, 0, 0, 0, 0, 1, 0],\n",
       "       [0, 0, 0, 1, 0, 0, 0, 0, 1, 0]])"
      ]
     },
     "execution_count": 128,
     "metadata": {},
     "output_type": "execute_result"
    }
   ],
   "source": [
    "array"
   ]
  },
  {
   "cell_type": "code",
   "execution_count": 129,
   "metadata": {},
   "outputs": [
    {
     "data": {
      "text/plain": [
       "[u'appear',\n",
       " u'apple',\n",
       " u'buy',\n",
       " u'cat',\n",
       " u'grocery',\n",
       " u'mobile',\n",
       " u'orange',\n",
       " u'store',\n",
       " u'want',\n",
       " u'went']"
      ]
     },
     "execution_count": 129,
     "metadata": {},
     "output_type": "execute_result"
    }
   ],
   "source": [
    "cv.get_feature_names()"
   ]
  },
  {
   "cell_type": "code",
   "execution_count": 130,
   "metadata": {},
   "outputs": [
    {
     "name": "stdout",
     "output_type": "stream",
     "text": [
      "[[0 2 1 0 1 0 1 1 0 1]\n",
      " [0 1 0 0 0 1 0 0 1 0]\n",
      " [1 0 0 1 0 0 0 0 1 0]\n",
      " [0 0 0 1 0 0 0 0 1 0]]\n",
      "[[ 0.  2.  1.  0.  1.  0.  1.  1.  0.  1.]\n",
      " [ 0.  1.  0.  0.  0.  1.  0.  0.  1.  0.]\n",
      " [ 1.  0.  0.  1.  0.  0.  0.  0.  1.  0.]\n",
      " [ 0.  0.  0.  1.  0.  0.  0.  0.  1.  0.]]\n"
     ]
    }
   ],
   "source": [
    "\n",
    "print array\n",
    "b = array.astype(float)\n",
    "print b\n",
    "import numpy as np"
   ]
  },
  {
   "cell_type": "code",
   "execution_count": 90,
   "metadata": {},
   "outputs": [
    {
     "name": "stdout",
     "output_type": "stream",
     "text": [
      "[[ 0.          0.28571429  0.14285714  0.          0.14285714  0.\n",
      "   0.14285714  0.14285714  0.          0.14285714]\n",
      " [ 0.          0.33333333  0.          0.          0.          0.33333333\n",
      "   0.          0.          0.33333333  0.        ]\n",
      " [ 0.33333333  0.          0.          0.33333333  0.          0.          0.\n",
      "   0.          0.33333333  0.        ]\n",
      " [ 0.          0.          0.          0.5         0.          0.          0.\n",
      "   0.          0.5         0.        ]]\n",
      "[[ 0.          0.          0.33333333  0.        ]\n",
      " [ 0.28571429  0.33333333  0.          0.        ]\n",
      " [ 0.14285714  0.          0.          0.        ]\n",
      " [ 0.          0.          0.33333333  0.5       ]\n",
      " [ 0.14285714  0.          0.          0.        ]\n",
      " [ 0.          0.33333333  0.          0.        ]\n",
      " [ 0.14285714  0.          0.          0.        ]\n",
      " [ 0.14285714  0.          0.          0.        ]\n",
      " [ 0.          0.33333333  0.33333333  0.5       ]\n",
      " [ 0.14285714  0.          0.          0.        ]]\n"
     ]
    }
   ],
   "source": [
    "c = a.toarray()/b.sum(axis=1).reshape(4,1)\n",
    "print c\n",
    "c = c.transpose()\n",
    "print c"
   ]
  },
  {
   "cell_type": "code",
   "execution_count": 91,
   "metadata": {},
   "outputs": [
    {
     "name": "stdout",
     "output_type": "stream",
     "text": [
      "         fruitness  computer      exam  animal\n",
      "appear    0.000000  0.000000  0.333333     0.0\n",
      "apple     0.285714  0.333333  0.000000     0.0\n",
      "buy       0.142857  0.000000  0.000000     0.0\n",
      "cat       0.000000  0.000000  0.333333     0.5\n",
      "grocery   0.142857  0.000000  0.000000     0.0\n",
      "mobile    0.000000  0.333333  0.000000     0.0\n",
      "orange    0.142857  0.000000  0.000000     0.0\n",
      "store     0.142857  0.000000  0.000000     0.0\n",
      "want      0.000000  0.333333  0.333333     0.5\n",
      "went      0.142857  0.000000  0.000000     0.0\n"
     ]
    }
   ],
   "source": [
    "data = pd.DataFrame(c,index=cv.get_feature_names(),columns=d.keys())\n",
    "print data"
   ]
  },
  {
   "cell_type": "code",
   "execution_count": 92,
   "metadata": {},
   "outputs": [
    {
     "data": {
      "text/html": [
       "<div>\n",
       "<style>\n",
       "    .dataframe thead tr:only-child th {\n",
       "        text-align: right;\n",
       "    }\n",
       "\n",
       "    .dataframe thead th {\n",
       "        text-align: left;\n",
       "    }\n",
       "\n",
       "    .dataframe tbody tr th {\n",
       "        vertical-align: top;\n",
       "    }\n",
       "</style>\n",
       "<table border=\"1\" class=\"dataframe\">\n",
       "  <thead>\n",
       "    <tr style=\"text-align: right;\">\n",
       "      <th></th>\n",
       "      <th>appear</th>\n",
       "      <th>apple</th>\n",
       "      <th>buy</th>\n",
       "      <th>cat</th>\n",
       "      <th>grocery</th>\n",
       "      <th>mobile</th>\n",
       "      <th>orange</th>\n",
       "      <th>store</th>\n",
       "      <th>want</th>\n",
       "      <th>went</th>\n",
       "    </tr>\n",
       "  </thead>\n",
       "  <tbody>\n",
       "    <tr>\n",
       "      <th>fruitness</th>\n",
       "      <td>0.000000</td>\n",
       "      <td>0.285714</td>\n",
       "      <td>0.142857</td>\n",
       "      <td>0.000000</td>\n",
       "      <td>0.142857</td>\n",
       "      <td>0.000000</td>\n",
       "      <td>0.142857</td>\n",
       "      <td>0.142857</td>\n",
       "      <td>0.000000</td>\n",
       "      <td>0.142857</td>\n",
       "    </tr>\n",
       "    <tr>\n",
       "      <th>computer</th>\n",
       "      <td>0.000000</td>\n",
       "      <td>0.333333</td>\n",
       "      <td>0.000000</td>\n",
       "      <td>0.000000</td>\n",
       "      <td>0.000000</td>\n",
       "      <td>0.333333</td>\n",
       "      <td>0.000000</td>\n",
       "      <td>0.000000</td>\n",
       "      <td>0.333333</td>\n",
       "      <td>0.000000</td>\n",
       "    </tr>\n",
       "    <tr>\n",
       "      <th>exam</th>\n",
       "      <td>0.333333</td>\n",
       "      <td>0.000000</td>\n",
       "      <td>0.000000</td>\n",
       "      <td>0.333333</td>\n",
       "      <td>0.000000</td>\n",
       "      <td>0.000000</td>\n",
       "      <td>0.000000</td>\n",
       "      <td>0.000000</td>\n",
       "      <td>0.333333</td>\n",
       "      <td>0.000000</td>\n",
       "    </tr>\n",
       "    <tr>\n",
       "      <th>animal</th>\n",
       "      <td>0.000000</td>\n",
       "      <td>0.000000</td>\n",
       "      <td>0.000000</td>\n",
       "      <td>0.500000</td>\n",
       "      <td>0.000000</td>\n",
       "      <td>0.000000</td>\n",
       "      <td>0.000000</td>\n",
       "      <td>0.000000</td>\n",
       "      <td>0.500000</td>\n",
       "      <td>0.000000</td>\n",
       "    </tr>\n",
       "  </tbody>\n",
       "</table>\n",
       "</div>"
      ],
      "text/plain": [
       "             appear     apple       buy       cat   grocery    mobile  \\\n",
       "fruitness  0.000000  0.285714  0.142857  0.000000  0.142857  0.000000   \n",
       "computer   0.000000  0.333333  0.000000  0.000000  0.000000  0.333333   \n",
       "exam       0.333333  0.000000  0.000000  0.333333  0.000000  0.000000   \n",
       "animal     0.000000  0.000000  0.000000  0.500000  0.000000  0.000000   \n",
       "\n",
       "             orange     store      want      went  \n",
       "fruitness  0.142857  0.142857  0.000000  0.142857  \n",
       "computer   0.000000  0.000000  0.333333  0.000000  \n",
       "exam       0.000000  0.000000  0.333333  0.000000  \n",
       "animal     0.000000  0.000000  0.500000  0.000000  "
      ]
     },
     "execution_count": 92,
     "metadata": {},
     "output_type": "execute_result"
    }
   ],
   "source": [
    "data.transpose()"
   ]
  },
  {
   "cell_type": "markdown",
   "metadata": {},
   "source": [
    "Discarded the count vectorizer approach as it doesn't take all count of all the words in all documents"
   ]
  },
  {
   "cell_type": "code",
   "execution_count": 94,
   "metadata": {
    "collapsed": true
   },
   "outputs": [],
   "source": [
    "tfidf = sklearn.feature_extraction.text.TfidfVectorizer(stop_words='english')"
   ]
  },
  {
   "cell_type": "code",
   "execution_count": 95,
   "metadata": {
    "collapsed": true
   },
   "outputs": [],
   "source": [
    "a1 = tfidf.fit_transform(list(d.values()))"
   ]
  },
  {
   "cell_type": "code",
   "execution_count": 105,
   "metadata": {},
   "outputs": [
    {
     "name": "stdout",
     "output_type": "stream",
     "text": [
      "[[ 0.          0.57629822  0.36548061  0.          0.36548061  0.\n",
      "   0.36548061  0.36548061  0.          0.36548061]\n",
      " [ 0.          0.55349232  0.          0.          0.          0.70203482\n",
      "   0.          0.          0.44809973  0.        ]\n",
      " [ 0.70203482  0.          0.          0.55349232  0.          0.          0.\n",
      "   0.          0.44809973  0.        ]\n",
      " [ 0.          0.          0.          0.77722116  0.          0.          0.\n",
      "   0.          0.62922751  0.        ]]\n"
     ]
    },
    {
     "data": {
      "text/plain": [
       "array([[ 0.        ,  0.23975451,  0.1520491 ,  0.        ,  0.1520491 ,\n",
       "         0.        ,  0.1520491 ,  0.1520491 ,  0.        ,  0.1520491 ],\n",
       "       [ 0.        ,  0.32489058,  0.        ,  0.        ,  0.        ,\n",
       "         0.4120825 ,  0.        ,  0.        ,  0.26302692,  0.        ],\n",
       "       [ 0.4120825 ,  0.        ,  0.        ,  0.32489058,  0.        ,\n",
       "         0.        ,  0.        ,  0.        ,  0.26302692,  0.        ],\n",
       "       [ 0.        ,  0.        ,  0.        ,  0.55261253,  0.        ,\n",
       "         0.        ,  0.        ,  0.        ,  0.44738747,  0.        ]])"
      ]
     },
     "execution_count": 105,
     "metadata": {},
     "output_type": "execute_result"
    }
   ],
   "source": [
    "c = a1.toarray()\n",
    "print c\n",
    "c = np.divide(c,c.sum(axis=1).reshape(4,1))\n",
    "c"
   ]
  },
  {
   "cell_type": "code",
   "execution_count": 106,
   "metadata": {},
   "outputs": [
    {
     "data": {
      "text/plain": [
       "[u'appear',\n",
       " u'apple',\n",
       " u'buy',\n",
       " u'cat',\n",
       " u'grocery',\n",
       " u'mobile',\n",
       " u'orange',\n",
       " u'store',\n",
       " u'want',\n",
       " u'went']"
      ]
     },
     "execution_count": 106,
     "metadata": {},
     "output_type": "execute_result"
    }
   ],
   "source": [
    "tfidf.get_feature_names()"
   ]
  },
  {
   "cell_type": "code",
   "execution_count": 121,
   "metadata": {},
   "outputs": [
    {
     "name": "stdout",
     "output_type": "stream",
     "text": [
      "             appear     apple       buy       cat   grocery    mobile  \\\n",
      "fruitness  0.000000  0.239755  0.152049  0.000000  0.152049  0.000000   \n",
      "computer   0.000000  0.324891  0.000000  0.000000  0.000000  0.412083   \n",
      "exam       0.412083  0.000000  0.000000  0.324891  0.000000  0.000000   \n",
      "animal     0.000000  0.000000  0.000000  0.552613  0.000000  0.000000   \n",
      "\n",
      "             orange     store      want      went  \n",
      "fruitness  0.152049  0.152049  0.000000  0.152049  \n",
      "computer   0.000000  0.000000  0.263027  0.000000  \n",
      "exam       0.000000  0.000000  0.263027  0.000000  \n",
      "animal     0.000000  0.000000  0.447387  0.000000  \n"
     ]
    }
   ],
   "source": [
    "data = pd.DataFrame(c,index=d.keys(),columns=cv.get_feature_names())\n",
    "print data"
   ]
  },
  {
   "cell_type": "code",
   "execution_count": 122,
   "metadata": {},
   "outputs": [
    {
     "data": {
      "text/html": [
       "<div>\n",
       "<style>\n",
       "    .dataframe thead tr:only-child th {\n",
       "        text-align: right;\n",
       "    }\n",
       "\n",
       "    .dataframe thead th {\n",
       "        text-align: left;\n",
       "    }\n",
       "\n",
       "    .dataframe tbody tr th {\n",
       "        vertical-align: top;\n",
       "    }\n",
       "</style>\n",
       "<table border=\"1\" class=\"dataframe\">\n",
       "  <thead>\n",
       "    <tr style=\"text-align: right;\">\n",
       "      <th></th>\n",
       "      <th>fruitness</th>\n",
       "      <th>computer</th>\n",
       "      <th>exam</th>\n",
       "      <th>animal</th>\n",
       "    </tr>\n",
       "  </thead>\n",
       "  <tbody>\n",
       "    <tr>\n",
       "      <th>appear</th>\n",
       "      <td>0.000000</td>\n",
       "      <td>0.000000</td>\n",
       "      <td>0.412083</td>\n",
       "      <td>0.000000</td>\n",
       "    </tr>\n",
       "    <tr>\n",
       "      <th>apple</th>\n",
       "      <td>0.239755</td>\n",
       "      <td>0.324891</td>\n",
       "      <td>0.000000</td>\n",
       "      <td>0.000000</td>\n",
       "    </tr>\n",
       "    <tr>\n",
       "      <th>buy</th>\n",
       "      <td>0.152049</td>\n",
       "      <td>0.000000</td>\n",
       "      <td>0.000000</td>\n",
       "      <td>0.000000</td>\n",
       "    </tr>\n",
       "    <tr>\n",
       "      <th>cat</th>\n",
       "      <td>0.000000</td>\n",
       "      <td>0.000000</td>\n",
       "      <td>0.324891</td>\n",
       "      <td>0.552613</td>\n",
       "    </tr>\n",
       "    <tr>\n",
       "      <th>grocery</th>\n",
       "      <td>0.152049</td>\n",
       "      <td>0.000000</td>\n",
       "      <td>0.000000</td>\n",
       "      <td>0.000000</td>\n",
       "    </tr>\n",
       "    <tr>\n",
       "      <th>mobile</th>\n",
       "      <td>0.000000</td>\n",
       "      <td>0.412083</td>\n",
       "      <td>0.000000</td>\n",
       "      <td>0.000000</td>\n",
       "    </tr>\n",
       "    <tr>\n",
       "      <th>orange</th>\n",
       "      <td>0.152049</td>\n",
       "      <td>0.000000</td>\n",
       "      <td>0.000000</td>\n",
       "      <td>0.000000</td>\n",
       "    </tr>\n",
       "    <tr>\n",
       "      <th>store</th>\n",
       "      <td>0.152049</td>\n",
       "      <td>0.000000</td>\n",
       "      <td>0.000000</td>\n",
       "      <td>0.000000</td>\n",
       "    </tr>\n",
       "    <tr>\n",
       "      <th>want</th>\n",
       "      <td>0.000000</td>\n",
       "      <td>0.263027</td>\n",
       "      <td>0.263027</td>\n",
       "      <td>0.447387</td>\n",
       "    </tr>\n",
       "    <tr>\n",
       "      <th>went</th>\n",
       "      <td>0.152049</td>\n",
       "      <td>0.000000</td>\n",
       "      <td>0.000000</td>\n",
       "      <td>0.000000</td>\n",
       "    </tr>\n",
       "  </tbody>\n",
       "</table>\n",
       "</div>"
      ],
      "text/plain": [
       "         fruitness  computer      exam    animal\n",
       "appear    0.000000  0.000000  0.412083  0.000000\n",
       "apple     0.239755  0.324891  0.000000  0.000000\n",
       "buy       0.152049  0.000000  0.000000  0.000000\n",
       "cat       0.000000  0.000000  0.324891  0.552613\n",
       "grocery   0.152049  0.000000  0.000000  0.000000\n",
       "mobile    0.000000  0.412083  0.000000  0.000000\n",
       "orange    0.152049  0.000000  0.000000  0.000000\n",
       "store     0.152049  0.000000  0.000000  0.000000\n",
       "want      0.000000  0.263027  0.263027  0.447387\n",
       "went      0.152049  0.000000  0.000000  0.000000"
      ]
     },
     "execution_count": 122,
     "metadata": {},
     "output_type": "execute_result"
    }
   ],
   "source": [
    "data.transpose()"
   ]
  },
  {
   "cell_type": "code",
   "execution_count": 123,
   "metadata": {},
   "outputs": [
    {
     "data": {
      "text/plain": [
       "fruitness    0.000000\n",
       "computer     0.000000\n",
       "exam         0.412083\n",
       "animal       0.000000\n",
       "Name: appear, dtype: float64"
      ]
     },
     "execution_count": 123,
     "metadata": {},
     "output_type": "execute_result"
    }
   ],
   "source": [
    "data['appear']"
   ]
  },
  {
   "cell_type": "code",
   "execution_count": 124,
   "metadata": {},
   "outputs": [
    {
     "data": {
      "text/plain": [
       "{u'appear': {'animal': 0.0,\n",
       "  'computer': 0.0,\n",
       "  'exam': 0.41208250080998421,\n",
       "  'fruitness': 0.0},\n",
       " u'apple': {'animal': 0.0,\n",
       "  'computer': 0.32489057687003392,\n",
       "  'exam': 0.0,\n",
       "  'fruitness': 0.23975451048392163},\n",
       " u'buy': {'animal': 0.0,\n",
       "  'computer': 0.0,\n",
       "  'exam': 0.0,\n",
       "  'fruitness': 0.15204909790321566},\n",
       " u'cat': {'animal': 0.55261253035951696,\n",
       "  'computer': 0.0,\n",
       "  'exam': 0.32489057687003392,\n",
       "  'fruitness': 0.0},\n",
       " u'grocery': {'animal': 0.0,\n",
       "  'computer': 0.0,\n",
       "  'exam': 0.0,\n",
       "  'fruitness': 0.15204909790321566},\n",
       " u'mobile': {'animal': 0.0,\n",
       "  'computer': 0.41208250080998421,\n",
       "  'exam': 0.0,\n",
       "  'fruitness': 0.0},\n",
       " u'orange': {'animal': 0.0,\n",
       "  'computer': 0.0,\n",
       "  'exam': 0.0,\n",
       "  'fruitness': 0.15204909790321566},\n",
       " u'store': {'animal': 0.0,\n",
       "  'computer': 0.0,\n",
       "  'exam': 0.0,\n",
       "  'fruitness': 0.15204909790321566},\n",
       " u'want': {'animal': 0.44738746964048304,\n",
       "  'computer': 0.26302692231998198,\n",
       "  'exam': 0.26302692231998198,\n",
       "  'fruitness': 0.0},\n",
       " u'went': {'animal': 0.0,\n",
       "  'computer': 0.0,\n",
       "  'exam': 0.0,\n",
       "  'fruitness': 0.15204909790321566}}"
      ]
     },
     "execution_count": 124,
     "metadata": {},
     "output_type": "execute_result"
    }
   ],
   "source": [
    "data.to_dict()"
   ]
  },
  {
   "cell_type": "code",
   "execution_count": 25,
   "metadata": {
    "collapsed": true
   },
   "outputs": [],
   "source": [
    "from gensim.models import tfidfmodel"
   ]
  },
  {
   "cell_type": "markdown",
   "metadata": {},
   "source": [
    "TODO: 1. For a given test set (word,sentence,document) get the ranking of concepts\n",
    "      2. Find similarity between two words, sentence and document (using cosine product)"
   ]
  },
  {
   "cell_type": "code",
   "execution_count": 1,
   "metadata": {},
   "outputs": [
    {
     "name": "stdout",
     "output_type": "stream",
     "text": [
      "<gensim.interfaces.TransformedCorpus object at 0x7f0afeeb4550>\n"
     ]
    }
   ],
   "source": [
    "from gensim import *\n",
    "tweets=[['human', 'interface', 'computer'],\n",
    " ['survey', 'user', 'computer', 'system', 'response', 'time'],\n",
    " ['eps', 'user', 'interface', 'system'],\n",
    " ['system', 'human','human', 'system', 'eps'],\n",
    " ['user', 'response', 'time'],\n",
    " ['trees'],\n",
    " ['graph', 'trees'],\n",
    " ['graph', 'minors', 'trees'],\n",
    " ['graph', 'minors', 'survey','frequency']] \n",
    "\n",
    "\n",
    "dictionary = corpora.Dictionary(tweets)\n",
    "dictionary.save('/tmp/tweets.dict') \n",
    "\n",
    "raw_corpus = [dictionary.doc2bow(t) for t in tweets]\n",
    "\n",
    "corpora.MmCorpus.serialize('/tmp/tweets.mm', raw_corpus) # store to disk\n",
    "\n",
    "dictionary = corpora.Dictionary.load('/tmp/tweets.dict')\n",
    "\n",
    "corpus = corpora.MmCorpus('/tmp/tweets.mm')\n",
    "\n",
    "# Transform Text with TF-IDF\n",
    "tfidf = models.TfidfModel(corpus)\n",
    "\n",
    "\n",
    "corpus_tfidf = tfidf[corpus]\n",
    "print corpus_tfidf"
   ]
  },
  {
   "cell_type": "code",
   "execution_count": 2,
   "metadata": {},
   "outputs": [
    {
     "name": "stdout",
     "output_type": "stream",
     "text": [
      "MmCorpus(9 documents, 13 features, 29 non-zero entries)\n"
     ]
    }
   ],
   "source": [
    "print corpus"
   ]
  },
  {
   "cell_type": "code",
   "execution_count": 3,
   "metadata": {},
   "outputs": [
    {
     "data": {
      "text/plain": [
       "[u'interface',\n",
       " u'computer',\n",
       " u'human',\n",
       " u'computer',\n",
       " u'response',\n",
       " u'time',\n",
       " u'survey',\n",
       " u'system',\n",
       " u'user',\n",
       " u'interface',\n",
       " u'system',\n",
       " u'user',\n",
       " u'eps',\n",
       " u'human',\n",
       " u'system',\n",
       " u'eps',\n",
       " u'response',\n",
       " u'time',\n",
       " u'user',\n",
       " u'trees',\n",
       " u'trees',\n",
       " u'graph',\n",
       " u'trees',\n",
       " u'graph',\n",
       " u'minors',\n",
       " u'survey',\n",
       " u'graph',\n",
       " u'minors',\n",
       " u'frequency']"
      ]
     },
     "execution_count": 3,
     "metadata": {},
     "output_type": "execute_result"
    }
   ],
   "source": [
    "[dictionary.get(id) for doc in corpus_tfidf for id, value in doc]"
   ]
  },
  {
   "cell_type": "code",
   "execution_count": 4,
   "metadata": {},
   "outputs": [
    {
     "data": {
      "text/plain": [
       "{0: 2.1699250014423126,\n",
       " 1: 2.1699250014423126,\n",
       " 2: 2.1699250014423126,\n",
       " 3: 2.1699250014423126,\n",
       " 4: 2.1699250014423126,\n",
       " 5: 2.1699250014423126,\n",
       " 6: 1.5849625007211563,\n",
       " 7: 1.5849625007211563,\n",
       " 8: 2.1699250014423126,\n",
       " 9: 1.5849625007211563,\n",
       " 10: 1.5849625007211563,\n",
       " 11: 2.1699250014423126,\n",
       " 12: 3.1699250014423126}"
      ]
     },
     "execution_count": 4,
     "metadata": {},
     "output_type": "execute_result"
    }
   ],
   "source": [
    "corpus_tfidf.obj.idfs"
   ]
  },
  {
   "cell_type": "code",
   "execution_count": 5,
   "metadata": {},
   "outputs": [
    {
     "data": {
      "text/plain": [
       "{0: 2,\n",
       " 1: 2,\n",
       " 2: 2,\n",
       " 3: 2,\n",
       " 4: 2,\n",
       " 5: 2,\n",
       " 6: 3,\n",
       " 7: 3,\n",
       " 8: 2,\n",
       " 9: 3,\n",
       " 10: 3,\n",
       " 11: 2,\n",
       " 12: 1}"
      ]
     },
     "execution_count": 5,
     "metadata": {},
     "output_type": "execute_result"
    }
   ],
   "source": [
    "corpus_tfidf.obj.dfs\n"
   ]
  },
  {
   "cell_type": "code",
   "execution_count": 6,
   "metadata": {
    "collapsed": true
   },
   "outputs": [],
   "source": [
    "array=[]\n",
    "for i in range(len(corpus_tfidf.corpus)):\n",
    "    array.append(corpus_tfidf.corpus[i])"
   ]
  },
  {
   "cell_type": "code",
   "execution_count": 7,
   "metadata": {},
   "outputs": [
    {
     "data": {
      "text/plain": [
       "[[(0, 1.0), (1, 1.0), (2, 1.0)],\n",
       " [(1, 1.0), (3, 1.0), (4, 1.0), (5, 1.0), (6, 1.0), (7, 1.0)],\n",
       " [(0, 1.0), (6, 1.0), (7, 1.0), (8, 1.0)],\n",
       " [(2, 2.0), (6, 2.0), (8, 1.0)],\n",
       " [(3, 1.0), (4, 1.0), (7, 1.0)],\n",
       " [(9, 1.0)],\n",
       " [(9, 1.0), (10, 1.0)],\n",
       " [(9, 1.0), (10, 1.0), (11, 1.0)],\n",
       " [(5, 1.0), (10, 1.0), (11, 1.0), (12, 1.0)]]"
      ]
     },
     "execution_count": 7,
     "metadata": {},
     "output_type": "execute_result"
    }
   ],
   "source": [
    "array"
   ]
  },
  {
   "cell_type": "code",
   "execution_count": 8,
   "metadata": {
    "collapsed": true
   },
   "outputs": [],
   "source": [
    "import numpy as np"
   ]
  },
  {
   "cell_type": "code",
   "execution_count": 9,
   "metadata": {
    "collapsed": true
   },
   "outputs": [],
   "source": [
    "#Matrix initialization\n",
    "b = np.zeros([corpus.num_docs,corpus.num_terms])"
   ]
  },
  {
   "cell_type": "code",
   "execution_count": 10,
   "metadata": {
    "collapsed": true
   },
   "outputs": [],
   "source": [
    "from gensim import sklearn_api\n",
    "sk_tfidf = sklearn_api.tfidf.TfIdfTransformer()"
   ]
  },
  {
   "cell_type": "code",
   "execution_count": 17,
   "metadata": {},
   "outputs": [
    {
     "data": {
      "text/plain": [
       "0.3333333333333333"
      ]
     },
     "execution_count": 17,
     "metadata": {},
     "output_type": "execute_result"
    }
   ],
   "source": [
    "a = sk_tfidf.fit_transform(corpus)\n"
   ]
  },
  {
   "cell_type": "code",
   "execution_count": 12,
   "metadata": {},
   "outputs": [
    {
     "data": {
      "text/plain": [
       "[[(0, 0.5773502691896257), (1, 0.5773502691896257), (2, 0.5773502691896257)],\n",
       " [(1, 0.44424552527467476),\n",
       "  (3, 0.44424552527467476),\n",
       "  (4, 0.44424552527467476),\n",
       "  (5, 0.44424552527467476),\n",
       "  (6, 0.3244870206138555),\n",
       "  (7, 0.3244870206138555)],\n",
       " [(0, 0.5710059809418182),\n",
       "  (6, 0.4170757362022777),\n",
       "  (7, 0.4170757362022777),\n",
       "  (8, 0.5710059809418182)],\n",
       " [(2, 0.7487922356593828), (6, 0.5469348542288004), (8, 0.3743961178296914)],\n",
       " [(3, 0.6282580468670046), (4, 0.6282580468670046), (7, 0.45889394536615247)],\n",
       " [(9, 1.0)],\n",
       " [(9, 0.7071067811865475), (10, 0.7071067811865475)],\n",
       " [(9, 0.5080429008916749), (10, 0.5080429008916749), (11, 0.695546419520037)],\n",
       " [(5, 0.4628644263314176),\n",
       "  (10, 0.3380866887867002),\n",
       "  (11, 0.4628644263314176),\n",
       "  (12, 0.6761733775734003)]]"
      ]
     },
     "execution_count": 12,
     "metadata": {},
     "output_type": "execute_result"
    }
   ],
   "source": [
    "a"
   ]
  },
  {
   "cell_type": "code",
   "execution_count": 20,
   "metadata": {
    "collapsed": true
   },
   "outputs": [],
   "source": [
    "for i in range(len(a)):\n",
    "    for j in a[i]:\n",
    "        b[i,j[0]] = j[1]\n",
    "matrix_T = b"
   ]
  },
  {
   "cell_type": "code",
   "execution_count": 21,
   "metadata": {},
   "outputs": [
    {
     "data": {
      "text/plain": [
       "array([[ 0.57735027,  0.57735027,  0.57735027,  0.        ,  0.        ,\n",
       "         0.        ,  0.        ,  0.        ,  0.        ,  0.        ,\n",
       "         0.        ,  0.        ,  0.        ],\n",
       "       [ 0.        ,  0.44424553,  0.        ,  0.44424553,  0.44424553,\n",
       "         0.44424553,  0.32448702,  0.32448702,  0.        ,  0.        ,\n",
       "         0.        ,  0.        ,  0.        ],\n",
       "       [ 0.57100598,  0.        ,  0.        ,  0.        ,  0.        ,\n",
       "         0.        ,  0.41707574,  0.41707574,  0.57100598,  0.        ,\n",
       "         0.        ,  0.        ,  0.        ],\n",
       "       [ 0.        ,  0.        ,  0.74879224,  0.        ,  0.        ,\n",
       "         0.        ,  0.54693485,  0.        ,  0.37439612,  0.        ,\n",
       "         0.        ,  0.        ,  0.        ],\n",
       "       [ 0.        ,  0.        ,  0.        ,  0.62825805,  0.62825805,\n",
       "         0.        ,  0.        ,  0.45889395,  0.        ,  0.        ,\n",
       "         0.        ,  0.        ,  0.        ],\n",
       "       [ 0.        ,  0.        ,  0.        ,  0.        ,  0.        ,\n",
       "         0.        ,  0.        ,  0.        ,  0.        ,  1.        ,\n",
       "         0.        ,  0.        ,  0.        ],\n",
       "       [ 0.        ,  0.        ,  0.        ,  0.        ,  0.        ,\n",
       "         0.        ,  0.        ,  0.        ,  0.        ,  0.70710678,\n",
       "         0.70710678,  0.        ,  0.        ],\n",
       "       [ 0.        ,  0.        ,  0.        ,  0.        ,  0.        ,\n",
       "         0.        ,  0.        ,  0.        ,  0.        ,  0.5080429 ,\n",
       "         0.5080429 ,  0.69554642,  0.        ],\n",
       "       [ 0.        ,  0.        ,  0.        ,  0.        ,  0.        ,\n",
       "         0.46286443,  0.        ,  0.        ,  0.        ,  0.        ,\n",
       "         0.33808669,  0.46286443,  0.67617338]])"
      ]
     },
     "execution_count": 21,
     "metadata": {},
     "output_type": "execute_result"
    }
   ],
   "source": [
    "matrix_T"
   ]
  },
  {
   "cell_type": "code",
   "execution_count": 24,
   "metadata": {},
   "outputs": [
    {
     "data": {
      "text/html": [
       "<div>\n",
       "<style>\n",
       "    .dataframe thead tr:only-child th {\n",
       "        text-align: right;\n",
       "    }\n",
       "\n",
       "    .dataframe thead th {\n",
       "        text-align: left;\n",
       "    }\n",
       "\n",
       "    .dataframe tbody tr th {\n",
       "        vertical-align: top;\n",
       "    }\n",
       "</style>\n",
       "<table border=\"1\" class=\"dataframe\">\n",
       "  <thead>\n",
       "    <tr style=\"text-align: right;\">\n",
       "      <th></th>\n",
       "      <th>interface</th>\n",
       "      <th>computer</th>\n",
       "      <th>human</th>\n",
       "      <th>response</th>\n",
       "      <th>time</th>\n",
       "      <th>survey</th>\n",
       "      <th>system</th>\n",
       "      <th>user</th>\n",
       "      <th>eps</th>\n",
       "      <th>trees</th>\n",
       "      <th>graph</th>\n",
       "      <th>minors</th>\n",
       "      <th>frequency</th>\n",
       "    </tr>\n",
       "  </thead>\n",
       "  <tbody>\n",
       "    <tr>\n",
       "      <th>0</th>\n",
       "      <td>0.577350</td>\n",
       "      <td>0.577350</td>\n",
       "      <td>0.577350</td>\n",
       "      <td>0.000000</td>\n",
       "      <td>0.000000</td>\n",
       "      <td>0.000000</td>\n",
       "      <td>0.000000</td>\n",
       "      <td>0.000000</td>\n",
       "      <td>0.000000</td>\n",
       "      <td>0.000000</td>\n",
       "      <td>0.000000</td>\n",
       "      <td>0.000000</td>\n",
       "      <td>0.000000</td>\n",
       "    </tr>\n",
       "    <tr>\n",
       "      <th>1</th>\n",
       "      <td>0.000000</td>\n",
       "      <td>0.444246</td>\n",
       "      <td>0.000000</td>\n",
       "      <td>0.444246</td>\n",
       "      <td>0.444246</td>\n",
       "      <td>0.444246</td>\n",
       "      <td>0.324487</td>\n",
       "      <td>0.324487</td>\n",
       "      <td>0.000000</td>\n",
       "      <td>0.000000</td>\n",
       "      <td>0.000000</td>\n",
       "      <td>0.000000</td>\n",
       "      <td>0.000000</td>\n",
       "    </tr>\n",
       "    <tr>\n",
       "      <th>2</th>\n",
       "      <td>0.571006</td>\n",
       "      <td>0.000000</td>\n",
       "      <td>0.000000</td>\n",
       "      <td>0.000000</td>\n",
       "      <td>0.000000</td>\n",
       "      <td>0.000000</td>\n",
       "      <td>0.417076</td>\n",
       "      <td>0.417076</td>\n",
       "      <td>0.571006</td>\n",
       "      <td>0.000000</td>\n",
       "      <td>0.000000</td>\n",
       "      <td>0.000000</td>\n",
       "      <td>0.000000</td>\n",
       "    </tr>\n",
       "    <tr>\n",
       "      <th>3</th>\n",
       "      <td>0.000000</td>\n",
       "      <td>0.000000</td>\n",
       "      <td>0.748792</td>\n",
       "      <td>0.000000</td>\n",
       "      <td>0.000000</td>\n",
       "      <td>0.000000</td>\n",
       "      <td>0.546935</td>\n",
       "      <td>0.000000</td>\n",
       "      <td>0.374396</td>\n",
       "      <td>0.000000</td>\n",
       "      <td>0.000000</td>\n",
       "      <td>0.000000</td>\n",
       "      <td>0.000000</td>\n",
       "    </tr>\n",
       "    <tr>\n",
       "      <th>4</th>\n",
       "      <td>0.000000</td>\n",
       "      <td>0.000000</td>\n",
       "      <td>0.000000</td>\n",
       "      <td>0.628258</td>\n",
       "      <td>0.628258</td>\n",
       "      <td>0.000000</td>\n",
       "      <td>0.000000</td>\n",
       "      <td>0.458894</td>\n",
       "      <td>0.000000</td>\n",
       "      <td>0.000000</td>\n",
       "      <td>0.000000</td>\n",
       "      <td>0.000000</td>\n",
       "      <td>0.000000</td>\n",
       "    </tr>\n",
       "    <tr>\n",
       "      <th>5</th>\n",
       "      <td>0.000000</td>\n",
       "      <td>0.000000</td>\n",
       "      <td>0.000000</td>\n",
       "      <td>0.000000</td>\n",
       "      <td>0.000000</td>\n",
       "      <td>0.000000</td>\n",
       "      <td>0.000000</td>\n",
       "      <td>0.000000</td>\n",
       "      <td>0.000000</td>\n",
       "      <td>1.000000</td>\n",
       "      <td>0.000000</td>\n",
       "      <td>0.000000</td>\n",
       "      <td>0.000000</td>\n",
       "    </tr>\n",
       "    <tr>\n",
       "      <th>6</th>\n",
       "      <td>0.000000</td>\n",
       "      <td>0.000000</td>\n",
       "      <td>0.000000</td>\n",
       "      <td>0.000000</td>\n",
       "      <td>0.000000</td>\n",
       "      <td>0.000000</td>\n",
       "      <td>0.000000</td>\n",
       "      <td>0.000000</td>\n",
       "      <td>0.000000</td>\n",
       "      <td>0.707107</td>\n",
       "      <td>0.707107</td>\n",
       "      <td>0.000000</td>\n",
       "      <td>0.000000</td>\n",
       "    </tr>\n",
       "    <tr>\n",
       "      <th>7</th>\n",
       "      <td>0.000000</td>\n",
       "      <td>0.000000</td>\n",
       "      <td>0.000000</td>\n",
       "      <td>0.000000</td>\n",
       "      <td>0.000000</td>\n",
       "      <td>0.000000</td>\n",
       "      <td>0.000000</td>\n",
       "      <td>0.000000</td>\n",
       "      <td>0.000000</td>\n",
       "      <td>0.508043</td>\n",
       "      <td>0.508043</td>\n",
       "      <td>0.695546</td>\n",
       "      <td>0.000000</td>\n",
       "    </tr>\n",
       "    <tr>\n",
       "      <th>8</th>\n",
       "      <td>0.000000</td>\n",
       "      <td>0.000000</td>\n",
       "      <td>0.000000</td>\n",
       "      <td>0.000000</td>\n",
       "      <td>0.000000</td>\n",
       "      <td>0.462864</td>\n",
       "      <td>0.000000</td>\n",
       "      <td>0.000000</td>\n",
       "      <td>0.000000</td>\n",
       "      <td>0.000000</td>\n",
       "      <td>0.338087</td>\n",
       "      <td>0.462864</td>\n",
       "      <td>0.676173</td>\n",
       "    </tr>\n",
       "  </tbody>\n",
       "</table>\n",
       "</div>"
      ],
      "text/plain": [
       "   interface  computer     human  response      time    survey    system  \\\n",
       "0   0.577350  0.577350  0.577350  0.000000  0.000000  0.000000  0.000000   \n",
       "1   0.000000  0.444246  0.000000  0.444246  0.444246  0.444246  0.324487   \n",
       "2   0.571006  0.000000  0.000000  0.000000  0.000000  0.000000  0.417076   \n",
       "3   0.000000  0.000000  0.748792  0.000000  0.000000  0.000000  0.546935   \n",
       "4   0.000000  0.000000  0.000000  0.628258  0.628258  0.000000  0.000000   \n",
       "5   0.000000  0.000000  0.000000  0.000000  0.000000  0.000000  0.000000   \n",
       "6   0.000000  0.000000  0.000000  0.000000  0.000000  0.000000  0.000000   \n",
       "7   0.000000  0.000000  0.000000  0.000000  0.000000  0.000000  0.000000   \n",
       "8   0.000000  0.000000  0.000000  0.000000  0.000000  0.462864  0.000000   \n",
       "\n",
       "       user       eps     trees     graph    minors  frequency  \n",
       "0  0.000000  0.000000  0.000000  0.000000  0.000000   0.000000  \n",
       "1  0.324487  0.000000  0.000000  0.000000  0.000000   0.000000  \n",
       "2  0.417076  0.571006  0.000000  0.000000  0.000000   0.000000  \n",
       "3  0.000000  0.374396  0.000000  0.000000  0.000000   0.000000  \n",
       "4  0.458894  0.000000  0.000000  0.000000  0.000000   0.000000  \n",
       "5  0.000000  0.000000  1.000000  0.000000  0.000000   0.000000  \n",
       "6  0.000000  0.000000  0.707107  0.707107  0.000000   0.000000  \n",
       "7  0.000000  0.000000  0.508043  0.508043  0.695546   0.000000  \n",
       "8  0.000000  0.000000  0.000000  0.338087  0.462864   0.676173  "
      ]
     },
     "execution_count": 24,
     "metadata": {},
     "output_type": "execute_result"
    }
   ],
   "source": [
    "import pandas as pd\n",
    "esa = pd.DataFrame(matrix_T,index=[i for i in range(np.shape(matrix_T)[0])],columns=[dictionary.get(i) for i in range(np.shape(matrix_T)[1])])\n",
    "esa\n"
   ]
  },
  {
   "cell_type": "code",
   "execution_count": 25,
   "metadata": {},
   "outputs": [
    {
     "data": {
      "text/plain": [
       "array([ 0.        ,  0.        ,  0.        ,  0.        ,  0.        ,\n",
       "        2.        ,  1.41421356,  1.0160858 ,  0.        ])"
      ]
     },
     "execution_count": 25,
     "metadata": {},
     "output_type": "execute_result"
    }
   ],
   "source": [
    "esa.transpose().loc['trees'].as_matrix() + esa.transpose().loc['trees'].as_matrix()"
   ]
  },
  {
   "cell_type": "code",
   "execution_count": 31,
   "metadata": {},
   "outputs": [
    {
     "name": "stdout",
     "output_type": "stream",
     "text": [
      "doc1: survey trees graph\n",
      "doc2: survey trees graph\n",
      "1.0\n",
      "\n",
      "doc1: survey trees graph\n",
      "doc2: human system\n",
      "0.043145850026\n",
      "\n",
      "doc1: survey trees graph\n",
      "doc2: minors\n",
      "0.584311660826\n",
      "\n",
      "doc1: human system\n",
      "doc2: survey trees graph\n",
      "0.043145850026\n",
      "\n",
      "doc1: human system\n",
      "doc2: human system\n",
      "1.0\n",
      "\n",
      "doc1: human system\n",
      "doc2: minors\n",
      "0.0\n",
      "\n",
      "doc1: minors\n",
      "doc2: survey trees graph\n",
      "0.584311660826\n",
      "\n",
      "doc1: minors\n",
      "doc2: human system\n",
      "0.0\n",
      "\n",
      "doc1: minors\n",
      "doc2: minors\n",
      "1.0\n",
      "\n"
     ]
    }
   ],
   "source": [
    "test_1 = \"survey trees graph\"\n",
    "test_2 = \"human system\"\n",
    "test_3 = \"minors\"\n",
    "\n",
    "test =[ \"survey trees graph\", \"human system\",\"minors\"]\n",
    "\n",
    "def get_word_rank(string):\n",
    "    words = string.split()\n",
    "    vector = esa.transpose().loc[words[0]].as_matrix()\n",
    "    for i in range(1,len(words)):\n",
    "        vector = vector + esa.transpose().loc[words[i]].as_matrix()\n",
    "    return vector\n",
    "def get_similarity(t1,t2):\n",
    "    doc1 = get_word_rank(t1)\n",
    "    doc2 = get_word_rank(t2)\n",
    "    sim = np.dot(doc1,doc2)/np.sqrt((np.dot(doc1,doc1)*np.dot(doc2,doc2)))\n",
    "    return sim\n",
    "\n",
    "\n",
    "for i in test:\n",
    "    for j in test:\n",
    "        print \"doc1:\",i\n",
    "        print \"doc2:\", j\n",
    "        print get_similarity(i,j)\n",
    "        print\n",
    "    \n"
   ]
  },
  {
   "cell_type": "code",
   "execution_count": 32,
   "metadata": {
    "collapsed": true
   },
   "outputs": [],
   "source": [
    "\n",
    "In [32]:\n",
    "from gensim.corpora.wikicorpus import WikiCorpus"
   ]
  },
  {
   "cell_type": "code",
   "execution_count": 33,
   "metadata": {},
   "outputs": [
    {
     "name": "stderr",
     "output_type": "stream",
     "text": [
      "Process InputQueue-2:\n",
      "Traceback (most recent call last):\n",
      "  File \"/usr/lib/python2.7/multiprocessing/process.py\", line 258, in _bootstrap\n",
      "    self.run()\n",
      "  File \"/home/shubham/venv/local/lib/python2.7/site-packages/gensim/utils.py\", line 858, in run\n",
      "    self.q.put(wrapped_chunk.pop(), block=True)\n",
      "  File \"/usr/lib/python2.7/multiprocessing/queues.py\", line 101, in put\n",
      "    if not self._sem.acquire(block, timeout):\n",
      "KeyboardInterrupt\n"
     ]
    }
   ],
   "source": [
    "wiki= WikiCorpus(\"enwiki-20170820-pages-articles.xml.bz2\")"
   ]
  },
  {
   "cell_type": "code",
   "execution_count": 34,
   "metadata": {
    "collapsed": true
   },
   "outputs": [],
   "source": [
    "data = sk_tfidf.fit_transform(corpus)\n",
    "\n"
   ]
  },
  {
   "cell_type": "code",
   "execution_count": null,
   "metadata": {
    "collapsed": true
   },
   "outputs": [],
   "source": []
  }
 ],
 "metadata": {
  "kernelspec": {
   "display_name": "Python 2",
   "language": "python",
   "name": "python2"
  },
  "language_info": {
   "codemirror_mode": {
    "name": "ipython",
    "version": 2
   },
   "file_extension": ".py",
   "mimetype": "text/x-python",
   "name": "python",
   "nbconvert_exporter": "python",
   "pygments_lexer": "ipython2",
   "version": "2.7.12"
  }
 },
 "nbformat": 4,
 "nbformat_minor": 2
}
