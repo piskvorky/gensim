{
 "cells": [
  {
   "cell_type": "code",
   "execution_count": 1,
   "metadata": {
    "collapsed": false
   },
   "outputs": [
    {
     "name": "stderr",
     "output_type": "stream",
     "text": [
      "Using TensorFlow backend.\n"
     ]
    }
   ],
   "source": [
    "import gensim\n",
    "import os\n",
    "from gensim.models.word2vec import LineSentence\n",
    "from gensim.models.sent2vec import Sent2Vec as s2v"
   ]
  },
  {
   "cell_type": "code",
   "execution_count": 3,
   "metadata": {
    "collapsed": true
   },
   "outputs": [],
   "source": [
    "# Set file names for train and test data\n",
    "data_dir = '{}'.format(os.sep).join([gensim.__path__[0], 'test', 'test_data']) + os.sep\n",
    "lee_train_file = data_dir + 'lee_background.cor'\n",
    "lee_data = LineSentence(lee_train_file)"
   ]
  },
  {
   "cell_type": "code",
   "execution_count": 4,
   "metadata": {
    "collapsed": false
   },
   "outputs": [],
   "source": [
    "model_gensim = s2v(size=100)\n",
    "\n",
    "# build the vocabulary\n",
    "model_gensim.build_vocab(lee_data)"
   ]
  },
  {
   "cell_type": "code",
   "execution_count": 5,
   "metadata": {
    "collapsed": false
   },
   "outputs": [
    {
     "name": "stdout",
     "output_type": "stream",
     "text": [
      "Sent2Vec(vocab=10706, size=100, alpha=0.2)\n"
     ]
    }
   ],
   "source": [
    "# train the model\n",
    "model_gensim.train(lee_data, total_examples=model_gensim.corpus_count, epochs=model_gensim.iter)\n",
    "print(model_gensim)"
   ]
  },
  {
   "cell_type": "code",
   "execution_count": 6,
   "metadata": {
    "collapsed": false
   },
   "outputs": [
    {
     "name": "stdout",
     "output_type": "stream",
     "text": [
      "Sent2Vec(vocab=10706, size=100, alpha=0.2)\n"
     ]
    }
   ],
   "source": [
    "# saving a model trained via Gensim's sent2Vec implementation\n",
    "# note: The save_word2vec_method causes the vectors for ngrams to be lost.\n",
    "# As a result, a model loaded in this way will behave as a regular word2vec model.\n",
    "model_gensim.save('saved_model_gensim')\n",
    "loaded_model = s2v.load('saved_model_gensim')\n",
    "print(loaded_model)"
   ]
  },
  {
   "cell_type": "code",
   "execution_count": 7,
   "metadata": {
    "collapsed": false
   },
   "outputs": [
    {
     "data": {
      "text/plain": [
       "array([-0.17924677, -0.1329455 ,  0.30701105, -0.07524417, -0.05725818,\n",
       "       -0.28332757,  0.37719994,  0.48726005,  0.46537528,  0.29002636,\n",
       "       -0.7196614 ,  0.20611181,  0.2400492 ,  0.30299939, -0.12670684,\n",
       "        0.18948023,  0.32597734,  0.88743004, -0.4297919 , -0.60898766,\n",
       "       -0.43637825, -0.3111977 , -0.00122706, -0.54336921, -0.48225032,\n",
       "        0.00543942,  0.198873  ,  0.01354794,  0.91750128, -0.13634881,\n",
       "       -0.17447496, -0.21223451, -0.32385162, -0.54904169,  0.28127913,\n",
       "        0.15817319, -0.07982798, -0.24835114,  0.26743298, -0.38080085,\n",
       "       -0.2124599 , -0.10583116, -0.25848658,  0.16469636,  0.10867077,\n",
       "       -0.24040982, -0.01368958,  0.08984159, -0.08923951, -1.04181443,\n",
       "       -0.51173514,  0.30283242, -0.02733202, -0.73549466,  0.3172019 ,\n",
       "        0.36485552, -0.011786  , -0.71149369,  0.24258102,  0.03769295,\n",
       "       -0.13454252,  0.17760762, -0.57012409,  0.57339333, -0.18518662,\n",
       "        0.19318538,  0.98637968, -0.34087582, -0.22476613,  0.55677496,\n",
       "        0.18428538,  0.40597937, -0.95383059,  0.62395198,  0.93635309,\n",
       "        0.29347938, -0.11034926, -0.75675252,  0.7688643 ,  0.1572047 ,\n",
       "        0.27561102, -0.29635333,  0.96952557, -0.06423848,  0.55389292,\n",
       "        0.41117415,  0.37059254,  0.23969967, -0.78412522, -0.19685601,\n",
       "        1.04555064, -0.35879197, -0.3065966 , -0.34922364,  0.07852644,\n",
       "        0.13943889,  0.46793832,  0.07678205,  0.37578262,  0.0299747 ])"
      ]
     },
     "execution_count": 7,
     "metadata": {},
     "output_type": "execute_result"
    }
   ],
   "source": [
    "model_gensim.sent_vec(\"my name is prerna\")"
   ]
  },
  {
   "cell_type": "code",
   "execution_count": 12,
   "metadata": {
    "collapsed": false
   },
   "outputs": [
    {
     "data": {
      "text/plain": [
       "0.88926759238146003"
      ]
     },
     "execution_count": 12,
     "metadata": {},
     "output_type": "execute_result"
    }
   ],
   "source": [
    "#cosine similarity between two sentences\n",
    "model_gensim.similarity(\"this gift is great\",\"This present is awesome\")"
   ]
  }
 ],
 "metadata": {
  "kernelspec": {
   "display_name": "Python 2",
   "language": "python",
   "name": "python2"
  },
  "language_info": {
   "codemirror_mode": {
    "name": "ipython",
    "version": 2
   },
   "file_extension": ".py",
   "mimetype": "text/x-python",
   "name": "python",
   "nbconvert_exporter": "python",
   "pygments_lexer": "ipython2",
   "version": "2.7.13"
  }
 },
 "nbformat": 4,
 "nbformat_minor": 2
}
