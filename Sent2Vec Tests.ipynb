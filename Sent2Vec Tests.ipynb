{
 "cells": [
  {
   "cell_type": "code",
   "execution_count": 1,
   "metadata": {
    "collapsed": false
   },
   "outputs": [
    {
     "name": "stderr",
     "output_type": "stream",
     "text": [
      "Using TensorFlow backend.\n"
     ]
    }
   ],
   "source": [
    "import gensim\n",
    "import os\n",
    "from gensim.models.word2vec import LineSentence\n",
    "from gensim.models.sent2vec import Sent2Vec as s2v"
   ]
  },
  {
   "cell_type": "code",
   "execution_count": 2,
   "metadata": {
    "collapsed": true
   },
   "outputs": [],
   "source": [
    "# Set file names for train and test data\n",
    "data_dir = '{}'.format(os.sep).join([gensim.__path__[0], 'test', 'test_data']) + os.sep\n",
    "lee_train_file = data_dir + 'lee_background.cor'\n",
    "lee_data = LineSentence(lee_train_file)"
   ]
  },
  {
   "cell_type": "code",
   "execution_count": 3,
   "metadata": {
    "collapsed": false
   },
   "outputs": [
    {
     "name": "stdout",
     "output_type": "stream",
     "text": [
      "Creating dictionary...\n",
      "Read 0.05989M words\n",
      "Dictionary created, dictionary size: 1221 ,tokens read: 59890\n",
      "Initializing model...\n",
      "Training...\n",
      "Begin epoch 0 :\n",
      "Progress:  0.14314576724  lr:  0.171370846552  loss:  3.75651525087\n",
      "Begin epoch 1 :\n",
      "Progress:  0.287303389548  lr:  0.14253932209  loss:  3.64461878736\n",
      "Begin epoch 2 :\n",
      "Progress:  0.431461011855  lr:  0.113707797629  loss:  3.59434326725\n",
      "Begin epoch 3 :\n",
      "Progress:  0.575618634163  lr:  0.0848762731675  loss:  3.55813413114\n",
      "Begin epoch 4 :\n",
      "Progress:  0.71977625647  lr:  0.056044748706  loss:  3.52881567605\n"
     ]
    }
   ],
   "source": [
    "# Train new sent2vec model\n",
    "sent2vec_model = s2v(vector_size=100)\n",
    "sent2vec_model.train(lee_data)"
   ]
  },
  {
   "cell_type": "code",
   "execution_count": 4,
   "metadata": {
    "collapsed": false
   },
   "outputs": [
    {
     "data": {
      "text/plain": [
       "array([-0.10061465,  0.23437138, -0.28840938,  0.1624515 , -0.00295144,\n",
       "       -0.00708133, -0.10545956,  0.03021262,  0.23699716, -0.12468189,\n",
       "        0.12559375,  0.20270554,  0.18310247,  0.36924196,  0.0904175 ,\n",
       "        0.38464053,  0.02125034,  0.09592967,  0.12186753,  0.01869459,\n",
       "        0.25186128,  0.25952644, -0.23987321, -0.19348227,  0.18972194,\n",
       "        0.24559427,  0.36690078,  0.02895273, -0.16718245,  0.31436328,\n",
       "        0.0828597 ,  0.14737217,  0.05579526,  0.02844656,  0.13513143,\n",
       "        0.18182954,  0.10900331, -0.13144672,  0.07869239,  0.14270649,\n",
       "        0.02443164,  0.19761195,  0.3388607 ,  0.28006753,  0.27561144,\n",
       "       -0.0194006 ,  0.0791912 ,  0.25123946,  0.09691756,  0.17214731,\n",
       "        0.12302656,  0.12328382,  0.47488934,  0.21512853,  0.08773015,\n",
       "        0.19851031,  0.19361767,  0.1728887 ,  0.13615327, -0.02829737,\n",
       "       -0.07306228,  0.23446196,  0.02121406,  0.17827269,  0.01537621,\n",
       "        0.30824207,  0.08532848,  0.15964872,  0.20174438,  0.15386629,\n",
       "       -0.0106424 ,  0.03088564,  0.24569126,  0.28931173,  0.12903772,\n",
       "        0.14403473,  0.03116764,  0.26501267, -0.11288994,  0.02923953,\n",
       "        0.48727064,  0.05485334,  0.09658561,  0.15065347, -0.01139539,\n",
       "        0.02158417,  0.0407638 ,  0.02133494,  0.1467394 ,  0.36148827,\n",
       "        0.28473447, -0.00181007, -0.02999201,  0.28182047, -0.33322318,\n",
       "        0.01845533, -0.07340596,  0.11303931,  0.13200362,  0.14964685])"
      ]
     },
     "execution_count": 4,
     "metadata": {},
     "output_type": "execute_result"
    }
   ],
   "source": [
    "# Print sentence vector\n",
    "sent2vec_model.sentence_vectors(\"This is an awesome gift\".split())"
   ]
  },
  {
   "cell_type": "code",
   "execution_count": 5,
   "metadata": {
    "collapsed": false
   },
   "outputs": [
    {
     "data": {
      "text/plain": [
       "0.22002839624085455"
      ]
     },
     "execution_count": 5,
     "metadata": {},
     "output_type": "execute_result"
    }
   ],
   "source": [
    "# Print cosine similarity between two sentences\n",
    "sent2vec_model.similarity(\"The sky is blue\".split(), \"I am going to a party\".split())"
   ]
  },
  {
   "cell_type": "code",
   "execution_count": 6,
   "metadata": {
    "collapsed": false
   },
   "outputs": [
    {
     "data": {
      "text/plain": [
       "0.7020597942763066"
      ]
     },
     "execution_count": 6,
     "metadata": {},
     "output_type": "execute_result"
    }
   ],
   "source": [
    "sent2vec_model.similarity(\"This is an awesome gift\".split(), \"This present is great\".split())"
   ]
  }
 ],
 "metadata": {
  "kernelspec": {
   "display_name": "Python 2",
   "language": "python",
   "name": "python2"
  },
  "language_info": {
   "codemirror_mode": {
    "name": "ipython",
    "version": 2
   },
   "file_extension": ".py",
   "mimetype": "text/x-python",
   "name": "python",
   "nbconvert_exporter": "python",
   "pygments_lexer": "ipython2",
   "version": "2.7.13"
  }
 },
 "nbformat": 4,
 "nbformat_minor": 2
}
