{
 "cells": [
  {
   "cell_type": "markdown",
   "metadata": {},
   "source": [
    "This notebook seeks to compare various NER libraries on the address detection task on a variety of fronts like ease of installation, training/test space and time requirements, performance metrics like precision/recall etc. The libararies used for evaluation are:\n",
    "    1. [NeuroNER](https://github.com/Franck-Dernoncourt/NeuroNER)\n",
    "    2. [Tagger](https://github.com/glample/tagger)\n",
    "    3. [Spacy NER](https://spacy.io/docs/usage/entity-recognition)\n",
    "    4. RaRe NER"
   ]
  }
 ],
 "metadata": {
  "kernelspec": {
   "display_name": "Python 2",
   "language": "python",
   "name": "python2"
  },
  "language_info": {
   "codemirror_mode": {
    "name": "ipython",
    "version": 2
   },
   "file_extension": ".py",
   "mimetype": "text/x-python",
   "name": "python",
   "nbconvert_exporter": "python",
   "pygments_lexer": "ipython2",
   "version": "2.7.13"
  }
 },
 "nbformat": 4,
 "nbformat_minor": 2
}
